{
 "cells": [
  {
   "cell_type": "code",
   "execution_count": null,
   "metadata": {
    "collapsed": true,
    "pycharm": {
     "name": "#%%\n"
    }
   },
   "outputs": [],
   "source": []
  },
  {
   "cell_type": "code",
   "execution_count": 1,
   "outputs": [],
   "source": [
    "import os\n",
    "from os import path\n",
    "import json\n",
    "import sys\n",
    "from collections import defaultdict\n",
    "import random\n",
    "import csv"
   ],
   "metadata": {
    "collapsed": false,
    "pycharm": {
     "name": "#%%\n"
    }
   }
  },
  {
   "cell_type": "code",
   "execution_count": 2,
   "outputs": [],
   "source": [
    "from utils.data_util import read_mturk_annotation_multiple_scene\n",
    "from utils.data_util import read_turkle_annotation_multiple_scene\n",
    "from utils.data_util import read_annotation\n",
    "from utils.data_util import gather_by_scene"
   ],
   "metadata": {
    "collapsed": false,
    "pycharm": {
     "name": "#%%\n"
    }
   }
  },
  {
   "cell_type": "code",
   "execution_count": 3,
   "outputs": [],
   "source": [
    "def process_clusters(clusters, sentences):\n",
    "    speaker_dict = {}\n",
    "    for i, sent in enumerate(sentences):\n",
    "        speaker_dict[\" \".join(sent[: sent.index(\":\")])] = tuple([i, 0, sent.index(\":\")])\n",
    "\n",
    "    sent_offsets = [0]\n",
    "    for i, sent in enumerate(sentences):\n",
    "        sent_offset = sent_offsets[i] + len(sent)\n",
    "        sent_offsets.append(sent_offset)\n",
    "\n",
    "    processed_cluster = []\n",
    "    for cluster in clusters:\n",
    "        temp = []\n",
    "        for mention in cluster:\n",
    "            if mention[0] in speaker_dict:\n",
    "                mention = speaker_dict[mention[0]]\n",
    "            else:\n",
    "                mention = tuple([int(item) for item in mention[0].strip().split(\"_\")])\n",
    "            temp.append([mention[1]+sent_offsets[mention[0]], mention[2]+sent_offsets[mention[0]]-1])\n",
    "        processed_cluster.append(temp)\n",
    "\n",
    "    return processed_cluster\n"
   ],
   "metadata": {
    "collapsed": false,
    "pycharm": {
     "name": "#%%\n"
    }
   }
  },
  {
   "cell_type": "code",
   "execution_count": 4,
   "outputs": [],
   "source": [
    "mturk_1 = read_mturk_annotation_multiple_scene('data/bulk_0/results.csv')\n",
    "results = []\n",
    "results.extend(mturk_1)\n",
    "\n",
    "for item in results:\n",
    "    item['clusters'] = process_clusters(item['clusters_no_plural'], item['sentences'])"
   ],
   "metadata": {
    "collapsed": false,
    "pycharm": {
     "name": "#%%\n"
    }
   }
  },
  {
   "cell_type": "code",
   "execution_count": 4,
   "outputs": [],
   "source": [
    "mturk_1 = read_mturk_annotation_multiple_scene('data/pilot_2/data.csv')\n",
    "\n",
    "# mturk_2 = read_mturk_annotation_multiple_scene('data/pilot_1/pilot_2.csv')\n",
    "\n",
    "golden = read_turkle_annotation_multiple_scene('data/pilot_1/golden.csv')\n",
    "for item in golden:\n",
    "    item['WorkerId'] = \"golden\"\n",
    "\n",
    "results = []\n",
    "results.extend(mturk_1)\n",
    "# results.extend(mturk_2)\n",
    "results.extend(golden)\n",
    "\n",
    "for item in results:\n",
    "    item['clusters'] = process_clusters(item['clusters_no_plural'], item['sentences'])\n",
    "\n",
    "scenes = gather_by_scene(results)"
   ],
   "metadata": {
    "collapsed": false,
    "pycharm": {
     "name": "#%%\n"
    }
   }
  },
  {
   "cell_type": "code",
   "execution_count": 4,
   "outputs": [],
   "source": [],
   "metadata": {
    "collapsed": false,
    "pycharm": {
     "name": "#%%\n"
    }
   }
  },
  {
   "cell_type": "code",
   "execution_count": 18,
   "outputs": [],
   "source": [
    "# Load Data\n",
    "golden = read_annotation('data/golden.csv')\n",
    "for item in golden:\n",
    "    item['Turkle.Username'] = \"golden\"\n",
    "    item['clusters'] = process_clusters(item['clusters_no_plural'], item['sentences'])\n",
    "sample = golden[0]"
   ],
   "metadata": {
    "collapsed": false,
    "pycharm": {
     "name": "#%%\n"
    }
   }
  },
  {
   "cell_type": "code",
   "execution_count": 17,
   "outputs": [],
   "source": [
    "HTML_START = '<!DOCTYPE html><html lang=\"en\"><head><meta charset=\"UTF-8\"></head><body>'\n",
    "\n",
    "\n",
    "start_tag_template = '<div style=\"border:2px; display:inline; border-style: {}; border-color: {}; padding: {}px; padding-right: 3px; padding-left: 3px\">'\n",
    "end_tag = '</div>'\n",
    "\n",
    "largest_padding = 13\n",
    "padding_reduction = 3\n",
    "\n",
    "\n",
    "def get_tag_options(cluster):\n",
    "    border = 'solid'\n",
    "    if len(cluster) == 1:\n",
    "        border = 'dotted'\n",
    "\n",
    "    color = '#0066CC'\n",
    "    if cluster[0][-1] == 1:\n",
    "        color = 'violet'\n",
    "\n",
    "    return border, color\n"
   ],
   "metadata": {
    "collapsed": false,
    "pycharm": {
     "name": "#%%\n"
    }
   }
  },
  {
   "cell_type": "code",
   "execution_count": 14,
   "outputs": [],
   "source": [
    "def generate_cluster_html(instance):\n",
    "    bert_seg_idx = []\n",
    "    doc_list = []\n",
    "    for sentence in instance[\"sentences\"]:\n",
    "        doc_list.extend(sentence)\n",
    "        bert_seg_idx.append(len(sentence) + (bert_seg_idx[-1] if len(bert_seg_idx) else 0))\n",
    "\n",
    "    bert_seg_idx = set(bert_seg_idx)\n",
    "    html_tag_list = {}\n",
    "\n",
    "    # Get all the entity info\n",
    "    clusters = sorted(instance[\"clusters\"], key=lambda cluster: min([elem[0] for elem in cluster]))\n",
    "    for cluster_idx, cluster in enumerate(clusters):\n",
    "        for mention in cluster:\n",
    "            span_start, span_end = mention\n",
    "            span_end = span_end + 1  ## Now span_end is not part of the span\n",
    "\n",
    "            if span_start not in html_tag_list:\n",
    "                html_tag_list[span_start] = defaultdict(list)\n",
    "            if span_end not in html_tag_list:\n",
    "                html_tag_list[span_end] = defaultdict(list)\n",
    "\n",
    "            subscript = str(cluster_idx)\n",
    "\n",
    "            tag_options = get_tag_options(cluster)\n",
    "            start_tag = start_tag_template.format(\n",
    "                *tag_options,\n",
    "                largest_padding - padding_reduction * len(html_tag_list[span_start]['start']))\n",
    "\n",
    "\n",
    "            html_tag_list[span_start]['start'].append((start_tag))\n",
    "            # Subscript used in end\n",
    "            html_tag_list[span_end]['end'].append((span_start, cluster_idx, end_tag, subscript))\n",
    "\n",
    "\n",
    "    html_string = HTML_START + '<div style=\"line-height: 3\">'\n",
    "    for token_idx, token in enumerate(doc_list):\n",
    "        if token_idx in bert_seg_idx:\n",
    "            html_string += \"\\n<br/>\"\n",
    "\n",
    "        if token_idx in html_tag_list:\n",
    "            for tag_type in ['end', 'start']:\n",
    "                if tag_type == 'end' and (tag_type in html_tag_list[token_idx]):\n",
    "                    tags = html_tag_list[token_idx]['end']\n",
    "\n",
    "                    # Sort the tags so as to mimic the stack behavior\n",
    "                    tags = sorted(tags, key=lambda x: x[0] - x[1] * 1e-5)  # Highest mentions first\n",
    "                    for _, _, html_tag, subscript in tags:\n",
    "                        html_string += \"<sub>\" + subscript + \"</sub>\"\n",
    "                        html_string += html_tag\n",
    "                        # Since we are deleting the highest indices first, the lower indices are unaffected\n",
    "\n",
    "                if tag_type == 'start' and (tag_type in html_tag_list[token_idx]):\n",
    "                    for html_tag in html_tag_list[token_idx]['start']:\n",
    "                        html_string += html_tag\n",
    "\n",
    "        html_string += \" \" + token\n",
    "    html_string += \"</div></body></html>\"\n",
    "    html_string = html_string.replace(\"\\n\", \"\\n<br/>\")\n",
    "    html_string = html_string.replace(\"~\", \"&lt;\")\n",
    "    html_string = html_string.replace(\"^\", \"&gt;\")\n",
    "    return html_string"
   ],
   "metadata": {
    "collapsed": false,
    "pycharm": {
     "name": "#%%\n"
    }
   }
  },
  {
   "cell_type": "code",
   "execution_count": 15,
   "outputs": [],
   "source": [
    "for i in range(len(golden)):\n",
    "    sample = golden[i]\n",
    "    html_string = generate_cluster_html(sample)\n",
    "    with open('cluster_htmls/' + sample['WorkerId'] + \"||\" + str(i) + \".html\", 'w') as f:\n",
    "        f.write(html_string)"
   ],
   "metadata": {
    "collapsed": false,
    "pycharm": {
     "name": "#%%\n"
    }
   }
  },
  {
   "cell_type": "code",
   "execution_count": 10,
   "outputs": [
    {
     "name": "stdout",
     "output_type": "stream",
     "text": [
      "dict_keys(['HITId', 'HITTypeId', 'Title', 'CreationTime', 'MaxAssignments', 'AssignmentDurationInSeconds', 'AssignmentId', 'WorkerId', 'AcceptTime', 'SubmitTime', 'WorkTimeInSeconds', 'sentences', 'answer_spans', 'Turkle.Username', 'clusters_all', 'clusters_no_plural', 'answers', 'clusters']) 170\n"
     ]
    }
   ],
   "source": [
    "html_string = generate_cluster_html(sample)\n",
    "with open('cluster_htmls/' + sample['WorkerId'] + \"||\" + \".html\", 'w') as f:\n",
    "        f.write(html_string)\n",
    "print(sample.keys(), sample['WorkerId'])"
   ],
   "metadata": {
    "collapsed": false,
    "pycharm": {
     "name": "#%%\n"
    }
   }
  },
  {
   "cell_type": "code",
   "execution_count": null,
   "outputs": [],
   "source": [],
   "metadata": {
    "collapsed": false,
    "pycharm": {
     "name": "#%%\n"
    }
   }
  },
  {
   "cell_type": "code",
   "execution_count": 9,
   "outputs": [
    {
     "name": "stdout",
     "output_type": "stream",
     "text": [
      "dict_keys(['sentences', 'query_spans', 'answer_spans', 'WorkerId', 'scene_id', 'clusters_all', 'clusters_no_plural', 'answers', 'clusters']) AKQAI78JTXXC9 s01e01c00t\n",
      "dict_keys(['sentences', 'query_spans', 'answer_spans', 'WorkerId', 'scene_id', 'clusters_all', 'clusters_no_plural', 'answers', 'clusters']) AKQAI78JTXXC9 s01e01c01t\n",
      "dict_keys(['sentences', 'query_spans', 'answer_spans', 'WorkerId', 'scene_id', 'clusters_all', 'clusters_no_plural', 'answers', 'clusters']) A3L2XKXABNO0N5 s01e01c03t\n",
      "dict_keys(['sentences', 'query_spans', 'answer_spans', 'WorkerId', 'scene_id', 'clusters_all', 'clusters_no_plural', 'answers', 'clusters']) A3L2XKXABNO0N5 s01e01c04t\n",
      "dict_keys(['sentences', 'query_spans', 'answer_spans', 'WorkerId', 'scene_id', 'clusters_all', 'clusters_no_plural', 'answers', 'clusters']) A3L2XKXABNO0N5 s01e01c05t\n",
      "dict_keys(['sentences', 'query_spans', 'answer_spans', 'WorkerId', 'scene_id', 'clusters_all', 'clusters_no_plural', 'answers', 'clusters']) A3L2XKXABNO0N5 s01e01c06t\n",
      "dict_keys(['sentences', 'query_spans', 'answer_spans', 'WorkerId', 'scene_id', 'clusters_all', 'clusters_no_plural', 'answers', 'clusters']) A3L2XKXABNO0N5 s01e01c07t\n",
      "dict_keys(['sentences', 'query_spans', 'answer_spans', 'WorkerId', 'scene_id', 'clusters_all', 'clusters_no_plural', 'answers', 'clusters']) A3L2XKXABNO0N5 s01e01c08t\n",
      "dict_keys(['sentences', 'query_spans', 'answer_spans', 'WorkerId', 'scene_id', 'clusters_all', 'clusters_no_plural', 'answers', 'clusters']) A3L2XKXABNO0N5 s01e01c09t\n",
      "dict_keys(['sentences', 'query_spans', 'answer_spans', 'WorkerId', 'scene_id', 'clusters_all', 'clusters_no_plural', 'answers', 'clusters']) AKQAI78JTXXC9 s01e01c10t\n",
      "dict_keys(['sentences', 'query_spans', 'answer_spans', 'WorkerId', 'scene_id', 'clusters_all', 'clusters_no_plural', 'answers', 'clusters']) AKQAI78JTXXC9 s01e03c00t\n",
      "dict_keys(['sentences', 'query_spans', 'answer_spans', 'WorkerId', 'scene_id', 'clusters_all', 'clusters_no_plural', 'answers', 'clusters']) AKQAI78JTXXC9 s01e10c04t\n",
      "dict_keys(['sentences', 'query_spans', 'answer_spans', 'WorkerId', 'scene_id', 'clusters_all', 'clusters_no_plural', 'answers', 'clusters']) AKQAI78JTXXC9 s01e03c01t\n",
      "dict_keys(['sentences', 'query_spans', 'answer_spans', 'WorkerId', 'scene_id', 'clusters_all', 'clusters_no_plural', 'answers', 'clusters']) AKQAI78JTXXC9 s01e03c02t\n",
      "dict_keys(['sentences', 'query_spans', 'answer_spans', 'WorkerId', 'scene_id', 'clusters_all', 'clusters_no_plural', 'answers', 'clusters']) AKQAI78JTXXC9 s01e03c03t\n",
      "dict_keys(['sentences', 'query_spans', 'answer_spans', 'WorkerId', 'scene_id', 'clusters_all', 'clusters_no_plural', 'answers', 'clusters']) AKQAI78JTXXC9 s01e03c04t\n",
      "dict_keys(['sentences', 'query_spans', 'answer_spans', 'WorkerId', 'scene_id', 'clusters_all', 'clusters_no_plural', 'answers', 'clusters']) AKQAI78JTXXC9 s01e03c05t\n",
      "dict_keys(['sentences', 'query_spans', 'answer_spans', 'WorkerId', 'scene_id', 'clusters_all', 'clusters_no_plural', 'answers', 'clusters']) AKQAI78JTXXC9 s01e03c06t\n",
      "dict_keys(['sentences', 'query_spans', 'answer_spans', 'WorkerId', 'scene_id', 'clusters_all', 'clusters_no_plural', 'answers', 'clusters']) A2LMQ4497NMK3S s01e03c07t\n",
      "dict_keys(['sentences', 'query_spans', 'answer_spans', 'WorkerId', 'scene_id', 'clusters_all', 'clusters_no_plural', 'answers', 'clusters']) A3L2XKXABNO0N5 s01e03c08t\n",
      "dict_keys(['sentences', 'query_spans', 'answer_spans', 'WorkerId', 'scene_id', 'clusters_all', 'clusters_no_plural', 'answers', 'clusters']) A3L2XKXABNO0N5 s01e03c09t\n",
      "dict_keys(['sentences', 'query_spans', 'answer_spans', 'WorkerId', 'scene_id', 'clusters_all', 'clusters_no_plural', 'answers', 'clusters']) A3L2XKXABNO0N5 s01e04c00t\n",
      "dict_keys(['sentences', 'query_spans', 'answer_spans', 'WorkerId', 'scene_id', 'clusters_all', 'clusters_no_plural', 'answers', 'clusters']) AKQAI78JTXXC9 s01e04c05t\n",
      "dict_keys(['sentences', 'query_spans', 'answer_spans', 'WorkerId', 'scene_id', 'clusters_all', 'clusters_no_plural', 'answers', 'clusters']) AKQAI78JTXXC9 s01e04c06t\n",
      "dict_keys(['sentences', 'query_spans', 'answer_spans', 'WorkerId', 'scene_id', 'clusters_all', 'clusters_no_plural', 'answers', 'clusters']) AKQAI78JTXXC9 s01e04c07t\n",
      "dict_keys(['sentences', 'query_spans', 'answer_spans', 'WorkerId', 'scene_id', 'clusters_all', 'clusters_no_plural', 'answers', 'clusters']) AKQAI78JTXXC9 s01e04c08t\n",
      "dict_keys(['sentences', 'query_spans', 'answer_spans', 'WorkerId', 'scene_id', 'clusters_all', 'clusters_no_plural', 'answers', 'clusters']) AKQAI78JTXXC9 s01e04c09t\n",
      "dict_keys(['sentences', 'query_spans', 'answer_spans', 'WorkerId', 'scene_id', 'clusters_all', 'clusters_no_plural', 'answers', 'clusters']) AKQAI78JTXXC9 s01e04c10t\n",
      "dict_keys(['sentences', 'query_spans', 'answer_spans', 'WorkerId', 'scene_id', 'clusters_all', 'clusters_no_plural', 'answers', 'clusters']) A3L2XKXABNO0N5 s01e04c11t\n",
      "dict_keys(['sentences', 'query_spans', 'answer_spans', 'WorkerId', 'scene_id', 'clusters_all', 'clusters_no_plural', 'answers', 'clusters']) A3L2XKXABNO0N5 s01e04c12t\n",
      "dict_keys(['sentences', 'query_spans', 'answer_spans', 'WorkerId', 'scene_id', 'clusters_all', 'clusters_no_plural', 'answers', 'clusters']) A3L2XKXABNO0N5 s01e05c00t\n",
      "dict_keys(['sentences', 'query_spans', 'answer_spans', 'WorkerId', 'scene_id', 'clusters_all', 'clusters_no_plural', 'answers', 'clusters']) A3L2XKXABNO0N5 s01e05c01t\n",
      "dict_keys(['sentences', 'query_spans', 'answer_spans', 'WorkerId', 'scene_id', 'clusters_all', 'clusters_no_plural', 'answers', 'clusters']) A3L2XKXABNO0N5 s01e05c02t\n",
      "dict_keys(['sentences', 'query_spans', 'answer_spans', 'WorkerId', 'scene_id', 'clusters_all', 'clusters_no_plural', 'answers', 'clusters']) A3L2XKXABNO0N5 s01e05c03t\n",
      "dict_keys(['sentences', 'query_spans', 'answer_spans', 'WorkerId', 'scene_id', 'clusters_all', 'clusters_no_plural', 'answers', 'clusters']) A3L2XKXABNO0N5 s01e05c04t\n",
      "dict_keys(['sentences', 'query_spans', 'answer_spans', 'WorkerId', 'scene_id', 'clusters_all', 'clusters_no_plural', 'answers', 'clusters']) AKQAI78JTXXC9 s01e07c01t\n",
      "dict_keys(['sentences', 'query_spans', 'answer_spans', 'WorkerId', 'scene_id', 'clusters_all', 'clusters_no_plural', 'answers', 'clusters']) ATR6RB1RULOC0 s01e07c03t\n",
      "dict_keys(['sentences', 'query_spans', 'answer_spans', 'WorkerId', 'scene_id', 'clusters_all', 'clusters_no_plural', 'answers', 'clusters']) ATR6RB1RULOC0 s01e07c04t\n",
      "dict_keys(['sentences', 'query_spans', 'answer_spans', 'WorkerId', 'scene_id', 'clusters_all', 'clusters_no_plural', 'answers', 'clusters']) AKQAI78JTXXC9 s01e07c05t\n",
      "dict_keys(['sentences', 'query_spans', 'answer_spans', 'WorkerId', 'scene_id', 'clusters_all', 'clusters_no_plural', 'answers', 'clusters']) AKQAI78JTXXC9 s01e09c00t\n",
      "dict_keys(['sentences', 'query_spans', 'answer_spans', 'WorkerId', 'scene_id', 'clusters_all', 'clusters_no_plural', 'answers', 'clusters']) AKQAI78JTXXC9 s01e09c01t\n",
      "dict_keys(['sentences', 'query_spans', 'answer_spans', 'WorkerId', 'scene_id', 'clusters_all', 'clusters_no_plural', 'answers', 'clusters']) A3L2XKXABNO0N5 s01e09c02t\n",
      "dict_keys(['sentences', 'query_spans', 'answer_spans', 'WorkerId', 'scene_id', 'clusters_all', 'clusters_no_plural', 'answers', 'clusters']) A3L2XKXABNO0N5 s01e09c03t\n",
      "dict_keys(['sentences', 'query_spans', 'answer_spans', 'WorkerId', 'scene_id', 'clusters_all', 'clusters_no_plural', 'answers', 'clusters']) AKQAI78JTXXC9 s01e09c04t\n",
      "dict_keys(['sentences', 'query_spans', 'answer_spans', 'WorkerId', 'scene_id', 'clusters_all', 'clusters_no_plural', 'answers', 'clusters']) AKQAI78JTXXC9 s01e09c05t\n",
      "dict_keys(['sentences', 'query_spans', 'answer_spans', 'WorkerId', 'scene_id', 'clusters_all', 'clusters_no_plural', 'answers', 'clusters']) AKQAI78JTXXC9 s01e09c06t\n"
     ]
    }
   ],
   "source": [
    "for scene in results:\n",
    "    html_string = generate_cluster_html(scene)\n",
    "    with open('cluster_htmls/' + scene['WorkerId'] + \"||\" + scene['scene_id'] + \".html\", 'w') as f:\n",
    "            f.write(html_string)\n",
    "    print(scene.keys(), scene['WorkerId'], scene['scene_id'])"
   ],
   "metadata": {
    "collapsed": false,
    "pycharm": {
     "name": "#%%\n"
    }
   }
  },
  {
   "cell_type": "code",
   "execution_count": 11,
   "outputs": [
    {
     "name": "stdout",
     "output_type": "stream",
     "text": [
      "[[[10, 10], [2, 2]], [[494, 494], [414, 414], [263, 263], [199, 199], [475, 475], [256, 256], [4, 4], [399, 399], [405, 405], [512, 512], [485, 485], [37, 37], [89, 89], [12, 12], [50, 50]], [[113, 113], [473, 473], [411, 411], [57, 57], [74, 74], [165, 165], [180, 180], [544, 544], [234, 234], [439, 439], [48, 48], [78, 78], [426, 426], [175, 175], [5, 5], [305, 305], [292, 292], [104, 104]], [[467, 467], [24, 24], [451, 451], [43, 43], [477, 477], [28, 28], [196, 196], [415, 415], [230, 230], [217, 217], [515, 515], [52, 52], [190, 190], [13, 13], [149, 149], [61, 61], [482, 482], [285, 285], [182, 182], [20, 20], [489, 489], [509, 509]], [[18, 20], [32, 33]], [[43, 44], [14, 14]], [[64, 66], [72, 72], [70, 70]], [[85, 85]], [[92, 92], [95, 96]], [[98, 98]], [[104, 105]], [[106, 109], [102, 102]], [[113, 114], [104, 106]], [[177, 177], [123, 123], [383, 383], [395, 395], [106, 106], [374, 374], [169, 169], [185, 185], [186, 186], [130, 130], [115, 115], [292, 293], [329, 329], [274, 274], [259, 260], [432, 437], [126, 126]], [[119, 119]], [[120, 121]], [[135, 135], [119, 130], [133, 133]], [[160, 160], [147, 147], [135, 136]], [[150, 151]], [[153, 153]], [[155, 157]], [[155, 155]], [[167, 168]], [[194, 194], [175, 178], [224, 224], [207, 209]], [[200, 201], [205, 205], [217, 218]], [[266, 268]], [[270, 272]], [[274, 275]], [[277, 278]], [[298, 298], [288, 290], [108, 109]], [[301, 302], [541, 542], [316, 317]], [[312, 312]], [[333, 334], [289, 290]], [[349, 349], [358, 358]], [[352, 353]], [[355, 356]], [[361, 363]], [[370, 371]], [[379, 379], [387, 387]], [[402, 402]], [[421, 423]], [[427, 429]], [[457, 457], [431, 437], [438, 438]], [[461, 461], [463, 465], [449, 457]], [[501, 503], [415, 416]], [[521, 522]], [[524, 524]], [[531, 531]], [[537, 539], [334, 334]]]\n"
     ]
    }
   ],
   "source": [
    "for scene in results:\n",
    "    html_string = generate_cluster_html(scene)\n",
    "    if scene['scene_id']==\"s01e10c04t\":\n",
    "        print(scene['clusters'])\n",
    "    # print(scene.keys(), scene['WorkerId'], scene['scene_id'])"
   ],
   "metadata": {
    "collapsed": false,
    "pycharm": {
     "name": "#%%\n"
    }
   }
  },
  {
   "cell_type": "code",
   "execution_count": null,
   "outputs": [],
   "source": [],
   "metadata": {
    "collapsed": false,
    "pycharm": {
     "name": "#%%\n"
    }
   }
  },
  {
   "cell_type": "code",
   "execution_count": null,
   "outputs": [],
   "source": [],
   "metadata": {
    "collapsed": false,
    "pycharm": {
     "name": "#%%\n"
    }
   }
  },
  {
   "cell_type": "code",
   "execution_count": null,
   "outputs": [],
   "source": [],
   "metadata": {
    "collapsed": false,
    "pycharm": {
     "name": "#%%\n"
    }
   }
  },
  {
   "cell_type": "code",
   "execution_count": 8,
   "outputs": [
    {
     "name": "stdout",
     "output_type": "stream",
     "text": [
      ":|Where|'d|you|go|?|I|ca|n't 9\n",
      "A2VIKCIM9TZL22\n",
      "golden\n",
      ":|Oh|,|yeah|,|no|,|this|thing 11\n",
      "A2VIKCIM9TZL22\n",
      "golden\n",
      ":|We|just|wanted|to|see|how|your|class 31\n",
      "A2VIKCIM9TZL22\n",
      "golden\n"
     ]
    }
   ],
   "source": [
    "for scene_key in scenes:\n",
    "    print(scene_key, len(scenes[scene_key][0]['sentences']))\n",
    "    for item in scenes[scene_key]:\n",
    "        html_string = generate_cluster_html(item)\n",
    "        print(item['WorkerId'])\n",
    "        with open('cluster_htmls/' + str(len(scenes[scene_key][0]['sentences'])) + \"/\" + item['WorkerId'] + \".html\", 'w') as f:\n",
    "            f.write(html_string)\n",
    "        # print(html_string)\n",
    "\n"
   ],
   "metadata": {
    "collapsed": false,
    "pycharm": {
     "name": "#%%\n"
    }
   }
  },
  {
   "cell_type": "code",
   "execution_count": null,
   "outputs": [],
   "source": [],
   "metadata": {
    "collapsed": false,
    "pycharm": {
     "name": "#%%\n"
    }
   }
  },
  {
   "cell_type": "code",
   "execution_count": null,
   "outputs": [],
   "source": [],
   "metadata": {
    "collapsed": false,
    "pycharm": {
     "name": "#%%\n"
    }
   }
  },
  {
   "cell_type": "code",
   "execution_count": 70,
   "outputs": [],
   "source": [
    "temp = generate_cluster_html(golden[0])"
   ],
   "metadata": {
    "collapsed": false,
    "pycharm": {
     "name": "#%%\n"
    }
   }
  },
  {
   "cell_type": "code",
   "execution_count": 71,
   "outputs": [
    {
     "name": "stdout",
     "output_type": "stream",
     "text": [
      "<!DOCTYPE html><html lang=\"en\"><head><meta charset=\"UTF-8\"></head><body><div style=\"line-height: 3\"> Penny : Where 'd<div style=\"border:2px; display:inline; border-style: solid; border-color: #0066CC; padding: 13px; padding-right: 3px; padding-left: 3px\"> you<sub>0</sub></div> go ?<div style=\"border:2px; display:inline; border-style: solid; border-color: #0066CC; padding: 13px; padding-right: 3px; padding-left: 3px\"> I<sub>1</sub></div> ca n't tell if<div style=\"border:2px; display:inline; border-style: dotted; border-color: #0066CC; padding: 13px; padding-right: 3px; padding-left: 3px\"> the turkey<sub>2</sub></div> 's done !\n",
      "<br/><br/> Leonard : Be right there ! Hi , lover .\n",
      "<br/><br/> Penny :   What are you doing ?\n",
      "<br/><br/> Leonard :<div style=\"border:2px; display:inline; border-style: solid; border-color: #0066CC; padding: 13px; padding-right: 3px; padding-left: 3px\"> I<sub>0</sub></div> 'm sorry about<div style=\"border:2px; display:inline; border-style: dotted; border-color: #0066CC; padding: 13px; padding-right: 3px; padding-left: 3px\"> the journal<sub>3</sub></div> .<div style=\"border:2px; display:inline; border-style: solid; border-color: #0066CC; padding: 13px; padding-right: 3px; padding-left: 3px\"> I<sub>0</sub></div> want to make<div style=\"border:2px; display:inline; border-style: dotted; border-color: #0066CC; padding: 13px; padding-right: 3px; padding-left: 3px\"> it<sub>4</sub></div> up to<div style=\"border:2px; display:inline; border-style: solid; border-color: #0066CC; padding: 13px; padding-right: 3px; padding-left: 3px\"> you<sub>1</sub></div> . So<div style=\"border:2px; display:inline; border-style: solid; border-color: #0066CC; padding: 13px; padding-right: 3px; padding-left: 3px\"> I<sub>0</sub></div> 'm gon na let<div style=\"border:2px; display:inline; border-style: solid; border-color: #0066CC; padding: 13px; padding-right: 3px; padding-left: 3px\"> you<sub>1</sub></div> post<div style=\"border:2px; display:inline; border-style: solid; border-color: #0066CC; padding: 13px; padding-right: 3px; padding-left: 3px\"> a shame photo<sub>5</sub></div> of<div style=\"border:2px; display:inline; border-style: solid; border-color: #0066CC; padding: 13px; padding-right: 3px; padding-left: 3px\"> me<sub>0</sub></div> on<div style=\"border:2px; display:inline; border-style: dotted; border-color: #0066CC; padding: 13px; padding-right: 3px; padding-left: 3px\"> Facebook<sub>6</sub></div> .\n",
      "<br/><br/> Penny :<div style=\"border:2px; display:inline; border-style: solid; border-color: #0066CC; padding: 13px; padding-right: 3px; padding-left: 3px\"> I<sub>1</sub></div> am not putting<div style=\"border:2px; display:inline; border-style: solid; border-color: #0066CC; padding: 13px; padding-right: 3px; padding-left: 3px\"> that<sub>5</sub></div> on<div style=\"border:2px; display:inline; border-style: dotted; border-color: #0066CC; padding: 13px; padding-right: 3px; padding-left: 3px\"> the Internet<sub>7</sub></div> !<div style=\"border:2px; display:inline; border-style: solid; border-color: #0066CC; padding: 13px; padding-right: 3px; padding-left: 3px\"> I<sub>1</sub></div> do n't want<div style=\"border:2px; display:inline; border-style: solid; border-color: #0066CC; padding: 13px; padding-right: 3px; padding-left: 3px\"> people<sub>8</sub></div> to see<div style=\"border:2px; display:inline; border-style: solid; border-color: #0066CC; padding: 13px; padding-right: 3px; padding-left: 3px\"> this<sub>5</sub></div> .<div style=\"border:2px; display:inline; border-style: solid; border-color: #0066CC; padding: 13px; padding-right: 3px; padding-left: 3px\"> I<sub>1</sub></div> do n't want to see<div style=\"border:2px; display:inline; border-style: solid; border-color: #0066CC; padding: 13px; padding-right: 3px; padding-left: 3px\"> it<sub>5</sub></div> !\n",
      "<br/><br/> Leonard : Do n't want<div style=\"border:2px; display:inline; border-style: solid; border-color: #0066CC; padding: 13px; padding-right: 3px; padding-left: 3px\"> people<sub>8</sub></div> to see<div style=\"border:2px; display:inline; border-style: solid; border-color: #0066CC; padding: 13px; padding-right: 3px; padding-left: 3px\"> what<sub>9</sub></div> , huh ?<div style=\"border:2px; display:inline; border-style: dotted; border-color: #0066CC; padding: 13px; padding-right: 3px; padding-left: 3px\"> A little bit<sub>10</sub></div> of<div style=\"border:2px; display:inline; border-style: solid; border-color: #0066CC; padding: 13px; padding-right: 3px; padding-left: 3px\"> this<sub>9</sub></div> ?\n",
      "<br/><br/><div style=\"border:2px; display:inline; border-style: solid; border-color: #0066CC; padding: 13px; padding-right: 3px; padding-left: 3px\"> Penny<sub>1</sub></div> :   Oh .\n",
      "<br/><br/><div style=\"border:2px; display:inline; border-style: solid; border-color: #0066CC; padding: 13px; padding-right: 3px; padding-left: 3px\"> Leonard<sub>0</sub></div> :<div style=\"border:2px; display:inline; border-style: dotted; border-color: #0066CC; padding: 13px; padding-right: 3px; padding-left: 3px\"> Some<sub>11</sub></div> of<div style=\"border:2px; display:inline; border-style: dotted; border-color: #0066CC; padding: 13px; padding-right: 3px; padding-left: 3px\"> this<sub>12</sub></div> ? And , since<div style=\"border:2px; display:inline; border-style: dotted; border-color: #0066CC; padding: 13px; padding-right: 3px; padding-left: 3px\"> it<sub>13</sub></div> 's<div style=\"border:2px; display:inline; border-style: dotted; border-color: #0066CC; padding: 13px; padding-right: 3px; padding-left: 3px\"> Thanksgiving<sub>14</sub></div> ,<div style=\"border:2px; display:inline; border-style: dotted; border-color: #0066CC; padding: 13px; padding-right: 3px; padding-left: 3px\"> an extra helping<sub>15</sub></div> of<div style=\"border:2px; display:inline; border-style: dotted; border-color: #0066CC; padding: 13px; padding-right: 3px; padding-left: 3px\"> this<sub>16</sub></div> ?\n",
      "<br/><br/> Bernadette :   Happy Thanks … Yikes .</div></body></html>\n"
     ]
    }
   ],
   "source": [
    "print(temp)"
   ],
   "metadata": {
    "collapsed": false,
    "pycharm": {
     "name": "#%%\n"
    }
   }
  },
  {
   "cell_type": "code",
   "execution_count": null,
   "outputs": [],
   "source": [],
   "metadata": {
    "collapsed": false,
    "pycharm": {
     "name": "#%%\n"
    }
   }
  },
  {
   "cell_type": "code",
   "execution_count": null,
   "outputs": [],
   "source": [],
   "metadata": {
    "collapsed": false,
    "pycharm": {
     "name": "#%%\n"
    }
   }
  },
  {
   "cell_type": "code",
   "execution_count": null,
   "outputs": [],
   "source": [],
   "metadata": {
    "collapsed": false,
    "pycharm": {
     "name": "#%%\n"
    }
   }
  },
  {
   "cell_type": "code",
   "execution_count": null,
   "outputs": [],
   "source": [],
   "metadata": {
    "collapsed": false,
    "pycharm": {
     "name": "#%%\n"
    }
   }
  }
 ],
 "metadata": {
  "kernelspec": {
   "display_name": "Python 3",
   "language": "python",
   "name": "python3"
  },
  "language_info": {
   "codemirror_mode": {
    "name": "ipython",
    "version": 2
   },
   "file_extension": ".py",
   "mimetype": "text/x-python",
   "name": "python",
   "nbconvert_exporter": "python",
   "pygments_lexer": "ipython2",
   "version": "2.7.6"
  }
 },
 "nbformat": 4,
 "nbformat_minor": 0
}
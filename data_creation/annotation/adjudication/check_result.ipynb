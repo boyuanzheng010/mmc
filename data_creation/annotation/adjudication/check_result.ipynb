{
 "cells": [
  {
   "cell_type": "code",
   "execution_count": null,
   "metadata": {
    "collapsed": true,
    "pycharm": {
     "name": "#%%\n"
    }
   },
   "outputs": [],
   "source": []
  },
  {
   "cell_type": "code",
   "execution_count": 1,
   "outputs": [
    {
     "data": {
      "text/plain": "131072"
     },
     "execution_count": 1,
     "metadata": {},
     "output_type": "execute_result"
    }
   ],
   "source": [
    "import csv\n",
    "import json\n",
    "from copy import deepcopy\n",
    "import pickle as pkl\n",
    "csv.field_size_limit(1131072)"
   ],
   "metadata": {
    "collapsed": false,
    "pycharm": {
     "name": "#%%\n"
    }
   }
  },
  {
   "cell_type": "code",
   "execution_count": 2,
   "outputs": [],
   "source": [
    "from annotation.analysis.utils.data_util import generate_all_clusters_combine_speakers\n",
    "from annotation.analysis.utils.data_util import generate_clusters_no_plural_combine_speakers\n",
    "from annotation.analysis.utils.data_util import collect_mentions\n",
    "from annotation.adjudication.utils import read_turkle_annotation_multiple_scene, gather_by_scene\n",
    "from annotation.adjudication.utils import extract_common_cluster, add_to_common_cluster\n",
    "from annotation.adjudication.utils import analyze_types_of_difference, get_disagreement_types, get_error_matrix"
   ],
   "metadata": {
    "collapsed": false,
    "pycharm": {
     "name": "#%%\n"
    }
   }
  },
  {
   "cell_type": "code",
   "execution_count": 3,
   "outputs": [],
   "source": [
    "data = []\n",
    "with open('results/result.csv', 'r') as f:\n",
    "    reader = csv.DictReader(f)\n",
    "    for item in reader:\n",
    "        data.append(json.loads(item['Answer.answer_spans']))"
   ],
   "metadata": {
    "collapsed": false,
    "pycharm": {
     "name": "#%%\n"
    }
   }
  },
  {
   "cell_type": "code",
   "execution_count": 4,
   "outputs": [
    {
     "name": "stdout",
     "output_type": "stream",
     "text": [
      "{'querySpan': {'sentenceIndex': 2, 'startToken': 2, 'endToken': 3}, 'notPresent': False, 'notMention': True, 'notSure': False, 'span_list': [{'sentenceIndex': -1, 'startToken': -1, 'endToken': -1}], 'currentAnswerIndex': 0, 'status': 'ok'}\n",
      "{'querySpan': {'sentenceIndex': 2, 'startToken': 4, 'endToken': 5}, 'notPresent': False, 'notMention': False, 'notSure': False, 'span_list': [{'sentenceIndex': 2, 'startToken': 2, 'endToken': 3}], 'currentAnswerIndex': 0, 'status': 'ok'}\n",
      "{'querySpan': {'sentenceIndex': 3, 'startToken': 25, 'endToken': 26}, 'notPresent': False, 'notMention': True, 'notSure': False, 'span_list': [{'sentenceIndex': -1, 'startToken': -1, 'endToken': -1}], 'currentAnswerIndex': 0, 'status': 'ok'}\n",
      "{'querySpan': {'sentenceIndex': 7, 'startToken': 12, 'endToken': 13}, 'notPresent': False, 'notMention': True, 'notSure': False, 'span_list': [{'sentenceIndex': -1, 'startToken': -1, 'endToken': -1}], 'currentAnswerIndex': 0, 'status': 'ok'}\n",
      "{'querySpan': {'sentenceIndex': 9, 'startToken': 5, 'endToken': 9}, 'notPresent': False, 'notMention': True, 'notSure': False, 'span_list': [{'sentenceIndex': -1, 'startToken': -1, 'endToken': -1}], 'currentAnswerIndex': 0, 'status': 'ok'}\n",
      "{'querySpan': {'sentenceIndex': 10, 'startToken': 12, 'endToken': 13}, 'notPresent': True, 'notMention': False, 'notSure': False, 'span_list': [{'sentenceIndex': -1, 'startToken': -1, 'endToken': -1}], 'currentAnswerIndex': 0, 'status': 'ok'}\n",
      "{'querySpan': {'sentenceIndex': 10, 'startToken': 14, 'endToken': 17}, 'notPresent': False, 'notMention': True, 'notSure': False, 'span_list': [{'sentenceIndex': -1, 'startToken': -1, 'endToken': -1}], 'currentAnswerIndex': 0, 'status': 'ok'}\n",
      "{'querySpan': {'sentenceIndex': 12, 'startToken': 2, 'endToken': 8}, 'notPresent': False, 'notMention': True, 'notSure': False, 'span_list': [{'sentenceIndex': -1, 'startToken': -1, 'endToken': -1}], 'currentAnswerIndex': 0, 'status': 'ok'}\n",
      "{'querySpan': {'sentenceIndex': 13, 'startToken': 4, 'endToken': 6}, 'notPresent': False, 'notMention': True, 'notSure': False, 'span_list': [{'sentenceIndex': -1, 'startToken': -1, 'endToken': -1}], 'currentAnswerIndex': 0, 'status': 'ok'}\n",
      "{'querySpan': {'sentenceIndex': 14, 'startToken': 17, 'endToken': 18}, 'notPresent': False, 'notMention': True, 'notSure': False, 'span_list': [{'sentenceIndex': -1, 'startToken': -1, 'endToken': -1}], 'currentAnswerIndex': 0, 'status': 'ok'}\n",
      "{'querySpan': {'sentenceIndex': 14, 'startToken': 30, 'endToken': 31}, 'notPresent': True, 'notMention': False, 'notSure': False, 'span_list': [{'sentenceIndex': -1, 'startToken': -1, 'endToken': -1}], 'currentAnswerIndex': 0, 'status': 'ok'}\n",
      "{'querySpan': {'sentenceIndex': 14, 'startToken': 34, 'endToken': 35}, 'notPresent': True, 'notMention': False, 'notSure': False, 'span_list': [{'sentenceIndex': -1, 'startToken': -1, 'endToken': -1}], 'currentAnswerIndex': 0, 'status': 'ok'}\n",
      "{'querySpan': {'sentenceIndex': 14, 'startToken': 42, 'endToken': 43}, 'notPresent': True, 'notMention': False, 'notSure': False, 'span_list': [{'sentenceIndex': -1, 'startToken': -1, 'endToken': -1}], 'currentAnswerIndex': 0, 'status': 'ok'}\n",
      "{'querySpan': {'sentenceIndex': 14, 'startToken': 45, 'endToken': 46}, 'notPresent': True, 'notMention': False, 'notSure': False, 'span_list': [{'sentenceIndex': -1, 'startToken': -1, 'endToken': -1}], 'currentAnswerIndex': 0, 'status': 'ok'}\n",
      "{'querySpan': {'sentenceIndex': 15, 'startToken': 7, 'endToken': 10}, 'notPresent': False, 'notMention': True, 'notSure': False, 'span_list': [{'sentenceIndex': -1, 'startToken': -1, 'endToken': -1}], 'currentAnswerIndex': 0, 'status': 'ok'}\n",
      "{'querySpan': {'sentenceIndex': 18, 'startToken': 17, 'endToken': 18}, 'notPresent': False, 'notMention': True, 'notSure': False, 'span_list': [{'sentenceIndex': -1, 'startToken': -1, 'endToken': -1}], 'currentAnswerIndex': 0, 'status': 'ok'}\n",
      "{'querySpan': {'sentenceIndex': 18, 'startToken': 19, 'endToken': 20}, 'notPresent': False, 'notMention': True, 'notSure': False, 'span_list': [{'sentenceIndex': -1, 'startToken': -1, 'endToken': -1}], 'currentAnswerIndex': 0, 'status': 'ok'}\n",
      "{'querySpan': {'sentenceIndex': 20, 'startToken': 17, 'endToken': 18}, 'notPresent': False, 'notMention': False, 'notSure': True, 'span_list': [{'sentenceIndex': -1, 'startToken': -1, 'endToken': -1}], 'currentAnswerIndex': 0, 'status': 'ok'}\n",
      "{'querySpan': {'sentenceIndex': 20, 'startToken': 27, 'endToken': 31}, 'notPresent': False, 'notMention': False, 'notSure': False, 'span_list': [{'sentenceIndex': 20, 'startToken': 24, 'endToken': 25}], 'currentAnswerIndex': 0, 'status': 'ok'}\n",
      "{'querySpan': {'sentenceIndex': 20, 'startToken': 32, 'endToken': 33}, 'notPresent': False, 'notMention': True, 'notSure': False, 'span_list': [{'sentenceIndex': -1, 'startToken': -1, 'endToken': -1}], 'currentAnswerIndex': 0, 'status': 'ok'}\n",
      "{'querySpan': {'sentenceIndex': 21, 'startToken': 4, 'endToken': 5}, 'notPresent': False, 'notMention': True, 'notSure': False, 'span_list': [{'sentenceIndex': -1, 'startToken': -1, 'endToken': -1}], 'currentAnswerIndex': 0, 'status': 'ok'}\n",
      "{'querySpan': {'sentenceIndex': 21, 'startToken': 6, 'endToken': 7}, 'notPresent': False, 'notMention': True, 'notSure': False, 'span_list': [{'sentenceIndex': -1, 'startToken': -1, 'endToken': -1}], 'currentAnswerIndex': 0, 'status': 'ok'}\n",
      "{'querySpan': {'sentenceIndex': 22, 'startToken': 6, 'endToken': 8}, 'notPresent': False, 'notMention': True, 'notSure': False, 'span_list': [{'sentenceIndex': -1, 'startToken': -1, 'endToken': -1}], 'currentAnswerIndex': 0, 'status': 'ok'}\n",
      "{'querySpan': {'sentenceIndex': 23, 'startToken': 26, 'endToken': 27}, 'notPresent': False, 'notMention': True, 'notSure': False, 'span_list': [{'sentenceIndex': -1, 'startToken': -1, 'endToken': -1}], 'currentAnswerIndex': 0, 'status': 'ok'}\n",
      "{'querySpan': {'sentenceIndex': 25, 'startToken': 9, 'endToken': 10}, 'notPresent': False, 'notMention': True, 'notSure': False, 'span_list': [{'sentenceIndex': -1, 'startToken': -1, 'endToken': -1}], 'currentAnswerIndex': 0, 'status': 'ok'}\n",
      "{'querySpan': {'sentenceIndex': 26, 'startToken': 7, 'endToken': 9}, 'notPresent': True, 'notMention': False, 'notSure': False, 'span_list': [{'sentenceIndex': -1, 'startToken': -1, 'endToken': -1}], 'currentAnswerIndex': 0, 'status': 'ok'}\n",
      "{'querySpan': {'sentenceIndex': 26, 'startToken': 35, 'endToken': 37}, 'notPresent': False, 'notMention': True, 'notSure': False, 'span_list': [{'sentenceIndex': -1, 'startToken': -1, 'endToken': -1}], 'currentAnswerIndex': 0, 'status': 'ok'}\n",
      "{'querySpan': {'sentenceIndex': 27, 'startToken': 3, 'endToken': 4}, 'notPresent': False, 'notMention': True, 'notSure': False, 'span_list': [{'sentenceIndex': -1, 'startToken': -1, 'endToken': -1}], 'currentAnswerIndex': 0, 'status': 'ok'}\n",
      "{'querySpan': {'sentenceIndex': 28, 'startToken': 2, 'endToken': 3}, 'notPresent': False, 'notMention': True, 'notSure': False, 'span_list': [{'sentenceIndex': -1, 'startToken': -1, 'endToken': -1}], 'currentAnswerIndex': 0, 'status': 'ok'}\n",
      "{'querySpan': {'sentenceIndex': 28, 'startToken': 39, 'endToken': 41}, 'notPresent': False, 'notMention': True, 'notSure': False, 'span_list': [{'sentenceIndex': -1, 'startToken': -1, 'endToken': -1}], 'currentAnswerIndex': 0, 'status': 'ok'}\n",
      "{'querySpan': {'sentenceIndex': 29, 'startToken': 12, 'endToken': 13}, 'notPresent': False, 'notMention': True, 'notSure': False, 'span_list': [{'sentenceIndex': -1, 'startToken': -1, 'endToken': -1}], 'currentAnswerIndex': 0, 'status': 'ok'}\n",
      "{'querySpan': {'sentenceIndex': 30, 'startToken': 25, 'endToken': 26}, 'notPresent': False, 'notMention': False, 'notSure': True, 'span_list': [{'sentenceIndex': -1, 'startToken': -1, 'endToken': -1}], 'currentAnswerIndex': 0, 'status': 'ok'}\n",
      "{'querySpan': {'sentenceIndex': 30, 'startToken': 28, 'endToken': 30}, 'notPresent': False, 'notMention': True, 'notSure': False, 'span_list': [{'sentenceIndex': -1, 'startToken': -1, 'endToken': -1}], 'currentAnswerIndex': 0, 'status': 'ok'}\n",
      "{'querySpan': {'sentenceIndex': 31, 'startToken': 7, 'endToken': 8}, 'notPresent': False, 'notMention': True, 'notSure': False, 'span_list': [{'sentenceIndex': -1, 'startToken': -1, 'endToken': -1}], 'currentAnswerIndex': 0, 'status': 'ok'}\n",
      "{'querySpan': {'sentenceIndex': 31, 'startToken': 15, 'endToken': 16}, 'notPresent': False, 'notMention': True, 'notSure': False, 'span_list': [{'sentenceIndex': -1, 'startToken': -1, 'endToken': -1}], 'currentAnswerIndex': 0, 'status': 'ok'}\n",
      "{'querySpan': {'sentenceIndex': 31, 'startToken': 24, 'endToken': 25}, 'notPresent': False, 'notMention': True, 'notSure': False, 'span_list': [{'sentenceIndex': -1, 'startToken': -1, 'endToken': -1}], 'currentAnswerIndex': 0, 'status': 'ok'}\n",
      "{'querySpan': {'sentenceIndex': 31, 'startToken': 29, 'endToken': 30}, 'notPresent': False, 'notMention': True, 'notSure': False, 'span_list': [{'sentenceIndex': -1, 'startToken': -1, 'endToken': -1}], 'currentAnswerIndex': 0, 'status': 'ok'}\n",
      "{'querySpan': {'sentenceIndex': 31, 'startToken': 32, 'endToken': 33}, 'notPresent': False, 'notMention': True, 'notSure': False, 'span_list': [{'sentenceIndex': -1, 'startToken': -1, 'endToken': -1}], 'currentAnswerIndex': 0, 'status': 'ok'}\n",
      "{'querySpan': {'sentenceIndex': 31, 'startToken': 38, 'endToken': 39}, 'notPresent': False, 'notMention': True, 'notSure': False, 'span_list': [{'sentenceIndex': -1, 'startToken': -1, 'endToken': -1}], 'currentAnswerIndex': 0, 'status': 'ok'}\n",
      "{'querySpan': {'sentenceIndex': 33, 'startToken': 4, 'endToken': 5}, 'notPresent': True, 'notMention': False, 'notSure': False, 'span_list': [{'sentenceIndex': -1, 'startToken': -1, 'endToken': -1}], 'currentAnswerIndex': 0, 'status': 'ok'}\n",
      "{'querySpan': {'sentenceIndex': 35, 'startToken': 4, 'endToken': 6}, 'notPresent': True, 'notMention': False, 'notSure': False, 'span_list': [{'sentenceIndex': -1, 'startToken': -1, 'endToken': -1}], 'currentAnswerIndex': 0, 'status': 'ok'}\n",
      "{'querySpan': {'sentenceIndex': 37, 'startToken': 16, 'endToken': 17}, 'notPresent': False, 'notMention': True, 'notSure': False, 'span_list': [{'sentenceIndex': -1, 'startToken': -1, 'endToken': -1}], 'currentAnswerIndex': 0, 'status': 'ok'}\n",
      "{'querySpan': {'sentenceIndex': 37, 'startToken': 18, 'endToken': 19}, 'notPresent': False, 'notMention': True, 'notSure': False, 'span_list': [{'sentenceIndex': -1, 'startToken': -1, 'endToken': -1}], 'currentAnswerIndex': 0, 'status': 'ok'}\n",
      "{'querySpan': {'sentenceIndex': 38, 'startToken': 11, 'endToken': 12}, 'notPresent': False, 'notMention': True, 'notSure': False, 'span_list': [{'sentenceIndex': -1, 'startToken': -1, 'endToken': -1}], 'currentAnswerIndex': 0, 'status': 'ok'}\n",
      "{'querySpan': {'sentenceIndex': 38, 'startToken': 13, 'endToken': 14}, 'notPresent': False, 'notMention': True, 'notSure': False, 'span_list': [{'sentenceIndex': -1, 'startToken': -1, 'endToken': -1}], 'currentAnswerIndex': 0, 'status': 'ok'}\n",
      "{'querySpan': {'sentenceIndex': 39, 'startToken': 7, 'endToken': 10}, 'notPresent': False, 'notMention': True, 'notSure': False, 'span_list': [{'sentenceIndex': -1, 'startToken': -1, 'endToken': -1}], 'currentAnswerIndex': 0, 'status': 'ok'}\n",
      "{'querySpan': {'sentenceIndex': 40, 'startToken': 7, 'endToken': 8}, 'notPresent': False, 'notMention': True, 'notSure': False, 'span_list': [{'sentenceIndex': -1, 'startToken': -1, 'endToken': -1}], 'currentAnswerIndex': 0, 'status': 'ok'}\n",
      "{'querySpan': {'sentenceIndex': 40, 'startToken': 9, 'endToken': 11}, 'notPresent': False, 'notMention': True, 'notSure': False, 'span_list': [{'sentenceIndex': -1, 'startToken': -1, 'endToken': -1}], 'currentAnswerIndex': 0, 'status': 'ok'}\n",
      "{'querySpan': {'sentenceIndex': 40, 'startToken': 12, 'endToken': 14}, 'notPresent': False, 'notMention': True, 'notSure': False, 'span_list': [{'sentenceIndex': -1, 'startToken': -1, 'endToken': -1}], 'currentAnswerIndex': 0, 'status': 'ok'}\n",
      "{'querySpan': {'sentenceIndex': 40, 'startToken': 18, 'endToken': 19}, 'notPresent': False, 'notMention': True, 'notSure': False, 'span_list': [{'sentenceIndex': -1, 'startToken': -1, 'endToken': -1}], 'currentAnswerIndex': 0, 'status': 'ok'}\n",
      "{'querySpan': {'sentenceIndex': 41, 'startToken': 10, 'endToken': 11}, 'notPresent': False, 'notMention': True, 'notSure': False, 'span_list': [{'sentenceIndex': -1, 'startToken': -1, 'endToken': -1}], 'currentAnswerIndex': 0, 'status': 'ok'}\n",
      "{'querySpan': {'sentenceIndex': 42, 'startToken': 6, 'endToken': 7}, 'notPresent': True, 'notMention': False, 'notSure': False, 'span_list': [{'sentenceIndex': -1, 'startToken': -1, 'endToken': -1}], 'currentAnswerIndex': 0, 'status': 'ok'}\n",
      "{'querySpan': {'sentenceIndex': 42, 'startToken': 16, 'endToken': 17}, 'notPresent': True, 'notMention': False, 'notSure': False, 'span_list': [{'sentenceIndex': -1, 'startToken': -1, 'endToken': -1}], 'currentAnswerIndex': 0, 'status': 'ok'}\n",
      "{'querySpan': {'sentenceIndex': 42, 'startToken': 18, 'endToken': 19}, 'notPresent': True, 'notMention': False, 'notSure': False, 'span_list': [{'sentenceIndex': -1, 'startToken': -1, 'endToken': -1}], 'currentAnswerIndex': 0, 'status': 'ok'}\n",
      "{'querySpan': {'sentenceIndex': 42, 'startToken': 26, 'endToken': 27}, 'notPresent': True, 'notMention': False, 'notSure': False, 'span_list': [{'sentenceIndex': -1, 'startToken': -1, 'endToken': -1}], 'currentAnswerIndex': 0, 'status': 'ok'}\n",
      "{'querySpan': {'sentenceIndex': 44, 'startToken': 2, 'endToken': 3}, 'notPresent': False, 'notMention': True, 'notSure': False, 'span_list': [{'sentenceIndex': -1, 'startToken': -1, 'endToken': -1}], 'currentAnswerIndex': 0, 'status': 'ok'}\n",
      "{'querySpan': {'sentenceIndex': 46, 'startToken': 9, 'endToken': 11}, 'notPresent': False, 'notMention': True, 'notSure': False, 'span_list': [{'sentenceIndex': -1, 'startToken': -1, 'endToken': -1}], 'currentAnswerIndex': 0, 'status': 'ok'}\n",
      "{'querySpan': {'sentenceIndex': 48, 'startToken': 4, 'endToken': 6}, 'notPresent': False, 'notMention': True, 'notSure': False, 'span_list': [{'sentenceIndex': -1, 'startToken': -1, 'endToken': -1}], 'currentAnswerIndex': 0, 'status': 'ok'}\n",
      "{'querySpan': {'sentenceIndex': 48, 'startToken': 7, 'endToken': 9}, 'notPresent': False, 'notMention': True, 'notSure': False, 'span_list': [{'sentenceIndex': -1, 'startToken': -1, 'endToken': -1}], 'currentAnswerIndex': 0, 'status': 'ok'}\n",
      "{'querySpan': {'sentenceIndex': 50, 'startToken': 8, 'endToken': 10}, 'notPresent': False, 'notMention': True, 'notSure': False, 'span_list': [{'sentenceIndex': -1, 'startToken': -1, 'endToken': -1}], 'currentAnswerIndex': 0, 'status': 'ok'}\n",
      "{'querySpan': {'sentenceIndex': 50, 'startToken': 20, 'endToken': 22}, 'notPresent': False, 'notMention': True, 'notSure': False, 'span_list': [{'sentenceIndex': -1, 'startToken': -1, 'endToken': -1}], 'currentAnswerIndex': 0, 'status': 'ok'}\n",
      "{'querySpan': {'sentenceIndex': 50, 'startToken': 57, 'endToken': 59}, 'notPresent': False, 'notMention': True, 'notSure': False, 'span_list': [{'sentenceIndex': -1, 'startToken': -1, 'endToken': -1}], 'currentAnswerIndex': 0, 'status': 'ok'}\n",
      "{'querySpan': {'sentenceIndex': 51, 'startToken': 6, 'endToken': 7}, 'notPresent': False, 'notMention': True, 'notSure': False, 'span_list': [{'sentenceIndex': -1, 'startToken': -1, 'endToken': -1}], 'currentAnswerIndex': 0, 'status': 'ok'}\n",
      "{'querySpan': {'sentenceIndex': 51, 'startToken': 10, 'endToken': 11}, 'notPresent': False, 'notMention': True, 'notSure': False, 'span_list': [{'sentenceIndex': -1, 'startToken': -1, 'endToken': -1}], 'currentAnswerIndex': 0, 'status': 'ok'}\n",
      "{'querySpan': {'sentenceIndex': 51, 'startToken': 14, 'endToken': 17}, 'notPresent': True, 'notMention': False, 'notSure': False, 'span_list': [{'sentenceIndex': -1, 'startToken': -1, 'endToken': -1}], 'currentAnswerIndex': 0, 'status': 'ok'}\n",
      "{'querySpan': {'sentenceIndex': 53, 'startToken': 6, 'endToken': 7}, 'notPresent': True, 'notMention': False, 'notSure': False, 'span_list': [{'sentenceIndex': -1, 'startToken': -1, 'endToken': -1}], 'currentAnswerIndex': 0, 'status': 'ok'}\n"
     ]
    }
   ],
   "source": [
    "sample = data[0]\n",
    "for item in sample:\n",
    "    print(item)"
   ],
   "metadata": {
    "collapsed": false,
    "pycharm": {
     "name": "#%%\n"
    }
   }
  },
  {
   "cell_type": "code",
   "execution_count": null,
   "outputs": [],
   "source": [],
   "metadata": {
    "collapsed": false,
    "pycharm": {
     "name": "#%%\n"
    }
   }
  },
  {
   "cell_type": "code",
   "execution_count": 3,
   "outputs": [],
   "source": [
    "data = []\n",
    "temp = read_turkle_annotation_multiple_scene('results/result.csv')\n",
    "data.extend(temp)"
   ],
   "metadata": {
    "collapsed": false,
    "pycharm": {
     "name": "#%%\n"
    }
   }
  },
  {
   "cell_type": "code",
   "execution_count": 6,
   "outputs": [
    {
     "name": "stdout",
     "output_type": "stream",
     "text": [
      "dict_keys(['sentences', 'query_spans', 'answer_spans', 'WorkerId', 'scene_id', 'clusters_all', 'clusters_no_plural', 'answers'])\n"
     ]
    }
   ],
   "source": [
    "sample = data[0]\n",
    "print(sample.keys())"
   ],
   "metadata": {
    "collapsed": false,
    "pycharm": {
     "name": "#%%\n"
    }
   }
  },
  {
   "cell_type": "code",
   "execution_count": null,
   "outputs": [],
   "source": [],
   "metadata": {
    "collapsed": false,
    "pycharm": {
     "name": "#%%\n"
    }
   }
  },
  {
   "cell_type": "code",
   "execution_count": null,
   "outputs": [],
   "source": [],
   "metadata": {
    "collapsed": false,
    "pycharm": {
     "name": "#%%\n"
    }
   }
  },
  {
   "cell_type": "code",
   "execution_count": null,
   "outputs": [],
   "source": [],
   "metadata": {
    "collapsed": false,
    "pycharm": {
     "name": "#%%\n"
    }
   }
  },
  {
   "cell_type": "code",
   "execution_count": null,
   "outputs": [],
   "source": [],
   "metadata": {
    "collapsed": false,
    "pycharm": {
     "name": "#%%\n"
    }
   }
  },
  {
   "cell_type": "code",
   "execution_count": null,
   "outputs": [],
   "source": [],
   "metadata": {
    "collapsed": false,
    "pycharm": {
     "name": "#%%\n"
    }
   }
  }
 ],
 "metadata": {
  "kernelspec": {
   "display_name": "Python 3",
   "language": "python",
   "name": "python3"
  },
  "language_info": {
   "codemirror_mode": {
    "name": "ipython",
    "version": 2
   },
   "file_extension": ".py",
   "mimetype": "text/x-python",
   "name": "python",
   "nbconvert_exporter": "python",
   "pygments_lexer": "ipython2",
   "version": "2.7.6"
  }
 },
 "nbformat": 4,
 "nbformat_minor": 0
}
{
 "cells": [
  {
   "cell_type": "code",
   "execution_count": 1,
   "metadata": {
    "collapsed": true,
    "pycharm": {
     "name": "#%%\n"
    }
   },
   "outputs": [],
   "source": [
    "import os\n",
    "import pickle as pkl\n",
    "import spacy\n",
    "import csv\n",
    "import json\n",
    "from copy import deepcopy\n",
    "from tqdm import tqdm\n",
    "# import benepar\n",
    "# import re\n",
    "from string import punctuation\n",
    "\n",
    "# from utils import merge_maximum_span\n",
    "# from utils import clean_sentence_brackets\n",
    "# from utils import process_nps_punctuation\n",
    "# from utils import extract_scenes"
   ]
  },
  {
   "cell_type": "code",
   "execution_count": 20,
   "outputs": [],
   "source": [
    "def combine_multiple_scenes(scenes):\n",
    "    # Store Data\n",
    "    sentences = []\n",
    "    querySpans = []\n",
    "    candidateSpans = []\n",
    "    clickSpans = []\n",
    "    sentence_offsets = [0]\n",
    "    querySpans_offsets = [0]\n",
    "    option1 = []\n",
    "    option2 = []\n",
    "    scene_ids = []\n",
    "\n",
    "    for instance in scenes:\n",
    "        offset = len(sentences)\n",
    "        sentences.extend(instance['sentences'])\n",
    "        op1 = deepcopy(instance['option1'])\n",
    "        for token in op1:\n",
    "            for query in token['mentions']:\n",
    "                query['sentenceIndex'] = str(int(query['sentenceIndex']) + offset)\n",
    "        option1.extend(op1)\n",
    "\n",
    "        op2 = deepcopy(instance['option2'])\n",
    "        for token in op2:\n",
    "            for query in token['mentions']:\n",
    "                query['sentenceIndex'] = str(int(query['sentenceIndex']) + offset)\n",
    "        option2.extend(op2)\n",
    "        for item in instance['querySpans']:\n",
    "            token = deepcopy(item)\n",
    "            token['sentenceIndex'] = item['sentenceIndex'] + offset\n",
    "            querySpans.append(token)\n",
    "        for item in instance['candidateSpans']:\n",
    "            token = deepcopy(item)\n",
    "            token['sentenceIndex'] = item['sentenceIndex'] + offset\n",
    "            candidateSpans.append(token)\n",
    "        for item in instance['clickSpans']:\n",
    "            token = deepcopy(item)\n",
    "            token['sentenceIndex'] = item['sentenceIndex'] + offset\n",
    "            clickSpans.append(token)\n",
    "        sentence_offsets.append(len(sentences))\n",
    "        querySpans_offsets.append(len(querySpans))\n",
    "        scene_ids.extend(instance['scene_ids'])\n",
    "    return {\n",
    "    \"sentences\": sentences,\n",
    "    \"querySpans\": querySpans,\n",
    "    \"option1\": option1,\n",
    "    \"option2\": option2,\n",
    "    \"candidateSpans\": candidateSpans,\n",
    "    \"clickSpans\": clickSpans,\n",
    "    \"sentence_offsets\": sentence_offsets,\n",
    "    \"querySpans_offsets\": querySpans_offsets,\n",
    "    \"scene_ids\": scene_ids,\n",
    "    }"
   ],
   "metadata": {
    "collapsed": false,
    "pycharm": {
     "name": "#%%\n"
    }
   }
  },
  {
   "cell_type": "code",
   "execution_count": 23,
   "outputs": [
    {
     "name": "stdout",
     "output_type": "stream",
     "text": [
      "268\n"
     ]
    }
   ],
   "source": [
    "# Generate Adjudication File\n",
    "input_path = \"adjudication.pkl\"\n",
    "output_path = \"adjudication_input/adjudication.csv\"\n",
    "\n",
    "with open(input_path, 'rb') as f:\n",
    "    data = pkl.load(f)\n",
    "    print(len(data))\n",
    "    # Batch Scenes\n",
    "    output = []\n",
    "    for i in range(len(data)//5+1):\n",
    "        output.append(combine_multiple_scenes(data[i*5: i*5+5]))\n",
    "\n",
    "    with open(output_path, 'w', encoding='utf-8') as csv_fh:\n",
    "        fieldnames = ['json_data']\n",
    "        writer = csv.DictWriter(csv_fh, fieldnames, lineterminator='\\n')\n",
    "        writer.writeheader()\n",
    "        for line in output:\n",
    "            writer.writerow({'json_data': json.dumps(line)})"
   ],
   "metadata": {
    "collapsed": false,
    "pycharm": {
     "name": "#%%\n"
    }
   }
  },
  {
   "cell_type": "code",
   "execution_count": 24,
   "outputs": [
    {
     "name": "stdout",
     "output_type": "stream",
     "text": [
      "3146\n"
     ]
    }
   ],
   "source": [
    "count = 0\n",
    "for item in output:\n",
    "    # print(len(item['querySpans']))\n",
    "    count += len(item['querySpans'])\n",
    "print(count)"
   ],
   "metadata": {
    "collapsed": false,
    "pycharm": {
     "name": "#%%\n"
    }
   }
  },
  {
   "cell_type": "code",
   "execution_count": 171,
   "outputs": [
    {
     "name": "stdout",
     "output_type": "stream",
     "text": [
      "sentences\n",
      "[['Leonard', ':', 'Sheldon', ',', 'it', \"'s\", 'not', 'a', 'great', 'time', '!'], ['Sheldon', ':', 'I', \"'m\", 'sorry', ',', 'but', 'this', 'is', 'important', '.'], ['Leonard', ':', 'What', 'is', 'it', '?'], ['Sheldon', ':', 'Back', 'to', 'the', 'Future', 'II', 'was', 'in', 'the', 'Back', 'to', 'the', 'Future', 'III', 'case', '...', 'and', 'Back', 'to', 'the', 'Future', 'III', 'was--', 'get', 'this--', 'in', 'the', 'Back', 'to', 'the', 'Future', 'II', 'case', '.'], ['Leonard', ':', 'So', '?'], ['Sheldon', ':', 'So', ',', 'did', 'you', 'do', 'that', ',', 'or', 'am', 'I', 'in', 'the', 'house', 'with', 'an', 'intruder', '?'], ['Leonard', ':', 'Sheldon', ',', 'I', 'got', 'to', 'go', 'inside', '.', 'It', \"'s\", 'getting', 'rough', 'out', 'here', '.'], ['Sheldon', ':', 'You', \"'re\", 'dodging', 'the', 'question', ';', 'I', 'knew', 'it', 'was', 'you', '.'], ['Leonard', ':', 'What', 'was', 'what', '?'], ['Sheldon', ':', 'This', 'is', \"n't\", 'a', 'very', 'good', 'connection', ',', 'but', 'it', 'sounded', 'like', 'someone', 'just', 'released', 'a', 'kraken', '.'], ['Leonard', ':', 'Okay', ',', 'I', \"'m\", 'hanging', 'up', 'now', '.', 'You', 'know', 'there', \"'s\", 'no', 'such', 'thing', 'as', 'a', '...'], ['Sheldon', ':', 'No', '!'], ['Sheldon', ':', 'Penny', '...', 'Penny', '...', ':', 'Penny', '...', '!'], ['Penny', ':', 'What', \"'s\", 'the', 'matter', '?'], ['Sheldon', ':', 'Um', '...', 'well', ',', 'I', 'was', 'worried', 'that', 'you', 'might', 'be', 'missing', 'Leonard', '.', 'And', 'that', 'might', 'be', 'causing', 'you', 'to', 'have', 'bad', 'dreams', ',', 'like', 'the', 'kind', 'you', \"'d\", 'get', 'if', 'you', 'watched', 'Clash', 'of', 'the', 'Titans', 'right', 'before', 'you', 'went', 'to', 'bed', '.'], ['Penny', ':', 'Sweetie', ',', 'did', 'you', 'have', 'a', 'bad', 'dream', '?'], ['Sheldon', ':', 'To', 'be', 'honest', ',', 'I', 'did', '.'], ['Penny', ':', 'Aw', '.'], ['Sheldon', ':', 'Back', 'to', 'the', 'future', 'ii', 'was', 'In', 'the', 'back', 'to', 'the', 'future', 'iii', 'case', '.', 'Leonard', 'did', 'it', '.'], ['Penny', ':', 'Good', 'night', '.'], ['Sheldon', ':', ':', 'No', ',', 'wait', '.', 'Perhaps', 'I', 'should', 'sleep', 'here', 'So', 'you', 'do', \"n't\", 'miss', 'leonard', 'as', 'much', ',', 'Uh', ',', \"'cause\", 'you', \"'re\", 'being', 'kind', 'of', 'a', 'baby', 'about', 'it', '.'], ['Penny', ':', 'You', 'know', 'what', '?', 'That', 'would', 'make', 'me', 'feel', 'better', '.', 'Thank', 'you', '.'], ['Sheldon', ':', 'You', \"'re\", 'welcome', '.', 'Good', 'night', '.'], ['Raj', ':', 'I', 'think', 'you', \"'d\", 'be', 'pleased', 'to', 'hear', 'that', 'this', 'morning', 'in', 'the', 'parking', 'garage', ',', 'I', 'saw', 'this', 'oil', 'stain', 'on', 'the', 'ground', 'that', 'was', 'shaped', 'just', 'like', 'my', 'ex', '-', 'girlfriend', ',', 'Lucy', ',', 'and', 'I', 'did', \"n't\", 'get', 'upset', 'at', 'all', '.'], ['Howard', ':', 'I', \"'m\", 'proud', 'of', 'you', '.'], ['Raj', ':', 'Well', ',', 'you', 'should', 'be', ',', \"'cause\", 'she', 'was', 'looking', 'good', '.'], ['Sheldon', ':', 'Dear', 'Lord', '!', 'You', \"'re\", 'an', 'astronomer', '.', 'Although', 'you', 'may', 'have', 'earthly', 'woes', ',', 'get', 'your', 'mind', 'back', 'on', 'the', 'stars', '.', 'Gee', ',', 'even', 'the', 'lowly', 'dung', 'beetle', 'chooses', 'to', 'plot', 'its', 'course', 'by', 'using', 'the', 'Milky', 'Way', '.'], ['Raj', ':', 'Is', 'that', 'true', '?'], ['Sheldon', ':', 'Everything', 'I', 'say', 'is', 'true', '.', 'Now', ',', 'of', 'course', ',', 'the', 'dung', 'beetle', 'also', 'enjoys', 'eating', 'feces', ',', 'living', 'in', 'feces', 'and', 'making', 'little', 'balls', 'out', 'of', 'feces', '.', 'So', 'pick', 'and', 'choose', 'which', 'aspects', 'of', 'its', 'lifestyle', 'you', 'want', 'to', 'embrace', '.'], ['Howard', ':', 'Come', 'on', ',', 'you', 'can', 'talk', 'to', 'girls', 'now', '.', 'It', 'should', \"n't\", 'be', 'hard', 'for', 'you', 'to', 'meet', 'someone', 'new', '.'], ['Raj', ':', 'How', 'can', 'I', 'meet', 'someone', 'new', 'when', 'everywhere', 'I', 'look', ',', 'I', 'see', 'Lucy', \"'s\", 'face', '?', 'Tell', 'me', 'you', 'do', \"n't\", 'see', 'her', 'smile', 'in', 'the', 'crust', 'of', 'this', 'chicken', 'pot', 'pie', '.'], ['Howard', ':', 'Oh', ',', 'will', 'you', 'stop', 'it', '!', 'Now', ',', 'listen', 'to', 'me', '.', 'There', \"'s\", 'a', 'welcome', 'party', 'for', 'incoming', 'post', '-', 'docs', 'tonight', '.', 'Go', 'to', 'it', 'and', 'meet', 'someone', 'who', 'is', \"n't\", 'made', 'of', 'grease', 'or', 'pie', '.'], ['Raj', ':', 'You', 'think', 'you', \"'re\", 'so', 'cool', 'because', 'your', 'wife', 'is', 'a', 'person', '?'], ['Howard', ':', 'Look', ',', 'Bernie', \"'s\", 'at', 'a', 'neuroscience', 'conference', 'with', 'Amy--'], ['Raj', ':', 'You', 'would', 'do', 'that', 'for', 'me', '?'], ['Howard', ':', 'You', \"'re\", 'my', 'friend', '.', 'I', 'want', 'you', 'to', 'be', 'happy', '.'], ['Raj', ':', 'Thanks', '.', 'Oh', ',', 'Sheldon', ',', 'since', 'Amy', \"'s\", 'out', 'of', 'town', ',', 'would', 'you', 'like', 'to', 'join', 'us', '?'], ['Sheldon', ':', 'I', 'want', 'you', 'to', 'be', 'happy', ',', 'too', ',', 'but', 'not', 'enough', 'to', 'do', 'anything', 'about', 'it', '.'], ['Bernadette', ':', 'Howie', ',', 'stop', '.', 'I', 'ca', \"n't\", 'talk', 'like', 'that', '.', 'Amy', \"'s\", 'right', 'here', '.'], ['Amy', ':', 'Sheldon', ',', 'stop', '.', 'For', 'the', 'last', 'time', ',', 'I', 'will', 'not', 'bring', 'home', 'bed', 'bugs', '.'], ['Bernadette', ':', 'The', 'hotel', \"'s\", 'nice', '.', 'There', \"'s\", 'a', 'pool', ',', 'a', 'gym--', 'the', 'bar', 'looks', 'like', 'fun', '.'], ['Amy', ':', 'Because', 'I', 'looked', 'in', 'the', 'bed', ',', 'and', 'there', 'are', 'no', 'bugs', '.'], ['Bernadette', ':', 'Aw', ',', 'I', 'love', 'you', ',', 'too', '.', 'If', 'I', 'do', \"n't\", 'talk', 'to', 'you', 'before', 'you', 'go', 'to', 'sleep', ',', 'I', \"'ll\", 'meet', 'you', 'in', 'dreamland', '.'], ['Amy', ':', 'No', ',', 'I', 'will', 'not', 'consider', 'sleeping', 'in', 'my', 'garment', 'bag', '.'], ['Sheldon', ':', 'Penny', ',', 'did', 'you', 'ever', 'wonder', 'how', 'Starfleet', 'captains', '...'], ['Penny', ':', 'No', '.'], ['Sheldon', ':', 'Well', ',', 'now', 'that', 'I', \"'ve\", 'piqued', 'your', 'interest', ',', 'welcome', 'to', 'the', 'exciting', 'world', 'of', '3D', 'chess', '.'], ['Penny', ':', 'Why', 'do', \"n't\", 'you', 'just', 'admit', 'you', 'only', 'want', 'to', 'play', 'this', 'game', 'because', 'you', 'always', 'play', 'it', 'with', 'Leonard', 'and', 'you', 'miss', 'him', '?'], ['Sheldon', ':', 'You', 'overestimate', 'his', 'significance', 'in', 'my', 'life', '.'], ['Penny', ':', 'Mmm', '.'], ['Sheldon', ':', 'Do', 'I', 'miss', 'how', 'he', 'makes', 'a', 'face', 'on', 'my', 'toaster', 'waffle', 'with', 'syrup', '?', 'Do', 'I', 'miss', 'the', 'way', 'he', 'fixes', 'the', 'zipper', 'on', 'my', 'jacket', 'when', 'it', 'gets', 'stuck', '?', 'I', 'do', \"n't\", 'think', 'so', '.', 'Do', 'I', 'miss', 'how', 'we', 'say', '\"', 'good', 'night', '\"', 'to', 'each', 'other', 'through', 'the', 'walls', 'of', 'our', 'bedroom', 'using', 'Morse', 'code', '?'], ['Penny', ':', 'Okay', ',', 'I', 'get', 'it', ',', 'I', 'get', 'it', '.', 'You', 'are', 'an', 'emotionless', 'robot', '.'], ['Sheldon', ':', 'Well', ',', 'I', 'try', '.'], ['Penny', ':', 'All', 'right', ',', 'let', \"'s\", 'just', 'get', 'this', 'stupid', 'game', 'over', 'with', '.'], ['Sheldon', ':', 'Great', '.', 'I', \"'ll\", 'go', 'first', '.', 'Okay', '.'], ['Penny', ':', 'Okay', '.'], ['Sheldon', ':', 'By', 'the', 'way', ',', 'how', 'are', 'you', 'with', 'zippers', '?'], ['Penny', ':', 'Why', '?'], ['Sheldon', ':', 'Well', ',', 'I', 'really', 'need', 'to', 'go', 'to', 'the', 'bathroom', ',', 'and', 'this', 'one', \"'s\", 'gone', 'all', 'cattywampus', '.']]\n",
      "\n",
      "querySpans\n",
      "[{'sentenceIndex': 2, 'startToken': 2, 'endToken': 3}, {'sentenceIndex': 2, 'startToken': 4, 'endToken': 5}, {'sentenceIndex': 3, 'startToken': 25, 'endToken': 26}, {'sentenceIndex': 7, 'startToken': 12, 'endToken': 13}, {'sentenceIndex': 9, 'startToken': 5, 'endToken': 9}, {'sentenceIndex': 10, 'startToken': 12, 'endToken': 13}, {'sentenceIndex': 10, 'startToken': 14, 'endToken': 17}, {'sentenceIndex': 12, 'startToken': 2, 'endToken': 8}, {'sentenceIndex': 13, 'startToken': 4, 'endToken': 6}, {'sentenceIndex': 14, 'startToken': 17, 'endToken': 18}, {'sentenceIndex': 14, 'startToken': 30, 'endToken': 31}, {'sentenceIndex': 14, 'startToken': 34, 'endToken': 35}, {'sentenceIndex': 14, 'startToken': 42, 'endToken': 43}, {'sentenceIndex': 14, 'startToken': 45, 'endToken': 46}, {'sentenceIndex': 15, 'startToken': 7, 'endToken': 10}, {'sentenceIndex': 18, 'startToken': 17, 'endToken': 18}, {'sentenceIndex': 18, 'startToken': 19, 'endToken': 20}, {'sentenceIndex': 20, 'startToken': 17, 'endToken': 18}, {'sentenceIndex': 20, 'startToken': 27, 'endToken': 31}, {'sentenceIndex': 20, 'startToken': 32, 'endToken': 33}, {'sentenceIndex': 21, 'startToken': 4, 'endToken': 5}, {'sentenceIndex': 21, 'startToken': 6, 'endToken': 7}, {'sentenceIndex': 22, 'startToken': 6, 'endToken': 8}, {'sentenceIndex': 23, 'startToken': 26, 'endToken': 27}, {'sentenceIndex': 25, 'startToken': 9, 'endToken': 10}, {'sentenceIndex': 26, 'startToken': 7, 'endToken': 9}, {'sentenceIndex': 26, 'startToken': 35, 'endToken': 37}, {'sentenceIndex': 27, 'startToken': 3, 'endToken': 4}, {'sentenceIndex': 28, 'startToken': 2, 'endToken': 3}, {'sentenceIndex': 28, 'startToken': 39, 'endToken': 41}, {'sentenceIndex': 29, 'startToken': 12, 'endToken': 13}, {'sentenceIndex': 30, 'startToken': 25, 'endToken': 26}, {'sentenceIndex': 30, 'startToken': 28, 'endToken': 30}, {'sentenceIndex': 31, 'startToken': 7, 'endToken': 8}, {'sentenceIndex': 31, 'startToken': 15, 'endToken': 16}, {'sentenceIndex': 31, 'startToken': 24, 'endToken': 25}, {'sentenceIndex': 31, 'startToken': 29, 'endToken': 30}, {'sentenceIndex': 31, 'startToken': 32, 'endToken': 33}, {'sentenceIndex': 31, 'startToken': 38, 'endToken': 39}, {'sentenceIndex': 33, 'startToken': 4, 'endToken': 5}, {'sentenceIndex': 35, 'startToken': 4, 'endToken': 6}, {'sentenceIndex': 37, 'startToken': 16, 'endToken': 17}, {'sentenceIndex': 37, 'startToken': 18, 'endToken': 19}, {'sentenceIndex': 38, 'startToken': 11, 'endToken': 12}, {'sentenceIndex': 38, 'startToken': 13, 'endToken': 14}, {'sentenceIndex': 39, 'startToken': 7, 'endToken': 10}, {'sentenceIndex': 40, 'startToken': 7, 'endToken': 8}, {'sentenceIndex': 40, 'startToken': 9, 'endToken': 11}, {'sentenceIndex': 40, 'startToken': 12, 'endToken': 14}, {'sentenceIndex': 40, 'startToken': 18, 'endToken': 19}, {'sentenceIndex': 41, 'startToken': 10, 'endToken': 11}, {'sentenceIndex': 42, 'startToken': 6, 'endToken': 7}, {'sentenceIndex': 42, 'startToken': 16, 'endToken': 17}, {'sentenceIndex': 42, 'startToken': 18, 'endToken': 19}, {'sentenceIndex': 42, 'startToken': 26, 'endToken': 27}, {'sentenceIndex': 44, 'startToken': 2, 'endToken': 3}, {'sentenceIndex': 46, 'startToken': 9, 'endToken': 11}, {'sentenceIndex': 48, 'startToken': 4, 'endToken': 6}, {'sentenceIndex': 48, 'startToken': 7, 'endToken': 9}, {'sentenceIndex': 50, 'startToken': 8, 'endToken': 10}, {'sentenceIndex': 50, 'startToken': 20, 'endToken': 22}, {'sentenceIndex': 50, 'startToken': 57, 'endToken': 59}, {'sentenceIndex': 51, 'startToken': 6, 'endToken': 7}, {'sentenceIndex': 51, 'startToken': 10, 'endToken': 11}, {'sentenceIndex': 51, 'startToken': 14, 'endToken': 17}, {'sentenceIndex': 53, 'startToken': 6, 'endToken': 7}]\n",
      "\n",
      "option1\n",
      "[{'mentions': [], 'others': ['notMention']}, {'mentions': [], 'others': ['notMention']}, {'mentions': [], 'others': ['notMention']}, {'mentions': [], 'others': ['notPresent']}, {'mentions': [{'sentenceIndex': '9', 'startToken': '2', 'endToken': '3'}], 'others': ['This']}, {'mentions': [], 'others': ['notPresent']}, {'mentions': [{'sentenceIndex': '9', 'startToken': '18', 'endToken': '19'}], 'others': ['kraken']}, {'mentions': [], 'others': ['notPresent']}, {'mentions': [], 'others': ['notPresent']}, {'mentions': [], 'others': ['notMention']}, {'mentions': [], 'others': ['notPresent']}, {'mentions': [{'sentenceIndex': '2', 'startToken': '30', 'endToken': '31'}], 'others': ['you']}, {'mentions': [{'sentenceIndex': '2', 'startToken': '34', 'endToken': '35'}], 'others': ['you']}, {'mentions': [], 'others': ['notPresent']}, {'mentions': [], 'others': ['notMention']}, {'mentions': [], 'others': ['notPresent']}, {'mentions': [], 'others': ['notMention']}, {'mentions': [{'sentenceIndex': '6', 'startToken': '17', 'endToken': '18'}], 'others': ['Leonard']}, {'mentions': [], 'others': ['Penny']}, {'mentions': [], 'others': ['notMention']}, {'mentions': [], 'others': ['notMention']}, {'mentions': [], 'others': ['notMention']}, {'mentions': [], 'others': ['notMention']}, {'mentions': [], 'others': ['notMention']}, {'mentions': [{'sentenceIndex': '0', 'startToken': '20', 'endToken': '23'}], 'others': ['this oil stain']}, {'mentions': [], 'others': ['Raj']}, {'mentions': [], 'others': ['notMention']}, {'mentions': [], 'others': ['notMention']}, {'mentions': [], 'others': ['notMention']}, {'mentions': [], 'others': ['notMention']}, {'mentions': [], 'others': ['notMention']}, {'mentions': [{'sentenceIndex': '7', 'startToken': '15', 'endToken': '16'}], 'others': ['Lucy']}, {'mentions': [], 'others': ['notMention']}, {'mentions': [], 'others': ['notMention']}, {'mentions': [], 'others': ['notMention']}, {'mentions': [], 'others': ['notPresent']}, {'mentions': [{'sentenceIndex': '8', 'startToken': '18', 'endToken': '20'}], 'others': ['welcome party']}, {'mentions': [], 'others': ['notMention']}, {'mentions': [{'sentenceIndex': '0', 'startToken': '20', 'endToken': '23'}], 'others': ['this oil stain']}, {'mentions': [{'sentenceIndex': '9', 'startToken': '9', 'endToken': '11'}], 'others': ['your wife']}, {'mentions': [], 'others': ['Raj']}, {'mentions': [], 'others': ['notMention']}, {'mentions': [], 'others': ['notMention']}, {'mentions': [], 'others': ['notMention']}, {'mentions': [], 'others': ['notPresent']}, {'mentions': [], 'others': ['notMention']}, {'mentions': [{'sentenceIndex': '2', 'startToken': '2', 'endToken': '4'}], 'others': ['The hotel']}, {'mentions': [], 'others': ['notPresent']}, {'mentions': [], 'others': ['notPresent']}, {'mentions': [], 'others': ['notMention']}, {'mentions': [{'sentenceIndex': '3', 'startToken': '5', 'endToken': '8'}], 'others': ['in the bed']}, {'mentions': [{'sentenceIndex': '0', 'startToken': '2', 'endToken': '3'}], 'others': ['Howie']}, {'mentions': [{'sentenceIndex': '0', 'startToken': '2', 'endToken': '3'}], 'others': ['Howie']}, {'mentions': [{'sentenceIndex': '0', 'startToken': '2', 'endToken': '3'}], 'others': ['Howie']}, {'mentions': [{'sentenceIndex': '0', 'startToken': '2', 'endToken': '3'}], 'others': ['Howie']}, {'mentions': [], 'others': ['notPresent']}, {'mentions': [], 'others': ['notMention']}, {'mentions': [], 'others': ['notMention']}, {'mentions': [], 'others': ['notMention']}, {'mentions': [], 'others': ['notMention']}, {'mentions': [], 'others': ['notMention']}, {'mentions': [{'sentenceIndex': '3', 'startToken': '21', 'endToken': '22'}], 'others': ['Sheldon', 'Leonard']}, {'mentions': [], 'others': ['notMention']}, {'mentions': [], 'others': ['notMention']}, {'mentions': [], 'others': ['notPresent']}, {'mentions': [], 'others': ['Penny', 'Sheldon']}]\n",
      "\n",
      "option2\n",
      "[{'mentions': [], 'others': ['notPresent']}, {'mentions': [{'sentenceIndex': '1', 'startToken': '7', 'endToken': '8'}], 'others': ['this']}, {'mentions': [], 'others': ['notPresent']}, {'mentions': [], 'others': ['Leonard']}, {'mentions': [], 'others': ['notPresent']}, {'mentions': [], 'others': ['notMention']}, {'mentions': [], 'others': ['notMention']}, {'mentions': [], 'others': ['notMention']}, {'mentions': [{'sentenceIndex': '1', 'startToken': '2', 'endToken': '3'}], 'others': ['What']}, {'mentions': [], 'others': ['notPresent']}, {'mentions': [], 'others': ['Penny']}, {'mentions': [], 'others': ['Penny']}, {'mentions': [], 'others': ['Penny']}, {'mentions': [], 'others': ['notMention']}, {'mentions': [], 'others': ['notPresent']}, {'mentions': [{'sentenceIndex': '2', 'startToken': '14', 'endToken': '15'}], 'others': ['Leonard']}, {'mentions': [], 'others': ['notPresent']}, {'mentions': [{'sentenceIndex': '2', 'startToken': '14', 'endToken': '15'}], 'others': ['Leonard']}, {'mentions': [], 'others': ['notMention']}, {'mentions': [], 'others': ['notPresent']}, {'mentions': [], 'others': ['notPresent']}, {'mentions': [], 'others': ['notPresent']}, {'mentions': [], 'others': ['notPresent']}, {'mentions': [{'sentenceIndex': '0', 'startToken': '20', 'endToken': '23'}], 'others': ['this oil stain']}, {'mentions': [{'sentenceIndex': '0', 'startToken': '36', 'endToken': '37'}], 'others': ['Lucy']}, {'mentions': [], 'others': ['notPresent']}, {'mentions': [], 'others': ['notPresent']}, {'mentions': [], 'others': ['notPresent']}, {'mentions': [], 'others': ['notPresent']}, {'mentions': [], 'others': ['notPresent']}, {'mentions': [], 'others': ['notPresent']}, {'mentions': [{'sentenceIndex': '0', 'startToken': '36', 'endToken': '37'}], 'others': ['Lucy']}, {'mentions': [], 'others': ['notPresent']}, {'mentions': [], 'others': ['notPresent']}, {'mentions': [], 'others': ['notPresent']}, {'mentions': [], 'others': ['notMention']}, {'mentions': [{'sentenceIndex': '8', 'startToken': '17', 'endToken': '20'}], 'others': ['a welcome party']}, {'mentions': [{'sentenceIndex': '6', 'startToken': '21', 'endToken': '22'}], 'others': ['someone']}, {'mentions': [], 'others': ['notPresent']}, {'mentions': [], 'others': ['notPresent']}, {'mentions': [], 'others': ['notPresent']}, {'mentions': [], 'others': ['notPresent']}, {'mentions': [], 'others': ['notPresent']}, {'mentions': [], 'others': ['notPresent']}, {'mentions': [], 'others': ['Amy']}, {'mentions': [], 'others': ['notPresent']}, {'mentions': [], 'others': ['notPresent']}, {'mentions': [{'sentenceIndex': '2', 'startToken': '7', 'endToken': '8'}], 'others': ['There']}, {'mentions': [{'sentenceIndex': '2', 'startToken': '7', 'endToken': '8'}], 'others': ['There']}, {'mentions': [{'sentenceIndex': '2', 'startToken': '14', 'endToken': '16'}], 'others': ['the bar']}, {'mentions': [], 'others': ['notPresent']}, {'mentions': [], 'others': ['Amy']}, {'mentions': [], 'others': ['Amy']}, {'mentions': [], 'others': ['Amy']}, {'mentions': [], 'others': ['Amy']}, {'mentions': [], 'others': ['Penny']}, {'mentions': [], 'others': ['notPresent']}, {'mentions': [], 'others': ['notPresent']}, {'mentions': [], 'others': ['notPresent']}, {'mentions': [], 'others': ['notPresent']}, {'mentions': [], 'others': ['notPresent']}, {'mentions': [], 'others': ['notPresent']}, {'mentions': [], 'others': ['notPresent']}, {'mentions': [], 'others': ['notPresent']}, {'mentions': [{'sentenceIndex': '7', 'startToken': '12', 'endToken': '13'}], 'others': ['You']}, {'mentions': [], 'others': ['notMention']}]\n",
      "\n",
      "candidateSpans\n",
      "[{'sentenceIndex': 0, 'startToken': 4, 'endToken': 5}, {'sentenceIndex': 0, 'startToken': 7, 'endToken': 10}, {'sentenceIndex': 1, 'startToken': 2, 'endToken': 3}, {'sentenceIndex': 1, 'startToken': 7, 'endToken': 8}, {'sentenceIndex': 2, 'startToken': 2, 'endToken': 3}, {'sentenceIndex': 2, 'startToken': 4, 'endToken': 5}, {'sentenceIndex': 3, 'startToken': 4, 'endToken': 7}, {'sentenceIndex': 3, 'startToken': 9, 'endToken': 11}, {'sentenceIndex': 3, 'startToken': 12, 'endToken': 16}, {'sentenceIndex': 3, 'startToken': 20, 'endToken': 24}, {'sentenceIndex': 3, 'startToken': 25, 'endToken': 26}, {'sentenceIndex': 3, 'startToken': 27, 'endToken': 29}, {'sentenceIndex': 3, 'startToken': 30, 'endToken': 34}, {'sentenceIndex': 5, 'startToken': 5, 'endToken': 6}, {'sentenceIndex': 5, 'startToken': 7, 'endToken': 8}, {'sentenceIndex': 5, 'startToken': 11, 'endToken': 12}, {'sentenceIndex': 5, 'startToken': 13, 'endToken': 15}, {'sentenceIndex': 5, 'startToken': 16, 'endToken': 18}, {'sentenceIndex': 6, 'startToken': 4, 'endToken': 5}, {'sentenceIndex': 6, 'startToken': 10, 'endToken': 11}, {'sentenceIndex': 7, 'startToken': 2, 'endToken': 3}, {'sentenceIndex': 7, 'startToken': 5, 'endToken': 7}, {'sentenceIndex': 7, 'startToken': 8, 'endToken': 9}, {'sentenceIndex': 7, 'startToken': 10, 'endToken': 11}, {'sentenceIndex': 7, 'startToken': 12, 'endToken': 13}, {'sentenceIndex': 8, 'startToken': 2, 'endToken': 3}, {'sentenceIndex': 8, 'startToken': 4, 'endToken': 5}, {'sentenceIndex': 9, 'startToken': 2, 'endToken': 3}, {'sentenceIndex': 9, 'startToken': 5, 'endToken': 9}, {'sentenceIndex': 9, 'startToken': 11, 'endToken': 12}, {'sentenceIndex': 9, 'startToken': 14, 'endToken': 15}, {'sentenceIndex': 9, 'startToken': 17, 'endToken': 19}, {'sentenceIndex': 10, 'startToken': 4, 'endToken': 5}, {'sentenceIndex': 10, 'startToken': 10, 'endToken': 11}, {'sentenceIndex': 10, 'startToken': 12, 'endToken': 13}, {'sentenceIndex': 10, 'startToken': 14, 'endToken': 17}, {'sentenceIndex': 10, 'startToken': 18, 'endToken': 19}, {'sentenceIndex': 12, 'startToken': 2, 'endToken': 8}, {'sentenceIndex': 13, 'startToken': 2, 'endToken': 3}, {'sentenceIndex': 13, 'startToken': 4, 'endToken': 6}, {'sentenceIndex': 14, 'startToken': 6, 'endToken': 7}, {'sentenceIndex': 14, 'startToken': 10, 'endToken': 11}, {'sentenceIndex': 14, 'startToken': 14, 'endToken': 15}, {'sentenceIndex': 14, 'startToken': 17, 'endToken': 18}, {'sentenceIndex': 14, 'startToken': 21, 'endToken': 22}, {'sentenceIndex': 14, 'startToken': 24, 'endToken': 26}, {'sentenceIndex': 14, 'startToken': 28, 'endToken': 30}, {'sentenceIndex': 14, 'startToken': 30, 'endToken': 31}, {'sentenceIndex': 14, 'startToken': 34, 'endToken': 35}, {'sentenceIndex': 14, 'startToken': 36, 'endToken': 37}, {'sentenceIndex': 14, 'startToken': 38, 'endToken': 40}, {'sentenceIndex': 14, 'startToken': 42, 'endToken': 43}, {'sentenceIndex': 14, 'startToken': 45, 'endToken': 46}, {'sentenceIndex': 15, 'startToken': 5, 'endToken': 6}, {'sentenceIndex': 15, 'startToken': 7, 'endToken': 10}, {'sentenceIndex': 16, 'startToken': 6, 'endToken': 7}, {'sentenceIndex': 18, 'startToken': 4, 'endToken': 7}, {'sentenceIndex': 18, 'startToken': 9, 'endToken': 11}, {'sentenceIndex': 18, 'startToken': 12, 'endToken': 16}, {'sentenceIndex': 18, 'startToken': 17, 'endToken': 18}, {'sentenceIndex': 18, 'startToken': 19, 'endToken': 20}, {'sentenceIndex': 19, 'startToken': 2, 'endToken': 4}, {'sentenceIndex': 20, 'startToken': 3, 'endToken': 6}, {'sentenceIndex': 20, 'startToken': 8, 'endToken': 9}, {'sentenceIndex': 20, 'startToken': 13, 'endToken': 14}, {'sentenceIndex': 20, 'startToken': 17, 'endToken': 18}, {'sentenceIndex': 20, 'startToken': 24, 'endToken': 25}, {'sentenceIndex': 20, 'startToken': 27, 'endToken': 31}, {'sentenceIndex': 20, 'startToken': 32, 'endToken': 33}, {'sentenceIndex': 21, 'startToken': 2, 'endToken': 3}, {'sentenceIndex': 21, 'startToken': 4, 'endToken': 5}, {'sentenceIndex': 21, 'startToken': 6, 'endToken': 7}, {'sentenceIndex': 21, 'startToken': 9, 'endToken': 10}, {'sentenceIndex': 21, 'startToken': 14, 'endToken': 15}, {'sentenceIndex': 22, 'startToken': 2, 'endToken': 3}, {'sentenceIndex': 22, 'startToken': 6, 'endToken': 8}, {'sentenceIndex': 23, 'startToken': 2, 'endToken': 3}, {'sentenceIndex': 23, 'startToken': 4, 'endToken': 5}, {'sentenceIndex': 23, 'startToken': 14, 'endToken': 17}, {'sentenceIndex': 23, 'startToken': 18, 'endToken': 19}, {'sentenceIndex': 23, 'startToken': 20, 'endToken': 23}, {'sentenceIndex': 23, 'startToken': 24, 'endToken': 26}, {'sentenceIndex': 23, 'startToken': 26, 'endToken': 27}, {'sentenceIndex': 23, 'startToken': 31, 'endToken': 33}, {'sentenceIndex': 23, 'startToken': 31, 'endToken': 32}, {'sentenceIndex': 23, 'startToken': 34, 'endToken': 35}, {'sentenceIndex': 23, 'startToken': 36, 'endToken': 37}, {'sentenceIndex': 23, 'startToken': 39, 'endToken': 40}, {'sentenceIndex': 24, 'startToken': 2, 'endToken': 3}, {'sentenceIndex': 24, 'startToken': 6, 'endToken': 7}, {'sentenceIndex': 25, 'startToken': 4, 'endToken': 5}, {'sentenceIndex': 25, 'startToken': 9, 'endToken': 10}, {'sentenceIndex': 26, 'startToken': 2, 'endToken': 4}, {'sentenceIndex': 26, 'startToken': 5, 'endToken': 6}, {'sentenceIndex': 26, 'startToken': 7, 'endToken': 9}, {'sentenceIndex': 26, 'startToken': 11, 'endToken': 12}, {'sentenceIndex': 26, 'startToken': 14, 'endToken': 16}, {'sentenceIndex': 26, 'startToken': 18, 'endToken': 20}, {'sentenceIndex': 26, 'startToken': 18, 'endToken': 19}, {'sentenceIndex': 26, 'startToken': 22, 'endToken': 24}, {'sentenceIndex': 26, 'startToken': 25, 'endToken': 26}, {'sentenceIndex': 26, 'startToken': 27, 'endToken': 32}, {'sentenceIndex': 26, 'startToken': 35, 'endToken': 36}, {'sentenceIndex': 26, 'startToken': 35, 'endToken': 37}, {'sentenceIndex': 26, 'startToken': 39, 'endToken': 42}, {'sentenceIndex': 27, 'startToken': 3, 'endToken': 4}, {'sentenceIndex': 28, 'startToken': 2, 'endToken': 3}, {'sentenceIndex': 28, 'startToken': 3, 'endToken': 4}, {'sentenceIndex': 28, 'startToken': 11, 'endToken': 12}, {'sentenceIndex': 28, 'startToken': 13, 'endToken': 16}, {'sentenceIndex': 28, 'startToken': 19, 'endToken': 20}, {'sentenceIndex': 28, 'startToken': 23, 'endToken': 24}, {'sentenceIndex': 28, 'startToken': 26, 'endToken': 28}, {'sentenceIndex': 28, 'startToken': 30, 'endToken': 31}, {'sentenceIndex': 28, 'startToken': 36, 'endToken': 38}, {'sentenceIndex': 28, 'startToken': 39, 'endToken': 40}, {'sentenceIndex': 28, 'startToken': 39, 'endToken': 41}, {'sentenceIndex': 28, 'startToken': 41, 'endToken': 42}, {'sentenceIndex': 29, 'startToken': 5, 'endToken': 6}, {'sentenceIndex': 29, 'startToken': 9, 'endToken': 10}, {'sentenceIndex': 29, 'startToken': 12, 'endToken': 13}, {'sentenceIndex': 29, 'startToken': 18, 'endToken': 19}, {'sentenceIndex': 29, 'startToken': 21, 'endToken': 22}, {'sentenceIndex': 30, 'startToken': 4, 'endToken': 5}, {'sentenceIndex': 30, 'startToken': 6, 'endToken': 7}, {'sentenceIndex': 30, 'startToken': 10, 'endToken': 11}, {'sentenceIndex': 30, 'startToken': 13, 'endToken': 14}, {'sentenceIndex': 30, 'startToken': 15, 'endToken': 18}, {'sentenceIndex': 30, 'startToken': 20, 'endToken': 21}, {'sentenceIndex': 30, 'startToken': 21, 'endToken': 22}, {'sentenceIndex': 30, 'startToken': 25, 'endToken': 27}, {'sentenceIndex': 30, 'startToken': 25, 'endToken': 26}, {'sentenceIndex': 30, 'startToken': 28, 'endToken': 30}, {'sentenceIndex': 30, 'startToken': 31, 'endToken': 35}, {'sentenceIndex': 31, 'startToken': 5, 'endToken': 6}, {'sentenceIndex': 31, 'startToken': 7, 'endToken': 8}, {'sentenceIndex': 31, 'startToken': 13, 'endToken': 14}, {'sentenceIndex': 31, 'startToken': 15, 'endToken': 16}, {'sentenceIndex': 31, 'startToken': 17, 'endToken': 20}, {'sentenceIndex': 31, 'startToken': 21, 'endToken': 23}, {'sentenceIndex': 31, 'startToken': 24, 'endToken': 25}, {'sentenceIndex': 31, 'startToken': 29, 'endToken': 30}, {'sentenceIndex': 31, 'startToken': 32, 'endToken': 33}, {'sentenceIndex': 31, 'startToken': 33, 'endToken': 34}, {'sentenceIndex': 31, 'startToken': 38, 'endToken': 39}, {'sentenceIndex': 31, 'startToken': 40, 'endToken': 41}, {'sentenceIndex': 32, 'startToken': 2, 'endToken': 3}, {'sentenceIndex': 32, 'startToken': 4, 'endToken': 5}, {'sentenceIndex': 32, 'startToken': 9, 'endToken': 10}, {'sentenceIndex': 32, 'startToken': 9, 'endToken': 11}, {'sentenceIndex': 32, 'startToken': 12, 'endToken': 14}, {'sentenceIndex': 33, 'startToken': 4, 'endToken': 5}, {'sentenceIndex': 33, 'startToken': 7, 'endToken': 10}, {'sentenceIndex': 33, 'startToken': 11, 'endToken': 12}, {'sentenceIndex': 34, 'startToken': 2, 'endToken': 3}, {'sentenceIndex': 34, 'startToken': 5, 'endToken': 6}, {'sentenceIndex': 34, 'startToken': 7, 'endToken': 8}, {'sentenceIndex': 35, 'startToken': 2, 'endToken': 3}, {'sentenceIndex': 35, 'startToken': 4, 'endToken': 6}, {'sentenceIndex': 35, 'startToken': 4, 'endToken': 5}, {'sentenceIndex': 35, 'startToken': 7, 'endToken': 8}, {'sentenceIndex': 35, 'startToken': 9, 'endToken': 10}, {'sentenceIndex': 36, 'startToken': 2, 'endToken': 3}, {'sentenceIndex': 36, 'startToken': 6, 'endToken': 7}, {'sentenceIndex': 36, 'startToken': 9, 'endToken': 10}, {'sentenceIndex': 36, 'startToken': 13, 'endToken': 14}, {'sentenceIndex': 36, 'startToken': 16, 'endToken': 17}, {'sentenceIndex': 36, 'startToken': 20, 'endToken': 21}, {'sentenceIndex': 37, 'startToken': 2, 'endToken': 3}, {'sentenceIndex': 37, 'startToken': 4, 'endToken': 5}, {'sentenceIndex': 37, 'startToken': 16, 'endToken': 17}, {'sentenceIndex': 37, 'startToken': 18, 'endToken': 19}, {'sentenceIndex': 38, 'startToken': 2, 'endToken': 3}, {'sentenceIndex': 38, 'startToken': 6, 'endToken': 7}, {'sentenceIndex': 38, 'startToken': 11, 'endToken': 12}, {'sentenceIndex': 38, 'startToken': 13, 'endToken': 14}, {'sentenceIndex': 39, 'startToken': 2, 'endToken': 3}, {'sentenceIndex': 39, 'startToken': 7, 'endToken': 10}, {'sentenceIndex': 39, 'startToken': 11, 'endToken': 12}, {'sentenceIndex': 39, 'startToken': 15, 'endToken': 18}, {'sentenceIndex': 40, 'startToken': 2, 'endToken': 4}, {'sentenceIndex': 40, 'startToken': 7, 'endToken': 8}, {'sentenceIndex': 40, 'startToken': 9, 'endToken': 11}, {'sentenceIndex': 40, 'startToken': 12, 'endToken': 14}, {'sentenceIndex': 40, 'startToken': 14, 'endToken': 16}, {'sentenceIndex': 40, 'startToken': 18, 'endToken': 19}, {'sentenceIndex': 41, 'startToken': 3, 'endToken': 4}, {'sentenceIndex': 41, 'startToken': 6, 'endToken': 8}, {'sentenceIndex': 41, 'startToken': 10, 'endToken': 11}, {'sentenceIndex': 41, 'startToken': 12, 'endToken': 14}, {'sentenceIndex': 42, 'startToken': 4, 'endToken': 5}, {'sentenceIndex': 42, 'startToken': 6, 'endToken': 7}, {'sentenceIndex': 42, 'startToken': 11, 'endToken': 12}, {'sentenceIndex': 42, 'startToken': 16, 'endToken': 17}, {'sentenceIndex': 42, 'startToken': 18, 'endToken': 19}, {'sentenceIndex': 42, 'startToken': 21, 'endToken': 22}, {'sentenceIndex': 42, 'startToken': 23, 'endToken': 24}, {'sentenceIndex': 42, 'startToken': 26, 'endToken': 27}, {'sentenceIndex': 42, 'startToken': 28, 'endToken': 29}, {'sentenceIndex': 43, 'startToken': 4, 'endToken': 5}, {'sentenceIndex': 43, 'startToken': 10, 'endToken': 13}, {'sentenceIndex': 43, 'startToken': 10, 'endToken': 11}, {'sentenceIndex': 44, 'startToken': 2, 'endToken': 3}, {'sentenceIndex': 44, 'startToken': 5, 'endToken': 6}, {'sentenceIndex': 44, 'startToken': 9, 'endToken': 11}, {'sentenceIndex': 46, 'startToken': 6, 'endToken': 7}, {'sentenceIndex': 46, 'startToken': 9, 'endToken': 10}, {'sentenceIndex': 46, 'startToken': 9, 'endToken': 11}, {'sentenceIndex': 46, 'startToken': 14, 'endToken': 17}, {'sentenceIndex': 46, 'startToken': 18, 'endToken': 20}, {'sentenceIndex': 47, 'startToken': 5, 'endToken': 6}, {'sentenceIndex': 47, 'startToken': 8, 'endToken': 9}, {'sentenceIndex': 47, 'startToken': 13, 'endToken': 15}, {'sentenceIndex': 47, 'startToken': 16, 'endToken': 17}, {'sentenceIndex': 47, 'startToken': 19, 'endToken': 20}, {'sentenceIndex': 47, 'startToken': 21, 'endToken': 22}, {'sentenceIndex': 47, 'startToken': 23, 'endToken': 24}, {'sentenceIndex': 47, 'startToken': 25, 'endToken': 26}, {'sentenceIndex': 48, 'startToken': 2, 'endToken': 3}, {'sentenceIndex': 48, 'startToken': 4, 'endToken': 5}, {'sentenceIndex': 48, 'startToken': 4, 'endToken': 6}, {'sentenceIndex': 48, 'startToken': 7, 'endToken': 8}, {'sentenceIndex': 48, 'startToken': 7, 'endToken': 9}, {'sentenceIndex': 49, 'startToken': 2, 'endToken': 3}, {'sentenceIndex': 50, 'startToken': 3, 'endToken': 4}, {'sentenceIndex': 50, 'startToken': 6, 'endToken': 7}, {'sentenceIndex': 50, 'startToken': 8, 'endToken': 10}, {'sentenceIndex': 50, 'startToken': 11, 'endToken': 12}, {'sentenceIndex': 50, 'startToken': 11, 'endToken': 14}, {'sentenceIndex': 50, 'startToken': 15, 'endToken': 16}, {'sentenceIndex': 50, 'startToken': 18, 'endToken': 19}, {'sentenceIndex': 50, 'startToken': 20, 'endToken': 22}, {'sentenceIndex': 50, 'startToken': 22, 'endToken': 23}, {'sentenceIndex': 50, 'startToken': 24, 'endToken': 26}, {'sentenceIndex': 50, 'startToken': 27, 'endToken': 29}, {'sentenceIndex': 50, 'startToken': 27, 'endToken': 28}, {'sentenceIndex': 50, 'startToken': 30, 'endToken': 31}, {'sentenceIndex': 50, 'startToken': 34, 'endToken': 35}, {'sentenceIndex': 50, 'startToken': 41, 'endToken': 42}, {'sentenceIndex': 50, 'startToken': 44, 'endToken': 45}, {'sentenceIndex': 50, 'startToken': 47, 'endToken': 49}, {'sentenceIndex': 50, 'startToken': 54, 'endToken': 56}, {'sentenceIndex': 50, 'startToken': 57, 'endToken': 58}, {'sentenceIndex': 50, 'startToken': 57, 'endToken': 59}, {'sentenceIndex': 50, 'startToken': 60, 'endToken': 62}, {'sentenceIndex': 51, 'startToken': 4, 'endToken': 5}, {'sentenceIndex': 51, 'startToken': 6, 'endToken': 7}, {'sentenceIndex': 51, 'startToken': 8, 'endToken': 9}, {'sentenceIndex': 51, 'startToken': 10, 'endToken': 11}, {'sentenceIndex': 51, 'startToken': 12, 'endToken': 13}, {'sentenceIndex': 51, 'startToken': 14, 'endToken': 17}, {'sentenceIndex': 52, 'startToken': 4, 'endToken': 5}, {'sentenceIndex': 53, 'startToken': 6, 'endToken': 7}, {'sentenceIndex': 53, 'startToken': 9, 'endToken': 12}, {'sentenceIndex': 54, 'startToken': 4, 'endToken': 5}, {'sentenceIndex': 56, 'startToken': 3, 'endToken': 5}, {'sentenceIndex': 56, 'startToken': 8, 'endToken': 9}, {'sentenceIndex': 56, 'startToken': 10, 'endToken': 11}, {'sentenceIndex': 58, 'startToken': 4, 'endToken': 5}, {'sentenceIndex': 58, 'startToken': 10, 'endToken': 12}, {'sentenceIndex': 58, 'startToken': 14, 'endToken': 16}]\n",
      "\n",
      "clickSpans\n",
      "[{'sentenceIndex': 0, 'startToken': 4, 'endToken': 5}, {'sentenceIndex': 0, 'startToken': 7, 'endToken': 10}, {'sentenceIndex': 1, 'startToken': 2, 'endToken': 3}, {'sentenceIndex': 1, 'startToken': 7, 'endToken': 8}, {'sentenceIndex': 2, 'startToken': 2, 'endToken': 3}, {'sentenceIndex': 2, 'startToken': 4, 'endToken': 5}, {'sentenceIndex': 3, 'startToken': 4, 'endToken': 7}, {'sentenceIndex': 3, 'startToken': 9, 'endToken': 11}, {'sentenceIndex': 3, 'startToken': 12, 'endToken': 16}, {'sentenceIndex': 3, 'startToken': 20, 'endToken': 24}, {'sentenceIndex': 3, 'startToken': 25, 'endToken': 26}, {'sentenceIndex': 3, 'startToken': 27, 'endToken': 29}, {'sentenceIndex': 3, 'startToken': 30, 'endToken': 34}, {'sentenceIndex': 5, 'startToken': 5, 'endToken': 6}, {'sentenceIndex': 5, 'startToken': 7, 'endToken': 8}, {'sentenceIndex': 5, 'startToken': 11, 'endToken': 12}, {'sentenceIndex': 5, 'startToken': 13, 'endToken': 15}, {'sentenceIndex': 5, 'startToken': 16, 'endToken': 18}, {'sentenceIndex': 6, 'startToken': 4, 'endToken': 5}, {'sentenceIndex': 6, 'startToken': 10, 'endToken': 11}, {'sentenceIndex': 7, 'startToken': 2, 'endToken': 3}, {'sentenceIndex': 7, 'startToken': 5, 'endToken': 7}, {'sentenceIndex': 7, 'startToken': 8, 'endToken': 9}, {'sentenceIndex': 7, 'startToken': 10, 'endToken': 11}, {'sentenceIndex': 7, 'startToken': 12, 'endToken': 13}, {'sentenceIndex': 8, 'startToken': 2, 'endToken': 3}, {'sentenceIndex': 8, 'startToken': 4, 'endToken': 5}, {'sentenceIndex': 9, 'startToken': 2, 'endToken': 3}, {'sentenceIndex': 9, 'startToken': 5, 'endToken': 9}, {'sentenceIndex': 9, 'startToken': 11, 'endToken': 12}, {'sentenceIndex': 9, 'startToken': 14, 'endToken': 15}, {'sentenceIndex': 9, 'startToken': 17, 'endToken': 19}, {'sentenceIndex': 10, 'startToken': 4, 'endToken': 5}, {'sentenceIndex': 10, 'startToken': 10, 'endToken': 11}, {'sentenceIndex': 10, 'startToken': 12, 'endToken': 13}, {'sentenceIndex': 10, 'startToken': 14, 'endToken': 17}, {'sentenceIndex': 10, 'startToken': 18, 'endToken': 19}, {'sentenceIndex': 12, 'startToken': 2, 'endToken': 8}, {'sentenceIndex': 13, 'startToken': 2, 'endToken': 3}, {'sentenceIndex': 13, 'startToken': 4, 'endToken': 6}, {'sentenceIndex': 14, 'startToken': 6, 'endToken': 7}, {'sentenceIndex': 14, 'startToken': 10, 'endToken': 11}, {'sentenceIndex': 14, 'startToken': 14, 'endToken': 15}, {'sentenceIndex': 14, 'startToken': 17, 'endToken': 18}, {'sentenceIndex': 14, 'startToken': 21, 'endToken': 22}, {'sentenceIndex': 14, 'startToken': 24, 'endToken': 26}, {'sentenceIndex': 14, 'startToken': 28, 'endToken': 30}, {'sentenceIndex': 14, 'startToken': 30, 'endToken': 31}, {'sentenceIndex': 14, 'startToken': 34, 'endToken': 35}, {'sentenceIndex': 14, 'startToken': 36, 'endToken': 37}, {'sentenceIndex': 14, 'startToken': 38, 'endToken': 40}, {'sentenceIndex': 14, 'startToken': 42, 'endToken': 43}, {'sentenceIndex': 14, 'startToken': 45, 'endToken': 46}, {'sentenceIndex': 15, 'startToken': 5, 'endToken': 6}, {'sentenceIndex': 15, 'startToken': 7, 'endToken': 10}, {'sentenceIndex': 16, 'startToken': 6, 'endToken': 7}, {'sentenceIndex': 18, 'startToken': 4, 'endToken': 7}, {'sentenceIndex': 18, 'startToken': 9, 'endToken': 11}, {'sentenceIndex': 18, 'startToken': 12, 'endToken': 16}, {'sentenceIndex': 18, 'startToken': 17, 'endToken': 18}, {'sentenceIndex': 18, 'startToken': 19, 'endToken': 20}, {'sentenceIndex': 19, 'startToken': 2, 'endToken': 4}, {'sentenceIndex': 20, 'startToken': 3, 'endToken': 6}, {'sentenceIndex': 20, 'startToken': 8, 'endToken': 9}, {'sentenceIndex': 20, 'startToken': 13, 'endToken': 14}, {'sentenceIndex': 20, 'startToken': 17, 'endToken': 18}, {'sentenceIndex': 20, 'startToken': 24, 'endToken': 25}, {'sentenceIndex': 20, 'startToken': 27, 'endToken': 31}, {'sentenceIndex': 20, 'startToken': 32, 'endToken': 33}, {'sentenceIndex': 21, 'startToken': 2, 'endToken': 3}, {'sentenceIndex': 21, 'startToken': 4, 'endToken': 5}, {'sentenceIndex': 21, 'startToken': 6, 'endToken': 7}, {'sentenceIndex': 21, 'startToken': 9, 'endToken': 10}, {'sentenceIndex': 21, 'startToken': 14, 'endToken': 15}, {'sentenceIndex': 22, 'startToken': 2, 'endToken': 3}, {'sentenceIndex': 22, 'startToken': 6, 'endToken': 8}, {'sentenceIndex': 23, 'startToken': 2, 'endToken': 3}, {'sentenceIndex': 23, 'startToken': 4, 'endToken': 5}, {'sentenceIndex': 23, 'startToken': 14, 'endToken': 17}, {'sentenceIndex': 23, 'startToken': 18, 'endToken': 19}, {'sentenceIndex': 23, 'startToken': 20, 'endToken': 23}, {'sentenceIndex': 23, 'startToken': 24, 'endToken': 26}, {'sentenceIndex': 23, 'startToken': 26, 'endToken': 27}, {'sentenceIndex': 23, 'startToken': 31, 'endToken': 33}, {'sentenceIndex': 23, 'startToken': 31, 'endToken': 32}, {'sentenceIndex': 23, 'startToken': 34, 'endToken': 35}, {'sentenceIndex': 23, 'startToken': 36, 'endToken': 37}, {'sentenceIndex': 23, 'startToken': 39, 'endToken': 40}, {'sentenceIndex': 24, 'startToken': 2, 'endToken': 3}, {'sentenceIndex': 24, 'startToken': 6, 'endToken': 7}, {'sentenceIndex': 25, 'startToken': 4, 'endToken': 5}, {'sentenceIndex': 25, 'startToken': 9, 'endToken': 10}, {'sentenceIndex': 26, 'startToken': 2, 'endToken': 4}, {'sentenceIndex': 26, 'startToken': 5, 'endToken': 6}, {'sentenceIndex': 26, 'startToken': 7, 'endToken': 9}, {'sentenceIndex': 26, 'startToken': 11, 'endToken': 12}, {'sentenceIndex': 26, 'startToken': 14, 'endToken': 16}, {'sentenceIndex': 26, 'startToken': 18, 'endToken': 20}, {'sentenceIndex': 26, 'startToken': 18, 'endToken': 19}, {'sentenceIndex': 26, 'startToken': 22, 'endToken': 24}, {'sentenceIndex': 26, 'startToken': 25, 'endToken': 26}, {'sentenceIndex': 26, 'startToken': 27, 'endToken': 32}, {'sentenceIndex': 26, 'startToken': 35, 'endToken': 36}, {'sentenceIndex': 26, 'startToken': 35, 'endToken': 37}, {'sentenceIndex': 26, 'startToken': 39, 'endToken': 42}, {'sentenceIndex': 27, 'startToken': 3, 'endToken': 4}, {'sentenceIndex': 28, 'startToken': 2, 'endToken': 3}, {'sentenceIndex': 28, 'startToken': 3, 'endToken': 4}, {'sentenceIndex': 28, 'startToken': 11, 'endToken': 12}, {'sentenceIndex': 28, 'startToken': 13, 'endToken': 16}, {'sentenceIndex': 28, 'startToken': 19, 'endToken': 20}, {'sentenceIndex': 28, 'startToken': 23, 'endToken': 24}, {'sentenceIndex': 28, 'startToken': 26, 'endToken': 28}, {'sentenceIndex': 28, 'startToken': 30, 'endToken': 31}, {'sentenceIndex': 28, 'startToken': 36, 'endToken': 38}, {'sentenceIndex': 28, 'startToken': 39, 'endToken': 40}, {'sentenceIndex': 28, 'startToken': 39, 'endToken': 41}, {'sentenceIndex': 28, 'startToken': 41, 'endToken': 42}, {'sentenceIndex': 29, 'startToken': 5, 'endToken': 6}, {'sentenceIndex': 29, 'startToken': 9, 'endToken': 10}, {'sentenceIndex': 29, 'startToken': 12, 'endToken': 13}, {'sentenceIndex': 29, 'startToken': 18, 'endToken': 19}, {'sentenceIndex': 29, 'startToken': 21, 'endToken': 22}, {'sentenceIndex': 30, 'startToken': 4, 'endToken': 5}, {'sentenceIndex': 30, 'startToken': 6, 'endToken': 7}, {'sentenceIndex': 30, 'startToken': 10, 'endToken': 11}, {'sentenceIndex': 30, 'startToken': 13, 'endToken': 14}, {'sentenceIndex': 30, 'startToken': 15, 'endToken': 18}, {'sentenceIndex': 30, 'startToken': 20, 'endToken': 21}, {'sentenceIndex': 30, 'startToken': 21, 'endToken': 22}, {'sentenceIndex': 30, 'startToken': 25, 'endToken': 27}, {'sentenceIndex': 30, 'startToken': 25, 'endToken': 26}, {'sentenceIndex': 30, 'startToken': 28, 'endToken': 30}, {'sentenceIndex': 30, 'startToken': 31, 'endToken': 35}, {'sentenceIndex': 31, 'startToken': 5, 'endToken': 6}, {'sentenceIndex': 31, 'startToken': 7, 'endToken': 8}, {'sentenceIndex': 31, 'startToken': 13, 'endToken': 14}, {'sentenceIndex': 31, 'startToken': 15, 'endToken': 16}, {'sentenceIndex': 31, 'startToken': 17, 'endToken': 20}, {'sentenceIndex': 31, 'startToken': 21, 'endToken': 23}, {'sentenceIndex': 31, 'startToken': 24, 'endToken': 25}, {'sentenceIndex': 31, 'startToken': 29, 'endToken': 30}, {'sentenceIndex': 31, 'startToken': 32, 'endToken': 33}, {'sentenceIndex': 31, 'startToken': 33, 'endToken': 34}, {'sentenceIndex': 31, 'startToken': 38, 'endToken': 39}, {'sentenceIndex': 31, 'startToken': 40, 'endToken': 41}, {'sentenceIndex': 32, 'startToken': 2, 'endToken': 3}, {'sentenceIndex': 32, 'startToken': 4, 'endToken': 5}, {'sentenceIndex': 32, 'startToken': 9, 'endToken': 10}, {'sentenceIndex': 32, 'startToken': 9, 'endToken': 11}, {'sentenceIndex': 32, 'startToken': 12, 'endToken': 14}, {'sentenceIndex': 33, 'startToken': 4, 'endToken': 5}, {'sentenceIndex': 33, 'startToken': 7, 'endToken': 10}, {'sentenceIndex': 33, 'startToken': 11, 'endToken': 12}, {'sentenceIndex': 34, 'startToken': 2, 'endToken': 3}, {'sentenceIndex': 34, 'startToken': 5, 'endToken': 6}, {'sentenceIndex': 34, 'startToken': 7, 'endToken': 8}, {'sentenceIndex': 35, 'startToken': 2, 'endToken': 3}, {'sentenceIndex': 35, 'startToken': 4, 'endToken': 6}, {'sentenceIndex': 35, 'startToken': 4, 'endToken': 5}, {'sentenceIndex': 35, 'startToken': 7, 'endToken': 8}, {'sentenceIndex': 35, 'startToken': 9, 'endToken': 10}, {'sentenceIndex': 36, 'startToken': 2, 'endToken': 3}, {'sentenceIndex': 36, 'startToken': 6, 'endToken': 7}, {'sentenceIndex': 36, 'startToken': 9, 'endToken': 10}, {'sentenceIndex': 36, 'startToken': 13, 'endToken': 14}, {'sentenceIndex': 36, 'startToken': 16, 'endToken': 17}, {'sentenceIndex': 36, 'startToken': 20, 'endToken': 21}, {'sentenceIndex': 37, 'startToken': 2, 'endToken': 3}, {'sentenceIndex': 37, 'startToken': 4, 'endToken': 5}, {'sentenceIndex': 37, 'startToken': 16, 'endToken': 17}, {'sentenceIndex': 37, 'startToken': 18, 'endToken': 19}, {'sentenceIndex': 38, 'startToken': 2, 'endToken': 3}, {'sentenceIndex': 38, 'startToken': 6, 'endToken': 7}, {'sentenceIndex': 38, 'startToken': 11, 'endToken': 12}, {'sentenceIndex': 38, 'startToken': 13, 'endToken': 14}, {'sentenceIndex': 39, 'startToken': 2, 'endToken': 3}, {'sentenceIndex': 39, 'startToken': 7, 'endToken': 10}, {'sentenceIndex': 39, 'startToken': 11, 'endToken': 12}, {'sentenceIndex': 39, 'startToken': 15, 'endToken': 18}, {'sentenceIndex': 40, 'startToken': 2, 'endToken': 4}, {'sentenceIndex': 40, 'startToken': 7, 'endToken': 8}, {'sentenceIndex': 40, 'startToken': 9, 'endToken': 11}, {'sentenceIndex': 40, 'startToken': 12, 'endToken': 14}, {'sentenceIndex': 40, 'startToken': 14, 'endToken': 16}, {'sentenceIndex': 40, 'startToken': 18, 'endToken': 19}, {'sentenceIndex': 41, 'startToken': 3, 'endToken': 4}, {'sentenceIndex': 41, 'startToken': 6, 'endToken': 8}, {'sentenceIndex': 41, 'startToken': 10, 'endToken': 11}, {'sentenceIndex': 41, 'startToken': 12, 'endToken': 14}, {'sentenceIndex': 42, 'startToken': 4, 'endToken': 5}, {'sentenceIndex': 42, 'startToken': 6, 'endToken': 7}, {'sentenceIndex': 42, 'startToken': 11, 'endToken': 12}, {'sentenceIndex': 42, 'startToken': 16, 'endToken': 17}, {'sentenceIndex': 42, 'startToken': 18, 'endToken': 19}, {'sentenceIndex': 42, 'startToken': 21, 'endToken': 22}, {'sentenceIndex': 42, 'startToken': 23, 'endToken': 24}, {'sentenceIndex': 42, 'startToken': 26, 'endToken': 27}, {'sentenceIndex': 42, 'startToken': 28, 'endToken': 29}, {'sentenceIndex': 43, 'startToken': 4, 'endToken': 5}, {'sentenceIndex': 43, 'startToken': 10, 'endToken': 13}, {'sentenceIndex': 43, 'startToken': 10, 'endToken': 11}, {'sentenceIndex': 44, 'startToken': 2, 'endToken': 3}, {'sentenceIndex': 44, 'startToken': 5, 'endToken': 6}, {'sentenceIndex': 44, 'startToken': 9, 'endToken': 11}, {'sentenceIndex': 46, 'startToken': 6, 'endToken': 7}, {'sentenceIndex': 46, 'startToken': 9, 'endToken': 10}, {'sentenceIndex': 46, 'startToken': 9, 'endToken': 11}, {'sentenceIndex': 46, 'startToken': 14, 'endToken': 17}, {'sentenceIndex': 46, 'startToken': 18, 'endToken': 20}, {'sentenceIndex': 47, 'startToken': 5, 'endToken': 6}, {'sentenceIndex': 47, 'startToken': 8, 'endToken': 9}, {'sentenceIndex': 47, 'startToken': 13, 'endToken': 15}, {'sentenceIndex': 47, 'startToken': 16, 'endToken': 17}, {'sentenceIndex': 47, 'startToken': 19, 'endToken': 20}, {'sentenceIndex': 47, 'startToken': 21, 'endToken': 22}, {'sentenceIndex': 47, 'startToken': 23, 'endToken': 24}, {'sentenceIndex': 47, 'startToken': 25, 'endToken': 26}, {'sentenceIndex': 48, 'startToken': 2, 'endToken': 3}, {'sentenceIndex': 48, 'startToken': 4, 'endToken': 5}, {'sentenceIndex': 48, 'startToken': 4, 'endToken': 6}, {'sentenceIndex': 48, 'startToken': 7, 'endToken': 8}, {'sentenceIndex': 48, 'startToken': 7, 'endToken': 9}, {'sentenceIndex': 49, 'startToken': 2, 'endToken': 3}, {'sentenceIndex': 50, 'startToken': 3, 'endToken': 4}, {'sentenceIndex': 50, 'startToken': 6, 'endToken': 7}, {'sentenceIndex': 50, 'startToken': 8, 'endToken': 10}, {'sentenceIndex': 50, 'startToken': 11, 'endToken': 12}, {'sentenceIndex': 50, 'startToken': 11, 'endToken': 14}, {'sentenceIndex': 50, 'startToken': 15, 'endToken': 16}, {'sentenceIndex': 50, 'startToken': 18, 'endToken': 19}, {'sentenceIndex': 50, 'startToken': 20, 'endToken': 22}, {'sentenceIndex': 50, 'startToken': 22, 'endToken': 23}, {'sentenceIndex': 50, 'startToken': 24, 'endToken': 26}, {'sentenceIndex': 50, 'startToken': 27, 'endToken': 29}, {'sentenceIndex': 50, 'startToken': 27, 'endToken': 28}, {'sentenceIndex': 50, 'startToken': 30, 'endToken': 31}, {'sentenceIndex': 50, 'startToken': 34, 'endToken': 35}, {'sentenceIndex': 50, 'startToken': 41, 'endToken': 42}, {'sentenceIndex': 50, 'startToken': 44, 'endToken': 45}, {'sentenceIndex': 50, 'startToken': 47, 'endToken': 49}, {'sentenceIndex': 50, 'startToken': 54, 'endToken': 56}, {'sentenceIndex': 50, 'startToken': 57, 'endToken': 58}, {'sentenceIndex': 50, 'startToken': 57, 'endToken': 59}, {'sentenceIndex': 50, 'startToken': 60, 'endToken': 62}, {'sentenceIndex': 51, 'startToken': 4, 'endToken': 5}, {'sentenceIndex': 51, 'startToken': 6, 'endToken': 7}, {'sentenceIndex': 51, 'startToken': 8, 'endToken': 9}, {'sentenceIndex': 51, 'startToken': 10, 'endToken': 11}, {'sentenceIndex': 51, 'startToken': 12, 'endToken': 13}, {'sentenceIndex': 51, 'startToken': 14, 'endToken': 17}, {'sentenceIndex': 52, 'startToken': 4, 'endToken': 5}, {'sentenceIndex': 53, 'startToken': 6, 'endToken': 7}, {'sentenceIndex': 53, 'startToken': 9, 'endToken': 12}, {'sentenceIndex': 54, 'startToken': 4, 'endToken': 5}, {'sentenceIndex': 56, 'startToken': 3, 'endToken': 5}, {'sentenceIndex': 56, 'startToken': 8, 'endToken': 9}, {'sentenceIndex': 56, 'startToken': 10, 'endToken': 11}, {'sentenceIndex': 58, 'startToken': 4, 'endToken': 5}, {'sentenceIndex': 58, 'startToken': 10, 'endToken': 12}, {'sentenceIndex': 58, 'startToken': 14, 'endToken': 16}]\n",
      "\n",
      "sentence_offsets\n",
      "[0, 12, 23, 38, 44, 59]\n",
      "\n",
      "querySpans_offsets\n",
      "[0, 7, 23, 43, 55, 66]\n",
      "\n",
      "scene_ids\n",
      "['s07e01c00t', 's07e01c01t', 's07e01c02t', 's07e01c03t', 's07e01c04t']\n",
      "\n"
     ]
    }
   ],
   "source": [
    "sample = output[0]\n",
    "for item in sample:\n",
    "    print(item)\n",
    "    print(sample[item])\n",
    "    print()"
   ],
   "metadata": {
    "collapsed": false,
    "pycharm": {
     "name": "#%%\n"
    }
   }
  },
  {
   "cell_type": "code",
   "execution_count": null,
   "outputs": [],
   "source": [],
   "metadata": {
    "collapsed": false,
    "pycharm": {
     "name": "#%%\n"
    }
   }
  },
  {
   "cell_type": "code",
   "execution_count": null,
   "outputs": [],
   "source": [],
   "metadata": {
    "collapsed": false,
    "pycharm": {
     "name": "#%%\n"
    }
   }
  },
  {
   "cell_type": "code",
   "execution_count": null,
   "outputs": [],
   "source": [],
   "metadata": {
    "collapsed": false,
    "pycharm": {
     "name": "#%%\n"
    }
   }
  },
  {
   "cell_type": "code",
   "execution_count": null,
   "outputs": [],
   "source": [],
   "metadata": {
    "collapsed": false,
    "pycharm": {
     "name": "#%%\n"
    }
   }
  },
  {
   "cell_type": "code",
   "execution_count": null,
   "outputs": [],
   "source": [],
   "metadata": {
    "collapsed": false,
    "pycharm": {
     "name": "#%%\n"
    }
   }
  }
 ],
 "metadata": {
  "kernelspec": {
   "display_name": "Python 3",
   "language": "python",
   "name": "python3"
  },
  "language_info": {
   "codemirror_mode": {
    "name": "ipython",
    "version": 2
   },
   "file_extension": ".py",
   "mimetype": "text/x-python",
   "name": "python",
   "nbconvert_exporter": "python",
   "pygments_lexer": "ipython2",
   "version": "2.7.6"
  }
 },
 "nbformat": 4,
 "nbformat_minor": 0
}
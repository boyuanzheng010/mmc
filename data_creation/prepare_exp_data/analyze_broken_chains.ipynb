{
 "cells": [
  {
   "cell_type": "code",
   "execution_count": 1,
   "metadata": {
    "collapsed": true,
    "pycharm": {
     "name": "#%%\n"
    }
   },
   "outputs": [],
   "source": [
    "import jsonlines\n",
    "import json\n",
    "import pickle as pkl"
   ]
  },
  {
   "cell_type": "code",
   "execution_count": 9,
   "outputs": [],
   "source": [
    "new = []\n",
    "with open('data/experiment_inputs/dialogue_broken_chain_fixed_chinese/dev.chinese.512.jsonlines', 'r') as f:\n",
    "    reader = jsonlines.Reader(f)\n",
    "    for item in reader:\n",
    "        new.append(item)\n",
    "\n",
    "old = []\n",
    "with open('data/experiment_inputs/dialogue_chinese/dev.chinese.512.jsonlines', 'r') as f:\n",
    "    reader = jsonlines.Reader(f)\n",
    "    for item in reader:\n",
    "        old.append(item)"
   ],
   "metadata": {
    "collapsed": false,
    "pycharm": {
     "name": "#%%\n"
    }
   }
  },
  {
   "cell_type": "code",
   "execution_count": null,
   "outputs": [],
   "source": [],
   "metadata": {
    "collapsed": false,
    "pycharm": {
     "name": "#%%\n"
    }
   }
  },
  {
   "cell_type": "code",
   "execution_count": 37,
   "outputs": [
    {
     "name": "stdout",
     "output_type": "stream",
     "text": [
      "s07e01c00t0_0\n",
      "['▁', '现在'] 1 2\n",
      "['▁我'] 123 123\n",
      "['▁你'] 116 116\n",
      "['▁你'] 179 179\n",
      "['▁你'] 82 82\n",
      "['▁', '我要'] 98 99\n",
      "['▁我'] 172 172\n",
      "====================================================================================================\n",
      "s07e01c01t0_1\n",
      "['▁你'] 14 14\n",
      "['▁我'] 9 9\n",
      "['▁你'] 134 134\n",
      "['▁你'] 65 65\n",
      "['▁你'] 29 29\n",
      "['▁我'] 154 154\n",
      "['▁', '挺', '▁', '幼', '稚'] 140 144\n",
      "['▁我', '▁', '还是', '▁', '睡', '▁', '这里', '▁', '吧', '▁你'] 112 121\n",
      "['▁', '亲', '爱'] 58 60\n",
      "====================================================================================================\n",
      "s07e01c02t0_2\n",
      "['▁你'] 406 406\n",
      "['▁你'] 415 415\n",
      "['▁你'] 314 314\n",
      "['▁你'] 369 369\n",
      "['▁我', '▁', '朋友'] 418 420\n",
      "['▁你'] 57 57\n",
      "['▁你'] 452 452\n",
      "['▁我'] 447 447\n",
      "['▁你'] 85 85\n",
      "['▁我'] 287 287\n",
      "['▁你'] 62 62\n",
      "['▁', '天文', '学家'] 88 90\n",
      "['▁', '你们'] 4 5\n",
      "['▁你'] 366 366\n",
      "['▁你'] 439 439\n",
      "['▁我'] 255 255\n",
      "['▁我'] 45 45\n",
      "['▁我'] 413 413\n",
      "['▁你'] 376 376\n",
      "['▁我'] 23 23\n",
      "['▁你'] 225 225\n",
      "['▁我'] 418 418\n",
      "['▁我'] 1 1\n",
      "['▁你'] 92 92\n",
      "['▁你'] 423 423\n",
      "['▁你'] 198 198\n",
      "['▁我'] 37 37\n",
      "['▁我'] 327 327\n",
      "['▁你'] 240 240\n",
      "====================================================================================================\n",
      "s07e01c03t0_3\n",
      "['▁我'] 30 30\n",
      "['▁我', '查'] 74 75\n",
      "['▁我'] 90 90\n",
      "['▁我'] 6 6\n",
      "['▁我'] 122 122\n",
      "['▁我'] 101 101\n",
      "====================================================================================================\n",
      "s07e01c04t0_4\n",
      "['▁我'] 171 171\n",
      "['▁你'] 89 89\n",
      "['▁你'] 57 57\n",
      "['▁你'] 34 34\n",
      "['▁我'] 117 117\n",
      "['▁我'] 30 30\n",
      "['▁我'] 214 214\n",
      "['▁我'] 209 209\n",
      "['▁你'] 72 72\n",
      "['▁你'] 219 219\n",
      "['▁你'] 269 269\n",
      "['▁我'] 261 261\n",
      "['▁你'] 82 82\n",
      "['▁我'] 137 137\n",
      "['▁我'] 280 280\n",
      "['▁你'] 1 1\n",
      "['▁我'] 97 97\n",
      "['▁我'] 106 106\n",
      "['▁我'] 235 235\n",
      "====================================================================================================\n",
      "s07e01c05t0_5\n",
      "['▁Koo', 'thra', 'ppa', 'li', '▁', '博士'] 217 222\n",
      "['▁你'] 312 312\n",
      "['▁', '我会'] 45 46\n",
      "['▁你'] 267 267\n",
      "['▁我'] 61 61\n",
      "['▁Wol', 'o', 'witz', '▁', '先生'] 212 216\n",
      "['▁你'] 49 49\n",
      "['▁', '博士'] 221 222\n",
      "['▁我'] 170 170\n",
      "['▁你'] 26 26\n",
      "['▁我'] 153 153\n",
      "['▁你'] 89 89\n",
      "['▁你'] 3 3\n",
      "['▁我'] 40 40\n",
      "['▁我'] 236 236\n",
      "====================================================================================================\n",
      "s07e01c06t0_6\n",
      "['▁我', '刚'] 1 2\n",
      "['▁我们'] 102 102\n",
      "['▁我'] 164 164\n",
      "['▁我们'] 218 218\n",
      "['▁你'] 204 204\n",
      "['▁我们'] 175 175\n",
      "['▁我们'] 185 185\n",
      "====================================================================================================\n",
      "s07e01c07t0_7\n",
      "['▁我们'] 332 332\n",
      "['▁你'] 341 341\n",
      "['▁Pen', 'ny'] 265 266\n",
      "['▁', '那个', '▁', '混', '蛋'] 403 407\n",
      "['▁我们'] 72 72\n",
      "['▁我', '▁', '的'] 231 233\n",
      "['▁我们'] 58 58\n",
      "['▁我'] 44 44\n",
      "['▁我'] 86 86\n",
      "['▁我们'] 77 77\n",
      "['▁我们'] 398 398\n",
      "['▁我们'] 118 118\n",
      "['▁我'] 8 8\n",
      "['▁你'] 348 348\n",
      "['▁我'] 100 100\n",
      "['▁你'] 408 408\n",
      "['▁我'] 160 160\n",
      "['▁我'] 128 128\n",
      "['▁我', '输'] 33 34\n",
      "['▁我'] 51 51\n",
      "['▁你'] 133 133\n",
      "['▁我'] 143 143\n",
      "['▁你'] 280 280\n",
      "['▁你'] 24 24\n",
      "====================================================================================================\n",
      "s07e01c08t0_8\n",
      "['▁我'] 162 162\n",
      "['▁我'] 89 89\n",
      "['▁你'] 291 291\n",
      "['▁你'] 57 57\n",
      "['▁我'] 278 278\n",
      "['▁你'] 168 168\n",
      "['▁我'] 177 177\n",
      "['▁我'] 163 163\n",
      "['▁你'] 77 77\n",
      "['▁你'] 182 182\n",
      "['▁你'] 256 256\n",
      "['▁我'] 31 31\n",
      "['▁我们'] 22 22\n",
      "['▁你'] 197 197\n",
      "['▁我'] 261 261\n",
      "['▁你'] 188 188\n",
      "['▁我'] 142 142\n",
      "['▁我'] 87 87\n",
      "['▁我'] 207 207\n",
      "['▁我'] 9 9\n",
      "['▁你'] 106 106\n",
      "['▁我'] 253 253\n",
      "['▁我'] 92 92\n",
      "['▁我们'] 221 221\n",
      "['▁我们'] 281 281\n",
      "['▁我'] 111 111\n",
      "====================================================================================================\n",
      "s07e01c09t0_9\n",
      "['▁你'] 84 84\n",
      "['▁我'] 341 341\n",
      "['▁我'] 318 318\n",
      "['▁我'] 254 254\n",
      "['▁我'] 208 208\n",
      "['▁你'] 57 57\n",
      "['▁你'] 310 310\n",
      "['▁我'] 365 365\n",
      "['▁你'] 145 145\n",
      "['▁你'] 269 269\n",
      "['▁我'] 77 77\n",
      "['▁我'] 329 329\n",
      "['▁你'] 32 32\n",
      "['▁你'] 371 371\n",
      "['▁我'] 289 289\n",
      "['▁', '你们'] 116 117\n",
      "['▁你'] 156 156\n",
      "['▁我'] 303 303\n",
      "['▁我'] 5 5\n",
      "['▁你'] 87 87\n",
      "['▁你'] 225 225\n",
      "['▁我', '来'] 80 81\n",
      "['▁我'] 281 281\n",
      "['▁我'] 184 184\n",
      "====================================================================================================\n"
     ]
    }
   ],
   "source": [
    "for i in range(len(new)):\n",
    "    if i>=10:\n",
    "        continue\n",
    "    sample_old = old[i]\n",
    "    sample_new = new[i]\n",
    "    print(sample_new['doc_key'])\n",
    "    sentences = sample_new['sentences'][0]\n",
    "\n",
    "    all_old_mentions = []\n",
    "    for item in sample_old['clusters']:\n",
    "        all_old_mentions.extend(item)\n",
    "    all_new_mentions = []\n",
    "    for item in sample_new['clusters']:\n",
    "        all_new_mentions.extend(item)\n",
    "\n",
    "    diff_set = set([tuple(item) for item in all_new_mentions])-set([tuple(item) for item in all_old_mentions])\n",
    "\n",
    "    # for item in sample_old['clusters']:\n",
    "    #     print(item)\n",
    "    # print()\n",
    "    # for item in sample_new['clusters']:\n",
    "    #     print(item)\n",
    "    for start, end in diff_set:\n",
    "        print(sentences[start: end+1], start, end)\n",
    "    print(\"==\"*50)\n"
   ],
   "metadata": {
    "collapsed": false,
    "pycharm": {
     "name": "#%%\n"
    }
   }
  },
  {
   "cell_type": "code",
   "execution_count": 27,
   "outputs": [
    {
     "name": "stdout",
     "output_type": "stream",
     "text": [
      "['▁', '现在']\n",
      "['▁你']\n"
     ]
    }
   ],
   "source": [
    "print(sentences[1:3])\n",
    "print(sentences[179:180])"
   ],
   "metadata": {
    "collapsed": false,
    "pycharm": {
     "name": "#%%\n"
    }
   }
  },
  {
   "cell_type": "code",
   "execution_count": 30,
   "outputs": [
    {
     "name": "stdout",
     "output_type": "stream",
     "text": [
      "{(1, 2), (123, 123), (116, 116), (179, 179), (82, 82), (98, 99), (172, 172)}\n"
     ]
    }
   ],
   "source": [
    "print(diff_set)"
   ],
   "metadata": {
    "collapsed": false,
    "pycharm": {
     "name": "#%%\n"
    }
   }
  },
  {
   "cell_type": "code",
   "execution_count": 32,
   "outputs": [
    {
     "name": "stdout",
     "output_type": "stream",
     "text": [
      "['▁', '现在'] 1 2\n",
      "['▁我'] 123 123\n",
      "['▁你'] 116 116\n",
      "['▁你'] 179 179\n",
      "['▁你'] 82 82\n",
      "['▁', '我要'] 98 99\n",
      "['▁我'] 172 172\n"
     ]
    }
   ],
   "source": [
    "for start, end in diff_set:\n",
    "    print(sentences[start: end+1], start, end)"
   ],
   "metadata": {
    "collapsed": false,
    "pycharm": {
     "name": "#%%\n"
    }
   }
  },
  {
   "cell_type": "code",
   "execution_count": null,
   "outputs": [],
   "source": [],
   "metadata": {
    "collapsed": false,
    "pycharm": {
     "name": "#%%\n"
    }
   }
  },
  {
   "cell_type": "code",
   "execution_count": null,
   "outputs": [],
   "source": [],
   "metadata": {
    "collapsed": false,
    "pycharm": {
     "name": "#%%\n"
    }
   }
  },
  {
   "cell_type": "code",
   "execution_count": null,
   "outputs": [],
   "source": [],
   "metadata": {
    "collapsed": false,
    "pycharm": {
     "name": "#%%\n"
    }
   }
  },
  {
   "cell_type": "code",
   "execution_count": null,
   "outputs": [],
   "source": [],
   "metadata": {
    "collapsed": false,
    "pycharm": {
     "name": "#%%\n"
    }
   }
  },
  {
   "cell_type": "code",
   "execution_count": null,
   "outputs": [],
   "source": [],
   "metadata": {
    "collapsed": false,
    "pycharm": {
     "name": "#%%\n"
    }
   }
  },
  {
   "cell_type": "code",
   "execution_count": null,
   "outputs": [],
   "source": [],
   "metadata": {
    "collapsed": false,
    "pycharm": {
     "name": "#%%\n"
    }
   }
  },
  {
   "cell_type": "code",
   "execution_count": null,
   "outputs": [],
   "source": [],
   "metadata": {
    "collapsed": false,
    "pycharm": {
     "name": "#%%\n"
    }
   }
  }
 ],
 "metadata": {
  "kernelspec": {
   "display_name": "Python 3",
   "language": "python",
   "name": "python3"
  },
  "language_info": {
   "codemirror_mode": {
    "name": "ipython",
    "version": 2
   },
   "file_extension": ".py",
   "mimetype": "text/x-python",
   "name": "python",
   "nbconvert_exporter": "python",
   "pygments_lexer": "ipython2",
   "version": "2.7.6"
  }
 },
 "nbformat": 4,
 "nbformat_minor": 0
}
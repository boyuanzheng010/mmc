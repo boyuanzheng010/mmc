{
 "cells": [
  {
   "cell_type": "code",
   "execution_count": null,
   "metadata": {
    "collapsed": true,
    "pycharm": {
     "name": "#%%\n"
    }
   },
   "outputs": [],
   "source": []
  },
  {
   "cell_type": "code",
   "execution_count": null,
   "outputs": [],
   "source": [],
   "metadata": {
    "collapsed": false,
    "pycharm": {
     "name": "#%%\n"
    }
   }
  },
  {
   "cell_type": "code",
   "execution_count": null,
   "outputs": [],
   "source": [],
   "metadata": {
    "collapsed": false,
    "pycharm": {
     "name": "#%%\n"
    }
   }
  },
  {
   "cell_type": "code",
   "execution_count": 1,
   "outputs": [],
   "source": [
    "import pickle as pkl\n",
    "from copy import deepcopy\n",
    "import jsonlines\n",
    "from utils.my_util import cluster_mentions, remove_speaker_prefix\n",
    "import json"
   ],
   "metadata": {
    "collapsed": false,
    "pycharm": {
     "name": "#%%\n"
    }
   }
  },
  {
   "cell_type": "code",
   "execution_count": 2,
   "outputs": [],
   "source": [
    "speaker_dict = {}\n",
    "with open('data/raw_source/dialogue_en/all_coref_data_en_finalized.json', 'r') as f:\n",
    "    temp = json.load(f)\n",
    "    for line in temp:\n",
    "        scene_id = line['scene_id']\n",
    "        speakers = []\n",
    "        for sent in line['sentences']:\n",
    "            speakers.append(\" \".join(sent[:sent.index(\":\")]))\n",
    "        speaker_dict[scene_id] = speakers\n",
    "\n",
    "split_dict = {\"train\":[], \"dev\":[], \"test\":[]}\n",
    "with open('data/raw_source/dialogue_zh/dev_temp.pkl', 'rb') as f:\n",
    "    temp = pkl.load(f)\n",
    "    for line in temp:\n",
    "        split_dict['dev'].append(line['scene_id'])\n",
    "with open('data/raw_source/dialogue_zh/test_temp.pkl', 'rb') as f:\n",
    "    temp = pkl.load(f)\n",
    "    for line in temp:\n",
    "        split_dict['test'].append(line['scene_id'])\n",
    "with open('data/raw_source/dialogue_zh/train_temp.pkl', 'rb') as f:\n",
    "    temp = pkl.load(f)\n",
    "    for line in temp:\n",
    "        split_dict['train'].append(line['scene_id'][:-1])"
   ],
   "metadata": {
    "collapsed": false,
    "pycharm": {
     "name": "#%%\n"
    }
   }
  },
  {
   "cell_type": "code",
   "execution_count": null,
   "outputs": [],
   "source": [],
   "metadata": {
    "collapsed": false,
    "pycharm": {
     "name": "#%%\n"
    }
   }
  },
  {
   "cell_type": "code",
   "execution_count": 3,
   "outputs": [
    {
     "name": "stdout",
     "output_type": "stream",
     "text": [
      "{'train': ['s01e01c00t', 's01e01c01t', 's01e01c03t', 's01e01c04t', 's01e01c05t', 's01e01c06t', 's01e01c07t', 's01e01c08t', 's01e01c09t', 's01e01c10t', 's01e03c00t', 's01e10c04t', 's01e03c01t', 's01e03c02t', 's01e03c03t', 's01e03c04t', 's01e03c05t', 's01e03c06t', 's01e03c07t', 's01e03c08t', 's01e03c09t', 's01e04c00t', 's01e04c01t', 's01e04c02t', 's01e04c03t', 's01e04c04t', 's01e04c05t', 's01e04c06t', 's01e04c07t', 's01e04c08t', 's01e04c09t', 's01e04c10t', 's01e04c11t', 's01e04c12t', 's01e05c00t', 's01e05c01t', 's01e05c02t', 's01e05c03t', 's01e05c04t', 's01e05c05t', 's01e05c06t', 's01e05c07t', 's01e07c01t', 's01e07c02t', 's01e07c03t', 's01e07c04t', 's01e07c05t', 's01e09c00t', 's01e09c01t', 's01e09c02t', 's01e09c03t', 's01e09c04t', 's01e09c05t', 's01e09c06t', 's01e07c00t', 's01e09c07t', 's01e10c00t', 's01e10c01t', 's01e10c02t', 's01e10c03t', 's01e10c05t', 's01e10c07t', 's01e11c00t', 's01e11c01t', 's01e11c02t', 's01e11c03t', 's01e11c04t', 's01e11c05t', 's01e11c06t', 's01e11c07t', 's01e11c08t', 's04e19c03t', 's04e19c04t', 's01e13c00t', 's01e13c01t', 's01e13c02t', 's01e13c03t', 's01e13c05t', 's01e14c00t', 's01e14c01t', 's01e14c02t', 's01e14c03t', 's01e14c04t', 's01e14c07t', 's01e15c00t', 's01e15c01t', 's01e15c02t', 's01e15c03t', 's01e15c04t', 's01e15c05t', 's01e15c06t', 's01e15c07t', 's01e15c08t', 's01e16c00t', 's01e16c02t', 's01e16c03t', 's01e16c04t', 's01e16c07t', 's01e16c08t', 's01e16c09t', 's02e04c00t', 's02e04c01t', 's02e04c03t', 's02e04c04t', 's02e04c05t', 's02e06c00t', 's02e06c01t', 's02e06c02t', 's02e06c03t', 's02e06c04t', 's02e06c05t', 's02e06c06t', 's02e06c07t', 's02e06c08t', 's02e06c09t', 's02e06c10t', 's01e03c08f', 's01e03c09f', 's01e03c10f', 's03e21c00t', 's03e21c01t', 's03e21c02t', 's03e21c03t', 's03e21c04t', 's03e21c05t', 's03e21c06t', 's03e21c07t', 's03e21c08t', 's03e23c00t', 's03e23c01t', 's01e18c04f', 's01e18c05f', 's03e23c02t', 's03e23c03t', 's03e23c04t', 's03e23c05t', 's03e23c06t', 's03e23c07t', 's03e23c08t', 's03e23c09t', 's03e23c10t', 's04e01c00t', 's04e01c01t', 's04e01c02t', 's04e01c03t', 's04e01c04t', 's04e01c05t', 's04e01c06t', 's04e01c07t', 's04e01c08t', 's04e01c09t', 's04e03c00t', 's04e03c01t', 's04e03c02t', 's04e03c03t', 's04e03c04t', 's04e03c05t', 's04e03c06t', 's04e03c07t', 's04e03c08t', 's04e03c09t', 's04e04c00t', 's04e04c01t', 's04e04c02t', 's04e04c03t', 's04e04c04t', 's04e04c05t', 's04e04c06t', 's04e04c07t', 's04e05c00t', 's04e05c01t', 's04e22c03t', 's04e22c04t', 's04e05c03t', 's04e05c04t', 's04e05c05t', 's04e05c06t', 's04e05c07t', 's04e05c08t', 's04e05c09t', 's04e05c10t', 's04e06c00t', 's04e06c01t', 's04e06c02t', 's04e06c03t', 's04e06c04t', 's01e13c04t', 's04e06c05t', 's04e06c06t', 's04e06c07t', 's04e08c01t', 's04e08c02t', 's04e08c03t', 's04e08c04t', 's04e08c05t', 's04e08c06t', 's04e08c07t', 's04e08c08t', 's04e08c09t', 's04e08c10t', 's04e08c11t', 's04e19c00t', 's04e19c01t', 's04e19c02t', 's04e19c05t', 's04e19c06t', 's04e19c07t', 's04e19c08t', 's04e19c09t', 's04e19c10t', 's04e19c11t', 's04e19c12t', 's04e21c00t', 's04e21c01t', 's04e21c02t', 's04e21c03t', 's04e21c04t', 's04e21c05t', 's04e21c06t', 's04e21c07t', 's04e21c08t', 's04e21c09t', 's04e21c10t', 's04e22c01t', 's04e22c02t', 's04e22c05t', 's04e22c06t', 's04e22c07t', 's04e22c08t', 's04e22c09t', 's04e23c00t', 's04e23c01t', 's04e23c02t', 's04e23c03t', 's04e23c04t', 's04e23c06t', 's04e23c07t', 's04e23c08t', 's04e23c09t', 's04e24c00t', 's04e24c01t', 's04e24c02t', 's04e24c03t', 's04e24c04t', 's04e24c05t', 's04e24c06t', 's04e24c07t', 's04e24c08t', 's04e24c09t', 's04e24c10t', 's05e02c00t', 's05e02c01t', 's05e02c02t', 's05e02c03t', 's05e02c04t', 's05e02c05t', 's05e02c06t', 's05e02c07t', 's05e02c08t', 's05e06c00t', 's05e06c01t', 's05e06c02t', 's05e06c03t', 's05e06c04t', 's05e06c05t', 's05e06c06t', 's05e06c07t', 's05e06c08t', 's05e06c09t', 's05e12c00t', 's05e12c01t', 's05e12c02t', 's05e12c03t', 's05e12c04t', 's05e12c05t', 's05e12c06t', 's08e18c10t', 's05e12c07t', 's05e12c08t', 's05e14c00t', 's05e14c01t', 's05e14c02t', 's05e14c03t', 's05e14c04t', 's05e14c05t', 's05e14c06t', 's05e14c07t', 's05e14c08t', 's05e15c01t', 's05e15c02t', 's05e15c03t', 's05e15c04t', 's05e15c05t', 's05e15c06t', 's05e15c07t', 's05e20c00t', 's05e20c01t', 's05e20c02t', 's05e20c03t', 's05e20c04t', 's05e20c05t', 's05e20c06t', 's05e20c08t', 's05e23c00t', 's05e23c01t', 's05e23c02t', 's05e23c03t', 's05e23c04t', 's05e23c05t', 's05e23c06t', 's05e23c07t', 's06e02c00t', 's06e02c01t', 's06e02c02t', 's06e02c03t', 's06e02c04t', 's06e02c05t', 's06e02c06t', 's06e02c07t', 's06e02c08t', 's06e02c09t', 's06e02c10t', 's06e03c00t', 's06e03c01t', 's06e03c02t', 's06e03c03t', 's06e03c04t', 's06e03c05t', 's06e03c06t', 's06e03c07t', 's06e03c08t', 's06e03c09t', 's06e03c10t', 's06e04c00t', 's06e04c01t', 's06e04c02t', 's06e04c03t', 's06e04c04t', 's06e04c05t', 's06e04c06t', 's06e04c07t', 's06e04c08t', 's06e04c09t', 's06e05c00t', 's06e05c01t', 's06e05c02t', 's06e05c03t', 's06e05c04t', 's06e05c05t', 's06e05c06t', 's06e05c07t', 's06e05c08t', 's06e05c09t', 's06e05c10t', 's06e06c00t', 's06e06c01t', 's06e06c02t', 's06e06c03t', 's06e06c06t', 's05e20c07t', 's06e06c07t', 's06e06c08t', 's06e06c09t', 's08e01c03t', 's08e01c04t', 's08e01c05t', 's08e01c06t', 's08e01c07t', 's08e01c08t', 's06e20c13t', 's06e20c14t', 's06e20c15t', 's08e02c11t', 's08e03c00t', 's08e03c01t', 's08e03c02t', 's06e16c11t', 's06e17c00t', 's06e17c01t', 's06e07c08t', 's06e08c00t', 's06e08c01t', 's08e01c00t', 's08e01c01t', 's08e01c02t', 's07e23c04t', 's07e23c05t', 's07e23c06t', 's07e23c07t', 's06e21c06t', 's06e21c07t', 's06e21c08t', 's06e21c09t', 's06e08c02t', 's06e08c03t', 's06e08c04t', 's06e14c03t', 's06e14c04t', 's06e14c05t', 's06e14c06t', 's08e15c09t', 's08e16c00t', 's07e20c01t', 's07e20c02t', 's07e20c03t', 's08e12c05t', 's08e12c06t', 's08e12c07t', 's06e15c06t', 's06e15c07t', 's06e15c08t', 's08e03c07t', 's08e03c08t', 's08e03c09t', 's08e03c10t', 's08e09c03t', 's08e09c04t', 's08e09c05t', 's08e15c04t', 's08e15c05t', 's06e21c10t', 's06e21c11t', 's06e21c12t', 's07e19c00t', 's06e15c03t', 's06e15c04t', 's06e15c05t', 's08e02c02t', 's08e02c03t', 's08e02c04t', 's06e09c06t', 's06e09c07t', 's01e16c01t', 's06e16c09t', 's06e16c10t', 's08e03c03t', 's08e03c04t', 's08e03c05t', 's08e03c06t', 's06e17c02t', 's06e17c03t', 's06e17c04t', 's06e17c05t', 's06e14c07t', 's06e14c08t', 's06e14c09t', 's06e14c10t', 's07e22c02t', 's07e22c03t', 's07e22c04t', 's07e22c05t', 's07e20c04t', 's07e20c05t', 's05e14c09t', 's05e15c00t', 's07e19c08t', 's07e19c09t', 's07e19c10t', 's07e19c11t', 's08e02c05t', 's08e02c06t', 's08e02c07t', 's06e14c00t', 's06e14c01t', 's06e14c02t', 's06e14c11t', 's06e14c12t', 's06e15c00t', 's06e21c00t', 's06e21c01t', 's06e21c02t', 's07e23c11t', 's07e23c12t', 's07e20c06t', 's07e20c07t', 's07e20c08t', 's07e23c00t', 's07e23c01t', 's07e23c02t', 's07e23c03t', 's08e06c05t', 's08e06c06t', 's08e06c07t', 's08e06c08t', 's06e07c03t', 's06e07c04t', 's06e07c05t', 's08e15c02t', 's08e15c03t', 's06e19c10t', 's07e20c09t', 's07e20c10t', 's07e20c11t', 's07e20c12t', 's07e20c13t', 's07e22c00t', 's07e22c01t', 's06e09c03t', 's06e09c04t', 's06e09c05t', 's06e20c00t', 's06e20c01t', 's06e20c02t', 's06e20c03t', 's06e20c04t', 's06e20c05t', 's06e20c06t', 's06e20c07t', 's06e08c05t', 's06e08c06t', 's06e08c07t', 's07e22c10t', 's07e22c11t', 's07e22c12t', 's07e22c13t', 's07e23c08t', 's07e23c09t', 's07e23c10t', 's08e11c11t', 's08e11c12t', 's08e11c13t', 's01e22c10f', 's01e22c11f', 's01e24c00f', 's08e09c00t', 's08e09c01t', 's08e09c02t', 's08e11c06t', 's08e11c07t', 's08e11c08t', 's08e11c09t', 's08e11c10t', 's06e07c01t', 's06e07c02t', 's08e06c01t', 's08e06c02t', 's06e19c02t', 's06e19c03t', 's06e19c04t', 's06e19c05t', 's06e16c06t', 's06e16c07t', 's06e16c08t', 's06e16c02t', 's06e16c03t', 's06e16c04t', 's06e16c05t', 's08e12c08t', 's08e12c09t', 's06e15c09t', 's06e15c10t', 's06e16c00t', 's06e16c01t', 's06e07c06t', 's06e07c07t', 's08e01c12t', 's08e01c13t', 's06e19c06t', 's06e19c07t', 's06e19c08t', 's06e19c09t', 's07e19c12t', 's07e19c13t', 's07e20c00t', 's06e15c01t', 's06e15c02t', 's08e01c14t', 's08e02c00t', 's08e02c01t', 's08e09c09t', 's08e09c10t', 's08e06c09t', 's08e06c10t', 's08e06c11t', 's08e06c12t', 's06e09c00t', 's06e09c01t', 's06e09c02t', 's08e09c06t', 's08e09c07t', 's08e09c08t', 's08e06c03t', 's08e06c04t', 's06e08c08t', 's06e08c09t', 's06e08c10t', 's06e17c11t', 's06e19c00t', 's06e19c01t', 's06e20c08t', 's06e20c09t', 's06e20c10t', 's06e20c11t', 's06e20c12t', 's07e19c01t', 's07e19c02t', 's07e19c03t', 's08e12c10t', 's08e15c00t', 's08e15c01t', 's07e22c06t', 's07e22c07t', 's07e22c08t', 's07e22c09t', 's07e19c04t', 's07e19c05t', 's07e19c06t', 's07e19c07t', 's08e11c03t', 's08e11c04t', 's08e11c05t', 's08e12c02t', 's08e12c03t', 's08e12c04t', 's08e02c08t', 's08e02c09t', 's08e02c10t', 's08e01c09t', 's08e01c10t', 's08e01c11t', 's06e09c08t', 's06e09c09t', 's06e09c10t', 's06e06c10t', 's06e07c00t', 's08e09c11t', 's08e09c12t', 's08e11c00t', 's08e12c00t', 's08e12c01t', 's08e03c11t', 's08e06c00t', 's06e21c03t', 's06e21c04t', 's06e21c05t', 's06e17c06t', 's06e17c07t', 's06e17c08t', 's06e17c09t', 's06e17c10t', 's08e15c06t', 's08e15c07t', 's08e15c08t', 's08e16c01t', 's08e16c02t', 's08e16c03t', 's08e16c04t', 's08e16c05t', 's08e16c06t', 's08e16c07t', 's08e16c08t', 's08e16c09t', 's08e16c10t', 's08e16c11t', 's08e16c12t', 's08e16c13t', 's08e16c14t', 's08e16c15t', 's08e17c00t', 's08e17c01t', 's08e17c02t', 's08e17c03t', 's08e17c04t', 's08e17c05t', 's08e17c06t', 's08e17c07t', 's08e17c08t', 's08e17c09t', 's08e17c10t', 's08e17c11t', 's08e17c12t', 's08e18c00t', 's08e18c01t', 's01e16c05t', 's01e16c06t', 's08e18c02t', 's08e18c03t', 's08e18c04t', 's08e18c05t', 's08e18c06t', 's08e18c07t', 's08e18c08t', 's08e18c09t', 's08e18c11t', 's08e19c00t', 's08e19c01t', 's08e19c02t', 's08e19c03t', 's08e19c04t', 's08e19c05t', 's08e19c06t', 's08e19c07t', 's08e19c08t', 's08e19c09t', 's08e19c10t', 's08e19c11t', 's08e20c00t', 's08e20c01t', 's08e20c02t', 's08e20c03t', 's08e20c04t', 's08e20c05t', 's08e20c06t', 's08e20c07t', 's08e20c08t', 's08e20c09t', 's08e20c10t', 's08e20c11t', 's08e20c12t', 's08e20c13t', 's04e05c02t', 's08e21c00t', 's08e21c01t', 's08e21c02t', 's08e21c03t', 's08e21c04t', 's08e21c05t', 's08e21c06t', 's08e21c07t', 's08e21c08t', 's08e21c09t', 's08e21c10t', 's08e21c11t', 's08e22c00t', 's08e22c01t', 's08e22c02t', 's08e22c03t', 's08e22c04t', 's08e22c05t', 's01e07c02f', 's01e07c03f', 's01e07c04f', 's01e07c05f', 's01e07c06f', 's08e22c06t', 's08e22c07t', 's08e22c08t', 's08e22c09t', 's08e22c10t', 's08e22c11t', 's08e22c12t', 's08e23c00t', 's08e23c01t', 's08e23c02t', 's08e23c03t', 's08e23c06t', 's08e23c07t', 's08e23c08t', 's08e23c09t', 's08e23c10t', 's08e23c11t', 's08e24c00t', 's08e24c01t', 's08e24c02t', 's08e24c03t', 's08e24c04t', 's08e24c05t', 's08e24c06t', 's08e24c07t', 's08e24c08t', 's08e24c09t', 's08e24c10t', 's08e24c11t', 's08e24c12t', 's08e24c13t', 's08e24c14t', 's08e24c15t', 's08e24c16t', 's01e03c00f', 's01e03c01f', 's01e03c02f', 's01e03c03f', 's01e03c04f', 's01e03c05f', 's01e03c06f', 's01e03c07f', 's01e03c11f', 's01e03c12f', 's01e04c00f', 's01e04c01f', 's01e04c02f', 's01e04c03f', 's01e04c04f', 's01e04c05f', 's01e04c06f', 's01e04c07f', 's01e04c08f', 's01e04c09f', 's01e04c10f', 's01e04c11f', 's01e04c12f', 's01e04c13f', 's01e04c14f', 's01e06c00f', 's01e06c01f', 's01e06c02f', 's02e04c02t', 's01e06c03f', 's01e06c04f', 's01e06c05f', 's01e06c06f', 's01e06c07f', 's01e07c00f', 's01e07c01f', 's01e07c07f', 's01e07c08f', 's01e07c09f', 's01e07c10f', 's01e07c11f', 's01e07c12f', 's01e07c13f', 's01e07c14f', 's01e07c15f', 's01e07c16f', 's01e07c17f', 's01e07c18f', 's01e07c19f', 's01e08c00f', 's01e08c01f', 's01e08c02f', 's01e08c03f', 's01e08c04f', 's01e08c05f', 's01e08c06f', 's01e08c07f', 's01e08c08f', 's01e08c09f', 's01e08c10f', 's01e08c11f', 's01e09c00f', 's01e09c01f', 's01e09c02f', 's01e09c03f', 's01e09c04f', 's01e09c05f', 's01e09c06f', 's01e09c07f', 's01e09c08f', 's01e09c09f', 's01e09c10f', 's01e09c11f', 's01e10c00f', 's01e10c01f', 's06e06c04t', 's06e06c05t', 's01e10c02f', 's01e10c03f', 's04e23c05t', 's01e10c04f', 's01e10c05f', 's08e23c04t', 's08e23c05t', 's01e12c00f', 's01e12c01f', 's01e12c02f', 's01e12c03f', 's01e12c04f', 's01e12c05f', 's01e12c06f', 's01e12c07f', 's01e12c08f', 's01e12c09f', 's01e12c10f', 's01e12c11f', 's01e12c12f', 's01e12c13f', 's01e15c00f', 's01e15c01f', 's01e15c02f', 's01e15c03f', 's01e15c04f', 's01e15c05f', 's01e15c06f', 's01e15c07f', 's01e15c08f', 's01e15c09f', 's01e15c10f', 's01e15c11f', 's01e15c12f', 's01e16c00f', 's01e16c01f', 's01e16c02f', 's01e16c03f', 's01e16c04f', 's01e16c05f', 's01e16c06f', 's01e16c07f', 's01e16c08f', 's01e16c09f', 's01e16c10f', 's01e16c11f', 's01e16c12f', 's01e16c13f', 's01e16c14f', 's01e17c00f', 's04e08c00t', 's01e17c01f', 's01e17c02f', 's01e17c03f', 's01e17c04f', 's01e17c05f', 's01e17c06f', 's01e17c07f', 's01e17c08f', 's01e17c09f', 's01e17c10f', 's01e17c11f', 's01e17c12f', 's01e18c00f', 's01e18c01f', 's01e18c02f', 's01e18c03f', 's01e19c00f', 's01e19c01f', 's01e19c02f', 's01e19c03f', 's01e19c04f', 's01e19c05f', 's01e19c06f', 's01e19c07f', 's01e20c00f', 's04e22c00t', 's01e20c01f', 's01e20c02f', 's01e20c03f', 's01e20c04f', 's01e20c05f', 's01e20c06f', 's01e20c07f', 's01e20c08f', 's01e10c06t', 's01e20c09f', 's01e20c10f', 's01e22c00f', 's01e22c01f', 's01e22c02f', 's01e22c03f', 's01e22c04f', 's08e11c01t', 's08e11c02t', 's01e22c05f', 's01e22c06f', 's01e14c05t', 's01e14c06t', 's01e22c07f', 's01e22c08f', 's01e22c09f', 's01e24c01f', 's01e24c02f', 's01e24c03f', 's01e24c04f', 's01e24c05f', 's01e24c06f', 's01e24c07f', 's01e24c08f', 's01e24c09f'], 'dev': ['s07e01c00t', 's07e01c01t', 's07e01c02t', 's07e01c03t', 's07e01c04t', 's07e01c05t', 's07e01c06t', 's07e01c07t', 's07e01c08t', 's07e01c09t', 's07e01c10t', 's07e01c11t', 's07e01c12t', 's07e01c13t', 's07e02c00t', 's07e02c01t', 's07e02c02t', 's07e02c03t', 's07e02c04t', 's07e02c05t', 's07e02c06t', 's07e02c07t', 's07e02c08t', 's07e02c09t', 's07e02c10t', 's07e06c00t', 's07e06c01t', 's07e06c02t', 's07e06c03t', 's07e06c04t', 's07e06c05t', 's07e06c06t', 's07e06c07t', 's07e06c08t', 's06e09c03fe', 's06e09c04fe', 's06e09c05fe', 's07e06c09t', 's07e06c10t', 's07e10c00t', 's07e10c01t', 's07e10c02t', 's07e10c03t', 's07e10c04t', 's07e10c05t', 's07e10c06t', 's07e10c07t', 's07e10c08t', 's07e10c09t', 's07e15c00t', 's07e15c01t', 's07e15c02t', 's07e15c03t', 's07e15c04t', 's07e15c05t', 's07e15c06t', 's07e15c07t', 's07e15c08t', 's07e15c09t', 's07e15c10t', 's07e15c11t', 's07e15c12t', 's07e15c13t', 's07e16c00t', 's07e16c01t', 's07e17c07t', 's07e17c08t', 's07e17c09t', 's07e17c10t', 's07e17c11t', 's07e17c12t', 's07e18c00t', 's07e18c01t', 's07e18c02t', 's07e18c03t', 's07e18c04t', 's07e18c05t', 's07e18c06t', 's07e18c07t', 's07e18c08t', 's07e18c09t', 's07e18c10t', 's01e01c00f', 's01e01c01f', 's01e01c02f', 's01e01c03f', 's01e01c04f', 's01e01c05f', 's01e01c06f', 's01e01c07f', 's01e01c08f', 's01e01c09f', 's01e01c10f', 's01e01c11f', 's07e18c11t', 's01e01c12f', 's01e01c13f', 's01e02c00f', 's01e02c01f', 's01e02c02f', 's01e02c03f', 's01e02c04f', 's01e02c05f', 's01e02c06f', 's01e02c07f', 's01e02c08f', 's01e02c09f', 's07e11c00t', 's07e11c01t', 's09e01c00t', 's09e01c01t', 's09e01c02t', 's09e01c03t', 's09e01c04t', 's09e01c05t', 's09e01c06t', 's09e01c07t', 's09e01c08t', 's09e01c09t', 's09e01c10t', 's09e01c11t', 's09e01c12t', 's09e01c13t', 's09e03c00t', 's09e03c01t', 's09e03c02t', 's09e03c03t', 's09e03c04t', 's09e03c05t', 's09e03c06t', 's09e03c07t', 's09e03c08t', 's09e12c07t', 's09e12c08t'], 'test': ['s09e03c09t', 's09e03c10t', 's09e03c11t', 's09e03c12t', 's09e03c13t', 's09e04c00t', 's09e04c01t', 's09e04c02t', 's09e04c03t', 's09e04c04t', 's09e04c05t', 's09e04c06t', 's09e04c07t', 's09e04c08t', 's09e04c09t', 's09e04c10t', 's09e04c11t', 's09e04c12t', 's09e07c00t', 's09e07c01t', 's09e07c02t', 's09e07c03t', 's09e07c04t', 's09e07c05t', 's09e07c06t', 's09e07c07t', 's09e07c08t', 's09e07c09t', 's09e07c10t', 's09e09c00t', 's09e09c01t', 's09e09c02t', 's09e09c03t', 's09e09c04t', 's09e09c05t', 's09e09c06t', 's09e09c07t', 's09e09c08t', 's09e09c09t', 's09e09c10t', 's09e09c11t', 's09e09c12t', 's09e09c13t', 's09e10c00t', 's09e10c01t', 's09e10c02t', 's09e10c03t', 's09e10c04t', 's09e10c05t', 's09e10c06t', 's09e10c07t', 's09e10c08t', 's09e10c09t', 's09e10c10t', 's09e10c11t', 's09e10c12t', 's09e10c13t', 's09e10c14t', 's09e11c00t', 's09e11c01t', 's09e11c02t', 's09e11c03t', 's09e11c04t', 's09e11c05t', 's09e11c06t', 's09e11c07t', 's09e11c08t', 's09e11c09t', 's09e11c10t', 's09e11c11t', 's01e14c14f', 's01e14c15f', 's09e11c12t', 's09e11c13t', 's09e11c14t', 's09e11c15t', 's09e11c16t', 's09e11c17t', 's09e12c00t', 's09e12c01t', 's09e12c02t', 's09e12c03t', 's09e12c04t', 's09e12c05t', 's09e12c06t', 's09e12c09t', 's09e12c10t', 's09e12c11t', 's09e12c12t', 's09e12c13t', 's09e12c14t', 's09e12c15t', 's09e16c00t', 's09e16c01t', 's09e16c02t', 's09e16c03t', 's09e16c04t', 's09e16c05t', 's09e16c06t', 's09e16c07t', 's09e16c08t', 's09e16c09t', 's09e16c10t', 's09e16c11t', 's09e16c12t', 's09e16c13t', 's09e16c14t', 's09e16c15t', 's01e13c00f', 's01e13c01f', 's01e13c02f', 's01e13c03f', 's01e13c04f', 's01e13c05f', 's01e13c06f', 's01e13c07f', 's01e13c08f', 's01e13c09f', 's01e13c10f', 's01e13c11f', 's01e14c00f', 's01e14c01f', 's01e14c02f', 's01e14c03f', 's01e14c04f', 's01e14c05f', 's01e14c06f', 's01e14c07f', 's01e14c08f', 's01e14c09f', 's01e14c10f', 's01e14c11f', 's01e14c12f', 's01e14c13f']}\n"
     ]
    }
   ],
   "source": [
    "print(split_dict)"
   ],
   "metadata": {
    "collapsed": false,
    "pycharm": {
     "name": "#%%\n"
    }
   }
  },
  {
   "cell_type": "code",
   "execution_count": 4,
   "outputs": [
    {
     "name": "stdout",
     "output_type": "stream",
     "text": [
      "1224\n"
     ]
    }
   ],
   "source": [
    "print(len(split_dict['train'])+len(split_dict['dev'])+len(split_dict['test']))"
   ],
   "metadata": {
    "collapsed": false,
    "pycharm": {
     "name": "#%%\n"
    }
   }
  },
  {
   "cell_type": "code",
   "execution_count": null,
   "outputs": [],
   "source": [],
   "metadata": {
    "collapsed": false,
    "pycharm": {
     "name": "#%%\n"
    }
   }
  },
  {
   "cell_type": "code",
   "execution_count": 6,
   "outputs": [
    {
     "name": "stdout",
     "output_type": "stream",
     "text": [
      "1222\n",
      "22964\n"
     ]
    }
   ],
   "source": [
    "print(955+134+133)\n",
    "print(18477+2578+1909)"
   ],
   "metadata": {
    "collapsed": false,
    "pycharm": {
     "name": "#%%\n"
    }
   }
  },
  {
   "cell_type": "code",
   "execution_count": null,
   "outputs": [],
   "source": [],
   "metadata": {
    "collapsed": false,
    "pycharm": {
     "name": "#%%\n"
    }
   }
  },
  {
   "cell_type": "code",
   "execution_count": 10,
   "outputs": [],
   "source": [
    "data = {}\n",
    "all_ids = []\n",
    "with open('data/raw_source/dialogue_en/all_coref_data_en_finalized.json', 'r') as f:\n",
    "# with open('data/raw_source/dialogue_zh/dev-test-batch1_zh.json', 'r') as f:\n",
    "    reader = jsonlines.Reader(f)\n",
    "    for bulk in reader:\n",
    "        for idx, instance in enumerate(bulk):\n",
    "            # if idx>=5:\n",
    "            #     break\n",
    "\n",
    "            scene_id = instance['scene_id']\n",
    "            if scene_id == \"\":\n",
    "                continue\n",
    "            sentences = instance['sentences']\n",
    "\n",
    "            # for sent in sentences:\n",
    "            #     print(sent.index(\":\"), sent)\n",
    "            # print(sentences)\n",
    "            # sentences = [[token for token in \"\".join(sent)] for sent in instance['sentences']]\n",
    "            annotations = instance['annotations']\n",
    "            all_ids.append(scene_id)\n",
    "            speakers = speaker_dict[scene_id]\n",
    "            answers = []\n",
    "            for item in annotations:\n",
    "                query = (item['query']['sentenceIndex'], item['query']['startToken']-1-sentences[item['query']['sentenceIndex']].index(\":\"), item['query']['endToken']-1-sentences[item['query']['sentenceIndex']].index(\":\"))\n",
    "                antecedents = item['antecedents']\n",
    "                if antecedents in [['n', 'o', 't', 'P', 'r', 'e', 's', 'e', 'n', 't'], ['null_projection'], ['empty_subtitle']]:\n",
    "                    answers.append([query, \"notPresent\"])\n",
    "                else:\n",
    "                    temp_answer = []\n",
    "                    for antecedent in antecedents:\n",
    "                        if isinstance(antecedent, dict):\n",
    "                            temp_answer.append((antecedent['sentenceIndex'], antecedent['startToken']-1-sentences[antecedent['sentenceIndex']].index(\":\"), antecedent['endToken']-1-sentences[antecedent['sentenceIndex']].index(\":\")))\n",
    "                        else:\n",
    "                            temp_answer = \" \".join(antecedents)\n",
    "                    answers.append([query, temp_answer])\n",
    "            new_sentences = []\n",
    "            for sent in sentences:\n",
    "                new_sentences.append(sent[sent.index(\":\")+1:])\n",
    "\n",
    "            data[scene_id] = {\n",
    "                \"sentences\": new_sentences,\n",
    "                \"answers\": answers,\n",
    "                \"speakers\": speakers,\n",
    "                \"scene_id\": scene_id\n",
    "            }\n",
    "\n",
    "            # data.append({\n",
    "            #     \"sentences\": new_sentences,\n",
    "            #     \"answers\": answers,\n",
    "            #     \"speakers\": speakers,\n",
    "            #     \"scene_id\": scene_id\n",
    "            # })"
   ],
   "metadata": {
    "collapsed": false,
    "pycharm": {
     "name": "#%%\n"
    }
   }
  },
  {
   "cell_type": "code",
   "execution_count": 11,
   "outputs": [
    {
     "name": "stdout",
     "output_type": "stream",
     "text": [
      "dict_keys(['s01e01c00t', 's01e01c01t', 's01e01c03t', 's01e01c04t', 's01e01c05t', 's01e01c06t', 's01e01c07t', 's01e01c08t', 's01e01c09t', 's01e01c10t', 's01e03c00t', 's01e10c04t', 's01e03c01t', 's01e03c02t', 's01e03c03t', 's01e03c04t', 's01e03c05t', 's01e03c06t', 's01e03c07t', 's01e03c08t', 's01e03c09t', 's01e04c00t', 's01e04c01t', 's01e04c02t', 's01e04c03t', 's01e04c04t', 's01e04c05t', 's01e04c06t', 's01e04c07t', 's01e04c08t', 's01e04c09t', 's01e04c10t', 's01e04c11t', 's01e04c12t', 's01e05c00t', 's01e05c01t', 's01e05c02t', 's01e05c03t', 's01e05c04t', 's01e05c05t', 's01e05c06t', 's01e05c07t', 's01e07c01t', 's01e07c02t', 's01e07c03t', 's01e07c04t', 's01e07c05t', 's01e09c00t', 's01e09c01t', 's01e09c02t', 's01e09c03t', 's01e09c04t', 's01e09c05t', 's01e09c06t', 's01e07c00t', 's01e09c07t', 's01e10c00t', 's01e10c01t', 's01e10c02t', 's01e10c03t', 's01e10c05t', 's01e10c07t', 's01e11c00t', 's01e11c01t', 's01e11c02t', 's01e11c03t', 's01e11c04t', 's01e11c05t', 's01e11c06t', 's01e11c07t', 's01e11c08t', 's04e19c03t', 's04e19c04t', 's01e13c00t', 's01e13c01t', 's01e13c02t', 's01e13c03t', 's01e13c05t', 's01e14c00t', 's01e14c01t', 's01e14c02t', 's01e14c03t', 's01e14c04t', 's01e14c07t', 's01e15c00t', 's01e15c01t', 's01e15c02t', 's01e15c03t', 's01e15c04t', 's01e15c05t', 's01e15c06t', 's01e15c07t', 's01e15c08t', 's01e16c00t', 's01e16c02t', 's01e16c03t', 's01e16c04t', 's01e16c07t', 's01e16c08t', 's01e16c09t', 's02e04c00t', 's02e04c01t', 's02e04c03t', 's02e04c04t', 's02e04c05t', 's02e06c00t', 's02e06c01t', 's02e06c02t', 's02e06c03t', 's02e06c04t', 's02e06c05t', 's02e06c06t', 's02e06c07t', 's02e06c08t', 's02e06c09t', 's02e06c10t', 's01e03c08f', 's01e03c09f', 's01e03c10f', 's03e21c00t', 's03e21c01t', 's03e21c02t', 's03e21c03t', 's03e21c04t', 's03e21c05t', 's03e21c06t', 's03e21c07t', 's03e21c08t', 's03e23c00t', 's03e23c01t', 's01e18c04f', 's01e18c05f', 's03e23c02t', 's03e23c03t', 's03e23c04t', 's03e23c05t', 's03e23c06t', 's03e23c07t', 's03e23c08t', 's03e23c09t', 's03e23c10t', 's04e01c00t', 's04e01c01t', 's04e01c02t', 's04e01c03t', 's04e01c04t', 's04e01c05t', 's04e01c06t', 's04e01c07t', 's04e01c08t', 's04e01c09t', 's04e03c00t', 's04e03c01t', 's04e03c02t', 's04e03c03t', 's04e03c04t', 's04e03c05t', 's04e03c06t', 's04e03c07t', 's04e03c08t', 's04e03c09t', 's04e04c00t', 's04e04c01t', 's04e04c02t', 's04e04c03t', 's04e04c04t', 's04e04c05t', 's04e04c06t', 's04e04c07t', 's04e05c00t', 's04e05c01t', 's04e22c03t', 's04e22c04t', 's04e05c03t', 's04e05c04t', 's04e05c05t', 's04e05c06t', 's04e05c07t', 's04e05c08t', 's04e05c09t', 's04e05c10t', 's04e06c00t', 's04e06c01t', 's04e06c02t', 's04e06c03t', 's04e06c04t', 's01e13c04t', 's04e06c05t', 's04e06c06t', 's04e06c07t', 's04e08c01t', 's04e08c02t', 's04e08c03t', 's04e08c04t', 's04e08c05t', 's04e08c06t', 's04e08c07t', 's04e08c08t', 's04e08c09t', 's04e08c10t', 's04e08c11t', 's04e19c00t', 's04e19c01t', 's04e19c02t', 's04e19c05t', 's04e19c06t', 's04e19c07t', 's04e19c08t', 's04e19c09t', 's04e19c10t', 's04e19c11t', 's04e19c12t', 's04e21c00t', 's04e21c01t', 's04e21c02t', 's04e21c03t', 's04e21c04t', 's04e21c05t', 's04e21c06t', 's04e21c07t', 's04e21c08t', 's04e21c09t', 's04e21c10t', 's04e22c01t', 's04e22c02t', 's04e22c05t', 's04e22c06t', 's04e22c07t', 's04e22c08t', 's04e22c09t', 's04e23c00t', 's04e23c01t', 's04e23c02t', 's04e23c03t', 's04e23c04t', 's04e23c06t', 's04e23c07t', 's04e23c08t', 's04e23c09t', 's04e24c00t', 's04e24c01t', 's04e24c02t', 's04e24c03t', 's04e24c04t', 's04e24c05t', 's04e24c06t', 's04e24c07t', 's04e24c08t', 's04e24c09t', 's04e24c10t', 's05e02c00t', 's05e02c01t', 's05e02c02t', 's05e02c03t', 's05e02c04t', 's05e02c05t', 's05e02c06t', 's05e02c07t', 's05e02c08t', 's05e06c00t', 's05e06c01t', 's05e06c02t', 's05e06c03t', 's05e06c04t', 's05e06c05t', 's05e06c06t', 's05e06c07t', 's05e06c08t', 's05e06c09t', 's05e12c00t', 's05e12c01t', 's05e12c02t', 's05e12c03t', 's05e12c04t', 's05e12c05t', 's05e12c06t', 's08e18c10t', 's05e12c07t', 's05e12c08t', 's05e14c00t', 's05e14c01t', 's05e14c02t', 's05e14c03t', 's05e14c04t', 's05e14c05t', 's05e14c06t', 's05e14c07t', 's05e14c08t', 's05e15c01t', 's05e15c02t', 's05e15c03t', 's05e15c04t', 's05e15c05t', 's05e15c06t', 's05e15c07t', 's05e20c00t', 's05e20c01t', 's05e20c02t', 's05e20c03t', 's05e20c04t', 's05e20c05t', 's05e20c06t', 's05e20c08t', 's05e23c00t', 's05e23c01t', 's05e23c02t', 's05e23c03t', 's05e23c04t', 's05e23c05t', 's05e23c06t', 's05e23c07t', 's06e02c00t', 's06e02c01t', 's06e02c02t', 's06e02c03t', 's06e02c04t', 's06e02c05t', 's06e02c06t', 's06e02c07t', 's06e02c08t', 's06e02c09t', 's06e02c10t', 's06e03c00t', 's06e03c01t', 's06e03c02t', 's06e03c03t', 's06e03c04t', 's06e03c05t', 's06e03c06t', 's06e03c07t', 's06e03c08t', 's06e03c09t', 's06e03c10t', 's06e04c00t', 's06e04c01t', 's06e04c02t', 's06e04c03t', 's06e04c04t', 's06e04c05t', 's06e04c06t', 's06e04c07t', 's06e04c08t', 's06e04c09t', 's06e05c00t', 's06e05c01t', 's06e05c02t', 's06e05c03t', 's06e05c04t', 's06e05c05t', 's06e05c06t', 's06e05c07t', 's06e05c08t', 's06e05c09t', 's06e05c10t', 's06e06c00t', 's06e06c01t', 's06e06c02t', 's06e06c03t', 's06e06c06t', 's05e20c07t', 's06e06c07t', 's06e06c08t', 's06e06c09t', 's08e01c03t', 's08e01c04t', 's08e01c05t', 's08e01c06t', 's08e01c07t', 's08e01c08t', 's06e20c13t', 's06e20c14t', 's06e20c15t', 's08e02c11t', 's08e03c00t', 's08e03c01t', 's08e03c02t', 's06e16c11t', 's06e17c00t', 's06e17c01t', 's06e07c08t', 's06e08c00t', 's06e08c01t', 's08e01c00t', 's08e01c01t', 's08e01c02t', 's07e23c04t', 's07e23c05t', 's07e23c06t', 's07e23c07t', 's06e21c06t', 's06e21c07t', 's06e21c08t', 's06e21c09t', 's06e08c02t', 's06e08c03t', 's06e08c04t', 's06e14c03t', 's06e14c04t', 's06e14c05t', 's06e14c06t', 's08e15c09t', 's08e16c00t', 's07e20c01t', 's07e20c02t', 's07e20c03t', 's08e12c05t', 's08e12c06t', 's08e12c07t', 's06e15c06t', 's06e15c07t', 's06e15c08t', 's08e03c07t', 's08e03c08t', 's08e03c09t', 's08e03c10t', 's08e09c03t', 's08e09c04t', 's08e09c05t', 's08e15c04t', 's08e15c05t', 's06e21c10t', 's06e21c11t', 's06e21c12t', 's07e19c00t', 's06e15c03t', 's06e15c04t', 's06e15c05t', 's08e02c02t', 's08e02c03t', 's08e02c04t', 's06e09c06t', 's06e09c07t', 's01e16c01t', 's06e16c09t', 's06e16c10t', 's08e03c03t', 's08e03c04t', 's08e03c05t', 's08e03c06t', 's06e17c02t', 's06e17c03t', 's06e17c04t', 's06e17c05t', 's06e14c07t', 's06e14c08t', 's06e14c09t', 's06e14c10t', 's07e22c02t', 's07e22c03t', 's07e22c04t', 's07e22c05t', 's07e20c04t', 's07e20c05t', 's05e14c09t', 's05e15c00t', 's07e19c08t', 's07e19c09t', 's07e19c10t', 's07e19c11t', 's08e02c05t', 's08e02c06t', 's08e02c07t', 's06e14c00t', 's06e14c01t', 's06e14c02t', 's06e14c11t', 's06e14c12t', 's06e15c00t', 's06e21c00t', 's06e21c01t', 's06e21c02t', 's07e23c11t', 's07e23c12t', 's07e20c06t', 's07e20c07t', 's07e20c08t', 's07e23c00t', 's07e23c01t', 's07e23c02t', 's07e23c03t', 's08e06c05t', 's08e06c06t', 's08e06c07t', 's08e06c08t', 's06e07c03t', 's06e07c04t', 's06e07c05t', 's08e15c02t', 's08e15c03t', 's06e19c10t', 's07e20c09t', 's07e20c10t', 's07e20c11t', 's07e20c12t', 's07e20c13t', 's07e22c00t', 's07e22c01t', 's06e09c03t', 's06e09c04t', 's06e09c05t', 's06e20c00t', 's06e20c01t', 's06e20c02t', 's06e20c03t', 's06e20c04t', 's06e20c05t', 's06e20c06t', 's06e20c07t', 's06e08c05t', 's06e08c06t', 's06e08c07t', 's07e22c10t', 's07e22c11t', 's07e22c12t', 's07e22c13t', 's07e23c08t', 's07e23c09t', 's07e23c10t', 's08e11c11t', 's08e11c12t', 's08e11c13t', 's01e22c10f', 's01e22c11f', 's01e24c00f', 's08e09c00t', 's08e09c01t', 's08e09c02t', 's08e11c06t', 's08e11c07t', 's08e11c08t', 's08e11c09t', 's08e11c10t', 's06e07c01t', 's06e07c02t', 's08e06c01t', 's08e06c02t', 's06e19c02t', 's06e19c03t', 's06e19c04t', 's06e19c05t', 's06e16c06t', 's06e16c07t', 's06e16c08t', 's06e16c02t', 's06e16c03t', 's06e16c04t', 's06e16c05t', 's08e12c08t', 's08e12c09t', 's06e15c09t', 's06e15c10t', 's06e16c00t', 's06e16c01t', 's06e07c06t', 's06e07c07t', 's08e01c12t', 's08e01c13t', 's06e19c06t', 's06e19c07t', 's06e19c08t', 's06e19c09t', 's07e19c12t', 's07e19c13t', 's07e20c00t', 's06e15c01t', 's06e15c02t', 's08e01c14t', 's08e02c00t', 's08e02c01t', 's08e09c09t', 's08e09c10t', 's08e06c09t', 's08e06c10t', 's08e06c11t', 's08e06c12t', 's06e09c00t', 's06e09c01t', 's06e09c02t', 's08e09c06t', 's08e09c07t', 's08e09c08t', 's08e06c03t', 's08e06c04t', 's06e08c08t', 's06e08c09t', 's06e08c10t', 's06e17c11t', 's06e19c00t', 's06e19c01t', 's06e20c08t', 's06e20c09t', 's06e20c10t', 's06e20c11t', 's06e20c12t', 's07e19c01t', 's07e19c02t', 's07e19c03t', 's08e12c10t', 's08e15c00t', 's08e15c01t', 's07e22c06t', 's07e22c07t', 's07e22c08t', 's07e22c09t', 's07e19c04t', 's07e19c05t', 's07e19c06t', 's07e19c07t', 's08e11c03t', 's08e11c04t', 's08e11c05t', 's08e12c02t', 's08e12c03t', 's08e12c04t', 's08e02c08t', 's08e02c09t', 's08e02c10t', 's08e01c09t', 's08e01c10t', 's08e01c11t', 's06e09c08t', 's06e09c09t', 's06e09c10t', 's06e06c10t', 's06e07c00t', 's08e09c11t', 's08e09c12t', 's08e11c00t', 's08e12c00t', 's08e12c01t', 's08e03c11t', 's08e06c00t', 's06e21c03t', 's06e21c04t', 's06e21c05t', 's06e17c06t', 's06e17c07t', 's06e17c08t', 's06e17c09t', 's06e17c10t', 's08e15c06t', 's08e15c07t', 's08e15c08t', 's08e16c01t', 's08e16c02t', 's08e16c03t', 's08e16c04t', 's08e16c05t', 's08e16c06t', 's08e16c07t', 's08e16c08t', 's08e16c09t', 's08e16c10t', 's08e16c11t', 's08e16c12t', 's08e16c13t', 's08e16c14t', 's08e16c15t', 's08e17c00t', 's08e17c01t', 's08e17c02t', 's08e17c03t', 's08e17c04t', 's08e17c05t', 's08e17c06t', 's08e17c07t', 's08e17c08t', 's08e17c09t', 's08e17c10t', 's08e17c11t', 's08e17c12t', 's08e18c00t', 's08e18c01t', 's01e16c05t', 's01e16c06t', 's08e18c02t', 's08e18c03t', 's08e18c04t', 's08e18c05t', 's08e18c06t', 's08e18c07t', 's08e18c08t', 's08e18c09t', 's08e18c11t', 's08e19c00t', 's08e19c01t', 's08e19c02t', 's08e19c03t', 's08e19c04t', 's08e19c05t', 's08e19c06t', 's08e19c07t', 's08e19c08t', 's08e19c09t', 's08e19c10t', 's08e19c11t', 's08e20c00t', 's08e20c01t', 's08e20c02t', 's08e20c03t', 's08e20c04t', 's08e20c05t', 's08e20c06t', 's08e20c07t', 's08e20c08t', 's08e20c09t', 's08e20c10t', 's08e20c11t', 's08e20c12t', 's08e20c13t', 's04e05c02t', 's08e21c00t', 's08e21c01t', 's08e21c02t', 's08e21c03t', 's08e21c04t', 's08e21c05t', 's08e21c06t', 's08e21c07t', 's08e21c08t', 's08e21c09t', 's08e21c10t', 's08e21c11t', 's08e22c00t', 's08e22c01t', 's08e22c02t', 's08e22c03t', 's08e22c04t', 's08e22c05t', 's01e07c02f', 's01e07c03f', 's01e07c04f', 's01e07c05f', 's01e07c06f', 's08e22c06t', 's08e22c07t', 's08e22c08t', 's08e22c09t', 's08e22c10t', 's08e22c11t', 's08e22c12t', 's08e23c00t', 's08e23c01t', 's08e23c02t', 's08e23c03t', 's08e23c06t', 's08e23c07t', 's08e23c08t', 's08e23c09t', 's08e23c10t', 's08e23c11t', 's08e24c00t', 's08e24c01t', 's08e24c02t', 's08e24c03t', 's08e24c04t', 's08e24c05t', 's08e24c06t', 's08e24c07t', 's08e24c08t', 's08e24c09t', 's08e24c10t', 's08e24c11t', 's08e24c12t', 's08e24c13t', 's08e24c14t', 's08e24c15t', 's08e24c16t', 's01e03c00f', 's01e03c01f', 's01e03c02f', 's01e03c03f', 's01e03c04f', 's01e03c05f', 's01e03c06f', 's01e03c07f', 's01e03c11f', 's01e03c12f', 's01e04c00f', 's01e04c01f', 's01e04c02f', 's01e04c03f', 's01e04c04f', 's01e04c05f', 's01e04c06f', 's01e04c07f', 's01e04c08f', 's01e04c09f', 's01e04c10f', 's01e04c11f', 's01e04c12f', 's01e04c13f', 's01e04c14f', 's01e06c00f', 's01e06c01f', 's01e06c02f', 's02e04c02t', 's01e06c03f', 's01e06c04f', 's01e06c05f', 's01e06c06f', 's01e06c07f', 's01e07c00f', 's01e07c01f', 's01e07c07f', 's01e07c08f', 's01e07c09f', 's01e07c10f', 's01e07c11f', 's01e07c12f', 's01e07c13f', 's01e07c14f', 's01e07c15f', 's01e07c16f', 's01e07c17f', 's01e07c18f', 's01e07c19f', 's01e08c00f', 's01e08c01f', 's01e08c02f', 's01e08c03f', 's01e08c04f', 's01e08c05f', 's01e08c06f', 's01e08c07f', 's01e08c08f', 's01e08c09f', 's01e08c10f', 's01e08c11f', 's01e09c00f', 's01e09c01f', 's01e09c02f', 's01e09c03f', 's01e09c04f', 's01e09c05f', 's01e09c06f', 's01e09c07f', 's01e09c08f', 's01e09c09f', 's01e09c10f', 's01e09c11f', 's01e10c00f', 's01e10c01f', 's06e06c04t', 's06e06c05t', 's01e10c02f', 's01e10c03f', 's04e23c05t', 's01e10c04f', 's01e10c05f', 's08e23c04t', 's08e23c05t', 's01e12c00f', 's01e12c01f', 's01e12c02f', 's01e12c03f', 's01e12c04f', 's01e12c05f', 's01e12c06f', 's01e12c07f', 's01e12c08f', 's01e12c09f', 's01e12c10f', 's01e12c11f', 's01e12c12f', 's01e12c13f', 's01e15c00f', 's01e15c01f', 's01e15c02f', 's01e15c03f', 's01e15c04f', 's01e15c05f', 's01e15c06f', 's01e15c07f', 's01e15c08f', 's01e15c09f', 's01e15c10f', 's01e15c11f', 's01e15c12f', 's01e16c00f', 's01e16c01f', 's01e16c02f', 's01e16c03f', 's01e16c04f', 's01e16c05f', 's01e16c06f', 's01e16c07f', 's01e16c08f', 's01e16c09f', 's01e16c10f', 's01e16c11f', 's01e16c12f', 's01e16c13f', 's01e16c14f', 's01e17c00f', 's04e08c00t', 's01e17c01f', 's01e17c02f', 's01e17c03f', 's01e17c04f', 's01e17c05f', 's01e17c06f', 's01e17c07f', 's01e17c08f', 's01e17c09f', 's01e17c10f', 's01e17c11f', 's01e17c12f', 's01e18c00f', 's01e18c01f', 's01e18c02f', 's01e18c03f', 's01e19c00f', 's01e19c01f', 's01e19c02f', 's01e19c03f', 's01e19c04f', 's01e19c05f', 's01e19c06f', 's01e19c07f', 's01e20c00f', 's04e22c00t', 's01e20c01f', 's01e20c02f', 's01e20c03f', 's01e20c04f', 's01e20c05f', 's01e20c06f', 's01e20c07f', 's01e20c08f', 's01e10c06t', 's01e20c09f', 's01e20c10f', 's01e22c00f', 's01e22c01f', 's01e22c02f', 's01e22c03f', 's01e22c04f', 's08e11c01t', 's08e11c02t', 's01e22c05f', 's01e22c06f', 's01e14c05t', 's01e14c06t', 's01e22c07f', 's01e22c08f', 's01e22c09f', 's01e24c01f', 's01e24c02f', 's01e24c03f', 's01e24c04f', 's01e24c05f', 's01e24c06f', 's01e24c07f', 's01e24c08f', 's01e24c09f', 's07e01c00t', 's07e01c01t', 's07e01c02t', 's07e01c03t', 's07e01c04t', 's07e01c05t', 's07e01c06t', 's07e01c07t', 's07e01c08t', 's07e01c09t', 's07e01c10t', 's07e01c11t', 's07e01c12t', 's07e01c13t', 's07e02c00t', 's07e02c01t', 's07e02c02t', 's07e02c03t', 's07e02c04t', 's07e02c05t', 's07e02c06t', 's07e02c07t', 's07e02c08t', 's07e02c09t', 's07e02c10t', 's07e06c00t', 's07e06c01t', 's07e06c02t', 's07e06c03t', 's07e06c04t', 's07e06c05t', 's07e06c06t', 's07e06c07t', 's07e06c08t', 's06e09c03fe', 's06e09c04fe', 's06e09c05fe', 's07e06c09t', 's07e06c10t', 's07e10c00t', 's07e10c01t', 's07e10c02t', 's07e10c03t', 's07e10c04t', 's07e10c05t', 's07e10c06t', 's07e10c07t', 's07e10c08t', 's07e10c09t', 's07e15c00t', 's07e15c01t', 's07e15c02t', 's07e15c03t', 's07e15c04t', 's07e15c05t', 's07e15c06t', 's07e15c07t', 's07e15c08t', 's07e15c09t', 's07e15c10t', 's07e15c11t', 's07e15c12t', 's07e15c13t', 's07e16c00t', 's07e16c01t', 's07e16c02t', 's07e16c03t', 's07e16c04t', 's07e16c05t', 's07e16c06t', 's07e16c07t', 's07e16c08t', 's07e16c09t', 's07e16c10t', 's07e17c00t', 's07e17c01t', 's07e17c02t', 's07e17c03t', 's07e17c04t', 's07e17c05t', 's07e17c06t', 's07e17c07t', 's07e17c08t', 's07e17c09t', 's07e17c10t', 's07e17c11t', 's07e17c12t', 's07e18c00t', 's07e18c01t', 's07e18c02t', 's07e18c03t', 's07e18c04t', 's07e18c05t', 's07e18c06t', 's07e18c07t', 's07e18c08t', 's07e18c09t', 's07e18c10t', 's01e01c00f', 's01e01c01f', 's01e01c02f', 's01e01c03f', 's01e01c04f', 's01e01c05f', 's01e01c06f', 's01e01c07f', 's01e01c08f', 's01e01c09f', 's01e01c10f', 's01e01c11f', 's07e18c11t', 's01e01c12f', 's01e01c13f', 's01e02c00f', 's01e02c01f', 's01e02c02f', 's01e02c03f', 's01e02c04f', 's01e02c05f', 's01e02c06f', 's01e02c07f', 's01e02c08f', 's01e02c09f', 's07e11c00t', 's07e11c01t', 's09e01c00t', 's09e01c01t', 's09e01c02t', 's09e01c03t', 's09e01c04t', 's09e01c05t', 's09e01c06t', 's09e01c07t', 's09e01c08t', 's09e01c09t', 's09e01c10t', 's09e01c11t', 's09e01c12t', 's09e01c13t', 's09e03c00t', 's09e03c01t', 's09e03c02t', 's09e03c03t', 's09e03c04t', 's09e03c05t', 's09e03c06t', 's09e03c07t', 's09e03c08t', 's09e12c07t', 's09e12c08t', 's09e03c09t', 's09e03c10t', 's09e03c11t', 's09e03c12t', 's09e03c13t', 's09e04c00t', 's09e04c01t', 's09e04c02t', 's09e04c03t', 's09e04c04t', 's09e04c05t', 's09e04c06t', 's09e04c07t', 's09e04c08t', 's09e04c09t', 's09e04c10t', 's09e04c11t', 's09e04c12t', 's09e07c00t', 's09e07c01t', 's09e07c02t', 's09e07c03t', 's09e07c04t', 's09e07c05t', 's09e07c06t', 's09e07c07t', 's09e07c08t', 's09e07c09t', 's09e07c10t', 's09e09c00t', 's09e09c01t', 's09e09c02t', 's09e09c03t', 's09e09c04t', 's09e09c05t', 's09e09c06t', 's09e09c07t', 's09e09c08t', 's09e09c09t', 's09e09c10t', 's09e09c11t', 's09e09c12t', 's09e09c13t', 's09e10c00t', 's09e10c01t', 's09e10c02t', 's09e10c03t', 's09e10c04t', 's09e10c05t', 's09e10c06t', 's09e10c07t', 's09e10c08t', 's09e10c09t', 's09e10c10t', 's09e10c11t', 's09e10c12t', 's09e10c13t', 's09e10c14t', 's09e11c00t', 's09e11c01t', 's09e11c02t', 's09e11c03t', 's09e11c04t', 's09e11c05t', 's09e11c06t', 's09e11c07t', 's09e11c08t', 's09e11c09t', 's09e11c10t', 's09e11c11t', 's01e14c14f', 's01e14c15f', 's09e11c12t', 's09e11c13t', 's09e11c14t', 's09e11c15t', 's09e11c16t', 's09e11c17t', 's09e12c00t', 's09e12c01t', 's09e12c02t', 's09e12c03t', 's09e12c04t', 's09e12c05t', 's09e12c06t', 's09e12c09t', 's09e12c10t', 's09e12c11t', 's09e12c12t', 's09e12c13t', 's09e12c14t', 's09e12c15t', 's09e16c00t', 's09e16c01t', 's09e16c02t', 's09e16c03t', 's09e16c04t', 's09e16c05t', 's09e16c06t', 's09e16c07t', 's09e16c08t', 's09e16c09t', 's09e16c10t', 's09e16c11t', 's09e16c12t', 's09e16c13t', 's09e16c14t', 's09e16c15t', 's01e13c00f', 's01e13c01f', 's01e13c02f', 's01e13c03f', 's01e13c04f', 's01e13c05f', 's01e13c06f', 's01e13c07f', 's01e13c08f', 's01e13c09f', 's01e13c10f', 's01e13c11f', 's01e14c00f', 's01e14c01f', 's01e14c02f', 's01e14c03f', 's01e14c04f', 's01e14c05f', 's01e14c06f', 's01e14c07f', 's01e14c08f', 's01e14c09f', 's01e14c10f', 's01e14c11f', 's01e14c12f', 's01e14c13f'])\n"
     ]
    }
   ],
   "source": [
    "print(data.keys())"
   ],
   "metadata": {
    "collapsed": false,
    "pycharm": {
     "name": "#%%\n"
    }
   }
  },
  {
   "cell_type": "code",
   "execution_count": 56,
   "outputs": [
    {
     "name": "stdout",
     "output_type": "stream",
     "text": [
      "243\n",
      "104\n"
     ]
    }
   ],
   "source": [
    "speaker_set = set()\n",
    "count = 0\n",
    "for split in [\"train\", \"dev\", \"test\"]:\n",
    "    # print(split)\n",
    "    for scene_id in split_dict[split]:\n",
    "        # if scene_id != \"s01e01c00t\":\n",
    "        #     continue\n",
    "        # print(scene_id, scene_id[9])\n",
    "        if scene_id[9]==\"f\":\n",
    "            for token in data[scene_id]['speakers']:\n",
    "                speaker_set.add(token)\n",
    "            # print(scene_id)\n",
    "            # print(data[scene_id]['speakers'])\n",
    "            count += 1\n",
    "print(count)\n",
    "print(len(speaker_set))"
   ],
   "metadata": {
    "collapsed": false,
    "pycharm": {
     "name": "#%%\n"
    }
   }
  },
  {
   "cell_type": "code",
   "execution_count": 53,
   "outputs": [
    {
     "name": "stdout",
     "output_type": "stream",
     "text": [
      "{'Howard ’s Mother', 'Random woman', 'Korean', 'Cole', 'Girls', 'Waitress', 'Leonard and Howard', 'Girl', 'Professor Proton', 'Man in seat behind', 'Sheldon', 'Random voice', 'Female string quartettist', 'Woman', 'Phone', 'Kathy', 'Dave', 'Barry', 'Dr Koothrappali', 'Photographer', 'Soup Kitchen Manager', 'Various others', 'All', 'Penny', 'Security Guard', 'Taxi Driver', 'Headmaster', 'Raj and Penny together', 'Dr Gablehouser', 'Mr Rostenkowski', 'Doug', 'Lakshmi', 'Leslie Winkle', 'Class instructor', 'Howard and Bernadette', 'Adam', 'Tech Support Voice', 'Mrs Koothrappali', 'Doctor', 'Dimitri', 'Fat Raj', 'Penny ’s Dad', 'Lady Vet', 'Wil', 'Mr. Rostenkowski', 'Zombie', '4 . Sheldon', 'Gablehauser', 'Janine', '3 .   Sheldon', 'Elizabeth', 'Woman in lab coat', 'Raj', '2 .   Amy', 'Elon', 'Priya', 'Wil Wheaton', 'Mrs Koothrapalli', 'Charlie Sheen', 'Bespectacled Man', 'Good looking man coming up stairs', 'Receptionist', 'Assistant', 'Man in Penny ’s Apartment', 'Kripke', 'Howard ’s phone', 'Baggage Clerk', 'Everybody', 'George Takei', 'Spock', 'Gretchen', 'Elderly Korean Gentleman', 'Angela', 'Kevn', 'Santa', '5 .   Sheldon', 'Taxi driver', 'Bermadette', 'Dr Schneider', 'Second Girl', 'Ramona', 'Store assistant', 'Guy at door', 'Ira Flatow', 'Huge man', 'Summer', 'Audiitoner', 'Answerphone', 'Emily', 'Nerdy Guy', 'Director', 'Strange man', 'Enormous man', 'Lesley', 'Kevin', 'Christie', 'Female Voice', 'Voice from Outside', 'Third Floor Janitor', 'Fat Stuart', 'Siri', 'Emly', 'Josh', 'Man in Suit', 'Howard', 'Witch', 'Random guy', 'Shelldon', 'Voice Inside', 'Ms Jenson', 'Man ’s Voice', 'Waiter', 'Dead Mrs Wolowitz', 'Dr Koothrapalli', 'Howard and Raj', 'Stuart', 'Trent', '3 .   Amy', 'Amy', 'Lucy', 'Mrs Wolowitz', 'Mrs Davis', 'Gablehouser', 'Montage of scenes', 'Theatre staff', 'Nathan Fillion', 'Mrs Cooper', 'Howie Mandel', 'Dr Hofstadter', 'Todd', '4 . Amy', 'Missy', 'Nurse', 'Arthur', 'Toby', 'Official', 'Male string quartettist', 'Rajj', 'Vet', 'Zack', 'Nathan', 'Dr Gallo', 'Voice from buzzer', 'Alex', 'Mike', 'Together', 'Leonard , Howard and Raj', 'Pizza guy', 'Various', 'Voice', 'Tech Support Guy', 'Guy', 'Bernadette', 'Christie and Howard ’s Mother together', 'All together', 'Policeman', 'Mrs', 'First Girl', 'Voice of Spock', 'Leonard and Howard together', 'Leslie', 'Girl dressed as a Witch', 'Rai', 'Katee Sackhoff', 'Server', 'Dan', 'Hernandez', 'Shedon', 'Fat Leonard', 'Woman at table', 'Leonard', 'Joy', 'Barry ’s Siri', 'Both', 'Second child', 'Roeger', 'Child', 'Barry Kripke', '1 .   Sheldon', 'Man', 'Nerdy guy', 'Mrs Gunderson', 'Ira', 'Clerk', 'Mechanical voice on Sheldon ’s phone', 'Caption', '1 . Amy', 'Fat Leonard and Raj', 'Theatre Staff', 'Amy and Bernadette together', 'Caller'}\n",
      "191\n"
     ]
    }
   ],
   "source": [
    "print(speaker_set)\n",
    "print(len(speaker_set))"
   ],
   "metadata": {
    "collapsed": false,
    "pycharm": {
     "name": "#%%\n"
    }
   }
  },
  {
   "cell_type": "code",
   "execution_count": 29,
   "outputs": [],
   "source": [
    "temp = []\n",
    "for split in ['train', 'dev', 'test']:\n",
    "    with open('data/experiment_inputs/dialogue_english/'+split+\".english.512.jsonlines\", 'r') as f:\n",
    "        reader = jsonlines.Reader(f)\n",
    "        for line in reader:\n",
    "            temp.append(line)"
   ],
   "metadata": {
    "collapsed": false,
    "pycharm": {
     "name": "#%%\n"
    }
   }
  },
  {
   "cell_type": "code",
   "execution_count": 54,
   "outputs": [],
   "source": [
    "speaker_set = set()\n",
    "for instance in temp:\n",
    "    if instance['doc_key'][9]==\"t\":\n",
    "        continue\n",
    "    # print(instance['doc_key'])\n",
    "    # print(instance['speakers'])\n",
    "    # for speaker in instance['speakers']:\n",
    "    #     speaker_set.add(speaker.lower())\n",
    "    for item in instance['speakers']:\n",
    "        for token in item[1:-1]:\n",
    "            if token !=\"#\":\n",
    "                speaker_set.add(token)"
   ],
   "metadata": {
    "collapsed": false,
    "pycharm": {
     "name": "#%%\n"
    }
   }
  },
  {
   "cell_type": "code",
   "execution_count": null,
   "outputs": [],
   "source": [],
   "metadata": {
    "collapsed": false,
    "pycharm": {
     "name": "#%%\n"
    }
   }
  },
  {
   "cell_type": "code",
   "execution_count": 46,
   "outputs": [
    {
     "name": "stdout",
     "output_type": "stream",
     "text": [
      "{'Korean', 'Cole', 'Girls', 'Waitress', 'Girl', 'Sheldon', 'Montage', 'Enormous', 'Woman', 'Professor', 'Phone', 'Kathy', 'Dave', 'Barry', 'Photographer', 'All', 'Penny', 'Baggage', 'Headmaster', 'Doug', 'Lakshmi', 'Adam', 'Doctor', 'Dimitri', 'Third', 'Wil', 'Zombie', 'Gablehauser', 'Janine', 'Lady', 'Elizabeth', 'Raj', 'Store', 'Female', 'Elon', 'Priya', 'Nerdy', 'Charlie', 'Receptionist', 'Assistant', 'Kripke', 'Random', 'Everybody', 'Spock', 'Gretchen', 'Angela', 'Kevn', 'Santa', 'Bermadette', 'Soup', 'Class', 'Ramona', 'Good', 'Strange', 'Summer', 'Audiitoner', '3', 'Answerphone', 'Emily', 'Mr', 'Director', 'Lesley', 'Kevin', 'Christie', 'Bespectacled', 'Cooper', 'Siri', 'Security', 'Fat', 'Emly', 'Josh', 'Howard', 'Witch', '5', 'Shelldon', 'Pizza', 'Dr', 'Waiter', 'Stuart', 'Trent', 'Amy', 'Lucy', 'Elderly', 'Gablehouser', 'Howie', 'Tech', 'Ms', 'Katee', 'Todd', 'Arthur', 'Missy', 'Nurse', 'Dead', 'Toby', 'First', 'Official', 'Rajj', 'Vet', 'Mr.', 'Zack', 'Nathan', 'Alex', 'Mike', 'Together', 'Male', 'Various', 'Voice', 'Guy', 'Bernadette', 'Taxi', '2', 'Policeman', 'Mrs', 'George', 'Mechanical', 'Second', 'Leslie', 'Rai', 'Theatre', 'Server', 'Dan', 'Hernandez', '1', 'Shedon', 'Leonard', 'Floor', 'Joy', 'Both', 'Huge', 'Roeger', 'Child', 'Man', 'Ira', 'Clerk', 'Caption', '4', 'na', 'Caller'}\n",
      "138\n"
     ]
    }
   ],
   "source": [
    "print(speaker_set)\n",
    "print(len(speaker_set))"
   ],
   "metadata": {
    "collapsed": false,
    "pycharm": {
     "name": "#%%\n"
    }
   }
  },
  {
   "cell_type": "code",
   "execution_count": null,
   "outputs": [],
   "source": [],
   "metadata": {
    "collapsed": false,
    "pycharm": {
     "name": "#%%\n"
    }
   }
  },
  {
   "cell_type": "code",
   "execution_count": 35,
   "outputs": [
    {
     "name": "stdout",
     "output_type": "stream",
     "text": [
      "['[SPL]', 'Ross', 'Ross', 'Ross', '#', '#', '#', '#', 'Phoebe', 'Phoebe', 'Phoebe', 'Phoebe', 'Phoebe', 'Phoebe', 'Phoebe', 'Phoebe', 'Phoebe', 'Phoebe', 'Phoebe', 'Phoebe', 'Phoebe', 'Phoebe', 'Phoebe', 'Phoebe', 'Phoebe', 'Phoebe', 'Phoebe', 'Phoebe', 'Chandler', 'Chandler', 'Chandler', 'Chandler', 'Chandler', 'Chandler', 'Chandler', 'Chandler', 'Chandler', 'Chandler', 'Chandler', 'Chandler', 'Chandler', 'Chandler', 'Phoebe', 'Phoebe', 'Phoebe', 'Phoebe', 'Phoebe', '#', '#', '#', '#', '#', '#', '#', '#', '#', '#', '#', '#', '#', '#', '#', '#', '#', 'Rachel', 'Rachel', 'Rachel', 'Rachel', 'Rachel', 'Rachel', 'Rachel', 'Rachel', 'Chandler', 'Chandler', 'Chandler', 'Chandler', 'Chandler', 'Monica', 'Monica', 'Monica', 'Monica', 'Monica', 'Chandler', 'Chandler', 'Chandler', 'Chandler', 'Chandler', 'Chandler', 'Chandler', 'Chandler', 'Chandler', 'Chandler', 'Chandler', 'Chandler', 'Chandler', 'Chandler', 'Chandler', 'Chandler', 'Chandler', 'Chandler', 'Chandler', 'Chandler', 'Chandler', 'Chandler', 'Chandler', 'Chandler', 'Chandler', 'Chandler', 'Chandler', 'Chandler', 'Chandler', 'Chandler', 'Chandler', 'Chandler', 'Chandler', 'Chandler', 'Chandler', 'Chandler', 'Chandler', 'Chandler', 'Chandler', 'Chandler', 'Chandler', 'Chandler', 'Chandler', 'Chandler', 'Chandler', 'Chandler', 'Chandler', 'Chandler', 'Chandler', 'Chandler', 'Chandler', 'Chandler', 'Chandler', 'Chandler', 'Chandler', 'Chandler', 'Chandler', 'Chandler', 'Chandler', 'Chandler', 'Chandler', 'Chandler', 'Chandler', 'Chandler', 'Chandler', 'Chandler', 'Chandler', 'Chandler', 'Chandler', 'Chandler', 'Chandler', 'Chandler', 'Chandler', 'Chandler', 'Chandler', 'Chandler', 'Chandler', 'Chandler', 'Chandler', 'Chandler', 'Chandler', 'Chandler', 'Chandler', 'Chandler', 'Chandler', 'Chandler', 'Joey', 'Joey', 'Joey', 'Joey', 'Joey', 'Joey', 'Joey', 'Joey', 'Joey', 'Rachel', 'Rachel', 'Rachel', 'Rachel', 'Rachel', 'Rachel', 'Joey', 'Joey', 'Joey', 'Joey', 'Joey', 'Joey', 'Joey', 'Joey', 'Joey', 'Joey', 'Joey', 'Joey', 'Joey', 'Joey', 'Joey', 'Joey', 'Joey', 'Joey', 'Joey', 'Ross', 'Ross', 'Ross', 'Ross', 'Ross', 'Ross', 'Ross', 'Ross', 'Ross', 'Ross', 'Ross', 'Ross', 'Ross', 'Ross', 'Ross', 'Ross', 'Ross', 'Ross', 'Ross', 'Ross', 'Ross', 'Joey', 'Joey', 'Joey', 'Joey', 'Joey', 'Joey', 'Joey', 'Joey', 'Ross', 'Ross', 'Ross', 'Ross', 'Ross', 'Ross', 'Ross', 'Ross', 'Ross', 'Rachel', 'Rachel', 'Rachel', 'Rachel', 'Rachel', 'Rachel', 'Rachel', 'Rachel', 'Rachel', 'Rachel', 'Rachel', 'Rachel', 'Rachel', 'Rachel', 'Phoebe', 'Phoebe', 'Phoebe', 'Phoebe', 'Phoebe', 'Phoebe', 'Phoebe', 'Phoebe', 'Phoebe', 'Rachel', 'Rachel', 'Rachel', 'Rachel', 'Rachel', 'Rachel', 'Rachel', 'Rachel', 'Rachel', 'Rachel', '[SPL]']\n"
     ]
    }
   ],
   "source": [
    "a = [['[SPL]', 'Ross', 'Ross', 'Ross', '#', '#', '#', '#', 'Phoebe', 'Phoebe', 'Phoebe', 'Phoebe', 'Phoebe', 'Phoebe', 'Phoebe', 'Phoebe', 'Phoebe', 'Phoebe', 'Phoebe', 'Phoebe', 'Phoebe', 'Phoebe', 'Phoebe', 'Phoebe', 'Phoebe', 'Phoebe', 'Phoebe', 'Phoebe', 'Chandler', 'Chandler', 'Chandler', 'Chandler', 'Chandler', 'Chandler', 'Chandler', 'Chandler', 'Chandler', 'Chandler', 'Chandler', 'Chandler', 'Chandler', 'Chandler', 'Phoebe', 'Phoebe', 'Phoebe', 'Phoebe', 'Phoebe', '#', '#', '#', '#', '#', '#', '#', '#', '#', '#', '#', '#', '#', '#', '#', '#', '#', 'Rachel', 'Rachel', 'Rachel', 'Rachel', 'Rachel', 'Rachel', 'Rachel', 'Rachel', 'Chandler', 'Chandler', 'Chandler', 'Chandler', 'Chandler', 'Monica', 'Monica', 'Monica', 'Monica', 'Monica', 'Chandler', 'Chandler', 'Chandler', 'Chandler', 'Chandler', 'Chandler', 'Chandler', 'Chandler', 'Chandler', 'Chandler', 'Chandler', 'Chandler', 'Chandler', 'Chandler', 'Chandler', 'Chandler', 'Chandler', 'Chandler', 'Chandler', 'Chandler', 'Chandler', 'Chandler', 'Chandler', 'Chandler', 'Chandler', 'Chandler', 'Chandler', 'Chandler', 'Chandler', 'Chandler', 'Chandler', 'Chandler', 'Chandler', 'Chandler', 'Chandler', 'Chandler', 'Chandler', 'Chandler', 'Chandler', 'Chandler', 'Chandler', 'Chandler', 'Chandler', 'Chandler', 'Chandler', 'Chandler', 'Chandler', 'Chandler', 'Chandler', 'Chandler', 'Chandler', 'Chandler', 'Chandler', 'Chandler', 'Chandler', 'Chandler', 'Chandler', 'Chandler', 'Chandler', 'Chandler', 'Chandler', 'Chandler', 'Chandler', 'Chandler', 'Chandler', 'Chandler', 'Chandler', 'Chandler', 'Chandler', 'Chandler', 'Chandler', 'Chandler', 'Chandler', 'Chandler', 'Chandler', 'Chandler', 'Chandler', 'Chandler', 'Chandler', 'Chandler', 'Chandler', 'Chandler', 'Chandler', 'Chandler', 'Chandler', 'Chandler', 'Joey', 'Joey', 'Joey', 'Joey', 'Joey', 'Joey', 'Joey', 'Joey', 'Joey', 'Rachel', 'Rachel', 'Rachel', 'Rachel', 'Rachel', 'Rachel', 'Joey', 'Joey', 'Joey', 'Joey', 'Joey', 'Joey', 'Joey', 'Joey', 'Joey', 'Joey', 'Joey', 'Joey', 'Joey', 'Joey', 'Joey', 'Joey', 'Joey', 'Joey', 'Joey', 'Ross', 'Ross', 'Ross', 'Ross', 'Ross', 'Ross', 'Ross', 'Ross', 'Ross', 'Ross', 'Ross', 'Ross', 'Ross', 'Ross', 'Ross', 'Ross', 'Ross', 'Ross', 'Ross', 'Ross', 'Ross', 'Joey', 'Joey', 'Joey', 'Joey', 'Joey', 'Joey', 'Joey', 'Joey', 'Ross', 'Ross', 'Ross', 'Ross', 'Ross', 'Ross', 'Ross', 'Ross', 'Ross', 'Rachel', 'Rachel', 'Rachel', 'Rachel', 'Rachel', 'Rachel', 'Rachel', 'Rachel', 'Rachel', 'Rachel', 'Rachel', 'Rachel', 'Rachel', 'Rachel', 'Phoebe', 'Phoebe', 'Phoebe', 'Phoebe', 'Phoebe', 'Phoebe', 'Phoebe', 'Phoebe', 'Phoebe', 'Rachel', 'Rachel', 'Rachel', 'Rachel', 'Rachel', 'Rachel', 'Rachel', 'Rachel', 'Rachel', 'Rachel', '[SPL]']]\n",
    "\n",
    "for item in a:\n",
    "    print(item)"
   ],
   "metadata": {
    "collapsed": false,
    "pycharm": {
     "name": "#%%\n"
    }
   }
  },
  {
   "cell_type": "code",
   "execution_count": null,
   "outputs": [],
   "source": [],
   "metadata": {
    "collapsed": false,
    "pycharm": {
     "name": "#%%\n"
    }
   }
  },
  {
   "cell_type": "code",
   "execution_count": null,
   "outputs": [],
   "source": [],
   "metadata": {
    "collapsed": false,
    "pycharm": {
     "name": "#%%\n"
    }
   }
  },
  {
   "cell_type": "code",
   "execution_count": null,
   "outputs": [],
   "source": [],
   "metadata": {
    "collapsed": false,
    "pycharm": {
     "name": "#%%\n"
    }
   }
  },
  {
   "cell_type": "code",
   "execution_count": null,
   "outputs": [],
   "source": [],
   "metadata": {
    "collapsed": false,
    "pycharm": {
     "name": "#%%\n"
    }
   }
  },
  {
   "cell_type": "code",
   "execution_count": null,
   "outputs": [],
   "source": [],
   "metadata": {
    "collapsed": false,
    "pycharm": {
     "name": "#%%\n"
    }
   }
  }
 ],
 "metadata": {
  "kernelspec": {
   "display_name": "Python 3",
   "language": "python",
   "name": "python3"
  },
  "language_info": {
   "codemirror_mode": {
    "name": "ipython",
    "version": 2
   },
   "file_extension": ".py",
   "mimetype": "text/x-python",
   "name": "python",
   "nbconvert_exporter": "python",
   "pygments_lexer": "ipython2",
   "version": "2.7.6"
  }
 },
 "nbformat": 4,
 "nbformat_minor": 0
}
{
 "cells": [
  {
   "cell_type": "code",
   "execution_count": 1,
   "metadata": {
    "collapsed": true
   },
   "outputs": [],
   "source": [
    "import jsonlines\n",
    "import json\n",
    "import random"
   ]
  },
  {
   "cell_type": "code",
   "execution_count": null,
   "outputs": [],
   "source": [],
   "metadata": {
    "collapsed": false
   }
  },
  {
   "cell_type": "code",
   "execution_count": 3,
   "outputs": [
    {
     "name": "stdout",
     "output_type": "stream",
     "text": [
      "train\n",
      "dev\n",
      "test\n"
     ]
    }
   ],
   "source": [
    "dataset_1 = \"dialogue\"\n",
    "language_1 = \"chinese\"\n",
    "dataset_2 = \"dialogue_xlmr\"\n",
    "language_2 = \"english\"\n",
    "dataset_3 = \"dialogue_reduced_dev\"\n",
    "language_3 = \"farsi\"\n",
    "\n",
    "for split in [\"train\", \"dev\", \"test\"]:\n",
    "    print(split)\n",
    "    temp = []\n",
    "    with open('data/experiment_inputs/'+dataset_1+\"_\"+language_1+\"/\"+split+\".\"+language_1+\".512.jsonlines\") as f:\n",
    "        reader = jsonlines.Reader(f)\n",
    "        for line in reader:\n",
    "            temp.append(json.dumps(line))\n",
    "    with open('data/experiment_inputs/'+dataset_2+\"_\"+language_2+\"/\"+split+\".\"+language_2+\".512.jsonlines\") as f:\n",
    "        reader = jsonlines.Reader(f)\n",
    "        for line in reader:\n",
    "            temp.append(json.dumps(line))\n",
    "    with open('data/experiment_inputs/'+dataset_3+\"_\"+language_3+\"/\"+split+\".\"+language_3+\".512.jsonlines\") as f:\n",
    "        reader = jsonlines.Reader(f)\n",
    "        for line in reader:\n",
    "            temp.append(json.dumps(line))\n",
    "\n",
    "    random.shuffle(temp)\n",
    "\n",
    "    with open('data/experiment_inputs/'+dataset_1+\"_\"+language_1+\"_\"+language_2+\"_\"+language_3+\"/\"+split+\".\"+language_1+\"_\"+language_2+\"_\"+language_3+\".512.jsonlines\", 'w') as output_file:\n",
    "        for document in temp:\n",
    "            output_file.write(document)\n",
    "            output_file.write('\\n')"
   ],
   "metadata": {
    "collapsed": false
   }
  },
  {
   "cell_type": "code",
   "execution_count": 15,
   "outputs": [],
   "source": [
    "# Mix OntoNotes-en + Dialogue-en + Dialogue-zh\n",
    "for split in [\"train\", \"dev\", \"test\"]:\n",
    "    temp = []\n",
    "    with open('data/experiment_inputs/dialogue_chinese_english/'+split+\".chinese_english.512.jsonlines\") as f:\n",
    "        reader = jsonlines.Reader(f)\n",
    "        for line in reader:\n",
    "            temp.append(json.dumps(line))\n",
    "    with open('data/experiment_inputs/ontonotes_english/'+split+\".english.512.jsonlines\") as f:\n",
    "        reader = jsonlines.Reader(f)\n",
    "        for line in reader:\n",
    "            temp.append(json.dumps(line))\n",
    "    random.shuffle(temp)\n",
    "    with open('data/experiment_inputs/ontonotes-en-dialogue-en-zh_chinese_english/'+split+\".chinese_english.512.jsonlines\", 'w') as output_file:\n",
    "        for document in temp:\n",
    "            output_file.write(document)\n",
    "            output_file.write('\\n')"
   ],
   "metadata": {
    "collapsed": false
   }
  },
  {
   "cell_type": "code",
   "execution_count": null,
   "outputs": [],
   "source": [],
   "metadata": {
    "collapsed": false
   }
  },
  {
   "cell_type": "markdown",
   "source": [
    "## Build TBBT Train and TBBT&Friends Test"
   ],
   "metadata": {
    "collapsed": false
   }
  },
  {
   "cell_type": "code",
   "execution_count": 7,
   "outputs": [],
   "source": [
    "# MC-Friends\n",
    "for split in [\"train\", \"dev\", \"test\"]:\n",
    "    temp = []\n",
    "    with open('data/experiment_inputs/dialogue_english/'+split+\".english.512.jsonlines\") as f:\n",
    "        reader = jsonlines.Reader(f)\n",
    "        for line in reader:\n",
    "            if line['doc_key'].strip().split(\"_\")[0][9]!=\"f\":\n",
    "                continue\n",
    "            # print(line['doc_key'].strip().split(\"_\")[0], line['doc_key'].strip().split(\"_\")[0][9])\n",
    "            temp.append(json.dumps(line))\n",
    "    with open('data/experiment_inputs/friends_english/'+split+\".english.512.jsonlines\", 'w') as output_file:\n",
    "        for document in temp:\n",
    "            output_file.write(document)\n",
    "            output_file.write('\\n')"
   ],
   "metadata": {
    "collapsed": false
   }
  },
  {
   "cell_type": "code",
   "execution_count": 10,
   "outputs": [],
   "source": [
    "# Regular Dialogue English\n",
    "# MC-TBBT\n",
    "for split in [\"train\", \"dev\", \"test\"]:\n",
    "    temp = []\n",
    "    with open('data/experiment_inputs/dialogue_english/'+split+\".english.512.jsonlines\") as f:\n",
    "        reader = jsonlines.Reader(f)\n",
    "        for line in reader:\n",
    "            if line['doc_key'].strip().split(\"_\")[0][9]!=\"t\":\n",
    "                continue\n",
    "            # print(line['doc_key'].strip().split(\"_\")[0], line['doc_key'].strip().split(\"_\")[0][9])\n",
    "            temp.append(json.dumps(line))\n",
    "    with open('data/experiment_inputs/tbbt_english/'+split+\".english.512.jsonlines\", 'w') as output_file:\n",
    "        for document in temp:\n",
    "            output_file.write(document)\n",
    "            output_file.write('\\n')\n",
    "\n",
    "# MC-Friends\n",
    "for split in [\"train\", \"dev\", \"test\"]:\n",
    "    temp = []\n",
    "    with open('data/experiment_inputs/dialogue_english/'+split+\".english.512.jsonlines\") as f:\n",
    "        reader = jsonlines.Reader(f)\n",
    "        for line in reader:\n",
    "            if line['doc_key'].strip().split(\"_\")[0][9]!=\"f\":\n",
    "                continue\n",
    "            # print(line['doc_key'].strip().split(\"_\")[0], line['doc_key'].strip().split(\"_\")[0][9])\n",
    "            temp.append(json.dumps(line))\n",
    "    with open('data/experiment_inputs/friends_english/'+split+\".english.512.jsonlines\", 'w') as output_file:\n",
    "        for document in temp:\n",
    "            output_file.write(document)\n",
    "            output_file.write('\\n')"
   ],
   "metadata": {
    "collapsed": false
   }
  },
  {
   "cell_type": "code",
   "execution_count": 2,
   "outputs": [],
   "source": [
    "# XLMR Dialogue English\n",
    "# MC-TBBT\n",
    "for split in [\"train\", \"dev\", \"test\"]:\n",
    "    temp = []\n",
    "    with open('data/experiment_inputs/dialogue_xlmr_english/'+split+\".english.512.jsonlines\") as f:\n",
    "        reader = jsonlines.Reader(f)\n",
    "        for line in reader:\n",
    "            if line['doc_key'].strip().split(\"_\")[0][9]!=\"t\":\n",
    "                continue\n",
    "            # print(line['doc_key'].strip().split(\"_\")[0], line['doc_key'].strip().split(\"_\")[0][9])\n",
    "            temp.append(json.dumps(line))\n",
    "    with open('data/experiment_inputs/tbbt_xlmr_english/'+split+\".english.512.jsonlines\", 'w') as output_file:\n",
    "        for document in temp:\n",
    "            output_file.write(document)\n",
    "            output_file.write('\\n')\n",
    "\n",
    "# MC-Friends\n",
    "for split in [\"train\", \"dev\", \"test\"]:\n",
    "    temp = []\n",
    "    with open('data/experiment_inputs/dialogue_xlmr_english/'+split+\".english.512.jsonlines\") as f:\n",
    "        reader = jsonlines.Reader(f)\n",
    "        for line in reader:\n",
    "            if line['doc_key'].strip().split(\"_\")[0][9]!=\"f\":\n",
    "                continue\n",
    "            # print(line['doc_key'].strip().split(\"_\")[0], line['doc_key'].strip().split(\"_\")[0][9])\n",
    "            temp.append(json.dumps(line))\n",
    "    with open('data/experiment_inputs/friends_xlmr_english/'+split+\".english.512.jsonlines\", 'w') as output_file:\n",
    "        for document in temp:\n",
    "            output_file.write(document)\n",
    "            output_file.write('\\n')"
   ],
   "metadata": {
    "collapsed": false
   }
  },
  {
   "cell_type": "code",
   "execution_count": 24,
   "outputs": [],
   "source": [
    "# Name Replaced English\n",
    "# MC-TBBT\n",
    "for split in [\"train\", \"dev\", \"test\"]:\n",
    "    temp = []\n",
    "    with open('data/experiment_inputs/dialogue_name_replaced_english/'+split+\".english.512.jsonlines\") as f:\n",
    "        reader = jsonlines.Reader(f)\n",
    "        for line in reader:\n",
    "            if line['doc_key'].strip().split(\"_\")[0][9]!=\"t\":\n",
    "                continue\n",
    "            # print(line['doc_key'].strip().split(\"_\")[0], line['doc_key'].strip().split(\"_\")[0][9])\n",
    "            temp.append(json.dumps(line))\n",
    "    with open('data/experiment_inputs/tbbt_name_replaced_english/'+split+\".english.512.jsonlines\", 'w') as output_file:\n",
    "        for document in temp:\n",
    "            output_file.write(document)\n",
    "            output_file.write('\\n')\n",
    "\n",
    "# MC-Friends\n",
    "for split in [\"train\", \"dev\", \"test\"]:\n",
    "    temp = []\n",
    "    with open('data/experiment_inputs/dialogue_name_replaced_english/'+split+\".english.512.jsonlines\") as f:\n",
    "        reader = jsonlines.Reader(f)\n",
    "        for line in reader:\n",
    "            if line['doc_key'].strip().split(\"_\")[0][9]!=\"f\":\n",
    "                continue\n",
    "            # print(line['doc_key'].strip().split(\"_\")[0], line['doc_key'].strip().split(\"_\")[0][9])\n",
    "            temp.append(json.dumps(line))\n",
    "    with open('data/experiment_inputs/friends_name_replaced_english/'+split+\".english.512.jsonlines\", 'w') as output_file:\n",
    "        for document in temp:\n",
    "            output_file.write(document)\n",
    "            output_file.write('\\n')"
   ],
   "metadata": {
    "collapsed": false
   }
  },
  {
   "cell_type": "code",
   "execution_count": null,
   "outputs": [],
   "source": [],
   "metadata": {
    "collapsed": false
   }
  },
  {
   "cell_type": "code",
   "execution_count": null,
   "outputs": [],
   "source": [],
   "metadata": {
    "collapsed": false
   }
  },
  {
   "cell_type": "code",
   "execution_count": 21,
   "outputs": [],
   "source": [
    "for split in [\"train\", \"dev\", \"test\"]:\n",
    "    temp = []\n",
    "    with open('data/experiment_inputs/dialogue_chinese_broken_chain_fixed/'+split+\".chinese.512.jsonlines\") as f:\n",
    "        reader = jsonlines.Reader(f)\n",
    "        for line in reader:\n",
    "            if line['doc_key'].strip().split(\"_\")[0][9]!=\"t\":\n",
    "                continue\n",
    "            temp.append(json.dumps(line))\n",
    "    with open('data/experiment_inputs/tbbt_chinese/'+split+\".chinese.512.jsonlines\", 'w') as output_file:\n",
    "        for document in temp:\n",
    "            output_file.write(document)\n",
    "            output_file.write('\\n')\n",
    "\n",
    "\n",
    "for split in [\"train\", \"dev\", \"test\"]:\n",
    "    temp = []\n",
    "    with open('data/experiment_inputs/dialogue_chinese_broken_chain_fixed/'+split+\".chinese.512.jsonlines\") as f:\n",
    "        reader = jsonlines.Reader(f)\n",
    "        for line in reader:\n",
    "            if line['doc_key'].strip().split(\"_\")[0][9]!=\"f\":\n",
    "                continue\n",
    "            temp.append(json.dumps(line))\n",
    "    with open('data/experiment_inputs/friends_chinese/'+split+\".chinese.512.jsonlines\", 'w') as output_file:\n",
    "        for document in temp:\n",
    "            output_file.write(document)\n",
    "            output_file.write('\\n')"
   ],
   "metadata": {
    "collapsed": false
   }
  },
  {
   "cell_type": "code",
   "execution_count": 30,
   "outputs": [],
   "source": [
    "for split in [\"test\"]:\n",
    "    temp = []\n",
    "    with open('data/experiment_inputs/dialogue_all_corrected_chinese/'+split+\".chinese.512.jsonlines\") as f:\n",
    "        reader = jsonlines.Reader(f)\n",
    "        for line in reader:\n",
    "            if line['doc_key'].strip().split(\"_\")[0][9]!=\"t\":\n",
    "                continue\n",
    "            temp.append(json.dumps(line))\n",
    "    with open('data/experiment_inputs/tbbt_chinese/'+split+\".chinese.512.jsonlines\", 'w') as output_file:\n",
    "        for document in temp:\n",
    "            output_file.write(document)\n",
    "            output_file.write('\\n')\n",
    "for split in [\"test\"]:\n",
    "    temp = []\n",
    "    with open('data/experiment_inputs/dialogue_all_corrected_chinese/'+split+\".chinese.512.jsonlines\") as f:\n",
    "        reader = jsonlines.Reader(f)\n",
    "        for line in reader:\n",
    "            if line['doc_key'].strip().split(\"_\")[0][9]!=\"f\":\n",
    "                continue\n",
    "            temp.append(json.dumps(line))\n",
    "    with open('data/experiment_inputs/friends_chinese/'+split+\".chinese.512.jsonlines\", 'w') as output_file:\n",
    "        for document in temp:\n",
    "            output_file.write(document)\n",
    "            output_file.write('\\n')"
   ],
   "metadata": {
    "collapsed": false
   }
  },
  {
   "cell_type": "markdown",
   "source": [
    "## Split OntoNotes by Speaker Number"
   ],
   "metadata": {
    "collapsed": false
   }
  },
  {
   "cell_type": "code",
   "execution_count": 15,
   "outputs": [],
   "source": [
    "\"\"\"\n",
    "short: num_speaker <= 1\n",
    "medium: num_speaker == 2\n",
    "long: num_speaker > 2\n",
    "\"\"\"\n",
    "\n",
    "for split in [\"train\", \"dev\", \"test\"]:\n",
    "    temp = []\n",
    "    with open('data/experiment_inputs/ontonotes_english/'+split+\".english.512.jsonlines\") as f:\n",
    "        reader = jsonlines.Reader(f)\n",
    "        for line in reader:\n",
    "            speakers = []\n",
    "            for x in line['speakers']:\n",
    "                speakers.extend(x)\n",
    "            speakers = set(speakers)\n",
    "            speakers.remove('[SPL]')\n",
    "            # if len(speakers) <= 1: # Short\n",
    "            # if len(speakers) == 2: # Medium\n",
    "            if len(speakers) > 2: # Long\n",
    "                temp.append(json.dumps(line))\n",
    "    with open('data/experiment_inputs/ontonotes_long_english/'+split+\".english.512.jsonlines\", 'w') as output_file:\n",
    "        for document in temp:\n",
    "            output_file.write(document)\n",
    "            output_file.write('\\n')"
   ],
   "metadata": {
    "collapsed": false
   }
  },
  {
   "cell_type": "code",
   "execution_count": null,
   "outputs": [],
   "source": [
    "# Regular OntoNotes\n",
    "\"\"\"\n",
    "short: num_speaker <= 1\n",
    "medium: num_speaker == 2\n",
    "long: num_speaker > 2\n",
    "\"\"\"\n",
    "\n",
    "for split in [\"train\", \"dev\", \"test\"]:\n",
    "    temp = []\n",
    "    with open('data/experiment_inputs/ontonotes_english/'+split+\".english.512.jsonlines\") as f:\n",
    "        reader = jsonlines.Reader(f)\n",
    "        for line in reader:\n",
    "            speakers = []\n",
    "            for x in line['speakers']:\n",
    "                speakers.extend(x)\n",
    "            speakers = set(speakers)\n",
    "            speakers.remove('[SPL]')\n",
    "            # if len(speakers) <= 1: # Short\n",
    "            # if len(speakers) == 2: # Medium\n",
    "            if len(speakers) > 2: # Long\n",
    "                temp.append(json.dumps(line))\n",
    "    with open('data/experiment_inputs/ontonotes_long_english/'+split+\".english.512.jsonlines\", 'w') as output_file:\n",
    "        for document in temp:\n",
    "            output_file.write(document)\n",
    "            output_file.write('\\n')"
   ],
   "metadata": {
    "collapsed": false
   }
  },
  {
   "cell_type": "code",
   "execution_count": 6,
   "outputs": [],
   "source": [
    "# XLMR OntoNotes\n",
    "\"\"\"\n",
    "short: num_speaker <= 1\n",
    "medium: num_speaker == 2\n",
    "long: num_speaker > 2\n",
    "\"\"\"\n",
    "\n",
    "for split in [\"train\", \"dev\", \"test\"]:\n",
    "    temp = []\n",
    "    with open('data/experiment_inputs/ontonotes_xlmr_english/'+split+\".english.512.jsonlines\") as f:\n",
    "        reader = jsonlines.Reader(f)\n",
    "        for line in reader:\n",
    "            speakers = []\n",
    "            for x in line['speakers']:\n",
    "                speakers.extend(x)\n",
    "            speakers = set(speakers)\n",
    "            speakers.remove('[SPL]')\n",
    "            if len(speakers) <= 1: # Short\n",
    "            # if len(speakers) == 2: # Medium\n",
    "            # if len(speakers) > 2: # Long\n",
    "                temp.append(json.dumps(line))\n",
    "    with open('data/experiment_inputs/ontonotes_xlmr_short_english/'+split+\".english.512.jsonlines\", 'w') as output_file:\n",
    "        for document in temp:\n",
    "            output_file.write(document)\n",
    "            output_file.write('\\n')"
   ],
   "metadata": {
    "collapsed": false
   }
  },
  {
   "cell_type": "code",
   "execution_count": null,
   "outputs": [],
   "source": [],
   "metadata": {
    "collapsed": false
   }
  },
  {
   "cell_type": "code",
   "execution_count": 31,
   "outputs": [
    {
     "data": {
      "text/plain": "3.979999999999997"
     },
     "execution_count": 31,
     "metadata": {},
     "output_type": "execute_result"
    }
   ],
   "source": [
    "51.87-47.89"
   ],
   "metadata": {
    "collapsed": false
   }
  },
  {
   "cell_type": "code",
   "execution_count": 32,
   "outputs": [
    {
     "data": {
      "text/plain": "3.979999999999997"
     },
     "execution_count": 32,
     "metadata": {},
     "output_type": "execute_result"
    }
   ],
   "source": [
    "51.87-47.89"
   ],
   "metadata": {
    "collapsed": false
   }
  },
  {
   "cell_type": "code",
   "execution_count": 37,
   "outputs": [
    {
     "name": "stdout",
     "output_type": "stream",
     "text": [
      "2.049999999999997\n",
      "0.8499999999999943\n",
      "2.010000000000005\n",
      "2.440000000000005\n"
     ]
    }
   ],
   "source": [
    "print(39.23-37.18)\n",
    "print(37.41-36.56)\n",
    "print(49.38-47.37)\n",
    "print(51.09-48.65)"
   ],
   "metadata": {
    "collapsed": false
   }
  },
  {
   "cell_type": "code",
   "execution_count": 16,
   "outputs": [
    {
     "name": "stdout",
     "output_type": "stream",
     "text": [
      "train\n",
      "dev\n",
      "test\n"
     ]
    }
   ],
   "source": [
    "dataset_1 = \"ontonotes\"\n",
    "language_1 = \"english\"\n",
    "dataset_2 = \"dialogue\"\n",
    "language_2 = \"english\"\n",
    "\n",
    "for split in [\"train\", \"dev\", \"test\"]:\n",
    "    print(split)\n",
    "    temp = []\n",
    "    with open('data/experiment_inputs/'+dataset_1+\"_\"+language_1+\"/\"+split+\".\"+language_1+\".512.jsonlines\") as f:\n",
    "        reader = jsonlines.Reader(f)\n",
    "        for line in reader:\n",
    "            temp.append(json.dumps(line))\n",
    "    with open('data/experiment_inputs/'+dataset_2+\"_\"+language_2+\"/\"+split+\".\"+language_2+\".512.jsonlines\") as f:\n",
    "        reader = jsonlines.Reader(f)\n",
    "        for line in reader:\n",
    "            temp.append(json.dumps(line))\n",
    "\n",
    "    random.shuffle(temp)\n",
    "\n",
    "    with open('data/experiment_inputs/'+\"mix_\"+dataset_1+\"_\"+dataset_2+\"_\"+language_1+\"/\"+split+\".\"+language_2+\".512.jsonlines\", 'w') as output_file:\n",
    "        for document in temp:\n",
    "            output_file.write(document)\n",
    "            output_file.write('\\n')"
   ],
   "metadata": {
    "collapsed": false
   }
  },
  {
   "cell_type": "code",
   "execution_count": 22,
   "outputs": [
    {
     "name": "stdout",
     "output_type": "stream",
     "text": [
      "train\n",
      "dev\n",
      "test\n"
     ]
    }
   ],
   "source": [
    "dataset_1 = \"ontonotes\"\n",
    "language_1 = \"chinese\"\n",
    "dataset_2 = \"dialogue\"\n",
    "language_2 = \"chinese\"\n",
    "\n",
    "for split in [\"train\", \"dev\", \"test\"]:\n",
    "    print(split)\n",
    "    temp = []\n",
    "    with open('data/experiment_inputs/'+dataset_1+\"_\"+language_1+\"/\"+split+\".\"+language_1+\".512.jsonlines\") as f:\n",
    "        reader = jsonlines.Reader(f)\n",
    "        for line in reader:\n",
    "            temp.append(json.dumps(line))\n",
    "    with open('data/experiment_inputs/'+dataset_2+\"_\"+language_2+\"/\"+split+\".\"+language_2+\".512.jsonlines\") as f:\n",
    "        reader = jsonlines.Reader(f)\n",
    "        for line in reader:\n",
    "            temp.append(json.dumps(line))\n",
    "\n",
    "    random.shuffle(temp)\n",
    "\n",
    "    with open('data/experiment_inputs/'+\"mix_\"+dataset_1+\"_\"+dataset_2+\"_\"+language_1+\"/\"+split+\".\"+language_2+\".512.jsonlines\", 'w') as output_file:\n",
    "        for document in temp:\n",
    "            output_file.write(document)\n",
    "            output_file.write('\\n')"
   ],
   "metadata": {
    "collapsed": false
   }
  },
  {
   "cell_type": "code",
   "execution_count": 9,
   "outputs": [
    {
     "name": "stdout",
     "output_type": "stream",
     "text": [
      "train\n",
      "6515\n",
      "dev\n",
      "268\n",
      "test\n",
      "266\n"
     ]
    }
   ],
   "source": [
    "dataset_1 = \"ontonotes_dialogue\"\n",
    "language_1 = \"english\"\n",
    "dataset_2 = \"ontonotes_dialogue\"\n",
    "language_2 = \"chinese\"\n",
    "\n",
    "for split in [\"train\", \"dev\", \"test\"]:\n",
    "    print(split)\n",
    "    temp = []\n",
    "    with open('data/experiment_inputs/'+\"mix_\"+dataset_1+\"_\"+language_1+\"/\"+split+\".\"+language_1+\".512.jsonlines\") as f:\n",
    "        reader = jsonlines.Reader(f)\n",
    "        for line in reader:\n",
    "            temp.append(json.dumps(line))\n",
    "    with open('data/experiment_inputs/'+\"mix_\"+dataset_2+\"_\"+language_2+\"/\"+split+\".\"+language_2+\".512.jsonlines\") as f:\n",
    "        reader = jsonlines.Reader(f)\n",
    "        for line in reader:\n",
    "            temp.append(json.dumps(line))\n",
    "\n",
    "    random.shuffle(temp)\n",
    "    print(len(temp))\n",
    "    with open('data/experiment_inputs/'+\"mix_\"+dataset_2+\"_\"+language_1+\"_\"+language_2+\"/\"+split+\".\"+language_1+\"_\"+language_2+\".512.jsonlines\", 'w') as output_file:\n",
    "        for document in temp:\n",
    "            output_file.write(document)\n",
    "            output_file.write('\\n')"
   ],
   "metadata": {
    "collapsed": false
   }
  },
  {
   "cell_type": "code",
   "execution_count": null,
   "outputs": [],
   "source": [],
   "metadata": {
    "collapsed": false
   }
  },
  {
   "cell_type": "markdown",
   "source": [
    "## Pick Dialogue Style OntoNotes"
   ],
   "metadata": {
    "collapsed": false
   }
  },
  {
   "cell_type": "code",
   "execution_count": 79,
   "outputs": [],
   "source": [
    "data = []\n",
    "with open('data/experiment_inputs/ontonotes_english/test.english.512.jsonlines', 'r') as f:\n",
    "    reader = jsonlines.Reader(f)\n",
    "    for line in reader:\n",
    "        data.append(line)\n",
    "with open('data/experiment_inputs/ontonotes_english/train.english.512.jsonlines', 'r') as f:\n",
    "    reader = jsonlines.Reader(f)\n",
    "    for line in reader:\n",
    "        data.append(line)\n",
    "with open('data/experiment_inputs/ontonotes_english/dev.english.512.jsonlines', 'r') as f:\n",
    "    reader = jsonlines.Reader(f)\n",
    "    for line in reader:\n",
    "        data.append(line)"
   ],
   "metadata": {
    "collapsed": false
   }
  },
  {
   "cell_type": "code",
   "execution_count": 80,
   "outputs": [
    {
     "name": "stdout",
     "output_type": "stream",
     "text": [
      "dict_keys(['doc_key', 'tokens', 'sentences', 'speakers', 'constituents', 'ner', 'clusters', 'sentence_map', 'subtoken_map', 'pronouns'])\n"
     ]
    }
   ],
   "source": [
    "print(data[0].keys())"
   ],
   "metadata": {
    "collapsed": false
   }
  },
  {
   "cell_type": "code",
   "execution_count": 81,
   "outputs": [
    {
     "name": "stdout",
     "output_type": "stream",
     "text": [
      "[['[SPL]', 'speaker#1', 'speaker#1', 'speaker#1', 'speaker#1', 'speaker#1', 'speaker#1', 'speaker#1', 'speaker#1', 'speaker#1', 'speaker#1', 'speaker#1', 'speaker#1', 'speaker#1', 'speaker#1', 'speaker#1', 'speaker#1', 'speaker#1', 'speaker#1', 'speaker#1', 'speaker#1', 'speaker#1', 'speaker#1', 'speaker#1', 'speaker#1', 'speaker#1', 'speaker#1', 'speaker#1', 'speaker#1', 'speaker#1', 'speaker#1', 'speaker#1', 'speaker#1', 'speaker#1', 'speaker#1', 'speaker#1', 'speaker#1', 'speaker#1', 'speaker#1', 'speaker#1', 'speaker#1', 'speaker#1', 'speaker#1', 'speaker#1', 'speaker#1', 'speaker#1', 'speaker#1', 'speaker#1', 'speaker#1', 'speaker#1', 'speaker#1', 'speaker#1', 'speaker#1', 'speaker#1', 'speaker#1', 'speaker#1', 'speaker#1', 'speaker#1', 'speaker#1', 'speaker#1', 'speaker#1', 'speaker#1', 'speaker#1', 'speaker#1', 'speaker#1', 'speaker#1', 'speaker#1', 'speaker#1', 'speaker#1', 'speaker#1', 'Xu_li', 'Xu_li', 'Xu_li', 'Xu_li', 'Xu_li', 'Xu_li', 'Xu_li', 'Xu_li', 'Xu_li', 'Xu_li', 'Xu_li', 'Xu_li', 'Xu_li', 'Xu_li', 'Xu_li', 'Xu_li', 'Xu_li', 'Xu_li', 'Xu_li', 'Xu_li', 'Xu_li', 'Xu_li', 'Xu_li', 'Xu_li', 'Xu_li', 'Xu_li', 'Xu_li', 'Xu_li', 'Xu_li', 'Xu_li', 'Xu_li', 'Xu_li', 'Xu_li', 'Xu_li', 'Xu_li', 'Xu_li', 'Xu_li', 'Xu_li', 'Xu_li', 'Xu_li', 'Xu_li', 'Xu_li', 'Xu_li', 'Xu_li', 'Xu_li', 'Xu_li', 'Xu_li', '[SPL]']]\n"
     ]
    }
   ],
   "source": [
    "print(data[0]['speakers'])"
   ],
   "metadata": {
    "collapsed": false
   }
  },
  {
   "cell_type": "code",
   "execution_count": 86,
   "outputs": [
    {
     "name": "stdout",
     "output_type": "stream",
     "text": [
      "bc/cctv/00/cctv_0005_1 4 {'Wang_shilin', '[SPL]', 'Zhou_hanhua', 'Yang_yang'}\n",
      "bc/cctv/00/cctv_0005_2 5 {'Zhou_hanhua', 'Zhou_hanhua,Wang_shilin,Zhou_hanhua', '[SPL]', 'Yang_yang', 'Wang_shilin'}\n",
      "bc/cctv/00/cctv_0005_3 4 {'Wang_shilin', '[SPL]', 'Zhou_hanhua', 'Yang_yang'}\n",
      "bc/cctv/00/cctv_0005_4 5 {'speaker#3', 'speaker#2', '[SPL]', 'speaker#4', 'Wang_shilin'}\n",
      "bc/cctv/00/cctv_0005_10 4 {'Wang_shilin', '[SPL]', 'Zhou_hanhua', 'Yang_yang'}\n",
      "bc/cctv/00/cctv_0005_11 4 {'Wang_shilin', '[SPL]', 'Zhou_hanhua', 'Yang_yang'}\n",
      "bc/cctv/00/cctv_0005_16 5 {'[SPL]', 'Wang_shilin,Yang_yang', 'Yang_yang', 'Wang_shilin', 'Yang_yang,Wang_shilin'}\n",
      "bc/cnn/00/cnn_0008_2 5 {'Arianna_Huffington', '[SPL]', 'Lucy_Dalglish', 'Frank_Sesno', 'Howard_Kurtz'}\n",
      "bc/cnn/00/cnn_0008_3 5 {'Arianna_Huffington', '[SPL]', 'Lucy_Dalglish', 'Frank_Sesno', 'Howard_Kurtz'}\n",
      "bc/cnn/00/cnn_0008_4 5 {'Arianna_Huffington', '[SPL]', 'Lucy_Dalglish', 'Frank_Sesno', 'Howard_Kurtz'}\n",
      "bc/cnn/00/cnn_0008_5 11 {'Arianna_Huffington', 'Jeff_Greenfield', '[SPL]', 'Lucy_Dalglish', 'speaker2', 'speaker1', 'President_Bush', 'Frank_Sesno', '_Bill_Schneider', 'Howard_Kurtz', \"Bill_O'Reilly\"}\n",
      "bc/cnn/00/cnn_0008_6 4 {'Louis_Freeh', 'Lanny_Davis', 'Howard_Kurtz', '[SPL]'}\n",
      "bc/cnn/00/cnn_0008_14 7 {'Anderson_Cooper', 'Bob_Schieffer', 'speaker4', '[SPL]', 'Alan_Colmes', 'Keith_Olbermann', 'Howard_Kurtz'}\n",
      "bc/cnn/00/cnn_0008_15 5 {'speaker5', '[SPL]', 'Michelle_Kosinski', 'Wolf_Blitzer', 'Howard_Kurtz'}\n",
      "bc/msnbc/00/msnbc_0007_0 4 {'[SPL]', 'speaker_3', 'speaker_1', 'speaker_2'}\n",
      "bc/msnbc/00/msnbc_0007_5 4 {'[SPL]', 'Nicholas_Burns', 'Tim_Russert', 'President_Bush'}\n",
      "bc/msnbc/00/msnbc_0007_7 4 {'[SPL]', 'Robert_Gallucci', 'Governor_Richardson', 'Tim_Russert'}\n",
      "bc/msnbc/00/msnbc_0007_9 4 {'[SPL]', 'Governor_Richardson', 'Tim_Russert', 'Madeline_Albright'}\n",
      "bc/msnbc/00/msnbc_0007_11 7 {'Bill_Clinton', 'Governor_Richardson', '[SPL]', 'Robert_Gallucci', 'Tim_Russert', 'President_Bush', 'Ashton_Carter'}\n",
      "bc/msnbc/00/msnbc_0007_13 4 {'Speaker_5', 'President_Ford', 'Tim_Russert', '[SPL]'}\n",
      "bc/phoenix/00/phoenix_0003_0 6 {'Ye_jingzhong', 'speaker#3', 'speaker#2', '-', 'speaker#1', '[SPL]'}\n",
      "bc/phoenix/00/phoenix_0003_2 4 {'speaker#1', '[SPL]', 'speaker#3', 'Ye_jingzhong'}\n",
      "bc/phoenix/00/phoenix_0003_3 8 {'speaker#5', 'speaker#3', 'Ye_jingzhong', '-', 'speaker#1', '[SPL]', 'speaker#4', 'Jiang_beiwen'}\n",
      "bc/phoenix/00/phoenix_0003_4 6 {'speaker#5', 'speaker#3', 'Ye_jingzhong', 'speaker#1', '[SPL]', 'Jiang_beiwen'}\n",
      "bc/phoenix/00/phoenix_0003_5 5 {'speaker#5', 'speaker#3', 'Ye_jingzhong', '[SPL]', 'Jiang_beiwen'}\n",
      "bc/phoenix/00/phoenix_0003_6 4 {'speaker#1', '[SPL]', 'speaker#3', 'Ye_jingzhong'}\n",
      "wb/a2e/00/a2e_0009_2 5 {'_متعاون_', '-', '_فوق_الشمس_', '[SPL]', '_الهاوي_'}\n",
      "wb/a2e/00/a2e_0009_3 5 {'_متعاون_', '-', '[SPL]', '_قيس_ابن_ابيه_', '_الاماراتى_'}\n",
      "wb/a2e/00/a2e_0029_0 8 {'_ابو_بكر_الرازي_', '-', '_رئيس_النادي_', '_منبع_الكلمة_', '[SPL]', '_ولد_الباطن_', '_فريدمن_نوعه_', '_الوهج_'}\n",
      "wb/a2e/00/a2e_0029_1 6 {'_ابو_جوري_', '-', '_منبع_الكلمة_', '[SPL]', '_ولد_الباطن_', '_ســالــم_'}\n",
      "wb/c2e/00/c2e_0049_0 4 {'[SPL]', '_郭凯经济笔记_', '_darling0823_', '-'}\n",
      "wb/eng/00/eng_0009_0 5 {'_Anonymous_', '[SPL]', '_Sepka_the_Space_Weasel_', '_ericswan_', '_Jeff_'}\n",
      "wb/eng/00/eng_0009_1 6 {'_Anonymous_', '[SPL]', '_Richard_', '_ericswan_', '_jon_', '_starroute_'}\n",
      "wb/eng/00/eng_0009_2 4 {'_Richard_', '_Anonymous_', '_DaftAida_', '[SPL]'}\n",
      "wb/eng/00/eng_0009_3 8 {'_Anonymous_', '_Cadmus_', '[SPL]', '_ericswan_', '_DaftAida_', '_Folly_', '_starroute_', '_Nate_'}\n",
      "wb/eng/00/eng_0009_4 4 {'[SPL]', '_starroute_', '_Anonymous_', '_foist_lastus_'}\n",
      "wb/eng/00/eng_0009_5 7 {'_Tronicus_', '_Anonymous_', '_Avalon_', '[SPL]', '_Lone_Ranger_', '_starroute_', '_Hilda_Martinez_'}\n",
      "wb/eng/00/eng_0009_6 9 {'_Anonymous_', '_Avalon_', '_Max_Lichtor_', '_Kiba_', '[SPL]', '_Mickey_', '_TheTruthIsOutThere_', '_Sepka_the_Space_Weasel_', '_Nate_'}\n",
      "bc/cctv/00/cctv_0001_1 4 {'Luo_huanzhang', '[SPL]', 'Luo_huanzhang,Speaker#1', 'Speaker#1'}\n",
      "bc/cctv/00/cctv_0001_2 6 {'Liu_yuke', '[SPL]', 'Xiao_jianghe', 'Speaker#1', 'Yin_yueshu', 'Duan_kai'}\n",
      "bc/cctv/00/cctv_0001_3 4 {'Luo_huanzhang', '[SPL]', 'Wang_jigang', 'Speaker#1'}\n",
      "bc/cctv/00/cctv_0001_4 6 {'Liu_yuke', '[SPL]', 'Speaker#1,Ma_xueliang', 'Guo_qingfeng', 'Speaker#1', 'Ma_xueliang'}\n",
      "bc/cctv/00/cctv_0001_5 8 {'Wang_sixiao', 'Liu_yuke', 'Guo_qingping', '[SPL]', 'Speaker#1', 'Gao_guoxi', 'Yin_yueshu', 'Duan_kai'}\n",
      "bc/cctv/00/cctv_0001_7 7 {'Speaker#4', '[SPL]', 'Gao_guoxi', 'Speaker#1', 'Xu_xiaobing', 'Zhang_hengcai', 'Duan_kai'}\n",
      "bc/cctv/00/cctv_0001_8 4 {'[SPL]', 'Speaker#6', '-', 'Speaker#5'}\n",
      "bc/cctv/00/cctv_0002_2 4 {'Liu_jiangyong', '[SPL]', 'Wang_Shilin', 'Liu_jiangyong,Wang_Shilin,Wang_Shilin,Wang_Shilin,Wang_Shilin,Liu_jiangyong,Liu_jiangyong'}\n",
      "bc/cctv/00/cctv_0002_3 5 {'Jin_xide', 'Wang_Shilin', 'Liu_jiangyong,Wang_Shilin,Liu_jiangyong', 'Liu_jiangyong', '[SPL]'}\n",
      "bc/cctv/00/cctv_0002_6 5 {'Jin_xide', 'Wang_Shilin', 'Liu_jiangyong', '[SPL]', 'Liu_jiangyong,Wang_Shilin,Wang_Shilin,Wang_Shilin,Liu_jiangyong'}\n",
      "bc/cctv/00/cctv_0002_7 4 {'Jin_xide', 'Liu_jiangyong', 'Wang_Shilin', '[SPL]'}\n",
      "bc/cctv/00/cctv_0002_8 4 {'Jin_xide', 'Liu_jiangyong', 'Wang_Shilin', '[SPL]'}\n",
      "bc/cctv/00/cctv_0002_9 4 {'Jin_xide', 'Liu_jiangyong', 'Wang_Shilin', '[SPL]'}\n",
      "bc/cctv/00/cctv_0002_11 4 {'Jin_xide', '[SPL]', 'Jin_xide,Wang_Shilin,Wang_Shilin,Jin_xide', 'Wang_Shilin'}\n",
      "bc/cctv/00/cctv_0002_12 4 {'Jin_xide', 'Liu_jiangyong', 'Wang_Shilin', '[SPL]'}\n",
      "bc/cctv/00/cctv_0002_14 5 {'Jin_xide', 'Jin_xide,Wang_Shilin,Liu_jiangyong', 'Wang_Shilin', 'Liu_jiangyong', '[SPL]'}\n",
      "bc/cctv/00/cctv_0002_15 4 {'Jin_xide', 'Liu_jiangyong', 'Wang_Shilin', '[SPL]'}\n",
      "bc/cctv/00/cctv_0002_16 4 {'Jin_xide', 'Liu_jiangyong', 'Wang_Shilin', '[SPL]'}\n",
      "bc/cctv/00/cctv_0002_18 5 {'Jin_xide', 'Wang_Shilin', 'Liu_jiangyong', '[SPL]', 'Liu_jiangyong,Wang_Shilin'}\n",
      "bc/cctv/00/cctv_0003_3 5 {'Jin_xide', 'speaker#1', 'Wang_xinsheng', '[SPL]', 'Xing_guangcheng'}\n",
      "bc/cctv/00/cctv_0003_4 4 {'Jin_xide', '[SPL]', 'speaker#1', 'Xing_guangcheng'}\n",
      "bc/cctv/00/cctv_0003_6 4 {'speaker#1', '[SPL]', 'Xing_guangcheng', 'Jin_xide'}\n",
      "bc/cctv/00/cctv_0003_7 4 {'Jin_xide', '[SPL]', 'speaker#1', 'Xing_guangcheng'}\n",
      "bc/cctv/00/cctv_0003_8 5 {'Jin_xide', 'speaker#1', 'Wang_xinsheng', '[SPL]', 'Xing_guangcheng'}\n",
      "bc/cctv/00/cctv_0003_9 4 {'speaker#1', '[SPL]', 'Xing_guangcheng', 'Jin_xide'}\n",
      "bc/cctv/00/cctv_0003_13 4 {'speaker#1', '[SPL]', 'Jin_xide', 'Xing_guangcheng'}\n",
      "bc/cctv/00/cctv_0004_6 4 {'Wang_shilin', '[SPL]', 'Ruan_zongze', 'Wu_huixuan'}\n",
      "bc/cctv/00/cctv_0004_7 4 {'Wang_shilin', '[SPL]', 'speaker#1', 'Wu_huixuan'}\n",
      "bc/cctv/00/cctv_0004_8 4 {'Wang_shilin', '[SPL]', 'Ruan_zongze', 'Wu_huixuan'}\n",
      "bc/cctv/00/cctv_0004_9 4 {'Wang_shilin', '[SPL]', 'Ruan_zongze', 'Wu_huixuan'}\n",
      "bc/cctv/00/cctv_0004_12 5 {'Ruan_zongze', 'speaker#1', '[SPL]', 'Wang_shilin', 'Wu_huixuan'}\n",
      "bc/cctv/00/cctv_0004_13 4 {'Wang_shilin', '[SPL]', 'Ruan_zongze', 'Wu_huixuan'}\n",
      "bc/cctv/00/cctv_0004_15 5 {'Ruan_zongze', '[SPL]', 'Wang_shilin', 'Yi_zhate', 'Wu_huixuan'}\n",
      "bc/cctv/00/cctv_0004_16 4 {'Wang_shilin', '[SPL]', 'Ruan_zongze', 'Wu_huixuan'}\n",
      "bc/cnn/00/cnn_0001_0 4 {'Kyra_Phillips', '[SPL]', 'Rick_Sanchez', 'Larry'}\n",
      "bc/cnn/00/cnn_0001_1 4 {'[SPL]', 'Unidentified_Male_2', 'Announcer', 'Unidentified_Male'}\n",
      "bc/cnn/00/cnn_0001_2 8 {'Kyra_Phillips', '[SPL]', 'Ron_Galloway', 'Unidentified_Male_2', 'Rick_Sanchez', 'Unidentified_Female', 'Unidentified_Male', 'Unidentified_Female_2'}\n",
      "bc/cnn/00/cnn_0001_3 6 {'Kyra_Phillips', 'Tom_Foreman', '[SPL]', 'George_Miller', 'Tim_Kane', 'Andy_Grossman'}\n",
      "bc/cnn/00/cnn_0001_7 7 {'Kyra_Phillips', '[SPL]', 'Don_Paolo', 'Dan_Simon', 'Rick_Sanchez', 'Joy_Paolo', 'Daisy_Peters'}\n",
      "bc/cnn/00/cnn_0001_8 7 {'Kyra_Phillips', 'Elizabeth_English', '[SPL]', 'Rusty_Amarante', 'Rick_Sanchez', \"Miles_O'Brien\", 'Kim_Bondy'}\n",
      "bc/cnn/00/cnn_0001_10 7 {'Candy_Crowley', 'Senator_Ben_Nelson', '[SPL]', 'Crowd', 'Rick_Sanchez', 'Jeffrey_Wasserstein', 'Dick_Durbin'}\n",
      "bc/cnn/00/cnn_0001_11 9 {'Kyra_Phillips', 'Edgar_Medina', 'Chris_Lawrence', '[SPL]', 'Jamie_Foxx', 'Wesley_McBride', 'Rick_Sanchez', 'Unidentified_Male', 'Fred_Jackson'}\n",
      "bc/cnn/00/cnn_0001_15 5 {'Bill_Neely', 'Sam_Rush', '[SPL]', 'Rick_Sanchez', 'Unidentified_Male'}\n",
      "bc/cnn/00/cnn_0001_16 4 {'Kyra_Phillips', '[SPL]', 'Rick_Sanchez', 'Erica_Hill'}\n",
      "bc/cnn/00/cnn_0001_17 4 {'Kyra_Phillips', 'Dylan_Lauren', 'Rick_Sanchez', '[SPL]'}\n",
      "bc/cnn/00/cnn_0002_1 4 {'Anderson_Cooper', '[SPL]', 'Ethan_Riggs', 'Nathan_Lawson'}\n",
      "bc/cnn/00/cnn_0002_2 7 {'Anderson_Cooper', 'speaker4', '[SPL]', 'Luke_Woodham', 'speaker3', 'speaker5', 'Heidi_Collins'}\n",
      "bc/cnn/00/cnn_0002_3 4 {'Anderson_Cooper', '[SPL]', 'Jeff_Greenfield.', 'John_King'}\n",
      "bc/cnn/00/cnn_0002_6 6 {'Anderson_Cooper', 'Margaret_Jones', 'John_Jones', '[SPL]', 'speaker6', 'Rick_Sanchez'}\n",
      "bc/cnn/00/cnn_0002_12 4 {'Anderson_Cooper', 'speaker1', 'Spider_Marks', '[SPL]'}\n",
      "bc/cnn/00/cnn_0002_15 8 {'Anderson_Cooper', 'speaker7', '[SPL]', 'speaker2', 'Spider_Marks', 'Tom_Forman,Mark_Jacobson', 'Tom_Forman', 'Mark_Jacobson'}\n",
      "bc/cnn/00/cnn_0002_16 5 {'Anderson_Cooper', 'Alan_Dershowitz', 'John_Yoo', '[SPL]', 'Bill_Goodman'}\n",
      "bc/cnn/00/cnn_0002_17 4 {'Anderson_Cooper', '[SPL]', 'John_King', 'Maureen_Dowd'}\n",
      "bc/cnn/00/cnn_0003_6 4 {'caller_1', '[SPL]', 'Linda_Hamilton', 'Larry_King'}\n",
      "bc/cnn/00/cnn_0003_7 4 {'[SPL]', 'caller_2', 'Linda_Hamilton', 'Larry_King'}\n",
      "bc/cnn/00/cnn_0003_8 4 {'[SPL]', 'Linda_Hamilton', 'caller_3', 'Larry_King'}\n",
      "bc/cnn/00/cnn_0003_9 4 {'[SPL]', 'caller_4', 'Larry_King', 'Linda_Hamilton'}\n",
      "bc/cnn/00/cnn_0003_10 4 {'[SPL]', 'caller_5', 'Larry_King', 'Linda_Hamilton'}\n",
      "bc/cnn/00/cnn_0003_11 4 {'[SPL]', 'caller_6', 'Linda_Hamilton', 'Larry_King'}\n",
      "bc/cnn/00/cnn_0003_12 4 {'[SPL]', 'Linda_Hamilton', 'caller_7', 'Larry_King'}\n",
      "bc/cnn/00/cnn_0003_13 4 {'[SPL]', 'caller_8', 'Linda_Hamilton', 'Larry_King'}\n",
      "bc/cnn/00/cnn_0004_1 5 {'David_Gergen', '[SPL]', 'Senator_Brownbeck', 'Senator_Schumer', 'Larry_King'}\n",
      "bc/cnn/00/cnn_0004_2 5 {'David_Gergen', '[SPL]', 'Senator_Brownbeck', 'Senator_Schumer', 'Larry_King'}\n",
      "bc/cnn/00/cnn_0004_6 4 {'caller_1', '[SPL]', 'Mike_Wallace', 'Larry_King'}\n",
      "bc/cnn/00/cnn_0004_7 4 {'Mike_Wallace', 'caller_2', '[SPL]', 'Larry_King'}\n",
      "bc/cnn/00/cnn_0004_8 4 {'[SPL]', 'Mike_Wallace', 'caller_3', 'Larry_King'}\n",
      "bc/cnn/00/cnn_0004_9 4 {'[SPL]', 'Mike_Wallace', 'caller_4', 'Larry_King'}\n",
      "bc/cnn/00/cnn_0004_10 4 {'[SPL]', 'Mike_Wallace', 'caller_5', 'Larry_King'}\n",
      "bc/cnn/00/cnn_0004_11 4 {'[SPL]', 'Mike_Wallace', 'caller_6', 'Larry_King'}\n",
      "bc/cnn/00/cnn_0005_0 4 {'[SPL]', 'speaker_3', 'speaker_1', 'Wolf_Blitzer'}\n",
      "bc/cnn/00/cnn_0005_2 4 {'[SPL]', 'Dick_Cheney', 'General_Abizaid', 'Wolf_Blitzer'}\n",
      "bc/cnn/00/cnn_0005_3 5 {'Senator_Kennedy', 'General_Abizaid', '[SPL]', 'Donald_Rumsfeld', 'Wolf_Blitzer'}\n",
      "bc/cnn/00/cnn_0005_9 4 {'[SPL]', 'Carl_Levin', 'Dick_Cheney', 'Wolf_Blitzer'}\n",
      "bc/cnn/00/cnn_0005_10 5 {'[SPL]', 'Donald_Rumsfeld', 'Carl_Levin', 'Deputy_WhiteHouse_Chief_of_Staff', 'Wolf_Blitzer'}\n",
      "bc/cnn/00/cnn_0005_11 5 {'[SPL]', 'speaker_2', 'Scott_Mcclellan', 'Wolf_Blitzer', 'President_Emile_Lahoud'}\n",
      "bc/cnn/00/cnn_0006_5 4 {'Mowaffak_Al-Rubaie', '[SPL]', '-', 'Wolf_Blitzer'}\n",
      "bc/cnn/00/cnn_0006_7 5 {'[SPL]', 'Jon_Kyl', 'Wolf_Blitzer', 'George_Casey', 'Joe_Lieberman'}\n",
      "bc/cnn/00/cnn_0006_8 4 {'[SPL]', 'Joe_Lieberman', 'Jon_Kyl', 'Wolf_Blitzer'}\n",
      "bc/cnn/00/cnn_0006_9 4 {'[SPL]', 'Joe_Lieberman', 'Jon_Kyl', 'Wolf_Blitzer'}\n",
      "bc/cnn/00/cnn_0006_11 4 {'[SPL]', 'Joe_Lieberman', 'Jon_Kyl', 'Wolf_Blitzer'}\n",
      "bc/cnn/00/cnn_0006_12 4 {'[SPL]', 'Joe_Lieberman', 'Jon_Kyl', 'Wolf_Blitzer'}\n",
      "bc/cnn/00/cnn_0006_13 4 {'[SPL]', 'John_Shannon', 'Wayne_Hale', 'Wolf_Blitzer'}\n",
      "bc/cnn/00/cnn_0007_1 5 {'-', 'Bill_Keller', 'Bob_Woodward', '[SPL]', 'speaker1'}\n",
      "bc/cnn/00/cnn_0007_2 7 {'speaker4', 'Bob_Woodward', '[SPL]', 'speaker2', 'speaker1', 'speaker3', 'speaker5'}\n",
      "bc/cnn/00/cnn_0007_4 4 {'speaker1', 'speaker6', 'Bob_Woodward', '[SPL]'}\n",
      "bc/cnn/00/cnn_0007_5 7 {'speaker7', 'Bob_Woodward', '-', '[SPL]', 'speaker9', 'speaker8', 'speaker1'}\n",
      "bc/msnbc/00/msnbc_0001_0 5 {'Marlon_Defillo', '[SPL]', 'speaker2', 'Dan_Abrams', 'Carl_Kitnea'}\n",
      "bc/msnbc/00/msnbc_0001_2 5 {'[SPL]', 'Eddie_Jordan_Jr.', 'Dan_Abrams', 'Victoria_Habathee', 'Joe_Tackapena'}\n",
      "bc/msnbc/00/msnbc_0001_3 6 {'[SPL]', 'Eddie_Jordan_Jr.', 'Dave_Binelli', 'Dan_Abrams', 'Victoria_Habathee', 'Joe_Tackapena'}\n",
      "bc/msnbc/00/msnbc_0001_4 4 {'[SPL]', 'George_Peterson', 'Matt_Biehl', 'Dan_Abrams'}\n",
      "bc/msnbc/00/msnbc_0001_8 4 {'James_Dobson', '[SPL]', 'Arlen_Specter', 'Dan_Abrams'}\n",
      "bc/msnbc/00/msnbc_0001_9 5 {'Charles_Schummer', '[SPL]', 'Jay_Sekulow', 'Elliot_Minkford', 'Dan_Abrams'}\n",
      "bc/msnbc/00/msnbc_0001_10 4 {'[SPL]', 'Jay_Sekulow', 'Elliot_Minkford', 'Dan_Abrams'}\n",
      "bc/msnbc/00/msnbc_0002_1 6 {'speaker7', 'David_Golden', '[SPL]', 'Alexandra_St_Guillen', 'Dan_Abrams', 'Darryl_Littlejohn'}\n",
      "bc/msnbc/00/msnbc_0002_2 5 {'[SPL]', 'speaker9', 'Ray_Kelly', 'Dan_Abrams', 'Darryl_Littlejohn'}\n",
      "bc/msnbc/00/msnbc_0002_3 4 {'[SPL]', 'Janna_Spillbore', 'Gail_Abramson', 'Dan_Abrams'}\n",
      "bc/msnbc/00/msnbc_0002_4 6 {'Rita_Cosby', '[SPL]', \"Kevin_O'Donnell\", 'Ray_Kelly', 'Dan_Abrams', 'speaker13'}\n",
      "bc/msnbc/00/msnbc_0002_5 5 {'David_Golden', 'Janna_Spillbore', '[SPL]', 'Gail_Abramson', 'Dan_Abrams'}\n",
      "bc/msnbc/00/msnbc_0002_6 4 {'[SPL]', 'Debra_Lafave', 'speaker15', 'Dan_Abrams'}\n",
      "bc/msnbc/00/msnbc_0002_8 4 {'Sally', '[SPL]', 'Debra_Lafave', 'Dan_Abrams'}\n",
      "bc/msnbc/00/msnbc_0002_11 4 {'speaker18', '[SPL]', 'Tanya_Kach', 'Dan_Abrams'}\n",
      "bc/msnbc/00/msnbc_0002_12 4 {'James_Eckert', '[SPL]', 'Karen_Wells', 'Dan_Abrams'}\n",
      "bc/msnbc/00/msnbc_0002_13 4 {'James_Eckert', '[SPL]', 'Karen_Wells', 'Dan_Abrams'}\n",
      "bc/msnbc/00/msnbc_0002_16 4 {'[SPL]', 'Alex_Thier', 'George_Bush', 'Dan_Abrams'}\n",
      "bc/msnbc/00/msnbc_0003_0 4 {'Chris_Matthews', '[SPL]', 'David_Gregory', 'Christopher_Dodd'}\n",
      "bc/msnbc/00/msnbc_0003_1 4 {'Chris_Matthews', '[SPL]', 'Norm_Coleman', 'Trent_Lott'}\n",
      "bc/msnbc/00/msnbc_0003_5 9 {'Chris_Matthews', 'Karl_Rove', 'David_Shuster', '[SPL]', 'Tom_Harkin', 'William_Clinton', 'John_Bolton', 'Dick_Durbin', 'Barbara_Boxer'}\n",
      "bc/msnbc/00/msnbc_0003_7 4 {'Chris_Matthews', '[SPL]', 'Ben_Ginsberg', 'Steve_McMahon'}\n",
      "bc/msnbc/00/msnbc_0003_8 4 {'Chris_Matthews', '[SPL]', 'Ben_Ginsberg', 'Steve_McMahon'}\n",
      "bc/msnbc/00/msnbc_0003_9 5 {'Chris_Matthews', '-', 'Steve_McMahon', '[SPL]', 'Ben_Ginsberg'}\n",
      "bc/msnbc/00/msnbc_0003_10 4 {'Chris_Matthews', '[SPL]', 'Ben_Ginsberg', 'Steve_McMahon'}\n",
      "bc/msnbc/00/msnbc_0003_11 4 {'Chris_Matthews', '[SPL]', 'Ben_Ginsberg', 'Steve_McMahon'}\n",
      "bc/msnbc/00/msnbc_0003_12 4 {'Chris_Matthews', 'Melanie_Morgan', 'Paul_Rieckhoff', '[SPL]'}\n",
      "bc/msnbc/00/msnbc_0003_13 5 {'Chris_Matthews', '-', '[SPL]', 'Paul_Rieckhoff', 'Melanie_Morgan'}\n",
      "bc/msnbc/00/msnbc_0003_14 4 {'Chris_Matthews', 'Melanie_Morgan', '[SPL]', 'Paul_Rieckhoff'}\n",
      "bc/msnbc/00/msnbc_0003_15 4 {'Chris_Matthews', 'Melanie_Morgan', '[SPL]', 'Paul_Rieckhoff'}\n",
      "bc/msnbc/00/msnbc_0004_1 5 {'Chris_Matthews', 'Jean_Schmidt', 'David_Shuster', '[SPL]', 'Paul_Hackett'}\n",
      "bc/msnbc/00/msnbc_0004_14 4 {'Chris_Matthews', '[SPL]', 'Rafael_Palmero', 'Jose_Canseco'}\n",
      "bc/msnbc/00/msnbc_0004_16 5 {'Chris_Matthews', '-', 'Jose_Canseco', '[SPL]', 'Steven_Lynch'}\n",
      "bc/msnbc/00/msnbc_0004_18 5 {'Chris_Matthews', 'Bob_Shrum', '[SPL]', 'Ed_Rogers', 'George_Bush'}\n",
      "bc/msnbc/00/msnbc_0004_19 5 {'Chris_Matthews', '-', 'Bob_Shrum', '[SPL]', 'Ed_Rogers'}\n",
      "bc/msnbc/00/msnbc_0004_20 5 {'Chris_Matthews', '-', 'Bob_Shrum', '[SPL]', 'Ed_Rogers'}\n",
      "bc/msnbc/00/msnbc_0004_21 7 {'Chris_Matthews', '-', 'Bob_Shrum', '[SPL]', 'Ed_Rogers', 'Joe_Biden', 'Jon_Stewart'}\n",
      "bc/msnbc/00/msnbc_0004_22 5 {'Chris_Matthews', '-', 'Bob_Shrum', '[SPL]', 'Ed_Rogers'}\n",
      "bc/msnbc/00/msnbc_0005_9 6 {'John_Harwood', '[SPL]', 'Elisabeth_Bumiller', 'Charlie_Cook', 'Tim_Russert', 'David_Broder'}\n",
      "bc/msnbc/00/msnbc_0005_10 8 {'John_Harwood', '[SPL]', 'President_George_W._Bush', 'speaker2', 'Elisabeth_Bumiller', 'Charlie_Cook', 'Tim_Russert', 'David_Broder'}\n",
      "bc/msnbc/00/msnbc_0005_11 4 {'[SPL]', 'David_Broder', 'Tim_Russert', 'Elisabeth_Bumiller'}\n",
      "bc/msnbc/00/msnbc_0005_12 4 {'John_Harwood', '[SPL]', 'Tim_Russert', 'Elisabeth_Bumiller'}\n",
      "bc/msnbc/00/msnbc_0005_13 4 {'[SPL]', 'Charlie_Cook', 'Tim_Russert', 'David_Broder'}\n",
      "bc/msnbc/00/msnbc_0005_14 6 {'John_Harwood', '[SPL]', 'Elisabeth_Bumiller', 'Charlie_Cook', 'Tim_Russert', 'David_Broder'}\n",
      "bc/msnbc/00/msnbc_0005_15 8 {'John_Harwood', 'speaker4', '[SPL]', 'Elisabeth_Bumiller', 'Charlie_Cook', 'Tim_Russert', 'speaker3', 'David_Broder'}\n",
      "bc/msnbc/00/msnbc_0006_0 5 {'[SPL]', 'speaker2', 'speaker1', 'speaker3', 'Pam_Smart'}\n",
      "bc/msnbc/00/msnbc_0006_1 7 {'George_W_Bush', 'speaker4', '[SPL]', 'Andrea_Mitchel', 'Andrea_Mitchel,Andrea_Mitchel,Andrea_Mitchel,George_W_Bush', 'speaker2', 'Tim_Russel'}\n",
      "bc/msnbc/00/msnbc_0006_2 4 {'[SPL]', 'Chuck_Schummer', 'Andrea_Mitchel', 'Mitch_McConnell'}\n",
      "bc/msnbc/00/msnbc_0006_3 5 {'George_W_Bush', 'Chuck_Schummer', '[SPL]', 'Andrea_Mitchel', 'Mitch_McConnell'}\n",
      "bc/msnbc/00/msnbc_0006_4 5 {'Chuck_Schummer', '[SPL]', 'Andrea_Mitchel', 'Russ_Feingold', 'Tim-Russert'}\n",
      "bc/msnbc/00/msnbc_0006_5 4 {'[SPL]', 'Chuck_Schummer', 'Andrea_Mitchel', 'Mitch_McConnell'}\n",
      "bc/msnbc/00/msnbc_0006_6 6 {'Chuck_Schummer', '[SPL]', 'Andrea_Mitchel', 'Joe-Leiberman', 'speaker5', 'Mitch_McConnell'}\n",
      "bc/msnbc/00/msnbc_0006_7 4 {'[SPL]', 'Chuck_Schummer', 'Andrea_Mitchel', 'Mitch_McConnell'}\n",
      "bc/msnbc/00/msnbc_0006_8 6 {'John_Harwood', 'Bill_Bennett', '[SPL]', 'Andrea_Mitchel', 'Bill_Safire', 'Dana_Priest'}\n",
      "bc/msnbc/00/msnbc_0006_9 5 {'George_W_Bush', '[SPL]', 'Andrea_Mitchel', 'Dick_Cheney', 'Dana_Priest'}\n",
      "bc/msnbc/00/msnbc_0006_10 8 {'John_Harwood', 'Spiro_Agnew', 'Bill_Bennett', '[SPL]', 'Andrea_Mitchel', 'Bill_Safire', 'Dana_Priest', 'George_H_Bush'}\n",
      "bc/msnbc/00/msnbc_0006_11 5 {'Bill_Bennett', '[SPL]', 'Andrea_Mitchel', 'Bill_Safire', 'Dana_Priest'}\n",
      "bc/msnbc/00/msnbc_0006_12 5 {'John_Harwood', 'Bill_Bennett', '[SPL]', 'Andrea_Mitchel', 'Bill_Safire'}\n",
      "bc/msnbc/00/msnbc_0006_13 4 {'John_Harwood', '[SPL]', 'Andrea_Mitchel', 'Bill_Safire'}\n",
      "bc/msnbc/00/msnbc_0006_14 6 {'John_Harwood', 'Bill_Bennett', '[SPL]', 'Andrea_Mitchel', 'Bill_Safire', 'Dana_Priest'}\n",
      "bc/msnbc/00/msnbc_0006_15 5 {'Daniel_Ellsberg', '[SPL]', 'Andrea_Mitchel', 'Dick_Cheney', 'David_Kraslaw'}\n",
      "bc/phoenix/00/phoenix_0001_0 4 {'speaker#1', '[SPL]', 'zheng_bing', 'speaker#2'}\n",
      "bc/phoenix/00/phoenix_0001_1 4 {'speaker#1', '[SPL]', 'zheng_bing', 'speaker#2'}\n",
      "bc/phoenix/00/phoenix_0001_2 4 {'speaker#1', '[SPL]', 'zheng_bing', 'speaker#2'}\n",
      "bc/phoenix/00/phoenix_0001_3 4 {'speaker#1', '[SPL]', 'zheng_bing', 'speaker#2'}\n",
      "bc/phoenix/00/phoenix_0001_4 4 {'speaker#1', '[SPL]', 'zheng_bing', 'speaker#2'}\n",
      "bc/phoenix/00/phoenix_0001_5 4 {'speaker#1', '[SPL]', 'zheng_bing', 'speaker#2'}\n",
      "bc/phoenix/00/phoenix_0001_6 4 {'speaker#1', '[SPL]', 'zheng_bing', 'speaker#2'}\n",
      "bc/phoenix/00/phoenix_0002_0 4 {'speaker#1', '[SPL]', 'Huang__xiangning', 'speaker#2'}\n",
      "bc/phoenix/00/phoenix_0002_2 4 {'speaker#1', '[SPL]', 'speaker#3', 'speaker#2'}\n",
      "bc/phoenix/00/phoenix_0002_3 4 {'speaker#1', '[SPL]', 'speaker#3', 'speaker#2'}\n",
      "bc/phoenix/00/phoenix_0002_4 4 {'speaker#1', '[SPL]', 'speaker#3', 'speaker#2'}\n",
      "bc/phoenix/00/phoenix_0002_5 4 {'speaker#1', '[SPL]', 'speaker#3', 'speaker#2'}\n",
      "bc/phoenix/00/phoenix_0002_6 4 {'speaker#1', '[SPL]', 'Huang__xiangning', 'speaker#2'}\n",
      "tc/ch/00/ch_0016_2 4 {'B', 'A', '-', '[SPL]'}\n",
      "tc/ch/00/ch_0021_2 4 {'B', 'A', '-', '[SPL]'}\n",
      "tc/ch/00/ch_0031_0 4 {'B', 'A1', 'A', '[SPL]'}\n",
      "tc/ch/00/ch_0036_1 4 {'B', 'A', '-', '[SPL]'}\n",
      "tc/ch/00/ch_0042_0 4 {'B', 'A', '-', '[SPL]'}\n",
      "tc/ch/00/ch_0046_0 4 {'B', 'B1', 'A', '[SPL]'}\n",
      "tc/ch/00/ch_0046_1 4 {'B', 'B1', 'A', '[SPL]'}\n",
      "tc/ch/00/ch_0046_2 4 {'B', 'B1', 'A', '[SPL]'}\n",
      "wb/a2e/00/a2e_0002_0 4 {'[SPL]', '_الطريد_', '-', '_المستعين_بالله_'}\n",
      "wb/a2e/00/a2e_0003_0 5 {'-', '[SPL]', '_موناليزا_', '_نصري_', '_صامد_'}\n",
      "wb/a2e/00/a2e_0003_1 5 {'-', '[SPL]', '_ميم_', '_زهاب_الساحة_', '_نصري_'}\n",
      "wb/a2e/00/a2e_0004_0 5 {'-', '[SPL]', '_NetExpert_', '_ساري2001_', '_ساره_الحمد_'}\n",
      "wb/a2e/00/a2e_0004_1 4 {'_شجي_', '[SPL]', '_الأحنف_بن_مالك_', '-'}\n",
      "wb/a2e/00/a2e_0004_2 6 {'_إحساس2_', '-', '[SPL]', '_ساره_الحمد_', '_مجاهد_2005_', '_تأبط_شيئا_'}\n",
      "wb/a2e/00/a2e_0005_1 5 {'-', '_الوهبي_ابن_وشيقر_', '[SPL]', '_سامي_الجابر_', '_الخارق_'}\n",
      "wb/a2e/00/a2e_0006_0 7 {'-', '[SPL]', '_الفهلوي_', '_gwardyola_', '_اخررجاء_', '_قيس_ابن_ابيه_', '_قائد_الجحافل_الكبرى_'}\n",
      "wb/a2e/00/a2e_0006_1 4 {'[SPL]', '_الفهلوي_', '_بائع_الخبز_', '-'}\n",
      "wb/a2e/00/a2e_0007_0 7 {'_نادر_عبدالله_', '_ابودلامة_', '_حالة_', '_الوائلي_', '-', '[SPL]', '_المغاوير_'}\n",
      "wb/a2e/00/a2e_0008_1 6 {'_salh1_', '-', '[SPL]', '_ناطق_خير_', '_نسيم_الورد_', '_الهاوي_'}\n",
      "wb/a2e/00/a2e_0011_0 4 {'[SPL]', '_رياض_نجد_', '-', '_أسعد_'}\n",
      "wb/a2e/00/a2e_0011_1 7 {'_المستبشر_', '-', '_أسعد_', '[SPL]', '_اللاجئ_إلى_الله_', '_ياسر1_', '_سلطان_الهكر_'}\n",
      "wb/a2e/00/a2e_0012_0 6 {'_الرياح_', '-', '[SPL]', '_العرب_المستعربة_', '_GS430_', '_فتى_الصحوة_'}\n",
      "wb/a2e/00/a2e_0012_1 5 {'-', '[SPL]', '_أبو_كابون_', '_العرب_المستعربة_', '_ابو_العتاهية_'}\n",
      "wb/a2e/00/a2e_0013_0 6 {'_الشمال_الغاضب_', '-', '[SPL]', '_صالح_المسند_', '_شاكر_المعروف_', '_مجاهد_2005_'}\n",
      "wb/a2e/00/a2e_0014_0 7 {'-', '_ساحل_جدة_', '[SPL]', '_جوى_', '_الوبل_', '_انا_العربي_', '_نعناع_'}\n",
      "wb/a2e/00/a2e_0015_3 4 {'[SPL]', '_التغلبي_الدوسري_', '-', '_عبدالرحمن_2002_'}\n",
      "wb/a2e/00/a2e_0017_0 4 {'[SPL]', '_انا_العربي_', '_الفجرالصادق_', '-'}\n",
      "wb/a2e/00/a2e_0018_1 4 {'[SPL]', '_ابن_مالك_', '_طــــــلال_', '-'}\n",
      "wb/a2e/00/a2e_0021_0 7 {'_صدى_الحرف_', '-', '[SPL]', '_الشاهين2005_', '_فهد2000_', '_عسيري_', '_صقر_السلام_'}\n",
      "wb/a2e/00/a2e_0022_2 5 {'-', '[SPL]', '_مزح_القلم_', '_فهد2000_', '_العبد_الفقير_'}\n",
      "wb/a2e/00/a2e_0022_3 6 {'_مساعد1_', '-', '[SPL]', '_sul_', '_أبو_كرم_', '_العبد_الفقير_'}\n",
      "wb/a2e/00/a2e_0023_1 4 {'_المغترب_عن_الديرة_', '_ماجد_بن_محمد_', '-', '[SPL]'}\n",
      "wb/a2e/00/a2e_0024_1 9 {'_المستبشر_', '_ابودلامة_', '_JARIR_', '-', '_ديراوي_', '[SPL]', '_المتفائل_دوماً_', '_صباح_الليل_', '_MINT_'}\n",
      "wb/a2e/00/a2e_0024_4 4 {'_ابوطاقية_', '_ديراوي_', '-', '[SPL]'}\n",
      "wb/a2e/00/a2e_0024_5 4 {'_ديراوي_', '_لواء_الجزيرة_', '-', '[SPL]'}\n",
      "wb/a2e/00/a2e_0025_1 5 {'_فايز_الحميدي_', '_بنت_الرعد_', '-', '[SPL]', '_بديع_الزمان1_'}\n",
      "wb/a2e/00/a2e_0025_2 4 {'[SPL]', '_بديع_الزمان1_', '_فايز_الحميدي_', '-'}\n",
      "wb/a2e/00/a2e_0026_0 4 {'[SPL]', '_موطن_جدا_عادي_', '-', '_نجم_الليل_'}\n",
      "wb/a2e/00/a2e_0027_0 5 {'_عذب_السجية_', '_شايل_الظبي_', '_جرينتش_', '-', '[SPL]'}\n",
      "wb/a2e/00/a2e_0027_1 5 {'_شايل_الظبي_', '_جرينتش_', '-', '[SPL]', '_الرضوان_'}\n",
      "wb/a2e/00/a2e_0028_0 5 {'-', '[SPL]', '_هانى_غزال_', '_فريدمن_نوعه_', '_باتريوت_'}\n",
      "wb/a2e/00/a2e_0031_0 8 {'-', '_كيسنجر_', '[SPL]', '_انامسلم_', '_مفكر_القمة_', '_السيناتور.._', '_هامتي_فوق_', '_الخيال99_'}\n",
      "wb/a2e/00/a2e_0033_2 4 {'[SPL]', '_قاتل_قتيل_', '_1st_top_', '-'}\n",
      "wb/c2e/00/c2e_0016_0 4 {'[SPL]', '_yan_', '-', '_613305_'}\n",
      "wb/c2e/00/c2e_0035_0 4 {'[SPL]', '_huff_', '-', '_hrfrank_'}\n",
      "wb/c2e/00/c2e_0036_0 4 {'_Smash_', '_yinduasan_', '-', '[SPL]'}\n",
      "wb/eng/00/eng_0001_0 6 {'_Jim_Bacon_', '_Anonymous_', '_Ray_Hyde_', '_Will_Vehrs_', '[SPL]', '_COD_'}\n",
      "wb/eng/00/eng_0002_0 4 {'_Jim_Bacon_', '[SPL]', '_kingfish_', '_James_Atticus_Bowden_'}\n",
      "wb/eng/00/eng_0002_1 9 {'_Jim_Bacon_', '_Anonymous_', '_Ray_Hyde_', '_E_M_Risse_', '[SPL]', '_kingfish_', '_Toomanytaxes_', '_James_Atticus_Bowden_', '_Andrea_'}\n",
      "wb/eng/00/eng_0002_2 5 {'_Anonymous_', '_Ray_Hyde_', '[SPL]', '_Toomanytaxes_', '_Larry_Gross_'}\n",
      "wb/eng/00/eng_0003_0 7 {'_Jim_Bacon_', '_Anonymous_', '_Ray_Hyde_', '_E_M_Risse_', '[SPL]', '_Virginia_Centrist_', '_Toomanytaxes_'}\n",
      "wb/eng/00/eng_0003_1 6 {'_Jim_Bacon_', '_Anonymous_', '_Ray_Hyde_', '_E_M_Risse_', '[SPL]', '_Toomanytaxes_'}\n",
      "wb/eng/00/eng_0004_0 4 {'_Jim_Bacon_', '[SPL]', '_Ray_Hyde_', '_Jim_Wamsley_'}\n",
      "wb/eng/00/eng_0004_1 5 {'_Jim_Bacon_', '_Ray_Hyde_', '[SPL]', '_Bob_Griendling_', '_Toomanytaxes_'}\n",
      "wb/eng/00/eng_0004_3 6 {'_Jim_Bacon_', '_Anonymous_', '_Ray_Hyde_', '_NotGroverNorquist_', '[SPL]', '_Bob_Griendling_'}\n",
      "wb/eng/00/eng_0005_0 6 {'_Jim_Bacon_', '_Anonymous_', '[SPL]', '_kingfish_', '_James_Atticus_Bowden_', '_Chris_Brancato_'}\n",
      "wb/eng/00/eng_0006_0 6 {'_Jim_Bacon_', '_Ray_Hyde_', '-', '[SPL]', '_Larry_Gross_', '_James_Atticus_Bowden_'}\n",
      "wb/eng/00/eng_0006_1 5 {'_Ray_Hyde_', '[SPL]', '_Pat_Murphy_', '_Larry_Gross_', '_James_Atticus_Bowden_'}\n",
      "wb/eng/00/eng_0007_0 6 {'_Jim_Bacon_', '_C._P._Zilliacus_', '_Ray_Hyde_', '[SPL]', '_Toomanytaxes_', '_Larry_Gross_'}\n",
      "wb/eng/00/eng_0007_1 5 {'_Jim_Bacon_', '_Anonymous_', '[SPL]', '_Toomanytaxes_', '_Larry_Gross_'}\n",
      "wb/eng/00/eng_0007_2 4 {'[SPL]', '_Toomanytaxes_', '_Ray_Hyde_', '_Larry_Gross_'}\n",
      "wb/eng/00/eng_0008_0 7 {'_Jim_Bacon_', '_Anonymous_', '_Ray_Hyde_', '_E_M_Risse_', '-', '[SPL]', '_NoVA_Scout_'}\n",
      "wb/eng/00/eng_0008_1 6 {'_Jim_Bacon_', '_Groveton_', '_Ray_Hyde_', '[SPL]', '_Larry_Gross_', '_NoVA_Scout_'}\n",
      "wb/eng/00/eng_0017_0 4 {'[SPL]', '_\"^,,^_\"_&lt;rocksciSPAMBEG...@windstream.net&gt;_', '-', '_lekker_&lt;lek...@intergate.bc.ca&gt;_'}\n",
      "wb/eng/00/eng_0017_1 4 {'_\"atomic_mouse\"_&lt;ato...@findx.biz&gt;_', '[SPL]', '_\"^,,^_\"_&lt;rocksciSPAMBEG...@windstream.net&gt;_', '_lekker_&lt;lek...@intergate.bc.ca&gt;_'}\n",
      "wb/eng/00/eng_0017_3 4 {'[SPL]', '_\"Simon_Isbister\"_&lt;simonisbis...@telus.net&gt;_', '_\"^,,^_\"_&lt;rocksciSPAMBEG...@windstream.net&gt;_', '_lekker_&lt;lek...@intergate.bc.ca&gt;_'}\n",
      "bc/cctv/00/cctv_0000_0 4 {'[SPL]', 'Speaker#2', 'Zhou_liangshuyi', 'Speaker#1'}\n",
      "bc/cctv/00/cctv_0000_2 4 {'[SPL]', 'Li_lingfeng', 'Speaker#3', 'Speaker#1'}\n",
      "bc/cctv/00/cctv_0000_4 7 {'[SPL]', 'Zheng_ruhua', 'Speaker#1', 'Speaker#6,Speaker#5,Speaker#5,Speaker#5', 'Speaker#5', 'Speaker#6', 'Speaker#3'}\n",
      "bc/cctv/00/cctv_0000_5 4 {'[SPL]', 'Lu_lizhi', 'Speaker#3', 'Speaker#1'}\n",
      "bc/cctv/00/cctv_0000_6 4 {'[SPL]', 'Ye_yan', 'Speaker#3', 'Speaker#1'}\n",
      "bc/cctv/00/cctv_0000_7 4 {'[SPL]', 'Zhou_liangshuyi', 'Speaker#7', 'Speaker#1'}\n",
      "bc/cctv/00/cctv_0000_8 4 {'[SPL]', 'Speaker#3', 'Liang_guoji', 'Speaker#1'}\n",
      "bc/cnn/00/cnn_0000_0 5 {'speaker4', '[SPL]', 'speaker1', 'speaker3', 'paula_zahn'}\n",
      "bc/cnn/00/cnn_0000_2 8 {'Dr_Emanovsky', '[SPL]', 'sister_one', 'sister_two', 'Dr_Mann', 'paula_zahn', 'Thelma_Gutierrez', 'Dr_Henry'}\n",
      "bc/cnn/00/cnn_0000_6 7 {'Steve_Riddyah', 'Jeff_Meitrod', 'Keith_Oppenheim', '[SPL]', 'Priscilla_Scott', 'Joe_Dodges', 'paula_zahn'}\n",
      "bc/cnn/00/cnn_0000_9 6 {'Bill_Frist', '[SPL]', 'Ed_Henry', 'Harry_Reed', 'speaker20', 'paula_zahn'}\n",
      "bc/cnn/00/cnn_0000_12 9 {'speaker24', 'speaker27', '[SPL]', 'Cynthia_Levas', 'Savela_Vargas', 'Fitty_Cent', 'paula_zahn', 'speaker26', 'speaker25'}\n",
      "bc/cnn/00/cnn_0000_13 11 {'-', 'speaker33', '[SPL]', 'Soldier_Morales', 'Ross_Brown', 'speaker30', 'speaker34', 'paula_zahn', 'speaker37', 'speaker38', 'Eddie_Shrahmin'}\n",
      "bc/cnn/00/cnn_0000_14 9 {'British_Newscastor2', 'Firefighter_A', '[SPL]', 'Andrew_Carey', 'American_Newscastor', 'Firefighter_B', 'Firefighter_C', 'paula_zahn', 'British_Newscastor'}\n",
      "bc/cnn/00/cnn_0000_16 6 {'speaker49', 'Martha_Stewart', '[SPL]', 'speaker46', 'Donald_Trump', 'paula_zahn'}\n",
      "bc/cnn/00/cnn_0000_17 8 {'speaker51', 'speaker55', 'speaker54', 'Jeanie_Mowth', '[SPL]', 'speaker53', 'paula_zahn', 'Lone_Protestor'}\n",
      "bc/msnbc/00/msnbc_0000_0 4 {'[SPL]', 'speaker1', 'Michelle_Kosinski', 'Dan_Abrams'}\n",
      "bc/msnbc/00/msnbc_0000_3 4 {'[SPL]', 'T.J._Ward', 'Harold_Phipps', 'Dan_Abrams'}\n",
      "bc/msnbc/00/msnbc_0000_4 4 {'[SPL]', 'T.J._Ward', 'Harold_Phipps', 'Dan_Abrams'}\n",
      "bc/msnbc/00/msnbc_0000_8 6 {'[SPL]', 'Susan_Filan', 'Stacy_Brown', 'Harvey_Levin', 'Daniel_Horowitz', 'Dan_Abrams'}\n",
      "bc/msnbc/00/msnbc_0000_11 4 {'[SPL]', 'Walter_Zalisko', 'Susan_Filan', 'Dan_Abrams'}\n",
      "bc/msnbc/00/msnbc_0000_12 6 {'Cletus_Hyman', 'Walter_Zalisko', '[SPL]', 'Susan_Filan', 'Larry_Kobilinsky', 'Dan_Abrams'}\n",
      "bc/msnbc/00/msnbc_0000_16 4 {'[SPL]', 'Linda_Walker', 'Erin_Runnion', 'Dan_Abrams'}\n",
      "bc/msnbc/00/msnbc_0000_17 4 {'[SPL]', 'Linda_Walker', 'Erin_Runnion', 'Dan_Abrams'}\n",
      "bc/msnbc/00/msnbc_0000_18 4 {'[SPL]', 'Linda_Walker', 'Erin_Runnion', 'Dan_Abrams'}\n",
      "bc/phoenix/00/phoenix_0000_0 5 {'Chen_luyu', 'speaker#1', '[SPL]', 'speaker5(M)', 'Ye_daying'}\n",
      "bc/phoenix/00/phoenix_0000_2 6 {'Chen_luyu', 'speaker#3', '[SPL]', 'speaker#4', 'speaker6', 'Ye_daying'}\n",
      "bc/phoenix/00/phoenix_0000_3 4 {'speaker#1', '[SPL]', 'Ye_daying', 'Chen_luyu'}\n",
      "bc/phoenix/00/phoenix_0000_4 4 {'speaker#1', '[SPL]', 'Ye_daying', 'Chen_luyu'}\n",
      "bc/phoenix/00/phoenix_0000_5 4 {'speaker#1', '[SPL]', 'Ye_daying', 'Chen_luyu'}\n",
      "bc/phoenix/00/phoenix_0000_7 4 {'Ye_daying', '[SPL]', 'speaker#1', 'Chen_luyu'}\n",
      "tc/ch/00/ch_0040_0 4 {'B', 'A1', 'A', '[SPL]'}\n",
      "wb/a2e/00/a2e_0010_0 6 {'_أبن_الفقير_', '_ابودلامة_', '_فايزالعربي_', '-', '[SPL]', '_زمزم_'}\n",
      "wb/eng/00/eng_0010_0 7 {'_Anonymous_', '_Pisces_Iscariot_', '[SPL]', '_ewastud_', '_Dani-el_M_Smith_', '_jon_', '_Jeff_'}\n",
      "wb/eng/00/eng_0010_1 5 {'_Anonymous_', '[SPL]', '_AJ_', '_jon_', '_kelley_b._'}\n",
      "wb/eng/00/eng_0010_2 5 {'_Anonymous_', '_Richard_', '[SPL]', '_kelley_b._', '_jules_'}\n",
      "wb/eng/00/eng_0010_4 5 {'_Refugee_', \"_Devil's_Advocate_\", '-', '[SPL]', '_jules_'}\n",
      "wb/eng/00/eng_0010_5 7 {'_Anonymous_', \"_Devil's_Advocate_\", '-', '[SPL]', '_Shrubageddon_', '_ericswan_', '_Gouda_'}\n",
      "wb/eng/00/eng_0010_6 4 {'[SPL]', '_Shrubageddon_', '_Anonymous_', '_jon_'}\n",
      "wb/eng/00/eng_0010_7 5 {'_Anonymous_', '[SPL]', '_Shrubageddon_', '_ericswan_', '_dianna_'}\n"
     ]
    }
   ],
   "source": [
    "count = 0\n",
    "for item in data:\n",
    "    speakers = []\n",
    "    for x in item['speakers']:\n",
    "        speakers.extend(x)\n",
    "    speakers.remove('[SPL]')\n",
    "    speaker_num = len(set(speakers))\n",
    "    if speaker_num>=4:\n",
    "        if item['doc_key'][:2]==\"tc\":\n",
    "            count += 1\n",
    "        print(item['doc_key'], speaker_num, set(speakers))"
   ],
   "metadata": {
    "collapsed": false
   }
  },
  {
   "cell_type": "code",
   "execution_count": 87,
   "outputs": [
    {
     "name": "stdout",
     "output_type": "stream",
     "text": [
      "9\n"
     ]
    }
   ],
   "source": [
    "print(count)"
   ],
   "metadata": {
    "collapsed": false
   }
  },
  {
   "cell_type": "code",
   "execution_count": 88,
   "outputs": [
    {
     "name": "stdout",
     "output_type": "stream",
     "text": [
      "[CLS] i just but , i mean , anyway . anyway . so , my thought on the whole thing is that you know , if you visited him , you would n ' t want to have to be you know , spent panting and spending every second of the day , with him only . you know what i ' m saying and that probably part of the reason that it would be nice to actually stay with him is that you could also go and visit the sights or whatever and where ? what are you talking about ? in j ##apa ##n . i ' m not going to j ##apa ##n . no , but i mean i ' m trying to maybe in ten years , but , no time soon . no , no , but , no , you know what i ' m saying . when you are visiting a town and you stay at someone ' s house and you ca n ' t ever do anything on your own and stuff like that . so oh , i do n ' t mind he does stuff on his own . % uh , you know , i mean there ' s a difference between guests and there ' s a difference between ownership , i think . i think that i know . but there , i mean , if i live somewhere , you know , i can rear ##rang ##e the furniture . yeah . but if i ' m staying somewhere , it does n ' t mean i ' m in jail . i mean just because i ' m in a motel , does n ' t mean i ' m going to re ##pa ##int the walls . but it does n ' t mean that i ' m o ##b ##liga ##ted to stay there either . oh well i know but e - i ' m just saying there are different degrees of , you know and i do n ' t think he ' s o ##b ##liga ##ted to sit there and ho ##b no ##b around with me the entire time either . i would n ' t want him to . yeah . you know i told him , i said i have no time to do anything . and i said i well maybe that ' s why he was trying and as soon as i move back here , he ' s out . i totally insist on it . i do n ' t care if he never talks to me again . because , there ' s no way i can study with worrying about keeping somebody awake , or , you know , i have to worry how i ' m dressed , if i ' m clean . you know . whatever . yeah well , i agree with that sweet ##ie . [SEP]\n",
      "\n",
      "[CLS] but , in that case , i think that while i mean he can stay while i ' m at er ##z ##he ##bat ' s , that ' s fine . that ' s just ex - , that was my point . that was my whole point . that yeah okay . what is the big deal with just giving him a key and telling him to do what he wants . and well i have to go make a copy too . do you want me to , well . give him the keys and you know what i ' m saying . and i ' m kind of thinking about saying , here give me a couple of bucks , i ' ll make a copy . yeah , or just give him your set of keys one day when you ' re studying and say here , and bring it back . you know , go make a copy and then bring it back . and , i mean i do n ' t think it ' s that un ##rea ##son ##able for him to ask for a key when you know , at least i anyway , yeah . yeah . okay maybe not you , have offered long time ago that oh , yes , you can stay here and * * b ##lad ##y ##bla ##h * * . yeah . and he knows that you ' re not going to be there . so i do n ' t think that it ' s un ##rea ##son ##able at all . okay , yeah . i just think he needs to know that there are limits . or whatever . that i do n ' t want it , i mean i ' d like to be able to come here , during the day , anytime . and not feel like if i need a book or something yeah uh - huh . i do n ' t want to feel restrained because it ' ll f ##rust ##rate me uh - huh . and i w ##o n ' t be able to concentrate . well , i think that that would be reasonable . just make an agreement with him you know , after what time of day will you call before you come over . yeah . you know ? or , you know , so like , between , % um , eight p m and you know ten a m if i have to come over then i ' ll call first . like that . i mean i do n ' t think that ' s un ##rea ##son ##able , you know ? or something like that . yeah . because then he can feel comfortable and you can feel comfortable because you know what ' s going on . yeah . you know . yeah . [SEP]\n",
      "\n",
      "[CLS] and plus , you know , you ' re going to be at , % uh , su ##zan ##ne ' s for what , till the eleventh or something ? no till well that ' s right . yeah when you come back i guess % uh i ' ll still be there . still be there right . so because you ' ll be around right so just but you ' ll be over here packing at that time , partially . yeah partially sure of course . i deposited your other rent loan check that came in . oh good . how much was it ? and i it was nineteen something . okay . the thing is i took out two hundred and fifty out of the account . i ' m going to pay the electric bill . i ' m going to pay m b n a . i ' m going to pay % uh some other people . okay . that sounds good . [SEP]\n",
      "\n"
     ]
    }
   ],
   "source": [
    "for item in data:\n",
    "    if item['doc_key']==\"tc/ch/00/ch_0016_2\":\n",
    "        for sent in item['sentences']:\n",
    "            print(\" \".join(sent))\n",
    "            print()"
   ],
   "metadata": {
    "collapsed": false
   }
  },
  {
   "cell_type": "code",
   "execution_count": null,
   "outputs": [],
   "source": [],
   "metadata": {
    "collapsed": false
   }
  },
  {
   "cell_type": "code",
   "execution_count": null,
   "outputs": [],
   "source": [],
   "metadata": {
    "collapsed": false
   }
  },
  {
   "cell_type": "code",
   "execution_count": 74,
   "outputs": [
    {
     "name": "stdout",
     "output_type": "stream",
     "text": [
      "26 348\n"
     ]
    }
   ],
   "source": [
    "print(count, len(data))"
   ],
   "metadata": {
    "collapsed": false
   }
  },
  {
   "cell_type": "code",
   "execution_count": 34,
   "outputs": [],
   "source": [
    "num_speakers = []\n",
    "for i in range(len(data)):\n",
    "    num_speakers.append(len(data[i]['speakers']))\n",
    "    # print(len(data[i]['speakers']))"
   ],
   "metadata": {
    "collapsed": false
   }
  },
  {
   "cell_type": "code",
   "execution_count": 35,
   "outputs": [
    {
     "name": "stdout",
     "output_type": "stream",
     "text": [
      "[1, 2, 1, 1, 1, 2, 1, 1, 1, 1, 1, 2, 1, 1, 1, 2, 2, 2, 1, 1, 2, 2, 3, 3, 2, 2, 1, 1, 3, 3, 2, 2, 2, 1, 1, 1, 3, 3, 2, 2, 3, 2, 2, 2, 2, 3, 1, 1, 2, 2, 2, 3, 2, 2, 2, 2, 1, 2, 1, 1, 1, 2, 1, 1, 1, 1, 1, 1, 1, 1, 1, 1, 1, 2, 1, 1, 1, 1, 1, 1, 1, 1, 1, 2, 1, 1, 1, 1, 1, 1, 1, 1, 1, 1, 1, 2, 2, 2, 1, 1, 2, 1, 1, 1, 2, 1, 2, 1, 1, 2, 2, 1, 3, 2, 2, 2, 1, 1, 2, 1, 1, 1, 3, 1, 1, 1, 1, 1, 1, 1, 1, 1, 1, 1, 1, 1, 1, 1, 1, 2, 1, 1, 1, 1, 1, 1, 1, 1, 2, 2, 2, 2, 2, 1, 2, 2, 1, 1, 2, 1, 1, 1, 2, 2, 1, 2, 1, 1, 2, 1, 1, 1, 1, 2, 2, 2, 1, 1, 1, 1, 1, 2, 1, 2, 1, 1, 1, 1, 1, 2, 2, 2, 1, 2, 2, 1, 1, 2, 2, 1, 1, 4, 3, 1, 1, 3, 1, 3, 1, 3, 3, 2, 1, 2, 4, 1, 1, 2, 1, 3, 1, 3, 4, 3, 2, 3, 2, 1, 4, 1, 1, 5, 1, 1, 5, 3, 1, 2, 3, 1, 1, 4, 1, 1, 1, 1, 1, 2, 1, 2, 2, 1, 1, 1, 3, 2, 2, 2, 2, 2, 2, 2, 3, 2, 1, 1, 1, 1, 1, 1, 1, 2, 2, 1, 2, 2, 2, 2, 1, 1, 2, 1, 1, 2, 1, 1, 1, 1, 2, 2, 3, 2, 2, 2, 3, 2, 2, 2, 2, 3, 1, 3, 1, 2, 2, 3, 2, 2, 2, 2, 2, 2, 2, 2, 2, 2, 2, 2, 3, 2, 2, 2, 2, 2, 3, 3, 3, 1, 2, 3, 2, 3, 3, 1, 2, 2, 1, 3, 1, 2, 2, 3, 3, 3, 3, 3, 3, 3]\n"
     ]
    }
   ],
   "source": [
    "print(num_speakers)"
   ],
   "metadata": {
    "collapsed": false
   }
  },
  {
   "cell_type": "code",
   "execution_count": 36,
   "outputs": [],
   "source": [
    "from matplotlib import pyplot as plt"
   ],
   "metadata": {
    "collapsed": false
   }
  },
  {
   "cell_type": "code",
   "execution_count": 37,
   "outputs": [
    {
     "data": {
      "text/plain": "<Figure size 432x288 with 1 Axes>",
      "image/png": "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_nameMd0lqkOEuSQ0y3CWpQYa7JDXIcJekBhnuktSg/wXMoAWifiOXSgAAAABJRU5ErkJggg==\n"
     },
     "metadata": {
      "needs_background": "light"
     },
     "output_type": "display_data"
    }
   ],
   "source": [
    "plt.hist(num_speakers)\n",
    "plt.show()"
   ],
   "metadata": {
    "collapsed": false
   }
  },
  {
   "cell_type": "code",
   "execution_count": 38,
   "outputs": [
    {
     "name": "stdout",
     "output_type": "stream",
     "text": [
      "51\n"
     ]
    }
   ],
   "source": [
    "print(len([item for item in num_speakers if item>=3]))"
   ],
   "metadata": {
    "collapsed": false
   }
  },
  {
   "cell_type": "code",
   "execution_count": null,
   "outputs": [],
   "source": [],
   "metadata": {
    "collapsed": false
   }
  },
  {
   "cell_type": "code",
   "execution_count": null,
   "outputs": [],
   "source": [],
   "metadata": {
    "collapsed": false
   }
  },
  {
   "cell_type": "code",
   "execution_count": null,
   "outputs": [],
   "source": [],
   "metadata": {
    "collapsed": false
   }
  },
  {
   "cell_type": "code",
   "execution_count": null,
   "outputs": [],
   "source": [],
   "metadata": {
    "collapsed": false
   }
  },
  {
   "cell_type": "code",
   "execution_count": null,
   "outputs": [],
   "source": [],
   "metadata": {
    "collapsed": false
   }
  }
 ],
 "metadata": {
  "kernelspec": {
   "display_name": "Python 3",
   "language": "python",
   "name": "python3"
  },
  "language_info": {
   "codemirror_mode": {
    "name": "ipython",
    "version": 2
   },
   "file_extension": ".py",
   "mimetype": "text/x-python",
   "name": "python",
   "nbconvert_exporter": "python",
   "pygments_lexer": "ipython2",
   "version": "2.7.6"
  }
 },
 "nbformat": 4,
 "nbformat_minor": 0
}

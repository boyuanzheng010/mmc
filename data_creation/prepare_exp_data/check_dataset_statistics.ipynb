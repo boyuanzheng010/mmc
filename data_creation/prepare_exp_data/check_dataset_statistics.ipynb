{
 "cells": [
  {
   "cell_type": "code",
   "execution_count": 1,
   "metadata": {
    "collapsed": true
   },
   "outputs": [],
   "source": [
    "import pickle as pkl\n",
    "import json\n",
    "import jsonlines\n",
    "import csv"
   ]
  },
  {
   "cell_type": "code",
   "execution_count": 2,
   "outputs": [],
   "source": [
    "data = {}\n",
    "with open('data/downloaded/dialogue_english/train.english.512.jsonlines', 'r') as f:\n",
    "    reader = jsonlines.Reader(f)\n",
    "    for item in reader:\n",
    "        data[item['doc_key'][:10]] = item\n",
    "with open('data/downloaded/dialogue_english/train.english.512.jsonlines', 'r') as f:\n",
    "    reader = jsonlines.Reader(f)\n",
    "    for item in reader:\n",
    "        data[item['doc_key'][:10]] = item\n",
    "with open('data/downloaded/dialogue_english/train.english.512.jsonlines', 'r') as f:\n",
    "    reader = jsonlines.Reader(f)\n",
    "    for item in reader:\n",
    "        data[item['doc_key'][:10]] = item"
   ],
   "metadata": {
    "collapsed": false
   }
  },
  {
   "cell_type": "code",
   "execution_count": 3,
   "outputs": [
    {
     "name": "stdout",
     "output_type": "stream",
     "text": [
      "dict_keys(['s01e01c00t', 's01e01c01t', 's01e01c03t', 's01e01c04t', 's01e01c05t', 's01e01c06t', 's01e01c07t', 's01e01c08t', 's01e01c09t', 's01e01c10t', 's01e03c00t', 's01e10c04t', 's01e03c01t', 's01e03c02t', 's01e03c03t', 's01e03c04t', 's01e03c05t', 's01e03c06t', 's01e03c07t', 's01e03c08t', 's01e03c09t', 's01e04c00t', 's01e04c01t', 's01e04c02t', 's01e04c03t', 's01e04c04t', 's01e04c05t', 's01e04c06t', 's01e04c07t', 's01e04c08t', 's01e04c09t', 's01e04c10t', 's01e04c11t', 's01e04c12t', 's01e05c00t', 's01e05c01t', 's01e05c02t', 's01e05c03t', 's01e05c05t', 's01e05c06t', 's01e05c07t', 's01e07c01t', 's01e07c02t', 's01e07c03t', 's01e07c04t', 's01e07c05t', 's01e09c00t', 's01e09c01t', 's01e09c02t', 's01e09c03t', 's01e09c04t', 's01e09c05t', 's01e09c06t', 's01e07c00t', 's01e09c07t', 's01e10c00t', 's01e10c01t', 's01e10c02t', 's01e10c03t', 's01e10c05t', 's01e10c07t', 's01e11c00t', 's01e11c01t', 's01e11c02t', 's01e11c03t', 's01e11c04t', 's01e11c05t', 's01e11c06t', 's01e11c07t', 's01e11c08t', 's04e19c03t', 's04e19c04t', 's01e13c00t', 's01e13c01t', 's01e13c02t', 's01e13c03t', 's01e13c05t', 's01e14c00t', 's01e14c01t', 's01e14c02t', 's01e14c03t', 's01e14c04t', 's01e14c07t', 's01e15c00t', 's01e15c01t', 's01e15c02t', 's01e15c03t', 's01e15c04t', 's01e15c05t', 's01e15c06t', 's01e15c07t', 's01e15c08t', 's01e16c00t', 's01e16c02t', 's01e16c03t', 's01e16c04t', 's01e16c07t', 's01e16c08t', 's01e16c09t', 's02e04c00t', 's02e04c01t', 's02e04c03t', 's02e04c04t', 's02e04c05t', 's02e06c00t', 's02e06c01t', 's02e06c02t', 's02e06c03t', 's02e06c04t', 's02e06c05t', 's02e06c06t', 's02e06c07t', 's02e06c08t', 's02e06c09t', 's02e06c10t', 's01e03c08f', 's01e03c09f', 's01e03c10f', 's03e21c00t', 's03e21c01t', 's03e21c02t', 's03e21c03t', 's03e21c04t', 's03e21c05t', 's03e21c06t', 's03e21c07t', 's03e21c08t', 's03e23c00t', 's03e23c01t', 's01e18c04f', 's01e18c05f', 's03e23c02t', 's03e23c03t', 's03e23c04t', 's03e23c05t', 's03e23c06t', 's03e23c07t', 's03e23c08t', 's03e23c09t', 's03e23c10t', 's04e01c00t', 's04e01c01t', 's04e01c02t', 's04e01c03t', 's04e01c04t', 's04e01c05t', 's04e01c06t', 's04e01c07t', 's04e01c08t', 's04e01c09t', 's04e03c00t', 's04e03c01t', 's04e03c02t', 's04e03c03t', 's04e03c04t', 's04e03c05t', 's04e03c06t', 's04e03c07t', 's04e03c08t', 's04e03c09t', 's04e04c00t', 's04e04c01t', 's04e04c02t', 's04e04c03t', 's04e04c04t', 's04e04c05t', 's04e04c06t', 's04e04c07t', 's04e05c00t', 's04e05c01t', 's04e22c03t', 's04e22c04t', 's04e05c03t', 's04e05c04t', 's04e05c05t', 's04e05c06t', 's04e05c07t', 's04e05c08t', 's04e05c09t', 's04e05c10t', 's04e06c00t', 's04e06c01t', 's04e06c02t', 's04e06c03t', 's04e06c04t', 's01e13c04t', 's04e06c05t', 's04e06c06t', 's04e06c07t', 's04e08c01t', 's04e08c02t', 's04e08c03t', 's04e08c04t', 's04e08c05t', 's04e08c06t', 's04e08c07t', 's04e08c08t', 's04e08c09t', 's04e08c10t', 's04e08c11t', 's04e19c00t', 's04e19c01t', 's04e19c02t', 's04e19c05t', 's04e19c06t', 's04e19c07t', 's04e19c08t', 's04e19c09t', 's04e19c10t', 's04e19c11t', 's04e19c12t', 's04e21c00t', 's04e21c01t', 's04e21c02t', 's04e21c03t', 's04e21c04t', 's04e21c05t', 's04e21c06t', 's04e21c07t', 's04e21c08t', 's04e21c09t', 's04e21c10t', 's04e22c01t', 's04e22c02t', 's04e22c05t', 's04e22c06t', 's04e22c07t', 's04e22c08t', 's04e22c09t', 's04e23c00t', 's04e23c01t', 's04e23c02t', 's04e23c03t', 's04e23c04t', 's04e23c06t', 's04e23c07t', 's04e23c08t', 's04e23c09t', 's04e24c00t', 's04e24c01t', 's04e24c02t', 's04e24c03t', 's04e24c04t', 's04e24c05t', 's04e24c06t', 's04e24c07t', 's04e24c08t', 's04e24c09t', 's04e24c10t', 's05e02c00t', 's05e02c01t', 's05e02c02t', 's05e02c03t', 's05e02c04t', 's05e02c05t', 's05e02c06t', 's05e02c07t', 's05e02c08t', 's05e06c00t', 's05e06c01t', 's05e06c02t', 's05e06c03t', 's05e06c04t', 's05e06c05t', 's05e06c06t', 's05e06c07t', 's05e06c08t', 's05e06c09t', 's05e12c00t', 's05e12c01t', 's05e12c02t', 's05e12c03t', 's05e12c04t', 's05e12c05t', 's05e12c06t', 's08e18c10t', 's05e12c07t', 's05e12c08t', 's05e14c00t', 's05e14c01t', 's05e14c02t', 's05e14c03t', 's05e14c04t', 's05e14c05t', 's05e14c06t', 's05e14c07t', 's05e14c08t', 's05e15c01t', 's05e15c02t', 's05e15c03t', 's05e15c04t', 's05e15c05t', 's05e15c06t', 's05e15c07t', 's05e20c00t', 's05e20c01t', 's05e20c02t', 's05e20c03t', 's05e20c04t', 's05e20c05t', 's05e20c06t', 's05e20c08t', 's05e23c00t', 's05e23c01t', 's05e23c02t', 's05e23c03t', 's05e23c04t', 's05e23c05t', 's05e23c06t', 's05e23c07t', 's06e02c00t', 's06e02c01t', 's06e02c02t', 's06e02c03t', 's06e02c04t', 's06e02c05t', 's06e02c06t', 's06e02c07t', 's06e02c08t', 's06e02c09t', 's06e02c10t', 's06e03c00t', 's06e03c01t', 's06e03c02t', 's06e03c03t', 's06e03c04t', 's06e03c05t', 's06e03c06t', 's06e03c07t', 's06e03c08t', 's06e03c09t', 's06e03c10t', 's06e04c00t', 's06e04c01t', 's06e04c02t', 's06e04c03t', 's06e04c04t', 's06e04c05t', 's06e04c06t', 's06e04c07t', 's06e04c08t', 's06e04c09t', 's06e05c00t', 's06e05c01t', 's06e05c02t', 's06e05c03t', 's06e05c04t', 's06e05c05t', 's06e05c06t', 's06e05c07t', 's06e05c08t', 's06e05c09t', 's06e05c10t', 's06e06c00t', 's06e06c01t', 's06e06c02t', 's06e06c03t', 's06e06c06t', 's05e20c07t', 's06e06c07t', 's06e06c08t', 's06e06c09t', 's08e01c03t', 's08e01c04t', 's08e01c05t', 's08e01c06t', 's08e01c07t', 's08e01c08t', 's06e20c13t', 's06e20c14t', 's06e20c15t', 's08e02c11t', 's08e03c00t', 's08e03c01t', 's08e03c02t', 's06e16c11t', 's06e17c00t', 's06e17c01t', 's06e07c08t', 's06e08c00t', 's06e08c01t', 's08e01c00t', 's08e01c01t', 's08e01c02t', 's07e23c04t', 's07e23c05t', 's07e23c06t', 's07e23c07t', 's06e21c06t', 's06e21c07t', 's06e21c08t', 's06e21c09t', 's06e08c02t', 's06e08c03t', 's06e08c04t', 's06e14c03t', 's06e14c04t', 's06e14c05t', 's06e14c06t', 's08e15c09t', 's08e16c00t', 's07e20c01t', 's07e20c02t', 's07e20c03t', 's08e12c05t', 's08e12c06t', 's08e12c07t', 's06e15c06t', 's06e15c07t', 's06e15c08t', 's08e03c07t', 's08e03c08t', 's08e03c09t', 's08e03c10t', 's08e09c03t', 's08e09c04t', 's08e09c05t', 's08e15c04t', 's08e15c05t', 's06e21c10t', 's06e21c11t', 's06e21c12t', 's07e19c00t', 's06e15c03t', 's06e15c04t', 's06e15c05t', 's08e02c02t', 's08e02c03t', 's08e02c04t', 's06e09c06t', 's06e09c07t', 's01e16c01t', 's06e16c09t', 's06e16c10t', 's08e03c03t', 's08e03c04t', 's08e03c05t', 's08e03c06t', 's06e17c02t', 's06e17c03t', 's06e17c04t', 's06e17c05t', 's06e14c07t', 's06e14c08t', 's06e14c09t', 's06e14c10t', 's07e22c02t', 's07e22c03t', 's07e22c04t', 's07e22c05t', 's07e20c04t', 's07e20c05t', 's05e14c09t', 's05e15c00t', 's07e19c08t', 's07e19c09t', 's07e19c10t', 's07e19c11t', 's08e02c05t', 's08e02c06t', 's08e02c07t', 's06e14c00t', 's06e14c01t', 's06e14c02t', 's06e14c11t', 's06e14c12t', 's06e15c00t', 's06e21c00t', 's06e21c01t', 's06e21c02t', 's07e23c11t', 's07e23c12t', 's07e20c06t', 's07e20c07t', 's07e20c08t', 's07e23c00t', 's07e23c01t', 's07e23c02t', 's07e23c03t', 's08e06c05t', 's08e06c06t', 's08e06c07t', 's08e06c08t', 's06e07c03t', 's06e07c04t', 's06e07c05t', 's08e15c02t', 's08e15c03t', 's06e19c10t', 's07e20c09t', 's07e20c10t', 's07e20c11t', 's07e20c12t', 's07e20c13t', 's07e22c00t', 's07e22c01t', 's06e09c03t', 's06e09c04t', 's06e09c05t', 's06e20c00t', 's06e20c01t', 's06e20c02t', 's06e20c03t', 's06e20c04t', 's06e20c05t', 's06e20c06t', 's06e20c07t', 's06e08c05t', 's06e08c06t', 's06e08c07t', 's07e22c10t', 's07e22c11t', 's07e22c12t', 's07e22c13t', 's07e23c08t', 's07e23c09t', 's07e23c10t', 's08e11c11t', 's08e11c12t', 's08e11c13t', 's01e22c10f', 's01e22c11f', 's01e24c00f', 's08e09c00t', 's08e09c01t', 's08e09c02t', 's08e11c06t', 's08e11c07t', 's08e11c08t', 's08e11c09t', 's08e11c10t', 's06e07c01t', 's06e07c02t', 's08e06c01t', 's08e06c02t', 's06e19c02t', 's06e19c03t', 's06e19c04t', 's06e19c05t', 's06e16c06t', 's06e16c07t', 's06e16c08t', 's06e16c02t', 's06e16c03t', 's06e16c04t', 's06e16c05t', 's08e12c08t', 's08e12c09t', 's06e15c09t', 's06e15c10t', 's06e16c00t', 's06e16c01t', 's06e07c06t', 's06e07c07t', 's08e01c12t', 's08e01c13t', 's06e19c06t', 's06e19c07t', 's06e19c08t', 's06e19c09t', 's07e19c12t', 's07e19c13t', 's07e20c00t', 's06e15c01t', 's06e15c02t', 's08e01c14t', 's08e02c00t', 's08e02c01t', 's08e09c09t', 's08e09c10t', 's08e06c09t', 's08e06c10t', 's08e06c11t', 's08e06c12t', 's06e09c00t', 's06e09c01t', 's06e09c02t', 's08e09c06t', 's08e09c07t', 's08e09c08t', 's08e06c03t', 's08e06c04t', 's06e08c08t', 's06e08c09t', 's06e08c10t', 's06e17c11t', 's06e19c00t', 's06e19c01t', 's06e20c08t', 's06e20c09t', 's06e20c10t', 's06e20c11t', 's06e20c12t', 's07e19c01t', 's07e19c02t', 's07e19c03t', 's08e12c10t', 's08e15c00t', 's08e15c01t', 's07e22c06t', 's07e22c07t', 's07e22c08t', 's07e22c09t', 's07e19c04t', 's07e19c05t', 's07e19c06t', 's07e19c07t', 's08e11c03t', 's08e11c04t', 's08e11c05t', 's08e12c02t', 's08e12c03t', 's08e12c04t', 's08e02c08t', 's08e02c09t', 's08e02c10t', 's08e01c09t', 's08e01c10t', 's08e01c11t', 's06e09c08t', 's06e09c09t', 's06e09c10t', 's06e06c10t', 's06e07c00t', 's08e09c11t', 's08e09c12t', 's08e11c00t', 's08e12c00t', 's08e12c01t', 's08e03c11t', 's08e06c00t', 's06e21c03t', 's06e21c04t', 's06e21c05t', 's06e17c06t', 's06e17c07t', 's06e17c08t', 's06e17c09t', 's06e17c10t', 's08e15c06t', 's08e15c07t', 's08e15c08t', 's08e16c01t', 's08e16c02t', 's08e16c03t', 's08e16c04t', 's08e16c05t', 's08e16c06t', 's08e16c07t', 's08e16c08t', 's08e16c09t', 's08e16c10t', 's08e16c11t', 's08e16c12t', 's08e16c13t', 's08e16c14t', 's08e16c15t', 's08e17c00t', 's08e17c01t', 's08e17c02t', 's08e17c03t', 's08e17c04t', 's08e17c05t', 's08e17c06t', 's08e17c07t', 's08e17c08t', 's08e17c09t', 's08e17c10t', 's08e17c11t', 's08e17c12t', 's08e18c00t', 's08e18c01t', 's01e16c05t', 's01e16c06t', 's08e18c02t', 's08e18c03t', 's08e18c04t', 's08e18c05t', 's08e18c06t', 's08e18c07t', 's08e18c08t', 's08e18c09t', 's08e18c11t', 's08e19c00t', 's08e19c01t', 's08e19c02t', 's08e19c03t', 's08e19c04t', 's08e19c05t', 's08e19c06t', 's08e19c07t', 's08e19c08t', 's08e19c09t', 's08e19c10t', 's08e19c11t', 's08e20c00t', 's08e20c01t', 's08e20c02t', 's08e20c03t', 's08e20c04t', 's08e20c05t', 's08e20c06t', 's08e20c07t', 's08e20c08t', 's08e20c09t', 's08e20c10t', 's08e20c11t', 's08e20c12t', 's08e20c13t', 's04e05c02t', 's08e21c00t', 's08e21c01t', 's08e21c02t', 's08e21c03t', 's08e21c04t', 's08e21c05t', 's08e21c06t', 's08e21c07t', 's08e21c08t', 's08e21c09t', 's08e21c10t', 's08e21c11t', 's08e22c00t', 's08e22c01t', 's08e22c02t', 's08e22c03t', 's08e22c04t', 's08e22c05t', 's01e07c02f', 's01e07c03f', 's01e07c04f', 's01e07c05f', 's01e07c06f', 's08e22c06t', 's08e22c07t', 's08e22c08t', 's08e22c09t', 's08e22c10t', 's08e22c11t', 's08e22c12t', 's08e23c00t', 's08e23c01t', 's08e23c02t', 's08e23c03t', 's08e23c06t', 's08e23c07t', 's08e23c08t', 's08e23c09t', 's08e23c10t', 's08e23c11t', 's08e24c00t', 's08e24c01t', 's08e24c02t', 's08e24c03t', 's08e24c04t', 's08e24c05t', 's08e24c06t', 's08e24c07t', 's08e24c08t', 's08e24c09t', 's08e24c10t', 's08e24c11t', 's08e24c12t', 's08e24c13t', 's08e24c14t', 's08e24c15t', 's08e24c16t', 's01e03c00f', 's01e03c01f', 's01e03c02f', 's01e03c03f', 's01e03c04f', 's01e03c05f', 's01e03c06f', 's01e03c07f', 's01e03c11f', 's01e03c12f', 's01e04c00f', 's01e04c01f', 's01e04c02f', 's01e04c03f', 's01e04c04f', 's01e04c05f', 's01e04c06f', 's01e04c07f', 's01e04c08f', 's01e04c09f', 's01e04c10f', 's01e04c11f', 's01e04c12f', 's01e04c13f', 's01e04c14f', 's01e06c00f', 's01e06c01f', 's01e06c02f', 's02e04c02t', 's01e06c03f', 's01e06c04f', 's01e06c05f', 's01e06c06f', 's01e06c07f', 's01e07c00f', 's01e07c01f', 's01e07c07f', 's01e07c08f', 's01e07c09f', 's01e07c10f', 's01e07c11f', 's01e07c12f', 's01e07c13f', 's01e07c14f', 's01e07c15f', 's01e07c16f', 's01e07c17f', 's01e07c18f', 's01e07c19f', 's01e08c00f', 's01e08c01f', 's01e08c02f', 's01e08c03f', 's01e08c04f', 's01e08c05f', 's01e08c06f', 's01e08c07f', 's01e08c08f', 's01e08c09f', 's01e08c10f', 's01e08c11f', 's01e09c00f', 's01e09c01f', 's01e09c02f', 's01e09c03f', 's01e09c04f', 's01e09c05f', 's01e09c06f', 's01e09c07f', 's01e09c08f', 's01e09c09f', 's01e09c10f', 's01e09c11f', 's01e10c00f', 's01e10c01f', 's06e06c04t', 's06e06c05t', 's01e10c02f', 's01e10c03f', 's04e23c05t', 's01e10c04f', 's01e10c05f', 's08e23c04t', 's08e23c05t', 's01e12c00f', 's01e12c01f', 's01e12c02f', 's01e12c03f', 's01e12c04f', 's01e12c05f', 's01e12c06f', 's01e12c07f', 's01e12c08f', 's01e12c09f', 's01e12c10f', 's01e12c11f', 's01e12c12f', 's01e12c13f', 's01e15c00f', 's01e15c01f', 's01e15c02f', 's01e15c03f', 's01e15c04f', 's01e15c05f', 's01e15c06f', 's01e15c07f', 's01e15c08f', 's01e15c09f', 's01e15c10f', 's01e15c11f', 's01e15c12f', 's01e16c00f', 's01e16c01f', 's01e16c02f', 's01e16c03f', 's01e16c04f', 's01e16c05f', 's01e16c06f', 's01e16c07f', 's01e16c08f', 's01e16c09f', 's01e16c10f', 's01e16c11f', 's01e16c12f', 's01e16c13f', 's01e16c14f', 's01e17c00f', 's04e08c00t', 's01e17c01f', 's01e17c02f', 's01e17c03f', 's01e17c04f', 's01e17c05f', 's01e17c06f', 's01e17c07f', 's01e17c08f', 's01e17c09f', 's01e17c10f', 's01e17c11f', 's01e17c12f', 's01e18c00f', 's01e18c01f', 's01e18c02f', 's01e18c03f', 's01e19c00f', 's01e19c01f', 's01e19c02f', 's01e19c03f', 's01e19c04f', 's01e19c05f', 's01e19c06f', 's01e19c07f', 's01e20c00f', 's04e22c00t', 's01e20c01f', 's01e20c02f', 's01e20c03f', 's01e20c04f', 's01e20c05f', 's01e20c06f', 's01e20c07f', 's01e20c08f', 's01e10c06t', 's01e20c09f', 's01e20c10f', 's01e22c00f', 's01e22c01f', 's01e22c02f', 's01e22c03f', 's01e22c04f', 's08e11c01t', 's08e11c02t', 's01e22c05f', 's01e22c06f', 's01e14c05t', 's01e14c06t', 's01e22c07f', 's01e22c08f', 's01e22c09f', 's01e24c01f', 's01e24c02f', 's01e24c03f', 's01e24c04f', 's01e24c05f', 's01e24c06f', 's01e24c07f', 's01e24c08f', 's01e24c09f'])\n"
     ]
    }
   ],
   "source": [
    "print(data.keys())"
   ],
   "metadata": {
    "collapsed": false
   }
  },
  {
   "cell_type": "code",
   "execution_count": 9,
   "outputs": [],
   "source": [
    "friends_ids = set()\n",
    "tbbt_ids = set()\n",
    "for item in data:\n",
    "    if item[-1]==\"t\":\n",
    "        tbbt_ids.add(item[:6])\n",
    "    else:\n",
    "        friends_ids.add(item[:6])"
   ],
   "metadata": {
    "collapsed": false
   }
  },
  {
   "cell_type": "code",
   "execution_count": 13,
   "outputs": [
    {
     "name": "stdout",
     "output_type": "stream",
     "text": [
      "{'s01e04', 's01e12', 's01e08', 's01e24', 's01e03', 's01e22', 's01e16', 's01e19', 's01e07', 's01e15', 's01e17', 's01e20', 's01e06', 's01e10', 's01e09', 's01e18'} 16\n"
     ]
    }
   ],
   "source": [
    "print(friends_ids, len(friends_ids))"
   ],
   "metadata": {
    "collapsed": false
   }
  },
  {
   "cell_type": "code",
   "execution_count": 12,
   "outputs": [
    {
     "name": "stdout",
     "output_type": "stream",
     "text": [
      "{'s01e14', 's01e13', 's08e11', 's05e14', 's03e23', 's08e01', 's08e18', 's08e22', 's06e09', 's07e23', 's08e06', 's06e20', 's01e05', 's04e06', 's04e22', 's06e21', 's08e23', 's01e15', 's04e05', 's06e17', 's01e01', 's06e02', 's05e12', 's06e06', 's05e20', 's04e04', 's01e10', 's06e03', 's06e15', 's08e15', 's08e09', 's04e23', 's08e17', 's01e04', 's08e24', 's07e20', 's08e12', 's08e20', 's04e21', 's07e22', 's01e03', 's01e16', 's05e06', 's04e03', 's06e05', 's08e02', 's03e21', 's06e08', 's08e19', 's01e09', 's06e04', 's06e07', 's04e24', 's04e01', 's07e19', 's05e02', 's05e23', 's05e15', 's01e11', 's06e14', 's02e06', 's01e07', 's04e08', 's04e19', 's06e16', 's08e16', 's08e21', 's06e19', 's02e04', 's08e03'} 70\n"
     ]
    }
   ],
   "source": [
    "print(tbbt_ids, len(tbbt_ids))"
   ],
   "metadata": {
    "collapsed": false
   }
  },
  {
   "cell_type": "code",
   "execution_count": null,
   "outputs": [],
   "source": [],
   "metadata": {
    "collapsed": false
   }
  },
  {
   "cell_type": "code",
   "execution_count": null,
   "outputs": [],
   "source": [],
   "metadata": {
    "collapsed": false
   }
  },
  {
   "cell_type": "code",
   "execution_count": 12,
   "outputs": [],
   "source": [
    "raw_data = {}\n",
    "with open('data/raw_source/dialogue_en/all_coref_data_en_finalized.json', 'r') as f:\n",
    "    raw = json.load(f)\n",
    "    for item in raw:\n",
    "        raw_data[item['scene_id']] = item"
   ],
   "metadata": {
    "collapsed": false
   }
  },
  {
   "cell_type": "code",
   "execution_count": 13,
   "outputs": [
    {
     "name": "stdout",
     "output_type": "stream",
     "text": [
      "dict_keys(['s01e01c00t', 's01e01c01t', 's01e01c03t', 's01e01c04t', 's01e01c05t', 's01e01c06t', 's01e01c07t', 's01e01c08t', 's01e01c09t', 's01e01c10t', 's01e03c00t', 's01e10c04t', 's01e03c01t', 's01e03c02t', 's01e03c03t', 's01e03c04t', 's01e03c05t', 's01e03c06t', 's01e03c07t', 's01e03c08t', 's01e03c09t', 's01e04c00t', 's01e04c01t', 's01e04c02t', 's01e04c03t', 's01e04c04t', 's01e04c05t', 's01e04c06t', 's01e04c07t', 's01e04c08t', 's01e04c09t', 's01e04c10t', 's01e04c11t', 's01e04c12t', 's01e05c00t', 's01e05c01t', 's01e05c02t', 's01e05c03t', 's01e05c04t', 's01e05c05t', 's01e05c06t', 's01e05c07t', 's01e07c01t', 's01e07c02t', 's01e07c03t', 's01e07c04t', 's01e07c05t', 's01e09c00t', 's01e09c01t', 's01e09c02t', 's01e09c03t', 's01e09c04t', 's01e09c05t', 's01e09c06t', 's01e07c00t', 's01e09c07t', 's01e10c00t', 's01e10c01t', 's01e10c02t', 's01e10c03t', 's01e10c05t', 's01e10c07t', 's01e11c00t', 's01e11c01t', 's01e11c02t', 's01e11c03t', 's01e11c04t', 's01e11c05t', 's01e11c06t', 's01e11c07t', 's01e11c08t', 's04e19c03t', 's04e19c04t', 's01e13c00t', 's01e13c01t', 's01e13c02t', 's01e13c03t', 's01e13c05t', 's01e14c00t', 's01e14c01t', 's01e14c02t', 's01e14c03t', 's01e14c04t', 's01e14c07t', 's01e15c00t', 's01e15c01t', 's01e15c02t', 's01e15c03t', 's01e15c04t', 's01e15c05t', 's01e15c06t', 's01e15c07t', 's01e15c08t', 's01e16c00t', 's01e16c02t', 's01e16c03t', 's01e16c04t', 's01e16c07t', 's01e16c08t', 's01e16c09t', 's02e04c00t', 's02e04c01t', 's02e04c03t', 's02e04c04t', 's02e04c05t', 's02e06c00t', 's02e06c01t', 's02e06c02t', 's02e06c03t', 's02e06c04t', 's02e06c05t', 's02e06c06t', 's02e06c07t', 's02e06c08t', 's02e06c09t', 's02e06c10t', 's01e03c08f', 's01e03c09f', 's01e03c10f', 's03e21c00t', 's03e21c01t', 's03e21c02t', 's03e21c03t', 's03e21c04t', 's03e21c05t', 's03e21c06t', 's03e21c07t', 's03e21c08t', 's03e23c00t', 's03e23c01t', 's01e18c04f', 's01e18c05f', 's03e23c02t', 's03e23c03t', 's03e23c04t', 's03e23c05t', 's03e23c06t', 's03e23c07t', 's03e23c08t', 's03e23c09t', 's03e23c10t', 's04e01c00t', 's04e01c01t', 's04e01c02t', 's04e01c03t', 's04e01c04t', 's04e01c05t', 's04e01c06t', 's04e01c07t', 's04e01c08t', 's04e01c09t', 's04e03c00t', 's04e03c01t', 's04e03c02t', 's04e03c03t', 's04e03c04t', 's04e03c05t', 's04e03c06t', 's04e03c07t', 's04e03c08t', 's04e03c09t', 's04e04c00t', 's04e04c01t', 's04e04c02t', 's04e04c03t', 's04e04c04t', 's04e04c05t', 's04e04c06t', 's04e04c07t', 's04e05c00t', 's04e05c01t', 's04e22c03t', 's04e22c04t', 's04e05c03t', 's04e05c04t', 's04e05c05t', 's04e05c06t', 's04e05c07t', 's04e05c08t', 's04e05c09t', 's04e05c10t', 's04e06c00t', 's04e06c01t', 's04e06c02t', 's04e06c03t', 's04e06c04t', 's01e13c04t', 's04e06c05t', 's04e06c06t', 's04e06c07t', 's04e08c01t', 's04e08c02t', 's04e08c03t', 's04e08c04t', 's04e08c05t', 's04e08c06t', 's04e08c07t', 's04e08c08t', 's04e08c09t', 's04e08c10t', 's04e08c11t', 's04e19c00t', 's04e19c01t', 's04e19c02t', 's04e19c05t', 's04e19c06t', 's04e19c07t', 's04e19c08t', 's04e19c09t', 's04e19c10t', 's04e19c11t', 's04e19c12t', 's04e21c00t', 's04e21c01t', 's04e21c02t', 's04e21c03t', 's04e21c04t', 's04e21c05t', 's04e21c06t', 's04e21c07t', 's04e21c08t', 's04e21c09t', 's04e21c10t', 's04e22c01t', 's04e22c02t', 's04e22c05t', 's04e22c06t', 's04e22c07t', 's04e22c08t', 's04e22c09t', 's04e23c00t', 's04e23c01t', 's04e23c02t', 's04e23c03t', 's04e23c04t', 's04e23c06t', 's04e23c07t', 's04e23c08t', 's04e23c09t', 's04e24c00t', 's04e24c01t', 's04e24c02t', 's04e24c03t', 's04e24c04t', 's04e24c05t', 's04e24c06t', 's04e24c07t', 's04e24c08t', 's04e24c09t', 's04e24c10t', 's05e02c00t', 's05e02c01t', 's05e02c02t', 's05e02c03t', 's05e02c04t', 's05e02c05t', 's05e02c06t', 's05e02c07t', 's05e02c08t', 's05e06c00t', 's05e06c01t', 's05e06c02t', 's05e06c03t', 's05e06c04t', 's05e06c05t', 's05e06c06t', 's05e06c07t', 's05e06c08t', 's05e06c09t', 's05e12c00t', 's05e12c01t', 's05e12c02t', 's05e12c03t', 's05e12c04t', 's05e12c05t', 's05e12c06t', 's08e18c10t', 's05e12c07t', 's05e12c08t', 's05e14c00t', 's05e14c01t', 's05e14c02t', 's05e14c03t', 's05e14c04t', 's05e14c05t', 's05e14c06t', 's05e14c07t', 's05e14c08t', 's05e15c01t', 's05e15c02t', 's05e15c03t', 's05e15c04t', 's05e15c05t', 's05e15c06t', 's05e15c07t', 's05e20c00t', 's05e20c01t', 's05e20c02t', 's05e20c03t', 's05e20c04t', 's05e20c05t', 's05e20c06t', 's05e20c08t', 's05e23c00t', 's05e23c01t', 's05e23c02t', 's05e23c03t', 's05e23c04t', 's05e23c05t', 's05e23c06t', 's05e23c07t', 's06e02c00t', 's06e02c01t', 's06e02c02t', 's06e02c03t', 's06e02c04t', 's06e02c05t', 's06e02c06t', 's06e02c07t', 's06e02c08t', 's06e02c09t', 's06e02c10t', 's06e03c00t', 's06e03c01t', 's06e03c02t', 's06e03c03t', 's06e03c04t', 's06e03c05t', 's06e03c06t', 's06e03c07t', 's06e03c08t', 's06e03c09t', 's06e03c10t', 's06e04c00t', 's06e04c01t', 's06e04c02t', 's06e04c03t', 's06e04c04t', 's06e04c05t', 's06e04c06t', 's06e04c07t', 's06e04c08t', 's06e04c09t', 's06e05c00t', 's06e05c01t', 's06e05c02t', 's06e05c03t', 's06e05c04t', 's06e05c05t', 's06e05c06t', 's06e05c07t', 's06e05c08t', 's06e05c09t', 's06e05c10t', 's06e06c00t', 's06e06c01t', 's06e06c02t', 's06e06c03t', 's06e06c06t', 's05e20c07t', 's06e06c07t', 's06e06c08t', 's06e06c09t', 's08e01c03t', 's08e01c04t', 's08e01c05t', 's08e01c06t', 's08e01c07t', 's08e01c08t', 's06e20c13t', 's06e20c14t', 's06e20c15t', 's08e02c11t', 's08e03c00t', 's08e03c01t', 's08e03c02t', 's06e16c11t', 's06e17c00t', 's06e17c01t', 's06e07c08t', 's06e08c00t', 's06e08c01t', 's08e01c00t', 's08e01c01t', 's08e01c02t', 's07e23c04t', 's07e23c05t', 's07e23c06t', 's07e23c07t', 's06e21c06t', 's06e21c07t', 's06e21c08t', 's06e21c09t', 's06e08c02t', 's06e08c03t', 's06e08c04t', 's06e14c03t', 's06e14c04t', 's06e14c05t', 's06e14c06t', 's08e15c09t', 's08e16c00t', 's07e20c01t', 's07e20c02t', 's07e20c03t', 's08e12c05t', 's08e12c06t', 's08e12c07t', 's06e15c06t', 's06e15c07t', 's06e15c08t', 's08e03c07t', 's08e03c08t', 's08e03c09t', 's08e03c10t', 's08e09c03t', 's08e09c04t', 's08e09c05t', 's08e15c04t', 's08e15c05t', 's06e21c10t', 's06e21c11t', 's06e21c12t', 's07e19c00t', 's06e15c03t', 's06e15c04t', 's06e15c05t', 's08e02c02t', 's08e02c03t', 's08e02c04t', 's06e09c06t', 's06e09c07t', 's01e16c01t', 's06e16c09t', 's06e16c10t', 's08e03c03t', 's08e03c04t', 's08e03c05t', 's08e03c06t', 's06e17c02t', 's06e17c03t', 's06e17c04t', 's06e17c05t', 's06e14c07t', 's06e14c08t', 's06e14c09t', 's06e14c10t', 's07e22c02t', 's07e22c03t', 's07e22c04t', 's07e22c05t', 's07e20c04t', 's07e20c05t', 's05e14c09t', 's05e15c00t', 's07e19c08t', 's07e19c09t', 's07e19c10t', 's07e19c11t', 's08e02c05t', 's08e02c06t', 's08e02c07t', 's06e14c00t', 's06e14c01t', 's06e14c02t', 's06e14c11t', 's06e14c12t', 's06e15c00t', 's06e21c00t', 's06e21c01t', 's06e21c02t', 's07e23c11t', 's07e23c12t', 's07e20c06t', 's07e20c07t', 's07e20c08t', 's07e23c00t', 's07e23c01t', 's07e23c02t', 's07e23c03t', 's08e06c05t', 's08e06c06t', 's08e06c07t', 's08e06c08t', 's06e07c03t', 's06e07c04t', 's06e07c05t', 's08e15c02t', 's08e15c03t', 's06e19c10t', 's07e20c09t', 's07e20c10t', 's07e20c11t', 's07e20c12t', 's07e20c13t', 's07e22c00t', 's07e22c01t', 's06e09c03t', 's06e09c04t', 's06e09c05t', 's06e20c00t', 's06e20c01t', 's06e20c02t', 's06e20c03t', 's06e20c04t', 's06e20c05t', 's06e20c06t', 's06e20c07t', 's06e08c05t', 's06e08c06t', 's06e08c07t', 's07e22c10t', 's07e22c11t', 's07e22c12t', 's07e22c13t', 's07e23c08t', 's07e23c09t', 's07e23c10t', 's08e11c11t', 's08e11c12t', 's08e11c13t', 's01e22c10f', 's01e22c11f', 's01e24c00f', 's08e09c00t', 's08e09c01t', 's08e09c02t', 's08e11c06t', 's08e11c07t', 's08e11c08t', 's08e11c09t', 's08e11c10t', 's06e07c01t', 's06e07c02t', 's08e06c01t', 's08e06c02t', 's06e19c02t', 's06e19c03t', 's06e19c04t', 's06e19c05t', 's06e16c06t', 's06e16c07t', 's06e16c08t', 's06e16c02t', 's06e16c03t', 's06e16c04t', 's06e16c05t', 's08e12c08t', 's08e12c09t', 's06e15c09t', 's06e15c10t', 's06e16c00t', 's06e16c01t', 's06e07c06t', 's06e07c07t', 's08e01c12t', 's08e01c13t', 's06e19c06t', 's06e19c07t', 's06e19c08t', 's06e19c09t', 's07e19c12t', 's07e19c13t', 's07e20c00t', 's06e15c01t', 's06e15c02t', 's08e01c14t', 's08e02c00t', 's08e02c01t', 's08e09c09t', 's08e09c10t', 's08e06c09t', 's08e06c10t', 's08e06c11t', 's08e06c12t', 's06e09c00t', 's06e09c01t', 's06e09c02t', 's08e09c06t', 's08e09c07t', 's08e09c08t', 's08e06c03t', 's08e06c04t', 's06e08c08t', 's06e08c09t', 's06e08c10t', 's06e17c11t', 's06e19c00t', 's06e19c01t', 's06e20c08t', 's06e20c09t', 's06e20c10t', 's06e20c11t', 's06e20c12t', 's07e19c01t', 's07e19c02t', 's07e19c03t', 's08e12c10t', 's08e15c00t', 's08e15c01t', 's07e22c06t', 's07e22c07t', 's07e22c08t', 's07e22c09t', 's07e19c04t', 's07e19c05t', 's07e19c06t', 's07e19c07t', 's08e11c03t', 's08e11c04t', 's08e11c05t', 's08e12c02t', 's08e12c03t', 's08e12c04t', 's08e02c08t', 's08e02c09t', 's08e02c10t', 's08e01c09t', 's08e01c10t', 's08e01c11t', 's06e09c08t', 's06e09c09t', 's06e09c10t', 's06e06c10t', 's06e07c00t', 's08e09c11t', 's08e09c12t', 's08e11c00t', 's08e12c00t', 's08e12c01t', 's08e03c11t', 's08e06c00t', 's06e21c03t', 's06e21c04t', 's06e21c05t', 's06e17c06t', 's06e17c07t', 's06e17c08t', 's06e17c09t', 's06e17c10t', 's08e15c06t', 's08e15c07t', 's08e15c08t', 's08e16c01t', 's08e16c02t', 's08e16c03t', 's08e16c04t', 's08e16c05t', 's08e16c06t', 's08e16c07t', 's08e16c08t', 's08e16c09t', 's08e16c10t', 's08e16c11t', 's08e16c12t', 's08e16c13t', 's08e16c14t', 's08e16c15t', 's08e17c00t', 's08e17c01t', 's08e17c02t', 's08e17c03t', 's08e17c04t', 's08e17c05t', 's08e17c06t', 's08e17c07t', 's08e17c08t', 's08e17c09t', 's08e17c10t', 's08e17c11t', 's08e17c12t', 's08e18c00t', 's08e18c01t', 's01e16c05t', 's01e16c06t', 's08e18c02t', 's08e18c03t', 's08e18c04t', 's08e18c05t', 's08e18c06t', 's08e18c07t', 's08e18c08t', 's08e18c09t', 's08e18c11t', 's08e19c00t', 's08e19c01t', 's08e19c02t', 's08e19c03t', 's08e19c04t', 's08e19c05t', 's08e19c06t', 's08e19c07t', 's08e19c08t', 's08e19c09t', 's08e19c10t', 's08e19c11t', 's08e20c00t', 's08e20c01t', 's08e20c02t', 's08e20c03t', 's08e20c04t', 's08e20c05t', 's08e20c06t', 's08e20c07t', 's08e20c08t', 's08e20c09t', 's08e20c10t', 's08e20c11t', 's08e20c12t', 's08e20c13t', 's04e05c02t', 's08e21c00t', 's08e21c01t', 's08e21c02t', 's08e21c03t', 's08e21c04t', 's08e21c05t', 's08e21c06t', 's08e21c07t', 's08e21c08t', 's08e21c09t', 's08e21c10t', 's08e21c11t', 's08e22c00t', 's08e22c01t', 's08e22c02t', 's08e22c03t', 's08e22c04t', 's08e22c05t', 's01e07c02f', 's01e07c03f', 's01e07c04f', 's01e07c05f', 's01e07c06f', 's08e22c06t', 's08e22c07t', 's08e22c08t', 's08e22c09t', 's08e22c10t', 's08e22c11t', 's08e22c12t', 's08e23c00t', 's08e23c01t', 's08e23c02t', 's08e23c03t', 's08e23c06t', 's08e23c07t', 's08e23c08t', 's08e23c09t', 's08e23c10t', 's08e23c11t', 's08e24c00t', 's08e24c01t', 's08e24c02t', 's08e24c03t', 's08e24c04t', 's08e24c05t', 's08e24c06t', 's08e24c07t', 's08e24c08t', 's08e24c09t', 's08e24c10t', 's08e24c11t', 's08e24c12t', 's08e24c13t', 's08e24c14t', 's08e24c15t', 's08e24c16t', 's01e03c00f', 's01e03c01f', 's01e03c02f', 's01e03c03f', 's01e03c04f', 's01e03c05f', 's01e03c06f', 's01e03c07f', 's01e03c11f', 's01e03c12f', 's01e04c00f', 's01e04c01f', 's01e04c02f', 's01e04c03f', 's01e04c04f', 's01e04c05f', 's01e04c06f', 's01e04c07f', 's01e04c08f', 's01e04c09f', 's01e04c10f', 's01e04c11f', 's01e04c12f', 's01e04c13f', 's01e04c14f', 's01e06c00f', 's01e06c01f', 's01e06c02f', 's02e04c02t', 's01e06c03f', 's01e06c04f', 's01e06c05f', 's01e06c06f', 's01e06c07f', 's01e07c00f', 's01e07c01f', 's01e07c07f', 's01e07c08f', 's01e07c09f', 's01e07c10f', 's01e07c11f', 's01e07c12f', 's01e07c13f', 's01e07c14f', 's01e07c15f', 's01e07c16f', 's01e07c17f', 's01e07c18f', 's01e07c19f', 's01e08c00f', 's01e08c01f', 's01e08c02f', 's01e08c03f', 's01e08c04f', 's01e08c05f', 's01e08c06f', 's01e08c07f', 's01e08c08f', 's01e08c09f', 's01e08c10f', 's01e08c11f', 's01e09c00f', 's01e09c01f', 's01e09c02f', 's01e09c03f', 's01e09c04f', 's01e09c05f', 's01e09c06f', 's01e09c07f', 's01e09c08f', 's01e09c09f', 's01e09c10f', 's01e09c11f', 's01e10c00f', 's01e10c01f', 's06e06c04t', 's06e06c05t', 's01e10c02f', 's01e10c03f', 's04e23c05t', 's01e10c04f', 's01e10c05f', 's08e23c04t', 's08e23c05t', 's01e12c00f', 's01e12c01f', 's01e12c02f', 's01e12c03f', 's01e12c04f', 's01e12c05f', 's01e12c06f', 's01e12c07f', 's01e12c08f', 's01e12c09f', 's01e12c10f', 's01e12c11f', 's01e12c12f', 's01e12c13f', 's01e15c00f', 's01e15c01f', 's01e15c02f', 's01e15c03f', 's01e15c04f', 's01e15c05f', 's01e15c06f', 's01e15c07f', 's01e15c08f', 's01e15c09f', 's01e15c10f', 's01e15c11f', 's01e15c12f', 's01e16c00f', 's01e16c01f', 's01e16c02f', 's01e16c03f', 's01e16c04f', 's01e16c05f', 's01e16c06f', 's01e16c07f', 's01e16c08f', 's01e16c09f', 's01e16c10f', 's01e16c11f', 's01e16c12f', 's01e16c13f', 's01e16c14f', 's01e17c00f', 's04e08c00t', 's01e17c01f', 's01e17c02f', 's01e17c03f', 's01e17c04f', 's01e17c05f', 's01e17c06f', 's01e17c07f', 's01e17c08f', 's01e17c09f', 's01e17c10f', 's01e17c11f', 's01e17c12f', 's01e18c00f', 's01e18c01f', 's01e18c02f', 's01e18c03f', 's01e19c00f', 's01e19c01f', 's01e19c02f', 's01e19c03f', 's01e19c04f', 's01e19c05f', 's01e19c06f', 's01e19c07f', 's01e20c00f', 's04e22c00t', 's01e20c01f', 's01e20c02f', 's01e20c03f', 's01e20c04f', 's01e20c05f', 's01e20c06f', 's01e20c07f', 's01e20c08f', 's01e10c06t', 's01e20c09f', 's01e20c10f', 's01e22c00f', 's01e22c01f', 's01e22c02f', 's01e22c03f', 's01e22c04f', 's08e11c01t', 's08e11c02t', 's01e22c05f', 's01e22c06f', 's01e14c05t', 's01e14c06t', 's01e22c07f', 's01e22c08f', 's01e22c09f', 's01e24c01f', 's01e24c02f', 's01e24c03f', 's01e24c04f', 's01e24c05f', 's01e24c06f', 's01e24c07f', 's01e24c08f', 's01e24c09f', 's07e01c00t', 's07e01c01t', 's07e01c02t', 's07e01c03t', 's07e01c04t', 's07e01c05t', 's07e01c06t', 's07e01c07t', 's07e01c08t', 's07e01c09t', 's07e01c10t', 's07e01c11t', 's07e01c12t', 's07e01c13t', 's07e02c00t', 's07e02c01t', 's07e02c02t', 's07e02c03t', 's07e02c04t', 's07e02c05t', 's07e02c06t', 's07e02c07t', 's07e02c08t', 's07e02c09t', 's07e02c10t', 's07e06c00t', 's07e06c01t', 's07e06c02t', 's07e06c03t', 's07e06c04t', 's07e06c05t', 's07e06c06t', 's07e06c07t', 's07e06c08t', 's06e09c03fe', 's06e09c04fe', 's06e09c05fe', 's07e06c09t', 's07e06c10t', 's07e10c00t', 's07e10c01t', 's07e10c02t', 's07e10c03t', 's07e10c04t', 's07e10c05t', 's07e10c06t', 's07e10c07t', 's07e10c08t', 's07e10c09t', 's07e15c00t', 's07e15c01t', 's07e15c02t', 's07e15c03t', 's07e15c04t', 's07e15c05t', 's07e15c06t', 's07e15c07t', 's07e15c08t', 's07e15c09t', 's07e15c10t', 's07e15c11t', 's07e15c12t', 's07e15c13t', 's07e16c00t', 's07e16c01t', 's07e16c02t', 's07e16c03t', 's07e16c04t', 's07e16c05t', 's07e16c06t', 's07e16c07t', 's07e16c08t', 's07e16c09t', 's07e16c10t', 's07e17c00t', 's07e17c01t', 's07e17c02t', 's07e17c03t', 's07e17c04t', 's07e17c05t', 's07e17c06t', 's07e17c07t', 's07e17c08t', 's07e17c09t', 's07e17c10t', 's07e17c11t', 's07e17c12t', 's07e18c00t', 's07e18c01t', 's07e18c02t', 's07e18c03t', 's07e18c04t', 's07e18c05t', 's07e18c06t', 's07e18c07t', 's07e18c08t', 's07e18c09t', 's07e18c10t', 's01e01c00f', 's01e01c01f', 's01e01c02f', 's01e01c03f', 's01e01c04f', 's01e01c05f', 's01e01c06f', 's01e01c07f', 's01e01c08f', 's01e01c09f', 's01e01c10f', 's01e01c11f', 's07e18c11t', 's01e01c12f', 's01e01c13f', 's01e02c00f', 's01e02c01f', 's01e02c02f', 's01e02c03f', 's01e02c04f', 's01e02c05f', 's01e02c06f', 's01e02c07f', 's01e02c08f', 's01e02c09f', 's07e11c00t', 's07e11c01t', 's09e01c00t', 's09e01c01t', 's09e01c02t', 's09e01c03t', 's09e01c04t', 's09e01c05t', 's09e01c06t', 's09e01c07t', 's09e01c08t', 's09e01c09t', 's09e01c10t', 's09e01c11t', 's09e01c12t', 's09e01c13t', 's09e03c00t', 's09e03c01t', 's09e03c02t', 's09e03c03t', 's09e03c04t', 's09e03c05t', 's09e03c06t', 's09e03c07t', 's09e03c08t', 's09e12c07t', 's09e12c08t', 's09e03c09t', 's09e03c10t', 's09e03c11t', 's09e03c12t', 's09e03c13t', 's09e04c00t', 's09e04c01t', 's09e04c02t', 's09e04c03t', 's09e04c04t', 's09e04c05t', 's09e04c06t', 's09e04c07t', 's09e04c08t', 's09e04c09t', 's09e04c10t', 's09e04c11t', 's09e04c12t', 's09e07c00t', 's09e07c01t', 's09e07c02t', 's09e07c03t', 's09e07c04t', 's09e07c05t', 's09e07c06t', 's09e07c07t', 's09e07c08t', 's09e07c09t', 's09e07c10t', 's09e09c00t', 's09e09c01t', 's09e09c02t', 's09e09c03t', 's09e09c04t', 's09e09c05t', 's09e09c06t', 's09e09c07t', 's09e09c08t', 's09e09c09t', 's09e09c10t', 's09e09c11t', 's09e09c12t', 's09e09c13t', 's09e10c00t', 's09e10c01t', 's09e10c02t', 's09e10c03t', 's09e10c04t', 's09e10c05t', 's09e10c06t', 's09e10c07t', 's09e10c08t', 's09e10c09t', 's09e10c10t', 's09e10c11t', 's09e10c12t', 's09e10c13t', 's09e10c14t', 's09e11c00t', 's09e11c01t', 's09e11c02t', 's09e11c03t', 's09e11c04t', 's09e11c05t', 's09e11c06t', 's09e11c07t', 's09e11c08t', 's09e11c09t', 's09e11c10t', 's09e11c11t', 's01e14c14f', 's01e14c15f', 's09e11c12t', 's09e11c13t', 's09e11c14t', 's09e11c15t', 's09e11c16t', 's09e11c17t', 's09e12c00t', 's09e12c01t', 's09e12c02t', 's09e12c03t', 's09e12c04t', 's09e12c05t', 's09e12c06t', 's09e12c09t', 's09e12c10t', 's09e12c11t', 's09e12c12t', 's09e12c13t', 's09e12c14t', 's09e12c15t', 's09e16c00t', 's09e16c01t', 's09e16c02t', 's09e16c03t', 's09e16c04t', 's09e16c05t', 's09e16c06t', 's09e16c07t', 's09e16c08t', 's09e16c09t', 's09e16c10t', 's09e16c11t', 's09e16c12t', 's09e16c13t', 's09e16c14t', 's09e16c15t', 's01e13c00f', 's01e13c01f', 's01e13c02f', 's01e13c03f', 's01e13c04f', 's01e13c05f', 's01e13c06f', 's01e13c07f', 's01e13c08f', 's01e13c09f', 's01e13c10f', 's01e13c11f', 's01e14c00f', 's01e14c01f', 's01e14c02f', 's01e14c03f', 's01e14c04f', 's01e14c05f', 's01e14c06f', 's01e14c07f', 's01e14c08f', 's01e14c09f', 's01e14c10f', 's01e14c11f', 's01e14c12f', 's01e14c13f'])\n"
     ]
    }
   ],
   "source": [
    "print(raw_data.keys())"
   ],
   "metadata": {
    "collapsed": false
   }
  },
  {
   "cell_type": "code",
   "execution_count": 14,
   "outputs": [
    {
     "name": "stdout",
     "output_type": "stream",
     "text": [
      "{'s09e16c06t', 's07e15c06t', 's09e12c06t', 's07e18c02t', 's07e17c11t', 's09e16c09t', 's01e01c03f', 's09e04c07t', 's07e01c01t', 's01e02c05f', 's09e04c12t', 's01e02c08f', 's01e02c07f', 's09e09c12t', 's07e17c10t', 's09e16c08t', 's07e18c10t', 's07e01c04t', 's06e09c04fe', 's09e10c03t', 's07e02c08t', 's01e02c06f', 's09e10c14t', 's01e01c06f', 's09e03c06t', 's01e01c00f', 's07e17c02t', 's09e03c03t', 's09e03c01t', 's09e09c13t', 's09e10c11t', 's09e01c08t', 's07e18c04t', 's09e07c07t', 's09e16c11t', 's01e13c06f', 's09e12c07t', 's07e15c12t', 's07e11c01t', 's07e16c09t', 's09e11c17t', 's01e14c01f', 's07e02c05t', 's01e14c09f', 's09e11c15t', 's07e10c04t', 's07e01c06t', 's09e11c04t', 's09e12c03t', 's07e16c08t', 's09e01c13t', 's09e07c04t', 's07e01c12t', 's09e11c09t', 's07e02c04t', 's09e07c03t', 's09e10c00t', 's09e01c03t', 's09e01c06t', 's07e16c00t', 's09e12c11t', 's01e14c02f', 's07e10c03t', 's01e13c07f', 's07e10c02t', 's07e15c04t', 's09e07c10t', 's09e16c14t', 's07e06c08t', 's09e12c05t', 's07e18c07t', 's09e03c02t', 's07e01c00t', 's09e01c07t', 's09e09c07t', 's09e10c02t', 's01e14c03f', 's09e07c05t', 's09e11c16t', 's01e02c04f', 's09e11c08t', 's07e17c12t', 's07e17c01t', 's09e09c02t', 's09e12c00t', 's07e16c04t', 's07e15c10t', 's07e01c11t', 's09e10c07t', 's09e10c06t', 's01e13c08f', 's09e09c03t', 's01e13c01f', 's09e03c10t', 's09e01c00t', 's07e02c01t', 's09e01c10t', 's07e01c03t', 's09e07c02t', 's09e10c12t', 's07e02c03t', 's07e01c10t', 's07e06c05t', 's01e13c11f', 's01e13c03f', 's09e03c08t', 's07e17c06t', 's01e01c10f', 's01e14c06f', 's07e06c02t', 's09e01c02t', 's07e17c00t', 's07e10c05t', 's09e01c09t', 's01e01c07f', 's09e04c04t', 's09e16c03t', 's09e09c05t', 's07e01c09t', 's07e10c01t', 's01e05c04t', 's01e02c09f', 's01e01c09f', 's06e09c05fe', 's09e12c02t', 's09e01c12t', 's07e16c06t', 's09e04c01t', 's01e02c01f', 's01e01c11f', 's01e14c00f', 's09e04c00t', 's09e09c04t', 's06e09c03fe', 's09e07c08t', 's09e01c01t', 's09e11c01t', 's09e10c01t', 's09e10c05t', 's09e11c03t', 's09e04c03t', 's07e15c05t', 's07e02c00t', 's09e03c12t', 's07e15c11t', 's09e11c11t', 's09e10c08t', 's07e02c09t', 's09e10c13t', 's07e18c05t', 's07e06c06t', 's07e15c01t', 's01e14c12f', 's09e10c09t', 's09e11c05t', 's09e12c12t', 's09e16c04t', 's09e12c09t', 's07e10c09t', 's07e16c01t', 's07e17c05t', 's07e16c05t', 's07e15c00t', 's09e03c07t', 's09e09c00t', 's07e10c08t', 's09e12c01t', 's07e01c07t', 's09e04c06t', 's01e02c02f', 's07e01c02t', 's07e16c02t', 's09e10c04t', 's01e02c00f', 's09e11c13t', 's09e04c05t', 's01e01c05f', 's09e16c07t', 's01e13c04f', 's07e06c07t', 's09e03c00t', 's01e14c14f', 's09e09c01t', 's01e01c08f', 's09e09c09t', 's07e18c09t', 's09e10c10t', 's07e18c00t', 's07e17c04t', 's07e15c13t', 's09e16c12t', 's07e18c11t', 's09e01c05t', 's07e06c04t', 's07e06c10t', 's07e10c00t', 's09e03c05t', 's09e04c11t', 's01e13c00f', 's07e15c07t', 's07e17c07t', 's09e11c14t', 's09e11c07t', 's01e13c09f', 's09e04c02t', 's07e16c07t', 's09e04c10t', 's09e12c13t', 's01e01c01f', 's09e01c04t', 's07e15c03t', 's09e03c11t', 's01e13c10f', 's07e15c08t', 's09e16c13t', 's07e02c02t', 's01e01c04f', 's09e11c10t', 's09e09c11t', 's07e16c10t', 's07e16c03t', 's01e14c04f', 's07e06c03t', 's09e16c00t', 's09e12c10t', 's01e14c13f', 's09e07c06t', 's09e16c01t', 's09e16c15t', 's07e15c02t', 's09e04c08t', 's07e17c08t', 's07e18c01t', 's01e14c07f', 's01e14c10f', 's07e06c00t', 's09e09c06t', 's07e10c06t', 's07e01c08t', 's01e14c05f', 's07e18c06t', 's07e15c09t', 's09e09c10t', 's09e03c09t', 's07e02c06t', 's09e03c04t', 's09e12c08t', 's09e16c02t', 's09e12c14t', 's01e13c05f', 's01e01c13f', 's07e06c09t', 's07e11c00t', 's09e07c09t', 's01e14c15f', 's01e02c03f', 's09e07c00t', 's09e07c01t', 's07e17c09t', 's07e01c05t', 's09e11c02t', 's01e13c02f', 's09e01c11t', 's09e09c08t', 's09e11c06t', 's01e14c11f', 's07e18c03t', 's01e14c08f', 's09e12c15t', 's09e16c05t', 's09e04c09t', 's07e10c07t', 's07e18c08t', 's09e11c12t', 's09e03c13t', 's07e02c07t', 's07e02c10t', 's09e16c10t', 's07e01c13t', 's07e06c01t', 's01e01c12f', 's09e12c04t', 's09e11c00t', 's01e01c02f', 's07e17c03t'}\n"
     ]
    }
   ],
   "source": [
    "print(set(raw_data.keys())-set(data.keys()))"
   ],
   "metadata": {
    "collapsed": false
   }
  },
  {
   "cell_type": "code",
   "execution_count": 15,
   "outputs": [
    {
     "name": "stdout",
     "output_type": "stream",
     "text": [
      "[[5, 5], [18, 18]]\n",
      "[[8, 8], [285, 285], [427, 432], [68, 68], [65, 65], [270, 270], [25, 25], [386, 386], [399, 399], [39, 39], [28, 28], [517, 517], [523, 523], [427, 427], [381, 381], [15, 15]]\n",
      "[[12, 12], [31, 31]]\n",
      "[[15, 16]]\n",
      "[[33, 33]]\n",
      "[[38, 38]]\n",
      "[[38, 44]]\n",
      "[[49, 49]]\n",
      "[[51, 51]]\n",
      "[[56, 56]]\n",
      "[[57, 57], [377, 377], [348, 348], [216, 216], [206, 206], [368, 368], [371, 373]]\n",
      "[[56, 62]]\n",
      "[[78, 78]]\n",
      "[[72, 78]]\n",
      "[[85, 85], [336, 336], [356, 362], [354, 354], [266, 267], [343, 343], [263, 263], [272, 272], [276, 276], [330, 333], [327, 327]]\n",
      "[[97, 101]]\n",
      "[[111, 111]]\n",
      "[[113, 113]]\n",
      "[[115, 115]]\n",
      "[[419, 419], [125, 125], [497, 497], [128, 128], [121, 121], [147, 147], [117, 117]]\n",
      "[[136, 136], [133, 133]]\n",
      "[[146, 163], [142, 143]]\n",
      "[[146, 146]]\n",
      "[[151, 153]]\n",
      "[[163, 163]]\n",
      "[[157, 163]]\n",
      "[[165, 165]]\n",
      "[[481, 481], [503, 503], [187, 187], [406, 406], [198, 198], [416, 416], [391, 391], [413, 413], [452, 452], [172, 172], [403, 403]]\n",
      "[[174, 174]]\n",
      "[[179, 181], [190, 192]]\n",
      "[[183, 183]]\n",
      "[[198, 199]]\n",
      "[[213, 213]]\n",
      "[[222, 223]]\n",
      "[[225, 225]]\n",
      "[[231, 234]]\n",
      "[[233, 234]]\n",
      "[[242, 242], [248, 248], [240, 241], [240, 240], [257, 257], [248, 249], [249, 249]]\n",
      "[[244, 244], [251, 251]]\n",
      "[[253, 253]]\n",
      "[[259, 259]]\n",
      "[[274, 274]]\n",
      "[[278, 278]]\n",
      "[[280, 282]]\n",
      "[[298, 301]]\n",
      "[[289, 309]]\n",
      "[[304, 309]]\n",
      "[[308, 309]]\n",
      "[[313, 314], [311, 311]]\n",
      "[[322, 325]]\n",
      "[[340, 341]]\n",
      "[[359, 362]]\n",
      "[[363, 363], [365, 365]]\n",
      "[[383, 383]]\n",
      "[[389, 389]]\n",
      "[[401, 401]]\n",
      "[[409, 414]]\n",
      "[[413, 414]]\n",
      "[[429, 432]]\n",
      "[[440, 440], [444, 444]]\n",
      "[[447, 447]]\n",
      "[[454, 454]]\n",
      "[[456, 457]]\n",
      "[[460, 462]]\n",
      "[[470, 470], [478, 478]]\n",
      "[[514, 514], [491, 491]]\n",
      "[[498, 499]]\n",
      "[[518, 518]]\n",
      "[[520, 520]]\n",
      "[[531, 535]]\n",
      "[[533, 535]]\n"
     ]
    }
   ],
   "source": [
    "for item in [[[5, 5], [18, 18]], [[8, 8], [285, 285], [427, 432], [68, 68], [65, 65], [270, 270], [25, 25], [386, 386], [399, 399], [39, 39], [28, 28], [517, 517], [523, 523], [427, 427], [381, 381], [15, 15]], [[12, 12], [31, 31]], [[15, 16]], [[33, 33]], [[38, 38]], [[38, 44]], [[49, 49]], [[51, 51]], [[56, 56]], [[57, 57], [377, 377], [348, 348], [216, 216], [206, 206], [368, 368], [371, 373]], [[56, 62]], [[78, 78]], [[72, 78]], [[85, 85], [336, 336], [356, 362], [354, 354], [266, 267], [343, 343], [263, 263], [272, 272], [276, 276], [330, 333], [327, 327]], [[97, 101]], [[111, 111]], [[113, 113]], [[115, 115]], [[419, 419], [125, 125], [497, 497], [128, 128], [121, 121], [147, 147], [117, 117]], [[136, 136], [133, 133]], [[146, 163], [142, 143]], [[146, 146]], [[151, 153]], [[163, 163]], [[157, 163]], [[165, 165]], [[481, 481], [503, 503], [187, 187], [406, 406], [198, 198], [416, 416], [391, 391], [413, 413], [452, 452], [172, 172], [403, 403]], [[174, 174]], [[179, 181], [190, 192]], [[183, 183]], [[198, 199]], [[213, 213]], [[222, 223]], [[225, 225]], [[231, 234]], [[233, 234]], [[242, 242], [248, 248], [240, 241], [240, 240], [257, 257], [248, 249], [249, 249]], [[244, 244], [251, 251]], [[253, 253]], [[259, 259]], [[274, 274]], [[278, 278]], [[280, 282]], [[298, 301]], [[289, 309]], [[304, 309]], [[308, 309]], [[313, 314], [311, 311]], [[322, 325]], [[340, 341]], [[359, 362]], [[363, 363], [365, 365]], [[383, 383]], [[389, 389]], [[401, 401]], [[409, 414]], [[413, 414]], [[429, 432]], [[440, 440], [444, 444]], [[447, 447]], [[454, 454]], [[456, 457]], [[460, 462]], [[470, 470], [478, 478]], [[514, 514], [491, 491]], [[498, 499]], [[518, 518]], [[520, 520]], [[531, 535]], [[533, 535]]]:\n",
    "    print(item)"
   ],
   "metadata": {
    "collapsed": false
   }
  },
  {
   "cell_type": "code",
   "execution_count": null,
   "outputs": [],
   "source": [],
   "metadata": {
    "collapsed": false
   }
  }
 ],
 "metadata": {
  "kernelspec": {
   "display_name": "Python 3",
   "language": "python",
   "name": "python3"
  },
  "language_info": {
   "codemirror_mode": {
    "name": "ipython",
    "version": 2
   },
   "file_extension": ".py",
   "mimetype": "text/x-python",
   "name": "python",
   "nbconvert_exporter": "python",
   "pygments_lexer": "ipython2",
   "version": "2.7.6"
  }
 },
 "nbformat": 4,
 "nbformat_minor": 0
}

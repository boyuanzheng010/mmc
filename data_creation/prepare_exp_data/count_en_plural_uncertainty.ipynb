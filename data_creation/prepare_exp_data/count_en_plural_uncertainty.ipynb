{
 "cells": [
  {
   "cell_type": "code",
   "execution_count": null,
   "metadata": {
    "collapsed": true,
    "pycharm": {
     "name": "#%%\n"
    }
   },
   "outputs": [],
   "source": []
  },
  {
   "cell_type": "code",
   "execution_count": null,
   "outputs": [],
   "source": [],
   "metadata": {
    "collapsed": false,
    "pycharm": {
     "name": "#%%\n"
    }
   }
  },
  {
   "cell_type": "code",
   "execution_count": null,
   "outputs": [],
   "source": [],
   "metadata": {
    "collapsed": false,
    "pycharm": {
     "name": "#%%\n"
    }
   }
  },
  {
   "cell_type": "code",
   "execution_count": 8,
   "outputs": [],
   "source": [
    "import pickle as pkl\n",
    "from copy import deepcopy\n",
    "import jsonlines\n",
    "from utils.my_util import cluster_mentions, remove_speaker_prefix\n",
    "import json"
   ],
   "metadata": {
    "collapsed": false,
    "pycharm": {
     "name": "#%%\n"
    }
   }
  },
  {
   "cell_type": "code",
   "execution_count": 9,
   "outputs": [],
   "source": [
    "speaker_dict = {}\n",
    "with open('data/raw_source/dialogue_en/all_coref_data_en_finalized.json', 'r') as f:\n",
    "    temp = json.load(f)\n",
    "    for line in temp:\n",
    "        scene_id = line['scene_id']\n",
    "        speakers = []\n",
    "        for sent in line['sentences']:\n",
    "            speakers.append(\" \".join(sent[:sent.index(\":\")]))\n",
    "        speaker_dict[scene_id] = speakers\n",
    "\n",
    "split_dict = {\"train\":[], \"dev\":[], \"test\":[]}\n",
    "with open('data/raw_source/dialogue_zh/dev_temp.pkl', 'rb') as f:\n",
    "    temp = pkl.load(f)\n",
    "    for line in temp:\n",
    "        split_dict['dev'].append(line['scene_id'])\n",
    "with open('data/raw_source/dialogue_zh/test_temp.pkl', 'rb') as f:\n",
    "    temp = pkl.load(f)\n",
    "    for line in temp:\n",
    "        split_dict['test'].append(line['scene_id'])\n",
    "with open('data/raw_source/dialogue_zh/train_temp.pkl', 'rb') as f:\n",
    "    temp = pkl.load(f)\n",
    "    for line in temp:\n",
    "        split_dict['train'].append(line['scene_id'][:-1])"
   ],
   "metadata": {
    "collapsed": false,
    "pycharm": {
     "name": "#%%\n"
    }
   }
  },
  {
   "cell_type": "code",
   "execution_count": 10,
   "outputs": [
    {
     "name": "stdout",
     "output_type": "stream",
     "text": [
      "1 ['Sheldon', ':', 'If', 'a', 'photon', 'is', 'directed', 'through', 'a', 'plane', 'with', 'two', 'slits', 'in', 'it', 'and', 'either', 'is', 'observed', 'it', 'will', 'not', 'go', 'through', 'both', '.', 'If', 'unobserved', ',', 'it', 'will', '.', 'If', 'it', \"'s\", 'observed', 'after', 'it', 'left', 'the', 'plane', ',', 'before', 'it', 'hits', 'its', 'target', '...', 'it', 'will', 'not', 'have', 'gone', 'through', 'both', 'slits', '.']\n",
      "1 ['Leonard', ':', 'Agreed', '.', 'What', \"'s\", 'your', 'point', '?']\n",
      "1 ['Sheldon', ':', 'There', \"'s\", 'no', 'point', ',', 'I', 'just', 'think', 'it', \"'s\", 'a', 'good', 'idea', 'for', 'a', 'T', '-', 'shirt', '.']\n",
      "1 ['Leonard', ':', 'Excuse', 'me', '.']\n",
      "1 ['Receptionist', ':', 'Hang', 'on', '.']\n",
      "1 ['Leonard', ':', 'One', 'across', 'is', 'Aegean', ',', 'eight', 'down', 'is', 'Nabokov', '.', 'Twenty', '-', 'six', 'across', 'is', 'MCM', '.', 'Fourteen', 'down', 'is', '...', 'Move', 'your', 'finger', '.', 'phylum', ',', 'which', 'makes', '14', 'across', 'Port', '-', 'Au', '-', 'Prince', '.', 'See', ',', 'Papa', 'Doc', \"'s\", 'capital', 'idea', ',', 'that', \"'s\", 'Port', '-', 'Au', '-', 'Prince', '.', 'Haiti', '.']\n",
      "1 ['Receptionist', ':', 'Can', 'I', 'help', 'you', '?']\n",
      "1 ['Leonard', ':', 'Yes', '.', 'Um', ',', 'is', 'this', 'the', 'high', '-', 'IQ', 'sperm', 'bank', '?']\n",
      "1 ['Receptionist', ':', 'If', 'you', 'have', 'to', 'ask', ',', 'maybe', 'you', 'should', \"n't\", 'be', 'here', '.']\n",
      "1 ['Sheldon', ':', 'I', 'think', 'this', 'is', 'the', 'place', '.']\n",
      "1 ['Receptionist', ':', 'Fill', 'these', 'out', '.']\n",
      "1 ['Leonard', ':', 'Thank', 'you', '.', 'We', \"'ll\", 'be', 'right', 'back', '.']\n",
      "1 ['Receptionist', ':', 'Oh', ',', 'take', 'your', 'time', '.', 'I', \"'ll\", 'just', 'finish', 'my', 'crossword', 'puzzle', '.', 'Oh', ',', 'wait', '.']\n",
      "1 ['Sheldon', ':', 'Leonard', ',', 'I', 'do', \"n't\", 'think', 'I', 'can', 'do', 'this', '.']\n",
      "1 ['Leonard', ':', 'What', ',', 'are', 'you', 'kidding', '?', 'You', \"'re\", 'a', 'semipro', '.']\n",
      "1 ['Sheldon', ':', 'No', '.', 'We', 'are', 'committing', 'genetic', 'fraud', '.', 'There', \"'s\", 'no', 'guarantee', 'our', 'sperm', \"'s\", 'going', 'to', 'generate', 'high', '-', 'IQ', 'offspring', '.', 'Think', 'about', 'that', '.', 'I', 'have', 'a', 'sister', 'with', 'the', 'same', 'basic', 'DNA', 'mix', 'who', 'hostesses', 'at', 'Fuddruckers', '.']\n",
      "1 ['Leonard', ':', 'Sheldon', ',', 'this', 'was', 'your', 'idea', '.', 'A', 'little', 'extra', 'money', 'to', 'get', 'fractional', 'T1', 'bandwidth', 'in', 'the', 'apartment', '?']\n",
      "1 ['Sheldon', ':', 'I', 'know', '.', 'And', 'I', 'do', 'yearn', 'for', 'faster', 'downloads', '.', 'There', \"'s\", 'some', 'poor', 'woman', 'who', \"'s\", 'gon', 'na', 'pin', 'her', 'hopes', 'on', 'my', 'sperm', '.', 'What', 'if', 'she', 'winds', 'up', 'with', 'a', 'toddler', 'who', 'does', \"n't\", 'know', 'if', 'he', 'should', 'use', 'a', 'differential', 'to', 'solve', 'for', 'the', 'area', 'under', 'a', 'curve', '?']\n",
      "1 ['Leonard', ':', 'I', \"'m\", 'sure', 'she', \"'ll\", 'still', 'love', 'him', '.']\n",
      "1 ['Sheldon', ':', 'I', 'would', \"n't\", '.']\n",
      "1 ['Leonard', ':', 'Well', ',', 'what', 'do', 'you', 'wanna', 'do', '?']\n",
      "1 ['Sheldon', ':', 'I', 'want', 'to', 'leave', '.']\n",
      "1 ['Sheldon', ':', 'What', \"'s\", 'the', 'protocol', 'for', 'leaving', '?']\n",
      "1 ['Leonard', ':', 'I', 'do', \"n't\", 'know', '.', 'I', \"'ve\", 'never', 'reneged', 'on', 'a', 'proffer', 'of', 'sperm', 'before', '.']\n",
      "1 ['Sheldon', ':', 'Let', \"'s\", 'try', 'just', 'walking', 'out', '.']\n",
      "1 ['Leonard', ':', 'Okay', '.']\n",
      "1 ['Receptionist', ':', 'Bye', '.']\n",
      "1 ['Sheldon', ':', 'Bye', '-', 'bye']\n",
      "1 ['Leonard', ':', 'See', 'you', '.']\n",
      "1 ['Sheldon', ':', 'Are', 'you', 'still', 'mad', 'about', 'the', 'sperm', 'bank', '?']\n",
      "1 ['Leonard', ':', 'No', '.']\n",
      "1 ['Sheldon', ':', 'You', 'wanna', 'hear', 'an', 'interesting', 'thing', 'about', 'stairs', '?']\n",
      "1 ['Leonard', ':', 'Not', 'really', '.']\n",
      "1 ['Sheldon', ':', 'If', 'the', 'height', 'of', 'a', 'step', 'is', 'off', 'by', 'as', 'little', 'as', 'two', 'millimeters', '...', 'most', 'people', 'will', 'trip', '.']\n",
      "1 ['Leonard', ':', 'I', 'do', \"n't\", 'care', '.', 'Two', 'millime', '...', '?', 'That', 'does', \"n't\", 'seem', 'right', '.']\n",
      "1 ['Sheldon', ':', 'It', \"'s\", 'true', '.', 'I', 'did', 'a', 'series', 'of', 'experiments', 'when', 'I', 'was', '12', '.', 'My', 'father', 'broke', 'his', 'clavicle', '.']\n",
      "1 ['Leonard', ':', 'Is', 'that', 'why', 'they', 'sent', 'you', 'to', 'boarding', 'school', '?']\n",
      "1 ['Sheldon', ':', 'That', 'was', 'the', 'result', 'of', 'my', 'work', 'with', 'lasers', '.']\n",
      "1 ['Leonard', ':', 'New', 'neighbor', '?']\n",
      "1 ['Sheldon', ':', 'Evidently', '.']\n",
      "1 ['Leonard', ':', 'Significant', 'improvement', 'over', 'the', 'old', 'neighbor', '.']\n",
      "1 ['Sheldon', ':', 'Two', '-', 'hundred', 'pound', 'transvestite', 'with', 'a', 'skin', 'condition', '?', 'Yes', ',', 'she', 'is', '.']\n",
      "1 ['Penny', ':', 'Oh', ',', 'hi', '.']\n",
      "1 ['Leonard', ':', 'Hi', '.']\n",
      "1 ['Sheldon', ':', 'Hi', '.']\n",
      "1 ['Penny', ':', 'Hi', '?']\n",
      "1 ['Leonard', ':', 'We', 'do', \"n't\", 'mean', 'to', 'interrupt', '.', 'We', 'live', 'across', 'the', 'hall', '.']\n",
      "1 ['Penny', ':', 'Oh', ',', 'that', \"'s\", 'nice', '.']\n",
      "1 ['Leonard', ':', 'No', '.', 'We', 'do', \"n't\", 'live', 'together', '.', 'I', 'mean', 'we', 'live', 'together', ',', 'but', 'in', 'separate', ',', 'heterosexual', 'bedrooms', '.']\n",
      "1 ['Penny', ':', 'Okay', ',', 'well', ',', 'guess', 'I', \"'m\", 'your', 'new', 'neighbor', '.']\n",
      "1 ['Leonard', ':', 'Leonard', '.', 'Sheldon', '.']\n",
      "1 ['Leonard', ':', 'Hi', '.']\n",
      "1 ['Sheldon', ':', 'Hi', '.']\n",
      "1 ['Penny', ':', 'Hi', '.']\n",
      "1 ['Leonard', ':', 'Well', '...', 'Oh', ',', 'welcome', 'to', 'the', 'building', '.']\n",
      "1 ['Penny', ':', 'Thankyou', ',', 'maybe', 'we', 'can', 'have', 'coffee', 'sometime', '.']\n",
      "1 ['Leonard', ':', 'Oh', ',', 'great', '.']\n",
      "1 ['Penny', ':', 'Great', '.']\n",
      "1 ['Sheldon', ':', 'Great', '.']\n",
      "1 ['Leonard', ':', 'Great', '.', 'Well', ',', 'bye', '.']\n",
      "1 ['Penny', ':', 'Bye', '.']\n",
      "1 ['Sheldon', ':', 'Bye', '.']\n",
      "1 ['Leonard', ':', 'Bye', '.']\n",
      "1 ['Leonard', ':', 'Should', 'we', 'have', 'invited', 'her', 'for', 'lunch', '?']\n",
      "1 ['Sheldon', ':', 'We', \"'re\", 'gon', 'na', 'start', 'season', 'two', 'of', 'Battlestar', 'Galactica', '.']\n",
      "1 ['Leonard', ':', 'We', 'already', 'watched', 'the', 'season', 'two', 'DVDs', '.']\n",
      "1 ['Sheldon', ':', 'Not', 'with', 'commentary', '.']\n",
      "1 ['Leonard', ':', 'I', 'think', 'we', 'should', 'be', 'good', 'neighbors', '.', 'Invite', 'her', 'over', ',', 'make', 'her', 'feel', 'welcome', '.']\n",
      "1 ['Sheldon', ':', 'We', 'never', 'invited', 'Louie', '/', 'Louise', 'over', '.']\n",
      "1 ['Leonard', ':', 'Well', ',', 'and', 'that', 'was', 'wrong', 'of', 'us', '.', 'We', 'need', 'to', 'widen', 'our', 'circle', '.']\n",
      "1 ['Sheldon', ':', 'I', 'have', 'a', 'very', 'wide', 'circle', '.', 'I', 'have', '212', 'friends', 'on', 'MySpace', '.']\n",
      "1 ['Leonard', ':', 'Yes', ',', 'and', 'you', \"'ve\", 'never', 'met', 'one', 'of', 'them', '.']\n",
      "1 ['Sheldon', ':', 'That', \"'s\", 'the', 'beauty', 'of', 'it', '.']\n",
      "1 ['Leonard', ':', 'I', \"'m\", 'gon', 'na', 'invite', 'her', 'over', '.', 'We', \"'ll\", 'have', 'a', 'nice', 'meal', 'and', 'chat', '.']\n",
      "1 ['Sheldon', ':', 'Chat', '?', 'We', 'do', \"n't\", 'chat', ',', 'at', 'least', 'not', 'off', '-', 'line', '.']\n",
      "1 ['Leonard', ':', 'Well', ',', 'it', \"'s\", 'not', 'difficult', '.', 'You', 'just', 'listen', 'to', 'what', 'she', 'says', 'and', 'then', 'you', 'say', 'something', 'appropriate', 'in', 'response', '.']\n",
      "1 ['Sheldon', ':', 'To', 'what', 'end', '?']\n",
      "1 ['Leonard', ':', 'Hi', '.', 'Again', '.']\n",
      "1 ['Sheldon', ':', 'Hi', '.']\n",
      "1 ['Leonard', ':', 'Hi', '.']\n",
      "1 ['Penny', ':', 'Hi', '.']\n",
      "1 ['Leonard', ':', 'Hi', '.', 'Anyway', 'we', 'brought', 'home', 'Indian', 'food', 'and', 'I', 'know', 'that', 'moving', 'can', 'be', 'stressful', 'and', 'I', 'find', 'that', 'when', 'I', \"'m\", 'undergoing', 'stress', 'that', 'good', 'food', 'and', 'company', 'can', 'have', 'a', 'comforting', 'effect', '.', 'Also', ',', 'curry', \"'s\", 'a', 'natural', 'laxative', 'and', 'I', 'do', \"n't\", 'have', 'to', 'tell', 'you', 'that', ',', 'you', 'know', 'a', 'clean', 'colon', 'is', 'just', 'one', 'less', 'thing', 'to', 'worry', 'about', '.']\n",
      "1 ['Sheldon', ':', 'I', \"'m\", 'no', 'expert', ',', 'but', 'in', 'the', 'context', 'of', 'a', 'lunch', 'invitation', 'you', 'might', 'wanna', 'skip', 'the', 'reference', 'to', 'bowel', 'movements', '.']\n",
      "1 ['Penny', ':', 'Oh', ',', 'you', \"'re\", 'inviting', 'me', 'over', 'to', 'eat', '?']\n",
      "1 ['Leonard', ':', 'Uh', ',', 'yes', '.']\n",
      "1 ['Penny', ':', 'Oh', ',', 'that', \"'s\", 'so', 'nice', '.', 'I', \"'d\", 'love', 'to', '.']\n",
      "1 ['Leonard', ':', 'Great', '.']\n",
      "1 ['Penny', ':', 'So', ',', 'what', 'do', 'you', 'guys', 'do', 'for', 'fun', 'around', 'here', '?']\n",
      "1 ['Sheldon', ':', 'Well', ',', 'today', 'we', 'tried', 'masturbating', 'for', 'money', '.']\n",
      "1 ['Leonard', ':', 'All', 'right', ',', 'there', 'it', 'goes', '.', 'It', 'sticks', ',', 'I', \"'m\", 'sorry', '.']\n",
      "1 ['Penny', ':', 'Okay', ',', 'thanks', '.']\n",
      "1 ['Leonard', ':', 'You', \"'re\", 'welcome', '.', 'Oh', ',', 'you', \"'re\", 'just', 'gon', 'na', 'step', 'right', '...', '?', 'Okay', '.']\n",
      "1 ['Penny', ':', 'Hey', ',', 'Leonard', '?']\n",
      "1 ['Leonard', ':', 'The', 'hair', 'products', 'are', 'Sheldon', \"'s\", '.']\n",
      "1 ['Penny', ':', 'Okay', '.', 'Um', ',', 'can', 'I', 'ask', 'you', 'a', 'favor', '?', 'A', 'favor', '?']\n",
      "1 ['Leonard', ':', 'Sure', ',', 'you', 'could', 'ask', 'me', 'a', 'favor', '.', 'I', 'would', 'do', 'you', 'a', 'favor', 'for', 'you', '.']\n",
      "1 ['Penny', ':', 'It', \"'s\", 'okay', 'if', 'you', 'say', 'no', '.']\n",
      "1 ['Leonard', ':', 'Oh', ',', 'I', \"'ll\", 'probably', 'say', 'yes', '.']\n",
      "1 ['Penny', ':', 'It', \"'s\", 'just', 'not', 'the', 'kind', 'of', 'thing', 'you', 'ask', 'a', 'guy', 'you', 'just', 'met', '.']\n",
      "1 ['Leonard', ':', 'Wow', '.']\n",
      "1 ['Sheldon', ':', 'I', 'really', 'think', 'we', 'should', 'examine', 'the', 'chain', 'of', 'causality', 'here', '.']\n",
      "1 ['Leonard', ':', 'Must', 'we', '?']\n",
      "1 ['Sheldon', ':', 'Event', 'A', ':', 'A', 'beautiful', 'woman', 'stands', 'naked', 'in', 'our', 'shower', '.', 'Event', 'B', ':', 'We', 'drive', 'halfway', 'across', 'town', 'to', 'retrieve', 'a', 'television', 'set', 'from', 'the', 'aforementioned', 'woman', \"'s\", 'ex', '-', 'boyfriend', '.', 'On', 'what', 'plane', 'of', 'existence', 'is', 'there', 'even', 'a', 'semi', '-', 'rational', 'link', 'between', 'these', 'events', '?']\n",
      "1 ['Leonard', ':', 'She', 'asked', 'me', 'to', 'do', 'her', 'a', 'favor', ',', 'Sheldon', '.']\n",
      "1 ['Sheldon', ':', 'Well', ',', 'that', 'may', 'be', 'the', 'proximal', 'cause', 'of', 'our', 'journey', 'but', 'we', 'both', 'know', 'it', 'exists', 'in', 'contradistinction', 'to', 'the', 'higher', '-', 'level', 'distal', 'cause', '.']\n",
      "1 ['Leonard', ':', 'Which', 'is', '?']\n",
      "1 ['Sheldon', ':', 'You', 'think', 'with', 'your', 'penis', '.']\n",
      "1 ['Leonard', ':', 'That', \"'s\", 'a', 'biological', 'impossibility', ',', 'and', 'you', 'did', \"n't\", 'have', 'to', 'come', '.']\n",
      "1 ['Sheldon', ':', 'I', 'could', 'have', 'stayed', 'behind', 'to', 'watch', 'Wolowitz', 'hit', 'on', 'Penny', 'in', 'Russian', ',', 'Arabic', 'and', 'Farsi', '.', 'And', 'why', 'ca', \"n't\", 'she', 'get', 'her', 'own', 'TV', '?']\n",
      "1 ['Leonard', ':', 'Come', 'on', ',', 'you', 'know', 'how', 'it', 'is', 'with', 'breakups', '.']\n",
      "1 ['Sheldon', ':', 'No', ',', 'I', 'do', \"n't\", ',', 'and', 'neither', 'do', 'you', '.']\n",
      "1 ['Leonard', ':', 'But', 'I', '...', 'I', 'broke', 'up', 'with', 'Joyce', 'Kim', '.']\n",
      "1 ['Sheldon', ':', 'You', 'did', 'not', 'break', 'up', 'with', 'Joyce', 'Kim', '.', 'She', 'defected', 'to', 'North', 'Korea', '.']\n",
      "1 ['Leonard', ':', 'To', 'mend', 'her', 'broken', 'heart', '.', 'This', 'situation', 'is', 'much', 'less', 'complicated', '.', 'There', \"'s\", 'some', 'dispute', 'between', 'Penny', 'and', 'her', 'ex', '-', 'boyfriend', 'as', 'to', 'who', 'gets', 'custody', 'of', 'the', 'TV', '.', 'She', 'just', 'wanted', 'to', 'avoid', 'a', 'scene', 'with', 'him', '.']\n",
      "1 ['Sheldon', ':', 'So', 'we', 'get', 'to', 'have', 'a', 'scene', 'with', 'him', '?']\n",
      "1 ['Leonard', ':', 'No', ',', 'Sheldon', ',', 'there', \"'s\", 'not', 'going', 'to', 'be', 'a', 'scene', '.', 'There', \"'s\", 'two', 'of', 'us', 'and', 'one', 'of', 'him', '.']\n",
      "1 ['Sheldon', ':', 'Leonard', ',', 'the', 'two', 'of', 'us', 'ca', \"n't\", 'even', 'carry', 'a', 'TV', '.']\n",
      "1 ['Penny', ':', 'So', 'you', 'guys', 'work', 'with', 'Leonard', 'and', 'Sheldon', 'at', 'the', 'university', '?']\n",
      "1 ['Penny', ':', 'I', \"'m\", 'sorry', ',', 'do', 'you', 'speak', 'English', '?']\n",
      "1 ['Howard', ':', 'Oh', ',', 'he', 'speaks', 'English', '.', 'He', 'just', 'ca', \"n't\", 'speak', 'to', 'women', '.']\n",
      "1 ['Penny', ':', 'Really', '?']\n",
      "1 ['Howard', ':', 'He', \"'s\", 'kind', 'of', 'a', 'nerd', '.', 'Juice', 'box', '?']\n"
     ]
    }
   ],
   "source": [
    "data = []\n",
    "all_ids = []\n",
    "with open('data/raw_source/dialogue_en/all_coref_data_en_finalized.json', 'r') as f:\n",
    "# with open('data/raw_source/dialogue_zh/dev-test-batch1_zh.json', 'r') as f:\n",
    "    reader = jsonlines.Reader(f)\n",
    "    for bulk in reader:\n",
    "        for idx, instance in enumerate(bulk):\n",
    "            if idx>=5:\n",
    "                break\n",
    "\n",
    "            scene_id = instance['scene_id']\n",
    "            if scene_id == \"\":\n",
    "                continue\n",
    "            sentences = instance['sentences']\n",
    "\n",
    "            for sent in sentences:\n",
    "                print(sent.index(\":\"), sent)\n",
    "            # print(sentences)\n",
    "            # sentences = [[token for token in \"\".join(sent)] for sent in instance['sentences']]\n",
    "            annotations = instance['annotations']\n",
    "            all_ids.append(scene_id)\n",
    "            speakers = speaker_dict[scene_id]\n",
    "            answers = []\n",
    "            for item in annotations:\n",
    "                query = (item['query']['sentenceIndex'], item['query']['startToken']-1-sentences[item['query']['sentenceIndex']].index(\":\"), item['query']['endToken']-1-sentences[item['query']['sentenceIndex']].index(\":\"))\n",
    "                antecedents = item['antecedents']\n",
    "                if antecedents in [['n', 'o', 't', 'P', 'r', 'e', 's', 'e', 'n', 't'], ['null_projection'], ['empty_subtitle']]:\n",
    "                    answers.append([query, \"notPresent\"])\n",
    "                else:\n",
    "                    temp_answer = []\n",
    "                    for antecedent in antecedents:\n",
    "                        if isinstance(antecedent, dict):\n",
    "                            temp_answer.append((antecedent['sentenceIndex'], antecedent['startToken']-1-sentences[antecedent['sentenceIndex']].index(\":\"), antecedent['endToken']-1-sentences[antecedent['sentenceIndex']].index(\":\")))\n",
    "                        else:\n",
    "                            temp_answer = \" \".join(antecedents)\n",
    "                    answers.append([query, temp_answer])\n",
    "            new_sentences = []\n",
    "            for sent in sentences:\n",
    "                new_sentences.append(sent[sent.index(\":\")+1:])\n",
    "\n",
    "            data.append({\n",
    "                \"sentences\": new_sentences,\n",
    "                \"answers\": answers,\n",
    "                \"speakers\": speakers,\n",
    "                \"scene_id\": scene_id\n",
    "            })"
   ],
   "metadata": {
    "collapsed": false,
    "pycharm": {
     "name": "#%%\n"
    }
   }
  },
  {
   "cell_type": "code",
   "execution_count": null,
   "outputs": [],
   "source": [],
   "metadata": {
    "collapsed": false,
    "pycharm": {
     "name": "#%%\n"
    }
   }
  },
  {
   "cell_type": "code",
   "execution_count": null,
   "outputs": [],
   "source": [],
   "metadata": {
    "collapsed": false,
    "pycharm": {
     "name": "#%%\n"
    }
   }
  },
  {
   "cell_type": "code",
   "execution_count": 16,
   "outputs": [
    {
     "name": "stdout",
     "output_type": "stream",
     "text": [
      "s01e01c00t\n",
      "[[(0, 1, 3)], [(0, 6, 8)], [(0, 52, 54), (0, 22, 23), (0, 9, 11)], [(0, 12, 13), (0, 7, 8), (0, 37, 39)], [(0, 35, 36), (0, 14, 15), (0, 2, 3), (0, 41, 42), (0, 43, 44), (0, 31, 32), (0, 46, 47), (0, 17, 18), (0, 27, 28)], [(0, 43, 45)], [(1, 2, 3)], [(1, 4, 6)], [(0, -2, -1), (1, 4, 5)], [(2, 0, 1)], [(1, 5, 6), (2, 2, 4)], [(2, -2, -1), (2, 5, 6)], [(2, 8, 9), (2, 10, 13)], [(2, 14, 18)], [(3, -2, -1), (3, 1, 2)], [(5, 3, 4)], [(5, 8, 9)], [(5, 15, 16)], [(5, 22, 24), (4, -2, -1), (5, 22, 23)], [(5, 25, 26)], [(5, 47, 52), (5, 31, 36), (5, 45, 46), (5, 39, 44)], [(5, 53, 54)], [(6, 1, 2), (6, -2, -1)], [(5, -2, -1), (6, 3, 4)], [(7, 6, 12), (7, 5, 6)], [(8, 7, 8), (7, -2, -1), (8, 1, 2)], [(9, -2, -1), (9, 0, 1)], [(9, 2, 3), (9, 4, 6), (7, 7, 12)], [(10, 1, 2)], [(10, -2, -1), (11, 1, 2)], [(12, 3, 4), (11, 3, 4)], [(12, 3, 5)], [(12, 10, 11), (12, -2, -1), (12, 6, 7)], [(12, 10, 13)], [(13, -2, -1), (14, 6, 7), (13, 2, 3), (13, 6, 7), (14, 3, 4)], [(13, 9, 10)], [(14, 8, 10)], [(15, 5, 7), (16, 2, 3), (16, 4, 6)], [(15, 8, 9)], [(15, 12, 14)], [(15, 18, 22)], [(15, 8, 22), (15, 25, 26)], [(15, 27, 28), (15, -2, -1), (16, 4, 5), (16, 0, 1)], [(15, 29, 31)], [(15, 32, 37)], [(15, 37, 38), (15, 30, 31)], [(15, 40, 41)], [(16, 7, 11)], [(16, 13, 16)], [(16, 17, 19)], [(17, -2, -1), (17, 24, 25), (17, 0, 1), (17, 4, 5)], [(17, 8, 10)], [(17, 13, 16)], [(18, 3, 4), (17, 16, 17), (17, 29, 30), (17, 21, 22), (17, 14, 16)], [(17, 21, 23)], [(15, 13, 14), (17, 24, 26)], [(17, 27, 28)], [(17, 33, 35)], [(17, 40, 41), (18, 7, 8), (17, 35, 36), (17, 34, 35)], [(17, 43, 45)], [(17, 48, 50)], [(17, 51, 53)], [(18, -2, -1), (18, 0, 1)], [(20, 4, 5), (19, -2, -1), (19, 0, 1)], [(21, 0, 1), (21, -2, -1)], [(22, 2, 4)], [(23, 5, 6), (23, -2, -1), (23, 0, 1)], [(23, 10, 12)], [(17, 25, 26), (23, 13, 14)], [(28, 1, 2), (26, -2, -1)], [(0, 6, 13)], [(11, -2, -1), (13, 0, 1)], [(15, 12, 13), (15, 2, 3)]]\n",
      "s01e01c01t\n",
      "[[(0, 1, 2), (2, 0, 1), (1, -2, -1)], [(0, 5, 8)], [(2, 3, 6)], [(2, 7, 8)], [(4, 1, 3)], [(4, 4, 6)], [(4, 2, 3), (4, 9, 14)], [(4, 15, 17)], [(5, -2, -1), (5, 0, 1)], [(5, 5, 7), (4, 12, 14), (5, 9, 10)], [(6, 0, 1)], [(6, 4, 5), (6, 15, 16), (7, 5, 6), (6, -2, -1)], [(6, 6, 8)], [(6, 9, 10)], [(6, 11, 12), (7, -2, -1)], [(6, 15, 17), (6, 18, 19)], [(6, 18, 20)], [(6, 15, 20), (7, 1, 2)], [(7, 3, 4)], [(7, 7, 9)], [(8, 0, 1), (8, 2, 4), (7, 4, 9)], [(8, 5, 6), (8, -2, -1)], [(8, 5, 7)], [(8, 8, 9)], [(9, 0, 2)], [(11, 3, 6)], [(12, 0, 5), (11, 4, 6)], [(12, 6, 9)], [(12, 12, 13)], [(17, 10, 12)], [(17, 7, 12), (18, 2, 3)], [(21, 0, 1), (19, 8, 9), (19, -2, -1)], [(19, 16, 20)], [(20, 5, 6), (20, 7, 10), (20, -2, -1)], [(25, 6, 8)], [(26, 6, 7)], [(38, 9, 10), (38, 13, 14), (34, 4, 5), (44, 5, 6), (46, 12, 13), (31, -2, -1)], [(34, 6, 7)], [(35, 5, 6)], [(35, 8, 10)], [(35, 5, 7), (36, 3, 7)], [(37, 2, 3)], [(39, -2, -1), (38, 0, 1)], [(39, 3, 6)], [(39, 1, 7), (40, 3, 4)], [(40, 13, 15)], [(41, 0, 1), (41, -2, -1), (41, 7, 8), (42, 3, 4)], [(40, 14, 15), (41, 2, 6)], [(42, 9, 10), (41, 9, 11)], [(41, 12, 13)], [(43, 0, 1), (42, 5, 10)], [(42, 3, 10), (43, 5, 6)], [(44, -2, -1), (44, 0, 1)], [(44, 11, 14)], [(44, 15, 16), (45, 0, 1)], [(46, 2, 3), (45, 5, 6)], [(46, 7, 8), (46, 16, 17), (45, -2, -1)], [(46, 18, 19)], [(46, 21, 22)], [(47, 1, 3)], [(47, 1, 2)], [(52, 6, 8), (52, 36, 43), (52, 25, 28)], [(53, 13, 14), (52, -2, -1), (52, 17, 18), (52, 44, 45), (54, 2, 3), (52, 9, 10), (52, 21, 22)], [(52, 24, 25)], [(52, 32, 35)], [(51, -2, -1), (52, 53, 54), (52, 50, 51)], [(52, 51, 52), (52, 38, 43)], [(52, 55, 58)], [(52, 59, 63)], [(53, -2, -1), (53, 0, 1)], [(53, 2, 4)], [(53, 7, 9)], [(53, 10, 13)], [(53, 17, 19)], [(52, 55, 66), (53, 20, 22)], [(54, 5, 6), (54, -2, -1)], [(56, 2, 3), (54, 4, 9)], [(56, -2, -1), (56, 7, 8)], [(58, 2, 3)], [(58, 8, 9)], [(59, 7, 8)], [(21, 2, 3), (15, -2, -1)], [(52, 38, 39)], [(52, 40, 43)], [(17, 7, 8), (17, 0, 1)], [(19, 2, 3), (20, 7, 8), (19, 10, 11)], [(21, 0, 3)], [(26, 3, 4)], [(34, 1, 2)], [(35, 0, 1)], [(36, 0, 1)], [(38, 2, 3)], [(39, 0, 1)], [(40, 7, 8), (40, 9, 10), (40, 13, 14)], [(44, 8, 9)], [(45, 2, 3)], [(52, 3, 4), (52, 29, 30)], [(58, 4, 5), (58, 4, 6)], [(59, 3, 4)]]\n",
      "s01e01c03t\n",
      "[[(0, 7, 8), (0, 4, 5)], [(0, -2, -1), (0, 10, 11)], [(2, 0, 1), (2, 6, 7), (1, -2, -1)], [(3, 2, 3), (3, 0, 3), (2, -2, -1)], [(4, 0, 3)], [(4, 4, 5)], [(6, 2, 3), (6, 12, 13), (5, -2, -1), (5, 5, 6), (6, 16, 17)], [(5, 7, 8), (4, -2, -1)], [(6, 13, 15), (6, 6, 8), (5, 11, 13), (5, 8, 10), (9, 7, 8), (9, 0, 1)], [(7, 4, 5), (6, 5, 6), (6, -2, -1), (6, 9, 10)], [(8, 2, 3), (9, 10, 12), (8, -2, -1)], [(9, 8, 9), (9, 12, 13), (9, -2, -1)], [(4, 4, 6)]]\n",
      "s01e01c04t\n",
      "[[(0, -2, -1), (0, 0, 1)], [(0, 3, 4)], [(0, 6, 8)], [(0, 9, 10)], [(2, 0, 2)], [(3, 0, 1), (2, 3, 6), (3, 5, 6), (8, 10, 11), (13, 18, 19), (13, 33, 34), (8, 22, 23), (8, 24, 25), (13, 20, 21)], [(2, 9, 11)], [(2, 12, 14)], [(2, 19, 20)], [(2, 22, 25), (8, 24, 27)], [(2, 26, 31)], [(2, 32, 33)], [(2, 35, 37)], [(2, 38, 39)], [(2, 41, 47)], [(3, -2, -1), (3, 2, 3)], [(4, 2, 3), (4, 5, 8), (3, 6, 8), (2, 15, 25)], [(3, 9, 10), (2, -2, -1)], [(4, 15, 16), (4, 9, 11), (2, 15, 20)], [(4, 20, 26)], [(6, 0, 1), (5, -2, -1), (6, 3, 4)], [(6, 3, 5)], [(7, 2, 5)], [(7, 7, 8), (6, -2, -1)], [(8, 0, 1), (9, 3, 4), (8, -2, -1)], [(8, 7, 8)], [(8, 12, 13)], [(8, 14, 15)], [(8, 16, 17)], [(13, 6, 8), (9, 9, 10)], [(10, -2, -1), (10, 2, 3)], [(10, 9, 10), (9, -2, -1)], [(11, 0, 2), (11, 1, 2), (11, -2, -1), (11, 3, 4), (12, 0, 1)], [(12, 6, 8), (11, 7, 9), (12, 9, 10), (13, 2, 3)], [(12, 12, 14)], [(13, 2, 5)], [(13, 15, 17)], [(13, 20, 22), (13, 23, 24), (2, 30, 33)], [(13, 28, 29)], [(8, 26, 27), (13, 30, 32), (16, 10, 12)], [(14, 5, 7), (15, 10, 12), (13, 38, 40)], [(13, 41, 42), (14, 8, 9), (15, 21, 22), (13, 21, 24)], [(16, 0, 1), (15, -2, -1)], [(13, 18, 24)], [(13, 20, 24)], [(15, 2, 3), (14, -2, -1)], [(1, 1, 2)], [(2, 9, 10), (2, 15, 16)], [(2, 48, 50)], [(4, 12, 14), (4, 9, 10), (4, 13, 14), (4, 12, 13)], [(13, 26, 27)], [(14, 1, 2)], [(15, 17, 18)], [(16, 2, 6), (16, 5, 6)]]\n",
      "s01e01c05t\n",
      "[[(2, 2, 3), (2, 6, 7), (4, 0, 1), (0, 1, 3), (1, 5, 6), (4, 2, 6)], [(0, 1, 2)], [(0, 5, 6)], [(0, 7, 8)], [(0, 9, 11)], [(1, 0, 1), (1, -2, -1)], [(1, 7, 8), (2, 4, 5)], [(2, 12, 13)], [(4, 7, 9)], [(0, 5, 8)], [(4, 4, 6)]]\n"
     ]
    }
   ],
   "source": [
    "split = \"train\"\n",
    "\n",
    "for i in range(len(data)):\n",
    "    if i >= 20:\n",
    "        continue\n",
    "    sample = data[i]\n",
    "    scene_id = sample['scene_id']\n",
    "    # if sample['scene_id'] not in split_dict[split]:\n",
    "    #     continue\n",
    "    print(scene_id)\n",
    "    # print(sample)\n",
    "    # print()\n",
    "    # original_sentences = sample['sentences']\n",
    "    # original_clusters = cluster_mentions(sample['answers'], original_sentences)\n",
    "    # sentences, clusters, speakers = remove_speaker_prefix(original_sentences, original_clusters)\n",
    "    sentences = sample['sentences']\n",
    "    clusters = cluster_mentions(sample['answers'], sentences)\n",
    "    speakers = sample['speakers']\n",
    "    print(clusters)\n"
   ],
   "metadata": {
    "collapsed": false,
    "pycharm": {
     "name": "#%%\n"
    }
   }
  },
  {
   "cell_type": "code",
   "execution_count": null,
   "outputs": [],
   "source": [],
   "metadata": {
    "collapsed": false,
    "pycharm": {
     "name": "#%%\n"
    }
   }
  },
  {
   "cell_type": "code",
   "execution_count": null,
   "outputs": [],
   "source": [],
   "metadata": {
    "collapsed": false,
    "pycharm": {
     "name": "#%%\n"
    }
   }
  },
  {
   "cell_type": "code",
   "execution_count": null,
   "outputs": [],
   "source": [],
   "metadata": {
    "collapsed": false,
    "pycharm": {
     "name": "#%%\n"
    }
   }
  },
  {
   "cell_type": "code",
   "execution_count": null,
   "outputs": [],
   "source": [],
   "metadata": {
    "collapsed": false,
    "pycharm": {
     "name": "#%%\n"
    }
   }
  },
  {
   "cell_type": "code",
   "execution_count": null,
   "outputs": [],
   "source": [],
   "metadata": {
    "collapsed": false,
    "pycharm": {
     "name": "#%%\n"
    }
   }
  },
  {
   "cell_type": "code",
   "execution_count": null,
   "outputs": [],
   "source": [],
   "metadata": {
    "collapsed": false,
    "pycharm": {
     "name": "#%%\n"
    }
   }
  },
  {
   "cell_type": "code",
   "execution_count": null,
   "outputs": [],
   "source": [],
   "metadata": {
    "collapsed": false,
    "pycharm": {
     "name": "#%%\n"
    }
   }
  },
  {
   "cell_type": "code",
   "execution_count": null,
   "outputs": [],
   "source": [],
   "metadata": {
    "collapsed": false,
    "pycharm": {
     "name": "#%%\n"
    }
   }
  },
  {
   "cell_type": "code",
   "execution_count": null,
   "outputs": [],
   "source": [],
   "metadata": {
    "collapsed": false,
    "pycharm": {
     "name": "#%%\n"
    }
   }
  },
  {
   "cell_type": "code",
   "execution_count": null,
   "outputs": [],
   "source": [],
   "metadata": {
    "collapsed": false,
    "pycharm": {
     "name": "#%%\n"
    }
   }
  },
  {
   "cell_type": "code",
   "execution_count": null,
   "outputs": [],
   "source": [],
   "metadata": {
    "collapsed": false,
    "pycharm": {
     "name": "#%%\n"
    }
   }
  }
 ],
 "metadata": {
  "kernelspec": {
   "display_name": "Python 3",
   "language": "python",
   "name": "python3"
  },
  "language_info": {
   "codemirror_mode": {
    "name": "ipython",
    "version": 2
   },
   "file_extension": ".py",
   "mimetype": "text/x-python",
   "name": "python",
   "nbconvert_exporter": "python",
   "pygments_lexer": "ipython2",
   "version": "2.7.6"
  }
 },
 "nbformat": 4,
 "nbformat_minor": 0
}
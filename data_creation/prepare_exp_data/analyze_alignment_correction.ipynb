{
 "cells": [
  {
   "cell_type": "code",
   "execution_count": 241,
   "metadata": {
    "collapsed": true,
    "pycharm": {
     "name": "#%%\n"
    }
   },
   "outputs": [],
   "source": [
    "import csv\n",
    "import pickle as pkl\n",
    "import json\n",
    "import ast\n",
    "import jsonlines\n",
    "from copy import deepcopy"
   ]
  },
  {
   "cell_type": "code",
   "execution_count": 206,
   "outputs": [
    {
     "name": "stdout",
     "output_type": "stream",
     "text": [
      "0 ['Hey', ',', 'you', 'busy', '?']\n",
      "1 ['No', '.', 'What', \"'s\", 'up', '?']\n",
      "2 ['Have', 'you', 'heard', 'back', 'from', 'Emily', '?']\n",
      "3 ['Have', 'you', 'heard', 'back', 'from', 'Emily', '?']\n",
      "4 ['I', 'have', '.']\n",
      "5 ['And', 'I', \"'m\", 'afraid', 'she', 'does', \"n't\", 'think', 'you', \"'re\", 'right', 'for', 'her', '.']\n",
      "6 ['And', 'I', \"'m\", 'afraid', 'she', 'does', \"n't\", 'think', 'you', \"'re\", 'right', 'for', 'her', '.']\n",
      "7 ['And', 'I', \"'m\", 'afraid', 'she', 'does', \"n't\", 'think', 'you', \"'re\", 'right', 'for', 'her', '.']\n",
      "8 ['And', 'I', \"'m\", 'afraid', 'she', 'does', \"n't\", 'think', 'you', \"'re\", 'right', 'for', 'her', '.']\n",
      "9 ['I', 'give', 'you', 'one', 'simple', 'thing', 'to', 'do--', 'contact', 'a', 'complete', 'stranger', 'and', 'make', 'her', 'fall', 'in', 'love', 'with', 'me--', 'and', 'you', 'blow', 'it', '!']\n",
      "10 ['I', 'give', 'you', 'one', 'simple', 'thing', 'to', 'do--', 'contact', 'a', 'complete', 'stranger', 'and', 'make', 'her', 'fall', 'in', 'love', 'with', 'me--', 'and', 'you', 'blow', 'it', '!']\n",
      "11 ['I', 'give', 'you', 'one simple thing to do-- contact a complete stranger and make her fall in love with me--', 'and', 'you', 'blow', 'it', '!']\n",
      "12 ['I', 'give', 'you', 'one', 'simple', 'thing', 'to', 'do--', 'contact', 'a complete stranger', 'and', 'make', 'her', 'fall', 'in', 'love', 'with', 'me--', 'and', 'you', 'blow', 'it', '!']\n",
      "13 ['I', 'give', 'you', 'one', 'simple', 'thing', 'to', 'do--', 'contact', 'a', 'complete', 'stranger', 'and', 'make', 'her', 'fall', 'in', 'love', 'with', 'me--', 'and', 'you', 'blow', 'it', '!']\n",
      "14 ['I', 'give', 'you', 'one', 'simple', 'thing', 'to', 'do--', 'contact', 'a', 'complete', 'stranger', 'and', 'make', 'her', 'fall', 'in', 'love', 'with', 'me--', 'and', 'you', 'blow', 'it', '!']\n",
      "15 ['I', 'give', 'you', 'one', 'simple', 'thing', 'to', 'do--', 'contact', 'a', 'complete', 'stranger', 'and', 'make', 'her', 'fall', 'in', 'love', 'with', 'me--', 'and', 'you', 'blow', 'it', '!']\n",
      "16 ['I', 'give', 'you', 'one', 'simple', 'thing', 'to', 'do--', 'contact', 'a', 'complete', 'stranger', 'and', 'make', 'her', 'fall', 'in', 'love', 'with', 'me--', 'and', 'you', 'blow', 'it', '!']\n",
      "17 ['I', 'give', 'you', 'one', 'simple', 'thing', 'to', 'do--', 'contact', 'a', 'complete', 'stranger', 'and', 'make', 'her', 'fall', 'in', 'love', 'with', 'me--', 'and', 'you', 'blow', 'it', '!']\n",
      "18 ['I', 'told', 'her', 'what', 'a', 'good', 'guy', 'you', 'are', ',', 'but', 'she', 'thought', 'it', 'was', 'a', 'bad', 'sign', 'that', 'you', 'did', \"n't\", 'write', 'to', 'her', 'yourself', '.', 'She', 'thought', 'it', 'made', 'you', 'seem', 'too', 'shy', 'and', 'passive', '.']\n",
      "19 ['I', 'told', 'her', 'what', 'a', 'good', 'guy', 'you', 'are', ',', 'but', 'she', 'thought', 'it', 'was', 'a', 'bad', 'sign', 'that', 'you', 'did', \"n't\", 'write', 'to', 'her', 'yourself', '.', 'She', 'thought', 'it', 'made', 'you', 'seem', 'too', 'shy', 'and', 'passive', '.']\n",
      "20 ['I', 'told', 'her', 'what', 'a', 'good', 'guy', 'you', 'are', ',', 'but', 'she', 'thought', 'it', 'was', 'a', 'bad', 'sign', 'that', 'you', 'did', \"n't\", 'write', 'to', 'her', 'yourself', '.', 'She', 'thought', 'it', 'made', 'you', 'seem', 'too', 'shy', 'and', 'passive', '.']\n",
      "21 ['I', 'told', 'her', 'what', 'a', 'good', 'guy', 'you', 'are', ',', 'but', 'she', 'thought', 'it', 'was', 'a', 'bad', 'sign', 'that', 'you', 'did', \"n't\", 'write', 'to', 'her', 'yourself', '.', 'She', 'thought', 'it', 'made', 'you', 'seem', 'too', 'shy', 'and', 'passive', '.']\n",
      "22 ['I', 'told', 'her', 'what', 'a', 'good', 'guy', 'you', 'are', ',', 'but', 'she', 'thought', 'it', 'was', 'a', 'bad', 'sign', 'that', 'you', 'did', \"n't\", 'write', 'to', 'her', 'yourself', '.', 'She', 'thought', 'it', 'made', 'you', 'seem', 'too', 'shy', 'and', 'passive', '.']\n",
      "23 ['I', 'told', 'her', 'what', 'a', 'good', 'guy', 'you', 'are', ',', 'but', 'she', 'thought', 'it', 'was', 'a', 'bad', 'sign', 'that', 'you', 'did', \"n't\", 'write', 'to', 'her', 'yourself', '.', 'She', 'thought', 'it', 'made', 'you', 'seem', 'too', 'shy', 'and', 'passive', '.']\n",
      "24 ['I', 'told', 'her', 'what', 'a', 'good', 'guy', 'you', 'are', ',', 'but', 'she', 'thought', 'it', 'was', \"a bad sign that you did n't write to her yourself\", '.', 'She', 'thought', 'it', 'made', 'you', 'seem', 'too', 'shy', 'and', 'passive', '.']\n",
      "25 ['I', 'told', 'her', 'what', 'a', 'good', 'guy', 'you', 'are', ',', 'but', 'she', 'thought', 'it', 'was', 'a', 'bad', 'sign', 'that', 'you', 'did', \"n't\", 'write', 'to', 'her', 'yourself', '.', 'She', 'thought', 'it', 'made', 'you', 'seem', 'too', 'shy', 'and', 'passive', '.']\n",
      "26 ['I', 'told', 'her', 'what', 'a', 'good', 'guy', 'you', 'are', ',', 'but', 'she', 'thought', 'it', 'was', 'a', 'bad', 'sign', 'that', 'you', 'did', \"n't\", 'write', 'to', 'her', 'yourself', '.', 'She', 'thought', 'it', 'made', 'you', 'seem', 'too', 'shy', 'and', 'passive', '.']\n",
      "27 ['I', 'told', 'her', 'what', 'a', 'good', 'guy', 'you', 'are', ',', 'but', 'she', 'thought', 'it', 'was', 'a', 'bad', 'sign', 'that', 'you', 'did', \"n't\", 'write', 'to', 'her', 'yourself', '.', 'She', 'thought', 'it', 'made', 'you', 'seem', 'too', 'shy', 'and', 'passive', '.']\n",
      "28 ['I', 'told', 'her', 'what', 'a', 'good', 'guy', 'you', 'are', ',', 'but', 'she', 'thought', 'it', 'was', 'a', 'bad', 'sign', 'that', 'you', 'did', \"n't\", 'write', 'to', 'her', 'yourself', '.', 'She', 'thought', 'it', 'made', 'you', 'seem', 'too', 'shy', 'and', 'passive', '.']\n",
      "29 ['I', 'told', 'her', 'what', 'a', 'good', 'guy', 'you', 'are', ',', 'but', 'she', 'thought', 'it', 'was', 'a', 'bad', 'sign', 'that', 'you', 'did', \"n't\", 'write', 'to', 'her', 'yourself', '.', 'She', 'thought', 'it', 'made', 'you', 'seem', 'too', 'shy', 'and', 'passive', '.']\n",
      "30 ['I', 'told', 'her', 'what', 'a', 'good', 'guy', 'you', 'are', ',', 'but', 'she', 'thought', 'it', 'was', 'a', 'bad', 'sign', 'that', 'you', 'did', \"n't\", 'write', 'to', 'her', 'yourself', '.', 'She', 'thought', 'it', 'made', 'you', 'seem', 'too', 'shy', 'and', 'passive', '.']\n",
      "31 ['I', \"'m\", 'not', 'too', 'shy', 'and', 'passive', '.', 'You', 'write', 'her', 'back', 'and', 'tell', 'her', 'I', 'said', 'that', '.', 'You', 'know', ',', 'when', 'you', 'have', 'a', 'second', '.']\n",
      "32 ['I', \"'m\", 'not', 'too', 'shy', 'and', 'passive', '.', 'You', 'write', 'her', 'back', 'and', 'tell', 'her', 'I', 'said', 'that', '.', 'You', 'know', ',', 'when', 'you', 'have', 'a', 'second', '.']\n",
      "33 ['I', \"'m\", 'not', 'too', 'shy', 'and', 'passive', '.', 'You', 'write', 'her', 'back', 'and', 'tell', 'her', 'I', 'said', 'that', '.', 'You', 'know', ',', 'when', 'you', 'have', 'a', 'second', '.']\n",
      "34 ['I', \"'m\", 'not', 'too', 'shy', 'and', 'passive', '.', 'You', 'write', 'her', 'back', 'and', 'tell', 'her', 'I', 'said', 'that', '.', 'You', 'know', ',', 'when', 'you', 'have', 'a', 'second', '.']\n",
      "35 ['I', \"'m\", 'not', 'too', 'shy', 'and', 'passive', '.', 'You', 'write', 'her', 'back', 'and', 'tell', 'her', 'I', 'said', 'that', '.', 'You', 'know', ',', 'when', 'you', 'have', 'a', 'second', '.']\n",
      "36 ['I', \"'m\", 'not', 'too', 'shy', 'and', 'passive', '.', 'You', 'write', 'her', 'back', 'and', 'tell', 'her', 'I', 'said', 'that', '.', 'You', 'know', ',', 'when', 'you', 'have', 'a', 'second', '.']\n",
      "37 ['I', \"'m\", 'not', 'too', 'shy', 'and', 'passive', '.', 'You', 'write', 'her', 'back', 'and', 'tell', 'her', 'I', 'said', 'that', '.', 'You', 'know', ',', 'when', 'you', 'have', 'a', 'second', '.']\n",
      "38 ['I', \"'m\", 'not', 'too', 'shy', 'and', 'passive', '.', 'You', 'write', 'her', 'back', 'and', 'tell', 'her', 'I', 'said', 'that', '.', 'You', 'know', ',', 'when', 'you', 'have', 'a', 'second', '.']\n",
      "39 ['I', \"'m\", 'not', 'too', 'shy', 'and', 'passive', '.', 'You', 'write', 'her', 'back', 'and', 'tell', 'her', 'I', 'said', 'that', '.', 'You', 'know', ',', 'when', 'you', 'have', 'a second', '.']\n",
      "40 ['Look', ',', 'I', \"'ll\", 'see', 'if', 'I', 'can', 'change', 'her', 'mind', 'tomorrow', 'night', '.']\n",
      "41 ['Look', ',', 'I', \"'ll\", 'see', 'if', 'I', 'can', 'change', 'her', 'mind', 'tomorrow', 'night', '.']\n",
      "42 ['Look', ',', 'I', \"'ll\", 'see', 'if', 'I', 'can', 'change', 'her mind', 'tomorrow', 'night', '.']\n",
      "43 ['Look', ',', 'I', \"'ll\", 'see', 'if', 'I', 'can', 'change', 'her', 'mind', 'tomorrow', 'night', '.']\n",
      "44 ['Look', ',', 'I', \"'ll\", 'see', 'if', 'I', 'can', 'change', 'her', 'mind', 'tomorrow night', '.']\n",
      "45 ['What', \"'s\", 'happening', 'tomorrow', 'night', '?']\n",
      "46 ['What', \"'s\", 'happening', 'tomorrow night', '?']\n",
      "47 ['I', \"'m\", 'meeting', 'her', 'for', 'coffee', '.']\n",
      "48 ['I', \"'m\", 'meeting', 'her', 'for', 'coffee', '.']\n",
      "49 ['I', \"'m\", 'meeting', 'her', 'for', 'coffee', '.']\n",
      "50 ['!', 'Well', ',', 'we', 'just', '...', 'we', 'e', '-', 'mailed', 'back', 'and', 'forth', 'a', 'bit', ',', 'and', 'we', 'kind', 'of', 'hit', 'it', 'off', '.']\n",
      "51 ['!', 'Well', ',', 'we', 'just', '...', 'we', 'e', '-', 'mailed', 'back', 'and', 'forth', 'a', 'bit', ',', 'and', 'we', 'kind', 'of', 'hit', 'it', 'off', '.']\n",
      "52 ['!', 'Well', ',', 'we', 'just', '...', 'we', 'e', '-', 'mailed', 'back', 'and', 'forth', 'a bit', ',', 'and', 'we', 'kind', 'of', 'hit', 'it', 'off', '.']\n",
      "53 ['!', 'Well', ',', 'we', 'just', '...', 'we', 'e', '-', 'mailed', 'back', 'and', 'forth', 'a', 'bit', ',', 'and', 'we', 'kind', 'of', 'hit', 'it', 'off', '.']\n",
      "54 ['!', 'Well', ',', 'we', 'just', '...', 'we', 'e', '-', 'mailed', 'back', 'and', 'forth', 'a', 'bit', ',', 'and', 'we', 'kind', 'of', 'hit', 'it', 'off', '.']\n",
      "55 ['I', 'find', 'a', 'girl', 'I', 'like', ',', 'and', 'you', \"'re\", 'stealing', 'her', '?']\n",
      "56 ['I', 'find', 'a girl I like', ',', 'and', 'you', \"'re\", 'stealing', 'her', '?']\n",
      "57 ['I', 'find', 'a', 'girl', 'I', 'like', ',', 'and', 'you', \"'re\", 'stealing', 'her', '?']\n",
      "58 ['I', 'find', 'a', 'girl', 'I', 'like', ',', 'and', 'you', \"'re\", 'stealing', 'her', '?']\n",
      "59 ['I', 'find', 'a', 'girl', 'I', 'like', ',', 'and', 'you', \"'re\", 'stealing', 'her', '?']\n",
      "60 ['No', '.', 'We', 'just', 'ended', 'up', 'having', 'a', 'lot', 'in', 'common', '.', 'We', 'went', 'to', 'Harvard', ',', 'we', 'like', 'Chaucer', ',', 'we', \"'re\", 'both', 'hardcore', 'into', 'quilting', '.']\n",
      "61 ['No', '.', 'We', 'just', 'ended', 'up', 'having', 'a lot in common', '.', 'We', 'went', 'to', 'Harvard', ',', 'we', 'like', 'Chaucer', ',', 'we', \"'re\", 'both', 'hardcore', 'into', 'quilting', '.']\n",
      "62 ['No', '.', 'We', 'just', 'ended', 'up', 'having', 'a', 'lot', 'in', 'common', '.', 'We', 'went', 'to', 'Harvard', ',', 'we', 'like', 'Chaucer', ',', 'we', \"'re\", 'both', 'hardcore', 'into', 'quilting', '.']\n",
      "63 ['No', '.', 'We', 'just', 'ended', 'up', 'having', 'a', 'lot', 'in', 'common', '.', 'We', 'went', 'to', 'Harvard', ',', 'we', 'like', 'Chaucer', ',', 'we', \"'re\", 'both', 'hardcore', 'into', 'quilting', '.']\n",
      "64 ['No', '.', 'We', 'just', 'ended', 'up', 'having', 'a', 'lot', 'in', 'common', '.', 'We', 'went', 'to', 'Harvard', ',', 'we', 'like', 'Chaucer', ',', 'we', \"'re\", 'both', 'hardcore', 'into', 'quilting', '.']\n",
      "65 ['No', '.', 'We', 'just', 'ended', 'up', 'having', 'a', 'lot', 'in', 'common', '.', 'We', 'went', 'to', 'Harvard', ',', 'we', 'like', 'Chaucer', ',', 'we', \"'re\", 'both', 'hardcore', 'into', 'quilting', '.']\n",
      "66 ['No', '.', 'We', 'just', 'ended', 'up', 'having', 'a', 'lot', 'in', 'common', '.', 'We', 'went', 'to', 'Harvard', ',', 'we', 'like', 'Chaucer', ',', 'we', \"'re\", 'both', 'hardcore', 'into', 'quilting', '.']\n",
      "67 ['No', '.', 'We', 'just', 'ended', 'up', 'having', 'a', 'lot', 'in', 'common', '.', 'We', 'went', 'to', 'Harvard', ',', 'we', 'like', 'Chaucer', ',', 'we', \"'re\", 'both', 'hardcore', 'into', 'quilting', '.']\n",
      "68 ['No', '.', 'We', 'just', 'ended', 'up', 'having', 'a', 'lot', 'in', 'common', '.', 'We', 'went', 'to', 'Harvard', ',', 'we', 'like', 'Chaucer', ',', 'we', \"'re\", 'both', 'hardcore', 'into', 'quilting', '.']\n",
      "69 ['Your', 'words', 'fall', 'like', 'acid', 'rain', 'on', 'the', 'wounded', 'petals', 'of', 'my', 'heart', '.']\n",
      "70 ['Your words', 'fall', 'like', 'acid', 'rain', 'on', 'the', 'wounded', 'petals', 'of', 'my', 'heart', '.']\n",
      "71 ['Your', 'words', 'fall', 'like', 'acid rain', 'on', 'the', 'wounded', 'petals', 'of', 'my', 'heart', '.']\n",
      "72 ['Your', 'words', 'fall', 'like', 'acid', 'rain', 'on', 'the wounded petals of my heart', '.']\n",
      "73 ['Your', 'words', 'fall', 'like', 'acid', 'rain', 'on', 'the', 'wounded', 'petals', 'of', 'my heart', '.']\n",
      "74 ['Your', 'words', 'fall', 'like', 'acid', 'rain', 'on', 'the', 'wounded', 'petals', 'of', 'my', 'heart', '.']\n",
      "75 ['That', \"'s\", 'Sheldon', '.', 'He', 'says', 'he', \"'ll\", 'be', 'down', 'in', 'a', 'minute', '.']\n",
      "76 ['That', \"'s\", 'Sheldon', '.', 'He', 'says', 'he', \"'ll\", 'be', 'down', 'in', 'a', 'minute', '.']\n",
      "77 ['That', \"'s\", 'Sheldon', '.', 'He', 'says', 'he', \"'ll\", 'be', 'down', 'in', 'a', 'minute', '.']\n",
      "78 ['That', \"'s\", 'Sheldon', '.', 'He', 'says', 'he', \"'ll\", 'be', 'down', 'in', 'a', 'minute', '.']\n",
      "79 ['That', \"'s\", 'Sheldon', '.', 'He', 'says', 'he', \"'ll\", 'be', 'down', 'in', 'a minute', '.']\n",
      "80 ['What', 'are', 'you', 'doing', '?']\n",
      "81 ['What', 'are', 'you', 'doing', '?']\n",
      "82 ['Oh', ',', 'he', \"'s\", 'not', 'coming', 'out', 'until', 'he', 'sees', 'proof', 'you', 'do', \"n't\", 'have', 'an', 'air', 'freshener', 'in', 'your', 'car', '.']\n",
      "83 ['Oh', ',', 'he', \"'s\", 'not', 'coming', 'out', 'until', 'he', 'sees', 'proof', 'you', 'do', \"n't\", 'have', 'an', 'air', 'freshener', 'in', 'your', 'car', '.']\n",
      "84 ['Oh', ',', 'he', \"'s\", 'not', 'coming', 'out', 'until', 'he', 'sees', \"proof you do n't have an air freshener in your car\", '.']\n",
      "85 ['Oh', ',', 'he', \"'s\", 'not', 'coming', 'out', 'until', 'he', 'sees', 'proof', 'you', 'do', \"n't\", 'have', 'an', 'air', 'freshener', 'in', 'your', 'car', '.']\n",
      "86 ['Oh', ',', 'he', \"'s\", 'not', 'coming', 'out', 'until', 'he', 'sees', 'proof', 'you', 'do', \"n't\", 'have', 'an air freshener', 'in', 'your', 'car', '.']\n",
      "87 ['Oh', ',', 'he', \"'s\", 'not', 'coming', 'out', 'until', 'he', 'sees', 'proof', 'you', 'do', \"n't\", 'have', 'an', 'air', 'freshener', 'in', 'your car', '.']\n",
      "88 ['Oh', ',', 'he', \"'s\", 'not', 'coming', 'out', 'until', 'he', 'sees', 'proof', 'you', 'do', \"n't\", 'have', 'an', 'air', 'freshener', 'in', 'your', 'car', '.']\n",
      "89 ['This', 'is', 'gon', 'na', 'be', 'a', 'long', 'weekend', 'for', 'you', '.']\n",
      "90 ['This', 'is', 'gon', 'na', 'be', 'a long weekend', 'for', 'you', '.']\n",
      "91 ['This', 'is', 'gon', 'na', 'be', 'a', 'long', 'weekend', 'for', 'you', '.']\n",
      "92 ['You', \"'re\", 'the', 'reason', 'I', \"'m\", 'doing', 'it', '!']\n",
      "93 ['You', \"'re\", \"the reason I 'm doing it\", '!']\n",
      "94 ['You', \"'re\", 'the', 'reason', 'I', \"'m\", 'doing', 'it', '!']\n",
      "95 ['You', \"'re\", 'the', 'reason', 'I', \"'m\", 'doing', 'it', '!']\n",
      "96 ['I', 'said', 'to', 'stop', 'insulting', 'each', 'other', '.', 'I', 'did', \"n't\", 'tell', 'you', 'to', 'take', 'him', 'on', 'a', 'romantic', 'getaway', '.']\n",
      "97 ['I', 'said', 'to', 'stop', 'insulting', 'each other', '.', 'I', 'did', \"n't\", 'tell', 'you', 'to', 'take', 'him', 'on', 'a', 'romantic', 'getaway', '.']\n",
      "98 ['I', 'said', 'to', 'stop', 'insulting', 'each', 'other', '.', 'I', 'did', \"n't\", 'tell', 'you', 'to', 'take', 'him', 'on', 'a', 'romantic', 'getaway', '.']\n",
      "99 ['I', 'said', 'to', 'stop', 'insulting', 'each', 'other', '.', 'I', 'did', \"n't\", 'tell', 'you', 'to', 'take', 'him', 'on', 'a', 'romantic', 'getaway', '.']\n",
      "100 ['I', 'said', 'to', 'stop', 'insulting', 'each', 'other', '.', 'I', 'did', \"n't\", 'tell', 'you', 'to', 'take', 'him', 'on', 'a', 'romantic', 'getaway', '.']\n",
      "101 ['I', 'said', 'to', 'stop', 'insulting', 'each', 'other', '.', 'I', 'did', \"n't\", 'tell', 'you', 'to', 'take', 'him', 'on', 'a romantic getaway', '.']\n",
      "102 ['How', 'do', 'I', 'know', 'what', 'you', 'said', '?', 'Damn', 'you', 'and', 'your', 'noise', '-', 'cancelling', 'breasts', '.']\n",
      "103 ['How', 'do', 'I', 'know', 'what', 'you', 'said', '?', 'Damn', 'you', 'and', 'your', 'noise', '-', 'cancelling', 'breasts', '.']\n",
      "104 ['How', 'do', 'I', 'know', 'what', 'you', 'said', '?', 'Damn', 'you', 'and', 'your', 'noise', '-', 'cancelling', 'breasts', '.']\n",
      "105 ['How', 'do', 'I', 'know', 'what', 'you', 'said', '?', 'Damn', 'you and your noise - cancelling breasts', '.']\n",
      "106 ['How', 'do', 'I', 'know', 'what', 'you', 'said', '?', 'Damn', 'you', 'and', 'your', 'noise', '-', 'cancelling', 'breasts', '.']\n",
      "107 ['How', 'do', 'I', 'know', 'what', 'you', 'said', '?', 'Damn', 'you', 'and', 'your', 'noise', '-', 'cancelling', 'breasts', '.']\n",
      "108 ['How', 'do', 'I', 'know', 'what', 'you', 'said', '?', 'Damn', 'you', 'and', 'your noise - cancelling breasts', '.']\n",
      "109 ['You', 'excited', 'for', 'Texas', '?']\n",
      "110 ['You', 'excited', 'for', 'Texas', '?']\n",
      "111 ['It', \"'s\", 'not', 'every', 'day', 'you', 'get', 'to', 'tour', 'NASA', 'with', 'a', 'real', 'astronaut', '.']\n",
      "112 ['It', \"'s\", 'not', 'every day', 'you', 'get', 'to', 'tour', 'NASA', 'with', 'a', 'real', 'astronaut', '.']\n",
      "113 ['It', \"'s\", 'not', 'every', 'day', 'you', 'get', 'to', 'tour', 'NASA', 'with', 'a', 'real', 'astronaut', '.']\n",
      "114 ['It', \"'s\", 'not', 'every', 'day', 'you', 'get', 'to', 'tour', 'NASA', 'with', 'a', 'real', 'astronaut', '.']\n",
      "115 ['It', \"'s\", 'not', 'every', 'day', 'you', 'get', 'to', 'tour', 'NASA', 'with', 'a real astronaut', '.']\n",
      "116 ['Who', \"'s\", 'the', 'real', 'astronaut', '?']\n",
      "117 ['Who', \"'s\", 'the real astronaut', '?']\n",
      "118 ['Buzz Aldrin', '.']\n",
      "119 ['What', 'now', '?']\n",
      "120 ['I', 'have', 'to', 'go', 'to', 'the', 'bathroom', '.']\n",
      "121 ['I', 'have', 'to', 'go', 'to', 'the bathroom', '.']\n",
      "122 ['You', 'just', 'went', 'to', 'the', 'bathroom', '.']\n",
      "123 ['You', 'just', 'went', 'to', 'the bathroom', '.']\n",
      "124 ['I', 'did', \"n't\", 'use', 'it', 'because', 'it', 'did', \"n't\", 'seem', 'safe', '.', 'Despite', 'all', 'my', 'e', '-', 'mails', ',', 'the', 'toilet', 'did', \"n't\", 'have', 'a', 'seatbelt', '.']\n",
      "125 ['I', 'did', \"n't\", 'use', 'it', 'because', 'it', 'did', \"n't\", 'seem', 'safe', '.', 'Despite', 'all', 'my', 'e', '-', 'mails', ',', 'the', 'toilet', 'did', \"n't\", 'have', 'a', 'seatbelt', '.']\n",
      "126 ['I', 'did', \"n't\", 'use', 'it', 'because', 'it', 'did', \"n't\", 'seem', 'safe', '.', 'Despite', 'all', 'my', 'e', '-', 'mails', ',', 'the', 'toilet', 'did', \"n't\", 'have', 'a', 'seatbelt', '.']\n",
      "127 ['I', 'did', \"n't\", 'use', 'it', 'because', 'it', 'did', \"n't\", 'seem', 'safe', '.', 'Despite', 'all my e - mails', ',', 'the', 'toilet', 'did', \"n't\", 'have', 'a', 'seatbelt', '.']\n",
      "128 ['I', 'did', \"n't\", 'use', 'it', 'because', 'it', 'did', \"n't\", 'seem', 'safe', '.', 'Despite', 'all', 'my', 'e', '-', 'mails', ',', 'the', 'toilet', 'did', \"n't\", 'have', 'a', 'seatbelt', '.']\n",
      "129 ['I', 'did', \"n't\", 'use', 'it', 'because', 'it', 'did', \"n't\", 'seem', 'safe', '.', 'Despite', 'all', 'my', 'e', '-', 'mails', ',', 'the toilet', 'did', \"n't\", 'have', 'a', 'seatbelt', '.']\n",
      "130 ['I', 'did', \"n't\", 'use', 'it', 'because', 'it', 'did', \"n't\", 'seem', 'safe', '.', 'Despite', 'all', 'my', 'e', '-', 'mails', ',', 'the', 'toilet', 'did', \"n't\", 'have', 'a seatbelt', '.']\n",
      "131 ['Well', ',', 'it', 'still', 'does', \"n't\", '.']\n",
      "132 ['I', 'realize', 'that', ',', 'but', 'safety', 'concerns', 'went', 'out', 'the', 'window', 'two', 'apple', 'juices', 'ago', '.']\n",
      "133 ['I', 'realize', 'that', ',', 'but', 'safety', 'concerns', 'went', 'out', 'the', 'window', 'two', 'apple', 'juices', 'ago', '.']\n",
      "134 ['I', 'realize', 'that', ',', 'but', 'safety concerns', 'went', 'out', 'the', 'window', 'two', 'apple', 'juices', 'ago', '.']\n",
      "135 ['I', 'realize', 'that', ',', 'but', 'safety', 'concerns', 'went', 'out', 'the window', 'two', 'apple', 'juices', 'ago', '.']\n",
      "136 ['I', 'realize', 'that', ',', 'but', 'safety', 'concerns', 'went', 'out', 'the', 'window', 'two apple juices', 'ago', '.']\n",
      "137 ['Why', 'are', 'you', 'getting', 'annoyed', '?']\n",
      "138 ['I', \"'m\", 'trying', 'to', 'be', 'a', 'better', 'friend', ',', 'but', 'you', 'constantly', 'say', 'and', 'do', 'irritating', 'things', '.']\n",
      "139 ['I', \"'m\", 'trying', 'to', 'be', 'a better friend', ',', 'but', 'you', 'constantly', 'say', 'and', 'do', 'irritating', 'things', '.']\n",
      "140 ['I', \"'m\", 'trying', 'to', 'be', 'a', 'better', 'friend', ',', 'but', 'you', 'constantly', 'say', 'and', 'do', 'irritating', 'things', '.']\n",
      "141 ['I', \"'m\", 'trying', 'to', 'be', 'a', 'better', 'friend', ',', 'but', 'you', 'constantly', 'say', 'and', 'do', 'irritating things', '.']\n",
      "142 ['When', '?', 'How', 'about', 'in', 'the car', '?', 'I', \"'m\", 'an', 'astronaut', ',', 'and', 'you', 'know', 'it', '.', 'You', 'just', 'do', \"n't\", 'like', 'admitting', 'it', ',', 'because', 'you', \"'re\", 'jealous', '.']\n",
      "143 ['When', '?', 'How', 'about', 'in', 'the', 'car', '?', 'I', \"'m\", 'an', 'astronaut', ',', 'and', 'you', 'know', 'it', '.', 'You', 'just', 'do', \"n't\", 'like', 'admitting', 'it', ',', 'because', 'you', \"'re\", 'jealous', '.']\n",
      "144 ['When', '?', 'How', 'about', 'in', 'the', 'car', '?', 'I', \"'m\", 'an astronaut', ',', 'and', 'you', 'know', 'it', '.', 'You', 'just', 'do', \"n't\", 'like', 'admitting', 'it', ',', 'because', 'you', \"'re\", 'jealous', '.']\n",
      "145 ['When', '?', 'How', 'about', 'in', 'the', 'car', '?', 'I', \"'m\", 'an', 'astronaut', ',', 'and', 'you', 'know', 'it', '.', 'You', 'just', 'do', \"n't\", 'like', 'admitting', 'it', ',', 'because', 'you', \"'re\", 'jealous', '.']\n",
      "146 ['When', '?', 'How', 'about', 'in', 'the', 'car', '?', 'I', \"'m\", 'an', 'astronaut', ',', 'and', 'you', 'know', 'it', '.', 'You', 'just', 'do', \"n't\", 'like', 'admitting', 'it', ',', 'because', 'you', \"'re\", 'jealous', '.']\n",
      "147 ['When', '?', 'How', 'about', 'in', 'the', 'car', '?', 'I', \"'m\", 'an', 'astronaut', ',', 'and', 'you', 'know', 'it', '.', 'You', 'just', 'do', \"n't\", 'like', 'admitting', 'it', ',', 'because', 'you', \"'re\", 'jealous', '.']\n",
      "148 ['When', '?', 'How', 'about', 'in', 'the', 'car', '?', 'I', \"'m\", 'an', 'astronaut', ',', 'and', 'you', 'know', 'it', '.', 'You', 'just', 'do', \"n't\", 'like', 'admitting', 'it', ',', 'because', 'you', \"'re\", 'jealous', '.']\n",
      "149 ['When', '?', 'How', 'about', 'in', 'the', 'car', '?', 'I', \"'m\", 'an', 'astronaut', ',', 'and', 'you', 'know', 'it', '.', 'You', 'just', 'do', \"n't\", 'like', 'admitting', 'it', ',', 'because', 'you', \"'re\", 'jealous', '.']\n",
      "150 ['Well', ',', 'truth', 'be', 'told', ',', 'as', 'a', 'child', ',', 'I', 'did', 'dream', 'of', 'going', 'to', 'space', '.', 'Those', 'astronauts', 'were', 'my', 'heroes', '.', 'And', '...', 'when', 'you', 'got', 'to', 'go', ',', 'it', 'was', 'hard', 'for', 'me', '.']\n",
      "151 ['Well', ',', 'truth', 'be', 'told', ',', 'as', 'a child', ',', 'I', 'did', 'dream', 'of', 'going', 'to', 'space', '.', 'Those', 'astronauts', 'were', 'my', 'heroes', '.', 'And', '...', 'when', 'you', 'got', 'to', 'go', ',', 'it', 'was', 'hard', 'for', 'me', '.']\n",
      "152 ['Well', ',', 'truth', 'be', 'told', ',', 'as', 'a', 'child', ',', 'I', 'did', 'dream', 'of', 'going', 'to', 'space', '.', 'Those', 'astronauts', 'were', 'my', 'heroes', '.', 'And', '...', 'when', 'you', 'got', 'to', 'go', ',', 'it', 'was', 'hard', 'for', 'me', '.']\n",
      "153 ['Well', ',', 'truth', 'be', 'told', ',', 'as', 'a', 'child', ',', 'I', 'did', 'dream', 'of', 'going', 'to', 'space', '.', 'Those', 'astronauts', 'were', 'my', 'heroes', '.', 'And', '...', 'when', 'you', 'got', 'to', 'go', ',', 'it', 'was', 'hard', 'for', 'me', '.']\n",
      "154 ['Well', ',', 'truth', 'be', 'told', ',', 'as', 'a', 'child', ',', 'I', 'did', 'dream', 'of', 'going', 'to', 'space', '.', 'Those astronauts', 'were', 'my', 'heroes', '.', 'And', '...', 'when', 'you', 'got', 'to', 'go', ',', 'it', 'was', 'hard', 'for', 'me', '.']\n",
      "155 ['Well', ',', 'truth', 'be', 'told', ',', 'as', 'a', 'child', ',', 'I', 'did', 'dream', 'of', 'going', 'to', 'space', '.', 'Those', 'astronauts', 'were', 'my', 'heroes', '.', 'And', '...', 'when', 'you', 'got', 'to', 'go', ',', 'it', 'was', 'hard', 'for', 'me', '.']\n",
      "156 ['Well', ',', 'truth', 'be', 'told', ',', 'as', 'a', 'child', ',', 'I', 'did', 'dream', 'of', 'going', 'to', 'space', '.', 'Those', 'astronauts', 'were', 'my heroes', '.', 'And', '...', 'when', 'you', 'got', 'to', 'go', ',', 'it', 'was', 'hard', 'for', 'me', '.']\n",
      "157 ['Well', ',', 'truth', 'be', 'told', ',', 'as', 'a', 'child', ',', 'I', 'did', 'dream', 'of', 'going', 'to', 'space', '.', 'Those', 'astronauts', 'were', 'my', 'heroes', '.', 'And', '...', 'when', 'you', 'got', 'to', 'go', ',', 'it', 'was', 'hard', 'for', 'me', '.']\n",
      "158 ['Well', ',', 'truth', 'be', 'told', ',', 'as', 'a', 'child', ',', 'I', 'did', 'dream', 'of', 'going', 'to', 'space', '.', 'Those', 'astronauts', 'were', 'my', 'heroes', '.', 'And', '...', 'when', 'you', 'got', 'to', 'go', ',', 'it', 'was', 'hard', 'for', 'me', '.']\n",
      "159 ['Well', ',', 'truth', 'be', 'told', ',', 'as', 'a', 'child', ',', 'I', 'did', 'dream', 'of', 'going', 'to', 'space', '.', 'Those', 'astronauts', 'were', 'my', 'heroes', '.', 'And', '...', 'when', 'you', 'got', 'to', 'go', ',', 'it', 'was', 'hard', 'for', 'me', '.']\n",
      "160 ['Thank', 'you', '.']\n",
      "161 ['Because', 'it', 'made', 'me', 'realize', 'they', \"'ll\", 'just', 'send', 'anyone', 'up', 'there', '.', 'Are', \"n't\", 'you', 'going', 'to', 'let', 'me', 'out', '?']\n",
      "162 ['Because', 'it', 'made', 'me', 'realize', 'they', \"'ll\", 'just', 'send', 'anyone', 'up', 'there', '.', 'Are', \"n't\", 'you', 'going', 'to', 'let', 'me', 'out', '?']\n",
      "163 ['Because', 'it', 'made', 'me', 'realize', 'they', \"'ll\", 'just', 'send', 'anyone', 'up', 'there', '.', 'Are', \"n't\", 'you', 'going', 'to', 'let', 'me', 'out', '?']\n",
      "164 ['Because', 'it', 'made', 'me', 'realize', 'they', \"'ll\", 'just', 'send', 'anyone', 'up', 'there', '.', 'Are', \"n't\", 'you', 'going', 'to', 'let', 'me', 'out', '?']\n",
      "165 ['Because', 'it', 'made', 'me', 'realize', 'they', \"'ll\", 'just', 'send', 'anyone', 'up', 'there', '.', 'Are', \"n't\", 'you', 'going', 'to', 'let', 'me', 'out', '?']\n",
      "166 ['Because', 'it', 'made', 'me', 'realize', 'they', \"'ll\", 'just', 'send', 'anyone', 'up', 'there', '.', 'Are', \"n't\", 'you', 'going', 'to', 'let', 'me', 'out', '?']\n",
      "167 ['But', 'I', 'still', 'need', 'to', 'use', 'the', 'bathroom', '.']\n",
      "168 ['But', 'I', 'still', 'need', 'to', 'use', 'the bathroom', '.']\n",
      "169 ['Here', 'you', 'go', '.', 'Be', 'creative', '.', 'What', \"'s\", 'the', 'matter', '?', 'Scared', 'of', 'a', 'little', 'turbulence', '?']\n",
      "170 ['Here', 'you', 'go', '.', 'Be', 'creative', '.', 'What', \"'s\", 'the', 'matter', '?', 'Scared', 'of', 'a', 'little', 'turbulence', '?']\n",
      "171 ['Here', 'you', 'go', '.', 'Be', 'creative', '.', 'What', \"'s\", 'the matter', '?', 'Scared', 'of', 'a', 'little', 'turbulence', '?']\n",
      "172 ['Here', 'you', 'go', '.', 'Be', 'creative', '.', 'What', \"'s\", 'the', 'matter', '?', 'Scared', 'of', 'a little turbulence', '?']\n",
      "173 ['No', ',', 'turbulence', 'is', 'just', 'the', 'equalization', 'of', 'diurnal', 'temperature', 'variations', 'in', 'the', 'atmosphere', '.', 'I', \"'m\", 'not', 'scared', 'at', 'all', '.', 'Oh', ',', 'apple', 'juice', ',', 'stay', 'where', 'you', 'are', '.']\n",
      "174 ['No', ',', 'turbulence', 'is', 'just', 'the equalization of diurnal temperature variations in the atmosphere', '.', 'I', \"'m\", 'not', 'scared', 'at', 'all', '.', 'Oh', ',', 'apple', 'juice', ',', 'stay', 'where', 'you', 'are', '.']\n",
      "175 ['No', ',', 'turbulence', 'is', 'just', 'the', 'equalization', 'of', 'diurnal temperature variations in the atmosphere', '.', 'I', \"'m\", 'not', 'scared', 'at', 'all', '.', 'Oh', ',', 'apple', 'juice', ',', 'stay', 'where', 'you', 'are', '.']\n",
      "176 ['No', ',', 'turbulence', 'is', 'just', 'the', 'equalization', 'of', 'diurnal', 'temperature', 'variations', 'in', 'the atmosphere', '.', 'I', \"'m\", 'not', 'scared', 'at', 'all', '.', 'Oh', ',', 'apple', 'juice', ',', 'stay', 'where', 'you', 'are', '.']\n",
      "177 ['No', ',', 'turbulence', 'is', 'just', 'the', 'equalization', 'of', 'diurnal', 'temperature', 'variations', 'in', 'the', 'atmosphere', '.', 'I', \"'m\", 'not', 'scared', 'at', 'all', '.', 'Oh', ',', 'apple', 'juice', ',', 'stay', 'where', 'you', 'are', '.']\n",
      "178 ['No', ',', 'turbulence', 'is', 'just', 'the', 'equalization', 'of', 'diurnal', 'temperature', 'variations', 'in', 'the', 'atmosphere', '.', 'I', \"'m\", 'not', 'scared', 'at', 'all', '.', 'Oh', ',', 'apple juice', ',', 'stay', 'where', 'you', 'are', '.']\n",
      "179 ['No', ',', 'turbulence', 'is', 'just', 'the', 'equalization', 'of', 'diurnal', 'temperature', 'variations', 'in', 'the', 'atmosphere', '.', 'I', \"'m\", 'not', 'scared', 'at', 'all', '.', 'Oh', ',', 'apple', 'juice', ',', 'stay', 'where', 'you', 'are', '.']\n",
      "180 ['Oh', ',', 'this', 'is', 'nothing', '.', 'I', 'experienced', 'way', 'worse', 'when', 'I', 'was', 'plummeting', 'back', 'to', 'Earth', ',', 'apparently', 'not', 'being', 'a', 'real', 'astronaut', '.', 'Okay', ',', 'that', 'was', 'a', 'big', 'one', '.']\n"
     ]
    }
   ],
   "source": [
    "zh_scenes = []\n",
    "scene_ids = ['s07e17c08t1', 's07e17c07t2', 's07e17c09t0']\n",
    "with open('data/raw_source/dialogue_zh/all_coref_data_en_zh.json', 'r') as f:\n",
    "    data = json.load(f)\n",
    "    for item in data:\n",
    "        if item['scene_id'] in scene_ids:\n",
    "            zh_scenes.append(item)\n",
    "\n",
    "en_scenes = []\n",
    "scene_ids = ['s07e17c08t', 's07e17c07t', 's07e17c09t']\n",
    "with open('data/raw_source/dialogue_zh/dev_temp.pkl', 'rb') as f:\n",
    "    data = pkl.load(f)\n",
    "    for item in data:\n",
    "        if item['scene_id'] in scene_ids:\n",
    "            en_scenes.append(item)\n",
    "\n",
    "correction_data = []\n",
    "with open('data/raw_source/correction_dialogue_zh/dev.csv', 'r') as f:\n",
    "    reader = csv.DictReader(f)\n",
    "    for i, item in enumerate(reader):\n",
    "        correction_data.append(item)\n",
    "        print(i, item['Input.src_tokens'])"
   ],
   "metadata": {
    "collapsed": false,
    "pycharm": {
     "name": "#%%\n"
    }
   }
  },
  {
   "cell_type": "code",
   "execution_count": 207,
   "outputs": [],
   "source": [
    "correction_dict = {\n",
    "    \"s07e17c08t1\": {},\n",
    "    \"s07e17c07t2\": {},\n",
    "    \"s07e17c09t0\": {}\n",
    "}"
   ],
   "metadata": {
    "collapsed": false,
    "pycharm": {
     "name": "#%%\n"
    }
   }
  },
  {
   "cell_type": "code",
   "execution_count": 207,
   "outputs": [],
   "source": [],
   "metadata": {
    "collapsed": false,
    "pycharm": {
     "name": "#%%\n"
    }
   }
  },
  {
   "cell_type": "code",
   "execution_count": 213,
   "outputs": [],
   "source": [
    "# Process the first scene\n",
    "zh_scene = zh_scenes[0]\n",
    "en_scene = en_scenes[0]\n",
    "scene_correction_data = correction_data[:74]\n",
    "for i in range(len(scene_correction_data)):\n",
    "    sample = correction_data[i]\n",
    "    src_tokens = ast.literal_eval(sample['Input.src_tokens'])\n",
    "    tar_tokens = ast.literal_eval(sample['Input.tar_tokens'])\n",
    "    original_alignment = json.loads(sample['Answer.alignment'])\n",
    "    new_alignment = json.loads(sample['Input.config_obj'])['alignment']\n",
    "    old_query = [-1, -1, -1]\n",
    "    new_query = [-1, -1, -1]\n",
    "    sent_id = -1\n",
    "    temp = \"\".join(tar_tokens)\n",
    "    for k, item in enumerate(zh_scene['sentences']):\n",
    "        if temp==''.join(item):\n",
    "            sent_id = k\n",
    "            break\n",
    "    if sent_id==-1:\n",
    "        continue\n",
    "    # Locate source token\n",
    "    for j, item in enumerate(original_alignment):\n",
    "        if True in item:\n",
    "            start_idx = item.index(True)\n",
    "            item.reverse()\n",
    "            end_idx = len(item)-item.index(True)\n",
    "            item.reverse()\n",
    "            old_query = [sent_id, start_idx, end_idx]\n",
    "    for j, item in enumerate(new_alignment):\n",
    "        if True in item:\n",
    "            start_idx = item.index(True)\n",
    "            item.reverse()\n",
    "            end_idx = len(item)-item.index(True)\n",
    "            item.reverse()\n",
    "            new_query = [sent_id, start_idx, end_idx]\n",
    "    if new_query==[-1, -1, -1]:\n",
    "        continue\n",
    "    if old_query==new_query:\n",
    "        continue\n",
    "    correction_dict['s07e17c08t1'][tuple(old_query)] = tuple(new_query)\n",
    "\n",
    "# # Process the first scene\n",
    "# zh_scene = zh_scenes[1]\n",
    "# en_scene = en_scenes[1]\n",
    "# scene_correction_data = correction_data[74:119]\n",
    "# for i in range(len(scene_correction_data)):\n",
    "#     sample = correction_data[i]\n",
    "#     src_tokens = ast.literal_eval(sample['Input.src_tokens'])\n",
    "#     tar_tokens = ast.literal_eval(sample['Input.tar_tokens'])\n",
    "#     original_alignment = json.loads(sample['Answer.alignment'])\n",
    "#     new_alignment = json.loads(sample['Input.config_obj'])['alignment']\n",
    "#     old_query = [-1, -1, -1]\n",
    "#     new_query = [-1, -1, -1]\n",
    "#     sent_id = -1\n",
    "#     temp = \"\".join(tar_tokens)\n",
    "#     for k, item in enumerate(zh_scene['sentences']):\n",
    "#         if temp==''.join(item):\n",
    "#             sent_id = k\n",
    "#             break\n",
    "#     if sent_id==-1:\n",
    "#         continue\n",
    "#     # Locate source token\n",
    "#     for j, item in enumerate(original_alignment):\n",
    "#         if True in item:\n",
    "#             start_idx = item.index(True)\n",
    "#             item.reverse()\n",
    "#             end_idx = len(item)-item.index(True)\n",
    "#             item.reverse()\n",
    "#             old_query = [sent_id, start_idx, end_idx]\n",
    "#     for j, item in enumerate(new_alignment):\n",
    "#         if True in item:\n",
    "#             start_idx = item.index(True)\n",
    "#             item.reverse()\n",
    "#             end_idx = len(item)-item.index(True)\n",
    "#             item.reverse()\n",
    "#             new_query = [sent_id, start_idx, end_idx]\n",
    "#     if new_query==[-1, -1, -1]:\n",
    "#         continue\n",
    "#     if old_query==new_query:\n",
    "#         continue\n",
    "#     correction_dict['s07e17c07t2'][tuple(old_query)] = tuple(new_query)\n",
    "#\n",
    "# # Process the first scene\n",
    "# zh_scene = zh_scenes[2]\n",
    "# en_scene = en_scenes[2]\n",
    "# scene_correction_data = correction_data[119:]\n",
    "# for i in range(len(scene_correction_data)):\n",
    "#     sample = correction_data[i]\n",
    "#     src_tokens = ast.literal_eval(sample['Input.src_tokens'])\n",
    "#     tar_tokens = ast.literal_eval(sample['Input.tar_tokens'])\n",
    "#     original_alignment = json.loads(sample['Answer.alignment'])\n",
    "#     new_alignment = json.loads(sample['Input.config_obj'])['alignment']\n",
    "#     old_query = [-1, -1, -1]\n",
    "#     new_query = [-1, -1, -1]\n",
    "#     sent_id = -1\n",
    "#     temp = \"\".join(tar_tokens)\n",
    "#     for k, item in enumerate(zh_scene['sentences']):\n",
    "#         if temp==''.join(item):\n",
    "#             sent_id = k\n",
    "#             break\n",
    "#     if sent_id==-1:\n",
    "#         continue\n",
    "#     # Locate source token\n",
    "#     for j, item in enumerate(original_alignment):\n",
    "#         if True in item:\n",
    "#             start_idx = item.index(True)\n",
    "#             item.reverse()\n",
    "#             end_idx = len(item)-item.index(True)\n",
    "#             item.reverse()\n",
    "#             old_query = [sent_id, start_idx, end_idx]\n",
    "#     for j, item in enumerate(new_alignment):\n",
    "#         if True in item:\n",
    "#             start_idx = item.index(True)\n",
    "#             item.reverse()\n",
    "#             end_idx = len(item)-item.index(True)\n",
    "#             item.reverse()\n",
    "#             new_query = [sent_id, start_idx, end_idx]\n",
    "#     if new_query==[-1, -1, -1]:\n",
    "#         continue\n",
    "#     if old_query==new_query:\n",
    "#         continue\n",
    "#     correction_dict['s07e17c09t0'][tuple(old_query)] = tuple(new_query)"
   ],
   "metadata": {
    "collapsed": false,
    "pycharm": {
     "name": "#%%\n"
    }
   }
  },
  {
   "cell_type": "code",
   "execution_count": 212,
   "outputs": [
    {
     "name": "stdout",
     "output_type": "stream",
     "text": [
      "{'s07e17c08t1': {(5, 7, 8): (5, 7, 9), (7, 13, 17): (7, 15, 17), (11, 0, 1): (11, 0, 2), (11, 5, 7): (11, 4, 7), (16, 0, 3): (16, 0, 1)}, 's07e17c07t2': {}, 's07e17c09t0': {}}\n"
     ]
    }
   ],
   "source": [
    "print(correction_dict)"
   ],
   "metadata": {
    "collapsed": false,
    "pycharm": {
     "name": "#%%\n"
    }
   }
  },
  {
   "cell_type": "code",
   "execution_count": 210,
   "outputs": [
    {
     "name": "stdout",
     "output_type": "stream",
     "text": [
      "[(0, 2, 3), [(1, 0, 1)]]\n",
      "['Howard']\n",
      "[(1, 2, 3), 'notPresent']\n",
      "['What']\n",
      "[(2, 2, 3), [(2, 0, 1)]]\n",
      "['I']\n",
      "[(2, 7, 9), 'notPresent']\n",
      "['the', 'bathroom']\n",
      "[(3, 2, 3), [(2, 0, 1)]]\n",
      "['You']\n",
      "[(3, 6, 8), 'notPresent']\n",
      "['the', 'bathroom']\n",
      "[(4, 2, 3), [(4, 0, 1)]]\n",
      "['I']\n",
      "[(4, 6, 7), [(3, 6, 8)]]\n",
      "['it']\n",
      "[(4, 8, 9), [(3, 6, 8)]]\n",
      "['it']\n",
      "[(4, 15, 20), 'notPresent']\n",
      "['all', 'my', 'e', '-', 'mails']\n",
      "[(4, 16, 17), [(4, 0, 1)]]\n",
      "['my']\n",
      "[(4, 21, 23), 'notPresent']\n",
      "['the', 'toilet']\n",
      "[(4, 26, 28), 'notPresent']\n",
      "['a', 'seatbelt']\n",
      "[(5, 4, 5), [(4, 21, 23)]]\n",
      "['it']\n",
      "[(6, 2, 3), [(6, 0, 1)]]\n",
      "['I']\n",
      "[(6, 4, 5), 'notPresent']\n",
      "['that']\n",
      "[(6, 7, 9), 'notPresent']\n",
      "['safety', 'concerns']\n",
      "[(6, 11, 13), 'notPresent']\n",
      "['the', 'window']\n",
      "[(6, 13, 16), 'notPresent']\n",
      "['two', 'apple', 'juices']\n",
      "[(8, 4, 5), [(7, 0, 1)]]\n",
      "['you']\n",
      "[(9, 2, 3), [(9, 0, 1)]]\n",
      "['I']\n",
      "[(9, 7, 10), 'notPresent']\n",
      "['a', 'better', 'friend']\n",
      "[(9, 12, 13), [(8, 0, 1)]]\n",
      "['you']\n",
      "[(9, 17, 19), 'notPresent']\n",
      "['irritating', 'things']\n",
      "[(11, 7, 9), 'notPresent']\n",
      "['the', 'car']\n",
      "[(11, 10, 11), [(11, 0, 1)]]\n",
      "['I']\n",
      "[(11, 12, 14), [(11, 10, 11)]]\n",
      "['an', 'astronaut']\n",
      "[(11, 16, 17), [(10, 0, 1)]]\n",
      "['you']\n",
      "[(11, 18, 19), 'notPresent']\n",
      "['it']\n",
      "[(11, 20, 21), [(10, 0, 1)]]\n",
      "['You']\n",
      "[(11, 26, 27), 'notPresent']\n",
      "['it']\n",
      "[(11, 29, 30), [(10, 0, 1)]]\n",
      "['you']\n",
      "[(12, 4, 5), 'notPresent']\n",
      "['truth']\n",
      "[(12, 9, 11), 'notPresent']\n",
      "['a', 'child']\n",
      "[(12, 12, 13), [(12, 0, 1)]]\n",
      "['I']\n",
      "[(12, 18, 19), 'notPresent']\n",
      "['space']\n",
      "[(12, 20, 22), 'notPresent']\n",
      "['Those', 'astronauts']\n",
      "[(12, 23, 24), [(12, 0, 1)]]\n",
      "['my']\n",
      "[(12, 23, 25), [(12, 20, 22)]]\n",
      "['my', 'heroes']\n",
      "[(12, 29, 30), [(11, 0, 1)]]\n",
      "['you']\n",
      "[(12, 34, 35), 'notPresent']\n",
      "['it']\n",
      "[(12, 38, 39), [(12, 0, 1)]]\n",
      "['me']\n",
      "[(13, 3, 4), [(12, 0, 1)]]\n",
      "['you']\n",
      "[(14, 3, 4), 'notPresent']\n",
      "['it']\n",
      "[(14, 5, 6), [(14, 0, 1)]]\n",
      "['me']\n",
      "[(14, 7, 8), 'notPresent']\n",
      "['they']\n",
      "[(14, 11, 12), 'notPresent']\n",
      "['anyone']\n",
      "[(14, 17, 18), [(13, 0, 1)]]\n",
      "['you']\n",
      "[(14, 21, 22), [(14, 0, 1)]]\n",
      "['me']\n",
      "[(16, 3, 4), [(16, 0, 1)]]\n",
      "['I']\n",
      "[(16, 8, 10), 'notPresent']\n",
      "['the', 'bathroom']\n",
      "[(17, 3, 4), [(16, 0, 1)]]\n",
      "['you']\n",
      "[(17, 9, 10), 'notPresent']\n",
      "['What']\n",
      "[(17, 11, 13), [(17, 9, 10)]]\n",
      "['the', 'matter']\n",
      "[(17, 16, 19), 'notPresent']\n",
      "['a', 'little', 'turbulence']\n",
      "[(18, 4, 5), 'notPresent']\n",
      "['turbulence']\n",
      "[(18, 7, 16), [(18, 4, 5)]]\n",
      "['the', 'equalization', 'of', 'diurnal', 'temperature', 'variations', 'in', 'the', 'atmosphere']\n",
      "[(18, 10, 16), 'notPresent']\n",
      "['diurnal', 'temperature', 'variations', 'in', 'the', 'atmosphere']\n",
      "[(18, 14, 16), 'notPresent']\n",
      "['the', 'atmosphere']\n",
      "[(18, 17, 18), [(18, 0, 1)]]\n",
      "['I']\n",
      "[(18, 26, 28), 'notPresent']\n",
      "['apple', 'juice']\n",
      "[(18, 31, 32), [(18, 26, 28)]]\n",
      "['you']\n",
      "[(19, 4, 5), 'notPresent']\n",
      "['this']\n",
      "[(19, 6, 7), [(19, 4, 5)]]\n",
      "['nothing']\n",
      "[(19, 8, 9), [(19, 0, 1)]]\n",
      "['I']\n",
      "[(19, 13, 14), [(19, 0, 1)]]\n",
      "['I']\n",
      "[(19, 18, 19), 'notPresent']\n",
      "['Earth']\n",
      "[(19, 23, 26), 'notPresent']\n",
      "['a', 'real', 'astronaut']\n",
      "[(19, 29, 30), 'notPresent']\n",
      "['that']\n",
      "[(19, 31, 34), [(19, 29, 30)]]\n",
      "['a', 'big', 'one']\n",
      "[(20, 2, 3), [(20, 0, 1)]]\n",
      "['I']\n",
      "[(20, 4, 5), 'notPresent']\n",
      "['it']\n",
      "[(20, 7, 8), [(20, 0, 1)]]\n",
      "['I']\n",
      "[(20, 11, 12), 'notPresent']\n",
      "['turbulence']\n",
      "[(21, 2, 3), [(21, 0, 1)]]\n",
      "['I']\n",
      "[(21, 7, 9), 'notPresent']\n",
      "['that', 'bag']\n"
     ]
    }
   ],
   "source": [
    "for item in en_scene['answers']:\n",
    "    print(item)\n",
    "    print(en_scene['sentences'][item[0][0]][item[0][1]:item[0][2]])"
   ],
   "metadata": {
    "collapsed": false,
    "pycharm": {
     "name": "#%%\n"
    }
   }
  },
  {
   "cell_type": "code",
   "execution_count": 150,
   "outputs": [
    {
     "name": "stdout",
     "output_type": "stream",
     "text": [
      "dict_keys(['sentences', 'query_spans', 'answer_spans', 'WorkerId', 'scene_id', 'clusters_all', 'clusters_no_plural', 'answers'])\n"
     ]
    }
   ],
   "source": [
    "print(en_scene.keys())"
   ],
   "metadata": {
    "collapsed": false,
    "pycharm": {
     "name": "#%%\n"
    }
   }
  },
  {
   "cell_type": "code",
   "execution_count": null,
   "outputs": [],
   "source": [],
   "metadata": {
    "collapsed": false,
    "pycharm": {
     "name": "#%%\n"
    }
   }
  },
  {
   "cell_type": "code",
   "execution_count": null,
   "outputs": [],
   "source": [],
   "metadata": {
    "collapsed": false,
    "pycharm": {
     "name": "#%%\n"
    }
   }
  },
  {
   "cell_type": "code",
   "execution_count": 3,
   "outputs": [],
   "source": [
    "data = []\n",
    "with open('data/raw_source/correction_dialogue_zh/pilot.csv', 'r') as f:\n",
    "    reader = csv.DictReader(f)\n",
    "    for item in reader:\n",
    "        data.append(item)"
   ],
   "metadata": {
    "collapsed": false,
    "pycharm": {
     "name": "#%%\n"
    }
   }
  },
  {
   "cell_type": "code",
   "execution_count": 4,
   "outputs": [
    {
     "name": "stdout",
     "output_type": "stream",
     "text": [
      "101\n"
     ]
    }
   ],
   "source": [
    "print(len(data))"
   ],
   "metadata": {
    "collapsed": false,
    "pycharm": {
     "name": "#%%\n"
    }
   }
  },
  {
   "cell_type": "code",
   "execution_count": 77,
   "outputs": [],
   "source": [
    "data = []\n",
    "with open('data/raw_source/correction_dialogue_zh/dev.csv', 'r', encoding='utf-8') as f:\n",
    "    reader = csv.DictReader(f)\n",
    "    for item in reader:\n",
    "        data.append(item)\n",
    "\n",
    "for i in range(len(data)):\n",
    "    sample = data[i]\n",
    "    source_sentence = ast.literal_eval(sample['Input.src_tokens'])\n",
    "    target_sentence = ast.literal_eval(sample['Input.tar_tokens'])\n",
    "    alignment = json.loads(sample['Answer.alignment'])"
   ],
   "metadata": {
    "collapsed": false,
    "pycharm": {
     "name": "#%%\n"
    }
   }
  },
  {
   "cell_type": "code",
   "execution_count": null,
   "outputs": [],
   "source": [],
   "metadata": {
    "collapsed": false,
    "pycharm": {
     "name": "#%%\n"
    }
   }
  },
  {
   "cell_type": "code",
   "execution_count": null,
   "outputs": [],
   "source": [],
   "metadata": {
    "collapsed": false,
    "pycharm": {
     "name": "#%%\n"
    }
   }
  },
  {
   "cell_type": "code",
   "execution_count": null,
   "outputs": [],
   "source": [],
   "metadata": {
    "collapsed": false,
    "pycharm": {
     "name": "#%%\n"
    }
   }
  },
  {
   "cell_type": "code",
   "execution_count": null,
   "outputs": [],
   "source": [],
   "metadata": {
    "collapsed": false,
    "pycharm": {
     "name": "#%%\n"
    }
   }
  },
  {
   "cell_type": "code",
   "execution_count": 81,
   "outputs": [],
   "source": [
    "all_dev_test = []\n",
    "# with open('data/raw_source/dialogue_zh/train_temp.pkl', 'rb') as f:\n",
    "#     all_dev_test.extend(pkl.load(f))\n",
    "# with open('data/raw_source/dialogue/dev_temp.pkl', 'rb') as f:\n",
    "#     all_dev_test.extend(pkl.load(f))\n",
    "with open('data/raw_source/dialogue/test_temp.pkl', 'rb') as f:\n",
    "    all_dev_test.extend(pkl.load(f))"
   ],
   "metadata": {
    "collapsed": false,
    "pycharm": {
     "name": "#%%\n"
    }
   }
  },
  {
   "cell_type": "code",
   "execution_count": 85,
   "outputs": [
    {
     "name": "stdout",
     "output_type": "stream",
     "text": [
      "{'sentences': [['Penny', ':', 'There', 'you', 'go', '.', 'You', \"'re\", 'all', 'done', '!'], ['Amy', ':', 'That', 'was', \"n't\", 'so', 'bad', '.', 'Nice', '.', 'Boy', ',', 'if', 'my', 'mom', 'could', 'see', 'me', 'now', ',', 'she', \"'d\", 'lock', 'me', 'in', 'the', 'sin', 'closet', '.'], ['Bernadette', ':', 'That', \"'s\", 'a', 'joke', ',', 'right', '?'], ['Amy', ':', 'Actually', ',', 'the', 'joke', 'was', 'on', 'her', '.', 'I', 'could', 'still', 'see', 'the', 'TV', 'through', 'the', 'slats', '.'], ['Penny', ':', 'I', \"'m\", 'starting', 'to', 'see', 'why', 'you', 'and', 'your', 'mom', 'are', \"n't\", 'very', 'close', '.'], ['Bernadette', ':', 'Bet', 'she', \"'d\", 'still', 'tell', 'her', 'if', 'she', 'got', 'married', '.'], ['Penny', ':', 'You', \"'re\", 'not', 'gon', 'na', 'let', 'this', 'go', ',', 'are', 'you', '?'], ['Amy', ':', 'Well', ',', 'it', \"'s\", 'kind', 'of', 'sad', 'that', 'they', 'do', \"n't\", 'know', '.', 'I', 'mean', ',', 'they', 'love', 'Leonard', '.'], ['Penny', ':', 'Fine', ',', 'you', 'want', 'me', 'to', 'call', '?', 'I', \"'ll\", 'call', '.', 'Why', 'am', 'I', 'so', 'nervous', '?'], ['Bernadette', ':', 'It', \"'s\", 'understandable', '.', 'Amy', 'was', 'afraid', 'to', 'tell', 'her', 'mom', 'she', 'broke', 'up', 'with', 'Sheldon', '.'], ['Penny', ':', 'Yeah', '?', 'How', 'did', 'it', 'go', '?', 'Did', 'she', 'make', 'you', 'crawl', 'into', 'the', 'breaking', '-', 'up', 'drawer', '?'], ['Amy', ':', 'Uh', ',', 'well', ',', 'actually', ',', 'to', 'be', 'honest', '...', 'I', '-', 'I', 'have', \"n't\", 'told', 'her', 'yet', '.'], ['Penny', ':', 'You', \"'ve\", 'been', 'giving', 'me', 'a', 'hard', 'time', 'and', 'you', 'have', \"n't\", 'even', 'told', 'your', 'mom', 'about', 'Sheldon', '?'], ['Amy', ':', 'I', \"'m\", 'feeling', 'a', 'little', 'dizzy', 'from', 'all', 'the', 'blood', 'loss', '.', 'I', 'do', \"n't\", 'know', 'what', 'you', \"'re\", 'talking', 'about', '.'], ['Penny', ':', 'Fine', '.', 'I', \"'m\", 'calling', 'home', ',', 'but', 'when', 'I', \"'m\", 'done', ',', 'you', \"'re\", 'calling', 'your', 'mother', '.'], ['Amy', ':', 'Easy', 'for', 'you', 'to', 'say', '.', 'You', 'never', 'had', 'to', 'watch', '60', 'Minutes', 'like', 'this', '.'], ['Penny', ':', 'Hey', ',', 'Daddy', '.'], ['Penny ’s Dad', ':', 'Hey', ',', 'slugger', '.', 'How', \"'s\", 'my', 'girl', '?'], ['Penny', ':', 'Uh', ',', 'good', '.', 'Is', 'Mom', 'around', '?'], ['Penny ’s Dad', ':', 'Ah', ',', 'she', 'took', 'your', 'brother', 'out', 'to', 'celebrate', '.', 'He', 'just', 'got', 'his', 'tenth', 'one', '-', 'month', 'sober', 'chip', '.', 'Yeah', ',', 'she', \"'s\", 'gon', 'na', 'make', 'him', 'a', 'little', 'necklace', '.'], ['Penny', ':', 'Okay', ',', 'I', \"'ll\", 'talk', 'to', 'her', 'later', '.', 'Uh', ',', 'Dad', ',', 'there', \"'s\", 'something', 'I', 'need', 'to', 'tell', 'you', '.', 'Leonard', 'and', 'I', 'got', 'married', '.'], ['Penny ’s Dad', ':', 'You', 'did', '?'], ['Penny', ':', 'Last', 'week', '.', 'I', \"'m\", 'sorry', ',', 'I', 'should', \"'ve\", 'told', 'you', '.', 'It', 'was', 'a', 'spur', 'of', 'the', 'moment', 'thing', '.', 'I', 'feel', 'terrible', '.', 'Please', 'do', \"n't\", 'be', 'too', 'disappointed', '.'], ['Penny ’s Dad', ':', 'Are', 'you', 'happy', '?'], ['Penny', ':', 'Very', '.', 'Leonard', 'is', 'so', 'great', '.'], ['Penny ’s Dad', ':', 'Well', ',', 'then', 'I', \"'m\", 'happy', 'for', 'you', '.'], ['Penny', ':', 'Aw', ',', 'thank', 'you', ',', 'Daddy', '.', 'That', 'means', 'so', 'much', '.'], ['Penny ’s Dad', ':', 'Well', ',', 'I', 'understand', 'it', \"'s\", 'hard', 'to', 'tell', 'someone', 'something', 'if', 'you', 'think', 'it', \"'s\", 'gon', 'na', 'upset', \"'em\", '.'], ['Penny', ':', 'It', 'is', '.', 'You', \"'re\", 'the', 'best', 'dad', 'ever', '.'], ['Penny ’s Dad', ':', 'Yeah', '.', 'Uh', ',', 'hold', 'that', 'thought', '.', 'I', \"'ve\", 'been', 'sitting', 'on', 'a', 'little', 'news', 'myself', '.'], ['Penny', ':', 'Well', ',', 'what', 'is', 'it', '?'], ['Penny ’s Dad', ':', 'You', 'know', 'that', 'rototiller', 'I', 'got', 'for', 'the', 'tractor', '?'], ['Penny', ':', 'No', '.'], ['Penny ’s Dad', ':', 'Oh', ',', 'you', 'should', 'see', 'it', '.', 'It', 'is', 'a', 'beautiful', 'piece', 'of', 'machinery', '.', 'Anyway', ',', 'uh', '...', 'I', 'backed', 'over', 'your', 'pet', 'pig', 'with', 'it', '.'], ['Penny', ':', 'Moondance', '?'], ['Penny ’s Dad', ':', 'Yeah', ',', 'he', \"'s\", ',', 'uh', ',', 'not', 'dancing', 'anymore', '.'], ['Penny', ':', 'You', 'killed', 'my', 'pig', '?'], ['Penny ’s Dad', ':', 'I', 'did', 'not', 'kill', 'him', '.', 'The', 'vet', 'took', 'care', 'of', 'that', '.'], ['Penny', ':', 'When', '?'], ['Penny ’s Dad', ':', 'Oh', '...', 'ten', ',', '12', 'months', 'ago', '.'], ['Penny', ':', 'You', 'did', \"n't\", 'tell', 'me', 'for', 'a', 'year', '?'], ['Penny ’s Dad', ':', 'Well', ',', 'apple', 'does', \"n't\", 'fall', 'far', 'from', 'the', 'tree', ',', 'does', 'it', '?', 'Love', 'ya', ',', 'slugger', '.', 'Got', 'ta', 'go', '!'], ['Bernadette', ':', 'Okay', ',', 'Amy', ',', 'your', 'turn', '.']], 'query_spans': [{'sentenceIndex': 0, 'startToken': 2, 'endToken': 3}, {'sentenceIndex': 0, 'startToken': 3, 'endToken': 4}, {'sentenceIndex': 0, 'startToken': 6, 'endToken': 7}, {'sentenceIndex': 0, 'startToken': 8, 'endToken': 9}, {'sentenceIndex': 1, 'startToken': 2, 'endToken': 3}, {'sentenceIndex': 1, 'startToken': 13, 'endToken': 14}, {'sentenceIndex': 1, 'startToken': 13, 'endToken': 15}, {'sentenceIndex': 1, 'startToken': 17, 'endToken': 18}, {'sentenceIndex': 1, 'startToken': 20, 'endToken': 21}, {'sentenceIndex': 1, 'startToken': 23, 'endToken': 24}, {'sentenceIndex': 1, 'startToken': 25, 'endToken': 28}, {'sentenceIndex': 2, 'startToken': 2, 'endToken': 3}, {'sentenceIndex': 2, 'startToken': 4, 'endToken': 6}, {'sentenceIndex': 3, 'startToken': 4, 'endToken': 6}, {'sentenceIndex': 3, 'startToken': 8, 'endToken': 9}, {'sentenceIndex': 3, 'startToken': 10, 'endToken': 11}, {'sentenceIndex': 3, 'startToken': 14, 'endToken': 16}, {'sentenceIndex': 3, 'startToken': 17, 'endToken': 19}, {'sentenceIndex': 4, 'startToken': 2, 'endToken': 3}, {'sentenceIndex': 4, 'startToken': 8, 'endToken': 9}, {'sentenceIndex': 4, 'startToken': 8, 'endToken': 12}, {'sentenceIndex': 4, 'startToken': 10, 'endToken': 11}, {'sentenceIndex': 4, 'startToken': 10, 'endToken': 12}, {'sentenceIndex': 5, 'startToken': 3, 'endToken': 4}, {'sentenceIndex': 5, 'startToken': 7, 'endToken': 8}, {'sentenceIndex': 5, 'startToken': 9, 'endToken': 10}, {'sentenceIndex': 6, 'startToken': 2, 'endToken': 3}, {'sentenceIndex': 6, 'startToken': 8, 'endToken': 9}, {'sentenceIndex': 6, 'startToken': 12, 'endToken': 13}, {'sentenceIndex': 7, 'startToken': 4, 'endToken': 5}, {'sentenceIndex': 7, 'startToken': 10, 'endToken': 11}, {'sentenceIndex': 7, 'startToken': 15, 'endToken': 16}, {'sentenceIndex': 7, 'startToken': 18, 'endToken': 19}, {'sentenceIndex': 7, 'startToken': 20, 'endToken': 21}, {'sentenceIndex': 8, 'startToken': 4, 'endToken': 5}, {'sentenceIndex': 8, 'startToken': 6, 'endToken': 7}, {'sentenceIndex': 8, 'startToken': 10, 'endToken': 11}, {'sentenceIndex': 8, 'startToken': 16, 'endToken': 17}, {'sentenceIndex': 9, 'startToken': 2, 'endToken': 3}, {'sentenceIndex': 9, 'startToken': 6, 'endToken': 7}, {'sentenceIndex': 9, 'startToken': 11, 'endToken': 13}, {'sentenceIndex': 9, 'startToken': 11, 'endToken': 12}, {'sentenceIndex': 9, 'startToken': 13, 'endToken': 14}, {'sentenceIndex': 9, 'startToken': 17, 'endToken': 18}, {'sentenceIndex': 10, 'startToken': 6, 'endToken': 7}, {'sentenceIndex': 10, 'startToken': 10, 'endToken': 11}, {'sentenceIndex': 10, 'startToken': 12, 'endToken': 13}, {'sentenceIndex': 10, 'startToken': 15, 'endToken': 20}, {'sentenceIndex': 11, 'startToken': 12, 'endToken': 15}, {'sentenceIndex': 11, 'startToken': 12, 'endToken': 13}, {'sentenceIndex': 11, 'startToken': 14, 'endToken': 15}, {'sentenceIndex': 11, 'startToken': 18, 'endToken': 19}, {'sentenceIndex': 12, 'startToken': 2, 'endToken': 3}, {'sentenceIndex': 12, 'startToken': 6, 'endToken': 7}, {'sentenceIndex': 12, 'startToken': 7, 'endToken': 10}, {'sentenceIndex': 12, 'startToken': 11, 'endToken': 12}, {'sentenceIndex': 12, 'startToken': 16, 'endToken': 18}, {'sentenceIndex': 12, 'startToken': 16, 'endToken': 17}, {'sentenceIndex': 12, 'startToken': 19, 'endToken': 20}, {'sentenceIndex': 13, 'startToken': 2, 'endToken': 3}, {'sentenceIndex': 13, 'startToken': 5, 'endToken': 7}, {'sentenceIndex': 13, 'startToken': 9, 'endToken': 13}, {'sentenceIndex': 13, 'startToken': 14, 'endToken': 15}, {'sentenceIndex': 13, 'startToken': 18, 'endToken': 19}, {'sentenceIndex': 13, 'startToken': 19, 'endToken': 20}, {'sentenceIndex': 14, 'startToken': 4, 'endToken': 5}, {'sentenceIndex': 14, 'startToken': 11, 'endToken': 12}, {'sentenceIndex': 14, 'startToken': 15, 'endToken': 16}, {'sentenceIndex': 14, 'startToken': 18, 'endToken': 20}, {'sentenceIndex': 14, 'startToken': 18, 'endToken': 19}, {'sentenceIndex': 15, 'startToken': 4, 'endToken': 5}, {'sentenceIndex': 15, 'startToken': 8, 'endToken': 9}, {'sentenceIndex': 15, 'startToken': 13, 'endToken': 15}, {'sentenceIndex': 15, 'startToken': 16, 'endToken': 17}, {'sentenceIndex': 16, 'startToken': 4, 'endToken': 5}, {'sentenceIndex': 17, 'startToken': 4, 'endToken': 5}, {'sentenceIndex': 17, 'startToken': 8, 'endToken': 9}, {'sentenceIndex': 17, 'startToken': 8, 'endToken': 10}, {'sentenceIndex': 18, 'startToken': 7, 'endToken': 8}, {'sentenceIndex': 19, 'startToken': 4, 'endToken': 5}, {'sentenceIndex': 19, 'startToken': 6, 'endToken': 7}, {'sentenceIndex': 19, 'startToken': 6, 'endToken': 8}, {'sentenceIndex': 19, 'startToken': 12, 'endToken': 13}, {'sentenceIndex': 19, 'startToken': 15, 'endToken': 22}, {'sentenceIndex': 19, 'startToken': 15, 'endToken': 16}, {'sentenceIndex': 19, 'startToken': 25, 'endToken': 26}, {'sentenceIndex': 19, 'startToken': 30, 'endToken': 31}, {'sentenceIndex': 19, 'startToken': 31, 'endToken': 34}, {'sentenceIndex': 20, 'startToken': 4, 'endToken': 5}, {'sentenceIndex': 20, 'startToken': 8, 'endToken': 9}, {'sentenceIndex': 20, 'startToken': 13, 'endToken': 14}, {'sentenceIndex': 20, 'startToken': 15, 'endToken': 16}, {'sentenceIndex': 20, 'startToken': 17, 'endToken': 23}, {'sentenceIndex': 20, 'startToken': 17, 'endToken': 18}, {'sentenceIndex': 20, 'startToken': 18, 'endToken': 19}, {'sentenceIndex': 20, 'startToken': 22, 'endToken': 23}, {'sentenceIndex': 20, 'startToken': 24, 'endToken': 27}, {'sentenceIndex': 20, 'startToken': 26, 'endToken': 27}, {'sentenceIndex': 21, 'startToken': 2, 'endToken': 3}, {'sentenceIndex': 22, 'startToken': 2, 'endToken': 4}, {'sentenceIndex': 22, 'startToken': 5, 'endToken': 6}, {'sentenceIndex': 22, 'startToken': 9, 'endToken': 10}, {'sentenceIndex': 22, 'startToken': 13, 'endToken': 14}, {'sentenceIndex': 22, 'startToken': 15, 'endToken': 16}, {'sentenceIndex': 22, 'startToken': 17, 'endToken': 23}, {'sentenceIndex': 22, 'startToken': 20, 'endToken': 22}, {'sentenceIndex': 22, 'startToken': 24, 'endToken': 25}, {'sentenceIndex': 23, 'startToken': 3, 'endToken': 4}, {'sentenceIndex': 24, 'startToken': 4, 'endToken': 5}, {'sentenceIndex': 25, 'startToken': 5, 'endToken': 6}, {'sentenceIndex': 25, 'startToken': 9, 'endToken': 10}, {'sentenceIndex': 26, 'startToken': 5, 'endToken': 6}, {'sentenceIndex': 26, 'startToken': 7, 'endToken': 8}, {'sentenceIndex': 26, 'startToken': 9, 'endToken': 10}, {'sentenceIndex': 26, 'startToken': 11, 'endToken': 13}, {'sentenceIndex': 27, 'startToken': 4, 'endToken': 5}, {'sentenceIndex': 27, 'startToken': 6, 'endToken': 7}, {'sentenceIndex': 27, 'startToken': 11, 'endToken': 12}, {'sentenceIndex': 27, 'startToken': 12, 'endToken': 13}, {'sentenceIndex': 27, 'startToken': 14, 'endToken': 15}, {'sentenceIndex': 27, 'startToken': 16, 'endToken': 17}, {'sentenceIndex': 27, 'startToken': 21, 'endToken': 22}, {'sentenceIndex': 28, 'startToken': 2, 'endToken': 3}, {'sentenceIndex': 28, 'startToken': 5, 'endToken': 6}, {'sentenceIndex': 28, 'startToken': 7, 'endToken': 11}, {'sentenceIndex': 29, 'startToken': 7, 'endToken': 9}, {'sentenceIndex': 29, 'startToken': 10, 'endToken': 11}, {'sentenceIndex': 29, 'startToken': 15, 'endToken': 18}, {'sentenceIndex': 29, 'startToken': 18, 'endToken': 19}, {'sentenceIndex': 30, 'startToken': 4, 'endToken': 5}, {'sentenceIndex': 30, 'startToken': 6, 'endToken': 7}, {'sentenceIndex': 31, 'startToken': 2, 'endToken': 3}, {'sentenceIndex': 31, 'startToken': 4, 'endToken': 11}, {'sentenceIndex': 31, 'startToken': 6, 'endToken': 7}, {'sentenceIndex': 31, 'startToken': 9, 'endToken': 11}, {'sentenceIndex': 33, 'startToken': 4, 'endToken': 5}, {'sentenceIndex': 33, 'startToken': 7, 'endToken': 8}, {'sentenceIndex': 33, 'startToken': 9, 'endToken': 10}, {'sentenceIndex': 33, 'startToken': 11, 'endToken': 16}, {'sentenceIndex': 33, 'startToken': 15, 'endToken': 16}, {'sentenceIndex': 33, 'startToken': 21, 'endToken': 22}, {'sentenceIndex': 33, 'startToken': 24, 'endToken': 25}, {'sentenceIndex': 33, 'startToken': 24, 'endToken': 27}, {'sentenceIndex': 33, 'startToken': 28, 'endToken': 29}, {'sentenceIndex': 34, 'startToken': 2, 'endToken': 3}, {'sentenceIndex': 35, 'startToken': 4, 'endToken': 5}, {'sentenceIndex': 36, 'startToken': 2, 'endToken': 3}, {'sentenceIndex': 36, 'startToken': 4, 'endToken': 6}, {'sentenceIndex': 36, 'startToken': 4, 'endToken': 5}, {'sentenceIndex': 37, 'startToken': 2, 'endToken': 3}, {'sentenceIndex': 37, 'startToken': 6, 'endToken': 7}, {'sentenceIndex': 37, 'startToken': 8, 'endToken': 10}, {'sentenceIndex': 37, 'startToken': 11, 'endToken': 12}, {'sentenceIndex': 37, 'startToken': 13, 'endToken': 14}, {'sentenceIndex': 39, 'startToken': 4, 'endToken': 8}, {'sentenceIndex': 40, 'startToken': 2, 'endToken': 3}, {'sentenceIndex': 40, 'startToken': 6, 'endToken': 7}, {'sentenceIndex': 40, 'startToken': 8, 'endToken': 10}, {'sentenceIndex': 41, 'startToken': 4, 'endToken': 5}, {'sentenceIndex': 41, 'startToken': 10, 'endToken': 12}, {'sentenceIndex': 41, 'startToken': 14, 'endToken': 15}, {'sentenceIndex': 41, 'startToken': 17, 'endToken': 18}, {'sentenceIndex': 41, 'startToken': 19, 'endToken': 20}, {'sentenceIndex': 42, 'startToken': 4, 'endToken': 5}, {'sentenceIndex': 42, 'startToken': 6, 'endToken': 7}, {'sentenceIndex': 42, 'startToken': 6, 'endToken': 8}], 'answer_spans': [{'querySpan': {'sentenceIndex': 0, 'startToken': 2, 'endToken': 3}, 'notPresent': True, 'notMention': False, 'notSure': False, 'span_list': [], 'currentAnswerIndex': 0, 'status': 'ok'}, {'querySpan': {'sentenceIndex': 0, 'startToken': 3, 'endToken': 4}, 'notPresent': False, 'notMention': False, 'notSure': False, 'span_list': [{'sentenceIndex': 1, 'startToken': 0, 'endToken': 1}], 'currentAnswerIndex': 0, 'status': 'ok'}, {'querySpan': {'sentenceIndex': 0, 'startToken': 6, 'endToken': 7}, 'notPresent': False, 'notMention': False, 'notSure': False, 'span_list': [{'sentenceIndex': 1, 'startToken': 0, 'endToken': 1}], 'currentAnswerIndex': 0, 'status': 'ok'}, {'querySpan': {'sentenceIndex': 0, 'startToken': 8, 'endToken': 9}, 'notPresent': False, 'notMention': True, 'notSure': False, 'span_list': [], 'currentAnswerIndex': 0, 'status': 'ok'}, {'querySpan': {'sentenceIndex': 1, 'startToken': 2, 'endToken': 3}, 'notPresent': True, 'notMention': False, 'notSure': False, 'span_list': [], 'currentAnswerIndex': 0, 'status': 'ok'}, {'querySpan': {'sentenceIndex': 1, 'startToken': 13, 'endToken': 14}, 'notPresent': False, 'notMention': False, 'notSure': False, 'span_list': [{'sentenceIndex': 1, 'startToken': 0, 'endToken': 1}], 'currentAnswerIndex': 0, 'status': 'ok'}, {'querySpan': {'sentenceIndex': 1, 'startToken': 13, 'endToken': 15}, 'notPresent': True, 'notMention': False, 'notSure': False, 'span_list': [], 'currentAnswerIndex': 0, 'status': 'ok'}, {'querySpan': {'sentenceIndex': 1, 'startToken': 17, 'endToken': 18}, 'notPresent': False, 'notMention': False, 'notSure': False, 'span_list': [{'sentenceIndex': 1, 'startToken': 0, 'endToken': 1}], 'currentAnswerIndex': 0, 'status': 'ok'}, {'querySpan': {'sentenceIndex': 1, 'startToken': 20, 'endToken': 21}, 'notPresent': False, 'notMention': False, 'notSure': False, 'span_list': [{'sentenceIndex': 1, 'startToken': 13, 'endToken': 15}], 'currentAnswerIndex': 0, 'status': 'ok'}, {'querySpan': {'sentenceIndex': 1, 'startToken': 23, 'endToken': 24}, 'notPresent': False, 'notMention': False, 'notSure': False, 'span_list': [{'sentenceIndex': 1, 'startToken': 0, 'endToken': 1}], 'currentAnswerIndex': 0, 'status': 'ok'}, {'querySpan': {'sentenceIndex': 1, 'startToken': 25, 'endToken': 28}, 'notPresent': True, 'notMention': False, 'notSure': False, 'span_list': [], 'currentAnswerIndex': 0, 'status': 'ok'}, {'querySpan': {'sentenceIndex': 2, 'startToken': 2, 'endToken': 3}, 'notPresent': True, 'notMention': False, 'notSure': False, 'span_list': [], 'currentAnswerIndex': 0, 'status': 'ok'}, {'querySpan': {'sentenceIndex': 2, 'startToken': 4, 'endToken': 6}, 'notPresent': False, 'notMention': False, 'notSure': False, 'span_list': [{'sentenceIndex': 2, 'startToken': 2, 'endToken': 3}], 'currentAnswerIndex': 0, 'status': 'ok'}, {'querySpan': {'sentenceIndex': 3, 'startToken': 4, 'endToken': 6}, 'notPresent': True, 'notMention': False, 'notSure': False, 'span_list': [], 'currentAnswerIndex': 0, 'status': 'ok'}, {'querySpan': {'sentenceIndex': 3, 'startToken': 8, 'endToken': 9}, 'notPresent': False, 'notMention': False, 'notSure': False, 'span_list': [{'sentenceIndex': 1, 'startToken': 13, 'endToken': 15}], 'currentAnswerIndex': 0, 'status': 'ok'}, {'querySpan': {'sentenceIndex': 3, 'startToken': 10, 'endToken': 11}, 'notPresent': False, 'notMention': False, 'notSure': False, 'span_list': [{'sentenceIndex': 3, 'startToken': 0, 'endToken': 1}], 'currentAnswerIndex': 0, 'status': 'ok'}, {'querySpan': {'sentenceIndex': 3, 'startToken': 14, 'endToken': 16}, 'notPresent': True, 'notMention': False, 'notSure': False, 'span_list': [], 'currentAnswerIndex': 0, 'status': 'ok'}, {'querySpan': {'sentenceIndex': 3, 'startToken': 17, 'endToken': 19}, 'notPresent': True, 'notMention': False, 'notSure': False, 'span_list': [], 'currentAnswerIndex': 0, 'status': 'ok'}, {'querySpan': {'sentenceIndex': 4, 'startToken': 2, 'endToken': 3}, 'notPresent': False, 'notMention': False, 'notSure': False, 'span_list': [{'sentenceIndex': 4, 'startToken': 0, 'endToken': 1}], 'currentAnswerIndex': 0, 'status': 'ok'}, {'querySpan': {'sentenceIndex': 4, 'startToken': 8, 'endToken': 9}, 'notPresent': False, 'notMention': False, 'notSure': False, 'span_list': [{'sentenceIndex': 3, 'startToken': 0, 'endToken': 1}], 'currentAnswerIndex': 0, 'status': 'ok'}, {'querySpan': {'sentenceIndex': 4, 'startToken': 8, 'endToken': 12}, 'notPresent': False, 'notMention': False, 'notSure': False, 'span_list': [{'sentenceIndex': 3, 'startToken': 0, 'endToken': 1}, {'sentenceIndex': 1, 'startToken': 13, 'endToken': 15}], 'currentAnswerIndex': 1, 'status': 'ok'}, {'querySpan': {'sentenceIndex': 4, 'startToken': 10, 'endToken': 11}, 'notPresent': False, 'notMention': False, 'notSure': False, 'span_list': [{'sentenceIndex': 3, 'startToken': 0, 'endToken': 1}], 'currentAnswerIndex': 0, 'status': 'ok'}, {'querySpan': {'sentenceIndex': 4, 'startToken': 10, 'endToken': 12}, 'notPresent': False, 'notMention': False, 'notSure': False, 'span_list': [{'sentenceIndex': 1, 'startToken': 13, 'endToken': 15}], 'currentAnswerIndex': 0, 'status': 'ok'}, {'querySpan': {'sentenceIndex': 5, 'startToken': 3, 'endToken': 4}, 'notPresent': False, 'notMention': False, 'notSure': False, 'span_list': [{'sentenceIndex': 3, 'startToken': 0, 'endToken': 1}], 'currentAnswerIndex': 0, 'status': 'ok'}, {'querySpan': {'sentenceIndex': 5, 'startToken': 7, 'endToken': 8}, 'notPresent': False, 'notMention': False, 'notSure': False, 'span_list': [{'sentenceIndex': 4, 'startToken': 10, 'endToken': 12}], 'currentAnswerIndex': 0, 'status': 'ok'}, {'querySpan': {'sentenceIndex': 5, 'startToken': 9, 'endToken': 10}, 'notPresent': False, 'notMention': False, 'notSure': False, 'span_list': [{'sentenceIndex': 3, 'startToken': 0, 'endToken': 1}], 'currentAnswerIndex': 0, 'status': 'ok'}, {'querySpan': {'sentenceIndex': 6, 'startToken': 2, 'endToken': 3}, 'notPresent': False, 'notMention': False, 'notSure': False, 'span_list': [{'sentenceIndex': 5, 'startToken': 0, 'endToken': 1}], 'currentAnswerIndex': 0, 'status': 'ok'}, {'querySpan': {'sentenceIndex': 6, 'startToken': 8, 'endToken': 9}, 'notPresent': True, 'notMention': False, 'notSure': False, 'span_list': [], 'currentAnswerIndex': 0, 'status': 'ok'}, {'querySpan': {'sentenceIndex': 6, 'startToken': 12, 'endToken': 13}, 'notPresent': False, 'notMention': False, 'notSure': False, 'span_list': [{'sentenceIndex': 5, 'startToken': 0, 'endToken': 1}], 'currentAnswerIndex': 0, 'status': 'ok'}, {'querySpan': {'sentenceIndex': 7, 'startToken': 4, 'endToken': 5}, 'notPresent': True, 'notMention': False, 'notSure': False, 'span_list': [], 'currentAnswerIndex': 0, 'status': 'ok'}, {'querySpan': {'sentenceIndex': 7, 'startToken': 10, 'endToken': 11}, 'notPresent': True, 'notMention': False, 'notSure': False, 'span_list': [], 'currentAnswerIndex': 0, 'status': 'ok'}, {'querySpan': {'sentenceIndex': 7, 'startToken': 15, 'endToken': 16}, 'notPresent': False, 'notMention': False, 'notSure': False, 'span_list': [{'sentenceIndex': 7, 'startToken': 0, 'endToken': 1}], 'currentAnswerIndex': 0, 'status': 'ok'}, {'querySpan': {'sentenceIndex': 7, 'startToken': 18, 'endToken': 19}, 'notPresent': False, 'notMention': False, 'notSure': False, 'span_list': [{'sentenceIndex': 7, 'startToken': 10, 'endToken': 11}], 'currentAnswerIndex': 0, 'status': 'ok'}, {'querySpan': {'sentenceIndex': 7, 'startToken': 20, 'endToken': 21}, 'notPresent': True, 'notMention': False, 'notSure': False, 'span_list': [], 'currentAnswerIndex': 0, 'status': 'ok'}, {'querySpan': {'sentenceIndex': 8, 'startToken': 4, 'endToken': 5}, 'notPresent': False, 'notMention': False, 'notSure': False, 'span_list': [{'sentenceIndex': 7, 'startToken': 0, 'endToken': 1}], 'currentAnswerIndex': 0, 'status': 'ok'}, {'querySpan': {'sentenceIndex': 8, 'startToken': 6, 'endToken': 7}, 'notPresent': False, 'notMention': False, 'notSure': False, 'span_list': [{'sentenceIndex': 8, 'startToken': 0, 'endToken': 1}], 'currentAnswerIndex': 0, 'status': 'ok'}, {'querySpan': {'sentenceIndex': 8, 'startToken': 10, 'endToken': 11}, 'notPresent': False, 'notMention': False, 'notSure': False, 'span_list': [{'sentenceIndex': 8, 'startToken': 0, 'endToken': 1}], 'currentAnswerIndex': 0, 'status': 'ok'}, {'querySpan': {'sentenceIndex': 8, 'startToken': 16, 'endToken': 17}, 'notPresent': False, 'notMention': False, 'notSure': False, 'span_list': [{'sentenceIndex': 8, 'startToken': 0, 'endToken': 1}], 'currentAnswerIndex': 0, 'status': 'ok'}, {'querySpan': {'sentenceIndex': 9, 'startToken': 2, 'endToken': 3}, 'notPresent': True, 'notMention': False, 'notSure': False, 'span_list': [], 'currentAnswerIndex': 0, 'status': 'ok'}, {'querySpan': {'sentenceIndex': 9, 'startToken': 6, 'endToken': 7}, 'notPresent': False, 'notMention': False, 'notSure': False, 'span_list': [{'sentenceIndex': 7, 'startToken': 0, 'endToken': 1}], 'currentAnswerIndex': 0, 'status': 'ok'}, {'querySpan': {'sentenceIndex': 9, 'startToken': 11, 'endToken': 13}, 'notPresent': False, 'notMention': False, 'notSure': False, 'span_list': [{'sentenceIndex': 1, 'startToken': 13, 'endToken': 15}], 'currentAnswerIndex': 0, 'status': 'ok'}, {'querySpan': {'sentenceIndex': 9, 'startToken': 11, 'endToken': 12}, 'notPresent': False, 'notMention': False, 'notSure': False, 'span_list': [{'sentenceIndex': 7, 'startToken': 0, 'endToken': 1}], 'currentAnswerIndex': 0, 'status': 'ok'}, {'querySpan': {'sentenceIndex': 9, 'startToken': 13, 'endToken': 14}, 'notPresent': False, 'notMention': False, 'notSure': False, 'span_list': [{'sentenceIndex': 7, 'startToken': 0, 'endToken': 1}], 'currentAnswerIndex': 0, 'status': 'ok'}, {'querySpan': {'sentenceIndex': 9, 'startToken': 17, 'endToken': 18}, 'notPresent': True, 'notMention': False, 'notSure': False, 'span_list': [], 'currentAnswerIndex': 0, 'status': 'ok'}, {'querySpan': {'sentenceIndex': 10, 'startToken': 6, 'endToken': 7}, 'notPresent': True, 'notMention': False, 'notSure': False, 'span_list': [], 'currentAnswerIndex': 0, 'status': 'ok'}, {'querySpan': {'sentenceIndex': 10, 'startToken': 10, 'endToken': 11}, 'notPresent': False, 'notMention': False, 'notSure': False, 'span_list': [{'sentenceIndex': 9, 'startToken': 11, 'endToken': 13}], 'currentAnswerIndex': 0, 'status': 'ok'}, {'querySpan': {'sentenceIndex': 10, 'startToken': 12, 'endToken': 13}, 'notPresent': False, 'notMention': False, 'notSure': False, 'span_list': [{'sentenceIndex': 7, 'startToken': 0, 'endToken': 1}], 'currentAnswerIndex': 0, 'status': 'ok'}, {'querySpan': {'sentenceIndex': 10, 'startToken': 15, 'endToken': 20}, 'notPresent': True, 'notMention': False, 'notSure': False, 'span_list': [], 'currentAnswerIndex': 0, 'status': 'ok'}, {'querySpan': {'sentenceIndex': 11, 'startToken': 12, 'endToken': 15}, 'notPresent': False, 'notMention': True, 'notSure': False, 'span_list': [], 'currentAnswerIndex': 0, 'status': 'ok'}, {'querySpan': {'sentenceIndex': 11, 'startToken': 12, 'endToken': 13}, 'notPresent': False, 'notMention': False, 'notSure': False, 'span_list': [{'sentenceIndex': 11, 'startToken': 0, 'endToken': 1}], 'currentAnswerIndex': 0, 'status': 'ok'}, {'querySpan': {'sentenceIndex': 11, 'startToken': 14, 'endToken': 15}, 'notPresent': False, 'notMention': False, 'notSure': False, 'span_list': [{'sentenceIndex': 11, 'startToken': 0, 'endToken': 1}], 'currentAnswerIndex': 0, 'status': 'ok'}, {'querySpan': {'sentenceIndex': 11, 'startToken': 18, 'endToken': 19}, 'notPresent': False, 'notMention': False, 'notSure': False, 'span_list': [{'sentenceIndex': 4, 'startToken': 10, 'endToken': 12}], 'currentAnswerIndex': 0, 'status': 'ok'}, {'querySpan': {'sentenceIndex': 12, 'startToken': 2, 'endToken': 3}, 'notPresent': False, 'notMention': False, 'notSure': False, 'span_list': [{'sentenceIndex': 11, 'startToken': 0, 'endToken': 1}], 'currentAnswerIndex': 0, 'status': 'ok'}, {'querySpan': {'sentenceIndex': 12, 'startToken': 6, 'endToken': 7}, 'notPresent': False, 'notMention': False, 'notSure': False, 'span_list': [{'sentenceIndex': 12, 'startToken': 0, 'endToken': 1}], 'currentAnswerIndex': 0, 'status': 'ok'}, {'querySpan': {'sentenceIndex': 12, 'startToken': 7, 'endToken': 10}, 'notPresent': True, 'notMention': False, 'notSure': False, 'span_list': [], 'currentAnswerIndex': 0, 'status': 'ok'}, {'querySpan': {'sentenceIndex': 12, 'startToken': 11, 'endToken': 12}, 'notPresent': False, 'notMention': False, 'notSure': False, 'span_list': [{'sentenceIndex': 11, 'startToken': 0, 'endToken': 1}], 'currentAnswerIndex': 0, 'status': 'ok'}, {'querySpan': {'sentenceIndex': 12, 'startToken': 16, 'endToken': 18}, 'notPresent': False, 'notMention': False, 'notSure': False, 'span_list': [{'sentenceIndex': 11, 'startToken': 18, 'endToken': 19}], 'currentAnswerIndex': 0, 'status': 'ok'}, {'querySpan': {'sentenceIndex': 12, 'startToken': 16, 'endToken': 17}, 'notPresent': False, 'notMention': False, 'notSure': False, 'span_list': [{'sentenceIndex': 11, 'startToken': 0, 'endToken': 1}], 'currentAnswerIndex': 0, 'status': 'ok'}, {'querySpan': {'sentenceIndex': 12, 'startToken': 19, 'endToken': 20}, 'notPresent': False, 'notMention': False, 'notSure': False, 'span_list': [{'sentenceIndex': 9, 'startToken': 17, 'endToken': 18}], 'currentAnswerIndex': 0, 'status': 'ok'}, {'querySpan': {'sentenceIndex': 13, 'startToken': 2, 'endToken': 3}, 'notPresent': False, 'notMention': False, 'notSure': False, 'span_list': [{'sentenceIndex': 13, 'startToken': 0, 'endToken': 1}], 'currentAnswerIndex': 0, 'status': 'ok'}, {'querySpan': {'sentenceIndex': 13, 'startToken': 5, 'endToken': 7}, 'notPresent': False, 'notMention': True, 'notSure': False, 'span_list': [], 'currentAnswerIndex': 0, 'status': 'ok'}, {'querySpan': {'sentenceIndex': 13, 'startToken': 9, 'endToken': 13}, 'notPresent': True, 'notMention': False, 'notSure': False, 'span_list': [], 'currentAnswerIndex': 0, 'status': 'ok'}, {'querySpan': {'sentenceIndex': 13, 'startToken': 14, 'endToken': 15}, 'notPresent': False, 'notMention': False, 'notSure': False, 'span_list': [{'sentenceIndex': 13, 'startToken': 0, 'endToken': 1}], 'currentAnswerIndex': 0, 'status': 'ok'}, {'querySpan': {'sentenceIndex': 13, 'startToken': 18, 'endToken': 19}, 'notPresent': True, 'notMention': False, 'notSure': False, 'span_list': [], 'currentAnswerIndex': 0, 'status': 'ok'}, {'querySpan': {'sentenceIndex': 13, 'startToken': 19, 'endToken': 20}, 'notPresent': False, 'notMention': False, 'notSure': False, 'span_list': [{'sentenceIndex': 12, 'startToken': 0, 'endToken': 1}], 'currentAnswerIndex': 0, 'status': 'ok'}, {'querySpan': {'sentenceIndex': 14, 'startToken': 4, 'endToken': 5}, 'notPresent': False, 'notMention': False, 'notSure': False, 'span_list': [{'sentenceIndex': 14, 'startToken': 0, 'endToken': 1}], 'currentAnswerIndex': 0, 'status': 'ok'}, {'querySpan': {'sentenceIndex': 14, 'startToken': 11, 'endToken': 12}, 'notPresent': False, 'notMention': False, 'notSure': False, 'span_list': [{'sentenceIndex': 14, 'startToken': 0, 'endToken': 1}], 'currentAnswerIndex': 0, 'status': 'ok'}, {'querySpan': {'sentenceIndex': 14, 'startToken': 15, 'endToken': 16}, 'notPresent': False, 'notMention': False, 'notSure': False, 'span_list': [{'sentenceIndex': 13, 'startToken': 0, 'endToken': 1}], 'currentAnswerIndex': 0, 'status': 'ok'}, {'querySpan': {'sentenceIndex': 14, 'startToken': 18, 'endToken': 20}, 'notPresent': False, 'notMention': False, 'notSure': False, 'span_list': [{'sentenceIndex': 12, 'startToken': 16, 'endToken': 18}], 'currentAnswerIndex': 0, 'status': 'ok'}, {'querySpan': {'sentenceIndex': 14, 'startToken': 18, 'endToken': 19}, 'notPresent': False, 'notMention': False, 'notSure': False, 'span_list': [{'sentenceIndex': 13, 'startToken': 0, 'endToken': 1}], 'currentAnswerIndex': 0, 'status': 'ok'}, {'querySpan': {'sentenceIndex': 15, 'startToken': 4, 'endToken': 5}, 'notPresent': False, 'notMention': False, 'notSure': False, 'span_list': [{'sentenceIndex': 14, 'startToken': 0, 'endToken': 1}], 'currentAnswerIndex': 0, 'status': 'ok'}, {'querySpan': {'sentenceIndex': 15, 'startToken': 8, 'endToken': 9}, 'notPresent': False, 'notMention': False, 'notSure': False, 'span_list': [{'sentenceIndex': 14, 'startToken': 0, 'endToken': 1}], 'currentAnswerIndex': 0, 'status': 'ok'}, {'querySpan': {'sentenceIndex': 15, 'startToken': 13, 'endToken': 15}, 'notPresent': True, 'notMention': False, 'notSure': False, 'span_list': [], 'currentAnswerIndex': 0, 'status': 'ok'}, {'querySpan': {'sentenceIndex': 15, 'startToken': 16, 'endToken': 17}, 'notPresent': True, 'notMention': False, 'notSure': False, 'span_list': [], 'currentAnswerIndex': 0, 'status': 'ok'}, {'querySpan': {'sentenceIndex': 16, 'startToken': 4, 'endToken': 5}, 'notPresent': True, 'notMention': False, 'notSure': False, 'span_list': [], 'currentAnswerIndex': 0, 'status': 'ok'}, {'querySpan': {'sentenceIndex': 17, 'startToken': 4, 'endToken': 5}, 'notPresent': False, 'notMention': False, 'notSure': False, 'span_list': [{'sentenceIndex': 16, 'startToken': 0, 'endToken': 1}], 'currentAnswerIndex': 0, 'status': 'ok'}, {'querySpan': {'sentenceIndex': 17, 'startToken': 8, 'endToken': 9}, 'notPresent': False, 'notMention': False, 'notSure': False, 'span_list': [{'sentenceIndex': 17, 'startToken': 0, 'endToken': 1}], 'currentAnswerIndex': 0, 'status': 'ok'}, {'querySpan': {'sentenceIndex': 17, 'startToken': 8, 'endToken': 10}, 'notPresent': False, 'notMention': False, 'notSure': False, 'span_list': [{'sentenceIndex': 16, 'startToken': 0, 'endToken': 1}], 'currentAnswerIndex': 0, 'status': 'ok'}, {'querySpan': {'sentenceIndex': 18, 'startToken': 7, 'endToken': 8}, 'notPresent': True, 'notMention': False, 'notSure': False, 'span_list': [], 'currentAnswerIndex': 0, 'status': 'ok'}, {'querySpan': {'sentenceIndex': 19, 'startToken': 4, 'endToken': 5}, 'notPresent': False, 'notMention': False, 'notSure': False, 'span_list': [{'sentenceIndex': 18, 'startToken': 7, 'endToken': 8}], 'currentAnswerIndex': 0, 'status': 'ok'}, {'querySpan': {'sentenceIndex': 19, 'startToken': 6, 'endToken': 7}, 'notPresent': False, 'notMention': False, 'notSure': False, 'span_list': [{'sentenceIndex': 18, 'startToken': 0, 'endToken': 1}], 'currentAnswerIndex': 0, 'status': 'ok'}, {'querySpan': {'sentenceIndex': 19, 'startToken': 6, 'endToken': 8}, 'notPresent': True, 'notMention': False, 'notSure': False, 'span_list': [], 'currentAnswerIndex': 0, 'status': 'ok'}, {'querySpan': {'sentenceIndex': 19, 'startToken': 12, 'endToken': 13}, 'notPresent': False, 'notMention': False, 'notSure': False, 'span_list': [{'sentenceIndex': 19, 'startToken': 6, 'endToken': 8}], 'currentAnswerIndex': 0, 'status': 'ok'}, {'querySpan': {'sentenceIndex': 19, 'startToken': 15, 'endToken': 22}, 'notPresent': True, 'notMention': False, 'notSure': False, 'span_list': [], 'currentAnswerIndex': 0, 'status': 'ok'}, {'querySpan': {'sentenceIndex': 19, 'startToken': 15, 'endToken': 16}, 'notPresent': False, 'notMention': False, 'notSure': False, 'span_list': [{'sentenceIndex': 19, 'startToken': 6, 'endToken': 8}], 'currentAnswerIndex': 0, 'status': 'ok'}, {'querySpan': {'sentenceIndex': 19, 'startToken': 25, 'endToken': 26}, 'notPresent': False, 'notMention': False, 'notSure': False, 'span_list': [{'sentenceIndex': 18, 'startToken': 7, 'endToken': 8}], 'currentAnswerIndex': 0, 'status': 'ok'}, {'querySpan': {'sentenceIndex': 19, 'startToken': 30, 'endToken': 31}, 'notPresent': False, 'notMention': False, 'notSure': False, 'span_list': [{'sentenceIndex': 19, 'startToken': 6, 'endToken': 8}], 'currentAnswerIndex': 0, 'status': 'ok'}, {'querySpan': {'sentenceIndex': 19, 'startToken': 31, 'endToken': 34}, 'notPresent': True, 'notMention': False, 'notSure': False, 'span_list': [], 'currentAnswerIndex': 0, 'status': 'ok'}, {'querySpan': {'sentenceIndex': 20, 'startToken': 4, 'endToken': 5}, 'notPresent': False, 'notMention': False, 'notSure': False, 'span_list': [{'sentenceIndex': 20, 'startToken': 0, 'endToken': 1}], 'currentAnswerIndex': 0, 'status': 'ok'}, {'querySpan': {'sentenceIndex': 20, 'startToken': 8, 'endToken': 9}, 'notPresent': False, 'notMention': False, 'notSure': False, 'span_list': [{'sentenceIndex': 19, 'startToken': 4, 'endToken': 5}], 'currentAnswerIndex': 0, 'status': 'ok'}, {'querySpan': {'sentenceIndex': 20, 'startToken': 13, 'endToken': 14}, 'notPresent': False, 'notMention': False, 'notSure': False, 'span_list': [{'sentenceIndex': 19, 'startToken': 0, 'endToken': 1}], 'currentAnswerIndex': 0, 'status': 'ok'}, {'querySpan': {'sentenceIndex': 20, 'startToken': 15, 'endToken': 16}, 'notPresent': True, 'notMention': False, 'notSure': False, 'span_list': [], 'currentAnswerIndex': 0, 'status': 'ok'}, {'querySpan': {'sentenceIndex': 20, 'startToken': 17, 'endToken': 23}, 'notPresent': False, 'notMention': False, 'notSure': False, 'span_list': [{'sentenceIndex': 20, 'startToken': 15, 'endToken': 16}], 'currentAnswerIndex': 0, 'status': 'ok'}, {'querySpan': {'sentenceIndex': 20, 'startToken': 17, 'endToken': 18}, 'notPresent': False, 'notMention': False, 'notSure': False, 'span_list': [{'sentenceIndex': 20, 'startToken': 15, 'endToken': 16}], 'currentAnswerIndex': 0, 'status': 'ok'}, {'querySpan': {'sentenceIndex': 20, 'startToken': 18, 'endToken': 19}, 'notPresent': False, 'notMention': False, 'notSure': False, 'span_list': [{'sentenceIndex': 20, 'startToken': 0, 'endToken': 1}], 'currentAnswerIndex': 0, 'status': 'ok'}, {'querySpan': {'sentenceIndex': 20, 'startToken': 22, 'endToken': 23}, 'notPresent': False, 'notMention': False, 'notSure': False, 'span_list': [{'sentenceIndex': 19, 'startToken': 0, 'endToken': 1}], 'currentAnswerIndex': 0, 'status': 'ok'}, {'querySpan': {'sentenceIndex': 20, 'startToken': 24, 'endToken': 27}, 'notPresent': False, 'notMention': False, 'notSure': False, 'span_list': [{'sentenceIndex': 20, 'startToken': 0, 'endToken': 1}, {'sentenceIndex': 7, 'startToken': 20, 'endToken': 21}], 'currentAnswerIndex': 1, 'status': 'ok'}, {'querySpan': {'sentenceIndex': 20, 'startToken': 26, 'endToken': 27}, 'notPresent': False, 'notMention': False, 'notSure': False, 'span_list': [{'sentenceIndex': 20, 'startToken': 0, 'endToken': 1}], 'currentAnswerIndex': 0, 'status': 'ok'}, {'querySpan': {'sentenceIndex': 21, 'startToken': 2, 'endToken': 3}, 'notPresent': False, 'notMention': False, 'notSure': False, 'span_list': [{'sentenceIndex': 20, 'startToken': 0, 'endToken': 1}], 'currentAnswerIndex': 0, 'status': 'ok'}, {'querySpan': {'sentenceIndex': 22, 'startToken': 2, 'endToken': 4}, 'notPresent': True, 'notMention': False, 'notSure': False, 'span_list': [], 'currentAnswerIndex': 0, 'status': 'ok'}, {'querySpan': {'sentenceIndex': 22, 'startToken': 5, 'endToken': 6}, 'notPresent': False, 'notMention': False, 'notSure': False, 'span_list': [{'sentenceIndex': 22, 'startToken': 0, 'endToken': 1}], 'currentAnswerIndex': 0, 'status': 'ok'}, {'querySpan': {'sentenceIndex': 22, 'startToken': 9, 'endToken': 10}, 'notPresent': False, 'notMention': False, 'notSure': False, 'span_list': [{'sentenceIndex': 22, 'startToken': 0, 'endToken': 1}], 'currentAnswerIndex': 0, 'status': 'ok'}, {'querySpan': {'sentenceIndex': 22, 'startToken': 13, 'endToken': 14}, 'notPresent': False, 'notMention': False, 'notSure': False, 'span_list': [{'sentenceIndex': 21, 'startToken': 0, 'endToken': 1}], 'currentAnswerIndex': 0, 'status': 'ok'}, {'querySpan': {'sentenceIndex': 22, 'startToken': 15, 'endToken': 16}, 'notPresent': True, 'notMention': False, 'notSure': False, 'span_list': [], 'currentAnswerIndex': 0, 'status': 'ok'}, {'querySpan': {'sentenceIndex': 22, 'startToken': 17, 'endToken': 23}, 'notPresent': False, 'notMention': False, 'notSure': False, 'span_list': [{'sentenceIndex': 22, 'startToken': 15, 'endToken': 16}], 'currentAnswerIndex': 0, 'status': 'ok'}, {'querySpan': {'sentenceIndex': 22, 'startToken': 20, 'endToken': 22}, 'notPresent': True, 'notMention': False, 'notSure': False, 'span_list': [], 'currentAnswerIndex': 0, 'status': 'ok'}, {'querySpan': {'sentenceIndex': 22, 'startToken': 24, 'endToken': 25}, 'notPresent': False, 'notMention': False, 'notSure': False, 'span_list': [{'sentenceIndex': 22, 'startToken': 0, 'endToken': 1}], 'currentAnswerIndex': 0, 'status': 'ok'}, {'querySpan': {'sentenceIndex': 23, 'startToken': 3, 'endToken': 4}, 'notPresent': False, 'notMention': False, 'notSure': False, 'span_list': [{'sentenceIndex': 22, 'startToken': 0, 'endToken': 1}], 'currentAnswerIndex': 0, 'status': 'ok'}, {'querySpan': {'sentenceIndex': 24, 'startToken': 4, 'endToken': 5}, 'notPresent': False, 'notMention': False, 'notSure': False, 'span_list': [{'sentenceIndex': 20, 'startToken': 24, 'endToken': 25}], 'currentAnswerIndex': 0, 'status': 'ok'}, {'querySpan': {'sentenceIndex': 25, 'startToken': 5, 'endToken': 6}, 'notPresent': False, 'notMention': False, 'notSure': False, 'span_list': [{'sentenceIndex': 25, 'startToken': 0, 'endToken': 1}], 'currentAnswerIndex': 0, 'status': 'ok'}, {'querySpan': {'sentenceIndex': 25, 'startToken': 9, 'endToken': 10}, 'notPresent': False, 'notMention': False, 'notSure': False, 'span_list': [{'sentenceIndex': 24, 'startToken': 0, 'endToken': 1}], 'currentAnswerIndex': 0, 'status': 'ok'}, {'querySpan': {'sentenceIndex': 26, 'startToken': 5, 'endToken': 6}, 'notPresent': False, 'notMention': False, 'notSure': False, 'span_list': [{'sentenceIndex': 25, 'startToken': 0, 'endToken': 1}], 'currentAnswerIndex': 0, 'status': 'ok'}, {'querySpan': {'sentenceIndex': 26, 'startToken': 7, 'endToken': 8}, 'notPresent': False, 'notMention': False, 'notSure': False, 'span_list': [{'sentenceIndex': 25, 'startToken': 0, 'endToken': 1}], 'currentAnswerIndex': 0, 'status': 'ok'}, {'querySpan': {'sentenceIndex': 26, 'startToken': 9, 'endToken': 10}, 'notPresent': True, 'notMention': False, 'notSure': False, 'span_list': [], 'currentAnswerIndex': 0, 'status': 'ok'}, {'querySpan': {'sentenceIndex': 26, 'startToken': 11, 'endToken': 13}, 'notPresent': True, 'notMention': False, 'notSure': False, 'span_list': [], 'currentAnswerIndex': 0, 'status': 'ok'}, {'querySpan': {'sentenceIndex': 27, 'startToken': 4, 'endToken': 5}, 'notPresent': False, 'notMention': False, 'notSure': False, 'span_list': [{'sentenceIndex': 27, 'startToken': 0, 'endToken': 1}], 'currentAnswerIndex': 0, 'status': 'ok'}, {'querySpan': {'sentenceIndex': 27, 'startToken': 6, 'endToken': 7}, 'notPresent': True, 'notMention': False, 'notSure': False, 'span_list': [], 'currentAnswerIndex': 0, 'status': 'ok'}, {'querySpan': {'sentenceIndex': 27, 'startToken': 11, 'endToken': 12}, 'notPresent': True, 'notMention': False, 'notSure': False, 'span_list': [], 'currentAnswerIndex': 0, 'status': 'ok'}, {'querySpan': {'sentenceIndex': 27, 'startToken': 12, 'endToken': 13}, 'notPresent': True, 'notMention': False, 'notSure': False, 'span_list': [], 'currentAnswerIndex': 0, 'status': 'ok'}, {'querySpan': {'sentenceIndex': 27, 'startToken': 14, 'endToken': 15}, 'notPresent': True, 'notMention': False, 'notSure': False, 'span_list': [], 'currentAnswerIndex': 0, 'status': 'ok'}, {'querySpan': {'sentenceIndex': 27, 'startToken': 16, 'endToken': 17}, 'notPresent': True, 'notMention': False, 'notSure': False, 'span_list': [], 'currentAnswerIndex': 0, 'status': 'ok'}, {'querySpan': {'sentenceIndex': 27, 'startToken': 21, 'endToken': 22}, 'notPresent': False, 'notMention': False, 'notSure': False, 'span_list': [{'sentenceIndex': 27, 'startToken': 11, 'endToken': 12}], 'currentAnswerIndex': 0, 'status': 'ok'}, {'querySpan': {'sentenceIndex': 28, 'startToken': 2, 'endToken': 3}, 'notPresent': True, 'notMention': False, 'notSure': False, 'span_list': [], 'currentAnswerIndex': 0, 'status': 'ok'}, {'querySpan': {'sentenceIndex': 28, 'startToken': 5, 'endToken': 6}, 'notPresent': False, 'notMention': False, 'notSure': False, 'span_list': [{'sentenceIndex': 27, 'startToken': 0, 'endToken': 1}], 'currentAnswerIndex': 0, 'status': 'ok'}, {'querySpan': {'sentenceIndex': 28, 'startToken': 7, 'endToken': 11}, 'notPresent': False, 'notMention': False, 'notSure': False, 'span_list': [{'sentenceIndex': 28, 'startToken': 5, 'endToken': 6}], 'currentAnswerIndex': 0, 'status': 'ok'}, {'querySpan': {'sentenceIndex': 29, 'startToken': 7, 'endToken': 9}, 'notPresent': True, 'notMention': False, 'notSure': False, 'span_list': [], 'currentAnswerIndex': 0, 'status': 'ok'}, {'querySpan': {'sentenceIndex': 29, 'startToken': 10, 'endToken': 11}, 'notPresent': False, 'notMention': False, 'notSure': False, 'span_list': [{'sentenceIndex': 29, 'startToken': 0, 'endToken': 1}], 'currentAnswerIndex': 0, 'status': 'ok'}, {'querySpan': {'sentenceIndex': 29, 'startToken': 15, 'endToken': 18}, 'notPresent': True, 'notMention': False, 'notSure': False, 'span_list': [], 'currentAnswerIndex': 0, 'status': 'ok'}, {'querySpan': {'sentenceIndex': 29, 'startToken': 18, 'endToken': 19}, 'notPresent': False, 'notMention': False, 'notSure': False, 'span_list': [{'sentenceIndex': 29, 'startToken': 0, 'endToken': 1}], 'currentAnswerIndex': 0, 'status': 'ok'}, {'querySpan': {'sentenceIndex': 30, 'startToken': 4, 'endToken': 5}, 'notPresent': True, 'notMention': False, 'notSure': False, 'span_list': [], 'currentAnswerIndex': 0, 'status': 'ok'}, {'querySpan': {'sentenceIndex': 30, 'startToken': 6, 'endToken': 7}, 'notPresent': False, 'notMention': False, 'notSure': False, 'span_list': [{'sentenceIndex': 30, 'startToken': 4, 'endToken': 5}], 'currentAnswerIndex': 0, 'status': 'ok'}, {'querySpan': {'sentenceIndex': 31, 'startToken': 2, 'endToken': 3}, 'notPresent': False, 'notMention': False, 'notSure': False, 'span_list': [{'sentenceIndex': 30, 'startToken': 0, 'endToken': 1}], 'currentAnswerIndex': 0, 'status': 'ok'}, {'querySpan': {'sentenceIndex': 31, 'startToken': 4, 'endToken': 11}, 'notPresent': True, 'notMention': False, 'notSure': False, 'span_list': [], 'currentAnswerIndex': 0, 'status': 'ok'}, {'querySpan': {'sentenceIndex': 31, 'startToken': 6, 'endToken': 7}, 'notPresent': False, 'notMention': False, 'notSure': False, 'span_list': [{'sentenceIndex': 31, 'startToken': 0, 'endToken': 1}], 'currentAnswerIndex': 0, 'status': 'ok'}, {'querySpan': {'sentenceIndex': 31, 'startToken': 9, 'endToken': 11}, 'notPresent': True, 'notMention': False, 'notSure': False, 'span_list': [], 'currentAnswerIndex': 0, 'status': 'ok'}, {'querySpan': {'sentenceIndex': 33, 'startToken': 4, 'endToken': 5}, 'notPresent': False, 'notMention': False, 'notSure': False, 'span_list': [{'sentenceIndex': 32, 'startToken': 0, 'endToken': 1}], 'currentAnswerIndex': 0, 'status': 'ok'}, {'querySpan': {'sentenceIndex': 33, 'startToken': 7, 'endToken': 8}, 'notPresent': False, 'notMention': False, 'notSure': False, 'span_list': [{'sentenceIndex': 31, 'startToken': 4, 'endToken': 11}], 'currentAnswerIndex': 0, 'status': 'ok'}, {'querySpan': {'sentenceIndex': 33, 'startToken': 9, 'endToken': 10}, 'notPresent': False, 'notMention': False, 'notSure': False, 'span_list': [{'sentenceIndex': 33, 'startToken': 7, 'endToken': 8}], 'currentAnswerIndex': 0, 'status': 'ok'}, {'querySpan': {'sentenceIndex': 33, 'startToken': 11, 'endToken': 16}, 'notPresent': False, 'notMention': False, 'notSure': False, 'span_list': [{'sentenceIndex': 33, 'startToken': 9, 'endToken': 10}], 'currentAnswerIndex': 0, 'status': 'ok'}, {'querySpan': {'sentenceIndex': 33, 'startToken': 15, 'endToken': 16}, 'notPresent': True, 'notMention': False, 'notSure': False, 'span_list': [], 'currentAnswerIndex': 0, 'status': 'ok'}, {'querySpan': {'sentenceIndex': 33, 'startToken': 21, 'endToken': 22}, 'notPresent': False, 'notMention': False, 'notSure': False, 'span_list': [{'sentenceIndex': 33, 'startToken': 0, 'endToken': 1}], 'currentAnswerIndex': 0, 'status': 'ok'}, {'querySpan': {'sentenceIndex': 33, 'startToken': 24, 'endToken': 25}, 'notPresent': False, 'notMention': False, 'notSure': False, 'span_list': [{'sentenceIndex': 32, 'startToken': 0, 'endToken': 1}], 'currentAnswerIndex': 0, 'status': 'ok'}, {'querySpan': {'sentenceIndex': 33, 'startToken': 24, 'endToken': 27}, 'notPresent': True, 'notMention': False, 'notSure': False, 'span_list': [], 'currentAnswerIndex': 0, 'status': 'ok'}, {'querySpan': {'sentenceIndex': 33, 'startToken': 28, 'endToken': 29}, 'notPresent': False, 'notMention': False, 'notSure': False, 'span_list': [{'sentenceIndex': 33, 'startToken': 9, 'endToken': 10}], 'currentAnswerIndex': 0, 'status': 'ok'}, {'querySpan': {'sentenceIndex': 34, 'startToken': 2, 'endToken': 3}, 'notPresent': False, 'notMention': False, 'notSure': False, 'span_list': [{'sentenceIndex': 33, 'startToken': 24, 'endToken': 27}], 'currentAnswerIndex': 0, 'status': 'ok'}, {'querySpan': {'sentenceIndex': 35, 'startToken': 4, 'endToken': 5}, 'notPresent': False, 'notMention': False, 'notSure': False, 'span_list': [{'sentenceIndex': 34, 'startToken': 2, 'endToken': 3}], 'currentAnswerIndex': 0, 'status': 'ok'}, {'querySpan': {'sentenceIndex': 36, 'startToken': 2, 'endToken': 3}, 'notPresent': False, 'notMention': False, 'notSure': False, 'span_list': [{'sentenceIndex': 35, 'startToken': 0, 'endToken': 1}], 'currentAnswerIndex': 0, 'status': 'ok'}, {'querySpan': {'sentenceIndex': 36, 'startToken': 4, 'endToken': 6}, 'notPresent': False, 'notMention': False, 'notSure': False, 'span_list': [{'sentenceIndex': 34, 'startToken': 2, 'endToken': 3}], 'currentAnswerIndex': 0, 'status': 'ok'}, {'querySpan': {'sentenceIndex': 36, 'startToken': 4, 'endToken': 5}, 'notPresent': False, 'notMention': False, 'notSure': False, 'span_list': [{'sentenceIndex': 36, 'startToken': 0, 'endToken': 1}], 'currentAnswerIndex': 0, 'status': 'ok'}, {'querySpan': {'sentenceIndex': 37, 'startToken': 2, 'endToken': 3}, 'notPresent': False, 'notMention': False, 'notSure': False, 'span_list': [{'sentenceIndex': 37, 'startToken': 0, 'endToken': 1}], 'currentAnswerIndex': 0, 'status': 'ok'}, {'querySpan': {'sentenceIndex': 37, 'startToken': 6, 'endToken': 7}, 'notPresent': False, 'notMention': False, 'notSure': False, 'span_list': [{'sentenceIndex': 36, 'startToken': 4, 'endToken': 6}], 'currentAnswerIndex': 0, 'status': 'ok'}, {'querySpan': {'sentenceIndex': 37, 'startToken': 8, 'endToken': 10}, 'notPresent': True, 'notMention': False, 'notSure': False, 'span_list': [], 'currentAnswerIndex': 0, 'status': 'ok'}, {'querySpan': {'sentenceIndex': 37, 'startToken': 11, 'endToken': 12}, 'notPresent': True, 'notMention': False, 'notSure': False, 'span_list': [], 'currentAnswerIndex': 0, 'status': 'ok'}, {'querySpan': {'sentenceIndex': 37, 'startToken': 13, 'endToken': 14}, 'notPresent': True, 'notMention': False, 'notSure': False, 'span_list': [], 'currentAnswerIndex': 0, 'status': 'ok'}, {'querySpan': {'sentenceIndex': 39, 'startToken': 4, 'endToken': 8}, 'notPresent': True, 'notMention': False, 'notSure': False, 'span_list': [], 'currentAnswerIndex': 0, 'status': 'ok'}, {'querySpan': {'sentenceIndex': 40, 'startToken': 2, 'endToken': 3}, 'notPresent': False, 'notMention': False, 'notSure': False, 'span_list': [{'sentenceIndex': 39, 'startToken': 0, 'endToken': 1}], 'currentAnswerIndex': 0, 'status': 'ok'}, {'querySpan': {'sentenceIndex': 40, 'startToken': 6, 'endToken': 7}, 'notPresent': False, 'notMention': False, 'notSure': False, 'span_list': [{'sentenceIndex': 40, 'startToken': 0, 'endToken': 1}], 'currentAnswerIndex': 0, 'status': 'ok'}, {'querySpan': {'sentenceIndex': 40, 'startToken': 8, 'endToken': 10}, 'notPresent': True, 'notMention': False, 'notSure': False, 'span_list': [], 'currentAnswerIndex': 0, 'status': 'ok'}, {'querySpan': {'sentenceIndex': 41, 'startToken': 4, 'endToken': 5}, 'notPresent': True, 'notMention': False, 'notSure': False, 'span_list': [], 'currentAnswerIndex': 0, 'status': 'ok'}, {'querySpan': {'sentenceIndex': 41, 'startToken': 10, 'endToken': 12}, 'notPresent': True, 'notMention': False, 'notSure': False, 'span_list': [], 'currentAnswerIndex': 0, 'status': 'ok'}, {'querySpan': {'sentenceIndex': 41, 'startToken': 14, 'endToken': 15}, 'notPresent': True, 'notMention': False, 'notSure': False, 'span_list': [], 'currentAnswerIndex': 0, 'status': 'ok'}, {'querySpan': {'sentenceIndex': 41, 'startToken': 17, 'endToken': 18}, 'notPresent': False, 'notMention': False, 'notSure': False, 'span_list': [{'sentenceIndex': 40, 'startToken': 0, 'endToken': 1}], 'currentAnswerIndex': 0, 'status': 'ok'}, {'querySpan': {'sentenceIndex': 41, 'startToken': 19, 'endToken': 20}, 'notPresent': False, 'notMention': False, 'notSure': False, 'span_list': [{'sentenceIndex': 40, 'startToken': 0, 'endToken': 1}], 'currentAnswerIndex': 0, 'status': 'ok'}, {'querySpan': {'sentenceIndex': 42, 'startToken': 4, 'endToken': 5}, 'notPresent': False, 'notMention': False, 'notSure': False, 'span_list': [{'sentenceIndex': 11, 'startToken': 0, 'endToken': 1}], 'currentAnswerIndex': 0, 'status': 'ok'}, {'querySpan': {'sentenceIndex': 42, 'startToken': 6, 'endToken': 7}, 'notPresent': False, 'notMention': False, 'notSure': False, 'span_list': [{'sentenceIndex': 13, 'startToken': 0, 'endToken': 1}], 'currentAnswerIndex': 0, 'status': 'ok'}, {'querySpan': {'sentenceIndex': 42, 'startToken': 6, 'endToken': 8}, 'notPresent': True, 'notMention': False, 'notSure': False, 'span_list': [], 'currentAnswerIndex': 0, 'status': 'ok'}], 'WorkerId': '246', 'scene_id': 's09e03c09t', 'clusters_all': [{('0_2_3',)}, {('13_2_3',), ('8_4_5',), ('10_12_13',), ('5_9_10',), ('7_15_16',), ('12_11_12',), ('14_18_19',), ('1_17_18',), ('4_10_11',), ('1_13_14',), ('0_3_4',), ('5_3_4',), ('14_15_16',), ('13_14_15',), ('12_2_3',), ('4_8_9',), ('1_23_24',), ('42_4_5',), ('11_14_15',), ('42_6_7',), ('11_12_13',), ('0_6_7',), ('9_6_7',), ('Amy',), ('9_13_14',), ('9_11_12',), ('3_10_11',), ('12_16_17',)}, {('1_2_3',)}, {('9_11_13',), ('10_10_11',), ('1_20_21',), ('11_18_19',), ('12_16_18',), ('1_13_15',), ('3_8_9',), ('4_10_12',), ('14_18_20',), ('5_7_8',)}, {('1_25_28',)}, {('2_4_6',), ('2_2_3',)}, {('3_4_6',)}, {('3_14_16',)}, {('3_17_19',)}, {('41_19_20',), ('8_10_11',), ('20_4_5',), ('14_11_12',), ('17_8_10',), ('22_9_10',), ('41_17_18',), ('22_24_25',), ('20_26_27',), ('31_2_3',), ('12_6_7',), ('40_6_7',), ('22_5_6',), ('21_2_3',), ('4_2_3',), ('23_3_4',), ('19_6_7',), ('25_9_10',), ('14_4_5',), ('20_18_19',), ('33_4_5',), ('Penny',), ('8_16_17',), ('15_4_5',), ('15_8_9',), ('8_6_7',), ('36_4_5',), ('17_4_5',), ('13_19_20',), ('33_24_25',)}, {('Amy', '1_13_15'), ('4_8_12',)}, {('Bernadette',), ('6_2_3',), ('6_12_13',)}, {('6_8_9',)}, {('7_4_5',)}, {('7_10_11',), ('7_18_19',)}, {('7_20_21',)}, {('9_2_3',)}, {('12_19_20',), ('9_17_18',)}, {('10_6_7',)}, {('10_15_20',)}, {('12_7_10',)}, {('13_9_13',)}, {('13_18_19',)}, {('15_13_15',)}, {('15_16_17',)}, {('16_4_5',)}, {('28_7_11',), ('20_22_23',), ('33_21_22',), ('25_5_6',), ('22_13_14',), ('37_2_3',), ('40_2_3',), ('29_10_11',), ('29_18_19',), ('27_4_5',), ('17_8_9',), ('Penny ’s Dad',), ('26_5_6',), ('31_6_7',), ('26_7_8',), ('36_2_3',), ('20_13_14',), ('28_5_6',)}, {('18_7_8',), ('19_25_26',), ('20_8_9',), ('19_4_5',)}, {('19_6_8',), ('19_30_31',), ('19_12_13',), ('19_15_16',)}, {('19_15_22',)}, {('19_31_34',)}, {('20_15_16',), ('20_17_23',), ('20_17_18',)}, {('Penny', '7_20_21'), ('20_24_27',)}, {('22_2_4',)}, {('22_17_23',), ('22_15_16',)}, {('22_20_22',)}, {('24_4_5',), ('20_24_25',)}, {('26_9_10',)}, {('26_11_13',)}, {('27_6_7',)}, {('27_11_12',), ('27_21_22',)}, {('27_12_13',)}, {('27_14_15',)}, {('27_16_17',)}, {('28_2_3',)}, {('29_7_9',)}, {('29_15_18',)}, {('30_4_5',), ('30_6_7',)}, {('33_7_8',), ('33_28_29',), ('33_11_16',), ('31_4_11',), ('33_9_10',)}, {('31_9_11',)}, {('33_15_16',)}, {('33_24_27',), ('36_4_6',), ('37_6_7',), ('34_2_3',), ('35_4_5',)}, {('37_8_10',)}, {('37_11_12',)}, {('37_13_14',)}, {('39_4_8',)}, {('40_8_10',)}, {('41_4_5',)}, {('41_10_12',)}, {('41_14_15',)}, {('42_6_8',)}], 'clusters_no_plural': [{('0_2_3',)}, {('13_2_3',), ('8_4_5',), ('10_12_13',), ('5_9_10',), ('7_15_16',), ('12_11_12',), ('14_18_19',), ('1_17_18',), ('4_10_11',), ('1_13_14',), ('0_3_4',), ('5_3_4',), ('14_15_16',), ('13_14_15',), ('12_2_3',), ('4_8_9',), ('1_23_24',), ('42_4_5',), ('11_14_15',), ('42_6_7',), ('11_12_13',), ('0_6_7',), ('9_6_7',), ('Amy',), ('9_13_14',), ('9_11_12',), ('3_10_11',), ('12_16_17',)}, {('1_2_3',)}, {('9_11_13',), ('10_10_11',), ('1_20_21',), ('11_18_19',), ('12_16_18',), ('1_13_15',), ('3_8_9',), ('4_10_12',), ('14_18_20',), ('5_7_8',)}, {('1_25_28',)}, {('2_4_6',), ('2_2_3',)}, {('3_4_6',)}, {('3_14_16',)}, {('3_17_19',)}, {('41_19_20',), ('8_10_11',), ('20_4_5',), ('14_11_12',), ('17_8_10',), ('22_9_10',), ('41_17_18',), ('22_24_25',), ('20_26_27',), ('31_2_3',), ('12_6_7',), ('40_6_7',), ('22_5_6',), ('21_2_3',), ('4_2_3',), ('23_3_4',), ('19_6_7',), ('25_9_10',), ('14_4_5',), ('20_18_19',), ('33_4_5',), ('Penny',), ('8_16_17',), ('15_4_5',), ('15_8_9',), ('8_6_7',), ('36_4_5',), ('17_4_5',), ('13_19_20',), ('33_24_25',)}, {('4_8_12',)}, {('Bernadette',), ('6_2_3',), ('6_12_13',)}, {('6_8_9',)}, {('7_4_5',)}, {('7_10_11',), ('7_18_19',)}, {('7_20_21',)}, {('9_2_3',)}, {('12_19_20',), ('9_17_18',)}, {('10_6_7',)}, {('10_15_20',)}, {('12_7_10',)}, {('13_9_13',)}, {('13_18_19',)}, {('15_13_15',)}, {('15_16_17',)}, {('16_4_5',)}, {('28_7_11',), ('20_22_23',), ('33_21_22',), ('25_5_6',), ('22_13_14',), ('37_2_3',), ('40_2_3',), ('29_10_11',), ('29_18_19',), ('27_4_5',), ('17_8_9',), ('Penny ’s Dad',), ('26_5_6',), ('31_6_7',), ('26_7_8',), ('36_2_3',), ('20_13_14',), ('28_5_6',)}, {('18_7_8',), ('19_25_26',), ('20_8_9',), ('19_4_5',)}, {('19_6_8',), ('19_30_31',), ('19_12_13',), ('19_15_16',)}, {('19_15_22',)}, {('19_31_34',)}, {('20_15_16',), ('20_17_23',), ('20_17_18',)}, {('20_24_27',)}, {('22_2_4',)}, {('22_17_23',), ('22_15_16',)}, {('22_20_22',)}, {('24_4_5',), ('20_24_25',)}, {('26_9_10',)}, {('26_11_13',)}, {('27_6_7',)}, {('27_11_12',), ('27_21_22',)}, {('27_12_13',)}, {('27_14_15',)}, {('27_16_17',)}, {('28_2_3',)}, {('29_7_9',)}, {('29_15_18',)}, {('30_4_5',), ('30_6_7',)}, {('33_7_8',), ('33_28_29',), ('33_11_16',), ('31_4_11',), ('33_9_10',)}, {('31_9_11',)}, {('33_15_16',)}, {('33_24_27',), ('36_4_6',), ('37_6_7',), ('34_2_3',), ('35_4_5',)}, {('37_8_10',)}, {('37_11_12',)}, {('37_13_14',)}, {('39_4_8',)}, {('40_8_10',)}, {('41_4_5',)}, {('41_10_12',)}, {('41_14_15',)}, {('42_6_8',)}], 'answers': [[(0, 2, 3), 'notPresent'], [(0, 3, 4), [(1, 0, 1)]], [(0, 6, 7), [(1, 0, 1)]], [(0, 8, 9), 'notMention'], [(1, 2, 3), 'notPresent'], [(1, 13, 14), [(1, 0, 1)]], [(1, 13, 15), 'notPresent'], [(1, 17, 18), [(1, 0, 1)]], [(1, 20, 21), [(1, 13, 15)]], [(1, 23, 24), [(1, 0, 1)]], [(1, 25, 28), 'notPresent'], [(2, 2, 3), 'notPresent'], [(2, 4, 6), [(2, 2, 3)]], [(3, 4, 6), 'notPresent'], [(3, 8, 9), [(1, 13, 15)]], [(3, 10, 11), [(3, 0, 1)]], [(3, 14, 16), 'notPresent'], [(3, 17, 19), 'notPresent'], [(4, 2, 3), [(4, 0, 1)]], [(4, 8, 9), [(3, 0, 1)]], [(4, 8, 12), [(3, 0, 1), (1, 13, 15)]], [(4, 10, 11), [(3, 0, 1)]], [(4, 10, 12), [(1, 13, 15)]], [(5, 3, 4), [(3, 0, 1)]], [(5, 7, 8), [(4, 10, 12)]], [(5, 9, 10), [(3, 0, 1)]], [(6, 2, 3), [(5, 0, 1)]], [(6, 8, 9), 'notPresent'], [(6, 12, 13), [(5, 0, 1)]], [(7, 4, 5), 'notPresent'], [(7, 10, 11), 'notPresent'], [(7, 15, 16), [(7, 0, 1)]], [(7, 18, 19), [(7, 10, 11)]], [(7, 20, 21), 'notPresent'], [(8, 4, 5), [(7, 0, 1)]], [(8, 6, 7), [(8, 0, 1)]], [(8, 10, 11), [(8, 0, 1)]], [(8, 16, 17), [(8, 0, 1)]], [(9, 2, 3), 'notPresent'], [(9, 6, 7), [(7, 0, 1)]], [(9, 11, 13), [(1, 13, 15)]], [(9, 11, 12), [(7, 0, 1)]], [(9, 13, 14), [(7, 0, 1)]], [(9, 17, 18), 'notPresent'], [(10, 6, 7), 'notPresent'], [(10, 10, 11), [(9, 11, 13)]], [(10, 12, 13), [(7, 0, 1)]], [(10, 15, 20), 'notPresent'], [(11, 12, 15), 'notMention'], [(11, 12, 13), [(11, 0, 1)]], [(11, 14, 15), [(11, 0, 1)]], [(11, 18, 19), [(4, 10, 12)]], [(12, 2, 3), [(11, 0, 1)]], [(12, 6, 7), [(12, 0, 1)]], [(12, 7, 10), 'notPresent'], [(12, 11, 12), [(11, 0, 1)]], [(12, 16, 18), [(11, 18, 19)]], [(12, 16, 17), [(11, 0, 1)]], [(12, 19, 20), [(9, 17, 18)]], [(13, 2, 3), [(13, 0, 1)]], [(13, 5, 7), 'notMention'], [(13, 9, 13), 'notPresent'], [(13, 14, 15), [(13, 0, 1)]], [(13, 18, 19), 'notPresent'], [(13, 19, 20), [(12, 0, 1)]], [(14, 4, 5), [(14, 0, 1)]], [(14, 11, 12), [(14, 0, 1)]], [(14, 15, 16), [(13, 0, 1)]], [(14, 18, 20), [(12, 16, 18)]], [(14, 18, 19), [(13, 0, 1)]], [(15, 4, 5), [(14, 0, 1)]], [(15, 8, 9), [(14, 0, 1)]], [(15, 13, 15), 'notPresent'], [(15, 16, 17), 'notPresent'], [(16, 4, 5), 'notPresent'], [(17, 4, 5), [(16, 0, 1)]], [(17, 8, 9), [(17, 0, 1)]], [(17, 8, 10), [(16, 0, 1)]], [(18, 7, 8), 'notPresent'], [(19, 4, 5), [(18, 7, 8)]], [(19, 6, 7), [(18, 0, 1)]], [(19, 6, 8), 'notPresent'], [(19, 12, 13), [(19, 6, 8)]], [(19, 15, 22), 'notPresent'], [(19, 15, 16), [(19, 6, 8)]], [(19, 25, 26), [(18, 7, 8)]], [(19, 30, 31), [(19, 6, 8)]], [(19, 31, 34), 'notPresent'], [(20, 4, 5), [(20, 0, 1)]], [(20, 8, 9), [(19, 4, 5)]], [(20, 13, 14), [(19, 0, 1)]], [(20, 15, 16), 'notPresent'], [(20, 17, 23), [(20, 15, 16)]], [(20, 17, 18), [(20, 15, 16)]], [(20, 18, 19), [(20, 0, 1)]], [(20, 22, 23), [(19, 0, 1)]], [(20, 24, 27), [(20, 0, 1), (7, 20, 21)]], [(20, 26, 27), [(20, 0, 1)]], [(21, 2, 3), [(20, 0, 1)]], [(22, 2, 4), 'notPresent'], [(22, 5, 6), [(22, 0, 1)]], [(22, 9, 10), [(22, 0, 1)]], [(22, 13, 14), [(21, 0, 1)]], [(22, 15, 16), 'notPresent'], [(22, 17, 23), [(22, 15, 16)]], [(22, 20, 22), 'notPresent'], [(22, 24, 25), [(22, 0, 1)]], [(23, 3, 4), [(22, 0, 1)]], [(24, 4, 5), [(20, 24, 25)]], [(25, 5, 6), [(25, 0, 1)]], [(25, 9, 10), [(24, 0, 1)]], [(26, 5, 6), [(25, 0, 1)]], [(26, 7, 8), [(25, 0, 1)]], [(26, 9, 10), 'notPresent'], [(26, 11, 13), 'notPresent'], [(27, 4, 5), [(27, 0, 1)]], [(27, 6, 7), 'notPresent'], [(27, 11, 12), 'notPresent'], [(27, 12, 13), 'notPresent'], [(27, 14, 15), 'notPresent'], [(27, 16, 17), 'notPresent'], [(27, 21, 22), [(27, 11, 12)]], [(28, 2, 3), 'notPresent'], [(28, 5, 6), [(27, 0, 1)]], [(28, 7, 11), [(28, 5, 6)]], [(29, 7, 9), 'notPresent'], [(29, 10, 11), [(29, 0, 1)]], [(29, 15, 18), 'notPresent'], [(29, 18, 19), [(29, 0, 1)]], [(30, 4, 5), 'notPresent'], [(30, 6, 7), [(30, 4, 5)]], [(31, 2, 3), [(30, 0, 1)]], [(31, 4, 11), 'notPresent'], [(31, 6, 7), [(31, 0, 1)]], [(31, 9, 11), 'notPresent'], [(33, 4, 5), [(32, 0, 1)]], [(33, 7, 8), [(31, 4, 11)]], [(33, 9, 10), [(33, 7, 8)]], [(33, 11, 16), [(33, 9, 10)]], [(33, 15, 16), 'notPresent'], [(33, 21, 22), [(33, 0, 1)]], [(33, 24, 25), [(32, 0, 1)]], [(33, 24, 27), 'notPresent'], [(33, 28, 29), [(33, 9, 10)]], [(34, 2, 3), [(33, 24, 27)]], [(35, 4, 5), [(34, 2, 3)]], [(36, 2, 3), [(35, 0, 1)]], [(36, 4, 6), [(34, 2, 3)]], [(36, 4, 5), [(36, 0, 1)]], [(37, 2, 3), [(37, 0, 1)]], [(37, 6, 7), [(36, 4, 6)]], [(37, 8, 10), 'notPresent'], [(37, 11, 12), 'notPresent'], [(37, 13, 14), 'notPresent'], [(39, 4, 8), 'notPresent'], [(40, 2, 3), [(39, 0, 1)]], [(40, 6, 7), [(40, 0, 1)]], [(40, 8, 10), 'notPresent'], [(41, 4, 5), 'notPresent'], [(41, 10, 12), 'notPresent'], [(41, 14, 15), 'notPresent'], [(41, 17, 18), [(40, 0, 1)]], [(41, 19, 20), [(40, 0, 1)]], [(42, 4, 5), [(11, 0, 1)]], [(42, 6, 7), [(13, 0, 1)]], [(42, 6, 8), 'notPresent']]}\n"
     ]
    }
   ],
   "source": [
    "print(all_dev_test[0])"
   ],
   "metadata": {
    "collapsed": false,
    "pycharm": {
     "name": "#%%\n"
    }
   }
  },
  {
   "cell_type": "code",
   "execution_count": 82,
   "outputs": [],
   "source": [
    "for i, instance in enumerate(all_dev_test):\n",
    "    if i >= 3:\n",
    "        continue\n",
    "    sentences = instance['sentences']\n",
    "    temp = []\n",
    "    for sent in sentences:\n",
    "        temp.append(\" \".join(sent[sent.index(\":\")+1:]))\n",
    "\n",
    "    for j in range(len(data)):\n",
    "        sample = data[j]\n",
    "        src_tokens = \" \".join(sample['Input.src_tokens'])\n",
    "        source_sentence = ast.literal_eval(sample['Input.src_tokens'])\n",
    "        target_sentence = ast.literal_eval(sample['Input.tar_tokens'])\n",
    "        alignment = json.loads(sample['Answer.alignment'])\n",
    "        if src_tokens in temp:\n",
    "            print(temp)"
   ],
   "metadata": {
    "collapsed": false,
    "pycharm": {
     "name": "#%%\n"
    }
   }
  },
  {
   "cell_type": "code",
   "execution_count": 42,
   "outputs": [
    {
     "name": "stdout",
     "output_type": "stream",
     "text": [
      "268\n"
     ]
    }
   ],
   "source": [
    "print(len(all_dev_test))"
   ],
   "metadata": {
    "collapsed": false,
    "pycharm": {
     "name": "#%%\n"
    }
   }
  },
  {
   "cell_type": "code",
   "execution_count": 39,
   "outputs": [
    {
     "name": "stdout",
     "output_type": "stream",
     "text": [
      "[['Sheldon', ':', 'If', 'a', 'photon', 'is', 'directed', 'through', 'a', 'plane', 'with', 'two', 'slits', 'in', 'it', 'and', 'either', 'is', 'observed', 'it', 'will', 'not', 'go', 'through', 'both', '.', 'If', 'unobserved', ',', 'it', 'will', '.', 'If', 'it', \"'s\", 'observed', 'after', 'it', 'left', 'the', 'plane', ',', 'before', 'it', 'hits', 'its', 'target', '...', 'it', 'will', 'not', 'have', 'gone', 'through', 'both', 'slits', '.'], ['Leonard', ':', 'Agreed', '.', 'What', \"'s\", 'your', 'point', '?'], ['Sheldon', ':', 'There', \"'s\", 'no', 'point', ',', 'I', 'just', 'think', 'it', \"'s\", 'a', 'good', 'idea', 'for', 'a', 'T', '-', 'shirt', '.'], ['Leonard', ':', 'Excuse', 'me', '.'], ['Receptionist', ':', 'Hang', 'on', '.'], ['Leonard', ':', 'One', 'across', 'is', 'Aegean', ',', 'eight', 'down', 'is', 'Nabokov', '.', 'Twenty', '-', 'six', 'across', 'is', 'MCM', '.', 'Fourteen', 'down', 'is', '...', 'Move', 'your', 'finger', '.', 'phylum', ',', 'which', 'makes', '14', 'across', 'Port', '-', 'Au', '-', 'Prince', '.', 'See', ',', 'Papa', 'Doc', \"'s\", 'capital', 'idea', ',', 'that', \"'s\", 'Port', '-', 'Au', '-', 'Prince', '.', 'Haiti', '.'], ['Receptionist', ':', 'Can', 'I', 'help', 'you', '?'], ['Leonard', ':', 'Yes', '.', 'Um', ',', 'is', 'this', 'the', 'high', '-', 'IQ', 'sperm', 'bank', '?'], ['Receptionist', ':', 'If', 'you', 'have', 'to', 'ask', ',', 'maybe', 'you', 'should', \"n't\", 'be', 'here', '.'], ['Sheldon', ':', 'I', 'think', 'this', 'is', 'the', 'place', '.'], ['Receptionist', ':', 'Fill', 'these', 'out', '.'], ['Leonard', ':', 'Thank', 'you', '.', 'We', \"'ll\", 'be', 'right', 'back', '.'], ['Receptionist', ':', 'Oh', ',', 'take', 'your', 'time', '.', 'I', \"'ll\", 'just', 'finish', 'my', 'crossword', 'puzzle', '.', 'Oh', ',', 'wait', '.'], ['Sheldon', ':', 'Leonard', ',', 'I', 'do', \"n't\", 'think', 'I', 'can', 'do', 'this', '.'], ['Leonard', ':', 'What', ',', 'are', 'you', 'kidding', '?', 'You', \"'re\", 'a', 'semipro', '.'], ['Sheldon', ':', 'No', '.', 'We', 'are', 'committing', 'genetic', 'fraud', '.', 'There', \"'s\", 'no', 'guarantee', 'our', 'sperm', \"'s\", 'going', 'to', 'generate', 'high', '-', 'IQ', 'offspring', '.', 'Think', 'about', 'that', '.', 'I', 'have', 'a', 'sister', 'with', 'the', 'same', 'basic', 'DNA', 'mix', 'who', 'hostesses', 'at', 'Fuddruckers', '.'], ['Leonard', ':', 'Sheldon', ',', 'this', 'was', 'your', 'idea', '.', 'A', 'little', 'extra', 'money', 'to', 'get', 'fractional', 'T1', 'bandwidth', 'in', 'the', 'apartment', '?'], ['Sheldon', ':', 'I', 'know', '.', 'And', 'I', 'do', 'yearn', 'for', 'faster', 'downloads', '.', 'There', \"'s\", 'some', 'poor', 'woman', 'who', \"'s\", 'gon', 'na', 'pin', 'her', 'hopes', 'on', 'my', 'sperm', '.', 'What', 'if', 'she', 'winds', 'up', 'with', 'a', 'toddler', 'who', 'does', \"n't\", 'know', 'if', 'he', 'should', 'use', 'a', 'differential', 'to', 'solve', 'for', 'the', 'area', 'under', 'a', 'curve', '?'], ['Leonard', ':', 'I', \"'m\", 'sure', 'she', \"'ll\", 'still', 'love', 'him', '.'], ['Sheldon', ':', 'I', 'would', \"n't\", '.'], ['Leonard', ':', 'Well', ',', 'what', 'do', 'you', 'wanna', 'do', '?'], ['Sheldon', ':', 'I', 'want', 'to', 'leave', '.'], ['Sheldon', ':', 'What', \"'s\", 'the', 'protocol', 'for', 'leaving', '?'], ['Leonard', ':', 'I', 'do', \"n't\", 'know', '.', 'I', \"'ve\", 'never', 'reneged', 'on', 'a', 'proffer', 'of', 'sperm', 'before', '.'], ['Sheldon', ':', 'Let', \"'s\", 'try', 'just', 'walking', 'out', '.'], ['Leonard', ':', 'Okay', '.'], ['Receptionist', ':', 'Bye', '.'], ['Sheldon', ':', 'Bye', '-', 'bye'], ['Leonard', ':', 'See', 'you', '.']]\n"
     ]
    }
   ],
   "source": [
    "print(all_dev_test[0]['sentences'])"
   ],
   "metadata": {
    "collapsed": false,
    "pycharm": {
     "name": "#%%\n"
    }
   }
  },
  {
   "cell_type": "code",
   "execution_count": null,
   "outputs": [],
   "source": [],
   "metadata": {
    "collapsed": false,
    "pycharm": {
     "name": "#%%\n"
    }
   }
  },
  {
   "cell_type": "code",
   "execution_count": null,
   "outputs": [],
   "source": [],
   "metadata": {
    "collapsed": false,
    "pycharm": {
     "name": "#%%\n"
    }
   }
  },
  {
   "cell_type": "code",
   "execution_count": 220,
   "outputs": [],
   "source": [
    "data = []\n",
    "with open('data/raw_source/dialogue_zh/dev-test-batch1_zh.json', 'r') as f:\n",
    "    reader = jsonlines.Reader(f)\n",
    "    for item in reader:\n",
    "        for x in item:\n",
    "            data.append(x)"
   ],
   "metadata": {
    "collapsed": false,
    "pycharm": {
     "name": "#%%\n"
    }
   }
  },
  {
   "cell_type": "code",
   "execution_count": null,
   "outputs": [],
   "source": [
    "correction_dict = {\n",
    "\n",
    "}"
   ],
   "metadata": {
    "collapsed": false,
    "pycharm": {
     "name": "#%%\n"
    }
   }
  },
  {
   "cell_type": "code",
   "execution_count": 234,
   "outputs": [
    {
     "name": "stdout",
     "output_type": "stream",
     "text": [
      "{'sentenceIndex': 0, 'startToken': 1, 'endToken': 2}\n",
      "['嘿', '你', '忙', '吗', '?']\n",
      "['你']\n",
      "['Amy']\n",
      "\n",
      "{'sentenceIndex': 1, 'startToken': 2, 'endToken': 4}\n",
      "['不', '忙', '啥', '事', '?']\n",
      "['啥', '事']\n",
      "['n', 'o', 't', 'P', 'r', 'e', 's', 'e', 'n', 't']\n",
      "\n",
      "{'sentenceIndex': 2, 'startToken': 6, 'endToken': 7}\n",
      "['E', 'm', 'i', 'l', 'y', '回', '你', '没', '?']\n",
      "['你']\n",
      "['Amy']\n",
      "\n",
      "{'sentenceIndex': 2, 'startToken': 0, 'endToken': 5}\n",
      "['E', 'm', 'i', 'l', 'y', '回', '你', '没', '?']\n",
      "['E', 'm', 'i', 'l', 'y']\n",
      "['n', 'o', 't', 'P', 'r', 'e', 's', 'e', 'n', 't']\n",
      "\n",
      "{'sentenceIndex': 5, 'startToken': 4, 'endToken': 5}\n",
      "['情', '况', '不', '妙', '她', '觉', '得', '你', '们', '俩', '不', '合', '适']\n",
      "['她']\n",
      "[{'sentenceIndex': 2, 'startToken': 0, 'endToken': 5}]\n",
      "\n",
      "{'sentenceIndex': 5, 'startToken': 7, 'endToken': 9}\n",
      "['情', '况', '不', '妙', '她', '觉', '得', '你', '们', '俩', '不', '合', '适']\n",
      "['你', '们']\n",
      "['Raj']\n",
      "\n",
      "{'sentenceIndex': 6, 'startToken': 0, 'endToken': 1}\n",
      "['我', '就', '让', '你', '帮', '一', '个', '忙', '联', '系', '一', '个', '陌', '生', '人', '并', '让', '她', '爱', '上', '我', '你', '却', '搞', '砸', '了', '!']\n",
      "['我']\n",
      "['Raj']\n",
      "\n",
      "{'sentenceIndex': 6, 'startToken': 3, 'endToken': 4}\n",
      "['我', '就', '让', '你', '帮', '一', '个', '忙', '联', '系', '一', '个', '陌', '生', '人', '并', '让', '她', '爱', '上', '我', '你', '却', '搞', '砸', '了', '!']\n",
      "['你']\n",
      "['Amy']\n",
      "\n",
      "{'sentenceIndex': 6, 'startToken': 4, 'endToken': 21}\n",
      "['我', '就', '让', '你', '帮', '一', '个', '忙', '联', '系', '一', '个', '陌', '生', '人', '并', '让', '她', '爱', '上', '我', '你', '却', '搞', '砸', '了', '!']\n",
      "['帮', '一', '个', '忙', '联', '系', '一', '个', '陌', '生', '人', '并', '让', '她', '爱', '上', '我']\n",
      "['n', 'o', 't', 'P', 'r', 'e', 's', 'e', 'n', 't']\n",
      "\n",
      "{'sentenceIndex': 6, 'startToken': 10, 'endToken': 15}\n",
      "['我', '就', '让', '你', '帮', '一', '个', '忙', '联', '系', '一', '个', '陌', '生', '人', '并', '让', '她', '爱', '上', '我', '你', '却', '搞', '砸', '了', '!']\n",
      "['一', '个', '陌', '生', '人']\n",
      "['null_projection']\n",
      "\n",
      "{'sentenceIndex': 6, 'startToken': 10, 'endToken': 15}\n",
      "['我', '就', '让', '你', '帮', '一', '个', '忙', '联', '系', '一', '个', '陌', '生', '人', '并', '让', '她', '爱', '上', '我', '你', '却', '搞', '砸', '了', '!']\n",
      "['一', '个', '陌', '生', '人']\n",
      "[{'sentenceIndex': 2, 'startToken': 0, 'endToken': 5}]\n",
      "\n",
      "{'sentenceIndex': 6, 'startToken': 17, 'endToken': 18}\n",
      "['我', '就', '让', '你', '帮', '一', '个', '忙', '联', '系', '一', '个', '陌', '生', '人', '并', '让', '她', '爱', '上', '我', '你', '却', '搞', '砸', '了', '!']\n",
      "['她']\n",
      "[{'sentenceIndex': 6, 'startToken': 10, 'endToken': 15}]\n",
      "\n",
      "{'sentenceIndex': 6, 'startToken': 18, 'endToken': 19}\n",
      "['我', '就', '让', '你', '帮', '一', '个', '忙', '联', '系', '一', '个', '陌', '生', '人', '并', '让', '她', '爱', '上', '我', '你', '却', '搞', '砸', '了', '!']\n",
      "['爱']\n",
      "['n', 'o', 't', 'P', 'r', 'e', 's', 'e', 'n', 't']\n",
      "\n",
      "{'sentenceIndex': 6, 'startToken': 20, 'endToken': 21}\n",
      "['我', '就', '让', '你', '帮', '一', '个', '忙', '联', '系', '一', '个', '陌', '生', '人', '并', '让', '她', '爱', '上', '我', '你', '却', '搞', '砸', '了', '!']\n",
      "['我']\n",
      "['Raj']\n",
      "\n",
      "{'sentenceIndex': 6, 'startToken': 21, 'endToken': 22}\n",
      "['我', '就', '让', '你', '帮', '一', '个', '忙', '联', '系', '一', '个', '陌', '生', '人', '并', '让', '她', '爱', '上', '我', '你', '却', '搞', '砸', '了', '!']\n",
      "['你']\n",
      "['Amy']\n",
      "\n",
      "{'sentenceIndex': 7, 'startToken': 0, 'endToken': 1}\n",
      "['我', '跟', '她', '说', '了', '你', '人', '很', '好', '可', '她', '觉', '得', '你', '不', '主', '动', '联', '系', '她', '这', '并', '不', '好', '她', '觉', '得', '你', '太', '羞', '涩', '太', '老', '实', '了']\n",
      "['我']\n",
      "['Amy']\n",
      "\n",
      "{'sentenceIndex': 7, 'startToken': 2, 'endToken': 3}\n",
      "['我', '跟', '她', '说', '了', '你', '人', '很', '好', '可', '她', '觉', '得', '你', '不', '主', '动', '联', '系', '她', '这', '并', '不', '好', '她', '觉', '得', '你', '太', '羞', '涩', '太', '老', '实', '了']\n",
      "['她']\n",
      "['null_projection']\n",
      "\n",
      "{'sentenceIndex': 7, 'startToken': 2, 'endToken': 3}\n",
      "['我', '跟', '她', '说', '了', '你', '人', '很', '好', '可', '她', '觉', '得', '你', '不', '主', '动', '联', '系', '她', '这', '并', '不', '好', '她', '觉', '得', '你', '太', '羞', '涩', '太', '老', '实', '了']\n",
      "['她']\n",
      "[{'sentenceIndex': 2, 'startToken': 0, 'endToken': 5}]\n",
      "\n",
      "{'sentenceIndex': 7, 'startToken': 7, 'endToken': 8}\n",
      "['我', '跟', '她', '说', '了', '你', '人', '很', '好', '可', '她', '觉', '得', '你', '不', '主', '动', '联', '系', '她', '这', '并', '不', '好', '她', '觉', '得', '你', '太', '羞', '涩', '太', '老', '实', '了']\n",
      "['很']\n",
      "['n', 'o', 't', 'P', 'r', 'e', 's', 'e', 'n', 't']\n",
      "\n",
      "{'sentenceIndex': 7, 'startToken': 5, 'endToken': 6}\n",
      "['我', '跟', '她', '说', '了', '你', '人', '很', '好', '可', '她', '觉', '得', '你', '不', '主', '动', '联', '系', '她', '这', '并', '不', '好', '她', '觉', '得', '你', '太', '羞', '涩', '太', '老', '实', '了']\n",
      "['你']\n",
      "['Raj']\n",
      "\n",
      "{'sentenceIndex': 7, 'startToken': 10, 'endToken': 11}\n",
      "['我', '跟', '她', '说', '了', '你', '人', '很', '好', '可', '她', '觉', '得', '你', '不', '主', '动', '联', '系', '她', '这', '并', '不', '好', '她', '觉', '得', '你', '太', '羞', '涩', '太', '老', '实', '了']\n",
      "['她']\n",
      "[{'sentenceIndex': 7, 'startToken': 2, 'endToken': 3}]\n",
      "\n",
      "{'sentenceIndex': 7, 'startToken': 13, 'endToken': 24}\n",
      "['我', '跟', '她', '说', '了', '你', '人', '很', '好', '可', '她', '觉', '得', '你', '不', '主', '动', '联', '系', '她', '这', '并', '不', '好', '她', '觉', '得', '你', '太', '羞', '涩', '太', '老', '实', '了']\n",
      "['你', '不', '主', '动', '联', '系', '她', '这', '并', '不', '好']\n",
      "['null_projection']\n",
      "\n",
      "{'sentenceIndex': 7, 'startToken': 13, 'endToken': 14}\n",
      "['我', '跟', '她', '说', '了', '你', '人', '很', '好', '可', '她', '觉', '得', '你', '不', '主', '动', '联', '系', '她', '这', '并', '不', '好', '她', '觉', '得', '你', '太', '羞', '涩', '太', '老', '实', '了']\n",
      "['你']\n",
      "['Raj']\n",
      "\n",
      "{'sentenceIndex': 7, 'startToken': 19, 'endToken': 20}\n",
      "['我', '跟', '她', '说', '了', '你', '人', '很', '好', '可', '她', '觉', '得', '你', '不', '主', '动', '联', '系', '她', '这', '并', '不', '好', '她', '觉', '得', '你', '太', '羞', '涩', '太', '老', '实', '了']\n",
      "['她']\n",
      "[{'sentenceIndex': 7, 'startToken': 2, 'endToken': 3}]\n",
      "\n",
      "{'sentenceIndex': 7, 'startToken': 15, 'endToken': 17}\n",
      "['我', '跟', '她', '说', '了', '你', '人', '很', '好', '可', '她', '觉', '得', '你', '不', '主', '动', '联', '系', '她', '这', '并', '不', '好', '她', '觉', '得', '你', '太', '羞', '涩', '太', '老', '实', '了']\n",
      "['主', '动']\n",
      "['Raj']\n",
      "\n",
      "{'sentenceIndex': 7, 'startToken': 24, 'endToken': 25}\n",
      "['我', '跟', '她', '说', '了', '你', '人', '很', '好', '可', '她', '觉', '得', '你', '不', '主', '动', '联', '系', '她', '这', '并', '不', '好', '她', '觉', '得', '你', '太', '羞', '涩', '太', '老', '实', '了']\n",
      "['她']\n",
      "[{'sentenceIndex': 7, 'startToken': 2, 'endToken': 3}]\n",
      "\n",
      "{'sentenceIndex': 7, 'startToken': 27, 'endToken': 28}\n",
      "['我', '跟', '她', '说', '了', '你', '人', '很', '好', '可', '她', '觉', '得', '你', '不', '主', '动', '联', '系', '她', '这', '并', '不', '好', '她', '觉', '得', '你', '太', '羞', '涩', '太', '老', '实', '了']\n",
      "['你']\n",
      "['Raj']\n",
      "\n",
      "{'sentenceIndex': 8, 'startToken': 0, 'endToken': 1}\n",
      "['我', '一', '点', '也', '不', '羞', '涩', '不', '老', '实', '你', '把', '我', '说', '的', '转', '告', '她', '当', '然', '等', '你', '有', '空', '的', '时', '候']\n",
      "['我']\n",
      "['Raj']\n",
      "\n",
      "{'sentenceIndex': 8, 'startToken': 10, 'endToken': 11}\n",
      "['我', '一', '点', '也', '不', '羞', '涩', '不', '老', '实', '你', '把', '我', '说', '的', '转', '告', '她', '当', '然', '等', '你', '有', '空', '的', '时', '候']\n",
      "['你']\n",
      "['Amy']\n",
      "\n",
      "{'sentenceIndex': 8, 'startToken': 17, 'endToken': 18}\n",
      "['我', '一', '点', '也', '不', '羞', '涩', '不', '老', '实', '你', '把', '我', '说', '的', '转', '告', '她', '当', '然', '等', '你', '有', '空', '的', '时', '候']\n",
      "['她']\n",
      "['null_projection']\n",
      "\n",
      "{'sentenceIndex': 8, 'startToken': 17, 'endToken': 18}\n",
      "['我', '一', '点', '也', '不', '羞', '涩', '不', '老', '实', '你', '把', '我', '说', '的', '转', '告', '她', '当', '然', '等', '你', '有', '空', '的', '时', '候']\n",
      "['她']\n",
      "['null_projection']\n",
      "\n",
      "{'sentenceIndex': 8, 'startToken': 12, 'endToken': 13}\n",
      "['我', '一', '点', '也', '不', '羞', '涩', '不', '老', '实', '你', '把', '我', '说', '的', '转', '告', '她', '当', '然', '等', '你', '有', '空', '的', '时', '候']\n",
      "['我']\n",
      "['Raj']\n",
      "\n",
      "{'sentenceIndex': 8, 'startToken': 21, 'endToken': 22}\n",
      "['我', '一', '点', '也', '不', '羞', '涩', '不', '老', '实', '你', '把', '我', '说', '的', '转', '告', '她', '当', '然', '等', '你', '有', '空', '的', '时', '候']\n",
      "['你']\n",
      "['Amy']\n",
      "\n",
      "{'sentenceIndex': 8, 'startToken': 22, 'endToken': 24}\n",
      "['我', '一', '点', '也', '不', '羞', '涩', '不', '老', '实', '你', '把', '我', '说', '的', '转', '告', '她', '当', '然', '等', '你', '有', '空', '的', '时', '候']\n",
      "['有', '空']\n",
      "['n', 'o', 't', 'P', 'r', 'e', 's', 'e', 'n', 't']\n",
      "\n",
      "{'sentenceIndex': 9, 'startToken': 2, 'endToken': 3}\n",
      "['好', '吧', '我', '看', '看', '明', '晚', '能', '否', '说', '服', '她']\n",
      "['我']\n",
      "['Amy']\n",
      "\n",
      "{'sentenceIndex': 9, 'startToken': 11, 'endToken': 12}\n",
      "['好', '吧', '我', '看', '看', '明', '晚', '能', '否', '说', '服', '她']\n",
      "['她']\n",
      "['n', 'o', 't', 'P', 'r', 'e', 's', 'e', 'n', 't']\n",
      "\n",
      "{'sentenceIndex': 9, 'startToken': 11, 'endToken': 12}\n",
      "['好', '吧', '我', '看', '看', '明', '晚', '能', '否', '说', '服', '她']\n",
      "['她']\n",
      "['null_projection']\n",
      "\n",
      "{'sentenceIndex': 9, 'startToken': 11, 'endToken': 12}\n",
      "['好', '吧', '我', '看', '看', '明', '晚', '能', '否', '说', '服', '她']\n",
      "['她']\n",
      "['null_projection']\n",
      "\n",
      "{'sentenceIndex': 9, 'startToken': 5, 'endToken': 7}\n",
      "['好', '吧', '我', '看', '看', '明', '晚', '能', '否', '说', '服', '她']\n",
      "['明', '晚']\n",
      "['n', 'o', 't', 'P', 'r', 'e', 's', 'e', 'n', 't']\n",
      "\n",
      "{'sentenceIndex': 10, 'startToken': 3, 'endToken': 5}\n",
      "['明', '晚', '有', '什', '么', '安', '排', '?']\n",
      "['什', '么']\n",
      "['n', 'o', 't', 'P', 'r', 'e', 's', 'e', 'n', 't']\n",
      "\n",
      "{'sentenceIndex': 10, 'startToken': 0, 'endToken': 2}\n",
      "['明', '晚', '有', '什', '么', '安', '排', '?']\n",
      "['明', '晚']\n",
      "[{'sentenceIndex': 9, 'startToken': 5, 'endToken': 7}]\n",
      "\n",
      "{'sentenceIndex': 11, 'startToken': 0, 'endToken': 2}\n",
      "['我', '们', '约', '了', '喝', '咖', '啡', '什', '么', '?']\n",
      "['我', '们']\n",
      "['Amy']\n",
      "\n",
      "{'sentenceIndex': 11, 'startToken': 4, 'endToken': 7}\n",
      "['我', '们', '约', '了', '喝', '咖', '啡', '什', '么', '?']\n",
      "['喝', '咖', '啡']\n",
      "['n', 'o', 't', 'P', 'r', 'e', 's', 'e', 'n', 't']\n",
      "\n",
      "{'sentenceIndex': 13, 'startToken': 0, 'endToken': 2}\n",
      "['我', '们', '互', '通', '了', '几', '次', '邮', '件', '还', '挺', '合', '得', '来', '的']\n",
      "['我', '们']\n",
      "[{'sentenceIndex': 7, 'startToken': 2, 'endToken': 3}]\n",
      "\n",
      "{'sentenceIndex': 13, 'startToken': 0, 'endToken': 2}\n",
      "['我', '们', '互', '通', '了', '几', '次', '邮', '件', '还', '挺', '合', '得', '来', '的']\n",
      "['我', '们']\n",
      "['Amy']\n",
      "\n",
      "{'sentenceIndex': 13, 'startToken': 0, 'endToken': 2}\n",
      "['我', '们', '互', '通', '了', '几', '次', '邮', '件', '还', '挺', '合', '得', '来', '的']\n",
      "['我', '们']\n",
      "['null_projection']\n",
      "\n",
      "{'sentenceIndex': 13, 'startToken': 0, 'endToken': 2}\n",
      "['我', '们', '互', '通', '了', '几', '次', '邮', '件', '还', '挺', '合', '得', '来', '的']\n",
      "['我', '们']\n",
      "['Amy']\n",
      "\n",
      "{'sentenceIndex': 13, 'startToken': 0, 'endToken': 2}\n",
      "['我', '们', '互', '通', '了', '几', '次', '邮', '件', '还', '挺', '合', '得', '来', '的']\n",
      "['我', '们']\n",
      "[{'sentenceIndex': 13, 'startToken': 0, 'endToken': 2}]\n",
      "\n",
      "{'sentenceIndex': 13, 'startToken': 0, 'endToken': 2}\n",
      "['我', '们', '互', '通', '了', '几', '次', '邮', '件', '还', '挺', '合', '得', '来', '的']\n",
      "['我', '们']\n",
      "['null_projection']\n",
      "\n",
      "{'sentenceIndex': 13, 'startToken': 5, 'endToken': 7}\n",
      "['我', '们', '互', '通', '了', '几', '次', '邮', '件', '还', '挺', '合', '得', '来', '的']\n",
      "['几', '次']\n",
      "['n', 'o', 't', 'P', 'r', 'e', 's', 'e', 'n', 't']\n",
      "\n",
      "{'sentenceIndex': 14, 'startToken': 0, 'endToken': 1}\n",
      "['我', '难', '得', '遇', '上', '一', '个', '喜', '欢', '的', '姑', '娘', '你', '竟', '拐', '跑', '了', '她', '?', '不', '是', '啊']\n",
      "['我']\n",
      "['Raj']\n",
      "\n",
      "{'sentenceIndex': 14, 'startToken': 5, 'endToken': 12}\n",
      "['我', '难', '得', '遇', '上', '一', '个', '喜', '欢', '的', '姑', '娘', '你', '竟', '拐', '跑', '了', '她', '?', '不', '是', '啊']\n",
      "['一', '个', '喜', '欢', '的', '姑', '娘']\n",
      "['null_projection']\n",
      "\n",
      "{'sentenceIndex': 14, 'startToken': 5, 'endToken': 12}\n",
      "['我', '难', '得', '遇', '上', '一', '个', '喜', '欢', '的', '姑', '娘', '你', '竟', '拐', '跑', '了', '她', '?', '不', '是', '啊']\n",
      "['一', '个', '喜', '欢', '的', '姑', '娘']\n",
      "[{'sentenceIndex': 2, 'startToken': 0, 'endToken': 5}]\n",
      "\n",
      "{'sentenceIndex': 14, 'startToken': 12, 'endToken': 13}\n",
      "['我', '难', '得', '遇', '上', '一', '个', '喜', '欢', '的', '姑', '娘', '你', '竟', '拐', '跑', '了', '她', '?', '不', '是', '啊']\n",
      "['你']\n",
      "['Amy']\n",
      "\n",
      "{'sentenceIndex': 14, 'startToken': 17, 'endToken': 18}\n",
      "['我', '难', '得', '遇', '上', '一', '个', '喜', '欢', '的', '姑', '娘', '你', '竟', '拐', '跑', '了', '她', '?', '不', '是', '啊']\n",
      "['她']\n",
      "[{'sentenceIndex': 14, 'startToken': 5, 'endToken': 12}]\n",
      "\n",
      "{'sentenceIndex': 14, 'startToken': 17, 'endToken': 18}\n",
      "['我', '难', '得', '遇', '上', '一', '个', '喜', '欢', '的', '姑', '娘', '你', '竟', '拐', '跑', '了', '她', '?', '不', '是', '啊']\n",
      "['她']\n",
      "['null_projection']\n",
      "\n",
      "{'sentenceIndex': 15, 'startToken': 4, 'endToken': 6}\n",
      "['我', '们', '发', '现', '我', '们', '有', '很', '多', '共', '同', '点', '我', '们', '都', '上', '过', '哈', '佛', '喜', '欢', '乔', '叟', '都', '是', '缝', '纫', '控']\n",
      "['我', '们']\n",
      "['Amy']\n",
      "\n",
      "{'sentenceIndex': 15, 'startToken': 4, 'endToken': 6}\n",
      "['我', '们', '发', '现', '我', '们', '有', '很', '多', '共', '同', '点', '我', '们', '都', '上', '过', '哈', '佛', '喜', '欢', '乔', '叟', '都', '是', '缝', '纫', '控']\n",
      "['我', '们']\n",
      "[{'sentenceIndex': 13, 'startToken': 0, 'endToken': 2}]\n",
      "\n",
      "{'sentenceIndex': 15, 'startToken': 4, 'endToken': 6}\n",
      "['我', '们', '发', '现', '我', '们', '有', '很', '多', '共', '同', '点', '我', '们', '都', '上', '过', '哈', '佛', '喜', '欢', '乔', '叟', '都', '是', '缝', '纫', '控']\n",
      "['我', '们']\n",
      "['null_projection']\n",
      "\n",
      "{'sentenceIndex': 15, 'startToken': 7, 'endToken': 12}\n",
      "['我', '们', '发', '现', '我', '们', '有', '很', '多', '共', '同', '点', '我', '们', '都', '上', '过', '哈', '佛', '喜', '欢', '乔', '叟', '都', '是', '缝', '纫', '控']\n",
      "['很', '多', '共', '同', '点']\n",
      "['n', 'o', 't', 'P', 'r', 'e', 's', 'e', 'n', 't']\n",
      "\n",
      "{'sentenceIndex': 15, 'startToken': 12, 'endToken': 14}\n",
      "['我', '们', '发', '现', '我', '们', '有', '很', '多', '共', '同', '点', '我', '们', '都', '上', '过', '哈', '佛', '喜', '欢', '乔', '叟', '都', '是', '缝', '纫', '控']\n",
      "['我', '们']\n",
      "['Amy']\n",
      "\n",
      "{'sentenceIndex': 15, 'startToken': 12, 'endToken': 14}\n",
      "['我', '们', '发', '现', '我', '们', '有', '很', '多', '共', '同', '点', '我', '们', '都', '上', '过', '哈', '佛', '喜', '欢', '乔', '叟', '都', '是', '缝', '纫', '控']\n",
      "['我', '们']\n",
      "[{'sentenceIndex': 15, 'startToken': 4, 'endToken': 6}]\n",
      "\n",
      "{'sentenceIndex': 15, 'startToken': 12, 'endToken': 14}\n",
      "['我', '们', '发', '现', '我', '们', '有', '很', '多', '共', '同', '点', '我', '们', '都', '上', '过', '哈', '佛', '喜', '欢', '乔', '叟', '都', '是', '缝', '纫', '控']\n",
      "['我', '们']\n",
      "['null_projection']\n",
      "\n",
      "{'sentenceIndex': 15, 'startToken': 17, 'endToken': 19}\n",
      "['我', '们', '发', '现', '我', '们', '有', '很', '多', '共', '同', '点', '我', '们', '都', '上', '过', '哈', '佛', '喜', '欢', '乔', '叟', '都', '是', '缝', '纫', '控']\n",
      "['哈', '佛']\n",
      "['n', 'o', 't', 'P', 'r', 'e', 's', 'e', 'n', 't']\n",
      "\n",
      "{'sentenceIndex': 15, 'startToken': 21, 'endToken': 23}\n",
      "['我', '们', '发', '现', '我', '们', '有', '很', '多', '共', '同', '点', '我', '们', '都', '上', '过', '哈', '佛', '喜', '欢', '乔', '叟', '都', '是', '缝', '纫', '控']\n",
      "['乔', '叟']\n",
      "['n', 'o', 't', 'P', 'r', 'e', 's', 'e', 'n', 't']\n",
      "\n",
      "{'sentenceIndex': 15, 'startToken': 23, 'endToken': 24}\n",
      "['我', '们', '发', '现', '我', '们', '有', '很', '多', '共', '同', '点', '我', '们', '都', '上', '过', '哈', '佛', '喜', '欢', '乔', '叟', '都', '是', '缝', '纫', '控']\n",
      "['都']\n",
      "['Amy']\n",
      "\n",
      "{'sentenceIndex': 15, 'startToken': 23, 'endToken': 24}\n",
      "['我', '们', '发', '现', '我', '们', '有', '很', '多', '共', '同', '点', '我', '们', '都', '上', '过', '哈', '佛', '喜', '欢', '乔', '叟', '都', '是', '缝', '纫', '控']\n",
      "['都']\n",
      "[{'sentenceIndex': 14, 'startToken': 17, 'endToken': 18}]\n",
      "\n",
      "{'sentenceIndex': 15, 'startToken': 23, 'endToken': 24}\n",
      "['我', '们', '发', '现', '我', '们', '有', '很', '多', '共', '同', '点', '我', '们', '都', '上', '过', '哈', '佛', '喜', '欢', '乔', '叟', '都', '是', '缝', '纫', '控']\n",
      "['都']\n",
      "[{'sentenceIndex': 2, 'startToken': 0, 'endToken': 5}]\n",
      "\n",
      "{'sentenceIndex': 15, 'startToken': 25, 'endToken': 27}\n",
      "['我', '们', '发', '现', '我', '们', '有', '很', '多', '共', '同', '点', '我', '们', '都', '上', '过', '哈', '佛', '喜', '欢', '乔', '叟', '都', '是', '缝', '纫', '控']\n",
      "['缝', '纫']\n",
      "['n', 'o', 't', 'P', 'r', 'e', 's', 'e', 'n', 't']\n",
      "\n",
      "{'sentenceIndex': 16, 'startToken': 0, 'endToken': 1}\n",
      "['你', '的', '话', '像', '酸', '雨', '一', '样', '侵', '蚀', '我', '受', '伤', '的', '心']\n",
      "['你']\n",
      "['Amy']\n",
      "\n",
      "{'sentenceIndex': 16, 'startToken': 0, 'endToken': 1}\n",
      "['你', '的', '话', '像', '酸', '雨', '一', '样', '侵', '蚀', '我', '受', '伤', '的', '心']\n",
      "['你']\n",
      "['n', 'o', 't', 'P', 'r', 'e', 's', 'e', 'n', 't']\n",
      "\n",
      "{'sentenceIndex': 16, 'startToken': 4, 'endToken': 6}\n",
      "['你', '的', '话', '像', '酸', '雨', '一', '样', '侵', '蚀', '我', '受', '伤', '的', '心']\n",
      "['酸', '雨']\n",
      "[{'sentenceIndex': 16, 'startToken': 0, 'endToken': 1}]\n",
      "\n",
      "{'sentenceIndex': 16, 'startToken': 10, 'endToken': 15}\n",
      "['你', '的', '话', '像', '酸', '雨', '一', '样', '侵', '蚀', '我', '受', '伤', '的', '心']\n",
      "['我', '受', '伤', '的', '心']\n",
      "['n', 'o', 't', 'P', 'r', 'e', 's', 'e', 'n', 't']\n",
      "\n",
      "{'sentenceIndex': 16, 'startToken': 10, 'endToken': 15}\n",
      "['你', '的', '话', '像', '酸', '雨', '一', '样', '侵', '蚀', '我', '受', '伤', '的', '心']\n",
      "['我', '受', '伤', '的', '心']\n",
      "['n', 'o', 't', 'P', 'r', 'e', 's', 'e', 'n', 't']\n",
      "\n",
      "{'sentenceIndex': 16, 'startToken': 10, 'endToken': 11}\n",
      "['你', '的', '话', '像', '酸', '雨', '一', '样', '侵', '蚀', '我', '受', '伤', '的', '心']\n",
      "['我']\n",
      "['Raj']\n",
      "\n",
      "====================================================================================================\n"
     ]
    }
   ],
   "source": [
    "for i in range(1):\n",
    "    sample = data[i]\n",
    "    sentences = sample['sentences']\n",
    "    annotations = sample['annotations']\n",
    "    for anno in annotations:\n",
    "        query = anno['query']\n",
    "        antecedents = anno['antecedents']\n",
    "        print(query)\n",
    "        print(sentences[query['sentenceIndex']])\n",
    "        print(sentences[query['sentenceIndex']][query['startToken']: query['endToken']])\n",
    "        print(antecedents)\n",
    "        print()\n",
    "    print(\"==\"*50)"
   ],
   "metadata": {
    "collapsed": false,
    "pycharm": {
     "name": "#%%\n"
    }
   }
  },
  {
   "cell_type": "code",
   "execution_count": 237,
   "outputs": [],
   "source": [
    "correction_dict = {(5, 7, 9):(5, 7, 10), (11,4,7):(11,5,7)}\n",
    "remove_dict = {(7,7,8):None, (8,22,24):None}"
   ],
   "metadata": {
    "collapsed": false,
    "pycharm": {
     "name": "#%%\n"
    }
   }
  },
  {
   "cell_type": "code",
   "execution_count": 253,
   "outputs": [],
   "source": [
    "output = []\n",
    "for i in range(1):\n",
    "    sample = data[i]\n",
    "    new_annotations = []\n",
    "    for anno in annotations:\n",
    "        new_anno = deepcopy(anno)\n",
    "        temp = (anno['query']['sentenceIndex'], anno['query']['startToken'], anno['query']['endToken'])\n",
    "        # if temp in remove_dict:\n",
    "        #     continue\n",
    "        # if temp in correction_dict:\n",
    "        #     sentenceIndex, startToken, endToken = correction_dict[temp]\n",
    "        #     new_anno['query']['sentenceIndex'] = sentenceIndex\n",
    "        #     new_anno['query']['startToken'] = startToken\n",
    "        #     new_anno['query']['endToken'] = endToken\n",
    "        new_annotations.append(new_anno)\n",
    "    sample['annotations'] = new_annotations\n",
    "    output.append(sample)"
   ],
   "metadata": {
    "collapsed": false,
    "pycharm": {
     "name": "#%%\n"
    }
   }
  },
  {
   "cell_type": "code",
   "execution_count": 254,
   "outputs": [],
   "source": [
    "with open('data/raw_source/sample_uncorrected/temp.json', 'w') as f:\n",
    "    json.dump(output, f)"
   ],
   "metadata": {
    "collapsed": false,
    "pycharm": {
     "name": "#%%\n"
    }
   }
  },
  {
   "cell_type": "code",
   "execution_count": 246,
   "outputs": [],
   "source": [
    "with open('data/raw_source/sample/temp.pkl', 'wb') as f:\n",
    "    pkl.dump(sample, f)"
   ],
   "metadata": {
    "collapsed": false,
    "pycharm": {
     "name": "#%%\n"
    }
   }
  },
  {
   "cell_type": "code",
   "execution_count": null,
   "outputs": [],
   "source": [],
   "metadata": {
    "collapsed": false,
    "pycharm": {
     "name": "#%%\n"
    }
   }
  },
  {
   "cell_type": "code",
   "execution_count": null,
   "outputs": [],
   "source": [],
   "metadata": {
    "collapsed": false,
    "pycharm": {
     "name": "#%%\n"
    }
   }
  },
  {
   "cell_type": "code",
   "execution_count": null,
   "outputs": [],
   "source": [],
   "metadata": {
    "collapsed": false,
    "pycharm": {
     "name": "#%%\n"
    }
   }
  }
 ],
 "metadata": {
  "kernelspec": {
   "display_name": "Python 3",
   "language": "python",
   "name": "python3"
  },
  "language_info": {
   "codemirror_mode": {
    "name": "ipython",
    "version": 2
   },
   "file_extension": ".py",
   "mimetype": "text/x-python",
   "name": "python",
   "nbconvert_exporter": "python",
   "pygments_lexer": "ipython2",
   "version": "2.7.6"
  }
 },
 "nbformat": 4,
 "nbformat_minor": 0
}
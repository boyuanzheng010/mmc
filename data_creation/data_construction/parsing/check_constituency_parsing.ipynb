{
 "cells": [
  {
   "cell_type": "code",
   "execution_count": null,
   "metadata": {
    "collapsed": true,
    "pycharm": {
     "name": "#%%\n"
    }
   },
   "outputs": [],
   "source": []
  },
  {
   "cell_type": "code",
   "execution_count": 1,
   "outputs": [
    {
     "data": {
      "text/plain": "<benepar.integrations.spacy_plugin.BeneparComponent at 0x7fd9cabb0e20>"
     },
     "execution_count": 1,
     "metadata": {},
     "output_type": "execute_result"
    }
   ],
   "source": [
    "import benepar, spacy\n",
    "nlp = spacy.load('en_core_web_md')\n",
    "nlp.add_pipe('benepar', config={'model': 'benepar_en3_large'})"
   ],
   "metadata": {
    "collapsed": false,
    "pycharm": {
     "name": "#%%\n"
    }
   }
  },
  {
   "cell_type": "code",
   "execution_count": 19,
   "outputs": [
    {
     "name": "stdout",
     "output_type": "stream",
     "text": [
      "(S (NP (NP (DT The) (NN time)) (PP (IN for) (NP (NN action)))) (VP (VBZ is) (ADVP (RB now))) (. .))\n",
      "('S',)\n",
      "The time for action\n"
     ]
    }
   ],
   "source": [
    "doc = nlp('The time for action is now. It is never too late to do something.')\n",
    "sent = list(doc.sents)[0]\n",
    "print(sent._.parse_string)\n",
    "# (S (NP (NP (DT The) (NN time)) (PP (IN for) (NP (NN action)))) (VP (VBZ is) (ADVP (RB now))) (. .))\n",
    "print(sent._.labels)\n",
    "# ('S',)\n",
    "print(list(sent._.children)[0])\n",
    "# The time for action"
   ],
   "metadata": {
    "collapsed": false,
    "pycharm": {
     "name": "#%%\n"
    }
   }
  },
  {
   "cell_type": "code",
   "execution_count": 3,
   "outputs": [
    {
     "name": "stdout",
     "output_type": "stream",
     "text": [
      "The time for action is now.\n",
      "The time for action is now. ('S',) 0 7\n",
      "The time for action ('NP',) 0 4\n",
      "The time ('NP',) 0 2\n",
      "The () 0 1\n",
      "time () 1 2\n",
      "for action ('PP',) 2 4\n",
      "for () 2 3\n",
      "action ('NP',) 3 4\n",
      "is now ('VP',) 4 6\n",
      "is () 4 5\n",
      "now ('ADVP',) 5 6\n",
      ". () 6 7\n",
      "It is never too late to do something.\n",
      "It is never too late to do something. ('S',) 7 16\n",
      "It ('NP',) 7 8\n",
      "is never too late to do something ('VP',) 8 15\n",
      "is () 8 9\n",
      "never ('ADVP',) 9 10\n",
      "too late to do something ('ADJP',) 10 15\n",
      "too late ('ADJP',) 10 12\n",
      "too () 10 11\n",
      "late () 11 12\n",
      "to do something ('S', 'VP') 12 15\n",
      "to () 12 13\n",
      "do something ('VP',) 13 15\n",
      "do () 13 14\n",
      "something ('NP',) 14 15\n",
      ". () 15 16\n"
     ]
    }
   ],
   "source": [
    "doc = nlp('The time for action is now. It is never too late to do something.')\n",
    "for sent in list(doc.sents):\n",
    "    print(sent)\n",
    "    for item in sent._.constituents:\n",
    "        print(item, item._.labels, item.start, item.end)"
   ],
   "metadata": {
    "collapsed": false,
    "pycharm": {
     "name": "#%%\n"
    }
   }
  },
  {
   "cell_type": "code",
   "execution_count": 6,
   "outputs": [
    {
     "name": "stdout",
     "output_type": "stream",
     "text": [
      "The time for action NP 0 4\n",
      "The time NP 0 2\n",
      "action NP 3 4\n",
      "It NP 7 8\n",
      "something NP 14 15\n"
     ]
    }
   ],
   "source": [
    "for sent in list(doc.sents):\n",
    "    for item in sent._.constituents:\n",
    "        if len(item._.labels)==0:\n",
    "            continue\n",
    "        if item._.labels[0]!=\"NP\":\n",
    "            continue\n",
    "        print(item, item._.labels[0], item.start, item.end)"
   ],
   "metadata": {
    "collapsed": false,
    "pycharm": {
     "name": "#%%\n"
    }
   }
  },
  {
   "cell_type": "code",
   "execution_count": null,
   "outputs": [],
   "source": [],
   "metadata": {
    "collapsed": false,
    "pycharm": {
     "name": "#%%\n"
    }
   }
  },
  {
   "cell_type": "code",
   "execution_count": null,
   "outputs": [],
   "source": [],
   "metadata": {
    "collapsed": false,
    "pycharm": {
     "name": "#%%\n"
    }
   }
  },
  {
   "cell_type": "code",
   "execution_count": null,
   "outputs": [],
   "source": [],
   "metadata": {
    "collapsed": false,
    "pycharm": {
     "name": "#%%\n"
    }
   }
  },
  {
   "cell_type": "code",
   "execution_count": null,
   "outputs": [],
   "source": [],
   "metadata": {
    "collapsed": false,
    "pycharm": {
     "name": "#%%\n"
    }
   }
  },
  {
   "cell_type": "code",
   "execution_count": null,
   "outputs": [],
   "source": [],
   "metadata": {
    "collapsed": false,
    "pycharm": {
     "name": "#%%\n"
    }
   }
  },
  {
   "cell_type": "code",
   "execution_count": null,
   "outputs": [],
   "source": [],
   "metadata": {
    "collapsed": false,
    "pycharm": {
     "name": "#%%\n"
    }
   }
  }
 ],
 "metadata": {
  "kernelspec": {
   "display_name": "Python 3",
   "language": "python",
   "name": "python3"
  },
  "language_info": {
   "codemirror_mode": {
    "name": "ipython",
    "version": 2
   },
   "file_extension": ".py",
   "mimetype": "text/x-python",
   "name": "python",
   "nbconvert_exporter": "python",
   "pygments_lexer": "ipython2",
   "version": "2.7.6"
  }
 },
 "nbformat": 4,
 "nbformat_minor": 0
}
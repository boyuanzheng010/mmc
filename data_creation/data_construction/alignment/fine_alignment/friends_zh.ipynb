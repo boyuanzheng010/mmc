{
 "cells": [
  {
   "cell_type": "code",
   "execution_count": null,
   "metadata": {
    "collapsed": true,
    "pycharm": {
     "name": "#%%\n"
    }
   },
   "outputs": [],
   "source": []
  },
  {
   "cell_type": "code",
   "execution_count": 1,
   "outputs": [],
   "source": [
    "import pickle as pkl\n",
    "import json\n",
    "from collections import defaultdict\n",
    "import jiwer\n",
    "from copy import deepcopy\n",
    "from tqdm import tqdm\n",
    "import xlsxwriter\n",
    "import re"
   ],
   "metadata": {
    "collapsed": false,
    "pycharm": {
     "name": "#%%\n"
    }
   }
  },
  {
   "cell_type": "code",
   "execution_count": 2,
   "outputs": [],
   "source": [
    "from utils.preprocessing import organize_coarse_alignment_by_seasons\n",
    "from utils.preprocessing import fetch_subsets"
   ],
   "metadata": {
    "collapsed": false,
    "pycharm": {
     "name": "#%%\n"
    }
   }
  },
  {
   "cell_type": "code",
   "execution_count": 3,
   "outputs": [],
   "source": [
    "# Define sentence transformation\n",
    "transformation = jiwer.Compose([\n",
    "    jiwer.ToLowerCase(),\n",
    "    jiwer.RemoveMultipleSpaces(),\n",
    "    jiwer.ExpandCommonEnglishContractions(),\n",
    "    jiwer.RemovePunctuation(),\n",
    "    jiwer.Strip()\n",
    "])"
   ],
   "metadata": {
    "collapsed": false,
    "pycharm": {
     "name": "#%%\n"
    }
   }
  },
  {
   "cell_type": "markdown",
   "source": [
    "## Load Source file"
   ],
   "metadata": {
    "collapsed": false,
    "pycharm": {
     "name": "#%% md\n"
    }
   }
  },
  {
   "cell_type": "code",
   "execution_count": 4,
   "outputs": [],
   "source": [
    "# Set File Path\n",
    "en_subtitle_path = \"../../source_data/subtitles/en_zh/en_subtitles.pkl\"\n",
    "other_subtitle_path = \"../../source_data/subtitles/en_zh/zh_subtitles.pkl\"\n",
    "transcript_path = \"../../source_data/transcripts/friends/friends_transcripts.pkl\"\n",
    "coarse_alignment_path = \"../coarse_alignment/results/friends_en_zh.pkl\"\n",
    "root_path = \"results/friends_en_zh/\"\n",
    "\n",
    "\n",
    "# Load Data\n",
    "with open(en_subtitle_path, 'rb') as f:\n",
    "    all_en_subtitles = pkl.load(f)\n",
    "with open(other_subtitle_path, 'rb') as f:\n",
    "    all_other_subtitles = pkl.load(f)\n",
    "with open(transcript_path, 'rb') as f:\n",
    "    all_transcripts = pkl.load(f)"
   ],
   "metadata": {
    "collapsed": false,
    "pycharm": {
     "name": "#%%\n"
    }
   }
  },
  {
   "cell_type": "markdown",
   "source": [
    "# Section 1: Coarse-Grain Alignment\n",
    "Use string match to fetch relevant index of open subtitle for each episode\n",
    "The code for coarse alignment locates at \"../coarse_alignment/align_transcript_subtitle.py\"\n",
    "The alignment results locates at \"../coarse_alignment/results/\""
   ],
   "metadata": {
    "collapsed": false,
    "pycharm": {
     "name": "#%% md\n"
    }
   }
  },
  {
   "cell_type": "code",
   "execution_count": 5,
   "outputs": [],
   "source": [
    "with open(coarse_alignment_path, 'rb') as f:\n",
    "    temp = pkl.load(f)\n",
    "    coarse_alignments = organize_coarse_alignment_by_seasons(temp)"
   ],
   "metadata": {
    "collapsed": false,
    "pycharm": {
     "name": "#%%\n"
    }
   }
  },
  {
   "cell_type": "markdown",
   "source": [
    "# Section 2: Fine-Grained Alignment\n",
    "\n",
    "In this section, we fetch alignment within one episode using the course alignment indexs fetch in the last section.\n",
    "\n",
    "This include the following parts:\n",
    "\n",
    "2.1: Fetch transcript episode and open subtitle subset\n",
    "2.2: Exact String Match (Use as the seed, since it is more accurate)\n",
    "2.3: Substring Exact Match (Sliding Window Algorithm)\n",
    "2.4: Merge the alignment result of 2.2, 2.3 and filter by the index"
   ],
   "metadata": {
    "collapsed": false,
    "pycharm": {
     "name": "#%% md\n"
    }
   }
  },
  {
   "cell_type": "markdown",
   "source": [
    "## Part 2.1: Fetch Subsets"
   ],
   "metadata": {
    "collapsed": false,
    "pycharm": {
     "name": "#%% md\n"
    }
   }
  },
  {
   "cell_type": "code",
   "execution_count": 43,
   "outputs": [
    {
     "ename": "IndexError",
     "evalue": "list index out of range",
     "output_type": "error",
     "traceback": [
      "\u001B[0;31m---------------------------------------------------------------------------\u001B[0m",
      "\u001B[0;31mIndexError\u001B[0m                                Traceback (most recent call last)",
      "\u001B[0;32m/var/folders/w9/673mfrb56v7dvx7hhvw7s6240000gn/T/ipykernel_46490/555508342.py\u001B[0m in \u001B[0;36m<module>\u001B[0;34m\u001B[0m\n\u001B[1;32m      1\u001B[0m \u001B[0;31m# An example of fetch_subset function\u001B[0m\u001B[0;34m\u001B[0m\u001B[0;34m\u001B[0m\u001B[0;34m\u001B[0m\u001B[0m\n\u001B[0;32m----> 2\u001B[0;31m (en_subtitle, other_subtitle, tbbt_episode) = fetch_subsets(\n\u001B[0m\u001B[1;32m      3\u001B[0m         \u001B[0mepisode\u001B[0m\u001B[0;34m=\u001B[0m\u001B[0mall_transcripts\u001B[0m\u001B[0;34m,\u001B[0m\u001B[0;34m\u001B[0m\u001B[0;34m\u001B[0m\u001B[0m\n\u001B[1;32m      4\u001B[0m         \u001B[0men_subtitle\u001B[0m\u001B[0;34m=\u001B[0m\u001B[0mall_en_subtitles\u001B[0m\u001B[0;34m,\u001B[0m\u001B[0;34m\u001B[0m\u001B[0;34m\u001B[0m\u001B[0m\n\u001B[1;32m      5\u001B[0m         \u001B[0mzh_subtitle\u001B[0m\u001B[0;34m=\u001B[0m\u001B[0mall_other_subtitles\u001B[0m\u001B[0;34m,\u001B[0m\u001B[0;34m\u001B[0m\u001B[0;34m\u001B[0m\u001B[0m\n",
      "\u001B[0;32m~/PycharmProjects/multi_coref/data_construction/alignment/fine_alignment/utils/preprocessing.py\u001B[0m in \u001B[0;36mfetch_subsets\u001B[0;34m(episode, en_subtitle, zh_subtitle, results, season_id, episode_id, bias, zh_split)\u001B[0m\n\u001B[1;32m    122\u001B[0m     \"\"\"\n\u001B[1;32m    123\u001B[0m     \u001B[0midx_list\u001B[0m\u001B[0;34m,\u001B[0m \u001B[0mgaps\u001B[0m \u001B[0;34m=\u001B[0m \u001B[0mget_epi_indexs_gaps\u001B[0m\u001B[0;34m(\u001B[0m\u001B[0mresults\u001B[0m\u001B[0;34m[\u001B[0m\u001B[0mseason_id\u001B[0m\u001B[0;34m]\u001B[0m\u001B[0;34m[\u001B[0m\u001B[0mepisode_id\u001B[0m\u001B[0;34m]\u001B[0m\u001B[0;34m)\u001B[0m\u001B[0;34m\u001B[0m\u001B[0;34m\u001B[0m\u001B[0m\n\u001B[0;32m--> 124\u001B[0;31m     \u001B[0msubsets\u001B[0m \u001B[0;34m=\u001B[0m \u001B[0mfind_all_continuous_subsets\u001B[0m\u001B[0;34m(\u001B[0m\u001B[0midx_list\u001B[0m\u001B[0;34m,\u001B[0m \u001B[0mgaps\u001B[0m\u001B[0;34m,\u001B[0m \u001B[0;36m6\u001B[0m\u001B[0;34m,\u001B[0m \u001B[0;36m100\u001B[0m\u001B[0;34m)\u001B[0m\u001B[0;34m[\u001B[0m\u001B[0;34m-\u001B[0m\u001B[0;36m1\u001B[0m\u001B[0;34m]\u001B[0m\u001B[0;34m\u001B[0m\u001B[0;34m\u001B[0m\u001B[0m\n\u001B[0m\u001B[1;32m    125\u001B[0m     \u001B[0;31m# Calculate gaps within the subset\u001B[0m\u001B[0;34m\u001B[0m\u001B[0;34m\u001B[0m\u001B[0;34m\u001B[0m\u001B[0m\n\u001B[1;32m    126\u001B[0m     \u001B[0mgaps_subsets\u001B[0m \u001B[0;34m=\u001B[0m \u001B[0mcalculate_gaps\u001B[0m\u001B[0;34m(\u001B[0m\u001B[0msubsets\u001B[0m\u001B[0;34m)\u001B[0m\u001B[0;34m\u001B[0m\u001B[0;34m\u001B[0m\u001B[0m\n",
      "\u001B[0;31mIndexError\u001B[0m: list index out of range"
     ]
    }
   ],
   "source": [
    "# An example of fetch_subset function\n",
    "(en_subtitle, other_subtitle, tbbt_episode) = fetch_subsets(\n",
    "        episode=all_transcripts,\n",
    "        en_subtitle=all_en_subtitles,\n",
    "        zh_subtitle=all_other_subtitles,\n",
    "        results=coarse_alignments,\n",
    "        season_id=3,\n",
    "        episode_id=10,\n",
    "        bias=200,\n",
    "        zh_split=True\n",
    "    )\n",
    "\n",
    "for a, b in zip(en_subtitle, other_subtitle):\n",
    "    print(a, b)"
   ],
   "metadata": {
    "collapsed": false,
    "pycharm": {
     "name": "#%%\n"
    }
   }
  },
  {
   "cell_type": "markdown",
   "source": [
    "## Part2: Generate Alignment Seeds"
   ],
   "metadata": {
    "collapsed": false,
    "pycharm": {
     "name": "#%% md\n"
    }
   }
  },
  {
   "cell_type": "code",
   "execution_count": 6,
   "outputs": [],
   "source": [
    "from utils.alignment_seeds import *"
   ],
   "metadata": {
    "collapsed": false,
    "pycharm": {
     "name": "#%%\n"
    }
   }
  },
  {
   "cell_type": "code",
   "execution_count": 47,
   "outputs": [
    {
     "name": "stdout",
     "output_type": "stream",
     "text": [
      "Season: 3   Episode: 6\n",
      "Pass Season 3 Episode: 6\n",
      "Season: 3   Episode: 7\n",
      "Pass Season 3 Episode: 7\n",
      "Season: 3   Episode: 8\n",
      "Pass Season 3 Episode: 8\n",
      "Season: 3   Episode: 9\n",
      "Pass Season 3 Episode: 9\n",
      "Season: 3   Episode: 10\n",
      "Pass Season 3 Episode: 10\n",
      "Season: 3   Episode: 11\n",
      "Pass Season 3 Episode: 11\n",
      "Season: 3   Episode: 12\n",
      "Pass Season 3 Episode: 12\n",
      "Season: 3   Episode: 13\n",
      "Pass Season 3 Episode: 13\n",
      "Season: 3   Episode: 14\n",
      "Pass Season 3 Episode: 14\n",
      "Season: 3   Episode: 15\n",
      "Season: 3   Episode: 16\n",
      "Season: 3   Episode: 17\n",
      "Pass Season 3 Episode: 17\n",
      "Season: 3   Episode: 18\n",
      "Pass Season 3 Episode: 18\n",
      "Season: 3   Episode: 19\n",
      "Pass Season 3 Episode: 19\n",
      "Season: 3   Episode: 20\n",
      "Pass Season 3 Episode: 20\n",
      "Season: 3   Episode: 21\n",
      "Pass Season 3 Episode: 21\n",
      "Season: 3   Episode: 22\n",
      "Pass Season 3 Episode: 22\n",
      "Season: 3   Episode: 23\n",
      "Pass Season 3 Episode: 23\n",
      "Season: 3   Episode: 24\n",
      "Pass Season 3 Episode: 24\n",
      "Season: 3   Episode: 25\n",
      "Pass Season 3 Episode: 25\n"
     ]
    }
   ],
   "source": [
    "# Check the source alignment\n",
    "results = {}\n",
    "for i in sorted(list(coarse_alignments.keys())):\n",
    "    for j in sorted(list(coarse_alignments[i].keys())):\n",
    "        if (i, j) not in all_transcripts:\n",
    "            continue\n",
    "        try:\n",
    "            print(\"Season:\", i, \"  Episode:\", j)\n",
    "            (en_subset, zh_subset, tbbt_episode) = fetch_subsets(\n",
    "                episode=all_transcripts,\n",
    "                en_subtitle=all_en_subtitles,\n",
    "                zh_subtitle=all_other_subtitles,\n",
    "                results=coarse_alignments,\n",
    "                season_id=i,\n",
    "                episode_id=j,\n",
    "                bias=200,\n",
    "                zh_split=True\n",
    "                )\n",
    "            temp = generate_alignment_seeds(en_subset, tbbt_episode, window_size=12)\n",
    "            if temp != {}:\n",
    "                results[(i, j)] = temp\n",
    "        except:\n",
    "            print(\"Pass Season\", i, \"Episode:\", j)"
   ],
   "metadata": {
    "collapsed": false,
    "pycharm": {
     "name": "#%%\n"
    }
   }
  },
  {
   "cell_type": "code",
   "execution_count": 48,
   "outputs": [
    {
     "name": "stdout",
     "output_type": "stream",
     "text": [
      "{(3, 16): {200: [151, 151]}}\n"
     ]
    }
   ],
   "source": [
    "print(results)"
   ],
   "metadata": {
    "collapsed": false,
    "pycharm": {
     "name": "#%%\n"
    }
   }
  },
  {
   "cell_type": "code",
   "execution_count": 17,
   "outputs": [],
   "source": [
    "with open(root_path + \"0_alignment_seeds_12.pkl\", \"wb\") as f:\n",
    "    pkl.dump(results, f)"
   ],
   "metadata": {
    "collapsed": false,
    "pycharm": {
     "name": "#%%\n"
    }
   }
  },
  {
   "cell_type": "code",
   "execution_count": 13,
   "outputs": [],
   "source": [
    "with open(root_path + \"0_alignment_seeds_temp.pkl\", \"wb\") as f:\n",
    "    pkl.dump(results, f)"
   ],
   "metadata": {
    "collapsed": false,
    "pycharm": {
     "name": "#%%\n"
    }
   }
  },
  {
   "cell_type": "markdown",
   "source": [
    "## Part 3: Incrementally Extend from Alignment Seeds"
   ],
   "metadata": {
    "collapsed": false,
    "pycharm": {
     "name": "#%% md\n"
    }
   }
  },
  {
   "cell_type": "code",
   "execution_count": 18,
   "outputs": [],
   "source": [
    "with open(root_path + \"0_alignment_seeds_12.pkl\", \"rb\") as f:\n",
    "    alignment_seeds = pkl.load(f)"
   ],
   "metadata": {
    "collapsed": false,
    "pycharm": {
     "name": "#%%\n"
    }
   }
  },
  {
   "cell_type": "code",
   "execution_count": null,
   "outputs": [],
   "source": [
    "# The input to each extension function should be epi2sub"
   ],
   "metadata": {
    "collapsed": false,
    "pycharm": {
     "name": "#%%\n"
    }
   }
  },
  {
   "cell_type": "code",
   "execution_count": 7,
   "outputs": [],
   "source": [
    "from utils.alignment_extension import *\n",
    "from utils.helper_functions import *\n",
    "from utils.ultimate_alignment import *"
   ],
   "metadata": {
    "collapsed": false,
    "pycharm": {
     "name": "#%%\n"
    }
   }
  },
  {
   "cell_type": "code",
   "execution_count": 13,
   "outputs": [],
   "source": [
    "further_alignment = {}\n",
    "for (i, j) in alignment_seeds.keys():\n",
    "    (en_subset, zh_subset, tbbt_episode) = fetch_subsets(\n",
    "                episode=all_transcripts,\n",
    "                en_subtitle=all_en_subtitles,\n",
    "                zh_subtitle=all_other_subtitles,\n",
    "                results=coarse_alignments,\n",
    "                season_id=i,\n",
    "                episode_id=j,\n",
    "                bias=200,\n",
    "                zh_split=True\n",
    "            )\n",
    "    epi2sub = filter_by_idx(turn_sub2epi_into_epi2sub(alignment_seeds[(i,j)]))\n",
    "    # Extend the neighbor\n",
    "    while True:\n",
    "        temp_len = len(turn_sub2epi_into_epi2sub(epi2sub))\n",
    "        epi2sub = filter_by_idx(add_neighbor_subtitles_to_episode(en_subset, epi2sub, tbbt_episode))\n",
    "        if temp_len==len(turn_sub2epi_into_epi2sub(epi2sub)):\n",
    "            break\n",
    "\n",
    "    # Perform a set of extension\n",
    "    while True:\n",
    "        temp_len = len(turn_sub2epi_into_epi2sub(epi2sub))\n",
    "\n",
    "        gaps, _ = get_subset_in_gaps(epi2sub)\n",
    "        epi2sub = filter_by_idx(add_strict_match_within_gaps(gaps, epi2sub, en_subset, tbbt_episode))\n",
    "\n",
    "        gaps, _ = get_subset_in_gaps(epi2sub)\n",
    "        epi2sub = filter_by_idx(add_wer_match_within_gaps(gaps, epi2sub, en_subset, tbbt_episode))\n",
    "\n",
    "        gaps, _ = get_subset_in_gaps(epi2sub)\n",
    "        epi2sub = filter_by_idx(add_wer_substring_match_within_gaps(gaps, epi2sub, en_subset, tbbt_episode))\n",
    "\n",
    "        epi2sub = filter_by_idx(add_neighbor_subtitles_to_episode(en_subset, epi2sub, tbbt_episode))\n",
    "\n",
    "        if temp_len==len(turn_sub2epi_into_epi2sub(epi2sub)):\n",
    "            break\n",
    "\n",
    "    # Perform alignment within gaps\n",
    "    while True:\n",
    "        temp_len = len(turn_sub2epi_into_epi2sub(epi2sub))\n",
    "\n",
    "        gaps, _ = get_subset_in_gaps(epi2sub)\n",
    "        epi2sub = filter_by_idx(add_strict_match_within_gaps(gaps, epi2sub, en_subset, tbbt_episode))\n",
    "\n",
    "        gaps, _ = get_subset_in_gaps(epi2sub)\n",
    "        epi2sub = filter_by_idx(add_wer_match_within_gaps(gaps, epi2sub, en_subset, tbbt_episode))\n",
    "\n",
    "        gaps, _ = get_subset_in_gaps(epi2sub)\n",
    "        epi2sub = filter_by_idx(add_wer_substring_match_within_gaps(gaps, epi2sub, en_subset, tbbt_episode))\n",
    "\n",
    "        epi2sub = filter_by_idx(extend_neighbors_episode_sliding(en_subset, epi2sub, tbbt_episode))\n",
    "\n",
    "        if temp_len==len(turn_sub2epi_into_epi2sub(epi2sub)):\n",
    "            break\n",
    "\n",
    "    # Extend Subtitle ids with its min and max index\n",
    "    for x in epi2sub:\n",
    "        epi2sub[x] = [i for i in range(min(epi2sub[x]), max(epi2sub[x])+1)]\n",
    "\n",
    "    # Perform ultimate alignment\n",
    "    gaps = get_final_stage_gap_pairs(epi2sub)\n",
    "    epi2sub = ultimate_alignment(gaps, epi2sub, en_subset, tbbt_episode)\n",
    "\n",
    "    further_alignment[(i,j)] = epi2sub"
   ],
   "metadata": {
    "collapsed": false,
    "pycharm": {
     "name": "#%%\n"
    }
   }
  },
  {
   "cell_type": "code",
   "execution_count": 20,
   "outputs": [
    {
     "name": "stdout",
     "output_type": "stream",
     "text": [
      "(1, 1) Subtitle: 429 0.988479262672811 || Episode: 231 73.33333333333333 5\n",
      "(1, 2) Subtitle: 294 0.8936170212765957 || Episode: 182 71.65354330708661 9\n",
      "(1, 3) Subtitle: 216 0.9113924050632911 || Episode: 142 52.20588235294118 56\n",
      "(1, 4) Subtitle: 295 0.855072463768116 || Episode: 199 74.25373134328358 3\n",
      "(1, 5) Subtitle: 320 0.9384164222873901 || Episode: 189 74.40944881889764 2\n",
      "(1, 6) Subtitle: 224 0.9068825910931174 || Episode: 140 61.135371179039296 49\n",
      "(1, 7) Subtitle: 256 0.8648648648648649 || Episode: 159 63.095238095238095 12\n",
      "(1, 8) Subtitle: 256 0.8737201365187713 || Episode: 187 76.01626016260163 12\n",
      "(1, 9) Subtitle: 304 0.9047619047619048 || Episode: 181 74.79338842975206 4\n",
      "(1, 10) Subtitle: 262 0.8704318936877077 || Episode: 150 62.24066390041494 40\n",
      "(1, 11) Subtitle: 328 0.9291784702549575 || Episode: 220 74.07407407407408 0\n",
      "(1, 12) Subtitle: 268 0.9337979094076655 || Episode: 173 64.07407407407408 2\n",
      "(1, 13) Subtitle: 305 0.9214501510574018 || Episode: 193 75.390625 5\n",
      "(1, 14) Subtitle: 243 0.8966789667896679 || Episode: 136 66.01941747572816 28\n",
      "(1, 15) Subtitle: 289 0.9088050314465409 || Episode: 186 72.09302325581395 4\n",
      "(1, 16) Subtitle: 268 0.8963210702341137 || Episode: 195 67.94425087108013 13\n",
      "(1, 17) Subtitle: 639 0.9342105263157895 || Episode: 212 71.62162162162163 2\n",
      "(1, 18) Subtitle: 221 0.8735177865612648 || Episode: 154 56.00000000000001 65\n",
      "(1, 19) Subtitle: 246 0.9389312977099237 || Episode: 154 60.86956521739131 35\n",
      "(1, 20) Subtitle: 299 0.940251572327044 || Episode: 190 74.21875 4\n",
      "(1, 22) Subtitle: 299 0.9462025316455697 || Episode: 198 68.27586206896552 13\n",
      "(1, 24) Subtitle: 276 0.887459807073955 || Episode: 191 71.00371747211895 17\n",
      "Wrong\n",
      "(4, 19) Subtitle: 3 1.5 || Episode: 1 0.3558718861209964 246\n",
      "Wrong\n",
      "Wrong\n",
      "Wrong\n",
      "(9, 12) Subtitle: 338 0.9467787114845938 || Episode: 203 78.07692307692308 2\n"
     ]
    }
   ],
   "source": [
    "for item in further_alignment:\n",
    "    epi2sub = further_alignment[item]\n",
    "    sub2epi = turn_sub2epi_into_epi2sub(further_alignment[item])\n",
    "    try:\n",
    "        print(item, \"Subtitle:\", len(sub2epi), len(sub2epi)/(max(sub2epi)-min(sub2epi)), \"||\", \"Episode:\", len(further_alignment[item]),  len(further_alignment[item])/len(all_transcripts[item])*100, min(further_alignment[item].keys()))\n",
    "    except:\n",
    "        print(\"Wrong\")\n",
    "    # print(epi2sub)"
   ],
   "metadata": {
    "collapsed": false,
    "pycharm": {
     "name": "#%%\n"
    }
   }
  },
  {
   "cell_type": "code",
   "execution_count": 18,
   "outputs": [
    {
     "name": "stdout",
     "output_type": "stream",
     "text": [
      "{190: [0], 193: [0], 195: [2], 196: [5], 204: [8], 205: [9], 213: [15], 214: [15], 216: [16], 217: [17], 219: [17], 225: [23], 229: [29], 232: [33], 236: [35], 238: [36], 239: [37], 243: [41], 246: [46], 249: [48], 253: [55], 256: [63], 258: [65], 260: [67], 272: [75], 275: [81], 276: [81], 277: [82], 280: [87], 281: [88], 282: [89], 283: [92], 285: [95], 287: [96], 290: [99], 292: [101], 294: [104], 297: [107], 298: [108], 304: [115], 306: [115], 307: [115], 308: [116], 315: [125], 317: [127], 323: [133], 324: [134], 326: [136], 327: [137], 330: [137], 332: [139], 338: [144], 341: [147], 348: [150], 350: [153], 352: [154], 358: [159], 364: [160], 365: [160], 368: [161], 370: [163], 374: [170], 376: [172], 378: [172, 174], 379: [175], 380: [176], 381: [178], 382: [179], 384: [181], 386: [182], 388: [183], 390: [185], 392: [186], 398: [191], 399: [192], 400: [193], 404: [198], 407: [200], 409: [202], 413: [206], 414: [207], 417: [208], 418: [208], 420: [209], 421: [210], 424: [213], 425: [214], 427: [216], 439: [225], 440: [227], 443: [229], 445: [229], 446: [229], 447: [230], 448: [231], 451: [234], 452: [235], 454: [236], 456: [238], 457: [239], 460: [240], 462: [241], 464: [242], 465: [243], 466: [244], 468: [246], 479: [257], 480: [257], 481: [258], 483: [260], 484: [261], 485: [261], 486: [262], 493: [269], 498: [277], 500: [279], 501: [279], 502: [280], 505: [281], 509: [285], 514: [287], 517: [290], 521: [294], 522: [295], 523: [296], 526: [298], 528: [298], 532: [301], 534: [303], 538: [308], 540: [310], 541: [310], 545: [313]}\n"
     ]
    }
   ],
   "source": [
    "print(results[(1,1)])"
   ],
   "metadata": {
    "collapsed": false,
    "pycharm": {
     "name": "#%%\n"
    }
   }
  },
  {
   "cell_type": "code",
   "execution_count": 21,
   "outputs": [],
   "source": [
    "with open(root_path+'1_alignment_extension_12.pkl', 'wb') as f:\n",
    "    pkl.dump(further_alignment, f)"
   ],
   "metadata": {
    "collapsed": false,
    "pycharm": {
     "name": "#%%\n"
    }
   }
  },
  {
   "cell_type": "markdown",
   "source": [
    "# Part 4: Add Head Tail"
   ],
   "metadata": {
    "collapsed": false,
    "pycharm": {
     "name": "#%% md\n"
    }
   }
  },
  {
   "cell_type": "code",
   "execution_count": 8,
   "outputs": [
    {
     "name": "stdout",
     "output_type": "stream",
     "text": [
      "1 1\n",
      "1 2\n",
      "1 3\n",
      "1 4\n",
      "1 5\n",
      "1 6\n",
      "1 7\n",
      "1 8\n",
      "1 9\n",
      "1 10\n",
      "1 11\n",
      "1 12\n",
      "1 13\n",
      "1 14\n",
      "1 15\n",
      "1 16\n",
      "1 17\n",
      "1 18\n",
      "1 19\n",
      "1 20\n",
      "1 22\n",
      "1 24\n",
      "3 16\n",
      "Pass i j\n",
      "4 19\n",
      "Pass i j\n",
      "6 4\n",
      "6 19\n",
      "Pass i j\n",
      "7 24\n",
      "Pass i j\n",
      "9 12\n"
     ]
    }
   ],
   "source": [
    "from utils.head_tail_alignment import *\n",
    "\n",
    "root_path = \"results/friends_en_zh/\"\n",
    "with open(root_path + \"1_alignment_extension_12.pkl\", \"rb\") as f:\n",
    "    alignment_seeds = pkl.load(f)\n",
    "\n",
    "further_alignment = {}\n",
    "for (i, j) in alignment_seeds.keys():\n",
    "    try:\n",
    "        print(i, j)\n",
    "        (en_subset, zh_subset, tbbt_episode) = fetch_subsets(\n",
    "                episode=all_transcripts,\n",
    "                en_subtitle=all_en_subtitles,\n",
    "                zh_subtitle=all_other_subtitles,\n",
    "                results=coarse_alignments,\n",
    "                season_id=i,\n",
    "                episode_id=j,\n",
    "                bias=200,\n",
    "                zh_split=True\n",
    "                )\n",
    "        epi2sub = filter_by_idx(alignment_seeds[(i,j)])\n",
    "\n",
    "        head_tail_sub2epi = {}\n",
    "\n",
    "        gap_pairs = fetch_before_after(en_subset, zh_subset, tbbt_episode, epi2sub)\n",
    "        for item in gap_pairs:\n",
    "            temp = before_after_wer_match(en_subset, tbbt_episode, item[0], item[1])\n",
    "            for x in temp:\n",
    "                head_tail_sub2epi[x] = temp[x]\n",
    "\n",
    "        temp = turn_sub2epi_into_epi2sub(head_tail_sub2epi)\n",
    "        # print(temp)\n",
    "        if temp!={}:\n",
    "            if min(list(turn_sub2epi_into_epi2sub(temp).keys()))<0:\n",
    "                temp = {}\n",
    "        further_alignment[(i,j)] = filter_by_idx(temp)\n",
    "\n",
    "        # print(temp)\n",
    "        # print(filter_by_idx(epi2sub))\n",
    "        # print(\"==\"*50)\n",
    "    except:\n",
    "        print(\"Pass i j\")\n",
    "\n",
    "with open(root_path+'1_alignment_head_tail_12.pkl', 'wb') as f:\n",
    "    pkl.dump(further_alignment, f)\n",
    "\n",
    "ultimate_data = {}\n",
    "for item in alignment_seeds:\n",
    "    temp = alignment_seeds[item]\n",
    "    if item in further_alignment:\n",
    "        temp = merge_episode_alignment(temp, further_alignment[item])\n",
    "    ultimate_data[item] = temp\n",
    "\n",
    "with open(root_path+'1_alignment_ultimate_12.pkl', 'wb') as f:\n",
    "    pkl.dump(ultimate_data, f)"
   ],
   "metadata": {
    "collapsed": false,
    "pycharm": {
     "name": "#%%\n"
    }
   }
  },
  {
   "cell_type": "code",
   "execution_count": 11,
   "outputs": [
    {
     "name": "stdout",
     "output_type": "stream",
     "text": [
      "(1, 1)\n",
      "{0: [199, 200], 1: [201, 202], 2: [203, 204], 3: [205], 4: [206], 280: [644], 281: [645], 282: [646, 647], 287: [651], 289: [652, 653], 290: [654], 293: [656], 294: [657], 295: [658], 296: [660], 298: [662]}\n",
      "\n",
      "{0: [199, 200], 1: [201, 202], 2: [203, 204], 3: [205], 4: [206], 5: [207, 208], 6: [209], 7: [210, 211], 8: [212], 9: [213, 214], 10: [215], 11: [216], 12: [217], 14: [218, 219], 15: [220], 16: [221, 222, 223], 18: [224], 20: [226], 21: [227], 22: [228], 24: [229], 27: [230, 231, 232], 28: [233], 29: [234, 235], 30: [236], 31: [237, 238], 32: [239], 33: [240, 241, 242, 243], 34: [244, 245], 35: [246], 36: [247, 248, 249, 250], 38: [251, 252, 253, 254], 39: [255, 256, 257], 40: [258, 259], 41: [260], 42: [261], 43: [262, 263, 264], 44: [265], 45: [266, 267, 268, 269, 270], 46: [271], 48: [272], 49: [273, 274, 275, 276, 277, 278, 279, 280, 281, 282, 283, 284, 285], 50: [286], 51: [287], 52: [288], 53: [289, 290], 54: [291], 55: [292, 293, 294], 56: [295], 57: [296], 59: [297, 298, 299], 60: [300, 301, 302, 303, 304, 305, 306, 307], 61: [308], 62: [309, 310], 63: [311], 64: [312, 313, 314], 65: [315, 316], 66: [317, 318, 319], 67: [320], 68: [321], 69: [322, 323, 324], 70: [325, 326, 327], 71: [328, 329], 72: [330], 73: [331], 74: [332], 75: [333, 334], 76: [335], 78: [336, 337], 79: [338], 81: [339], 82: [340], 83: [341], 84: [342, 343], 85: [344], 87: [345, 346], 88: [347, 348], 89: [349, 350], 90: [351], 91: [352, 353], 92: [354, 355], 93: [356], 94: [357, 358, 359], 95: [360, 361], 98: [363, 364], 99: [365], 100: [366], 101: [367, 368], 102: [369, 370, 371, 372, 373, 374], 103: [375], 104: [376, 377], 105: [378], 106: [379], 107: [380], 108: [381, 382, 383, 384, 385], 109: [386, 387, 388, 389], 110: [390], 111: [391], 112: [392], 113: [393], 114: [394], 115: [395], 116: [396], 117: [397], 118: [398, 399], 119: [400], 120: [401], 121: [402, 403, 404], 122: [405], 124: [406], 125: [407], 126: [407], 127: [408, 409, 410], 128: [411, 412], 129: [413, 414], 130: [415], 131: [416, 417], 132: [418, 419], 133: [420], 135: [421, 422, 423, 424, 425, 426, 427], 136: [428, 429], 137: [430], 139: [431], 140: [432, 433, 434, 435, 436], 141: [437, 438, 439, 440, 441], 142: [441, 442, 443, 444, 445, 446, 447, 448, 449, 450], 143: [451], 145: [453], 146: [454], 147: [455], 148: [456], 149: [457], 150: [458, 459], 151: [460, 461, 462], 152: [463, 464], 154: [465, 466], 155: [467], 156: [468, 469], 157: [470], 158: [471], 159: [472, 473, 474, 475], 160: [476, 477, 478], 161: [479, 480, 481], 162: [482, 483, 484], 163: [485], 164: [486, 487, 488], 165: [489, 490, 491, 492], 166: [493, 494], 167: [495], 169: [496, 497], 171: [498, 499], 172: [500], 173: [501, 502], 175: [503], 176: [504], 177: [505], 178: [506], 179: [507], 180: [508, 509], 181: [510], 182: [511], 183: [512, 513], 184: [514], 186: [515, 516], 187: [517], 188: [518, 519], 189: [520], 190: [521], 191: [522, 523], 192: [524, 525], 193: [526], 194: [527], 195: [528], 196: [529, 530], 197: [531, 532], 198: [533, 534, 535, 536], 199: [537], 200: [538, 539], 201: [540], 202: [541, 542], 203: [543], 204: [544], 205: [545, 546], 206: [547, 548, 549], 207: [550], 209: [551], 210: [552], 211: [553, 554], 212: [555], 213: [556], 214: [557, 558, 559], 215: [560], 216: [561, 562], 217: [563], 218: [564, 565, 566], 219: [567], 220: [568], 221: [569, 570], 222: [571], 223: [572], 224: [573, 574, 575], 225: [576], 226: [577], 227: [578], 228: [579], 229: [580], 230: [581, 582, 583], 231: [584], 232: [585], 233: [587], 234: [588, 589], 235: [590], 236: [591], 237: [592], 238: [593], 239: [594, 595], 240: [596], 241: [597], 242: [598], 244: [599, 600, 601, 602, 603, 604, 605], 245: [606, 607], 247: [608, 609, 610, 611], 253: [612, 613, 614, 615, 616, 617], 254: [618], 256: [619], 257: [620, 621], 258: [622, 623], 259: [624], 262: [626], 263: [627, 628, 629, 630], 268: [632], 269: [633], 271: [634, 635], 273: [636, 637], 274: [638], 275: [639, 640, 641], 280: [644], 281: [645], 282: [646, 647], 287: [651], 289: [652, 653], 290: [654], 293: [656], 294: [657], 295: [658], 296: [660], 298: [662]}\n",
      "====================================================================================================\n",
      "(1, 2)\n",
      "{0: [145, 147, 192], 3: [195], 5: [197, 198], 6: [199, 200], 7: [201, 202, 203], 8: [206], 231: [538, 539], 242: [546, 547, 548, 549, 550, 551, 552, 553]}\n",
      "\n",
      "{0: [145, 147, 192], 3: [195], 5: [197, 198], 6: [199, 200], 7: [201, 202, 203], 8: [206], 9: [207], 10: [209, 210], 11: [211], 12: [212], 13: [214], 14: [215, 216, 217], 15: [218, 219], 17: [220], 18: [221, 225, 226], 20: [223], 21: [227], 22: [228, 229], 23: [231, 232, 233], 24: [234], 25: [235], 26: [236], 27: [237], 28: [238, 239], 30: [241], 31: [242], 32: [243], 33: [244], 34: [245], 35: [246, 247], 36: [248, 249], 37: [250], 38: [251], 39: [255, 256, 257, 258], 40: [259, 260], 41: [261, 262, 263], 44: [264], 46: [265], 47: [266], 48: [267, 268, 269], 49: [270], 50: [271, 272, 273, 274, 275], 51: [276], 53: [281], 54: [282], 55: [283], 56: [284, 285], 57: [286], 58: [287], 59: [288], 60: [289], 61: [290], 62: [291], 63: [292], 64: [293], 65: [294], 67: [295, 296], 68: [297], 70: [298], 71: [299], 72: [300], 73: [301], 74: [302, 303, 304], 75: [305], 76: [306], 77: [307], 78: [310, 311], 79: [315], 80: [316, 317], 81: [318], 82: [319, 320, 321], 85: [322], 86: [323], 87: [324], 88: [325], 89: [326], 90: [327, 328], 91: [329], 92: [330], 93: [331], 95: [332, 333], 96: [339, 340, 341], 97: [342, 343, 344], 98: [345], 99: [347], 100: [348], 101: [349], 102: [350], 103: [351, 352, 353, 354, 355], 104: [356, 357, 358, 359, 361], 105: [364, 365, 367], 106: [369, 370], 107: [371, 372, 373, 374, 375, 376, 377], 108: [378], 109: [379], 110: [380, 381, 382], 111: [383, 384], 112: [385], 113: [386], 115: [388, 389], 116: [390], 117: [391], 118: [395], 119: [396], 120: [397, 398], 122: [400], 123: [401], 124: [402], 125: [403], 126: [404, 405], 129: [406], 131: [407, 408], 132: [409, 410, 411, 412, 413], 133: [414, 415], 134: [416], 135: [417], 137: [418, 419, 420], 138: [421], 139: [422], 141: [423, 424], 143: [425], 144: [426], 146: [427, 428], 148: [429, 430], 149: [431], 150: [432, 433], 151: [434], 152: [435, 436], 155: [437], 156: [438], 158: [439], 159: [440, 441], 162: [443, 444], 163: [445], 164: [446], 165: [447], 166: [448], 168: [449, 450, 451, 452], 169: [453], 170: [454, 455], 171: [456], 173: [457], 174: [458], 175: [459], 176: [460, 461, 462, 463], 178: [464], 179: [465, 466, 467], 180: [468], 181: [469, 470], 182: [471], 183: [472], 184: [473], 185: [474], 186: [475, 476], 188: [477, 478], 189: [478, 479], 190: [480], 191: [481], 192: [482], 193: [483, 484], 194: [485, 486], 196: [487, 488], 198: [489, 490, 491, 492, 493, 494], 201: [495, 496, 497, 498, 499, 500], 202: [501], 204: [502], 205: [503, 504], 206: [505], 208: [506], 209: [507], 210: [508], 211: [509], 212: [510], 213: [511], 214: [512], 215: [513], 216: [514], 217: [515, 516], 219: [518, 519], 220: [520, 521, 522, 523, 524], 221: [525, 526], 222: [527], 223: [528, 529], 224: [530, 531, 532], 225: [533], 226: [534], 228: [535], 229: [536], 231: [538, 539], 242: [546, 547, 548, 549, 550, 551, 552, 553]}\n",
      "====================================================================================================\n",
      "(1, 3)\n",
      "{}\n",
      "\n",
      "{56: [294], 57: [295], 58: [296], 60: [297], 62: [298], 63: [299], 64: [300], 65: [301, 302], 66: [303], 67: [304], 68: [305], 69: [306, 307], 70: [308], 71: [309, 310], 72: [312], 73: [313], 74: [314, 315], 75: [316], 76: [317], 77: [318], 78: [319], 79: [320], 81: [322, 323, 324], 82: [325, 326, 327], 83: [328], 84: [329, 330, 333], 85: [335], 86: [336], 87: [337], 88: [338, 339], 89: [340], 90: [341], 92: [342, 343, 344, 345, 346], 93: [347], 94: [348, 349], 95: [350], 96: [351], 97: [357, 358], 98: [359], 101: [360], 102: [361, 362, 363], 104: [365, 366, 367, 368], 106: [369], 108: [372], 110: [373, 374], 111: [375], 112: [376], 113: [377, 378, 379], 114: [380, 381], 115: [382, 383], 116: [384], 117: [385, 386], 118: [387, 388], 120: [389], 122: [390], 123: [391], 124: [392], 125: [393, 394], 127: [395, 396, 397], 128: [398], 129: [399], 130: [400, 401], 131: [402], 133: [404], 134: [405], 135: [406], 136: [407], 137: [408], 138: [409], 139: [410], 140: [411, 412], 141: [413], 142: [414], 143: [415], 144: [416], 146: [417], 147: [418], 155: [419, 423, 426], 156: [427], 159: [428], 161: [429, 430], 162: [431], 163: [432], 165: [433, 434], 166: [435], 167: [436], 168: [437], 169: [438, 439, 440, 441, 442, 443, 444], 171: [445], 172: [446, 447], 173: [448], 174: [449], 175: [450], 176: [451], 177: [452], 178: [453], 179: [454], 181: [455], 182: [456, 457], 183: [458, 459, 460, 461], 184: [462, 463], 185: [464], 187: [465, 466, 467], 189: [468, 469], 190: [470, 471], 191: [472], 192: [473, 474, 475, 476, 477, 478, 479, 480], 193: [481], 194: [482], 195: [483], 196: [485, 486], 197: [487], 198: [488], 199: [489, 490, 491], 200: [492], 203: [494], 204: [495], 205: [496], 206: [497], 209: [499, 500], 210: [501], 211: [502], 212: [503], 217: [504], 218: [505, 506], 219: [507], 220: [508], 221: [509, 510, 511, 512, 513], 222: [514], 223: [515, 516], 224: [517], 225: [518, 519], 226: [520], 227: [521], 228: [522], 229: [523], 230: [524, 525], 232: [526], 233: [527, 528], 234: [529], 235: [530], 236: [531]}\n",
      "====================================================================================================\n",
      "(1, 4)\n",
      "{1: [200], 2: [202], 232: [550], 233: [551, 552], 237: [556], 240: [559], 243: [561], 244: [565], 247: [568, 569], 249: [572], 250: [581]}\n",
      "\n",
      "{1: [200], 2: [202], 3: [204], 4: [205], 6: [206, 207], 7: [208], 9: [209], 10: [210], 11: [211, 212], 12: [215], 13: [216], 14: [221], 15: [223], 16: [224], 17: [225], 18: [226], 20: [227, 228, 229], 21: [230], 23: [232, 233], 25: [235, 236], 26: [237], 27: [238], 28: [239], 29: [240], 30: [241], 31: [242], 32: [243], 33: [244], 35: [245], 36: [246, 247], 37: [248, 249, 250, 251, 252, 253], 38: [254], 39: [255, 256], 40: [257], 41: [258], 42: [259], 43: [260, 261], 44: [262], 45: [263, 264], 46: [265, 266], 47: [267], 49: [269, 270, 271, 272, 273], 50: [274], 51: [275], 52: [276], 54: [278], 56: [279, 280], 57: [281], 58: [282], 59: [283], 60: [284], 61: [285], 62: [286], 63: [287], 64: [288], 65: [292], 66: [293], 67: [294], 68: [295], 69: [296], 70: [297, 298], 71: [299], 72: [300, 302, 303, 304], 74: [306], 75: [307], 76: [308], 77: [309], 78: [310], 79: [311], 80: [312, 313], 81: [314, 315], 82: [316], 83: [317], 84: [318], 86: [319], 87: [320, 322], 88: [321], 89: [323, 324, 325], 91: [326, 327, 328, 329, 330], 92: [331], 93: [332, 333], 95: [334], 97: [335, 336], 98: [337, 338], 99: [339], 100: [340], 101: [341, 342], 102: [343], 103: [344, 345], 104: [346, 347, 348, 349, 350, 351, 352], 105: [353], 106: [354, 355], 107: [356], 108: [357, 358, 359], 109: [360, 361, 362], 110: [363], 111: [364], 112: [365, 366], 113: [367], 114: [368], 115: [369], 116: [370], 117: [371, 372, 373], 118: [374, 375], 119: [376], 120: [377, 378], 123: [380, 381], 124: [382], 125: [383], 126: [384], 127: [385], 128: [386, 387], 129: [388, 389, 390], 130: [391], 131: [392], 134: [395], 136: [396, 397], 137: [399], 138: [400], 139: [401, 402], 140: [403], 141: [404], 142: [405], 143: [406], 144: [407], 145: [408], 146: [409], 147: [410], 148: [411], 149: [412], 150: [413], 151: [414], 152: [415], 153: [416, 417, 418], 154: [419, 420], 155: [421], 156: [422], 157: [424], 158: [425], 159: [426], 160: [427], 161: [428], 162: [429], 163: [430], 164: [431, 432], 165: [433], 167: [435], 168: [436], 169: [437], 170: [438, 439], 171: [440, 441, 442], 172: [443], 173: [444], 174: [445], 175: [446], 176: [447, 448, 449], 177: [450, 451, 452, 453, 454, 458], 178: [464], 180: [465], 181: [466], 183: [467], 184: [468], 186: [469, 470, 471, 485], 187: [486, 492], 188: [493, 494], 189: [495, 496, 497, 498], 190: [499], 191: [500], 192: [501, 502], 193: [503], 196: [505], 197: [506], 198: [507], 199: [508, 509], 200: [510, 511], 202: [512], 203: [513], 204: [514], 205: [515], 206: [516], 208: [518], 209: [519, 520], 211: [521, 522], 212: [523], 213: [524], 214: [525], 216: [526, 527], 217: [528], 218: [529], 219: [530, 531], 220: [532], 221: [533, 534], 222: [535], 223: [536], 224: [538], 226: [539], 227: [540, 541, 542], 228: [542, 543, 544, 545], 229: [546, 547], 230: [548], 231: [549], 232: [550], 233: [551, 552], 237: [556], 240: [559], 243: [561], 244: [565], 247: [568, 569], 249: [572], 250: [581]}\n",
      "====================================================================================================\n",
      "(1, 5)\n",
      "{0: [191, 195], 1: [197, 198], 231: [543], 234: [545]}\n",
      "\n",
      "{0: [191, 195], 1: [197, 198], 2: [200], 3: [201, 202], 4: [203, 204, 205, 206], 5: [207], 7: [210, 211, 212], 8: [213], 9: [214], 10: [215], 11: [216], 12: [217, 218, 219], 13: [220, 221, 222, 223, 224], 14: [226, 227], 15: [228], 16: [229], 19: [231], 20: [232, 233], 21: [234], 22: [235, 236], 23: [237], 24: [238], 25: [239], 26: [240, 241, 242], 27: [243], 29: [245], 31: [246], 33: [248], 34: [249], 35: [250, 251, 252, 253, 254, 255], 36: [256], 38: [257], 39: [258], 40: [259], 41: [260], 42: [261, 262, 263], 44: [264, 265, 266, 267], 45: [268], 46: [269, 270, 271, 272, 273], 48: [274, 275], 49: [275, 276], 50: [277, 278], 51: [279, 280], 52: [281], 54: [282], 55: [283, 284, 285], 56: [286], 57: [287], 58: [288], 59: [289], 60: [290, 291, 292], 61: [293], 63: [294], 64: [295, 296], 65: [297], 66: [298, 299, 300, 301, 302, 303], 68: [304, 305, 306, 307, 308], 69: [309], 70: [310, 311, 312, 314], 73: [316, 317], 74: [318, 319], 76: [320], 77: [321, 322, 323, 324], 78: [325], 79: [326, 327], 81: [328], 82: [329], 83: [330], 84: [331], 85: [332], 86: [333], 87: [334, 335], 89: [336], 90: [337], 91: [338], 92: [339], 93: [340], 94: [341], 95: [342, 343], 96: [344, 345], 97: [346, 347, 348, 349, 350, 351], 100: [352], 103: [353, 354, 355, 356, 357, 358], 105: [359], 106: [360], 107: [361], 108: [362], 109: [363], 110: [364], 111: [371], 112: [366, 372], 113: [373], 114: [374], 115: [375, 376], 117: [377], 119: [378], 120: [379], 121: [380], 123: [381], 124: [382, 383], 125: [384], 126: [385], 127: [386, 387, 388], 128: [389], 129: [390, 391], 132: [392, 393, 394, 395, 396], 133: [397, 398], 134: [399], 135: [400, 401], 136: [402, 403, 404, 405, 406], 137: [407, 408], 138: [409], 139: [410, 411], 140: [412], 141: [413], 142: [414], 143: [415], 144: [416], 145: [417, 418], 146: [419], 147: [420], 148: [421, 422, 423, 424], 149: [425], 150: [426], 151: [427], 152: [428, 429, 430, 431], 153: [432], 154: [433], 155: [434], 156: [435, 436], 157: [437], 159: [438, 439], 160: [440, 441, 442], 161: [443, 444], 162: [449, 450, 452, 453], 163: [454, 455, 456], 165: [457, 458, 459, 460, 461, 462], 166: [463], 167: [464], 168: [465], 169: [466], 170: [467], 171: [468, 469], 172: [470, 471, 472, 473, 474], 173: [475, 476, 477, 478], 174: [479], 175: [480], 176: [481, 482], 177: [483, 484], 178: [485], 179: [486], 180: [487, 488], 181: [489], 182: [490], 183: [491, 492], 187: [494, 495], 188: [496], 189: [497, 498], 190: [499, 500], 191: [501], 192: [502, 503], 194: [504], 195: [505], 196: [506, 507], 197: [508], 198: [509], 199: [510], 202: [512], 204: [514], 205: [515], 206: [516], 207: [517], 208: [518], 209: [519, 520], 210: [521], 211: [522, 523], 212: [524], 213: [525], 214: [526], 216: [528], 217: [529], 218: [530, 531], 219: [532], 220: [533, 534], 221: [535], 223: [536], 224: [537], 226: [538], 228: [539], 229: [540], 230: [541], 231: [543], 234: [545]}\n",
      "====================================================================================================\n",
      "(1, 6)\n",
      "{0: [187], 1: [189, 190], 2: [195], 3: [196], 4: [197, 198], 5: [199, 200, 201, 202], 7: [205], 12: [209], 14: [211], 15: [212], 16: [213], 17: [215], 18: [216], 19: [218], 21: [219], 25: [224, 225], 29: [231], 31: [234, 235], 33: [237, 238], 36: [240, 241], 38: [248, 250], 40: [252, 253], 45: [300], 47: [303, 304], 48: [305, 306, 307]}\n",
      "\n",
      "{0: [187], 1: [189, 190], 2: [195], 3: [196], 4: [197, 198], 5: [199, 200, 201, 202], 7: [205], 12: [209], 14: [211], 15: [212], 16: [213], 17: [215], 18: [216], 19: [218], 21: [219], 25: [224, 225], 29: [231], 31: [234, 235], 33: [237, 238], 36: [240, 241], 38: [248, 250], 40: [252, 253], 45: [300], 47: [303, 304], 48: [305, 306, 307], 49: [310, 311], 50: [312, 313], 51: [314], 52: [315], 53: [316], 54: [317], 55: [317], 58: [318], 61: [321], 62: [322], 63: [323, 324], 64: [325], 65: [326], 67: [327], 68: [328], 70: [329], 71: [330, 331, 332, 333], 72: [334, 335], 73: [336, 337, 338], 74: [339, 340], 75: [341, 342], 76: [343], 77: [344], 78: [345], 79: [346, 351], 80: [354, 355], 81: [356, 357], 82: [358], 84: [361], 86: [362], 87: [363, 364], 88: [366], 90: [369], 91: [370], 93: [371], 94: [372, 373], 95: [374, 375, 376, 377, 378, 379], 96: [380], 97: [381], 98: [382], 99: [383, 384, 385], 100: [386], 101: [387], 102: [388, 389], 103: [390, 391, 392], 104: [393], 105: [394, 395], 106: [396], 107: [397, 398, 399], 108: [400, 401], 109: [403, 404], 110: [405], 111: [406], 113: [407, 408, 409], 115: [410], 116: [411, 412, 413, 414], 117: [415], 118: [416], 119: [417], 121: [418], 122: [419, 420, 421], 124: [422, 423], 125: [424, 425], 126: [426, 427], 127: [428, 429], 129: [430], 130: [431], 131: [432], 132: [433, 435, 436], 134: [437], 135: [438, 439], 136: [440], 138: [441], 139: [442, 444], 140: [445], 141: [446], 142: [447], 143: [448, 449, 450, 451, 452, 453], 144: [454, 455], 145: [459], 146: [460], 147: [462], 150: [463, 464], 151: [465, 466, 467, 468], 152: [469, 470], 153: [471], 154: [472], 155: [473, 474, 475], 156: [476, 477, 478, 479], 157: [480, 481], 158: [482], 160: [483, 484], 161: [485], 162: [486], 164: [487], 165: [488, 489], 166: [490], 167: [491], 168: [492], 169: [493], 170: [494, 495], 171: [496], 172: [497], 173: [498], 174: [499], 175: [500], 176: [501], 177: [502, 503], 179: [503, 504], 180: [505], 182: [507], 183: [508], 184: [509], 185: [510, 511, 512], 186: [513, 514, 515, 516], 187: [517], 188: [518], 190: [519], 191: [521], 192: [522], 193: [523, 524, 525, 526], 195: [528], 197: [529, 530], 199: [530, 531], 200: [532], 202: [533, 534, 535], 203: [536, 537], 204: [538], 206: [540], 207: [541], 208: [542, 543], 209: [544], 210: [545, 546, 547, 548, 549], 211: [550], 212: [551], 214: [552], 216: [553], 217: [554, 555], 218: [556], 219: [557]}\n",
      "====================================================================================================\n",
      "(1, 7)\n",
      "{0: [200], 1: [201, 203], 3: [206, 207], 4: [208, 209], 5: [210], 6: [211, 212, 215], 7: [216, 217], 10: [222], 11: [223, 226, 227, 228], 222: [527], 223: [528], 224: [529, 530]}\n",
      "\n",
      "{0: [200], 1: [201, 203], 3: [206, 207], 4: [208, 209], 5: [210], 6: [211, 212, 215], 7: [216, 217], 10: [222], 11: [223, 226, 227, 228], 12: [229], 13: [230], 14: [231, 232], 15: [233, 234, 235, 236], 16: [237], 17: [238], 18: [239, 240], 19: [241], 20: [242], 21: [243, 244, 245, 246], 22: [247], 23: [248], 24: [261], 25: [262, 263], 26: [264], 28: [266], 29: [267, 268, 269], 32: [270], 33: [271], 34: [272], 36: [273, 274, 275, 276], 37: [277], 39: [278, 280, 281], 41: [282], 42: [283], 43: [284], 44: [285], 45: [286], 47: [287, 288, 289], 48: [290], 49: [291, 292], 50: [294], 51: [295], 52: [296], 54: [299], 55: [300], 56: [301], 57: [306, 307], 58: [308], 59: [309], 60: [310], 61: [311], 62: [312], 63: [313], 64: [314, 315], 65: [316], 66: [317, 318, 319, 320], 67: [321], 68: [322], 70: [323], 73: [324], 75: [325], 76: [326], 77: [327], 78: [328], 80: [329], 81: [330], 82: [331], 83: [332, 333, 334], 84: [335, 336, 337, 338, 339, 340, 341, 342], 85: [343, 344], 86: [345, 346, 347, 348], 89: [349, 350, 351, 352], 91: [353], 93: [354], 96: [356, 357, 358, 359], 97: [360, 361, 362, 363], 98: [364], 101: [366], 102: [367], 103: [368], 104: [369, 370], 106: [371], 108: [372], 109: [373], 110: [374], 111: [375], 112: [376], 113: [377], 114: [378], 116: [379], 117: [380], 118: [381], 120: [382], 121: [383], 122: [384], 123: [385], 124: [386], 125: [387], 126: [388], 127: [389, 390, 391, 392], 128: [400], 129: [401, 402, 403], 131: [404, 405], 133: [406], 134: [407], 136: [408, 409], 137: [411], 138: [412], 139: [413], 140: [414], 141: [415, 416], 143: [419, 420, 421, 422], 144: [423], 145: [424], 146: [425], 147: [426], 148: [427], 149: [428], 152: [429, 430, 431], 153: [432], 154: [433], 155: [434, 435, 436], 156: [439], 158: [444, 445, 446], 159: [447], 160: [448], 162: [449], 163: [450], 164: [451], 165: [452], 166: [453], 167: [454, 455], 168: [456], 169: [457], 170: [458], 171: [459], 172: [460, 461], 173: [462], 174: [463], 175: [464, 465, 466], 176: [467, 468, 469], 177: [470, 471, 472, 473], 179: [474, 475], 180: [476, 477, 478], 181: [479], 183: [480, 481], 184: [482], 185: [483], 186: [484, 485], 187: [486], 188: [487, 488], 189: [489], 190: [490, 491], 191: [492], 192: [493], 193: [494], 194: [495, 496, 497, 498, 499, 500], 196: [501], 198: [502, 503, 504, 505, 506, 507, 508], 200: [509, 510, 511], 204: [512, 513], 206: [514], 208: [515, 516], 209: [517, 518, 519], 212: [520], 213: [521], 218: [524], 220: [525], 222: [527], 223: [528], 224: [529, 530]}\n",
      "====================================================================================================\n",
      "(1, 8)\n",
      "{0: [200, 201], 1: [202, 203], 2: [204, 205], 8: [217, 218], 9: [219], 11: [221]}\n",
      "\n",
      "{0: [200, 201], 1: [202, 203], 2: [204, 205], 8: [217, 218], 9: [219], 11: [221], 12: [222], 13: [223], 14: [224], 15: [225], 16: [226, 227], 17: [228, 229], 18: [230, 231], 19: [232, 233], 21: [235], 22: [236], 23: [237], 26: [240, 241, 242], 27: [247], 28: [248], 29: [249, 250], 30: [251, 252], 31: [253, 254, 256], 32: [255, 257], 33: [258], 35: [260, 261, 262], 37: [263], 38: [264], 39: [265], 40: [266], 41: [267, 268, 269], 42: [270], 43: [271], 44: [272, 273, 274, 275], 45: [276], 46: [277], 47: [278], 49: [279], 50: [284], 51: [285], 54: [286, 287, 288], 56: [289], 58: [290], 59: [290], 60: [291], 61: [292], 62: [293], 63: [294], 64: [295, 296], 65: [297], 66: [298], 67: [299], 68: [300], 70: [301], 71: [302], 72: [303, 304], 73: [305], 74: [306], 75: [307, 308], 76: [309, 310, 311, 312, 313, 316], 77: [314, 315], 79: [317, 318], 80: [319, 320, 321], 82: [332], 83: [333], 84: [334], 85: [335], 86: [336], 87: [337, 338], 88: [339], 89: [340], 90: [341], 91: [342], 92: [343], 93: [344], 94: [345], 95: [346, 347], 96: [348], 97: [349], 98: [350], 99: [351], 100: [352], 101: [353], 102: [354], 103: [356], 104: [358], 105: [359, 360], 106: [360, 361], 107: [362, 363], 108: [364, 365], 109: [366], 110: [368], 111: [369], 112: [370, 371, 372], 113: [373], 115: [374, 375], 116: [376], 117: [377], 118: [378], 119: [379], 120: [380], 121: [381], 122: [382], 123: [383], 124: [384, 385], 125: [386], 126: [387], 127: [388, 389], 129: [390], 130: [391], 131: [392], 132: [393, 394], 133: [395], 135: [397], 136: [398], 138: [399], 139: [400], 140: [401], 141: [402, 403], 142: [404], 143: [405], 144: [406, 407], 146: [408], 147: [409], 148: [410], 149: [411], 150: [412], 151: [413], 152: [414], 153: [415, 416], 154: [417, 418], 156: [421], 157: [422], 159: [423], 161: [424], 162: [425], 164: [427, 428], 165: [429], 166: [430, 431], 167: [432, 433], 168: [434], 169: [435, 436, 437], 170: [438], 173: [440, 441], 175: [442, 443], 179: [445], 181: [447], 182: [448], 183: [449], 184: [450], 185: [451], 186: [452], 187: [453], 188: [454, 455, 456], 189: [457], 190: [458], 191: [459], 192: [460], 193: [461, 462, 463], 194: [464], 195: [465, 466], 196: [467], 197: [468], 198: [469, 470], 200: [471], 201: [472], 202: [473], 203: [474], 204: [475], 205: [476, 477], 206: [480], 207: [481], 208: [482], 209: [483, 484], 210: [485], 211: [486], 212: [487, 488, 489], 213: [490], 214: [491], 215: [493], 216: [495], 217: [497, 498], 218: [499], 220: [501], 221: [502], 222: [503, 504], 223: [505], 226: [506], 227: [507], 228: [508], 229: [509, 510, 511], 231: [512], 232: [513, 514, 515]}\n",
      "====================================================================================================\n",
      "(1, 9)\n",
      "{0: [189, 200], 2: [202, 203, 204], 3: [206], 220: [548], 221: [549]}\n",
      "\n",
      "{0: [189, 200], 2: [202, 203, 204], 3: [206], 4: [209, 210, 211, 213], 5: [215, 216, 217], 7: [218, 219, 220], 8: [221], 9: [222], 10: [223], 11: [224, 225], 12: [226], 13: [227], 14: [228], 15: [229, 230], 19: [232, 233], 20: [234, 235], 21: [236], 22: [237], 23: [238], 24: [239], 25: [240], 27: [242, 243], 29: [244, 245], 30: [246, 247], 31: [248], 32: [249, 250], 34: [251], 35: [252], 36: [253], 37: [254, 255], 38: [256], 39: [257, 258], 40: [259], 41: [260], 42: [262], 44: [264], 45: [265], 46: [266], 47: [267], 48: [268], 49: [269, 270, 271], 50: [272], 51: [273], 52: [274], 53: [275, 276], 54: [277], 55: [278, 279], 56: [280], 57: [281], 58: [282, 283], 59: [284], 60: [285, 286], 61: [287, 288, 289, 290], 65: [291], 66: [292, 293], 67: [294, 295, 296, 297, 298], 68: [299, 300], 69: [301], 70: [302, 303], 71: [304], 72: [306], 73: [307], 74: [308], 85: [309, 310, 311, 312, 313, 314, 315, 316, 317, 318, 319, 320, 321, 322, 323, 324], 86: [325, 326, 327], 87: [333], 88: [334], 89: [335, 336, 337, 338], 90: [339], 91: [340], 92: [341], 93: [342, 343], 94: [344], 95: [345, 346], 96: [347], 97: [348], 99: [350], 100: [351], 101: [352], 102: [353], 103: [354], 104: [355], 105: [356], 106: [357, 358], 107: [359], 108: [360], 109: [361, 362], 110: [363], 111: [364, 365], 113: [366, 367], 114: [368], 115: [369], 116: [370], 117: [371], 118: [372], 119: [373], 120: [374], 121: [375], 122: [376, 377, 378, 379], 123: [380, 381], 126: [383], 127: [384], 128: [385, 386], 129: [387, 388], 130: [389], 131: [390], 132: [391], 133: [392, 393], 136: [395, 396, 397, 398, 399, 400, 401, 402], 137: [403], 138: [404], 139: [405], 140: [406], 141: [407], 142: [408], 143: [409, 410, 411], 144: [412], 145: [413, 414, 415, 416], 146: [417], 147: [418, 419], 148: [420], 149: [421, 422], 150: [423, 424], 151: [425, 426], 152: [427], 153: [428, 429], 154: [430, 431], 155: [432], 156: [433], 157: [434], 158: [435], 159: [436], 160: [437], 161: [438], 162: [439], 163: [440], 164: [441, 442, 443, 444], 165: [445], 166: [446, 447], 168: [448, 449, 450, 451, 452], 170: [453], 171: [454], 172: [455], 173: [456, 457], 175: [460], 177: [468], 178: [469], 179: [470], 180: [471], 181: [472, 473], 182: [474], 183: [475, 476], 184: [477], 185: [478], 186: [479], 187: [480], 188: [481], 189: [482], 190: [483], 191: [484, 485, 486, 487, 488, 489, 490, 491], 192: [492, 493], 193: [495, 496], 194: [497, 498, 499], 195: [500, 501, 502, 503], 196: [507], 197: [508], 198: [509, 510], 199: [511], 200: [513], 201: [514], 204: [515, 519, 520, 521, 522, 523, 524], 205: [525, 526], 206: [527], 207: [528], 208: [529], 209: [530], 210: [532], 211: [533], 212: [534], 214: [535, 536], 215: [536], 216: [537, 538, 539, 540], 217: [540], 218: [541, 542, 543, 544, 545], 220: [548], 221: [549]}\n",
      "====================================================================================================\n",
      "(1, 10)\n",
      "{0: [192], 5: [197], 6: [198], 7: [200], 8: [201], 9: [202], 10: [203], 11: [204], 12: [205, 206], 13: [208, 209], 16: [213], 17: [214], 18: [216], 19: [217, 218], 20: [219], 21: [221], 22: [222], 23: [227], 24: [228, 229], 26: [233, 234, 235], 28: [237], 32: [239], 33: [243], 34: [244, 245, 246, 247], 35: [250, 251], 36: [252], 37: [254, 255], 39: [257]}\n",
      "\n",
      "{0: [192], 5: [197], 6: [198], 7: [200], 8: [201], 9: [202], 10: [203], 11: [204], 12: [205, 206], 13: [208, 209], 16: [213], 17: [214], 18: [216], 19: [217, 218], 20: [219], 21: [221], 22: [222], 23: [227], 24: [228, 229], 26: [233, 234, 235], 28: [237], 32: [239], 33: [243], 34: [244, 245, 246, 247], 35: [250, 251], 36: [252], 37: [254, 255], 39: [257], 40: [258], 43: [259, 260, 261, 262, 263], 45: [264, 265], 47: [266, 267], 48: [268], 49: [269], 50: [270], 51: [271, 272, 273], 52: [274], 53: [275], 54: [276], 55: [277, 278], 57: [279, 280, 281, 282, 283], 58: [284, 285], 59: [286], 60: [287], 62: [288, 289], 63: [290], 64: [291], 65: [292], 66: [293], 67: [294, 295], 68: [296], 70: [298], 71: [299], 72: [300], 73: [301, 302, 303, 304], 74: [305], 75: [306, 307, 308], 76: [309], 77: [310, 311, 312], 78: [313], 79: [314], 81: [315, 316, 317], 83: [318, 319, 320], 84: [321, 322], 86: [323, 324], 88: [325, 326], 89: [327, 328, 329], 90: [330, 331], 91: [332], 92: [333], 93: [334], 94: [335, 336], 95: [337], 97: [338], 98: [339], 99: [340, 341], 101: [342], 102: [343], 103: [344], 105: [345], 107: [346], 108: [347, 348], 109: [349], 110: [350], 112: [352], 113: [353, 354, 355], 114: [356], 116: [357, 358], 117: [359], 118: [360], 120: [361, 362], 121: [363], 122: [364], 123: [365], 124: [366], 125: [367, 368], 127: [368, 369], 128: [370], 129: [371], 130: [373], 132: [375], 135: [376], 136: [377, 378], 137: [379], 138: [380, 381], 139: [382, 383], 141: [385], 142: [386, 387, 388, 389, 390], 143: [391], 146: [392], 151: [394], 154: [395], 155: [396], 156: [397, 398], 157: [399], 158: [400], 160: [402, 411, 412], 161: [413, 414], 162: [415], 163: [416], 164: [417], 165: [418, 419], 166: [420], 167: [421, 422], 168: [423], 169: [424, 425, 426], 170: [427, 428], 171: [429, 430], 172: [431], 173: [432, 433, 434, 435, 436, 437, 438, 439, 446, 447, 449, 452, 453], 174: [455, 456], 175: [457], 178: [459], 179: [460, 461], 180: [462], 181: [463, 464], 182: [465], 184: [466, 467, 468, 469, 470, 471, 472], 185: [473, 474], 186: [475, 476], 187: [485], 188: [486, 487, 488], 189: [489], 190: [490], 191: [491, 492], 192: [493], 193: [494], 194: [495, 496], 195: [497], 196: [498, 499], 197: [500], 198: [501], 199: [502], 200: [503], 201: [504, 505], 202: [506, 507], 203: [508, 510, 511, 512, 513, 514, 515, 516, 517], 205: [518, 519, 520, 521], 207: [522, 523], 208: [524, 525], 210: [528, 529], 211: [530], 212: [531, 532], 213: [534], 216: [535], 217: [536], 218: [537], 219: [538], 220: [539, 541], 221: [542, 543], 222: [544], 223: [545], 224: [546], 225: [547], 226: [548], 227: [549, 550, 551], 229: [553, 554, 555, 556, 557, 558], 230: [559]}\n",
      "====================================================================================================\n",
      "(1, 11)\n",
      "{277: [555], 278: [559], 279: [560, 561], 280: [562]}\n",
      "\n",
      "{0: [200], 2: [201], 3: [202, 203], 4: [204], 5: [205], 6: [206], 8: [207], 10: [209], 13: [210, 211, 212], 15: [213], 16: [217, 218, 219], 17: [220, 221, 222, 223], 18: [224], 19: [225], 20: [226, 227, 228, 229, 230, 231, 232], 21: [233], 22: [234, 235], 23: [236], 24: [237], 26: [239], 27: [240], 28: [241], 29: [242, 243], 30: [244], 31: [245, 246], 32: [247], 33: [248], 34: [249], 35: [250, 251], 36: [252, 253], 37: [254, 255], 38: [257, 258], 39: [259, 260], 42: [261], 43: [262], 44: [263], 45: [264, 265, 266], 46: [267], 47: [268], 48: [269], 49: [270], 50: [271], 51: [272], 52: [273], 54: [274], 55: [275], 56: [279], 57: [280, 281], 59: [282, 283], 60: [284, 285], 61: [286, 287], 62: [288], 63: [289, 290, 291], 64: [292, 293], 65: [294], 66: [295], 67: [296], 68: [297], 69: [298], 70: [299], 71: [300], 72: [301, 302], 73: [303, 304, 305, 306, 307], 74: [308], 75: [309], 79: [312], 80: [313, 314], 81: [315], 82: [316], 83: [318, 319], 84: [320, 321], 85: [322], 86: [323], 88: [325], 89: [326], 90: [327], 91: [328, 329], 92: [330], 93: [331], 94: [332], 95: [333], 96: [334], 97: [335, 336, 337, 338, 339], 99: [340, 341], 100: [342], 101: [343], 103: [346, 347], 105: [349], 107: [350], 108: [351], 110: [353, 354], 111: [355], 113: [356, 357], 114: [358], 115: [359, 360, 361], 116: [362], 117: [363, 364], 118: [365], 119: [366, 367], 120: [368], 121: [369], 122: [370], 123: [371], 124: [372, 373], 125: [374], 126: [375], 127: [376, 377], 128: [378], 131: [379], 132: [380], 133: [381], 134: [382], 135: [383], 136: [384], 138: [385], 139: [386], 140: [387], 141: [388], 143: [389], 144: [390], 145: [391], 148: [392], 149: [393], 150: [394, 395, 396], 151: [397, 398], 152: [399], 153: [400, 401], 155: [402], 156: [403], 157: [404, 405, 406, 407, 408], 159: [409, 410, 411], 160: [412], 161: [413], 162: [414], 163: [415], 164: [416], 165: [417], 166: [418], 167: [420], 169: [421], 170: [422], 171: [423], 172: [424], 174: [425], 175: [426], 179: [427], 180: [428, 429], 181: [430, 431], 186: [432], 187: [433, 434], 189: [435], 190: [436, 437], 191: [438], 192: [439, 440], 193: [441], 194: [442], 195: [443], 196: [444], 197: [445, 446, 447, 448], 198: [449], 199: [450], 201: [452], 202: [453, 454], 203: [455], 204: [456, 457], 205: [458, 459], 206: [460], 207: [461, 462], 208: [463], 209: [464], 210: [465], 211: [466], 212: [467, 468, 469, 470], 214: [472], 215: [473], 216: [474], 218: [476], 220: [477], 221: [478], 222: [479], 223: [480], 224: [481], 225: [482], 226: [483], 227: [484], 228: [485], 230: [486], 231: [487], 232: [488], 234: [489], 235: [490], 236: [491, 492, 493, 494], 238: [495], 239: [496, 497, 498, 499, 500], 240: [501, 502], 241: [503, 504, 505, 506, 507], 242: [508], 244: [510, 511], 245: [512], 247: [513, 514, 515, 516, 517, 518], 249: [519], 250: [520], 251: [521], 252: [522], 254: [523, 524], 255: [525, 526], 256: [527], 257: [529], 258: [530, 531], 260: [532, 533, 534, 535, 536], 264: [539], 265: [540], 266: [541], 268: [542], 269: [543, 544], 270: [545], 271: [546, 547], 273: [549], 274: [550, 551, 552], 275: [553], 277: [555], 278: [559], 279: [560, 561], 280: [562]}\n",
      "====================================================================================================\n",
      "(1, 12)\n",
      "{1: [199, 200], 219: [489, 490, 491], 221: [492], 228: [498, 499], 229: [500, 501], 230: [502], 231: [503, 504], 234: [505, 507, 510], 246: [513], 247: [514], 250: [518], 252: [520, 521, 523]}\n",
      "\n",
      "{1: [199, 200], 2: [201], 3: [202], 4: [203, 204], 5: [205], 7: [206, 207, 208, 209], 8: [210, 211, 212], 10: [213, 214, 215], 11: [216, 217], 12: [219], 14: [220], 15: [221], 16: [222], 17: [223], 18: [224], 19: [225], 20: [226, 227], 21: [228, 229, 230], 22: [231, 232, 233, 237], 23: [238], 24: [239], 25: [240], 26: [241], 27: [242], 28: [243, 244], 29: [245, 246], 30: [247], 31: [250], 32: [251], 33: [252], 34: [253], 35: [254], 36: [255], 37: [256], 38: [257, 258], 39: [258, 259, 260], 40: [261], 41: [262], 42: [263], 43: [264, 265, 266], 44: [267], 46: [268, 269], 47: [270], 48: [271, 272], 49: [273], 50: [274], 51: [275], 53: [276], 55: [277, 278], 56: [279], 57: [280], 58: [281], 60: [282], 61: [283], 62: [284], 63: [285, 286, 287], 64: [288], 65: [289], 66: [290], 67: [291], 68: [292], 69: [293], 71: [294], 72: [295], 73: [296], 76: [297, 298, 299], 77: [300], 78: [301], 79: [302], 80: [303], 81: [304], 82: [305, 306, 307], 84: [308, 309], 86: [310], 87: [311], 88: [312], 89: [313], 90: [314, 316], 91: [315], 92: [317, 318, 319], 93: [320], 94: [321], 95: [322], 96: [323], 97: [324], 98: [325], 99: [326], 100: [327, 328], 105: [329], 106: [332], 107: [333], 108: [334], 111: [335], 112: [336], 113: [337], 114: [338], 115: [339], 116: [340], 117: [341], 120: [343], 121: [344, 345], 122: [346], 123: [347], 130: [348, 349, 350, 351, 352, 353, 354, 355], 131: [356, 357, 358], 133: [359], 134: [360], 135: [361], 136: [362, 363], 137: [364], 138: [365, 366], 139: [367], 140: [368], 141: [369], 142: [370], 143: [371], 144: [372], 145: [373, 374, 376], 147: [375], 148: [377], 149: [380, 381], 150: [382], 151: [383, 384], 154: [385, 386, 387, 388, 389], 155: [390, 391, 392], 156: [393], 157: [394], 158: [395], 159: [396], 160: [397], 161: [398], 162: [399], 164: [400], 165: [401], 166: [402, 403, 404], 168: [405], 169: [406, 407, 408], 170: [409, 410, 411, 412], 171: [413, 414, 415], 172: [417], 173: [418, 419, 420, 421], 174: [422], 175: [423, 424, 425], 177: [426, 427], 179: [428], 181: [429], 182: [430], 183: [431, 432], 184: [433, 434, 435, 436], 185: [437], 186: [438], 188: [439], 189: [440, 441], 190: [442, 443], 191: [444, 445, 446, 447], 192: [449], 193: [450], 194: [451], 195: [452, 453, 454], 196: [455], 197: [456, 457, 458], 198: [459, 460, 461, 462, 463], 200: [465, 467], 201: [468, 469, 470, 471], 203: [472], 204: [473], 205: [474], 207: [475], 208: [476], 209: [477, 478], 210: [479], 211: [480], 215: [481], 216: [487, 488], 219: [489, 490, 491], 221: [492], 228: [498, 499], 229: [500, 501], 230: [502], 231: [503, 504], 234: [505, 507, 510], 246: [513], 247: [514], 250: [518], 252: [520, 521, 523]}\n",
      "====================================================================================================\n",
      "(1, 13)\n",
      "{0: [197], 2: [198]}\n",
      "\n",
      "{0: [197], 2: [198], 5: [200], 6: [201], 7: [202, 203], 9: [205, 206], 10: [207], 12: [208], 13: [209, 210], 14: [211], 15: [212], 16: [213], 17: [214, 215], 18: [216], 19: [217], 20: [219], 21: [220], 22: [221], 24: [222], 25: [223], 26: [224], 27: [225], 28: [226], 29: [227], 30: [228], 31: [232, 233], 32: [234, 235, 236], 33: [237, 238], 34: [239, 240, 241], 35: [242, 243], 36: [244], 38: [245, 246, 247], 39: [248], 40: [249], 41: [250, 251], 43: [252], 44: [253, 254, 255], 45: [256], 47: [257], 48: [258], 49: [259], 51: [260, 261, 262], 52: [263, 264], 53: [266, 267], 54: [268, 269], 55: [270], 56: [271], 57: [272], 58: [273, 279], 60: [280, 281], 61: [282], 62: [283], 63: [284], 64: [285], 65: [286, 287, 288, 289, 290, 291, 292], 66: [294, 295, 296, 297], 68: [298], 69: [299, 300], 70: [301], 71: [302, 303], 72: [304], 74: [305], 75: [306], 77: [307], 78: [308], 80: [309, 310], 81: [311, 312, 313], 82: [314], 83: [315], 84: [316], 85: [317, 318], 86: [319, 320], 87: [321, 322], 88: [323], 89: [324], 90: [325], 91: [326], 92: [327], 93: [329], 94: [330, 331], 95: [333, 334], 96: [335], 97: [336], 98: [337], 100: [338, 339, 340], 103: [342], 104: [343], 105: [344], 106: [345], 107: [346, 347, 348, 349], 108: [350], 109: [351, 352, 353, 354], 110: [355], 111: [356], 112: [357, 358], 113: [359], 116: [360], 117: [361, 362], 119: [363], 120: [364, 365], 121: [366], 122: [367], 124: [368], 125: [368], 126: [369], 127: [370], 128: [371, 372], 129: [373], 130: [374, 375], 131: [376], 132: [377, 378], 133: [382], 134: [383, 384], 135: [385, 386], 137: [387], 138: [388], 139: [389], 141: [390, 391], 142: [392, 393], 143: [394, 395], 144: [396], 145: [397], 146: [398], 147: [399, 400, 401], 148: [402, 403], 149: [404, 405], 150: [406, 407, 408], 151: [409], 152: [410], 153: [411], 154: [412], 156: [414], 157: [415], 159: [416, 417, 418], 160: [419], 162: [420], 164: [421], 166: [422], 167: [423], 168: [424, 425], 170: [427], 171: [428], 172: [429], 174: [430], 175: [431], 178: [432], 179: [433, 434], 180: [435], 181: [436], 182: [438], 183: [439], 184: [440, 441], 186: [442], 187: [443], 188: [444], 190: [445], 191: [446], 192: [447], 193: [448, 449, 450, 451], 194: [452], 195: [453, 454, 455, 456, 457], 196: [458], 197: [459, 460, 461, 462], 198: [463, 464], 199: [465, 466, 467, 468, 469], 201: [471, 472, 473], 202: [474, 475], 203: [476, 477], 204: [478], 205: [479, 480], 206: [481], 207: [485], 209: [486], 210: [488, 489, 490], 212: [491, 492, 493, 494], 214: [495], 215: [496], 216: [497], 217: [498], 218: [499], 219: [500, 501, 502, 503], 220: [504], 221: [505, 506, 507, 508, 509], 223: [510], 225: [512, 513, 514, 515], 226: [516], 227: [517], 229: [518], 231: [519], 233: [520], 235: [522], 236: [521, 523, 524, 525, 526], 237: [527, 528], 238: [529, 530], 239: [531]}\n",
      "====================================================================================================\n",
      "(1, 14)\n",
      "{1: [194], 3: [196], 8: [199, 200, 201], 9: [202], 11: [204], 14: [209], 17: [215], 19: [217], 20: [218], 21: [221], 22: [222], 23: [224], 26: [227, 228], 27: [229], 186: [511]}\n",
      "\n",
      "{1: [194], 3: [196], 8: [199, 200, 201], 9: [202], 11: [204], 14: [209], 17: [215], 19: [217], 20: [218], 21: [221], 22: [222], 23: [224], 26: [227, 228], 27: [229], 28: [233], 29: [234], 30: [235, 236], 31: [237], 32: [238, 239, 240], 33: [241, 242, 243], 34: [244], 35: [245, 246, 247, 248, 249], 37: [250], 38: [251], 39: [252], 40: [253, 254, 255], 41: [255, 256], 42: [257, 258, 259], 43: [260, 261], 44: [262], 46: [263, 264, 265], 47: [266, 267, 268, 269], 48: [270], 49: [271], 50: [272], 51: [273], 52: [274, 275, 276], 53: [277], 54: [278, 279], 55: [280], 56: [281], 58: [282, 283], 59: [284], 61: [285], 62: [286, 287], 63: [288, 289], 64: [290], 65: [291, 292], 66: [293], 67: [294], 68: [295], 69: [296], 70: [297], 71: [298, 299, 300], 72: [301], 73: [302], 74: [303], 75: [304], 76: [305], 79: [307], 80: [308], 81: [309], 82: [310], 83: [311, 312, 313, 314], 85: [316, 317], 87: [318, 319, 320], 88: [321], 89: [322, 323], 90: [324, 325], 91: [326], 92: [327, 328], 94: [329], 95: [330], 96: [331], 97: [332, 333], 98: [333, 334], 100: [335], 102: [336], 103: [337, 338], 104: [339, 340], 105: [342], 106: [343], 107: [344, 347], 108: [348], 109: [349], 110: [350], 111: [351], 112: [352], 113: [353, 354], 114: [355], 115: [356], 116: [357, 358], 117: [359], 118: [360], 119: [361], 120: [362, 363], 121: [364], 122: [365], 123: [366], 126: [371], 127: [372], 128: [373], 129: [374], 130: [375], 131: [376], 132: [377], 133: [378, 379], 134: [380], 137: [383], 138: [384, 385, 386, 387], 139: [389, 390, 391, 393], 140: [392], 141: [394], 142: [395], 143: [396, 397, 398, 399, 400, 401, 402, 403], 144: [408], 145: [409, 410, 411, 412], 146: [413], 147: [415, 416], 148: [417], 150: [418], 151: [423], 152: [424, 425], 153: [426], 154: [427, 428, 429, 430, 431], 155: [432], 156: [433], 157: [434], 158: [435], 159: [436, 437, 438], 160: [439], 161: [440, 441], 162: [442], 163: [443, 444, 445, 446, 447, 448, 449, 450, 451], 165: [452, 453], 166: [454, 455], 167: [456], 168: [457, 458], 169: [459], 170: [460, 461], 171: [462, 463, 464], 172: [465, 466, 467, 468, 469, 470, 471, 472, 473, 474, 475, 476, 477, 478, 479, 480, 481, 482, 483, 484, 485], 174: [486], 175: [487, 488, 489], 176: [490], 177: [491], 178: [492], 179: [495, 501], 180: [503], 181: [504], 186: [511]}\n",
      "====================================================================================================\n",
      "(1, 15)\n",
      "{237: [521], 239: [522]}\n",
      "\n",
      "{4: [200], 7: [201], 8: [202], 10: [204, 205], 11: [206], 12: [207, 208], 13: [210, 211, 212], 16: [213], 17: [214], 19: [215], 20: [216], 21: [218], 23: [219], 24: [220], 25: [221], 26: [225], 27: [226, 227], 29: [228], 30: [229], 31: [230], 32: [231], 33: [232, 233, 234], 34: [235, 236], 35: [237, 238], 36: [239, 240], 38: [241], 39: [242, 243], 41: [244], 42: [245], 43: [246], 44: [249], 45: [250], 46: [251], 47: [252, 253, 254], 49: [255], 51: [256, 257, 258], 52: [259], 53: [260], 54: [261], 55: [262], 56: [263, 264], 57: [266], 58: [267, 268], 59: [269], 60: [270], 61: [271], 62: [272], 63: [273, 274, 275, 276], 64: [277], 65: [278, 279], 66: [280], 67: [281], 68: [282], 69: [283], 70: [284], 71: [285], 72: [286], 73: [287], 74: [288, 289], 75: [290, 291], 76: [292, 293], 77: [294, 295, 296], 78: [297, 298], 80: [300], 81: [301], 82: [302], 83: [303], 84: [304], 85: [305, 306], 86: [307], 87: [308, 309], 88: [310], 89: [311, 312, 313], 90: [314, 315], 91: [316], 92: [317], 93: [318, 319, 320], 95: [321, 322, 323], 96: [324], 97: [325], 98: [326], 100: [327, 328, 329, 330], 102: [331, 332], 103: [333], 104: [334, 336], 106: [337, 339, 340], 107: [338], 111: [341], 114: [342, 343], 116: [344, 345, 346], 117: [347, 348], 118: [349, 350], 119: [351, 352, 353], 120: [354], 121: [355, 356], 122: [357], 123: [358], 124: [359, 360], 125: [361], 127: [362], 129: [363], 130: [364], 131: [365], 133: [366], 135: [367, 368], 136: [369, 370, 372], 138: [373], 139: [374], 141: [375], 143: [376], 144: [377, 378], 146: [379], 147: [380], 148: [381], 149: [383], 151: [384, 385, 386], 152: [387, 388, 389, 390, 391, 392, 393, 394, 395, 396, 397, 398], 154: [399, 400], 155: [401], 156: [402], 157: [403], 158: [404], 159: [405, 406], 161: [407, 408, 409], 162: [410], 163: [411, 413], 164: [416, 417], 165: [418], 166: [419, 420], 167: [421], 168: [422], 170: [423], 171: [424], 172: [425, 426, 427], 174: [428], 175: [429], 176: [430, 431], 177: [432], 178: [433], 179: [434, 435, 436], 180: [437], 181: [438], 182: [439], 184: [440], 186: [441, 442], 187: [443], 188: [445], 189: [446], 190: [447, 448], 191: [449, 450], 192: [451, 452], 193: [453], 194: [454], 195: [455, 456, 457], 196: [458], 197: [459], 198: [460, 461], 199: [462], 200: [463], 201: [464], 202: [465, 466], 203: [467], 204: [468], 205: [469, 470], 207: [471], 208: [472], 210: [474, 475, 476, 477, 478, 479, 480, 481], 211: [482], 212: [483], 215: [486], 217: [493], 218: [495, 497], 220: [496], 221: [498], 222: [499, 500], 223: [504], 224: [505], 225: [506], 226: [507, 508, 509, 510], 228: [511], 229: [512], 230: [513], 231: [514], 232: [515], 233: [516], 234: [517, 518], 237: [521], 239: [522]}\n",
      "====================================================================================================\n",
      "(1, 16)\n",
      "{0: [192, 193], 1: [194], 3: [196], 4: [197], 5: [198], 6: [199], 7: [200], 9: [202], 11: [203, 204], 255: [507], 256: [508], 258: [509], 260: [511, 512], 266: [516], 268: [520], 269: [521]}\n",
      "\n",
      "{0: [192, 193], 1: [194], 3: [196], 4: [197], 5: [198], 6: [199], 7: [200], 9: [202], 11: [203, 204], 13: [207], 14: [208], 15: [210], 16: [211], 18: [213], 19: [214], 21: [215], 23: [216], 24: [217, 218], 25: [219], 27: [220], 28: [221], 29: [222], 30: [223], 31: [224], 32: [225], 33: [226], 34: [227], 35: [228], 36: [229], 37: [230], 38: [231, 232, 233, 234], 39: [235], 40: [236], 41: [237], 42: [238, 239, 240], 43: [241], 44: [242], 45: [243], 47: [244, 245], 48: [246], 49: [247, 248], 51: [249, 252], 52: [253], 53: [254], 54: [255], 55: [256], 56: [257], 57: [258], 58: [259], 62: [261], 63: [262, 263, 264], 64: [265], 65: [266], 66: [267], 68: [268], 69: [269], 70: [270], 71: [271], 72: [272, 274], 73: [273], 75: [276, 277, 278], 76: [280, 281], 77: [282], 78: [284], 79: [285, 286, 287], 80: [288], 81: [289], 82: [290], 83: [291], 84: [292], 85: [293], 86: [294, 295], 87: [297], 88: [298, 299, 300], 89: [301], 90: [302], 91: [303], 92: [304], 94: [305], 95: [306], 96: [307], 97: [308, 309, 310], 100: [311], 101: [312], 103: [313, 314], 104: [315, 316], 105: [317, 318], 107: [320, 321, 322], 109: [323], 110: [324], 111: [325], 112: [326], 114: [328], 115: [329], 116: [330], 117: [331], 119: [333, 334], 120: [335], 121: [336, 337], 122: [338], 123: [339], 124: [340], 125: [341, 342], 126: [349], 128: [350, 351, 352], 130: [353], 131: [354], 132: [355], 133: [356, 357], 134: [358], 135: [359], 137: [360], 138: [361], 140: [363], 141: [364], 142: [365, 366], 143: [367], 144: [369], 145: [370], 149: [373], 150: [374], 152: [375], 154: [376], 159: [379], 160: [380], 161: [381], 162: [382], 163: [383, 384], 166: [385], 168: [386], 169: [387], 170: [388, 389], 171: [390, 391], 172: [392], 173: [393], 175: [395], 176: [397], 177: [398], 178: [399], 179: [400], 180: [401], 181: [402], 182: [403], 183: [404, 405], 184: [406, 407], 185: [408], 187: [409, 410], 189: [411], 190: [412], 191: [413], 192: [415], 193: [416], 194: [417, 418, 419, 420], 195: [421, 422], 196: [423, 424], 197: [425, 426, 427], 199: [428, 429, 430], 200: [431], 201: [432], 202: [433, 434], 203: [435, 436], 204: [437], 205: [438], 206: [439], 207: [440, 441, 442, 443], 209: [445, 446], 210: [447], 211: [448, 449, 450], 212: [451], 213: [452], 215: [454, 455], 216: [456], 217: [457, 458, 459], 218: [460], 219: [462], 220: [463], 221: [464], 223: [465], 224: [466, 467], 225: [468], 226: [469], 227: [470], 228: [471], 229: [472], 230: [473], 231: [474], 232: [475], 233: [476], 234: [477], 235: [478], 236: [479], 237: [480], 239: [481], 240: [484], 241: [485], 242: [486, 487], 243: [488], 244: [489, 490], 245: [491], 248: [492], 249: [493, 494], 250: [495, 496, 497, 498, 499, 500, 501], 252: [502, 503, 504, 505], 254: [506], 255: [507], 256: [508], 258: [509], 260: [511, 512], 266: [516], 268: [520], 269: [521]}\n",
      "====================================================================================================\n",
      "(1, 17)\n",
      "{1: [270]}\n",
      "\n",
      "{1: [270], 2: [271], 3: [272], 5: [274, 278], 9: [279, 280, 281], 10: [282], 11: [283], 12: [284], 13: [285], 15: [286], 16: [287], 18: [288, 289], 19: [290], 20: [291, 292], 21: [293], 22: [294], 23: [295], 25: [296, 297], 26: [298], 27: [299, 300], 28: [301], 29: [302], 30: [303, 304, 305, 306], 31: [307], 32: [308, 309], 33: [310, 311], 34: [312], 35: [313, 314, 315, 316, 317], 36: [318, 319, 320], 37: [321], 38: [322, 323], 39: [324], 40: [325], 41: [326], 42: [327], 44: [328], 45: [329], 46: [330], 47: [331, 332, 333], 48: [334], 49: [335, 336], 50: [337], 51: [338], 52: [339, 340], 53: [341], 54: [342], 56: [343], 57: [344, 345], 58: [350], 60: [351], 63: [352], 64: [353], 66: [354, 355, 356, 357, 358], 67: [359, 360, 361, 362], 68: [363], 70: [365], 71: [366], 72: [367], 73: [368, 369], 74: [370], 76: [371], 77: [372], 78: [373], 79: [374], 80: [375], 82: [376, 377, 378, 379, 380, 381, 382, 383, 384, 385], 83: [386], 84: [387, 388], 85: [389], 86: [390], 87: [391, 392], 88: [397, 398], 89: [399], 90: [400, 401], 91: [402, 403, 404], 92: [405, 406, 407, 408, 409], 93: [410], 94: [411], 95: [412], 96: [413], 97: [414], 98: [415], 100: [416], 102: [417], 103: [418, 419], 104: [420], 105: [421], 107: [422, 423], 108: [424, 425, 426], 109: [427], 110: [428], 111: [429, 430], 112: [430, 431], 113: [432], 114: [433], 115: [434], 116: [435], 117: [436, 437, 438], 118: [439], 119: [440, 441], 120: [442], 123: [443], 125: [444], 127: [445], 128: [446, 447], 129: [448], 131: [449, 450], 132: [451], 133: [452], 134: [453], 135: [454, 455], 136: [456], 137: [457], 138: [458], 139: [462], 140: [463], 141: [464], 142: [465], 143: [466, 467], 144: [468, 469, 470, 471, 472], 145: [473], 146: [474], 147: [475, 476, 478], 148: [485], 149: [486], 151: [487, 490, 491], 152: [492], 154: [493, 494], 155: [495], 156: [496, 497], 158: [498], 159: [499], 161: [500], 166: [505], 167: [506], 168: [507, 508], 169: [510], 170: [511, 512, 513], 173: [518], 174: [519], 177: [520], 178: [521, 522], 179: [523], 180: [524], 181: [525], 182: [526], 183: [527], 184: [527], 185: [528], 186: [529], 187: [530], 189: [531, 532], 191: [533], 193: [534], 194: [535], 195: [536], 196: [537], 197: [538, 539], 198: [540], 199: [541], 200: [542], 201: [547], 203: [548, 549, 550, 551], 204: [552], 205: [553], 206: [554], 207: [555], 208: [556, 561], 209: [562], 211: [563, 564], 212: [565], 214: [567], 215: [568], 216: [569], 217: [570, 571], 218: [572], 219: [573], 220: [574], 221: [575], 222: [576], 223: [577], 224: [578], 226: [579], 227: [580, 581, 582, 583, 584, 585, 586, 587, 588, 589, 590, 591, 592, 593, 594, 595, 596, 597, 598, 599, 600, 601, 602, 603, 604, 605, 606, 607, 608, 609, 610, 611, 612, 613, 614, 615, 616, 617, 618, 619, 620, 621, 622, 623, 624, 625, 626, 627, 628, 629, 630, 631, 632, 633, 634, 635, 636, 637, 638, 639, 640, 641, 642, 643, 644, 645, 646, 647, 648, 649, 650, 651, 652, 653, 654, 655, 656, 657, 658, 659, 660, 661, 662, 663, 664, 665, 666, 667, 668, 669, 670, 671, 672, 673, 674, 675, 676, 677, 678, 679, 680, 681, 682, 683, 684, 685, 686, 687, 688, 689, 690, 691, 692, 693, 694, 695, 696, 697, 698, 699, 700, 701, 702, 703, 704, 705, 706, 707, 708, 709, 710, 711, 712, 713, 714, 715, 716, 717, 718, 719, 720, 721, 722, 723, 724, 725, 726, 727, 728, 729, 730, 731, 732, 733, 734, 735, 736, 737, 738, 739, 740, 741, 742, 743, 744, 745, 746, 747, 748, 749, 750, 751, 752, 753, 754, 755, 756, 757, 758, 759, 760, 761, 762, 763, 764, 765, 766, 767, 768, 769, 770, 771, 772, 773, 774, 775, 776, 777, 778, 779, 780, 781, 782, 783, 784, 785, 786, 787, 788, 789, 790, 791, 792, 793, 794, 795, 796, 797, 798, 799, 800, 801, 802, 803, 804, 805, 806, 807, 808, 809, 810, 811, 812, 813, 814, 815, 816, 817, 818, 819, 820, 821, 822, 823, 824, 825, 826, 827, 828, 829, 830, 831, 832, 833, 834, 835, 836, 837, 838, 839, 840, 841, 842, 843, 844, 845, 846, 847, 848, 849, 850, 851, 852, 853, 854, 855, 856, 857, 858, 859, 860, 861, 862, 863, 864, 865, 866, 867, 868, 869, 870, 871, 872, 873, 874, 875, 876, 877, 878, 879, 880, 881, 882, 883, 884, 885, 886, 887, 888, 889, 890, 891, 892, 893, 894, 895, 896, 897, 898, 899, 900, 901, 902, 903, 904, 905, 906, 907, 908, 909, 910, 911, 912, 913, 914, 915, 916], 228: [917], 229: [918, 922], 232: [920], 233: [921], 235: [923], 237: [924], 239: [925], 240: [926], 241: [927], 243: [928, 929], 244: [930], 246: [931, 932], 247: [933], 248: [934], 249: [935], 250: [936], 251: [937], 252: [938, 939], 253: [940], 254: [941, 942], 256: [943], 259: [945], 263: [947, 948], 264: [949], 265: [950], 266: [951], 267: [952], 268: [953, 954], 269: [955]}\n",
      "====================================================================================================\n",
      "(1, 18)\n",
      "{2: [49, 191, 192], 4: [195], 5: [197], 10: [199], 12: [200], 15: [202], 18: [205], 21: [207], 26: [212], 31: [215], 32: [216], 34: [218], 35: [220], 37: [224], 38: [226], 39: [227], 44: [229], 46: [230], 48: [231], 49: [232], 52: [236], 53: [238], 55: [240], 57: [243, 245], 61: [250, 251], 63: [255], 64: [258], 264: [523]}\n",
      "\n",
      "{2: [49, 191, 192], 4: [195], 5: [197], 10: [199], 12: [200], 15: [202], 18: [205], 21: [207], 26: [212], 31: [215], 32: [216], 34: [218], 35: [220], 37: [224], 38: [226], 39: [227], 44: [229], 46: [230], 48: [231], 49: [232], 52: [236], 53: [238], 55: [240], 57: [243, 245], 61: [250, 251], 63: [255], 64: [258], 65: [259], 66: [260, 261, 262, 263, 264, 268], 68: [269], 69: [270], 70: [271], 71: [272], 72: [273, 274], 73: [275, 276], 76: [277], 77: [278, 279], 78: [280], 79: [281], 80: [282, 283], 81: [284], 82: [285], 83: [286, 287], 84: [288], 85: [291], 87: [292, 293], 88: [294, 295, 296, 297], 90: [298], 91: [299], 92: [300], 93: [301], 94: [302, 303], 95: [304], 96: [305], 97: [306], 98: [307], 99: [308, 309], 100: [310], 101: [311, 312], 104: [313], 105: [314], 106: [315], 107: [316, 317], 108: [318], 109: [319], 110: [320], 111: [321], 112: [322], 113: [323], 114: [324, 325, 326], 115: [327, 328], 116: [329], 118: [330], 120: [331], 124: [333, 334, 335], 125: [336], 126: [337], 127: [338], 128: [339], 129: [348], 131: [349], 134: [350], 135: [351], 136: [352, 354, 355, 356, 357], 137: [358], 138: [359], 139: [360, 361], 140: [362], 141: [363], 142: [364, 365], 144: [366], 145: [367], 148: [368, 369], 149: [370], 150: [371], 152: [372, 373], 153: [374, 375, 376], 154: [377], 155: [381, 382], 156: [383, 384, 385, 386], 157: [387], 158: [396, 397], 159: [398], 160: [399, 400], 161: [401, 402], 162: [405], 163: [406, 407, 408], 166: [409], 167: [410], 168: [411], 169: [412], 170: [413, 414], 171: [415], 172: [416], 173: [417, 418], 174: [419], 175: [420], 176: [421], 177: [422], 178: [423], 181: [426, 427, 428, 429, 430, 431, 432, 433], 182: [434], 183: [435], 184: [436], 185: [437], 186: [438], 187: [439], 188: [440, 441], 189: [442], 190: [443], 191: [444], 192: [445], 193: [446], 194: [447, 448], 195: [449, 450], 196: [451], 197: [452, 453], 200: [454], 202: [455], 203: [456, 457], 204: [458], 205: [459], 206: [460], 208: [461], 210: [462], 211: [463, 464, 465, 466], 212: [467], 213: [468], 214: [469, 470], 215: [471], 216: [472], 217: [474], 219: [475], 220: [476], 222: [477], 223: [478], 224: [479, 480], 225: [482], 226: [483], 227: [484, 485, 486], 229: [487], 230: [488], 231: [489, 490], 232: [491], 233: [492, 493], 236: [495], 237: [496], 238: [497, 498], 239: [499], 240: [500], 241: [501], 242: [502], 243: [503], 245: [504], 246: [505], 248: [506], 249: [507, 508], 251: [509], 252: [510], 253: [511], 254: [512], 264: [523]}\n",
      "====================================================================================================\n",
      "(1, 19)\n",
      "{0: [93, 156, 200, 201, 203], 1: [205], 2: [206], 3: [207], 6: [212, 214], 9: [216], 11: [219], 12: [221, 225, 226], 15: [228, 229, 231], 17: [232], 19: [236, 237, 238], 21: [242, 243], 22: [246, 247], 30: [253], 31: [254], 33: [257], 233: [525], 234: [526], 235: [528], 236: [529, 530], 237: [531], 238: [532]}\n",
      "\n",
      "{0: [93, 156, 200, 201, 203], 1: [205], 2: [206], 3: [207], 6: [212, 214], 9: [216], 11: [219], 12: [221, 225, 226], 15: [228, 229, 231], 17: [232], 19: [236, 237, 238], 21: [242, 243], 22: [246, 247], 30: [253], 31: [254], 33: [257], 35: [261], 36: [262], 37: [263], 38: [264], 39: [265], 40: [266, 267], 41: [268], 42: [269], 43: [270], 44: [271, 272], 46: [273, 274], 47: [275], 48: [276, 277], 49: [278], 50: [279], 51: [280, 281], 52: [283, 284, 285, 286, 287, 288, 289, 290, 291, 292, 293, 294, 295, 296, 297, 298, 299, 300, 301], 53: [302], 54: [303], 55: [304, 305], 56: [306], 57: [307], 58: [308], 61: [309], 62: [310], 63: [311], 64: [312], 65: [313], 66: [314], 67: [315, 316, 317, 319], 68: [318], 69: [320, 321], 70: [322, 323, 324], 71: [325, 326], 73: [328], 74: [329, 330, 331], 77: [333], 78: [334], 80: [335], 81: [336], 82: [337], 83: [338], 84: [339], 85: [340], 86: [341, 342], 87: [343], 88: [344, 345, 346, 347], 89: [348], 90: [349, 350, 351], 91: [352, 353], 92: [354], 93: [355], 94: [356, 357, 358, 360], 95: [359], 98: [361], 99: [362], 100: [363], 101: [364, 365, 366], 102: [367], 104: [368, 369], 105: [370], 106: [371], 107: [372, 373, 374], 108: [375], 109: [376], 111: [377], 112: [378], 113: [379], 114: [380], 115: [381], 117: [382], 119: [383], 120: [384], 121: [385], 122: [386], 123: [387], 124: [388], 125: [389, 390], 126: [391, 392], 128: [393, 394, 395], 129: [396], 130: [398], 132: [399], 135: [400, 401], 136: [402], 137: [403, 404, 405], 139: [407], 140: [408, 409], 144: [410], 145: [411], 146: [412], 147: [413], 148: [414], 149: [416], 151: [417], 153: [419], 154: [421], 155: [422], 156: [423, 424], 157: [425, 426, 427, 428, 429], 158: [430], 166: [432], 168: [433], 169: [434], 170: [435], 171: [436], 172: [437], 173: [438], 174: [439, 440, 441], 175: [442], 176: [443], 179: [444], 180: [445], 181: [446, 447, 448, 449], 182: [450, 451, 452, 453, 454], 183: [455], 184: [456], 185: [457, 458, 459], 186: [460], 188: [461], 191: [462], 192: [463, 464], 193: [467], 194: [468], 196: [470], 197: [471], 198: [472], 199: [473], 200: [474], 201: [475], 202: [476, 477], 204: [478], 205: [479, 480, 481], 206: [482], 208: [484], 209: [485], 210: [486], 212: [487], 213: [488], 214: [489], 215: [490, 491, 492, 493, 494, 495, 496, 497], 217: [498], 218: [499, 500], 219: [501], 220: [502], 221: [503], 222: [504, 505, 506], 224: [509, 510, 511, 512], 225: [513], 226: [514], 227: [515, 516, 517], 229: [518], 230: [520, 522], 232: [523], 233: [525], 234: [526], 235: [528], 236: [529, 530], 237: [531], 238: [532]}\n",
      "====================================================================================================\n",
      "(1, 20)\n",
      "{0: [200], 1: [202, 203], 2: [204], 3: [207, 208], 243: [532, 533]}\n",
      "\n",
      "{0: [200], 1: [202, 203], 2: [204], 3: [207, 208], 4: [209], 5: [210], 6: [211, 212], 7: [213, 214], 8: [216, 217, 218, 219], 9: [220], 10: [221, 222, 223, 224, 225, 226], 11: [227], 12: [228], 13: [229, 230], 14: [231, 232], 15: [233], 16: [234], 17: [235], 18: [236], 19: [237], 21: [238], 22: [239, 240], 23: [241, 242], 25: [243], 26: [244], 28: [245], 29: [246], 30: [247, 248, 249], 31: [250], 32: [251, 252], 33: [253, 254], 34: [255, 256, 257, 258], 35: [259], 36: [260], 37: [261], 38: [262, 263, 264], 41: [265], 42: [266], 43: [267, 268], 46: [269, 270], 47: [271], 48: [272], 49: [276, 277, 278], 50: [279], 51: [280], 52: [281], 53: [282, 283], 54: [284], 55: [285, 286], 56: [287], 57: [288, 289], 58: [290], 59: [291, 292], 60: [293], 61: [294], 62: [295, 296], 64: [297], 65: [298, 299], 66: [300], 67: [301], 68: [302], 69: [303], 70: [304, 305], 71: [306], 72: [307, 308], 73: [309], 74: [310, 311, 312], 75: [313], 76: [314], 77: [315, 316], 78: [317], 80: [319], 81: [320], 82: [321, 322], 83: [323], 84: [324], 85: [325], 86: [326], 87: [327], 88: [328], 89: [329], 90: [330], 91: [331, 332, 333], 93: [334], 94: [335], 95: [336], 96: [337], 98: [338], 99: [339, 340], 100: [341], 101: [342], 102: [343], 103: [344, 345], 104: [346], 105: [347], 106: [348], 107: [349, 350], 109: [351, 352, 353, 354], 111: [355, 356, 357, 358, 359, 360, 361, 362], 112: [363], 113: [364, 365, 366, 367], 115: [368], 116: [369], 117: [370, 371], 119: [372], 120: [373], 121: [374], 122: [375, 376, 377], 124: [378], 126: [380], 127: [381, 382, 383], 128: [384], 129: [385], 130: [386, 387], 131: [388], 132: [389, 390], 133: [391], 134: [392, 393, 394, 395, 396, 397, 398], 135: [399], 137: [401], 139: [402, 403, 404], 140: [405], 141: [406], 142: [407, 408, 409, 410], 144: [411], 145: [412], 146: [413], 147: [415], 148: [416], 150: [417], 151: [418], 152: [419, 420], 153: [421], 154: [422, 423], 155: [424], 156: [425], 157: [426], 158: [427], 160: [428, 429, 430], 161: [431, 432], 163: [433], 165: [434], 167: [437], 168: [438], 169: [439], 170: [440], 171: [441], 173: [442], 174: [443, 444], 175: [445, 446], 176: [447, 448], 178: [449, 450], 179: [451], 180: [452], 181: [453], 182: [454], 183: [455, 456], 184: [457], 185: [458, 459, 460, 461, 462, 463, 464], 187: [465, 466], 188: [467], 189: [468], 191: [473], 192: [474, 475], 194: [477], 195: [478], 196: [479], 197: [480], 198: [481, 482, 483], 199: [484], 200: [485, 486], 201: [487], 202: [488], 203: [489], 204: [490], 205: [491], 207: [492, 493], 208: [497, 498], 209: [499, 500], 210: [501, 502, 503, 504], 211: [505], 212: [506, 507], 213: [508, 509], 215: [510, 511], 216: [512], 220: [513, 514], 222: [516], 223: [517, 518], 225: [520], 227: [521], 229: [522], 230: [523, 524, 525], 232: [526], 233: [527], 243: [532, 533]}\n",
      "====================================================================================================\n",
      "(1, 22)\n",
      "{7: [199, 200], 8: [201], 9: [202], 12: [204], 273: [522]}\n",
      "\n",
      "{7: [199, 200], 8: [201], 9: [202], 12: [204], 13: [205], 14: [206], 15: [207], 16: [208], 17: [209], 19: [210], 20: [211, 212], 21: [214], 22: [215], 23: [216], 24: [217], 25: [218], 26: [219], 27: [220], 28: [221, 222, 223], 29: [224], 30: [225], 31: [226], 32: [227, 228], 33: [229], 34: [230], 35: [231], 37: [232], 38: [233], 39: [234, 235], 40: [236, 237], 41: [238], 42: [239], 43: [240], 45: [241, 242], 46: [243], 47: [244], 48: [245, 246], 50: [250], 51: [251, 252], 53: [254], 54: [255], 55: [256], 56: [257], 57: [258], 59: [259], 60: [260], 61: [261, 262], 62: [263], 63: [264, 265, 266], 65: [267], 67: [268, 269], 68: [270], 69: [271, 272], 71: [273], 76: [275, 276, 277, 278, 279], 77: [280, 281, 282, 283], 79: [284], 80: [285, 286, 287], 81: [288], 82: [289], 84: [290, 291], 85: [292], 86: [293, 294], 87: [295, 296, 297, 298, 299], 88: [300], 89: [301, 302, 303, 304, 305], 90: [306], 91: [307], 92: [308], 93: [309], 95: [310, 311], 97: [312], 98: [313], 99: [314, 315, 316], 100: [317], 101: [318, 319, 320, 321], 102: [322], 103: [323], 104: [324], 105: [325, 326], 106: [327], 108: [328], 109: [329], 112: [331], 113: [332, 333], 114: [334], 115: [335], 116: [336], 117: [337, 338, 339, 340], 122: [341, 342, 343, 344], 123: [345], 124: [346], 125: [347], 126: [348, 349, 350], 130: [351, 352, 353, 354, 355], 132: [356], 134: [357], 135: [358, 359], 136: [360, 361, 362], 137: [363], 138: [364], 140: [365, 366, 367], 142: [368], 143: [372, 373], 145: [374], 147: [375, 376, 377], 148: [377], 149: [378], 150: [379], 151: [380, 381], 152: [382], 153: [383], 154: [384], 157: [385, 386, 387, 388], 159: [389, 391, 392], 160: [393], 161: [394], 162: [395], 163: [396, 397, 398, 399], 167: [400], 168: [401], 170: [402], 171: [403], 173: [404], 174: [405], 176: [406, 407], 179: [407], 181: [408], 182: [409], 183: [410], 184: [411, 412], 185: [413], 187: [414], 189: [415], 190: [416], 191: [417], 192: [418, 419], 193: [420], 194: [421], 195: [422, 423], 196: [424, 425], 197: [426, 427], 198: [428], 199: [429], 200: [430], 203: [431, 432], 204: [439, 440], 205: [441], 207: [442, 443, 444], 208: [445], 209: [446, 447, 448, 449], 210: [450], 211: [451], 212: [452], 213: [453], 214: [454], 216: [455], 217: [456, 457], 218: [458], 219: [459, 460], 221: [461], 222: [462], 223: [463], 224: [464], 226: [465, 466, 467, 468, 469, 470], 227: [471], 228: [472], 229: [473, 474, 475], 230: [476], 231: [477, 478, 479], 232: [480], 234: [481], 235: [482], 236: [483], 237: [484, 485], 238: [486], 239: [487], 240: [488], 241: [489], 243: [490, 491], 244: [492], 245: [493, 494], 246: [495, 496], 249: [497, 498], 250: [499, 500], 253: [500, 501, 502], 254: [503], 257: [504], 258: [505], 259: [506], 260: [507], 261: [508, 509], 262: [510], 264: [511], 265: [512], 266: [513], 267: [514], 268: [515], 269: [516, 517], 270: [518], 271: [520], 272: [521], 273: [522]}\n",
      "====================================================================================================\n",
      "(1, 24)\n",
      "{0: [180, 194], 1: [195], 2: [196], 3: [198, 199], 6: [202], 7: [203, 204], 8: [205], 9: [206], 10: [207], 11: [208], 14: [212], 15: [213], 16: [214]}\n",
      "\n",
      "{0: [180, 194], 1: [195], 2: [196], 3: [198, 199], 6: [202], 7: [203, 204], 8: [205], 9: [206], 10: [207], 11: [208], 14: [212], 15: [213], 16: [214], 17: [219, 220], 19: [221], 20: [225], 21: [226], 22: [228], 23: [229, 230], 24: [231, 232], 26: [233], 28: [234, 235], 29: [236], 30: [237], 31: [238], 32: [239], 33: [240], 34: [241], 35: [242, 243], 36: [244], 40: [245], 41: [246], 42: [247], 44: [248, 249, 250, 251, 252, 253, 254], 45: [255], 46: [256], 48: [257, 258, 259], 49: [260], 50: [261], 51: [262], 52: [263], 54: [264], 55: [265], 56: [266], 57: [267], 58: [268], 62: [269], 64: [270, 271], 65: [272], 66: [273], 67: [274], 68: [275], 69: [276, 277], 70: [278], 71: [279, 280, 281], 74: [283], 75: [284, 285], 76: [286, 287], 77: [288], 80: [290, 291], 81: [292, 293], 82: [294], 84: [295], 86: [296], 87: [297], 89: [298], 90: [299], 91: [300], 92: [301, 302], 93: [303, 304], 94: [305], 95: [306], 96: [307], 97: [308], 98: [309], 99: [310], 100: [311], 101: [312], 102: [313, 314, 315, 316, 317], 103: [318], 104: [319, 320], 105: [321], 106: [322], 107: [323], 108: [324], 109: [325], 111: [326], 113: [328], 114: [329], 115: [330], 116: [331], 117: [332], 118: [333], 119: [334, 335], 120: [336, 337, 338, 339], 121: [340], 122: [341, 342], 123: [343], 124: [344], 125: [345, 346, 347, 348], 126: [349], 127: [350], 129: [353], 131: [354], 132: [355], 133: [356], 134: [357], 135: [358], 136: [359, 360], 137: [361, 362], 140: [363], 143: [364], 144: [365], 145: [366], 146: [367], 147: [368], 148: [369, 370], 149: [371], 151: [372, 373], 153: [374, 375], 154: [376, 377], 155: [378, 379], 156: [380], 157: [381], 158: [382], 159: [383], 160: [384], 161: [385], 162: [386], 164: [387, 388, 389, 390, 391, 392, 401], 165: [393, 405, 406], 166: [407, 408, 409, 410], 168: [411, 412], 169: [413, 414], 170: [416], 171: [417], 172: [418], 174: [419], 175: [420], 176: [421], 177: [422], 179: [423], 180: [424], 181: [425], 183: [426], 184: [427], 185: [428], 189: [430], 190: [431], 191: [432], 192: [433], 193: [434, 435, 436, 437], 194: [438], 195: [439, 440, 441], 196: [442], 197: [443], 198: [445], 201: [446, 447], 202: [448, 449, 450], 203: [451, 452], 205: [453, 454], 206: [455], 207: [456], 208: [457, 458], 209: [459], 210: [460], 211: [461], 212: [462, 463], 213: [464], 214: [465, 466], 215: [467, 468], 216: [469], 217: [470, 471], 218: [472, 473], 219: [474], 220: [475], 221: [476], 222: [477], 223: [478], 224: [479], 225: [480], 226: [481], 227: [482], 228: [483], 229: [484, 485, 486], 233: [488], 234: [489], 235: [490, 491, 492, 493], 236: [494], 237: [495], 238: [496], 239: [497, 498], 240: [499], 244: [500, 501, 502, 503, 512, 517], 245: [504], 246: [520, 521], 247: [522, 523], 248: [524], 249: [525], 250: [526], 253: [527], 254: [528], 255: [529], 256: [530]}\n",
      "====================================================================================================\n",
      "(6, 4)\n",
      "{}\n",
      "\n",
      "{134: [200]}\n",
      "====================================================================================================\n",
      "(9, 12)\n",
      "{243: [559], 244: [560, 561], 245: [562]}\n",
      "\n",
      "{2: [200], 3: [201], 4: [202], 5: [203], 6: [204], 7: [205], 8: [207, 208, 209, 210], 11: [211], 12: [212, 213], 13: [214, 215], 14: [216], 15: [217], 16: [218], 17: [219], 18: [220], 20: [221], 21: [222], 22: [223, 224], 23: [225], 25: [227], 26: [228, 230], 27: [231], 28: [233], 29: [234], 30: [235], 31: [236], 32: [237, 238], 33: [239, 240], 35: [241], 38: [243, 244, 245], 39: [246, 247], 40: [248], 41: [249, 250], 42: [251], 44: [252], 45: [253, 254], 47: [255, 256], 49: [257], 50: [258], 51: [259, 260], 52: [261], 53: [262, 263, 264], 55: [265], 56: [266, 267, 268], 57: [269, 270], 58: [271, 272], 59: [273, 274, 275, 276, 277, 278], 60: [279], 61: [280, 281, 282], 62: [283, 284], 63: [285, 286, 287], 64: [288], 65: [289, 290, 291, 292], 66: [293], 67: [294], 68: [295], 69: [296], 71: [297], 72: [298, 299], 73: [300, 301], 74: [302, 303, 304], 76: [305], 77: [306], 78: [307, 308, 309], 80: [310, 311], 81: [312], 83: [314], 85: [315, 316], 86: [317, 318], 87: [319, 320], 88: [321, 322, 323], 89: [324], 90: [325], 91: [326, 327], 93: [328], 94: [329, 330], 96: [331], 97: [332], 98: [333], 99: [334], 100: [335, 336], 101: [337, 338], 102: [339, 340, 341, 342, 343], 104: [345], 106: [347], 107: [348], 108: [349], 111: [352, 353], 112: [354], 113: [355, 356], 114: [357, 358], 115: [359, 360], 116: [361, 362], 117: [364], 118: [365], 119: [366], 122: [368], 123: [370], 124: [371, 372], 125: [373, 374], 126: [375], 127: [376, 377, 378, 379, 380, 381], 128: [382, 383], 129: [384, 385, 386, 387, 388], 131: [389], 132: [390], 133: [391, 392, 393, 394, 395, 396], 134: [397], 135: [398], 136: [399, 400], 137: [401], 138: [402, 403], 139: [404, 405], 140: [406], 141: [407], 142: [408], 143: [409, 410], 144: [411, 412], 145: [413], 146: [414, 415], 147: [416, 417], 148: [418], 149: [419], 150: [420, 421], 151: [422], 152: [423], 154: [425, 426], 155: [427], 156: [428, 429], 157: [430], 158: [431], 159: [432, 433], 160: [434, 435], 161: [436], 162: [437, 438], 163: [439, 440], 164: [441], 165: [442], 166: [443, 444], 167: [445], 168: [446], 169: [448], 170: [449], 171: [450], 172: [451], 173: [452, 453, 454], 174: [455], 175: [456, 457], 176: [458], 177: [459, 460], 178: [461, 462], 179: [463], 180: [464], 181: [465], 182: [466], 183: [467], 184: [468], 185: [469], 186: [470], 187: [471], 188: [472], 190: [473], 191: [474], 192: [475, 476, 477, 478, 479], 193: [480], 195: [481], 197: [483, 484], 198: [485, 486], 199: [487, 488], 200: [489], 201: [490], 203: [491, 492, 493], 204: [494], 205: [495, 496], 206: [498, 499, 500, 501, 502, 503, 504], 207: [505], 208: [506, 507, 508, 509], 209: [510], 210: [511], 211: [512], 212: [513, 514, 515, 516], 214: [517, 518], 215: [519, 520, 521], 216: [522], 217: [523, 524], 220: [526, 527], 222: [528], 223: [529, 530, 531], 224: [532], 225: [533], 226: [534], 227: [535, 536, 537, 538], 228: [539, 540], 229: [541], 230: [543], 231: [544, 545, 546], 232: [547, 548], 233: [549], 234: [550], 235: [551], 237: [553], 238: [554, 555, 556], 239: [557], 243: [559], 244: [560, 561], 245: [562]}\n",
      "====================================================================================================\n"
     ]
    }
   ],
   "source": [
    "for item in further_alignment:\n",
    "    print(item)\n",
    "    print(further_alignment[item])\n",
    "    print()\n",
    "    print(ultimate_data[item])\n",
    "    print(\"==\"*50)"
   ],
   "metadata": {
    "collapsed": false,
    "pycharm": {
     "name": "#%%\n"
    }
   }
  },
  {
   "cell_type": "code",
   "execution_count": 15,
   "outputs": [],
   "source": [
    "with open(root_path + \"1_alignment_ultimate_12.pkl\", \"rb\") as f:\n",
    "    alignment_seeds = pkl.load(f)\n",
    "\n",
    "further_alignment = {}\n",
    "for (i, j) in alignment_seeds.keys():\n",
    "    (en_subset, zh_subset, tbbt_episode) = fetch_subsets(\n",
    "                episode=all_transcripts,\n",
    "                en_subtitle=all_en_subtitles,\n",
    "                zh_subtitle=all_other_subtitles,\n",
    "                results=coarse_alignments,\n",
    "                season_id=i,\n",
    "                episode_id=j,\n",
    "                bias=200,\n",
    "                zh_split=True\n",
    "            )\n",
    "    epi2sub = filter_by_idx(alignment_seeds[(i,j)])\n",
    "    # Extend the neighbor\n",
    "    while True:\n",
    "        temp_len = len(turn_sub2epi_into_epi2sub(epi2sub))\n",
    "        epi2sub = filter_by_idx(add_neighbor_subtitles_to_episode(en_subset, epi2sub, tbbt_episode))\n",
    "        if temp_len==len(turn_sub2epi_into_epi2sub(epi2sub)):\n",
    "            break\n",
    "\n",
    "    # Perform a set of extension\n",
    "    while True:\n",
    "        temp_len = len(turn_sub2epi_into_epi2sub(epi2sub))\n",
    "\n",
    "        gaps, _ = get_subset_in_gaps(epi2sub)\n",
    "        epi2sub = filter_by_idx(add_strict_match_within_gaps(gaps, epi2sub, en_subset, tbbt_episode))\n",
    "\n",
    "        gaps, _ = get_subset_in_gaps(epi2sub)\n",
    "        epi2sub = filter_by_idx(add_wer_match_within_gaps(gaps, epi2sub, en_subset, tbbt_episode))\n",
    "\n",
    "        gaps, _ = get_subset_in_gaps(epi2sub)\n",
    "        epi2sub = filter_by_idx(add_wer_substring_match_within_gaps(gaps, epi2sub, en_subset, tbbt_episode))\n",
    "\n",
    "        epi2sub = filter_by_idx(add_neighbor_subtitles_to_episode(en_subset, epi2sub, tbbt_episode))\n",
    "\n",
    "        if temp_len==len(turn_sub2epi_into_epi2sub(epi2sub)):\n",
    "            break\n",
    "\n",
    "    # Perform alignment within gaps\n",
    "    while True:\n",
    "        temp_len = len(turn_sub2epi_into_epi2sub(epi2sub))\n",
    "\n",
    "        gaps, _ = get_subset_in_gaps(epi2sub)\n",
    "        epi2sub = filter_by_idx(add_strict_match_within_gaps(gaps, epi2sub, en_subset, tbbt_episode))\n",
    "\n",
    "        gaps, _ = get_subset_in_gaps(epi2sub)\n",
    "        epi2sub = filter_by_idx(add_wer_match_within_gaps(gaps, epi2sub, en_subset, tbbt_episode))\n",
    "\n",
    "        gaps, _ = get_subset_in_gaps(epi2sub)\n",
    "        epi2sub = filter_by_idx(add_wer_substring_match_within_gaps(gaps, epi2sub, en_subset, tbbt_episode))\n",
    "\n",
    "        epi2sub = filter_by_idx(extend_neighbors_episode_sliding(en_subset, epi2sub, tbbt_episode))\n",
    "\n",
    "        if temp_len==len(turn_sub2epi_into_epi2sub(epi2sub)):\n",
    "            break\n",
    "\n",
    "    # Extend Subtitle ids with its min and max index\n",
    "    for x in epi2sub:\n",
    "        epi2sub[x] = [i for i in range(min(epi2sub[x]), max(epi2sub[x])+1)]\n",
    "\n",
    "    # Perform ultimate alignment\n",
    "    gaps = get_final_stage_gap_pairs(epi2sub)\n",
    "    epi2sub = ultimate_alignment(gaps, epi2sub, en_subset, tbbt_episode)\n",
    "\n",
    "    further_alignment[(i,j)] = epi2sub\n",
    "\n",
    "with open(root_path+'1_alignment_extension_12_again.pkl', 'wb') as f:\n",
    "    pkl.dump(further_alignment, f)"
   ],
   "metadata": {
    "collapsed": false,
    "pycharm": {
     "name": "#%%\n"
    }
   }
  },
  {
   "cell_type": "code",
   "execution_count": 16,
   "outputs": [
    {
     "name": "stdout",
     "output_type": "stream",
     "text": [
      "(1, 1) Subtitle: 459 0.9870967741935484 || Episode: 251 79.68253968253968 0\n",
      "(1, 2) Subtitle: 375 0.9191176470588235 || Episode: 194 76.37795275590551 0\n",
      "(1, 3) Subtitle: 223 0.9409282700421941 || Episode: 142 52.20588235294118 56\n",
      "(1, 4) Subtitle: 340 0.8923884514435696 || Episode: 217 80.97014925373134 1\n",
      "(1, 5) Subtitle: 338 0.9548022598870056 || Episode: 193 75.98425196850394 0\n",
      "(1, 6) Subtitle: 297 0.8027027027027027 || Episode: 178 77.72925764192141 0\n",
      "(1, 7) Subtitle: 291 0.8818181818181818 || Episode: 175 69.44444444444444 0\n",
      "(1, 8) Subtitle: 276 0.8761904761904762 || Episode: 198 80.48780487804879 0\n",
      "(1, 9) Subtitle: 332 0.9222222222222223 || Episode: 187 77.27272727272727 0\n",
      "(1, 10) Subtitle: 341 0.9291553133514986 || Episode: 186 77.17842323651453 0\n",
      "(1, 11) Subtitle: 334 0.9226519337016574 || Episode: 224 75.42087542087542 0\n",
      "(1, 12) Subtitle: 309 0.9507692307692308 || Episode: 192 71.11111111111111 1\n",
      "(1, 13) Subtitle: 314 0.9373134328358209 || Episode: 195 76.171875 0\n",
      "(1, 14) Subtitle: 292 0.9211356466876972 || Episode: 164 79.6116504854369 1\n",
      "(1, 15) Subtitle: 296 0.9164086687306502 || Episode: 188 72.86821705426357 4\n",
      "(1, 16) Subtitle: 299 0.9088145896656535 || Episode: 219 76.30662020905923 0\n",
      "(1, 17) Subtitle: 650 0.948905109489051 || Episode: 214 72.2972972972973 1\n",
      "(1, 18) Subtitle: 439 0.9261603375527426 || Episode: 204 74.18181818181819 2\n",
      "(1, 19) Subtitle: 416 0.9476082004555809 || Episode: 186 73.51778656126481 0\n",
      "(1, 20) Subtitle: 314 0.9429429429429429 || Episode: 199 77.734375 0\n",
      "(1, 22) Subtitle: 307 0.9504643962848297 || Episode: 204 70.34482758620689 7\n",
      "(1, 24) Subtitle: 330 0.9428571428571428 || Episode: 207 76.95167286245353 0\n",
      "Wrong\n",
      "(4, 19) Subtitle: 3 1.5 || Episode: 1 0.3558718861209964 246\n",
      "Wrong\n",
      "Wrong\n",
      "Wrong\n",
      "(9, 12) Subtitle: 345 0.9530386740331491 || Episode: 208 80.0 2\n"
     ]
    }
   ],
   "source": [
    "for item in further_alignment:\n",
    "    epi2sub = further_alignment[item]\n",
    "    sub2epi = turn_sub2epi_into_epi2sub(further_alignment[item])\n",
    "    try:\n",
    "        print(item, \"Subtitle:\", len(sub2epi), len(sub2epi)/(max(sub2epi)-min(sub2epi)), \"||\", \"Episode:\", len(further_alignment[item]),  len(further_alignment[item])/len(all_transcripts[item])*100, min(further_alignment[item].keys()))\n",
    "    except:\n",
    "        print(\"Wrong\")\n",
    "    # print(epi2sub)"
   ],
   "metadata": {
    "collapsed": false,
    "pycharm": {
     "name": "#%%\n"
    }
   }
  },
  {
   "cell_type": "code",
   "execution_count": 17,
   "outputs": [],
   "source": [
    "with open(root_path+'1_alignment_extension_12_again.pkl', 'wb') as f:\n",
    "    pkl.dump(further_alignment, f)"
   ],
   "metadata": {
    "collapsed": false,
    "pycharm": {
     "name": "#%%\n"
    }
   }
  },
  {
   "cell_type": "code",
   "execution_count": null,
   "outputs": [],
   "source": [],
   "metadata": {
    "collapsed": false,
    "pycharm": {
     "name": "#%%\n"
    }
   }
  },
  {
   "cell_type": "code",
   "execution_count": null,
   "outputs": [],
   "source": [],
   "metadata": {
    "collapsed": false,
    "pycharm": {
     "name": "#%%\n"
    }
   }
  },
  {
   "cell_type": "code",
   "execution_count": null,
   "outputs": [],
   "source": [],
   "metadata": {
    "collapsed": false,
    "pycharm": {
     "name": "#%%\n"
    }
   }
  },
  {
   "cell_type": "code",
   "execution_count": null,
   "outputs": [],
   "source": [],
   "metadata": {
    "collapsed": false,
    "pycharm": {
     "name": "#%%\n"
    }
   }
  },
  {
   "cell_type": "code",
   "execution_count": null,
   "outputs": [],
   "source": [],
   "metadata": {
    "collapsed": false,
    "pycharm": {
     "name": "#%%\n"
    }
   }
  },
  {
   "cell_type": "code",
   "execution_count": null,
   "outputs": [],
   "source": [],
   "metadata": {
    "collapsed": false,
    "pycharm": {
     "name": "#%%\n"
    }
   }
  },
  {
   "cell_type": "code",
   "execution_count": null,
   "outputs": [],
   "source": [],
   "metadata": {
    "collapsed": false,
    "pycharm": {
     "name": "#%%\n"
    }
   }
  },
  {
   "cell_type": "code",
   "execution_count": null,
   "outputs": [],
   "source": [],
   "metadata": {
    "collapsed": false,
    "pycharm": {
     "name": "#%%\n"
    }
   }
  },
  {
   "cell_type": "code",
   "execution_count": null,
   "outputs": [],
   "source": [],
   "metadata": {
    "collapsed": false,
    "pycharm": {
     "name": "#%%\n"
    }
   }
  },
  {
   "cell_type": "code",
   "execution_count": 12,
   "outputs": [
    {
     "name": "stdout",
     "output_type": "stream",
     "text": [
      "1 1\n",
      "1 2\n",
      "1 3\n",
      "1 4\n",
      "1 5\n",
      "1 6\n",
      "1 7\n",
      "1 8\n",
      "1 9\n",
      "1 10\n",
      "1 11\n",
      "1 12\n",
      "1 13\n",
      "1 14\n",
      "1 15\n",
      "1 16\n",
      "1 17\n",
      "1 18\n",
      "1 19\n",
      "1 20\n",
      "1 22\n",
      "1 24\n",
      "3 16\n",
      "Pass i j\n",
      "4 19\n",
      "Pass i j\n",
      "6 4\n",
      "6 19\n",
      "Pass i j\n",
      "7 24\n",
      "Pass i j\n",
      "9 12\n"
     ]
    }
   ],
   "source": [
    "from utils.head_tail_alignment import *\n",
    "\n",
    "root_path = \"results/friends_en_zh/\"\n",
    "with open(root_path + \"1_alignment_ultimate_12.pkl\", \"rb\") as f:\n",
    "    alignment_seeds = pkl.load(f)\n",
    "\n",
    "further_alignment = {}\n",
    "for (i, j) in alignment_seeds.keys():\n",
    "    try:\n",
    "        print(i, j)\n",
    "        (en_subset, zh_subset, tbbt_episode) = fetch_subsets(\n",
    "                episode=all_transcripts,\n",
    "                en_subtitle=all_en_subtitles,\n",
    "                zh_subtitle=all_other_subtitles,\n",
    "                results=coarse_alignments,\n",
    "                season_id=i,\n",
    "                episode_id=j,\n",
    "                bias=200,\n",
    "                zh_split=True\n",
    "                )\n",
    "        epi2sub = filter_by_idx(alignment_seeds[(i,j)])\n",
    "\n",
    "        head_tail_sub2epi = {}\n",
    "\n",
    "        gap_pairs = fetch_before_after(en_subset, zh_subset, tbbt_episode, epi2sub)\n",
    "        for item in gap_pairs:\n",
    "            temp = before_after_wer_match(en_subset, tbbt_episode, item[0], item[1])\n",
    "            for x in temp:\n",
    "                head_tail_sub2epi[x] = temp[x]\n",
    "\n",
    "        temp = turn_sub2epi_into_epi2sub(head_tail_sub2epi)\n",
    "        # print(temp)\n",
    "        if temp!={}:\n",
    "            if min(list(turn_sub2epi_into_epi2sub(temp).keys()))<0:\n",
    "                temp = {}\n",
    "        further_alignment[(i,j)] = filter_by_idx(temp)\n",
    "\n",
    "        # print(temp)\n",
    "        # print(filter_by_idx(epi2sub))\n",
    "        # print(\"==\"*50)\n",
    "    except:\n",
    "        print(\"Pass i j\")\n",
    "\n",
    "ultimate_data = {}\n",
    "for item in alignment_seeds:\n",
    "    temp = alignment_seeds[item]\n",
    "    if item in further_alignment:\n",
    "        temp = merge_episode_alignment(temp, further_alignment[item])\n",
    "    ultimate_data[item] = temp"
   ],
   "metadata": {
    "collapsed": false,
    "pycharm": {
     "name": "#%%\n"
    }
   }
  },
  {
   "cell_type": "code",
   "execution_count": 13,
   "outputs": [
    {
     "name": "stdout",
     "output_type": "stream",
     "text": [
      "(1, 1)\n",
      "{}\n",
      "\n",
      "{0: [199, 200], 1: [201, 202], 2: [203, 204], 3: [205], 4: [206], 5: [207, 208], 6: [209], 7: [210, 211], 8: [212], 9: [213, 214], 10: [215], 11: [216], 12: [217], 14: [218, 219], 15: [220], 16: [221, 222, 223], 18: [224], 20: [226], 21: [227], 22: [228], 24: [229], 27: [230, 231, 232], 28: [233], 29: [234, 235], 30: [236], 31: [237, 238], 32: [239], 33: [240, 241, 242, 243], 34: [244, 245], 35: [246], 36: [247, 248, 249, 250], 38: [251, 252, 253, 254], 39: [255, 256, 257], 40: [258, 259], 41: [260], 42: [261], 43: [262, 263, 264], 44: [265], 45: [266, 267, 268, 269, 270], 46: [271], 48: [272], 49: [273, 274, 275, 276, 277, 278, 279, 280, 281, 282, 283, 284, 285], 50: [286], 51: [287], 52: [288], 53: [289, 290], 54: [291], 55: [292, 293, 294], 56: [295], 57: [296], 59: [297, 298, 299], 60: [300, 301, 302, 303, 304, 305, 306, 307], 61: [308], 62: [309, 310], 63: [311], 64: [312, 313, 314], 65: [315, 316], 66: [317, 318, 319], 67: [320], 68: [321], 69: [322, 323, 324], 70: [325, 326, 327], 71: [328, 329], 72: [330], 73: [331], 74: [332], 75: [333, 334], 76: [335], 78: [336, 337], 79: [338], 81: [339], 82: [340], 83: [341], 84: [342, 343], 85: [344], 87: [345, 346], 88: [347, 348], 89: [349, 350], 90: [351], 91: [352, 353], 92: [354, 355], 93: [356], 94: [357, 358, 359], 95: [360, 361], 98: [363, 364], 99: [365], 100: [366], 101: [367, 368], 102: [369, 370, 371, 372, 373, 374], 103: [375], 104: [376, 377], 105: [378], 106: [379], 107: [380], 108: [381, 382, 383, 384, 385], 109: [386, 387, 388, 389], 110: [390], 111: [391], 112: [392], 113: [393], 114: [394], 115: [395], 116: [396], 117: [397], 118: [398, 399], 119: [400], 120: [401], 121: [402, 403, 404], 122: [405], 124: [406], 125: [407], 126: [407], 127: [408, 409, 410], 128: [411, 412], 129: [413, 414], 130: [415], 131: [416, 417], 132: [418, 419], 133: [420], 135: [421, 422, 423, 424, 425, 426, 427], 136: [428, 429], 137: [430], 139: [431], 140: [432, 433, 434, 435, 436], 141: [437, 438, 439, 440, 441], 142: [441, 442, 443, 444, 445, 446, 447, 448, 449, 450], 143: [451], 145: [453], 146: [454], 147: [455], 148: [456], 149: [457], 150: [458, 459], 151: [460, 461, 462], 152: [463, 464], 154: [465, 466], 155: [467], 156: [468, 469], 157: [470], 158: [471], 159: [472, 473, 474, 475], 160: [476, 477, 478], 161: [479, 480, 481], 162: [482, 483, 484], 163: [485], 164: [486, 487, 488], 165: [489, 490, 491, 492], 166: [493, 494], 167: [495], 169: [496, 497], 171: [498, 499], 172: [500], 173: [501, 502], 175: [503], 176: [504], 177: [505], 178: [506], 179: [507], 180: [508, 509], 181: [510], 182: [511], 183: [512, 513], 184: [514], 186: [515, 516], 187: [517], 188: [518, 519], 189: [520], 190: [521], 191: [522, 523], 192: [524, 525], 193: [526], 194: [527], 195: [528], 196: [529, 530], 197: [531, 532], 198: [533, 534, 535, 536], 199: [537], 200: [538, 539], 201: [540], 202: [541, 542], 203: [543], 204: [544], 205: [545, 546], 206: [547, 548, 549], 207: [550], 209: [551], 210: [552], 211: [553, 554], 212: [555], 213: [556], 214: [557, 558, 559], 215: [560], 216: [561, 562], 217: [563], 218: [564, 565, 566], 219: [567], 220: [568], 221: [569, 570], 222: [571], 223: [572], 224: [573, 574, 575], 225: [576], 226: [577], 227: [578], 228: [579], 229: [580], 230: [581, 582, 583], 231: [584], 232: [585], 233: [587], 234: [588, 589], 235: [590], 236: [591], 237: [592], 238: [593], 239: [594, 595], 240: [596], 241: [597], 242: [598], 244: [599, 600, 601, 602, 603, 604, 605], 245: [606, 607], 247: [608, 609, 610, 611], 253: [612, 613, 614, 615, 616, 617], 254: [618], 256: [619], 257: [620, 621], 258: [622, 623], 259: [624], 262: [626], 263: [627, 628, 629, 630], 268: [632], 269: [633], 271: [634, 635], 273: [636, 637], 274: [638], 275: [639, 640, 641], 280: [644], 281: [645], 282: [646, 647], 287: [651], 289: [652, 653], 290: [654], 293: [656], 294: [657], 295: [658], 296: [660], 298: [662]}\n",
      "====================================================================================================\n",
      "(1, 2)\n",
      "{}\n",
      "\n",
      "{0: [145, 147, 192], 3: [195], 5: [197, 198], 6: [199, 200], 7: [201, 202, 203], 8: [206], 9: [207], 10: [209, 210], 11: [211], 12: [212], 13: [214], 14: [215, 216, 217], 15: [218, 219], 17: [220], 18: [221, 225, 226], 20: [223], 21: [227], 22: [228, 229], 23: [231, 232, 233], 24: [234], 25: [235], 26: [236], 27: [237], 28: [238, 239], 30: [241], 31: [242], 32: [243], 33: [244], 34: [245], 35: [246, 247], 36: [248, 249], 37: [250], 38: [251], 39: [255, 256, 257, 258], 40: [259, 260], 41: [261, 262, 263], 44: [264], 46: [265], 47: [266], 48: [267, 268, 269], 49: [270], 50: [271, 272, 273, 274, 275], 51: [276], 53: [281], 54: [282], 55: [283], 56: [284, 285], 57: [286], 58: [287], 59: [288], 60: [289], 61: [290], 62: [291], 63: [292], 64: [293], 65: [294], 67: [295, 296], 68: [297], 70: [298], 71: [299], 72: [300], 73: [301], 74: [302, 303, 304], 75: [305], 76: [306], 77: [307], 78: [310, 311], 79: [315], 80: [316, 317], 81: [318], 82: [319, 320, 321], 85: [322], 86: [323], 87: [324], 88: [325], 89: [326], 90: [327, 328], 91: [329], 92: [330], 93: [331], 95: [332, 333], 96: [339, 340, 341], 97: [342, 343, 344], 98: [345], 99: [347], 100: [348], 101: [349], 102: [350], 103: [351, 352, 353, 354, 355], 104: [356, 357, 358, 359, 361], 105: [364, 365, 367], 106: [369, 370], 107: [371, 372, 373, 374, 375, 376, 377], 108: [378], 109: [379], 110: [380, 381, 382], 111: [383, 384], 112: [385], 113: [386], 115: [388, 389], 116: [390], 117: [391], 118: [395], 119: [396], 120: [397, 398], 122: [400], 123: [401], 124: [402], 125: [403], 126: [404, 405], 129: [406], 131: [407, 408], 132: [409, 410, 411, 412, 413], 133: [414, 415], 134: [416], 135: [417], 137: [418, 419, 420], 138: [421], 139: [422], 141: [423, 424], 143: [425], 144: [426], 146: [427, 428], 148: [429, 430], 149: [431], 150: [432, 433], 151: [434], 152: [435, 436], 155: [437], 156: [438], 158: [439], 159: [440, 441], 162: [443, 444], 163: [445], 164: [446], 165: [447], 166: [448], 168: [449, 450, 451, 452], 169: [453], 170: [454, 455], 171: [456], 173: [457], 174: [458], 175: [459], 176: [460, 461, 462, 463], 178: [464], 179: [465, 466, 467], 180: [468], 181: [469, 470], 182: [471], 183: [472], 184: [473], 185: [474], 186: [475, 476], 188: [477, 478], 189: [478, 479], 190: [480], 191: [481], 192: [482], 193: [483, 484], 194: [485, 486], 196: [487, 488], 198: [489, 490, 491, 492, 493, 494], 201: [495, 496, 497, 498, 499, 500], 202: [501], 204: [502], 205: [503, 504], 206: [505], 208: [506], 209: [507], 210: [508], 211: [509], 212: [510], 213: [511], 214: [512], 215: [513], 216: [514], 217: [515, 516], 219: [518, 519], 220: [520, 521, 522, 523, 524], 221: [525, 526], 222: [527], 223: [528, 529], 224: [530, 531, 532], 225: [533], 226: [534], 228: [535], 229: [536], 231: [538, 539], 242: [546, 547, 548, 549, 550, 551, 552, 553]}\n",
      "====================================================================================================\n",
      "(1, 3)\n",
      "{}\n",
      "\n",
      "{56: [294], 57: [295], 58: [296], 60: [297], 62: [298], 63: [299], 64: [300], 65: [301, 302], 66: [303], 67: [304], 68: [305], 69: [306, 307], 70: [308], 71: [309, 310], 72: [312], 73: [313], 74: [314, 315], 75: [316], 76: [317], 77: [318], 78: [319], 79: [320], 81: [322, 323, 324], 82: [325, 326, 327], 83: [328], 84: [329, 330, 333], 85: [335], 86: [336], 87: [337], 88: [338, 339], 89: [340], 90: [341], 92: [342, 343, 344, 345, 346], 93: [347], 94: [348, 349], 95: [350], 96: [351], 97: [357, 358], 98: [359], 101: [360], 102: [361, 362, 363], 104: [365, 366, 367, 368], 106: [369], 108: [372], 110: [373, 374], 111: [375], 112: [376], 113: [377, 378, 379], 114: [380, 381], 115: [382, 383], 116: [384], 117: [385, 386], 118: [387, 388], 120: [389], 122: [390], 123: [391], 124: [392], 125: [393, 394], 127: [395, 396, 397], 128: [398], 129: [399], 130: [400, 401], 131: [402], 133: [404], 134: [405], 135: [406], 136: [407], 137: [408], 138: [409], 139: [410], 140: [411, 412], 141: [413], 142: [414], 143: [415], 144: [416], 146: [417], 147: [418], 155: [419, 423, 426], 156: [427], 159: [428], 161: [429, 430], 162: [431], 163: [432], 165: [433, 434], 166: [435], 167: [436], 168: [437], 169: [438, 439, 440, 441, 442, 443, 444], 171: [445], 172: [446, 447], 173: [448], 174: [449], 175: [450], 176: [451], 177: [452], 178: [453], 179: [454], 181: [455], 182: [456, 457], 183: [458, 459, 460, 461], 184: [462, 463], 185: [464], 187: [465, 466, 467], 189: [468, 469], 190: [470, 471], 191: [472], 192: [473, 474, 475, 476, 477, 478, 479, 480], 193: [481], 194: [482], 195: [483], 196: [485, 486], 197: [487], 198: [488], 199: [489, 490, 491], 200: [492], 203: [494], 204: [495], 205: [496], 206: [497], 209: [499, 500], 210: [501], 211: [502], 212: [503], 217: [504], 218: [505, 506], 219: [507], 220: [508], 221: [509, 510, 511, 512, 513], 222: [514], 223: [515, 516], 224: [517], 225: [518, 519], 226: [520], 227: [521], 228: [522], 229: [523], 230: [524, 525], 232: [526], 233: [527, 528], 234: [529], 235: [530], 236: [531]}\n",
      "====================================================================================================\n",
      "(1, 4)\n",
      "{}\n",
      "\n",
      "{1: [200], 2: [202], 3: [204], 4: [205], 6: [206, 207], 7: [208], 9: [209], 10: [210], 11: [211, 212], 12: [215], 13: [216], 14: [221], 15: [223], 16: [224], 17: [225], 18: [226], 20: [227, 228, 229], 21: [230], 23: [232, 233], 25: [235, 236], 26: [237], 27: [238], 28: [239], 29: [240], 30: [241], 31: [242], 32: [243], 33: [244], 35: [245], 36: [246, 247], 37: [248, 249, 250, 251, 252, 253], 38: [254], 39: [255, 256], 40: [257], 41: [258], 42: [259], 43: [260, 261], 44: [262], 45: [263, 264], 46: [265, 266], 47: [267], 49: [269, 270, 271, 272, 273], 50: [274], 51: [275], 52: [276], 54: [278], 56: [279, 280], 57: [281], 58: [282], 59: [283], 60: [284], 61: [285], 62: [286], 63: [287], 64: [288], 65: [292], 66: [293], 67: [294], 68: [295], 69: [296], 70: [297, 298], 71: [299], 72: [300, 302, 303, 304], 74: [306], 75: [307], 76: [308], 77: [309], 78: [310], 79: [311], 80: [312, 313], 81: [314, 315], 82: [316], 83: [317], 84: [318], 86: [319], 87: [320, 322], 88: [321], 89: [323, 324, 325], 91: [326, 327, 328, 329, 330], 92: [331], 93: [332, 333], 95: [334], 97: [335, 336], 98: [337, 338], 99: [339], 100: [340], 101: [341, 342], 102: [343], 103: [344, 345], 104: [346, 347, 348, 349, 350, 351, 352], 105: [353], 106: [354, 355], 107: [356], 108: [357, 358, 359], 109: [360, 361, 362], 110: [363], 111: [364], 112: [365, 366], 113: [367], 114: [368], 115: [369], 116: [370], 117: [371, 372, 373], 118: [374, 375], 119: [376], 120: [377, 378], 123: [380, 381], 124: [382], 125: [383], 126: [384], 127: [385], 128: [386, 387], 129: [388, 389, 390], 130: [391], 131: [392], 134: [395], 136: [396, 397], 137: [399], 138: [400], 139: [401, 402], 140: [403], 141: [404], 142: [405], 143: [406], 144: [407], 145: [408], 146: [409], 147: [410], 148: [411], 149: [412], 150: [413], 151: [414], 152: [415], 153: [416, 417, 418], 154: [419, 420], 155: [421], 156: [422], 157: [424], 158: [425], 159: [426], 160: [427], 161: [428], 162: [429], 163: [430], 164: [431, 432], 165: [433], 167: [435], 168: [436], 169: [437], 170: [438, 439], 171: [440, 441, 442], 172: [443], 173: [444], 174: [445], 175: [446], 176: [447, 448, 449], 177: [450, 451, 452, 453, 454, 458], 178: [464], 180: [465], 181: [466], 183: [467], 184: [468], 186: [469, 470, 471, 485], 187: [486, 492], 188: [493, 494], 189: [495, 496, 497, 498], 190: [499], 191: [500], 192: [501, 502], 193: [503], 196: [505], 197: [506], 198: [507], 199: [508, 509], 200: [510, 511], 202: [512], 203: [513], 204: [514], 205: [515], 206: [516], 208: [518], 209: [519, 520], 211: [521, 522], 212: [523], 213: [524], 214: [525], 216: [526, 527], 217: [528], 218: [529], 219: [530, 531], 220: [532], 221: [533, 534], 222: [535], 223: [536], 224: [538], 226: [539], 227: [540, 541, 542], 228: [542, 543, 544, 545], 229: [546, 547], 230: [548], 231: [549], 232: [550], 233: [551, 552], 237: [556], 240: [559], 243: [561], 244: [565], 247: [568, 569], 249: [572], 250: [581]}\n",
      "====================================================================================================\n",
      "(1, 5)\n",
      "{}\n",
      "\n",
      "{0: [191, 195], 1: [197, 198], 2: [200], 3: [201, 202], 4: [203, 204, 205, 206], 5: [207], 7: [210, 211, 212], 8: [213], 9: [214], 10: [215], 11: [216], 12: [217, 218, 219], 13: [220, 221, 222, 223, 224], 14: [226, 227], 15: [228], 16: [229], 19: [231], 20: [232, 233], 21: [234], 22: [235, 236], 23: [237], 24: [238], 25: [239], 26: [240, 241, 242], 27: [243], 29: [245], 31: [246], 33: [248], 34: [249], 35: [250, 251, 252, 253, 254, 255], 36: [256], 38: [257], 39: [258], 40: [259], 41: [260], 42: [261, 262, 263], 44: [264, 265, 266, 267], 45: [268], 46: [269, 270, 271, 272, 273], 48: [274, 275], 49: [275, 276], 50: [277, 278], 51: [279, 280], 52: [281], 54: [282], 55: [283, 284, 285], 56: [286], 57: [287], 58: [288], 59: [289], 60: [290, 291, 292], 61: [293], 63: [294], 64: [295, 296], 65: [297], 66: [298, 299, 300, 301, 302, 303], 68: [304, 305, 306, 307, 308], 69: [309], 70: [310, 311, 312, 314], 73: [316, 317], 74: [318, 319], 76: [320], 77: [321, 322, 323, 324], 78: [325], 79: [326, 327], 81: [328], 82: [329], 83: [330], 84: [331], 85: [332], 86: [333], 87: [334, 335], 89: [336], 90: [337], 91: [338], 92: [339], 93: [340], 94: [341], 95: [342, 343], 96: [344, 345], 97: [346, 347, 348, 349, 350, 351], 100: [352], 103: [353, 354, 355, 356, 357, 358], 105: [359], 106: [360], 107: [361], 108: [362], 109: [363], 110: [364], 111: [371], 112: [366, 372], 113: [373], 114: [374], 115: [375, 376], 117: [377], 119: [378], 120: [379], 121: [380], 123: [381], 124: [382, 383], 125: [384], 126: [385], 127: [386, 387, 388], 128: [389], 129: [390, 391], 132: [392, 393, 394, 395, 396], 133: [397, 398], 134: [399], 135: [400, 401], 136: [402, 403, 404, 405, 406], 137: [407, 408], 138: [409], 139: [410, 411], 140: [412], 141: [413], 142: [414], 143: [415], 144: [416], 145: [417, 418], 146: [419], 147: [420], 148: [421, 422, 423, 424], 149: [425], 150: [426], 151: [427], 152: [428, 429, 430, 431], 153: [432], 154: [433], 155: [434], 156: [435, 436], 157: [437], 159: [438, 439], 160: [440, 441, 442], 161: [443, 444], 162: [449, 450, 452, 453], 163: [454, 455, 456], 165: [457, 458, 459, 460, 461, 462], 166: [463], 167: [464], 168: [465], 169: [466], 170: [467], 171: [468, 469], 172: [470, 471, 472, 473, 474], 173: [475, 476, 477, 478], 174: [479], 175: [480], 176: [481, 482], 177: [483, 484], 178: [485], 179: [486], 180: [487, 488], 181: [489], 182: [490], 183: [491, 492], 187: [494, 495], 188: [496], 189: [497, 498], 190: [499, 500], 191: [501], 192: [502, 503], 194: [504], 195: [505], 196: [506, 507], 197: [508], 198: [509], 199: [510], 202: [512], 204: [514], 205: [515], 206: [516], 207: [517], 208: [518], 209: [519, 520], 210: [521], 211: [522, 523], 212: [524], 213: [525], 214: [526], 216: [528], 217: [529], 218: [530, 531], 219: [532], 220: [533, 534], 221: [535], 223: [536], 224: [537], 226: [538], 228: [539], 229: [540], 230: [541], 231: [543], 234: [545]}\n",
      "====================================================================================================\n",
      "(1, 6)\n",
      "{}\n",
      "\n",
      "{0: [187], 1: [189, 190], 2: [195], 3: [196], 4: [197, 198], 5: [199, 200, 201, 202], 7: [205], 12: [209], 14: [211], 15: [212], 16: [213], 17: [215], 18: [216], 19: [218], 21: [219], 25: [224, 225], 29: [231], 31: [234, 235], 33: [237, 238], 36: [240, 241], 38: [248, 250], 40: [252, 253], 45: [300], 47: [303, 304], 48: [305, 306, 307], 49: [310, 311], 50: [312, 313], 51: [314], 52: [315], 53: [316], 54: [317], 55: [317], 58: [318], 61: [321], 62: [322], 63: [323, 324], 64: [325], 65: [326], 67: [327], 68: [328], 70: [329], 71: [330, 331, 332, 333], 72: [334, 335], 73: [336, 337, 338], 74: [339, 340], 75: [341, 342], 76: [343], 77: [344], 78: [345], 79: [346, 351], 80: [354, 355], 81: [356, 357], 82: [358], 84: [361], 86: [362], 87: [363, 364], 88: [366], 90: [369], 91: [370], 93: [371], 94: [372, 373], 95: [374, 375, 376, 377, 378, 379], 96: [380], 97: [381], 98: [382], 99: [383, 384, 385], 100: [386], 101: [387], 102: [388, 389], 103: [390, 391, 392], 104: [393], 105: [394, 395], 106: [396], 107: [397, 398, 399], 108: [400, 401], 109: [403, 404], 110: [405], 111: [406], 113: [407, 408, 409], 115: [410], 116: [411, 412, 413, 414], 117: [415], 118: [416], 119: [417], 121: [418], 122: [419, 420, 421], 124: [422, 423], 125: [424, 425], 126: [426, 427], 127: [428, 429], 129: [430], 130: [431], 131: [432], 132: [433, 435, 436], 134: [437], 135: [438, 439], 136: [440], 138: [441], 139: [442, 444], 140: [445], 141: [446], 142: [447], 143: [448, 449, 450, 451, 452, 453], 144: [454, 455], 145: [459], 146: [460], 147: [462], 150: [463, 464], 151: [465, 466, 467, 468], 152: [469, 470], 153: [471], 154: [472], 155: [473, 474, 475], 156: [476, 477, 478, 479], 157: [480, 481], 158: [482], 160: [483, 484], 161: [485], 162: [486], 164: [487], 165: [488, 489], 166: [490], 167: [491], 168: [492], 169: [493], 170: [494, 495], 171: [496], 172: [497], 173: [498], 174: [499], 175: [500], 176: [501], 177: [502, 503], 179: [503, 504], 180: [505], 182: [507], 183: [508], 184: [509], 185: [510, 511, 512], 186: [513, 514, 515, 516], 187: [517], 188: [518], 190: [519], 191: [521], 192: [522], 193: [523, 524, 525, 526], 195: [528], 197: [529, 530], 199: [530, 531], 200: [532], 202: [533, 534, 535], 203: [536, 537], 204: [538], 206: [540], 207: [541], 208: [542, 543], 209: [544], 210: [545, 546, 547, 548, 549], 211: [550], 212: [551], 214: [552], 216: [553], 217: [554, 555], 218: [556], 219: [557]}\n",
      "====================================================================================================\n",
      "(1, 7)\n",
      "{}\n",
      "\n",
      "{0: [200], 1: [201, 203], 3: [206, 207], 4: [208, 209], 5: [210], 6: [211, 212, 215], 7: [216, 217], 10: [222], 11: [223, 226, 227, 228], 12: [229], 13: [230], 14: [231, 232], 15: [233, 234, 235, 236], 16: [237], 17: [238], 18: [239, 240], 19: [241], 20: [242], 21: [243, 244, 245, 246], 22: [247], 23: [248], 24: [261], 25: [262, 263], 26: [264], 28: [266], 29: [267, 268, 269], 32: [270], 33: [271], 34: [272], 36: [273, 274, 275, 276], 37: [277], 39: [278, 280, 281], 41: [282], 42: [283], 43: [284], 44: [285], 45: [286], 47: [287, 288, 289], 48: [290], 49: [291, 292], 50: [294], 51: [295], 52: [296], 54: [299], 55: [300], 56: [301], 57: [306, 307], 58: [308], 59: [309], 60: [310], 61: [311], 62: [312], 63: [313], 64: [314, 315], 65: [316], 66: [317, 318, 319, 320], 67: [321], 68: [322], 70: [323], 73: [324], 75: [325], 76: [326], 77: [327], 78: [328], 80: [329], 81: [330], 82: [331], 83: [332, 333, 334], 84: [335, 336, 337, 338, 339, 340, 341, 342], 85: [343, 344], 86: [345, 346, 347, 348], 89: [349, 350, 351, 352], 91: [353], 93: [354], 96: [356, 357, 358, 359], 97: [360, 361, 362, 363], 98: [364], 101: [366], 102: [367], 103: [368], 104: [369, 370], 106: [371], 108: [372], 109: [373], 110: [374], 111: [375], 112: [376], 113: [377], 114: [378], 116: [379], 117: [380], 118: [381], 120: [382], 121: [383], 122: [384], 123: [385], 124: [386], 125: [387], 126: [388], 127: [389, 390, 391, 392], 128: [400], 129: [401, 402, 403], 131: [404, 405], 133: [406], 134: [407], 136: [408, 409], 137: [411], 138: [412], 139: [413], 140: [414], 141: [415, 416], 143: [419, 420, 421, 422], 144: [423], 145: [424], 146: [425], 147: [426], 148: [427], 149: [428], 152: [429, 430, 431], 153: [432], 154: [433], 155: [434, 435, 436], 156: [439], 158: [444, 445, 446], 159: [447], 160: [448], 162: [449], 163: [450], 164: [451], 165: [452], 166: [453], 167: [454, 455], 168: [456], 169: [457], 170: [458], 171: [459], 172: [460, 461], 173: [462], 174: [463], 175: [464, 465, 466], 176: [467, 468, 469], 177: [470, 471, 472, 473], 179: [474, 475], 180: [476, 477, 478], 181: [479], 183: [480, 481], 184: [482], 185: [483], 186: [484, 485], 187: [486], 188: [487, 488], 189: [489], 190: [490, 491], 191: [492], 192: [493], 193: [494], 194: [495, 496, 497, 498, 499, 500], 196: [501], 198: [502, 503, 504, 505, 506, 507, 508], 200: [509, 510, 511], 204: [512, 513], 206: [514], 208: [515, 516], 209: [517, 518, 519], 212: [520], 213: [521], 218: [524], 220: [525], 222: [527], 223: [528], 224: [529, 530]}\n",
      "====================================================================================================\n",
      "(1, 8)\n",
      "{}\n",
      "\n",
      "{0: [200, 201], 1: [202, 203], 2: [204, 205], 8: [217, 218], 9: [219], 11: [221], 12: [222], 13: [223], 14: [224], 15: [225], 16: [226, 227], 17: [228, 229], 18: [230, 231], 19: [232, 233], 21: [235], 22: [236], 23: [237], 26: [240, 241, 242], 27: [247], 28: [248], 29: [249, 250], 30: [251, 252], 31: [253, 254, 256], 32: [255, 257], 33: [258], 35: [260, 261, 262], 37: [263], 38: [264], 39: [265], 40: [266], 41: [267, 268, 269], 42: [270], 43: [271], 44: [272, 273, 274, 275], 45: [276], 46: [277], 47: [278], 49: [279], 50: [284], 51: [285], 54: [286, 287, 288], 56: [289], 58: [290], 59: [290], 60: [291], 61: [292], 62: [293], 63: [294], 64: [295, 296], 65: [297], 66: [298], 67: [299], 68: [300], 70: [301], 71: [302], 72: [303, 304], 73: [305], 74: [306], 75: [307, 308], 76: [309, 310, 311, 312, 313, 316], 77: [314, 315], 79: [317, 318], 80: [319, 320, 321], 82: [332], 83: [333], 84: [334], 85: [335], 86: [336], 87: [337, 338], 88: [339], 89: [340], 90: [341], 91: [342], 92: [343], 93: [344], 94: [345], 95: [346, 347], 96: [348], 97: [349], 98: [350], 99: [351], 100: [352], 101: [353], 102: [354], 103: [356], 104: [358], 105: [359, 360], 106: [360, 361], 107: [362, 363], 108: [364, 365], 109: [366], 110: [368], 111: [369], 112: [370, 371, 372], 113: [373], 115: [374, 375], 116: [376], 117: [377], 118: [378], 119: [379], 120: [380], 121: [381], 122: [382], 123: [383], 124: [384, 385], 125: [386], 126: [387], 127: [388, 389], 129: [390], 130: [391], 131: [392], 132: [393, 394], 133: [395], 135: [397], 136: [398], 138: [399], 139: [400], 140: [401], 141: [402, 403], 142: [404], 143: [405], 144: [406, 407], 146: [408], 147: [409], 148: [410], 149: [411], 150: [412], 151: [413], 152: [414], 153: [415, 416], 154: [417, 418], 156: [421], 157: [422], 159: [423], 161: [424], 162: [425], 164: [427, 428], 165: [429], 166: [430, 431], 167: [432, 433], 168: [434], 169: [435, 436, 437], 170: [438], 173: [440, 441], 175: [442, 443], 179: [445], 181: [447], 182: [448], 183: [449], 184: [450], 185: [451], 186: [452], 187: [453], 188: [454, 455, 456], 189: [457], 190: [458], 191: [459], 192: [460], 193: [461, 462, 463], 194: [464], 195: [465, 466], 196: [467], 197: [468], 198: [469, 470], 200: [471], 201: [472], 202: [473], 203: [474], 204: [475], 205: [476, 477], 206: [480], 207: [481], 208: [482], 209: [483, 484], 210: [485], 211: [486], 212: [487, 488, 489], 213: [490], 214: [491], 215: [493], 216: [495], 217: [497, 498], 218: [499], 220: [501], 221: [502], 222: [503, 504], 223: [505], 226: [506], 227: [507], 228: [508], 229: [509, 510, 511], 231: [512], 232: [513, 514, 515]}\n",
      "====================================================================================================\n",
      "(1, 9)\n",
      "{}\n",
      "\n",
      "{0: [189, 200], 2: [202, 203, 204], 3: [206], 4: [209, 210, 211, 213], 5: [215, 216, 217], 7: [218, 219, 220], 8: [221], 9: [222], 10: [223], 11: [224, 225], 12: [226], 13: [227], 14: [228], 15: [229, 230], 19: [232, 233], 20: [234, 235], 21: [236], 22: [237], 23: [238], 24: [239], 25: [240], 27: [242, 243], 29: [244, 245], 30: [246, 247], 31: [248], 32: [249, 250], 34: [251], 35: [252], 36: [253], 37: [254, 255], 38: [256], 39: [257, 258], 40: [259], 41: [260], 42: [262], 44: [264], 45: [265], 46: [266], 47: [267], 48: [268], 49: [269, 270, 271], 50: [272], 51: [273], 52: [274], 53: [275, 276], 54: [277], 55: [278, 279], 56: [280], 57: [281], 58: [282, 283], 59: [284], 60: [285, 286], 61: [287, 288, 289, 290], 65: [291], 66: [292, 293], 67: [294, 295, 296, 297, 298], 68: [299, 300], 69: [301], 70: [302, 303], 71: [304], 72: [306], 73: [307], 74: [308], 85: [309, 310, 311, 312, 313, 314, 315, 316, 317, 318, 319, 320, 321, 322, 323, 324], 86: [325, 326, 327], 87: [333], 88: [334], 89: [335, 336, 337, 338], 90: [339], 91: [340], 92: [341], 93: [342, 343], 94: [344], 95: [345, 346], 96: [347], 97: [348], 99: [350], 100: [351], 101: [352], 102: [353], 103: [354], 104: [355], 105: [356], 106: [357, 358], 107: [359], 108: [360], 109: [361, 362], 110: [363], 111: [364, 365], 113: [366, 367], 114: [368], 115: [369], 116: [370], 117: [371], 118: [372], 119: [373], 120: [374], 121: [375], 122: [376, 377, 378, 379], 123: [380, 381], 126: [383], 127: [384], 128: [385, 386], 129: [387, 388], 130: [389], 131: [390], 132: [391], 133: [392, 393], 136: [395, 396, 397, 398, 399, 400, 401, 402], 137: [403], 138: [404], 139: [405], 140: [406], 141: [407], 142: [408], 143: [409, 410, 411], 144: [412], 145: [413, 414, 415, 416], 146: [417], 147: [418, 419], 148: [420], 149: [421, 422], 150: [423, 424], 151: [425, 426], 152: [427], 153: [428, 429], 154: [430, 431], 155: [432], 156: [433], 157: [434], 158: [435], 159: [436], 160: [437], 161: [438], 162: [439], 163: [440], 164: [441, 442, 443, 444], 165: [445], 166: [446, 447], 168: [448, 449, 450, 451, 452], 170: [453], 171: [454], 172: [455], 173: [456, 457], 175: [460], 177: [468], 178: [469], 179: [470], 180: [471], 181: [472, 473], 182: [474], 183: [475, 476], 184: [477], 185: [478], 186: [479], 187: [480], 188: [481], 189: [482], 190: [483], 191: [484, 485, 486, 487, 488, 489, 490, 491], 192: [492, 493], 193: [495, 496], 194: [497, 498, 499], 195: [500, 501, 502, 503], 196: [507], 197: [508], 198: [509, 510], 199: [511], 200: [513], 201: [514], 204: [515, 519, 520, 521, 522, 523, 524], 205: [525, 526], 206: [527], 207: [528], 208: [529], 209: [530], 210: [532], 211: [533], 212: [534], 214: [535, 536], 215: [536], 216: [537, 538, 539, 540], 217: [540], 218: [541, 542, 543, 544, 545], 220: [548], 221: [549]}\n",
      "====================================================================================================\n",
      "(1, 10)\n",
      "{}\n",
      "\n",
      "{0: [192], 5: [197], 6: [198], 7: [200], 8: [201], 9: [202], 10: [203], 11: [204], 12: [205, 206], 13: [208, 209], 16: [213], 17: [214], 18: [216], 19: [217, 218], 20: [219], 21: [221], 22: [222], 23: [227], 24: [228, 229], 26: [233, 234, 235], 28: [237], 32: [239], 33: [243], 34: [244, 245, 246, 247], 35: [250, 251], 36: [252], 37: [254, 255], 39: [257], 40: [258], 43: [259, 260, 261, 262, 263], 45: [264, 265], 47: [266, 267], 48: [268], 49: [269], 50: [270], 51: [271, 272, 273], 52: [274], 53: [275], 54: [276], 55: [277, 278], 57: [279, 280, 281, 282, 283], 58: [284, 285], 59: [286], 60: [287], 62: [288, 289], 63: [290], 64: [291], 65: [292], 66: [293], 67: [294, 295], 68: [296], 70: [298], 71: [299], 72: [300], 73: [301, 302, 303, 304], 74: [305], 75: [306, 307, 308], 76: [309], 77: [310, 311, 312], 78: [313], 79: [314], 81: [315, 316, 317], 83: [318, 319, 320], 84: [321, 322], 86: [323, 324], 88: [325, 326], 89: [327, 328, 329], 90: [330, 331], 91: [332], 92: [333], 93: [334], 94: [335, 336], 95: [337], 97: [338], 98: [339], 99: [340, 341], 101: [342], 102: [343], 103: [344], 105: [345], 107: [346], 108: [347, 348], 109: [349], 110: [350], 112: [352], 113: [353, 354, 355], 114: [356], 116: [357, 358], 117: [359], 118: [360], 120: [361, 362], 121: [363], 122: [364], 123: [365], 124: [366], 125: [367, 368], 127: [368, 369], 128: [370], 129: [371], 130: [373], 132: [375], 135: [376], 136: [377, 378], 137: [379], 138: [380, 381], 139: [382, 383], 141: [385], 142: [386, 387, 388, 389, 390], 143: [391], 146: [392], 151: [394], 154: [395], 155: [396], 156: [397, 398], 157: [399], 158: [400], 160: [402, 411, 412], 161: [413, 414], 162: [415], 163: [416], 164: [417], 165: [418, 419], 166: [420], 167: [421, 422], 168: [423], 169: [424, 425, 426], 170: [427, 428], 171: [429, 430], 172: [431], 173: [432, 433, 434, 435, 436, 437, 438, 439, 446, 447, 449, 452, 453], 174: [455, 456], 175: [457], 178: [459], 179: [460, 461], 180: [462], 181: [463, 464], 182: [465], 184: [466, 467, 468, 469, 470, 471, 472], 185: [473, 474], 186: [475, 476], 187: [485], 188: [486, 487, 488], 189: [489], 190: [490], 191: [491, 492], 192: [493], 193: [494], 194: [495, 496], 195: [497], 196: [498, 499], 197: [500], 198: [501], 199: [502], 200: [503], 201: [504, 505], 202: [506, 507], 203: [508, 510, 511, 512, 513, 514, 515, 516, 517], 205: [518, 519, 520, 521], 207: [522, 523], 208: [524, 525], 210: [528, 529], 211: [530], 212: [531, 532], 213: [534], 216: [535], 217: [536], 218: [537], 219: [538], 220: [539, 541], 221: [542, 543], 222: [544], 223: [545], 224: [546], 225: [547], 226: [548], 227: [549, 550, 551], 229: [553, 554, 555, 556, 557, 558], 230: [559]}\n",
      "====================================================================================================\n",
      "(1, 11)\n",
      "{}\n",
      "\n",
      "{0: [200], 2: [201], 3: [202, 203], 4: [204], 5: [205], 6: [206], 8: [207], 10: [209], 13: [210, 211, 212], 15: [213], 16: [217, 218, 219], 17: [220, 221, 222, 223], 18: [224], 19: [225], 20: [226, 227, 228, 229, 230, 231, 232], 21: [233], 22: [234, 235], 23: [236], 24: [237], 26: [239], 27: [240], 28: [241], 29: [242, 243], 30: [244], 31: [245, 246], 32: [247], 33: [248], 34: [249], 35: [250, 251], 36: [252, 253], 37: [254, 255], 38: [257, 258], 39: [259, 260], 42: [261], 43: [262], 44: [263], 45: [264, 265, 266], 46: [267], 47: [268], 48: [269], 49: [270], 50: [271], 51: [272], 52: [273], 54: [274], 55: [275], 56: [279], 57: [280, 281], 59: [282, 283], 60: [284, 285], 61: [286, 287], 62: [288], 63: [289, 290, 291], 64: [292, 293], 65: [294], 66: [295], 67: [296], 68: [297], 69: [298], 70: [299], 71: [300], 72: [301, 302], 73: [303, 304, 305, 306, 307], 74: [308], 75: [309], 79: [312], 80: [313, 314], 81: [315], 82: [316], 83: [318, 319], 84: [320, 321], 85: [322], 86: [323], 88: [325], 89: [326], 90: [327], 91: [328, 329], 92: [330], 93: [331], 94: [332], 95: [333], 96: [334], 97: [335, 336, 337, 338, 339], 99: [340, 341], 100: [342], 101: [343], 103: [346, 347], 105: [349], 107: [350], 108: [351], 110: [353, 354], 111: [355], 113: [356, 357], 114: [358], 115: [359, 360, 361], 116: [362], 117: [363, 364], 118: [365], 119: [366, 367], 120: [368], 121: [369], 122: [370], 123: [371], 124: [372, 373], 125: [374], 126: [375], 127: [376, 377], 128: [378], 131: [379], 132: [380], 133: [381], 134: [382], 135: [383], 136: [384], 138: [385], 139: [386], 140: [387], 141: [388], 143: [389], 144: [390], 145: [391], 148: [392], 149: [393], 150: [394, 395, 396], 151: [397, 398], 152: [399], 153: [400, 401], 155: [402], 156: [403], 157: [404, 405, 406, 407, 408], 159: [409, 410, 411], 160: [412], 161: [413], 162: [414], 163: [415], 164: [416], 165: [417], 166: [418], 167: [420], 169: [421], 170: [422], 171: [423], 172: [424], 174: [425], 175: [426], 179: [427], 180: [428, 429], 181: [430, 431], 186: [432], 187: [433, 434], 189: [435], 190: [436, 437], 191: [438], 192: [439, 440], 193: [441], 194: [442], 195: [443], 196: [444], 197: [445, 446, 447, 448], 198: [449], 199: [450], 201: [452], 202: [453, 454], 203: [455], 204: [456, 457], 205: [458, 459], 206: [460], 207: [461, 462], 208: [463], 209: [464], 210: [465], 211: [466], 212: [467, 468, 469, 470], 214: [472], 215: [473], 216: [474], 218: [476], 220: [477], 221: [478], 222: [479], 223: [480], 224: [481], 225: [482], 226: [483], 227: [484], 228: [485], 230: [486], 231: [487], 232: [488], 234: [489], 235: [490], 236: [491, 492, 493, 494], 238: [495], 239: [496, 497, 498, 499, 500], 240: [501, 502], 241: [503, 504, 505, 506, 507], 242: [508], 244: [510, 511], 245: [512], 247: [513, 514, 515, 516, 517, 518], 249: [519], 250: [520], 251: [521], 252: [522], 254: [523, 524], 255: [525, 526], 256: [527], 257: [529], 258: [530, 531], 260: [532, 533, 534, 535, 536], 264: [539], 265: [540], 266: [541], 268: [542], 269: [543, 544], 270: [545], 271: [546, 547], 273: [549], 274: [550, 551, 552], 275: [553], 277: [555], 278: [559], 279: [560, 561], 280: [562]}\n",
      "====================================================================================================\n",
      "(1, 12)\n",
      "{}\n",
      "\n",
      "{1: [199, 200], 2: [201], 3: [202], 4: [203, 204], 5: [205], 7: [206, 207, 208, 209], 8: [210, 211, 212], 10: [213, 214, 215], 11: [216, 217], 12: [219], 14: [220], 15: [221], 16: [222], 17: [223], 18: [224], 19: [225], 20: [226, 227], 21: [228, 229, 230], 22: [231, 232, 233, 237], 23: [238], 24: [239], 25: [240], 26: [241], 27: [242], 28: [243, 244], 29: [245, 246], 30: [247], 31: [250], 32: [251], 33: [252], 34: [253], 35: [254], 36: [255], 37: [256], 38: [257, 258], 39: [258, 259, 260], 40: [261], 41: [262], 42: [263], 43: [264, 265, 266], 44: [267], 46: [268, 269], 47: [270], 48: [271, 272], 49: [273], 50: [274], 51: [275], 53: [276], 55: [277, 278], 56: [279], 57: [280], 58: [281], 60: [282], 61: [283], 62: [284], 63: [285, 286, 287], 64: [288], 65: [289], 66: [290], 67: [291], 68: [292], 69: [293], 71: [294], 72: [295], 73: [296], 76: [297, 298, 299], 77: [300], 78: [301], 79: [302], 80: [303], 81: [304], 82: [305, 306, 307], 84: [308, 309], 86: [310], 87: [311], 88: [312], 89: [313], 90: [314, 316], 91: [315], 92: [317, 318, 319], 93: [320], 94: [321], 95: [322], 96: [323], 97: [324], 98: [325], 99: [326], 100: [327, 328], 105: [329], 106: [332], 107: [333], 108: [334], 111: [335], 112: [336], 113: [337], 114: [338], 115: [339], 116: [340], 117: [341], 120: [343], 121: [344, 345], 122: [346], 123: [347], 130: [348, 349, 350, 351, 352, 353, 354, 355], 131: [356, 357, 358], 133: [359], 134: [360], 135: [361], 136: [362, 363], 137: [364], 138: [365, 366], 139: [367], 140: [368], 141: [369], 142: [370], 143: [371], 144: [372], 145: [373, 374, 376], 147: [375], 148: [377], 149: [380, 381], 150: [382], 151: [383, 384], 154: [385, 386, 387, 388, 389], 155: [390, 391, 392], 156: [393], 157: [394], 158: [395], 159: [396], 160: [397], 161: [398], 162: [399], 164: [400], 165: [401], 166: [402, 403, 404], 168: [405], 169: [406, 407, 408], 170: [409, 410, 411, 412], 171: [413, 414, 415], 172: [417], 173: [418, 419, 420, 421], 174: [422], 175: [423, 424, 425], 177: [426, 427], 179: [428], 181: [429], 182: [430], 183: [431, 432], 184: [433, 434, 435, 436], 185: [437], 186: [438], 188: [439], 189: [440, 441], 190: [442, 443], 191: [444, 445, 446, 447], 192: [449], 193: [450], 194: [451], 195: [452, 453, 454], 196: [455], 197: [456, 457, 458], 198: [459, 460, 461, 462, 463], 200: [465, 467], 201: [468, 469, 470, 471], 203: [472], 204: [473], 205: [474], 207: [475], 208: [476], 209: [477, 478], 210: [479], 211: [480], 215: [481], 216: [487, 488], 219: [489, 490, 491], 221: [492], 228: [498, 499], 229: [500, 501], 230: [502], 231: [503, 504], 234: [505, 507, 510], 246: [513], 247: [514], 250: [518], 252: [520, 521, 523]}\n",
      "====================================================================================================\n",
      "(1, 13)\n",
      "{}\n",
      "\n",
      "{0: [197], 2: [198], 5: [200], 6: [201], 7: [202, 203], 9: [205, 206], 10: [207], 12: [208], 13: [209, 210], 14: [211], 15: [212], 16: [213], 17: [214, 215], 18: [216], 19: [217], 20: [219], 21: [220], 22: [221], 24: [222], 25: [223], 26: [224], 27: [225], 28: [226], 29: [227], 30: [228], 31: [232, 233], 32: [234, 235, 236], 33: [237, 238], 34: [239, 240, 241], 35: [242, 243], 36: [244], 38: [245, 246, 247], 39: [248], 40: [249], 41: [250, 251], 43: [252], 44: [253, 254, 255], 45: [256], 47: [257], 48: [258], 49: [259], 51: [260, 261, 262], 52: [263, 264], 53: [266, 267], 54: [268, 269], 55: [270], 56: [271], 57: [272], 58: [273, 279], 60: [280, 281], 61: [282], 62: [283], 63: [284], 64: [285], 65: [286, 287, 288, 289, 290, 291, 292], 66: [294, 295, 296, 297], 68: [298], 69: [299, 300], 70: [301], 71: [302, 303], 72: [304], 74: [305], 75: [306], 77: [307], 78: [308], 80: [309, 310], 81: [311, 312, 313], 82: [314], 83: [315], 84: [316], 85: [317, 318], 86: [319, 320], 87: [321, 322], 88: [323], 89: [324], 90: [325], 91: [326], 92: [327], 93: [329], 94: [330, 331], 95: [333, 334], 96: [335], 97: [336], 98: [337], 100: [338, 339, 340], 103: [342], 104: [343], 105: [344], 106: [345], 107: [346, 347, 348, 349], 108: [350], 109: [351, 352, 353, 354], 110: [355], 111: [356], 112: [357, 358], 113: [359], 116: [360], 117: [361, 362], 119: [363], 120: [364, 365], 121: [366], 122: [367], 124: [368], 125: [368], 126: [369], 127: [370], 128: [371, 372], 129: [373], 130: [374, 375], 131: [376], 132: [377, 378], 133: [382], 134: [383, 384], 135: [385, 386], 137: [387], 138: [388], 139: [389], 141: [390, 391], 142: [392, 393], 143: [394, 395], 144: [396], 145: [397], 146: [398], 147: [399, 400, 401], 148: [402, 403], 149: [404, 405], 150: [406, 407, 408], 151: [409], 152: [410], 153: [411], 154: [412], 156: [414], 157: [415], 159: [416, 417, 418], 160: [419], 162: [420], 164: [421], 166: [422], 167: [423], 168: [424, 425], 170: [427], 171: [428], 172: [429], 174: [430], 175: [431], 178: [432], 179: [433, 434], 180: [435], 181: [436], 182: [438], 183: [439], 184: [440, 441], 186: [442], 187: [443], 188: [444], 190: [445], 191: [446], 192: [447], 193: [448, 449, 450, 451], 194: [452], 195: [453, 454, 455, 456, 457], 196: [458], 197: [459, 460, 461, 462], 198: [463, 464], 199: [465, 466, 467, 468, 469], 201: [471, 472, 473], 202: [474, 475], 203: [476, 477], 204: [478], 205: [479, 480], 206: [481], 207: [485], 209: [486], 210: [488, 489, 490], 212: [491, 492, 493, 494], 214: [495], 215: [496], 216: [497], 217: [498], 218: [499], 219: [500, 501, 502, 503], 220: [504], 221: [505, 506, 507, 508, 509], 223: [510], 225: [512, 513, 514, 515], 226: [516], 227: [517], 229: [518], 231: [519], 233: [520], 235: [522], 236: [521, 523, 524, 525, 526], 237: [527, 528], 238: [529, 530], 239: [531]}\n",
      "====================================================================================================\n",
      "(1, 14)\n",
      "{}\n",
      "\n",
      "{1: [194], 3: [196], 8: [199, 200, 201], 9: [202], 11: [204], 14: [209], 17: [215], 19: [217], 20: [218], 21: [221], 22: [222], 23: [224], 26: [227, 228], 27: [229], 28: [233], 29: [234], 30: [235, 236], 31: [237], 32: [238, 239, 240], 33: [241, 242, 243], 34: [244], 35: [245, 246, 247, 248, 249], 37: [250], 38: [251], 39: [252], 40: [253, 254, 255], 41: [255, 256], 42: [257, 258, 259], 43: [260, 261], 44: [262], 46: [263, 264, 265], 47: [266, 267, 268, 269], 48: [270], 49: [271], 50: [272], 51: [273], 52: [274, 275, 276], 53: [277], 54: [278, 279], 55: [280], 56: [281], 58: [282, 283], 59: [284], 61: [285], 62: [286, 287], 63: [288, 289], 64: [290], 65: [291, 292], 66: [293], 67: [294], 68: [295], 69: [296], 70: [297], 71: [298, 299, 300], 72: [301], 73: [302], 74: [303], 75: [304], 76: [305], 79: [307], 80: [308], 81: [309], 82: [310], 83: [311, 312, 313, 314], 85: [316, 317], 87: [318, 319, 320], 88: [321], 89: [322, 323], 90: [324, 325], 91: [326], 92: [327, 328], 94: [329], 95: [330], 96: [331], 97: [332, 333], 98: [333, 334], 100: [335], 102: [336], 103: [337, 338], 104: [339, 340], 105: [342], 106: [343], 107: [344, 347], 108: [348], 109: [349], 110: [350], 111: [351], 112: [352], 113: [353, 354], 114: [355], 115: [356], 116: [357, 358], 117: [359], 118: [360], 119: [361], 120: [362, 363], 121: [364], 122: [365], 123: [366], 126: [371], 127: [372], 128: [373], 129: [374], 130: [375], 131: [376], 132: [377], 133: [378, 379], 134: [380], 137: [383], 138: [384, 385, 386, 387], 139: [389, 390, 391, 393], 140: [392], 141: [394], 142: [395], 143: [396, 397, 398, 399, 400, 401, 402, 403], 144: [408], 145: [409, 410, 411, 412], 146: [413], 147: [415, 416], 148: [417], 150: [418], 151: [423], 152: [424, 425], 153: [426], 154: [427, 428, 429, 430, 431], 155: [432], 156: [433], 157: [434], 158: [435], 159: [436, 437, 438], 160: [439], 161: [440, 441], 162: [442], 163: [443, 444, 445, 446, 447, 448, 449, 450, 451], 165: [452, 453], 166: [454, 455], 167: [456], 168: [457, 458], 169: [459], 170: [460, 461], 171: [462, 463, 464], 172: [465, 466, 467, 468, 469, 470, 471, 472, 473, 474, 475, 476, 477, 478, 479, 480, 481, 482, 483, 484, 485], 174: [486], 175: [487, 488, 489], 176: [490], 177: [491], 178: [492], 179: [495, 501], 180: [503], 181: [504], 186: [511]}\n",
      "====================================================================================================\n",
      "(1, 15)\n",
      "{}\n",
      "\n",
      "{4: [200], 7: [201], 8: [202], 10: [204, 205], 11: [206], 12: [207, 208], 13: [210, 211, 212], 16: [213], 17: [214], 19: [215], 20: [216], 21: [218], 23: [219], 24: [220], 25: [221], 26: [225], 27: [226, 227], 29: [228], 30: [229], 31: [230], 32: [231], 33: [232, 233, 234], 34: [235, 236], 35: [237, 238], 36: [239, 240], 38: [241], 39: [242, 243], 41: [244], 42: [245], 43: [246], 44: [249], 45: [250], 46: [251], 47: [252, 253, 254], 49: [255], 51: [256, 257, 258], 52: [259], 53: [260], 54: [261], 55: [262], 56: [263, 264], 57: [266], 58: [267, 268], 59: [269], 60: [270], 61: [271], 62: [272], 63: [273, 274, 275, 276], 64: [277], 65: [278, 279], 66: [280], 67: [281], 68: [282], 69: [283], 70: [284], 71: [285], 72: [286], 73: [287], 74: [288, 289], 75: [290, 291], 76: [292, 293], 77: [294, 295, 296], 78: [297, 298], 80: [300], 81: [301], 82: [302], 83: [303], 84: [304], 85: [305, 306], 86: [307], 87: [308, 309], 88: [310], 89: [311, 312, 313], 90: [314, 315], 91: [316], 92: [317], 93: [318, 319, 320], 95: [321, 322, 323], 96: [324], 97: [325], 98: [326], 100: [327, 328, 329, 330], 102: [331, 332], 103: [333], 104: [334, 336], 106: [337, 339, 340], 107: [338], 111: [341], 114: [342, 343], 116: [344, 345, 346], 117: [347, 348], 118: [349, 350], 119: [351, 352, 353], 120: [354], 121: [355, 356], 122: [357], 123: [358], 124: [359, 360], 125: [361], 127: [362], 129: [363], 130: [364], 131: [365], 133: [366], 135: [367, 368], 136: [369, 370, 372], 138: [373], 139: [374], 141: [375], 143: [376], 144: [377, 378], 146: [379], 147: [380], 148: [381], 149: [383], 151: [384, 385, 386], 152: [387, 388, 389, 390, 391, 392, 393, 394, 395, 396, 397, 398], 154: [399, 400], 155: [401], 156: [402], 157: [403], 158: [404], 159: [405, 406], 161: [407, 408, 409], 162: [410], 163: [411, 413], 164: [416, 417], 165: [418], 166: [419, 420], 167: [421], 168: [422], 170: [423], 171: [424], 172: [425, 426, 427], 174: [428], 175: [429], 176: [430, 431], 177: [432], 178: [433], 179: [434, 435, 436], 180: [437], 181: [438], 182: [439], 184: [440], 186: [441, 442], 187: [443], 188: [445], 189: [446], 190: [447, 448], 191: [449, 450], 192: [451, 452], 193: [453], 194: [454], 195: [455, 456, 457], 196: [458], 197: [459], 198: [460, 461], 199: [462], 200: [463], 201: [464], 202: [465, 466], 203: [467], 204: [468], 205: [469, 470], 207: [471], 208: [472], 210: [474, 475, 476, 477, 478, 479, 480, 481], 211: [482], 212: [483], 215: [486], 217: [493], 218: [495, 497], 220: [496], 221: [498], 222: [499, 500], 223: [504], 224: [505], 225: [506], 226: [507, 508, 509, 510], 228: [511], 229: [512], 230: [513], 231: [514], 232: [515], 233: [516], 234: [517, 518], 237: [521], 239: [522]}\n",
      "====================================================================================================\n",
      "(1, 16)\n",
      "{}\n",
      "\n",
      "{0: [192, 193], 1: [194], 3: [196], 4: [197], 5: [198], 6: [199], 7: [200], 9: [202], 11: [203, 204], 13: [207], 14: [208], 15: [210], 16: [211], 18: [213], 19: [214], 21: [215], 23: [216], 24: [217, 218], 25: [219], 27: [220], 28: [221], 29: [222], 30: [223], 31: [224], 32: [225], 33: [226], 34: [227], 35: [228], 36: [229], 37: [230], 38: [231, 232, 233, 234], 39: [235], 40: [236], 41: [237], 42: [238, 239, 240], 43: [241], 44: [242], 45: [243], 47: [244, 245], 48: [246], 49: [247, 248], 51: [249, 252], 52: [253], 53: [254], 54: [255], 55: [256], 56: [257], 57: [258], 58: [259], 62: [261], 63: [262, 263, 264], 64: [265], 65: [266], 66: [267], 68: [268], 69: [269], 70: [270], 71: [271], 72: [272, 274], 73: [273], 75: [276, 277, 278], 76: [280, 281], 77: [282], 78: [284], 79: [285, 286, 287], 80: [288], 81: [289], 82: [290], 83: [291], 84: [292], 85: [293], 86: [294, 295], 87: [297], 88: [298, 299, 300], 89: [301], 90: [302], 91: [303], 92: [304], 94: [305], 95: [306], 96: [307], 97: [308, 309, 310], 100: [311], 101: [312], 103: [313, 314], 104: [315, 316], 105: [317, 318], 107: [320, 321, 322], 109: [323], 110: [324], 111: [325], 112: [326], 114: [328], 115: [329], 116: [330], 117: [331], 119: [333, 334], 120: [335], 121: [336, 337], 122: [338], 123: [339], 124: [340], 125: [341, 342], 126: [349], 128: [350, 351, 352], 130: [353], 131: [354], 132: [355], 133: [356, 357], 134: [358], 135: [359], 137: [360], 138: [361], 140: [363], 141: [364], 142: [365, 366], 143: [367], 144: [369], 145: [370], 149: [373], 150: [374], 152: [375], 154: [376], 159: [379], 160: [380], 161: [381], 162: [382], 163: [383, 384], 166: [385], 168: [386], 169: [387], 170: [388, 389], 171: [390, 391], 172: [392], 173: [393], 175: [395], 176: [397], 177: [398], 178: [399], 179: [400], 180: [401], 181: [402], 182: [403], 183: [404, 405], 184: [406, 407], 185: [408], 187: [409, 410], 189: [411], 190: [412], 191: [413], 192: [415], 193: [416], 194: [417, 418, 419, 420], 195: [421, 422], 196: [423, 424], 197: [425, 426, 427], 199: [428, 429, 430], 200: [431], 201: [432], 202: [433, 434], 203: [435, 436], 204: [437], 205: [438], 206: [439], 207: [440, 441, 442, 443], 209: [445, 446], 210: [447], 211: [448, 449, 450], 212: [451], 213: [452], 215: [454, 455], 216: [456], 217: [457, 458, 459], 218: [460], 219: [462], 220: [463], 221: [464], 223: [465], 224: [466, 467], 225: [468], 226: [469], 227: [470], 228: [471], 229: [472], 230: [473], 231: [474], 232: [475], 233: [476], 234: [477], 235: [478], 236: [479], 237: [480], 239: [481], 240: [484], 241: [485], 242: [486, 487], 243: [488], 244: [489, 490], 245: [491], 248: [492], 249: [493, 494], 250: [495, 496, 497, 498, 499, 500, 501], 252: [502, 503, 504, 505], 254: [506], 255: [507], 256: [508], 258: [509], 260: [511, 512], 266: [516], 268: [520], 269: [521]}\n",
      "====================================================================================================\n",
      "(1, 17)\n",
      "{}\n",
      "\n",
      "{1: [270], 2: [271], 3: [272], 5: [274, 278], 9: [279, 280, 281], 10: [282], 11: [283], 12: [284], 13: [285], 15: [286], 16: [287], 18: [288, 289], 19: [290], 20: [291, 292], 21: [293], 22: [294], 23: [295], 25: [296, 297], 26: [298], 27: [299, 300], 28: [301], 29: [302], 30: [303, 304, 305, 306], 31: [307], 32: [308, 309], 33: [310, 311], 34: [312], 35: [313, 314, 315, 316, 317], 36: [318, 319, 320], 37: [321], 38: [322, 323], 39: [324], 40: [325], 41: [326], 42: [327], 44: [328], 45: [329], 46: [330], 47: [331, 332, 333], 48: [334], 49: [335, 336], 50: [337], 51: [338], 52: [339, 340], 53: [341], 54: [342], 56: [343], 57: [344, 345], 58: [350], 60: [351], 63: [352], 64: [353], 66: [354, 355, 356, 357, 358], 67: [359, 360, 361, 362], 68: [363], 70: [365], 71: [366], 72: [367], 73: [368, 369], 74: [370], 76: [371], 77: [372], 78: [373], 79: [374], 80: [375], 82: [376, 377, 378, 379, 380, 381, 382, 383, 384, 385], 83: [386], 84: [387, 388], 85: [389], 86: [390], 87: [391, 392], 88: [397, 398], 89: [399], 90: [400, 401], 91: [402, 403, 404], 92: [405, 406, 407, 408, 409], 93: [410], 94: [411], 95: [412], 96: [413], 97: [414], 98: [415], 100: [416], 102: [417], 103: [418, 419], 104: [420], 105: [421], 107: [422, 423], 108: [424, 425, 426], 109: [427], 110: [428], 111: [429, 430], 112: [430, 431], 113: [432], 114: [433], 115: [434], 116: [435], 117: [436, 437, 438], 118: [439], 119: [440, 441], 120: [442], 123: [443], 125: [444], 127: [445], 128: [446, 447], 129: [448], 131: [449, 450], 132: [451], 133: [452], 134: [453], 135: [454, 455], 136: [456], 137: [457], 138: [458], 139: [462], 140: [463], 141: [464], 142: [465], 143: [466, 467], 144: [468, 469, 470, 471, 472], 145: [473], 146: [474], 147: [475, 476, 478], 148: [485], 149: [486], 151: [487, 490, 491], 152: [492], 154: [493, 494], 155: [495], 156: [496, 497], 158: [498], 159: [499], 161: [500], 166: [505], 167: [506], 168: [507, 508], 169: [510], 170: [511, 512, 513], 173: [518], 174: [519], 177: [520], 178: [521, 522], 179: [523], 180: [524], 181: [525], 182: [526], 183: [527], 184: [527], 185: [528], 186: [529], 187: [530], 189: [531, 532], 191: [533], 193: [534], 194: [535], 195: [536], 196: [537], 197: [538, 539], 198: [540], 199: [541], 200: [542], 201: [547], 203: [548, 549, 550, 551], 204: [552], 205: [553], 206: [554], 207: [555], 208: [556, 561], 209: [562], 211: [563, 564], 212: [565], 214: [567], 215: [568], 216: [569], 217: [570, 571], 218: [572], 219: [573], 220: [574], 221: [575], 222: [576], 223: [577], 224: [578], 226: [579], 227: [580, 581, 582, 583, 584, 585, 586, 587, 588, 589, 590, 591, 592, 593, 594, 595, 596, 597, 598, 599, 600, 601, 602, 603, 604, 605, 606, 607, 608, 609, 610, 611, 612, 613, 614, 615, 616, 617, 618, 619, 620, 621, 622, 623, 624, 625, 626, 627, 628, 629, 630, 631, 632, 633, 634, 635, 636, 637, 638, 639, 640, 641, 642, 643, 644, 645, 646, 647, 648, 649, 650, 651, 652, 653, 654, 655, 656, 657, 658, 659, 660, 661, 662, 663, 664, 665, 666, 667, 668, 669, 670, 671, 672, 673, 674, 675, 676, 677, 678, 679, 680, 681, 682, 683, 684, 685, 686, 687, 688, 689, 690, 691, 692, 693, 694, 695, 696, 697, 698, 699, 700, 701, 702, 703, 704, 705, 706, 707, 708, 709, 710, 711, 712, 713, 714, 715, 716, 717, 718, 719, 720, 721, 722, 723, 724, 725, 726, 727, 728, 729, 730, 731, 732, 733, 734, 735, 736, 737, 738, 739, 740, 741, 742, 743, 744, 745, 746, 747, 748, 749, 750, 751, 752, 753, 754, 755, 756, 757, 758, 759, 760, 761, 762, 763, 764, 765, 766, 767, 768, 769, 770, 771, 772, 773, 774, 775, 776, 777, 778, 779, 780, 781, 782, 783, 784, 785, 786, 787, 788, 789, 790, 791, 792, 793, 794, 795, 796, 797, 798, 799, 800, 801, 802, 803, 804, 805, 806, 807, 808, 809, 810, 811, 812, 813, 814, 815, 816, 817, 818, 819, 820, 821, 822, 823, 824, 825, 826, 827, 828, 829, 830, 831, 832, 833, 834, 835, 836, 837, 838, 839, 840, 841, 842, 843, 844, 845, 846, 847, 848, 849, 850, 851, 852, 853, 854, 855, 856, 857, 858, 859, 860, 861, 862, 863, 864, 865, 866, 867, 868, 869, 870, 871, 872, 873, 874, 875, 876, 877, 878, 879, 880, 881, 882, 883, 884, 885, 886, 887, 888, 889, 890, 891, 892, 893, 894, 895, 896, 897, 898, 899, 900, 901, 902, 903, 904, 905, 906, 907, 908, 909, 910, 911, 912, 913, 914, 915, 916], 228: [917], 229: [918, 922], 232: [920], 233: [921], 235: [923], 237: [924], 239: [925], 240: [926], 241: [927], 243: [928, 929], 244: [930], 246: [931, 932], 247: [933], 248: [934], 249: [935], 250: [936], 251: [937], 252: [938, 939], 253: [940], 254: [941, 942], 256: [943], 259: [945], 263: [947, 948], 264: [949], 265: [950], 266: [951], 267: [952], 268: [953, 954], 269: [955]}\n",
      "====================================================================================================\n",
      "(1, 18)\n",
      "{}\n",
      "\n",
      "{2: [49, 191, 192], 4: [195], 5: [197], 10: [199], 12: [200], 15: [202], 18: [205], 21: [207], 26: [212], 31: [215], 32: [216], 34: [218], 35: [220], 37: [224], 38: [226], 39: [227], 44: [229], 46: [230], 48: [231], 49: [232], 52: [236], 53: [238], 55: [240], 57: [243, 245], 61: [250, 251], 63: [255], 64: [258], 65: [259], 66: [260, 261, 262, 263, 264, 268], 68: [269], 69: [270], 70: [271], 71: [272], 72: [273, 274], 73: [275, 276], 76: [277], 77: [278, 279], 78: [280], 79: [281], 80: [282, 283], 81: [284], 82: [285], 83: [286, 287], 84: [288], 85: [291], 87: [292, 293], 88: [294, 295, 296, 297], 90: [298], 91: [299], 92: [300], 93: [301], 94: [302, 303], 95: [304], 96: [305], 97: [306], 98: [307], 99: [308, 309], 100: [310], 101: [311, 312], 104: [313], 105: [314], 106: [315], 107: [316, 317], 108: [318], 109: [319], 110: [320], 111: [321], 112: [322], 113: [323], 114: [324, 325, 326], 115: [327, 328], 116: [329], 118: [330], 120: [331], 124: [333, 334, 335], 125: [336], 126: [337], 127: [338], 128: [339], 129: [348], 131: [349], 134: [350], 135: [351], 136: [352, 354, 355, 356, 357], 137: [358], 138: [359], 139: [360, 361], 140: [362], 141: [363], 142: [364, 365], 144: [366], 145: [367], 148: [368, 369], 149: [370], 150: [371], 152: [372, 373], 153: [374, 375, 376], 154: [377], 155: [381, 382], 156: [383, 384, 385, 386], 157: [387], 158: [396, 397], 159: [398], 160: [399, 400], 161: [401, 402], 162: [405], 163: [406, 407, 408], 166: [409], 167: [410], 168: [411], 169: [412], 170: [413, 414], 171: [415], 172: [416], 173: [417, 418], 174: [419], 175: [420], 176: [421], 177: [422], 178: [423], 181: [426, 427, 428, 429, 430, 431, 432, 433], 182: [434], 183: [435], 184: [436], 185: [437], 186: [438], 187: [439], 188: [440, 441], 189: [442], 190: [443], 191: [444], 192: [445], 193: [446], 194: [447, 448], 195: [449, 450], 196: [451], 197: [452, 453], 200: [454], 202: [455], 203: [456, 457], 204: [458], 205: [459], 206: [460], 208: [461], 210: [462], 211: [463, 464, 465, 466], 212: [467], 213: [468], 214: [469, 470], 215: [471], 216: [472], 217: [474], 219: [475], 220: [476], 222: [477], 223: [478], 224: [479, 480], 225: [482], 226: [483], 227: [484, 485, 486], 229: [487], 230: [488], 231: [489, 490], 232: [491], 233: [492, 493], 236: [495], 237: [496], 238: [497, 498], 239: [499], 240: [500], 241: [501], 242: [502], 243: [503], 245: [504], 246: [505], 248: [506], 249: [507, 508], 251: [509], 252: [510], 253: [511], 254: [512], 264: [523]}\n",
      "====================================================================================================\n",
      "(1, 19)\n",
      "{}\n",
      "\n",
      "{0: [93, 156, 200, 201, 203], 1: [205], 2: [206], 3: [207], 6: [212, 214], 9: [216], 11: [219], 12: [221, 225, 226], 15: [228, 229, 231], 17: [232], 19: [236, 237, 238], 21: [242, 243], 22: [246, 247], 30: [253], 31: [254], 33: [257], 35: [261], 36: [262], 37: [263], 38: [264], 39: [265], 40: [266, 267], 41: [268], 42: [269], 43: [270], 44: [271, 272], 46: [273, 274], 47: [275], 48: [276, 277], 49: [278], 50: [279], 51: [280, 281], 52: [283, 284, 285, 286, 287, 288, 289, 290, 291, 292, 293, 294, 295, 296, 297, 298, 299, 300, 301], 53: [302], 54: [303], 55: [304, 305], 56: [306], 57: [307], 58: [308], 61: [309], 62: [310], 63: [311], 64: [312], 65: [313], 66: [314], 67: [315, 316, 317, 319], 68: [318], 69: [320, 321], 70: [322, 323, 324], 71: [325, 326], 73: [328], 74: [329, 330, 331], 77: [333], 78: [334], 80: [335], 81: [336], 82: [337], 83: [338], 84: [339], 85: [340], 86: [341, 342], 87: [343], 88: [344, 345, 346, 347], 89: [348], 90: [349, 350, 351], 91: [352, 353], 92: [354], 93: [355], 94: [356, 357, 358, 360], 95: [359], 98: [361], 99: [362], 100: [363], 101: [364, 365, 366], 102: [367], 104: [368, 369], 105: [370], 106: [371], 107: [372, 373, 374], 108: [375], 109: [376], 111: [377], 112: [378], 113: [379], 114: [380], 115: [381], 117: [382], 119: [383], 120: [384], 121: [385], 122: [386], 123: [387], 124: [388], 125: [389, 390], 126: [391, 392], 128: [393, 394, 395], 129: [396], 130: [398], 132: [399], 135: [400, 401], 136: [402], 137: [403, 404, 405], 139: [407], 140: [408, 409], 144: [410], 145: [411], 146: [412], 147: [413], 148: [414], 149: [416], 151: [417], 153: [419], 154: [421], 155: [422], 156: [423, 424], 157: [425, 426, 427, 428, 429], 158: [430], 166: [432], 168: [433], 169: [434], 170: [435], 171: [436], 172: [437], 173: [438], 174: [439, 440, 441], 175: [442], 176: [443], 179: [444], 180: [445], 181: [446, 447, 448, 449], 182: [450, 451, 452, 453, 454], 183: [455], 184: [456], 185: [457, 458, 459], 186: [460], 188: [461], 191: [462], 192: [463, 464], 193: [467], 194: [468], 196: [470], 197: [471], 198: [472], 199: [473], 200: [474], 201: [475], 202: [476, 477], 204: [478], 205: [479, 480, 481], 206: [482], 208: [484], 209: [485], 210: [486], 212: [487], 213: [488], 214: [489], 215: [490, 491, 492, 493, 494, 495, 496, 497], 217: [498], 218: [499, 500], 219: [501], 220: [502], 221: [503], 222: [504, 505, 506], 224: [509, 510, 511, 512], 225: [513], 226: [514], 227: [515, 516, 517], 229: [518], 230: [520, 522], 232: [523], 233: [525], 234: [526], 235: [528], 236: [529, 530], 237: [531], 238: [532]}\n",
      "====================================================================================================\n",
      "(1, 20)\n",
      "{}\n",
      "\n",
      "{0: [200], 1: [202, 203], 2: [204], 3: [207, 208], 4: [209], 5: [210], 6: [211, 212], 7: [213, 214], 8: [216, 217, 218, 219], 9: [220], 10: [221, 222, 223, 224, 225, 226], 11: [227], 12: [228], 13: [229, 230], 14: [231, 232], 15: [233], 16: [234], 17: [235], 18: [236], 19: [237], 21: [238], 22: [239, 240], 23: [241, 242], 25: [243], 26: [244], 28: [245], 29: [246], 30: [247, 248, 249], 31: [250], 32: [251, 252], 33: [253, 254], 34: [255, 256, 257, 258], 35: [259], 36: [260], 37: [261], 38: [262, 263, 264], 41: [265], 42: [266], 43: [267, 268], 46: [269, 270], 47: [271], 48: [272], 49: [276, 277, 278], 50: [279], 51: [280], 52: [281], 53: [282, 283], 54: [284], 55: [285, 286], 56: [287], 57: [288, 289], 58: [290], 59: [291, 292], 60: [293], 61: [294], 62: [295, 296], 64: [297], 65: [298, 299], 66: [300], 67: [301], 68: [302], 69: [303], 70: [304, 305], 71: [306], 72: [307, 308], 73: [309], 74: [310, 311, 312], 75: [313], 76: [314], 77: [315, 316], 78: [317], 80: [319], 81: [320], 82: [321, 322], 83: [323], 84: [324], 85: [325], 86: [326], 87: [327], 88: [328], 89: [329], 90: [330], 91: [331, 332, 333], 93: [334], 94: [335], 95: [336], 96: [337], 98: [338], 99: [339, 340], 100: [341], 101: [342], 102: [343], 103: [344, 345], 104: [346], 105: [347], 106: [348], 107: [349, 350], 109: [351, 352, 353, 354], 111: [355, 356, 357, 358, 359, 360, 361, 362], 112: [363], 113: [364, 365, 366, 367], 115: [368], 116: [369], 117: [370, 371], 119: [372], 120: [373], 121: [374], 122: [375, 376, 377], 124: [378], 126: [380], 127: [381, 382, 383], 128: [384], 129: [385], 130: [386, 387], 131: [388], 132: [389, 390], 133: [391], 134: [392, 393, 394, 395, 396, 397, 398], 135: [399], 137: [401], 139: [402, 403, 404], 140: [405], 141: [406], 142: [407, 408, 409, 410], 144: [411], 145: [412], 146: [413], 147: [415], 148: [416], 150: [417], 151: [418], 152: [419, 420], 153: [421], 154: [422, 423], 155: [424], 156: [425], 157: [426], 158: [427], 160: [428, 429, 430], 161: [431, 432], 163: [433], 165: [434], 167: [437], 168: [438], 169: [439], 170: [440], 171: [441], 173: [442], 174: [443, 444], 175: [445, 446], 176: [447, 448], 178: [449, 450], 179: [451], 180: [452], 181: [453], 182: [454], 183: [455, 456], 184: [457], 185: [458, 459, 460, 461, 462, 463, 464], 187: [465, 466], 188: [467], 189: [468], 191: [473], 192: [474, 475], 194: [477], 195: [478], 196: [479], 197: [480], 198: [481, 482, 483], 199: [484], 200: [485, 486], 201: [487], 202: [488], 203: [489], 204: [490], 205: [491], 207: [492, 493], 208: [497, 498], 209: [499, 500], 210: [501, 502, 503, 504], 211: [505], 212: [506, 507], 213: [508, 509], 215: [510, 511], 216: [512], 220: [513, 514], 222: [516], 223: [517, 518], 225: [520], 227: [521], 229: [522], 230: [523, 524, 525], 232: [526], 233: [527], 243: [532, 533]}\n",
      "====================================================================================================\n",
      "(1, 22)\n",
      "{6: [199]}\n",
      "\n",
      "{6: [199], 7: [199, 200], 8: [201], 9: [202], 12: [204], 13: [205], 14: [206], 15: [207], 16: [208], 17: [209], 19: [210], 20: [211, 212], 21: [214], 22: [215], 23: [216], 24: [217], 25: [218], 26: [219], 27: [220], 28: [221, 222, 223], 29: [224], 30: [225], 31: [226], 32: [227, 228], 33: [229], 34: [230], 35: [231], 37: [232], 38: [233], 39: [234, 235], 40: [236, 237], 41: [238], 42: [239], 43: [240], 45: [241, 242], 46: [243], 47: [244], 48: [245, 246], 50: [250], 51: [251, 252], 53: [254], 54: [255], 55: [256], 56: [257], 57: [258], 59: [259], 60: [260], 61: [261, 262], 62: [263], 63: [264, 265, 266], 65: [267], 67: [268, 269], 68: [270], 69: [271, 272], 71: [273], 76: [275, 276, 277, 278, 279], 77: [280, 281, 282, 283], 79: [284], 80: [285, 286, 287], 81: [288], 82: [289], 84: [290, 291], 85: [292], 86: [293, 294], 87: [295, 296, 297, 298, 299], 88: [300], 89: [301, 302, 303, 304, 305], 90: [306], 91: [307], 92: [308], 93: [309], 95: [310, 311], 97: [312], 98: [313], 99: [314, 315, 316], 100: [317], 101: [318, 319, 320, 321], 102: [322], 103: [323], 104: [324], 105: [325, 326], 106: [327], 108: [328], 109: [329], 112: [331], 113: [332, 333], 114: [334], 115: [335], 116: [336], 117: [337, 338, 339, 340], 122: [341, 342, 343, 344], 123: [345], 124: [346], 125: [347], 126: [348, 349, 350], 130: [351, 352, 353, 354, 355], 132: [356], 134: [357], 135: [358, 359], 136: [360, 361, 362], 137: [363], 138: [364], 140: [365, 366, 367], 142: [368], 143: [372, 373], 145: [374], 147: [375, 376, 377], 148: [377], 149: [378], 150: [379], 151: [380, 381], 152: [382], 153: [383], 154: [384], 157: [385, 386, 387, 388], 159: [389, 391, 392], 160: [393], 161: [394], 162: [395], 163: [396, 397, 398, 399], 167: [400], 168: [401], 170: [402], 171: [403], 173: [404], 174: [405], 176: [406, 407], 179: [407], 181: [408], 182: [409], 183: [410], 184: [411, 412], 185: [413], 187: [414], 189: [415], 190: [416], 191: [417], 192: [418, 419], 193: [420], 194: [421], 195: [422, 423], 196: [424, 425], 197: [426, 427], 198: [428], 199: [429], 200: [430], 203: [431, 432], 204: [439, 440], 205: [441], 207: [442, 443, 444], 208: [445], 209: [446, 447, 448, 449], 210: [450], 211: [451], 212: [452], 213: [453], 214: [454], 216: [455], 217: [456, 457], 218: [458], 219: [459, 460], 221: [461], 222: [462], 223: [463], 224: [464], 226: [465, 466, 467, 468, 469, 470], 227: [471], 228: [472], 229: [473, 474, 475], 230: [476], 231: [477, 478, 479], 232: [480], 234: [481], 235: [482], 236: [483], 237: [484, 485], 238: [486], 239: [487], 240: [488], 241: [489], 243: [490, 491], 244: [492], 245: [493, 494], 246: [495, 496], 249: [497, 498], 250: [499, 500], 253: [500, 501, 502], 254: [503], 257: [504], 258: [505], 259: [506], 260: [507], 261: [508, 509], 262: [510], 264: [511], 265: [512], 266: [513], 267: [514], 268: [515], 269: [516, 517], 270: [518], 271: [520], 272: [521], 273: [522]}\n",
      "====================================================================================================\n",
      "(1, 24)\n",
      "{}\n",
      "\n",
      "{0: [180, 194], 1: [195], 2: [196], 3: [198, 199], 6: [202], 7: [203, 204], 8: [205], 9: [206], 10: [207], 11: [208], 14: [212], 15: [213], 16: [214], 17: [219, 220], 19: [221], 20: [225], 21: [226], 22: [228], 23: [229, 230], 24: [231, 232], 26: [233], 28: [234, 235], 29: [236], 30: [237], 31: [238], 32: [239], 33: [240], 34: [241], 35: [242, 243], 36: [244], 40: [245], 41: [246], 42: [247], 44: [248, 249, 250, 251, 252, 253, 254], 45: [255], 46: [256], 48: [257, 258, 259], 49: [260], 50: [261], 51: [262], 52: [263], 54: [264], 55: [265], 56: [266], 57: [267], 58: [268], 62: [269], 64: [270, 271], 65: [272], 66: [273], 67: [274], 68: [275], 69: [276, 277], 70: [278], 71: [279, 280, 281], 74: [283], 75: [284, 285], 76: [286, 287], 77: [288], 80: [290, 291], 81: [292, 293], 82: [294], 84: [295], 86: [296], 87: [297], 89: [298], 90: [299], 91: [300], 92: [301, 302], 93: [303, 304], 94: [305], 95: [306], 96: [307], 97: [308], 98: [309], 99: [310], 100: [311], 101: [312], 102: [313, 314, 315, 316, 317], 103: [318], 104: [319, 320], 105: [321], 106: [322], 107: [323], 108: [324], 109: [325], 111: [326], 113: [328], 114: [329], 115: [330], 116: [331], 117: [332], 118: [333], 119: [334, 335], 120: [336, 337, 338, 339], 121: [340], 122: [341, 342], 123: [343], 124: [344], 125: [345, 346, 347, 348], 126: [349], 127: [350], 129: [353], 131: [354], 132: [355], 133: [356], 134: [357], 135: [358], 136: [359, 360], 137: [361, 362], 140: [363], 143: [364], 144: [365], 145: [366], 146: [367], 147: [368], 148: [369, 370], 149: [371], 151: [372, 373], 153: [374, 375], 154: [376, 377], 155: [378, 379], 156: [380], 157: [381], 158: [382], 159: [383], 160: [384], 161: [385], 162: [386], 164: [387, 388, 389, 390, 391, 392, 401], 165: [393, 405, 406], 166: [407, 408, 409, 410], 168: [411, 412], 169: [413, 414], 170: [416], 171: [417], 172: [418], 174: [419], 175: [420], 176: [421], 177: [422], 179: [423], 180: [424], 181: [425], 183: [426], 184: [427], 185: [428], 189: [430], 190: [431], 191: [432], 192: [433], 193: [434, 435, 436, 437], 194: [438], 195: [439, 440, 441], 196: [442], 197: [443], 198: [445], 201: [446, 447], 202: [448, 449, 450], 203: [451, 452], 205: [453, 454], 206: [455], 207: [456], 208: [457, 458], 209: [459], 210: [460], 211: [461], 212: [462, 463], 213: [464], 214: [465, 466], 215: [467, 468], 216: [469], 217: [470, 471], 218: [472, 473], 219: [474], 220: [475], 221: [476], 222: [477], 223: [478], 224: [479], 225: [480], 226: [481], 227: [482], 228: [483], 229: [484, 485, 486], 233: [488], 234: [489], 235: [490, 491, 492, 493], 236: [494], 237: [495], 238: [496], 239: [497, 498], 240: [499], 244: [500, 501, 502, 503, 512, 517], 245: [504], 246: [520, 521], 247: [522, 523], 248: [524], 249: [525], 250: [526], 253: [527], 254: [528], 255: [529], 256: [530]}\n",
      "====================================================================================================\n",
      "(6, 4)\n",
      "{}\n",
      "\n",
      "{134: [200]}\n",
      "====================================================================================================\n",
      "(9, 12)\n",
      "{}\n",
      "\n",
      "{2: [200], 3: [201], 4: [202], 5: [203], 6: [204], 7: [205], 8: [207, 208, 209, 210], 11: [211], 12: [212, 213], 13: [214, 215], 14: [216], 15: [217], 16: [218], 17: [219], 18: [220], 20: [221], 21: [222], 22: [223, 224], 23: [225], 25: [227], 26: [228, 230], 27: [231], 28: [233], 29: [234], 30: [235], 31: [236], 32: [237, 238], 33: [239, 240], 35: [241], 38: [243, 244, 245], 39: [246, 247], 40: [248], 41: [249, 250], 42: [251], 44: [252], 45: [253, 254], 47: [255, 256], 49: [257], 50: [258], 51: [259, 260], 52: [261], 53: [262, 263, 264], 55: [265], 56: [266, 267, 268], 57: [269, 270], 58: [271, 272], 59: [273, 274, 275, 276, 277, 278], 60: [279], 61: [280, 281, 282], 62: [283, 284], 63: [285, 286, 287], 64: [288], 65: [289, 290, 291, 292], 66: [293], 67: [294], 68: [295], 69: [296], 71: [297], 72: [298, 299], 73: [300, 301], 74: [302, 303, 304], 76: [305], 77: [306], 78: [307, 308, 309], 80: [310, 311], 81: [312], 83: [314], 85: [315, 316], 86: [317, 318], 87: [319, 320], 88: [321, 322, 323], 89: [324], 90: [325], 91: [326, 327], 93: [328], 94: [329, 330], 96: [331], 97: [332], 98: [333], 99: [334], 100: [335, 336], 101: [337, 338], 102: [339, 340, 341, 342, 343], 104: [345], 106: [347], 107: [348], 108: [349], 111: [352, 353], 112: [354], 113: [355, 356], 114: [357, 358], 115: [359, 360], 116: [361, 362], 117: [364], 118: [365], 119: [366], 122: [368], 123: [370], 124: [371, 372], 125: [373, 374], 126: [375], 127: [376, 377, 378, 379, 380, 381], 128: [382, 383], 129: [384, 385, 386, 387, 388], 131: [389], 132: [390], 133: [391, 392, 393, 394, 395, 396], 134: [397], 135: [398], 136: [399, 400], 137: [401], 138: [402, 403], 139: [404, 405], 140: [406], 141: [407], 142: [408], 143: [409, 410], 144: [411, 412], 145: [413], 146: [414, 415], 147: [416, 417], 148: [418], 149: [419], 150: [420, 421], 151: [422], 152: [423], 154: [425, 426], 155: [427], 156: [428, 429], 157: [430], 158: [431], 159: [432, 433], 160: [434, 435], 161: [436], 162: [437, 438], 163: [439, 440], 164: [441], 165: [442], 166: [443, 444], 167: [445], 168: [446], 169: [448], 170: [449], 171: [450], 172: [451], 173: [452, 453, 454], 174: [455], 175: [456, 457], 176: [458], 177: [459, 460], 178: [461, 462], 179: [463], 180: [464], 181: [465], 182: [466], 183: [467], 184: [468], 185: [469], 186: [470], 187: [471], 188: [472], 190: [473], 191: [474], 192: [475, 476, 477, 478, 479], 193: [480], 195: [481], 197: [483, 484], 198: [485, 486], 199: [487, 488], 200: [489], 201: [490], 203: [491, 492, 493], 204: [494], 205: [495, 496], 206: [498, 499, 500, 501, 502, 503, 504], 207: [505], 208: [506, 507, 508, 509], 209: [510], 210: [511], 211: [512], 212: [513, 514, 515, 516], 214: [517, 518], 215: [519, 520, 521], 216: [522], 217: [523, 524], 220: [526, 527], 222: [528], 223: [529, 530, 531], 224: [532], 225: [533], 226: [534], 227: [535, 536, 537, 538], 228: [539, 540], 229: [541], 230: [543], 231: [544, 545, 546], 232: [547, 548], 233: [549], 234: [550], 235: [551], 237: [553], 238: [554, 555, 556], 239: [557], 243: [559], 244: [560, 561], 245: [562]}\n",
      "====================================================================================================\n"
     ]
    }
   ],
   "source": [
    "for item in further_alignment:\n",
    "    print(item)\n",
    "    print(further_alignment[item])\n",
    "    print()\n",
    "    print(ultimate_data[item])\n",
    "    print(\"==\"*50)"
   ],
   "metadata": {
    "collapsed": false,
    "pycharm": {
     "name": "#%%\n"
    }
   }
  },
  {
   "cell_type": "code",
   "execution_count": null,
   "outputs": [],
   "source": [],
   "metadata": {
    "collapsed": false,
    "pycharm": {
     "name": "#%%\n"
    }
   }
  },
  {
   "cell_type": "code",
   "execution_count": null,
   "outputs": [],
   "source": [],
   "metadata": {
    "collapsed": false,
    "pycharm": {
     "name": "#%%\n"
    }
   }
  },
  {
   "cell_type": "code",
   "execution_count": null,
   "outputs": [],
   "source": [],
   "metadata": {
    "collapsed": false,
    "pycharm": {
     "name": "#%%\n"
    }
   }
  },
  {
   "cell_type": "code",
   "execution_count": null,
   "outputs": [],
   "source": [],
   "metadata": {
    "collapsed": false,
    "pycharm": {
     "name": "#%%\n"
    }
   }
  },
  {
   "cell_type": "code",
   "execution_count": null,
   "outputs": [],
   "source": [],
   "metadata": {
    "collapsed": false,
    "pycharm": {
     "name": "#%%\n"
    }
   }
  },
  {
   "cell_type": "code",
   "execution_count": null,
   "outputs": [],
   "source": [],
   "metadata": {
    "collapsed": false,
    "pycharm": {
     "name": "#%%\n"
    }
   }
  },
  {
   "cell_type": "code",
   "execution_count": null,
   "outputs": [],
   "source": [],
   "metadata": {
    "collapsed": false,
    "pycharm": {
     "name": "#%%\n"
    }
   }
  },
  {
   "cell_type": "code",
   "execution_count": null,
   "outputs": [],
   "source": [],
   "metadata": {
    "collapsed": false,
    "pycharm": {
     "name": "#%%\n"
    }
   }
  },
  {
   "cell_type": "code",
   "execution_count": null,
   "outputs": [],
   "source": [],
   "metadata": {
    "collapsed": false,
    "pycharm": {
     "name": "#%%\n"
    }
   }
  },
  {
   "cell_type": "code",
   "execution_count": null,
   "outputs": [],
   "source": [],
   "metadata": {
    "collapsed": false,
    "pycharm": {
     "name": "#%%\n"
    }
   }
  },
  {
   "cell_type": "code",
   "execution_count": null,
   "outputs": [],
   "source": [],
   "metadata": {
    "collapsed": false,
    "pycharm": {
     "name": "#%%\n"
    }
   }
  },
  {
   "cell_type": "code",
   "execution_count": null,
   "outputs": [],
   "source": [],
   "metadata": {
    "collapsed": false,
    "pycharm": {
     "name": "#%%\n"
    }
   }
  },
  {
   "cell_type": "code",
   "execution_count": null,
   "outputs": [],
   "source": [],
   "metadata": {
    "collapsed": false,
    "pycharm": {
     "name": "#%%\n"
    }
   }
  },
  {
   "cell_type": "code",
   "execution_count": 11,
   "outputs": [
    {
     "name": "stdout",
     "output_type": "stream",
     "text": [
      "(1, 1) Subtitle: 429 0.988479262672811 || Episode: 231 315 73.33333333333333 5\n",
      "(1, 2) Subtitle: 294 0.8936170212765957 || Episode: 182 254 71.65354330708661 9\n",
      "(1, 3) Subtitle: 216 0.9113924050632911 || Episode: 142 272 52.20588235294118 56\n",
      "(1, 4) Subtitle: 295 0.855072463768116 || Episode: 199 268 74.25373134328358 3\n",
      "(1, 5) Subtitle: 320 0.9384164222873901 || Episode: 189 254 74.40944881889764 2\n",
      "(1, 6) Subtitle: 224 0.9068825910931174 || Episode: 140 229 61.135371179039296 49\n",
      "(1, 7) Subtitle: 256 0.8648648648648649 || Episode: 159 252 63.095238095238095 12\n",
      "(1, 8) Subtitle: 256 0.8737201365187713 || Episode: 187 246 76.01626016260163 12\n",
      "(1, 9) Subtitle: 304 0.9047619047619048 || Episode: 181 242 74.79338842975206 4\n",
      "(1, 10) Subtitle: 262 0.8704318936877077 || Episode: 150 241 62.24066390041494 40\n",
      "(1, 11) Subtitle: 328 0.9291784702549575 || Episode: 220 297 74.07407407407408 0\n",
      "(1, 12) Subtitle: 268 0.9337979094076655 || Episode: 173 270 64.07407407407408 2\n",
      "(1, 13) Subtitle: 305 0.9214501510574018 || Episode: 193 256 75.390625 5\n",
      "(1, 14) Subtitle: 243 0.8966789667896679 || Episode: 136 206 66.01941747572816 28\n",
      "(1, 15) Subtitle: 289 0.9088050314465409 || Episode: 186 258 72.09302325581395 4\n",
      "(1, 16) Subtitle: 268 0.8963210702341137 || Episode: 195 287 67.94425087108013 13\n",
      "(1, 17) Subtitle: 639 0.9342105263157895 || Episode: 212 296 71.62162162162163 2\n",
      "(1, 18) Subtitle: 221 0.8735177865612648 || Episode: 154 275 56.00000000000001 65\n",
      "(1, 19) Subtitle: 246 0.9389312977099237 || Episode: 154 253 60.86956521739131 35\n",
      "(1, 20) Subtitle: 299 0.940251572327044 || Episode: 190 256 74.21875 4\n",
      "(1, 22) Subtitle: 299 0.9462025316455697 || Episode: 198 290 68.27586206896552 13\n",
      "(1, 24) Subtitle: 276 0.887459807073955 || Episode: 191 269 71.00371747211895 17\n"
     ]
    },
    {
     "ename": "ZeroDivisionError",
     "evalue": "division by zero",
     "output_type": "error",
     "traceback": [
      "\u001B[0;31m---------------------------------------------------------------------------\u001B[0m",
      "\u001B[0;31mZeroDivisionError\u001B[0m                         Traceback (most recent call last)",
      "\u001B[0;32m/var/folders/w9/673mfrb56v7dvx7hhvw7s6240000gn/T/ipykernel_62400/3475042887.py\u001B[0m in \u001B[0;36m<module>\u001B[0;34m\u001B[0m\n\u001B[1;32m      3\u001B[0m     \u001B[0mepi2sub\u001B[0m \u001B[0;34m=\u001B[0m \u001B[0mfurther_alignment\u001B[0m\u001B[0;34m[\u001B[0m\u001B[0mitem\u001B[0m\u001B[0;34m]\u001B[0m\u001B[0;34m\u001B[0m\u001B[0;34m\u001B[0m\u001B[0m\n\u001B[1;32m      4\u001B[0m     \u001B[0msub2epi\u001B[0m \u001B[0;34m=\u001B[0m \u001B[0mturn_sub2epi_into_epi2sub\u001B[0m\u001B[0;34m(\u001B[0m\u001B[0mfurther_alignment\u001B[0m\u001B[0;34m[\u001B[0m\u001B[0mitem\u001B[0m\u001B[0;34m]\u001B[0m\u001B[0;34m)\u001B[0m\u001B[0;34m\u001B[0m\u001B[0;34m\u001B[0m\u001B[0m\n\u001B[0;32m----> 5\u001B[0;31m     \u001B[0mprint\u001B[0m\u001B[0;34m(\u001B[0m\u001B[0mitem\u001B[0m\u001B[0;34m,\u001B[0m \u001B[0;34m\"Subtitle:\"\u001B[0m\u001B[0;34m,\u001B[0m \u001B[0mlen\u001B[0m\u001B[0;34m(\u001B[0m\u001B[0msub2epi\u001B[0m\u001B[0;34m)\u001B[0m\u001B[0;34m,\u001B[0m \u001B[0mlen\u001B[0m\u001B[0;34m(\u001B[0m\u001B[0msub2epi\u001B[0m\u001B[0;34m)\u001B[0m\u001B[0;34m/\u001B[0m\u001B[0;34m(\u001B[0m\u001B[0mmax\u001B[0m\u001B[0;34m(\u001B[0m\u001B[0msub2epi\u001B[0m\u001B[0;34m)\u001B[0m\u001B[0;34m-\u001B[0m\u001B[0mmin\u001B[0m\u001B[0;34m(\u001B[0m\u001B[0msub2epi\u001B[0m\u001B[0;34m)\u001B[0m\u001B[0;34m)\u001B[0m\u001B[0;34m,\u001B[0m \u001B[0;34m\"||\"\u001B[0m\u001B[0;34m,\u001B[0m \u001B[0;34m\"Episode:\"\u001B[0m\u001B[0;34m,\u001B[0m \u001B[0mlen\u001B[0m\u001B[0;34m(\u001B[0m\u001B[0mfurther_alignment\u001B[0m\u001B[0;34m[\u001B[0m\u001B[0mitem\u001B[0m\u001B[0;34m]\u001B[0m\u001B[0;34m)\u001B[0m\u001B[0;34m,\u001B[0m \u001B[0mlen\u001B[0m\u001B[0;34m(\u001B[0m\u001B[0mall_transcripts\u001B[0m\u001B[0;34m[\u001B[0m\u001B[0mitem\u001B[0m\u001B[0;34m]\u001B[0m\u001B[0;34m)\u001B[0m\u001B[0;34m,\u001B[0m  \u001B[0mlen\u001B[0m\u001B[0;34m(\u001B[0m\u001B[0mfurther_alignment\u001B[0m\u001B[0;34m[\u001B[0m\u001B[0mitem\u001B[0m\u001B[0;34m]\u001B[0m\u001B[0;34m)\u001B[0m\u001B[0;34m/\u001B[0m\u001B[0mlen\u001B[0m\u001B[0;34m(\u001B[0m\u001B[0mall_transcripts\u001B[0m\u001B[0;34m[\u001B[0m\u001B[0mitem\u001B[0m\u001B[0;34m]\u001B[0m\u001B[0;34m)\u001B[0m\u001B[0;34m*\u001B[0m\u001B[0;36m100\u001B[0m\u001B[0;34m,\u001B[0m \u001B[0mmin\u001B[0m\u001B[0;34m(\u001B[0m\u001B[0mfurther_alignment\u001B[0m\u001B[0;34m[\u001B[0m\u001B[0mitem\u001B[0m\u001B[0;34m]\u001B[0m\u001B[0;34m.\u001B[0m\u001B[0mkeys\u001B[0m\u001B[0;34m(\u001B[0m\u001B[0;34m)\u001B[0m\u001B[0;34m)\u001B[0m\u001B[0;34m)\u001B[0m\u001B[0;34m\u001B[0m\u001B[0;34m\u001B[0m\u001B[0m\n\u001B[0m\u001B[1;32m      6\u001B[0m     \u001B[0;31m# print(epi2sub)\u001B[0m\u001B[0;34m\u001B[0m\u001B[0;34m\u001B[0m\u001B[0;34m\u001B[0m\u001B[0m\n",
      "\u001B[0;31mZeroDivisionError\u001B[0m: division by zero"
     ]
    }
   ],
   "source": [
    "further_alignment = deepcopy(ultimate_data)\n",
    "for item in further_alignment:\n",
    "    epi2sub = further_alignment[item]\n",
    "    sub2epi = turn_sub2epi_into_epi2sub(further_alignment[item])\n",
    "    print(item, \"Subtitle:\", len(sub2epi), len(sub2epi)/(max(sub2epi)-min(sub2epi)), \"||\", \"Episode:\", len(further_alignment[item]), len(all_transcripts[item]),  len(further_alignment[item])/len(all_transcripts[item])*100, min(further_alignment[item].keys()))\n",
    "    # print(epi2sub)"
   ],
   "metadata": {
    "collapsed": false,
    "pycharm": {
     "name": "#%%\n"
    }
   }
  },
  {
   "cell_type": "code",
   "execution_count": 59,
   "outputs": [
    {
     "name": "stdout",
     "output_type": "stream",
     "text": [
      "(1, 1)\n",
      "{5: [207, 208], 6: [209], 7: [210, 211], 8: [212], 9: [213, 214], 10: [215], 11: [216], 12: [217], 14: [218, 219], 15: [220], 16: [221, 222, 223], 18: [224], 20: [226], 21: [227], 22: [228], 24: [229], 27: [230, 231, 232], 28: [233], 29: [234, 235], 30: [236], 31: [237, 238], 32: [239], 33: [240, 241, 242, 243], 34: [244, 245], 35: [246], 36: [247, 248, 249, 250], 38: [251, 252, 253, 254], 39: [255, 256, 257], 40: [258, 259], 41: [260], 42: [261], 43: [262, 263, 264], 44: [265], 45: [266, 267, 268, 269, 270], 46: [271], 48: [272], 49: [273, 274, 275, 276, 277, 278, 279, 280, 281, 282, 283, 284, 285], 50: [286], 51: [287], 52: [288], 53: [289, 290], 54: [291], 55: [292, 293, 294], 56: [295], 57: [296], 59: [297, 298, 299], 60: [300, 301, 302, 303, 304, 305, 306, 307], 61: [308], 62: [309, 310], 63: [311], 64: [312, 313, 314], 65: [315, 316], 66: [317, 318, 319], 67: [320], 68: [321], 69: [322, 323, 324], 70: [325, 326, 327], 71: [328, 329], 72: [330], 73: [331], 74: [332], 75: [333, 334], 76: [335], 78: [336, 337], 79: [338], 81: [339], 82: [340], 83: [341], 84: [342, 343], 85: [344], 87: [345, 346], 88: [347, 348], 89: [349, 350], 90: [351], 91: [352, 353], 92: [354, 355], 93: [356], 94: [357, 358, 359], 95: [360, 361], 98: [363, 364], 99: [365], 100: [366], 101: [367, 368], 102: [369, 370, 371, 372, 373, 374], 103: [375], 104: [376, 377], 105: [378], 106: [379], 107: [380], 108: [381, 382, 383, 384, 385], 109: [386, 387, 388, 389], 110: [390], 111: [391], 112: [392], 113: [393], 114: [394], 115: [395], 116: [396], 117: [397], 118: [398, 399], 119: [400], 120: [401], 121: [402, 403, 404], 122: [405], 124: [406], 125: [407], 126: [407], 127: [408, 409, 410], 128: [411, 412], 129: [413, 414], 130: [415], 131: [416, 417], 132: [418, 419], 133: [420], 135: [421, 422, 423, 424, 425, 426, 427], 136: [428, 429], 137: [430], 139: [431], 140: [432, 433, 434, 435, 436], 141: [437, 438, 439, 440, 441], 142: [441, 442, 443, 444, 445, 446, 447, 448, 449, 450], 143: [451], 145: [453], 146: [454], 147: [455], 148: [456], 149: [457], 150: [458, 459], 151: [460, 461, 462], 152: [463, 464], 154: [465, 466], 155: [467], 156: [468, 469], 157: [470], 158: [471], 159: [472, 473, 474, 475], 160: [476, 477, 478], 161: [479, 480, 481], 162: [482, 483, 484], 163: [485], 164: [486, 487, 488], 165: [489, 490, 491, 492], 166: [493, 494], 167: [495], 169: [496, 497], 171: [498, 499], 172: [500], 173: [501, 502], 175: [503], 176: [504], 177: [505], 178: [506], 179: [507], 180: [508, 509], 181: [510], 182: [511], 183: [512, 513], 184: [514], 186: [515, 516], 187: [517], 188: [518, 519], 189: [520], 190: [521], 191: [522, 523], 192: [524, 525], 193: [526], 194: [527], 195: [528], 196: [529, 530], 197: [531, 532], 198: [533, 534, 535, 536], 199: [537], 200: [538, 539], 201: [540], 202: [541, 542], 203: [543], 204: [544], 205: [545, 546], 206: [547, 548, 549], 207: [550], 209: [551], 210: [552], 211: [553, 554], 212: [555], 213: [556], 214: [557, 558, 559], 215: [560], 216: [561, 562], 217: [563], 218: [564, 565, 566], 219: [567], 220: [568], 221: [569, 570], 222: [571], 223: [572], 224: [573, 574, 575], 225: [576], 226: [577], 227: [578], 228: [579], 229: [580], 230: [581, 582, 583], 231: [584], 232: [585], 233: [587], 234: [588, 589], 235: [590], 236: [591], 237: [592], 238: [593], 239: [594, 595], 240: [596], 241: [597], 242: [598], 244: [599, 600, 601, 602, 603, 604, 605], 245: [606, 607], 247: [608, 609, 610, 611], 253: [612, 613, 614, 615, 616, 617], 254: [618], 256: [619], 257: [620, 621], 258: [622, 623], 259: [624], 262: [626], 263: [627, 628, 629, 630], 268: [632], 269: [633], 271: [634, 635], 273: [636, 637], 274: [638], 275: [639, 640, 641]}\n",
      "\n",
      "(1, 2)\n",
      "{9: [207], 10: [209, 210], 11: [211], 12: [212], 13: [214], 14: [215, 216, 217], 15: [218, 219], 17: [220], 18: [221, 225, 226], 20: [223], 21: [227], 22: [228, 229], 23: [231, 232, 233], 24: [234], 25: [235], 26: [236], 27: [237], 28: [238, 239], 30: [241], 31: [242], 32: [243], 33: [244], 34: [245], 35: [246, 247], 36: [248, 249], 37: [250], 38: [251], 39: [255, 256, 257, 258], 40: [259, 260], 41: [261, 262, 263], 44: [264], 46: [265], 47: [266], 48: [267, 268, 269], 49: [270], 50: [271, 272, 273, 274, 275], 51: [276], 53: [281], 54: [282], 55: [283], 56: [284, 285], 57: [286], 58: [287], 59: [288], 60: [289], 61: [290], 62: [291], 63: [292], 64: [293], 65: [294], 67: [295, 296], 68: [297], 70: [298], 71: [299], 72: [300], 73: [301], 74: [302, 303, 304], 75: [305], 76: [306], 77: [307], 78: [310, 311], 79: [315], 80: [316, 317], 81: [318], 82: [319, 320, 321], 85: [322], 86: [323], 87: [324], 88: [325], 89: [326], 90: [327, 328], 91: [329], 92: [330], 93: [331], 95: [332, 333], 96: [339, 340, 341], 97: [342, 343, 344], 98: [345], 99: [347], 100: [348], 101: [349], 102: [350], 103: [351, 352, 353, 354, 355], 104: [356, 357, 358, 359, 361], 105: [364, 365, 367], 106: [369, 370], 107: [371, 372, 373, 374, 375, 376, 377], 108: [378], 109: [379], 110: [380, 381, 382], 111: [383, 384], 112: [385], 113: [386], 115: [388, 389], 116: [390], 117: [391], 118: [395], 119: [396], 120: [397, 398], 122: [400], 123: [401], 124: [402], 125: [403], 126: [404, 405], 129: [406], 131: [407, 408], 132: [409, 410, 411, 412, 413], 133: [414, 415], 134: [416], 135: [417], 137: [418, 419, 420], 138: [421], 139: [422], 141: [423, 424], 143: [425], 144: [426], 146: [427, 428], 148: [429, 430], 149: [431], 150: [432, 433], 151: [434], 152: [435, 436], 155: [437], 156: [438], 158: [439], 159: [440, 441], 162: [443, 444], 163: [445], 164: [446], 165: [447], 166: [448], 168: [449, 450, 451, 452], 169: [453], 170: [454, 455], 171: [456], 173: [457], 174: [458], 175: [459], 176: [460, 461, 462, 463], 178: [464], 179: [465, 466, 467], 180: [468], 181: [469, 470], 182: [471], 183: [472], 184: [473], 185: [474], 186: [475, 476], 188: [477, 478], 189: [478, 479], 190: [480], 191: [481], 192: [482], 193: [483, 484], 194: [485, 486], 196: [487, 488], 198: [489, 490, 491, 492, 493, 494], 201: [495, 496, 497, 498, 499, 500], 202: [501], 204: [502], 205: [503, 504], 206: [505], 208: [506], 209: [507], 210: [508], 211: [509], 212: [510], 213: [511], 214: [512], 215: [513], 216: [514], 217: [515, 516], 219: [518, 519], 220: [520, 521, 522, 523, 524], 221: [525, 526], 222: [527], 223: [528, 529], 224: [530, 531, 532], 225: [533], 226: [534], 228: [535], 229: [536]}\n",
      "\n",
      "(1, 3)\n",
      "{56: [294], 57: [295], 58: [296], 60: [297], 62: [298], 63: [299], 64: [300], 65: [301, 302], 66: [303], 67: [304], 68: [305], 69: [306, 307], 70: [308], 71: [309, 310], 72: [312], 73: [313], 74: [314, 315], 75: [316], 76: [317], 77: [318], 78: [319], 79: [320], 81: [322, 323, 324], 82: [325, 326, 327], 83: [328], 84: [329, 330, 333], 85: [335], 86: [336], 87: [337], 88: [338, 339], 89: [340], 90: [341], 92: [342, 343, 344, 345, 346], 93: [347], 94: [348, 349], 95: [350], 96: [351], 97: [357, 358], 98: [359], 101: [360], 102: [361, 362, 363], 104: [365, 366, 367, 368], 106: [369], 108: [372], 110: [373, 374], 111: [375], 112: [376], 113: [377, 378, 379], 114: [380, 381], 115: [382, 383], 116: [384], 117: [385, 386], 118: [387, 388], 120: [389], 122: [390], 123: [391], 124: [392], 125: [393, 394], 127: [395, 396, 397], 128: [398], 129: [399], 130: [400, 401], 131: [402], 133: [404], 134: [405], 135: [406], 136: [407], 137: [408], 138: [409], 139: [410], 140: [411, 412], 141: [413], 142: [414], 143: [415], 144: [416], 146: [417], 147: [418], 155: [419, 423, 426], 156: [427], 159: [428], 161: [429, 430], 162: [431], 163: [432], 165: [433, 434], 166: [435], 167: [436], 168: [437], 169: [438, 439, 440, 441, 442, 443, 444], 171: [445], 172: [446, 447], 173: [448], 174: [449], 175: [450], 176: [451], 177: [452], 178: [453], 179: [454], 181: [455], 182: [456, 457], 183: [458, 459, 460, 461], 184: [462, 463], 185: [464], 187: [465, 466, 467], 189: [468, 469], 190: [470, 471], 191: [472], 192: [473, 474, 475, 476, 477, 478, 479, 480], 193: [481], 194: [482], 195: [483], 196: [485, 486], 197: [487], 198: [488], 199: [489, 490, 491], 200: [492], 203: [494], 204: [495], 205: [496], 206: [497], 209: [499, 500], 210: [501], 211: [502], 212: [503], 217: [504], 218: [505, 506], 219: [507], 220: [508], 221: [509, 510, 511, 512, 513], 222: [514], 223: [515, 516], 224: [517], 225: [518, 519], 226: [520], 227: [521], 228: [522], 229: [523], 230: [524, 525], 232: [526], 233: [527, 528], 234: [529], 235: [530], 236: [531]}\n",
      "\n",
      "(1, 4)\n",
      "{3: [204], 4: [205], 6: [206, 207], 7: [208], 9: [209], 10: [210], 11: [211, 212], 12: [215], 13: [216], 14: [221], 15: [223], 16: [224], 17: [225], 18: [226], 20: [227, 228, 229], 21: [230], 23: [232, 233], 25: [235, 236], 26: [237], 27: [238], 28: [239], 29: [240], 30: [241], 31: [242], 32: [243], 33: [244], 35: [245], 36: [246, 247], 37: [248, 249, 250, 251, 252, 253], 38: [254], 39: [255, 256], 40: [257], 41: [258], 42: [259], 43: [260, 261], 44: [262], 45: [263, 264], 46: [265, 266], 47: [267], 49: [269, 270, 271, 272, 273], 50: [274], 51: [275], 52: [276], 54: [278], 56: [279, 280], 57: [281], 58: [282], 59: [283], 60: [284], 61: [285], 62: [286], 63: [287], 64: [288], 65: [292], 66: [293], 67: [294], 68: [295], 69: [296], 70: [297, 298], 71: [299], 72: [300, 302, 303, 304], 74: [306], 75: [307], 76: [308], 77: [309], 78: [310], 79: [311], 80: [312, 313], 81: [314, 315], 82: [316], 83: [317], 84: [318], 86: [319], 87: [320, 322], 88: [321], 89: [323, 324, 325], 91: [326, 327, 328, 329, 330], 92: [331], 93: [332, 333], 95: [334], 97: [335, 336], 98: [337, 338], 99: [339], 100: [340], 101: [341, 342], 102: [343], 103: [344, 345], 104: [346, 347, 348, 349, 350, 351, 352], 105: [353], 106: [354, 355], 107: [356], 108: [357, 358, 359], 109: [360, 361, 362], 110: [363], 111: [364], 112: [365, 366], 113: [367], 114: [368], 115: [369], 116: [370], 117: [371, 372, 373], 118: [374, 375], 119: [376], 120: [377, 378], 123: [380, 381], 124: [382], 125: [383], 126: [384], 127: [385], 128: [386, 387], 129: [388, 389, 390], 130: [391], 131: [392], 134: [395], 136: [396, 397], 137: [399], 138: [400], 139: [401, 402], 140: [403], 141: [404], 142: [405], 143: [406], 144: [407], 145: [408], 146: [409], 147: [410], 148: [411], 149: [412], 150: [413], 151: [414], 152: [415], 153: [416, 417, 418], 154: [419, 420], 155: [421], 156: [422], 157: [424], 158: [425], 159: [426], 160: [427], 161: [428], 162: [429], 163: [430], 164: [431, 432], 165: [433], 167: [435], 168: [436], 169: [437], 170: [438, 439], 171: [440, 441, 442], 172: [443], 173: [444], 174: [445], 175: [446], 176: [447, 448, 449], 177: [450, 451, 452, 453, 454, 458], 178: [464], 180: [465], 181: [466], 183: [467], 184: [468], 186: [469, 470, 471, 485], 187: [486, 492], 188: [493, 494], 189: [495, 496, 497, 498], 190: [499], 191: [500], 192: [501, 502], 193: [503], 196: [505], 197: [506], 198: [507], 199: [508, 509], 200: [510, 511], 202: [512], 203: [513], 204: [514], 205: [515], 206: [516], 208: [518], 209: [519, 520], 211: [521, 522], 212: [523], 213: [524], 214: [525], 216: [526, 527], 217: [528], 218: [529], 219: [530, 531], 220: [532], 221: [533, 534], 222: [535], 223: [536], 224: [538], 226: [539], 227: [540, 541, 542], 228: [542, 543, 544, 545], 229: [546, 547], 230: [548], 231: [549]}\n",
      "\n",
      "(1, 5)\n",
      "{2: [200], 3: [201, 202], 4: [203, 204, 205, 206], 5: [207], 7: [210, 211, 212], 8: [213], 9: [214], 10: [215], 11: [216], 12: [217, 218, 219], 13: [220, 221, 222, 223, 224], 14: [226, 227], 15: [228], 16: [229], 19: [231], 20: [232, 233], 21: [234], 22: [235, 236], 23: [237], 24: [238], 25: [239], 26: [240, 241, 242], 27: [243], 29: [245], 31: [246], 33: [248], 34: [249], 35: [250, 251, 252, 253, 254, 255], 36: [256], 38: [257], 39: [258], 40: [259], 41: [260], 42: [261, 262, 263], 44: [264, 265, 266, 267], 45: [268], 46: [269, 270, 271, 272, 273], 48: [274, 275], 49: [275, 276], 50: [277, 278], 51: [279, 280], 52: [281], 54: [282], 55: [283, 284, 285], 56: [286], 57: [287], 58: [288], 59: [289], 60: [290, 291, 292], 61: [293], 63: [294], 64: [295, 296], 65: [297], 66: [298, 299, 300, 301, 302, 303], 68: [304, 305, 306, 307, 308], 69: [309], 70: [310, 311, 312, 314], 73: [316, 317], 74: [318, 319], 76: [320], 77: [321, 322, 323, 324], 78: [325], 79: [326, 327], 81: [328], 82: [329], 83: [330], 84: [331], 85: [332], 86: [333], 87: [334, 335], 89: [336], 90: [337], 91: [338], 92: [339], 93: [340], 94: [341], 95: [342, 343], 96: [344, 345], 97: [346, 347, 348, 349, 350, 351], 100: [352], 103: [353, 354, 355, 356, 357, 358], 105: [359], 106: [360], 107: [361], 108: [362], 109: [363], 110: [364], 112: [366, 372], 111: [371], 113: [373], 114: [374], 115: [375, 376], 117: [377], 119: [378], 120: [379], 121: [380], 123: [381], 124: [382, 383], 125: [384], 126: [385], 127: [386, 387, 388], 128: [389], 129: [390, 391], 132: [392, 393, 394, 395, 396], 133: [397, 398], 134: [399], 135: [400, 401], 136: [402, 403, 404, 405, 406], 137: [407, 408], 138: [409], 139: [410, 411], 140: [412], 141: [413], 142: [414], 143: [415], 144: [416], 145: [417, 418], 146: [419], 147: [420], 148: [421, 422, 423, 424], 149: [425], 150: [426], 151: [427], 152: [428, 429, 430, 431], 153: [432], 154: [433], 155: [434], 156: [435, 436], 157: [437], 159: [438, 439], 160: [440, 441, 442], 161: [443, 444], 162: [449, 450, 452, 453], 163: [454, 455, 456], 165: [457, 458, 459, 460, 461, 462], 166: [463], 167: [464], 168: [465], 169: [466], 170: [467], 171: [468, 469], 172: [470, 471, 472, 473, 474], 173: [475, 476, 477, 478], 174: [479], 175: [480], 176: [481, 482], 177: [483, 484], 178: [485], 179: [486], 180: [487, 488], 181: [489], 182: [490], 183: [491, 492], 187: [494, 495], 188: [496], 189: [497, 498], 190: [499, 500], 191: [501], 192: [502, 503], 194: [504], 195: [505], 196: [506, 507], 197: [508], 198: [509], 199: [510], 202: [512], 204: [514], 205: [515], 206: [516], 207: [517], 208: [518], 209: [519, 520], 210: [521], 211: [522, 523], 212: [524], 213: [525], 214: [526], 216: [528], 217: [529], 218: [530, 531], 219: [532], 220: [533, 534], 221: [535], 223: [536], 224: [537], 226: [538], 228: [539], 229: [540], 230: [541]}\n",
      "\n",
      "(1, 6)\n",
      "{49: [310, 311], 50: [312, 313], 51: [314], 52: [315], 53: [316], 54: [317], 55: [317], 58: [318], 61: [321], 62: [322], 63: [323, 324], 64: [325], 65: [326], 67: [327], 68: [328], 70: [329], 71: [330, 331, 332, 333], 72: [334, 335], 73: [336, 337, 338], 74: [339, 340], 75: [341, 342], 76: [343], 77: [344], 78: [345], 79: [346, 351], 80: [354, 355], 81: [356, 357], 82: [358], 84: [361], 86: [362], 87: [363, 364], 88: [366], 90: [369], 91: [370], 93: [371], 94: [372, 373], 95: [374, 375, 376, 377, 378, 379], 96: [380], 97: [381], 98: [382], 99: [383, 384, 385], 100: [386], 101: [387], 102: [388, 389], 103: [390, 391, 392], 104: [393], 105: [394, 395], 106: [396], 107: [397, 398, 399], 108: [400, 401], 109: [403, 404], 110: [405], 111: [406], 113: [407, 408, 409], 115: [410], 116: [411, 412, 413, 414], 117: [415], 118: [416], 119: [417], 121: [418], 122: [419, 420, 421], 124: [422, 423], 125: [424, 425], 126: [426, 427], 127: [428, 429], 129: [430], 130: [431], 131: [432], 132: [433, 435, 436], 134: [437], 135: [438, 439], 136: [440], 138: [441], 139: [442, 444], 140: [445], 141: [446], 142: [447], 143: [448, 449, 450, 451, 452, 453], 144: [454, 455], 145: [459], 146: [460], 147: [462], 150: [463, 464], 151: [465, 466, 467, 468], 152: [469, 470], 153: [471], 154: [472], 155: [473, 474, 475], 156: [476, 477, 478, 479], 157: [480, 481], 158: [482], 160: [483, 484], 161: [485], 162: [486], 164: [487], 165: [488, 489], 166: [490], 167: [491], 168: [492], 169: [493], 170: [494, 495], 171: [496], 172: [497], 173: [498], 174: [499], 175: [500], 176: [501], 177: [502, 503], 179: [503, 504], 180: [505], 182: [507], 183: [508], 184: [509], 185: [510, 511, 512], 186: [513, 514, 515, 516], 187: [517], 188: [518], 190: [519], 191: [521], 192: [522], 193: [523, 524, 525, 526], 195: [528], 197: [529, 530], 199: [530, 531], 200: [532], 202: [533, 534, 535], 203: [536, 537], 204: [538], 206: [540], 207: [541], 208: [542, 543], 209: [544], 210: [545, 546, 547, 548, 549], 211: [550], 212: [551], 214: [552], 216: [553], 217: [554, 555], 218: [556], 219: [557]}\n",
      "\n",
      "(1, 7)\n",
      "{12: [229], 13: [230], 14: [231, 232], 15: [233, 234, 235, 236], 16: [237], 17: [238], 18: [239, 240], 19: [241], 20: [242], 21: [243, 244, 245, 246], 22: [247], 23: [248], 24: [261], 25: [262, 263], 26: [264], 28: [266], 29: [267, 268, 269], 32: [270], 33: [271], 34: [272], 36: [273, 274, 275, 276], 37: [277], 39: [278, 280, 281], 41: [282], 42: [283], 43: [284], 44: [285], 45: [286], 47: [287, 288, 289], 48: [290], 49: [291, 292], 50: [294], 51: [295], 52: [296], 54: [299], 55: [300], 56: [301], 57: [306, 307], 58: [308], 59: [309], 60: [310], 61: [311], 62: [312], 63: [313], 64: [314, 315], 65: [316], 66: [317, 318, 319, 320], 67: [321], 68: [322], 70: [323], 73: [324], 75: [325], 76: [326], 77: [327], 78: [328], 80: [329], 81: [330], 82: [331], 83: [332, 333, 334], 84: [335, 336, 337, 338, 339, 340, 341, 342], 85: [343, 344], 86: [345, 346, 347, 348], 89: [349, 350, 351, 352], 91: [353], 93: [354], 96: [356, 357, 358, 359], 97: [360, 361, 362, 363], 98: [364], 101: [366], 102: [367], 103: [368], 104: [369, 370], 106: [371], 108: [372], 109: [373], 110: [374], 111: [375], 112: [376], 113: [377], 114: [378], 116: [379], 117: [380], 118: [381], 120: [382], 121: [383], 122: [384], 123: [385], 124: [386], 125: [387], 126: [388], 127: [389, 390, 391, 392], 128: [400], 129: [401, 402, 403], 131: [404, 405], 133: [406], 134: [407], 136: [408, 409], 137: [411], 138: [412], 139: [413], 140: [414], 141: [415, 416], 143: [419, 420, 421, 422], 144: [423], 145: [424], 146: [425], 147: [426], 148: [427], 149: [428], 152: [429, 430, 431], 153: [432], 154: [433], 155: [434, 435, 436], 156: [439], 158: [444, 445, 446], 159: [447], 160: [448], 162: [449], 163: [450], 164: [451], 165: [452], 166: [453], 167: [454, 455], 168: [456], 169: [457], 170: [458], 171: [459], 172: [460, 461], 173: [462], 174: [463], 175: [464, 465, 466], 176: [467, 468, 469], 177: [470, 471, 472, 473], 179: [474, 475], 180: [476, 477, 478], 181: [479], 183: [480, 481], 184: [482], 185: [483], 186: [484, 485], 187: [486], 188: [487, 488], 189: [489], 190: [490, 491], 191: [492], 192: [493], 193: [494], 194: [495, 496, 497, 498, 499, 500], 196: [501], 198: [502, 503, 504, 505, 506, 507, 508], 200: [509, 510, 511], 204: [512, 513], 206: [514], 208: [515, 516], 209: [517, 518, 519], 212: [520], 213: [521], 218: [524], 220: [525]}\n",
      "\n",
      "(1, 8)\n",
      "{12: [222], 13: [223], 14: [224], 15: [225], 16: [226, 227], 17: [228, 229], 18: [230, 231], 19: [232, 233], 21: [235], 22: [236], 23: [237], 26: [240, 241, 242], 27: [247], 28: [248], 29: [249, 250], 30: [251, 252], 31: [253, 254, 256], 32: [255, 257], 33: [258], 35: [260, 261, 262], 37: [263], 38: [264], 39: [265], 40: [266], 41: [267, 268, 269], 42: [270], 43: [271], 44: [272, 273, 274, 275], 45: [276], 46: [277], 47: [278], 49: [279], 50: [284], 51: [285], 54: [286, 287, 288], 56: [289], 58: [290], 59: [290], 60: [291], 61: [292], 62: [293], 63: [294], 64: [295, 296], 65: [297], 66: [298], 67: [299], 68: [300], 70: [301], 71: [302], 72: [303, 304], 73: [305], 74: [306], 75: [307, 308], 76: [309, 310, 311, 312, 313, 316], 77: [314, 315], 79: [317, 318], 80: [319, 320, 321], 82: [332], 83: [333], 84: [334], 85: [335], 86: [336], 87: [337, 338], 88: [339], 89: [340], 90: [341], 91: [342], 92: [343], 93: [344], 94: [345], 95: [346, 347], 96: [348], 97: [349], 98: [350], 99: [351], 100: [352], 101: [353], 102: [354], 103: [356], 104: [358], 105: [359, 360], 106: [360, 361], 107: [362, 363], 108: [364, 365], 109: [366], 110: [368], 111: [369], 112: [370, 371, 372], 113: [373], 115: [374, 375], 116: [376], 117: [377], 118: [378], 119: [379], 120: [380], 121: [381], 122: [382], 123: [383], 124: [384, 385], 125: [386], 126: [387], 127: [388, 389], 129: [390], 130: [391], 131: [392], 132: [393, 394], 133: [395], 135: [397], 136: [398], 138: [399], 139: [400], 140: [401], 141: [402, 403], 142: [404], 143: [405], 144: [406, 407], 146: [408], 147: [409], 148: [410], 149: [411], 150: [412], 151: [413], 152: [414], 153: [415, 416], 154: [417, 418], 156: [421], 157: [422], 159: [423], 161: [424], 162: [425], 164: [427, 428], 165: [429], 166: [430, 431], 167: [432, 433], 168: [434], 169: [435, 436, 437], 170: [438], 173: [440, 441], 175: [442, 443], 179: [445], 181: [447], 182: [448], 183: [449], 184: [450], 185: [451], 186: [452], 187: [453], 188: [454, 455, 456], 189: [457], 190: [458], 191: [459], 192: [460], 193: [461, 462, 463], 194: [464], 195: [465, 466], 196: [467], 197: [468], 198: [469, 470], 200: [471], 201: [472], 202: [473], 203: [474], 204: [475], 205: [476, 477], 206: [480], 207: [481], 208: [482], 209: [483, 484], 210: [485], 211: [486], 212: [487, 488, 489], 213: [490], 214: [491], 215: [493], 216: [495], 217: [497, 498], 218: [499], 220: [501], 221: [502], 222: [503, 504], 223: [505], 226: [506], 227: [507], 228: [508], 229: [509, 510, 511], 231: [512], 232: [513, 514, 515]}\n",
      "\n",
      "(1, 9)\n",
      "{4: [209, 210, 211, 213], 5: [215, 216, 217], 7: [218, 219, 220], 8: [221], 9: [222], 10: [223], 11: [224, 225], 12: [226], 13: [227], 14: [228], 15: [229, 230], 19: [232, 233], 20: [234, 235], 21: [236], 22: [237], 23: [238], 24: [239], 25: [240], 27: [242, 243], 29: [244, 245], 30: [246, 247], 31: [248], 32: [249, 250], 34: [251], 35: [252], 36: [253], 37: [254, 255], 38: [256], 39: [257, 258], 40: [259], 41: [260], 42: [262], 44: [264], 45: [265], 46: [266], 47: [267], 48: [268], 49: [269, 270, 271], 50: [272], 51: [273], 52: [274], 53: [275, 276], 54: [277], 55: [278, 279], 56: [280], 57: [281], 58: [282, 283], 59: [284], 60: [285, 286], 61: [287, 288, 289, 290], 65: [291], 66: [292, 293], 67: [294, 295, 296, 297, 298], 68: [299, 300], 69: [301], 70: [302, 303], 71: [304], 72: [306], 73: [307], 74: [308], 85: [309, 310, 311, 312, 313, 314, 315, 316, 317, 318, 319, 320, 321, 322, 323, 324], 86: [325, 326, 327], 87: [333], 88: [334], 89: [335, 336, 337, 338], 90: [339], 91: [340], 92: [341], 93: [342, 343], 94: [344], 95: [345, 346], 96: [347], 97: [348], 99: [350], 100: [351], 101: [352], 102: [353], 103: [354], 104: [355], 105: [356], 106: [357, 358], 107: [359], 108: [360], 109: [361, 362], 110: [363], 111: [364, 365], 113: [366, 367], 114: [368], 115: [369], 116: [370], 117: [371], 118: [372], 119: [373], 120: [374], 121: [375], 122: [376, 377, 378, 379], 123: [380, 381], 126: [383], 127: [384], 128: [385, 386], 129: [387, 388], 130: [389], 131: [390], 132: [391], 133: [392, 393], 136: [395, 396, 397, 398, 399, 400, 401, 402], 137: [403], 138: [404], 139: [405], 140: [406], 141: [407], 142: [408], 143: [409, 410, 411], 144: [412], 145: [413, 414, 415, 416], 146: [417], 147: [418, 419], 148: [420], 149: [421, 422], 150: [423, 424], 151: [425, 426], 152: [427], 153: [428, 429], 154: [430, 431], 155: [432], 156: [433], 157: [434], 158: [435], 159: [436], 160: [437], 161: [438], 162: [439], 163: [440], 164: [441, 442, 443, 444], 165: [445], 166: [446, 447], 168: [448, 449, 450, 451, 452], 170: [453], 171: [454], 172: [455], 173: [456, 457], 175: [460], 177: [468], 178: [469], 179: [470], 180: [471], 181: [472, 473], 182: [474], 183: [475, 476], 184: [477], 185: [478], 186: [479], 187: [480], 188: [481], 189: [482], 190: [483], 191: [484, 485, 486, 487, 488, 489, 490, 491], 192: [492, 493], 193: [495, 496], 194: [497, 498, 499], 195: [500, 501, 502, 503], 196: [507], 197: [508], 198: [509, 510], 199: [511], 200: [513], 201: [514], 204: [515, 519, 520, 521, 522, 523, 524], 205: [525, 526], 206: [527], 207: [528], 208: [529], 209: [530], 210: [532], 211: [533], 212: [534], 214: [535, 536], 215: [536], 216: [537, 538, 539, 540], 217: [540], 218: [541, 542, 543, 544, 545]}\n",
      "\n",
      "(1, 10)\n",
      "{40: [258], 43: [259, 260, 261, 262, 263], 45: [264, 265], 47: [266, 267], 48: [268], 49: [269], 50: [270], 51: [271, 272, 273], 52: [274], 53: [275], 54: [276], 55: [277, 278], 57: [279, 280, 281, 282, 283], 58: [284, 285], 59: [286], 60: [287], 62: [288, 289], 63: [290], 64: [291], 65: [292], 66: [293], 67: [294, 295], 68: [296], 70: [298], 71: [299], 72: [300], 73: [301, 302, 303, 304], 74: [305], 75: [306, 307, 308], 76: [309], 77: [310, 311, 312], 78: [313], 79: [314], 81: [315, 316, 317], 83: [318, 319, 320], 84: [321, 322], 86: [323, 324], 88: [325, 326], 89: [327, 328, 329], 90: [330, 331], 91: [332], 92: [333], 93: [334], 94: [335, 336], 95: [337], 97: [338], 98: [339], 99: [340, 341], 101: [342], 102: [343], 103: [344], 105: [345], 107: [346], 108: [347, 348], 109: [349], 110: [350], 112: [352], 113: [353, 354, 355], 114: [356], 116: [357, 358], 117: [359], 118: [360], 120: [361, 362], 121: [363], 122: [364], 123: [365], 124: [366], 125: [367, 368], 127: [368, 369], 128: [370], 129: [371], 130: [373], 132: [375], 135: [376], 136: [377, 378], 137: [379], 138: [380, 381], 139: [382, 383], 141: [385], 142: [386, 387, 388, 389, 390], 143: [391], 146: [392], 151: [394], 154: [395], 155: [396], 156: [397, 398], 157: [399], 158: [400], 160: [402, 411, 412], 161: [413, 414], 162: [415], 163: [416], 164: [417], 165: [418, 419], 166: [420], 167: [421, 422], 168: [423], 169: [424, 425, 426], 170: [427, 428], 171: [429, 430], 172: [431], 173: [432, 433, 434, 435, 436, 437, 438, 439, 446, 447, 449, 452, 453], 174: [455, 456], 175: [457], 178: [459], 179: [460, 461], 180: [462], 181: [463, 464], 182: [465], 184: [466, 467, 468, 469, 470, 471, 472], 185: [473, 474], 186: [475, 476], 187: [485], 188: [486, 487, 488], 189: [489], 190: [490], 191: [491, 492], 192: [493], 193: [494], 194: [495, 496], 195: [497], 196: [498, 499], 197: [500], 198: [501], 199: [502], 200: [503], 201: [504, 505], 202: [506, 507], 203: [508, 510, 511, 512, 513, 514, 515, 516, 517], 205: [518, 519, 520, 521], 207: [522, 523], 208: [524, 525], 210: [528, 529], 211: [530], 212: [531, 532], 213: [534], 216: [535], 217: [536], 218: [537], 219: [538], 220: [539, 541], 221: [542, 543], 222: [544], 223: [545], 224: [546], 225: [547], 226: [548], 227: [549, 550, 551], 229: [553, 554, 555, 556, 557, 558], 230: [559]}\n",
      "\n",
      "(1, 11)\n",
      "{0: [200], 2: [201], 3: [202, 203], 4: [204], 5: [205], 6: [206], 8: [207], 10: [209], 13: [210, 211, 212], 15: [213], 16: [217, 218, 219], 17: [220, 221, 222, 223], 18: [224], 19: [225], 20: [226, 227, 228, 229, 230, 231, 232], 21: [233], 22: [234, 235], 23: [236], 24: [237], 26: [239], 27: [240], 28: [241], 29: [242, 243], 30: [244], 31: [245, 246], 32: [247], 33: [248], 34: [249], 35: [250, 251], 36: [252, 253], 37: [254, 255], 38: [257, 258], 39: [259, 260], 42: [261], 43: [262], 44: [263], 45: [264, 265, 266], 46: [267], 47: [268], 48: [269], 49: [270], 50: [271], 51: [272], 52: [273], 54: [274], 55: [275], 56: [279], 57: [280, 281], 59: [282, 283], 60: [284, 285], 61: [286, 287], 62: [288], 63: [289, 290, 291], 64: [292, 293], 65: [294], 66: [295], 67: [296], 68: [297], 69: [298], 70: [299], 71: [300], 72: [301, 302], 73: [303, 304, 305, 306, 307], 74: [308], 75: [309], 79: [312], 80: [313, 314], 81: [315], 82: [316], 83: [318, 319], 84: [320, 321], 85: [322], 86: [323], 88: [325], 89: [326], 90: [327], 91: [328, 329], 92: [330], 93: [331], 94: [332], 95: [333], 96: [334], 97: [335, 336, 337, 338, 339], 99: [340, 341], 100: [342], 101: [343], 103: [346, 347], 105: [349], 107: [350], 108: [351], 110: [353, 354], 111: [355], 113: [356, 357], 114: [358], 115: [359, 360, 361], 116: [362], 117: [363, 364], 118: [365], 119: [366, 367], 120: [368], 121: [369], 122: [370], 123: [371], 124: [372, 373], 125: [374], 126: [375], 127: [376, 377], 128: [378], 131: [379], 132: [380], 133: [381], 134: [382], 135: [383], 136: [384], 138: [385], 139: [386], 140: [387], 141: [388], 143: [389], 144: [390], 145: [391], 148: [392], 149: [393], 150: [394, 395, 396], 151: [397, 398], 152: [399], 153: [400, 401], 155: [402], 156: [403], 157: [404, 405, 406, 407, 408], 159: [409, 410, 411], 160: [412], 161: [413], 162: [414], 163: [415], 164: [416], 165: [417], 166: [418], 167: [420], 169: [421], 170: [422], 171: [423], 172: [424], 174: [425], 175: [426], 179: [427], 180: [428, 429], 181: [430, 431], 186: [432], 187: [433, 434], 189: [435], 190: [436, 437], 191: [438], 192: [439, 440], 193: [441], 194: [442], 195: [443], 196: [444], 197: [445, 446, 447, 448], 198: [449], 199: [450], 201: [452], 202: [453, 454], 203: [455], 204: [456, 457], 205: [458, 459], 206: [460], 207: [461, 462], 208: [463], 209: [464], 210: [465], 211: [466], 212: [467, 468, 469, 470], 214: [472], 215: [473], 216: [474], 218: [476], 220: [477], 221: [478], 222: [479], 223: [480], 224: [481], 225: [482], 226: [483], 227: [484], 228: [485], 230: [486], 231: [487], 232: [488], 234: [489], 235: [490], 236: [491, 492, 493, 494], 238: [495], 239: [496, 497, 498, 499, 500], 240: [501, 502], 241: [503, 504, 505, 506, 507], 242: [508], 244: [510, 511], 245: [512], 247: [513, 514, 515, 516, 517, 518], 249: [519], 250: [520], 251: [521], 252: [522], 254: [523, 524], 255: [525, 526], 256: [527], 257: [529], 258: [530, 531], 260: [532, 533, 534, 535, 536], 264: [539], 265: [540], 266: [541], 268: [542], 269: [543, 544], 270: [545], 271: [546, 547], 273: [549], 274: [550, 551, 552], 275: [553]}\n",
      "\n",
      "(1, 12)\n",
      "{2: [201], 3: [202], 4: [203, 204], 5: [205], 7: [206, 207, 208, 209], 8: [210, 211, 212], 10: [213, 214, 215], 11: [216, 217], 12: [219], 14: [220], 15: [221], 16: [222], 17: [223], 18: [224], 19: [225], 20: [226, 227], 21: [228, 229, 230], 22: [231, 232, 233, 237], 23: [238], 24: [239], 25: [240], 26: [241], 27: [242], 28: [243, 244], 29: [245, 246], 30: [247], 31: [250], 32: [251], 33: [252], 34: [253], 35: [254], 36: [255], 37: [256], 38: [257, 258], 39: [258, 259, 260], 40: [261], 41: [262], 42: [263], 43: [264, 265, 266], 44: [267], 46: [268, 269], 47: [270], 48: [271, 272], 49: [273], 50: [274], 51: [275], 53: [276], 55: [277, 278], 56: [279], 57: [280], 58: [281], 60: [282], 61: [283], 62: [284], 63: [285, 286, 287], 64: [288], 65: [289], 66: [290], 67: [291], 68: [292], 69: [293], 71: [294], 72: [295], 73: [296], 76: [297, 298, 299], 77: [300], 78: [301], 79: [302], 80: [303], 81: [304], 82: [305, 306, 307], 84: [308, 309], 86: [310], 87: [311], 88: [312], 89: [313], 90: [314, 316], 91: [315], 92: [317, 318, 319], 93: [320], 94: [321], 95: [322], 96: [323], 97: [324], 98: [325], 99: [326], 100: [327, 328], 105: [329], 106: [332], 107: [333], 108: [334], 111: [335], 112: [336], 113: [337], 114: [338], 115: [339], 116: [340], 117: [341], 120: [343], 121: [344, 345], 122: [346], 123: [347], 130: [348, 349, 350, 351, 352, 353, 354, 355], 131: [356, 357, 358], 133: [359], 134: [360], 135: [361], 136: [362, 363], 137: [364], 138: [365, 366], 139: [367], 140: [368], 141: [369], 142: [370], 143: [371], 144: [372], 145: [373, 374, 376], 147: [375], 148: [377], 149: [380, 381], 150: [382], 151: [383, 384], 154: [385, 386, 387, 388, 389], 155: [390, 391, 392], 156: [393], 157: [394], 158: [395], 159: [396], 160: [397], 161: [398], 162: [399], 164: [400], 165: [401], 166: [402, 403, 404], 168: [405], 169: [406, 407, 408], 170: [409, 410, 411, 412], 171: [413, 414, 415], 172: [417], 173: [418, 419, 420, 421], 174: [422], 175: [423, 424, 425], 177: [426, 427], 179: [428], 181: [429], 182: [430], 183: [431, 432], 184: [433, 434, 435, 436], 185: [437], 186: [438], 188: [439], 189: [440, 441], 190: [442, 443], 191: [444, 445, 446, 447], 192: [449], 193: [450], 194: [451], 195: [452, 453, 454], 196: [455], 197: [456, 457, 458], 198: [459, 460, 461, 462, 463], 200: [465, 467], 201: [468, 469, 470, 471], 203: [472], 204: [473], 205: [474], 207: [475], 208: [476], 209: [477, 478], 210: [479], 211: [480], 215: [481], 216: [487, 488]}\n",
      "\n",
      "(1, 13)\n",
      "{5: [200], 6: [201], 7: [202, 203], 9: [205, 206], 10: [207], 12: [208], 13: [209, 210], 14: [211], 15: [212], 16: [213], 17: [214, 215], 18: [216], 19: [217], 20: [219], 21: [220], 22: [221], 24: [222], 25: [223], 26: [224], 27: [225], 28: [226], 29: [227], 30: [228], 31: [232, 233], 32: [234, 235, 236], 33: [237, 238], 34: [239, 240, 241], 35: [242, 243], 36: [244], 38: [245, 246, 247], 39: [248], 40: [249], 41: [250, 251], 43: [252], 44: [253, 254, 255], 45: [256], 47: [257], 48: [258], 49: [259], 51: [260, 261, 262], 52: [263, 264], 53: [266, 267], 54: [268, 269], 55: [270], 56: [271], 57: [272], 58: [273, 279], 60: [280, 281], 61: [282], 62: [283], 63: [284], 64: [285], 65: [286, 287, 288, 289, 290, 291, 292], 66: [294, 295, 296, 297], 68: [298], 69: [299, 300], 70: [301], 71: [302, 303], 72: [304], 74: [305], 75: [306], 77: [307], 78: [308], 80: [309, 310], 81: [311, 312, 313], 82: [314], 83: [315], 84: [316], 85: [317, 318], 86: [319, 320], 87: [321, 322], 88: [323], 89: [324], 90: [325], 91: [326], 92: [327], 93: [329], 94: [330, 331], 95: [333, 334], 96: [335], 97: [336], 98: [337], 100: [338, 339, 340], 103: [342], 104: [343], 105: [344], 106: [345], 107: [346, 347, 348, 349], 108: [350], 109: [351, 352, 353, 354], 110: [355], 111: [356], 112: [357, 358], 113: [359], 116: [360], 117: [361, 362], 119: [363], 120: [364, 365], 121: [366], 122: [367], 124: [368], 125: [368], 126: [369], 127: [370], 128: [371, 372], 129: [373], 130: [374, 375], 131: [376], 132: [377, 378], 133: [382], 134: [383, 384], 135: [385, 386], 137: [387], 138: [388], 139: [389], 141: [390, 391], 142: [392, 393], 143: [394, 395], 144: [396], 145: [397], 146: [398], 147: [399, 400, 401], 148: [402, 403], 149: [404, 405], 150: [406, 407, 408], 151: [409], 152: [410], 153: [411], 154: [412], 156: [414], 157: [415], 159: [416, 417, 418], 160: [419], 162: [420], 164: [421], 166: [422], 167: [423], 168: [424, 425], 170: [427], 171: [428], 172: [429], 174: [430], 175: [431], 178: [432], 179: [433, 434], 180: [435], 181: [436], 182: [438], 183: [439], 184: [440, 441], 186: [442], 187: [443], 188: [444], 190: [445], 191: [446], 192: [447], 193: [448, 449, 450, 451], 194: [452], 195: [453, 454, 455, 456, 457], 196: [458], 197: [459, 460, 461, 462], 198: [463, 464], 199: [465, 466, 467, 468, 469], 201: [471, 472, 473], 202: [474, 475], 203: [476, 477], 204: [478], 205: [479, 480], 206: [481], 207: [485], 209: [486], 210: [488, 489, 490], 212: [491, 492, 493, 494], 214: [495], 215: [496], 216: [497], 217: [498], 218: [499], 219: [500, 501, 502, 503], 220: [504], 221: [505, 506, 507, 508, 509], 223: [510], 225: [512, 513, 514, 515], 226: [516], 227: [517], 229: [518], 231: [519], 233: [520], 236: [521, 523, 524, 525, 526], 235: [522], 237: [527, 528], 238: [529, 530], 239: [531]}\n",
      "\n",
      "(1, 14)\n",
      "{28: [233], 29: [234], 30: [235, 236], 31: [237], 32: [238, 239, 240], 33: [241, 242, 243], 34: [244], 35: [245, 246, 247, 248, 249], 37: [250], 38: [251], 39: [252], 40: [253, 254, 255], 41: [255, 256], 42: [257, 258, 259], 43: [260, 261], 44: [262], 46: [263, 264, 265], 47: [266, 267, 268, 269], 48: [270], 49: [271], 50: [272], 51: [273], 52: [274, 275, 276], 53: [277], 54: [278, 279], 55: [280], 56: [281], 58: [282, 283], 59: [284], 61: [285], 62: [286, 287], 63: [288, 289], 64: [290], 65: [291, 292], 66: [293], 67: [294], 68: [295], 69: [296], 70: [297], 71: [298, 299, 300], 72: [301], 73: [302], 74: [303], 75: [304], 76: [305], 79: [307], 80: [308], 81: [309], 82: [310], 83: [311, 312, 313, 314], 85: [316, 317], 87: [318, 319, 320], 88: [321], 89: [322, 323], 90: [324, 325], 91: [326], 92: [327, 328], 94: [329], 95: [330], 96: [331], 97: [332, 333], 98: [333, 334], 100: [335], 102: [336], 103: [337, 338], 104: [339, 340], 105: [342], 106: [343], 107: [344, 347], 108: [348], 109: [349], 110: [350], 111: [351], 112: [352], 113: [353, 354], 114: [355], 115: [356], 116: [357, 358], 117: [359], 118: [360], 119: [361], 120: [362, 363], 121: [364], 122: [365], 123: [366], 126: [371], 127: [372], 128: [373], 129: [374], 130: [375], 131: [376], 132: [377], 133: [378, 379], 134: [380], 137: [383], 138: [384, 385, 386, 387], 139: [389, 390, 391, 393], 140: [392], 141: [394], 142: [395], 143: [396, 397, 398, 399, 400, 401, 402, 403], 144: [408], 145: [409, 410, 411, 412], 146: [413], 147: [415, 416], 148: [417], 150: [418], 151: [423], 152: [424, 425], 153: [426], 154: [427, 428, 429, 430, 431], 155: [432], 156: [433], 157: [434], 158: [435], 159: [436, 437, 438], 160: [439], 161: [440, 441], 162: [442], 163: [443, 444, 445, 446, 447, 448, 449, 450, 451], 165: [452, 453], 166: [454, 455], 167: [456], 168: [457, 458], 169: [459], 170: [460, 461], 171: [462, 463, 464], 172: [465, 466, 467, 468, 469, 470, 471, 472, 473, 474, 475, 476, 477, 478, 479, 480, 481, 482, 483, 484, 485], 174: [486], 175: [487, 488, 489], 176: [490], 177: [491], 178: [492], 179: [495, 501], 180: [503], 181: [504]}\n",
      "\n",
      "(1, 15)\n",
      "{4: [200], 7: [201], 8: [202], 10: [204, 205], 11: [206], 12: [207, 208], 13: [210, 211, 212], 16: [213], 17: [214], 19: [215], 20: [216], 21: [218], 23: [219], 24: [220], 25: [221], 26: [225], 27: [226, 227], 29: [228], 30: [229], 31: [230], 32: [231], 33: [232, 233, 234], 34: [235, 236], 35: [237, 238], 36: [239, 240], 38: [241], 39: [242, 243], 41: [244], 42: [245], 43: [246], 44: [249], 45: [250], 46: [251], 47: [252, 253, 254], 49: [255], 51: [256, 257, 258], 52: [259], 53: [260], 54: [261], 55: [262], 56: [263, 264], 57: [266], 58: [267, 268], 59: [269], 60: [270], 61: [271], 62: [272], 63: [273, 274, 275, 276], 64: [277], 65: [278, 279], 66: [280], 67: [281], 68: [282], 69: [283], 70: [284], 71: [285], 72: [286], 73: [287], 74: [288, 289], 75: [290, 291], 76: [292, 293], 77: [294, 295, 296], 78: [297, 298], 80: [300], 81: [301], 82: [302], 83: [303], 84: [304], 85: [305, 306], 86: [307], 87: [308, 309], 88: [310], 89: [311, 312, 313], 90: [314, 315], 91: [316], 92: [317], 93: [318, 319, 320], 95: [321, 322, 323], 96: [324], 97: [325], 98: [326], 100: [327, 328, 329, 330], 102: [331, 332], 103: [333], 104: [334, 336], 106: [337, 339, 340], 107: [338], 111: [341], 114: [342, 343], 116: [344, 345, 346], 117: [347, 348], 118: [349, 350], 119: [351, 352, 353], 120: [354], 121: [355, 356], 122: [357], 123: [358], 124: [359, 360], 125: [361], 127: [362], 129: [363], 130: [364], 131: [365], 133: [366], 135: [367, 368], 136: [369, 370, 372], 138: [373], 139: [374], 141: [375], 143: [376], 144: [377, 378], 146: [379], 147: [380], 148: [381], 149: [383], 151: [384, 385, 386], 152: [387, 388, 389, 390, 391, 392, 393, 394, 395, 396, 397, 398], 154: [399, 400], 155: [401], 156: [402], 157: [403], 158: [404], 159: [405, 406], 161: [407, 408, 409], 162: [410], 163: [411, 413], 164: [416, 417], 165: [418], 166: [419, 420], 167: [421], 168: [422], 170: [423], 171: [424], 172: [425, 426, 427], 174: [428], 175: [429], 176: [430, 431], 177: [432], 178: [433], 179: [434, 435, 436], 180: [437], 181: [438], 182: [439], 184: [440], 186: [441, 442], 187: [443], 188: [445], 189: [446], 190: [447, 448], 191: [449, 450], 192: [451, 452], 193: [453], 194: [454], 195: [455, 456, 457], 196: [458], 197: [459], 198: [460, 461], 199: [462], 200: [463], 201: [464], 202: [465, 466], 203: [467], 204: [468], 205: [469, 470], 207: [471], 208: [472], 210: [474, 475, 476, 477, 478, 479, 480, 481], 211: [482], 212: [483], 215: [486], 217: [493], 218: [495, 497], 220: [496], 221: [498], 222: [499, 500], 223: [504], 224: [505], 225: [506], 226: [507, 508, 509, 510], 228: [511], 229: [512], 230: [513], 231: [514], 232: [515], 233: [516], 234: [517, 518]}\n",
      "\n",
      "(1, 16)\n",
      "{13: [207], 14: [208], 15: [210], 16: [211], 18: [213], 19: [214], 21: [215], 23: [216], 24: [217, 218], 25: [219], 27: [220], 28: [221], 29: [222], 30: [223], 31: [224], 32: [225], 33: [226], 34: [227], 35: [228], 36: [229], 37: [230], 38: [231, 232, 233, 234], 39: [235], 40: [236], 41: [237], 42: [238, 239, 240], 43: [241], 44: [242], 45: [243], 47: [244, 245], 48: [246], 49: [247, 248], 51: [249, 252], 52: [253], 53: [254], 54: [255], 55: [256], 56: [257], 57: [258], 58: [259], 62: [261], 63: [262, 263, 264], 64: [265], 65: [266], 66: [267], 68: [268], 69: [269], 70: [270], 71: [271], 72: [272, 274], 73: [273], 75: [276, 277, 278], 76: [280, 281], 77: [282], 78: [284], 79: [285, 286, 287], 80: [288], 81: [289], 82: [290], 83: [291], 84: [292], 85: [293], 86: [294, 295], 87: [297], 88: [298, 299, 300], 89: [301], 90: [302], 91: [303], 92: [304], 94: [305], 95: [306], 96: [307], 97: [308, 309, 310], 100: [311], 101: [312], 103: [313, 314], 104: [315, 316], 105: [317, 318], 107: [320, 321, 322], 109: [323], 110: [324], 111: [325], 112: [326], 114: [328], 115: [329], 116: [330], 117: [331], 119: [333, 334], 120: [335], 121: [336, 337], 122: [338], 123: [339], 124: [340], 125: [341, 342], 126: [349], 128: [350, 351, 352], 130: [353], 131: [354], 132: [355], 133: [356, 357], 134: [358], 135: [359], 137: [360], 138: [361], 140: [363], 141: [364], 142: [365, 366], 143: [367], 144: [369], 145: [370], 149: [373], 150: [374], 152: [375], 154: [376], 159: [379], 160: [380], 161: [381], 162: [382], 163: [383, 384], 166: [385], 168: [386], 169: [387], 170: [388, 389], 171: [390, 391], 172: [392], 173: [393], 175: [395], 176: [397], 177: [398], 178: [399], 179: [400], 180: [401], 181: [402], 182: [403], 183: [404, 405], 184: [406, 407], 185: [408], 187: [409, 410], 189: [411], 190: [412], 191: [413], 192: [415], 193: [416], 194: [417, 418, 419, 420], 195: [421, 422], 196: [423, 424], 197: [425, 426, 427], 199: [428, 429, 430], 200: [431], 201: [432], 202: [433, 434], 203: [435, 436], 204: [437], 205: [438], 206: [439], 207: [440, 441, 442, 443], 209: [445, 446], 210: [447], 211: [448, 449, 450], 212: [451], 213: [452], 215: [454, 455], 216: [456], 217: [457, 458, 459], 218: [460], 219: [462], 220: [463], 221: [464], 223: [465], 224: [466, 467], 225: [468], 226: [469], 227: [470], 228: [471], 229: [472], 230: [473], 231: [474], 232: [475], 233: [476], 234: [477], 235: [478], 236: [479], 237: [480], 239: [481], 240: [484], 241: [485], 242: [486, 487], 243: [488], 244: [489, 490], 245: [491], 248: [492], 249: [493, 494], 250: [495, 496, 497, 498, 499, 500, 501], 252: [502, 503, 504, 505], 254: [506]}\n",
      "\n",
      "(1, 17)\n",
      "{2: [271], 3: [272], 5: [274, 278], 9: [279, 280, 281], 10: [282], 11: [283], 12: [284], 13: [285], 15: [286], 16: [287], 18: [288, 289], 19: [290], 20: [291, 292], 21: [293], 22: [294], 23: [295], 25: [296, 297], 26: [298], 27: [299, 300], 28: [301], 29: [302], 30: [303, 304, 305, 306], 31: [307], 32: [308, 309], 33: [310, 311], 34: [312], 35: [313, 314, 315, 316, 317], 36: [318, 319, 320], 37: [321], 38: [322, 323], 39: [324], 40: [325], 41: [326], 42: [327], 44: [328], 45: [329], 46: [330], 47: [331, 332, 333], 48: [334], 49: [335, 336], 50: [337], 51: [338], 52: [339, 340], 53: [341], 54: [342], 56: [343], 57: [344, 345], 58: [350], 60: [351], 63: [352], 64: [353], 66: [354, 355, 356, 357, 358], 67: [359, 360, 361, 362], 68: [363], 70: [365], 71: [366], 72: [367], 73: [368, 369], 74: [370], 76: [371], 77: [372], 78: [373], 79: [374], 80: [375], 82: [376, 377, 378, 379, 380, 381, 382, 383, 384, 385], 83: [386], 84: [387, 388], 85: [389], 86: [390], 87: [391, 392], 88: [397, 398], 89: [399], 90: [400, 401], 91: [402, 403, 404], 92: [405, 406, 407, 408, 409], 93: [410], 94: [411], 95: [412], 96: [413], 97: [414], 98: [415], 100: [416], 102: [417], 103: [418, 419], 104: [420], 105: [421], 107: [422, 423], 108: [424, 425, 426], 109: [427], 110: [428], 111: [429, 430], 112: [430, 431], 113: [432], 114: [433], 115: [434], 116: [435], 117: [436, 437, 438], 118: [439], 119: [440, 441], 120: [442], 123: [443], 125: [444], 127: [445], 128: [446, 447], 129: [448], 131: [449, 450], 132: [451], 133: [452], 134: [453], 135: [454, 455], 136: [456], 137: [457], 138: [458], 139: [462], 140: [463], 141: [464], 142: [465], 143: [466, 467], 144: [468, 469, 470, 471, 472], 145: [473], 146: [474], 147: [475, 476, 478], 148: [485], 149: [486], 151: [487, 490, 491], 152: [492], 154: [493, 494], 155: [495], 156: [496, 497], 158: [498], 159: [499], 161: [500], 166: [505], 167: [506], 168: [507, 508], 169: [510], 170: [511, 512, 513], 173: [518], 174: [519], 177: [520], 178: [521, 522], 179: [523], 180: [524], 181: [525], 182: [526], 183: [527], 184: [527], 185: [528], 186: [529], 187: [530], 189: [531, 532], 191: [533], 193: [534], 194: [535], 195: [536], 196: [537], 197: [538, 539], 198: [540], 199: [541], 200: [542], 201: [547], 203: [548, 549, 550, 551], 204: [552], 205: [553], 206: [554], 207: [555], 208: [556, 561], 209: [562], 211: [563, 564], 212: [565], 214: [567], 215: [568], 216: [569], 217: [570, 571], 218: [572], 219: [573], 220: [574], 221: [575], 222: [576], 223: [577], 224: [578], 226: [579], 227: [580, 581, 582, 583, 584, 585, 586, 587, 588, 589, 590, 591, 592, 593, 594, 595, 596, 597, 598, 599, 600, 601, 602, 603, 604, 605, 606, 607, 608, 609, 610, 611, 612, 613, 614, 615, 616, 617, 618, 619, 620, 621, 622, 623, 624, 625, 626, 627, 628, 629, 630, 631, 632, 633, 634, 635, 636, 637, 638, 639, 640, 641, 642, 643, 644, 645, 646, 647, 648, 649, 650, 651, 652, 653, 654, 655, 656, 657, 658, 659, 660, 661, 662, 663, 664, 665, 666, 667, 668, 669, 670, 671, 672, 673, 674, 675, 676, 677, 678, 679, 680, 681, 682, 683, 684, 685, 686, 687, 688, 689, 690, 691, 692, 693, 694, 695, 696, 697, 698, 699, 700, 701, 702, 703, 704, 705, 706, 707, 708, 709, 710, 711, 712, 713, 714, 715, 716, 717, 718, 719, 720, 721, 722, 723, 724, 725, 726, 727, 728, 729, 730, 731, 732, 733, 734, 735, 736, 737, 738, 739, 740, 741, 742, 743, 744, 745, 746, 747, 748, 749, 750, 751, 752, 753, 754, 755, 756, 757, 758, 759, 760, 761, 762, 763, 764, 765, 766, 767, 768, 769, 770, 771, 772, 773, 774, 775, 776, 777, 778, 779, 780, 781, 782, 783, 784, 785, 786, 787, 788, 789, 790, 791, 792, 793, 794, 795, 796, 797, 798, 799, 800, 801, 802, 803, 804, 805, 806, 807, 808, 809, 810, 811, 812, 813, 814, 815, 816, 817, 818, 819, 820, 821, 822, 823, 824, 825, 826, 827, 828, 829, 830, 831, 832, 833, 834, 835, 836, 837, 838, 839, 840, 841, 842, 843, 844, 845, 846, 847, 848, 849, 850, 851, 852, 853, 854, 855, 856, 857, 858, 859, 860, 861, 862, 863, 864, 865, 866, 867, 868, 869, 870, 871, 872, 873, 874, 875, 876, 877, 878, 879, 880, 881, 882, 883, 884, 885, 886, 887, 888, 889, 890, 891, 892, 893, 894, 895, 896, 897, 898, 899, 900, 901, 902, 903, 904, 905, 906, 907, 908, 909, 910, 911, 912, 913, 914, 915, 916], 228: [917], 229: [918, 922], 232: [920], 233: [921], 235: [923], 237: [924], 239: [925], 240: [926], 241: [927], 243: [928, 929], 244: [930], 246: [931, 932], 247: [933], 248: [934], 249: [935], 250: [936], 251: [937], 252: [938, 939], 253: [940], 254: [941, 942], 256: [943], 259: [945], 263: [947, 948], 264: [949], 265: [950], 266: [951], 267: [952], 268: [953, 954], 269: [955]}\n",
      "\n",
      "(1, 18)\n",
      "{65: [259], 66: [260, 261, 262, 263, 264, 268], 68: [269], 69: [270], 70: [271], 71: [272], 72: [273, 274], 73: [275, 276], 76: [277], 77: [278, 279], 78: [280], 79: [281], 80: [282, 283], 81: [284], 82: [285], 83: [286, 287], 84: [288], 85: [291], 87: [292, 293], 88: [294, 295, 296, 297], 90: [298], 91: [299], 92: [300], 93: [301], 94: [302, 303], 95: [304], 96: [305], 97: [306], 98: [307], 99: [308, 309], 100: [310], 101: [311, 312], 104: [313], 105: [314], 106: [315], 107: [316, 317], 108: [318], 109: [319], 110: [320], 111: [321], 112: [322], 113: [323], 114: [324, 325, 326], 115: [327, 328], 116: [329], 118: [330], 120: [331], 124: [333, 334, 335], 125: [336], 126: [337], 127: [338], 128: [339], 129: [348], 131: [349], 134: [350], 135: [351], 136: [352, 354, 355, 356, 357], 137: [358], 138: [359], 139: [360, 361], 140: [362], 141: [363], 142: [364, 365], 144: [366], 145: [367], 148: [368, 369], 149: [370], 150: [371], 152: [372, 373], 153: [374, 375, 376], 154: [377], 155: [381, 382], 156: [383, 384, 385, 386], 157: [387], 158: [396, 397], 159: [398], 160: [399, 400], 161: [401, 402], 162: [405], 163: [406, 407, 408], 166: [409], 167: [410], 168: [411], 169: [412], 170: [413, 414], 171: [415], 172: [416], 173: [417, 418], 174: [419], 175: [420], 176: [421], 177: [422], 178: [423], 181: [426, 427, 428, 429, 430, 431, 432, 433], 182: [434], 183: [435], 184: [436], 185: [437], 186: [438], 187: [439], 188: [440, 441], 189: [442], 190: [443], 191: [444], 192: [445], 193: [446], 194: [447, 448], 195: [449, 450], 196: [451], 197: [452, 453], 200: [454], 202: [455], 203: [456, 457], 204: [458], 205: [459], 206: [460], 208: [461], 210: [462], 211: [463, 464, 465, 466], 212: [467], 213: [468], 214: [469, 470], 215: [471], 216: [472], 217: [474], 219: [475], 220: [476], 222: [477], 223: [478], 224: [479, 480], 225: [482], 226: [483], 227: [484, 485, 486], 229: [487], 230: [488], 231: [489, 490], 232: [491], 233: [492, 493], 236: [495], 237: [496], 238: [497, 498], 239: [499], 240: [500], 241: [501], 242: [502], 243: [503], 245: [504], 246: [505], 248: [506], 249: [507, 508], 251: [509], 252: [510], 253: [511], 254: [512]}\n",
      "\n",
      "(1, 19)\n",
      "{35: [261], 36: [262], 37: [263], 38: [264], 39: [265], 40: [266, 267], 41: [268], 42: [269], 43: [270], 44: [271, 272], 46: [273, 274], 47: [275], 48: [276, 277], 49: [278], 50: [279], 51: [280, 281], 52: [283, 284, 285, 286, 287, 288, 289, 290, 291, 292, 293, 294, 295, 296, 297, 298, 299, 300, 301], 53: [302], 54: [303], 55: [304, 305], 56: [306], 57: [307], 58: [308], 61: [309], 62: [310], 63: [311], 64: [312], 65: [313], 66: [314], 67: [315, 316, 317, 319], 68: [318], 69: [320, 321], 70: [322, 323, 324], 71: [325, 326], 73: [328], 74: [329, 330, 331], 77: [333], 78: [334], 80: [335], 81: [336], 82: [337], 83: [338], 84: [339], 85: [340], 86: [341, 342], 87: [343], 88: [344, 345, 346, 347], 89: [348], 90: [349, 350, 351], 91: [352, 353], 92: [354], 93: [355], 94: [356, 357, 358, 360], 95: [359], 98: [361], 99: [362], 100: [363], 101: [364, 365, 366], 102: [367], 104: [368, 369], 105: [370], 106: [371], 107: [372, 373, 374], 108: [375], 109: [376], 111: [377], 112: [378], 113: [379], 114: [380], 115: [381], 117: [382], 119: [383], 120: [384], 121: [385], 122: [386], 123: [387], 124: [388], 125: [389, 390], 126: [391, 392], 128: [393, 394, 395], 129: [396], 130: [398], 132: [399], 135: [400, 401], 136: [402], 137: [403, 404, 405], 139: [407], 140: [408, 409], 144: [410], 145: [411], 146: [412], 147: [413], 148: [414], 149: [416], 151: [417], 153: [419], 154: [421], 155: [422], 156: [423, 424], 157: [425, 426, 427, 428, 429], 158: [430], 166: [432], 168: [433], 169: [434], 170: [435], 171: [436], 172: [437], 173: [438], 174: [439, 440, 441], 175: [442], 176: [443], 179: [444], 180: [445], 181: [446, 447, 448, 449], 182: [450, 451, 452, 453, 454], 183: [455], 184: [456], 185: [457, 458, 459], 186: [460], 188: [461], 191: [462], 192: [463, 464], 193: [467], 194: [468], 196: [470], 197: [471], 198: [472], 199: [473], 200: [474], 201: [475], 202: [476, 477], 204: [478], 205: [479, 480, 481], 206: [482], 208: [484], 209: [485], 210: [486], 212: [487], 213: [488], 214: [489], 215: [490, 491, 492, 493, 494, 495, 496, 497], 217: [498], 218: [499, 500], 219: [501], 220: [502], 221: [503], 222: [504, 505, 506], 224: [509, 510, 511, 512], 225: [513], 226: [514], 227: [515, 516, 517], 229: [518], 230: [520, 522], 232: [523]}\n",
      "\n",
      "(1, 20)\n",
      "{4: [209], 5: [210], 6: [211, 212], 7: [213, 214], 8: [216, 217, 218, 219], 9: [220], 10: [221, 222, 223, 224, 225, 226], 11: [227], 12: [228], 13: [229, 230], 14: [231, 232], 15: [233], 16: [234], 17: [235], 18: [236], 19: [237], 21: [238], 22: [239, 240], 23: [241, 242], 25: [243], 26: [244], 28: [245], 29: [246], 30: [247, 248, 249], 31: [250], 32: [251, 252], 33: [253, 254], 34: [255, 256, 257, 258], 35: [259], 36: [260], 37: [261], 38: [262, 263, 264], 41: [265], 42: [266], 43: [267, 268], 46: [269, 270], 47: [271], 48: [272], 49: [276, 277, 278], 50: [279], 51: [280], 52: [281], 53: [282, 283], 54: [284], 55: [285, 286], 56: [287], 57: [288, 289], 58: [290], 59: [291, 292], 60: [293], 61: [294], 62: [295, 296], 64: [297], 65: [298, 299], 66: [300], 67: [301], 68: [302], 69: [303], 70: [304, 305], 71: [306], 72: [307, 308], 73: [309], 74: [310, 311, 312], 75: [313], 76: [314], 77: [315, 316], 78: [317], 80: [319], 81: [320], 82: [321, 322], 83: [323], 84: [324], 85: [325], 86: [326], 87: [327], 88: [328], 89: [329], 90: [330], 91: [331, 332, 333], 93: [334], 94: [335], 95: [336], 96: [337], 98: [338], 99: [339, 340], 100: [341], 101: [342], 102: [343], 103: [344, 345], 104: [346], 105: [347], 106: [348], 107: [349, 350], 109: [351, 352, 353, 354], 111: [355, 356, 357, 358, 359, 360, 361, 362], 112: [363], 113: [364, 365, 366, 367], 115: [368], 116: [369], 117: [370, 371], 119: [372], 120: [373], 121: [374], 122: [375, 376, 377], 124: [378], 126: [380], 127: [381, 382, 383], 128: [384], 129: [385], 130: [386, 387], 131: [388], 132: [389, 390], 133: [391], 134: [392, 393, 394, 395, 396, 397, 398], 135: [399], 137: [401], 139: [402, 403, 404], 140: [405], 141: [406], 142: [407, 408, 409, 410], 144: [411], 145: [412], 146: [413], 147: [415], 148: [416], 150: [417], 151: [418], 152: [419, 420], 153: [421], 154: [422, 423], 155: [424], 156: [425], 157: [426], 158: [427], 160: [428, 429, 430], 161: [431, 432], 163: [433], 165: [434], 167: [437], 168: [438], 169: [439], 170: [440], 171: [441], 173: [442], 174: [443, 444], 175: [445, 446], 176: [447, 448], 178: [449, 450], 179: [451], 180: [452], 181: [453], 182: [454], 183: [455, 456], 184: [457], 185: [458, 459, 460, 461, 462, 463, 464], 187: [465, 466], 188: [467], 189: [468], 191: [473], 192: [474, 475], 194: [477], 195: [478], 196: [479], 197: [480], 198: [481, 482, 483], 199: [484], 200: [485, 486], 201: [487], 202: [488], 203: [489], 204: [490], 205: [491], 207: [492, 493], 208: [497, 498], 209: [499, 500], 210: [501, 502, 503, 504], 211: [505], 212: [506, 507], 213: [508, 509], 215: [510, 511], 216: [512], 220: [513, 514], 222: [516], 223: [517, 518], 225: [520], 227: [521], 229: [522], 230: [523, 524, 525], 232: [526], 233: [527]}\n",
      "\n",
      "(1, 22)\n",
      "{13: [205], 14: [206], 15: [207], 16: [208], 17: [209], 19: [210], 20: [211, 212], 21: [214], 22: [215], 23: [216], 24: [217], 25: [218], 26: [219], 27: [220], 28: [221, 222, 223], 29: [224], 30: [225], 31: [226], 32: [227, 228], 33: [229], 34: [230], 35: [231], 37: [232], 38: [233], 39: [234, 235], 40: [236, 237], 41: [238], 42: [239], 43: [240], 45: [241, 242], 46: [243], 47: [244], 48: [245, 246], 50: [250], 51: [251, 252], 53: [254], 54: [255], 55: [256], 56: [257], 57: [258], 59: [259], 60: [260], 61: [261, 262], 62: [263], 63: [264, 265, 266], 65: [267], 67: [268, 269], 68: [270], 69: [271, 272], 71: [273], 76: [275, 276, 277, 278, 279], 77: [280, 281, 282, 283], 79: [284], 80: [285, 286, 287], 81: [288], 82: [289], 84: [290, 291], 85: [292], 86: [293, 294], 87: [295, 296, 297, 298, 299], 88: [300], 89: [301, 302, 303, 304, 305], 90: [306], 91: [307], 92: [308], 93: [309], 95: [310, 311], 97: [312], 98: [313], 99: [314, 315, 316], 100: [317], 101: [318, 319, 320, 321], 102: [322], 103: [323], 104: [324], 105: [325, 326], 106: [327], 108: [328], 109: [329], 112: [331], 113: [332, 333], 114: [334], 115: [335], 116: [336], 117: [337, 338, 339, 340], 122: [341, 342, 343, 344], 123: [345], 124: [346], 125: [347], 126: [348, 349, 350], 130: [351, 352, 353, 354, 355], 132: [356], 134: [357], 135: [358, 359], 136: [360, 361, 362], 137: [363], 138: [364], 140: [365, 366, 367], 142: [368], 143: [372, 373], 145: [374], 147: [375, 376, 377], 148: [377], 149: [378], 150: [379], 151: [380, 381], 152: [382], 153: [383], 154: [384], 157: [385, 386, 387, 388], 159: [389, 391, 392], 160: [393], 161: [394], 162: [395], 163: [396, 397, 398, 399], 167: [400], 168: [401], 170: [402], 171: [403], 173: [404], 174: [405], 176: [406, 407], 179: [407], 181: [408], 182: [409], 183: [410], 184: [411, 412], 185: [413], 187: [414], 189: [415], 190: [416], 191: [417], 192: [418, 419], 193: [420], 194: [421], 195: [422, 423], 196: [424, 425], 197: [426, 427], 198: [428], 199: [429], 200: [430], 203: [431, 432], 204: [439, 440], 205: [441], 207: [442, 443, 444], 208: [445], 209: [446, 447, 448, 449], 210: [450], 211: [451], 212: [452], 213: [453], 214: [454], 216: [455], 217: [456, 457], 218: [458], 219: [459, 460], 221: [461], 222: [462], 223: [463], 224: [464], 226: [465, 466, 467, 468, 469, 470], 227: [471], 228: [472], 229: [473, 474, 475], 230: [476], 231: [477, 478, 479], 232: [480], 234: [481], 235: [482], 236: [483], 237: [484, 485], 238: [486], 239: [487], 240: [488], 241: [489], 243: [490, 491], 244: [492], 245: [493, 494], 246: [495, 496], 249: [497, 498], 250: [499, 500], 253: [500, 501, 502], 254: [503], 257: [504], 258: [505], 259: [506], 260: [507], 261: [508, 509], 262: [510], 264: [511], 265: [512], 266: [513], 267: [514], 268: [515], 269: [516, 517], 270: [518], 271: [520], 272: [521]}\n",
      "\n",
      "(1, 24)\n",
      "{17: [219, 220], 19: [221], 20: [225], 21: [226], 22: [228], 23: [229, 230], 24: [231, 232], 26: [233], 28: [234, 235], 29: [236], 30: [237], 31: [238], 32: [239], 33: [240], 34: [241], 35: [242, 243], 36: [244], 40: [245], 41: [246], 42: [247], 44: [248, 249, 250, 251, 252, 253, 254], 45: [255], 46: [256], 48: [257, 258, 259], 49: [260], 50: [261], 51: [262], 52: [263], 54: [264], 55: [265], 56: [266], 57: [267], 58: [268], 62: [269], 64: [270, 271], 65: [272], 66: [273], 67: [274], 68: [275], 69: [276, 277], 70: [278], 71: [279, 280, 281], 74: [283], 75: [284, 285], 76: [286, 287], 77: [288], 80: [290, 291], 81: [292, 293], 82: [294], 84: [295], 86: [296], 87: [297], 89: [298], 90: [299], 91: [300], 92: [301, 302], 93: [303, 304], 94: [305], 95: [306], 96: [307], 97: [308], 98: [309], 99: [310], 100: [311], 101: [312], 102: [313, 314, 315, 316, 317], 103: [318], 104: [319, 320], 105: [321], 106: [322], 107: [323], 108: [324], 109: [325], 111: [326], 113: [328], 114: [329], 115: [330], 116: [331], 117: [332], 118: [333], 119: [334, 335], 120: [336, 337, 338, 339], 121: [340], 122: [341, 342], 123: [343], 124: [344], 125: [345, 346, 347, 348], 126: [349], 127: [350], 129: [353], 131: [354], 132: [355], 133: [356], 134: [357], 135: [358], 136: [359, 360], 137: [361, 362], 140: [363], 143: [364], 144: [365], 145: [366], 146: [367], 147: [368], 148: [369, 370], 149: [371], 151: [372, 373], 153: [374, 375], 154: [376, 377], 155: [378, 379], 156: [380], 157: [381], 158: [382], 159: [383], 160: [384], 161: [385], 162: [386], 164: [387, 388, 389, 390, 391, 392, 401], 165: [393, 405, 406], 166: [407, 408, 409, 410], 168: [411, 412], 169: [413, 414], 170: [416], 171: [417], 172: [418], 174: [419], 175: [420], 176: [421], 177: [422], 179: [423], 180: [424], 181: [425], 183: [426], 184: [427], 185: [428], 189: [430], 190: [431], 191: [432], 192: [433], 193: [434, 435, 436, 437], 194: [438], 195: [439, 440, 441], 196: [442], 197: [443], 198: [445], 201: [446, 447], 202: [448, 449, 450], 203: [451, 452], 205: [453, 454], 206: [455], 207: [456], 208: [457, 458], 209: [459], 210: [460], 211: [461], 212: [462, 463], 213: [464], 214: [465, 466], 215: [467, 468], 216: [469], 217: [470, 471], 218: [472, 473], 219: [474], 220: [475], 221: [476], 222: [477], 223: [478], 224: [479], 225: [480], 226: [481], 227: [482], 228: [483], 229: [484, 485, 486], 233: [488], 234: [489], 235: [490, 491, 492, 493], 236: [494], 237: [495], 238: [496], 239: [497, 498], 240: [499], 244: [500, 501, 502, 503, 512, 517], 245: [504], 246: [520, 521], 247: [522, 523], 248: [524], 249: [525], 250: [526], 253: [527], 254: [528], 255: [529], 256: [530]}\n",
      "\n",
      "(3, 16)\n",
      "{151: [200]}\n",
      "\n",
      "(4, 19)\n",
      "{246: [233, 234, 235]}\n",
      "\n",
      "(6, 4)\n",
      "{134: [200]}\n",
      "\n",
      "(6, 19)\n",
      "{123: [200]}\n",
      "\n",
      "(7, 24)\n",
      "{67: [200]}\n",
      "\n",
      "(9, 12)\n",
      "{2: [200], 3: [201], 4: [202], 5: [203], 6: [204], 7: [205], 8: [207, 208, 209, 210], 11: [211], 12: [212, 213], 13: [214, 215], 14: [216], 15: [217], 16: [218], 17: [219], 18: [220], 20: [221], 21: [222], 22: [223, 224], 23: [225], 25: [227], 26: [228, 230], 27: [231], 28: [233], 29: [234], 30: [235], 31: [236], 32: [237, 238], 33: [239, 240], 35: [241], 38: [243, 244, 245], 39: [246, 247], 40: [248], 41: [249, 250], 42: [251], 44: [252], 45: [253, 254], 47: [255, 256], 49: [257], 50: [258], 51: [259, 260], 52: [261], 53: [262, 263, 264], 55: [265], 56: [266, 267, 268], 57: [269, 270], 58: [271, 272], 59: [273, 274, 275, 276, 277, 278], 60: [279], 61: [280, 281, 282], 62: [283, 284], 63: [285, 286, 287], 64: [288], 65: [289, 290, 291, 292], 66: [293], 67: [294], 68: [295], 69: [296], 71: [297], 72: [298, 299], 73: [300, 301], 74: [302, 303, 304], 76: [305], 77: [306], 78: [307, 308, 309], 80: [310, 311], 81: [312], 83: [314], 85: [315, 316], 86: [317, 318], 87: [319, 320], 88: [321, 322, 323], 89: [324], 90: [325], 91: [326, 327], 93: [328], 94: [329, 330], 96: [331], 97: [332], 98: [333], 99: [334], 100: [335, 336], 101: [337, 338], 102: [339, 340, 341, 342, 343], 104: [345], 106: [347], 107: [348], 108: [349], 111: [352, 353], 112: [354], 113: [355, 356], 114: [357, 358], 115: [359, 360], 116: [361, 362], 117: [364], 118: [365], 119: [366], 122: [368], 123: [370], 124: [371, 372], 125: [373, 374], 126: [375], 127: [376, 377, 378, 379, 380, 381], 128: [382, 383], 129: [384, 385, 386, 387, 388], 131: [389], 132: [390], 133: [391, 392, 393, 394, 395, 396], 134: [397], 135: [398], 136: [399, 400], 137: [401], 138: [402, 403], 139: [404, 405], 140: [406], 141: [407], 142: [408], 143: [409, 410], 144: [411, 412], 145: [413], 146: [414, 415], 147: [416, 417], 148: [418], 149: [419], 150: [420, 421], 151: [422], 152: [423], 154: [425, 426], 155: [427], 156: [428, 429], 157: [430], 158: [431], 159: [432, 433], 160: [434, 435], 161: [436], 162: [437, 438], 163: [439, 440], 164: [441], 165: [442], 166: [443, 444], 167: [445], 168: [446], 169: [448], 170: [449], 171: [450], 172: [451], 173: [452, 453, 454], 174: [455], 175: [456, 457], 176: [458], 177: [459, 460], 178: [461, 462], 179: [463], 180: [464], 181: [465], 182: [466], 183: [467], 184: [468], 185: [469], 186: [470], 187: [471], 188: [472], 190: [473], 191: [474], 192: [475, 476, 477, 478, 479], 193: [480], 195: [481], 197: [483, 484], 198: [485, 486], 199: [487, 488], 200: [489], 201: [490], 203: [491, 492, 493], 204: [494], 205: [495, 496], 206: [498, 499, 500, 501, 502, 503, 504], 207: [505], 208: [506, 507, 508, 509], 209: [510], 210: [511], 211: [512], 212: [513, 514, 515, 516], 214: [517, 518], 215: [519, 520, 521], 216: [522], 217: [523, 524], 220: [526, 527], 222: [528], 223: [529, 530, 531], 224: [532], 225: [533], 226: [534], 227: [535, 536, 537, 538], 228: [539, 540], 229: [541], 230: [543], 231: [544, 545, 546], 232: [547, 548], 233: [549], 234: [550], 235: [551], 237: [553], 238: [554, 555, 556], 239: [557]}\n",
      "\n"
     ]
    }
   ],
   "source": [
    "for item in further_alignment:\n",
    "    print(item)\n",
    "    print(further_alignment[item])\n",
    "    print()"
   ],
   "metadata": {
    "collapsed": false,
    "pycharm": {
     "name": "#%%\n"
    }
   }
  },
  {
   "cell_type": "code",
   "execution_count": null,
   "outputs": [],
   "source": [],
   "metadata": {
    "collapsed": false,
    "pycharm": {
     "name": "#%%\n"
    }
   }
  },
  {
   "cell_type": "code",
   "execution_count": null,
   "outputs": [],
   "source": [],
   "metadata": {
    "collapsed": false,
    "pycharm": {
     "name": "#%%\n"
    }
   }
  },
  {
   "cell_type": "code",
   "execution_count": null,
   "outputs": [],
   "source": [],
   "metadata": {
    "collapsed": false,
    "pycharm": {
     "name": "#%%\n"
    }
   }
  },
  {
   "cell_type": "code",
   "execution_count": null,
   "outputs": [],
   "source": [],
   "metadata": {
    "collapsed": false,
    "pycharm": {
     "name": "#%%\n"
    }
   }
  }
 ],
 "metadata": {
  "kernelspec": {
   "display_name": "Python 3",
   "language": "python",
   "name": "python3"
  },
  "language_info": {
   "codemirror_mode": {
    "name": "ipython",
    "version": 2
   },
   "file_extension": ".py",
   "mimetype": "text/x-python",
   "name": "python",
   "nbconvert_exporter": "python",
   "pygments_lexer": "ipython2",
   "version": "2.7.6"
  }
 },
 "nbformat": 4,
 "nbformat_minor": 0
}
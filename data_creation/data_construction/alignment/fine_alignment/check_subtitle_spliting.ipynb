{
 "cells": [
  {
   "cell_type": "code",
   "execution_count": null,
   "metadata": {
    "collapsed": true,
    "pycharm": {
     "name": "#%%\n"
    }
   },
   "outputs": [],
   "source": []
  },
  {
   "cell_type": "code",
   "execution_count": null,
   "outputs": [],
   "source": [],
   "metadata": {
    "collapsed": false,
    "pycharm": {
     "name": "#%%\n"
    }
   }
  },
  {
   "cell_type": "code",
   "execution_count": 1,
   "outputs": [],
   "source": [
    "import pickle as pkl\n",
    "import json\n",
    "from collections import defaultdict\n",
    "import jiwer\n",
    "from copy import deepcopy\n",
    "from tqdm import tqdm\n",
    "import xlsxwriter\n",
    "import re\n",
    "\n",
    "from utils.preprocessing import organize_coarse_alignment_by_seasons\n",
    "from utils.preprocessing import fetch_subsets\n",
    "from utils.alignment_seeds import *\n",
    "from utils.preprocessing import *\n",
    "\n",
    "# Define sentence transformation\n",
    "transformation = jiwer.Compose([\n",
    "    jiwer.ToLowerCase(),\n",
    "    jiwer.RemoveMultipleSpaces(),\n",
    "    jiwer.ExpandCommonEnglishContractions(),\n",
    "    jiwer.RemovePunctuation(),\n",
    "    jiwer.Strip()\n",
    "])"
   ],
   "metadata": {
    "collapsed": false,
    "pycharm": {
     "name": "#%%\n"
    }
   }
  },
  {
   "cell_type": "code",
   "execution_count": 2,
   "outputs": [],
   "source": [
    "# Set File Path\n",
    "en_subtitle_path = \"../../source_data/subtitles/en_zh/en_subtitles.pkl\"\n",
    "other_subtitle_path = \"../../source_data/subtitles/en_zh/zh_subtitles.pkl\"\n",
    "transcript_path = \"../../source_data/transcripts/tbbt/tbbt_transcripts.pkl\"\n",
    "coarse_alignment_path = \"../coarse_alignment/results/tbbt_en_zh.pkl\"\n",
    "root_path = \"results/tbbt_en_zh/\"\n",
    "\n",
    "\n",
    "# Load Data\n",
    "with open(en_subtitle_path, 'rb') as f:\n",
    "    all_en_subtitles = pkl.load(f)\n",
    "with open(other_subtitle_path, 'rb') as f:\n",
    "    all_other_subtitles = pkl.load(f)\n",
    "with open(transcript_path, 'rb') as f:\n",
    "    all_transcripts = pkl.load(f)\n",
    "\n",
    "with open(coarse_alignment_path, 'rb') as f:\n",
    "    temp = pkl.load(f)\n",
    "    coarse_alignments = organize_coarse_alignment_by_seasons(temp)"
   ],
   "metadata": {
    "collapsed": false,
    "pycharm": {
     "name": "#%%\n"
    }
   }
  },
  {
   "cell_type": "code",
   "execution_count": 3,
   "outputs": [],
   "source": [
    "# Perform index filtering on the alignment seeds\n",
    "def filter_by_idx(sub2epi):\n",
    "    \"\"\"\n",
    "    Filter index based on the index before and after\n",
    "    \"\"\"\n",
    "    paris = []\n",
    "    for x in sorted(list(sub2epi.keys())):\n",
    "        for y in sorted(sub2epi[x]):\n",
    "            paris.append([x, y])\n",
    "\n",
    "    res = [paris[0]]\n",
    "    for i in range(1, len(paris) - 1):\n",
    "        former = res[-1]\n",
    "        current = paris[i]\n",
    "        after = paris[i + 1]\n",
    "        if former[0] <= current[0] <= after[0]:\n",
    "            if former[1] <= current[1] <= after[1]:\n",
    "                res.append(current)\n",
    "    if paris[-1][0] >= res[-1][0]:\n",
    "        if paris[-1][1] >= res[-1][1]:\n",
    "            res.append(paris[-1])\n",
    "\n",
    "    output = {}\n",
    "    for x in res:\n",
    "        sub = x[0]\n",
    "        epi = x[1]\n",
    "        if sub not in output:\n",
    "            output[sub] = [epi]\n",
    "        else:\n",
    "            output[sub].append(epi)\n",
    "\n",
    "    return output\n",
    "\n",
    "def generate_alignment_seeds(en_subset, tbbt_episode, window_size):\n",
    "    \"\"\"\n",
    "    Generate {subtitle_id: episode_id} dictionary as the seeds for the next step alignments\n",
    "    This includes:\n",
    "        1.Exact Match + Filtering by Index to make sure the accuracy\n",
    "        2.Substring Match + Filtering\n",
    "    \"\"\"\n",
    "    temp_0 = exact_match(en_subset, tbbt_episode)\n",
    "    print(temp_0)\n",
    "    temp_0 = filter_by_idx(temp_0)\n",
    "    temp_1 = string_match_sliding_window(en_subset, tbbt_episode, window_size)\n",
    "    print(temp_1)\n",
    "    temp_1 = filter_by_idx(temp_1)\n",
    "    merged_temp = merge_episode_alignment(temp_0, temp_1)\n",
    "    alignment_seeds = filter_by_idx(merged_temp)\n",
    "    return alignment_seeds"
   ],
   "metadata": {
    "collapsed": false,
    "pycharm": {
     "name": "#%%\n"
    }
   }
  },
  {
   "cell_type": "code",
   "execution_count": 31,
   "outputs": [],
   "source": [
    "def fetch_subsets(episode, en_subtitle, zh_subtitle, results, season_id, episode_id, bias, zh_split=False):\n",
    "    \"\"\"\n",
    "    episode: Whole transcript\n",
    "    en_subtitle: all en subtitle\n",
    "    zh_subtitle: all subtitle in other language\n",
    "    results: the coarse alignment result\n",
    "    season_id: id of the season to align\n",
    "    episode_id: id of episode to align\n",
    "    bias: [first_index-bias, last_index+bias] is the list of subtitles to align\n",
    "        a subset of en_subtitle, a subset of subtitles in another language and the corresponding utterance\n",
    "\n",
    "    Special Notice: Since in Open Subtitle some subtitles contains two utterance split with \"-\", we split them\n",
    "    \"\"\"\n",
    "    idx_list, gaps = get_epi_indexs_gaps(results[season_id][episode_id])\n",
    "    subsets = find_all_continuous_subsets(idx_list, gaps, 6, 100)[-1]\n",
    "    # Calculate gaps within the subset\n",
    "    gaps_subsets = calculate_gaps(subsets)\n",
    "\n",
    "    # Prepare Subtitle Subset\n",
    "    start = subsets[0] - bias\n",
    "    end = subsets[-1] + bias\n",
    "    old_en_subset = [clean_sentence_brackets(item) for item in en_subtitle[start: end]]\n",
    "    old_zh_subset = [clean_sentence_brackets(item) for item in zh_subtitle[start: end]]\n",
    "    en_subset = []\n",
    "    zh_subset = []\n",
    "\n",
    "    # Split mutiple utterance in subtitle\n",
    "    for i in range(len(old_en_subset)):\n",
    "        utt_en = clean_sentence_brackets(old_en_subset[i]).replace(\"... - ...\", \"...\")\n",
    "        utt_en_token = utt_en.strip().split()\n",
    "        utt_zh = clean_sentence_brackets(old_zh_subset[i])\n",
    "\n",
    "        if zh_split:\n",
    "            # Split concatenated subtitle with \"-\"\n",
    "            if \"-\" in utt_en_token:\n",
    "                idx = [k for k, item in enumerate(utt_en_token) if item == \"-\"][-1]\n",
    "                if utt_en_token[idx - 1][-1] in string.punctuation:\n",
    "                    if \"－\" in utt_zh or \"-\" in utt_zh:\n",
    "                        en_subs = [\" \".join(utt_en_token[:idx]), \" \".join(utt_en_token[idx + 1:])]\n",
    "                        if \"－\" in utt_zh:\n",
    "                            zh_subs = utt_zh.strip().lstrip(\"－\").split(\"－\")\n",
    "                        else:\n",
    "                            zh_subs = utt_zh.strip().lstrip(\"-\").split(\"-\")\n",
    "\n",
    "                        for j in range(len(en_subs)):\n",
    "                            en_subset.append(en_subs[j])\n",
    "                            zh_subset.append(zh_subs[j])\n",
    "                    else:\n",
    "                        former = \" \".join(utt_en_token[:idx])\n",
    "                        latter = \" \".join(utt_en_token[idx + 1:])\n",
    "                        old_en_subset[i] = former\n",
    "                        old_en_subset[i + 1] = latter + \" \" + old_en_subset[i + 1]\n",
    "                        en_subset.append(old_en_subset[i])\n",
    "                        zh_subset.append(old_zh_subset[i])\n",
    "            else:\n",
    "                en_subset.append(old_en_subset[i])\n",
    "                zh_subset.append(old_zh_subset[i])\n",
    "        else:\n",
    "            en_subset.append(old_en_subset[i])\n",
    "            zh_subset.append(old_zh_subset[i])\n",
    "\n",
    "    # Remove Characters\n",
    "    for i in range(len(en_subset)):\n",
    "        en_tokens = en_subset[i].strip().split()\n",
    "        for j, item in enumerate(en_tokens):\n",
    "            if item.isupper() and len(item) >= 3 and item[-1] == \":\":\n",
    "                en_tokens.pop(j)\n",
    "        en_subset[i] = \" \".join(en_tokens)\n",
    "\n",
    "    tbbt_episode = []\n",
    "    for x in episode[(season_id, episode_id)]:\n",
    "        if x[1] != 'Scene':\n",
    "            tbbt_episode.append(x)\n",
    "\n",
    "    # Clean the episode bck\n",
    "    # 1. Remove empty string\n",
    "    # 2. Remove duplicate stings\n",
    "    temp_tbbt_episode = []\n",
    "    abandon_idx = set()\n",
    "    for i, x in enumerate(tbbt_episode):\n",
    "        if transformation(x[0]) in [\" \", \"\"]:\n",
    "            abandon_idx.add(i)\n",
    "    for length in range(6):\n",
    "        length += 1\n",
    "        for i in range(len(tbbt_episode) - length):\n",
    "            if tbbt_episode[i][0] == tbbt_episode[i + length][0] and tbbt_episode[i][1] == tbbt_episode[i + length][1]:\n",
    "                abandon_idx.add(i)\n",
    "\n",
    "    for i, item in enumerate(tbbt_episode):\n",
    "        if i not in abandon_idx:\n",
    "            temp_tbbt_episode.append(item)\n",
    "\n",
    "    return en_subset, zh_subset, temp_tbbt_episode\n"
   ],
   "metadata": {
    "collapsed": false,
    "pycharm": {
     "name": "#%%\n"
    }
   }
  },
  {
   "cell_type": "code",
   "execution_count": 32,
   "outputs": [
    {
     "name": "stdout",
     "output_type": "stream",
     "text": [
      "Season: 1   Episode: 1\n",
      "Season: 1   Episode: 2\n",
      "Season: 1   Episode: 3\n",
      "Season: 1   Episode: 4\n",
      "Season: 1   Episode: 5\n",
      "Season: 1   Episode: 6\n",
      "Season: 1   Episode: 7\n",
      "Season: 1   Episode: 8\n",
      "Season: 1   Episode: 9\n",
      "Season: 1   Episode: 10\n",
      "Season: 1   Episode: 11\n",
      "Season: 1   Episode: 12\n",
      "Season: 1   Episode: 13\n",
      "Season: 1   Episode: 14\n",
      "Season: 1   Episode: 15\n",
      "Season: 1   Episode: 16\n",
      "Season: 2   Episode: 1\n",
      "Season: 2   Episode: 2\n",
      "Season: 2   Episode: 3\n",
      "Season: 2   Episode: 4\n",
      "Season: 2   Episode: 5\n",
      "Season: 2   Episode: 6\n",
      "Season: 2   Episode: 7\n",
      "Season: 2   Episode: 9\n",
      "Season: 2   Episode: 11\n",
      "Season: 2   Episode: 12\n",
      "Season: 2   Episode: 13\n",
      "Season: 2   Episode: 14\n",
      "Season: 2   Episode: 15\n",
      "Season: 2   Episode: 16\n",
      "Season: 2   Episode: 17\n",
      "Season: 2   Episode: 18\n",
      "Season: 2   Episode: 19\n",
      "Season: 2   Episode: 20\n",
      "Season: 2   Episode: 21\n",
      "Season: 2   Episode: 22\n",
      "Season: 2   Episode: 23\n",
      "Season: 3   Episode: 1\n",
      "Season: 3   Episode: 2\n",
      "Season: 3   Episode: 3\n",
      "Season: 3   Episode: 4\n",
      "Season: 3   Episode: 5\n",
      "Season: 3   Episode: 6\n",
      "Season: 3   Episode: 7\n",
      "Season: 3   Episode: 8\n",
      "Season: 3   Episode: 9\n",
      "Season: 3   Episode: 10\n",
      "Season: 3   Episode: 11\n",
      "Season: 3   Episode: 12\n",
      "Season: 3   Episode: 13\n",
      "Season: 3   Episode: 14\n",
      "Season: 3   Episode: 15\n",
      "Season: 3   Episode: 16\n",
      "Season: 3   Episode: 17\n",
      "Season: 3   Episode: 18\n",
      "Season: 3   Episode: 19\n",
      "Season: 3   Episode: 20\n",
      "Season: 3   Episode: 21\n",
      "Season: 3   Episode: 22\n",
      "Season: 3   Episode: 23\n",
      "Season: 4   Episode: 1\n",
      "Season: 4   Episode: 2\n",
      "Season: 4   Episode: 3\n",
      "Season: 4   Episode: 4\n",
      "Season: 4   Episode: 5\n",
      "Season: 4   Episode: 6\n",
      "Season: 4   Episode: 7\n",
      "Season: 4   Episode: 8\n",
      "Season: 4   Episode: 9\n",
      "Season: 4   Episode: 10\n",
      "Season: 4   Episode: 11\n",
      "Season: 4   Episode: 12\n",
      "Season: 4   Episode: 13\n",
      "Season: 4   Episode: 14\n",
      "Season: 4   Episode: 15\n",
      "Season: 4   Episode: 16\n",
      "Season: 4   Episode: 17\n",
      "Season: 4   Episode: 18\n",
      "Season: 4   Episode: 19\n",
      "Season: 4   Episode: 20\n",
      "Season: 4   Episode: 21\n",
      "Season: 4   Episode: 22\n",
      "Season: 4   Episode: 23\n",
      "Season: 4   Episode: 24\n",
      "Season: 5   Episode: 1\n",
      "Season: 5   Episode: 2\n",
      "Season: 5   Episode: 3\n",
      "Season: 5   Episode: 4\n",
      "Season: 5   Episode: 5\n",
      "Season: 5   Episode: 6\n",
      "Season: 5   Episode: 7\n",
      "Season: 5   Episode: 8\n",
      "Season: 5   Episode: 9\n",
      "Season: 5   Episode: 10\n",
      "Season: 5   Episode: 11\n",
      "Season: 5   Episode: 12\n",
      "Season: 5   Episode: 13\n",
      "Season: 5   Episode: 14\n",
      "Season: 5   Episode: 15\n",
      "Season: 5   Episode: 16\n",
      "Season: 5   Episode: 17\n",
      "Season: 5   Episode: 18\n",
      "Season: 5   Episode: 19\n",
      "Season: 5   Episode: 20\n",
      "Season: 5   Episode: 21\n",
      "Season: 5   Episode: 22\n",
      "Season: 5   Episode: 23\n",
      "Season: 6   Episode: 1\n",
      "Season: 6   Episode: 2\n",
      "Season: 6   Episode: 3\n",
      "Season: 6   Episode: 4\n",
      "Season: 6   Episode: 5\n",
      "Season: 6   Episode: 6\n",
      "Season: 6   Episode: 7\n",
      "Season: 6   Episode: 8\n",
      "Season: 6   Episode: 9\n",
      "Season: 6   Episode: 10\n",
      "Season: 6   Episode: 11\n",
      "Season: 6   Episode: 12\n",
      "Season: 6   Episode: 13\n",
      "Season: 6   Episode: 14\n",
      "Season: 6   Episode: 15\n",
      "Season: 6   Episode: 16\n",
      "Season: 6   Episode: 17\n",
      "Season: 6   Episode: 18\n",
      "Season: 6   Episode: 19\n",
      "Season: 6   Episode: 20\n",
      "Season: 6   Episode: 21\n",
      "Season: 6   Episode: 22\n",
      "Season: 7   Episode: 1\n",
      "Season: 7   Episode: 2\n",
      "Season: 7   Episode: 3\n",
      "Season: 7   Episode: 4\n",
      "Season: 7   Episode: 5\n",
      "Season: 7   Episode: 6\n",
      "Season: 7   Episode: 7\n",
      "Season: 7   Episode: 8\n",
      "Season: 7   Episode: 9\n",
      "Season: 7   Episode: 10\n",
      "Season: 7   Episode: 11\n",
      "Season: 7   Episode: 13\n",
      "Season: 7   Episode: 14\n",
      "Season: 7   Episode: 15\n",
      "Season: 7   Episode: 16\n",
      "Season: 7   Episode: 17\n",
      "Season: 7   Episode: 18\n",
      "Season: 7   Episode: 19\n",
      "Season: 7   Episode: 20\n",
      "Season: 7   Episode: 21\n",
      "Season: 7   Episode: 22\n",
      "Season: 7   Episode: 23\n",
      "Season: 7   Episode: 24\n",
      "Season: 8   Episode: 1\n",
      "Season: 8   Episode: 2\n",
      "Season: 8   Episode: 3\n",
      "Season: 8   Episode: 4\n",
      "Season: 8   Episode: 6\n",
      "Season: 8   Episode: 7\n",
      "Season: 8   Episode: 8\n",
      "Season: 8   Episode: 9\n",
      "Season: 8   Episode: 10\n",
      "Season: 8   Episode: 11\n",
      "Season: 8   Episode: 12\n",
      "Season: 8   Episode: 13\n",
      "Season: 8   Episode: 14\n",
      "Season: 8   Episode: 15\n",
      "Season: 8   Episode: 16\n",
      "Season: 8   Episode: 17\n",
      "Season: 8   Episode: 18\n",
      "Season: 8   Episode: 19\n",
      "Season: 8   Episode: 20\n",
      "Season: 8   Episode: 21\n",
      "Season: 8   Episode: 22\n",
      "Season: 8   Episode: 23\n",
      "Season: 8   Episode: 24\n",
      "Season: 9   Episode: 1\n",
      "Season: 9   Episode: 2\n",
      "Season: 9   Episode: 3\n",
      "Season: 9   Episode: 4\n",
      "Season: 9   Episode: 5\n",
      "Season: 9   Episode: 6\n",
      "Season: 9   Episode: 7\n",
      "Season: 9   Episode: 8\n",
      "Season: 9   Episode: 9\n",
      "Season: 9   Episode: 10\n",
      "Season: 9   Episode: 11\n",
      "Season: 9   Episode: 12\n",
      "Season: 9   Episode: 13\n",
      "Season: 9   Episode: 14\n",
      "Season: 9   Episode: 15\n",
      "Season: 9   Episode: 16\n",
      "Season: 9   Episode: 17\n",
      "Season: 9   Episode: 18\n",
      "Season: 9   Episode: 19\n",
      "Season: 9   Episode: 20\n",
      "Season: 9   Episode: 21\n",
      "Season: 9   Episode: 22\n",
      "Season: 9   Episode: 23\n",
      "Season: 9   Episode: 24\n"
     ]
    }
   ],
   "source": [
    "# Check the source alignment\n",
    "results = {}\n",
    "for i in sorted(list(coarse_alignments.keys())):\n",
    "    for j in sorted(list(coarse_alignments[i].keys())):\n",
    "        if (i, j) not in all_transcripts:\n",
    "            continue\n",
    "        print(\"Season:\", i, \"  Episode:\", j)\n",
    "        try:\n",
    "            (en_subset, zh_subset, tbbt_episode) = fetch_subsets(\n",
    "                episode=all_transcripts,\n",
    "                en_subtitle=all_en_subtitles,\n",
    "                zh_subtitle=all_other_subtitles,\n",
    "                results=coarse_alignments,\n",
    "                season_id=i,\n",
    "                episode_id=j,\n",
    "                bias=200,\n",
    "                zh_split=True\n",
    "                )\n",
    "            # temp = generate_alignment_seeds(en_subset, tbbt_episode, window_size=6)\n",
    "            # if temp != {}:\n",
    "            #     results[(i, j)] = temp\n",
    "        except:\n",
    "            pass"
   ],
   "metadata": {
    "collapsed": false,
    "pycharm": {
     "name": "#%%\n"
    }
   }
  },
  {
   "cell_type": "code",
   "execution_count": 11,
   "outputs": [
    {
     "name": "stdout",
     "output_type": "stream",
     "text": [
      "====================================================================================================\n",
      "Oh, yes! - To attract money, eh?\n",
      "是的 －来聚敛钱财\n",
      "Oh, yes! 是的 \n",
      "To attract money, eh? 来聚敛钱财\n",
      "====================================================================================================\n",
      "Jaffad didn't tell me anything like that. - But maybe there was some message?\n",
      "没有，贾法特什么也没跟我说 －也许，他给了你什么？\n",
      "Jaffad didn't tell me anything like that. 没有，贾法特什么也没跟我说 \n",
      "But maybe there was some message? 也许，他给了你什么？\n",
      "====================================================================================================\n",
      "He said: \"Remember this day\". - What day?\n",
      "他说让我记住那一天 －哪一天？\n",
      "He said: \"Remember this day\". 他说让我记住那一天 \n",
      "What day? 哪一天？\n",
      "====================================================================================================\n",
      "On the roof! Stay here. - I'm coming with you.\n",
      "留在这里 －不，我跟你一起\n",
      "On the roof! Stay here. 留在这里 \n",
      "I'm coming with you. 不，我跟你一起\n",
      "====================================================================================================\n",
      "Yes. Also... We'll handle this. - Keep in touch with the Ministry of Defense.\n",
      "和美国人联系 －随时和国防部保持联系\n",
      "Yes. Also... We'll handle this. 和美国人联系 \n",
      "Keep in touch with the Ministry of Defense. 随时和国防部保持联系\n"
     ]
    }
   ],
   "source": [
    "# An example of fetch_subset function\n",
    "(en_subtitle, other_subtitle, tbbt_episode) = fetch_subsets(\n",
    "        episode=all_transcripts,\n",
    "        en_subtitle=all_en_subtitles,\n",
    "        zh_subtitle=all_other_subtitles,\n",
    "        results=coarse_alignments,\n",
    "        season_id=1,\n",
    "        episode_id=2,\n",
    "        bias=200,\n",
    "        zh_split=True,\n",
    "    )\n",
    "\n",
    "# for a, b in zip(en_subtitle, other_subtitle):\n",
    "#     print(a, b)"
   ],
   "metadata": {
    "collapsed": false,
    "pycharm": {
     "name": "#%%\n"
    }
   }
  },
  {
   "cell_type": "code",
   "execution_count": 27,
   "outputs": [
    {
     "name": "stdout",
     "output_type": "stream",
     "text": [
      "['贾法特怎么会相信这样的女人？', '法国银行家怎么会有一个 做恐怖分子的儿子？', '这个... ...', '我有一个光彩的家谱， 战争的牺牲者，孤儿...', '我是个非常有吸引力的孩子 我妈妈爱我爱的不行', '因为她不知道你会变成这样', '当然，我长大了并且成了一个定时炸弹', '当时机来临， 我变得孤伶伶的，能想起我的', '有我的阿拉伯朋友， 他们解释很多说他们需要这样的人 有钱，强壮，坚守信仰', '知道吗？ 像我一样的人才能制造革命', '通过我们的卫星正在进行密集的排查 在所有的近东和东南亚地区', '如果谁试图激活密码， 我们当然会标出信号 但接下来的问题是... ...', '不知道核弹的位置， 不知道发送机启动的时间 不知道信号会传送到哪里', '别给自己设定使命', '对于你和贾法特这样的败类来说， 你们的想法 就是生意！', '怎么， 想成为第一号恐怖分子吗？', '－是的 －来聚敛钱财', '钱...', '', '想法，有什么区别？', '为什么这些炸弹爆炸， 对你来说有关系吗？', '四个大城市，将下地狱', '这是最重要的', '这种级别的核弹激活 通常需要11位的数字 前七个让他们从\"苏醒\"过来， 随后大概20秒钟进行自我检测 和发回信号准备实施爆炸', '但是，防止爆炸只能在炸弹所在地 停止输入最后一组数字', '－这一切她都知道 －是的，她知道', '好了，我们回到事情上来', '为什么贾法特下令 杀死萨西克. 吉拉弥？', '在近东吉拉弥拍下了贾法特 实施谋杀和进行攻击的一些阴谋', '这里，在马来西亚，他需要钱 于是他用这些录像带来威胁贾法特', '你知道，谁取代了萨西克. 吉拉弥吗？', '贾法特让谁保存这最后一部分密码？', '－贾法特来过这里？', '－是 －哦', '我和贾法特4月14号在这里见过', '－他一个人住这里？', '－是', '意大利人是他忠实的律师 挪威人，朋友，对他进行治疗', '萨西克. 吉拉弥曾是 贾法特最亲近的帮手', '他会选择谁来代替吉拉弥那？', '他不会随便相信谁', '你们来这里多久了？', '我们那天早上来的', '－他没给任何人电话？', '－跟我在一起的时候没有', '没和任何人见面？', '和他的兄弟见过', '萨伊特在这里？', '－我们要和你谈谈，这非常重要', '我在哪里见过你', '是，我不久前来过这里，和你的哥哥', '贾法特死了，你们最好走吧', '听着，这很重要', '警察不会为你哥哥报仇的', '中情局总部，兰利，美国', '找到那个法国人了， 2小时前他在马来西亚出现', '我们的人一直监视贾法特的弟弟， 这就是今天那个人', '去找他，而且，不是一个人', '转达下去，严密监视， 逮捕他们，随时报告他们的行动', '－到阳台上来，一个人', '－谁打电话？', '－不知道，可能打错了', '你那里有贾法特的烙印， 说明他相信了你，死之前', '贾法特打电话给我， 他感觉，自己注定要失败', '－贾法特说...', '－我们在哪可以见到？', '在? 望塔', '一小时后', '－你不应该相信他，他骗你 －你认识他？', '他和我兄弟有过生意， 后来就分道扬镳了', '路易，这个混蛋，就把他们给扔了', '贾法特跟你说什么了？', '萨西克. 吉拉弥保存的数字变了， 那些数字在你这里', '在我这里？', '她问\"在我这里？\"', '他是这么说的', '－我不明白 －她转过身去了，我看不见她的嘴唇', '－没有，贾法特什么也没跟我说 －也许，他给了你什么？', '想想，他说你会猜出来的', '他相信你，你有他的印记', '记住，这一天， 这－是你生命中最重要的一天', '－他说让我记住那一天 －哪一天？', '我们从马来西亚回去三天后 他给了我这个印记', '我疼的大叫，他蹲下来， 重复说：\"记住这一天，记住！ \"', '他这么说的，让你记住这一天，是吗？', '就是说，从马来西亚回来的三天后', '贾法特给了你这个印章，我们来算算', '你们4月14号早上从古拉. 伦布尔起飞 就是说，晚上你们就已经到了他的掩体', '加上三天... ... 就是', '4月17号，17－04', '哈，这么简单... ... 呵，贾法特', '老狐狸，你知道吗，在古巴比伦', '给仆人一个烙印，让他记住重要的信息 因为疼痛会记忆深刻', '－你在哪里？', '－我正看着你', '好了，我该走了，我有一班飞机， 我们的合作结束了', '－我要杀了你 －别想了， 你现在没有我会有一大堆的问题', '拜拜', '这里，这里，快点', '－跳伞运动员和电视台的工作人员 在哪里？', '－留在这里 －不，我跟你一起', '跳伞真的很危险， 我们甚至覆盖了整个广场，来... ...', '－等等，这是什么，是她？', '－是她，是她！', '－哎，哎，中午好！ －你好', '你能帮助我吗？', '我想，我丈夫没有带我就起飞了', '\"28号\"呼叫', '连接', '我在古拉－伦布尔机场， 半小时前我朋友飞去了曼谷', '他登记的名字是...', '修正... ... 他飞去见贾法特', '－你确认吗？', '－我确定', '还有，有人跟踪我， 我不知道是谁，但好像是美国人', '－和美国人联系 －随时和国防部保持联系', '能超过他吗？', '我试试，但需要你们的帮助', '总之，我晚上要到莫斯科', '如果需要，当然我们会帮忙', '只是路线的改变需要跟地方上打好招呼', '不要担心这个，问题已经解决了', '好的，明白，奥列格.', '鲍里斯耶维奇 ，我怎么，她的职位是什么？', '好的，现在我们就起飞，好的', '上校同志，我们坐飞机去吧？', '－在你们后面？', '请吧', '有很大的可行性来', '设置一个核弹控制系统', '我们的合作伙伴会按时到那里， 但只有一个人', '需要支援，空军只能赶得及 从波斯湾地区...', '尼古拉. 彼德洛维奇，国家是不友好 ，但是我们是在 对抗核恐怖威胁 ，所有国家的态度都是一样的', '请吩咐，尼古拉.', '帮我接国防部', '我不知道，你是... ... 如果你看到这个录像带， 那么说明我已经死了...', '如果你是我的朋友， 你应该知道怎么做... ... 如果是敌人，抢先一步， 周围有很多的炸药，那么5分钟后 这个掩体就会飞到空气中去', '从\"C\"目标处传来信号', '工作吧！', '－尼古拉.', '彼德洛维奇，发现了目标 －贾法特的掩体？', '－是 －明白了', '－你还是告诉了我错误的数字 －输入第一部分密码', '设备解除封锁，输入第二部分密码', '尊敬的同事们，我们邀请大家 来是为了通知你们在这个时候', '波斯湾地区正在进行 由我们的特种部队参与的行动', '－你怎么到这里来了？', '－和你的人说好了', '据我们的消息，中情局错误的 把他们作为恐怖集团的成员， 一直监视他们', '输入第二部分密码，自我检测程序开始', '回复信号出现了', '第一组坐标有了，第二个城市也有了', '第三个有了，还有第四个', '我们找到了', '是纽约，东京，伦敦... ... 和莫斯科 输入最后一部分密码', '对于银行家来说不错', '好了，小姑娘，游戏结束了', '怎么样，感觉如何？', '我们继续？', '他找到刽子手了', '信号消失了', '听我的命令射击', '目标在爆炸区，等待命令', '见鬼，那是什么？', '怎样的一个俄罗斯上校', '她... ... 不，我不打算和俄罗斯人 战斗，是的，先生', '没有花生', '但有花生油吧?', '你们每个人都盯着Howard 以防他突然肿胀', '既然现在不是看\"拼字大赛\" 你可以吃我的肾上腺素', '有筷子吗?', '你不需要筷子 这是泰国菜', '又来啦', '泰国自19世纪后半期起使用餐叉', '有趣的是 他们不直接叉食物进嘴 而是叉食物进汤匙 再送进嘴里', '你敢不敢找他要餐巾纸?', '我看起来肿吗?', '我觉得有点鼓鼓的', '嗨 Leonard', '嗨 Penny - 打扰到你们了?', '没有 你没有肿胀 Howard', '不 不 看我的手指 就像维也纳腊肠', '看起来你有客人', '他们哪儿也不去', '你刚下班啊 工作怎么样?', '你知道嘛 芝士蛋糕工厂 人们购买蛋糕 我给他们就行', '也就是说你类似于是 碳水化合物的运送系统', '是啊 随便你怎么叫它 我能拿到基本工资', '好吧 不管怎么说 我在想你能不能帮我个忙?', '没问题', '太好了 明天我有些家具要运过来 我可能不在家 所以...', '你...', '抱歉?', '没人用俄语夸奖过你的绝世美貌吗?', '不 没有', '你得习惯这个', '呃 我可能很难习惯', '嘿 Sheldon', '嗨 嘿 Raj', '还是不理我 嗯?', '别放在心上 这是他的病状 他没法和女人说话', '没法和迷人的女人说话 而你是芝士蛋糕香气逼人的女神', '那么 有家具要搬过来?', '对 如果明天送来时我不在 你能帮我签收一下吗? 然后搬进我的房间?', '没问题', '太好了', '这是我的备用钥匙 谢谢', 'Penny 等等', '如果你没别的计划 要不来和我们一起吃泰国菜 还有超人电影马拉松?', '马拉松?', '哇噢 你们那儿有多少部超人电影?', '你开玩笑 对吧?', '我超喜欢那部 路易丝・莱恩从直升机上坠下 超人嗖地一下过去接住她', '那是哪一部?', '就一部', '你知道那场景里 充斥着科学错误吧', '是啊 我知道 人类不能飞', '不 不 让我们假设人类可以', '路易丝・莱恩以32英尺/秒平方的 初始加速度急速坠落', '超人突然下降 用钢铁般的手臂接住她', '莱恩小姐此时大约速度在120英里/时 猛撞上超人的手臂后 她会马上被切成三等分', '除非超人赶上她的速度并减速', '哪还有时间 先生?', '哪有时间?', '她离地面只有两英尺 坦白讲 如果他真的爱她 就应该让她直接撞地', '那会是种更仁慈的死法', '抱歉 你全部的争论 都只是建立在一个假设上 假设超人的飞行能力 是一种力量的特技', '你知道自己说什么吗?', '这一点是毋庸置疑的啊', '这是他跳跃高楼能力的延伸 是他从太阳光中获取的能力', '你没发现问题吗? 那他在夜里怎么飞行?', '哦 结合月球的日光反射 以及氪星人皮肤细胞中贮存的能量', '我要回去洗个手先', '我那儿有2600本连环画册', '你敢不敢去找出 所谓的\"氪星人皮肤细胞\"的内容?', '接受挑战', '我们被锁在外面了', '还有 漂亮女孩也走了', '房间在四楼 可是电梯坏了', '所以你们得... 你们就这么走了?', '好吧 没事 谢谢', '我们自己搬上去吧', '我不这么想', '呃 我们没有手推车 没有升降运送带 也没有那么强悍的上肢力量', '我们不需要靠蛮力 我们是物理学家', '我们是阿基米德的精英后代', '给我一个杠杆 一个支点 我就能撬动地球', '可问题是...', '我没有', '我没有!', '我没有! 阿基米德会为你骄傲的', '你有办法吗?', '有 但都需要绿灯侠和能量指环 ', '慢点...', '现在我们弄成了斜面', '运上去所需的力度 按梯角的正弦值减少 30度角的话 就减少一半力气', '才一半', '来推吧', '看 推动了 很容易', '一切都是数学原理', '遇到转角 你用什么公式?', '好吧 呃...', '没问题 你上来这儿帮我拉 然后转弯', '啊 地心引力 你真是无良的婊子', '你得明白我们这儿所有的努力 绝不可能增加你和那女人 发生性关系的几率', '男人为女人做事 并不是只求做爱予以回报', '那是对于做过爱的男人来说', '我这么做是想成为一个好邻居', '无论如何 这也绝不会降低几率啊', '快到了', '不 还没到', '对不起', '不 还没到', '小心你的手指 好的', '上帝啊 我的手指!', '你没事吧?', '不 她...', '伟大凯撒的亡灵啊 看看这地方', '看来Penny的房间有一点凌乱', '有一点凌乱?', '高次幂Mandelbrot集的复杂数字 才叫有一点凌乱', '这简直是一团糟', '你解释下 一个餐具盘放在沙发上 这样的组织系统能叫合理吗?', '现在 我只是假设这是沙发 因为证据显示 咖啡桌上正进行一场小型旧货出售', '你有没想过 并不是每个人都觉得必须要... 归类 整理 并将一切事物都贴上标签?', '没有想过', '其实人们不这样 也许你很难相信', '大多数人并不用纤维量 去归类他们的芥麦早餐', '抱歉 但我认为我们都发现 有时那个很管用', '快点 我们得走了', '我在清理', 'Sheldon 这不是你的家', '这根本不能叫家 这是社会恶化的旋涡中心', '当易装癖住在这儿的时候 你就不计较他怎么糟蹋这的', '因为他的很完美 当你打开那男人的衣橱时', '从左到右依次是女士晚礼服 女士短裙 然后是警察制服', '你去翻他的衣橱干什么?', '我帮他调试摄像头网线', '嘿 伙计们 - 嘿 Penny', '家具刚到 我们搬上来...', '刚刚', '太好了 你们搬上楼来很费劲吧?', '\"不\"?', '好了 我们出去了', '太好了 再次谢谢你们', 'Penny', '我只是想让你知道 你没必要这样生活', '有我在呢', '说笑话', '我没听懂', '是啊 他讲不来笑话的', 'Sheldon?', 'Sheldon!', 'Penny在睡觉', '你不能就这么闯进一间女人的公寓 生更半夜 还打扫整理', '我没法睡着 明明知道 我卧室外是客厅 客厅外是走廊 而直接紧接走廊的是...', '你有没想过万一Penny醒了 该如何解释我们在这儿呢', '我刚就给了你一个合理解释', '不 不 你给了我一个解释', '可它的合理性 得由你的同伴陪审团来裁决', '别说笑了', '我没什么同伴', 'Sheldon 我们得出去', '也许你得降低声调', '人类进化使得女性在睡觉时 对高声调的噪音特别敏感 这样她们就能被哭闹的婴儿唤醒', '如果你不想吵醒她 降低声调', '不 \"太可笑了\"', '我接受你的假设 拜托 我们走', '没清理完 我不会走的', '如果你如此清闲 还不如帮着清理', '噢 该死的', '我得说我睡得非常好', '老实说 睡得不久 但是很深很沉', '我不觉得惊讶', '一个有名的民间治愈失眠法 就是闯入邻居的房间打扫清理', '讽刺我吗?', '老实说 我的方法也许有些极端 但我认为最终有效地 增进了Penny的生活质量', '你说得对 也许今晚我们该再偷溜去 给她的地毯来个泡泡浴', '你不觉得那样太过火了吗?', 'Sheldon 难道要我每次开口讽刺你时 都举块讽刺牌?', '你有讽刺牌?', '不 我没有讽刺牌', '你想来些芥麦吗?', '今天感觉真好 我决定选择 架子尾端的低纤维食物', '哈罗 蜂蜜泡芙', 'Penny起床了', '你们这些恶心变态的杂种!', '她怎么知道是我们?', '我也许在她卧室的衣橱 留下了一个暗示性的组织记号', 'Leonard!', '上帝啊 糟糕了', '再见 蜂蜜泡芙 哈罗 大糠芥麦', '你们昨晚趁我睡着时 进了我的房间?', '! 是的 但只是帮你清理房间', '顶多也就是整理 本质上讲 你并不脏', '把钥匙还给我', '你们知道这有多么可怕吗?', '是的 我们昨晚详细地讨论过了', '我的房间 趁我睡着时?', '!', '还打鼾 那也许是种鼻窦传染病', '但那会引发睡眠时呼吸暂停 你最好去看耳鼻喉科医师', '就是看咽喉的医生', '哪种医生能从屁股里提鞋?', '依深度来看 那可能是直肠病医生 或是普通外科医生', '上帝!', 'Penny 你现在的想法完全正确 也许再过一会儿', '当你感到不是那么... 该怎么说 被冒犯时 我们可以再谈谈这件事', '当然 那也是种方法', 'Penny Penny!', '等等 澄清一下 因为你离开后 这儿会展开讨论', '你是只反对我们 趁你睡着时偷溜进你房间 还是也反对被强迫接受一个 全新而井井有条的模范房间?', '呃 这个回答太含糊了', '你得马上大步走去 正式向她道歉', '那不是讽刺吗?', '不是', '哇 小子 今早什么话都是你说了算啊', '我有一个硕士学位 两个博士学位 我不应该这么做', '! 对于昨晚发生的事 我真挚地向你道歉', '我负全部责任', '而且我希望不会影响到 你对Leonard的看法 他不仅仅是个好人 而且我听说 他是个温和细心的好情人', '嗨 Raj', '嘿 听着 我不知道你是否听说了昨晚 Leonard和Sheldon干的事 但我是真的很生气', '我是说 他们... 居然闯进我的房间打扫', '你能相信吗?', '她离我非常近', '哦 她闻起来真香', '什么味道 香草?', '知道吗 在我家乡 如果有人这样做 你直接毙了他 明白吗?', '不仅仅是射伤他', '我是说 好吧 我姐姐把她丈夫开枪打死了 但只是意外 他们喝醉了', '等等 我刚说什么?', '她的话真多', '也许爸妈说得对', '也许我最好和一个印度女孩远走高飞', '我们有相同的文化背景 我妻子可以给孩子们唱同样的摇篮曲 就像我妈妈对我唱的一样', '很明显他们是好意 但我只是...', '我这段时间很难熬 就像我说的 我和男友分手了...', '因为我生命中出现的 大部分男人都是混蛋 但并不表明我能假定 Leonard和Sheldon也是', '她问我问题了 我应该点头', '我就是这么想的 谢谢你的倾听', '你真是个好人', '哇哦 转动你的骨盘', '喔! 拿张纸巾吧 哥们 你被尬舞了 （Tears： 详见南方公园804）', '好了 你赢了', '怎么回事?', '他假想的女友和他分手了', '又来了', '抱歉迟到了 我在走廊和Penny聊天', '你 Rajesh Koothrappali 和Penny说话了?', '事实上 我更多的是倾听者 而非叙述者', '她说了些什么?', '她还生我气吗?', '呃 她开始很生气 但可能因为她姐姐开枪射死过某人', '但然后提到了你们 再然后就抱了我', '她抱你?', '怎么抱你的?', '我闻到的是她的香水味吗?', '令人陶醉 不是吗?', '怎么了?', '呃... 是这样', '\"Penny\" \"就像奥本海默站出来 为他发明第一枚原子弹而道歉\" \"我同样感到抱歉\"', '\"人类伟大实验的标志在于 主动承认错误\"', '\"这些错误 例如居里夫人发现的镭\" \"被发现具有巨大的科学研究潜力\" \"虽然她此后死于 慢性而痛苦的辐射中毒\"', '\"另一例子 在埃博拉病毒的研究领域\"', 'Leonard?', '62个木钉', '有 - 一包飞利浦螺旋钉', '伙计们 我在农场长大的好不好', '我大概12岁时就重组了 一台拖拉机发动机', '我想我能组装这样一个 便宜的瑞典货家庭影院', '不 让我们来 考虑到这是我们唯一能做的', '考虑到什么?', '这地方看起来多棒?', '伙计 我害怕这个', '这些说明书尽是组装这些配件 最没有想象力的方法 真是形象代表啊', '这就是为什么瑞典没有太空计划', '呃 在商店里看起来还不错', '这个设计效率很低 比方说 Penny有一台纯平电视', '这意味着后面的空间都浪费了', '我们可以把她的立体音响放在后面', '怎么控制调节呢?', '接一个红外线转发器 这边发射区域 这边发射器 简单易行', '好主意 那你怎么散热?', '嘿 伙计们 我知道了', '等等 Penny', '扇子如何?', '这里和这里', '还是不行 可能会有噪音', '液体冷却剂如何?', '也许放个玻璃缸泵在这儿', '装四分之一英尺的PVC...', '伙计们 这个其实真的很简单', '等等 亲爱的 男人在做事', 'PVC从这儿下来', '也许一点褶皱的金属片 作散热器放这儿', '真的吗? 指指看 在哪儿放水柱 水闸 和蓄水池', '如果要引水进来 我们就得接地线', '伙计们 这儿很热 我想我要把衣服都脱了', '哦 我明白了', '要不我们换掉面板A B和F 横木H 用航行器使用的铝?', '对 那这整个就是一个大散热器', '完美 Leonard 你和Sheldon去废品回收站', '找些六平方米的废铝片', 'Raj和我去实验室弄些氧乙炔炬', '一小时后见?', '就这样', '好吧 这里看起来确实不错 -=YTET', '魔兽中... 非常好 再前进几步...', '准备好 先生们 Elzebob大门到了', '上帝啊', '别慌 坚持97小时的战斗就为了这一刻', '待着别动 一群装备武器的地精', '正在门的另一边 守卫着艾辛诺斯之刃', '战士们 拔出你们的武器 法师们 举起你们的魔杖', '准备好了', 'Raj 推开大门', '推开大门', 'Control Shift... B!', '天啊 那么多地精!', '别傻站在那里 向前开路!', '向前开路! 保持阵形!', 'Leonard 有个敌人在你背后', '没事 我脑后长眼着呢 我会干掉他的', '我打中他了 Leonard', '今晚我要用那地精的血来祭酒', 'Raj 不要 这是个陷阱!', '他们在夹击我们! 我被打中了!', 'Sheldon 他打中Raj了 快用你的催眠咒!', 'Sheldon Sheldon?', '我拿到了艾辛诺斯之刃!', '别管剑了 Sheldon 快救Raj!', '我不再是Sheldon了', '我是剑圣!', 'Leonard 当心!', '该死 我们快不行了!', '再见了 土人们!', '那混蛋走了!', '他在ebay上出售那把艾辛诺斯之刃', '你为了钱背叛我们?', '你怎么这样?', '我是暗夜精灵盗贼 你们没有读过角色介绍吗?', '等等!', '有人点击了\"立即购买\"', '哦 我身上都是汗 谁想再进入\"第二人生\"游个泳?', '我刚建了个虚拟游泳池', '不 我现在不想看见你或是你的兽身', '好像是隔壁的声音', '别忘了带上你\"无意\"拿到的信件 这样你就有借口跟她说话了', '噢 对 对', '偷窃信箱邮件 很老套的方法 我喜欢', 'Penny 邮差又...', '哦 抱歉', '嗨 Leonard 这是Doug', 'Doug 这是我邻居Leonard', '有事吗 老兄?', '没什么...', '老兄', '一切还好吧?', '是啊 我只是... 我又错拿了你的信 给你', '谢谢 我得和邮差说说了', '不 这主意不怎么好', '人民公仆总是非常容易... 动粗', '好吧 还是谢谢你', '没问题 再见', '哦 再见...', '老兄', '呆呆地在想什么呢? ', '怎么回事?', '我很好 Penny也很好', '和她接吻的家伙也很好', '接吻 哪一种? 脸颊?', '嘴唇? 情人? 朋友?', '你什么毛病啊?', '我是个浪漫主义者', '别告诉我你不可救药的迷恋 发展成了无意义的嫉妒', '我不是嫉妒 只是有点担心她', '我不怎么喜欢那家伙的长相', '因为他长得比你帅气?', '可以说是梦幻般的外形', '只是你现在还能从燃烧的废墟里 找回装满对她美妙幻想的黑匣子 好好分析下数据 你就不会再坠入\"呆子谷\"', '我反对 爱情不是短跑 而是马拉松', '永不放弃地追逐 直到她最终投入你的怀抱 或是用防狼喷雾剂喷你', '不 我和Penny结束了', '我要更现实些 去追求合我拍的人', '比如谁?', '不知道...', 'Olivia Geiger', '自助餐厅里那个有点跛 还有弱视的营养学家?', '哦 我看你没戏', '我注意到Leslie Winkle 最近在刮她的腿毛', '既然冬天都已经到了 只能说明她是在暗示 她可以作为做爱对象', '我不清楚 你们在同一个实验室', '所以呢?', '这有隐患 相信我 我清楚', '说到性骚扰的相关法律 我可是自学而成的专家', 'Howard 如果我要约Leslie Winkle出去 也只是吃顿饭', '我不会去实验室 要她为我跳脱衣舞', '哦 那你就没事了', '嗨 Leslie', '嗨 Leonard', 'Leslie 我建议做个实验...', '戴上眼镜 Leonard', 'Leslie 我建议做个实验', '我想试试一个500千瓦氧碘激光器 得花多久把我的杯装泡面加热', '我试过 大概2秒 蔬菜汤花2.6秒', '总之 我在考虑来个生物学的社交探索 结合神经化学方面的专家知识', '等等 你约我出去?', '我认为是改变我们 同事/友谊关系的范例 外加个约会作为补充成分', '但我们不需要一直说术语', '你计划做怎样的实验?', '这个领域有种普遍接受的模式', '我去接你 带你去餐厅 接着我们可以看场电影', '也许一部休・格兰特或桑德拉・布洛克 天才演绎的浪漫轻喜剧', '你是否同意 我们评价约会成败的依据 是基于离别之吻时的化学反应?', '心跳率 生化信息素等等 的确', '我们干嘛不假定约会很顺利 直接进行关键的有变数的部分?', '你意思是现在就吻你?', '你怎么定义吻的参数吗?', '嘴唇的亲密度还有浪漫度 要薄荷吗?', '我数三下?', '不 我觉得应该自然点', '感觉怎么样?', '你提出的实验方案 该由你先说说实验的发现', '从正面讲 这个吻很不错 合理的技术 没有多余的唾沫', '另一方面讲 没什么感觉', '没感觉?', '呃 很感谢你抽出时间', '谢谢你', '一点感觉都没?', 'Sheldon 如果你是机器人 我知道但你自己不知道... 你希望我告诉你吗?', '当我得知我是机器人... 我有能力承受吗?', '也许吧 虽然历来的科幻小说 都不能苟同这点', '好吧 我来问你', '当我得知我是机器人 我要受限于阿西莫夫的\"机器人三定律\"吗?', '你可能现在就受限哦', '就是啊', '你伤害过人类吗? 或任人受伤而袖手旁观?', '除非在他人危险的情况下 你会伤害自己 或容忍自己被伤害吗?', '呃 没有', '我闻到机器人的味道了 ', '嘿 过得怎么样?', '互联网瘫痪半个小时了', '还有 Sheldon可能是机器人', '和Leslie怎么样啦?', '哦 我们试着接吻 但地球没转', '我是说 比地球原来转的383英里要更多', '哦 我以前看过他这表情', '未来两周 他将不停地拖地 哼唱乏味的情感核歌曲 要我下去宠物商店看猫', '我不知道撑不撑得住', '你可以关掉自己的电源', '一如既往 Wolowitz会有解决办法的', '我碰巧知道个好地方 有很多符合条件的女士 Leonard可以任意选', '记住拉丁舞的技巧', '肩膀挺直 然后摇摆', '一 二 三...', '五 六 七', 'Tishman女士一直盯着你呢', '我有过经验 你会喜欢的', '哦 上帝', '\"哦 耶\" 天啊 这歌真棒', '当然 如果这是你为双重自杀混合录制的CD', '我希望那\"猫抓柱\"是你自己用的', '我知道你在想什么 你的哮喘病我有考虑在内', '圣地亚哥有个研究猫科的遗传学家 培育了一种超可爱的低变应原小猫', 'Leonard 听我说...', '我在想给它起什么名字', '在爱因斯坦 牛顿和毛靴中士之间犹豫', 'Leonard 你真认为养一只转基因猫 可以满足你的感情需要吗?', '也许 一只让人爱不释手的可爱小猫', '得了吧 Leonard...', '这都是因为Penny吧', '没所谓', '她对我不感兴趣 拒绝了我', '听着 我认为你能跟Penny做爱的几率', '跟哈勃太空望远镜发现在每个黑洞中央 都有个小人在用闪光灯 寻找断路器的几率一样大', '尽管如此 我还是有责任向你指出 她并没有拒绝你', '你从没邀请她去约会', '我没请她约会过 我该去请她约会', '不不不 重点不是这个', '重点是 不要养猫', '不 你是对的', '我该过去请她约会', '天 我们要养猫了', '啊...', '你好 Leonard', '下午好 Penny 嗨 你好', '你约了人吃饭吗?', '今晚的饭?', '\"饭\"这个词本身就意思含糊', '严格说来它所指的是一日的主餐 可以是午餐或晚餐', '为了说清楚 我指的是晚饭', '晚饭?', '就是吃饭啦', '如果你有空 6点半行吗? 或者其他你方便的时间', '6点半可以啊', '我喜欢跟你们一起玩', '我们?', '对 Sheldon Howard Raj 他们都一起吧?', '他们... 可能都会去吧', '或者他们中的有些人可能去', '从代数角度看 太多未知数了', '比如 Sheldon中午吃了Quizno三明治', '有时他觉得吃那个饱 有时候不觉得', '这不是店家的错 他们的菜单很丰盛', '好吧 无所谓啦 听起来挺有意思的', '很好 我们约时间了吗?']\n"
     ]
    }
   ],
   "source": [
    "print(other_subtitle)"
   ],
   "metadata": {
    "collapsed": false,
    "pycharm": {
     "name": "#%%\n"
    }
   }
  },
  {
   "cell_type": "code",
   "execution_count": 28,
   "outputs": [
    {
     "name": "stdout",
     "output_type": "stream",
     "text": [
      "['How could ever Jaffad trust this kind of woman?', \"How could a French banker adopt a terrorist's son?\", 'I was provided with a clean legend.', 'An orphan, a warvictim...', 'Also, I was such a darling child, my new mom adored me.', \"Because she didn't know what you will become.\", 'Oh yes. I was growing, and I was like a time bomb.', 'Then I got orphaned once more, and my Arab friends found me.', 'I was just the person they needed - someone rich and strong, and dedicated to the idea.', 'People like me work revolutions!', \"We're scanning the Middle East and South-Eastern Asia trough our satellites.\", 'Should someone activate the code, we can intercept the signal, but will ten face a problem.', \"We don't know the whereabouts of the bombs, we don't know the trigger period, we can't trace the source of the signal.\", \"Don't play a Messiah.\", \"For morons like you and Jaffad, it's all not about idea, but about business.\", 'You want to become a terrorist number one?', 'Oh, yes! - To attract money, eh?', 'Yes, to attract money...', 'Or some big idea.', \"What's the difference?\", \"Doesn't matter what will trigger of the bombs.\", 'Four huge cities will go to hell!', \"That's what matters!\", \"The code for the bombs like these to self-activate is usually eleven numerals, the first seven numerals wake the bombs up, ten there follow 20 seconds of testing and sending stand-by signals, that's when we can track down the location of bombs,\", 'but they can be only be neutralised on the spot, by stopping someone who wants to enter the rest of the code.', 'Does she know about this?', \"Yes. Okay, let's skip all sentiments. Let's set down to business.\", 'Why did Jaffad order to kill Sakhik Kirami?', 'Kirami had tapes with murders carried out by Jaffad in the Middle East.', 'Here in Malaysia, Kirami was in need of money and started blackmailing Jaffad.', 'Who stands for Kirami now?', 'Who is now the keeper of the last code portion?', 'Jaffad came to this city?', 'Yes.', 'I met with Jaffad here on April the 14th.', 'He stayed alone here?', 'Yes.', 'The Italian was his lawyer, the Norwegian - his friend and physician.', 'Sakhik Kirami was his closest helpmate.', \"Whom did he choose in Kirami's stead?\", \"He couldn't trust some random person.\", 'How long did you stay here?', 'We flew away on that very day.', 'Did he call anyone?', 'No, as far as I know.', 'Did he meet with anyone?', 'He did see someone... His brother.', 'Said he is in town now.', \"We need to talk. It's very important.\", \"I've met you some where before.\", 'I was here not long ago, with your brother.', 'Jaffad is dead. You should leave.', \"Look, it's very important.\", \"Police can't avenge the death of your brother.\", 'CIA HEADQUARTERS LANGLEY, USA', 'We found our French guy! He is in Malaysia!', \"Our people are watching Jaffad's brother.\", 'That type visited him today! And he came with company!', 'Watch them closely, report about their movements.', 'Come out on the balcony.', 'Who was calling?', \"I don't know. Wrong number.\", \"You wear Jaffad's brand. Means he trusted you.\", 'Before his death he called me. He felt that he was doomed.', 'He said that...', 'Where can we meet?', 'On the observation deck.', 'In 60 minutes.', \"Don't trust him. He will cheat you.\", 'He was doing business with Jaffad. And then they parted ways.', 'Louis was always a piece of scum.', 'What did Jaffad tell you?', 'He said he had changed the numerals borne by Akhik Kirami, and that you are the one bearing the new ones.', \"I'm the one?\", 'She said, \"I\\'m the one\"?', \"Yes, that's what he said.\", \"I don't understand. She turned away, I can't see her lips.\", \"Jaffad didn't tell me anything like that. - But maybe there was some message?\", 'Try to remember. He said that you will guess.', 'He trusted you. You wear his brand!', 'Remember this day!', 'He said: \"Remember this day\". - What day?', 'This brand hurt for three days after we returned from Malaysia.', 'I was screaming from pain, he leaned over me and said all the time: \"Remember this day.\"', \"That's what he said? To remember that day?\", 'Three days after you both came from Malaysia', \"Jaffad had this brand burnt on your hand. Let's count:\", 'You left Kuala Lumpur in the morning of April the 14th, and in the evening you arrived at his fortress.', 'Plus three days...', 'Makes April the 17th!', 'As simple as that!', 'That old fox!', 'Back in ancient Babylon servants were branded so they could remember some important information, along side torments which stay in your memory.', 'Where are you?', \"I'm looking straight at you.\", \"My plane's leaving soon.\", \"I will kill you. I don't think so.\", 'Bye Bye.', 'This way!', \"Where's the base jumper and reporters? - On the roof!\", \"Stay here. - I'm coming with you.\", \"It's a dangerous jump, we even cleared the square of people.\", \"It's her!\", 'Yes!', 'Hi, good afternoon.', 'Please, can you help me?', 'My husband took the plane and left me here...', 'Number 28 on the line.', 'Put her through.', \"I'm at the airport in Kuala Lumpur. 30 minutes ago our client took a plane to Bangkok.\", 'He is registered as...', \"Correction - he is flying to Jaffad's place...\", 'Possible source of signal', 'Object C.', 'Are you sure? - Yes. Also...', \"We'll handle this. - Keep in touch with the Ministry of Defense.\", 'Can you get there before him?', \"Yes, but I'll need your help.\", 'I need to be in Moscow by this evening.', \"Of course, if it's so important.\", 'But, the new route, we should notify the local authorities.', \"We've already done it.\", 'Great.', \"And how do I address her? What's her rank?\", \"Okay, she'll be leaving right now. Good.\", \"Well, Colonel, let's go.\", \"They're after you?\", 'This way.', \"We've found the likely location of the control unit.\", 'MOSCOW.', 'LUBYANKA Our agent will get there alone.', \"We'll need reinforcements. Only aviation group from the Persian Gulf can be in time there.\", \"It's a problem country, but we've a case of nuclear terrorism on our hands.\", 'Yes, Nikolai?', 'Put me trough to the Minister of Defense.', \"I don't know who you are, but if you're watching this tape, it means I'm dead already.\", 'If you are a friend, you know what to do, if you are the enemy - run for your life, as in five minutes the fortress will blow up.', \"We've got a signal from Object C!\", \"Let's work!\", \"The signal's coming through.\", \"Jaffad's fortress?\", 'Yes. Understood.', 'So, you told me the wrong numbers. \"First part of the code entered.', 'Device Unlocked\" \"Enter the second portion\"', 'Dear colleagues, we want to inform you of the following... MOSCOW.', \"LUBYANKA We're holding a secret operation in the Persian Gulf, being performed by our FSB officer.\", 'How did you get here?', 'I convinced your people.', \"We've information that the CIA are watching our agent, which they take for a member of a terrorist organisation.\", '\"Second part of the code entered. Testing Activated\"', 'We have return signals.', \"We've got the first coordinates... The second city...\", 'The third city, fourth city.', 'We have their targets.', 'New York, Tokyo, London and Moscow', 'Not bad for a banker.', 'Oh, yes, baby. The game is over.', 'How are you?', \"Let's go on.\", 'He found Butcher...', 'Signal terminated.', 'Shoot on my command only!', 'Target locked-on. Waiting for your command.', \"What the hell? What's going on?\", \"A Russian colonel? But isn't she...\", \"Of course I ain't going to fight with the Russians...\", 'Here you go. Pad Thai, no peanuts.', 'Does it have peanut oil?', 'Everyone keep an eye on Howard in case he starts to swell up.', \"Since it's not bee season, you can have my epinephrine.\", 'Any chopsticks?', \"Don't need chopsticks, this is Thai food.\", 'Here we go.', 'Thailand has had the fork since the latter half of the 19th century.', \"They don't put the fork in their mouth, they use it to put the food on a spoon which then goes into their mouth.\", 'Ask him for a napkin, I dare you.', 'Do I look puffy?', 'I feel puffy.', 'Hey, Leonard. - Oh, hi, Penny.', 'Am I interrupting?', \"You're not swelling, Howard.\", \"No, look at my fingers, they're like Vienna sausages.\", 'Sounds like you have company.', \"They're not going anywhere.\", \"So you're coming home from work. That's great. How was work?\", \"You know, it's a Cheesecake Factory people order cheesecake and I bring it to them.\", 'So you kind of act as like a carbohydrate delivery system?', 'yeah, call it whatever you want, I get minimum wage.', 'Yeah. I was wondering if you could help me out-', 'Yes. - Oh.', \"Okay, great, I'm having some furniture delivered and I may not be here, so, oh-\", 'Hello.', \"I'm sorry?\", \"Haven't you ever been told how beautiful you are in flawless Russian?\", \"No, I haven't.\", 'Get used to it.', \"yeah, I probably won't. - Hey, Sheldon.\", 'Hi.', 'Hey, Raj.', 'Still not talking to me, huh?', \"Don't take it personally, it's his pathology. - He can't talk to women.\", \"He can't talk to attractive women. Or in your case, a cheesecake-scented goddess.\", \"There's gonna be some furniture delivered? - Yeah.\", \"If it gets here and I'm not here, could you sign for it and put it in?\", 'Yeah, no problem.', \"Great, here's my spare key.\", 'Thank you.', 'Penny, wait. - Yeah?', \"If you don't have any other plans do you wanna join us for Thai food and a Superman movie marathon?\", 'A marathon?', 'Wow, how many Superman movies are there?', \"You're kidding, right?\", 'I do like the one where Lois Lane falls from the helicopter and Superman catches her.', 'Which one was that?', 'One.', 'You realize that scene was rife with scientific inaccuracy?', \"Yes, I know, men can't fly.\", \"No, let's assume that they can.\", 'Lois Lane is falling. Accelerating at an initial rate of 32 feet per second.', 'Superman swoops down to save her by reaching out two arms of steel.', 'Miss Lane, who is now traveling at approximately 120 miles an hour, hits them and is immediately sliced into three equal pieces.', 'Unless Superman matches her speed and decelerates.', 'In what space, sir? In what space?', \"She's 2 feet above the ground.\", \"If he really loved her, he'd let her hit the pavement.\", \"It would be a more merciful death. - That doesn't-\", \"Excuse me, your entire argument is predicated on the assumption that Superman's flight is a feat of strength.\", 'Are you listening to yourself?', \"Superman's flight is a feat of strength.\", 'An extension of his ability to leap buildings an ability he derives from exposure to sun-', 'How does he fly at night?', \"A combination of the moon's solar reflection and the energy storage capacity of Kryptonian skin cells.\", \"I'm just gonna go wash up.\", 'I have 2600 comic books in there.', 'I challenge you to find a single reference to Kryptonian skin cells.', 'Challenge accepted.', \"We're locked out.\", 'Also, the pretty girl left.', \"Okay. Her apartment's on the fourth floor, elevator is broken, you're gonna-\", \"Oh, you're just gonna be done?\", 'Okay, cool, thanks.', \"I guess we'll just bring it up ourselves.\", 'I hardly think so.', \"Well, we don't have a dolly or lifting belts, or any measurable upper-body strength.\", \"We don't need strength. We're physicists.\", 'We are the intellectual descendents of Archimedes.', 'Give me a fulcrum and a lever and I can move the Earth.', \"It's just a matter\", \"I don't have this!\", 'I do not have this!', 'Archimedes would be so proud.', 'Do you have any ideas?', 'Yes, but they all involve a Green Lantern and a power ring.', 'Easy.', \"Now we've got an inclined plane.\", 'Force required to lift is reduced by the sine of the angle of the stairs call it 30 degrees, so about half.', 'Exactly half.', \"Let's push.\", \"Okay. See, it's moving. This is easy.\", \"It's all in the math.\", \"What's your formula for the corner?\", 'Oh, okay. Okay, yeah, no problem.', 'Just come up here, help me pull and turn.', 'Oh, gravity, thou art a heatless bitch.', 'You do understand that our efforts here will in no way increase the odds of you having sexual congress with this woman?', 'Men do things for women without expecting sex.', 'Yeah, those would be men who just had sex.', \"I'm doing this to be a good neighbor.\", \"In any case, there's no way it could lower the odds.\", 'Almost there.', \"No, we're not.\", \"No, we're not.\", \"No, we're not. - I'm sorry.\", 'Watch your fingers. - Yeah.', 'Oh, God, my fingers!', 'you okay?', 'No, it hurt-', \"Great Caesar's ghost, look at this place.\", 'So Penny is a little messy.', 'A little messy?', 'The Mandelbrot set of complex numbers is a little messy.', 'This is chaos.', 'Explain to me a system where a tray of flatware on a couch is valid?', \"I'm just inferring that this as a couch because the evidence suggests the coffee table's having a tiny garage sale.\", 'Did it occur to you that not everyone has the compulsive need to sort organize and label the entire world around them?', 'No.', \"Well, they don't.\", \"Hard as it may be to believe most people don't sort their breakfast cereal numerically by fiber content.\", \"Excuse me, but I think we've both found that helpful at times.\", 'Come on, we should go.', \"I'm straightening up.\", 'Sheldon, this is not your home.', \"This is not anyone's home. This is a swirling vortex of entropy.\", \"When the transvestite lived here, you didn't care how he kept the place.\", 'Because it was immaculate.', \"I mean, you open that man's closet it was left to right, evening gowns, cocktail dresses and his police uniforms.\", 'What were you doing in his closet?', 'I helped him run some cable for a webcam. - Hey, guys.', 'Oh, hey, Penny.', 'This just arrived. Brought this up. Just now.', 'Great.', 'Was it hard getting up the stairs?', 'No?', \"We'll get out of your hair. - Okay, great.\", 'Thank you again.', 'Penny?', \"I just want you to know that you don't have to live like this.\", \"I'm here for you.\", \"It's a joke.\", \"I don't get it.\", \"yeah, he didn't tell it right.\", 'Sheldon?', 'Sheldon? - Shh!', \"Penny's sleeping.\", \"You can't break into a woman's apartment in the middle of the night and clean.\", \"I couldn't sleep knowing that just outside my bedroom was our living room and outside our living room was that hallway and immediately adjacent to that hallway was this.\", \"Do you realize that if Penny wakes up there is no reasonable explanation as to why we're here?\", 'I just gave you a reasonable explanation.', 'No, no. you gave me an explanation.', \"It's reasonableness will be determined by a jury of your peers.\", \"Don't be ridiculous.\", 'I have no peers.', 'Sheldon, we have to get out of here.', 'You might want to speak in a lower register.', \"Evolution has made women sensitive to high-pitch noises while they sleep so that they'll be roused by a crying baby.\", 'If you want to avoid waking her, speak in a lower register.', \"No, that's ridiculous.\", \"I accept your premise. Now, please let's go.\", \"I'm not leaving until I'm done. - Oh, no.\", 'If you have time to lean, you have time to clean.', 'Oh, what the hell.', 'I have to say I slept splendidly.', 'Granted not long, but just deeply and well.', \"I'm not surprised.\", \"A well-known folk cure for insomnia is to break into your neighbor's apartment and clean.\", 'Sarcasm?', \"Granted, my methods may have been somewhat unorthodox but the end result will be a measurable enhancement to Penny's quality of life.\", \"You've convinced me, maybe we should sneak in and shampoo her carpet.\", \"You don't think that crosses a line?\", \"For God's sake, Sheldon do I have to hold up a sarcasm sign every time I open my mouth?\", 'You have a sarcasm sign?', 'No, I do not have a sarcasm sign.', 'You want some cereal?', \"I feel so good today, I'm gonna choose from the low-fiber end of the shelf.\", 'Hello, Honey Puffs.', \"Penny's up.\", 'You sick, geeky bastards!', 'How did she know it was us?', 'I may have left a suggested organizational schematic for her bedroom closet.', 'Leonard?', 'This is gonna be bad.', 'Goodbye, Honey Puffs. Hello, Big Bran.', 'You came into my apartment while I was sleeping?', 'Yes, but only to clean.', \"Really more to organize, you're not actually dirty, per se.\", 'Give me back my key.', 'Do you understand how creepy this is?', 'Yes, we discussed it at length last night.', 'In my apartment? While I was sleeping?', 'And snoring.', \"And that's probably just a sinus infection.\", 'But it could be sleep apnea. You might wanna see an otorhinolaryngologist.', 'The throat doctor.', 'And what kind of doctor removes shoes from asses?', \"Depending on the depth that's either a proctologist, or a general surgeon.\", 'Okay, look.', 'No, Penny-', \"I think what you're feeling is valid and maybe later today when you're feeling less, for lack of a better word, violated maybe we can talk about this.\", \"Sure. That's another way to go.\", 'Penny, Penny, hold on.', 'Just to clarify because there will be a discussion when you leave.', 'Is your objection solely to our presence in the apartment while you were sleeping or do you also object to the imposition of a new organizational paradigm?', 'Well, that was a little non-responsive.', 'You are going to march yourself over there right now and apologize.', \"That wasn't sarcasm?\", 'No! - Whoo.', 'Boy, you are all over the place this morning.', \"I have a Master's and two Ph. Ds, I should not have to do this.\", \"I'm truly sorry for what happened last night.\", 'I take full responsibility.', \"I hope that it won't color your opinion of Leonard who is not only a wonderful guy, but also, I hear, a gentle and thorough lover.\", 'Hey, Raj.', \"Hey, I don't know if you heard about what happened with Leonard and Sheldon but I'm really upset about it.\", 'I mean, they let themselves into my place, and then they cleaned it.', 'Can you even believe that? How weird is that?', \"She's standing very close to me. Oh, my.\", 'She does smell good.', 'What is that? Vanilla?', 'Where I come from, someone comes into your house at night, you shoot. Okay?', \"And you don't shoot to wound.\", 'I mean, all right, my sister shot her husband, but it was an accident, they were drunk.', 'What was I saying?', \"She's so chatty.\", 'Maybe my parents were right.', \"Maybe I'd be better off with an Indian girl.\", \"We'd have the same cultural background and my wife could sing to my children the lullabies my mother sang to me.\", \"It's obvious they meant well.\", \"I'm having a really rough time. Like I said I broke up with my boyfriend and it's freaking me out.\", \"I mean, just because most of the men I've known happened to be jerks doesn't mean I should just assume Leonard and Sheldon are.\", 'She asked me a question. I should probably nod.', \"That's exactly what I thought. Thank you for listening. You're a doll.\", 'Uh-oh.', 'Turn your pelvis.', 'Grab a napkin, homey, you just got served.', \"It's fine. you win.\", \"What's his problem?\", 'His imaginary girlfriend broke up with him.', 'Been there.', \"Sorry I'm late, but I was in the hallway, chatting up Penny.\", 'you? Rajesh Koothrappali spoke to Penny?', 'Actually, I was less the chatter than the chattee.', 'What did she say?', 'Is she still mad at me?', 'Well, she was upset at first but probably because her sister shot somebody.', 'Then there was something about you, and then she hugged me.', 'She hugged you?', 'How did she hug you?', 'Is that her perfume I smell?', \"Intoxicating, isn't it?\", \"What's going on? Uh...\", \"Here's the thing:\", '\"Penny, just as Oppenheimer came to regret his contributions to the first atomic bomb so too I regret my participation in what was at the very least, an error in judgment.', \"The hallmark of the great human experiment is the willingness to recognize one's mistakes.\", \"Madam Curie's discovery of radium turned out to have great potential even though she would later die a slow, painful death from radiation poisoning.\", 'Another example, from the field of Ebola research-\"', 'Leonard.', 'Six two-inch dowels? - Check.', 'One package Philips head screws?', 'Guys, seriously, I grew up on a farm, okay?', 'I rebuilt a tractor engine when I was, like, 12.', 'I think I can put together a cheap Swedish media center.', \"Please, we insist. It's the least we can do, considering-\", 'Considering what?', 'How great this place looks?', 'Oh, boy, I was afraid of this.', 'These instructions are a pictographic representation of the least imaginative way to assemble these components.', 'This right here is why Sweden has no space program.', 'It looked pretty good in the store.', 'It is an inefficient design.', 'For example, Penny has a flatscreen TV which means all this space behind it is wasted.', 'We could put her stereo back there.', 'And control it how?', 'Run an infrared repeater, photocell here, emitter here, easy-peasy.', 'Good point. How will you cool it?', 'Guys, I got this.', 'Hang on, Penny.', 'How about fans?', 'Here and here.', 'Also inefficient, and might be loud.', 'How about a liquid cooler?', 'A little aquarium pump here.', 'Run some quarter-inch PVC-', 'Guys, this is actually really simple.', 'Hold on, honey, men at work.', 'PVC comes here.', 'Maybe a little corrugated sheet metal as a radiator here.', 'Show me where we put a drip tray, a sluice and a overflow reservoir?', \"If water's involved, we'll ground the crap out of the thing.\", \"Guys, it's hot in here. I think I'll just take off all my clothes.\", \"Oh, I've got it.\", 'What if we replaced panels A, B and F and crossbar H with aircraft-grade aluminum?', \"Entire thing's one big heat sink.\", 'Perfect.', 'Leonard and Sheldon, go to the junkyard and pick up 6 square meters of aluminum.', 'Raj and I will get the oxyacetylene torch.', 'Meet in an hour?', 'Done.', 'Okay, this place does look pretty good.', 'All right, just a few more feet and...', 'Here we are, gentlemen, the Gates of Elzebub.', \"Good Lord. Oh. Don't panic.\", 'This is what the last 97 hours have been about.', 'Stay frosty.', \"There's a horde of armed goblins on that gate guarding the Sword of Azeroth.\", 'Warriors, unsheathe your weapons. Magic wielders, raise your wands.', 'Lock and load.', 'Raj, blow the gates.', 'Blowing the gates.', 'Control, shift, B.', 'Oh, my God, so many goblins.', \"Don't just stand there. Slash and move.\", 'Stay in formation.', 'Leonard, you got one on your tail.', \"That's all right, my tail's prehensile.\", 'I got him, Leonard.', 'Tonight, I spice my meat with goblin blood.', \"Raj, it's a trap. They're flanking us.\", \"Oh, he's got me.\", \"Sheldon, he's got Raj. Use your sleep spell.\", 'Sheldon. Sheldon.', \"I've got the Sword of Azeroth.\", 'Forget the sword, Sheldon, help Raj.', 'There is no more Sheldon.', 'I am the sword master.', 'Leonard, look out.', \"Damn it, man, we're dying here.\", 'Goodbye, peasants.', 'The bastard teleported.', \"He's selling the Sword of Azeroth on eBay.\", 'You betrayed us for money?', 'Who are you?', \"I'm a rogue knight elf. Don't you people read character descriptions?\", 'Wait, wait, wait.', 'Somebody just clicked \"Buy It Now. \"', \"Whoo! I'm all sweaty. Wanna log on to Second Life and go swimming?\", 'I just built a virtual pool.', \"No. I can't look at you or your avatar right now.\", \"Sounds like your neighbor's home.\", \"Don't forget the mail you took so you'd have an excuse to talk to her.\", 'Oh, right, right, right.', 'Stealing snail mail, very old school. I like it.', 'Penny, the mailman did it again.', 'He- Oh, sorry.', 'Um, no, hi, Leonard. This is Doug.', 'Doug, this is my neighbor, Leonard.', \"What's up, bro?\", 'Not much.', 'Bro. Heh.', 'Is everything okay? Yeah, no.', 'I just- I got your mail again, here.', \"Oh, thank you. I've got to talk to that mailman.\", \"Oh, no, that's probably not such a good idea.\", 'Civil servants have a documented propensity to, you know, snap, so...', 'Okay. Well, thank you again.', 'No problem. Bye.', 'Oh, and bye, bro.', 'Heh.', 'Penny for your thoughts.', \"What's the matter?\", \"No, I'm fine.\", \"Penny's fine, the guy she's kissing is really fine. Kissing?\", 'What kind of kissing?', 'Cheeks, lips, chase, French?', 'What is wrong with you?', \"I'm a romantic.\", \"Don't tell me that your hopeless infatuation is devolving into pointless jealousy.\", \"Look, I'm not jealous. I'm just a little concerned for her.\", \"Didn't like the look of the guy she was with.\", 'Because he looks better than you?', 'He was kind of dreamy.', \"At least now you can retrieve the black box from the smoldering wreckage that was once your fantasy of dating her and analyze the data so that you don't crash into geek mountain again.\", \"I disagree. Love is not a sprint. It's a marathon.\", 'A relentless pursuit that only ends when she falls into your arms or hits you with the pepper spray.', \"No, I'm done with Penny.\", \"I'm gonna be more realistic and go after someone my own speed.\", 'Like who?', \"I don't know.\", 'Olivia Geiger?', 'The dietitian at the cafeteria with the limp and the lazy eye?', \"Well, I don't think you have a shot there.\", 'I have noticed that Leslie Winkle recently started shaving her legs.', \"Now, given that winter is coming, one can assume she's signaling sexual availability.\", \"I don't know. You guys work in the same lab. - So?\", 'There are pitfalls.', 'Trust me, I know.', \"When it comes to sexual-harassment law I'm a bit of a self-taught expert.\", 'Howard, if I were to ask Leslie Winkle out, it would just be for dinner.', \"I'm not gonna walk into the lab, ask her to strip naked and dance for me.\", \"Oh, then you're probably okay.\", 'Hello, Leslie.', 'Hi, Leonard.', \"I'd like to propose an experiment-\", 'Goggles. Right.', 'I would like to propose an experiment.', \"I'm trying to see how long it takes a 500-kilowatt oxygen-iodine laser to heat up my cup of noodles.\", \"I've done it. About two seconds, 2.6 for minestrone.\", 'Anyway, I was thinking more of a biosocial exploration with a neurochemical overlay.', 'Wait, are you asking me out?', 'I was going to characterize it as the modification of our colleague/friendship paradigm with the addition of a date-like component.', \"But we don't need to quibble over terminology.\", 'What sort of experiment would you propose?', 'There is a generally accepted pattern in this area.', 'I pick you up, take you to a restaurant, then we would see a movie.', 'Probably a romantic comedy featuring the talents of Hugh Grant or Sandra Bullock.', 'And would you agree the primary way we would evaluate the success or failure of the date would be based on the biochemical reaction...', 'during the good-night kiss? - Heart rate, pheromones, etcetera, yes.', \"Why don't we stipulate the date goes well and move to the key variable?\", 'You mean kiss you now?', 'Define the parameters of the kiss.', 'Closed mouth, but romantic. - Mint?', 'Shall I count down from three?', 'No, I think it needs to be spontaneous.', 'What do you think?', 'you proposed the experiment. I think you should present your findings first.', 'On the plus side, it was a good kiss, reasonable technique, no extraneous spittle.', 'On the other hand, no arousal.', 'None?', 'Well, thank you for your time.', 'Thank you. - Hmm.', 'None at all?', \"Sheldon, if you were a robot and I knew and you didn't would you want me to tell you?\", \"When I learn that I'm a robot, will I be able to handle it?\", 'Maybe, although the history of science fiction is not on your side.', 'Okay. Uh, let me ask you this.', \"When I learn that I'm a robot would I be bound by Asimov's Three Laws of Robotics?\", 'You might be bound by them right now.', \"That's true.\", 'Have you ever harmed a human being?', 'Have you ever harmed yourself, except in cases where a human being would have been endangered?', 'Well, no.', 'I smell robot.', \"Hey, what's going on?\", \"Internet's been down for half an hour.\", 'Also, Sheldon may be a robot.', 'So how did it go with Leslie?', \"Oh, we tried kissing, but the Earth didn't move.\", 'I mean, any more than the 383 miles that it was gonna move anyway.', \"Oh, I've seen that look before.\", 'This is just gonna be two weeks of moping and tedious emo songs and calling me to come down to pet stores to look at cats.', \"I don't know if I can take it.\", 'You could power down.', 'Well, as usual, Wolowitz has the solution.', 'I happen to know a place where there are plenty of eligible women and Leonard could have his pick.', 'Remember the Latin hips.', 'Shoulders stay still and we sway.', 'One, two, three.', 'Five, six, seven.', \"I think Mrs. Tishman's got her eye on you.\", \"I've been there. you're in for a treat.\", 'Oh, good Lord.', \"God, that's a good song.\", \"If you're compiling a mix CD for a double suicide.\", 'Oh, I hope that scratching post is for you.', \"I know what you're thinking. I've taken your asthma into account.\", \"There's a feline geneticist in San Diego who's developed the cutest little hypoallergenic calicos.\", 'Listen-', \"I've been thinking about names.\", \"I'm kind of torn between Einstein, Newton and Sergeant Fuzzy Boots.\", 'Do you think you can satisfy your need for a relationship with a genetically-altered cat?', \"Maybe, if it's a cute little cuddly cat.\", 'Oh, come on, Leonard...', 'This is obviously about Penny.', \"It doesn't matter.\", \"The woman's not interested in me. The woman rejected me.\", 'Okay, look. Ahem.', 'You have as much of a chance of having a sexual relationship with Penny as the Hubble telescope does of discovering at the center of a black hole is a little man with a flashlight searching for a circuit breaker.', 'Nevertheless, I do feel obligated to point out to you that she did not reject you.', 'You did not ask her out.', \"I didn't ask her. I should ask her out.\", 'No, no, no. That was not my point.', \"My point was, don't buy a cat.\", \"No, but you're right.\", 'I should march over there and ask her out.', \"Oh, goody, we're getting a cat.\", 'Oh, yeah', 'Oh, hey, Leonard.', 'Good afternoon, Penny. So, hi, hey.', 'I was wondering if you had plans for dinner.', 'Uh, you mean, dinner tonight?', 'There is an inherent ambiguity in the word \"dinner. \"', 'Technically, it refers to the largest meal of the day.', 'So to clarify here, by dinner, I mean supper.', 'Supper?', 'Or dinner, you know.', 'I was thinking 6:30 if you can go, or a different time.', 'Uh, 6:30 is great.', 'Yeah, I like hanging out with you guys.', 'Us guys?', 'Oh, you know, Sheldon, Howard, Raj. Who all is coming?', 'They might all be there.', 'Or a subset of them might be there.', 'Algebraically speaking, there are too many unknowns.', \"For example, Sheldon had Quizno's for lunch.\", \"Sometimes he finds that filling, other times he doesn't.\", \"It's no fault of Quizno's. They have a varied menu.\", 'Okay, whatever, it sounds like fun.', 'Great. - Did we say a time?']\n"
     ]
    }
   ],
   "source": [
    "print(en_subtitle)"
   ],
   "metadata": {
    "collapsed": false,
    "pycharm": {
     "name": "#%%\n"
    }
   }
  },
  {
   "cell_type": "code",
   "execution_count": null,
   "outputs": [],
   "source": [],
   "metadata": {
    "collapsed": false,
    "pycharm": {
     "name": "#%%\n"
    }
   }
  },
  {
   "cell_type": "code",
   "execution_count": null,
   "outputs": [],
   "source": [],
   "metadata": {
    "collapsed": false,
    "pycharm": {
     "name": "#%%\n"
    }
   }
  },
  {
   "cell_type": "code",
   "execution_count": null,
   "outputs": [],
   "source": [],
   "metadata": {
    "collapsed": false,
    "pycharm": {
     "name": "#%%\n"
    }
   }
  },
  {
   "cell_type": "code",
   "execution_count": null,
   "outputs": [],
   "source": [],
   "metadata": {
    "collapsed": false,
    "pycharm": {
     "name": "#%%\n"
    }
   }
  },
  {
   "cell_type": "code",
   "execution_count": null,
   "outputs": [],
   "source": [],
   "metadata": {
    "collapsed": false,
    "pycharm": {
     "name": "#%%\n"
    }
   }
  },
  {
   "cell_type": "code",
   "execution_count": null,
   "outputs": [],
   "source": [],
   "metadata": {
    "collapsed": false,
    "pycharm": {
     "name": "#%%\n"
    }
   }
  },
  {
   "cell_type": "code",
   "execution_count": null,
   "outputs": [],
   "source": [],
   "metadata": {
    "collapsed": false,
    "pycharm": {
     "name": "#%%\n"
    }
   }
  }
 ],
 "metadata": {
  "kernelspec": {
   "display_name": "Python 3",
   "language": "python",
   "name": "python3"
  },
  "language_info": {
   "codemirror_mode": {
    "name": "ipython",
    "version": 2
   },
   "file_extension": ".py",
   "mimetype": "text/x-python",
   "name": "python",
   "nbconvert_exporter": "python",
   "pygments_lexer": "ipython2",
   "version": "2.7.6"
  }
 },
 "nbformat": 4,
 "nbformat_minor": 0
}
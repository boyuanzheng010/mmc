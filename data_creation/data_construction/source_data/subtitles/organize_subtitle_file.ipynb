{
 "cells": [
  {
   "cell_type": "code",
   "execution_count": 12,
   "metadata": {
    "collapsed": true
   },
   "outputs": [],
   "source": []
  },
  {
   "cell_type": "code",
   "execution_count": null,
   "outputs": [],
   "source": [],
   "metadata": {
    "collapsed": false,
    "pycharm": {
     "name": "#%%\n"
    }
   }
  },
  {
   "cell_type": "markdown",
   "source": [
    "# Collect Open Subtitle Style Files\n",
    "This script generate the following files:\n",
    "\n",
    "1.tmx files are the source parallel corpus downloaded from the Open Subtitle Corpus\n",
    "2.en_subtitle.pkl, fa_subtitles.pkl; are parallel subtitles collected in list form\n",
    "3.en_subtitles_transformed.pkl is cleaned en_subtitles.pkl file. Each substitle in this file has been cleaned with the Transformation function in jiwer toolkit."
   ],
   "metadata": {
    "collapsed": false,
    "pycharm": {
     "name": "#%% md\n"
    }
   }
  },
  {
   "cell_type": "code",
   "execution_count": null,
   "outputs": [],
   "source": [
    "import json\n",
    "from lxml import etree\n",
    "import lxml\n",
    "from tqdm import tqdm\n",
    "import pickle as pkl\n",
    "import re\n",
    "import jiwer"
   ],
   "metadata": {
    "collapsed": false,
    "pycharm": {
     "name": "#%%\n"
    }
   }
  },
  {
   "cell_type": "markdown",
   "source": [
    "## Read source subtitle data from Open Subtitle Corpus"
   ],
   "metadata": {
    "collapsed": false,
    "pycharm": {
     "name": "#%% md\n"
    }
   }
  },
  {
   "cell_type": "code",
   "execution_count": 7,
   "outputs": [],
   "source": [
    "# Load Open Subtitle Bitext\n",
    "xml_file = etree.parse('en_fa/en-fa.tmx')"
   ],
   "metadata": {
    "collapsed": false,
    "pycharm": {
     "name": "#%%\n"
    }
   }
  },
  {
   "cell_type": "code",
   "execution_count": 8,
   "outputs": [
    {
     "name": "stderr",
     "output_type": "stream",
     "text": [
      "27292178it [00:19, 1373737.04it/s]\n"
     ]
    }
   ],
   "source": [
    "# Collect subtitles\n",
    "en_subtitle = []\n",
    "fa_subtitle = []\n",
    "root = xml_file.getroot()\n",
    "count = 0\n",
    "for node in tqdm(root.iter()):\n",
    "    if node.tag=='seg':\n",
    "        if count % 2 ==0:\n",
    "            en_subtitle.append(node.text)\n",
    "        else:\n",
    "            fa_subtitle.append(node.text)\n",
    "        count += 1"
   ],
   "metadata": {
    "collapsed": false,
    "pycharm": {
     "name": "#%%\n"
    }
   }
  },
  {
   "cell_type": "code",
   "execution_count": 13,
   "outputs": [],
   "source": [
    "# Clean subtitle in English Side\n",
    "transformation = jiwer.Compose([\n",
    "    jiwer.ToLowerCase(),\n",
    "    jiwer.RemoveMultipleSpaces(),\n",
    "    jiwer.ExpandCommonEnglishContractions(),\n",
    "    jiwer.RemovePunctuation(),\n",
    "    jiwer.Strip()\n",
    "])"
   ],
   "metadata": {
    "collapsed": false,
    "pycharm": {
     "name": "#%%\n"
    }
   }
  },
  {
   "cell_type": "code",
   "execution_count": 22,
   "outputs": [
    {
     "name": "stderr",
     "output_type": "stream",
     "text": [
      "100%|██████████| 5458435/5458435 [01:03<00:00, 85390.43it/s]\n"
     ]
    }
   ],
   "source": [
    "en_subtitle_transformed = []\n",
    "for x in tqdm(en_subtitle):\n",
    "    en_subtitle_transformed.append(transformation(x))"
   ],
   "metadata": {
    "collapsed": false,
    "pycharm": {
     "name": "#%%\n"
    }
   }
  },
  {
   "cell_type": "code",
   "execution_count": 24,
   "outputs": [],
   "source": [
    "# Write processed subtitle file\n",
    "pkl.dump(en_subtitle, open('en_fa/en_subtitles.pkl', 'wb'))\n",
    "pkl.dump(fa_subtitle, open('en_fa/fa_subtitles.pkl', 'wb'))\n",
    "pkl.dump(en_subtitle_transformed, open('en_fa/en_subtitles_transformed.pkl', 'wb'))"
   ],
   "metadata": {
    "collapsed": false,
    "pycharm": {
     "name": "#%%\n"
    }
   }
  },
  {
   "cell_type": "code",
   "execution_count": 25,
   "outputs": [],
   "source": [
    "# Check Farsi Subtitle\n",
    "with open('en_fa/fa_subtitles.pkl', 'rb') as f:\n",
    "    data = pkl.load(f)"
   ],
   "metadata": {
    "collapsed": false,
    "pycharm": {
     "name": "#%%\n"
    }
   }
  },
  {
   "cell_type": "code",
   "execution_count": 27,
   "outputs": [
    {
     "name": "stdout",
     "output_type": "stream",
     "text": [
      "['مصائب', 'ژاندارک']\n",
      "['فيلمي', 'از', 'کارل', 'تئودور', 'دراير']\n",
      "['در', 'کتابخانه', 'مجلس', 'نمايندگان', 'پاريس،', 'يکي', 'از', 'خارق\\u200cالعاده\\u200cترين', 'اسناد', 'تاريخ', 'جهان', 'قرار', 'دارد:']\n",
      "['پرونده', 'محاکمه', 'ژاندارک', 'محاکمه\\u200cاي', 'که', 'منجر', 'به', 'مرگ', 'وي', 'شد.']\n",
      "['پرسشهاي', 'قضات', 'و', 'پاسخهاي', 'ژان', 'عيناً', 'پرونده', 'شدند.']\n",
      "['ما', 'با', 'خواندن', 'اين', 'پرونده', 'دريافتيم', 'ژانِ', 'واقعي...', 'نه', 'تنها', 'سلاحي', 'نداشته', 'بلکه', 'فردي', 'ساده', 'و', 'داراي', 'خوي', 'انساني', 'بوده.', 'زني', 'جوان', 'که', 'براي', 'کشورش', 'جانباخته', 'است.']\n",
      "['و', 'ما', 'شاهد', 'نمايش', 'متحيرکننده\\u200cاي', 'هستيم:']\n",
      "['زني', 'مومن', 'و', 'جوان', 'در', 'برابر', 'گروهي', 'از', 'الاهيات', 'دانان', 'ارتدکس', 'و', 'قضات', 'قدرتمند.']\n",
      "['سوگند', 'ميخورم', 'حقيقت', 'را', 'بگويم،', 'تمام', 'حقيقت', 'را...', 'هيچ', 'چيز', 'مگر', 'حقيقت...', '...']\n",
      "['در', 'فرانسه', 'مرا', 'ژان', 'ميخوانند...', 'در', 'روستايم،', 'ژانت', 'صدايم', 'ميزنند.']\n",
      "['چند', 'سال', 'داري؟']\n",
      "['گمان', 'ميکنم...']\n",
      "['نوزده', 'سال.']\n",
      "['دعاي', 'رباني', 'را', 'بلدي؟']\n",
      "['که', 'يادت', 'داده؟']\n",
      "['از', 'بر', 'ميخوانيش؟']\n",
      "['مدعي', 'هستي', 'از', 'جانب', 'خداوند', 'فرستاده', 'شدي؟']\n",
      "['براي', 'نجات', 'فرانسه', 'هدف', 'از', 'تولدم', 'اين', 'است.']\n",
      "['پس', 'گمان', 'ميکني', 'خداوند', 'از', 'انگليسي', 'ها', 'متنفر', 'است؟']\n",
      "['من', 'از', 'عشق', 'يا', 'نفرت', 'خداوند', 'نسبت', 'به', 'انگليسي', 'ها', 'بي', 'اطلاعم...', 'اما', 'ميدانم', 'که', 'تمام', 'انگليسي', 'ها', 'از', 'فرانسه', 'بيرون', 'رانده', 'ميشوند...', 'مگر', 'آنهايي', 'که', 'همين', 'جا', 'بميرند!']\n"
     ]
    }
   ],
   "source": [
    "for x in data[:20]:\n",
    "    print(x.split(\" \"))"
   ],
   "metadata": {
    "collapsed": false,
    "pycharm": {
     "name": "#%%\n"
    }
   }
  },
  {
   "cell_type": "code",
   "execution_count": null,
   "outputs": [],
   "source": [],
   "metadata": {
    "collapsed": false,
    "pycharm": {
     "name": "#%%\n"
    }
   }
  },
  {
   "cell_type": "code",
   "execution_count": null,
   "outputs": [],
   "source": [],
   "metadata": {
    "collapsed": false,
    "pycharm": {
     "name": "#%%\n"
    }
   }
  },
  {
   "cell_type": "code",
   "execution_count": null,
   "outputs": [],
   "source": [],
   "metadata": {
    "collapsed": false,
    "pycharm": {
     "name": "#%%\n"
    }
   }
  },
  {
   "cell_type": "code",
   "execution_count": null,
   "outputs": [],
   "source": [],
   "metadata": {
    "collapsed": false,
    "pycharm": {
     "name": "#%%\n"
    }
   }
  }
 ],
 "metadata": {
  "kernelspec": {
   "display_name": "Python 3",
   "language": "python",
   "name": "python3"
  },
  "language_info": {
   "codemirror_mode": {
    "name": "ipython",
    "version": 2
   },
   "file_extension": ".py",
   "mimetype": "text/x-python",
   "name": "python",
   "nbconvert_exporter": "python",
   "pygments_lexer": "ipython2",
   "version": "2.7.6"
  }
 },
 "nbformat": 4,
 "nbformat_minor": 0
}
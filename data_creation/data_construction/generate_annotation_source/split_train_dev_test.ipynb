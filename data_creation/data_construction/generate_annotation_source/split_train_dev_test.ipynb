{
 "cells": [
  {
   "cell_type": "code",
   "execution_count": 5,
   "metadata": {
    "collapsed": true,
    "pycharm": {
     "name": "#%%\n"
    }
   },
   "outputs": [],
   "source": [
    "import pickle as pkl\n",
    "import spacy\n",
    "import csv\n",
    "import json\n",
    "from copy import deepcopy\n",
    "from tqdm import tqdm\n",
    "# import benepar\n",
    "# import re\n",
    "from string import punctuation\n",
    "\n",
    "from utils import merge_maximum_span\n",
    "from utils import clean_sentence_brackets\n",
    "from utils import process_nps_punctuation\n",
    "from utils import extract_scenes"
   ]
  },
  {
   "cell_type": "code",
   "execution_count": 2,
   "outputs": [],
   "source": [],
   "metadata": {
    "collapsed": false,
    "pycharm": {
     "name": "#%%\n"
    }
   }
  },
  {
   "cell_type": "code",
   "execution_count": 7,
   "outputs": [
    {
     "name": "stdout",
     "output_type": "stream",
     "text": [
      "TBBT Episodes: 88\n",
      "Friends Episodes: 20\n",
      "Extended Friends Episodes: 78\n"
     ]
    }
   ],
   "source": [
    "with open('../parsing/parsed_corpus_tbbt.pkl', 'rb') as f:\n",
    "    tbbt = pkl.load(f)\n",
    "\n",
    "with open('../parsing/parsed_corpus_friends.pkl', 'rb') as f:\n",
    "    friends = pkl.load(f)\n",
    "\n",
    "with open('../parsing/parsed_corpus_friends_new.pkl', 'rb') as f:\n",
    "    temp = pkl.load(f)\n",
    "    extended_friends = {}\n",
    "    for item in set(temp.keys()) - set(friends.keys()):\n",
    "        extended_friends[item] = temp[item]\n",
    "\n",
    "print(\"TBBT Episodes:\", len(tbbt))\n",
    "print(\"Friends Episodes:\", len(friends))\n",
    "print(\"Extended Friends Episodes:\", len(extended_friends))"
   ],
   "metadata": {
    "collapsed": false,
    "pycharm": {
     "name": "#%%\n"
    }
   }
  },
  {
   "cell_type": "code",
   "execution_count": 8,
   "outputs": [
    {
     "name": "stdout",
     "output_type": "stream",
     "text": [
      "Train: 70 70\n",
      "Dev: 9 9\n",
      "Test: 9 9\n"
     ]
    }
   ],
   "source": [
    "# Divide TBBT\n",
    "dev_tbbt_keys = [(7, 1), (7, 2), (7, 6), (7, 10), (7, 11), (7, 15), (7, 16), (7, 17), (7, 18)]\n",
    "test_tbbt_keys = [(9, 1), (9, 3), (9, 4), (9, 7), (9, 9), (9, 10), (9, 11), (9, 12), (9, 16)]\n",
    "train_tbbt_keys = sorted(list(set(tbbt.keys())-set(dev_tbbt_keys)-set(test_tbbt_keys)))\n",
    "\n",
    "dev_tbbt = {}\n",
    "for item in dev_tbbt_keys:\n",
    "    dev_tbbt[item] = tbbt[item]\n",
    "\n",
    "test_tbbt = {}\n",
    "for item in test_tbbt_keys:\n",
    "    test_tbbt[item] = tbbt[item]\n",
    "\n",
    "train_tbbt = {}\n",
    "for item in train_tbbt_keys:\n",
    "    train_tbbt[item] = tbbt[item]\n",
    "\n",
    "print(\"Train:\",len(train_tbbt_keys), len(train_tbbt))\n",
    "print(\"Dev:\", len(dev_tbbt_keys), len(dev_tbbt))\n",
    "print(\"Test:\", len(test_tbbt_keys), len(test_tbbt))\n",
    "\n",
    "with open('parallel_data/train_tbbt.pkl', 'wb') as f:\n",
    "    pkl.dump(train_tbbt, f)\n",
    "with open('parallel_data/dev_tbbt.pkl', 'wb') as f:\n",
    "    pkl.dump(dev_tbbt, f)\n",
    "with open('parallel_data/test_tbbt.pkl', 'wb') as f:\n",
    "    pkl.dump(test_tbbt, f)"
   ],
   "metadata": {
    "collapsed": false,
    "pycharm": {
     "name": "#%%\n"
    }
   }
  },
  {
   "cell_type": "code",
   "execution_count": 9,
   "outputs": [
    {
     "name": "stdout",
     "output_type": "stream",
     "text": [
      "Train: 16 16\n",
      "Dev: 2 2\n",
      "Test: 2 2\n"
     ]
    }
   ],
   "source": [
    "# Divide Friends\n",
    "dev_friends_keys = [(1, 1), (1, 2)]\n",
    "test_friends_keys = [(1, 13), (1, 14)]\n",
    "train_friends_keys = sorted(list(set(friends.keys())-set(dev_friends_keys)-set(test_friends_keys)))\n",
    "\n",
    "dev_friends = {}\n",
    "for item in dev_friends_keys:\n",
    "    dev_friends[item] = friends[item]\n",
    "\n",
    "test_friends = {}\n",
    "for item in test_friends_keys:\n",
    "    test_friends[item] = friends[item]\n",
    "\n",
    "train_friends = {}\n",
    "for item in train_friends_keys:\n",
    "    train_friends[item] = friends[item]\n",
    "\n",
    "print(\"Train:\",len(train_friends_keys), len(train_friends))\n",
    "print(\"Dev:\", len(dev_friends_keys), len(dev_friends))\n",
    "print(\"Test:\", len(test_friends_keys), len(test_friends))\n",
    "\n",
    "with open('parallel_data/train_friends.pkl', 'wb') as f:\n",
    "    pkl.dump(train_friends, f)\n",
    "with open('parallel_data/dev_friends.pkl', 'wb') as f:\n",
    "    pkl.dump(dev_friends, f)\n",
    "with open('parallel_data/test_friends.pkl', 'wb') as f:\n",
    "    pkl.dump(test_friends, f)"
   ],
   "metadata": {
    "collapsed": false,
    "pycharm": {
     "name": "#%%\n"
    }
   }
  },
  {
   "cell_type": "code",
   "execution_count": 10,
   "outputs": [
    {
     "name": "stdout",
     "output_type": "stream",
     "text": [
      "Train: 62 62\n",
      "Dev: 8 8\n",
      "Test: 8 8\n"
     ]
    }
   ],
   "source": [
    "# Divide Extended Friends\n",
    "dev_extended_friends_keys = [(6, 1), (6, 3), (6, 4), (6, 5), (6, 6), (6, 7), (6, 8), (6,9)]\n",
    "test_extended_friends_keys = [(7, 4), (7, 6), (7, 9), (7, 11), (7, 12), (7, 13), (7, 14), (7, 17)]\n",
    "train_extended_friends_keys = sorted(list(set(extended_friends.keys())-set(dev_extended_friends_keys)-set(test_extended_friends_keys)))\n",
    "\n",
    "dev_extended_friends = {}\n",
    "for item in dev_extended_friends_keys:\n",
    "    dev_extended_friends[item] = extended_friends[item]\n",
    "\n",
    "test_extended_friends = {}\n",
    "for item in test_extended_friends_keys:\n",
    "    test_extended_friends[item] = extended_friends[item]\n",
    "\n",
    "train_extended_friends = {}\n",
    "for item in train_extended_friends_keys:\n",
    "    train_extended_friends[item] = extended_friends[item]\n",
    "\n",
    "print(\"Train:\",len(train_extended_friends_keys), len(train_extended_friends))\n",
    "print(\"Dev:\", len(dev_extended_friends_keys), len(dev_extended_friends))\n",
    "print(\"Test:\", len(test_extended_friends_keys), len(test_extended_friends))\n",
    "\n",
    "with open('parallel_data/train_extended_friends.pkl', 'wb') as f:\n",
    "    pkl.dump(train_extended_friends, f)\n",
    "with open('parallel_data/dev_extended_friends.pkl', 'wb') as f:\n",
    "    pkl.dump(dev_extended_friends, f)\n",
    "with open('parallel_data/test_extended_friends.pkl', 'wb') as f:\n",
    "    pkl.dump(test_extended_friends, f)"
   ],
   "metadata": {
    "collapsed": false,
    "pycharm": {
     "name": "#%%\n"
    }
   }
  },
  {
   "cell_type": "code",
   "execution_count": null,
   "outputs": [],
   "source": [],
   "metadata": {
    "collapsed": false,
    "pycharm": {
     "name": "#%%\n"
    }
   }
  },
  {
   "cell_type": "code",
   "execution_count": null,
   "outputs": [],
   "source": [],
   "metadata": {
    "collapsed": false,
    "pycharm": {
     "name": "#%%\n"
    }
   }
  },
  {
   "cell_type": "code",
   "execution_count": null,
   "outputs": [],
   "source": [],
   "metadata": {
    "collapsed": false,
    "pycharm": {
     "name": "#%%\n"
    }
   }
  },
  {
   "cell_type": "code",
   "execution_count": null,
   "outputs": [],
   "source": [],
   "metadata": {
    "collapsed": false,
    "pycharm": {
     "name": "#%%\n"
    }
   }
  },
  {
   "cell_type": "code",
   "execution_count": null,
   "outputs": [],
   "source": [],
   "metadata": {
    "collapsed": false,
    "pycharm": {
     "name": "#%%\n"
    }
   }
  },
  {
   "cell_type": "code",
   "execution_count": null,
   "outputs": [],
   "source": [],
   "metadata": {
    "collapsed": false,
    "pycharm": {
     "name": "#%%\n"
    }
   }
  },
  {
   "cell_type": "code",
   "execution_count": null,
   "outputs": [],
   "source": [],
   "metadata": {
    "collapsed": false,
    "pycharm": {
     "name": "#%%\n"
    }
   }
  },
  {
   "cell_type": "code",
   "execution_count": null,
   "outputs": [],
   "source": [],
   "metadata": {
    "collapsed": false,
    "pycharm": {
     "name": "#%%\n"
    }
   }
  },
  {
   "cell_type": "code",
   "execution_count": null,
   "outputs": [],
   "source": [],
   "metadata": {
    "collapsed": false,
    "pycharm": {
     "name": "#%%\n"
    }
   }
  },
  {
   "cell_type": "code",
   "execution_count": null,
   "outputs": [],
   "source": [],
   "metadata": {
    "collapsed": false,
    "pycharm": {
     "name": "#%%\n"
    }
   }
  },
  {
   "cell_type": "code",
   "execution_count": null,
   "outputs": [],
   "source": [],
   "metadata": {
    "collapsed": false,
    "pycharm": {
     "name": "#%%\n"
    }
   }
  },
  {
   "cell_type": "code",
   "execution_count": null,
   "outputs": [],
   "source": [],
   "metadata": {
    "collapsed": false,
    "pycharm": {
     "name": "#%%\n"
    }
   }
  },
  {
   "cell_type": "code",
   "execution_count": null,
   "outputs": [],
   "source": [
    "# Extract Dev Test\n",
    "friends_dev_keys = [(1, 1), (1, 4)]\n",
    "tbbt_dev_keys = [(9, 1), (9, 3), (9, 4), (9, 7), (9, 9), (9, 10), (9, 11), (9, 12), (9, 16), (7, 1), (7, 2), (7, 6), (7, 10), (7, 11), (7, 15), (7, 16), (7, 17), (7, 18), (7, 19)]"
   ],
   "metadata": {
    "collapsed": false,
    "pycharm": {
     "name": "#%%\n"
    }
   }
  },
  {
   "cell_type": "code",
   "execution_count": null,
   "outputs": [],
   "source": [],
   "metadata": {
    "collapsed": false,
    "pycharm": {
     "name": "#%%\n"
    }
   }
  },
  {
   "cell_type": "code",
   "execution_count": null,
   "outputs": [],
   "source": [
    "# Count Episode Number in each set\n"
   ],
   "metadata": {
    "collapsed": false,
    "pycharm": {
     "name": "#%%\n"
    }
   }
  },
  {
   "cell_type": "code",
   "execution_count": null,
   "outputs": [],
   "source": [],
   "metadata": {
    "collapsed": false,
    "pycharm": {
     "name": "#%%\n"
    }
   }
  },
  {
   "cell_type": "code",
   "execution_count": null,
   "outputs": [],
   "source": [],
   "metadata": {
    "collapsed": false,
    "pycharm": {
     "name": "#%%\n"
    }
   }
  },
  {
   "cell_type": "code",
   "execution_count": null,
   "outputs": [],
   "source": [
    "# Extract Dev Test\n",
    "mentions = []\n",
    "temp = extract_mentions(friends, friends_dev_keys, \"f\")\n",
    "mentions.extend(temp)\n",
    "print(len(temp))\n",
    "temp = extract_mentions(tbbt, tbbt_dev_keys, \"t\")\n",
    "mentions.extend(temp)\n",
    "print(len(temp))\n",
    "\n",
    "with open('source_data/dev_test.pkl', 'wb') as f:\n",
    "    pkl.dump(mentions, f)"
   ],
   "metadata": {
    "collapsed": false,
    "pycharm": {
     "name": "#%%\n"
    }
   }
  },
  {
   "cell_type": "code",
   "execution_count": null,
   "outputs": [],
   "source": [
    "print(len(set(friends.keys())-set(friends_dev_keys)))\n",
    "print(len(set(tbbt.keys())-set(tbbt_dev_keys)))"
   ],
   "metadata": {
    "collapsed": false,
    "pycharm": {
     "name": "#%%\n"
    }
   }
  },
  {
   "cell_type": "code",
   "execution_count": null,
   "outputs": [],
   "source": [
    "# Extract Train\n",
    "mentions = []\n",
    "temp = extract_mentions(friends, set(friends.keys())-set(friends_dev_keys), \"f\")\n",
    "mentions.extend(temp)\n",
    "print(len(temp))\n",
    "temp = extract_mentions(tbbt, set(tbbt.keys())-set(tbbt_dev_keys), \"t\")\n",
    "mentions.extend(temp)\n",
    "print(len(temp))\n",
    "with open('source_data/train.pkl', 'wb') as f:\n",
    "    pkl.dump(mentions, f)"
   ],
   "metadata": {
    "collapsed": false,
    "pycharm": {
     "name": "#%%\n"
    }
   }
  },
  {
   "cell_type": "code",
   "execution_count": null,
   "outputs": [],
   "source": [
    "# Extract Extended Train\n",
    "mentions = []\n",
    "temp = extract_mentions(extended_train, extended_train.keys(), \"f\")\n",
    "mentions.extend(temp)\n",
    "print(len(temp))\n",
    "with open('source_data/extended_train.pkl', 'wb') as f:\n",
    "    pkl.dump(mentions, f)"
   ],
   "metadata": {
    "collapsed": false,
    "pycharm": {
     "name": "#%%\n"
    }
   }
  },
  {
   "cell_type": "code",
   "execution_count": null,
   "outputs": [],
   "source": [
    "print(len(extended_train.keys()))"
   ],
   "metadata": {
    "collapsed": false,
    "pycharm": {
     "name": "#%%\n"
    }
   }
  },
  {
   "cell_type": "code",
   "execution_count": null,
   "outputs": [],
   "source": [],
   "metadata": {
    "collapsed": false,
    "pycharm": {
     "name": "#%%\n"
    }
   }
  },
  {
   "cell_type": "code",
   "execution_count": null,
   "outputs": [],
   "source": [],
   "metadata": {
    "collapsed": false,
    "pycharm": {
     "name": "#%%\n"
    }
   }
  },
  {
   "cell_type": "code",
   "execution_count": null,
   "outputs": [],
   "source": [],
   "metadata": {
    "collapsed": false,
    "pycharm": {
     "name": "#%%\n"
    }
   }
  },
  {
   "cell_type": "code",
   "execution_count": null,
   "outputs": [],
   "source": [],
   "metadata": {
    "collapsed": false,
    "pycharm": {
     "name": "#%%\n"
    }
   }
  },
  {
   "cell_type": "code",
   "execution_count": null,
   "outputs": [],
   "source": [],
   "metadata": {
    "collapsed": false,
    "pycharm": {
     "name": "#%%\n"
    }
   }
  },
  {
   "cell_type": "code",
   "execution_count": null,
   "outputs": [],
   "source": [],
   "metadata": {
    "collapsed": false,
    "pycharm": {
     "name": "#%%\n"
    }
   }
  },
  {
   "cell_type": "code",
   "execution_count": null,
   "outputs": [],
   "source": [],
   "metadata": {
    "collapsed": false,
    "pycharm": {
     "name": "#%%\n"
    }
   }
  },
  {
   "cell_type": "code",
   "execution_count": null,
   "outputs": [],
   "source": [],
   "metadata": {
    "collapsed": false,
    "pycharm": {
     "name": "#%%\n"
    }
   }
  },
  {
   "cell_type": "code",
   "execution_count": null,
   "outputs": [],
   "source": [
    "with open('../parsing/parsed_corpus_friends_new.pkl', 'rb') as f:\n",
    "    parsed_corpus = pkl.load(f)\n",
    "with open('../parsing/parsed_corpus_friends.pkl', 'rb') as f:\n",
    "    old = pkl.load(f)\n",
    "inter_keys = set(parsed_corpus.keys()) - set(old.keys())\n",
    "\n",
    "output = []\n",
    "for epi_key in tqdm(inter_keys):\n",
    "    for i in range(len(parsed_corpus[epi_key])):\n",
    "        all_sentences = []\n",
    "        all_query_spans = []\n",
    "\n",
    "        scene_tag = parsed_corpus[epi_key][i]\n",
    "        j = 0\n",
    "        for utt in scene_tag:\n",
    "            speaker = utt['speaker'].strip().strip(\"(\").strip(\")\").strip().strip(\".\").strip().strip(\":\")\n",
    "            speaker_tokens = [item.text for item in sm_parser(speaker)]\n",
    "            if \"en_subtitles\" in utt:\n",
    "                sentence = utt['en_subtitles']\n",
    "            else:\n",
    "                sentence = utt['sentence']\n",
    "            sentence_token = [item.text for item in sm_parser(sentence)]\n",
    "            sm_nps = process_nps_punctuation(sentence_token, process_nps_punctuation(sentence_token, utt['sm_noun_chunk']))\n",
    "            berkeley_nps = process_nps_punctuation(sentence_token, process_nps_punctuation(sentence_token, utt['berkeley_noun_chunk']))\n",
    "            trf_nps = process_nps_punctuation(sentence_token, process_nps_punctuation(sentence_token, utt['trf_noun_chunk']))\n",
    "            noun_phrase = merge_maximum_span(list(set(sm_nps) | set(berkeley_nps) | set(trf_nps)))\n",
    "            temp_pron = []\n",
    "            temp_pron.extend([(item[0], item[1], item[2]) for item in utt['sm_pron'] if item[3]=='PRON'])\n",
    "            temp_pron.extend([(item[0], item[1], item[2]) for item in utt['berkeley_pron'] if item[3]=='PRON'])\n",
    "            temp_pron.extend([(item[0], item[1], item[2]) for item in utt['trf_pron'] if item[3]=='PRON'])\n",
    "            pron = merge_maximum_span(list(set(temp_pron)))\n",
    "            for item in utt['berkeley_noun_chunk']:\n",
    "                temp = list(deepcopy(item))\n",
    "                if sentence_token[temp[1]] in punctuation:\n",
    "                    # If the first token is quotation and there is not only one quotation, stop removing\n",
    "                    if sentence_token[temp[1]]==\"\\\"\":\n",
    "                        if \" \".join(sentence_token[temp[1]: temp[2]]).count(\"\\\"\")!=1:\n",
    "                            continue\n",
    "                    temp[1]-=1\n",
    "                elif \" \".join(sentence_token[temp[1]: temp[2]]).count(\"\\\"\")%2==1:\n",
    "                    if sentence_token[temp[2]]==\"\\\"\":\n",
    "                        pass\n",
    "            mention = list(set(noun_phrase)|set(pron))\n",
    "            mention.sort(key=lambda x: x[1])\n",
    "\n",
    "            all_sentences.append(speaker_tokens + [\":\"] + sentence_token)\n",
    "            for span in mention:\n",
    "                all_query_spans.append({\n",
    "                        \"sentenceIndex\": j,\n",
    "                        \"startToken\": span[1] + len(speaker_tokens) + 1,\n",
    "                        \"endToken\": span[2] + len(speaker_tokens) + 1\n",
    "                    })\n",
    "            j+=1\n",
    "        output.append({\n",
    "            \"sentences\": all_sentences,\n",
    "            \"querySpans\": all_query_spans,\n",
    "            \"candidateSpans\": all_query_spans,\n",
    "            \"clickSpans\": all_query_spans,\n",
    "            })\n",
    "with open('friends_extended_to_annotate.pkl', 'wb') as f:\n",
    "    pkl.dump(output, f)"
   ],
   "metadata": {
    "collapsed": false,
    "pycharm": {
     "name": "#%%\n"
    }
   }
  },
  {
   "cell_type": "code",
   "execution_count": null,
   "outputs": [],
   "source": [],
   "metadata": {
    "collapsed": false,
    "pycharm": {
     "name": "#%%\n"
    }
   }
  },
  {
   "cell_type": "code",
   "execution_count": null,
   "outputs": [],
   "source": [],
   "metadata": {
    "collapsed": false,
    "pycharm": {
     "name": "#%%\n"
    }
   }
  },
  {
   "cell_type": "code",
   "execution_count": null,
   "outputs": [],
   "source": [],
   "metadata": {
    "collapsed": false,
    "pycharm": {
     "name": "#%%\n"
    }
   }
  },
  {
   "cell_type": "code",
   "execution_count": null,
   "outputs": [],
   "source": [],
   "metadata": {
    "collapsed": false,
    "pycharm": {
     "name": "#%%\n"
    }
   }
  },
  {
   "cell_type": "code",
   "execution_count": null,
   "outputs": [],
   "source": [],
   "metadata": {
    "collapsed": false,
    "pycharm": {
     "name": "#%%\n"
    }
   }
  },
  {
   "cell_type": "code",
   "execution_count": null,
   "outputs": [],
   "source": [],
   "metadata": {
    "collapsed": false,
    "pycharm": {
     "name": "#%%\n"
    }
   }
  },
  {
   "cell_type": "code",
   "execution_count": null,
   "outputs": [],
   "source": [
    "with open('temp_2.csv', \"w\", encoding=\"utf-8\") as csv_fh:\n",
    "        fieldnames = ['json_data']\n",
    "        writer = csv.DictWriter(csv_fh, fieldnames, lineterminator='\\n')\n",
    "        writer.writeheader()\n",
    "        for line in output:\n",
    "            writer.writerow({'json_data': json.dumps(line)})"
   ],
   "metadata": {
    "collapsed": false,
    "pycharm": {
     "name": "#%%\n"
    }
   }
  },
  {
   "cell_type": "code",
   "execution_count": null,
   "outputs": [],
   "source": [
    "print(len(output))"
   ],
   "metadata": {
    "collapsed": false,
    "pycharm": {
     "name": "#%%\n"
    }
   }
  },
  {
   "cell_type": "code",
   "execution_count": null,
   "outputs": [],
   "source": [
    "print(3%2)"
   ],
   "metadata": {
    "collapsed": false,
    "pycharm": {
     "name": "#%%\n"
    }
   }
  },
  {
   "cell_type": "code",
   "execution_count": null,
   "outputs": [],
   "source": [
    "temp = deepcopy(output)\n",
    "output = []\n",
    "output.append(temp[4])\n",
    "output.append(temp[6])\n",
    "output.append(temp[2])\n",
    "\n",
    "output.append(temp[1])\n",
    "output.append(temp[3])\n",
    "output.append(temp[5])\n",
    "output.append(temp[7])\n",
    "output.append(temp[0])"
   ],
   "metadata": {
    "collapsed": false,
    "pycharm": {
     "name": "#%%\n"
    }
   }
  },
  {
   "cell_type": "code",
   "execution_count": null,
   "outputs": [],
   "source": [],
   "metadata": {
    "collapsed": false,
    "pycharm": {
     "name": "#%%\n"
    }
   }
  },
  {
   "cell_type": "code",
   "execution_count": null,
   "outputs": [],
   "source": [
    "def combine_samples(instances):\n",
    "    # Store Data\n",
    "    sentences = []\n",
    "    querySpans = []\n",
    "    candidateSpans = []\n",
    "    clickSpans = []\n",
    "    sentence_offsets = [0]\n",
    "    querySpans_offsets = [0]\n",
    "\n",
    "    for instance in instances:\n",
    "        offset = len(sentences)\n",
    "        sentences.extend(instance['sentences'])\n",
    "        for item in instance['querySpans']:\n",
    "            token = deepcopy(item)\n",
    "            token['sentenceIndex'] = item['sentenceIndex'] + offset\n",
    "            querySpans.append(token)\n",
    "        for item in instance['candidateSpans']:\n",
    "            token = deepcopy(item)\n",
    "            token['sentenceIndex'] = item['sentenceIndex'] + offset\n",
    "            candidateSpans.append(token)\n",
    "        for item in instance['clickSpans']:\n",
    "            token = deepcopy(item)\n",
    "            token['sentenceIndex'] = item['sentenceIndex'] + offset\n",
    "            clickSpans.append(token)\n",
    "        sentence_offsets.append(len(sentences))\n",
    "        querySpans_offsets.append(len(querySpans))\n",
    "    return {\n",
    "    \"sentences\": sentences,\n",
    "    \"querySpans\": querySpans,\n",
    "    \"candidateSpans\": candidateSpans,\n",
    "    \"clickSpans\": clickSpans,\n",
    "    \"sentence_offsets\": sentence_offsets,\n",
    "    \"querySpans_offsets\": querySpans_offsets,\n",
    "    }"
   ],
   "metadata": {
    "collapsed": false,
    "pycharm": {
     "name": "#%%\n"
    }
   }
  },
  {
   "cell_type": "code",
   "execution_count": null,
   "outputs": [],
   "source": [
    "combined_output = []\n",
    "combined_output.append(combine_samples(output[:3]))\n",
    "combined_output.append(combine_samples(output[3:5]))"
   ],
   "metadata": {
    "collapsed": false,
    "pycharm": {
     "name": "#%%\n"
    }
   }
  },
  {
   "cell_type": "code",
   "execution_count": null,
   "outputs": [],
   "source": [
    "with open('combined_temp_2.csv', \"w\", encoding=\"utf-8\") as csv_fh:\n",
    "        fieldnames = ['json_data']\n",
    "        writer = csv.DictWriter(csv_fh, fieldnames, lineterminator='\\n')\n",
    "        writer.writeheader()\n",
    "        for line in combined_output:\n",
    "            writer.writerow({'json_data': json.dumps(line)})"
   ],
   "metadata": {
    "collapsed": false,
    "pycharm": {
     "name": "#%%\n"
    }
   }
  },
  {
   "cell_type": "code",
   "execution_count": null,
   "outputs": [],
   "source": [
    "for item in combined_output:\n",
    "    print(item['sentence_offsets'], len(item['sentence_offsets'])-1)"
   ],
   "metadata": {
    "collapsed": false,
    "pycharm": {
     "name": "#%%\n"
    }
   }
  },
  {
   "cell_type": "code",
   "execution_count": null,
   "outputs": [],
   "source": [],
   "metadata": {
    "collapsed": false,
    "pycharm": {
     "name": "#%%\n"
    }
   }
  },
  {
   "cell_type": "code",
   "execution_count": null,
   "outputs": [],
   "source": [],
   "metadata": {
    "collapsed": false,
    "pycharm": {
     "name": "#%%\n"
    }
   }
  },
  {
   "cell_type": "code",
   "execution_count": null,
   "outputs": [],
   "source": [],
   "metadata": {
    "collapsed": false,
    "pycharm": {
     "name": "#%%\n"
    }
   }
  },
  {
   "cell_type": "code",
   "execution_count": null,
   "outputs": [],
   "source": [],
   "metadata": {
    "collapsed": false,
    "pycharm": {
     "name": "#%%\n"
    }
   }
  },
  {
   "cell_type": "code",
   "execution_count": null,
   "outputs": [],
   "source": [],
   "metadata": {
    "collapsed": false,
    "pycharm": {
     "name": "#%%\n"
    }
   }
  },
  {
   "cell_type": "code",
   "execution_count": null,
   "outputs": [],
   "source": [],
   "metadata": {
    "collapsed": false,
    "pycharm": {
     "name": "#%%\n"
    }
   }
  },
  {
   "cell_type": "code",
   "execution_count": null,
   "outputs": [],
   "source": [],
   "metadata": {
    "collapsed": false,
    "pycharm": {
     "name": "#%%\n"
    }
   }
  },
  {
   "cell_type": "code",
   "execution_count": null,
   "outputs": [],
   "source": [],
   "metadata": {
    "collapsed": false,
    "pycharm": {
     "name": "#%%\n"
    }
   }
  },
  {
   "cell_type": "code",
   "execution_count": null,
   "outputs": [],
   "source": [],
   "metadata": {
    "collapsed": false,
    "pycharm": {
     "name": "#%%\n"
    }
   }
  }
 ],
 "metadata": {
  "kernelspec": {
   "display_name": "Python 3",
   "language": "python",
   "name": "python3"
  },
  "language_info": {
   "codemirror_mode": {
    "name": "ipython",
    "version": 2
   },
   "file_extension": ".py",
   "mimetype": "text/x-python",
   "name": "python",
   "nbconvert_exporter": "python",
   "pygments_lexer": "ipython2",
   "version": "2.7.6"
  }
 },
 "nbformat": 4,
 "nbformat_minor": 0
}
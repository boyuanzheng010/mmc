{
 "cells": [
  {
   "cell_type": "code",
   "execution_count": 26,
   "metadata": {
    "collapsed": true,
    "pycharm": {
     "name": "#%%\n"
    }
   },
   "outputs": [],
   "source": [
    "import pickle as pkl\n",
    "from matplotlib import pyplot as plt\n",
    "from collections import Counter\n",
    "import os"
   ]
  },
  {
   "cell_type": "code",
   "execution_count": null,
   "outputs": [],
   "source": [
    "def count_scene_mentions(data):\n",
    "    temp = []\n",
    "    for scene in data:\n",
    "        temp.append(len(scene['querySpans']))\n",
    "    return temp"
   ],
   "metadata": {
    "collapsed": false,
    "pycharm": {
     "name": "#%%\n"
    }
   }
  },
  {
   "cell_type": "code",
   "execution_count": null,
   "outputs": [],
   "source": [
    "fig, ax = plt.subplots(3, 3)\n",
    "\n",
    "for i, file_name in enumerate(sorted(os.listdir(\"scenes/\"))):\n",
    "    with open('scenes/'+file_name, 'rb') as f:\n",
    "        input = pkl.load(f)\n",
    "        count = count_scene_mentions(input)\n",
    "    ax[i//3, i%3].hist(count)\n",
    "    ax[i//3, i%3].set_title(file_name.strip().split('.')[0])\n",
    "    print(i, file_name, i//3, i%3)"
   ],
   "metadata": {
    "collapsed": false,
    "pycharm": {
     "name": "#%%\n"
    }
   }
  },
  {
   "cell_type": "code",
   "execution_count": null,
   "outputs": [],
   "source": [],
   "metadata": {
    "collapsed": false,
    "pycharm": {
     "name": "#%%\n"
    }
   }
  },
  {
   "cell_type": "code",
   "execution_count": null,
   "outputs": [],
   "source": [],
   "metadata": {
    "collapsed": false,
    "pycharm": {
     "name": "#%%\n"
    }
   }
  },
  {
   "cell_type": "code",
   "execution_count": null,
   "outputs": [],
   "source": [],
   "metadata": {
    "collapsed": false,
    "pycharm": {
     "name": "#%%\n"
    }
   }
  },
  {
   "cell_type": "code",
   "execution_count": null,
   "outputs": [],
   "source": [],
   "metadata": {
    "collapsed": false,
    "pycharm": {
     "name": "#%%\n"
    }
   }
  },
  {
   "cell_type": "code",
   "execution_count": 38,
   "outputs": [],
   "source": [
    "def count_scene_mentions(data):\n",
    "    temp = []\n",
    "    for scene in data:\n",
    "        temp.append(len(scene['querySpans']))\n",
    "    return temp"
   ],
   "metadata": {
    "collapsed": false,
    "pycharm": {
     "name": "#%%\n"
    }
   }
  },
  {
   "cell_type": "code",
   "execution_count": 39,
   "outputs": [
    {
     "ename": "TypeError",
     "evalue": "tuple indices must be integers or slices, not str",
     "output_type": "error",
     "traceback": [
      "\u001B[0;31m---------------------------------------------------------------------------\u001B[0m",
      "\u001B[0;31mTypeError\u001B[0m                                 Traceback (most recent call last)",
      "\u001B[0;32m/var/folders/w9/673mfrb56v7dvx7hhvw7s6240000gn/T/ipykernel_71008/1746157433.py\u001B[0m in \u001B[0;36m<module>\u001B[0;34m\u001B[0m\n\u001B[1;32m      2\u001B[0m     \u001B[0mdata\u001B[0m \u001B[0;34m=\u001B[0m \u001B[0mpkl\u001B[0m\u001B[0;34m.\u001B[0m\u001B[0mload\u001B[0m\u001B[0;34m(\u001B[0m\u001B[0mf\u001B[0m\u001B[0;34m)\u001B[0m\u001B[0;34m\u001B[0m\u001B[0;34m\u001B[0m\u001B[0m\n\u001B[1;32m      3\u001B[0m \u001B[0;34m\u001B[0m\u001B[0m\n\u001B[0;32m----> 4\u001B[0;31m \u001B[0mcount\u001B[0m \u001B[0;34m=\u001B[0m \u001B[0mcount_scene_mentions\u001B[0m\u001B[0;34m(\u001B[0m\u001B[0mdata\u001B[0m\u001B[0;34m)\u001B[0m\u001B[0;34m\u001B[0m\u001B[0;34m\u001B[0m\u001B[0m\n\u001B[0m\u001B[1;32m      5\u001B[0m \u001B[0mcounter\u001B[0m \u001B[0;34m=\u001B[0m \u001B[0mCounter\u001B[0m\u001B[0;34m(\u001B[0m\u001B[0mcount\u001B[0m\u001B[0;34m)\u001B[0m\u001B[0;34m\u001B[0m\u001B[0;34m\u001B[0m\u001B[0m\n",
      "\u001B[0;32m/var/folders/w9/673mfrb56v7dvx7hhvw7s6240000gn/T/ipykernel_71008/279100735.py\u001B[0m in \u001B[0;36mcount_scene_mentions\u001B[0;34m(data)\u001B[0m\n\u001B[1;32m      2\u001B[0m     \u001B[0mtemp\u001B[0m \u001B[0;34m=\u001B[0m \u001B[0;34m[\u001B[0m\u001B[0;34m]\u001B[0m\u001B[0;34m\u001B[0m\u001B[0;34m\u001B[0m\u001B[0m\n\u001B[1;32m      3\u001B[0m     \u001B[0;32mfor\u001B[0m \u001B[0mscene\u001B[0m \u001B[0;32min\u001B[0m \u001B[0mdata\u001B[0m\u001B[0;34m:\u001B[0m\u001B[0;34m\u001B[0m\u001B[0;34m\u001B[0m\u001B[0m\n\u001B[0;32m----> 4\u001B[0;31m         \u001B[0mtemp\u001B[0m\u001B[0;34m.\u001B[0m\u001B[0mappend\u001B[0m\u001B[0;34m(\u001B[0m\u001B[0mlen\u001B[0m\u001B[0;34m(\u001B[0m\u001B[0mscene\u001B[0m\u001B[0;34m[\u001B[0m\u001B[0;34m'querySpans'\u001B[0m\u001B[0;34m]\u001B[0m\u001B[0;34m)\u001B[0m\u001B[0;34m)\u001B[0m\u001B[0;34m\u001B[0m\u001B[0;34m\u001B[0m\u001B[0m\n\u001B[0m\u001B[1;32m      5\u001B[0m     \u001B[0;32mreturn\u001B[0m \u001B[0mtemp\u001B[0m\u001B[0;34m\u001B[0m\u001B[0;34m\u001B[0m\u001B[0m\n",
      "\u001B[0;31mTypeError\u001B[0m: tuple indices must be integers or slices, not str"
     ]
    }
   ],
   "source": [
    "with open('source_data/dev_tbbt.pkl', 'rb') as f:\n",
    "    data = pkl.load(f)\n",
    "\n",
    "count = count_scene_mentions(data)\n",
    "counter = Counter(count)"
   ],
   "metadata": {
    "collapsed": false,
    "pycharm": {
     "name": "#%%\n"
    }
   }
  },
  {
   "cell_type": "code",
   "execution_count": null,
   "outputs": [],
   "source": [],
   "metadata": {
    "collapsed": false,
    "pycharm": {
     "name": "#%%\n"
    }
   }
  },
  {
   "cell_type": "code",
   "execution_count": null,
   "outputs": [],
   "source": [],
   "metadata": {
    "collapsed": false,
    "pycharm": {
     "name": "#%%\n"
    }
   }
  },
  {
   "cell_type": "code",
   "execution_count": 27,
   "outputs": [],
   "source": [
    "with open('source_data/dev_test.pkl', 'rb') as f:\n",
    "    dev_test = pkl.load(f)\n",
    "\n",
    "with open('source_data/train.pkl', 'rb') as f:\n",
    "    train = pkl.load(f)\n",
    "\n",
    "with open('source_data/extended_train.pkl', 'rb') as f:\n",
    "    extended_train = pkl.load(f)"
   ],
   "metadata": {
    "collapsed": false,
    "pycharm": {
     "name": "#%%\n"
    }
   }
  },
  {
   "cell_type": "code",
   "execution_count": null,
   "outputs": [],
   "source": [],
   "metadata": {
    "collapsed": false,
    "pycharm": {
     "name": "#%%\n"
    }
   }
  },
  {
   "cell_type": "code",
   "execution_count": null,
   "outputs": [],
   "source": [],
   "metadata": {
    "collapsed": false,
    "pycharm": {
     "name": "#%%\n"
    }
   }
  },
  {
   "cell_type": "code",
   "execution_count": 43,
   "outputs": [],
   "source": [
    "\n",
    "dev_test_count = count_scene_mentions(dev_test)\n",
    "dev_test_counter = Counter(dev_test_count)\n",
    "\n",
    "train_count = count_scene_mentions(train)\n",
    "train_counter = Counter(train_count)\n",
    "\n",
    "extended_train_count = count_scene_mentions(extended_train)\n",
    "extended_train_counter = Counter(extended_train_count)"
   ],
   "metadata": {
    "collapsed": false,
    "pycharm": {
     "name": "#%%\n"
    }
   }
  },
  {
   "cell_type": "code",
   "execution_count": 92,
   "outputs": [],
   "source": [
    "all_count = []\n",
    "all_count.extend(train_count)\n",
    "all_count.extend(extended_train_count)\n",
    "all_count.extend(dev_test_count)"
   ],
   "metadata": {
    "collapsed": false,
    "pycharm": {
     "name": "#%%\n"
    }
   }
  },
  {
   "cell_type": "code",
   "execution_count": 93,
   "outputs": [
    {
     "name": "stdout",
     "output_type": "stream",
     "text": [
      "2232\n"
     ]
    }
   ],
   "source": [
    "print(len(all_count))"
   ],
   "metadata": {
    "collapsed": false,
    "pycharm": {
     "name": "#%%\n"
    }
   }
  },
  {
   "cell_type": "code",
   "execution_count": 94,
   "outputs": [
    {
     "data": {
      "text/plain": "<Figure size 432x288 with 1 Axes>",
      "image/png": "[encoded data removed]"
     },
     "metadata": {
      "needs_background": "light"
     },
     "output_type": "display_data"
    }
   ],
   "source": [
    "plt.hist(all_count)\n",
    "plt.show()"
   ],
   "metadata": {
    "collapsed": false,
    "pycharm": {
     "name": "#%%\n"
    }
   }
  },
  {
   "cell_type": "code",
   "execution_count": null,
   "outputs": [],
   "source": [],
   "metadata": {
    "collapsed": false,
    "pycharm": {
     "name": "#%%\n"
    }
   }
  },
  {
   "cell_type": "code",
   "execution_count": null,
   "outputs": [],
   "source": [],
   "metadata": {
    "collapsed": false,
    "pycharm": {
     "name": "#%%\n"
    }
   }
  },
  {
   "cell_type": "code",
   "execution_count": null,
   "outputs": [],
   "source": [],
   "metadata": {
    "collapsed": false,
    "pycharm": {
     "name": "#%%\n"
    }
   }
  },
  {
   "cell_type": "code",
   "execution_count": null,
   "outputs": [],
   "source": [],
   "metadata": {
    "collapsed": false,
    "pycharm": {
     "name": "#%%\n"
    }
   }
  },
  {
   "cell_type": "code",
   "execution_count": 63,
   "outputs": [],
   "source": [
    "def get_batches(all_counts):\n",
    "    batches = []\n",
    "    temp = []\n",
    "    for item in all_counts:\n",
    "        if sum(temp) + item > 270:\n",
    "            batches.append(temp)\n",
    "            temp = [item]\n",
    "        else:\n",
    "            temp.append(item)\n",
    "    return batches\n",
    "\n",
    "dev_test_batches = get_batches(dev_test_count)\n",
    "train_batches = get_batches(train_count)\n",
    "extended_train_batches = get_batches(extended_train_count)"
   ],
   "metadata": {
    "collapsed": false,
    "pycharm": {
     "name": "#%%\n"
    }
   }
  },
  {
   "cell_type": "code",
   "execution_count": 224,
   "outputs": [],
   "source": [
    "all_batches = []\n",
    "for item in dev_test_batches:\n",
    "    all_batches.append(sum(item))\n",
    "# for item in train_batches:\n",
    "#     all_batches.append(sum(item))\n",
    "# for item in extended_train_batches:\n",
    "#     all_batches.append(sum(item))"
   ],
   "metadata": {
    "collapsed": false,
    "pycharm": {
     "name": "#%%\n"
    }
   }
  },
  {
   "cell_type": "code",
   "execution_count": 228,
   "outputs": [
    {
     "name": "stdout",
     "output_type": "stream",
     "text": [
      "3\n"
     ]
    },
    {
     "data": {
      "text/plain": "<Figure size 432x288 with 1 Axes>",
      "image/png": "[encoded data removed]"
     },
     "metadata": {
      "needs_background": "light"
     },
     "output_type": "display_data"
    },
    {
     "name": "stdout",
     "output_type": "stream",
     "text": [
      "257.44444444444446\n",
      "303\n"
     ]
    },
    {
     "data": {
      "text/plain": "<Figure size 432x288 with 1 Axes>",
      "image/png": "[encoded data removed]"
     },
     "metadata": {
      "needs_background": "light"
     },
     "output_type": "display_data"
    },
    {
     "name": "stdout",
     "output_type": "stream",
     "text": [
      "3\n"
     ]
    },
    {
     "data": {
      "text/plain": "<Figure size 432x288 with 1 Axes>",
      "image/png": "[encoded data removed]"
     },
     "metadata": {
      "needs_background": "light"
     },
     "output_type": "display_data"
    },
    {
     "name": "stdout",
     "output_type": "stream",
     "text": [
      "257.44444444444446\n"
     ]
    }
   ],
   "source": [
    "all_batches = []\n",
    "# for item in dev_test_batches:\n",
    "#     all_batches.append(sum(item))\n",
    "for item in train_batches:\n",
    "    all_batches.append(sum(item))\n",
    "# for item in extended_train_batches:\n",
    "#     all_batches.append(sum(item))\n",
    "\n",
    "# Cut small batches\n",
    "small = []\n",
    "medium = []\n",
    "large = []\n",
    "for item in all_batches:\n",
    "    if item <=125:\n",
    "        small.append(item)\n",
    "    elif item<=275:\n",
    "        medium.append(item)\n",
    "    else:\n",
    "        large.append(item)\n",
    "\n",
    "small.sort()\n",
    "medium.sort()\n",
    "large.sort()\n",
    "\n",
    "for i in range(len(small)):\n",
    "    item = small[len(small)-i-1]\n",
    "    for j in range(len(medium)):\n",
    "        target = medium[j]\n",
    "        if target + item <= 275:\n",
    "            medium[j] = target + item\n",
    "\n",
    "print(len(medium))\n",
    "plt.hist(medium)\n",
    "plt.show()\n",
    "\n",
    "print(len(large))\n",
    "plt.hist(large)\n",
    "plt.show()\n",
    "\n",
    "print((sum(medium)+sum(large))/(len(medium)+len(large)))"
   ],
   "metadata": {
    "collapsed": false,
    "pycharm": {
     "name": "#%%\n"
    }
   }
  },
  {
   "cell_type": "code",
   "execution_count": 223,
   "outputs": [
    {
     "name": "stdout",
     "output_type": "stream",
     "text": [
      "251.17462482946794\n"
     ]
    }
   ],
   "source": [
    "print((247*148 + 257*306 + 247*279)/(148+306+279))"
   ],
   "metadata": {
    "collapsed": false,
    "pycharm": {
     "name": "#%%\n"
    }
   }
  },
  {
   "cell_type": "code",
   "execution_count": 214,
   "outputs": [
    {
     "name": "stdout",
     "output_type": "stream",
     "text": [
      "647\n"
     ]
    },
    {
     "data": {
      "text/plain": "<Figure size 432x288 with 1 Axes>",
      "image/png": "[encoded data removed]"
     },
     "metadata": {
      "needs_background": "light"
     },
     "output_type": "display_data"
    }
   ],
   "source": [
    "print(len(medium))\n",
    "plt.hist(medium)\n",
    "plt.show()"
   ],
   "metadata": {
    "collapsed": false,
    "pycharm": {
     "name": "#%%\n"
    }
   }
  },
  {
   "cell_type": "code",
   "execution_count": 215,
   "outputs": [
    {
     "name": "stdout",
     "output_type": "stream",
     "text": [
      "[250, 253, 257, 259, 261, 262, 265, 266, 266, 267, 267, 268, 270, 273, 274, 274, 274, 275, 275, 274, 275, 275, 275, 275, 274, 275, 275, 275, 274, 274, 275, 275, 275, 275, 274, 274, 274, 275, 270, 270, 270, 270, 270, 271, 272, 272, 274, 275, 275, 275, 275, 275, 275, 263, 264, 264, 265, 265, 266, 267, 267, 267, 267, 267, 268, 268, 269, 270, 270, 270, 271, 271, 271, 272, 272, 272, 272, 274, 274, 274, 275, 275, 264, 264, 265, 265, 266, 266, 266, 266, 266, 266, 266, 267, 267, 267, 268, 269, 269, 270, 270, 270, 270, 271, 271, 271, 271, 272, 272, 272, 273, 273, 274, 274, 274, 274, 274, 275, 275, 275, 275, 273, 273, 273, 273, 273, 273, 274, 274, 274, 274, 275, 274, 274, 275, 275, 275, 275, 275, 275, 265, 265, 265, 265, 265, 265, 265, 266, 266, 266, 266, 266, 266, 267, 267, 267, 268, 268, 268, 268, 268, 269, 269, 269, 270, 270, 270, 270, 270, 270, 270, 271, 271, 271, 271, 271, 271, 271, 272, 272, 272, 272, 272, 272, 272, 273, 273, 273, 273, 273, 274, 274, 274, 274, 274, 274, 275, 275, 275, 275, 275, 272, 272, 272, 272, 272, 272, 272, 272, 272, 273, 273, 273, 273, 274, 274, 274, 274, 274, 274, 275, 275, 275, 275, 275, 275, 275, 275, 275, 222, 222, 222, 222, 222, 223, 223, 223, 223, 223, 223, 223, 224, 224, 224, 224, 225, 225, 225, 225, 225, 225, 226, 226, 226, 226, 226, 226, 226, 226, 226, 227, 227, 227, 227, 227, 227, 227, 228, 228, 228, 228, 228, 228, 229, 229, 229, 230, 230, 230, 230, 230, 230, 230, 230, 231, 231, 231, 231, 231, 231, 231, 232, 232, 232, 232, 232, 232, 232, 232, 232, 232, 232, 233, 233, 233, 233, 233, 233, 233, 233, 233, 233, 233, 233, 234, 234, 234, 234, 234, 234, 234, 234, 235, 235, 235, 235, 235, 235, 235, 236, 236, 236, 236, 236, 236, 236, 236, 236, 236, 236, 236, 236, 237, 237, 237, 237, 237, 237, 237, 237, 237, 238, 238, 238, 238, 238, 238, 239, 239, 239, 239, 239, 239, 239, 240, 240, 240, 240, 240, 240, 240, 240, 240, 240, 240, 240, 240, 241, 241, 241, 241, 241, 242, 242, 242, 242, 242, 242, 243, 243, 243, 243, 243, 243, 243, 243, 243, 243, 244, 244, 244, 244, 244, 244, 244, 244, 244, 244, 244, 245, 245, 245, 245, 245, 245, 245, 245, 245, 245, 245, 245, 245, 245, 245, 245, 246, 246, 246, 246, 246, 246, 246, 246, 247, 247, 248, 248, 248, 248, 248, 248, 248, 248, 248, 249, 249, 249, 249, 249, 249, 249, 250, 250, 250, 250, 250, 250, 251, 251, 251, 251, 251, 251, 251, 251, 251, 251, 251, 252, 252, 252, 252, 252, 252, 252, 252, 252, 253, 253, 253, 253, 253, 253, 253, 253, 253, 253, 254, 254, 254, 254, 254, 254, 254, 254, 254, 254, 255, 255, 255, 255, 255, 255, 256, 256, 256, 256, 256, 256, 256, 256, 256, 256, 256, 257, 257, 257, 257, 257, 257, 257, 257, 257, 257, 257, 258, 258, 258, 258, 258, 258, 258, 258, 258, 258, 258, 258, 259, 259, 259, 259, 259, 259, 259, 259, 259, 259, 259, 259, 260, 260, 260, 260, 260, 260, 260, 260, 260, 260, 260, 260, 260, 260, 261, 261, 261, 262, 262, 262, 262, 262, 262, 262, 262, 262, 263, 263, 263, 263, 263, 263, 263, 263, 263, 264, 264, 264, 264, 264, 264, 264, 264, 264, 264, 265, 265, 265, 265, 265, 265, 265, 265, 266, 266, 266, 266, 266, 266, 266, 266, 266, 267, 267, 267, 267, 267, 267, 268, 268, 268, 268, 268, 268, 268, 268, 268, 268, 269, 269, 269, 269, 269, 269, 269, 270, 270, 270, 270, 270, 270, 270, 270, 270, 270, 270, 270, 272]\n"
     ]
    }
   ],
   "source": [
    "print(medium)"
   ],
   "metadata": {
    "collapsed": false,
    "pycharm": {
     "name": "#%%\n"
    }
   }
  },
  {
   "cell_type": "code",
   "execution_count": 216,
   "outputs": [],
   "source": [
    "for i in range(len(small)):\n",
    "    item = small[len(small)-i-1]\n",
    "    for j in range(len(medium)):\n",
    "        target = medium[j]\n",
    "        if target + item <= 275:\n",
    "            medium[j] = target + item"
   ],
   "metadata": {
    "collapsed": false,
    "pycharm": {
     "name": "#%%\n"
    }
   }
  },
  {
   "cell_type": "code",
   "execution_count": 217,
   "outputs": [
    {
     "name": "stdout",
     "output_type": "stream",
     "text": [
      "[250, 253, 257, 259, 261, 262, 265, 266, 266, 267, 267, 268, 270, 273, 274, 274, 274, 275, 275, 274, 275, 275, 275, 275, 274, 275, 275, 275, 274, 274, 275, 275, 275, 275, 274, 274, 274, 275, 270, 270, 270, 270, 270, 271, 272, 272, 274, 275, 275, 275, 275, 275, 275, 263, 264, 264, 265, 265, 266, 267, 267, 267, 267, 267, 268, 268, 269, 270, 270, 270, 271, 271, 271, 272, 272, 272, 272, 274, 274, 274, 275, 275, 264, 264, 265, 265, 266, 266, 266, 266, 266, 266, 266, 267, 267, 267, 268, 269, 269, 270, 270, 270, 270, 271, 271, 271, 271, 272, 272, 272, 273, 273, 274, 274, 274, 274, 274, 275, 275, 275, 275, 273, 273, 273, 273, 273, 273, 274, 274, 274, 274, 275, 274, 274, 275, 275, 275, 275, 275, 275, 265, 265, 265, 265, 265, 265, 265, 266, 266, 266, 266, 266, 266, 267, 267, 267, 268, 268, 268, 268, 268, 269, 269, 269, 270, 270, 270, 270, 270, 270, 270, 271, 271, 271, 271, 271, 271, 271, 272, 272, 272, 272, 272, 272, 272, 273, 273, 273, 273, 273, 274, 274, 274, 274, 274, 274, 275, 275, 275, 275, 275, 272, 272, 272, 272, 272, 272, 272, 272, 272, 273, 273, 273, 273, 274, 274, 274, 274, 274, 274, 275, 275, 275, 275, 275, 275, 275, 275, 275, 222, 222, 222, 222, 222, 223, 223, 223, 223, 223, 223, 223, 224, 224, 224, 224, 225, 225, 225, 225, 225, 225, 226, 226, 226, 226, 226, 226, 226, 226, 226, 227, 227, 227, 227, 227, 227, 227, 228, 228, 228, 228, 228, 228, 229, 229, 229, 230, 230, 230, 230, 230, 230, 230, 230, 231, 231, 231, 231, 231, 231, 231, 232, 232, 232, 232, 232, 232, 232, 232, 232, 232, 232, 233, 233, 233, 233, 233, 233, 233, 233, 233, 233, 233, 233, 234, 234, 234, 234, 234, 234, 234, 234, 235, 235, 235, 235, 235, 235, 235, 236, 236, 236, 236, 236, 236, 236, 236, 236, 236, 236, 236, 236, 237, 237, 237, 237, 237, 237, 237, 237, 237, 238, 238, 238, 238, 238, 238, 239, 239, 239, 239, 239, 239, 239, 240, 240, 240, 240, 240, 240, 240, 240, 240, 240, 240, 240, 240, 241, 241, 241, 241, 241, 242, 242, 242, 242, 242, 242, 243, 243, 243, 243, 243, 243, 243, 243, 243, 243, 244, 244, 244, 244, 244, 244, 244, 244, 244, 244, 244, 245, 245, 245, 245, 245, 245, 245, 245, 245, 245, 245, 245, 245, 245, 245, 245, 246, 246, 246, 246, 246, 246, 246, 246, 247, 247, 248, 248, 248, 248, 248, 248, 248, 248, 248, 249, 249, 249, 249, 249, 249, 249, 250, 250, 250, 250, 250, 250, 251, 251, 251, 251, 251, 251, 251, 251, 251, 251, 251, 252, 252, 252, 252, 252, 252, 252, 252, 252, 253, 253, 253, 253, 253, 253, 253, 253, 253, 253, 254, 254, 254, 254, 254, 254, 254, 254, 254, 254, 255, 255, 255, 255, 255, 255, 256, 256, 256, 256, 256, 256, 256, 256, 256, 256, 256, 257, 257, 257, 257, 257, 257, 257, 257, 257, 257, 257, 258, 258, 258, 258, 258, 258, 258, 258, 258, 258, 258, 258, 259, 259, 259, 259, 259, 259, 259, 259, 259, 259, 259, 259, 260, 260, 260, 260, 260, 260, 260, 260, 260, 260, 260, 260, 260, 260, 261, 261, 261, 262, 262, 262, 262, 262, 262, 262, 262, 262, 263, 263, 263, 263, 263, 263, 263, 263, 263, 264, 264, 264, 264, 264, 264, 264, 264, 264, 264, 265, 265, 265, 265, 265, 265, 265, 265, 266, 266, 266, 266, 266, 266, 266, 266, 266, 267, 267, 267, 267, 267, 267, 268, 268, 268, 268, 268, 268, 268, 268, 268, 268, 269, 269, 269, 269, 269, 269, 269, 270, 270, 270, 270, 270, 270, 270, 270, 270, 270, 270, 270, 272]\n"
     ]
    }
   ],
   "source": [
    "print(medium)"
   ],
   "metadata": {
    "collapsed": false,
    "pycharm": {
     "name": "#%%\n"
    }
   }
  },
  {
   "cell_type": "code",
   "execution_count": 204,
   "outputs": [
    {
     "name": "stdout",
     "output_type": "stream",
     "text": [
      "73\n"
     ]
    },
    {
     "data": {
      "text/plain": "<Figure size 432x288 with 1 Axes>",
      "image/png": "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_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\n"
     },
     "metadata": {
      "needs_background": "light"
     },
     "output_type": "display_data"
    }
   ],
   "source": [
    "print(len(medium))\n",
    "plt.hist(medium)\n",
    "# plt.xlabel(\"Number of mentions in the Medium-Length batches\")\n",
    "plt.show()"
   ],
   "metadata": {
    "collapsed": false,
    "pycharm": {
     "name": "#%%\n"
    }
   }
  },
  {
   "cell_type": "code",
   "execution_count": 205,
   "outputs": [
    {
     "name": "stdout",
     "output_type": "stream",
     "text": [
      "1\n"
     ]
    },
    {
     "data": {
      "text/plain": "<Figure size 432x288 with 1 Axes>",
      "image/png": "[encoded data removed]"
     },
     "metadata": {
      "needs_background": "light"
     },
     "output_type": "display_data"
    }
   ],
   "source": [
    "print(len(large))\n",
    "plt.hist(large)\n",
    "plt.show()"
   ],
   "metadata": {
    "collapsed": false,
    "pycharm": {
     "name": "#%%\n"
    }
   }
  },
  {
   "cell_type": "code",
   "execution_count": null,
   "outputs": [],
   "source": [],
   "metadata": {
    "collapsed": false,
    "pycharm": {
     "name": "#%%\n"
    }
   }
  },
  {
   "cell_type": "code",
   "execution_count": null,
   "outputs": [],
   "source": [],
   "metadata": {
    "collapsed": false,
    "pycharm": {
     "name": "#%%\n"
    }
   }
  },
  {
   "cell_type": "code",
   "execution_count": null,
   "outputs": [],
   "source": [],
   "metadata": {
    "collapsed": false,
    "pycharm": {
     "name": "#%%\n"
    }
   }
  },
  {
   "cell_type": "code",
   "execution_count": null,
   "outputs": [],
   "source": [],
   "metadata": {
    "collapsed": false,
    "pycharm": {
     "name": "#%%\n"
    }
   }
  },
  {
   "cell_type": "code",
   "execution_count": 75,
   "outputs": [
    {
     "name": "stdout",
     "output_type": "stream",
     "text": [
      "678873\n"
     ]
    }
   ],
   "source": [
    "count = 0\n",
    "for scene in train:\n",
    "    for utt in scene['sentences']:\n",
    "        count += len(utt)\n",
    "for scene in extended_train:\n",
    "    for utt in scene['sentences']:\n",
    "        count += len(utt)\n",
    "for scene in dev_test:\n",
    "    for utt in scene['sentences']:\n",
    "        count += len(utt)\n",
    "print(count)"
   ],
   "metadata": {
    "collapsed": false,
    "pycharm": {
     "name": "#%%\n"
    }
   }
  },
  {
   "cell_type": "code",
   "execution_count": 78,
   "outputs": [
    {
     "data": {
      "text/plain": "304.1545698924731"
     },
     "execution_count": 78,
     "metadata": {},
     "output_type": "execute_result"
    }
   ],
   "source": [
    "678873/(1960+272)"
   ],
   "metadata": {
    "collapsed": false,
    "pycharm": {
     "name": "#%%\n"
    }
   }
  },
  {
   "cell_type": "code",
   "execution_count": 79,
   "outputs": [
    {
     "name": "stdout",
     "output_type": "stream",
     "text": [
      "{'sentences': [['Monica', 'Geller', ':', 'You', 'guys', 'do', \"n't\", 'understand', '.', 'For', 'us', ',', 'kissing', 'is', 'as', 'important', 'as', 'any', 'part', 'of', 'it', '.'], ['Joey', 'Tribbiani', ':', 'Yeah', ',', 'right', '!'], ['Phoebe', 'Buffay', ':'], ['Rachel', 'Green', ':', 'All', 'you', 'need', 'to', 'know', 'is', 'in', 'the', 'first', 'kiss', '.'], ['Monica', 'Geller', ':', 'Absolutely', '.'], ['Chandler', 'Bing', ':', 'For', 'us', ',', 'kissing', \"'s\", 'an', 'opening', 'act', '..', 'like', 'the', 'comedian', 'you', 'have', 'to', 'sit', 'through', '..', 'before', 'Pink', 'Floyd', 'comes', 'out', '.'], ['Ross', 'Geller', ':', 'And', 'it', \"'s\", 'not', 'that', 'we', 'do', \"n't\", 'like', 'the', 'comedian', '.', 'It', \"'s\", 'just', 'that', 'that', \"'s\", 'not', 'why', 'we', 'bought', 'the', 'ticket', '.'], ['Chandler', 'Bing', ':', 'The', 'problem', 'is', ',', 'after', 'the', 'concert', ',', 'no', 'matter', 'how', 'great', 'the', 'show', 'was', 'you', 'girls', 'are', 'always', 'looking', 'for', 'the', 'comedian', 'again', '.', 'We', \"'re\", 'in', 'the', 'car', ',', 'fighting', 'traffic', 'just', 'trying', 'to', 'stay', 'awake', '.'], ['Rachel', 'Green', ':', 'Well', ',', 'word', 'of', 'advice', ':', 'Bring', 'back', 'the', 'comedian', '.', 'Or', 'next', 'time', 'you', \"'ll\", 'find', 'yourself', 'listening', 'to', 'that', 'album', 'alone', '.'], ['Joey', 'Tribbiani', ':', 'Are', 'we', 'still', 'talking', 'about', 'sex', '?']], 'querySpans': [{'sentenceIndex': 0, 'startToken': 3, 'endToken': 4}, {'sentenceIndex': 0, 'startToken': 3, 'endToken': 5}, {'sentenceIndex': 0, 'startToken': 10, 'endToken': 11}, {'sentenceIndex': 0, 'startToken': 12, 'endToken': 13}, {'sentenceIndex': 0, 'startToken': 17, 'endToken': 19}, {'sentenceIndex': 0, 'startToken': 20, 'endToken': 21}, {'sentenceIndex': 3, 'startToken': 3, 'endToken': 4}, {'sentenceIndex': 3, 'startToken': 4, 'endToken': 5}, {'sentenceIndex': 3, 'startToken': 10, 'endToken': 13}, {'sentenceIndex': 5, 'startToken': 4, 'endToken': 5}, {'sentenceIndex': 5, 'startToken': 6, 'endToken': 11}, {'sentenceIndex': 5, 'startToken': 13, 'endToken': 15}, {'sentenceIndex': 5, 'startToken': 15, 'endToken': 16}, {'sentenceIndex': 5, 'startToken': 22, 'endToken': 24}, {'sentenceIndex': 6, 'startToken': 4, 'endToken': 5}, {'sentenceIndex': 6, 'startToken': 8, 'endToken': 9}, {'sentenceIndex': 6, 'startToken': 12, 'endToken': 14}, {'sentenceIndex': 6, 'startToken': 15, 'endToken': 16}, {'sentenceIndex': 6, 'startToken': 19, 'endToken': 20}, {'sentenceIndex': 6, 'startToken': 23, 'endToken': 24}, {'sentenceIndex': 6, 'startToken': 25, 'endToken': 27}, {'sentenceIndex': 7, 'startToken': 3, 'endToken': 5}, {'sentenceIndex': 7, 'startToken': 8, 'endToken': 10}, {'sentenceIndex': 7, 'startToken': 15, 'endToken': 17}, {'sentenceIndex': 7, 'startToken': 18, 'endToken': 19}, {'sentenceIndex': 7, 'startToken': 18, 'endToken': 20}, {'sentenceIndex': 7, 'startToken': 24, 'endToken': 26}, {'sentenceIndex': 7, 'startToken': 28, 'endToken': 29}, {'sentenceIndex': 7, 'startToken': 31, 'endToken': 33}, {'sentenceIndex': 7, 'startToken': 35, 'endToken': 36}, {'sentenceIndex': 8, 'startToken': 3, 'endToken': 6}, {'sentenceIndex': 8, 'startToken': 7, 'endToken': 8}, {'sentenceIndex': 8, 'startToken': 11, 'endToken': 13}, {'sentenceIndex': 8, 'startToken': 17, 'endToken': 18}, {'sentenceIndex': 8, 'startToken': 20, 'endToken': 21}, {'sentenceIndex': 8, 'startToken': 23, 'endToken': 25}, {'sentenceIndex': 9, 'startToken': 4, 'endToken': 5}, {'sentenceIndex': 9, 'startToken': 8, 'endToken': 9}], 'candidateSpans': [{'sentenceIndex': 0, 'startToken': 3, 'endToken': 4}, {'sentenceIndex': 0, 'startToken': 3, 'endToken': 5}, {'sentenceIndex': 0, 'startToken': 10, 'endToken': 11}, {'sentenceIndex': 0, 'startToken': 12, 'endToken': 13}, {'sentenceIndex': 0, 'startToken': 17, 'endToken': 19}, {'sentenceIndex': 0, 'startToken': 20, 'endToken': 21}, {'sentenceIndex': 3, 'startToken': 3, 'endToken': 4}, {'sentenceIndex': 3, 'startToken': 4, 'endToken': 5}, {'sentenceIndex': 3, 'startToken': 10, 'endToken': 13}, {'sentenceIndex': 5, 'startToken': 4, 'endToken': 5}, {'sentenceIndex': 5, 'startToken': 6, 'endToken': 11}, {'sentenceIndex': 5, 'startToken': 13, 'endToken': 15}, {'sentenceIndex': 5, 'startToken': 15, 'endToken': 16}, {'sentenceIndex': 5, 'startToken': 22, 'endToken': 24}, {'sentenceIndex': 6, 'startToken': 4, 'endToken': 5}, {'sentenceIndex': 6, 'startToken': 8, 'endToken': 9}, {'sentenceIndex': 6, 'startToken': 12, 'endToken': 14}, {'sentenceIndex': 6, 'startToken': 15, 'endToken': 16}, {'sentenceIndex': 6, 'startToken': 19, 'endToken': 20}, {'sentenceIndex': 6, 'startToken': 23, 'endToken': 24}, {'sentenceIndex': 6, 'startToken': 25, 'endToken': 27}, {'sentenceIndex': 7, 'startToken': 3, 'endToken': 5}, {'sentenceIndex': 7, 'startToken': 8, 'endToken': 10}, {'sentenceIndex': 7, 'startToken': 15, 'endToken': 17}, {'sentenceIndex': 7, 'startToken': 18, 'endToken': 19}, {'sentenceIndex': 7, 'startToken': 18, 'endToken': 20}, {'sentenceIndex': 7, 'startToken': 24, 'endToken': 26}, {'sentenceIndex': 7, 'startToken': 28, 'endToken': 29}, {'sentenceIndex': 7, 'startToken': 31, 'endToken': 33}, {'sentenceIndex': 7, 'startToken': 35, 'endToken': 36}, {'sentenceIndex': 8, 'startToken': 3, 'endToken': 6}, {'sentenceIndex': 8, 'startToken': 7, 'endToken': 8}, {'sentenceIndex': 8, 'startToken': 11, 'endToken': 13}, {'sentenceIndex': 8, 'startToken': 17, 'endToken': 18}, {'sentenceIndex': 8, 'startToken': 20, 'endToken': 21}, {'sentenceIndex': 8, 'startToken': 23, 'endToken': 25}, {'sentenceIndex': 9, 'startToken': 4, 'endToken': 5}, {'sentenceIndex': 9, 'startToken': 8, 'endToken': 9}], 'clickSpans': [{'sentenceIndex': 0, 'startToken': 3, 'endToken': 4}, {'sentenceIndex': 0, 'startToken': 3, 'endToken': 5}, {'sentenceIndex': 0, 'startToken': 10, 'endToken': 11}, {'sentenceIndex': 0, 'startToken': 12, 'endToken': 13}, {'sentenceIndex': 0, 'startToken': 17, 'endToken': 19}, {'sentenceIndex': 0, 'startToken': 20, 'endToken': 21}, {'sentenceIndex': 3, 'startToken': 3, 'endToken': 4}, {'sentenceIndex': 3, 'startToken': 4, 'endToken': 5}, {'sentenceIndex': 3, 'startToken': 10, 'endToken': 13}, {'sentenceIndex': 5, 'startToken': 4, 'endToken': 5}, {'sentenceIndex': 5, 'startToken': 6, 'endToken': 11}, {'sentenceIndex': 5, 'startToken': 13, 'endToken': 15}, {'sentenceIndex': 5, 'startToken': 15, 'endToken': 16}, {'sentenceIndex': 5, 'startToken': 22, 'endToken': 24}, {'sentenceIndex': 6, 'startToken': 4, 'endToken': 5}, {'sentenceIndex': 6, 'startToken': 8, 'endToken': 9}, {'sentenceIndex': 6, 'startToken': 12, 'endToken': 14}, {'sentenceIndex': 6, 'startToken': 15, 'endToken': 16}, {'sentenceIndex': 6, 'startToken': 19, 'endToken': 20}, {'sentenceIndex': 6, 'startToken': 23, 'endToken': 24}, {'sentenceIndex': 6, 'startToken': 25, 'endToken': 27}, {'sentenceIndex': 7, 'startToken': 3, 'endToken': 5}, {'sentenceIndex': 7, 'startToken': 8, 'endToken': 10}, {'sentenceIndex': 7, 'startToken': 15, 'endToken': 17}, {'sentenceIndex': 7, 'startToken': 18, 'endToken': 19}, {'sentenceIndex': 7, 'startToken': 18, 'endToken': 20}, {'sentenceIndex': 7, 'startToken': 24, 'endToken': 26}, {'sentenceIndex': 7, 'startToken': 28, 'endToken': 29}, {'sentenceIndex': 7, 'startToken': 31, 'endToken': 33}, {'sentenceIndex': 7, 'startToken': 35, 'endToken': 36}, {'sentenceIndex': 8, 'startToken': 3, 'endToken': 6}, {'sentenceIndex': 8, 'startToken': 7, 'endToken': 8}, {'sentenceIndex': 8, 'startToken': 11, 'endToken': 13}, {'sentenceIndex': 8, 'startToken': 17, 'endToken': 18}, {'sentenceIndex': 8, 'startToken': 20, 'endToken': 21}, {'sentenceIndex': 8, 'startToken': 23, 'endToken': 25}, {'sentenceIndex': 9, 'startToken': 4, 'endToken': 5}, {'sentenceIndex': 9, 'startToken': 8, 'endToken': 9}]}\n"
     ]
    }
   ],
   "source": [
    "print(train[0])"
   ],
   "metadata": {
    "collapsed": false,
    "pycharm": {
     "name": "#%%\n"
    }
   }
  },
  {
   "cell_type": "code",
   "execution_count": 82,
   "outputs": [],
   "source": [
    "mentions = []\n",
    "for scene in train:\n",
    "    for utt in scene['querySpans']:\n",
    "        length = utt['endToken']-utt['startToken']\n",
    "        mentions.append(length)\n",
    "for scene in extended_train:\n",
    "    for utt in scene['querySpans']:\n",
    "        length = utt['endToken']-utt['startToken']\n",
    "        mentions.append(length)\n",
    "for scene in dev_test:\n",
    "    for utt in scene['querySpans']:\n",
    "        length = utt['endToken']-utt['startToken']\n",
    "        mentions.append(length)"
   ],
   "metadata": {
    "collapsed": false,
    "pycharm": {
     "name": "#%%\n"
    }
   }
  },
  {
   "cell_type": "code",
   "execution_count": 83,
   "outputs": [
    {
     "name": "stdout",
     "output_type": "stream",
     "text": [
      "154906\n"
     ]
    }
   ],
   "source": [
    "print(len(mentions))"
   ],
   "metadata": {
    "collapsed": false,
    "pycharm": {
     "name": "#%%\n"
    }
   }
  },
  {
   "cell_type": "code",
   "execution_count": 84,
   "outputs": [
    {
     "data": {
      "text/plain": "154.906"
     },
     "execution_count": 84,
     "metadata": {},
     "output_type": "execute_result"
    }
   ],
   "source": [
    "154906/1000"
   ],
   "metadata": {
    "collapsed": false,
    "pycharm": {
     "name": "#%%\n"
    }
   }
  },
  {
   "cell_type": "code",
   "execution_count": 86,
   "outputs": [
    {
     "data": {
      "text/plain": "69.40232974910394"
     },
     "execution_count": 86,
     "metadata": {},
     "output_type": "execute_result"
    }
   ],
   "source": [
    "154906/(1960+272)"
   ],
   "metadata": {
    "collapsed": false,
    "pycharm": {
     "name": "#%%\n"
    }
   }
  },
  {
   "cell_type": "code",
   "execution_count": 85,
   "outputs": [
    {
     "name": "stdout",
     "output_type": "stream",
     "text": [
      "1.4445986598324145\n"
     ]
    }
   ],
   "source": [
    "print(sum(mentions)/len(mentions))"
   ],
   "metadata": {
    "collapsed": false,
    "pycharm": {
     "name": "#%%\n"
    }
   }
  },
  {
   "cell_type": "code",
   "execution_count": 64,
   "outputs": [
    {
     "name": "stdout",
     "output_type": "stream",
     "text": [
      "272 76\n",
      "968 319\n",
      "992 286\n"
     ]
    }
   ],
   "source": [
    "print(len(dev_test_count), len(dev_test_batches))\n",
    "print(len(train_count), len(train_batches))\n",
    "print(len(extended_train_count), len(extended_train_batches))"
   ],
   "metadata": {
    "collapsed": false,
    "pycharm": {
     "name": "#%%\n"
    }
   }
  },
  {
   "cell_type": "code",
   "execution_count": 68,
   "outputs": [
    {
     "name": "stdout",
     "output_type": "stream",
     "text": [
      "234.46052631578948\n",
      "223.35109717868337\n",
      "228.32867132867133\n",
      "226.68135095447872\n"
     ]
    }
   ],
   "source": [
    "count = 0\n",
    "for item in dev_test_batches:\n",
    "    count += sum(item)\n",
    "print(count/len(dev_test_batches))\n",
    "\n",
    "count = 0\n",
    "for item in train_batches:\n",
    "    count += sum(item)\n",
    "print(count/len(train_batches))\n",
    "\n",
    "count = 0\n",
    "for item in extended_train_batches:\n",
    "    count += sum(item)\n",
    "print(count/len(extended_train_batches))\n",
    "\n",
    "\n",
    "count = 0\n",
    "for item in dev_test_batches:\n",
    "    count += sum(item)\n",
    "for item in train_batches:\n",
    "    count += sum(item)\n",
    "for item in extended_train_batches:\n",
    "    count += sum(item)\n",
    "print(count/(len(extended_train_batches)+len(train_batches)+len(dev_test_batches)))"
   ],
   "metadata": {
    "collapsed": false,
    "pycharm": {
     "name": "#%%\n"
    }
   }
  },
  {
   "cell_type": "code",
   "execution_count": 48,
   "outputs": [
    {
     "data": {
      "text/plain": "<Figure size 432x288 with 1 Axes>",
      "image/png": "[encoded data removed]"
     },
     "metadata": {
      "needs_background": "light"
     },
     "output_type": "display_data"
    }
   ],
   "source": [
    "plt.hist(dev_test_count)\n",
    "plt.show()"
   ],
   "metadata": {
    "collapsed": false,
    "pycharm": {
     "name": "#%%\n"
    }
   }
  },
  {
   "cell_type": "code",
   "execution_count": 49,
   "outputs": [
    {
     "data": {
      "text/plain": "<Figure size 432x288 with 1 Axes>",
      "image/png": "[encoded data removed]"
     },
     "metadata": {
      "needs_background": "light"
     },
     "output_type": "display_data"
    }
   ],
   "source": [
    "plt.hist(train_count)\n",
    "plt.show()"
   ],
   "metadata": {
    "collapsed": false,
    "pycharm": {
     "name": "#%%\n"
    }
   }
  },
  {
   "cell_type": "code",
   "execution_count": 47,
   "outputs": [
    {
     "data": {
      "text/plain": "<Figure size 432x288 with 1 Axes>",
      "image/png": "iVBORw0KGgoAAAANSUhEUgAAAXcAAAD4CAYAAAAXUaZHAAAAOXRFWHRTb2Z0d2FyZQBNYXRwbG90bGliIHZlcnNpb24zLjUuMSwgaHR0cHM6Ly9tYXRwbG90bGliLm9yZy/YYfK9AAAACXBIWXMAAAsTAAALEwEAmpwYAAATYElEQVR4nO3df6zldX3n8edrBwRTXfl1l7Azk71oZ2Nosx3JLaXRNC7Eyo+mgwk1mKZODMl0dzHR2N06tMlWkyXBzSqtSZdmFOrYWoFFDROgu6VAY/xD8KLDOIDUWxnDTEbmVgElpuwC7/3jfEaO13vn/jz33Pn0+UhOzvf7+X6+9/s+nzv3Nd/7ud9zvqkqJEl9+RfjLkCStPYMd0nqkOEuSR0y3CWpQ4a7JHXolHEXAHDOOefU5OTkuMuQpJPKI4888o9VNTHftg0R7pOTk0xPT4+7DEk6qST57kLbnJaRpA4Z7pLUIcNdkjpkuEtShwx3SeqQ4S5JHTLcJalDhrskdchwl6QObYh3qJ6sJnffM5bjHrrxyrEcV9LJwzN3SeqQ4S5JHTLcJalDhrskdWjJ4Z5kU5JvJLm7rZ+f5KEkM0luT/Ka1n5aW59p2ydHVLskaQHLOXP/APDE0PrHgJuq6ueBZ4FrW/u1wLOt/abWT5K0jpYU7km2AFcCn27rAS4B7mxd9gJXteUdbZ22/dLWX5K0TpZ65v7HwO8Dr7T1s4Hnquqltn4Y2NyWNwNPA7Ttz7f+PyXJriTTSaZnZ2dXVr0kaV6LhnuS3wCOVdUja3ngqtpTVVNVNTUxMe8tACVJK7SUd6i+FfjNJFcApwP/EvgT4Iwkp7Sz8y3Akdb/CLAVOJzkFOANwPfXvHJJ0oIWPXOvquuraktVTQLXAA9U1W8DDwJXt247gbva8r62Ttv+QFXVmlYtSTqh1Vzn/mHgQ0lmGMyp39LabwHObu0fAnavrkRJ0nIt64PDqurvgL9ry98BLpqnzz8Bv7UGtUmSVsh3qEpShwx3SeqQ4S5JHTLcJalDhrskdchwl6QOGe6S1CHDXZI6ZLhLUocMd0nqkOEuSR0y3CWpQ4a7JHXIcJekDhnuktQhw12SOrSUG2SfnuThJI8meSzJR1v7Z5I8lWR/e2xv7UnyySQzSQ4kuXDEr0GSNMdS7sT0InBJVb2Q5FTgK0n+um37L1V155z+lwPb2uNXgJvbsyRpnSzlBtlVVS+01VPb40Q3vN4BfLbt91XgjCTnrb5USdJSLWnOPcmmJPuBY8B9VfVQ23RDm3q5KclprW0z8PTQ7odb29yvuSvJdJLp2dnZlb8CSdLPWFK4V9XLVbUd2AJclOQXgeuBNwO/DJwFfHg5B66qPVU1VVVTExMTy6taknRCy7papqqeAx4ELquqo23q5UXgz4GLWrcjwNah3ba0NknSOlnK1TITSc5oy68F3gF86/g8epIAVwEH2y77gPe2q2YuBp6vqqMjqF2StIClXC1zHrA3ySYG/xncUVV3J3kgyQQQYD/wH1r/e4ErgBngx8D71rxqSdIJLRruVXUAeMs87Zcs0L+A61ZfmiRppXyHqiR1yHCXpA4Z7pLUIcNdkjpkuEtShwx3SeqQ4S5JHTLcJalDhrskdchwl6QOGe6S1CHDXZI6ZLhLUocMd0nqkOEuSR0y3CWpQ0u5zd7pSR5O8miSx5J8tLWfn+ShJDNJbk/ymtZ+WlufadsnR/waJElzLOXM/UXgkqr6JWA7cFm7N+rHgJuq6ueBZ4FrW/9rgWdb+02tnyRpHS0a7jXwQls9tT0KuAS4s7XvZXCTbIAdbZ22/dJ2E21J0jpZ0px7kk1J9gPHgPuAfwCeq6qXWpfDwOa2vBl4GqBtfx44e56vuSvJdJLp2dnZVb0ISdJPW1K4V9XLVbUd2AJcBLx5tQeuqj1VNVVVUxMTE6v9cpKkIcu6WqaqngMeBH4VOCPJKW3TFuBIWz4CbAVo298AfH8tipUkLc1SrpaZSHJGW34t8A7gCQYhf3XrthO4qy3va+u07Q9UVa1hzZKkRZyyeBfOA/Ym2cTgP4M7quruJI8DtyX5b8A3gFta/1uAv0gyA/wAuGYEdUuSTmDRcK+qA8Bb5mn/DoP597nt/wT81ppUJ0laEd+hKkkdMtwlqUOGuyR1yHCXpA4Z7pLUoaVcCrmhTe6+Z9wlSNKG45m7JHXIcJekDhnuktQhw12SOmS4S1KHDHdJ6pDhLkkdMtwlqUOGuyR1aCl3Ytqa5MEkjyd5LMkHWvtHkhxJsr89rhja5/okM0meTPLOUb4ASdLPWsrHD7wE/F5VfT3J64FHktzXtt1UVf9juHOSCxjcfekXgH8N/G2Sf1tVL69l4ZKkhS165l5VR6vq6235Rwzun7r5BLvsAG6rqher6ilghnnu2CRJGp1lzbknmWRwy72HWtP7kxxIcmuSM1vbZuDpod0Oc+L/DCRJa2zJ4Z7kdcAXgA9W1Q+Bm4E3AduBo8DHl3PgJLuSTCeZnp2dXc6ukqRFLCnck5zKINg/V1VfBKiqZ6rq5ap6BfgUr069HAG2Du2+pbX9lKraU1VTVTU1MTGxmtcgSZpjKVfLBLgFeKKqPuniversity_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\n"
     },
     "metadata": {
      "needs_background": "light"
     },
     "output_type": "display_data"
    }
   ],
   "source": [
    "plt.hist(extended_train_count)\n",
    "plt.show()"
   ],
   "metadata": {
    "collapsed": false,
    "pycharm": {
     "name": "#%%\n"
    }
   }
  },
  {
   "cell_type": "code",
   "execution_count": null,
   "outputs": [],
   "source": [],
   "metadata": {
    "collapsed": false,
    "pycharm": {
     "name": "#%%\n"
    }
   }
  },
  {
   "cell_type": "code",
   "execution_count": 24,
   "outputs": [
    {
     "name": "stdout",
     "output_type": "stream",
     "text": [
      "0 2\n",
      "1 4\n",
      "2 5\n",
      "3 3\n",
      "4 4\n",
      "5 1\n",
      "6 3\n",
      "7 2\n",
      "8 8\n",
      "10 7\n",
      "11 4\n",
      "12 4\n",
      "13 7\n",
      "14 6\n",
      "15 5\n",
      "16 2\n",
      "17 3\n",
      "18 6\n",
      "19 4\n",
      "20 1\n",
      "21 7\n",
      "22 8\n",
      "23 7\n",
      "24 4\n",
      "25 4\n",
      "26 5\n",
      "27 7\n",
      "28 3\n",
      "29 8\n",
      "30 7\n",
      "31 6\n",
      "32 4\n",
      "33 9\n",
      "34 5\n",
      "35 9\n",
      "36 11\n",
      "37 8\n",
      "38 9\n",
      "39 8\n",
      "40 10\n",
      "41 7\n",
      "42 12\n",
      "43 8\n",
      "44 8\n",
      "45 10\n",
      "46 10\n",
      "47 10\n",
      "48 8\n",
      "49 11\n",
      "50 16\n",
      "51 9\n",
      "52 9\n",
      "53 15\n",
      "54 10\n",
      "55 7\n",
      "56 5\n",
      "57 8\n",
      "58 18\n",
      "59 11\n",
      "60 9\n",
      "61 9\n",
      "62 6\n",
      "63 5\n",
      "64 13\n",
      "65 11\n",
      "66 12\n",
      "67 10\n",
      "68 13\n",
      "69 10\n",
      "70 7\n",
      "71 11\n",
      "72 10\n",
      "73 13\n",
      "74 10\n",
      "75 13\n",
      "76 10\n",
      "77 7\n",
      "78 12\n",
      "79 10\n",
      "80 11\n",
      "81 9\n",
      "82 5\n",
      "83 6\n",
      "84 7\n",
      "85 8\n",
      "86 5\n",
      "87 10\n",
      "88 9\n",
      "89 14\n",
      "90 13\n",
      "91 6\n",
      "92 3\n",
      "93 11\n",
      "94 1\n",
      "95 12\n",
      "96 8\n",
      "97 3\n",
      "98 7\n",
      "99 6\n",
      "100 6\n",
      "101 13\n",
      "102 4\n",
      "103 4\n",
      "104 3\n",
      "105 4\n",
      "106 9\n",
      "107 5\n",
      "108 7\n",
      "109 6\n",
      "110 5\n",
      "111 6\n",
      "112 4\n",
      "113 5\n",
      "114 2\n",
      "115 2\n",
      "116 7\n",
      "117 3\n",
      "118 4\n",
      "119 3\n",
      "120 3\n",
      "121 4\n",
      "122 6\n",
      "123 4\n",
      "124 6\n",
      "125 2\n",
      "126 3\n",
      "127 3\n",
      "128 2\n",
      "129 2\n",
      "130 6\n",
      "131 2\n",
      "132 2\n",
      "133 1\n",
      "134 2\n",
      "135 2\n",
      "136 2\n",
      "137 5\n",
      "138 2\n",
      "140 1\n",
      "142 4\n",
      "143 1\n",
      "144 2\n",
      "145 1\n",
      "146 3\n",
      "148 1\n",
      "149 1\n",
      "150 3\n",
      "151 4\n",
      "152 2\n",
      "153 1\n",
      "154 1\n",
      "155 3\n",
      "156 1\n",
      "159 1\n",
      "160 2\n",
      "163 2\n",
      "164 1\n",
      "166 2\n",
      "167 2\n",
      "168 1\n",
      "171 1\n",
      "175 1\n",
      "177 1\n",
      "178 1\n",
      "180 1\n",
      "181 1\n",
      "183 1\n",
      "184 1\n",
      "190 1\n",
      "191 1\n",
      "192 2\n",
      "199 1\n",
      "200 1\n",
      "201 2\n",
      "205 1\n",
      "206 1\n",
      "222 1\n",
      "227 1\n",
      "228 1\n",
      "234 1\n",
      "238 1\n",
      "240 1\n",
      "249 1\n",
      "263 1\n",
      "272 1\n",
      "282 1\n",
      "413 1\n",
      "680 1\n"
     ]
    }
   ],
   "source": [
    "# print(tbbt_counter)\n",
    "\n",
    "for item in sorted(tbbt_counter):\n",
    "    print(item, tbbt_counter[item])"
   ],
   "metadata": {
    "collapsed": false,
    "pycharm": {
     "name": "#%%\n"
    }
   }
  },
  {
   "cell_type": "code",
   "execution_count": 30,
   "outputs": [
    {
     "name": "stdout",
     "output_type": "stream",
     "text": [
      "150376\n"
     ]
    }
   ],
   "source": [
    "print(sum(tbbt_count)+sum(extended_friends_count))"
   ],
   "metadata": {
    "collapsed": false,
    "pycharm": {
     "name": "#%%\n"
    }
   }
  },
  {
   "cell_type": "code",
   "execution_count": 17,
   "outputs": [
    {
     "name": "stdout",
     "output_type": "stream",
     "text": [
      "998\n",
      "998\n"
     ]
    }
   ],
   "source": [
    "print(len(tbbt_count))\n",
    "print(len(tbbt))"
   ],
   "metadata": {
    "collapsed": false,
    "pycharm": {
     "name": "#%%\n"
    }
   }
  },
  {
   "cell_type": "code",
   "execution_count": 11,
   "outputs": [
    {
     "name": "stdout",
     "output_type": "stream",
     "text": [
      "{'sentences': [['Sheldon', ':', 'I', 'understand', 'why', 'no', 'one', 'else', 'bid', '.']], 'querySpans': [{'sentenceIndex': 0, 'startToken': 2, 'endToken': 3}, {'sentenceIndex': 0, 'startToken': 5, 'endToken': 7}], 'candidateSpans': [{'sentenceIndex': 0, 'startToken': 2, 'endToken': 3}, {'sentenceIndex': 0, 'startToken': 5, 'endToken': 7}], 'clickSpans': [{'sentenceIndex': 0, 'startToken': 2, 'endToken': 3}, {'sentenceIndex': 0, 'startToken': 5, 'endToken': 7}]}\n",
      "\n",
      "{'sentences': [['Sheldon', ':', 'Correction', '.', 'Missy', 'can', 'date', 'whoever', 'she', 'wants', '.']], 'querySpans': [{'sentenceIndex': 0, 'startToken': 2, 'endToken': 3}, {'sentenceIndex': 0, 'startToken': 4, 'endToken': 5}, {'sentenceIndex': 0, 'startToken': 7, 'endToken': 8}, {'sentenceIndex': 0, 'startToken': 8, 'endToken': 9}], 'candidateSpans': [{'sentenceIndex': 0, 'startToken': 2, 'endToken': 3}, {'sentenceIndex': 0, 'startToken': 4, 'endToken': 5}, {'sentenceIndex': 0, 'startToken': 7, 'endToken': 8}, {'sentenceIndex': 0, 'startToken': 8, 'endToken': 9}], 'clickSpans': [{'sentenceIndex': 0, 'startToken': 2, 'endToken': 3}, {'sentenceIndex': 0, 'startToken': 4, 'endToken': 5}, {'sentenceIndex': 0, 'startToken': 7, 'endToken': 8}, {'sentenceIndex': 0, 'startToken': 8, 'endToken': 9}]}\n",
      "\n",
      "{'sentences': [['Sheldon', ':', 'Proxima', 'Centauri', \"'s\", 'the', 'nearest', 'star', '.', 'The', 'celestial', 'bodies', 'that', 'follow', 'are', 'Alpha', 'Centauri', 'A', ',', 'Toli', ',', 'Barnard', \"'s\", 'Star', ',', 'Wolf', '359', '...', 'Lalande', '21185', ',', 'Sirius', 'A', ',', 'Sirius', 'B', ',', 'BL', '-', 'Ceti', ',', 'UV', '-', 'Ceti', ',', 'Ross', '154', '...', 'Ross', '248', '...', 'Epsilon', 'Eridani', ',', 'Lac-9352', ',', 'Ross', '128', ',', 'Procyon', 'A', '...', 'Oh', ',', 'darn', ',', 'that', \"'s\", 'wrong', '!', 'EZ', 'Aquarii', 'A', ',', 'EZ', 'Aquarii', 'B', ',', 'EZ', 'Aquarii', 'C', ',', 'Procyon', 'A.', 'Those', 'are', 'the', 'stars', 'that', 'are', 'nearest', 'to', 'me', '.', 'Tra', '-', 'la', '-', 'la', 'and', 'fiddle', '-', 'dee', '-', 'dee', '.', 'Oh', ',', 'dear', '.', 'They', 'really', 'do', 'be', 'crazy', '.']], 'querySpans': [{'sentenceIndex': 0, 'startToken': 2, 'endToken': 8}, {'sentenceIndex': 0, 'startToken': 9, 'endToken': 12}, {'sentenceIndex': 0, 'startToken': 12, 'endToken': 13}, {'sentenceIndex': 0, 'startToken': 15, 'endToken': 18}, {'sentenceIndex': 0, 'startToken': 19, 'endToken': 20}, {'sentenceIndex': 0, 'startToken': 21, 'endToken': 24}, {'sentenceIndex': 0, 'startToken': 25, 'endToken': 26}, {'sentenceIndex': 0, 'startToken': 28, 'endToken': 29}, {'sentenceIndex': 0, 'startToken': 31, 'endToken': 33}, {'sentenceIndex': 0, 'startToken': 34, 'endToken': 36}, {'sentenceIndex': 0, 'startToken': 37, 'endToken': 40}, {'sentenceIndex': 0, 'startToken': 41, 'endToken': 44}, {'sentenceIndex': 0, 'startToken': 45, 'endToken': 46}, {'sentenceIndex': 0, 'startToken': 48, 'endToken': 49}, {'sentenceIndex': 0, 'startToken': 51, 'endToken': 53}, {'sentenceIndex': 0, 'startToken': 54, 'endToken': 55}, {'sentenceIndex': 0, 'startToken': 56, 'endToken': 57}, {'sentenceIndex': 0, 'startToken': 59, 'endToken': 61}, {'sentenceIndex': 0, 'startToken': 66, 'endToken': 67}, {'sentenceIndex': 0, 'startToken': 70, 'endToken': 73}, {'sentenceIndex': 0, 'startToken': 74, 'endToken': 77}, {'sentenceIndex': 0, 'startToken': 78, 'endToken': 81}, {'sentenceIndex': 0, 'startToken': 82, 'endToken': 84}, {'sentenceIndex': 0, 'startToken': 84, 'endToken': 85}, {'sentenceIndex': 0, 'startToken': 86, 'endToken': 88}, {'sentenceIndex': 0, 'startToken': 88, 'endToken': 89}, {'sentenceIndex': 0, 'startToken': 92, 'endToken': 93}, {'sentenceIndex': 0, 'startToken': 94, 'endToken': 105}, {'sentenceIndex': 0, 'startToken': 110, 'endToken': 111}], 'candidateSpans': [{'sentenceIndex': 0, 'startToken': 2, 'endToken': 8}, {'sentenceIndex': 0, 'startToken': 9, 'endToken': 12}, {'sentenceIndex': 0, 'startToken': 12, 'endToken': 13}, {'sentenceIndex': 0, 'startToken': 15, 'endToken': 18}, {'sentenceIndex': 0, 'startToken': 19, 'endToken': 20}, {'sentenceIndex': 0, 'startToken': 21, 'endToken': 24}, {'sentenceIndex': 0, 'startToken': 25, 'endToken': 26}, {'sentenceIndex': 0, 'startToken': 28, 'endToken': 29}, {'sentenceIndex': 0, 'startToken': 31, 'endToken': 33}, {'sentenceIndex': 0, 'startToken': 34, 'endToken': 36}, {'sentenceIndex': 0, 'startToken': 37, 'endToken': 40}, {'sentenceIndex': 0, 'startToken': 41, 'endToken': 44}, {'sentenceIndex': 0, 'startToken': 45, 'endToken': 46}, {'sentenceIndex': 0, 'startToken': 48, 'endToken': 49}, {'sentenceIndex': 0, 'startToken': 51, 'endToken': 53}, {'sentenceIndex': 0, 'startToken': 54, 'endToken': 55}, {'sentenceIndex': 0, 'startToken': 56, 'endToken': 57}, {'sentenceIndex': 0, 'startToken': 59, 'endToken': 61}, {'sentenceIndex': 0, 'startToken': 66, 'endToken': 67}, {'sentenceIndex': 0, 'startToken': 70, 'endToken': 73}, {'sentenceIndex': 0, 'startToken': 74, 'endToken': 77}, {'sentenceIndex': 0, 'startToken': 78, 'endToken': 81}, {'sentenceIndex': 0, 'startToken': 82, 'endToken': 84}, {'sentenceIndex': 0, 'startToken': 84, 'endToken': 85}, {'sentenceIndex': 0, 'startToken': 86, 'endToken': 88}, {'sentenceIndex': 0, 'startToken': 88, 'endToken': 89}, {'sentenceIndex': 0, 'startToken': 92, 'endToken': 93}, {'sentenceIndex': 0, 'startToken': 94, 'endToken': 105}, {'sentenceIndex': 0, 'startToken': 110, 'endToken': 111}], 'clickSpans': [{'sentenceIndex': 0, 'startToken': 2, 'endToken': 8}, {'sentenceIndex': 0, 'startToken': 9, 'endToken': 12}, {'sentenceIndex': 0, 'startToken': 12, 'endToken': 13}, {'sentenceIndex': 0, 'startToken': 15, 'endToken': 18}, {'sentenceIndex': 0, 'startToken': 19, 'endToken': 20}, {'sentenceIndex': 0, 'startToken': 21, 'endToken': 24}, {'sentenceIndex': 0, 'startToken': 25, 'endToken': 26}, {'sentenceIndex': 0, 'startToken': 28, 'endToken': 29}, {'sentenceIndex': 0, 'startToken': 31, 'endToken': 33}, {'sentenceIndex': 0, 'startToken': 34, 'endToken': 36}, {'sentenceIndex': 0, 'startToken': 37, 'endToken': 40}, {'sentenceIndex': 0, 'startToken': 41, 'endToken': 44}, {'sentenceIndex': 0, 'startToken': 45, 'endToken': 46}, {'sentenceIndex': 0, 'startToken': 48, 'endToken': 49}, {'sentenceIndex': 0, 'startToken': 51, 'endToken': 53}, {'sentenceIndex': 0, 'startToken': 54, 'endToken': 55}, {'sentenceIndex': 0, 'startToken': 56, 'endToken': 57}, {'sentenceIndex': 0, 'startToken': 59, 'endToken': 61}, {'sentenceIndex': 0, 'startToken': 66, 'endToken': 67}, {'sentenceIndex': 0, 'startToken': 70, 'endToken': 73}, {'sentenceIndex': 0, 'startToken': 74, 'endToken': 77}, {'sentenceIndex': 0, 'startToken': 78, 'endToken': 81}, {'sentenceIndex': 0, 'startToken': 82, 'endToken': 84}, {'sentenceIndex': 0, 'startToken': 84, 'endToken': 85}, {'sentenceIndex': 0, 'startToken': 86, 'endToken': 88}, {'sentenceIndex': 0, 'startToken': 88, 'endToken': 89}, {'sentenceIndex': 0, 'startToken': 92, 'endToken': 93}, {'sentenceIndex': 0, 'startToken': 94, 'endToken': 105}, {'sentenceIndex': 0, 'startToken': 110, 'endToken': 111}]}\n",
      "\n",
      "{'sentences': [['Penny', ':', 'Oh', ',', 'God', '.', 'This', 'never', 'happened', '.', 'Do', 'you', 'understand', 'me', '?', 'Really', '?', '!', 'Still', 'ca', \"n't\", 'talk', 'to', 'me', '?']], 'querySpans': [{'sentenceIndex': 0, 'startToken': 6, 'endToken': 7}, {'sentenceIndex': 0, 'startToken': 11, 'endToken': 12}, {'sentenceIndex': 0, 'startToken': 13, 'endToken': 14}, {'sentenceIndex': 0, 'startToken': 23, 'endToken': 24}], 'candidateSpans': [{'sentenceIndex': 0, 'startToken': 6, 'endToken': 7}, {'sentenceIndex': 0, 'startToken': 11, 'endToken': 12}, {'sentenceIndex': 0, 'startToken': 13, 'endToken': 14}, {'sentenceIndex': 0, 'startToken': 23, 'endToken': 24}], 'clickSpans': [{'sentenceIndex': 0, 'startToken': 6, 'endToken': 7}, {'sentenceIndex': 0, 'startToken': 11, 'endToken': 12}, {'sentenceIndex': 0, 'startToken': 13, 'endToken': 14}, {'sentenceIndex': 0, 'startToken': 23, 'endToken': 24}]}\n",
      "\n",
      "{'sentences': [['Sheldon', ':', 'Look', 'at', 'the', 'two', 'of', 'us', '.', 'Me', ',', 'a', 'highly', 'regarded', 'physicist', '.', 'The', 'kind', 'of', 'mind', 'that', 'comes', 'along', 'once', ',', 'maybe', 'twice', 'in', 'a', 'generation', '.', 'You', ',', 'the', 'common', 'man', ',', 'tired', 'from', 'your', 'labors', 'as', 'a', 'stockbroker', ',', 'or', 'vacuum', 'cleaner', 'salesman', ',', 'or', 'bootblack', '.', 'But', 'deep', 'down', 'inside', '...', 'apparently', 'we', \"'re\", 'just', 'two', 'peas', 'in', 'a', 'pod', '.', 'A', 'regular', 'pea', ',', 'and', 'the', 'kind', 'of', 'pea', 'that', 'comes', 'along', 'once', ',', 'maybe', 'twice', 'in', 'a', 'generation', '.', 'Rain', '.', 'Another', 'great', 'equalizer', '.', 'Falling', 'on', 'the', 'head', 'of', 'the', 'brilliant', 'and', 'the', 'unremarkable', 'alike', '.', 'Smarty', '-', 'pants', '.']], 'querySpans': [{'sentenceIndex': 0, 'startToken': 7, 'endToken': 8}, {'sentenceIndex': 0, 'startToken': 9, 'endToken': 10}, {'sentenceIndex': 0, 'startToken': 11, 'endToken': 15}, {'sentenceIndex': 0, 'startToken': 16, 'endToken': 18}, {'sentenceIndex': 0, 'startToken': 19, 'endToken': 20}, {'sentenceIndex': 0, 'startToken': 20, 'endToken': 21}, {'sentenceIndex': 0, 'startToken': 28, 'endToken': 30}, {'sentenceIndex': 0, 'startToken': 31, 'endToken': 32}, {'sentenceIndex': 0, 'startToken': 33, 'endToken': 36}, {'sentenceIndex': 0, 'startToken': 39, 'endToken': 40}, {'sentenceIndex': 0, 'startToken': 39, 'endToken': 41}, {'sentenceIndex': 0, 'startToken': 42, 'endToken': 44}, {'sentenceIndex': 0, 'startToken': 46, 'endToken': 49}, {'sentenceIndex': 0, 'startToken': 51, 'endToken': 52}, {'sentenceIndex': 0, 'startToken': 59, 'endToken': 60}, {'sentenceIndex': 0, 'startToken': 61, 'endToken': 64}, {'sentenceIndex': 0, 'startToken': 65, 'endToken': 67}, {'sentenceIndex': 0, 'startToken': 68, 'endToken': 71}, {'sentenceIndex': 0, 'startToken': 73, 'endToken': 75}, {'sentenceIndex': 0, 'startToken': 76, 'endToken': 77}, {'sentenceIndex': 0, 'startToken': 77, 'endToken': 78}, {'sentenceIndex': 0, 'startToken': 85, 'endToken': 87}, {'sentenceIndex': 0, 'startToken': 88, 'endToken': 89}, {'sentenceIndex': 0, 'startToken': 90, 'endToken': 93}, {'sentenceIndex': 0, 'startToken': 96, 'endToken': 98}, {'sentenceIndex': 0, 'startToken': 106, 'endToken': 109}], 'candidateSpans': [{'sentenceIndex': 0, 'startToken': 7, 'endToken': 8}, {'sentenceIndex': 0, 'startToken': 9, 'endToken': 10}, {'sentenceIndex': 0, 'startToken': 11, 'endToken': 15}, {'sentenceIndex': 0, 'startToken': 16, 'endToken': 18}, {'sentenceIndex': 0, 'startToken': 19, 'endToken': 20}, {'sentenceIndex': 0, 'startToken': 20, 'endToken': 21}, {'sentenceIndex': 0, 'startToken': 28, 'endToken': 30}, {'sentenceIndex': 0, 'startToken': 31, 'endToken': 32}, {'sentenceIndex': 0, 'startToken': 33, 'endToken': 36}, {'sentenceIndex': 0, 'startToken': 39, 'endToken': 40}, {'sentenceIndex': 0, 'startToken': 39, 'endToken': 41}, {'sentenceIndex': 0, 'startToken': 42, 'endToken': 44}, {'sentenceIndex': 0, 'startToken': 46, 'endToken': 49}, {'sentenceIndex': 0, 'startToken': 51, 'endToken': 52}, {'sentenceIndex': 0, 'startToken': 59, 'endToken': 60}, {'sentenceIndex': 0, 'startToken': 61, 'endToken': 64}, {'sentenceIndex': 0, 'startToken': 65, 'endToken': 67}, {'sentenceIndex': 0, 'startToken': 68, 'endToken': 71}, {'sentenceIndex': 0, 'startToken': 73, 'endToken': 75}, {'sentenceIndex': 0, 'startToken': 76, 'endToken': 77}, {'sentenceIndex': 0, 'startToken': 77, 'endToken': 78}, {'sentenceIndex': 0, 'startToken': 85, 'endToken': 87}, {'sentenceIndex': 0, 'startToken': 88, 'endToken': 89}, {'sentenceIndex': 0, 'startToken': 90, 'endToken': 93}, {'sentenceIndex': 0, 'startToken': 96, 'endToken': 98}, {'sentenceIndex': 0, 'startToken': 106, 'endToken': 109}], 'clickSpans': [{'sentenceIndex': 0, 'startToken': 7, 'endToken': 8}, {'sentenceIndex': 0, 'startToken': 9, 'endToken': 10}, {'sentenceIndex': 0, 'startToken': 11, 'endToken': 15}, {'sentenceIndex': 0, 'startToken': 16, 'endToken': 18}, {'sentenceIndex': 0, 'startToken': 19, 'endToken': 20}, {'sentenceIndex': 0, 'startToken': 20, 'endToken': 21}, {'sentenceIndex': 0, 'startToken': 28, 'endToken': 30}, {'sentenceIndex': 0, 'startToken': 31, 'endToken': 32}, {'sentenceIndex': 0, 'startToken': 33, 'endToken': 36}, {'sentenceIndex': 0, 'startToken': 39, 'endToken': 40}, {'sentenceIndex': 0, 'startToken': 39, 'endToken': 41}, {'sentenceIndex': 0, 'startToken': 42, 'endToken': 44}, {'sentenceIndex': 0, 'startToken': 46, 'endToken': 49}, {'sentenceIndex': 0, 'startToken': 51, 'endToken': 52}, {'sentenceIndex': 0, 'startToken': 59, 'endToken': 60}, {'sentenceIndex': 0, 'startToken': 61, 'endToken': 64}, {'sentenceIndex': 0, 'startToken': 65, 'endToken': 67}, {'sentenceIndex': 0, 'startToken': 68, 'endToken': 71}, {'sentenceIndex': 0, 'startToken': 73, 'endToken': 75}, {'sentenceIndex': 0, 'startToken': 76, 'endToken': 77}, {'sentenceIndex': 0, 'startToken': 77, 'endToken': 78}, {'sentenceIndex': 0, 'startToken': 85, 'endToken': 87}, {'sentenceIndex': 0, 'startToken': 88, 'endToken': 89}, {'sentenceIndex': 0, 'startToken': 90, 'endToken': 93}, {'sentenceIndex': 0, 'startToken': 96, 'endToken': 98}, {'sentenceIndex': 0, 'startToken': 106, 'endToken': 109}]}\n",
      "\n",
      "{'sentences': [['Leonard', ':', 'Please', 'be', 'good', ',', 'please', 'be', 'good', '.', 'She', 'writes', 'like', 'she', 'cooks', '.']], 'querySpans': [{'sentenceIndex': 0, 'startToken': 10, 'endToken': 11}, {'sentenceIndex': 0, 'startToken': 13, 'endToken': 14}], 'candidateSpans': [{'sentenceIndex': 0, 'startToken': 10, 'endToken': 11}, {'sentenceIndex': 0, 'startToken': 13, 'endToken': 14}], 'clickSpans': [{'sentenceIndex': 0, 'startToken': 10, 'endToken': 11}, {'sentenceIndex': 0, 'startToken': 13, 'endToken': 14}]}\n",
      "\n",
      "{'sentences': [['Sheldon', ':', 'What', 'are', 'you', 'looking', 'at', ',', 'you', 'stupid', 'squirrel', '?']], 'querySpans': [{'sentenceIndex': 0, 'startToken': 2, 'endToken': 3}, {'sentenceIndex': 0, 'startToken': 4, 'endToken': 5}, {'sentenceIndex': 0, 'startToken': 8, 'endToken': 9}], 'candidateSpans': [{'sentenceIndex': 0, 'startToken': 2, 'endToken': 3}, {'sentenceIndex': 0, 'startToken': 4, 'endToken': 5}, {'sentenceIndex': 0, 'startToken': 8, 'endToken': 9}], 'clickSpans': [{'sentenceIndex': 0, 'startToken': 2, 'endToken': 3}, {'sentenceIndex': 0, 'startToken': 4, 'endToken': 5}, {'sentenceIndex': 0, 'startToken': 8, 'endToken': 9}]}\n",
      "\n",
      "{'sentences': [['Raj', ':', 'Give', 'me', 'the', 'number', '!', 'Give', 'me', 'the', 'number', '!']], 'querySpans': [{'sentenceIndex': 0, 'startToken': 3, 'endToken': 4}, {'sentenceIndex': 0, 'startToken': 4, 'endToken': 6}, {'sentenceIndex': 0, 'startToken': 8, 'endToken': 9}, {'sentenceIndex': 0, 'startToken': 9, 'endToken': 11}], 'candidateSpans': [{'sentenceIndex': 0, 'startToken': 3, 'endToken': 4}, {'sentenceIndex': 0, 'startToken': 4, 'endToken': 6}, {'sentenceIndex': 0, 'startToken': 8, 'endToken': 9}, {'sentenceIndex': 0, 'startToken': 9, 'endToken': 11}], 'clickSpans': [{'sentenceIndex': 0, 'startToken': 3, 'endToken': 4}, {'sentenceIndex': 0, 'startToken': 4, 'endToken': 6}, {'sentenceIndex': 0, 'startToken': 8, 'endToken': 9}, {'sentenceIndex': 0, 'startToken': 9, 'endToken': 11}]}\n",
      "\n",
      "{'sentences': [['Raj', ':', 'Come', 'on', ',', 'Daddy', '.', 'All', 'the', 'other', 'scientists', 'have', 'seat', 'warmers', '.', 'This', 'is', 'so', 'humiliating', '.', 'I', \"'ve\", 'got', 'to', 'get', 'tenure', '.', 'Okay', ',', 'let', \"'s\", 'meet', 'halfway', '.', 'How', 'about', 'I', 'cut', 'my', 'cleaning', 'lady', 'down', 'to', 'twice', 'a', 'week', '?', 'Looks', 'like', 'we', \"'re\", 'both', 'going', 'to', 'be', 'living', 'like', 'animals', '.']], 'querySpans': [{'sentenceIndex': 0, 'startToken': 7, 'endToken': 11}, {'sentenceIndex': 0, 'startToken': 12, 'endToken': 14}, {'sentenceIndex': 0, 'startToken': 15, 'endToken': 16}, {'sentenceIndex': 0, 'startToken': 20, 'endToken': 21}, {'sentenceIndex': 0, 'startToken': 25, 'endToken': 26}, {'sentenceIndex': 0, 'startToken': 30, 'endToken': 31}, {'sentenceIndex': 0, 'startToken': 36, 'endToken': 37}, {'sentenceIndex': 0, 'startToken': 38, 'endToken': 39}, {'sentenceIndex': 0, 'startToken': 38, 'endToken': 41}, {'sentenceIndex': 0, 'startToken': 43, 'endToken': 46}, {'sentenceIndex': 0, 'startToken': 49, 'endToken': 50}, {'sentenceIndex': 0, 'startToken': 51, 'endToken': 52}, {'sentenceIndex': 0, 'startToken': 57, 'endToken': 58}], 'candidateSpans': [{'sentenceIndex': 0, 'startToken': 7, 'endToken': 11}, {'sentenceIndex': 0, 'startToken': 12, 'endToken': 14}, {'sentenceIndex': 0, 'startToken': 15, 'endToken': 16}, {'sentenceIndex': 0, 'startToken': 20, 'endToken': 21}, {'sentenceIndex': 0, 'startToken': 25, 'endToken': 26}, {'sentenceIndex': 0, 'startToken': 30, 'endToken': 31}, {'sentenceIndex': 0, 'startToken': 36, 'endToken': 37}, {'sentenceIndex': 0, 'startToken': 38, 'endToken': 39}, {'sentenceIndex': 0, 'startToken': 38, 'endToken': 41}, {'sentenceIndex': 0, 'startToken': 43, 'endToken': 46}, {'sentenceIndex': 0, 'startToken': 49, 'endToken': 50}, {'sentenceIndex': 0, 'startToken': 51, 'endToken': 52}, {'sentenceIndex': 0, 'startToken': 57, 'endToken': 58}], 'clickSpans': [{'sentenceIndex': 0, 'startToken': 7, 'endToken': 11}, {'sentenceIndex': 0, 'startToken': 12, 'endToken': 14}, {'sentenceIndex': 0, 'startToken': 15, 'endToken': 16}, {'sentenceIndex': 0, 'startToken': 20, 'endToken': 21}, {'sentenceIndex': 0, 'startToken': 25, 'endToken': 26}, {'sentenceIndex': 0, 'startToken': 30, 'endToken': 31}, {'sentenceIndex': 0, 'startToken': 36, 'endToken': 37}, {'sentenceIndex': 0, 'startToken': 38, 'endToken': 39}, {'sentenceIndex': 0, 'startToken': 38, 'endToken': 41}, {'sentenceIndex': 0, 'startToken': 43, 'endToken': 46}, {'sentenceIndex': 0, 'startToken': 49, 'endToken': 50}, {'sentenceIndex': 0, 'startToken': 51, 'endToken': 52}, {'sentenceIndex': 0, 'startToken': 57, 'endToken': 58}]}\n",
      "\n",
      "{'sentences': [['Raj', ':', 'All', 'cozy', 'wozy', '.', 'Here', ',', 'let', \"'s\", 'see', 'what', 'the', 'doctor', 'says', 'to', 'keep', 'an', 'eye', 'out', 'for', '.', 'Hmm', '.', '\"', 'Rajesh', ',', 'I', 'was', 'dreading', 'Valentine', \"'s\", 'Day', '.', 'Thank', 'you', 'for', 'spending', 'it', 'with', 'me', '.', 'Yvette', '.', '\"', 'Cinnamon', ',', 'she', '-', 'she', 'gave', 'me', 'her', 'phone', 'number', '.', 'If', 'I', 'knew', 'it', 'was', 'that', 'easy', ',', 'I', 'would', 'have', 'considered', 'poisoning', 'you', 'months', 'ago', '.', 'Oh', ',', 'what', 'should', 'I', 'say', '?', 'I', \"'ll\", 'point', 'out', 'her', 'name', \"'s\", 'Yvette', ',', 'and', 'that', 'she', \"'s\", 'a', 'vet', '.', 'That', \"'s\", 'hysterical', '.', 'She', \"'ll\", 'love', 'it', '.']], 'querySpans': [{'sentenceIndex': 0, 'startToken': 2, 'endToken': 3}, {'sentenceIndex': 0, 'startToken': 2, 'endToken': 5}, {'sentenceIndex': 0, 'startToken': 9, 'endToken': 10}, {'sentenceIndex': 0, 'startToken': 11, 'endToken': 12}, {'sentenceIndex': 0, 'startToken': 12, 'endToken': 14}, {'sentenceIndex': 0, 'startToken': 17, 'endToken': 19}, {'sentenceIndex': 0, 'startToken': 27, 'endToken': 28}, {'sentenceIndex': 0, 'startToken': 30, 'endToken': 33}, {'sentenceIndex': 0, 'startToken': 35, 'endToken': 36}, {'sentenceIndex': 0, 'startToken': 38, 'endToken': 39}, {'sentenceIndex': 0, 'startToken': 40, 'endToken': 41}, {'sentenceIndex': 0, 'startToken': 42, 'endToken': 43}, {'sentenceIndex': 0, 'startToken': 47, 'endToken': 48}, {'sentenceIndex': 0, 'startToken': 49, 'endToken': 50}, {'sentenceIndex': 0, 'startToken': 51, 'endToken': 52}, {'sentenceIndex': 0, 'startToken': 52, 'endToken': 55}, {'sentenceIndex': 0, 'startToken': 52, 'endToken': 53}, {'sentenceIndex': 0, 'startToken': 57, 'endToken': 58}, {'sentenceIndex': 0, 'startToken': 59, 'endToken': 60}, {'sentenceIndex': 0, 'startToken': 64, 'endToken': 65}, {'sentenceIndex': 0, 'startToken': 68, 'endToken': 69}, {'sentenceIndex': 0, 'startToken': 69, 'endToken': 70}, {'sentenceIndex': 0, 'startToken': 75, 'endToken': 76}, {'sentenceIndex': 0, 'startToken': 77, 'endToken': 78}, {'sentenceIndex': 0, 'startToken': 80, 'endToken': 81}, {'sentenceIndex': 0, 'startToken': 84, 'endToken': 88}, {'sentenceIndex': 0, 'startToken': 84, 'endToken': 85}, {'sentenceIndex': 0, 'startToken': 91, 'endToken': 92}, {'sentenceIndex': 0, 'startToken': 93, 'endToken': 95}, {'sentenceIndex': 0, 'startToken': 96, 'endToken': 97}, {'sentenceIndex': 0, 'startToken': 100, 'endToken': 101}, {'sentenceIndex': 0, 'startToken': 103, 'endToken': 104}], 'candidateSpans': [{'sentenceIndex': 0, 'startToken': 2, 'endToken': 3}, {'sentenceIndex': 0, 'startToken': 2, 'endToken': 5}, {'sentenceIndex': 0, 'startToken': 9, 'endToken': 10}, {'sentenceIndex': 0, 'startToken': 11, 'endToken': 12}, {'sentenceIndex': 0, 'startToken': 12, 'endToken': 14}, {'sentenceIndex': 0, 'startToken': 17, 'endToken': 19}, {'sentenceIndex': 0, 'startToken': 27, 'endToken': 28}, {'sentenceIndex': 0, 'startToken': 30, 'endToken': 33}, {'sentenceIndex': 0, 'startToken': 35, 'endToken': 36}, {'sentenceIndex': 0, 'startToken': 38, 'endToken': 39}, {'sentenceIndex': 0, 'startToken': 40, 'endToken': 41}, {'sentenceIndex': 0, 'startToken': 42, 'endToken': 43}, {'sentenceIndex': 0, 'startToken': 47, 'endToken': 48}, {'sentenceIndex': 0, 'startToken': 49, 'endToken': 50}, {'sentenceIndex': 0, 'startToken': 51, 'endToken': 52}, {'sentenceIndex': 0, 'startToken': 52, 'endToken': 55}, {'sentenceIndex': 0, 'startToken': 52, 'endToken': 53}, {'sentenceIndex': 0, 'startToken': 57, 'endToken': 58}, {'sentenceIndex': 0, 'startToken': 59, 'endToken': 60}, {'sentenceIndex': 0, 'startToken': 64, 'endToken': 65}, {'sentenceIndex': 0, 'startToken': 68, 'endToken': 69}, {'sentenceIndex': 0, 'startToken': 69, 'endToken': 70}, {'sentenceIndex': 0, 'startToken': 75, 'endToken': 76}, {'sentenceIndex': 0, 'startToken': 77, 'endToken': 78}, {'sentenceIndex': 0, 'startToken': 80, 'endToken': 81}, {'sentenceIndex': 0, 'startToken': 84, 'endToken': 88}, {'sentenceIndex': 0, 'startToken': 84, 'endToken': 85}, {'sentenceIndex': 0, 'startToken': 91, 'endToken': 92}, {'sentenceIndex': 0, 'startToken': 93, 'endToken': 95}, {'sentenceIndex': 0, 'startToken': 96, 'endToken': 97}, {'sentenceIndex': 0, 'startToken': 100, 'endToken': 101}, {'sentenceIndex': 0, 'startToken': 103, 'endToken': 104}], 'clickSpans': [{'sentenceIndex': 0, 'startToken': 2, 'endToken': 3}, {'sentenceIndex': 0, 'startToken': 2, 'endToken': 5}, {'sentenceIndex': 0, 'startToken': 9, 'endToken': 10}, {'sentenceIndex': 0, 'startToken': 11, 'endToken': 12}, {'sentenceIndex': 0, 'startToken': 12, 'endToken': 14}, {'sentenceIndex': 0, 'startToken': 17, 'endToken': 19}, {'sentenceIndex': 0, 'startToken': 27, 'endToken': 28}, {'sentenceIndex': 0, 'startToken': 30, 'endToken': 33}, {'sentenceIndex': 0, 'startToken': 35, 'endToken': 36}, {'sentenceIndex': 0, 'startToken': 38, 'endToken': 39}, {'sentenceIndex': 0, 'startToken': 40, 'endToken': 41}, {'sentenceIndex': 0, 'startToken': 42, 'endToken': 43}, {'sentenceIndex': 0, 'startToken': 47, 'endToken': 48}, {'sentenceIndex': 0, 'startToken': 49, 'endToken': 50}, {'sentenceIndex': 0, 'startToken': 51, 'endToken': 52}, {'sentenceIndex': 0, 'startToken': 52, 'endToken': 55}, {'sentenceIndex': 0, 'startToken': 52, 'endToken': 53}, {'sentenceIndex': 0, 'startToken': 57, 'endToken': 58}, {'sentenceIndex': 0, 'startToken': 59, 'endToken': 60}, {'sentenceIndex': 0, 'startToken': 64, 'endToken': 65}, {'sentenceIndex': 0, 'startToken': 68, 'endToken': 69}, {'sentenceIndex': 0, 'startToken': 69, 'endToken': 70}, {'sentenceIndex': 0, 'startToken': 75, 'endToken': 76}, {'sentenceIndex': 0, 'startToken': 77, 'endToken': 78}, {'sentenceIndex': 0, 'startToken': 80, 'endToken': 81}, {'sentenceIndex': 0, 'startToken': 84, 'endToken': 88}, {'sentenceIndex': 0, 'startToken': 84, 'endToken': 85}, {'sentenceIndex': 0, 'startToken': 91, 'endToken': 92}, {'sentenceIndex': 0, 'startToken': 93, 'endToken': 95}, {'sentenceIndex': 0, 'startToken': 96, 'endToken': 97}, {'sentenceIndex': 0, 'startToken': 100, 'endToken': 101}, {'sentenceIndex': 0, 'startToken': 103, 'endToken': 104}]}\n",
      "\n",
      "{'sentences': [['Sheldon', ':', 'Oh', ',', 'no', '.', 'What', 'have', 'I', 'done', '?']], 'querySpans': [{'sentenceIndex': 0, 'startToken': 6, 'endToken': 7}, {'sentenceIndex': 0, 'startToken': 8, 'endToken': 9}], 'candidateSpans': [{'sentenceIndex': 0, 'startToken': 6, 'endToken': 7}, {'sentenceIndex': 0, 'startToken': 8, 'endToken': 9}], 'clickSpans': [{'sentenceIndex': 0, 'startToken': 6, 'endToken': 7}, {'sentenceIndex': 0, 'startToken': 8, 'endToken': 9}]}\n",
      "\n",
      "{'sentences': [['Wil', ':', 'Wow', ',', 'that', 'fell', 'apart', 'really', 'fast', '.']], 'querySpans': [{'sentenceIndex': 0, 'startToken': 4, 'endToken': 5}], 'candidateSpans': [{'sentenceIndex': 0, 'startToken': 4, 'endToken': 5}], 'clickSpans': [{'sentenceIndex': 0, 'startToken': 4, 'endToken': 5}]}\n",
      "\n",
      "{'sentences': [['Leonard', ',', 'Howard', 'and', 'Raj', ':', '♪', 'Jingle', 'bells', ',', 'jingle', 'bells', ',', 'jingle', 'all', 'the', 'way', '♪', '♪', 'Oh', ',', 'what', 'fun', 'it', 'is', 'to', 'ride', '♪', '♪', 'In', 'a', 'one', '-', 'horse', 'open', 'sleigh', ',', 'hey', '!', '♪']], 'querySpans': [{'sentenceIndex': 0, 'startToken': 6, 'endToken': 9}, {'sentenceIndex': 0, 'startToken': 10, 'endToken': 12}, {'sentenceIndex': 0, 'startToken': 13, 'endToken': 14}, {'sentenceIndex': 0, 'startToken': 21, 'endToken': 23}, {'sentenceIndex': 0, 'startToken': 23, 'endToken': 24}, {'sentenceIndex': 0, 'startToken': 30, 'endToken': 36}], 'candidateSpans': [{'sentenceIndex': 0, 'startToken': 6, 'endToken': 9}, {'sentenceIndex': 0, 'startToken': 10, 'endToken': 12}, {'sentenceIndex': 0, 'startToken': 13, 'endToken': 14}, {'sentenceIndex': 0, 'startToken': 21, 'endToken': 23}, {'sentenceIndex': 0, 'startToken': 23, 'endToken': 24}, {'sentenceIndex': 0, 'startToken': 30, 'endToken': 36}], 'clickSpans': [{'sentenceIndex': 0, 'startToken': 6, 'endToken': 9}, {'sentenceIndex': 0, 'startToken': 10, 'endToken': 12}, {'sentenceIndex': 0, 'startToken': 13, 'endToken': 14}, {'sentenceIndex': 0, 'startToken': 21, 'endToken': 23}, {'sentenceIndex': 0, 'startToken': 23, 'endToken': 24}, {'sentenceIndex': 0, 'startToken': 30, 'endToken': 36}]}\n",
      "\n",
      "{'sentences': [['Bernadette', ':', 'If', 'this', 'does', \"n't\", 'get', 'him', 'into', 'your', 'bedroom', ',', 'nothing', 'will', '.']], 'querySpans': [{'sentenceIndex': 0, 'startToken': 3, 'endToken': 4}, {'sentenceIndex': 0, 'startToken': 7, 'endToken': 8}, {'sentenceIndex': 0, 'startToken': 9, 'endToken': 11}, {'sentenceIndex': 0, 'startToken': 9, 'endToken': 10}, {'sentenceIndex': 0, 'startToken': 12, 'endToken': 13}], 'candidateSpans': [{'sentenceIndex': 0, 'startToken': 3, 'endToken': 4}, {'sentenceIndex': 0, 'startToken': 7, 'endToken': 8}, {'sentenceIndex': 0, 'startToken': 9, 'endToken': 11}, {'sentenceIndex': 0, 'startToken': 9, 'endToken': 10}, {'sentenceIndex': 0, 'startToken': 12, 'endToken': 13}], 'clickSpans': [{'sentenceIndex': 0, 'startToken': 3, 'endToken': 4}, {'sentenceIndex': 0, 'startToken': 7, 'endToken': 8}, {'sentenceIndex': 0, 'startToken': 9, 'endToken': 11}, {'sentenceIndex': 0, 'startToken': 9, 'endToken': 10}, {'sentenceIndex': 0, 'startToken': 12, 'endToken': 13}]}\n",
      "\n",
      "{'sentences': [['Penny', ':', 'Okay', ',', 'it', \"'s\", 'just', 'an', 'audition', '.', 'Why', 'am', 'I', 'nervous', '?', 'Maybe', 'it', \"'s\", 'a', 'good', 'thing', '.', 'Just', 'means', 'I', 'want', 'it', '.', 'And', 'I', 'can', 'have', 'it', '.', 'This', 'feels', 'right', '.', 'Why', 'did', 'I', 'ever', 'give', 'this', 'up', '?', 'I', \"'m\", 'starting', 'to', 'remember', '.']], 'querySpans': [{'sentenceIndex': 0, 'startToken': 4, 'endToken': 5}, {'sentenceIndex': 0, 'startToken': 6, 'endToken': 9}, {'sentenceIndex': 0, 'startToken': 12, 'endToken': 13}, {'sentenceIndex': 0, 'startToken': 16, 'endToken': 17}, {'sentenceIndex': 0, 'startToken': 18, 'endToken': 21}, {'sentenceIndex': 0, 'startToken': 24, 'endToken': 25}, {'sentenceIndex': 0, 'startToken': 26, 'endToken': 27}, {'sentenceIndex': 0, 'startToken': 29, 'endToken': 30}, {'sentenceIndex': 0, 'startToken': 32, 'endToken': 33}, {'sentenceIndex': 0, 'startToken': 34, 'endToken': 35}, {'sentenceIndex': 0, 'startToken': 40, 'endToken': 41}, {'sentenceIndex': 0, 'startToken': 43, 'endToken': 44}, {'sentenceIndex': 0, 'startToken': 46, 'endToken': 47}], 'candidateSpans': [{'sentenceIndex': 0, 'startToken': 4, 'endToken': 5}, {'sentenceIndex': 0, 'startToken': 6, 'endToken': 9}, {'sentenceIndex': 0, 'startToken': 12, 'endToken': 13}, {'sentenceIndex': 0, 'startToken': 16, 'endToken': 17}, {'sentenceIndex': 0, 'startToken': 18, 'endToken': 21}, {'sentenceIndex': 0, 'startToken': 24, 'endToken': 25}, {'sentenceIndex': 0, 'startToken': 26, 'endToken': 27}, {'sentenceIndex': 0, 'startToken': 29, 'endToken': 30}, {'sentenceIndex': 0, 'startToken': 32, 'endToken': 33}, {'sentenceIndex': 0, 'startToken': 34, 'endToken': 35}, {'sentenceIndex': 0, 'startToken': 40, 'endToken': 41}, {'sentenceIndex': 0, 'startToken': 43, 'endToken': 44}, {'sentenceIndex': 0, 'startToken': 46, 'endToken': 47}], 'clickSpans': [{'sentenceIndex': 0, 'startToken': 4, 'endToken': 5}, {'sentenceIndex': 0, 'startToken': 6, 'endToken': 9}, {'sentenceIndex': 0, 'startToken': 12, 'endToken': 13}, {'sentenceIndex': 0, 'startToken': 16, 'endToken': 17}, {'sentenceIndex': 0, 'startToken': 18, 'endToken': 21}, {'sentenceIndex': 0, 'startToken': 24, 'endToken': 25}, {'sentenceIndex': 0, 'startToken': 26, 'endToken': 27}, {'sentenceIndex': 0, 'startToken': 29, 'endToken': 30}, {'sentenceIndex': 0, 'startToken': 32, 'endToken': 33}, {'sentenceIndex': 0, 'startToken': 34, 'endToken': 35}, {'sentenceIndex': 0, 'startToken': 40, 'endToken': 41}, {'sentenceIndex': 0, 'startToken': 43, 'endToken': 44}, {'sentenceIndex': 0, 'startToken': 46, 'endToken': 47}]}\n",
      "\n",
      "{'sentences': [['Howard', 'and', 'Bernadette', ':', '♪', 'Happy', 'birthday', 'to', 'you', '.', '♪']], 'querySpans': [{'sentenceIndex': 0, 'startToken': 4, 'endToken': 7}, {'sentenceIndex': 0, 'startToken': 8, 'endToken': 9}], 'candidateSpans': [{'sentenceIndex': 0, 'startToken': 4, 'endToken': 7}, {'sentenceIndex': 0, 'startToken': 8, 'endToken': 9}], 'clickSpans': [{'sentenceIndex': 0, 'startToken': 4, 'endToken': 7}, {'sentenceIndex': 0, 'startToken': 8, 'endToken': 9}]}\n",
      "\n",
      "{'sentences': [['Raj', ':', 'Hey', ',', 'look', '!', 'The', 'lug', 'nut', \"'s\", 'off', '.']], 'querySpans': [{'sentenceIndex': 0, 'startToken': 6, 'endToken': 9}], 'candidateSpans': [{'sentenceIndex': 0, 'startToken': 6, 'endToken': 9}], 'clickSpans': [{'sentenceIndex': 0, 'startToken': 6, 'endToken': 9}]}\n",
      "\n",
      "{'sentences': [['Sheldon', ':', 'My', 'normal', 'urination', 'time', 'is', '7:10', 'a.m.', ',', 'but', 'here', 'I', 'am', ',', 'in', 'the', 'middle', 'of', 'the', 'night', ',', 'struggling', 'to', 'keep', 'my', 'mind', 'sharp', 'and', 'my', 'pajamas', 'dry', '.', 'It', \"'s\", 'only', 'a', 'matter', 'of', 'time', 'before', 'my', 'tenuous', 'grasp', 'on', 'reality', 'fades', '.', 'I', 'suppose', 'I', 'should', 'pee', 'while', 'I', 'still', 'know', 'what', 'a', 'toilet', 'is', '.']], 'querySpans': [{'sentenceIndex': 0, 'startToken': 2, 'endToken': 6}, {'sentenceIndex': 0, 'startToken': 2, 'endToken': 3}, {'sentenceIndex': 0, 'startToken': 7, 'endToken': 9}, {'sentenceIndex': 0, 'startToken': 12, 'endToken': 13}, {'sentenceIndex': 0, 'startToken': 16, 'endToken': 18}, {'sentenceIndex': 0, 'startToken': 19, 'endToken': 21}, {'sentenceIndex': 0, 'startToken': 25, 'endToken': 26}, {'sentenceIndex': 0, 'startToken': 25, 'endToken': 27}, {'sentenceIndex': 0, 'startToken': 29, 'endToken': 30}, {'sentenceIndex': 0, 'startToken': 29, 'endToken': 31}, {'sentenceIndex': 0, 'startToken': 33, 'endToken': 34}, {'sentenceIndex': 0, 'startToken': 35, 'endToken': 38}, {'sentenceIndex': 0, 'startToken': 39, 'endToken': 40}, {'sentenceIndex': 0, 'startToken': 41, 'endToken': 42}, {'sentenceIndex': 0, 'startToken': 41, 'endToken': 44}, {'sentenceIndex': 0, 'startToken': 45, 'endToken': 46}, {'sentenceIndex': 0, 'startToken': 48, 'endToken': 49}, {'sentenceIndex': 0, 'startToken': 50, 'endToken': 51}, {'sentenceIndex': 0, 'startToken': 54, 'endToken': 55}, {'sentenceIndex': 0, 'startToken': 57, 'endToken': 58}, {'sentenceIndex': 0, 'startToken': 58, 'endToken': 60}], 'candidateSpans': [{'sentenceIndex': 0, 'startToken': 2, 'endToken': 6}, {'sentenceIndex': 0, 'startToken': 2, 'endToken': 3}, {'sentenceIndex': 0, 'startToken': 7, 'endToken': 9}, {'sentenceIndex': 0, 'startToken': 12, 'endToken': 13}, {'sentenceIndex': 0, 'startToken': 16, 'endToken': 18}, {'sentenceIndex': 0, 'startToken': 19, 'endToken': 21}, {'sentenceIndex': 0, 'startToken': 25, 'endToken': 26}, {'sentenceIndex': 0, 'startToken': 25, 'endToken': 27}, {'sentenceIndex': 0, 'startToken': 29, 'endToken': 30}, {'sentenceIndex': 0, 'startToken': 29, 'endToken': 31}, {'sentenceIndex': 0, 'startToken': 33, 'endToken': 34}, {'sentenceIndex': 0, 'startToken': 35, 'endToken': 38}, {'sentenceIndex': 0, 'startToken': 39, 'endToken': 40}, {'sentenceIndex': 0, 'startToken': 41, 'endToken': 42}, {'sentenceIndex': 0, 'startToken': 41, 'endToken': 44}, {'sentenceIndex': 0, 'startToken': 45, 'endToken': 46}, {'sentenceIndex': 0, 'startToken': 48, 'endToken': 49}, {'sentenceIndex': 0, 'startToken': 50, 'endToken': 51}, {'sentenceIndex': 0, 'startToken': 54, 'endToken': 55}, {'sentenceIndex': 0, 'startToken': 57, 'endToken': 58}, {'sentenceIndex': 0, 'startToken': 58, 'endToken': 60}], 'clickSpans': [{'sentenceIndex': 0, 'startToken': 2, 'endToken': 6}, {'sentenceIndex': 0, 'startToken': 2, 'endToken': 3}, {'sentenceIndex': 0, 'startToken': 7, 'endToken': 9}, {'sentenceIndex': 0, 'startToken': 12, 'endToken': 13}, {'sentenceIndex': 0, 'startToken': 16, 'endToken': 18}, {'sentenceIndex': 0, 'startToken': 19, 'endToken': 21}, {'sentenceIndex': 0, 'startToken': 25, 'endToken': 26}, {'sentenceIndex': 0, 'startToken': 25, 'endToken': 27}, {'sentenceIndex': 0, 'startToken': 29, 'endToken': 30}, {'sentenceIndex': 0, 'startToken': 29, 'endToken': 31}, {'sentenceIndex': 0, 'startToken': 33, 'endToken': 34}, {'sentenceIndex': 0, 'startToken': 35, 'endToken': 38}, {'sentenceIndex': 0, 'startToken': 39, 'endToken': 40}, {'sentenceIndex': 0, 'startToken': 41, 'endToken': 42}, {'sentenceIndex': 0, 'startToken': 41, 'endToken': 44}, {'sentenceIndex': 0, 'startToken': 45, 'endToken': 46}, {'sentenceIndex': 0, 'startToken': 48, 'endToken': 49}, {'sentenceIndex': 0, 'startToken': 50, 'endToken': 51}, {'sentenceIndex': 0, 'startToken': 54, 'endToken': 55}, {'sentenceIndex': 0, 'startToken': 57, 'endToken': 58}, {'sentenceIndex': 0, 'startToken': 58, 'endToken': 60}]}\n",
      "\n",
      "{'sentences': [['Howard', ':', 'I', 'ca', \"n't\", 'believe', 'I', 'miss', 'Stuart', '.']], 'querySpans': [{'sentenceIndex': 0, 'startToken': 2, 'endToken': 3}, {'sentenceIndex': 0, 'startToken': 6, 'endToken': 7}, {'sentenceIndex': 0, 'startToken': 8, 'endToken': 9}], 'candidateSpans': [{'sentenceIndex': 0, 'startToken': 2, 'endToken': 3}, {'sentenceIndex': 0, 'startToken': 6, 'endToken': 7}, {'sentenceIndex': 0, 'startToken': 8, 'endToken': 9}], 'clickSpans': [{'sentenceIndex': 0, 'startToken': 2, 'endToken': 3}, {'sentenceIndex': 0, 'startToken': 6, 'endToken': 7}, {'sentenceIndex': 0, 'startToken': 8, 'endToken': 9}]}\n",
      "\n",
      "{'sentences': [['Penny', ':', 'I', 'guess', 'I', 'just', 'miss', 'when', 'life', 'was', 'simpler', '.']], 'querySpans': [{'sentenceIndex': 0, 'startToken': 2, 'endToken': 3}, {'sentenceIndex': 0, 'startToken': 4, 'endToken': 5}, {'sentenceIndex': 0, 'startToken': 8, 'endToken': 9}], 'candidateSpans': [{'sentenceIndex': 0, 'startToken': 2, 'endToken': 3}, {'sentenceIndex': 0, 'startToken': 4, 'endToken': 5}, {'sentenceIndex': 0, 'startToken': 8, 'endToken': 9}], 'clickSpans': [{'sentenceIndex': 0, 'startToken': 2, 'endToken': 3}, {'sentenceIndex': 0, 'startToken': 4, 'endToken': 5}, {'sentenceIndex': 0, 'startToken': 8, 'endToken': 9}]}\n",
      "\n",
      "{'sentences': [['Howard', ':', '♪', 'Baby', ',', 'I', 'need', 'your', \"lovin'\", ',', 'got', '♪', '♪', 'To', 'have', 'all', 'your', \"lovin'\", '♪', '♪', 'Baby', ',', 'I', 'need', 'your', \"lovin'\", '♪', '♪', 'Got', 'to', 'have', 'all', 'your', \"lovin'\", '♪']], 'querySpans': [{'sentenceIndex': 0, 'startToken': 2, 'endToken': 3}, {'sentenceIndex': 0, 'startToken': 5, 'endToken': 6}, {'sentenceIndex': 0, 'startToken': 7, 'endToken': 9}, {'sentenceIndex': 0, 'startToken': 7, 'endToken': 8}, {'sentenceIndex': 0, 'startToken': 11, 'endToken': 12}, {'sentenceIndex': 0, 'startToken': 15, 'endToken': 18}, {'sentenceIndex': 0, 'startToken': 15, 'endToken': 16}, {'sentenceIndex': 0, 'startToken': 16, 'endToken': 17}, {'sentenceIndex': 0, 'startToken': 22, 'endToken': 23}, {'sentenceIndex': 0, 'startToken': 24, 'endToken': 26}, {'sentenceIndex': 0, 'startToken': 24, 'endToken': 25}, {'sentenceIndex': 0, 'startToken': 31, 'endToken': 35}, {'sentenceIndex': 0, 'startToken': 31, 'endToken': 32}, {'sentenceIndex': 0, 'startToken': 32, 'endToken': 33}], 'candidateSpans': [{'sentenceIndex': 0, 'startToken': 2, 'endToken': 3}, {'sentenceIndex': 0, 'startToken': 5, 'endToken': 6}, {'sentenceIndex': 0, 'startToken': 7, 'endToken': 9}, {'sentenceIndex': 0, 'startToken': 7, 'endToken': 8}, {'sentenceIndex': 0, 'startToken': 11, 'endToken': 12}, {'sentenceIndex': 0, 'startToken': 15, 'endToken': 18}, {'sentenceIndex': 0, 'startToken': 15, 'endToken': 16}, {'sentenceIndex': 0, 'startToken': 16, 'endToken': 17}, {'sentenceIndex': 0, 'startToken': 22, 'endToken': 23}, {'sentenceIndex': 0, 'startToken': 24, 'endToken': 26}, {'sentenceIndex': 0, 'startToken': 24, 'endToken': 25}, {'sentenceIndex': 0, 'startToken': 31, 'endToken': 35}, {'sentenceIndex': 0, 'startToken': 31, 'endToken': 32}, {'sentenceIndex': 0, 'startToken': 32, 'endToken': 33}], 'clickSpans': [{'sentenceIndex': 0, 'startToken': 2, 'endToken': 3}, {'sentenceIndex': 0, 'startToken': 5, 'endToken': 6}, {'sentenceIndex': 0, 'startToken': 7, 'endToken': 9}, {'sentenceIndex': 0, 'startToken': 7, 'endToken': 8}, {'sentenceIndex': 0, 'startToken': 11, 'endToken': 12}, {'sentenceIndex': 0, 'startToken': 15, 'endToken': 18}, {'sentenceIndex': 0, 'startToken': 15, 'endToken': 16}, {'sentenceIndex': 0, 'startToken': 16, 'endToken': 17}, {'sentenceIndex': 0, 'startToken': 22, 'endToken': 23}, {'sentenceIndex': 0, 'startToken': 24, 'endToken': 26}, {'sentenceIndex': 0, 'startToken': 24, 'endToken': 25}, {'sentenceIndex': 0, 'startToken': 31, 'endToken': 35}, {'sentenceIndex': 0, 'startToken': 31, 'endToken': 32}, {'sentenceIndex': 0, 'startToken': 32, 'endToken': 33}]}\n",
      "\n",
      "{'sentences': [['Sheldon', ':', '♪', 'Land', 'where', 'my', 'fathers', 'died', '♪', '♪', 'Land', 'of', 'the', 'pilgrims', \"'\", 'pride', '♪', '♪', 'From', \"ev'ry\", 'mountainside', '♪']], 'querySpans': [{'sentenceIndex': 0, 'startToken': 2, 'endToken': 4}, {'sentenceIndex': 0, 'startToken': 5, 'endToken': 7}, {'sentenceIndex': 0, 'startToken': 5, 'endToken': 6}, {'sentenceIndex': 0, 'startToken': 9, 'endToken': 11}, {'sentenceIndex': 0, 'startToken': 12, 'endToken': 16}, {'sentenceIndex': 0, 'startToken': 16, 'endToken': 18}, {'sentenceIndex': 0, 'startToken': 19, 'endToken': 21}, {'sentenceIndex': 0, 'startToken': 21, 'endToken': 22}], 'candidateSpans': [{'sentenceIndex': 0, 'startToken': 2, 'endToken': 4}, {'sentenceIndex': 0, 'startToken': 5, 'endToken': 7}, {'sentenceIndex': 0, 'startToken': 5, 'endToken': 6}, {'sentenceIndex': 0, 'startToken': 9, 'endToken': 11}, {'sentenceIndex': 0, 'startToken': 12, 'endToken': 16}, {'sentenceIndex': 0, 'startToken': 16, 'endToken': 18}, {'sentenceIndex': 0, 'startToken': 19, 'endToken': 21}, {'sentenceIndex': 0, 'startToken': 21, 'endToken': 22}], 'clickSpans': [{'sentenceIndex': 0, 'startToken': 2, 'endToken': 4}, {'sentenceIndex': 0, 'startToken': 5, 'endToken': 7}, {'sentenceIndex': 0, 'startToken': 5, 'endToken': 6}, {'sentenceIndex': 0, 'startToken': 9, 'endToken': 11}, {'sentenceIndex': 0, 'startToken': 12, 'endToken': 16}, {'sentenceIndex': 0, 'startToken': 16, 'endToken': 18}, {'sentenceIndex': 0, 'startToken': 19, 'endToken': 21}, {'sentenceIndex': 0, 'startToken': 21, 'endToken': 22}]}\n",
      "\n"
     ]
    }
   ],
   "source": [
    "for scene in tbbt:\n",
    "    if len(scene['sentences'])==1:\n",
    "        print(scene)\n",
    "        print()\n",
    "    # print(len(scene['sentences']))"
   ],
   "metadata": {
    "collapsed": false,
    "pycharm": {
     "name": "#%%\n"
    }
   }
  },
  {
   "cell_type": "code",
   "execution_count": null,
   "outputs": [],
   "source": [],
   "metadata": {
    "collapsed": false,
    "pycharm": {
     "name": "#%%\n"
    }
   }
  },
  {
   "cell_type": "code",
   "execution_count": null,
   "outputs": [],
   "source": [],
   "metadata": {
    "collapsed": false,
    "pycharm": {
     "name": "#%%\n"
    }
   }
  },
  {
   "cell_type": "code",
   "execution_count": 65,
   "outputs": [],
   "source": [
    "with open('parallel_data/train_tbbt.pkl', 'rb') as f:\n",
    "    data = pkl.load(f)"
   ],
   "metadata": {
    "collapsed": false,
    "pycharm": {
     "name": "#%%\n"
    }
   }
  },
  {
   "cell_type": "code",
   "execution_count": 66,
   "outputs": [
    {
     "name": "stdout",
     "output_type": "stream",
     "text": [
      "[{'speaker': 'Sheldon', 'utterance': 'So if a photon is directed through a plane with two slits in it and either slit is observed it will not go through both slits. If it’s unobserved it will, however, if it’s observed after it’s left the plane but before it hits its target, it will not have gone through both slits.', 'utterance_with_info': 'So if a photon is directed through a plane with two slits in it and either slit is observed it will not go through both slits. If it’s unobserved it will, however, if it’s observed after it’s left the plane but before it hits its target, it will not have gone through both slits.', 'en_subtitles': \"If a photon is directed through a plane with two slits in it and either is observed it will not go through both. If unobserved, it will. If it's observed after it left the plane, before it hits its target... it will not have gone through both slits.\", 'zh_subtitles': '将光子正对平面上的双缝 观察任意一个隙缝 它不会穿过那两个隙缝 如果没被观察 那就会 总之 如果观察它在离开平面到击中目标之前 它就不会穿过那两个隙缝', 'fa_subtitles': 'اگه يه فوتون به طرف يک صفحه اي که داراي دو شياره هدايت بشه و هردو شيار تحت نظر باشن اين فوتون همزمان از هردو شيار رد نميشه اگه تحت نظر باشه ، رد خواهد شد اما اگر اين فوتون پس از عبور از صفحه و قبل از رسيدن به هدفش تحت نظر باشه هرگز همزمان از هر دوشيار عبور نميکنه', 'sm_noun_chunk': [('a photon', 1, 3), ('a plane', 6, 8), ('two slits', 9, 11), ('it', 12, 13), ('it', 17, 18), ('both', 22, 23), ('it', 27, 28), ('it', 31, 32), ('it', 35, 36), ('the plane', 37, 39), ('it', 41, 42), ('its target', 43, 45), ('it', 46, 47), ('both slits', 52, 54)], 'sm_pron': [('If', 0, 1, 'SCONJ', 'IN'), ('a', 1, 2, 'DET', 'DT'), ('photon', 2, 3, 'NOUN', 'NN'), ('is', 3, 4, 'AUX', 'VBZ'), ('directed', 4, 5, 'VERB', 'VBN'), ('through', 5, 6, 'ADP', 'IN'), ('a', 6, 7, 'DET', 'DT'), ('plane', 7, 8, 'NOUN', 'NN'), ('with', 8, 9, 'ADP', 'IN'), ('two', 9, 10, 'NUM', 'CD'), ('slits', 10, 11, 'NOUN', 'NNS'), ('in', 11, 12, 'ADP', 'IN'), ('it', 12, 13, 'PRON', 'PRP'), ('and', 13, 14, 'CCONJ', 'CC'), ('either', 14, 15, 'CCONJ', 'CC'), ('is', 15, 16, 'AUX', 'VBZ'), ('observed', 16, 17, 'VERB', 'VBN'), ('it', 17, 18, 'PRON', 'PRP'), ('will', 18, 19, 'AUX', 'MD'), ('not', 19, 20, 'PART', 'RB'), ('go', 20, 21, 'VERB', 'VB'), ('through', 21, 22, 'ADP', 'IN'), ('both', 22, 23, 'PRON', 'DT'), ('.', 23, 24, 'PUNCT', '.'), ('If', 24, 25, 'SCONJ', 'IN'), ('unobserved', 25, 26, 'VERB', 'VBN'), (',', 26, 27, 'PUNCT', ','), ('it', 27, 28, 'PRON', 'PRP'), ('will', 28, 29, 'AUX', 'MD'), ('.', 29, 30, 'PUNCT', '.'), ('If', 30, 31, 'SCONJ', 'IN'), ('it', 31, 32, 'PRON', 'PRP'), (\"'s\", 32, 33, 'AUX', 'VBZ'), ('observed', 33, 34, 'VERB', 'VBN'), ('after', 34, 35, 'SCONJ', 'IN'), ('it', 35, 36, 'PRON', 'PRP'), ('left', 36, 37, 'VERB', 'VBD'), ('the', 37, 38, 'DET', 'DT'), ('plane', 38, 39, 'NOUN', 'NN'), (',', 39, 40, 'PUNCT', ','), ('before', 40, 41, 'SCONJ', 'IN'), ('it', 41, 42, 'PRON', 'PRP'), ('hits', 42, 43, 'VERB', 'VBZ'), ('its', 43, 44, 'PRON', 'PRP$'), ('target', 44, 45, 'NOUN', 'NN'), ('...', 45, 46, 'PUNCT', ':'), ('it', 46, 47, 'PRON', 'PRP'), ('will', 47, 48, 'AUX', 'MD'), ('not', 48, 49, 'PART', 'RB'), ('have', 49, 50, 'AUX', 'VB'), ('gone', 50, 51, 'VERB', 'VBN'), ('through', 51, 52, 'ADP', 'IN'), ('both', 52, 53, 'DET', 'DT'), ('slits', 53, 54, 'NOUN', 'NNS'), ('.', 54, 55, 'PUNCT', '.')], 'berkeley_noun_chunk': [('a photon', 1, 3), ('a plane', 6, 8), ('two slits', 9, 11), ('it', 12, 13), ('it', 17, 18), ('both', 22, 23), ('it', 27, 28), ('it', 31, 32), ('it', 35, 36), ('the plane', 37, 39), ('it', 41, 42), ('its target', 43, 45), ('it', 46, 47), ('both slits', 52, 54)], 'berkeley_pron': [('If', 0, 1, 'SCONJ', 'IN'), ('a', 1, 2, 'DET', 'DT'), ('photon', 2, 3, 'NOUN', 'NN'), ('is', 3, 4, 'AUX', 'VBZ'), ('directed', 4, 5, 'VERB', 'VBN'), ('through', 5, 6, 'ADP', 'IN'), ('a', 6, 7, 'DET', 'DT'), ('plane', 7, 8, 'NOUN', 'NN'), ('with', 8, 9, 'ADP', 'IN'), ('two', 9, 10, 'NUM', 'CD'), ('slits', 10, 11, 'NOUN', 'NNS'), ('in', 11, 12, 'ADP', 'IN'), ('it', 12, 13, 'PRON', 'PRP'), ('and', 13, 14, 'CCONJ', 'CC'), ('either', 14, 15, 'CCONJ', 'DT'), ('is', 15, 16, 'AUX', 'VBZ'), ('observed', 16, 17, 'VERB', 'VBN'), ('it', 17, 18, 'PRON', 'PRP'), ('will', 18, 19, 'AUX', 'MD'), ('not', 19, 20, 'PART', 'RB'), ('go', 20, 21, 'VERB', 'VB'), ('through', 21, 22, 'ADP', 'IN'), ('both', 22, 23, 'PRON', 'DT'), ('.', 23, 24, 'PUNCT', '.'), ('If', 24, 25, 'SCONJ', 'IN'), ('unobserved', 25, 26, 'VERB', 'JJ'), (',', 26, 27, 'PUNCT', ','), ('it', 27, 28, 'PRON', 'PRP'), ('will', 28, 29, 'AUX', 'MD'), ('.', 29, 30, 'PUNCT', '.'), ('If', 30, 31, 'SCONJ', 'IN'), ('it', 31, 32, 'PRON', 'PRP'), (\"'s\", 32, 33, 'AUX', 'VBZ'), ('observed', 33, 34, 'VERB', 'VBN'), ('after', 34, 35, 'SCONJ', 'IN'), ('it', 35, 36, 'PRON', 'PRP'), ('left', 36, 37, 'VERB', 'VBD'), ('the', 37, 38, 'DET', 'DT'), ('plane', 38, 39, 'NOUN', 'NN'), (',', 39, 40, 'PUNCT', ','), ('before', 40, 41, 'SCONJ', 'IN'), ('it', 41, 42, 'PRON', 'PRP'), ('hits', 42, 43, 'VERB', 'VBZ'), ('its', 43, 44, 'PRON', 'PRP$'), ('target', 44, 45, 'NOUN', 'NN'), ('...', 45, 46, 'PUNCT', ':'), ('it', 46, 47, 'PRON', 'PRP'), ('will', 47, 48, 'AUX', 'MD'), ('not', 48, 49, 'PART', 'RB'), ('have', 49, 50, 'AUX', 'VB'), ('gone', 50, 51, 'VERB', 'VBN'), ('through', 51, 52, 'ADP', 'IN'), ('both', 52, 53, 'DET', 'DT'), ('slits', 53, 54, 'NOUN', 'NNS'), ('.', 54, 55, 'PUNCT', '.')], 'trf_noun_chunk': [('a photon', 1, 3), ('a plane', 6, 8), ('two slits', 9, 11), ('it', 12, 13), ('either', 14, 15), ('it', 17, 18), ('both', 22, 23), ('it', 27, 28), ('it', 31, 32), ('it', 35, 36), ('the plane', 37, 39), ('it', 41, 42), ('its target', 43, 45), ('it', 46, 47), ('both slits', 52, 54)], 'trf_pron': [('If', 0, 1, 'SCONJ', 'IN'), ('a', 1, 2, 'DET', 'DT'), ('photon', 2, 3, 'NOUN', 'NN'), ('is', 3, 4, 'AUX', 'VBZ'), ('directed', 4, 5, 'VERB', 'VBN'), ('through', 5, 6, 'ADP', 'IN'), ('a', 6, 7, 'DET', 'DT'), ('plane', 7, 8, 'NOUN', 'NN'), ('with', 8, 9, 'ADP', 'IN'), ('two', 9, 10, 'NUM', 'CD'), ('slits', 10, 11, 'NOUN', 'NNS'), ('in', 11, 12, 'ADP', 'IN'), ('it', 12, 13, 'PRON', 'PRP'), ('and', 13, 14, 'CCONJ', 'CC'), ('either', 14, 15, 'PRON', 'DT'), ('is', 15, 16, 'AUX', 'VBZ'), ('observed', 16, 17, 'VERB', 'VBN'), ('it', 17, 18, 'PRON', 'PRP'), ('will', 18, 19, 'AUX', 'MD'), ('not', 19, 20, 'PART', 'RB'), ('go', 20, 21, 'VERB', 'VB'), ('through', 21, 22, 'ADP', 'IN'), ('both', 22, 23, 'PRON', 'DT'), ('.', 23, 24, 'PUNCT', '.'), ('If', 24, 25, 'SCONJ', 'IN'), ('unobserved', 25, 26, 'ADJ', 'JJ'), (',', 26, 27, 'PUNCT', ','), ('it', 27, 28, 'PRON', 'PRP'), ('will', 28, 29, 'AUX', 'MD'), ('.', 29, 30, 'PUNCT', '.'), ('If', 30, 31, 'SCONJ', 'IN'), ('it', 31, 32, 'PRON', 'PRP'), (\"'s\", 32, 33, 'AUX', 'VBZ'), ('observed', 33, 34, 'VERB', 'VBN'), ('after', 34, 35, 'SCONJ', 'IN'), ('it', 35, 36, 'PRON', 'PRP'), ('left', 36, 37, 'VERB', 'VBD'), ('the', 37, 38, 'DET', 'DT'), ('plane', 38, 39, 'NOUN', 'NN'), (',', 39, 40, 'PUNCT', ','), ('before', 40, 41, 'SCONJ', 'IN'), ('it', 41, 42, 'PRON', 'PRP'), ('hits', 42, 43, 'VERB', 'VBZ'), ('its', 43, 44, 'PRON', 'PRP$'), ('target', 44, 45, 'NOUN', 'NN'), ('...', 45, 46, 'PUNCT', ':'), ('it', 46, 47, 'PRON', 'PRP'), ('will', 47, 48, 'AUX', 'MD'), ('not', 48, 49, 'PART', 'RB'), ('have', 49, 50, 'AUX', 'VB'), ('gone', 50, 51, 'VERB', 'VBN'), ('through', 51, 52, 'ADP', 'IN'), ('both', 52, 53, 'DET', 'DT'), ('slits', 53, 54, 'NOUN', 'NNS'), ('.', 54, 55, 'PUNCT', '.')]}, {'speaker': 'Leonard', 'utterance': 'Agreed, what’s your point?', 'utterance_with_info': 'Agreed, what’s your point?', 'en_subtitles': \"Agreed. What's your point?\", 'zh_subtitles': '没错 但你为什么要说这个?', 'fa_subtitles': 'خب قبول حالا منظورت چيه؟', 'sm_noun_chunk': [('What', 2, 3), ('your point', 4, 6)], 'sm_pron': [('Agreed', 0, 1, 'VERB', 'VBN'), ('.', 1, 2, 'PUNCT', '.'), ('What', 2, 3, 'PRON', 'WP'), (\"'s\", 3, 4, 'AUX', 'VBZ'), ('your', 4, 5, 'PRON', 'PRP$'), ('point', 5, 6, 'NOUN', 'NN'), ('?', 6, 7, 'PUNCT', '.')], 'berkeley_noun_chunk': [('What', 2, 3), ('your point', 4, 6)], 'berkeley_pron': [('Agreed', 0, 1, 'VERB', 'VBN'), ('.', 1, 2, 'PUNCT', '.'), ('What', 2, 3, 'PRON', 'WP'), (\"'s\", 3, 4, 'AUX', 'VBZ'), ('your', 4, 5, 'PRON', 'PRP$'), ('point', 5, 6, 'NOUN', 'NN'), ('?', 6, 7, 'PUNCT', '.')], 'trf_noun_chunk': [('What', 2, 3), ('your point', 4, 6)], 'trf_pron': [('Agreed', 0, 1, 'INTJ', 'UH'), ('.', 1, 2, 'PUNCT', '.'), ('What', 2, 3, 'PRON', 'WP'), (\"'s\", 3, 4, 'AUX', 'VBZ'), ('your', 4, 5, 'PRON', 'PRP$'), ('point', 5, 6, 'NOUN', 'NN'), ('?', 6, 7, 'PUNCT', '.')]}, {'speaker': 'Sheldon', 'utterance': 'There’s no point, I just think it’s a good idea for a tee-shirt.', 'utterance_with_info': 'There’s no point, I just think it’s a good idea for a tee-shirt.', 'en_subtitles': \"There's no point, I just think it's a good idea for a T-shirt.\", 'zh_subtitles': '没什么 我只是觉得这个主意 可以用于设计T恤衫', 'fa_subtitles': 'منظوري ندارم فقط فکر ميکردم اين ميتونه يه ايده خوبي براي طرح تيشرت باشه', 'sm_noun_chunk': [('no point', 2, 4), ('I', 5, 6), ('it', 8, 9), ('a good idea', 10, 13), ('a T-shirt', 14, 18)], 'sm_pron': [('There', 0, 1, 'PRON', 'EX'), (\"'s\", 1, 2, 'VERB', 'VBZ'), ('no', 2, 3, 'DET', 'DT'), ('point', 3, 4, 'NOUN', 'NN'), (',', 4, 5, 'PUNCT', ','), ('I', 5, 6, 'PRON', 'PRP'), ('just', 6, 7, 'ADV', 'RB'), ('think', 7, 8, 'VERB', 'VBP'), ('it', 8, 9, 'PRON', 'PRP'), (\"'s\", 9, 10, 'AUX', 'VBZ'), ('a', 10, 11, 'DET', 'DT'), ('good', 11, 12, 'ADJ', 'JJ'), ('idea', 12, 13, 'NOUN', 'NN'), ('for', 13, 14, 'ADP', 'IN'), ('a', 14, 15, 'DET', 'DT'), ('T', 15, 16, 'PROPN', 'NNP'), ('-', 16, 17, 'PUNCT', 'HYPH'), ('shirt', 17, 18, 'NOUN', 'NN'), ('.', 18, 19, 'PUNCT', '.')], 'berkeley_noun_chunk': [('no point', 2, 4), ('I', 5, 6), ('it', 8, 9), ('a good idea', 10, 13), ('a T-shirt', 14, 18)], 'berkeley_pron': [('There', 0, 1, 'PRON', 'EX'), (\"'s\", 1, 2, 'VERB', 'VBZ'), ('no', 2, 3, 'DET', 'DT'), ('point', 3, 4, 'NOUN', 'NN'), (',', 4, 5, 'PUNCT', ','), ('I', 5, 6, 'PRON', 'PRP'), ('just', 6, 7, 'ADV', 'RB'), ('think', 7, 8, 'VERB', 'VBP'), ('it', 8, 9, 'PRON', 'PRP'), (\"'s\", 9, 10, 'AUX', 'VBZ'), ('a', 10, 11, 'DET', 'DT'), ('good', 11, 12, 'ADJ', 'JJ'), ('idea', 12, 13, 'NOUN', 'NN'), ('for', 13, 14, 'ADP', 'IN'), ('a', 14, 15, 'DET', 'DT'), ('T', 15, 16, 'PROPN', 'NNP'), ('-', 16, 17, 'PUNCT', 'HYPH'), ('shirt', 17, 18, 'NOUN', 'NN'), ('.', 18, 19, 'PUNCT', '.')], 'trf_noun_chunk': [('no point', 2, 4), ('I', 5, 6), ('it', 8, 9), ('a good idea', 10, 13), ('a T-shirt', 14, 18)], 'trf_pron': [('There', 0, 1, 'PRON', 'EX'), (\"'s\", 1, 2, 'VERB', 'VBZ'), ('no', 2, 3, 'DET', 'DT'), ('point', 3, 4, 'NOUN', 'NN'), (',', 4, 5, 'PUNCT', ','), ('I', 5, 6, 'PRON', 'PRP'), ('just', 6, 7, 'ADV', 'RB'), ('think', 7, 8, 'VERB', 'VBP'), ('it', 8, 9, 'PRON', 'PRP'), (\"'s\", 9, 10, 'AUX', 'VBZ'), ('a', 10, 11, 'DET', 'DT'), ('good', 11, 12, 'ADJ', 'JJ'), ('idea', 12, 13, 'NOUN', 'NN'), ('for', 13, 14, 'ADP', 'IN'), ('a', 14, 15, 'DET', 'DT'), ('T', 15, 16, 'NOUN', 'NN'), ('-', 16, 17, 'PUNCT', 'HYPH'), ('shirt', 17, 18, 'NOUN', 'NN'), ('.', 18, 19, 'PUNCT', '.')]}, {'speaker': 'Leonard', 'utterance': 'Excuse me?', 'utterance_with_info': 'Excuse me?', 'en_subtitles': 'Excuse me.', 'zh_subtitles': '', 'fa_subtitles': 'ببخشيد -يه لحظه وايسا', 'sm_noun_chunk': [('me', 1, 2)], 'sm_pron': [('Excuse', 0, 1, 'VERB', 'VB'), ('me', 1, 2, 'PRON', 'PRP'), ('.', 2, 3, 'PUNCT', '.')], 'berkeley_noun_chunk': [('me', 1, 2)], 'berkeley_pron': [('Excuse', 0, 1, 'VERB', 'VB'), ('me', 1, 2, 'PRON', 'PRP'), ('.', 2, 3, 'PUNCT', '.')], 'trf_noun_chunk': [('me', 1, 2)], 'trf_pron': [('Excuse', 0, 1, 'VERB', 'VB'), ('me', 1, 2, 'PRON', 'PRP'), ('.', 2, 3, 'PUNCT', '.')]}, {'speaker': 'Receptionist', 'utterance': 'Hang on.', 'utterance_with_info': 'Hang on.', 'en_subtitles': '', 'zh_subtitles': '', 'fa_subtitles': '', 'sm_noun_chunk': [], 'sm_pron': [], 'berkeley_noun_chunk': [], 'berkeley_pron': [], 'trf_noun_chunk': [], 'trf_pron': []}, {'speaker': 'Leonard', 'utterance': 'One across is Aegean, eight down is Nabakov, twenty-six across is MCM, fourteen down is… move your finger… phylum, which makes fourteen across Port-au-Prince. See, Papa Doc’s capital idea, that’s Port-au-Prince. Haiti.', 'utterance_with_info': 'One across is Aegean, eight down is Nabakov, twenty-six across is MCM, fourteen down is… move your finger… phylum, which makes fourteen across Port-au-Prince. See, Papa Doc’s capital idea, that’s Port-au-Prince. Haiti.', 'en_subtitles': \"One across is Aegean, eight down is Nabokov. Twenty-six across is MCM. Fourteen down is... Move your finger. phylum, which makes 14 across Port-Au-Prince. See, Papa Doc's capital idea, that's Port-Au-Prince. Haiti.\", 'zh_subtitles': '横1是Aegean 竖8是Nabokov 横26是MCM 竖14是... 手指挪开点 这样一来横14就是Port 瞧 提示是\"Papa doc的首都\" 所以是太子港 海地的', 'fa_subtitles': 'يک افقي ميشه ائجين Nabokov هشت عمودي ميشه MCM بيست و شش افقي ميشه چهارده عمودي... انگشتتو بردار... \"که از اينجا چهارده افقي ميشه\"Phylum \"Port-Au-Prince\" Papa Doc\\'s Capitol Idea,\"آهان ببين\" Port-Au-Prince.\"که جوابش ميشه\" جزيره هاييتي', 'sm_noun_chunk': [('Aegean', 3, 4), ('Nabokov', 8, 9), ('MCM', 15, 16), ('your finger', 22, 24), ('phylum', 25, 26), ('which', 27, 28), ('Port-Au-Prince', 31, 36), (\"Papa Doc's capital idea\", 39, 44), ('that', 45, 46), ('Port-Au-Prince', 47, 52), ('Haiti', 53, 54)], 'sm_pron': [('One', 0, 1, 'NUM', 'CD'), ('across', 1, 2, 'ADV', 'RB'), ('is', 2, 3, 'AUX', 'VBZ'), ('Aegean', 3, 4, 'PROPN', 'NNP'), (',', 4, 5, 'PUNCT', ','), ('eight', 5, 6, 'NUM', 'CD'), ('down', 6, 7, 'ADV', 'RB'), ('is', 7, 8, 'AUX', 'VBZ'), ('Nabokov', 8, 9, 'PROPN', 'NNP'), ('.', 9, 10, 'PUNCT', '.'), ('Twenty', 10, 11, 'NUM', 'CD'), ('-', 11, 12, 'PUNCT', 'HYPH'), ('six', 12, 13, 'NUM', 'CD'), ('across', 13, 14, 'ADV', 'RB'), ('is', 14, 15, 'AUX', 'VBZ'), ('MCM', 15, 16, 'PROPN', 'NNP'), ('.', 16, 17, 'PUNCT', '.'), ('Fourteen', 17, 18, 'NUM', 'CD'), ('down', 18, 19, 'ADV', 'RB'), ('is', 19, 20, 'AUX', 'VBZ'), ('...', 20, 21, 'PUNCT', ':'), ('Move', 21, 22, 'VERB', 'VB'), ('your', 22, 23, 'PRON', 'PRP$'), ('finger', 23, 24, 'NOUN', 'NN'), ('.', 24, 25, 'PUNCT', '.'), ('phylum', 25, 26, 'NOUN', 'NNS'), (',', 26, 27, 'PUNCT', ','), ('which', 27, 28, 'PRON', 'WDT'), ('makes', 28, 29, 'VERB', 'VBZ'), ('14', 29, 30, 'NUM', 'CD'), ('across', 30, 31, 'ADP', 'IN'), ('Port', 31, 32, 'PROPN', 'NNP'), ('-', 32, 33, 'PUNCT', 'HYPH'), ('Au', 33, 34, 'PROPN', 'NNP'), ('-', 34, 35, 'PUNCT', 'HYPH'), ('Prince', 35, 36, 'PROPN', 'NNP'), ('.', 36, 37, 'PUNCT', '.'), ('See', 37, 38, 'VERB', 'VB'), (',', 38, 39, 'PUNCT', ','), ('Papa', 39, 40, 'PROPN', 'NNP'), ('Doc', 40, 41, 'PROPN', 'NNP'), (\"'s\", 41, 42, 'PART', 'POS'), ('capital', 42, 43, 'NOUN', 'NN'), ('idea', 43, 44, 'NOUN', 'NN'), (',', 44, 45, 'PUNCT', ','), ('that', 45, 46, 'PRON', 'DT'), (\"'s\", 46, 47, 'AUX', 'VBZ'), ('Port', 47, 48, 'PROPN', 'NNP'), ('-', 48, 49, 'PUNCT', 'HYPH'), ('Au', 49, 50, 'PROPN', 'NNP'), ('-', 50, 51, 'PUNCT', 'HYPH'), ('Prince', 51, 52, 'PROPN', 'NNP'), ('.', 52, 53, 'PUNCT', '.'), ('Haiti', 53, 54, 'PROPN', 'NNP'), ('.', 54, 55, 'PUNCT', '.')], 'berkeley_noun_chunk': [('Aegean', 3, 4), ('Nabokov', 8, 9), ('MCM', 15, 16), ('your finger', 22, 24), ('phylum', 25, 26), ('which', 27, 28), ('Port-Au', 31, 34), ('-', 34, 35), ('Prince', 35, 36), (\"Papa Doc's capital idea\", 39, 44), ('that', 45, 46), ('Port-Au-Prince', 47, 52), ('Haiti', 53, 54)], 'berkeley_pron': [('One', 0, 1, 'NUM', 'CD'), ('across', 1, 2, 'ADP', 'RB'), ('is', 2, 3, 'AUX', 'VBZ'), ('Aegean', 3, 4, 'PROPN', 'NNP'), (',', 4, 5, 'PUNCT', ','), ('eight', 5, 6, 'NUM', 'CD'), ('down', 6, 7, 'ADV', 'RB'), ('is', 7, 8, 'AUX', 'VBZ'), ('Nabokov', 8, 9, 'PROPN', 'NNP'), ('.', 9, 10, 'PUNCT', '.'), ('Twenty', 10, 11, 'NUM', 'CD'), ('-', 11, 12, 'PUNCT', 'HYPH'), ('six', 12, 13, 'NUM', 'CD'), ('across', 13, 14, 'ADP', 'IN'), ('is', 14, 15, 'AUX', 'VBZ'), ('MCM', 15, 16, 'PROPN', 'NNP'), ('.', 16, 17, 'PUNCT', '.'), ('Fourteen', 17, 18, 'NUM', 'CD'), ('down', 18, 19, 'ADV', 'RB'), ('is', 19, 20, 'AUX', 'VBZ'), ('...', 20, 21, 'PUNCT', ':'), ('Move', 21, 22, 'VERB', 'VB'), ('your', 22, 23, 'PRON', 'PRP$'), ('finger', 23, 24, 'NOUN', 'NN'), ('.', 24, 25, 'PUNCT', '.'), ('phylum', 25, 26, 'NOUN', 'NN'), (',', 26, 27, 'PUNCT', ','), ('which', 27, 28, 'PRON', 'WDT'), ('makes', 28, 29, 'VERB', 'VBZ'), ('14', 29, 30, 'NUM', 'CD'), ('across', 30, 31, 'ADP', 'IN'), ('Port', 31, 32, 'PROPN', 'NNP'), ('-', 32, 33, 'PUNCT', 'HYPH'), ('Au', 33, 34, 'PROPN', 'NNP'), ('-', 34, 35, 'NOUN', 'HYPH'), ('Prince', 35, 36, 'NOUN', 'NNP'), ('.', 36, 37, 'PUNCT', '.'), ('See', 37, 38, 'VERB', 'VB'), (',', 38, 39, 'PUNCT', ','), ('Papa', 39, 40, 'PROPN', 'NNP'), ('Doc', 40, 41, 'PROPN', 'NNP'), (\"'s\", 41, 42, 'PART', 'POS'), ('capital', 42, 43, 'NOUN', 'NN'), ('idea', 43, 44, 'NOUN', 'NN'), (',', 44, 45, 'PUNCT', ','), ('that', 45, 46, 'PRON', 'DT'), (\"'s\", 46, 47, 'AUX', 'VBZ'), ('Port', 47, 48, 'PROPN', 'NNP'), ('-', 48, 49, 'PUNCT', 'HYPH'), ('Au', 49, 50, 'PROPN', 'NNP'), ('-', 50, 51, 'NOUN', 'HYPH'), ('Prince', 51, 52, 'NOUN', 'NNP'), ('.', 52, 53, 'PUNCT', '.'), ('Haiti', 53, 54, 'PROPN', 'NNP'), ('.', 54, 55, 'PUNCT', '.')], 'trf_noun_chunk': [('Aegean', 3, 4), ('Nabokov', 8, 9), ('MCM', 15, 16), ('your finger', 22, 24), ('phylum', 25, 26), ('which', 27, 28), ('Port-Au-Prince', 31, 36), ('that', 45, 46), ('Port-Au-Prince', 47, 52), ('Haiti', 53, 54)], 'trf_pron': [('One', 0, 1, 'NUM', 'CD'), ('across', 1, 2, 'ADV', 'RB'), ('is', 2, 3, 'AUX', 'VBZ'), ('Aegean', 3, 4, 'PROPN', 'NNP'), (',', 4, 5, 'PUNCT', ','), ('eight', 5, 6, 'NUM', 'CD'), ('down', 6, 7, 'ADV', 'RB'), ('is', 7, 8, 'AUX', 'VBZ'), ('Nabokov', 8, 9, 'PROPN', 'NNP'), ('.', 9, 10, 'PUNCT', '.'), ('Twenty', 10, 11, 'NUM', 'CD'), ('-', 11, 12, 'PUNCT', 'HYPH'), ('six', 12, 13, 'NUM', 'CD'), ('across', 13, 14, 'ADV', 'RB'), ('is', 14, 15, 'AUX', 'VBZ'), ('MCM', 15, 16, 'PROPN', 'NNP'), ('.', 16, 17, 'PUNCT', '.'), ('Fourteen', 17, 18, 'NUM', 'CD'), ('down', 18, 19, 'ADV', 'RB'), ('is', 19, 20, 'AUX', 'VBZ'), ('...', 20, 21, 'PUNCT', ':'), ('Move', 21, 22, 'VERB', 'VB'), ('your', 22, 23, 'PRON', 'PRP$'), ('finger', 23, 24, 'NOUN', 'NN'), ('.', 24, 25, 'PUNCT', '.'), ('phylum', 25, 26, 'PROPN', 'NNP'), (',', 26, 27, 'PUNCT', ','), ('which', 27, 28, 'PRON', 'WDT'), ('makes', 28, 29, 'VERB', 'VBZ'), ('14', 29, 30, 'NUM', 'CD'), ('across', 30, 31, 'ADP', 'IN'), ('Port', 31, 32, 'PROPN', 'NNP'), ('-', 32, 33, 'PUNCT', 'HYPH'), ('Au', 33, 34, 'PROPN', 'NNP'), ('-', 34, 35, 'PUNCT', 'HYPH'), ('Prince', 35, 36, 'PROPN', 'NNP'), ('.', 36, 37, 'PUNCT', '.'), ('See', 37, 38, 'VERB', 'VB'), (',', 38, 39, 'PUNCT', ','), ('Papa', 39, 40, 'PROPN', 'NNP'), ('Doc', 40, 41, 'PROPN', 'NNP'), (\"'s\", 41, 42, 'PART', 'POS'), ('capital', 42, 43, 'NOUN', 'NN'), ('idea', 43, 44, 'NOUN', 'NN'), (',', 44, 45, 'PUNCT', ','), ('that', 45, 46, 'PRON', 'WDT'), (\"'s\", 46, 47, 'AUX', 'VBZ'), ('Port', 47, 48, 'PROPN', 'NNP'), ('-', 48, 49, 'PUNCT', 'HYPH'), ('Au', 49, 50, 'PROPN', 'NNP'), ('-', 50, 51, 'PUNCT', 'HYPH'), ('Prince', 51, 52, 'PROPN', 'NNP'), ('.', 52, 53, 'PUNCT', '.'), ('Haiti', 53, 54, 'PROPN', 'NNP'), ('.', 54, 55, 'PUNCT', '.')]}, {'speaker': 'Receptionist', 'utterance': 'Can I help you?', 'utterance_with_info': 'Can I help you?', 'en_subtitles': 'Can I help you?', 'zh_subtitles': '能为你效劳吗?', 'fa_subtitles': 'ميتونم کمکتون کنم؟', 'sm_noun_chunk': [('I', 1, 2), ('you', 3, 4)], 'sm_pron': [('Can', 0, 1, 'AUX', 'MD'), ('I', 1, 2, 'PRON', 'PRP'), ('help', 2, 3, 'VERB', 'VB'), ('you', 3, 4, 'PRON', 'PRP'), ('?', 4, 5, 'PUNCT', '.')], 'berkeley_noun_chunk': [('I', 1, 2), ('you', 3, 4)], 'berkeley_pron': [('Can', 0, 1, 'AUX', 'MD'), ('I', 1, 2, 'PRON', 'PRP'), ('help', 2, 3, 'VERB', 'VB'), ('you', 3, 4, 'PRON', 'PRP'), ('?', 4, 5, 'PUNCT', '.')], 'trf_noun_chunk': [('I', 1, 2), ('you', 3, 4)], 'trf_pron': [('Can', 0, 1, 'AUX', 'MD'), ('I', 1, 2, 'PRON', 'PRP'), ('help', 2, 3, 'VERB', 'VB'), ('you', 3, 4, 'PRON', 'PRP'), ('?', 4, 5, 'PUNCT', '.')]}, {'speaker': 'Leonard', 'utterance': 'Yes. Um, is this the High IQ sperm bank?', 'utterance_with_info': 'Yes. Um, is this the High IQ sperm bank?', 'en_subtitles': 'Yes. Um, is this the high-IQ sperm bank?', 'zh_subtitles': '这里是高智商精子银行吗?', 'fa_subtitles': 'آيا اينجا محل ذخيره سازي اسپرم افراد با ضريب هوشي بالاست؟', 'sm_noun_chunk': [('this', 5, 6), ('the high-IQ sperm bank', 6, 12)], 'sm_pron': [('Yes', 0, 1, 'INTJ', 'UH'), ('.', 1, 2, 'PUNCT', '.'), ('Um', 2, 3, 'INTJ', 'UH'), (',', 3, 4, 'PUNCT', ','), ('is', 4, 5, 'AUX', 'VBZ'), ('this', 5, 6, 'PRON', 'DT'), ('the', 6, 7, 'DET', 'DT'), ('high', 7, 8, 'ADJ', 'JJ'), ('-', 8, 9, 'PUNCT', 'HYPH'), ('IQ', 9, 10, 'NOUN', 'NN'), ('sperm', 10, 11, 'NOUN', 'NN'), ('bank', 11, 12, 'NOUN', 'NN'), ('?', 12, 13, 'PUNCT', '.')], 'berkeley_noun_chunk': [('this', 5, 6), ('the high-IQ sperm bank', 6, 12)], 'berkeley_pron': [('Yes', 0, 1, 'INTJ', 'UH'), ('.', 1, 2, 'PUNCT', '.'), ('Um', 2, 3, 'INTJ', 'UH'), (',', 3, 4, 'PUNCT', ','), ('is', 4, 5, 'AUX', 'VBZ'), ('this', 5, 6, 'PRON', 'DT'), ('the', 6, 7, 'DET', 'DT'), ('high', 7, 8, 'ADJ', 'JJ'), ('-', 8, 9, 'PUNCT', 'HYPH'), ('IQ', 9, 10, 'NOUN', 'NN'), ('sperm', 10, 11, 'NOUN', 'NN'), ('bank', 11, 12, 'NOUN', 'NN'), ('?', 12, 13, 'PUNCT', '.')], 'trf_noun_chunk': [('the high-IQ sperm bank', 6, 12)], 'trf_pron': [('Yes', 0, 1, 'INTJ', 'UH'), ('.', 1, 2, 'PUNCT', '.'), ('Um', 2, 3, 'INTJ', 'UH'), (',', 3, 4, 'PUNCT', ','), ('is', 4, 5, 'AUX', 'VBZ'), ('this', 5, 6, 'PRON', 'DT'), ('the', 6, 7, 'DET', 'DT'), ('high', 7, 8, 'ADJ', 'JJ'), ('-', 8, 9, 'PUNCT', 'HYPH'), ('IQ', 9, 10, 'NOUN', 'NN'), ('sperm', 10, 11, 'NOUN', 'NN'), ('bank', 11, 12, 'NOUN', 'NN'), ('?', 12, 13, 'PUNCT', '.')]}, {'speaker': 'Receptionist', 'utterance': 'If you have to ask, maybe you shouldn’t be here.', 'utterance_with_info': 'If you have to ask, maybe you shouldn’t be here.', 'en_subtitles': \"If you have to ask, maybe you shouldn't be here.\", 'zh_subtitles': '如果你这么问 也许你不该来这', 'fa_subtitles': 'نميدونم شايد اشتباه اومدي که داري ميپرسي', 'sm_noun_chunk': [('you', 1, 2), ('you', 7, 8)], 'sm_pron': [('If', 0, 1, 'SCONJ', 'IN'), ('you', 1, 2, 'PRON', 'PRP'), ('have', 2, 3, 'VERB', 'VBP'), ('to', 3, 4, 'PART', 'TO'), ('ask', 4, 5, 'VERB', 'VB'), (',', 5, 6, 'PUNCT', ','), ('maybe', 6, 7, 'ADV', 'RB'), ('you', 7, 8, 'PRON', 'PRP'), ('should', 8, 9, 'AUX', 'MD'), (\"n't\", 9, 10, 'PART', 'RB'), ('be', 10, 11, 'AUX', 'VB'), ('here', 11, 12, 'ADV', 'RB'), ('.', 12, 13, 'PUNCT', '.')], 'berkeley_noun_chunk': [('you', 1, 2), ('you', 7, 8)], 'berkeley_pron': [('If', 0, 1, 'SCONJ', 'IN'), ('you', 1, 2, 'PRON', 'PRP'), ('have', 2, 3, 'VERB', 'VBP'), ('to', 3, 4, 'PART', 'TO'), ('ask', 4, 5, 'VERB', 'VB'), (',', 5, 6, 'PUNCT', ','), ('maybe', 6, 7, 'ADV', 'RB'), ('you', 7, 8, 'PRON', 'PRP'), ('should', 8, 9, 'AUX', 'MD'), (\"n't\", 9, 10, 'PART', 'RB'), ('be', 10, 11, 'AUX', 'VB'), ('here', 11, 12, 'ADV', 'RB'), ('.', 12, 13, 'PUNCT', '.')], 'trf_noun_chunk': [('you', 1, 2), ('you', 7, 8)], 'trf_pron': [('If', 0, 1, 'SCONJ', 'IN'), ('you', 1, 2, 'PRON', 'PRP'), ('have', 2, 3, 'VERB', 'VBP'), ('to', 3, 4, 'PART', 'TO'), ('ask', 4, 5, 'VERB', 'VB'), (',', 5, 6, 'PUNCT', ','), ('maybe', 6, 7, 'ADV', 'RB'), ('you', 7, 8, 'PRON', 'PRP'), ('should', 8, 9, 'AUX', 'MD'), (\"n't\", 9, 10, 'PART', 'RB'), ('be', 10, 11, 'AUX', 'VB'), ('here', 11, 12, 'ADV', 'RB'), ('.', 12, 13, 'PUNCT', '.')]}, {'speaker': 'Sheldon', 'utterance': 'I think this is the place.', 'utterance_with_info': 'I think this is the place.', 'en_subtitles': 'I think this is the place.', 'zh_subtitles': '我想就是这没错了', 'fa_subtitles': 'فکر کنم همينجاست', 'sm_noun_chunk': [('I', 0, 1), ('this', 2, 3), ('the place', 4, 6)], 'sm_pron': [('I', 0, 1, 'PRON', 'PRP'), ('think', 1, 2, 'VERB', 'VBP'), ('this', 2, 3, 'PRON', 'DT'), ('is', 3, 4, 'AUX', 'VBZ'), ('the', 4, 5, 'DET', 'DT'), ('place', 5, 6, 'NOUN', 'NN'), ('.', 6, 7, 'PUNCT', '.')], 'berkeley_noun_chunk': [('I', 0, 1), ('this', 2, 3), ('the place', 4, 6)], 'berkeley_pron': [('I', 0, 1, 'PRON', 'PRP'), ('think', 1, 2, 'VERB', 'VBP'), ('this', 2, 3, 'PRON', 'DT'), ('is', 3, 4, 'AUX', 'VBZ'), ('the', 4, 5, 'DET', 'DT'), ('place', 5, 6, 'NOUN', 'NN'), ('.', 6, 7, 'PUNCT', '.')], 'trf_noun_chunk': [('I', 0, 1), ('this', 2, 3), ('the place', 4, 6)], 'trf_pron': [('I', 0, 1, 'PRON', 'PRP'), ('think', 1, 2, 'VERB', 'VBP'), ('this', 2, 3, 'PRON', 'DT'), ('is', 3, 4, 'AUX', 'VBZ'), ('the', 4, 5, 'DET', 'DT'), ('place', 5, 6, 'NOUN', 'NN'), ('.', 6, 7, 'PUNCT', '.')]}, {'speaker': 'Receptionist', 'utterance': 'Fill these out.', 'utterance_with_info': 'Fill these out.', 'en_subtitles': 'Fill these out.', 'zh_subtitles': '把这个填一填', 'fa_subtitles': 'فرم رو پرکنيد', 'sm_noun_chunk': [('these', 1, 2)], 'sm_pron': [('Fill', 0, 1, 'VERB', 'VB'), ('these', 1, 2, 'PRON', 'DT'), ('out', 2, 3, 'ADP', 'RP'), ('.', 3, 4, 'PUNCT', '.')], 'berkeley_noun_chunk': [('these', 1, 2)], 'berkeley_pron': [('Fill', 0, 1, 'VERB', 'VB'), ('these', 1, 2, 'PRON', 'DT'), ('out', 2, 3, 'ADP', 'RP'), ('.', 3, 4, 'PUNCT', '.')], 'trf_noun_chunk': [('these', 1, 2)], 'trf_pron': [('Fill', 0, 1, 'VERB', 'VB'), ('these', 1, 2, 'PRON', 'DT'), ('out', 2, 3, 'ADP', 'RP'), ('.', 3, 4, 'PUNCT', '.')]}, {'speaker': 'Leonard', 'utterance': 'Thank-you. We’ll be right back.', 'utterance_with_info': 'Thank-you. We’ll be right back.', 'en_subtitles': \"Thank you. We'll be right back.\", 'zh_subtitles': '谢谢 我们马上好', 'fa_subtitles': 'الان تموم ميشه', 'sm_noun_chunk': [('you', 1, 2), ('We', 3, 4)], 'sm_pron': [('Thank', 0, 1, 'VERB', 'VBP'), ('you', 1, 2, 'PRON', 'PRP'), ('.', 2, 3, 'PUNCT', '.'), ('We', 3, 4, 'PRON', 'PRP'), (\"'ll\", 4, 5, 'AUX', 'MD'), ('be', 5, 6, 'AUX', 'VB'), ('right', 6, 7, 'ADV', 'RB'), ('back', 7, 8, 'ADV', 'RB'), ('.', 8, 9, 'PUNCT', '.')], 'berkeley_noun_chunk': [('you', 1, 2), ('We', 3, 4)], 'berkeley_pron': [('Thank', 0, 1, 'VERB', 'VB'), ('you', 1, 2, 'PRON', 'PRP'), ('.', 2, 3, 'PUNCT', '.'), ('We', 3, 4, 'PRON', 'PRP'), (\"'ll\", 4, 5, 'AUX', 'MD'), ('be', 5, 6, 'AUX', 'VB'), ('right', 6, 7, 'ADV', 'RB'), ('back', 7, 8, 'ADV', 'RB'), ('.', 8, 9, 'PUNCT', '.')], 'trf_noun_chunk': [('you', 1, 2), ('We', 3, 4)], 'trf_pron': [('Thank', 0, 1, 'VERB', 'VBP'), ('you', 1, 2, 'PRON', 'PRP'), ('.', 2, 3, 'PUNCT', '.'), ('We', 3, 4, 'PRON', 'PRP'), (\"'ll\", 4, 5, 'AUX', 'MD'), ('be', 5, 6, 'AUX', 'VB'), ('right', 6, 7, 'ADV', 'RB'), ('back', 7, 8, 'ADV', 'RB'), ('.', 8, 9, 'PUNCT', '.')]}, {'speaker': 'Receptionist', 'utterance': 'Oh, take your time. I’ll just finish my crossword puzzle. Oh wait.', 'utterance_with_info': 'Oh, take your time. I’ll just finish my crossword puzzle. Oh wait.', 'en_subtitles': \"Oh, take your time. I'll just finish my crossword puzzle. Oh, wait.\", 'zh_subtitles': '慢慢来 我还要玩填字游戏 噢 慢着', 'fa_subtitles': 'راحت باشيد منم جدولم رو حل ميکنم اوه ، صبر کن ببينم', 'sm_noun_chunk': [('your time', 3, 5), ('I', 6, 7), ('my crossword puzzle', 10, 13)], 'sm_pron': [('Oh', 0, 1, 'INTJ', 'UH'), (',', 1, 2, 'PUNCT', ','), ('take', 2, 3, 'VERB', 'VB'), ('your', 3, 4, 'PRON', 'PRP$'), ('time', 4, 5, 'NOUN', 'NN'), ('.', 5, 6, 'PUNCT', '.'), ('I', 6, 7, 'PRON', 'PRP'), (\"'ll\", 7, 8, 'AUX', 'MD'), ('just', 8, 9, 'ADV', 'RB'), ('finish', 9, 10, 'VERB', 'VB'), ('my', 10, 11, 'PRON', 'PRP$'), ('crossword', 11, 12, 'NOUN', 'NN'), ('puzzle', 12, 13, 'NOUN', 'NN'), ('.', 13, 14, 'PUNCT', '.'), ('Oh', 14, 15, 'INTJ', 'UH'), (',', 15, 16, 'PUNCT', ','), ('wait', 16, 17, 'VERB', 'VB'), ('.', 17, 18, 'PUNCT', '.')], 'berkeley_noun_chunk': [('your time', 3, 5), ('I', 6, 7), ('my crossword puzzle', 10, 13)], 'berkeley_pron': [('Oh', 0, 1, 'INTJ', 'UH'), (',', 1, 2, 'PUNCT', ','), ('take', 2, 3, 'VERB', 'VB'), ('your', 3, 4, 'PRON', 'PRP$'), ('time', 4, 5, 'NOUN', 'NN'), ('.', 5, 6, 'PUNCT', '.'), ('I', 6, 7, 'PRON', 'PRP'), (\"'ll\", 7, 8, 'AUX', 'MD'), ('just', 8, 9, 'ADV', 'RB'), ('finish', 9, 10, 'VERB', 'VB'), ('my', 10, 11, 'PRON', 'PRP$'), ('crossword', 11, 12, 'ADJ', 'NN'), ('puzzle', 12, 13, 'NOUN', 'NN'), ('.', 13, 14, 'PUNCT', '.'), ('Oh', 14, 15, 'INTJ', 'UH'), (',', 15, 16, 'PUNCT', ','), ('wait', 16, 17, 'VERB', 'VB'), ('.', 17, 18, 'PUNCT', '.')], 'trf_noun_chunk': [('your time', 3, 5), ('I', 6, 7), ('my crossword puzzle', 10, 13)], 'trf_pron': [('Oh', 0, 1, 'INTJ', 'UH'), (',', 1, 2, 'PUNCT', ','), ('take', 2, 3, 'VERB', 'VB'), ('your', 3, 4, 'PRON', 'PRP$'), ('time', 4, 5, 'NOUN', 'NN'), ('.', 5, 6, 'PUNCT', '.'), ('I', 6, 7, 'PRON', 'PRP'), (\"'ll\", 7, 8, 'AUX', 'MD'), ('just', 8, 9, 'ADV', 'RB'), ('finish', 9, 10, 'VERB', 'VB'), ('my', 10, 11, 'PRON', 'PRP$'), ('crossword', 11, 12, 'NOUN', 'NN'), ('puzzle', 12, 13, 'NOUN', 'NN'), ('.', 13, 14, 'PUNCT', '.'), ('Oh', 14, 15, 'INTJ', 'UH'), (',', 15, 16, 'PUNCT', ','), ('wait', 16, 17, 'VERB', 'VB'), ('.', 17, 18, 'PUNCT', '.')]}, {'speaker': 'Sheldon', 'utterance': 'Leonard, I don’t think I can do this.', 'utterance_with_info': 'Leonard, I don’t think I can do this.', 'en_subtitles': \"Leonard, I don't think I can do this.\", 'zh_subtitles': '我办不到', 'fa_subtitles': 'لئونارد فکر نکنم بتونم اين کارو انجام بدم', 'sm_noun_chunk': [('I', 2, 3), ('I', 6, 7), ('this', 9, 10)], 'sm_pron': [('Leonard', 0, 1, 'PROPN', 'NNP'), (',', 1, 2, 'PUNCT', ','), ('I', 2, 3, 'PRON', 'PRP'), ('do', 3, 4, 'AUX', 'VBP'), (\"n't\", 4, 5, 'PART', 'RB'), ('think', 5, 6, 'VERB', 'VB'), ('I', 6, 7, 'PRON', 'PRP'), ('can', 7, 8, 'AUX', 'MD'), ('do', 8, 9, 'VERB', 'VB'), ('this', 9, 10, 'PRON', 'DT'), ('.', 10, 11, 'PUNCT', '.')], 'berkeley_noun_chunk': [('I', 2, 3), ('I', 6, 7), ('this', 9, 10)], 'berkeley_pron': [('Leonard', 0, 1, 'PROPN', 'NNP'), (',', 1, 2, 'PUNCT', ','), ('I', 2, 3, 'PRON', 'PRP'), ('do', 3, 4, 'AUX', 'VBP'), (\"n't\", 4, 5, 'PART', 'RB'), ('think', 5, 6, 'VERB', 'VB'), ('I', 6, 7, 'PRON', 'PRP'), ('can', 7, 8, 'AUX', 'MD'), ('do', 8, 9, 'VERB', 'VB'), ('this', 9, 10, 'PRON', 'DT'), ('.', 10, 11, 'PUNCT', '.')], 'trf_noun_chunk': [('I', 2, 3), ('I', 6, 7), ('this', 9, 10)], 'trf_pron': [('Leonard', 0, 1, 'PROPN', 'NNP'), (',', 1, 2, 'PUNCT', ','), ('I', 2, 3, 'PRON', 'PRP'), ('do', 3, 4, 'AUX', 'VBP'), (\"n't\", 4, 5, 'PART', 'RB'), ('think', 5, 6, 'VERB', 'VB'), ('I', 6, 7, 'PRON', 'PRP'), ('can', 7, 8, 'AUX', 'MD'), ('do', 8, 9, 'VERB', 'VB'), ('this', 9, 10, 'PRON', 'DT'), ('.', 10, 11, 'PUNCT', '.')]}, {'speaker': 'Leonard', 'utterance': 'What, are you kidding? You’re a semi-pro.', 'utterance_with_info': 'What, are you kidding? You’re a semi-pro.', 'en_subtitles': \"What, are you kidding? You're a semipro.\", 'zh_subtitles': '开玩笑? 你可是半职业人士', 'fa_subtitles': 'چي چرت و پرت ميگي؟ تو نيمه حرفه اي هستي', 'sm_noun_chunk': [('What', 0, 1), ('you', 3, 4), ('You', 6, 7), ('a semipro', 8, 10)], 'sm_pron': [('What', 0, 1, 'PRON', 'WP'), (',', 1, 2, 'PUNCT', ','), ('are', 2, 3, 'AUX', 'VBP'), ('you', 3, 4, 'PRON', 'PRP'), ('kidding', 4, 5, 'VERB', 'VBG'), ('?', 5, 6, 'PUNCT', '.'), ('You', 6, 7, 'PRON', 'PRP'), (\"'re\", 7, 8, 'AUX', 'VBP'), ('a', 8, 9, 'DET', 'DT'), ('semipro', 9, 10, 'NOUN', 'NN'), ('.', 10, 11, 'PUNCT', '.')], 'berkeley_noun_chunk': [('What', 0, 1), ('you', 3, 4), ('You', 6, 7), ('a semipro', 8, 10)], 'berkeley_pron': [('What', 0, 1, 'PRON', 'WP'), (',', 1, 2, 'PUNCT', ','), ('are', 2, 3, 'AUX', 'VBP'), ('you', 3, 4, 'PRON', 'PRP'), ('kidding', 4, 5, 'VERB', 'VBG'), ('?', 5, 6, 'PUNCT', '.'), ('You', 6, 7, 'PRON', 'PRP'), (\"'re\", 7, 8, 'AUX', 'VBP'), ('a', 8, 9, 'DET', 'DT'), ('semipro', 9, 10, 'NOUN', 'NN'), ('.', 10, 11, 'PUNCT', '.')], 'trf_noun_chunk': [('What', 0, 1), ('you', 3, 4), ('You', 6, 7), ('a semipro', 8, 10)], 'trf_pron': [('What', 0, 1, 'PRON', 'WP'), (',', 1, 2, 'PUNCT', ','), ('are', 2, 3, 'AUX', 'VBP'), ('you', 3, 4, 'PRON', 'PRP'), ('kidding', 4, 5, 'VERB', 'VBG'), ('?', 5, 6, 'PUNCT', '.'), ('You', 6, 7, 'PRON', 'PRP'), (\"'re\", 7, 8, 'AUX', 'VBP'), ('a', 8, 9, 'DET', 'DT'), ('semipro', 9, 10, 'NOUN', 'NN'), ('.', 10, 11, 'PUNCT', '.')]}, {'speaker': 'Sheldon', 'utterance': 'No. We are committing genetic fraud. There’s no guarantee that our sperm is going to generate high IQ offspring, think about that. I have a sister with the same basic DNA mix who hostesses at Fuddruckers.', 'utterance_with_info': 'No. We are committing genetic fraud. There’s no guarantee that our sperm is going to generate high IQ offspring, think about that. I have a sister with the same basic DNA mix who hostesses at Fuddruckers.', 'en_subtitles': \"No. We are committing genetic fraud. There's no guarantee our sperm's going to generate high-IQ offspring. Think about that. I have a sister with the same basic DNA mix who hostesses at Fuddruckers.\", 'zh_subtitles': '不 我们这样是诈骗 我们没法保证 生出来的一定是高智商小孩 我姐姐跟我有一套相同的基本基因 她却在Fuddrucker餐厅当服务生', 'fa_subtitles': 'نه ما داريم يه کلاهبرداري ژنتيکي انجام ميديم هيچ تظميني نيست که از اسپرم ما يه نسل باهوش رو توليد کنه فکرشو بکن من يه خواهر دارم با همين ترکيب دي.ان.اي که در شهر فوت راکرز خانه داره', 'sm_noun_chunk': [('We', 2, 3), ('genetic fraud', 5, 7), ('no guarantee', 10, 12), ('our sperm', 12, 14), ('high-IQ offspring', 18, 22), ('that', 25, 26), ('I', 27, 28), ('a sister', 29, 31), ('the same basic DNA mix', 32, 37), ('who', 37, 38), ('Fuddruckers', 40, 41)], 'sm_pron': [('No', 0, 1, 'INTJ', 'UH'), ('.', 1, 2, 'PUNCT', '.'), ('We', 2, 3, 'PRON', 'PRP'), ('are', 3, 4, 'AUX', 'VBP'), ('committing', 4, 5, 'VERB', 'VBG'), ('genetic', 5, 6, 'ADJ', 'JJ'), ('fraud', 6, 7, 'NOUN', 'NN'), ('.', 7, 8, 'PUNCT', '.'), ('There', 8, 9, 'PRON', 'EX'), (\"'s\", 9, 10, 'VERB', 'VBZ'), ('no', 10, 11, 'DET', 'DT'), ('guarantee', 11, 12, 'NOUN', 'NN'), ('our', 12, 13, 'PRON', 'PRP$'), ('sperm', 13, 14, 'NOUN', 'NN'), (\"'s\", 14, 15, 'AUX', 'POS'), ('going', 15, 16, 'VERB', 'VBG'), ('to', 16, 17, 'PART', 'TO'), ('generate', 17, 18, 'VERB', 'VB'), ('high', 18, 19, 'ADJ', 'JJ'), ('-', 19, 20, 'PUNCT', 'HYPH'), ('IQ', 20, 21, 'NOUN', 'NN'), ('offspring', 21, 22, 'NOUN', 'NN'), ('.', 22, 23, 'PUNCT', '.'), ('Think', 23, 24, 'VERB', 'VB'), ('about', 24, 25, 'ADP', 'IN'), ('that', 25, 26, 'PRON', 'DT'), ('.', 26, 27, 'PUNCT', '.'), ('I', 27, 28, 'PRON', 'PRP'), ('have', 28, 29, 'VERB', 'VBP'), ('a', 29, 30, 'DET', 'DT'), ('sister', 30, 31, 'NOUN', 'NN'), ('with', 31, 32, 'ADP', 'IN'), ('the', 32, 33, 'DET', 'DT'), ('same', 33, 34, 'ADJ', 'JJ'), ('basic', 34, 35, 'ADJ', 'JJ'), ('DNA', 35, 36, 'NOUN', 'NN'), ('mix', 36, 37, 'NOUN', 'NN'), ('who', 37, 38, 'PRON', 'WP'), ('hostesses', 38, 39, 'VERB', 'VBZ'), ('at', 39, 40, 'ADP', 'IN'), ('Fuddruckers', 40, 41, 'PROPN', 'NNP'), ('.', 41, 42, 'PUNCT', '.')], 'berkeley_noun_chunk': [('We', 2, 3), ('genetic fraud', 5, 7), ('no guarantee', 10, 12), ('our sperm', 12, 14), ('high-IQ offspring', 18, 22), ('that', 25, 26), ('I', 27, 28), ('a sister', 29, 31), ('the same basic DNA mix', 32, 37), ('who', 37, 38), ('Fuddruckers', 40, 41)], 'berkeley_pron': [('No', 0, 1, 'INTJ', 'UH'), ('.', 1, 2, 'PUNCT', '.'), ('We', 2, 3, 'PRON', 'PRP'), ('are', 3, 4, 'AUX', 'VBP'), ('committing', 4, 5, 'VERB', 'VBG'), ('genetic', 5, 6, 'ADJ', 'JJ'), ('fraud', 6, 7, 'NOUN', 'NN'), ('.', 7, 8, 'PUNCT', '.'), ('There', 8, 9, 'PRON', 'EX'), (\"'s\", 9, 10, 'VERB', 'VBZ'), ('no', 10, 11, 'DET', 'DT'), ('guarantee', 11, 12, 'NOUN', 'NN'), ('our', 12, 13, 'PRON', 'PRP$'), ('sperm', 13, 14, 'NOUN', 'NN'), (\"'s\", 14, 15, 'AUX', 'VBZ'), ('going', 15, 16, 'VERB', 'VBG'), ('to', 16, 17, 'PART', 'TO'), ('generate', 17, 18, 'VERB', 'VB'), ('high', 18, 19, 'ADJ', 'JJ'), ('-', 19, 20, 'PUNCT', 'HYPH'), ('IQ', 20, 21, 'NOUN', 'NN'), ('offspring', 21, 22, 'NOUN', 'NNS'), ('.', 22, 23, 'PUNCT', '.'), ('Think', 23, 24, 'VERB', 'VB'), ('about', 24, 25, 'ADP', 'IN'), ('that', 25, 26, 'PRON', 'DT'), ('.', 26, 27, 'PUNCT', '.'), ('I', 27, 28, 'PRON', 'PRP'), ('have', 28, 29, 'VERB', 'VBP'), ('a', 29, 30, 'DET', 'DT'), ('sister', 30, 31, 'NOUN', 'NN'), ('with', 31, 32, 'ADP', 'IN'), ('the', 32, 33, 'DET', 'DT'), ('same', 33, 34, 'ADJ', 'JJ'), ('basic', 34, 35, 'ADJ', 'JJ'), ('DNA', 35, 36, 'NOUN', 'NNP'), ('mix', 36, 37, 'NOUN', 'NN'), ('who', 37, 38, 'PRON', 'WP'), ('hostesses', 38, 39, 'VERB', 'VBZ'), ('at', 39, 40, 'ADP', 'IN'), ('Fuddruckers', 40, 41, 'PROPN', 'NNP'), ('.', 41, 42, 'PUNCT', '.')], 'trf_noun_chunk': [('We', 2, 3), ('genetic fraud', 5, 7), ('no guarantee', 10, 12), ('our sperm', 12, 14), ('high-IQ offspring', 18, 22), ('I', 27, 28), ('a sister', 29, 31), ('the same basic DNA mix', 32, 37), ('who', 37, 38), ('Fuddruckers', 40, 41)], 'trf_pron': [('No', 0, 1, 'INTJ', 'UH'), ('.', 1, 2, 'PUNCT', '.'), ('We', 2, 3, 'PRON', 'PRP'), ('are', 3, 4, 'AUX', 'VBP'), ('committing', 4, 5, 'VERB', 'VBG'), ('genetic', 5, 6, 'ADJ', 'JJ'), ('fraud', 6, 7, 'NOUN', 'NN'), ('.', 7, 8, 'PUNCT', '.'), ('There', 8, 9, 'PRON', 'EX'), (\"'s\", 9, 10, 'VERB', 'VBZ'), ('no', 10, 11, 'DET', 'DT'), ('guarantee', 11, 12, 'NOUN', 'NN'), ('our', 12, 13, 'PRON', 'PRP$'), ('sperm', 13, 14, 'NOUN', 'NN'), (\"'s\", 14, 15, 'AUX', 'VBZ'), ('going', 15, 16, 'VERB', 'VBG'), ('to', 16, 17, 'PART', 'TO'), ('generate', 17, 18, 'VERB', 'VB'), ('high', 18, 19, 'ADJ', 'JJ'), ('-', 19, 20, 'PUNCT', 'HYPH'), ('IQ', 20, 21, 'NOUN', 'NN'), ('offspring', 21, 22, 'NOUN', 'NN'), ('.', 22, 23, 'PUNCT', '.'), ('Think', 23, 24, 'VERB', 'VB'), ('about', 24, 25, 'ADP', 'IN'), ('that', 25, 26, 'SCONJ', 'IN'), ('.', 26, 27, 'PUNCT', '.'), ('I', 27, 28, 'PRON', 'PRP'), ('have', 28, 29, 'VERB', 'VBP'), ('a', 29, 30, 'DET', 'DT'), ('sister', 30, 31, 'NOUN', 'NN'), ('with', 31, 32, 'ADP', 'IN'), ('the', 32, 33, 'DET', 'DT'), ('same', 33, 34, 'ADJ', 'JJ'), ('basic', 34, 35, 'ADJ', 'JJ'), ('DNA', 35, 36, 'NOUN', 'NN'), ('mix', 36, 37, 'NOUN', 'NN'), ('who', 37, 38, 'PRON', 'WP'), ('hostesses', 38, 39, 'VERB', 'VBZ'), ('at', 39, 40, 'ADP', 'IN'), ('Fuddruckers', 40, 41, 'PROPN', 'NNPS'), ('.', 41, 42, 'PUNCT', '.')]}, {'speaker': 'Leonard', 'utterance': 'Sheldon, this was your idea. A little extra money to get fractional T1 bandwidth in the apartment.', 'utterance_with_info': 'Sheldon, this was your idea. A little extra money to get fractional T1 bandwidth in the apartment.', 'en_subtitles': 'Sheldon, this was your idea. A little extra money to get fractional T1 bandwidth in the apartment?', 'zh_subtitles': '这可是你的主意啊 轻松赚点钱 就有钱能升级我们的网络带宽', 'fa_subtitles': 'شلدون اين نظر خودت بود يه کم پول بيشتر براي گرفتنه يه پهناي باند کوچک تي1 براي آپارتمانمون', 'sm_noun_chunk': [('this', 2, 3), ('your idea', 4, 6), ('A little extra money', 7, 11), ('fractional T1', 13, 15), ('the apartment', 17, 19)], 'sm_pron': [('Sheldon', 0, 1, 'PROPN', 'NNP'), (',', 1, 2, 'PUNCT', ','), ('this', 2, 3, 'PRON', 'DT'), ('was', 3, 4, 'AUX', 'VBD'), ('your', 4, 5, 'PRON', 'PRP$'), ('idea', 5, 6, 'NOUN', 'NN'), ('.', 6, 7, 'PUNCT', '.'), ('A', 7, 8, 'DET', 'DT'), ('little', 8, 9, 'ADJ', 'JJ'), ('extra', 9, 10, 'ADJ', 'JJ'), ('money', 10, 11, 'NOUN', 'NN'), ('to', 11, 12, 'PART', 'TO'), ('get', 12, 13, 'VERB', 'VB'), ('fractional', 13, 14, 'ADJ', 'JJ'), ('T1', 14, 15, 'PROPN', 'NNP'), ('bandwidth', 15, 16, 'ADV', 'RB'), ('in', 16, 17, 'ADP', 'IN'), ('the', 17, 18, 'DET', 'DT'), ('apartment', 18, 19, 'NOUN', 'NN'), ('?', 19, 20, 'PUNCT', '.')], 'berkeley_noun_chunk': [('this', 2, 3), ('your idea', 4, 6), ('A little extra money', 7, 11), ('fractional T1 bandwidth', 13, 16), ('the apartment', 17, 19)], 'berkeley_pron': [('Sheldon', 0, 1, 'PROPN', 'NNP'), (',', 1, 2, 'PUNCT', ','), ('this', 2, 3, 'PRON', 'DT'), ('was', 3, 4, 'AUX', 'VBD'), ('your', 4, 5, 'PRON', 'PRP$'), ('idea', 5, 6, 'NOUN', 'NN'), ('.', 6, 7, 'PUNCT', '.'), ('A', 7, 8, 'DET', 'DT'), ('little', 8, 9, 'ADJ', 'JJ'), ('extra', 9, 10, 'ADJ', 'JJ'), ('money', 10, 11, 'NOUN', 'NN'), ('to', 11, 12, 'PART', 'TO'), ('get', 12, 13, 'VERB', 'VB'), ('fractional', 13, 14, 'ADJ', 'JJ'), ('T1', 14, 15, 'NOUN', 'NN'), ('bandwidth', 15, 16, 'NOUN', 'NN'), ('in', 16, 17, 'ADP', 'IN'), ('the', 17, 18, 'DET', 'DT'), ('apartment', 18, 19, 'NOUN', 'NN'), ('?', 19, 20, 'PUNCT', '.')], 'trf_noun_chunk': [('this', 2, 3), ('your idea', 4, 6), ('A little extra money', 7, 11), ('fractional T1 bandwidth', 13, 16), ('the apartment', 17, 19)], 'trf_pron': [('Sheldon', 0, 1, 'PROPN', 'NNP'), (',', 1, 2, 'PUNCT', ','), ('this', 2, 3, 'PRON', 'DT'), ('was', 3, 4, 'AUX', 'VBD'), ('your', 4, 5, 'PRON', 'PRP$'), ('idea', 5, 6, 'NOUN', 'NN'), ('.', 6, 7, 'PUNCT', '.'), ('A', 7, 8, 'DET', 'DT'), ('little', 8, 9, 'ADJ', 'JJ'), ('extra', 9, 10, 'ADJ', 'JJ'), ('money', 10, 11, 'NOUN', 'NN'), ('to', 11, 12, 'PART', 'TO'), ('get', 12, 13, 'VERB', 'VB'), ('fractional', 13, 14, 'ADJ', 'JJ'), ('T1', 14, 15, 'NOUN', 'NN'), ('bandwidth', 15, 16, 'NOUN', 'NN'), ('in', 16, 17, 'ADP', 'IN'), ('the', 17, 18, 'DET', 'DT'), ('apartment', 18, 19, 'NOUN', 'NN'), ('?', 19, 20, 'PUNCT', '.')]}, {'speaker': 'Sheldon', 'utterance': 'I know, and I do yearn for faster downloads, but there’s some poor woman is going to pin her hopes on my sperm, what if she winds up with a toddler who doesn’t know if he should use an integral or a differential to solve the area under a curve.', 'utterance_with_info': 'I know, and I do yearn for faster downloads, but there’s some poor woman is going to pin her hopes on my sperm, what if she winds up with a toddler who doesn’t know if he should use an integral or a differential to solve the area under a curve.', 'en_subtitles': \"I know. And I do yearn for faster downloads. There's some poor woman who's gonna pin her hopes on my sperm. What if she winds up with a toddler who doesn't know if he should use a differential to solve for the area under a curve?\", 'zh_subtitles': '我知道 我确实很渴望高速下载 但一些可怜的女人 会把希望寄托在我的精子上 万一生出来一个 连曲线下部的面积用积分还是微分算 都搞不清楚的小屁孩怎么办?', 'fa_subtitles': 'ميدونم من خودمم تو کف يه دانلود سريعم اما يه زن بدبختي هست که آرزوهاش الافه اسپرم من ميشه حالا اگه اين خانم با يه بچه نه نه ريخته روهم که حتي نميدونه براي بدست آوردن سطح زير نمودار بايد مشتق بگيره يا انتگرال چي؟', 'sm_noun_chunk': [('I', 0, 1), ('I', 4, 5), ('faster downloads', 8, 10), ('some poor woman', 13, 16), ('who', 16, 17), ('her hopes', 21, 23), ('my sperm', 24, 26), ('What', 27, 28), ('she', 29, 30), ('a toddler', 33, 35), ('who', 35, 36), ('he', 40, 41), ('a differential', 43, 45), ('the area', 48, 50), ('a curve', 51, 53)], 'sm_pron': [('I', 0, 1, 'PRON', 'PRP'), ('know', 1, 2, 'VERB', 'VBP'), ('.', 2, 3, 'PUNCT', '.'), ('And', 3, 4, 'CCONJ', 'CC'), ('I', 4, 5, 'PRON', 'PRP'), ('do', 5, 6, 'AUX', 'VBP'), ('yearn', 6, 7, 'VERB', 'VB'), ('for', 7, 8, 'ADP', 'IN'), ('faster', 8, 9, 'ADJ', 'JJR'), ('downloads', 9, 10, 'NOUN', 'NNS'), ('.', 10, 11, 'PUNCT', '.'), ('There', 11, 12, 'PRON', 'EX'), (\"'s\", 12, 13, 'VERB', 'VBZ'), ('some', 13, 14, 'DET', 'DT'), ('poor', 14, 15, 'ADJ', 'JJ'), ('woman', 15, 16, 'NOUN', 'NN'), ('who', 16, 17, 'PRON', 'WP'), (\"'s\", 17, 18, 'AUX', 'VBZ'), ('gon', 18, 19, 'VERB', 'VBG'), ('na', 19, 20, 'PART', 'TO'), ('pin', 20, 21, 'VERB', 'VB'), ('her', 21, 22, 'PRON', 'PRP'), ('hopes', 22, 23, 'NOUN', 'NNS'), ('on', 23, 24, 'ADP', 'IN'), ('my', 24, 25, 'PRON', 'PRP$'), ('sperm', 25, 26, 'NOUN', 'NN'), ('.', 26, 27, 'PUNCT', '.'), ('What', 27, 28, 'PRON', 'WP'), ('if', 28, 29, 'SCONJ', 'IN'), ('she', 29, 30, 'PRON', 'PRP'), ('winds', 30, 31, 'VERB', 'VBZ'), ('up', 31, 32, 'ADP', 'RP'), ('with', 32, 33, 'ADP', 'IN'), ('a', 33, 34, 'DET', 'DT'), ('toddler', 34, 35, 'NOUN', 'NN'), ('who', 35, 36, 'PRON', 'WP'), ('does', 36, 37, 'AUX', 'VBZ'), (\"n't\", 37, 38, 'PART', 'RB'), ('know', 38, 39, 'VERB', 'VB'), ('if', 39, 40, 'SCONJ', 'IN'), ('he', 40, 41, 'PRON', 'PRP'), ('should', 41, 42, 'AUX', 'MD'), ('use', 42, 43, 'VERB', 'VB'), ('a', 43, 44, 'DET', 'DT'), ('differential', 44, 45, 'NOUN', 'NN'), ('to', 45, 46, 'PART', 'TO'), ('solve', 46, 47, 'VERB', 'VB'), ('for', 47, 48, 'ADP', 'IN'), ('the', 48, 49, 'DET', 'DT'), ('area', 49, 50, 'NOUN', 'NN'), ('under', 50, 51, 'ADP', 'IN'), ('a', 51, 52, 'DET', 'DT'), ('curve', 52, 53, 'NOUN', 'NN'), ('?', 53, 54, 'PUNCT', '.')], 'berkeley_noun_chunk': [('I', 0, 1), ('I', 4, 5), ('faster downloads', 8, 10), ('some poor woman', 13, 16), ('who', 16, 17), ('her hopes', 21, 23), ('my sperm', 24, 26), ('What', 27, 28), ('she', 29, 30), ('a toddler', 33, 35), ('who', 35, 36), ('he', 40, 41), ('a differential', 43, 45), ('the area', 48, 50), ('a curve', 51, 53)], 'berkeley_pron': [('I', 0, 1, 'PRON', 'PRP'), ('know', 1, 2, 'VERB', 'VBP'), ('.', 2, 3, 'PUNCT', '.'), ('And', 3, 4, 'CCONJ', 'CC'), ('I', 4, 5, 'PRON', 'PRP'), ('do', 5, 6, 'AUX', 'VBP'), ('yearn', 6, 7, 'VERB', 'VB'), ('for', 7, 8, 'ADP', 'IN'), ('faster', 8, 9, 'ADJ', 'JJR'), ('downloads', 9, 10, 'NOUN', 'NNS'), ('.', 10, 11, 'PUNCT', '.'), ('There', 11, 12, 'PRON', 'EX'), (\"'s\", 12, 13, 'VERB', 'VBZ'), ('some', 13, 14, 'DET', 'DT'), ('poor', 14, 15, 'ADJ', 'JJ'), ('woman', 15, 16, 'NOUN', 'NN'), ('who', 16, 17, 'PRON', 'WP'), (\"'s\", 17, 18, 'AUX', 'VBZ'), ('gon', 18, 19, 'VERB', 'TO'), ('na', 19, 20, 'PART', 'TO'), ('pin', 20, 21, 'VERB', 'VB'), ('her', 21, 22, 'PRON', 'PRP$'), ('hopes', 22, 23, 'NOUN', 'NNS'), ('on', 23, 24, 'ADP', 'IN'), ('my', 24, 25, 'PRON', 'PRP$'), ('sperm', 25, 26, 'NOUN', 'NN'), ('.', 26, 27, 'PUNCT', '.'), ('What', 27, 28, 'PRON', 'WP'), ('if', 28, 29, 'SCONJ', 'IN'), ('she', 29, 30, 'PRON', 'PRP'), ('winds', 30, 31, 'VERB', 'VBZ'), ('up', 31, 32, 'ADP', 'RP'), ('with', 32, 33, 'ADP', 'IN'), ('a', 33, 34, 'DET', 'DT'), ('toddler', 34, 35, 'NOUN', 'NN'), ('who', 35, 36, 'PRON', 'WP'), ('does', 36, 37, 'AUX', 'VBZ'), (\"n't\", 37, 38, 'PART', 'RB'), ('know', 38, 39, 'VERB', 'VB'), ('if', 39, 40, 'SCONJ', 'IN'), ('he', 40, 41, 'PRON', 'PRP'), ('should', 41, 42, 'AUX', 'MD'), ('use', 42, 43, 'VERB', 'VB'), ('a', 43, 44, 'DET', 'DT'), ('differential', 44, 45, 'NOUN', 'NN'), ('to', 45, 46, 'PART', 'TO'), ('solve', 46, 47, 'VERB', 'VB'), ('for', 47, 48, 'ADP', 'IN'), ('the', 48, 49, 'DET', 'DT'), ('area', 49, 50, 'NOUN', 'NN'), ('under', 50, 51, 'ADP', 'IN'), ('a', 51, 52, 'DET', 'DT'), ('curve', 52, 53, 'NOUN', 'NN'), ('?', 53, 54, 'PUNCT', '.')], 'trf_noun_chunk': [('I', 0, 1), ('I', 4, 5), ('faster downloads', 8, 10), ('some poor woman', 13, 16), ('who', 16, 17), ('her hopes', 21, 23), ('my sperm', 24, 26), ('she', 29, 30), ('a toddler', 33, 35), ('who', 35, 36), ('he', 40, 41), ('a differential', 43, 45), ('the area', 48, 50), ('a curve', 51, 53)], 'trf_pron': [('I', 0, 1, 'PRON', 'PRP'), ('know', 1, 2, 'VERB', 'VBP'), ('.', 2, 3, 'PUNCT', '.'), ('And', 3, 4, 'CCONJ', 'CC'), ('I', 4, 5, 'PRON', 'PRP'), ('do', 5, 6, 'AUX', 'VBP'), ('yearn', 6, 7, 'VERB', 'VB'), ('for', 7, 8, 'ADP', 'IN'), ('faster', 8, 9, 'ADJ', 'JJR'), ('downloads', 9, 10, 'NOUN', 'NNS'), ('.', 10, 11, 'PUNCT', '.'), ('There', 11, 12, 'PRON', 'EX'), (\"'s\", 12, 13, 'VERB', 'VBZ'), ('some', 13, 14, 'DET', 'DT'), ('poor', 14, 15, 'ADJ', 'JJ'), ('woman', 15, 16, 'NOUN', 'NN'), ('who', 16, 17, 'PRON', 'WP'), (\"'s\", 17, 18, 'AUX', 'VBZ'), ('gon', 18, 19, 'PART', 'TO'), ('na', 19, 20, 'PART', 'TO'), ('pin', 20, 21, 'VERB', 'VB'), ('her', 21, 22, 'PRON', 'PRP$'), ('hopes', 22, 23, 'NOUN', 'NNS'), ('on', 23, 24, 'ADP', 'IN'), ('my', 24, 25, 'PRON', 'PRP$'), ('sperm', 25, 26, 'NOUN', 'NN'), ('.', 26, 27, 'PUNCT', '.'), ('What', 27, 28, 'PRON', 'WP'), ('if', 28, 29, 'SCONJ', 'IN'), ('she', 29, 30, 'PRON', 'PRP'), ('winds', 30, 31, 'VERB', 'VBZ'), ('up', 31, 32, 'ADP', 'RP'), ('with', 32, 33, 'ADP', 'IN'), ('a', 33, 34, 'DET', 'DT'), ('toddler', 34, 35, 'NOUN', 'NN'), ('who', 35, 36, 'PRON', 'WP'), ('does', 36, 37, 'AUX', 'VBZ'), (\"n't\", 37, 38, 'PART', 'RB'), ('know', 38, 39, 'VERB', 'VB'), ('if', 39, 40, 'SCONJ', 'IN'), ('he', 40, 41, 'PRON', 'PRP'), ('should', 41, 42, 'AUX', 'MD'), ('use', 42, 43, 'VERB', 'VB'), ('a', 43, 44, 'DET', 'DT'), ('differential', 44, 45, 'NOUN', 'NN'), ('to', 45, 46, 'PART', 'TO'), ('solve', 46, 47, 'VERB', 'VB'), ('for', 47, 48, 'ADP', 'IN'), ('the', 48, 49, 'DET', 'DT'), ('area', 49, 50, 'NOUN', 'NN'), ('under', 50, 51, 'ADP', 'IN'), ('a', 51, 52, 'DET', 'DT'), ('curve', 52, 53, 'NOUN', 'NN'), ('?', 53, 54, 'PUNCT', '.')]}, {'speaker': 'Leonard', 'utterance': 'I’m sure she’ll still love him.', 'utterance_with_info': 'I’m sure she’ll still love him.', 'en_subtitles': \"I'm sure she'll still love him.\", 'zh_subtitles': '我想她还是会爱那个宝宝的', 'fa_subtitles': 'من مطمئنم که بازم دوستش داره -من که ندارم', 'sm_noun_chunk': [('I', 0, 1), ('she', 3, 4), ('him', 7, 8)], 'sm_pron': [('I', 0, 1, 'PRON', 'PRP'), (\"'m\", 1, 2, 'AUX', 'VBP'), ('sure', 2, 3, 'ADJ', 'JJ'), ('she', 3, 4, 'PRON', 'PRP'), (\"'ll\", 4, 5, 'AUX', 'MD'), ('still', 5, 6, 'ADV', 'RB'), ('love', 6, 7, 'VERB', 'VB'), ('him', 7, 8, 'PRON', 'PRP'), ('.', 8, 9, 'PUNCT', '.')], 'berkeley_noun_chunk': [('I', 0, 1), ('she', 3, 4), ('him', 7, 8)], 'berkeley_pron': [('I', 0, 1, 'PRON', 'PRP'), (\"'m\", 1, 2, 'AUX', 'VBP'), ('sure', 2, 3, 'ADJ', 'JJ'), ('she', 3, 4, 'PRON', 'PRP'), (\"'ll\", 4, 5, 'AUX', 'MD'), ('still', 5, 6, 'ADV', 'RB'), ('love', 6, 7, 'VERB', 'VB'), ('him', 7, 8, 'PRON', 'PRP'), ('.', 8, 9, 'PUNCT', '.')], 'trf_noun_chunk': [('I', 0, 1), ('she', 3, 4), ('him', 7, 8)], 'trf_pron': [('I', 0, 1, 'PRON', 'PRP'), (\"'m\", 1, 2, 'AUX', 'VBP'), ('sure', 2, 3, 'ADJ', 'JJ'), ('she', 3, 4, 'PRON', 'PRP'), (\"'ll\", 4, 5, 'AUX', 'MD'), ('still', 5, 6, 'ADV', 'RB'), ('love', 6, 7, 'VERB', 'VB'), ('him', 7, 8, 'PRON', 'PRP'), ('.', 8, 9, 'PUNCT', '.')]}, {'speaker': 'Sheldon', 'utterance': 'I wouldn’t.', 'utterance_with_info': 'I wouldn’t.', 'en_subtitles': \"I wouldn't.\", 'zh_subtitles': '我不会', 'fa_subtitles': '', 'sm_noun_chunk': [('I', 0, 1)], 'sm_pron': [('I', 0, 1, 'PRON', 'PRP'), ('would', 1, 2, 'AUX', 'MD'), (\"n't\", 2, 3, 'PART', 'RB'), ('.', 3, 4, 'PUNCT', '.')], 'berkeley_noun_chunk': [('I', 0, 1)], 'berkeley_pron': [('I', 0, 1, 'PRON', 'PRP'), ('would', 1, 2, 'AUX', 'MD'), (\"n't\", 2, 3, 'PART', 'RB'), ('.', 3, 4, 'PUNCT', '.')], 'trf_noun_chunk': [('I', 0, 1)], 'trf_pron': [('I', 0, 1, 'PRON', 'PRP'), ('would', 1, 2, 'AUX', 'MD'), (\"n't\", 2, 3, 'PART', 'RB'), ('.', 3, 4, 'PUNCT', '.')]}, {'speaker': 'Leonard', 'utterance': 'Well, what do you want to do?', 'utterance_with_info': 'Well, what do you want to do?', 'en_subtitles': 'Well, what do you wanna do?', 'zh_subtitles': '你想要怎样?', 'fa_subtitles': 'خب حالا ميخواي چي کار کني؟', 'sm_noun_chunk': [('what', 2, 3), ('you', 4, 5)], 'sm_pron': [('Well', 0, 1, 'INTJ', 'UH'), (',', 1, 2, 'PUNCT', ','), ('what', 2, 3, 'PRON', 'WP'), ('do', 3, 4, 'AUX', 'VBP'), ('you', 4, 5, 'PRON', 'PRP'), ('wanna', 5, 6, 'VERB', 'VB'), ('do', 6, 7, 'VERB', 'VB'), ('?', 7, 8, 'PUNCT', '.')], 'berkeley_noun_chunk': [('what', 2, 3), ('you', 4, 5)], 'berkeley_pron': [('Well', 0, 1, 'INTJ', 'UH'), (',', 1, 2, 'PUNCT', ','), ('what', 2, 3, 'PRON', 'WP'), ('do', 3, 4, 'AUX', 'VBP'), ('you', 4, 5, 'PRON', 'PRP'), ('wanna', 5, 6, 'VERB', 'TO'), ('do', 6, 7, 'VERB', 'VB'), ('?', 7, 8, 'PUNCT', '.')], 'trf_noun_chunk': [('what', 2, 3), ('you', 4, 5)], 'trf_pron': [('Well', 0, 1, 'INTJ', 'UH'), (',', 1, 2, 'PUNCT', ','), ('what', 2, 3, 'PRON', 'WP'), ('do', 3, 4, 'AUX', 'VBP'), ('you', 4, 5, 'PRON', 'PRP'), ('wanna', 5, 6, 'AUX', 'VB'), ('do', 6, 7, 'VERB', 'VB'), ('?', 7, 8, 'PUNCT', '.')]}, {'speaker': 'Sheldon', 'utterance': 'I want to leave.', 'utterance_with_info': 'I want to leave.', 'en_subtitles': 'I want to leave.', 'zh_subtitles': '我想要走', 'fa_subtitles': 'ميخوام از اينجا بريم', 'sm_noun_chunk': [('I', 0, 1)], 'sm_pron': [('I', 0, 1, 'PRON', 'PRP'), ('want', 1, 2, 'VERB', 'VBP'), ('to', 2, 3, 'PART', 'TO'), ('leave', 3, 4, 'VERB', 'VB'), ('.', 4, 5, 'PUNCT', '.')], 'berkeley_noun_chunk': [('I', 0, 1)], 'berkeley_pron': [('I', 0, 1, 'PRON', 'PRP'), ('want', 1, 2, 'VERB', 'VBP'), ('to', 2, 3, 'PART', 'TO'), ('leave', 3, 4, 'VERB', 'VB'), ('.', 4, 5, 'PUNCT', '.')], 'trf_noun_chunk': [('I', 0, 1)], 'trf_pron': [('I', 0, 1, 'PRON', 'PRP'), ('want', 1, 2, 'VERB', 'VBP'), ('to', 2, 3, 'PART', 'TO'), ('leave', 3, 4, 'VERB', 'VB'), ('.', 4, 5, 'PUNCT', '.')]}, {'speaker': 'Sheldon', 'utterance': 'What’s the protocol for leaving?', 'utterance_with_info': 'What’s the protocol for leaving?', 'en_subtitles': \"What's the protocol for leaving?\", 'zh_subtitles': '离开时要怎么说呢?', 'fa_subtitles': 'پروتوکل ترک کردن چيه؟', 'sm_noun_chunk': [('What', 0, 1), ('the protocol', 2, 4)], 'sm_pron': [('What', 0, 1, 'PRON', 'WP'), (\"'s\", 1, 2, 'AUX', 'VBZ'), ('the', 2, 3, 'DET', 'DT'), ('protocol', 3, 4, 'NOUN', 'NN'), ('for', 4, 5, 'ADP', 'IN'), ('leaving', 5, 6, 'VERB', 'VBG'), ('?', 6, 7, 'PUNCT', '.')], 'berkeley_noun_chunk': [('What', 0, 1), ('the protocol', 2, 4)], 'berkeley_pron': [('What', 0, 1, 'PRON', 'WP'), (\"'s\", 1, 2, 'AUX', 'VBZ'), ('the', 2, 3, 'DET', 'DT'), ('protocol', 3, 4, 'NOUN', 'NN'), ('for', 4, 5, 'ADP', 'IN'), ('leaving', 5, 6, 'VERB', 'VBG'), ('?', 6, 7, 'PUNCT', '.')], 'trf_noun_chunk': [('What', 0, 1), ('the protocol', 2, 4)], 'trf_pron': [('What', 0, 1, 'PRON', 'WP'), (\"'s\", 1, 2, 'AUX', 'VBZ'), ('the', 2, 3, 'DET', 'DT'), ('protocol', 3, 4, 'NOUN', 'NN'), ('for', 4, 5, 'ADP', 'IN'), ('leaving', 5, 6, 'VERB', 'VBG'), ('?', 6, 7, 'PUNCT', '.')]}, {'speaker': 'Leonard', 'utterance': 'I don’t know, I’ve never reneged on a proffer of sperm before.', 'utterance_with_info': 'I don’t know, I’ve never reneged on a proffer of sperm before.', 'en_subtitles': \"I don't know. I've never reneged on a proffer of sperm before.\", 'zh_subtitles': '我不知道 我可从没有拒绝过提供精子的要求', 'fa_subtitles': 'نميدونم من تا حالا سر تحويل دادن اسپرم دبه درنياوردم', 'sm_noun_chunk': [('I', 0, 1), ('I', 5, 6), ('a proffer', 10, 12), ('sperm', 13, 14)], 'sm_pron': [('I', 0, 1, 'PRON', 'PRP'), ('do', 1, 2, 'AUX', 'VBP'), (\"n't\", 2, 3, 'PART', 'RB'), ('know', 3, 4, 'VERB', 'VB'), ('.', 4, 5, 'PUNCT', '.'), ('I', 5, 6, 'PRON', 'PRP'), (\"'ve\", 6, 7, 'AUX', 'VBP'), ('never', 7, 8, 'ADV', 'RB'), ('reneged', 8, 9, 'VERB', 'VBN'), ('on', 9, 10, 'ADP', 'IN'), ('a', 10, 11, 'DET', 'DT'), ('proffer', 11, 12, 'NOUN', 'NN'), ('of', 12, 13, 'ADP', 'IN'), ('sperm', 13, 14, 'NOUN', 'NN'), ('before', 14, 15, 'ADV', 'RB'), ('.', 15, 16, 'PUNCT', '.')], 'berkeley_noun_chunk': [('I', 0, 1), ('I', 5, 6), ('a proffer', 10, 12), ('sperm', 13, 14)], 'berkeley_pron': [('I', 0, 1, 'PRON', 'PRP'), ('do', 1, 2, 'AUX', 'VBP'), (\"n't\", 2, 3, 'PART', 'RB'), ('know', 3, 4, 'VERB', 'VB'), ('.', 4, 5, 'PUNCT', '.'), ('I', 5, 6, 'PRON', 'PRP'), (\"'ve\", 6, 7, 'AUX', 'VBP'), ('never', 7, 8, 'ADV', 'RB'), ('reneged', 8, 9, 'VERB', 'VBN'), ('on', 9, 10, 'ADP', 'IN'), ('a', 10, 11, 'DET', 'DT'), ('proffer', 11, 12, 'NOUN', 'NN'), ('of', 12, 13, 'ADP', 'IN'), ('sperm', 13, 14, 'NOUN', 'NN'), ('before', 14, 15, 'ADV', 'RB'), ('.', 15, 16, 'PUNCT', '.')], 'trf_noun_chunk': [('I', 0, 1), ('I', 5, 6), ('a proffer', 10, 12), ('sperm', 13, 14)], 'trf_pron': [('I', 0, 1, 'PRON', 'PRP'), ('do', 1, 2, 'AUX', 'VBP'), (\"n't\", 2, 3, 'PART', 'RB'), ('know', 3, 4, 'VERB', 'VB'), ('.', 4, 5, 'PUNCT', '.'), ('I', 5, 6, 'PRON', 'PRP'), (\"'ve\", 6, 7, 'AUX', 'VBP'), ('never', 7, 8, 'ADV', 'RB'), ('reneged', 8, 9, 'VERB', 'VBN'), ('on', 9, 10, 'ADP', 'IN'), ('a', 10, 11, 'DET', 'DT'), ('proffer', 11, 12, 'NOUN', 'NN'), ('of', 12, 13, 'ADP', 'IN'), ('sperm', 13, 14, 'NOUN', 'NN'), ('before', 14, 15, 'ADV', 'RB'), ('.', 15, 16, 'PUNCT', '.')]}, {'speaker': 'Sheldon', 'utterance': 'Let’s try just walking out.', 'utterance_with_info': 'Let’s try just walking out.', 'en_subtitles': \"Let's try just walking out.\", 'zh_subtitles': '我们就直接走出去吧', 'fa_subtitles': 'چطوره بزاريم بريم', 'sm_noun_chunk': [(\"'s\", 1, 2)], 'sm_pron': [('Let', 0, 1, 'VERB', 'VB'), (\"'s\", 1, 2, 'PRON', 'PRP'), ('try', 2, 3, 'VERB', 'VB'), ('just', 3, 4, 'ADV', 'RB'), ('walking', 4, 5, 'VERB', 'VBG'), ('out', 5, 6, 'ADP', 'RP'), ('.', 6, 7, 'PUNCT', '.')], 'berkeley_noun_chunk': [(\"'s\", 1, 2)], 'berkeley_pron': [('Let', 0, 1, 'VERB', 'VB'), (\"'s\", 1, 2, 'PRON', 'PRP'), ('try', 2, 3, 'VERB', 'VB'), ('just', 3, 4, 'ADV', 'RB'), ('walking', 4, 5, 'VERB', 'VBG'), ('out', 5, 6, 'ADP', 'RP'), ('.', 6, 7, 'PUNCT', '.')], 'trf_noun_chunk': [(\"'s\", 1, 2)], 'trf_pron': [('Let', 0, 1, 'VERB', 'VB'), (\"'s\", 1, 2, 'PRON', 'PRP'), ('try', 2, 3, 'VERB', 'VB'), ('just', 3, 4, 'ADV', 'RB'), ('walking', 4, 5, 'VERB', 'VBG'), ('out', 5, 6, 'ADV', 'RB'), ('.', 6, 7, 'PUNCT', '.')]}, {'speaker': 'Leonard', 'utterance': 'Okay.', 'utterance_with_info': 'Okay.', 'en_subtitles': '', 'zh_subtitles': '', 'fa_subtitles': '', 'sm_noun_chunk': [], 'sm_pron': [], 'berkeley_noun_chunk': [], 'berkeley_pron': [], 'trf_noun_chunk': [], 'trf_pron': []}, {'speaker': 'Receptionist', 'utterance': 'Bye.', 'utterance_with_info': 'Bye.', 'en_subtitles': 'Bye.', 'zh_subtitles': '再见', 'fa_subtitles': '', 'sm_noun_chunk': [], 'sm_pron': [('Bye', 0, 1, 'INTJ', 'UH'), ('.', 1, 2, 'PUNCT', '.')], 'berkeley_noun_chunk': [('Bye', 0, 1)], 'berkeley_pron': [('Bye', 0, 1, 'PROPN', 'UH'), ('.', 1, 2, 'PUNCT', '.')], 'trf_noun_chunk': [], 'trf_pron': [('Bye', 0, 1, 'INTJ', 'UH'), ('.', 1, 2, 'PUNCT', '.')]}, {'speaker': 'Sheldon', 'utterance': 'Bye-bye', 'utterance_with_info': 'Bye-bye', 'en_subtitles': '', 'zh_subtitles': '', 'fa_subtitles': '', 'sm_noun_chunk': [], 'sm_pron': [], 'berkeley_noun_chunk': [], 'berkeley_pron': [], 'trf_noun_chunk': [], 'trf_pron': []}, {'speaker': 'Leonard', 'utterance': 'See you.', 'utterance_with_info': 'See you.', 'en_subtitles': '', 'zh_subtitles': '', 'fa_subtitles': '', 'sm_noun_chunk': [], 'sm_pron': [], 'berkeley_noun_chunk': [], 'berkeley_pron': [], 'trf_noun_chunk': [], 'trf_pron': []}]\n"
     ]
    }
   ],
   "source": [
    "print(data[(1,1)][0])"
   ],
   "metadata": {
    "collapsed": false,
    "pycharm": {
     "name": "#%%\n"
    }
   }
  },
  {
   "cell_type": "code",
   "execution_count": 67,
   "outputs": [
    {
     "name": "stdout",
     "output_type": "stream",
     "text": [
      "speaker: Sheldon\n",
      "utterance: I really think we should examine the chain of causality here.\n",
      "en_subtitles: I really think we should examine the chain of causality here.\n",
      "zh_subtitles: 我们得回顾下这起事件的前因后果\n",
      "fa_subtitles: فکر کنم بهتره سلسله اتفاقات رو بررسي کنيم -لازمه؟\n",
      "\n",
      "speaker: Leonard\n",
      "utterance: Must we?\n",
      "en_subtitles: Must we?\n",
      "zh_subtitles: 一定要吗?\n",
      "fa_subtitles: اتفاق اول\n",
      "\n",
      "speaker: Sheldon\n",
      "utterance: Event A. A beautiful woman stands naked in our shower. Event B. We drive half way across town to retrieve a television set from the aforementioned woman’s ex-boyfriend. Query, on what plane of existence is there even a semi-rational link between these events?\n",
      "en_subtitles: Event A: A beautiful woman stands naked in our shower. Event B: We drive halfway across town to retrieve a television set from the aforementioned woman's ex-boyfriend. On what plane of existence is there even a semi-rational link between these events?\n",
      "zh_subtitles: 事件A: 一个美女在我们的浴室裸体 事件B: 我们开车穿越整个小镇 就为了搬台电视机回来 目的地就在刚刚提到的美女的前男友家 提问:\n",
      "fa_subtitles: يک زن خوشگل لخت زير دوش ماست اتفاق دوم... مانصف طول شهر رو رانندگي ميکنيم تا يک دستگاه تلويزيون رو پس بگيريم از دوست پسر پني سوال... در کدام صفحه از کائنات\n",
      "\n",
      "speaker: Leonard\n",
      "utterance: She asked me to do her a favour, Sheldon.\n",
      "en_subtitles: She asked me to do her a favor, Sheldon.\n",
      "zh_subtitles: 因为Penny请我帮个忙\n",
      "fa_subtitles: شلدون ، اون از من خواهش کرد که کاري براش انجام بدم\n",
      "\n",
      "speaker: Sheldon\n",
      "utterance: Ah, yes, well that may be the proximal cause of our journey, but we both know it only exists in contradistinction to the higher level distal cause.\n",
      "en_subtitles: Well, that may be the proximal cause of our journey but we both know it exists in contradistinction to the higher-level distal cause.\n",
      "zh_subtitles: 是啊 那也许是最近似可能的起因了 但我们都知道 它和更高级的末端起因截然不同\n",
      "fa_subtitles: بله ، و اين ميتونه دليل شروع رانندگي تو باشه اما ما هردمون ميدونيم که اين دليل فقط در برابر دليل دوربرد ديگري وجود داره\n",
      "\n",
      "speaker: Leonard\n",
      "utterance: Which is?\n",
      "en_subtitles: Which is?\n",
      "zh_subtitles: 那是什么意思?\n",
      "fa_subtitles: که اون چيه؟\n",
      "\n",
      "speaker: Sheldon\n",
      "utterance: You think with your penis.\n",
      "en_subtitles: You think with your penis.\n",
      "zh_subtitles: 你用你的老二思考\n",
      "fa_subtitles: تو رو کيرت حرف ميزني\n",
      "\n",
      "speaker: Leonard\n",
      "utterance: That’s a biological impossibility and you didn’t have to come.\n",
      "en_subtitles: That's a biological impossibility, and you didn't have to come.\n",
      "zh_subtitles: 这在生理上是不可能的 你也不一定要来啊\n",
      "fa_subtitles: اين از نظر زيست شناسي غير ممکنه و تو هم مجبور نبودي بياي\n",
      "\n",
      "speaker: Sheldon\n",
      "utterance: Oh, right, yes, I could have stayed behind and watched Wolowitz try to hit on Penny in Russian, Arabic and Farsi. Why can’t she get her own TV.\n",
      "en_subtitles: I could have stayed behind to watch Wolowitz hit on Penny in Russian, Arabic and Farsi. And why can't she get her own TV?\n",
      "zh_subtitles: 对 我可以留在家里看着Wolowitz 试图用俄语 阿拉伯语及波斯语搭讪Penny 她为什么不能自己去拿?\n",
      "fa_subtitles: آره من ميتونستم تو خونه بشينم و لاس زدن والوويتز با پني رو تماشا کنم به زبان هاي روسي ، عربي و فارسي چرا پني نميتونه تلويزيون شخصي خودشو داشته باشه\n",
      "\n",
      "speaker: Leonard\n",
      "utterance: Come on, you know how it is with break-ups.\n",
      "en_subtitles: Come on, you know how it is with breakups.\n",
      "zh_subtitles: 你知道分手这种事啦\n",
      "fa_subtitles: بيخيال ، خودت هم ميدوني اوضاع افرادي که از هم جدا ميشن چطوريه\n",
      "\n",
      "speaker: Sheldon\n",
      "utterance: No I don’t. And neither do you.\n",
      "en_subtitles: No, I don't, and neither do you.\n",
      "zh_subtitles: 不 我不知道 你也不知道\n",
      "fa_subtitles: نه نميدونم ... تو هم نميدوني\n",
      "\n",
      "speaker: Leonard\n",
      "utterance: Wuh, I, I broke up with Joyce Kim.\n",
      "en_subtitles: But I... I broke up with Joyce Kim.\n",
      "zh_subtitles: 什么啊 我跟Joyce Kim分过手\n",
      "fa_subtitles: من و جويس کين از هم جدا شديم\n",
      "\n",
      "speaker: Sheldon\n",
      "utterance: You did not break up with Joyce Kim, she defected to North Korea.\n",
      "en_subtitles: You did not break up with Joyce Kim. She defected to North Korea.\n",
      "zh_subtitles: 你才没有和Joyce Kim分手 是她跑到韩国去了\n",
      "fa_subtitles: تو از اون جدا نشدي بلکه اون ول کرد رفت کره شمالي\n",
      "\n",
      "speaker: Leonard\n",
      "utterance: To mend her broken heart. This situation is much less complicated. There’s some kind of dispute between Penny and her ex-boyfriend as to who gets custody of the TV. She just wanted to avoid having a scene with him.\n",
      "en_subtitles: To mend her broken heart. This situation is much less complicated. There's some dispute between Penny and her ex-boyfriend as to who gets custody of the TV. She just wanted to avoid a scene with him.\n",
      "zh_subtitles: 为了修复她受伤的心灵 现在这情况更加复杂 Penny和她前男友不能达成一致 究竟电视机该归谁 她不想再和他当面争执\n",
      "fa_subtitles: تا قلب شکسته شو التيام بده اين موقعيت الان پيچيدگي کمتري داره يه نوع مشاجره بين پني و دوست پسر قبليش وجود داره سر اين که کي تلويزيون رو پيش خودش نگه داره پني ديگه نميخواد باهاش روبرو بشه\n",
      "\n",
      "speaker: Sheldon\n",
      "utterance: So we get to have a scene with him?\n",
      "en_subtitles: So we get to have a scene with him?\n",
      "zh_subtitles: 所以我们去和他当面争执?\n",
      "fa_subtitles: پس ما قرار با اون روبرو بشيم؟\n",
      "\n",
      "speaker: Leonard\n",
      "utterance: No, Sheldon, there’s not going to be a scene. There’s two of us and one of him.\n",
      "en_subtitles: No, Sheldon, there's not going to be a scene. There's two of us and one of him.\n",
      "zh_subtitles: 根本不会有争执 我们两人 他一人\n",
      "fa_subtitles: نه اين يه رودرويي نيست چون ما دو نفريم و اون يک نفر\n",
      "\n",
      "speaker: Sheldon\n",
      "utterance: Leonard, the two of us can’t even carry a TV.\n",
      "en_subtitles: Leonard, the two of us can't even carry a TV.\n",
      "zh_subtitles: 我们俩加起来都抗不动一台电视\n",
      "fa_subtitles: لئونارد هر دو تاي ما حتي نميتونيم يه تلويزيون رو جابجا کنيم\n",
      "\n"
     ]
    }
   ],
   "source": [
    "for utt in data[(1,1)][4]:\n",
    "    print(\"speaker:\", utt['speaker'])\n",
    "    print(\"utterance:\", utt['utterance'])\n",
    "    print(\"en_subtitles:\", utt['en_subtitles'])\n",
    "    print(\"zh_subtitles:\", utt['zh_subtitles'])\n",
    "    print(\"fa_subtitles:\", utt['fa_subtitles'])\n",
    "    print()"
   ],
   "metadata": {
    "collapsed": false,
    "pycharm": {
     "name": "#%%\n"
    }
   }
  },
  {
   "cell_type": "code",
   "execution_count": 71,
   "outputs": [
    {
     "name": "stdout",
     "output_type": "stream",
     "text": [
      "speaker : Penny\n",
      "utterance : Okay, thankyou.\n",
      "utterance_with_info : Okay, thankyou.\n",
      "en_subtitles : \n",
      "zh_subtitles : \n",
      "fa_subtitles : \n",
      "sm_noun_chunk : []\n",
      "sm_pron : []\n",
      "berkeley_noun_chunk : []\n",
      "berkeley_pron : []\n",
      "trf_noun_chunk : []\n",
      "trf_pron : []\n",
      "\n",
      "speaker : Penny\n",
      "utterance : Holy smokes.\n",
      "utterance_with_info : Holy smokes.\n",
      "en_subtitles : \n",
      "zh_subtitles : \n",
      "fa_subtitles : \n",
      "sm_noun_chunk : []\n",
      "sm_pron : []\n",
      "berkeley_noun_chunk : []\n",
      "berkeley_pron : []\n",
      "trf_noun_chunk : []\n",
      "trf_pron : []\n",
      "\n",
      "speaker : Leonard\n",
      "utterance : What?\n",
      "utterance_with_info : What?\n",
      "en_subtitles : \n",
      "zh_subtitles : \n",
      "fa_subtitles : \n",
      "sm_noun_chunk : []\n",
      "sm_pron : []\n",
      "berkeley_noun_chunk : []\n",
      "berkeley_pron : []\n",
      "trf_noun_chunk : []\n",
      "trf_pron : []\n",
      "\n",
      "speaker : Sheldon\n",
      "utterance : Well.\n",
      "utterance_with_info : Well.\n",
      "en_subtitles : \n",
      "zh_subtitles : \n",
      "fa_subtitles : \n",
      "sm_noun_chunk : []\n",
      "sm_pron : []\n",
      "berkeley_noun_chunk : []\n",
      "berkeley_pron : []\n",
      "trf_noun_chunk : []\n",
      "trf_pron : []\n",
      "\n",
      "speaker : Sheldon\n",
      "utterance : Fine. \n",
      "utterance_with_info : Fine. (Wanders in circles, looking lost.)\n",
      "en_subtitles : \n",
      "zh_subtitles : \n",
      "fa_subtitles : \n",
      "sm_noun_chunk : []\n",
      "sm_pron : []\n",
      "berkeley_noun_chunk : []\n",
      "berkeley_pron : []\n",
      "trf_noun_chunk : []\n",
      "trf_pron : []\n",
      "\n",
      "speaker : Sheldon\n",
      "utterance : Aaah!\n",
      "utterance_with_info : Aaah!\n",
      "en_subtitles : \n",
      "zh_subtitles : \n",
      "fa_subtitles : \n",
      "sm_noun_chunk : []\n",
      "sm_pron : []\n",
      "berkeley_noun_chunk : []\n",
      "berkeley_pron : []\n",
      "trf_noun_chunk : []\n",
      "trf_pron : []\n",
      "\n",
      "speaker : Leonard\n",
      "utterance : I’m sorry.\n",
      "utterance_with_info : I’m sorry.\n",
      "en_subtitles : \n",
      "zh_subtitles : \n",
      "fa_subtitles : \n",
      "sm_noun_chunk : []\n",
      "sm_pron : []\n",
      "berkeley_noun_chunk : []\n",
      "berkeley_pron : []\n",
      "trf_noun_chunk : []\n",
      "trf_pron : []\n",
      "\n",
      "speaker : Sheldon\n",
      "utterance : That is an antisocial implication.\n",
      "utterance_with_info : That is an antisocial implication.\n",
      "en_subtitles : \n",
      "zh_subtitles : \n",
      "fa_subtitles : \n",
      "sm_noun_chunk : []\n",
      "sm_pron : []\n",
      "berkeley_noun_chunk : []\n",
      "berkeley_pron : []\n",
      "trf_noun_chunk : []\n",
      "trf_pron : []\n",
      "\n",
      "speaker : Leonard\n",
      "utterance : Don’t.\n",
      "utterance_with_info : Don’t.\n",
      "en_subtitles : \n",
      "zh_subtitles : \n",
      "fa_subtitles : \n",
      "sm_noun_chunk : []\n",
      "sm_pron : []\n",
      "berkeley_noun_chunk : []\n",
      "berkeley_pron : []\n",
      "trf_noun_chunk : []\n",
      "trf_pron : []\n",
      "\n",
      "speaker : Leonard\n",
      "utterance : No.\n",
      "utterance_with_info : No.\n",
      "en_subtitles : \n",
      "zh_subtitles : \n",
      "fa_subtitles : \n",
      "sm_noun_chunk : []\n",
      "sm_pron : []\n",
      "berkeley_noun_chunk : []\n",
      "berkeley_pron : []\n",
      "trf_noun_chunk : []\n",
      "trf_pron : []\n",
      "\n",
      "speaker : Sheldon\n",
      "utterance : No.\n",
      "utterance_with_info : No.\n",
      "en_subtitles : \n",
      "zh_subtitles : \n",
      "fa_subtitles : \n",
      "sm_noun_chunk : []\n",
      "sm_pron : []\n",
      "berkeley_noun_chunk : []\n",
      "berkeley_pron : []\n",
      "trf_noun_chunk : []\n",
      "trf_pron : []\n",
      "\n",
      "speaker : Leonard\n",
      "utterance : Excuse me?\n",
      "utterance_with_info : Excuse me?\n",
      "en_subtitles : \n",
      "zh_subtitles : \n",
      "fa_subtitles : \n",
      "sm_noun_chunk : []\n",
      "sm_pron : []\n",
      "berkeley_noun_chunk : []\n",
      "berkeley_pron : []\n",
      "trf_noun_chunk : []\n",
      "trf_pron : []\n",
      "\n",
      "speaker : Raj\n",
      "utterance : Why?\n",
      "utterance_with_info : Why?\n",
      "en_subtitles : \n",
      "zh_subtitles : \n",
      "fa_subtitles : \n",
      "sm_noun_chunk : []\n",
      "sm_pron : []\n",
      "berkeley_noun_chunk : []\n",
      "berkeley_pron : []\n",
      "trf_noun_chunk : []\n",
      "trf_pron : []\n",
      "\n",
      "speaker : Howard\n",
      "utterance : Bon douche.\n",
      "utterance_with_info : Bon douche.\n",
      "en_subtitles : \n",
      "zh_subtitles : \n",
      "fa_subtitles : \n",
      "sm_noun_chunk : []\n",
      "sm_pron : []\n",
      "berkeley_noun_chunk : []\n",
      "berkeley_pron : []\n",
      "trf_noun_chunk : []\n",
      "trf_pron : []\n",
      "\n",
      "speaker : Penny\n",
      "utterance : I’m sorry?\n",
      "utterance_with_info : I’m sorry?\n",
      "en_subtitles : \n",
      "zh_subtitles : \n",
      "fa_subtitles : \n",
      "sm_noun_chunk : []\n",
      "sm_pron : []\n",
      "berkeley_noun_chunk : []\n",
      "berkeley_pron : []\n",
      "trf_noun_chunk : []\n",
      "trf_pron : []\n",
      "\n",
      "speaker : Howard\n",
      "utterance : See-ka-tong-guay-jow.\n",
      "utterance_with_info : See-ka-tong-guay-jow.\n",
      "en_subtitles : \n",
      "zh_subtitles : \n",
      "fa_subtitles : \n",
      "sm_noun_chunk : []\n",
      "sm_pron : []\n",
      "berkeley_noun_chunk : []\n",
      "berkeley_pron : []\n",
      "trf_noun_chunk : []\n",
      "trf_pron : []\n",
      "\n"
     ]
    }
   ],
   "source": [
    "for utt in data[(1,1)][2]:\n",
    "    if utt['en_subtitles']!=\"\":\n",
    "        continue\n",
    "    for x in utt:\n",
    "        print(x, \":\", utt[x])\n",
    "    print()"
   ],
   "metadata": {
    "collapsed": false,
    "pycharm": {
     "name": "#%%\n"
    }
   }
  },
  {
   "cell_type": "code",
   "execution_count": null,
   "outputs": [],
   "source": [],
   "metadata": {
    "collapsed": false,
    "pycharm": {
     "name": "#%%\n"
    }
   }
  },
  {
   "cell_type": "code",
   "execution_count": 74,
   "outputs": [],
   "source": [
    "with open('scenes/train_tbbt.pkl', 'rb') as f:\n",
    "    data = pkl.load(f)"
   ],
   "metadata": {
    "collapsed": false,
    "pycharm": {
     "name": "#%%\n"
    }
   }
  },
  {
   "cell_type": "code",
   "execution_count": 75,
   "outputs": [
    {
     "name": "stdout",
     "output_type": "stream",
     "text": [
      "Leonard : Okay , well , make yourself at home .\n",
      "Penny : Okay , thankyou .\n",
      "Leonard : Thank you . You 're very welcome .\n",
      "Penny : This looks like some serious stuff . Leonard , did you do this ?\n",
      "Sheldon : Actually , that 's my work .\n",
      "Penny : Wow .\n",
      "Sheldon : Yeah , well , it 's just some quantum mechanics with a little string theory doodling around the edges . That part 's just a joke . It 's a spoof of the Born - Oppenheimer approximation .\n",
      "Penny : So you 're , like , one of those Beautiful Mind genius guys .\n",
      "Sheldon : Yeah .\n",
      "Penny : This is really impressive .\n",
      "Leonard : I have a board , if you like boards . This is my board .\n",
      "Penny : Holy smokes .\n",
      "Sheldon : Holy smokes . If by \" holy smokes , \" you mean a derivative restatement of the stuff you can find scribbled on the wall of any men 's room at MIT , sure .\n",
      "Leonard : What ?\n",
      "Sheldon : Who has n't seen this differential below \" here I sit brokenhearted \" ?\n",
      "Leonard : At least I did n't have to invent 26 dimensions just to make the math come out .\n",
      "Sheldon : I did n't invent them . They 're there .\n",
      "Leonard : In what universe ?\n",
      "Sheldon : In all of them , that is the point .\n",
      "Penny : Do you guys mind if I start ?\n",
      "Sheldon : Penny . Yeah ? That 's where I sit .\n",
      "Penny : So sit next to me .\n",
      "Sheldon : No , I sit there .\n",
      "Penny : What 's the difference ?\n",
      "Sheldon : What 's the difference ? What 's the difference ?\n",
      "Leonard : Here we go .\n",
      "Sheldon : In winter , that seat is close enough to the radiator to remain warm yet not so close as to cause perspiration . In the summer , it 's in a cross breeze created by opening windows there and there . It faces the television at an angle that is neither direct , discouraging conversation nor so far wide as to create a parallax distortion . I could go on , but I think I 've made my point .\n",
      "Penny : Do you want me to move ?\n",
      "Sheldon : Well .\n",
      "Leonard : Just sit somewhere else .\n",
      "Sheldon : Fine .\n",
      "Leonard : Sheldon , sit .\n",
      "Sheldon : Aaah !\n",
      "Leonard : Well , this is nice . We do n't have a lot of company over .\n",
      "Sheldon : That 's not true . Koothrappali and Wolowitz come over .\n",
      "Leonard : Yes , I know .\n",
      "Sheldon : Tuesday night we played Klingon Boggle until 1 in the morning .\n",
      "Leonard : Yeah , I remember .\n",
      "Sheldon : I resent you saying we do n't have company .\n",
      "Leonard : I ’m sorry .\n",
      "Sheldon : That is an antisocial implication .\n",
      "Leonard : I said I 'm sorry .\n",
      "Penny : So Klingon Boggle ?\n",
      "Leonard : Yeah . It 's like regular Boggle , but in Klingon . That 's probably enough about us . So tell us about you .\n",
      "Penny : I 'm a Sagittarius , which probably tells you way more than you need to know .\n",
      "Sheldon : Yes , it tells us that you participate in the mass cultural delusion that the sun 's position relative to arbitrary constellations at the time of your birth somehow affects your personality .\n",
      "Penny : Participate in the what ?\n",
      "Leonard : I think what Sheldon 's trying to say is that Sagittarius would n't have been our first guess .\n",
      "Penny : Oh , yeah , a lot of people think I 'm a water sign . Okay , let 's see , what else ? Oh , I 'm a vegetarian . No , except for fish , and the occasional steak .\n",
      "Sheldon : Well , that 's interesting . Leonard ca n't process corn .\n",
      "Leonard : So do you have some sort of a job ?\n",
      "Penny : Oh , yeah . I 'm a waitress at The Cheesecake Factory .\n",
      "Leonard : I love cheesecake .\n",
      "Sheldon : You 're lactose intolerant .\n",
      "Leonard : I do n't eat it , I think it 's a good idea .\n",
      "Penny : Anyways , I 'm also writing a screenplay . It 's about this sensitive girl who comes to L.A. from Lincoln , Nebraska to be an actress and winds up a waitress at The Cheesecake Factory .\n",
      "Leonard : So it 's based on your life .\n",
      "Penny : No , I 'm from Omaha .\n",
      "Leonard : If that was a movie , I would go see it .\n",
      "Penny : I know , right ? Okay , let 's see , what else ? I guess that 's about it . That 's the story of Penny .\n",
      "Leonard : Well , it sounds wonderful .\n",
      "Penny : It was . Until I fell in love with a jerk .\n",
      "Sheldon : What is happening ?\n",
      "Leonard : I do n't know .\n",
      "Penny : Oh , God , you know , four years I lived with him . Four years . That 's like as long as high school .\n",
      "Sheldon : It took you four years to get through high school ?\n",
      "Leonard : Do n’t .\n",
      "Penny : I just ... I ca n't believe I trusted him .\n",
      "Leonard : Should I say something ? I feel I should say something .\n",
      "Sheldon : You ? No , you 'll only make it worse .\n",
      "Penny : You wanna know the most pathetic part ? Even though I hate his lying , cheating guts I still love him . Is that crazy ?\n",
      "Leonard : No , it 's not crazy . It 's a ... It 's a paradox . Paradoxes are part of nature . I mean , think about light . If you look at Huygens , light is a wave , as confirmed by the double - slit experiments . But then , along comes Albert Einstein and discovers that light behaves like particles too . Well , I did n't make it worse .\n",
      "Penny : Oh , I 'm so sorry I 'm such a mess . And on top of everything else , I 'm all gross from moving and my stupid shower does n't work .\n",
      "Leonard : Our shower works .\n",
      "Penny : Really ? Would it be totally weird if I used it ?\n",
      "Sheldon : Yes .\n",
      "Sheldon : No ?\n",
      "Leonard : No .\n",
      "Sheldon : No .\n",
      "Leonard : It 's right down the hall .\n",
      "Penny : Okay , thanks . You guys are really sweet .\n",
      "Sheldon : Well , this is an interesting development .\n",
      "Leonard : How so ?\n",
      "Sheldon : It has been some time since we 've had a woman take her clothes off in our apartment .\n",
      "Leonard : That 's not true . Remember at Thanksgiving my grandmother with Alzheimer 's had that episode ?\n",
      "Sheldon : It has been some time since we 've had a woman take her clothes off after which we did n't wanna rip our eyes out .\n",
      "Leonard : The worst part was watching her carve that turkey .\n",
      "Sheldon : So , what exactly are you trying to accomplish here ?\n",
      "Leonard : Excuse me ?\n",
      "Sheldon : That woman in there is not going to have sex with you .\n",
      "Leonard : Well , I 'm not trying to have sex with her .\n",
      "Sheldon : Oh , good . Then you wo n't be disappointed .\n",
      "Leonard : What makes you think she would n't have sex with me ? I 'm a male and she 's a female .\n",
      "Sheldon : Yes , but not of the same species .\n",
      "Leonard : I 'm not gon na engage in hypotheticals here . I 'm just trying to be a good neighbor .\n",
      "Sheldon : Oh , of course .\n",
      "Leonard : That 's not to say that if a carnal relationship were to develop that I would n't participate . However briefly .\n",
      "Sheldon : Do you think this possibility will be hindered when she discovers your Luke Skywalker \" no more tears \" shampoo ?\n",
      "Leonard : It 's Darth Vader shampoo . Luke Skywalker 's the conditioner .\n",
      "Howard : Wait till you see this .\n",
      "Raj : It 's fantastic . Unbelievable .\n",
      "Leonard : See what ?\n",
      "Howard : It 's a Stephen Hawking lecture from MIT in 1974 .\n",
      "Leonard : This is n't a good time .\n",
      "Howard : It 's before he became a creepy computer voice .\n",
      "Leonard : That 's great , you guys have to go .\n",
      "Raj : Why ?\n",
      "Leonard : It 's just not a good time .\n",
      "Sheldon : Leonard has a lady over .\n",
      "Howard : Yeah , right . Your grandmother back in town ?\n",
      "Leonard : No . And she 's not a lady , she 's just a new neighbor .\n",
      "Howard : Hang on , there really is a lady here ?\n",
      "Leonard : Uh - huh .\n",
      "Howard : And you want us out because you 're anticipating coitus ?\n",
      "Leonard : I 'm not anticipating coitus .\n",
      "Howard : So she 's available for coitus ?\n",
      "Leonard : Can we please just stop saying \" coitus \" ?\n",
      "Sheldon : Technically , that would be coitus interruptus .\n",
      "Penny : Hey , is there a trick to getting it to switch from tub to shower ? Oh , hi , sorry . Hello .\n",
      "Howard : Enchanté , mademoiselle . Howard Wolowitz , CalTech Department of Applied Physics . You may be familiar with some of my work . It 's currently orbiting Jupiter 's largest moon taking high - resolution digital photographs .\n",
      "Penny : Penny . I work at The Cheesecake Factory .\n",
      "Leonard : I 'll show you the trick with the shower .\n",
      "Howard : Bon douche .\n",
      "Penny : I ’m sorry ?\n",
      "Howard : It 's French for \" good shower . \" It 's a sentiment I can express in six languages .\n",
      "Leonard : Save it for your blog , Howard .\n",
      "Howard : See - ka - tong - guay - jow .\n",
      "\n"
     ]
    }
   ],
   "source": [
    "for i in range(len(data)):\n",
    "    if data[i]['scene_id']=='s01e01c02t':\n",
    "        for x in data[i]['sentences']:\n",
    "            print(\" \".join(x))\n",
    "        print()"
   ],
   "metadata": {
    "collapsed": false,
    "pycharm": {
     "name": "#%%\n"
    }
   }
  },
  {
   "cell_type": "code",
   "execution_count": 79,
   "outputs": [
    {
     "name": "stdout",
     "output_type": "stream",
     "text": [
      "sentences : [['Sheldon', ':', 'I', 'really', 'think', 'we', 'should', 'examine', 'the', 'chain', 'of', 'causality', 'here', '.'], ['Leonard', ':', 'Must', 'we', '?'], ['Sheldon', ':', 'Event', 'A', ':', 'A', 'beautiful', 'woman', 'stands', 'naked', 'in', 'our', 'shower', '.', 'Event', 'B', ':', 'We', 'drive', 'halfway', 'across', 'town', 'to', 'retrieve', 'a', 'television', 'set', 'from', 'the', 'aforementioned', 'woman', \"'s\", 'ex', '-', 'boyfriend', '.', 'On', 'what', 'plane', 'of', 'existence', 'is', 'there', 'even', 'a', 'semi', '-', 'rational', 'link', 'between', 'these', 'events', '?'], ['Leonard', ':', 'She', 'asked', 'me', 'to', 'do', 'her', 'a', 'favor', ',', 'Sheldon', '.'], ['Sheldon', ':', 'Well', ',', 'that', 'may', 'be', 'the', 'proximal', 'cause', 'of', 'our', 'journey', 'but', 'we', 'both', 'know', 'it', 'exists', 'in', 'contradistinction', 'to', 'the', 'higher', '-', 'level', 'distal', 'cause', '.'], ['Leonard', ':', 'Which', 'is', '?'], ['Sheldon', ':', 'You', 'think', 'with', 'your', 'penis', '.'], ['Leonard', ':', 'That', \"'s\", 'a', 'biological', 'impossibility', ',', 'and', 'you', 'did', \"n't\", 'have', 'to', 'come', '.'], ['Sheldon', ':', 'I', 'could', 'have', 'stayed', 'behind', 'to', 'watch', 'Wolowitz', 'hit', 'on', 'Penny', 'in', 'Russian', ',', 'Arabic', 'and', 'Farsi', '.', 'And', 'why', 'ca', \"n't\", 'she', 'get', 'her', 'own', 'TV', '?'], ['Leonard', ':', 'Come', 'on', ',', 'you', 'know', 'how', 'it', 'is', 'with', 'breakups', '.'], ['Sheldon', ':', 'No', ',', 'I', 'do', \"n't\", ',', 'and', 'neither', 'do', 'you', '.'], ['Leonard', ':', 'But', 'I', '...', 'I', 'broke', 'up', 'with', 'Joyce', 'Kim', '.'], ['Sheldon', ':', 'You', 'did', 'not', 'break', 'up', 'with', 'Joyce', 'Kim', '.', 'She', 'defected', 'to', 'North', 'Korea', '.'], ['Leonard', ':', 'To', 'mend', 'her', 'broken', 'heart', '.', 'This', 'situation', 'is', 'much', 'less', 'complicated', '.', 'There', \"'s\", 'some', 'dispute', 'between', 'Penny', 'and', 'her', 'ex', '-', 'boyfriend', 'as', 'to', 'who', 'gets', 'custody', 'of', 'the', 'TV', '.', 'She', 'just', 'wanted', 'to', 'avoid', 'a', 'scene', 'with', 'him', '.'], ['Sheldon', ':', 'So', 'we', 'get', 'to', 'have', 'a', 'scene', 'with', 'him', '?'], ['Leonard', ':', 'No', ',', 'Sheldon', ',', 'there', \"'s\", 'not', 'going', 'to', 'be', 'a', 'scene', '.', 'There', \"'s\", 'two', 'of', 'us', 'and', 'one', 'of', 'him', '.'], ['Sheldon', ':', 'Leonard', ',', 'the', 'two', 'of', 'us', 'ca', \"n't\", 'even', 'carry', 'a', 'TV', '.']]\n",
      "\n",
      "querySpans : [{'sentenceIndex': 0, 'startToken': 2, 'endToken': 3}, {'sentenceIndex': 0, 'startToken': 5, 'endToken': 6}, {'sentenceIndex': 0, 'startToken': 8, 'endToken': 10}, {'sentenceIndex': 0, 'startToken': 11, 'endToken': 12}, {'sentenceIndex': 1, 'startToken': 3, 'endToken': 4}, {'sentenceIndex': 2, 'startToken': 2, 'endToken': 4}, {'sentenceIndex': 2, 'startToken': 5, 'endToken': 8}, {'sentenceIndex': 2, 'startToken': 11, 'endToken': 12}, {'sentenceIndex': 2, 'startToken': 11, 'endToken': 13}, {'sentenceIndex': 2, 'startToken': 14, 'endToken': 16}, {'sentenceIndex': 2, 'startToken': 17, 'endToken': 18}, {'sentenceIndex': 2, 'startToken': 21, 'endToken': 22}, {'sentenceIndex': 2, 'startToken': 24, 'endToken': 27}, {'sentenceIndex': 2, 'startToken': 28, 'endToken': 33}, {'sentenceIndex': 2, 'startToken': 34, 'endToken': 35}, {'sentenceIndex': 2, 'startToken': 37, 'endToken': 39}, {'sentenceIndex': 2, 'startToken': 40, 'endToken': 41}, {'sentenceIndex': 2, 'startToken': 42, 'endToken': 43}, {'sentenceIndex': 2, 'startToken': 43, 'endToken': 49}, {'sentenceIndex': 2, 'startToken': 50, 'endToken': 52}, {'sentenceIndex': 3, 'startToken': 2, 'endToken': 3}, {'sentenceIndex': 3, 'startToken': 4, 'endToken': 5}, {'sentenceIndex': 3, 'startToken': 7, 'endToken': 8}, {'sentenceIndex': 3, 'startToken': 8, 'endToken': 10}, {'sentenceIndex': 3, 'startToken': 11, 'endToken': 12}, {'sentenceIndex': 4, 'startToken': 4, 'endToken': 5}, {'sentenceIndex': 4, 'startToken': 7, 'endToken': 10}, {'sentenceIndex': 4, 'startToken': 11, 'endToken': 13}, {'sentenceIndex': 4, 'startToken': 11, 'endToken': 12}, {'sentenceIndex': 4, 'startToken': 14, 'endToken': 15}, {'sentenceIndex': 4, 'startToken': 15, 'endToken': 16}, {'sentenceIndex': 4, 'startToken': 17, 'endToken': 18}, {'sentenceIndex': 4, 'startToken': 20, 'endToken': 21}, {'sentenceIndex': 4, 'startToken': 22, 'endToken': 28}, {'sentenceIndex': 5, 'startToken': 2, 'endToken': 3}, {'sentenceIndex': 6, 'startToken': 2, 'endToken': 3}, {'sentenceIndex': 6, 'startToken': 5, 'endToken': 7}, {'sentenceIndex': 6, 'startToken': 5, 'endToken': 6}, {'sentenceIndex': 7, 'startToken': 2, 'endToken': 3}, {'sentenceIndex': 7, 'startToken': 4, 'endToken': 7}, {'sentenceIndex': 7, 'startToken': 9, 'endToken': 10}, {'sentenceIndex': 8, 'startToken': 2, 'endToken': 3}, {'sentenceIndex': 8, 'startToken': 9, 'endToken': 10}, {'sentenceIndex': 8, 'startToken': 12, 'endToken': 13}, {'sentenceIndex': 8, 'startToken': 14, 'endToken': 15}, {'sentenceIndex': 8, 'startToken': 16, 'endToken': 17}, {'sentenceIndex': 8, 'startToken': 18, 'endToken': 19}, {'sentenceIndex': 8, 'startToken': 24, 'endToken': 25}, {'sentenceIndex': 8, 'startToken': 26, 'endToken': 29}, {'sentenceIndex': 8, 'startToken': 26, 'endToken': 27}, {'sentenceIndex': 9, 'startToken': 5, 'endToken': 6}, {'sentenceIndex': 9, 'startToken': 8, 'endToken': 9}, {'sentenceIndex': 9, 'startToken': 11, 'endToken': 12}, {'sentenceIndex': 10, 'startToken': 4, 'endToken': 5}, {'sentenceIndex': 10, 'startToken': 11, 'endToken': 12}, {'sentenceIndex': 11, 'startToken': 2, 'endToken': 4}, {'sentenceIndex': 11, 'startToken': 3, 'endToken': 4}, {'sentenceIndex': 11, 'startToken': 5, 'endToken': 6}, {'sentenceIndex': 11, 'startToken': 9, 'endToken': 11}, {'sentenceIndex': 12, 'startToken': 2, 'endToken': 3}, {'sentenceIndex': 12, 'startToken': 8, 'endToken': 10}, {'sentenceIndex': 12, 'startToken': 11, 'endToken': 12}, {'sentenceIndex': 12, 'startToken': 14, 'endToken': 16}, {'sentenceIndex': 13, 'startToken': 4, 'endToken': 7}, {'sentenceIndex': 13, 'startToken': 4, 'endToken': 5}, {'sentenceIndex': 13, 'startToken': 8, 'endToken': 10}, {'sentenceIndex': 13, 'startToken': 15, 'endToken': 16}, {'sentenceIndex': 13, 'startToken': 17, 'endToken': 19}, {'sentenceIndex': 13, 'startToken': 20, 'endToken': 21}, {'sentenceIndex': 13, 'startToken': 22, 'endToken': 24}, {'sentenceIndex': 13, 'startToken': 22, 'endToken': 23}, {'sentenceIndex': 13, 'startToken': 25, 'endToken': 26}, {'sentenceIndex': 13, 'startToken': 28, 'endToken': 29}, {'sentenceIndex': 13, 'startToken': 30, 'endToken': 31}, {'sentenceIndex': 13, 'startToken': 32, 'endToken': 34}, {'sentenceIndex': 13, 'startToken': 35, 'endToken': 36}, {'sentenceIndex': 13, 'startToken': 40, 'endToken': 42}, {'sentenceIndex': 13, 'startToken': 43, 'endToken': 44}, {'sentenceIndex': 14, 'startToken': 3, 'endToken': 4}, {'sentenceIndex': 14, 'startToken': 7, 'endToken': 9}, {'sentenceIndex': 14, 'startToken': 10, 'endToken': 11}, {'sentenceIndex': 15, 'startToken': 6, 'endToken': 7}, {'sentenceIndex': 15, 'startToken': 12, 'endToken': 14}, {'sentenceIndex': 15, 'startToken': 15, 'endToken': 16}, {'sentenceIndex': 15, 'startToken': 19, 'endToken': 20}, {'sentenceIndex': 15, 'startToken': 23, 'endToken': 24}, {'sentenceIndex': 16, 'startToken': 2, 'endToken': 3}, {'sentenceIndex': 16, 'startToken': 7, 'endToken': 8}, {'sentenceIndex': 16, 'startToken': 12, 'endToken': 14}]\n",
      "\n",
      "candidateSpans : [{'sentenceIndex': 0, 'startToken': 2, 'endToken': 3}, {'sentenceIndex': 0, 'startToken': 5, 'endToken': 6}, {'sentenceIndex': 0, 'startToken': 8, 'endToken': 10}, {'sentenceIndex': 0, 'startToken': 11, 'endToken': 12}, {'sentenceIndex': 1, 'startToken': 3, 'endToken': 4}, {'sentenceIndex': 2, 'startToken': 2, 'endToken': 4}, {'sentenceIndex': 2, 'startToken': 5, 'endToken': 8}, {'sentenceIndex': 2, 'startToken': 11, 'endToken': 12}, {'sentenceIndex': 2, 'startToken': 11, 'endToken': 13}, {'sentenceIndex': 2, 'startToken': 14, 'endToken': 16}, {'sentenceIndex': 2, 'startToken': 17, 'endToken': 18}, {'sentenceIndex': 2, 'startToken': 21, 'endToken': 22}, {'sentenceIndex': 2, 'startToken': 24, 'endToken': 27}, {'sentenceIndex': 2, 'startToken': 28, 'endToken': 33}, {'sentenceIndex': 2, 'startToken': 34, 'endToken': 35}, {'sentenceIndex': 2, 'startToken': 37, 'endToken': 39}, {'sentenceIndex': 2, 'startToken': 40, 'endToken': 41}, {'sentenceIndex': 2, 'startToken': 42, 'endToken': 43}, {'sentenceIndex': 2, 'startToken': 43, 'endToken': 49}, {'sentenceIndex': 2, 'startToken': 50, 'endToken': 52}, {'sentenceIndex': 3, 'startToken': 2, 'endToken': 3}, {'sentenceIndex': 3, 'startToken': 4, 'endToken': 5}, {'sentenceIndex': 3, 'startToken': 7, 'endToken': 8}, {'sentenceIndex': 3, 'startToken': 8, 'endToken': 10}, {'sentenceIndex': 3, 'startToken': 11, 'endToken': 12}, {'sentenceIndex': 4, 'startToken': 4, 'endToken': 5}, {'sentenceIndex': 4, 'startToken': 7, 'endToken': 10}, {'sentenceIndex': 4, 'startToken': 11, 'endToken': 13}, {'sentenceIndex': 4, 'startToken': 11, 'endToken': 12}, {'sentenceIndex': 4, 'startToken': 14, 'endToken': 15}, {'sentenceIndex': 4, 'startToken': 15, 'endToken': 16}, {'sentenceIndex': 4, 'startToken': 17, 'endToken': 18}, {'sentenceIndex': 4, 'startToken': 20, 'endToken': 21}, {'sentenceIndex': 4, 'startToken': 22, 'endToken': 28}, {'sentenceIndex': 5, 'startToken': 2, 'endToken': 3}, {'sentenceIndex': 6, 'startToken': 2, 'endToken': 3}, {'sentenceIndex': 6, 'startToken': 5, 'endToken': 7}, {'sentenceIndex': 6, 'startToken': 5, 'endToken': 6}, {'sentenceIndex': 7, 'startToken': 2, 'endToken': 3}, {'sentenceIndex': 7, 'startToken': 4, 'endToken': 7}, {'sentenceIndex': 7, 'startToken': 9, 'endToken': 10}, {'sentenceIndex': 8, 'startToken': 2, 'endToken': 3}, {'sentenceIndex': 8, 'startToken': 9, 'endToken': 10}, {'sentenceIndex': 8, 'startToken': 12, 'endToken': 13}, {'sentenceIndex': 8, 'startToken': 14, 'endToken': 15}, {'sentenceIndex': 8, 'startToken': 16, 'endToken': 17}, {'sentenceIndex': 8, 'startToken': 18, 'endToken': 19}, {'sentenceIndex': 8, 'startToken': 24, 'endToken': 25}, {'sentenceIndex': 8, 'startToken': 26, 'endToken': 29}, {'sentenceIndex': 8, 'startToken': 26, 'endToken': 27}, {'sentenceIndex': 9, 'startToken': 5, 'endToken': 6}, {'sentenceIndex': 9, 'startToken': 8, 'endToken': 9}, {'sentenceIndex': 9, 'startToken': 11, 'endToken': 12}, {'sentenceIndex': 10, 'startToken': 4, 'endToken': 5}, {'sentenceIndex': 10, 'startToken': 11, 'endToken': 12}, {'sentenceIndex': 11, 'startToken': 2, 'endToken': 4}, {'sentenceIndex': 11, 'startToken': 3, 'endToken': 4}, {'sentenceIndex': 11, 'startToken': 5, 'endToken': 6}, {'sentenceIndex': 11, 'startToken': 9, 'endToken': 11}, {'sentenceIndex': 12, 'startToken': 2, 'endToken': 3}, {'sentenceIndex': 12, 'startToken': 8, 'endToken': 10}, {'sentenceIndex': 12, 'startToken': 11, 'endToken': 12}, {'sentenceIndex': 12, 'startToken': 14, 'endToken': 16}, {'sentenceIndex': 13, 'startToken': 4, 'endToken': 7}, {'sentenceIndex': 13, 'startToken': 4, 'endToken': 5}, {'sentenceIndex': 13, 'startToken': 8, 'endToken': 10}, {'sentenceIndex': 13, 'startToken': 15, 'endToken': 16}, {'sentenceIndex': 13, 'startToken': 17, 'endToken': 19}, {'sentenceIndex': 13, 'startToken': 20, 'endToken': 21}, {'sentenceIndex': 13, 'startToken': 22, 'endToken': 24}, {'sentenceIndex': 13, 'startToken': 22, 'endToken': 23}, {'sentenceIndex': 13, 'startToken': 25, 'endToken': 26}, {'sentenceIndex': 13, 'startToken': 28, 'endToken': 29}, {'sentenceIndex': 13, 'startToken': 30, 'endToken': 31}, {'sentenceIndex': 13, 'startToken': 32, 'endToken': 34}, {'sentenceIndex': 13, 'startToken': 35, 'endToken': 36}, {'sentenceIndex': 13, 'startToken': 40, 'endToken': 42}, {'sentenceIndex': 13, 'startToken': 43, 'endToken': 44}, {'sentenceIndex': 14, 'startToken': 3, 'endToken': 4}, {'sentenceIndex': 14, 'startToken': 7, 'endToken': 9}, {'sentenceIndex': 14, 'startToken': 10, 'endToken': 11}, {'sentenceIndex': 15, 'startToken': 6, 'endToken': 7}, {'sentenceIndex': 15, 'startToken': 12, 'endToken': 14}, {'sentenceIndex': 15, 'startToken': 15, 'endToken': 16}, {'sentenceIndex': 15, 'startToken': 19, 'endToken': 20}, {'sentenceIndex': 15, 'startToken': 23, 'endToken': 24}, {'sentenceIndex': 16, 'startToken': 2, 'endToken': 3}, {'sentenceIndex': 16, 'startToken': 7, 'endToken': 8}, {'sentenceIndex': 16, 'startToken': 12, 'endToken': 14}]\n",
      "\n",
      "clickSpans : [{'sentenceIndex': 0, 'startToken': 2, 'endToken': 3}, {'sentenceIndex': 0, 'startToken': 5, 'endToken': 6}, {'sentenceIndex': 0, 'startToken': 8, 'endToken': 10}, {'sentenceIndex': 0, 'startToken': 11, 'endToken': 12}, {'sentenceIndex': 1, 'startToken': 3, 'endToken': 4}, {'sentenceIndex': 2, 'startToken': 2, 'endToken': 4}, {'sentenceIndex': 2, 'startToken': 5, 'endToken': 8}, {'sentenceIndex': 2, 'startToken': 11, 'endToken': 12}, {'sentenceIndex': 2, 'startToken': 11, 'endToken': 13}, {'sentenceIndex': 2, 'startToken': 14, 'endToken': 16}, {'sentenceIndex': 2, 'startToken': 17, 'endToken': 18}, {'sentenceIndex': 2, 'startToken': 21, 'endToken': 22}, {'sentenceIndex': 2, 'startToken': 24, 'endToken': 27}, {'sentenceIndex': 2, 'startToken': 28, 'endToken': 33}, {'sentenceIndex': 2, 'startToken': 34, 'endToken': 35}, {'sentenceIndex': 2, 'startToken': 37, 'endToken': 39}, {'sentenceIndex': 2, 'startToken': 40, 'endToken': 41}, {'sentenceIndex': 2, 'startToken': 42, 'endToken': 43}, {'sentenceIndex': 2, 'startToken': 43, 'endToken': 49}, {'sentenceIndex': 2, 'startToken': 50, 'endToken': 52}, {'sentenceIndex': 3, 'startToken': 2, 'endToken': 3}, {'sentenceIndex': 3, 'startToken': 4, 'endToken': 5}, {'sentenceIndex': 3, 'startToken': 7, 'endToken': 8}, {'sentenceIndex': 3, 'startToken': 8, 'endToken': 10}, {'sentenceIndex': 3, 'startToken': 11, 'endToken': 12}, {'sentenceIndex': 4, 'startToken': 4, 'endToken': 5}, {'sentenceIndex': 4, 'startToken': 7, 'endToken': 10}, {'sentenceIndex': 4, 'startToken': 11, 'endToken': 13}, {'sentenceIndex': 4, 'startToken': 11, 'endToken': 12}, {'sentenceIndex': 4, 'startToken': 14, 'endToken': 15}, {'sentenceIndex': 4, 'startToken': 15, 'endToken': 16}, {'sentenceIndex': 4, 'startToken': 17, 'endToken': 18}, {'sentenceIndex': 4, 'startToken': 20, 'endToken': 21}, {'sentenceIndex': 4, 'startToken': 22, 'endToken': 28}, {'sentenceIndex': 5, 'startToken': 2, 'endToken': 3}, {'sentenceIndex': 6, 'startToken': 2, 'endToken': 3}, {'sentenceIndex': 6, 'startToken': 5, 'endToken': 7}, {'sentenceIndex': 6, 'startToken': 5, 'endToken': 6}, {'sentenceIndex': 7, 'startToken': 2, 'endToken': 3}, {'sentenceIndex': 7, 'startToken': 4, 'endToken': 7}, {'sentenceIndex': 7, 'startToken': 9, 'endToken': 10}, {'sentenceIndex': 8, 'startToken': 2, 'endToken': 3}, {'sentenceIndex': 8, 'startToken': 9, 'endToken': 10}, {'sentenceIndex': 8, 'startToken': 12, 'endToken': 13}, {'sentenceIndex': 8, 'startToken': 14, 'endToken': 15}, {'sentenceIndex': 8, 'startToken': 16, 'endToken': 17}, {'sentenceIndex': 8, 'startToken': 18, 'endToken': 19}, {'sentenceIndex': 8, 'startToken': 24, 'endToken': 25}, {'sentenceIndex': 8, 'startToken': 26, 'endToken': 29}, {'sentenceIndex': 8, 'startToken': 26, 'endToken': 27}, {'sentenceIndex': 9, 'startToken': 5, 'endToken': 6}, {'sentenceIndex': 9, 'startToken': 8, 'endToken': 9}, {'sentenceIndex': 9, 'startToken': 11, 'endToken': 12}, {'sentenceIndex': 10, 'startToken': 4, 'endToken': 5}, {'sentenceIndex': 10, 'startToken': 11, 'endToken': 12}, {'sentenceIndex': 11, 'startToken': 2, 'endToken': 4}, {'sentenceIndex': 11, 'startToken': 3, 'endToken': 4}, {'sentenceIndex': 11, 'startToken': 5, 'endToken': 6}, {'sentenceIndex': 11, 'startToken': 9, 'endToken': 11}, {'sentenceIndex': 12, 'startToken': 2, 'endToken': 3}, {'sentenceIndex': 12, 'startToken': 8, 'endToken': 10}, {'sentenceIndex': 12, 'startToken': 11, 'endToken': 12}, {'sentenceIndex': 12, 'startToken': 14, 'endToken': 16}, {'sentenceIndex': 13, 'startToken': 4, 'endToken': 7}, {'sentenceIndex': 13, 'startToken': 4, 'endToken': 5}, {'sentenceIndex': 13, 'startToken': 8, 'endToken': 10}, {'sentenceIndex': 13, 'startToken': 15, 'endToken': 16}, {'sentenceIndex': 13, 'startToken': 17, 'endToken': 19}, {'sentenceIndex': 13, 'startToken': 20, 'endToken': 21}, {'sentenceIndex': 13, 'startToken': 22, 'endToken': 24}, {'sentenceIndex': 13, 'startToken': 22, 'endToken': 23}, {'sentenceIndex': 13, 'startToken': 25, 'endToken': 26}, {'sentenceIndex': 13, 'startToken': 28, 'endToken': 29}, {'sentenceIndex': 13, 'startToken': 30, 'endToken': 31}, {'sentenceIndex': 13, 'startToken': 32, 'endToken': 34}, {'sentenceIndex': 13, 'startToken': 35, 'endToken': 36}, {'sentenceIndex': 13, 'startToken': 40, 'endToken': 42}, {'sentenceIndex': 13, 'startToken': 43, 'endToken': 44}, {'sentenceIndex': 14, 'startToken': 3, 'endToken': 4}, {'sentenceIndex': 14, 'startToken': 7, 'endToken': 9}, {'sentenceIndex': 14, 'startToken': 10, 'endToken': 11}, {'sentenceIndex': 15, 'startToken': 6, 'endToken': 7}, {'sentenceIndex': 15, 'startToken': 12, 'endToken': 14}, {'sentenceIndex': 15, 'startToken': 15, 'endToken': 16}, {'sentenceIndex': 15, 'startToken': 19, 'endToken': 20}, {'sentenceIndex': 15, 'startToken': 23, 'endToken': 24}, {'sentenceIndex': 16, 'startToken': 2, 'endToken': 3}, {'sentenceIndex': 16, 'startToken': 7, 'endToken': 8}, {'sentenceIndex': 16, 'startToken': 12, 'endToken': 14}]\n",
      "\n",
      "utterances : ['I really think we should examine the chain of causality here.', 'Must we?', 'Event A. A beautiful woman stands naked in our shower. Event B. We drive half way across town to retrieve a television set from the aforementioned woman’s ex-boyfriend. Query, on what plane of existence is there even a semi-rational link between these events?', 'She asked me to do her a favour, Sheldon.', 'Ah, yes, well that may be the proximal cause of our journey, but we both know it only exists in contradistinction to the higher level distal cause.', 'Which is?', 'You think with your penis.', 'That’s a biological impossibility and you didn’t have to come.', 'Oh, right, yes, I could have stayed behind and watched Wolowitz try to hit on Penny in Russian, Arabic and Farsi. Why can’t she get her own TV.', 'Come on, you know how it is with break-ups.', 'No I don’t. And neither do you.', 'Wuh, I, I broke up with Joyce Kim.', 'You did not break up with Joyce Kim, she defected to North Korea.', 'To mend her broken heart. This situation is much less complicated. There’s some kind of dispute between Penny and her ex-boyfriend as to who gets custody of the TV. She just wanted to avoid having a scene with him.', 'So we get to have a scene with him?', 'No, Sheldon, there’s not going to be a scene. There’s two of us and one of him.', 'Leonard, the two of us can’t even carry a TV.']\n",
      "\n",
      "utterances_with_info : ['I really think we should examine the chain of causality here.', 'Must we?', 'Event A. A beautiful woman stands naked in our shower. Event B. We drive half way across town to retrieve a television set from the aforementioned woman’s ex-boyfriend. Query, on what plane of existence is there even a semi-rational link between these events?', 'She asked me to do her a favour, Sheldon.', 'Ah, yes, well that may be the proximal cause of our journey, but we both know it only exists in contradistinction to the higher level distal cause.', 'Which is?', 'You think with your penis.', 'That’s a biological impossibility and you didn’t have to come.', 'Oh, right, yes, I could have stayed behind and watched Wolowitz try to hit on Penny in Russian, Arabic and Farsi. Why can’t she get her own TV.', 'Come on, you know how it is with break-ups.', 'No I don’t. And neither do you.', 'Wuh, I, I broke up with Joyce Kim.', 'You did not break up with Joyce Kim, she defected to North Korea.', 'To mend her broken heart. This situation is much less complicated. There’s some kind of dispute between Penny and her ex-boyfriend as to who gets custody of the TV. She just wanted to avoid having a scene with him.', 'So we get to have a scene with him?', 'No, Sheldon, there’s not going to be a scene. There’s two of us and one of him.', 'Leonard, the two of us can’t even carry a TV.']\n",
      "\n",
      "en_subtitles : ['I really think we should examine the chain of causality here.', 'Must we?', \"Event A: A beautiful woman stands naked in our shower. Event B: We drive halfway across town to retrieve a television set from the aforementioned woman's ex-boyfriend. On what plane of existence is there even a semi-rational link between these events?\", 'She asked me to do her a favor, Sheldon.', 'Well, that may be the proximal cause of our journey but we both know it exists in contradistinction to the higher-level distal cause.', 'Which is?', 'You think with your penis.', \"That's a biological impossibility, and you didn't have to come.\", \"I could have stayed behind to watch Wolowitz hit on Penny in Russian, Arabic and Farsi. And why can't she get her own TV?\", 'Come on, you know how it is with breakups.', \"No, I don't, and neither do you.\", 'But I... I broke up with Joyce Kim.', 'You did not break up with Joyce Kim. She defected to North Korea.', \"To mend her broken heart. This situation is much less complicated. There's some dispute between Penny and her ex-boyfriend as to who gets custody of the TV. She just wanted to avoid a scene with him.\", 'So we get to have a scene with him?', \"No, Sheldon, there's not going to be a scene. There's two of us and one of him.\", \"Leonard, the two of us can't even carry a TV.\"]\n",
      "\n",
      "zh_subtitles : ['我们得回顾下这起事件的前因后果', '一定要吗?', '事件A: 一个美女在我们的浴室裸体 事件B: 我们开车穿越整个小镇 就为了搬台电视机回来 目的地就在刚刚提到的美女的前男友家 提问:', '因为Penny请我帮个忙', '是啊 那也许是最近似可能的起因了 但我们都知道 它和更高级的末端起因截然不同', '那是什么意思?', '你用你的老二思考', '这在生理上是不可能的 你也不一定要来啊', '对 我可以留在家里看着Wolowitz 试图用俄语 阿拉伯语及波斯语搭讪Penny 她为什么不能自己去拿?', '你知道分手这种事啦', '不 我不知道 你也不知道', '什么啊 我跟Joyce Kim分过手', '你才没有和Joyce Kim分手 是她跑到韩国去了', '为了修复她受伤的心灵 现在这情况更加复杂 Penny和她前男友不能达成一致 究竟电视机该归谁 她不想再和他当面争执', '所以我们去和他当面争执?', '根本不会有争执 我们两人 他一人', '我们俩加起来都抗不动一台电视']\n",
      "\n",
      "fa_subtitles : ['فکر کنم بهتره سلسله اتفاقات رو بررسي کنيم -لازمه؟', 'اتفاق اول', 'يک زن خوشگل لخت زير دوش ماست اتفاق دوم... مانصف طول شهر رو رانندگي ميکنيم تا يک دستگاه تلويزيون رو پس بگيريم از دوست پسر پني سوال... در کدام صفحه از کائنات', 'شلدون ، اون از من خواهش کرد که کاري براش انجام بدم', 'بله ، و اين ميتونه دليل شروع رانندگي تو باشه اما ما هردمون ميدونيم که اين دليل فقط در برابر دليل دوربرد ديگري وجود داره', 'که اون چيه؟', 'تو رو کيرت حرف ميزني', 'اين از نظر زيست شناسي غير ممکنه و تو هم مجبور نبودي بياي', 'آره من ميتونستم تو خونه بشينم و لاس زدن والوويتز با پني رو تماشا کنم به زبان هاي روسي ، عربي و فارسي چرا پني نميتونه تلويزيون شخصي خودشو داشته باشه', 'بيخيال ، خودت هم ميدوني اوضاع افرادي که از هم جدا ميشن چطوريه', 'نه نميدونم ... تو هم نميدوني', 'من و جويس کين از هم جدا شديم', 'تو از اون جدا نشدي بلکه اون ول کرد رفت کره شمالي', 'تا قلب شکسته شو التيام بده اين موقعيت الان پيچيدگي کمتري داره يه نوع مشاجره بين پني و دوست پسر قبليش وجود داره سر اين که کي تلويزيون رو پيش خودش نگه داره پني ديگه نميخواد باهاش روبرو بشه', 'پس ما قرار با اون روبرو بشيم؟', 'نه اين يه رودرويي نيست چون ما دو نفريم و اون يک نفر', 'لئونارد هر دو تاي ما حتي نميتونيم يه تلويزيون رو جابجا کنيم']\n",
      "\n",
      "scene_id : s01e01c04t\n",
      "\n"
     ]
    }
   ],
   "source": [
    "k = 4\n",
    "for item in data[k]:\n",
    "    print(item, \":\", data[k][item])\n",
    "    print()"
   ],
   "metadata": {
    "collapsed": false,
    "pycharm": {
     "name": "#%%\n"
    }
   }
  },
  {
   "cell_type": "code",
   "execution_count": 61,
   "outputs": [
    {
     "name": "stdout",
     "output_type": "stream",
     "text": [
      "11\n"
     ]
    }
   ],
   "source": [
    "print(len(data))"
   ],
   "metadata": {
    "collapsed": false,
    "pycharm": {
     "name": "#%%\n"
    }
   }
  },
  {
   "cell_type": "code",
   "execution_count": null,
   "outputs": [],
   "source": [],
   "metadata": {
    "collapsed": false,
    "pycharm": {
     "name": "#%%\n"
    }
   }
  }
 ],
 "metadata": {
  "kernelspec": {
   "display_name": "Python 3",
   "language": "python",
   "name": "python3"
  },
  "language_info": {
   "codemirror_mode": {
    "name": "ipython",
    "version": 2
   },
   "file_extension": ".py",
   "mimetype": "text/x-python",
   "name": "python",
   "nbconvert_exporter": "python",
   "pygments_lexer": "ipython2",
   "version": "2.7.6"
  }
 },
 "nbformat": 4,
 "nbformat_minor": 0
}
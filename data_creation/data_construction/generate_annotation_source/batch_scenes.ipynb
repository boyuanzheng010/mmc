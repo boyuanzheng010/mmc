{
 "cells": [
  {
   "cell_type": "code",
   "execution_count": 5,
   "metadata": {
    "collapsed": true,
    "pycharm": {
     "name": "#%%\n"
    }
   },
   "outputs": [],
   "source": [
    "import os\n",
    "import pickle as pkl\n",
    "\n",
    "import numpy as np\n",
    "from matplotlib import pyplot as plt\n",
    "from collections import Counter\n",
    "from copy import deepcopy\n",
    "%matplotlib inline\n",
    "# %config InlineBackend.figure_format = 'svg'\n",
    "\n",
    "from utils import count_scene_mentions"
   ]
  },
  {
   "cell_type": "code",
   "execution_count": 6,
   "outputs": [],
   "source": [
    "def count_scene_mention_number(scenes):\n",
    "    count = 0\n",
    "    for scene in scenes:\n",
    "        count += len(scene['querySpans'])\n",
    "    return count"
   ],
   "metadata": {
    "collapsed": false,
    "pycharm": {
     "name": "#%%\n"
    }
   }
  },
  {
   "cell_type": "code",
   "execution_count": 7,
   "outputs": [],
   "source": [
    "def count_batch_mention_number(batches):\n",
    "    count_list = []\n",
    "    for batch in batches:\n",
    "        count_temp = []\n",
    "        for scene in batch:\n",
    "            count_temp.append(len(scene['querySpans']))\n",
    "        count_list.append(count_temp)\n",
    "    return count_list"
   ],
   "metadata": {
    "collapsed": false,
    "pycharm": {
     "name": "#%%\n"
    }
   }
  },
  {
   "cell_type": "code",
   "execution_count": 8,
   "outputs": [],
   "source": [
    "def get_batches_1(scenes):\n",
    "    # Batch using threshold of 270 mentions\n",
    "    batches = []\n",
    "    temp = []\n",
    "    num_mentions = 0\n",
    "    for scene in scenes:\n",
    "        length = len(scene['querySpans'])\n",
    "        if length + num_mentions > 270:\n",
    "            batches.append(temp)\n",
    "            # Re-Initialize the temp and num_mentions\n",
    "            temp = [scene]\n",
    "            num_mentions = length\n",
    "        else:\n",
    "            temp.append(scene)\n",
    "            num_mentions += length\n",
    "\n",
    "    # Add the remaining batch\n",
    "    batches.append(temp)\n",
    "    return batches"
   ],
   "metadata": {
    "collapsed": false,
    "pycharm": {
     "name": "#%%\n"
    }
   }
  },
  {
   "cell_type": "code",
   "execution_count": 9,
   "outputs": [],
   "source": [
    "def split_by_length_2(batches):\n",
    "    # Split into regular and long\n",
    "    small = []\n",
    "    medium = []\n",
    "    large = []\n",
    "    for batch in batches:\n",
    "        length = count_scene_mention_number(batch)\n",
    "        if length <=150:\n",
    "            small.append(batch)\n",
    "        elif length<=300:\n",
    "            medium.append(batch)\n",
    "        else:\n",
    "            large.append(batch)\n",
    "\n",
    "    return small, medium, large"
   ],
   "metadata": {
    "collapsed": false,
    "pycharm": {
     "name": "#%%\n"
    }
   }
  },
  {
   "cell_type": "code",
   "execution_count": 10,
   "outputs": [],
   "source": [
    "def add_small_to_medium_3(small, medium):\n",
    "    # Merge small batches into medium\n",
    "    sorted_small = sorted(small, key = lambda x: count_scene_mention_number(x), reverse=True)\n",
    "    for batch in sorted_small:\n",
    "        # Locate smallest batch in medium\n",
    "        index = -1\n",
    "        minimum = 10000\n",
    "        for j in range(len(medium)):\n",
    "            length = count_scene_mention_number(medium[j])\n",
    "            if length < minimum:\n",
    "                minimum = length\n",
    "                index = j\n",
    "        medium[index].extend(batch)\n",
    "\n",
    "    return medium"
   ],
   "metadata": {
    "collapsed": false,
    "pycharm": {
     "name": "#%%\n"
    }
   }
  },
  {
   "cell_type": "code",
   "execution_count": 25,
   "outputs": [],
   "source": [
    "def batch_pipeline(data):\n",
    "    batches = get_batches_1(data)\n",
    "    small, medium, large = split_by_length_2(batches)\n",
    "    merged_medium = add_small_to_medium_3(small, medium)\n",
    "    return merged_medium, large"
   ],
   "metadata": {
    "collapsed": false,
    "pycharm": {
     "name": "#%%\n"
    }
   }
  },
  {
   "cell_type": "code",
   "execution_count": 63,
   "outputs": [],
   "source": [
    "input_root = \"scenes/\"\n",
    "output_root = \"batched_data/\""
   ],
   "metadata": {
    "collapsed": false,
    "pycharm": {
     "name": "#%%\n"
    }
   }
  },
  {
   "cell_type": "code",
   "execution_count": 64,
   "outputs": [
    {
     "name": "stdout",
     "output_type": "stream",
     "text": [
      "Medium: 66 225 236\n",
      "large: 2 4 517\n"
     ]
    }
   ],
   "source": [
    "# Batch Dev\n",
    "file_name = \"dev_all\"\n",
    "with open(input_root+file_name+\".pkl\", 'rb') as f:\n",
    "    data = pkl.load(f)\n",
    "    medium, large = batch_pipeline(data)\n",
    "    print(\"Medium:\", len(medium), sum([len(item) for item in medium]), int(sum([sum(item) for item in count_batch_mention_number(medium)])/len(medium)))\n",
    "    print(\"large:\", len(large), sum([len(large) for item in large]), int(sum([sum(item) for item in count_batch_mention_number(large)])/len(large)))\n",
    "    with open(output_root+file_name+\"_medium.pkl\", 'wb') as f:\n",
    "        pkl.dump(medium, f)\n",
    "    with open(output_root+file_name+\"_large.pkl\", 'wb') as f:\n",
    "        pkl.dump(large, f)"
   ],
   "metadata": {
    "collapsed": false,
    "pycharm": {
     "name": "#%%\n"
    }
   }
  },
  {
   "cell_type": "code",
   "execution_count": 81,
   "outputs": [
    {
     "name": "stdout",
     "output_type": "stream",
     "text": [
      "244.26470588235293\n",
      "482.0\n"
     ]
    }
   ],
   "source": [
    "print((66*236+2*517)/(66+2))\n",
    "\n",
    "print((66*3.5+2*5)*2)"
   ],
   "metadata": {
    "collapsed": false,
    "pycharm": {
     "name": "#%%\n"
    }
   }
  },
  {
   "cell_type": "code",
   "execution_count": 65,
   "outputs": [
    {
     "name": "stdout",
     "output_type": "stream",
     "text": [
      "Medium: 69 273 239\n",
      "large: 0 0\n"
     ]
    }
   ],
   "source": [
    "# Batch Test\n",
    "file_name = \"test_all\"\n",
    "with open(input_root+file_name+\".pkl\", 'rb') as f:\n",
    "    data = pkl.load(f)\n",
    "    medium, large = batch_pipeline(data)\n",
    "    print(\"Medium:\", len(medium), sum([len(item) for item in medium]), int(sum([sum(item) for item in count_batch_mention_number(medium)])/len(medium)))\n",
    "    print(\"large:\", len(large), sum([len(large) for item in large]))\n",
    "    with open(output_root+file_name+\"_medium.pkl\", 'wb') as f:\n",
    "        pkl.dump(medium, f)\n",
    "    with open(output_root+file_name+\"_large.pkl\", 'wb') as f:\n",
    "        pkl.dump(large, f)"
   ],
   "metadata": {
    "collapsed": false,
    "pycharm": {
     "name": "#%%\n"
    }
   }
  },
  {
   "cell_type": "code",
   "execution_count": 83,
   "outputs": [
    {
     "name": "stdout",
     "output_type": "stream",
     "text": [
      "483.0\n"
     ]
    }
   ],
   "source": [
    "print(69*3.5*2)"
   ],
   "metadata": {
    "collapsed": false,
    "pycharm": {
     "name": "#%%\n"
    }
   }
  },
  {
   "cell_type": "code",
   "execution_count": 66,
   "outputs": [
    {
     "name": "stdout",
     "output_type": "stream",
     "text": [
      "Medium: 304 957 234\n",
      "large: 2 4 374\n"
     ]
    }
   ],
   "source": [
    "# Batch Train No Extension\n",
    "file_name = \"train_all_no_extend\"\n",
    "with open(input_root+file_name+\".pkl\", 'rb') as f:\n",
    "    data = pkl.load(f)\n",
    "    medium, large = batch_pipeline(data)\n",
    "    print(\"Medium:\", len(medium), sum([len(item) for item in medium]), int(sum([sum(item) for item in count_batch_mention_number(medium)])/len(medium)))\n",
    "    print(\"large:\", len(large), sum([len(large) for item in large]), int(sum([sum(item) for item in count_batch_mention_number(large)])/len(large)))\n",
    "    with open(output_root+file_name+\"_medium.pkl\", 'wb') as f:\n",
    "        pkl.dump(medium, f)\n",
    "    with open(output_root+file_name+\"_large.pkl\", 'wb') as f:\n",
    "        pkl.dump(large, f)"
   ],
   "metadata": {
    "collapsed": false,
    "pycharm": {
     "name": "#%%\n"
    }
   }
  },
  {
   "cell_type": "code",
   "execution_count": 84,
   "outputs": [
    {
     "name": "stdout",
     "output_type": "stream",
     "text": [
      "234.91503267973857\n",
      "1074.0\n"
     ]
    }
   ],
   "source": [
    "print((304*234+2*374)/(304+2))\n",
    "\n",
    "print(304*3.5+2*5)"
   ],
   "metadata": {
    "collapsed": false,
    "pycharm": {
     "name": "#%%\n"
    }
   }
  },
  {
   "cell_type": "code",
   "execution_count": 67,
   "outputs": [
    {
     "name": "stdout",
     "output_type": "stream",
     "text": [
      "Medium: 220 767 234\n",
      "large: 6 36 363\n"
     ]
    }
   ],
   "source": [
    "# Batch Train Extension\n",
    "file_name = \"train_extension\"\n",
    "with open(input_root+file_name+\".pkl\", 'rb') as f:\n",
    "    data = pkl.load(f)\n",
    "    medium, large = batch_pipeline(data)\n",
    "    print(\"Medium:\", len(medium), sum([len(item) for item in medium]), int(sum([sum(item) for item in count_batch_mention_number(medium)])/len(medium)))\n",
    "    print(\"large:\", len(large), sum([len(large) for item in large]), int(sum([sum(item) for item in count_batch_mention_number(large)])/len(large)))\n",
    "    with open(output_root+file_name+\"_medium.pkl\", 'wb') as f:\n",
    "        pkl.dump(medium, f)\n",
    "    with open(output_root+file_name+\"_large.pkl\", 'wb') as f:\n",
    "        pkl.dump(large, f)"
   ],
   "metadata": {
    "collapsed": false,
    "pycharm": {
     "name": "#%%\n"
    }
   }
  },
  {
   "cell_type": "code",
   "execution_count": 85,
   "outputs": [
    {
     "name": "stdout",
     "output_type": "stream",
     "text": [
      "237.42477876106196\n",
      "800.0\n"
     ]
    }
   ],
   "source": [
    "print((220*234+6*363)/(220+6))\n",
    "\n",
    "print(220*3.5+6*5)"
   ],
   "metadata": {
    "collapsed": false,
    "pycharm": {
     "name": "#%%\n"
    }
   }
  },
  {
   "cell_type": "code",
   "execution_count": 73,
   "outputs": [
    {
     "data": {
      "text/plain": "236.6997518610422"
     },
     "execution_count": 73,
     "metadata": {},
     "output_type": "execute_result"
    }
   ],
   "source": [
    "(244*136+235*138+234*306+237*226)/806"
   ],
   "metadata": {
    "collapsed": false,
    "pycharm": {
     "name": "#%%\n"
    }
   }
  },
  {
   "cell_type": "code",
   "execution_count": 74,
   "outputs": [
    {
     "name": "stdout",
     "output_type": "stream",
     "text": [
      "16.266666666666666\n",
      "15.666666666666666\n",
      "15.6\n",
      "15.8\n",
      "15.8\n"
     ]
    }
   ],
   "source": [
    "for item in [244, 235, 234, 237, 237]:\n",
    "    print(item*4/60)"
   ],
   "metadata": {
    "collapsed": false,
    "pycharm": {
     "name": "#%%\n"
    }
   }
  },
  {
   "cell_type": "code",
   "execution_count": 78,
   "outputs": [
    {
     "name": "stdout",
     "output_type": "stream",
     "text": [
      "36.87111111111111\n",
      "36.03333333333333\n",
      "79.56\n",
      "59.513333333333335\n",
      "212.24666666666664\n"
     ]
    }
   ],
   "source": [
    "for a, b in zip([244, 235, 234, 237, 237], [136, 138, 306, 226, 806]):\n",
    "    print(a*b*4/60/60)"
   ],
   "metadata": {
    "collapsed": false,
    "pycharm": {
     "name": "#%%\n"
    }
   }
  },
  {
   "cell_type": "code",
   "execution_count": 79,
   "outputs": [
    {
     "name": "stdout",
     "output_type": "stream",
     "text": [
      "476.0\n",
      "483.0\n",
      "1071.0\n",
      "791.0\n",
      "2821.0\n"
     ]
    }
   ],
   "source": [
    "for item in [136, 138, 306, 226, 806]:\n",
    "    print(item*3.5)"
   ],
   "metadata": {
    "collapsed": false,
    "pycharm": {
     "name": "#%%\n"
    }
   }
  },
  {
   "cell_type": "code",
   "execution_count": 86,
   "outputs": [
    {
     "name": "stdout",
     "output_type": "stream",
     "text": [
      "2839\n"
     ]
    }
   ],
   "source": [
    "print(482+483+1074+800)"
   ],
   "metadata": {
    "collapsed": false,
    "pycharm": {
     "name": "#%%\n"
    }
   }
  },
  {
   "cell_type": "code",
   "execution_count": 87,
   "outputs": [
    {
     "data": {
      "text/plain": "247.5"
     },
     "execution_count": 87,
     "metadata": {},
     "output_type": "execute_result"
    }
   ],
   "source": [
    "2839-2591.5"
   ],
   "metadata": {
    "collapsed": false,
    "pycharm": {
     "name": "#%%\n"
    }
   }
  },
  {
   "cell_type": "code",
   "execution_count": null,
   "outputs": [],
   "source": [],
   "metadata": {
    "collapsed": false,
    "pycharm": {
     "name": "#%%\n"
    }
   }
  },
  {
   "cell_type": "code",
   "execution_count": null,
   "outputs": [],
   "source": [
    "# Batch Dev\n",
    "file_name = \"dev_all\"\n",
    "with open(input_root+file_name+\".pkl\", 'rb') as f:\n",
    "    dev = pkl.load(f)\n",
    "    medium, large = batch_pipeline(dev)\n",
    "    print(\"Medium:\", len(medium), sum([len(item) for item in medium]), int(sum([sum(item) for item in count_batch_mention_number(medium)])/len(medium)))\n",
    "    print(\"large:\", len(large), sum([len(large) for item in large]), int(sum([sum(item) for item in count_batch_mention_number(large)])/len(large)))\n",
    "    with open(output_root+file_name+\"_medium.pkl\", 'wb') as f:\n",
    "        pkl.dump(medium, f)\n",
    "    with open(output_root+file_name+\"_large.pkl\", 'wb') as f:\n",
    "        pkl.dump(large, f)"
   ],
   "metadata": {
    "collapsed": false,
    "pycharm": {
     "name": "#%%\n"
    }
   }
  },
  {
   "cell_type": "code",
   "execution_count": null,
   "outputs": [],
   "source": [
    "# Batch Dev\n",
    "file_name = \"dev_all\"\n",
    "with open(input_root+file_name+\".pkl\", 'rb') as f:\n",
    "    dev = pkl.load(f)\n",
    "    medium, large = batch_pipeline(dev)\n",
    "    print(\"Medium:\", len(medium), sum([len(item) for item in medium]), int(sum([sum(item) for item in count_batch_mention_number(medium)])/len(medium)))\n",
    "    print(\"large:\", len(large), sum([len(large) for item in large]), int(sum([sum(item) for item in count_batch_mention_number(large)])/len(large)))\n",
    "    with open(output_root+file_name+\"_medium.pkl\", 'wb') as f:\n",
    "        pkl.dump(medium, f)\n",
    "    with open(output_root+file_name+\"_large.pkl\", 'wb') as f:\n",
    "        pkl.dump(large, f)"
   ],
   "metadata": {
    "collapsed": false,
    "pycharm": {
     "name": "#%%\n"
    }
   }
  },
  {
   "cell_type": "code",
   "execution_count": null,
   "outputs": [],
   "source": [
    "# Batch Dev\n",
    "file_name = \"dev_all\"\n",
    "with open(input_root+file_name+\".pkl\", 'rb') as f:\n",
    "    dev = pkl.load(f)\n",
    "    medium, large = batch_pipeline(dev)\n",
    "    print(\"Medium:\", len(medium), sum([len(item) for item in medium]), int(sum([sum(item) for item in count_batch_mention_number(medium)])/len(medium)))\n",
    "    print(\"large:\", len(large), sum([len(large) for item in large]), int(sum([sum(item) for item in count_batch_mention_number(large)])/len(large)))\n",
    "    with open(output_root+file_name+\"_medium.pkl\", 'wb') as f:\n",
    "        pkl.dump(medium, f)\n",
    "    with open(output_root+file_name+\"_large.pkl\", 'wb') as f:\n",
    "        pkl.dump(large, f)"
   ],
   "metadata": {
    "collapsed": false,
    "pycharm": {
     "name": "#%%\n"
    }
   }
  },
  {
   "cell_type": "code",
   "execution_count": null,
   "outputs": [],
   "source": [],
   "metadata": {
    "collapsed": false,
    "pycharm": {
     "name": "#%%\n"
    }
   }
  },
  {
   "cell_type": "code",
   "execution_count": null,
   "outputs": [],
   "source": [
    "# Batch Test\n",
    "with open('scenes/test_all.pkl', 'rb') as f:\n",
    "    test = pkl.load(f)\n",
    "    medium, large = batch_pipeline(test)\n",
    "    print(\"Medium:\", len(medium), sum([len(item) for item in medium]), int(sum([sum(item) for item in count_batch_mention_number(medium)])/len(medium)))\n",
    "    print(\"large:\", len(large), sum([len(large) for item in large]))"
   ],
   "metadata": {
    "collapsed": false,
    "pycharm": {
     "name": "#%%\n"
    }
   }
  },
  {
   "cell_type": "code",
   "execution_count": 46,
   "outputs": [
    {
     "name": "stdout",
     "output_type": "stream",
     "text": [
      "Medium: 304 957 234\n",
      "large: 2 4 374\n"
     ]
    }
   ],
   "source": [
    "# Batch Train\n",
    "with open('scenes/train_all_no_extend.pkl', 'rb') as f:\n",
    "    train = pkl.load(f)\n",
    "    medium, large = batch_pipeline(train)\n",
    "    print(\"Medium:\", len(medium), sum([len(item) for item in medium]), int(sum([sum(item) for item in count_batch_mention_number(medium)])/len(medium)))\n",
    "    print(\"large:\", len(large), sum([len(large) for item in large]), int(sum([sum(item) for item in count_batch_mention_number(large)])/len(large)))"
   ],
   "metadata": {
    "collapsed": false,
    "pycharm": {
     "name": "#%%\n"
    }
   }
  },
  {
   "cell_type": "code",
   "execution_count": 47,
   "outputs": [
    {
     "name": "stdout",
     "output_type": "stream",
     "text": [
      "Medium: 220 767 234\n",
      "large: 6 36 363\n"
     ]
    }
   ],
   "source": [
    "# Batch Train Extension\n",
    "with open('scenes/train_extension.pkl', 'rb') as f:\n",
    "    extension = pkl.load(f)\n",
    "    medium, large = batch_pipeline(extension)\n",
    "    print(\"Medium:\", len(medium), sum([len(item) for item in medium]), int(sum([sum(item) for item in count_batch_mention_number(medium)])/len(medium)))\n",
    "    print(\"large:\", len(large), sum([len(large) for item in large]), int(sum([sum(item) for item in count_batch_mention_number(large)])/len(large)))"
   ],
   "metadata": {
    "collapsed": false,
    "pycharm": {
     "name": "#%%\n"
    }
   }
  },
  {
   "cell_type": "code",
   "execution_count": null,
   "outputs": [],
   "source": [],
   "metadata": {
    "collapsed": false,
    "pycharm": {
     "name": "#%%\n"
    }
   }
  },
  {
   "cell_type": "code",
   "execution_count": null,
   "outputs": [],
   "source": [],
   "metadata": {
    "collapsed": false,
    "pycharm": {
     "name": "#%%\n"
    }
   }
  },
  {
   "cell_type": "code",
   "execution_count": null,
   "outputs": [],
   "source": [],
   "metadata": {
    "collapsed": false,
    "pycharm": {
     "name": "#%%\n"
    }
   }
  },
  {
   "cell_type": "code",
   "execution_count": null,
   "outputs": [],
   "source": [],
   "metadata": {
    "collapsed": false,
    "pycharm": {
     "name": "#%%\n"
    }
   }
  },
  {
   "cell_type": "code",
   "execution_count": null,
   "outputs": [],
   "source": [],
   "metadata": {
    "collapsed": false,
    "pycharm": {
     "name": "#%%\n"
    }
   }
  },
  {
   "cell_type": "code",
   "execution_count": null,
   "outputs": [],
   "source": [],
   "metadata": {
    "collapsed": false,
    "pycharm": {
     "name": "#%%\n"
    }
   }
  },
  {
   "cell_type": "code",
   "execution_count": null,
   "outputs": [],
   "source": [
    "with open('scenes/train_all.pkl', 'rb') as f:\n",
    "    train = pkl.load(f)\n",
    "with open('scenes/dev_all.pkl', 'rb') as f:\n",
    "    dev = pkl.load(f)\n",
    "with open('scenes/test_all.pkl', 'rb') as f:\n",
    "    test = pkl.load(f)"
   ],
   "metadata": {
    "collapsed": false,
    "pycharm": {
     "name": "#%%\n"
    }
   }
  },
  {
   "cell_type": "code",
   "execution_count": 255,
   "outputs": [
    {
     "name": "stdout",
     "output_type": "stream",
     "text": [
      "Small: 34 58\n",
      "[['s01e07c00t||132'], ['s01e10c04t||143'], ['s01e13c04t||144'], ['s01e14c05t||112', 's01e14c06t||29'], ['s01e16c01t||145'], ['s02e04c02t||129'], ['s04e05c02t||114'], ['s04e06c06t||94'], ['s04e08c00t||100'], ['s04e22c00t||46'], ['s04e22c03t||83', 's04e22c04t||35'], ['s04e23c05t||138'], ['s05e20c07t||110'], ['s06e19c08t||19', 's06e19c09t||54'], ['s08e18c10t||54'], ['s08e22c03t||67', 's08e22c04t||31', 's08e22c05t||44'], ['s08e23c04t||91', 's08e23c05t||47'], ['s01e07c02f||35', 's01e07c03f||43', 's01e07c04f||12', 's01e07c05f||16', 's01e07c06f||36'], ['s01e21c11fe||64', 's01e21c12fe||8', 's01e21c13fe||73'], ['s02e06c02fe||59'], ['s02e06c04fe||68', 's02e07c00fe||50', 's02e07c01fe||7', 's02e07c02fe||6'], ['s02e07c10fe||84', 's02e08c00fe||54', 's02e08c01fe||4'], ['s02e08c05fe||91', 's02e08c06fe||23'], ['s02e18c08fe||93', 's02e18c09fe||52'], ['s02e20c05fe||109'], ['s02e22c00fe||55', 's02e22c01fe||90'], ['s03e09c01fe||123'], ['s03e11c10fe||146'], ['s05e02c02fe||123', 's05e02c03fe||17'], ['s05e08c06fe||74', 's05e08c07fe||35'], ['s05e13c08fe||55', 's05e13c09fe||70'], ['s05e19c00fe||68'], ['s05e23c00fe||91'], ['s06e20c05fe||71', 's06e20c06fe||44']]\n",
      "Medium: 524 1724\n",
      "[['s01e01c00t||116', 's01e01c01t||135'], ['s01e01c03t||29', 's01e01c04t||89', 's01e01c05t||15', 's01e01c06t||48', 's01e01c07t||18', 's01e01c08t||9', 's01e01c09t||43'], ['s01e01c10t||63', 's01e03c00t||95', 's02e22c00fe||55', 's02e22c01fe||90'], ['s01e03c01t||161', 's01e03c02t||91'], ['s01e03c03t||78', 's01e03c04t||11', 's01e03c05t||79', 's01e03c06t||70'], ['s01e03c07t||176'], ['s01e03c08t||124', 's01e03c09t||47', 's01e04c00t||88'], ['s01e04c01t||41', 's01e04c02t||14', 's01e04c03t||98', 's01e04c04t||74'], ['s01e04c05t||56', 's01e04c06t||49', 's01e04c07t||53', 's01e04c08t||93'], ['s01e04c09t||201', 's01e04c10t||67'], ['s01e04c11t||11', 's01e04c12t||48', 's01e05c00t||199'], ['s01e05c01t||58', 's01e05c02t||99', 's01e05c03t||103', 's01e05c04t||0'], ['s01e05c05t||72', 's01e05c06t||96', 's01e05c07t||90'], ['s01e07c01t||296'], ['s01e07c02t||194'], ['s01e07c03t||141', 's01e07c04t||123'], ['s01e07c05t||81', 's01e09c00t||101'], ['s01e09c01t||193'], ['s01e09c02t||138', 's01e09c03t||114'], ['s01e09c04t||38', 's01e09c05t||50', 's01e09c06t||156'], ['s01e09c07t||88', 's01e10c00t||131'], ['s01e10c01t||86', 's01e10c02t||30', 's01e10c03t||46', 's01e14c05t||112', 's01e14c06t||29'], ['s01e10c05t||154', 's01e10c06t||75'], ['s01e10c07t||208'], ['s01e11c00t||85', 's01e11c01t||81', 's01e11c02t||60'], ['s01e11c03t||85', 's01e11c04t||66', 's01e11c05t||58'], ['s01e11c06t||74', 's01e11c07t||48', 's01e11c08t||38', 's08e22c03t||67', 's08e22c04t||31', 's08e22c05t||44'], ['s01e13c00t||120', 's01e13c01t||66'], ['s01e13c02t||127', 's01e13c03t||101'], ['s01e13c05t||251'], ['s01e14c00t||111', 's01e14c01t||2', 's01e14c02t||45', 's01e14c03t||74'], ['s01e14c04t||241'], ['s01e14c07t||245'], ['s01e15c00t||121', 's01e15c01t||90'], ['s01e15c02t||90', 's01e15c03t||129'], ['s01e15c04t||91', 's01e15c05t||126'], ['s01e15c06t||109', 's01e15c07t||4', 's01e15c08t||97'], ['s01e16c00t||185'], ['s01e16c02t||134', 's01e16c03t||41', 's01e16c04t||44', 's01e16c05t||44'], ['s01e16c06t||99', 's01e16c07t||139', 's01e16c08t||25'], ['s01e16c09t||15', 's02e04c00t||170', 's02e04c01t||65'], ['s02e04c03t||182'], ['s02e04c04t||282'], ['s02e04c05t||101', 's02e06c00t||81'], ['s02e06c01t||152', 's02e06c02t||17', 's06e20c05fe||71', 's06e20c06fe||44'], ['s02e06c03t||124', 's02e06c04t||73'], ['s02e06c05t||116', 's02e06c06t||80'], ['s02e06c07t||75', 's02e06c08t||36', 's02e06c09t||2', 's02e06c10t||44', 's02e18c08fe||93', 's02e18c09fe||52'], ['s03e21c00t||170', 's03e21c01t||71'], ['s03e21c02t||118', 's03e21c03t||54', 's03e21c04t||88'], ['s03e21c05t||39', 's03e21c06t||172'], ['s03e21c07t||107', 's03e21c08t||119'], ['s03e23c00t||106', 's03e23c01t||54', 's01e07c02f||35', 's01e07c03f||43', 's01e07c04f||12', 's01e07c05f||16', 's01e07c06f||36'], ['s03e23c02t||124', 's03e23c03t||70', 's03e23c04t||42'], ['s03e23c05t||71', 's03e23c06t||53', 's03e23c07t||48', 's03e23c08t||50'], ['s03e23c09t||152', 's03e23c10t||16', 's04e01c00t||71'], ['s04e01c01t||203'], ['s04e01c02t||74', 's04e01c03t||10', 's04e01c04t||67', 's04e01c05t||26', 's04e01c06t||62'], ['s04e01c07t||91', 's04e01c08t||132'], ['s04e01c09t||58', 's04e03c00t||130'], ['s04e03c01t||143', 's04e03c02t||96'], ['s04e03c03t||82', 's04e03c04t||129', 's04e03c05t||50'], ['s04e03c06t||72', 's04e03c07t||100', 's04e03c08t||89'], ['s04e03c09t||137', 's04e04c00t||109'], ['s04e04c01t||102', 's04e04c02t||112'], ['s04e04c03t||138', 's04e04c04t||92'], ['s04e04c05t||151', 's04e04c06t||58', 's04e04c07t||49'], ['s04e05c00t||89', 's04e05c01t||73', 's05e02c02fe||123', 's05e02c03fe||17'], ['s04e05c03t||197'], ['s04e05c04t||78', 's04e05c05t||87', 's04e05c06t||54', 's04e05c07t||29', 's04e05c08t||21'], ['s04e05c09t||59', 's04e05c10t||60', 's04e06c00t||108', 's04e06c01t||7'], ['s04e06c02t||89', 's04e06c03t||156'], ['s04e06c04t||149', 's04e06c05t||120'], ['s04e06c07t||265'], ['s04e08c01t||188', 's04e08c02t||46'], ['s04e08c03t||93', 's04e08c04t||109', 's04e08c05t||18', 's04e08c06t||41'], ['s04e08c07t||37', 's04e08c08t||65', 's04e08c09t||90', 's04e08c10t||34', 's04e08c11t||14'], ['s04e19c00t||132', 's04e19c01t||103'], ['s04e19c02t||112', 's04e19c03t||105', 's04e19c04t||23'], ['s04e19c05t||146', 's04e19c06t||81'], ['s04e19c07t||58', 's04e19c08t||7', 's04e19c09t||67', 's04e19c10t||30', 's04e19c11t||37', 's04e19c12t||22', 's04e21c00t||46'], ['s04e21c01t||4', 's04e21c02t||108', 's04e21c03t||79', 's04e21c04t||29', 's04e21c05t||39'], ['s04e21c06t||123', 's04e21c07t||21', 's04e21c08t||10', 's01e21c11fe||64', 's01e21c12fe||8', 's01e21c13fe||73'], ['s04e21c09t||146', 's04e21c10t||101'], ['s04e22c01t||228', 's04e22c02t||40'], ['s04e22c05t||153', 's04e22c06t||58'], ['s04e22c07t||75', 's04e22c08t||85', 's04e22c09t||51'], ['s04e23c00t||108', 's04e23c01t||61', 's04e23c02t||55'], ['s04e23c03t||58', 's04e23c04t||135'], ['s04e23c06t||180', 's04e23c07t||8', 's04e23c08t||22'], ['s04e23c09t||104', 's04e24c00t||127'], ['s04e24c01t||41', 's04e24c02t||45', 's04e24c03t||144'], ['s04e24c04t||68', 's04e24c05t||115', 's04e24c06t||61'], ['s04e24c07t||33', 's04e24c08t||108', 's04e24c09t||99', 's04e24c10t||4'], ['s05e02c00t||119', 's05e02c01t||75'], ['s05e02c02t||128', 's05e02c03t||70'], ['s05e02c04t||92', 's05e02c05t||93', 's05e02c06t||53'], ['s05e02c07t||87', 's05e02c08t||25', 's05e06c00t||149'], ['s05e06c01t||115', 's05e06c02t||138'], ['s05e06c03t||96', 's05e06c04t||88'], ['s05e06c05t||107', 's05e06c06t||66', 's05e23c00fe||91'], ['s05e06c07t||116', 's05e06c08t||26', 's05e06c09t||50'], ['s05e12c00t||108', 's05e12c01t||130'], ['s05e12c02t||89', 's05e12c03t||90', 's05e12c04t||85'], ['s05e12c05t||65', 's05e12c06t||98', 's05e12c07t||99'], ['s05e12c08t||77', 's05e14c00t||102'], ['s05e14c01t||101', 's05e14c02t||87'], ['s05e14c03t||98', 's05e14c04t||52', 's05e14c05t||79'], ['s05e14c06t||66', 's05e14c07t||64', 's05e14c08t||46', 's05e14c09t||51'], ['s05e15c00t||80', 's05e15c01t||171'], ['s05e15c02t||124', 's05e15c03t||70'], ['s05e15c04t||123', 's05e15c05t||85'], ['s05e15c06t||91', 's05e15c07t||112'], ['s05e20c00t||117', 's05e20c01t||55', 's04e06c06t||94'], ['s05e20c02t||109', 's05e20c03t||83', 's05e20c04t||78'], ['s05e20c05t||117', 's05e20c06t||73'], ['s05e20c08t||165', 's05e23c00t||31'], ['s05e23c01t||131', 's05e23c02t||79'], ['s05e23c03t||155', 's05e23c04t||73'], ['s05e23c05t||136', 's05e23c06t||119'], ['s05e23c07t||153', 's06e02c00t||96'], ['s06e02c01t||151', 's06e02c02t||93'], ['s06e02c03t||84', 's06e02c04t||10', 's06e02c05t||134', 's06e02c06t||20'], ['s06e02c07t||54', 's06e02c08t||85', 's06e02c09t||23', 's06e02c10t||44', 's06e03c00t||33'], ['s06e03c01t||156', 's06e03c02t||62'], ['s06e03c03t||53', 's06e03c04t||48', 's06e03c05t||95', 's06e03c06t||27'], ['s06e03c07t||125', 's06e03c08t||46', 's06e03c09t||73'], ['s06e03c10t||100', 's06e04c00t||39', 's06e04c01t||21', 's06e04c02t||61'], ['s06e04c03t||148', 's06e04c04t||41'], ['s06e04c05t||113', 's06e04c06t||67', 's06e04c07t||46'], ['s06e04c08t||152', 's06e04c09t||33'], ['s06e05c00t||113', 's06e05c01t||100'], ['s06e05c02t||77', 's06e05c03t||107', 's06e05c04t||59'], ['s06e05c05t||72', 's06e05c06t||37', 's06e05c07t||79', 's06e05c08t||40'], ['s06e05c09t||44', 's06e05c10t||132'], ['s06e06c00t||107', 's06e06c01t||88', 's06e06c02t||68'], ['s06e06c03t||104', 's06e06c04t||110', 's06e06c05t||2'], ['s06e06c06t||165', 's02e06c04fe||68', 's02e07c00fe||50', 's02e07c01fe||7', 's02e07c02fe||6'], ['s06e06c07t||121', 's06e06c08t||68', 's06e06c09t||35'], ['s06e06c10t||48', 's06e07c00t||202'], ['s06e07c01t||100', 's06e07c02t||120'], ['s06e07c03t||97', 's06e07c04t||38', 's06e07c05t||52'], ['s06e07c06t||167', 's06e07c07t||86'], ['s06e07c08t||51', 's06e08c00t||77', 's06e08c01t||92'], ['s06e08c02t||54', 's06e08c03t||41', 's06e08c04t||113'], ['s06e08c05t||89', 's06e08c06t||43', 's06e08c07t||70', 's06e08c08t||62'], ['s06e08c09t||105', 's06e08c10t||77'], ['s06e09c00t||137', 's06e09c01t||3', 's06e09c02t||84', 's06e09c03t||37'], ['s06e09c04t||132', 's06e09c05t||60', 's06e09c06t||36'], ['s06e09c07t||116', 's06e09c08t||122'], ['s06e09c09t||75', 's06e09c10t||13', 's06e14c00t||60', 's06e14c01t||70'], ['s06e14c02t||57', 's06e14c03t||78', 's06e14c04t||55', 's06e14c05t||66'], ['s06e14c06t||54', 's06e14c07t||47', 's06e14c08t||49', 's06e14c09t||60'], ['s06e14c10t||84', 's06e14c11t||96', 's06e14c12t||23'], ['s06e15c00t||131', 's06e15c01t||125'], ['s06e15c02t||109', 's06e15c03t||49', 's06e15c04t||77'], ['s06e15c05t||100', 's06e15c06t||66', 's06e15c07t||65'], ['s06e15c08t||67', 's06e15c09t||89', 's06e15c10t||61'], ['s06e16c00t||61', 's06e16c01t||18', 's06e16c02t||50', 's06e16c03t||39', 's06e16c04t||61'], ['s06e16c05t||87', 's06e16c06t||109', 's06e16c07t||39'], ['s06e16c08t||82', 's06e16c09t||108'], ['s06e16c10t||100', 's06e16c11t||70', 's06e17c00t||52'], ['s06e17c01t||127', 's06e17c02t||106'], ['s06e17c03t||50', 's06e17c04t||41', 's06e17c05t||30', 's06e17c06t||35', 's06e17c07t||60'], ['s06e17c08t||59', 's06e17c09t||4', 's06e17c10t||45', 's06e17c11t||93'], ['s06e19c00t||111', 's06e19c01t||39', 's06e19c02t||78', 's06e19c03t||36'], ['s06e19c04t||51', 's06e19c05t||42', 's06e19c06t||84', 's06e19c07t||83'], ['s06e19c10t||223'], ['s06e20c00t||124', 's06e20c01t||8', 's06e20c02t||30', 's06e20c03t||28', 's06e20c04t||14', 's06e20c05t||17', 's06e20c06t||12', 's06e20c07t||16'], ['s06e20c08t||24', 's06e20c09t||103', 's06e20c10t||59', 's06e20c11t||23', 's06e20c12t||52'], ['s06e20c13t||45', 's06e20c14t||13', 's06e20c15t||191'], ['s06e21c00t||110', 's06e21c01t||91', 's06e21c02t||27'], ['s06e21c03t||94', 's06e21c04t||69', 's06e21c05t||72'], ['s06e21c06t||78', 's06e21c07t||62', 's06e21c08t||30', 's06e21c09t||26'], ['s06e21c10t||104', 's06e21c11t||60', 's06e21c12t||28', 's07e19c00t||48'], ['s07e19c01t||107', 's07e19c02t||48', 's07e19c03t||76'], ['s07e19c04t||59', 's07e19c05t||13', 's07e19c06t||94', 's07e19c07t||44'], ['s07e19c08t||87', 's07e19c09t||24', 's07e19c10t||31', 's07e19c11t||101'], ['s07e19c12t||88', 's07e19c13t||27', 's07e20c00t||98'], ['s07e20c01t||85', 's07e20c02t||92', 's07e20c03t||48'], ['s07e20c04t||93', 's07e20c05t||65', 's01e13c04t||144'], ['s07e20c06t||124', 's07e20c07t||99', 's07e20c08t||13'], ['s07e20c09t||39', 's07e20c10t||2', 's07e20c11t||22', 's07e20c12t||8', 's07e20c13t||57', 's07e22c00t||29', 's07e22c01t||52', 's07e22c02t||58'], ['s07e22c03t||80', 's07e22c04t||33', 's07e22c05t||72', 's07e22c06t||79'], ['s07e22c07t||10', 's07e22c08t||80', 's07e22c09t||77', 's07e22c10t||69', 's07e22c11t||34'], ['s07e22c12t||108', 's07e22c13t||27', 's07e23c00t||41', 's07e23c01t||54'], ['s07e23c02t||79', 's07e23c03t||59', 's07e23c04t||106', 's07e23c05t||1'], ['s07e23c06t||70', 's07e23c07t||36', 's07e23c08t||79', 's07e23c09t||66'], ['s07e23c10t||58', 's07e23c11t||81', 's07e23c12t||123'], ['s08e01c00t||71', 's08e01c01t||102', 's08e01c02t||81'], ['s08e01c03t||23', 's08e01c04t||17', 's08e01c05t||80', 's08e01c06t||51', 's08e01c07t||44', 's08e01c08t||27'], ['s08e01c09t||47', 's08e01c10t||56', 's08e01c11t||66', 's04e05c02t||114'], ['s08e01c12t||103', 's08e01c13t||119'], ['s08e01c14t||71', 's08e02c00t||77', 's08e02c01t||64'], ['s08e02c02t||80', 's08e02c03t||90', 's08e02c04t||53'], ['s08e02c05t||113', 's08e02c06t||38', 's08e02c07t||63'], ['s08e02c08t||110', 's08e02c09t||90', 's08e02c10t||69'], ['s08e02c11t||23', 's08e03c00t||74', 's08e03c01t||50', 's08e03c02t||45'], ['s08e03c03t||89', 's08e03c04t||40', 's08e03c05t||56', 's08e03c06t||22'], ['s08e03c07t||109', 's08e03c08t||8', 's08e03c09t||42', 's08e03c10t||57'], ['s08e03c11t||71', 's08e06c00t||93', 's01e07c00t||132'], ['s08e06c01t||137', 's08e06c02t||87'], ['s08e06c03t||123', 's08e06c04t||91'], ['s08e06c05t||74', 's08e06c06t||55', 's08e06c07t||52', 's08e06c08t||75'], ['s08e06c09t||73', 's08e06c10t||128', 's08e06c11t||15', 's08e06c12t||19'], ['s08e09c00t||99', 's08e09c01t||53', 's08e09c02t||47'], ['s08e09c03t||106', 's08e09c04t||52', 's08e09c05t||12', 's08e09c06t||87'], ['s08e09c07t||41', 's08e09c08t||57', 's08e09c09t||100'], ['s08e09c10t||117', 's08e09c11t||89', 's08e09c12t||52'], ['s08e11c00t||80', 's08e11c01t||80', 's08e11c02t||56'], ['s08e11c03t||134', 's08e11c04t||72', 's08e11c05t||39'], ['s08e11c06t||59', 's08e11c07t||35', 's08e11c08t||31', 's08e11c09t||24', 's08e11c10t||101'], ['s08e11c11t||58', 's08e11c12t||6', 's08e11c13t||109', 's06e19c08t||19', 's06e19c09t||54'], ['s08e12c00t||179', 's08e12c01t||49'], ['s08e12c02t||59', 's08e12c03t||82', 's08e12c04t||61'], ['s08e12c05t||95', 's08e12c06t||111', 's08e12c07t||48'], ['s08e12c08t||164', 's08e12c09t||96'], ['s08e12c10t||18', 's08e15c00t||111', 's08e15c01t||45', 's08e18c10t||54'], ['s08e15c02t||101', 's08e15c03t||102'], ['s08e15c04t||154', 's08e15c05t||42'], ['s08e15c06t||96', 's08e15c07t||44', 's08e15c08t||68'], ['s08e15c09t||125', 's08e16c00t||133'], ['s08e16c01t||31', 's08e16c02t||74', 's08e16c03t||27', 's08e16c04t||75', 's08e16c05t||24'], ['s08e16c06t||49', 's08e16c07t||24', 's08e16c08t||40', 's08e16c09t||88', 's08e16c10t||22', 's08e16c11t||36'], ['s08e16c12t||56', 's08e16c13t||43', 's08e16c14t||25', 's08e16c15t||121'], ['s08e17c00t||90', 's08e17c01t||35', 's08e17c02t||69', 's08e17c03t||69'], ['s08e17c04t||72', 's08e17c05t||39', 's08e17c06t||87', 's08e17c07t||22'], ['s08e17c08t||95', 's08e17c09t||10', 's08e17c10t||58', 's08e17c11t||38'], ['s08e17c12t||114', 's08e18c00t||101', 's08e18c01t||47'], ['s08e18c02t||114', 's08e18c03t||107'], ['s08e18c04t||124', 's08e18c05t||29', 's08e18c06t||14', 's08e18c07t||26', 's08e18c08t||10', 's08e18c09t||63'], ['s08e18c11t||251'], ['s08e19c00t||73', 's08e19c01t||74', 's08e19c02t||78'], ['s08e19c03t||81', 's08e19c04t||111', 's08e19c05t||64'], ['s08e19c06t||107', 's08e19c07t||77', 's08e19c08t||70'], ['s08e19c09t||69', 's08e19c10t||5', 's08e19c11t||90', 's08e20c00t||62'], ['s08e20c01t||46', 's08e20c02t||49', 's08e20c03t||45', 's08e20c04t||56'], ['s08e20c05t||159', 's08e20c06t||77'], ['s08e20c07t||87', 's08e20c08t||102', 's08e20c09t||22', 's08e20c10t||33'], ['s08e20c11t||75', 's08e20c12t||10', 's08e20c13t||77', 's04e23c05t||138'], ['s08e21c00t||139', 's08e21c01t||72'], ['s08e21c02t||80', 's08e21c03t||89', 's08e21c04t||83'], ['s08e21c05t||117', 's08e21c06t||75', 's08e21c07t||13', 's08e21c08t||49'], ['s08e21c09t||36', 's08e21c10t||150', 's08e21c11t||68'], ['s08e22c00t||84', 's08e22c01t||72', 's08e22c02t||61'], ['s08e22c06t||136', 's08e22c07t||31', 's08e22c08t||77'], ['s08e22c09t||35', 's08e22c10t||69', 's08e22c11t||95', 's08e22c12t||50'], ['s08e23c00t||74', 's08e23c01t||50', 's08e23c02t||101', 's08e23c03t||10'], ['s08e23c06t||206', 's08e23c07t||40'], ['s08e23c08t||47', 's08e23c09t||54', 's08e23c10t||18', 's08e23c11t||49', 's08e24c00t||63', 's08e24c01t||37'], ['s08e24c02t||102', 's08e24c03t||113'], ['s08e24c04t||59', 's08e24c05t||47', 's08e24c06t||49', 's08e24c07t||19', 's08e24c08t||73'], ['s08e24c09t||30', 's08e24c10t||3', 's08e24c11t||12', 's08e24c12t||11', 's08e24c13t||12', 's08e24c14t||13', 's08e24c15t||2', 's08e24c16t||152'], ['s01e03c00f||56', 's01e03c01f||56', 's01e03c02f||124', 's01e03c03f||30'], ['s01e03c04f||117', 's01e03c05f||43', 's01e03c06f||41', 's01e03c07f||6', 's01e03c08f||63'], ['s01e03c09f||36', 's01e03c10f||41', 's01e03c11f||121', 's01e03c12f||12', 's01e04c00f||38'], ['s01e04c01f||196', 's01e04c02f||45'], ['s01e04c03f||37', 's01e04c04f||73', 's01e04c05f||14', 's01e04c06f||69', 's01e04c07f||15', 's01e04c08f||27'], ['s01e04c09f||95', 's01e04c10f||20', 's01e04c11f||15', 's01e04c12f||74', 's01e04c13f||46'], ['s01e04c14f||64', 's01e06c00f||33', 's01e06c01f||125'], ['s01e06c02f||158', 's01e10c04t||143'], ['s01e06c03f||189', 's01e06c04f||66'], ['s01e06c05f||46', 's01e06c06f||103', 's01e06c07f||90', 's01e07c00f||12', 's01e07c01f||1'], ['s01e07c07f||158', 's01e07c08f||20', 's01e07c09f||71', 's01e07c10f||21'], ['s01e07c11f||12', 's01e07c12f||13', 's01e07c13f||32', 's01e07c14f||3', 's01e07c15f||45', 's01e07c16f||33', 's01e07c17f||88', 's01e07c18f||7', 's01e07c19f||14'], ['s01e08c00f||35', 's01e08c01f||85', 's01e08c02f||71', 's01e08c03f||65', 's01e08c04f||10'], ['s01e08c05f||44', 's01e08c06f||49', 's01e08c07f||52', 's01e08c08f||41', 's01e08c09f||43'], ['s01e08c10f||151', 's01e08c11f||34', 's01e09c00f||59'], ['s01e09c01f||116', 's01e09c02f||60'], ['s01e09c03f||128', 's01e09c04f||30', 's01e09c05f||8', 's01e09c06f||8', 's04e22c00t||46'], ['s01e09c07f||113', 's01e09c08f||20', 's01e09c09f||43', 's01e09c10f||55'], ['s01e09c11f||191', 's01e10c00f||45'], ['s01e10c01f||155', 's01e10c02f||100'], ['s01e10c03f||56', 's01e10c04f||105', 's01e10c05f||47'], ['s01e12c00f||2', 's01e12c01f||97', 's01e12c02f||12', 's01e12c03f||88', 's01e12c04f||59'], ['s01e12c05f||31', 's01e12c06f||43', 's01e12c07f||42', 's01e12c08f||24', 's01e12c09f||44', 's01e12c10f||15', 's01e12c11f||63'], ['s01e12c12f||47', 's01e12c13f||129', 's01e15c00f||11', 's01e15c01f||18'], ['s01e15c02f||101', 's01e15c03f||130', 's01e15c04f||11'], ['s01e15c05f||89', 's01e15c06f||12', 's01e15c07f||144', 's01e15c08f||25'], ['s01e15c09f||29', 's01e15c10f||124', 's01e15c11f||49', 's01e15c12f||16', 's01e16c00f||27'], ['s01e16c01f||107', 's01e16c02f||45', 's01e16c03f||25', 's01e16c04f||90'], ['s01e16c05f||48', 's01e16c06f||22', 's01e16c07f||11', 's01e16c08f||63', 's01e16c09f||85'], ['s01e16c10f||51', 's01e16c11f||59', 's01e16c12f||37', 's01e16c13f||33'], ['s01e16c14f||91', 's01e17c00f||85'], ['s01e17c01f||101', 's01e17c02f||24', 's01e17c03f||66', 's01e17c04f||79'], ['s01e17c05f||139', 's01e17c06f||65', 's01e17c07f||58'], ['s01e17c08f||22', 's01e17c09f||32', 's01e17c10f||34', 's01e17c11f||58', 's01e17c12f||25', 's02e20c05fe||109'], ['s01e18c00f||120', 's01e18c01f||139'], ['s01e18c02f||33', 's01e18c03f||74', 's01e18c04f||67', 's01e18c05f||58'], ['s01e18c06f||273'], ['s01e19c00f||13', 's01e19c01f||34', 's01e19c02f||119', 's01e19c03f||51'], ['s01e19c04f||192'], ['s01e19c05f||287'], ['s01e19c06f||85', 's01e19c07f||50', 's01e20c00f||36', 's05e08c06fe||74', 's05e08c07fe||35'], ['s01e20c01f||138', 's01e20c02f||7', 's01e20c03f||53', 's01e20c04f||48'], ['s01e20c05f||135', 's01e20c06f||92'], ['s01e20c07f||93', 's01e20c08f||80', 's05e19c00fe||68'], ['s01e20c09f||100', 's01e20c10f||10', 's01e22c00f||49', 's01e22c01f||99'], ['s01e22c02f||35', 's01e22c03f||35', 's01e22c04f||94', 's01e22c05f||101'], ['s01e22c06f||41', 's01e22c07f||113', 's01e22c08f||46'], ['s01e22c09f||82', 's01e22c10f||24', 's01e22c11f||20', 's01e24c00f||58'], ['s01e24c01f||271'], ['s01e24c02f||86', 's01e24c03f||50', 's01e24c04f||40', 's01e24c05f||64'], ['s01e24c06f||46', 's01e24c07f||47', 's01e24c08f||26', 's01e24c09f||106'], ['s01e21c00fe||54', 's01e21c01fe||54', 's01e21c02fe||38', 's01e21c03fe||41'], ['s01e21c04fe||90', 's01e21c05fe||20', 's01e21c06fe||99'], ['s01e21c07fe||96', 's01e21c08fe||42', 's01e21c09fe||61', 's01e21c10fe||54'], ['s02e06c00fe||151', 's02e06c01fe||63'], ['s02e07c03fe||155', 's02e07c04fe||53', 's02e07c05fe||29'], ['s02e07c06fe||135', 's02e07c07fe||17', 's01e16c01t||145'], ['s02e07c08fe||142', 's02e07c09fe||72'], ['s02e08c02fe||141', 's02e08c03fe||69', 's02e08c04fe||29'], ['s02e08c07fe||203', 's02e08c08fe||50'], ['s02e08c09fe||106', 's02e08c10fe||36', 's02e08c11fe||61'], ['s02e10c00fe||151', 's03e11c10fe||146'], ['s02e10c01fe||132', 's02e10c02fe||62'], ['s02e10c03fe||193'], ['s02e10c04fe||91', 's02e10c05fe||26', 's02e10c06fe||84'], ['s02e10c07fe||115', 's02e11c00fe||54', 's02e08c05fe||91', 's02e08c06fe||23'], ['s02e11c01fe||112', 's02e11c02fe||53', 's02e04c02t||129'], ['s02e11c03fe||111', 's02e11c04fe||157'], ['s02e11c05fe||164', 's02e11c06fe||92'], ['s02e11c07fe||39', 's02e11c08fe||49', 's02e11c09fe||11', 's02e12c00fe||56', 's02e12c01fe||90'], ['s02e12c02fe||37', 's02e12c03fe||50', 's02e12c04fe||105', 's02e12c05fe||43', 's02e12c06fe||10'], ['s02e12c07fe||38', 's02e12c08fe||60', 's02e12c09fe||84', 's02e12c10fe||29'], ['s02e12c11fe||138', 's02e12c12fe||27', 's02e12c13fe||42', 's02e15c00fe||38'], ['s02e15c01fe||91', 's02e15c02fe||58', 's02e15c03fe||24', 's02e15c04fe||63'], ['s02e15c05fe||93', 's02e15c06fe||75', 's02e15c07fe||33'], ['s02e15c08fe||100', 's02e15c09fe||25', 's02e15c10fe||60', 's02e15c11fe||17', 's02e15c12fe||32', 's02e15c13fe||8'], ['s02e16c00fe||45', 's02e16c01fe||103', 's02e16c02fe||33', 's02e16c03fe||24', 's02e16c04fe||40'], ['s02e16c05fe||43', 's02e16c06fe||72', 's02e16c07fe||71', 's02e16c08fe||67', 's02e16c09fe||14'], ['s02e16c10fe||100', 's02e16c11fe||45', 's02e16c12fe||87'], ['s02e16c13fe||89', 's02e16c14fe||9', 's02e18c00fe||40', 's02e18c01fe||65', 's02e18c02fe||51'], ['s02e18c03fe||65', 's02e18c04fe||47', 's02e18c05fe||58', 's02e18c06fe||6', 's02e18c07fe||26'], ['s02e18c10fe||191', 's02e18c11fe||66'], ['s02e18c12fe||94', 's02e18c13fe||30', 's02e19c00fe||65'], ['s02e19c01fe||104', 's02e19c02fe||48', 's02e19c03fe||57'], ['s02e19c04fe||119', 's02e19c05fe||41', 's02e19c06fe||23', 's02e19c07fe||11', 's02e19c08fe||48'], ['s02e19c09fe||49', 's02e19c10fe||55', 's02e19c11fe||81'], ['s02e19c12fe||93', 's02e19c13fe||60', 's02e20c00fe||60'], ['s02e20c01fe||114', 's02e20c02fe||76'], ['s02e20c03fe||87', 's02e20c04fe||84', 's04e08c00t||100'], ['s02e20c06fe||225', 's02e20c07fe||26'], ['s02e20c08fe||108', 's02e20c09fe||97'], ['s02e21c00fe||75', 's02e21c01fe||68', 's02e21c02fe||84'], ['s02e21c03fe||69', 's02e21c04fe||84', 's02e21c05fe||41'], ['s02e21c06fe||116', 's02e21c07fe||54', 's02e21c08fe||35'], ['s02e21c09fe||131', 's02e21c10fe||99', 's02e21c11fe||30'], ['s02e22c02fe||145', 's02e22c03fe||102'], ['s02e22c05fe||95', 's02e22c06fe||72', 's02e23c00fe||85'], ['s02e23c01fe||70', 's02e23c02fe||57', 's02e23c03fe||17', 's02e23c04fe||88'], ['s02e23c05fe||59', 's02e23c06fe||60', 's02e23c07fe||90'], ['s02e23c08fe||103', 's02e23c09fe||99', 's02e23c10fe||40'], ['s02e23c11fe||35', 's02e23c12fe||49', 's02e24c00fe||57', 's02e24c01fe||59'], ['s02e24c02fe||118', 's02e24c03fe||79'], ['s02e24c04fe||102', 's02e24c05fe||24', 's02e24c06fe||39', 's02e24c07fe||105'], ['s02e24c08fe||67', 's02e24c09fe||156'], ['s02e24c10fe||55', 's02e24c11fe||31', 's03e01c00fe||5', 's03e01c01fe||44', 's03e01c02fe||67'], ['s03e01c03fe||95', 's03e01c04fe||43', 's03e01c05fe||54'], ['s03e01c06fe||90', 's03e01c07fe||75', 's03e01c08fe||52', 's03e01c09fe||47'], ['s03e01c10fe||109', 's03e01c11fe||68', 's03e01c12fe||66', 's03e03c00fe||6'], ['s03e03c01fe||69', 's03e03c02fe||98', 's04e22c03t||83', 's04e22c04t||35'], ['s03e03c03fe||175'], ['s03e03c04fe||153', 's03e03c05fe||21', 's03e03c06fe||49'], ['s03e03c07fe||162', 's03e03c08fe||18', 's03e03c09fe||73'], ['s03e03c10fe||71', 's03e05c00fe||27', 's03e05c01fe||34', 's03e05c02fe||138'], ['s03e05c03fe||22', 's03e05c04fe||56', 's03e05c05fe||50', 's03e05c06fe||45', 's03e05c07fe||27'], ['s03e05c08fe||80', 's03e05c09fe||70', 's03e05c10fe||36'], ['s03e05c11fe||143', 's03e05c12fe||35'], ['s03e05c13fe||131', 's03e06c00fe||46'], ['s03e06c01fe||102', 's03e06c02fe||34', 's03e06c03fe||24', 's03e06c04fe||1', 's02e07c10fe||84', 's02e08c00fe||54', 's02e08c01fe||4'], ['s03e06c05fe||147', 's03e06c06fe||62', 's03e06c07fe||48'], ['s03e06c08fe||39', 's03e06c09fe||73', 's03e06c10fe||22', 's03e06c11fe||26', 's03e06c12fe||52', 's03e06c13fe||23'], ['s03e06c14fe||53', 's03e07c00fe||33', 's03e07c01fe||61', 's03e07c02fe||80', 's03e07c03fe||32'], ['s03e07c04fe||33', 's03e07c05fe||80', 's03e07c06fe||62'], ['s03e07c07fe||117', 's03e07c08fe||59', 's03e07c09fe||92'], ['s03e07c10fe||63', 's03e07c11fe||14', 's03e07c12fe||17', 's03e07c13fe||119', 's03e07c14fe||41'], ['s03e07c15fe||25', 's03e08c00fe||74', 's03e08c01fe||50', 's03e08c02fe||66'], ['s03e08c03fe||93', 's03e08c04fe||84', 's03e08c05fe||79'], ['s03e08c06fe||67', 's03e08c07fe||83', 's03e08c08fe||80'], ['s03e08c09fe||78', 's03e08c10fe||102', 's03e08c11fe||37', 's03e09c00fe||18'], ['s03e09c04fe||20', 's03e11c00fe||74', 's03e11c01fe||60', 's03e11c02fe||32', 's03e11c03fe||71'], ['s03e11c04fe||144', 's03e11c05fe||46'], ['s03e11c06fe||81', 's03e11c07fe||23', 's03e11c08fe||46', 's03e11c09fe||35'], ['s03e11c11fe||156', 's03e11c12fe||38'], ['s03e12c00fe||103', 's03e12c01fe||55', 's03e12c02fe||63'], ['s03e12c03fe||62', 's03e12c04fe||24', 's03e12c05fe||111', 's03e12c06fe||41'], ['s03e12c07fe||44', 's03e12c08fe||61', 's03e12c09fe||38', 's03e12c10fe||42', 's03e12c11fe||16', 's03e12c12fe||53'], ['s03e12c13fe||17', 's03e12c14fe||135', 's03e13c00fe||45', 's03e13c01fe||32'], ['s03e13c02fe||105', 's03e13c03fe||86', 's03e13c04fe||67'], ['s03e13c05fe||48', 's03e13c06fe||74', 's03e13c07fe||18', 's03e13c08fe||29', 's03e13c09fe||101'], ['s03e13c10fe||18', 's03e13c11fe||49', 's03e13c12fe||118', 's03e18c00fe||71'], ['s03e18c01fe||134', 's03e18c02fe||9', 's03e18c03fe||65'], ['s03e18c04fe||82', 's03e18c05fe||88', 's03e18c06fe||83', 's03e18c07fe||10'], ['s03e18c08fe||29', 's03e18c09fe||92', 's03e18c10fe||96', 's03e18c11fe||33', 's03e18c12fe||12'], ['s03e18c13fe||9', 's03e18c14fe||50', 's03e19c00fe||39', 's03e19c01fe||67', 's03e19c02fe||59', 's03e19c03fe||45'], ['s03e19c04fe||40', 's03e19c05fe||95', 's03e19c06fe||59', 's03e19c07fe||55'], ['s03e19c08fe||22', 's03e19c09fe||105', 's03e19c10fe||48', 's03e19c11fe||75'], ['s03e19c12fe||57', 's03e19c13fe||40', 's03e19c14fe||40', 's03e20c00fe||85'], ['s03e20c01fe||69', 's03e20c02fe||103', 's03e20c03fe||49', 's03e20c04fe||46'], ['s03e20c05fe||26', 's03e20c06fe||141', 's03e20c07fe||67', 's03e20c08fe||31'], ['s03e20c09fe||68', 's03e20c10fe||7', 's03e20c11fe||45', 's03e20c12fe||29', 's03e20c13fe||81', 's03e21c00fe||21'], ['s03e21c01fe||58', 's03e21c02fe||35', 's03e21c03fe||98', 's03e21c04fe||36'], ['s03e21c05fe||114', 's03e21c06fe||93', 's03e21c07fe||49'], ['s03e21c08fe||56', 's03e21c09fe||41', 's03e21c10fe||106', 's03e21c11fe||39'], ['s03e21c12fe||49', 's03e21c13fe||67', 's03e21c14fe||70', 's03e23c00fe||60'], ['s03e23c01fe||143', 's03e23c02fe||25', 's03e23c03fe||35', 's03e23c04fe||58', 's03e23c05fe||9'], ['s03e23c06fe||117', 's03e23c07fe||70', 's03e23c08fe||38'], ['s03e23c09fe||109', 's03e23c10fe||6', 's03e23c11fe||68', 's03e23c12fe||71'], ['s03e23c13fe||97', 's03e24c00fe||102', 's03e24c01fe||54'], ['s03e24c02fe||42', 's03e24c03fe||117', 's03e24c04fe||57'], ['s03e24c05fe||62', 's03e24c06fe||44', 's03e24c07fe||47', 's03e24c08fe||69'], ['s03e24c09fe||56', 's03e24c10fe||68', 's03e24c11fe||95'], ['s03e24c12fe||77', 's03e24c13fe||34', 's03e25c00fe||82'], ['s03e25c01fe||95', 's03e25c02fe||12', 's03e25c03fe||92'], ['s03e25c04fe||201', 's03e25c05fe||42'], ['s03e25c06fe||43', 's03e25c07fe||57', 's03e25c08fe||110'], ['s03e25c09fe||69', 's03e25c10fe||62', 's03e25c11fe||0', 's05e02c00fe||32', 's08e23c04t||91', 's08e23c05t||47'], ['s05e02c01fe||213'], ['s05e02c04fe||132', 's05e02c05fe||62', 's05e02c06fe||61'], ['s05e02c07fe||197', 's05e02c08fe||27', 's05e05c00fe||39'], ['s05e05c01fe||152', 's05e05c02fe||38', 's05e05c03fe||38'], ['s05e05c04fe||95', 's05e05c05fe||89', 's05e05c06fe||60'], ['s05e05c07fe||111', 's05e05c08fe||29', 's05e05c09fe||74', 's05e05c10fe||36'], ['s05e05c11fe||57', 's05e08c00fe||38', 's05e08c01fe||64', 's05e08c02fe||13', 's05e08c03fe||14', 's05e08c04fe||7', 's05e08c05fe||32'], ['s05e08c08fe||198', 's05e08c09fe||44'], ['s05e08c10fe||219'], ['s05e08c11fe||69', 's05e08c12fe||48', 's05e08c13fe||30', 's05e09c00fe||97'], ['s05e09c01fe||133', 's05e09c02fe||81', 's05e09c03fe||48'], ['s05e09c04fe||41', 's05e09c05fe||42', 's05e09c06fe||100', 's05e09c07fe||53'], ['s05e09c08fe||57', 's05e09c09fe||40', 's05e09c10fe||5', 's05e09c11fe||153'], ['s05e11c00fe||77', 's05e11c01fe||147'], ['s05e11c02fe||67', 's05e11c03fe||97', 's05e11c04fe||40'], ['s05e11c05fe||78', 's05e11c06fe||119', 's05e11c07fe||12', 's05e11c08fe||22'], ['s05e11c09fe||156', 's05e12c00fe||37', 's05e12c01fe||42'], ['s05e12c02fe||77', 's05e12c03fe||102', 's05e12c04fe||34'], ['s05e12c05fe||60', 's05e12c06fe||36', 's05e12c07fe||49', 's05e12c08fe||62'], ['s05e12c09fe||78', 's05e12c10fe||52', 's05e12c11fe||94'], ['s05e12c12fe||79', 's05e12c13fe||70', 's05e13c00fe||33'], ['s05e13c01fe||120', 's05e13c02fe||42', 's05e13c03fe||42', 's05e13c04fe||62'], ['s05e13c05fe||70', 's05e13c06fe||46', 's05e13c07fe||120'], ['s05e13c10fe||173', 's02e06c02fe||59'], ['s05e15c00fe||107', 's05e15c01fe||90'], ['s05e15c02fe||81', 's05e15c03fe||130', 's05e15c04fe||34'], ['s05e15c05fe||82', 's05e15c06fe||43', 's05e15c07fe||61', 's05e15c08fe||62'], ['s05e15c09fe||117', 's05e15c10fe||12', 's05e15c11fe||107', 's05e16c00fe||22'], ['s05e16c01fe||21', 's05e16c02fe||90', 's05e16c03fe||84', 's05e16c04fe||42', 's05e16c05fe||33'], ['s05e16c06fe||171', 's05e16c07fe||78'], ['s05e16c08fe||100', 's05e16c09fe||82', 's05e16c10fe||42'], ['s05e16c11fe||140', 's05e17c00fe||50', 's05e17c01fe||41', 's05e17c02fe||12', 's05e17c03fe||13'], ['s05e17c04fe||87', 's05e17c05fe||108', 's05e17c06fe||28', 's05e17c07fe||25', 's05e17c08fe||12'], ['s05e17c09fe||74', 's05e17c10fe||46', 's05e17c11fe||66', 's05e17c12fe||9'], ['s05e17c13fe||93', 's05e17c14fe||126'], ['s05e19c03fe||47', 's05e19c04fe||71', 's05e21c00fe||112'], ['s05e21c01fe||135', 's05e21c02fe||91'], ['s05e21c03fe||102', 's05e21c04fe||74'], ['s05e21c05fe||129', 's05e21c06fe||140'], ['s05e21c07fe||64', 's05e21c08fe||65', 's05e21c09fe||12', 's05e21c10fe||42'], ['s05e23c01fe||202'], ['s05e23c02fe||79', 's05e23c03fe||40', 's05e23c04fe||62'], ['s05e23c05fe||151', 's05e23c06fe||46', 's05e23c07fe||59'], ['s05e23c08fe||42', 's05e23c09fe||30', 's05e23c10fe||108'], ['s05e24c00fe||134', 's05e24c01fe||41', 's05e24c02fe||15'], ['s05e24c03fe||86', 's05e24c04fe||10', 's05e24c05fe||54', 's05e24c06fe||23', 's05e24c07fe||70'], ['s05e24c08fe||43', 's05e24c09fe||31', 's05e24c10fe||85', 's05e24c11fe||39', 's05e24c12fe||37'], ['s05e24c13fe||66', 's06e12c00fe||93', 's06e12c01fe||68'], ['s06e12c02fe||59', 's06e12c03fe||94', 's06e12c04fe||52'], ['s06e12c05fe||106', 's06e12c06fe||46', 's06e12c07fe||93'], ['s06e12c08fe||39', 's06e12c09fe||67', 's06e12c10fe||116'], ['s06e12c11fe||162', 's06e14c00fe||54'], ['s06e14c01fe||106', 's06e14c02fe||91'], ['s06e14c03fe||77', 's06e14c04fe||110'], ['s06e14c05fe||141', 's06e14c06fe||100'], ['s06e14c07fe||68', 's06e14c08fe||41', 's06e14c09fe||50', 's06e14c10fe||35', 's06e14c11fe||69'], ['s06e15c00fe||143', 's06e15c01fe||38'], ['s06e15c02fe||185'], ['s06e15c03fe||89', 's06e15c04fe||85', 's06e15c05fe||13', 's06e15c06fe||80'], ['s06e15c07fe||56', 's06e15c08fe||92', 's06e15c09fe||100'], ['s06e15c10fe||37', 's06e16c00fe||29', 's06e16c01fe||56', 's06e16c02fe||33', 's06e16c03fe||37', 's06e16c04fe||22'], ['s06e16c05fe||63', 's06e16c06fe||32', 's06e16c07fe||59', 's06e16c08fe||7', 's06e16c09fe||68'], ['s06e16c10fe||86', 's06e16c11fe||42', 's06e16c12fe||9', 's06e16c13fe||76'], ['s06e16c14fe||106', 's06e16c15fe||53', 's06e17c00fe||85'], ['s06e17c01fe||178', 's06e17c02fe||29', 's06e17c03fe||32', 's06e17c04fe||29'], ['s06e17c05fe||10', 's06e17c06fe||59', 's06e17c07fe||92', 's06e17c08fe||86', 's06e17c09fe||23'], ['s06e17c10fe||21', 's06e17c11fe||37', 's06e17c12fe||61', 's06e17c13fe||20', 's06e19c00fe||51'], ['s06e19c01fe||144', 's06e19c02fe||94'], ['s06e19c03fe||37', 's06e19c04fe||36', 's06e19c05fe||70', 's06e19c06fe||40'], ['s06e19c07fe||140', 's06e19c08fe||122'], ['s06e19c09fe||30', 's06e19c10fe||136', 's06e19c11fe||43', 's06e20c00fe||48'], ['s06e20c01fe||61', 's06e20c02fe||90', 's06e20c03fe||61', 's06e20c04fe||37'], ['s06e20c07fe||202'], ['s06e20c08fe||165', 's06e20c09fe||24', 's06e20c10fe||79'], ['s06e21c00fe||58', 's06e21c01fe||53', 's06e21c02fe||54', 's05e13c08fe||55', 's05e13c09fe||70'], ['s06e21c03fe||181', 's06e21c04fe||38'], ['s06e21c05fe||59', 's06e21c06fe||60', 's06e21c07fe||5', 's06e21c08fe||101'], ['s06e21c09fe||72', 's06e21c10fe||29', 's06e21c11fe||112'], ['s06e21c12fe||85', 's06e21c13fe||69', 's06e21c14fe||77'], ['s06e22c00fe||138', 's06e22c01fe||64'], ['s06e22c02fe||106', 's06e22c03fe||49', 's06e22c04fe||77', 's06e22c05fe||27'], ['s06e22c06fe||100', 's06e22c07fe||30', 's06e22c08fe||30', 's06e22c09fe||59', 's06e22c10fe||33'], ['s06e22c11fe||37', 's06e22c12fe||66', 's06e22c13fe||63', 's06e23c00fe||42'], ['s06e23c01fe||98', 's06e23c02fe||140'], ['s06e23c03fe||101', 's06e23c04fe||51', 's06e23c05fe||43', 's06e23c06fe||20', 's06e23c07fe||54'], ['s06e23c08fe||41', 's06e23c09fe||38', 's06e23c10fe||95', 's06e23c11fe||1', 's06e23c12fe||53'], ['s06e23c13fe||79', 's06e23c14fe||57', 's06e24c00fe||41'], ['s06e24c01fe||118', 's06e24c02fe||32', 's06e24c03fe||58', 's06e24c04fe||56'], ['s06e24c05fe||46', 's06e24c06fe||111', 's06e24c07fe||81'], ['s06e24c08fe||42', 's06e24c09fe||96', 's06e24c10fe||119'], ['s06e24c11fe||86', 's06e24c12fe||18', 's06e24c13fe||40', 's06e25c00fe||110'], ['s06e25c01fe||29', 's06e25c02fe||60', 's06e25c03fe||53', 's06e25c04fe||92'], ['s06e25c05fe||80', 's06e25c06fe||54', 's06e25c07fe||57'], ['s06e25c08fe||91', 's06e25c09fe||79', 's05e20c07t||110'], ['s06e25c10fe||116', 's07e18c00fe||49', 's07e18c01fe||92'], ['s07e18c02fe||37', 's07e18c03fe||83', 's07e18c04fe||68', 's07e18c05fe||76'], ['s07e18c06fe||49', 's07e18c07fe||48', 's07e18c08fe||47', 's07e18c09fe||79'], ['s07e18c10fe||49', 's07e18c11fe||79', 's07e18c12fe||40', 's07e18c13fe||85'], ['s07e18c14fe||52', 's07e19c00fe||73', 's07e19c01fe||45', 's07e19c02fe||43'], ['s07e19c03fe||79', 's07e19c04fe||37', 's07e19c05fe||30', 's07e19c06fe||69'], ['s07e19c07fe||71', 's07e19c08fe||67', 's07e19c09fe||34', 's07e19c10fe||40'], ['s07e19c11fe||59', 's07e19c12fe||52', 's07e19c13fe||56', 's07e19c14fe||59', 's07e19c15fe||32'], ['s07e23c00fe||119', 's07e23c01fe||90'], ['s07e23c02fe||109', 's07e23c03fe||56', 's03e09c01fe||123'], ['s07e23c04fe||165', 's07e23c05fe||42', 's07e23c06fe||32', 's07e23c07fe||21'], ['s07e23c08fe||43', 's07e23c09fe||51', 's07e23c10fe||70', 's07e23c11fe||45']]\n",
      "Large: 8 8\n",
      "[['s01e01c02t||423'], ['s01e10c06f||325'], ['s02e06c03fe||379'], ['s02e22c04fe||377'], ['s03e09c02fe||333'], ['s03e09c03fe||348'], ['s05e19c01fe||403'], ['s05e19c02fe||342']]\n",
      "\n"
     ]
    }
   ],
   "source": [
    "source = deepcopy(train)\n",
    "# print(\"Source:\", len(source), count_batch_mention_number([source]))\n",
    "# print()\n",
    "\n",
    "batches = get_batches_1(source)\n",
    "# print(\"All Batches:\", len(batches), count_batch_mention_number(batches))\n",
    "# print()\n",
    "\n",
    "small, medium, large = split_by_length_2(batches)\n",
    "# print(\"Small:\", len(small), sum([len(item) for item in small]), count_batch_mention_number(small))\n",
    "# print(\"Medium:\", len(medium), sum([len(item) for item in medium]), count_batch_mention_number(medium))\n",
    "# print(\"Large:\", len(large), sum([len(item) for item in large]), count_batch_mention_number(large))\n",
    "# print()\n",
    "\n",
    "merged_medium = add_small_to_medium_3(small, medium)\n",
    "print(\"Small:\", len(small), sum([len(item) for item in small]))\n",
    "mention_nums = count_batch_mention_number(small)\n",
    "ids = []\n",
    "for item in small:\n",
    "    ids.append([x['scene_id']+\"||\" + str(len(x['querySpans'])) for x in item])\n",
    "print(ids)\n",
    "\n",
    "print(\"Medium:\", len(medium), sum([len(item) for item in medium]))\n",
    "mention_nums = count_batch_mention_number(medium)\n",
    "ids = []\n",
    "for item in medium:\n",
    "    ids.append([x['scene_id']+\"||\" + str(len(x['querySpans'])) for x in item])\n",
    "print(ids)\n",
    "\n",
    "print(\"Large:\", len(large), sum([len(item) for item in large]))\n",
    "mention_nums = count_batch_mention_number(large)\n",
    "ids = []\n",
    "for item in large:\n",
    "    ids.append([x['scene_id']+\"||\" + str(len(x['querySpans'])) for x in item])\n",
    "print(ids)\n",
    "print()"
   ],
   "metadata": {
    "collapsed": false,
    "pycharm": {
     "name": "#%%\n"
    }
   }
  },
  {
   "cell_type": "code",
   "execution_count": null,
   "outputs": [],
   "source": [],
   "metadata": {
    "collapsed": false,
    "pycharm": {
     "name": "#%%\n"
    }
   }
  },
  {
   "cell_type": "code",
   "execution_count": null,
   "outputs": [],
   "source": [],
   "metadata": {
    "collapsed": false,
    "pycharm": {
     "name": "#%%\n"
    }
   }
  },
  {
   "cell_type": "code",
   "execution_count": null,
   "outputs": [],
   "source": [],
   "metadata": {
    "collapsed": false,
    "pycharm": {
     "name": "#%%\n"
    }
   }
  },
  {
   "cell_type": "code",
   "execution_count": 215,
   "outputs": [],
   "source": [
    "temp = deepcopy(train[:10])\n",
    "batches = get_batches_1(temp)"
   ],
   "metadata": {
    "collapsed": false,
    "pycharm": {
     "name": "#%%\n"
    }
   }
  },
  {
   "cell_type": "code",
   "execution_count": 224,
   "outputs": [
    {
     "name": "stdout",
     "output_type": "stream",
     "text": [
      "10 [116, 135, 423, 29, 89, 15, 48, 18, 9, 43]\n",
      "\n",
      "3 [[116, 135], [423], [29, 89, 15, 48, 18, 9, 43]]\n"
     ]
    }
   ],
   "source": [
    "print(len(temp), count_batch_mention_number(temp))\n",
    "print()\n",
    "print(len(batches), [count_batch_mention_number(item) for item in batches])"
   ],
   "metadata": {
    "collapsed": false,
    "pycharm": {
     "name": "#%%\n"
    }
   }
  },
  {
   "cell_type": "code",
   "execution_count": 217,
   "outputs": [
    {
     "name": "stdout",
     "output_type": "stream",
     "text": [
      "2\n",
      "1\n",
      "7\n"
     ]
    }
   ],
   "source": [
    "count = 0\n",
    "for item in batches:\n",
    "    print(len(item))\n",
    "    count += len(item)"
   ],
   "metadata": {
    "collapsed": false,
    "pycharm": {
     "name": "#%%\n"
    }
   }
  },
  {
   "cell_type": "code",
   "execution_count": 218,
   "outputs": [
    {
     "name": "stdout",
     "output_type": "stream",
     "text": [
      "10 10\n"
     ]
    }
   ],
   "source": [
    "print(len(temp), count)"
   ],
   "metadata": {
    "collapsed": false,
    "pycharm": {
     "name": "#%%\n"
    }
   }
  },
  {
   "cell_type": "code",
   "execution_count": null,
   "outputs": [],
   "source": [],
   "metadata": {
    "collapsed": false,
    "pycharm": {
     "name": "#%%\n"
    }
   }
  },
  {
   "cell_type": "code",
   "execution_count": null,
   "outputs": [],
   "source": [],
   "metadata": {
    "collapsed": false,
    "pycharm": {
     "name": "#%%\n"
    }
   }
  },
  {
   "cell_type": "code",
   "execution_count": null,
   "outputs": [],
   "source": [],
   "metadata": {
    "collapsed": false,
    "pycharm": {
     "name": "#%%\n"
    }
   }
  },
  {
   "cell_type": "code",
   "execution_count": 168,
   "outputs": [],
   "source": [
    "def batch_scenes(scenes):\n",
    "    # Batch using threshold of 270 mentions\n",
    "    batches = []\n",
    "    temp = []\n",
    "    num_mentions = 0\n",
    "    for scene in scenes:\n",
    "        length = len(scene['querySpans'])\n",
    "        if length + num_mentions > 270:\n",
    "            batches.append(temp)\n",
    "            # Re-Initialize the temp and num_mentions\n",
    "            temp = [scene]\n",
    "            num_mentions = length\n",
    "        else:\n",
    "            temp.append(scene)\n",
    "            num_mentions += length\n",
    "\n",
    "    # Split into regular and long\n",
    "    small = []\n",
    "    medium = []\n",
    "    large = []\n",
    "    for batch in batches:\n",
    "        length = count_batch_mention_number(batch)\n",
    "        if length <=150:\n",
    "            small.append(batch)\n",
    "        elif length<=300:\n",
    "            medium.append(batch)\n",
    "        else:\n",
    "            large.append(batch)\n",
    "\n",
    "    # Merge small batches into medium\n",
    "    sorted_small = sorted(small, key = lambda x: count_batch_mention_number(x), reverse=True)\n",
    "    for batch in sorted_small:\n",
    "        # Locate smallest batch in medium\n",
    "        index = -1\n",
    "        minimum = 10000\n",
    "        for j in range(len(medium)):\n",
    "            length = count_batch_mention_number(medium[j])\n",
    "            if length < minimum:\n",
    "                minimum = length\n",
    "                index = j\n",
    "        medium[index].extend(batch)\n",
    "\n",
    "    return medium, large"
   ],
   "metadata": {
    "collapsed": false,
    "pycharm": {
     "name": "#%%\n"
    }
   }
  },
  {
   "cell_type": "code",
   "execution_count": 169,
   "outputs": [
    {
     "name": "stdout",
     "output_type": "stream",
     "text": [
      "219 6 234\n",
      "56 1 243\n",
      "28 0 239\n",
      "28 0 248\n"
     ]
    }
   ],
   "source": [
    "with open('scenes/train_extension.pkl', 'rb') as f:\n",
    "    train = pkl.load(f)\n",
    "with open('scenes/dev_extension.pkl', 'rb') as f:\n",
    "    dev = pkl.load(f)\n",
    "with open('scenes/test_extension.pkl', 'rb') as f:\n",
    "    test = pkl.load(f)\n",
    "dev_test = []\n",
    "dev_test.extend(dev)\n",
    "dev_test.extend(test)\n",
    "\n",
    "\n",
    "# print(len(train))\n",
    "# print(len(dev))\n",
    "# print(len(test))\n",
    "\n",
    "a, b = batch_scenes(train)\n",
    "print(len(a), len(b), int(sum([count_batch_mention_number(item) for item in a])/len(a)))\n",
    "a, b = batch_scenes(dev_test)\n",
    "print(len(a), len(b), int(sum([count_batch_mention_number(item) for item in a])/len(a)))\n",
    "a, b = batch_scenes(dev)\n",
    "print(len(a), len(b), int(sum([count_batch_mention_number(item) for item in a])/len(a)))\n",
    "a, b = batch_scenes(test)\n",
    "print(len(a), len(b), int(sum([count_batch_mention_number(item) for item in a])/len(a)))"
   ],
   "metadata": {
    "collapsed": false,
    "pycharm": {
     "name": "#%%\n"
    }
   }
  },
  {
   "cell_type": "code",
   "execution_count": 129,
   "outputs": [
    {
     "name": "stdout",
     "output_type": "stream",
     "text": [
      "303 2 234\n",
      "77 1 234\n",
      "37 1 235\n",
      "39 0 234\n"
     ]
    }
   ],
   "source": [
    "with open('scenes/train_all_no_extend.pkl', 'rb') as f:\n",
    "    train = pkl.load(f)\n",
    "with open('scenes/dev_all_no_extend.pkl', 'rb') as f:\n",
    "    dev = pkl.load(f)\n",
    "with open('scenes/test_all_no_extend.pkl', 'rb') as f:\n",
    "    test = pkl.load(f)\n",
    "dev_test = []\n",
    "dev_test.extend(dev)\n",
    "dev_test.extend(test)\n",
    "\n",
    "# print(len(train))\n",
    "# print(len(dev))\n",
    "# print(len(test))\n",
    "\n",
    "a, b = batch_scenes(train)\n",
    "print(len(a), len(b), int(sum([count_batch_mention_number(item) for item in a])/len(a)))\n",
    "a, b = batch_scenes(dev_test)\n",
    "print(len(a), len(b), int(sum([count_batch_mention_number(item) for item in a])/len(a)))\n",
    "a, b = batch_scenes(dev)\n",
    "print(len(a), len(b), int(sum([count_batch_mention_number(item) for item in a])/len(a)))\n",
    "a, b = batch_scenes(test)\n",
    "print(len(a), len(b), int(sum([count_batch_mention_number(item) for item in a])/len(a)))"
   ],
   "metadata": {
    "collapsed": false,
    "pycharm": {
     "name": "#%%\n"
    }
   }
  },
  {
   "cell_type": "code",
   "execution_count": 172,
   "outputs": [
    {
     "name": "stdout",
     "output_type": "stream",
     "text": [
      "523 8 234\n",
      "134 2 237\n",
      "66 1 236\n",
      "68 0 238\n"
     ]
    }
   ],
   "source": [
    "with open('scenes/train_all.pkl', 'rb') as f:\n",
    "    train = pkl.load(f)\n",
    "with open('scenes/dev_all.pkl', 'rb') as f:\n",
    "    dev = pkl.load(f)\n",
    "with open('scenes/test_all.pkl', 'rb') as f:\n",
    "    test = pkl.load(f)\n",
    "\n",
    "dev_test = []\n",
    "dev_test.extend(dev)\n",
    "dev_test.extend(test)\n",
    "\n",
    "# print(len(train))\n",
    "# print(len(dev))\n",
    "# print(len(test))\n",
    "\n",
    "a, b = batch_scenes(train)\n",
    "print(len(a), len(b), int(sum([count_batch_mention_number(item) for item in a])/len(a)))\n",
    "a, b = batch_scenes(dev_test)\n",
    "print(len(a), len(b), int(sum([count_batch_mention_number(item) for item in a])/len(a)))\n",
    "a, b = batch_scenes(dev)\n",
    "print(len(a), len(b), int(sum([count_batch_mention_number(item) for item in a])/len(a)))\n",
    "a, b = batch_scenes(test)\n",
    "print(len(a), len(b), int(sum([count_batch_mention_number(item) for item in a])/len(a)))"
   ],
   "metadata": {
    "collapsed": false,
    "pycharm": {
     "name": "#%%\n"
    }
   }
  },
  {
   "cell_type": "code",
   "execution_count": 173,
   "outputs": [],
   "source": [
    "temp = deepcopy(train[:10])\n",
    "a, b = batch_scenes(temp)"
   ],
   "metadata": {
    "collapsed": false,
    "pycharm": {
     "name": "#%%\n"
    }
   }
  },
  {
   "cell_type": "code",
   "execution_count": 177,
   "outputs": [
    {
     "name": "stdout",
     "output_type": "stream",
     "text": [
      "2\n"
     ]
    }
   ],
   "source": [
    "batches = get_batches_1(deepcopy(train[:10]))\n",
    "print(len(batches))"
   ],
   "metadata": {
    "collapsed": false,
    "pycharm": {
     "name": "#%%\n"
    }
   }
  },
  {
   "cell_type": "code",
   "execution_count": 174,
   "outputs": [
    {
     "name": "stdout",
     "output_type": "stream",
     "text": [
      "1\n",
      "1\n"
     ]
    }
   ],
   "source": [
    "print(len(a))\n",
    "print(len(b))"
   ],
   "metadata": {
    "collapsed": false,
    "pycharm": {
     "name": "#%%\n"
    }
   }
  },
  {
   "cell_type": "code",
   "execution_count": 161,
   "outputs": [
    {
     "name": "stdout",
     "output_type": "stream",
     "text": [
      "3\n"
     ]
    }
   ],
   "source": [
    "print(len(a[2]))\n"
   ],
   "metadata": {
    "collapsed": false,
    "pycharm": {
     "name": "#%%\n"
    }
   }
  },
  {
   "cell_type": "code",
   "execution_count": 164,
   "outputs": [
    {
     "name": "stdout",
     "output_type": "stream",
     "text": [
      "[{'sentences': [['Leonard', ':', 'All', 'right', ',', 'there', 'it', 'goes', '.', 'It', 'sticks', ',', 'I', \"'m\", 'sorry', '.'], ['Penny', ':', 'Okay', ',', 'thanks', '.'], ['Leonard', ':', 'You', \"'re\", 'welcome', '.', 'Oh', ',', 'you', \"'re\", 'just', 'gon', 'na', 'step', 'right', '...', '?', 'Okay', '.'], ['Penny', ':', 'Hey', ',', 'Leonard', '?'], ['Leonard', ':', 'The', 'hair', 'products', 'are', 'Sheldon', \"'s\", '.'], ['Penny', ':', 'Okay', '.', 'Um', ',', 'can', 'I', 'ask', 'you', 'a', 'favor', '?', 'A', 'favor', '?'], ['Leonard', ':', 'Sure', ',', 'you', 'could', 'ask', 'me', 'a', 'favor', '.', 'I', 'would', 'do', 'you', 'a', 'favor', 'for', 'you', '.'], ['Penny', ':', 'It', \"'s\", 'okay', 'if', 'you', 'say', 'no', '.'], ['Leonard', ':', 'Oh', ',', 'I', \"'ll\", 'probably', 'say', 'yes', '.'], ['Penny', ':', 'It', \"'s\", 'just', 'not', 'the', 'kind', 'of', 'thing', 'you', 'ask', 'a', 'guy', 'you', 'just', 'met', '.'], ['Leonard', ':', 'Wow', '.']], 'querySpans': [{'sentenceIndex': 0, 'startToken': 6, 'endToken': 7}, {'sentenceIndex': 0, 'startToken': 9, 'endToken': 10}, {'sentenceIndex': 0, 'startToken': 12, 'endToken': 13}, {'sentenceIndex': 1, 'startToken': 2, 'endToken': 5}, {'sentenceIndex': 2, 'startToken': 2, 'endToken': 3}, {'sentenceIndex': 2, 'startToken': 8, 'endToken': 9}, {'sentenceIndex': 3, 'startToken': 2, 'endToken': 5}, {'sentenceIndex': 4, 'startToken': 2, 'endToken': 5}, {'sentenceIndex': 4, 'startToken': 6, 'endToken': 7}, {'sentenceIndex': 5, 'startToken': 7, 'endToken': 8}, {'sentenceIndex': 5, 'startToken': 9, 'endToken': 10}, {'sentenceIndex': 5, 'startToken': 10, 'endToken': 12}, {'sentenceIndex': 5, 'startToken': 13, 'endToken': 15}, {'sentenceIndex': 6, 'startToken': 4, 'endToken': 5}, {'sentenceIndex': 6, 'startToken': 7, 'endToken': 8}, {'sentenceIndex': 6, 'startToken': 8, 'endToken': 10}, {'sentenceIndex': 6, 'startToken': 11, 'endToken': 12}, {'sentenceIndex': 6, 'startToken': 14, 'endToken': 15}, {'sentenceIndex': 6, 'startToken': 15, 'endToken': 17}, {'sentenceIndex': 6, 'startToken': 18, 'endToken': 19}, {'sentenceIndex': 7, 'startToken': 2, 'endToken': 3}, {'sentenceIndex': 7, 'startToken': 6, 'endToken': 7}, {'sentenceIndex': 8, 'startToken': 4, 'endToken': 5}, {'sentenceIndex': 9, 'startToken': 2, 'endToken': 3}, {'sentenceIndex': 9, 'startToken': 6, 'endToken': 8}, {'sentenceIndex': 9, 'startToken': 9, 'endToken': 10}, {'sentenceIndex': 9, 'startToken': 10, 'endToken': 11}, {'sentenceIndex': 9, 'startToken': 12, 'endToken': 14}, {'sentenceIndex': 9, 'startToken': 14, 'endToken': 15}], 'candidateSpans': [{'sentenceIndex': 0, 'startToken': 6, 'endToken': 7}, {'sentenceIndex': 0, 'startToken': 9, 'endToken': 10}, {'sentenceIndex': 0, 'startToken': 12, 'endToken': 13}, {'sentenceIndex': 1, 'startToken': 2, 'endToken': 5}, {'sentenceIndex': 2, 'startToken': 2, 'endToken': 3}, {'sentenceIndex': 2, 'startToken': 8, 'endToken': 9}, {'sentenceIndex': 3, 'startToken': 2, 'endToken': 5}, {'sentenceIndex': 4, 'startToken': 2, 'endToken': 5}, {'sentenceIndex': 4, 'startToken': 6, 'endToken': 7}, {'sentenceIndex': 5, 'startToken': 7, 'endToken': 8}, {'sentenceIndex': 5, 'startToken': 9, 'endToken': 10}, {'sentenceIndex': 5, 'startToken': 10, 'endToken': 12}, {'sentenceIndex': 5, 'startToken': 13, 'endToken': 15}, {'sentenceIndex': 6, 'startToken': 4, 'endToken': 5}, {'sentenceIndex': 6, 'startToken': 7, 'endToken': 8}, {'sentenceIndex': 6, 'startToken': 8, 'endToken': 10}, {'sentenceIndex': 6, 'startToken': 11, 'endToken': 12}, {'sentenceIndex': 6, 'startToken': 14, 'endToken': 15}, {'sentenceIndex': 6, 'startToken': 15, 'endToken': 17}, {'sentenceIndex': 6, 'startToken': 18, 'endToken': 19}, {'sentenceIndex': 7, 'startToken': 2, 'endToken': 3}, {'sentenceIndex': 7, 'startToken': 6, 'endToken': 7}, {'sentenceIndex': 8, 'startToken': 4, 'endToken': 5}, {'sentenceIndex': 9, 'startToken': 2, 'endToken': 3}, {'sentenceIndex': 9, 'startToken': 6, 'endToken': 8}, {'sentenceIndex': 9, 'startToken': 9, 'endToken': 10}, {'sentenceIndex': 9, 'startToken': 10, 'endToken': 11}, {'sentenceIndex': 9, 'startToken': 12, 'endToken': 14}, {'sentenceIndex': 9, 'startToken': 14, 'endToken': 15}], 'clickSpans': [{'sentenceIndex': 0, 'startToken': 6, 'endToken': 7}, {'sentenceIndex': 0, 'startToken': 9, 'endToken': 10}, {'sentenceIndex': 0, 'startToken': 12, 'endToken': 13}, {'sentenceIndex': 1, 'startToken': 2, 'endToken': 5}, {'sentenceIndex': 2, 'startToken': 2, 'endToken': 3}, {'sentenceIndex': 2, 'startToken': 8, 'endToken': 9}, {'sentenceIndex': 3, 'startToken': 2, 'endToken': 5}, {'sentenceIndex': 4, 'startToken': 2, 'endToken': 5}, {'sentenceIndex': 4, 'startToken': 6, 'endToken': 7}, {'sentenceIndex': 5, 'startToken': 7, 'endToken': 8}, {'sentenceIndex': 5, 'startToken': 9, 'endToken': 10}, {'sentenceIndex': 5, 'startToken': 10, 'endToken': 12}, {'sentenceIndex': 5, 'startToken': 13, 'endToken': 15}, {'sentenceIndex': 6, 'startToken': 4, 'endToken': 5}, {'sentenceIndex': 6, 'startToken': 7, 'endToken': 8}, {'sentenceIndex': 6, 'startToken': 8, 'endToken': 10}, {'sentenceIndex': 6, 'startToken': 11, 'endToken': 12}, {'sentenceIndex': 6, 'startToken': 14, 'endToken': 15}, {'sentenceIndex': 6, 'startToken': 15, 'endToken': 17}, {'sentenceIndex': 6, 'startToken': 18, 'endToken': 19}, {'sentenceIndex': 7, 'startToken': 2, 'endToken': 3}, {'sentenceIndex': 7, 'startToken': 6, 'endToken': 7}, {'sentenceIndex': 8, 'startToken': 4, 'endToken': 5}, {'sentenceIndex': 9, 'startToken': 2, 'endToken': 3}, {'sentenceIndex': 9, 'startToken': 6, 'endToken': 8}, {'sentenceIndex': 9, 'startToken': 9, 'endToken': 10}, {'sentenceIndex': 9, 'startToken': 10, 'endToken': 11}, {'sentenceIndex': 9, 'startToken': 12, 'endToken': 14}, {'sentenceIndex': 9, 'startToken': 14, 'endToken': 15}], 'scene_id': 's01e01c03t'}, {'sentences': [['Sheldon', ':', 'I', 'really', 'think', 'we', 'should', 'examine', 'the', 'chain', 'of', 'causality', 'here', '.'], ['Leonard', ':', 'Must', 'we', '?'], ['Sheldon', ':', 'Event', 'A', ':', 'A', 'beautiful', 'woman', 'stands', 'naked', 'in', 'our', 'shower', '.', 'Event', 'B', ':', 'We', 'drive', 'halfway', 'across', 'town', 'to', 'retrieve', 'a', 'television', 'set', 'from', 'the', 'aforementioned', 'woman', \"'s\", 'ex', '-', 'boyfriend', '.', 'On', 'what', 'plane', 'of', 'existence', 'is', 'there', 'even', 'a', 'semi', '-', 'rational', 'link', 'between', 'these', 'events', '?'], ['Leonard', ':', 'She', 'asked', 'me', 'to', 'do', 'her', 'a', 'favor', ',', 'Sheldon', '.'], ['Sheldon', ':', 'Well', ',', 'that', 'may', 'be', 'the', 'proximal', 'cause', 'of', 'our', 'journey', 'but', 'we', 'both', 'know', 'it', 'exists', 'in', 'contradistinction', 'to', 'the', 'higher', '-', 'level', 'distal', 'cause', '.'], ['Leonard', ':', 'Which', 'is', '?'], ['Sheldon', ':', 'You', 'think', 'with', 'your', 'penis', '.'], ['Leonard', ':', 'That', \"'s\", 'a', 'biological', 'impossibility', ',', 'and', 'you', 'did', \"n't\", 'have', 'to', 'come', '.'], ['Sheldon', ':', 'I', 'could', 'have', 'stayed', 'behind', 'to', 'watch', 'Wolowitz', 'hit', 'on', 'Penny', 'in', 'Russian', ',', 'Arabic', 'and', 'Farsi', '.', 'And', 'why', 'ca', \"n't\", 'she', 'get', 'her', 'own', 'TV', '?'], ['Leonard', ':', 'Come', 'on', ',', 'you', 'know', 'how', 'it', 'is', 'with', 'breakups', '.'], ['Sheldon', ':', 'No', ',', 'I', 'do', \"n't\", ',', 'and', 'neither', 'do', 'you', '.'], ['Leonard', ':', 'But', 'I', '...', 'I', 'broke', 'up', 'with', 'Joyce', 'Kim', '.'], ['Sheldon', ':', 'You', 'did', 'not', 'break', 'up', 'with', 'Joyce', 'Kim', '.', 'She', 'defected', 'to', 'North', 'Korea', '.'], ['Leonard', ':', 'To', 'mend', 'her', 'broken', 'heart', '.', 'This', 'situation', 'is', 'much', 'less', 'complicated', '.', 'There', \"'s\", 'some', 'dispute', 'between', 'Penny', 'and', 'her', 'ex', '-', 'boyfriend', 'as', 'to', 'who', 'gets', 'custody', 'of', 'the', 'TV', '.', 'She', 'just', 'wanted', 'to', 'avoid', 'a', 'scene', 'with', 'him', '.'], ['Sheldon', ':', 'So', 'we', 'get', 'to', 'have', 'a', 'scene', 'with', 'him', '?'], ['Leonard', ':', 'No', ',', 'Sheldon', ',', 'there', \"'s\", 'not', 'going', 'to', 'be', 'a', 'scene', '.', 'There', \"'s\", 'two', 'of', 'us', 'and', 'one', 'of', 'him', '.'], ['Sheldon', ':', 'Leonard', ',', 'the', 'two', 'of', 'us', 'ca', \"n't\", 'even', 'carry', 'a', 'TV', '.']], 'querySpans': [{'sentenceIndex': 0, 'startToken': 2, 'endToken': 3}, {'sentenceIndex': 0, 'startToken': 5, 'endToken': 6}, {'sentenceIndex': 0, 'startToken': 8, 'endToken': 10}, {'sentenceIndex': 0, 'startToken': 11, 'endToken': 12}, {'sentenceIndex': 1, 'startToken': 3, 'endToken': 4}, {'sentenceIndex': 2, 'startToken': 2, 'endToken': 4}, {'sentenceIndex': 2, 'startToken': 5, 'endToken': 8}, {'sentenceIndex': 2, 'startToken': 11, 'endToken': 13}, {'sentenceIndex': 2, 'startToken': 11, 'endToken': 12}, {'sentenceIndex': 2, 'startToken': 14, 'endToken': 16}, {'sentenceIndex': 2, 'startToken': 17, 'endToken': 18}, {'sentenceIndex': 2, 'startToken': 21, 'endToken': 22}, {'sentenceIndex': 2, 'startToken': 24, 'endToken': 27}, {'sentenceIndex': 2, 'startToken': 28, 'endToken': 33}, {'sentenceIndex': 2, 'startToken': 34, 'endToken': 35}, {'sentenceIndex': 2, 'startToken': 37, 'endToken': 39}, {'sentenceIndex': 2, 'startToken': 40, 'endToken': 41}, {'sentenceIndex': 2, 'startToken': 42, 'endToken': 43}, {'sentenceIndex': 2, 'startToken': 43, 'endToken': 49}, {'sentenceIndex': 2, 'startToken': 50, 'endToken': 52}, {'sentenceIndex': 3, 'startToken': 2, 'endToken': 3}, {'sentenceIndex': 3, 'startToken': 4, 'endToken': 5}, {'sentenceIndex': 3, 'startToken': 7, 'endToken': 8}, {'sentenceIndex': 3, 'startToken': 8, 'endToken': 10}, {'sentenceIndex': 3, 'startToken': 11, 'endToken': 12}, {'sentenceIndex': 4, 'startToken': 4, 'endToken': 5}, {'sentenceIndex': 4, 'startToken': 7, 'endToken': 10}, {'sentenceIndex': 4, 'startToken': 11, 'endToken': 13}, {'sentenceIndex': 4, 'startToken': 11, 'endToken': 12}, {'sentenceIndex': 4, 'startToken': 14, 'endToken': 15}, {'sentenceIndex': 4, 'startToken': 15, 'endToken': 16}, {'sentenceIndex': 4, 'startToken': 17, 'endToken': 18}, {'sentenceIndex': 4, 'startToken': 20, 'endToken': 21}, {'sentenceIndex': 4, 'startToken': 22, 'endToken': 28}, {'sentenceIndex': 5, 'startToken': 2, 'endToken': 3}, {'sentenceIndex': 6, 'startToken': 2, 'endToken': 3}, {'sentenceIndex': 6, 'startToken': 5, 'endToken': 7}, {'sentenceIndex': 6, 'startToken': 5, 'endToken': 6}, {'sentenceIndex': 7, 'startToken': 2, 'endToken': 3}, {'sentenceIndex': 7, 'startToken': 4, 'endToken': 7}, {'sentenceIndex': 7, 'startToken': 9, 'endToken': 10}, {'sentenceIndex': 8, 'startToken': 2, 'endToken': 3}, {'sentenceIndex': 8, 'startToken': 9, 'endToken': 10}, {'sentenceIndex': 8, 'startToken': 12, 'endToken': 13}, {'sentenceIndex': 8, 'startToken': 14, 'endToken': 15}, {'sentenceIndex': 8, 'startToken': 16, 'endToken': 17}, {'sentenceIndex': 8, 'startToken': 18, 'endToken': 19}, {'sentenceIndex': 8, 'startToken': 24, 'endToken': 25}, {'sentenceIndex': 8, 'startToken': 26, 'endToken': 29}, {'sentenceIndex': 8, 'startToken': 26, 'endToken': 27}, {'sentenceIndex': 9, 'startToken': 5, 'endToken': 6}, {'sentenceIndex': 9, 'startToken': 8, 'endToken': 9}, {'sentenceIndex': 9, 'startToken': 11, 'endToken': 12}, {'sentenceIndex': 10, 'startToken': 4, 'endToken': 5}, {'sentenceIndex': 10, 'startToken': 11, 'endToken': 12}, {'sentenceIndex': 11, 'startToken': 2, 'endToken': 4}, {'sentenceIndex': 11, 'startToken': 3, 'endToken': 4}, {'sentenceIndex': 11, 'startToken': 5, 'endToken': 6}, {'sentenceIndex': 11, 'startToken': 9, 'endToken': 11}, {'sentenceIndex': 12, 'startToken': 2, 'endToken': 3}, {'sentenceIndex': 12, 'startToken': 8, 'endToken': 10}, {'sentenceIndex': 12, 'startToken': 11, 'endToken': 12}, {'sentenceIndex': 12, 'startToken': 14, 'endToken': 16}, {'sentenceIndex': 13, 'startToken': 4, 'endToken': 5}, {'sentenceIndex': 13, 'startToken': 4, 'endToken': 7}, {'sentenceIndex': 13, 'startToken': 8, 'endToken': 10}, {'sentenceIndex': 13, 'startToken': 15, 'endToken': 16}, {'sentenceIndex': 13, 'startToken': 17, 'endToken': 19}, {'sentenceIndex': 13, 'startToken': 20, 'endToken': 21}, {'sentenceIndex': 13, 'startToken': 22, 'endToken': 24}, {'sentenceIndex': 13, 'startToken': 22, 'endToken': 23}, {'sentenceIndex': 13, 'startToken': 25, 'endToken': 26}, {'sentenceIndex': 13, 'startToken': 28, 'endToken': 29}, {'sentenceIndex': 13, 'startToken': 30, 'endToken': 31}, {'sentenceIndex': 13, 'startToken': 32, 'endToken': 34}, {'sentenceIndex': 13, 'startToken': 35, 'endToken': 36}, {'sentenceIndex': 13, 'startToken': 40, 'endToken': 42}, {'sentenceIndex': 13, 'startToken': 43, 'endToken': 44}, {'sentenceIndex': 14, 'startToken': 3, 'endToken': 4}, {'sentenceIndex': 14, 'startToken': 7, 'endToken': 9}, {'sentenceIndex': 14, 'startToken': 10, 'endToken': 11}, {'sentenceIndex': 15, 'startToken': 6, 'endToken': 7}, {'sentenceIndex': 15, 'startToken': 12, 'endToken': 14}, {'sentenceIndex': 15, 'startToken': 15, 'endToken': 16}, {'sentenceIndex': 15, 'startToken': 19, 'endToken': 20}, {'sentenceIndex': 15, 'startToken': 23, 'endToken': 24}, {'sentenceIndex': 16, 'startToken': 2, 'endToken': 3}, {'sentenceIndex': 16, 'startToken': 7, 'endToken': 8}, {'sentenceIndex': 16, 'startToken': 12, 'endToken': 14}], 'candidateSpans': [{'sentenceIndex': 0, 'startToken': 2, 'endToken': 3}, {'sentenceIndex': 0, 'startToken': 5, 'endToken': 6}, {'sentenceIndex': 0, 'startToken': 8, 'endToken': 10}, {'sentenceIndex': 0, 'startToken': 11, 'endToken': 12}, {'sentenceIndex': 1, 'startToken': 3, 'endToken': 4}, {'sentenceIndex': 2, 'startToken': 2, 'endToken': 4}, {'sentenceIndex': 2, 'startToken': 5, 'endToken': 8}, {'sentenceIndex': 2, 'startToken': 11, 'endToken': 13}, {'sentenceIndex': 2, 'startToken': 11, 'endToken': 12}, {'sentenceIndex': 2, 'startToken': 14, 'endToken': 16}, {'sentenceIndex': 2, 'startToken': 17, 'endToken': 18}, {'sentenceIndex': 2, 'startToken': 21, 'endToken': 22}, {'sentenceIndex': 2, 'startToken': 24, 'endToken': 27}, {'sentenceIndex': 2, 'startToken': 28, 'endToken': 33}, {'sentenceIndex': 2, 'startToken': 34, 'endToken': 35}, {'sentenceIndex': 2, 'startToken': 37, 'endToken': 39}, {'sentenceIndex': 2, 'startToken': 40, 'endToken': 41}, {'sentenceIndex': 2, 'startToken': 42, 'endToken': 43}, {'sentenceIndex': 2, 'startToken': 43, 'endToken': 49}, {'sentenceIndex': 2, 'startToken': 50, 'endToken': 52}, {'sentenceIndex': 3, 'startToken': 2, 'endToken': 3}, {'sentenceIndex': 3, 'startToken': 4, 'endToken': 5}, {'sentenceIndex': 3, 'startToken': 7, 'endToken': 8}, {'sentenceIndex': 3, 'startToken': 8, 'endToken': 10}, {'sentenceIndex': 3, 'startToken': 11, 'endToken': 12}, {'sentenceIndex': 4, 'startToken': 4, 'endToken': 5}, {'sentenceIndex': 4, 'startToken': 7, 'endToken': 10}, {'sentenceIndex': 4, 'startToken': 11, 'endToken': 13}, {'sentenceIndex': 4, 'startToken': 11, 'endToken': 12}, {'sentenceIndex': 4, 'startToken': 14, 'endToken': 15}, {'sentenceIndex': 4, 'startToken': 15, 'endToken': 16}, {'sentenceIndex': 4, 'startToken': 17, 'endToken': 18}, {'sentenceIndex': 4, 'startToken': 20, 'endToken': 21}, {'sentenceIndex': 4, 'startToken': 22, 'endToken': 28}, {'sentenceIndex': 5, 'startToken': 2, 'endToken': 3}, {'sentenceIndex': 6, 'startToken': 2, 'endToken': 3}, {'sentenceIndex': 6, 'startToken': 5, 'endToken': 7}, {'sentenceIndex': 6, 'startToken': 5, 'endToken': 6}, {'sentenceIndex': 7, 'startToken': 2, 'endToken': 3}, {'sentenceIndex': 7, 'startToken': 4, 'endToken': 7}, {'sentenceIndex': 7, 'startToken': 9, 'endToken': 10}, {'sentenceIndex': 8, 'startToken': 2, 'endToken': 3}, {'sentenceIndex': 8, 'startToken': 9, 'endToken': 10}, {'sentenceIndex': 8, 'startToken': 12, 'endToken': 13}, {'sentenceIndex': 8, 'startToken': 14, 'endToken': 15}, {'sentenceIndex': 8, 'startToken': 16, 'endToken': 17}, {'sentenceIndex': 8, 'startToken': 18, 'endToken': 19}, {'sentenceIndex': 8, 'startToken': 24, 'endToken': 25}, {'sentenceIndex': 8, 'startToken': 26, 'endToken': 29}, {'sentenceIndex': 8, 'startToken': 26, 'endToken': 27}, {'sentenceIndex': 9, 'startToken': 5, 'endToken': 6}, {'sentenceIndex': 9, 'startToken': 8, 'endToken': 9}, {'sentenceIndex': 9, 'startToken': 11, 'endToken': 12}, {'sentenceIndex': 10, 'startToken': 4, 'endToken': 5}, {'sentenceIndex': 10, 'startToken': 11, 'endToken': 12}, {'sentenceIndex': 11, 'startToken': 2, 'endToken': 4}, {'sentenceIndex': 11, 'startToken': 3, 'endToken': 4}, {'sentenceIndex': 11, 'startToken': 5, 'endToken': 6}, {'sentenceIndex': 11, 'startToken': 9, 'endToken': 11}, {'sentenceIndex': 12, 'startToken': 2, 'endToken': 3}, {'sentenceIndex': 12, 'startToken': 8, 'endToken': 10}, {'sentenceIndex': 12, 'startToken': 11, 'endToken': 12}, {'sentenceIndex': 12, 'startToken': 14, 'endToken': 16}, {'sentenceIndex': 13, 'startToken': 4, 'endToken': 5}, {'sentenceIndex': 13, 'startToken': 4, 'endToken': 7}, {'sentenceIndex': 13, 'startToken': 8, 'endToken': 10}, {'sentenceIndex': 13, 'startToken': 15, 'endToken': 16}, {'sentenceIndex': 13, 'startToken': 17, 'endToken': 19}, {'sentenceIndex': 13, 'startToken': 20, 'endToken': 21}, {'sentenceIndex': 13, 'startToken': 22, 'endToken': 24}, {'sentenceIndex': 13, 'startToken': 22, 'endToken': 23}, {'sentenceIndex': 13, 'startToken': 25, 'endToken': 26}, {'sentenceIndex': 13, 'startToken': 28, 'endToken': 29}, {'sentenceIndex': 13, 'startToken': 30, 'endToken': 31}, {'sentenceIndex': 13, 'startToken': 32, 'endToken': 34}, {'sentenceIndex': 13, 'startToken': 35, 'endToken': 36}, {'sentenceIndex': 13, 'startToken': 40, 'endToken': 42}, {'sentenceIndex': 13, 'startToken': 43, 'endToken': 44}, {'sentenceIndex': 14, 'startToken': 3, 'endToken': 4}, {'sentenceIndex': 14, 'startToken': 7, 'endToken': 9}, {'sentenceIndex': 14, 'startToken': 10, 'endToken': 11}, {'sentenceIndex': 15, 'startToken': 6, 'endToken': 7}, {'sentenceIndex': 15, 'startToken': 12, 'endToken': 14}, {'sentenceIndex': 15, 'startToken': 15, 'endToken': 16}, {'sentenceIndex': 15, 'startToken': 19, 'endToken': 20}, {'sentenceIndex': 15, 'startToken': 23, 'endToken': 24}, {'sentenceIndex': 16, 'startToken': 2, 'endToken': 3}, {'sentenceIndex': 16, 'startToken': 7, 'endToken': 8}, {'sentenceIndex': 16, 'startToken': 12, 'endToken': 14}], 'clickSpans': [{'sentenceIndex': 0, 'startToken': 2, 'endToken': 3}, {'sentenceIndex': 0, 'startToken': 5, 'endToken': 6}, {'sentenceIndex': 0, 'startToken': 8, 'endToken': 10}, {'sentenceIndex': 0, 'startToken': 11, 'endToken': 12}, {'sentenceIndex': 1, 'startToken': 3, 'endToken': 4}, {'sentenceIndex': 2, 'startToken': 2, 'endToken': 4}, {'sentenceIndex': 2, 'startToken': 5, 'endToken': 8}, {'sentenceIndex': 2, 'startToken': 11, 'endToken': 13}, {'sentenceIndex': 2, 'startToken': 11, 'endToken': 12}, {'sentenceIndex': 2, 'startToken': 14, 'endToken': 16}, {'sentenceIndex': 2, 'startToken': 17, 'endToken': 18}, {'sentenceIndex': 2, 'startToken': 21, 'endToken': 22}, {'sentenceIndex': 2, 'startToken': 24, 'endToken': 27}, {'sentenceIndex': 2, 'startToken': 28, 'endToken': 33}, {'sentenceIndex': 2, 'startToken': 34, 'endToken': 35}, {'sentenceIndex': 2, 'startToken': 37, 'endToken': 39}, {'sentenceIndex': 2, 'startToken': 40, 'endToken': 41}, {'sentenceIndex': 2, 'startToken': 42, 'endToken': 43}, {'sentenceIndex': 2, 'startToken': 43, 'endToken': 49}, {'sentenceIndex': 2, 'startToken': 50, 'endToken': 52}, {'sentenceIndex': 3, 'startToken': 2, 'endToken': 3}, {'sentenceIndex': 3, 'startToken': 4, 'endToken': 5}, {'sentenceIndex': 3, 'startToken': 7, 'endToken': 8}, {'sentenceIndex': 3, 'startToken': 8, 'endToken': 10}, {'sentenceIndex': 3, 'startToken': 11, 'endToken': 12}, {'sentenceIndex': 4, 'startToken': 4, 'endToken': 5}, {'sentenceIndex': 4, 'startToken': 7, 'endToken': 10}, {'sentenceIndex': 4, 'startToken': 11, 'endToken': 13}, {'sentenceIndex': 4, 'startToken': 11, 'endToken': 12}, {'sentenceIndex': 4, 'startToken': 14, 'endToken': 15}, {'sentenceIndex': 4, 'startToken': 15, 'endToken': 16}, {'sentenceIndex': 4, 'startToken': 17, 'endToken': 18}, {'sentenceIndex': 4, 'startToken': 20, 'endToken': 21}, {'sentenceIndex': 4, 'startToken': 22, 'endToken': 28}, {'sentenceIndex': 5, 'startToken': 2, 'endToken': 3}, {'sentenceIndex': 6, 'startToken': 2, 'endToken': 3}, {'sentenceIndex': 6, 'startToken': 5, 'endToken': 7}, {'sentenceIndex': 6, 'startToken': 5, 'endToken': 6}, {'sentenceIndex': 7, 'startToken': 2, 'endToken': 3}, {'sentenceIndex': 7, 'startToken': 4, 'endToken': 7}, {'sentenceIndex': 7, 'startToken': 9, 'endToken': 10}, {'sentenceIndex': 8, 'startToken': 2, 'endToken': 3}, {'sentenceIndex': 8, 'startToken': 9, 'endToken': 10}, {'sentenceIndex': 8, 'startToken': 12, 'endToken': 13}, {'sentenceIndex': 8, 'startToken': 14, 'endToken': 15}, {'sentenceIndex': 8, 'startToken': 16, 'endToken': 17}, {'sentenceIndex': 8, 'startToken': 18, 'endToken': 19}, {'sentenceIndex': 8, 'startToken': 24, 'endToken': 25}, {'sentenceIndex': 8, 'startToken': 26, 'endToken': 29}, {'sentenceIndex': 8, 'startToken': 26, 'endToken': 27}, {'sentenceIndex': 9, 'startToken': 5, 'endToken': 6}, {'sentenceIndex': 9, 'startToken': 8, 'endToken': 9}, {'sentenceIndex': 9, 'startToken': 11, 'endToken': 12}, {'sentenceIndex': 10, 'startToken': 4, 'endToken': 5}, {'sentenceIndex': 10, 'startToken': 11, 'endToken': 12}, {'sentenceIndex': 11, 'startToken': 2, 'endToken': 4}, {'sentenceIndex': 11, 'startToken': 3, 'endToken': 4}, {'sentenceIndex': 11, 'startToken': 5, 'endToken': 6}, {'sentenceIndex': 11, 'startToken': 9, 'endToken': 11}, {'sentenceIndex': 12, 'startToken': 2, 'endToken': 3}, {'sentenceIndex': 12, 'startToken': 8, 'endToken': 10}, {'sentenceIndex': 12, 'startToken': 11, 'endToken': 12}, {'sentenceIndex': 12, 'startToken': 14, 'endToken': 16}, {'sentenceIndex': 13, 'startToken': 4, 'endToken': 5}, {'sentenceIndex': 13, 'startToken': 4, 'endToken': 7}, {'sentenceIndex': 13, 'startToken': 8, 'endToken': 10}, {'sentenceIndex': 13, 'startToken': 15, 'endToken': 16}, {'sentenceIndex': 13, 'startToken': 17, 'endToken': 19}, {'sentenceIndex': 13, 'startToken': 20, 'endToken': 21}, {'sentenceIndex': 13, 'startToken': 22, 'endToken': 24}, {'sentenceIndex': 13, 'startToken': 22, 'endToken': 23}, {'sentenceIndex': 13, 'startToken': 25, 'endToken': 26}, {'sentenceIndex': 13, 'startToken': 28, 'endToken': 29}, {'sentenceIndex': 13, 'startToken': 30, 'endToken': 31}, {'sentenceIndex': 13, 'startToken': 32, 'endToken': 34}, {'sentenceIndex': 13, 'startToken': 35, 'endToken': 36}, {'sentenceIndex': 13, 'startToken': 40, 'endToken': 42}, {'sentenceIndex': 13, 'startToken': 43, 'endToken': 44}, {'sentenceIndex': 14, 'startToken': 3, 'endToken': 4}, {'sentenceIndex': 14, 'startToken': 7, 'endToken': 9}, {'sentenceIndex': 14, 'startToken': 10, 'endToken': 11}, {'sentenceIndex': 15, 'startToken': 6, 'endToken': 7}, {'sentenceIndex': 15, 'startToken': 12, 'endToken': 14}, {'sentenceIndex': 15, 'startToken': 15, 'endToken': 16}, {'sentenceIndex': 15, 'startToken': 19, 'endToken': 20}, {'sentenceIndex': 15, 'startToken': 23, 'endToken': 24}, {'sentenceIndex': 16, 'startToken': 2, 'endToken': 3}, {'sentenceIndex': 16, 'startToken': 7, 'endToken': 8}, {'sentenceIndex': 16, 'startToken': 12, 'endToken': 14}], 'scene_id': 's01e01c04t'}, {'sentences': [['Penny', ':', 'So', 'you', 'guys', 'work', 'with', 'Leonard', 'and', 'Sheldon', 'at', 'the', 'university', '?'], ['Penny', ':', 'I', \"'m\", 'sorry', ',', 'do', 'you', 'speak', 'English', '?'], ['Howard', ':', 'Oh', ',', 'he', 'speaks', 'English', '.', 'He', 'just', 'ca', \"n't\", 'speak', 'to', 'women', '.'], ['Penny', ':', 'Really', '?'], ['Howard', ':', 'He', \"'s\", 'kind', 'of', 'a', 'nerd', '.', 'Juice', 'box', '?']], 'querySpans': [{'sentenceIndex': 0, 'startToken': 3, 'endToken': 5}, {'sentenceIndex': 0, 'startToken': 3, 'endToken': 4}, {'sentenceIndex': 0, 'startToken': 7, 'endToken': 8}, {'sentenceIndex': 0, 'startToken': 9, 'endToken': 10}, {'sentenceIndex': 0, 'startToken': 11, 'endToken': 13}, {'sentenceIndex': 1, 'startToken': 2, 'endToken': 3}, {'sentenceIndex': 1, 'startToken': 7, 'endToken': 8}, {'sentenceIndex': 1, 'startToken': 9, 'endToken': 10}, {'sentenceIndex': 2, 'startToken': 4, 'endToken': 5}, {'sentenceIndex': 2, 'startToken': 6, 'endToken': 7}, {'sentenceIndex': 2, 'startToken': 8, 'endToken': 9}, {'sentenceIndex': 2, 'startToken': 14, 'endToken': 15}, {'sentenceIndex': 4, 'startToken': 2, 'endToken': 3}, {'sentenceIndex': 4, 'startToken': 4, 'endToken': 8}, {'sentenceIndex': 4, 'startToken': 9, 'endToken': 11}], 'candidateSpans': [{'sentenceIndex': 0, 'startToken': 3, 'endToken': 5}, {'sentenceIndex': 0, 'startToken': 3, 'endToken': 4}, {'sentenceIndex': 0, 'startToken': 7, 'endToken': 8}, {'sentenceIndex': 0, 'startToken': 9, 'endToken': 10}, {'sentenceIndex': 0, 'startToken': 11, 'endToken': 13}, {'sentenceIndex': 1, 'startToken': 2, 'endToken': 3}, {'sentenceIndex': 1, 'startToken': 7, 'endToken': 8}, {'sentenceIndex': 1, 'startToken': 9, 'endToken': 10}, {'sentenceIndex': 2, 'startToken': 4, 'endToken': 5}, {'sentenceIndex': 2, 'startToken': 6, 'endToken': 7}, {'sentenceIndex': 2, 'startToken': 8, 'endToken': 9}, {'sentenceIndex': 2, 'startToken': 14, 'endToken': 15}, {'sentenceIndex': 4, 'startToken': 2, 'endToken': 3}, {'sentenceIndex': 4, 'startToken': 4, 'endToken': 8}, {'sentenceIndex': 4, 'startToken': 9, 'endToken': 11}], 'clickSpans': [{'sentenceIndex': 0, 'startToken': 3, 'endToken': 5}, {'sentenceIndex': 0, 'startToken': 3, 'endToken': 4}, {'sentenceIndex': 0, 'startToken': 7, 'endToken': 8}, {'sentenceIndex': 0, 'startToken': 9, 'endToken': 10}, {'sentenceIndex': 0, 'startToken': 11, 'endToken': 13}, {'sentenceIndex': 1, 'startToken': 2, 'endToken': 3}, {'sentenceIndex': 1, 'startToken': 7, 'endToken': 8}, {'sentenceIndex': 1, 'startToken': 9, 'endToken': 10}, {'sentenceIndex': 2, 'startToken': 4, 'endToken': 5}, {'sentenceIndex': 2, 'startToken': 6, 'endToken': 7}, {'sentenceIndex': 2, 'startToken': 8, 'endToken': 9}, {'sentenceIndex': 2, 'startToken': 14, 'endToken': 15}, {'sentenceIndex': 4, 'startToken': 2, 'endToken': 3}, {'sentenceIndex': 4, 'startToken': 4, 'endToken': 8}, {'sentenceIndex': 4, 'startToken': 9, 'endToken': 11}], 'scene_id': 's01e01c05t'}, {'sentences': [['Leonard', ':', 'I', \"'ll\", 'do', 'the', 'talking', '.'], ['Voice', 'from', 'buzzer', ':', 'Yeah', '?'], ['Leonard', ':', 'Hi', '.', 'I', \"'m\", 'Leonard', ',', 'this', 'is', 'Sheldon', '.'], ['Sheldon', ':', 'Hello', '.'], ['Leonard', ':', 'What', 'did', 'I', 'just', '...', '?', 'We', \"'re\", 'here', 'to', 'pick', 'up', 'Penny', \"'s\", 'TV', '.'], ['Voice', ':', 'Get', 'lost', '.'], ['Sheldon', ':', 'Okay', ',', 'thanks', 'for', 'your', 'time', '.'], ['Leonard', ':', 'We', \"'re\", 'not', 'gon', 'na', 'give', 'up', 'just', 'like', 'that', '.'], ['Sheldon', ':', 'Leonard', ',', 'the', 'TV', \"'s\", 'in', 'the', 'building', '.', 'We', \"'ve\", 'been', 'denied', 'access', 'to', 'the', 'building', ',', 'ergo', 'we', 'are', 'done', '.'], ['Leonard', ':', 'If', 'I', 'were', 'to', 'give', 'up', 'at', 'the', 'first', 'hitch', ',', 'I', 'never', 'would', 'have', 'identified', 'the', 'fingerprints', 'of', 'string', 'theory', 'in', 'the', 'aftermath', 'of', 'the', 'big', 'bang', '.'], ['Sheldon', ':', 'My', 'apologies', '.', 'What', \"'s\", 'your', 'plan', '?'], ['Sheldon', ':', 'It', \"'s\", 'just', 'a', 'privilege', 'to', 'watch', 'your', 'mind', 'at', 'work', '.'], ['Leonard', ':', 'Come', 'on', ',', 'we', 'have', 'a', 'combined', 'IQ', 'of', '360', '.', 'We', 'should', 'be', 'able', 'to', 'figure', 'out', 'how', 'to', 'get', 'into', 'a', 'stupid', 'building', '.'], ['Sheldon', ':', 'What', 'do', 'you', 'think', 'their', 'combined', 'IQ', 'is', '?'], ['Leonard', ':', 'Just', 'grab', 'the', 'door', '.']], 'querySpans': [{'sentenceIndex': 0, 'startToken': 2, 'endToken': 3}, {'sentenceIndex': 0, 'startToken': 5, 'endToken': 7}, {'sentenceIndex': 2, 'startToken': 4, 'endToken': 5}, {'sentenceIndex': 2, 'startToken': 6, 'endToken': 7}, {'sentenceIndex': 2, 'startToken': 8, 'endToken': 9}, {'sentenceIndex': 2, 'startToken': 10, 'endToken': 11}, {'sentenceIndex': 4, 'startToken': 2, 'endToken': 3}, {'sentenceIndex': 4, 'startToken': 4, 'endToken': 5}, {'sentenceIndex': 4, 'startToken': 8, 'endToken': 9}, {'sentenceIndex': 4, 'startToken': 14, 'endToken': 17}, {'sentenceIndex': 6, 'startToken': 2, 'endToken': 5}, {'sentenceIndex': 6, 'startToken': 6, 'endToken': 8}, {'sentenceIndex': 6, 'startToken': 6, 'endToken': 7}, {'sentenceIndex': 7, 'startToken': 2, 'endToken': 3}, {'sentenceIndex': 7, 'startToken': 11, 'endToken': 12}, {'sentenceIndex': 8, 'startToken': 2, 'endToken': 6}, {'sentenceIndex': 8, 'startToken': 8, 'endToken': 10}, {'sentenceIndex': 8, 'startToken': 11, 'endToken': 12}, {'sentenceIndex': 8, 'startToken': 15, 'endToken': 16}, {'sentenceIndex': 8, 'startToken': 17, 'endToken': 19}, {'sentenceIndex': 8, 'startToken': 20, 'endToken': 21}, {'sentenceIndex': 8, 'startToken': 21, 'endToken': 22}, {'sentenceIndex': 9, 'startToken': 3, 'endToken': 4}, {'sentenceIndex': 9, 'startToken': 9, 'endToken': 12}, {'sentenceIndex': 9, 'startToken': 13, 'endToken': 14}, {'sentenceIndex': 9, 'startToken': 18, 'endToken': 20}, {'sentenceIndex': 9, 'startToken': 21, 'endToken': 23}, {'sentenceIndex': 9, 'startToken': 24, 'endToken': 26}, {'sentenceIndex': 9, 'startToken': 27, 'endToken': 30}, {'sentenceIndex': 10, 'startToken': 2, 'endToken': 3}, {'sentenceIndex': 10, 'startToken': 2, 'endToken': 4}, {'sentenceIndex': 10, 'startToken': 5, 'endToken': 6}, {'sentenceIndex': 10, 'startToken': 7, 'endToken': 8}, {'sentenceIndex': 10, 'startToken': 7, 'endToken': 9}, {'sentenceIndex': 11, 'startToken': 2, 'endToken': 3}, {'sentenceIndex': 11, 'startToken': 4, 'endToken': 7}, {'sentenceIndex': 11, 'startToken': 9, 'endToken': 10}, {'sentenceIndex': 11, 'startToken': 9, 'endToken': 11}, {'sentenceIndex': 11, 'startToken': 12, 'endToken': 13}, {'sentenceIndex': 12, 'startToken': 5, 'endToken': 6}, {'sentenceIndex': 12, 'startToken': 7, 'endToken': 10}, {'sentenceIndex': 12, 'startToken': 13, 'endToken': 14}, {'sentenceIndex': 12, 'startToken': 24, 'endToken': 27}, {'sentenceIndex': 13, 'startToken': 2, 'endToken': 3}, {'sentenceIndex': 13, 'startToken': 4, 'endToken': 5}, {'sentenceIndex': 13, 'startToken': 6, 'endToken': 9}, {'sentenceIndex': 13, 'startToken': 6, 'endToken': 7}, {'sentenceIndex': 14, 'startToken': 4, 'endToken': 6}], 'candidateSpans': [{'sentenceIndex': 0, 'startToken': 2, 'endToken': 3}, {'sentenceIndex': 0, 'startToken': 5, 'endToken': 7}, {'sentenceIndex': 2, 'startToken': 4, 'endToken': 5}, {'sentenceIndex': 2, 'startToken': 6, 'endToken': 7}, {'sentenceIndex': 2, 'startToken': 8, 'endToken': 9}, {'sentenceIndex': 2, 'startToken': 10, 'endToken': 11}, {'sentenceIndex': 4, 'startToken': 2, 'endToken': 3}, {'sentenceIndex': 4, 'startToken': 4, 'endToken': 5}, {'sentenceIndex': 4, 'startToken': 8, 'endToken': 9}, {'sentenceIndex': 4, 'startToken': 14, 'endToken': 17}, {'sentenceIndex': 6, 'startToken': 2, 'endToken': 5}, {'sentenceIndex': 6, 'startToken': 6, 'endToken': 8}, {'sentenceIndex': 6, 'startToken': 6, 'endToken': 7}, {'sentenceIndex': 7, 'startToken': 2, 'endToken': 3}, {'sentenceIndex': 7, 'startToken': 11, 'endToken': 12}, {'sentenceIndex': 8, 'startToken': 2, 'endToken': 6}, {'sentenceIndex': 8, 'startToken': 8, 'endToken': 10}, {'sentenceIndex': 8, 'startToken': 11, 'endToken': 12}, {'sentenceIndex': 8, 'startToken': 15, 'endToken': 16}, {'sentenceIndex': 8, 'startToken': 17, 'endToken': 19}, {'sentenceIndex': 8, 'startToken': 20, 'endToken': 21}, {'sentenceIndex': 8, 'startToken': 21, 'endToken': 22}, {'sentenceIndex': 9, 'startToken': 3, 'endToken': 4}, {'sentenceIndex': 9, 'startToken': 9, 'endToken': 12}, {'sentenceIndex': 9, 'startToken': 13, 'endToken': 14}, {'sentenceIndex': 9, 'startToken': 18, 'endToken': 20}, {'sentenceIndex': 9, 'startToken': 21, 'endToken': 23}, {'sentenceIndex': 9, 'startToken': 24, 'endToken': 26}, {'sentenceIndex': 9, 'startToken': 27, 'endToken': 30}, {'sentenceIndex': 10, 'startToken': 2, 'endToken': 3}, {'sentenceIndex': 10, 'startToken': 2, 'endToken': 4}, {'sentenceIndex': 10, 'startToken': 5, 'endToken': 6}, {'sentenceIndex': 10, 'startToken': 7, 'endToken': 8}, {'sentenceIndex': 10, 'startToken': 7, 'endToken': 9}, {'sentenceIndex': 11, 'startToken': 2, 'endToken': 3}, {'sentenceIndex': 11, 'startToken': 4, 'endToken': 7}, {'sentenceIndex': 11, 'startToken': 9, 'endToken': 10}, {'sentenceIndex': 11, 'startToken': 9, 'endToken': 11}, {'sentenceIndex': 11, 'startToken': 12, 'endToken': 13}, {'sentenceIndex': 12, 'startToken': 5, 'endToken': 6}, {'sentenceIndex': 12, 'startToken': 7, 'endToken': 10}, {'sentenceIndex': 12, 'startToken': 13, 'endToken': 14}, {'sentenceIndex': 12, 'startToken': 24, 'endToken': 27}, {'sentenceIndex': 13, 'startToken': 2, 'endToken': 3}, {'sentenceIndex': 13, 'startToken': 4, 'endToken': 5}, {'sentenceIndex': 13, 'startToken': 6, 'endToken': 9}, {'sentenceIndex': 13, 'startToken': 6, 'endToken': 7}, {'sentenceIndex': 14, 'startToken': 4, 'endToken': 6}], 'clickSpans': [{'sentenceIndex': 0, 'startToken': 2, 'endToken': 3}, {'sentenceIndex': 0, 'startToken': 5, 'endToken': 7}, {'sentenceIndex': 2, 'startToken': 4, 'endToken': 5}, {'sentenceIndex': 2, 'startToken': 6, 'endToken': 7}, {'sentenceIndex': 2, 'startToken': 8, 'endToken': 9}, {'sentenceIndex': 2, 'startToken': 10, 'endToken': 11}, {'sentenceIndex': 4, 'startToken': 2, 'endToken': 3}, {'sentenceIndex': 4, 'startToken': 4, 'endToken': 5}, {'sentenceIndex': 4, 'startToken': 8, 'endToken': 9}, {'sentenceIndex': 4, 'startToken': 14, 'endToken': 17}, {'sentenceIndex': 6, 'startToken': 2, 'endToken': 5}, {'sentenceIndex': 6, 'startToken': 6, 'endToken': 8}, {'sentenceIndex': 6, 'startToken': 6, 'endToken': 7}, {'sentenceIndex': 7, 'startToken': 2, 'endToken': 3}, {'sentenceIndex': 7, 'startToken': 11, 'endToken': 12}, {'sentenceIndex': 8, 'startToken': 2, 'endToken': 6}, {'sentenceIndex': 8, 'startToken': 8, 'endToken': 10}, {'sentenceIndex': 8, 'startToken': 11, 'endToken': 12}, {'sentenceIndex': 8, 'startToken': 15, 'endToken': 16}, {'sentenceIndex': 8, 'startToken': 17, 'endToken': 19}, {'sentenceIndex': 8, 'startToken': 20, 'endToken': 21}, {'sentenceIndex': 8, 'startToken': 21, 'endToken': 22}, {'sentenceIndex': 9, 'startToken': 3, 'endToken': 4}, {'sentenceIndex': 9, 'startToken': 9, 'endToken': 12}, {'sentenceIndex': 9, 'startToken': 13, 'endToken': 14}, {'sentenceIndex': 9, 'startToken': 18, 'endToken': 20}, {'sentenceIndex': 9, 'startToken': 21, 'endToken': 23}, {'sentenceIndex': 9, 'startToken': 24, 'endToken': 26}, {'sentenceIndex': 9, 'startToken': 27, 'endToken': 30}, {'sentenceIndex': 10, 'startToken': 2, 'endToken': 3}, {'sentenceIndex': 10, 'startToken': 2, 'endToken': 4}, {'sentenceIndex': 10, 'startToken': 5, 'endToken': 6}, {'sentenceIndex': 10, 'startToken': 7, 'endToken': 8}, {'sentenceIndex': 10, 'startToken': 7, 'endToken': 9}, {'sentenceIndex': 11, 'startToken': 2, 'endToken': 3}, {'sentenceIndex': 11, 'startToken': 4, 'endToken': 7}, {'sentenceIndex': 11, 'startToken': 9, 'endToken': 10}, {'sentenceIndex': 11, 'startToken': 9, 'endToken': 11}, {'sentenceIndex': 11, 'startToken': 12, 'endToken': 13}, {'sentenceIndex': 12, 'startToken': 5, 'endToken': 6}, {'sentenceIndex': 12, 'startToken': 7, 'endToken': 10}, {'sentenceIndex': 12, 'startToken': 13, 'endToken': 14}, {'sentenceIndex': 12, 'startToken': 24, 'endToken': 27}, {'sentenceIndex': 13, 'startToken': 2, 'endToken': 3}, {'sentenceIndex': 13, 'startToken': 4, 'endToken': 5}, {'sentenceIndex': 13, 'startToken': 6, 'endToken': 9}, {'sentenceIndex': 13, 'startToken': 6, 'endToken': 7}, {'sentenceIndex': 14, 'startToken': 4, 'endToken': 6}], 'scene_id': 's01e01c06t'}, {'sentences': [['Leonard', ':', 'This', 'is', 'it', '.', 'I', \"'ll\", 'do', 'the', 'talking', '.'], ['Sheldon', ':', 'Good', 'thinking', ',', 'I', \"'ll\", 'just', 'be', 'the', 'muscle', '.'], ['Enormous', 'man', ':', 'Yeah', '?'], ['Leonard', ':', 'I', \"'m\", 'Leonard', ',', 'this', 'is', 'Sheldon', '.'], ['Sheldon', ':', 'From', 'the', 'intercom', '.'], ['Man', ':', 'How', 'the', 'hell', 'did', 'you', 'get', 'in', 'the', 'building', '?'], ['Leonard', ':', 'We', \"'re\", 'scientists', '.'], ['Sheldon', ':', 'Tell', 'him', 'about', 'our', 'IQ', '.']], 'querySpans': [{'sentenceIndex': 0, 'startToken': 2, 'endToken': 3}, {'sentenceIndex': 0, 'startToken': 4, 'endToken': 5}, {'sentenceIndex': 0, 'startToken': 6, 'endToken': 7}, {'sentenceIndex': 0, 'startToken': 9, 'endToken': 11}, {'sentenceIndex': 1, 'startToken': 5, 'endToken': 6}, {'sentenceIndex': 1, 'startToken': 9, 'endToken': 11}, {'sentenceIndex': 3, 'startToken': 2, 'endToken': 3}, {'sentenceIndex': 3, 'startToken': 4, 'endToken': 5}, {'sentenceIndex': 3, 'startToken': 6, 'endToken': 7}, {'sentenceIndex': 3, 'startToken': 8, 'endToken': 9}, {'sentenceIndex': 4, 'startToken': 3, 'endToken': 5}, {'sentenceIndex': 5, 'startToken': 6, 'endToken': 7}, {'sentenceIndex': 5, 'startToken': 9, 'endToken': 11}, {'sentenceIndex': 6, 'startToken': 2, 'endToken': 3}, {'sentenceIndex': 6, 'startToken': 4, 'endToken': 5}, {'sentenceIndex': 7, 'startToken': 3, 'endToken': 4}, {'sentenceIndex': 7, 'startToken': 5, 'endToken': 6}, {'sentenceIndex': 7, 'startToken': 5, 'endToken': 7}], 'candidateSpans': [{'sentenceIndex': 0, 'startToken': 2, 'endToken': 3}, {'sentenceIndex': 0, 'startToken': 4, 'endToken': 5}, {'sentenceIndex': 0, 'startToken': 6, 'endToken': 7}, {'sentenceIndex': 0, 'startToken': 9, 'endToken': 11}, {'sentenceIndex': 1, 'startToken': 5, 'endToken': 6}, {'sentenceIndex': 1, 'startToken': 9, 'endToken': 11}, {'sentenceIndex': 3, 'startToken': 2, 'endToken': 3}, {'sentenceIndex': 3, 'startToken': 4, 'endToken': 5}, {'sentenceIndex': 3, 'startToken': 6, 'endToken': 7}, {'sentenceIndex': 3, 'startToken': 8, 'endToken': 9}, {'sentenceIndex': 4, 'startToken': 3, 'endToken': 5}, {'sentenceIndex': 5, 'startToken': 6, 'endToken': 7}, {'sentenceIndex': 5, 'startToken': 9, 'endToken': 11}, {'sentenceIndex': 6, 'startToken': 2, 'endToken': 3}, {'sentenceIndex': 6, 'startToken': 4, 'endToken': 5}, {'sentenceIndex': 7, 'startToken': 3, 'endToken': 4}, {'sentenceIndex': 7, 'startToken': 5, 'endToken': 6}, {'sentenceIndex': 7, 'startToken': 5, 'endToken': 7}], 'clickSpans': [{'sentenceIndex': 0, 'startToken': 2, 'endToken': 3}, {'sentenceIndex': 0, 'startToken': 4, 'endToken': 5}, {'sentenceIndex': 0, 'startToken': 6, 'endToken': 7}, {'sentenceIndex': 0, 'startToken': 9, 'endToken': 11}, {'sentenceIndex': 1, 'startToken': 5, 'endToken': 6}, {'sentenceIndex': 1, 'startToken': 9, 'endToken': 11}, {'sentenceIndex': 3, 'startToken': 2, 'endToken': 3}, {'sentenceIndex': 3, 'startToken': 4, 'endToken': 5}, {'sentenceIndex': 3, 'startToken': 6, 'endToken': 7}, {'sentenceIndex': 3, 'startToken': 8, 'endToken': 9}, {'sentenceIndex': 4, 'startToken': 3, 'endToken': 5}, {'sentenceIndex': 5, 'startToken': 6, 'endToken': 7}, {'sentenceIndex': 5, 'startToken': 9, 'endToken': 11}, {'sentenceIndex': 6, 'startToken': 2, 'endToken': 3}, {'sentenceIndex': 6, 'startToken': 4, 'endToken': 5}, {'sentenceIndex': 7, 'startToken': 3, 'endToken': 4}, {'sentenceIndex': 7, 'startToken': 5, 'endToken': 6}, {'sentenceIndex': 7, 'startToken': 5, 'endToken': 7}], 'scene_id': 's01e01c07t'}, {'sentences': [['Sheldon', ':', 'Leonard', '.'], ['Leonard', ':', 'What', '?'], ['Sheldon', ':', 'My', 'mom', 'bought', 'me', 'those', 'pants', '.'], ['Leonard', ':', 'I', '’m', 'sorry', '.'], ['Sheldon', ':', 'You', \"'re\", 'gon', 'na', 'have', 'to', 'call', 'her', '.']], 'querySpans': [{'sentenceIndex': 0, 'startToken': 2, 'endToken': 3}, {'sentenceIndex': 1, 'startToken': 2, 'endToken': 3}, {'sentenceIndex': 2, 'startToken': 2, 'endToken': 3}, {'sentenceIndex': 2, 'startToken': 2, 'endToken': 4}, {'sentenceIndex': 2, 'startToken': 5, 'endToken': 6}, {'sentenceIndex': 2, 'startToken': 6, 'endToken': 8}, {'sentenceIndex': 3, 'startToken': 2, 'endToken': 3}, {'sentenceIndex': 4, 'startToken': 2, 'endToken': 3}, {'sentenceIndex': 4, 'startToken': 9, 'endToken': 10}], 'candidateSpans': [{'sentenceIndex': 0, 'startToken': 2, 'endToken': 3}, {'sentenceIndex': 1, 'startToken': 2, 'endToken': 3}, {'sentenceIndex': 2, 'startToken': 2, 'endToken': 3}, {'sentenceIndex': 2, 'startToken': 2, 'endToken': 4}, {'sentenceIndex': 2, 'startToken': 5, 'endToken': 6}, {'sentenceIndex': 2, 'startToken': 6, 'endToken': 8}, {'sentenceIndex': 3, 'startToken': 2, 'endToken': 3}, {'sentenceIndex': 4, 'startToken': 2, 'endToken': 3}, {'sentenceIndex': 4, 'startToken': 9, 'endToken': 10}], 'clickSpans': [{'sentenceIndex': 0, 'startToken': 2, 'endToken': 3}, {'sentenceIndex': 1, 'startToken': 2, 'endToken': 3}, {'sentenceIndex': 2, 'startToken': 2, 'endToken': 3}, {'sentenceIndex': 2, 'startToken': 2, 'endToken': 4}, {'sentenceIndex': 2, 'startToken': 5, 'endToken': 6}, {'sentenceIndex': 2, 'startToken': 6, 'endToken': 8}, {'sentenceIndex': 3, 'startToken': 2, 'endToken': 3}, {'sentenceIndex': 4, 'startToken': 2, 'endToken': 3}, {'sentenceIndex': 4, 'startToken': 9, 'endToken': 10}], 'scene_id': 's01e01c08t'}, {'sentences': [['Leonard', ':', 'Sheldon', ',', 'I', 'am', 'so', 'sorry', 'I', 'dragged', 'you', 'through', 'this', '.'], ['Sheldon', ':', 'It', \"'s\", 'okay', '.', 'It', 'was', \"n't\", 'my', 'first', 'pantsing', 'and', 'it', 'wo', \"n't\", 'be', 'my', 'last', '.'], ['Leonard', ':', 'And', 'you', 'were', 'right', 'about', 'my', 'motives', '.', 'I', 'was', 'hoping', 'to', 'establish', 'a', 'relationship', 'with', 'Penny', 'that', 'might', 'have', 'someday', 'led', 'to', 'sex', '.'], ['Sheldon', ':', 'Well', ',', 'you', 'got', 'me', 'out', 'of', 'my', 'pants', '.'], ['Leonard', ':', 'Anyway', ',', 'I', \"'ve\", 'learned', 'my', 'lesson', '.', 'She', \"'s\", 'out', 'of', 'my', 'league', ',', 'I', \"'m\", 'done', 'with', 'her', '.', 'I', \"'ve\", 'got', 'my', 'work', '.', 'One', 'day', 'I', \"'ll\", 'win', 'the', 'Nobel', 'Prize', 'and', 'then', 'I', \"'ll\", 'die', 'alone', '.'], ['Sheldon', ':', 'Do', \"n't\", 'think', 'like', 'that', '.', 'You', \"'re\", 'not', 'going', 'to', 'die', 'alone', '.'], ['Leonard', ':', 'Thank', 'you', ',', 'Sheldon', '.', 'You', \"'re\", 'a', 'good', 'friend', '.'], ['Sheldon', ':', 'And', 'you', \"'re\", 'certainly', 'not', 'gon', 'na', 'win', 'a', 'Nobel', 'Prize', '.']], 'querySpans': [{'sentenceIndex': 0, 'startToken': 4, 'endToken': 5}, {'sentenceIndex': 0, 'startToken': 8, 'endToken': 9}, {'sentenceIndex': 0, 'startToken': 10, 'endToken': 11}, {'sentenceIndex': 0, 'startToken': 12, 'endToken': 13}, {'sentenceIndex': 1, 'startToken': 2, 'endToken': 3}, {'sentenceIndex': 1, 'startToken': 6, 'endToken': 7}, {'sentenceIndex': 1, 'startToken': 9, 'endToken': 12}, {'sentenceIndex': 1, 'startToken': 9, 'endToken': 10}, {'sentenceIndex': 1, 'startToken': 13, 'endToken': 14}, {'sentenceIndex': 1, 'startToken': 17, 'endToken': 18}, {'sentenceIndex': 2, 'startToken': 3, 'endToken': 4}, {'sentenceIndex': 2, 'startToken': 7, 'endToken': 8}, {'sentenceIndex': 2, 'startToken': 7, 'endToken': 9}, {'sentenceIndex': 2, 'startToken': 10, 'endToken': 11}, {'sentenceIndex': 2, 'startToken': 15, 'endToken': 17}, {'sentenceIndex': 2, 'startToken': 18, 'endToken': 19}, {'sentenceIndex': 2, 'startToken': 19, 'endToken': 20}, {'sentenceIndex': 2, 'startToken': 25, 'endToken': 26}, {'sentenceIndex': 3, 'startToken': 4, 'endToken': 5}, {'sentenceIndex': 3, 'startToken': 6, 'endToken': 7}, {'sentenceIndex': 3, 'startToken': 9, 'endToken': 10}, {'sentenceIndex': 3, 'startToken': 9, 'endToken': 11}, {'sentenceIndex': 4, 'startToken': 4, 'endToken': 5}, {'sentenceIndex': 4, 'startToken': 7, 'endToken': 9}, {'sentenceIndex': 4, 'startToken': 7, 'endToken': 8}, {'sentenceIndex': 4, 'startToken': 10, 'endToken': 11}, {'sentenceIndex': 4, 'startToken': 14, 'endToken': 15}, {'sentenceIndex': 4, 'startToken': 14, 'endToken': 16}, {'sentenceIndex': 4, 'startToken': 17, 'endToken': 18}, {'sentenceIndex': 4, 'startToken': 21, 'endToken': 22}, {'sentenceIndex': 4, 'startToken': 23, 'endToken': 24}, {'sentenceIndex': 4, 'startToken': 26, 'endToken': 28}, {'sentenceIndex': 4, 'startToken': 26, 'endToken': 27}, {'sentenceIndex': 4, 'startToken': 31, 'endToken': 32}, {'sentenceIndex': 4, 'startToken': 34, 'endToken': 37}, {'sentenceIndex': 4, 'startToken': 39, 'endToken': 40}, {'sentenceIndex': 5, 'startToken': 6, 'endToken': 7}, {'sentenceIndex': 5, 'startToken': 8, 'endToken': 9}, {'sentenceIndex': 6, 'startToken': 3, 'endToken': 4}, {'sentenceIndex': 6, 'startToken': 7, 'endToken': 8}, {'sentenceIndex': 6, 'startToken': 9, 'endToken': 12}, {'sentenceIndex': 7, 'startToken': 3, 'endToken': 4}, {'sentenceIndex': 7, 'startToken': 10, 'endToken': 13}], 'candidateSpans': [{'sentenceIndex': 0, 'startToken': 4, 'endToken': 5}, {'sentenceIndex': 0, 'startToken': 8, 'endToken': 9}, {'sentenceIndex': 0, 'startToken': 10, 'endToken': 11}, {'sentenceIndex': 0, 'startToken': 12, 'endToken': 13}, {'sentenceIndex': 1, 'startToken': 2, 'endToken': 3}, {'sentenceIndex': 1, 'startToken': 6, 'endToken': 7}, {'sentenceIndex': 1, 'startToken': 9, 'endToken': 12}, {'sentenceIndex': 1, 'startToken': 9, 'endToken': 10}, {'sentenceIndex': 1, 'startToken': 13, 'endToken': 14}, {'sentenceIndex': 1, 'startToken': 17, 'endToken': 18}, {'sentenceIndex': 2, 'startToken': 3, 'endToken': 4}, {'sentenceIndex': 2, 'startToken': 7, 'endToken': 8}, {'sentenceIndex': 2, 'startToken': 7, 'endToken': 9}, {'sentenceIndex': 2, 'startToken': 10, 'endToken': 11}, {'sentenceIndex': 2, 'startToken': 15, 'endToken': 17}, {'sentenceIndex': 2, 'startToken': 18, 'endToken': 19}, {'sentenceIndex': 2, 'startToken': 19, 'endToken': 20}, {'sentenceIndex': 2, 'startToken': 25, 'endToken': 26}, {'sentenceIndex': 3, 'startToken': 4, 'endToken': 5}, {'sentenceIndex': 3, 'startToken': 6, 'endToken': 7}, {'sentenceIndex': 3, 'startToken': 9, 'endToken': 10}, {'sentenceIndex': 3, 'startToken': 9, 'endToken': 11}, {'sentenceIndex': 4, 'startToken': 4, 'endToken': 5}, {'sentenceIndex': 4, 'startToken': 7, 'endToken': 9}, {'sentenceIndex': 4, 'startToken': 7, 'endToken': 8}, {'sentenceIndex': 4, 'startToken': 10, 'endToken': 11}, {'sentenceIndex': 4, 'startToken': 14, 'endToken': 15}, {'sentenceIndex': 4, 'startToken': 14, 'endToken': 16}, {'sentenceIndex': 4, 'startToken': 17, 'endToken': 18}, {'sentenceIndex': 4, 'startToken': 21, 'endToken': 22}, {'sentenceIndex': 4, 'startToken': 23, 'endToken': 24}, {'sentenceIndex': 4, 'startToken': 26, 'endToken': 28}, {'sentenceIndex': 4, 'startToken': 26, 'endToken': 27}, {'sentenceIndex': 4, 'startToken': 31, 'endToken': 32}, {'sentenceIndex': 4, 'startToken': 34, 'endToken': 37}, {'sentenceIndex': 4, 'startToken': 39, 'endToken': 40}, {'sentenceIndex': 5, 'startToken': 6, 'endToken': 7}, {'sentenceIndex': 5, 'startToken': 8, 'endToken': 9}, {'sentenceIndex': 6, 'startToken': 3, 'endToken': 4}, {'sentenceIndex': 6, 'startToken': 7, 'endToken': 8}, {'sentenceIndex': 6, 'startToken': 9, 'endToken': 12}, {'sentenceIndex': 7, 'startToken': 3, 'endToken': 4}, {'sentenceIndex': 7, 'startToken': 10, 'endToken': 13}], 'clickSpans': [{'sentenceIndex': 0, 'startToken': 4, 'endToken': 5}, {'sentenceIndex': 0, 'startToken': 8, 'endToken': 9}, {'sentenceIndex': 0, 'startToken': 10, 'endToken': 11}, {'sentenceIndex': 0, 'startToken': 12, 'endToken': 13}, {'sentenceIndex': 1, 'startToken': 2, 'endToken': 3}, {'sentenceIndex': 1, 'startToken': 6, 'endToken': 7}, {'sentenceIndex': 1, 'startToken': 9, 'endToken': 12}, {'sentenceIndex': 1, 'startToken': 9, 'endToken': 10}, {'sentenceIndex': 1, 'startToken': 13, 'endToken': 14}, {'sentenceIndex': 1, 'startToken': 17, 'endToken': 18}, {'sentenceIndex': 2, 'startToken': 3, 'endToken': 4}, {'sentenceIndex': 2, 'startToken': 7, 'endToken': 8}, {'sentenceIndex': 2, 'startToken': 7, 'endToken': 9}, {'sentenceIndex': 2, 'startToken': 10, 'endToken': 11}, {'sentenceIndex': 2, 'startToken': 15, 'endToken': 17}, {'sentenceIndex': 2, 'startToken': 18, 'endToken': 19}, {'sentenceIndex': 2, 'startToken': 19, 'endToken': 20}, {'sentenceIndex': 2, 'startToken': 25, 'endToken': 26}, {'sentenceIndex': 3, 'startToken': 4, 'endToken': 5}, {'sentenceIndex': 3, 'startToken': 6, 'endToken': 7}, {'sentenceIndex': 3, 'startToken': 9, 'endToken': 10}, {'sentenceIndex': 3, 'startToken': 9, 'endToken': 11}, {'sentenceIndex': 4, 'startToken': 4, 'endToken': 5}, {'sentenceIndex': 4, 'startToken': 7, 'endToken': 9}, {'sentenceIndex': 4, 'startToken': 7, 'endToken': 8}, {'sentenceIndex': 4, 'startToken': 10, 'endToken': 11}, {'sentenceIndex': 4, 'startToken': 14, 'endToken': 15}, {'sentenceIndex': 4, 'startToken': 14, 'endToken': 16}, {'sentenceIndex': 4, 'startToken': 17, 'endToken': 18}, {'sentenceIndex': 4, 'startToken': 21, 'endToken': 22}, {'sentenceIndex': 4, 'startToken': 23, 'endToken': 24}, {'sentenceIndex': 4, 'startToken': 26, 'endToken': 28}, {'sentenceIndex': 4, 'startToken': 26, 'endToken': 27}, {'sentenceIndex': 4, 'startToken': 31, 'endToken': 32}, {'sentenceIndex': 4, 'startToken': 34, 'endToken': 37}, {'sentenceIndex': 4, 'startToken': 39, 'endToken': 40}, {'sentenceIndex': 5, 'startToken': 6, 'endToken': 7}, {'sentenceIndex': 5, 'startToken': 8, 'endToken': 9}, {'sentenceIndex': 6, 'startToken': 3, 'endToken': 4}, {'sentenceIndex': 6, 'startToken': 7, 'endToken': 8}, {'sentenceIndex': 6, 'startToken': 9, 'endToken': 12}, {'sentenceIndex': 7, 'startToken': 3, 'endToken': 4}, {'sentenceIndex': 7, 'startToken': 10, 'endToken': 13}], 'scene_id': 's01e01c09t'}]\n",
      "{'sentences': [['Leonard', ':', 'All', 'right', ',', 'there', 'it', 'goes', '.', 'It', 'sticks', ',', 'I', \"'m\", 'sorry', '.'], ['Penny', ':', 'Okay', ',', 'thanks', '.'], ['Leonard', ':', 'You', \"'re\", 'welcome', '.', 'Oh', ',', 'you', \"'re\", 'just', 'gon', 'na', 'step', 'right', '...', '?', 'Okay', '.'], ['Penny', ':', 'Hey', ',', 'Leonard', '?'], ['Leonard', ':', 'The', 'hair', 'products', 'are', 'Sheldon', \"'s\", '.'], ['Penny', ':', 'Okay', '.', 'Um', ',', 'can', 'I', 'ask', 'you', 'a', 'favor', '?', 'A', 'favor', '?'], ['Leonard', ':', 'Sure', ',', 'you', 'could', 'ask', 'me', 'a', 'favor', '.', 'I', 'would', 'do', 'you', 'a', 'favor', 'for', 'you', '.'], ['Penny', ':', 'It', \"'s\", 'okay', 'if', 'you', 'say', 'no', '.'], ['Leonard', ':', 'Oh', ',', 'I', \"'ll\", 'probably', 'say', 'yes', '.'], ['Penny', ':', 'It', \"'s\", 'just', 'not', 'the', 'kind', 'of', 'thing', 'you', 'ask', 'a', 'guy', 'you', 'just', 'met', '.'], ['Leonard', ':', 'Wow', '.']], 'querySpans': [{'sentenceIndex': 0, 'startToken': 6, 'endToken': 7}, {'sentenceIndex': 0, 'startToken': 9, 'endToken': 10}, {'sentenceIndex': 0, 'startToken': 12, 'endToken': 13}, {'sentenceIndex': 1, 'startToken': 2, 'endToken': 5}, {'sentenceIndex': 2, 'startToken': 2, 'endToken': 3}, {'sentenceIndex': 2, 'startToken': 8, 'endToken': 9}, {'sentenceIndex': 3, 'startToken': 2, 'endToken': 5}, {'sentenceIndex': 4, 'startToken': 2, 'endToken': 5}, {'sentenceIndex': 4, 'startToken': 6, 'endToken': 7}, {'sentenceIndex': 5, 'startToken': 7, 'endToken': 8}, {'sentenceIndex': 5, 'startToken': 9, 'endToken': 10}, {'sentenceIndex': 5, 'startToken': 10, 'endToken': 12}, {'sentenceIndex': 5, 'startToken': 13, 'endToken': 15}, {'sentenceIndex': 6, 'startToken': 4, 'endToken': 5}, {'sentenceIndex': 6, 'startToken': 7, 'endToken': 8}, {'sentenceIndex': 6, 'startToken': 8, 'endToken': 10}, {'sentenceIndex': 6, 'startToken': 11, 'endToken': 12}, {'sentenceIndex': 6, 'startToken': 14, 'endToken': 15}, {'sentenceIndex': 6, 'startToken': 15, 'endToken': 17}, {'sentenceIndex': 6, 'startToken': 18, 'endToken': 19}, {'sentenceIndex': 7, 'startToken': 2, 'endToken': 3}, {'sentenceIndex': 7, 'startToken': 6, 'endToken': 7}, {'sentenceIndex': 8, 'startToken': 4, 'endToken': 5}, {'sentenceIndex': 9, 'startToken': 2, 'endToken': 3}, {'sentenceIndex': 9, 'startToken': 6, 'endToken': 8}, {'sentenceIndex': 9, 'startToken': 9, 'endToken': 10}, {'sentenceIndex': 9, 'startToken': 10, 'endToken': 11}, {'sentenceIndex': 9, 'startToken': 12, 'endToken': 14}, {'sentenceIndex': 9, 'startToken': 14, 'endToken': 15}], 'candidateSpans': [{'sentenceIndex': 0, 'startToken': 6, 'endToken': 7}, {'sentenceIndex': 0, 'startToken': 9, 'endToken': 10}, {'sentenceIndex': 0, 'startToken': 12, 'endToken': 13}, {'sentenceIndex': 1, 'startToken': 2, 'endToken': 5}, {'sentenceIndex': 2, 'startToken': 2, 'endToken': 3}, {'sentenceIndex': 2, 'startToken': 8, 'endToken': 9}, {'sentenceIndex': 3, 'startToken': 2, 'endToken': 5}, {'sentenceIndex': 4, 'startToken': 2, 'endToken': 5}, {'sentenceIndex': 4, 'startToken': 6, 'endToken': 7}, {'sentenceIndex': 5, 'startToken': 7, 'endToken': 8}, {'sentenceIndex': 5, 'startToken': 9, 'endToken': 10}, {'sentenceIndex': 5, 'startToken': 10, 'endToken': 12}, {'sentenceIndex': 5, 'startToken': 13, 'endToken': 15}, {'sentenceIndex': 6, 'startToken': 4, 'endToken': 5}, {'sentenceIndex': 6, 'startToken': 7, 'endToken': 8}, {'sentenceIndex': 6, 'startToken': 8, 'endToken': 10}, {'sentenceIndex': 6, 'startToken': 11, 'endToken': 12}, {'sentenceIndex': 6, 'startToken': 14, 'endToken': 15}, {'sentenceIndex': 6, 'startToken': 15, 'endToken': 17}, {'sentenceIndex': 6, 'startToken': 18, 'endToken': 19}, {'sentenceIndex': 7, 'startToken': 2, 'endToken': 3}, {'sentenceIndex': 7, 'startToken': 6, 'endToken': 7}, {'sentenceIndex': 8, 'startToken': 4, 'endToken': 5}, {'sentenceIndex': 9, 'startToken': 2, 'endToken': 3}, {'sentenceIndex': 9, 'startToken': 6, 'endToken': 8}, {'sentenceIndex': 9, 'startToken': 9, 'endToken': 10}, {'sentenceIndex': 9, 'startToken': 10, 'endToken': 11}, {'sentenceIndex': 9, 'startToken': 12, 'endToken': 14}, {'sentenceIndex': 9, 'startToken': 14, 'endToken': 15}], 'clickSpans': [{'sentenceIndex': 0, 'startToken': 6, 'endToken': 7}, {'sentenceIndex': 0, 'startToken': 9, 'endToken': 10}, {'sentenceIndex': 0, 'startToken': 12, 'endToken': 13}, {'sentenceIndex': 1, 'startToken': 2, 'endToken': 5}, {'sentenceIndex': 2, 'startToken': 2, 'endToken': 3}, {'sentenceIndex': 2, 'startToken': 8, 'endToken': 9}, {'sentenceIndex': 3, 'startToken': 2, 'endToken': 5}, {'sentenceIndex': 4, 'startToken': 2, 'endToken': 5}, {'sentenceIndex': 4, 'startToken': 6, 'endToken': 7}, {'sentenceIndex': 5, 'startToken': 7, 'endToken': 8}, {'sentenceIndex': 5, 'startToken': 9, 'endToken': 10}, {'sentenceIndex': 5, 'startToken': 10, 'endToken': 12}, {'sentenceIndex': 5, 'startToken': 13, 'endToken': 15}, {'sentenceIndex': 6, 'startToken': 4, 'endToken': 5}, {'sentenceIndex': 6, 'startToken': 7, 'endToken': 8}, {'sentenceIndex': 6, 'startToken': 8, 'endToken': 10}, {'sentenceIndex': 6, 'startToken': 11, 'endToken': 12}, {'sentenceIndex': 6, 'startToken': 14, 'endToken': 15}, {'sentenceIndex': 6, 'startToken': 15, 'endToken': 17}, {'sentenceIndex': 6, 'startToken': 18, 'endToken': 19}, {'sentenceIndex': 7, 'startToken': 2, 'endToken': 3}, {'sentenceIndex': 7, 'startToken': 6, 'endToken': 7}, {'sentenceIndex': 8, 'startToken': 4, 'endToken': 5}, {'sentenceIndex': 9, 'startToken': 2, 'endToken': 3}, {'sentenceIndex': 9, 'startToken': 6, 'endToken': 8}, {'sentenceIndex': 9, 'startToken': 9, 'endToken': 10}, {'sentenceIndex': 9, 'startToken': 10, 'endToken': 11}, {'sentenceIndex': 9, 'startToken': 12, 'endToken': 14}, {'sentenceIndex': 9, 'startToken': 14, 'endToken': 15}], 'scene_id': 's01e01c03t'}\n",
      "\n",
      "{'sentences': [['Sheldon', ':', 'I', 'really', 'think', 'we', 'should', 'examine', 'the', 'chain', 'of', 'causality', 'here', '.'], ['Leonard', ':', 'Must', 'we', '?'], ['Sheldon', ':', 'Event', 'A', ':', 'A', 'beautiful', 'woman', 'stands', 'naked', 'in', 'our', 'shower', '.', 'Event', 'B', ':', 'We', 'drive', 'halfway', 'across', 'town', 'to', 'retrieve', 'a', 'television', 'set', 'from', 'the', 'aforementioned', 'woman', \"'s\", 'ex', '-', 'boyfriend', '.', 'On', 'what', 'plane', 'of', 'existence', 'is', 'there', 'even', 'a', 'semi', '-', 'rational', 'link', 'between', 'these', 'events', '?'], ['Leonard', ':', 'She', 'asked', 'me', 'to', 'do', 'her', 'a', 'favor', ',', 'Sheldon', '.'], ['Sheldon', ':', 'Well', ',', 'that', 'may', 'be', 'the', 'proximal', 'cause', 'of', 'our', 'journey', 'but', 'we', 'both', 'know', 'it', 'exists', 'in', 'contradistinction', 'to', 'the', 'higher', '-', 'level', 'distal', 'cause', '.'], ['Leonard', ':', 'Which', 'is', '?'], ['Sheldon', ':', 'You', 'think', 'with', 'your', 'penis', '.'], ['Leonard', ':', 'That', \"'s\", 'a', 'biological', 'impossibility', ',', 'and', 'you', 'did', \"n't\", 'have', 'to', 'come', '.'], ['Sheldon', ':', 'I', 'could', 'have', 'stayed', 'behind', 'to', 'watch', 'Wolowitz', 'hit', 'on', 'Penny', 'in', 'Russian', ',', 'Arabic', 'and', 'Farsi', '.', 'And', 'why', 'ca', \"n't\", 'she', 'get', 'her', 'own', 'TV', '?'], ['Leonard', ':', 'Come', 'on', ',', 'you', 'know', 'how', 'it', 'is', 'with', 'breakups', '.'], ['Sheldon', ':', 'No', ',', 'I', 'do', \"n't\", ',', 'and', 'neither', 'do', 'you', '.'], ['Leonard', ':', 'But', 'I', '...', 'I', 'broke', 'up', 'with', 'Joyce', 'Kim', '.'], ['Sheldon', ':', 'You', 'did', 'not', 'break', 'up', 'with', 'Joyce', 'Kim', '.', 'She', 'defected', 'to', 'North', 'Korea', '.'], ['Leonard', ':', 'To', 'mend', 'her', 'broken', 'heart', '.', 'This', 'situation', 'is', 'much', 'less', 'complicated', '.', 'There', \"'s\", 'some', 'dispute', 'between', 'Penny', 'and', 'her', 'ex', '-', 'boyfriend', 'as', 'to', 'who', 'gets', 'custody', 'of', 'the', 'TV', '.', 'She', 'just', 'wanted', 'to', 'avoid', 'a', 'scene', 'with', 'him', '.'], ['Sheldon', ':', 'So', 'we', 'get', 'to', 'have', 'a', 'scene', 'with', 'him', '?'], ['Leonard', ':', 'No', ',', 'Sheldon', ',', 'there', \"'s\", 'not', 'going', 'to', 'be', 'a', 'scene', '.', 'There', \"'s\", 'two', 'of', 'us', 'and', 'one', 'of', 'him', '.'], ['Sheldon', ':', 'Leonard', ',', 'the', 'two', 'of', 'us', 'ca', \"n't\", 'even', 'carry', 'a', 'TV', '.']], 'querySpans': [{'sentenceIndex': 0, 'startToken': 2, 'endToken': 3}, {'sentenceIndex': 0, 'startToken': 5, 'endToken': 6}, {'sentenceIndex': 0, 'startToken': 8, 'endToken': 10}, {'sentenceIndex': 0, 'startToken': 11, 'endToken': 12}, {'sentenceIndex': 1, 'startToken': 3, 'endToken': 4}, {'sentenceIndex': 2, 'startToken': 2, 'endToken': 4}, {'sentenceIndex': 2, 'startToken': 5, 'endToken': 8}, {'sentenceIndex': 2, 'startToken': 11, 'endToken': 13}, {'sentenceIndex': 2, 'startToken': 11, 'endToken': 12}, {'sentenceIndex': 2, 'startToken': 14, 'endToken': 16}, {'sentenceIndex': 2, 'startToken': 17, 'endToken': 18}, {'sentenceIndex': 2, 'startToken': 21, 'endToken': 22}, {'sentenceIndex': 2, 'startToken': 24, 'endToken': 27}, {'sentenceIndex': 2, 'startToken': 28, 'endToken': 33}, {'sentenceIndex': 2, 'startToken': 34, 'endToken': 35}, {'sentenceIndex': 2, 'startToken': 37, 'endToken': 39}, {'sentenceIndex': 2, 'startToken': 40, 'endToken': 41}, {'sentenceIndex': 2, 'startToken': 42, 'endToken': 43}, {'sentenceIndex': 2, 'startToken': 43, 'endToken': 49}, {'sentenceIndex': 2, 'startToken': 50, 'endToken': 52}, {'sentenceIndex': 3, 'startToken': 2, 'endToken': 3}, {'sentenceIndex': 3, 'startToken': 4, 'endToken': 5}, {'sentenceIndex': 3, 'startToken': 7, 'endToken': 8}, {'sentenceIndex': 3, 'startToken': 8, 'endToken': 10}, {'sentenceIndex': 3, 'startToken': 11, 'endToken': 12}, {'sentenceIndex': 4, 'startToken': 4, 'endToken': 5}, {'sentenceIndex': 4, 'startToken': 7, 'endToken': 10}, {'sentenceIndex': 4, 'startToken': 11, 'endToken': 13}, {'sentenceIndex': 4, 'startToken': 11, 'endToken': 12}, {'sentenceIndex': 4, 'startToken': 14, 'endToken': 15}, {'sentenceIndex': 4, 'startToken': 15, 'endToken': 16}, {'sentenceIndex': 4, 'startToken': 17, 'endToken': 18}, {'sentenceIndex': 4, 'startToken': 20, 'endToken': 21}, {'sentenceIndex': 4, 'startToken': 22, 'endToken': 28}, {'sentenceIndex': 5, 'startToken': 2, 'endToken': 3}, {'sentenceIndex': 6, 'startToken': 2, 'endToken': 3}, {'sentenceIndex': 6, 'startToken': 5, 'endToken': 7}, {'sentenceIndex': 6, 'startToken': 5, 'endToken': 6}, {'sentenceIndex': 7, 'startToken': 2, 'endToken': 3}, {'sentenceIndex': 7, 'startToken': 4, 'endToken': 7}, {'sentenceIndex': 7, 'startToken': 9, 'endToken': 10}, {'sentenceIndex': 8, 'startToken': 2, 'endToken': 3}, {'sentenceIndex': 8, 'startToken': 9, 'endToken': 10}, {'sentenceIndex': 8, 'startToken': 12, 'endToken': 13}, {'sentenceIndex': 8, 'startToken': 14, 'endToken': 15}, {'sentenceIndex': 8, 'startToken': 16, 'endToken': 17}, {'sentenceIndex': 8, 'startToken': 18, 'endToken': 19}, {'sentenceIndex': 8, 'startToken': 24, 'endToken': 25}, {'sentenceIndex': 8, 'startToken': 26, 'endToken': 29}, {'sentenceIndex': 8, 'startToken': 26, 'endToken': 27}, {'sentenceIndex': 9, 'startToken': 5, 'endToken': 6}, {'sentenceIndex': 9, 'startToken': 8, 'endToken': 9}, {'sentenceIndex': 9, 'startToken': 11, 'endToken': 12}, {'sentenceIndex': 10, 'startToken': 4, 'endToken': 5}, {'sentenceIndex': 10, 'startToken': 11, 'endToken': 12}, {'sentenceIndex': 11, 'startToken': 2, 'endToken': 4}, {'sentenceIndex': 11, 'startToken': 3, 'endToken': 4}, {'sentenceIndex': 11, 'startToken': 5, 'endToken': 6}, {'sentenceIndex': 11, 'startToken': 9, 'endToken': 11}, {'sentenceIndex': 12, 'startToken': 2, 'endToken': 3}, {'sentenceIndex': 12, 'startToken': 8, 'endToken': 10}, {'sentenceIndex': 12, 'startToken': 11, 'endToken': 12}, {'sentenceIndex': 12, 'startToken': 14, 'endToken': 16}, {'sentenceIndex': 13, 'startToken': 4, 'endToken': 5}, {'sentenceIndex': 13, 'startToken': 4, 'endToken': 7}, {'sentenceIndex': 13, 'startToken': 8, 'endToken': 10}, {'sentenceIndex': 13, 'startToken': 15, 'endToken': 16}, {'sentenceIndex': 13, 'startToken': 17, 'endToken': 19}, {'sentenceIndex': 13, 'startToken': 20, 'endToken': 21}, {'sentenceIndex': 13, 'startToken': 22, 'endToken': 24}, {'sentenceIndex': 13, 'startToken': 22, 'endToken': 23}, {'sentenceIndex': 13, 'startToken': 25, 'endToken': 26}, {'sentenceIndex': 13, 'startToken': 28, 'endToken': 29}, {'sentenceIndex': 13, 'startToken': 30, 'endToken': 31}, {'sentenceIndex': 13, 'startToken': 32, 'endToken': 34}, {'sentenceIndex': 13, 'startToken': 35, 'endToken': 36}, {'sentenceIndex': 13, 'startToken': 40, 'endToken': 42}, {'sentenceIndex': 13, 'startToken': 43, 'endToken': 44}, {'sentenceIndex': 14, 'startToken': 3, 'endToken': 4}, {'sentenceIndex': 14, 'startToken': 7, 'endToken': 9}, {'sentenceIndex': 14, 'startToken': 10, 'endToken': 11}, {'sentenceIndex': 15, 'startToken': 6, 'endToken': 7}, {'sentenceIndex': 15, 'startToken': 12, 'endToken': 14}, {'sentenceIndex': 15, 'startToken': 15, 'endToken': 16}, {'sentenceIndex': 15, 'startToken': 19, 'endToken': 20}, {'sentenceIndex': 15, 'startToken': 23, 'endToken': 24}, {'sentenceIndex': 16, 'startToken': 2, 'endToken': 3}, {'sentenceIndex': 16, 'startToken': 7, 'endToken': 8}, {'sentenceIndex': 16, 'startToken': 12, 'endToken': 14}], 'candidateSpans': [{'sentenceIndex': 0, 'startToken': 2, 'endToken': 3}, {'sentenceIndex': 0, 'startToken': 5, 'endToken': 6}, {'sentenceIndex': 0, 'startToken': 8, 'endToken': 10}, {'sentenceIndex': 0, 'startToken': 11, 'endToken': 12}, {'sentenceIndex': 1, 'startToken': 3, 'endToken': 4}, {'sentenceIndex': 2, 'startToken': 2, 'endToken': 4}, {'sentenceIndex': 2, 'startToken': 5, 'endToken': 8}, {'sentenceIndex': 2, 'startToken': 11, 'endToken': 13}, {'sentenceIndex': 2, 'startToken': 11, 'endToken': 12}, {'sentenceIndex': 2, 'startToken': 14, 'endToken': 16}, {'sentenceIndex': 2, 'startToken': 17, 'endToken': 18}, {'sentenceIndex': 2, 'startToken': 21, 'endToken': 22}, {'sentenceIndex': 2, 'startToken': 24, 'endToken': 27}, {'sentenceIndex': 2, 'startToken': 28, 'endToken': 33}, {'sentenceIndex': 2, 'startToken': 34, 'endToken': 35}, {'sentenceIndex': 2, 'startToken': 37, 'endToken': 39}, {'sentenceIndex': 2, 'startToken': 40, 'endToken': 41}, {'sentenceIndex': 2, 'startToken': 42, 'endToken': 43}, {'sentenceIndex': 2, 'startToken': 43, 'endToken': 49}, {'sentenceIndex': 2, 'startToken': 50, 'endToken': 52}, {'sentenceIndex': 3, 'startToken': 2, 'endToken': 3}, {'sentenceIndex': 3, 'startToken': 4, 'endToken': 5}, {'sentenceIndex': 3, 'startToken': 7, 'endToken': 8}, {'sentenceIndex': 3, 'startToken': 8, 'endToken': 10}, {'sentenceIndex': 3, 'startToken': 11, 'endToken': 12}, {'sentenceIndex': 4, 'startToken': 4, 'endToken': 5}, {'sentenceIndex': 4, 'startToken': 7, 'endToken': 10}, {'sentenceIndex': 4, 'startToken': 11, 'endToken': 13}, {'sentenceIndex': 4, 'startToken': 11, 'endToken': 12}, {'sentenceIndex': 4, 'startToken': 14, 'endToken': 15}, {'sentenceIndex': 4, 'startToken': 15, 'endToken': 16}, {'sentenceIndex': 4, 'startToken': 17, 'endToken': 18}, {'sentenceIndex': 4, 'startToken': 20, 'endToken': 21}, {'sentenceIndex': 4, 'startToken': 22, 'endToken': 28}, {'sentenceIndex': 5, 'startToken': 2, 'endToken': 3}, {'sentenceIndex': 6, 'startToken': 2, 'endToken': 3}, {'sentenceIndex': 6, 'startToken': 5, 'endToken': 7}, {'sentenceIndex': 6, 'startToken': 5, 'endToken': 6}, {'sentenceIndex': 7, 'startToken': 2, 'endToken': 3}, {'sentenceIndex': 7, 'startToken': 4, 'endToken': 7}, {'sentenceIndex': 7, 'startToken': 9, 'endToken': 10}, {'sentenceIndex': 8, 'startToken': 2, 'endToken': 3}, {'sentenceIndex': 8, 'startToken': 9, 'endToken': 10}, {'sentenceIndex': 8, 'startToken': 12, 'endToken': 13}, {'sentenceIndex': 8, 'startToken': 14, 'endToken': 15}, {'sentenceIndex': 8, 'startToken': 16, 'endToken': 17}, {'sentenceIndex': 8, 'startToken': 18, 'endToken': 19}, {'sentenceIndex': 8, 'startToken': 24, 'endToken': 25}, {'sentenceIndex': 8, 'startToken': 26, 'endToken': 29}, {'sentenceIndex': 8, 'startToken': 26, 'endToken': 27}, {'sentenceIndex': 9, 'startToken': 5, 'endToken': 6}, {'sentenceIndex': 9, 'startToken': 8, 'endToken': 9}, {'sentenceIndex': 9, 'startToken': 11, 'endToken': 12}, {'sentenceIndex': 10, 'startToken': 4, 'endToken': 5}, {'sentenceIndex': 10, 'startToken': 11, 'endToken': 12}, {'sentenceIndex': 11, 'startToken': 2, 'endToken': 4}, {'sentenceIndex': 11, 'startToken': 3, 'endToken': 4}, {'sentenceIndex': 11, 'startToken': 5, 'endToken': 6}, {'sentenceIndex': 11, 'startToken': 9, 'endToken': 11}, {'sentenceIndex': 12, 'startToken': 2, 'endToken': 3}, {'sentenceIndex': 12, 'startToken': 8, 'endToken': 10}, {'sentenceIndex': 12, 'startToken': 11, 'endToken': 12}, {'sentenceIndex': 12, 'startToken': 14, 'endToken': 16}, {'sentenceIndex': 13, 'startToken': 4, 'endToken': 5}, {'sentenceIndex': 13, 'startToken': 4, 'endToken': 7}, {'sentenceIndex': 13, 'startToken': 8, 'endToken': 10}, {'sentenceIndex': 13, 'startToken': 15, 'endToken': 16}, {'sentenceIndex': 13, 'startToken': 17, 'endToken': 19}, {'sentenceIndex': 13, 'startToken': 20, 'endToken': 21}, {'sentenceIndex': 13, 'startToken': 22, 'endToken': 24}, {'sentenceIndex': 13, 'startToken': 22, 'endToken': 23}, {'sentenceIndex': 13, 'startToken': 25, 'endToken': 26}, {'sentenceIndex': 13, 'startToken': 28, 'endToken': 29}, {'sentenceIndex': 13, 'startToken': 30, 'endToken': 31}, {'sentenceIndex': 13, 'startToken': 32, 'endToken': 34}, {'sentenceIndex': 13, 'startToken': 35, 'endToken': 36}, {'sentenceIndex': 13, 'startToken': 40, 'endToken': 42}, {'sentenceIndex': 13, 'startToken': 43, 'endToken': 44}, {'sentenceIndex': 14, 'startToken': 3, 'endToken': 4}, {'sentenceIndex': 14, 'startToken': 7, 'endToken': 9}, {'sentenceIndex': 14, 'startToken': 10, 'endToken': 11}, {'sentenceIndex': 15, 'startToken': 6, 'endToken': 7}, {'sentenceIndex': 15, 'startToken': 12, 'endToken': 14}, {'sentenceIndex': 15, 'startToken': 15, 'endToken': 16}, {'sentenceIndex': 15, 'startToken': 19, 'endToken': 20}, {'sentenceIndex': 15, 'startToken': 23, 'endToken': 24}, {'sentenceIndex': 16, 'startToken': 2, 'endToken': 3}, {'sentenceIndex': 16, 'startToken': 7, 'endToken': 8}, {'sentenceIndex': 16, 'startToken': 12, 'endToken': 14}], 'clickSpans': [{'sentenceIndex': 0, 'startToken': 2, 'endToken': 3}, {'sentenceIndex': 0, 'startToken': 5, 'endToken': 6}, {'sentenceIndex': 0, 'startToken': 8, 'endToken': 10}, {'sentenceIndex': 0, 'startToken': 11, 'endToken': 12}, {'sentenceIndex': 1, 'startToken': 3, 'endToken': 4}, {'sentenceIndex': 2, 'startToken': 2, 'endToken': 4}, {'sentenceIndex': 2, 'startToken': 5, 'endToken': 8}, {'sentenceIndex': 2, 'startToken': 11, 'endToken': 13}, {'sentenceIndex': 2, 'startToken': 11, 'endToken': 12}, {'sentenceIndex': 2, 'startToken': 14, 'endToken': 16}, {'sentenceIndex': 2, 'startToken': 17, 'endToken': 18}, {'sentenceIndex': 2, 'startToken': 21, 'endToken': 22}, {'sentenceIndex': 2, 'startToken': 24, 'endToken': 27}, {'sentenceIndex': 2, 'startToken': 28, 'endToken': 33}, {'sentenceIndex': 2, 'startToken': 34, 'endToken': 35}, {'sentenceIndex': 2, 'startToken': 37, 'endToken': 39}, {'sentenceIndex': 2, 'startToken': 40, 'endToken': 41}, {'sentenceIndex': 2, 'startToken': 42, 'endToken': 43}, {'sentenceIndex': 2, 'startToken': 43, 'endToken': 49}, {'sentenceIndex': 2, 'startToken': 50, 'endToken': 52}, {'sentenceIndex': 3, 'startToken': 2, 'endToken': 3}, {'sentenceIndex': 3, 'startToken': 4, 'endToken': 5}, {'sentenceIndex': 3, 'startToken': 7, 'endToken': 8}, {'sentenceIndex': 3, 'startToken': 8, 'endToken': 10}, {'sentenceIndex': 3, 'startToken': 11, 'endToken': 12}, {'sentenceIndex': 4, 'startToken': 4, 'endToken': 5}, {'sentenceIndex': 4, 'startToken': 7, 'endToken': 10}, {'sentenceIndex': 4, 'startToken': 11, 'endToken': 13}, {'sentenceIndex': 4, 'startToken': 11, 'endToken': 12}, {'sentenceIndex': 4, 'startToken': 14, 'endToken': 15}, {'sentenceIndex': 4, 'startToken': 15, 'endToken': 16}, {'sentenceIndex': 4, 'startToken': 17, 'endToken': 18}, {'sentenceIndex': 4, 'startToken': 20, 'endToken': 21}, {'sentenceIndex': 4, 'startToken': 22, 'endToken': 28}, {'sentenceIndex': 5, 'startToken': 2, 'endToken': 3}, {'sentenceIndex': 6, 'startToken': 2, 'endToken': 3}, {'sentenceIndex': 6, 'startToken': 5, 'endToken': 7}, {'sentenceIndex': 6, 'startToken': 5, 'endToken': 6}, {'sentenceIndex': 7, 'startToken': 2, 'endToken': 3}, {'sentenceIndex': 7, 'startToken': 4, 'endToken': 7}, {'sentenceIndex': 7, 'startToken': 9, 'endToken': 10}, {'sentenceIndex': 8, 'startToken': 2, 'endToken': 3}, {'sentenceIndex': 8, 'startToken': 9, 'endToken': 10}, {'sentenceIndex': 8, 'startToken': 12, 'endToken': 13}, {'sentenceIndex': 8, 'startToken': 14, 'endToken': 15}, {'sentenceIndex': 8, 'startToken': 16, 'endToken': 17}, {'sentenceIndex': 8, 'startToken': 18, 'endToken': 19}, {'sentenceIndex': 8, 'startToken': 24, 'endToken': 25}, {'sentenceIndex': 8, 'startToken': 26, 'endToken': 29}, {'sentenceIndex': 8, 'startToken': 26, 'endToken': 27}, {'sentenceIndex': 9, 'startToken': 5, 'endToken': 6}, {'sentenceIndex': 9, 'startToken': 8, 'endToken': 9}, {'sentenceIndex': 9, 'startToken': 11, 'endToken': 12}, {'sentenceIndex': 10, 'startToken': 4, 'endToken': 5}, {'sentenceIndex': 10, 'startToken': 11, 'endToken': 12}, {'sentenceIndex': 11, 'startToken': 2, 'endToken': 4}, {'sentenceIndex': 11, 'startToken': 3, 'endToken': 4}, {'sentenceIndex': 11, 'startToken': 5, 'endToken': 6}, {'sentenceIndex': 11, 'startToken': 9, 'endToken': 11}, {'sentenceIndex': 12, 'startToken': 2, 'endToken': 3}, {'sentenceIndex': 12, 'startToken': 8, 'endToken': 10}, {'sentenceIndex': 12, 'startToken': 11, 'endToken': 12}, {'sentenceIndex': 12, 'startToken': 14, 'endToken': 16}, {'sentenceIndex': 13, 'startToken': 4, 'endToken': 5}, {'sentenceIndex': 13, 'startToken': 4, 'endToken': 7}, {'sentenceIndex': 13, 'startToken': 8, 'endToken': 10}, {'sentenceIndex': 13, 'startToken': 15, 'endToken': 16}, {'sentenceIndex': 13, 'startToken': 17, 'endToken': 19}, {'sentenceIndex': 13, 'startToken': 20, 'endToken': 21}, {'sentenceIndex': 13, 'startToken': 22, 'endToken': 24}, {'sentenceIndex': 13, 'startToken': 22, 'endToken': 23}, {'sentenceIndex': 13, 'startToken': 25, 'endToken': 26}, {'sentenceIndex': 13, 'startToken': 28, 'endToken': 29}, {'sentenceIndex': 13, 'startToken': 30, 'endToken': 31}, {'sentenceIndex': 13, 'startToken': 32, 'endToken': 34}, {'sentenceIndex': 13, 'startToken': 35, 'endToken': 36}, {'sentenceIndex': 13, 'startToken': 40, 'endToken': 42}, {'sentenceIndex': 13, 'startToken': 43, 'endToken': 44}, {'sentenceIndex': 14, 'startToken': 3, 'endToken': 4}, {'sentenceIndex': 14, 'startToken': 7, 'endToken': 9}, {'sentenceIndex': 14, 'startToken': 10, 'endToken': 11}, {'sentenceIndex': 15, 'startToken': 6, 'endToken': 7}, {'sentenceIndex': 15, 'startToken': 12, 'endToken': 14}, {'sentenceIndex': 15, 'startToken': 15, 'endToken': 16}, {'sentenceIndex': 15, 'startToken': 19, 'endToken': 20}, {'sentenceIndex': 15, 'startToken': 23, 'endToken': 24}, {'sentenceIndex': 16, 'startToken': 2, 'endToken': 3}, {'sentenceIndex': 16, 'startToken': 7, 'endToken': 8}, {'sentenceIndex': 16, 'startToken': 12, 'endToken': 14}], 'scene_id': 's01e01c04t'}\n",
      "\n",
      "{'sentences': [['Penny', ':', 'So', 'you', 'guys', 'work', 'with', 'Leonard', 'and', 'Sheldon', 'at', 'the', 'university', '?'], ['Penny', ':', 'I', \"'m\", 'sorry', ',', 'do', 'you', 'speak', 'English', '?'], ['Howard', ':', 'Oh', ',', 'he', 'speaks', 'English', '.', 'He', 'just', 'ca', \"n't\", 'speak', 'to', 'women', '.'], ['Penny', ':', 'Really', '?'], ['Howard', ':', 'He', \"'s\", 'kind', 'of', 'a', 'nerd', '.', 'Juice', 'box', '?']], 'querySpans': [{'sentenceIndex': 0, 'startToken': 3, 'endToken': 5}, {'sentenceIndex': 0, 'startToken': 3, 'endToken': 4}, {'sentenceIndex': 0, 'startToken': 7, 'endToken': 8}, {'sentenceIndex': 0, 'startToken': 9, 'endToken': 10}, {'sentenceIndex': 0, 'startToken': 11, 'endToken': 13}, {'sentenceIndex': 1, 'startToken': 2, 'endToken': 3}, {'sentenceIndex': 1, 'startToken': 7, 'endToken': 8}, {'sentenceIndex': 1, 'startToken': 9, 'endToken': 10}, {'sentenceIndex': 2, 'startToken': 4, 'endToken': 5}, {'sentenceIndex': 2, 'startToken': 6, 'endToken': 7}, {'sentenceIndex': 2, 'startToken': 8, 'endToken': 9}, {'sentenceIndex': 2, 'startToken': 14, 'endToken': 15}, {'sentenceIndex': 4, 'startToken': 2, 'endToken': 3}, {'sentenceIndex': 4, 'startToken': 4, 'endToken': 8}, {'sentenceIndex': 4, 'startToken': 9, 'endToken': 11}], 'candidateSpans': [{'sentenceIndex': 0, 'startToken': 3, 'endToken': 5}, {'sentenceIndex': 0, 'startToken': 3, 'endToken': 4}, {'sentenceIndex': 0, 'startToken': 7, 'endToken': 8}, {'sentenceIndex': 0, 'startToken': 9, 'endToken': 10}, {'sentenceIndex': 0, 'startToken': 11, 'endToken': 13}, {'sentenceIndex': 1, 'startToken': 2, 'endToken': 3}, {'sentenceIndex': 1, 'startToken': 7, 'endToken': 8}, {'sentenceIndex': 1, 'startToken': 9, 'endToken': 10}, {'sentenceIndex': 2, 'startToken': 4, 'endToken': 5}, {'sentenceIndex': 2, 'startToken': 6, 'endToken': 7}, {'sentenceIndex': 2, 'startToken': 8, 'endToken': 9}, {'sentenceIndex': 2, 'startToken': 14, 'endToken': 15}, {'sentenceIndex': 4, 'startToken': 2, 'endToken': 3}, {'sentenceIndex': 4, 'startToken': 4, 'endToken': 8}, {'sentenceIndex': 4, 'startToken': 9, 'endToken': 11}], 'clickSpans': [{'sentenceIndex': 0, 'startToken': 3, 'endToken': 5}, {'sentenceIndex': 0, 'startToken': 3, 'endToken': 4}, {'sentenceIndex': 0, 'startToken': 7, 'endToken': 8}, {'sentenceIndex': 0, 'startToken': 9, 'endToken': 10}, {'sentenceIndex': 0, 'startToken': 11, 'endToken': 13}, {'sentenceIndex': 1, 'startToken': 2, 'endToken': 3}, {'sentenceIndex': 1, 'startToken': 7, 'endToken': 8}, {'sentenceIndex': 1, 'startToken': 9, 'endToken': 10}, {'sentenceIndex': 2, 'startToken': 4, 'endToken': 5}, {'sentenceIndex': 2, 'startToken': 6, 'endToken': 7}, {'sentenceIndex': 2, 'startToken': 8, 'endToken': 9}, {'sentenceIndex': 2, 'startToken': 14, 'endToken': 15}, {'sentenceIndex': 4, 'startToken': 2, 'endToken': 3}, {'sentenceIndex': 4, 'startToken': 4, 'endToken': 8}, {'sentenceIndex': 4, 'startToken': 9, 'endToken': 11}], 'scene_id': 's01e01c05t'}\n",
      "\n",
      "{'sentences': [['Leonard', ':', 'I', \"'ll\", 'do', 'the', 'talking', '.'], ['Voice', 'from', 'buzzer', ':', 'Yeah', '?'], ['Leonard', ':', 'Hi', '.', 'I', \"'m\", 'Leonard', ',', 'this', 'is', 'Sheldon', '.'], ['Sheldon', ':', 'Hello', '.'], ['Leonard', ':', 'What', 'did', 'I', 'just', '...', '?', 'We', \"'re\", 'here', 'to', 'pick', 'up', 'Penny', \"'s\", 'TV', '.'], ['Voice', ':', 'Get', 'lost', '.'], ['Sheldon', ':', 'Okay', ',', 'thanks', 'for', 'your', 'time', '.'], ['Leonard', ':', 'We', \"'re\", 'not', 'gon', 'na', 'give', 'up', 'just', 'like', 'that', '.'], ['Sheldon', ':', 'Leonard', ',', 'the', 'TV', \"'s\", 'in', 'the', 'building', '.', 'We', \"'ve\", 'been', 'denied', 'access', 'to', 'the', 'building', ',', 'ergo', 'we', 'are', 'done', '.'], ['Leonard', ':', 'If', 'I', 'were', 'to', 'give', 'up', 'at', 'the', 'first', 'hitch', ',', 'I', 'never', 'would', 'have', 'identified', 'the', 'fingerprints', 'of', 'string', 'theory', 'in', 'the', 'aftermath', 'of', 'the', 'big', 'bang', '.'], ['Sheldon', ':', 'My', 'apologies', '.', 'What', \"'s\", 'your', 'plan', '?'], ['Sheldon', ':', 'It', \"'s\", 'just', 'a', 'privilege', 'to', 'watch', 'your', 'mind', 'at', 'work', '.'], ['Leonard', ':', 'Come', 'on', ',', 'we', 'have', 'a', 'combined', 'IQ', 'of', '360', '.', 'We', 'should', 'be', 'able', 'to', 'figure', 'out', 'how', 'to', 'get', 'into', 'a', 'stupid', 'building', '.'], ['Sheldon', ':', 'What', 'do', 'you', 'think', 'their', 'combined', 'IQ', 'is', '?'], ['Leonard', ':', 'Just', 'grab', 'the', 'door', '.']], 'querySpans': [{'sentenceIndex': 0, 'startToken': 2, 'endToken': 3}, {'sentenceIndex': 0, 'startToken': 5, 'endToken': 7}, {'sentenceIndex': 2, 'startToken': 4, 'endToken': 5}, {'sentenceIndex': 2, 'startToken': 6, 'endToken': 7}, {'sentenceIndex': 2, 'startToken': 8, 'endToken': 9}, {'sentenceIndex': 2, 'startToken': 10, 'endToken': 11}, {'sentenceIndex': 4, 'startToken': 2, 'endToken': 3}, {'sentenceIndex': 4, 'startToken': 4, 'endToken': 5}, {'sentenceIndex': 4, 'startToken': 8, 'endToken': 9}, {'sentenceIndex': 4, 'startToken': 14, 'endToken': 17}, {'sentenceIndex': 6, 'startToken': 2, 'endToken': 5}, {'sentenceIndex': 6, 'startToken': 6, 'endToken': 8}, {'sentenceIndex': 6, 'startToken': 6, 'endToken': 7}, {'sentenceIndex': 7, 'startToken': 2, 'endToken': 3}, {'sentenceIndex': 7, 'startToken': 11, 'endToken': 12}, {'sentenceIndex': 8, 'startToken': 2, 'endToken': 6}, {'sentenceIndex': 8, 'startToken': 8, 'endToken': 10}, {'sentenceIndex': 8, 'startToken': 11, 'endToken': 12}, {'sentenceIndex': 8, 'startToken': 15, 'endToken': 16}, {'sentenceIndex': 8, 'startToken': 17, 'endToken': 19}, {'sentenceIndex': 8, 'startToken': 20, 'endToken': 21}, {'sentenceIndex': 8, 'startToken': 21, 'endToken': 22}, {'sentenceIndex': 9, 'startToken': 3, 'endToken': 4}, {'sentenceIndex': 9, 'startToken': 9, 'endToken': 12}, {'sentenceIndex': 9, 'startToken': 13, 'endToken': 14}, {'sentenceIndex': 9, 'startToken': 18, 'endToken': 20}, {'sentenceIndex': 9, 'startToken': 21, 'endToken': 23}, {'sentenceIndex': 9, 'startToken': 24, 'endToken': 26}, {'sentenceIndex': 9, 'startToken': 27, 'endToken': 30}, {'sentenceIndex': 10, 'startToken': 2, 'endToken': 3}, {'sentenceIndex': 10, 'startToken': 2, 'endToken': 4}, {'sentenceIndex': 10, 'startToken': 5, 'endToken': 6}, {'sentenceIndex': 10, 'startToken': 7, 'endToken': 8}, {'sentenceIndex': 10, 'startToken': 7, 'endToken': 9}, {'sentenceIndex': 11, 'startToken': 2, 'endToken': 3}, {'sentenceIndex': 11, 'startToken': 4, 'endToken': 7}, {'sentenceIndex': 11, 'startToken': 9, 'endToken': 10}, {'sentenceIndex': 11, 'startToken': 9, 'endToken': 11}, {'sentenceIndex': 11, 'startToken': 12, 'endToken': 13}, {'sentenceIndex': 12, 'startToken': 5, 'endToken': 6}, {'sentenceIndex': 12, 'startToken': 7, 'endToken': 10}, {'sentenceIndex': 12, 'startToken': 13, 'endToken': 14}, {'sentenceIndex': 12, 'startToken': 24, 'endToken': 27}, {'sentenceIndex': 13, 'startToken': 2, 'endToken': 3}, {'sentenceIndex': 13, 'startToken': 4, 'endToken': 5}, {'sentenceIndex': 13, 'startToken': 6, 'endToken': 9}, {'sentenceIndex': 13, 'startToken': 6, 'endToken': 7}, {'sentenceIndex': 14, 'startToken': 4, 'endToken': 6}], 'candidateSpans': [{'sentenceIndex': 0, 'startToken': 2, 'endToken': 3}, {'sentenceIndex': 0, 'startToken': 5, 'endToken': 7}, {'sentenceIndex': 2, 'startToken': 4, 'endToken': 5}, {'sentenceIndex': 2, 'startToken': 6, 'endToken': 7}, {'sentenceIndex': 2, 'startToken': 8, 'endToken': 9}, {'sentenceIndex': 2, 'startToken': 10, 'endToken': 11}, {'sentenceIndex': 4, 'startToken': 2, 'endToken': 3}, {'sentenceIndex': 4, 'startToken': 4, 'endToken': 5}, {'sentenceIndex': 4, 'startToken': 8, 'endToken': 9}, {'sentenceIndex': 4, 'startToken': 14, 'endToken': 17}, {'sentenceIndex': 6, 'startToken': 2, 'endToken': 5}, {'sentenceIndex': 6, 'startToken': 6, 'endToken': 8}, {'sentenceIndex': 6, 'startToken': 6, 'endToken': 7}, {'sentenceIndex': 7, 'startToken': 2, 'endToken': 3}, {'sentenceIndex': 7, 'startToken': 11, 'endToken': 12}, {'sentenceIndex': 8, 'startToken': 2, 'endToken': 6}, {'sentenceIndex': 8, 'startToken': 8, 'endToken': 10}, {'sentenceIndex': 8, 'startToken': 11, 'endToken': 12}, {'sentenceIndex': 8, 'startToken': 15, 'endToken': 16}, {'sentenceIndex': 8, 'startToken': 17, 'endToken': 19}, {'sentenceIndex': 8, 'startToken': 20, 'endToken': 21}, {'sentenceIndex': 8, 'startToken': 21, 'endToken': 22}, {'sentenceIndex': 9, 'startToken': 3, 'endToken': 4}, {'sentenceIndex': 9, 'startToken': 9, 'endToken': 12}, {'sentenceIndex': 9, 'startToken': 13, 'endToken': 14}, {'sentenceIndex': 9, 'startToken': 18, 'endToken': 20}, {'sentenceIndex': 9, 'startToken': 21, 'endToken': 23}, {'sentenceIndex': 9, 'startToken': 24, 'endToken': 26}, {'sentenceIndex': 9, 'startToken': 27, 'endToken': 30}, {'sentenceIndex': 10, 'startToken': 2, 'endToken': 3}, {'sentenceIndex': 10, 'startToken': 2, 'endToken': 4}, {'sentenceIndex': 10, 'startToken': 5, 'endToken': 6}, {'sentenceIndex': 10, 'startToken': 7, 'endToken': 8}, {'sentenceIndex': 10, 'startToken': 7, 'endToken': 9}, {'sentenceIndex': 11, 'startToken': 2, 'endToken': 3}, {'sentenceIndex': 11, 'startToken': 4, 'endToken': 7}, {'sentenceIndex': 11, 'startToken': 9, 'endToken': 10}, {'sentenceIndex': 11, 'startToken': 9, 'endToken': 11}, {'sentenceIndex': 11, 'startToken': 12, 'endToken': 13}, {'sentenceIndex': 12, 'startToken': 5, 'endToken': 6}, {'sentenceIndex': 12, 'startToken': 7, 'endToken': 10}, {'sentenceIndex': 12, 'startToken': 13, 'endToken': 14}, {'sentenceIndex': 12, 'startToken': 24, 'endToken': 27}, {'sentenceIndex': 13, 'startToken': 2, 'endToken': 3}, {'sentenceIndex': 13, 'startToken': 4, 'endToken': 5}, {'sentenceIndex': 13, 'startToken': 6, 'endToken': 9}, {'sentenceIndex': 13, 'startToken': 6, 'endToken': 7}, {'sentenceIndex': 14, 'startToken': 4, 'endToken': 6}], 'clickSpans': [{'sentenceIndex': 0, 'startToken': 2, 'endToken': 3}, {'sentenceIndex': 0, 'startToken': 5, 'endToken': 7}, {'sentenceIndex': 2, 'startToken': 4, 'endToken': 5}, {'sentenceIndex': 2, 'startToken': 6, 'endToken': 7}, {'sentenceIndex': 2, 'startToken': 8, 'endToken': 9}, {'sentenceIndex': 2, 'startToken': 10, 'endToken': 11}, {'sentenceIndex': 4, 'startToken': 2, 'endToken': 3}, {'sentenceIndex': 4, 'startToken': 4, 'endToken': 5}, {'sentenceIndex': 4, 'startToken': 8, 'endToken': 9}, {'sentenceIndex': 4, 'startToken': 14, 'endToken': 17}, {'sentenceIndex': 6, 'startToken': 2, 'endToken': 5}, {'sentenceIndex': 6, 'startToken': 6, 'endToken': 8}, {'sentenceIndex': 6, 'startToken': 6, 'endToken': 7}, {'sentenceIndex': 7, 'startToken': 2, 'endToken': 3}, {'sentenceIndex': 7, 'startToken': 11, 'endToken': 12}, {'sentenceIndex': 8, 'startToken': 2, 'endToken': 6}, {'sentenceIndex': 8, 'startToken': 8, 'endToken': 10}, {'sentenceIndex': 8, 'startToken': 11, 'endToken': 12}, {'sentenceIndex': 8, 'startToken': 15, 'endToken': 16}, {'sentenceIndex': 8, 'startToken': 17, 'endToken': 19}, {'sentenceIndex': 8, 'startToken': 20, 'endToken': 21}, {'sentenceIndex': 8, 'startToken': 21, 'endToken': 22}, {'sentenceIndex': 9, 'startToken': 3, 'endToken': 4}, {'sentenceIndex': 9, 'startToken': 9, 'endToken': 12}, {'sentenceIndex': 9, 'startToken': 13, 'endToken': 14}, {'sentenceIndex': 9, 'startToken': 18, 'endToken': 20}, {'sentenceIndex': 9, 'startToken': 21, 'endToken': 23}, {'sentenceIndex': 9, 'startToken': 24, 'endToken': 26}, {'sentenceIndex': 9, 'startToken': 27, 'endToken': 30}, {'sentenceIndex': 10, 'startToken': 2, 'endToken': 3}, {'sentenceIndex': 10, 'startToken': 2, 'endToken': 4}, {'sentenceIndex': 10, 'startToken': 5, 'endToken': 6}, {'sentenceIndex': 10, 'startToken': 7, 'endToken': 8}, {'sentenceIndex': 10, 'startToken': 7, 'endToken': 9}, {'sentenceIndex': 11, 'startToken': 2, 'endToken': 3}, {'sentenceIndex': 11, 'startToken': 4, 'endToken': 7}, {'sentenceIndex': 11, 'startToken': 9, 'endToken': 10}, {'sentenceIndex': 11, 'startToken': 9, 'endToken': 11}, {'sentenceIndex': 11, 'startToken': 12, 'endToken': 13}, {'sentenceIndex': 12, 'startToken': 5, 'endToken': 6}, {'sentenceIndex': 12, 'startToken': 7, 'endToken': 10}, {'sentenceIndex': 12, 'startToken': 13, 'endToken': 14}, {'sentenceIndex': 12, 'startToken': 24, 'endToken': 27}, {'sentenceIndex': 13, 'startToken': 2, 'endToken': 3}, {'sentenceIndex': 13, 'startToken': 4, 'endToken': 5}, {'sentenceIndex': 13, 'startToken': 6, 'endToken': 9}, {'sentenceIndex': 13, 'startToken': 6, 'endToken': 7}, {'sentenceIndex': 14, 'startToken': 4, 'endToken': 6}], 'scene_id': 's01e01c06t'}\n",
      "\n",
      "{'sentences': [['Leonard', ':', 'This', 'is', 'it', '.', 'I', \"'ll\", 'do', 'the', 'talking', '.'], ['Sheldon', ':', 'Good', 'thinking', ',', 'I', \"'ll\", 'just', 'be', 'the', 'muscle', '.'], ['Enormous', 'man', ':', 'Yeah', '?'], ['Leonard', ':', 'I', \"'m\", 'Leonard', ',', 'this', 'is', 'Sheldon', '.'], ['Sheldon', ':', 'From', 'the', 'intercom', '.'], ['Man', ':', 'How', 'the', 'hell', 'did', 'you', 'get', 'in', 'the', 'building', '?'], ['Leonard', ':', 'We', \"'re\", 'scientists', '.'], ['Sheldon', ':', 'Tell', 'him', 'about', 'our', 'IQ', '.']], 'querySpans': [{'sentenceIndex': 0, 'startToken': 2, 'endToken': 3}, {'sentenceIndex': 0, 'startToken': 4, 'endToken': 5}, {'sentenceIndex': 0, 'startToken': 6, 'endToken': 7}, {'sentenceIndex': 0, 'startToken': 9, 'endToken': 11}, {'sentenceIndex': 1, 'startToken': 5, 'endToken': 6}, {'sentenceIndex': 1, 'startToken': 9, 'endToken': 11}, {'sentenceIndex': 3, 'startToken': 2, 'endToken': 3}, {'sentenceIndex': 3, 'startToken': 4, 'endToken': 5}, {'sentenceIndex': 3, 'startToken': 6, 'endToken': 7}, {'sentenceIndex': 3, 'startToken': 8, 'endToken': 9}, {'sentenceIndex': 4, 'startToken': 3, 'endToken': 5}, {'sentenceIndex': 5, 'startToken': 6, 'endToken': 7}, {'sentenceIndex': 5, 'startToken': 9, 'endToken': 11}, {'sentenceIndex': 6, 'startToken': 2, 'endToken': 3}, {'sentenceIndex': 6, 'startToken': 4, 'endToken': 5}, {'sentenceIndex': 7, 'startToken': 3, 'endToken': 4}, {'sentenceIndex': 7, 'startToken': 5, 'endToken': 6}, {'sentenceIndex': 7, 'startToken': 5, 'endToken': 7}], 'candidateSpans': [{'sentenceIndex': 0, 'startToken': 2, 'endToken': 3}, {'sentenceIndex': 0, 'startToken': 4, 'endToken': 5}, {'sentenceIndex': 0, 'startToken': 6, 'endToken': 7}, {'sentenceIndex': 0, 'startToken': 9, 'endToken': 11}, {'sentenceIndex': 1, 'startToken': 5, 'endToken': 6}, {'sentenceIndex': 1, 'startToken': 9, 'endToken': 11}, {'sentenceIndex': 3, 'startToken': 2, 'endToken': 3}, {'sentenceIndex': 3, 'startToken': 4, 'endToken': 5}, {'sentenceIndex': 3, 'startToken': 6, 'endToken': 7}, {'sentenceIndex': 3, 'startToken': 8, 'endToken': 9}, {'sentenceIndex': 4, 'startToken': 3, 'endToken': 5}, {'sentenceIndex': 5, 'startToken': 6, 'endToken': 7}, {'sentenceIndex': 5, 'startToken': 9, 'endToken': 11}, {'sentenceIndex': 6, 'startToken': 2, 'endToken': 3}, {'sentenceIndex': 6, 'startToken': 4, 'endToken': 5}, {'sentenceIndex': 7, 'startToken': 3, 'endToken': 4}, {'sentenceIndex': 7, 'startToken': 5, 'endToken': 6}, {'sentenceIndex': 7, 'startToken': 5, 'endToken': 7}], 'clickSpans': [{'sentenceIndex': 0, 'startToken': 2, 'endToken': 3}, {'sentenceIndex': 0, 'startToken': 4, 'endToken': 5}, {'sentenceIndex': 0, 'startToken': 6, 'endToken': 7}, {'sentenceIndex': 0, 'startToken': 9, 'endToken': 11}, {'sentenceIndex': 1, 'startToken': 5, 'endToken': 6}, {'sentenceIndex': 1, 'startToken': 9, 'endToken': 11}, {'sentenceIndex': 3, 'startToken': 2, 'endToken': 3}, {'sentenceIndex': 3, 'startToken': 4, 'endToken': 5}, {'sentenceIndex': 3, 'startToken': 6, 'endToken': 7}, {'sentenceIndex': 3, 'startToken': 8, 'endToken': 9}, {'sentenceIndex': 4, 'startToken': 3, 'endToken': 5}, {'sentenceIndex': 5, 'startToken': 6, 'endToken': 7}, {'sentenceIndex': 5, 'startToken': 9, 'endToken': 11}, {'sentenceIndex': 6, 'startToken': 2, 'endToken': 3}, {'sentenceIndex': 6, 'startToken': 4, 'endToken': 5}, {'sentenceIndex': 7, 'startToken': 3, 'endToken': 4}, {'sentenceIndex': 7, 'startToken': 5, 'endToken': 6}, {'sentenceIndex': 7, 'startToken': 5, 'endToken': 7}], 'scene_id': 's01e01c07t'}\n",
      "\n",
      "{'sentences': [['Sheldon', ':', 'Leonard', '.'], ['Leonard', ':', 'What', '?'], ['Sheldon', ':', 'My', 'mom', 'bought', 'me', 'those', 'pants', '.'], ['Leonard', ':', 'I', '’m', 'sorry', '.'], ['Sheldon', ':', 'You', \"'re\", 'gon', 'na', 'have', 'to', 'call', 'her', '.']], 'querySpans': [{'sentenceIndex': 0, 'startToken': 2, 'endToken': 3}, {'sentenceIndex': 1, 'startToken': 2, 'endToken': 3}, {'sentenceIndex': 2, 'startToken': 2, 'endToken': 3}, {'sentenceIndex': 2, 'startToken': 2, 'endToken': 4}, {'sentenceIndex': 2, 'startToken': 5, 'endToken': 6}, {'sentenceIndex': 2, 'startToken': 6, 'endToken': 8}, {'sentenceIndex': 3, 'startToken': 2, 'endToken': 3}, {'sentenceIndex': 4, 'startToken': 2, 'endToken': 3}, {'sentenceIndex': 4, 'startToken': 9, 'endToken': 10}], 'candidateSpans': [{'sentenceIndex': 0, 'startToken': 2, 'endToken': 3}, {'sentenceIndex': 1, 'startToken': 2, 'endToken': 3}, {'sentenceIndex': 2, 'startToken': 2, 'endToken': 3}, {'sentenceIndex': 2, 'startToken': 2, 'endToken': 4}, {'sentenceIndex': 2, 'startToken': 5, 'endToken': 6}, {'sentenceIndex': 2, 'startToken': 6, 'endToken': 8}, {'sentenceIndex': 3, 'startToken': 2, 'endToken': 3}, {'sentenceIndex': 4, 'startToken': 2, 'endToken': 3}, {'sentenceIndex': 4, 'startToken': 9, 'endToken': 10}], 'clickSpans': [{'sentenceIndex': 0, 'startToken': 2, 'endToken': 3}, {'sentenceIndex': 1, 'startToken': 2, 'endToken': 3}, {'sentenceIndex': 2, 'startToken': 2, 'endToken': 3}, {'sentenceIndex': 2, 'startToken': 2, 'endToken': 4}, {'sentenceIndex': 2, 'startToken': 5, 'endToken': 6}, {'sentenceIndex': 2, 'startToken': 6, 'endToken': 8}, {'sentenceIndex': 3, 'startToken': 2, 'endToken': 3}, {'sentenceIndex': 4, 'startToken': 2, 'endToken': 3}, {'sentenceIndex': 4, 'startToken': 9, 'endToken': 10}], 'scene_id': 's01e01c08t'}\n",
      "\n",
      "{'sentences': [['Leonard', ':', 'Sheldon', ',', 'I', 'am', 'so', 'sorry', 'I', 'dragged', 'you', 'through', 'this', '.'], ['Sheldon', ':', 'It', \"'s\", 'okay', '.', 'It', 'was', \"n't\", 'my', 'first', 'pantsing', 'and', 'it', 'wo', \"n't\", 'be', 'my', 'last', '.'], ['Leonard', ':', 'And', 'you', 'were', 'right', 'about', 'my', 'motives', '.', 'I', 'was', 'hoping', 'to', 'establish', 'a', 'relationship', 'with', 'Penny', 'that', 'might', 'have', 'someday', 'led', 'to', 'sex', '.'], ['Sheldon', ':', 'Well', ',', 'you', 'got', 'me', 'out', 'of', 'my', 'pants', '.'], ['Leonard', ':', 'Anyway', ',', 'I', \"'ve\", 'learned', 'my', 'lesson', '.', 'She', \"'s\", 'out', 'of', 'my', 'league', ',', 'I', \"'m\", 'done', 'with', 'her', '.', 'I', \"'ve\", 'got', 'my', 'work', '.', 'One', 'day', 'I', \"'ll\", 'win', 'the', 'Nobel', 'Prize', 'and', 'then', 'I', \"'ll\", 'die', 'alone', '.'], ['Sheldon', ':', 'Do', \"n't\", 'think', 'like', 'that', '.', 'You', \"'re\", 'not', 'going', 'to', 'die', 'alone', '.'], ['Leonard', ':', 'Thank', 'you', ',', 'Sheldon', '.', 'You', \"'re\", 'a', 'good', 'friend', '.'], ['Sheldon', ':', 'And', 'you', \"'re\", 'certainly', 'not', 'gon', 'na', 'win', 'a', 'Nobel', 'Prize', '.']], 'querySpans': [{'sentenceIndex': 0, 'startToken': 4, 'endToken': 5}, {'sentenceIndex': 0, 'startToken': 8, 'endToken': 9}, {'sentenceIndex': 0, 'startToken': 10, 'endToken': 11}, {'sentenceIndex': 0, 'startToken': 12, 'endToken': 13}, {'sentenceIndex': 1, 'startToken': 2, 'endToken': 3}, {'sentenceIndex': 1, 'startToken': 6, 'endToken': 7}, {'sentenceIndex': 1, 'startToken': 9, 'endToken': 12}, {'sentenceIndex': 1, 'startToken': 9, 'endToken': 10}, {'sentenceIndex': 1, 'startToken': 13, 'endToken': 14}, {'sentenceIndex': 1, 'startToken': 17, 'endToken': 18}, {'sentenceIndex': 2, 'startToken': 3, 'endToken': 4}, {'sentenceIndex': 2, 'startToken': 7, 'endToken': 8}, {'sentenceIndex': 2, 'startToken': 7, 'endToken': 9}, {'sentenceIndex': 2, 'startToken': 10, 'endToken': 11}, {'sentenceIndex': 2, 'startToken': 15, 'endToken': 17}, {'sentenceIndex': 2, 'startToken': 18, 'endToken': 19}, {'sentenceIndex': 2, 'startToken': 19, 'endToken': 20}, {'sentenceIndex': 2, 'startToken': 25, 'endToken': 26}, {'sentenceIndex': 3, 'startToken': 4, 'endToken': 5}, {'sentenceIndex': 3, 'startToken': 6, 'endToken': 7}, {'sentenceIndex': 3, 'startToken': 9, 'endToken': 10}, {'sentenceIndex': 3, 'startToken': 9, 'endToken': 11}, {'sentenceIndex': 4, 'startToken': 4, 'endToken': 5}, {'sentenceIndex': 4, 'startToken': 7, 'endToken': 9}, {'sentenceIndex': 4, 'startToken': 7, 'endToken': 8}, {'sentenceIndex': 4, 'startToken': 10, 'endToken': 11}, {'sentenceIndex': 4, 'startToken': 14, 'endToken': 15}, {'sentenceIndex': 4, 'startToken': 14, 'endToken': 16}, {'sentenceIndex': 4, 'startToken': 17, 'endToken': 18}, {'sentenceIndex': 4, 'startToken': 21, 'endToken': 22}, {'sentenceIndex': 4, 'startToken': 23, 'endToken': 24}, {'sentenceIndex': 4, 'startToken': 26, 'endToken': 28}, {'sentenceIndex': 4, 'startToken': 26, 'endToken': 27}, {'sentenceIndex': 4, 'startToken': 31, 'endToken': 32}, {'sentenceIndex': 4, 'startToken': 34, 'endToken': 37}, {'sentenceIndex': 4, 'startToken': 39, 'endToken': 40}, {'sentenceIndex': 5, 'startToken': 6, 'endToken': 7}, {'sentenceIndex': 5, 'startToken': 8, 'endToken': 9}, {'sentenceIndex': 6, 'startToken': 3, 'endToken': 4}, {'sentenceIndex': 6, 'startToken': 7, 'endToken': 8}, {'sentenceIndex': 6, 'startToken': 9, 'endToken': 12}, {'sentenceIndex': 7, 'startToken': 3, 'endToken': 4}, {'sentenceIndex': 7, 'startToken': 10, 'endToken': 13}], 'candidateSpans': [{'sentenceIndex': 0, 'startToken': 4, 'endToken': 5}, {'sentenceIndex': 0, 'startToken': 8, 'endToken': 9}, {'sentenceIndex': 0, 'startToken': 10, 'endToken': 11}, {'sentenceIndex': 0, 'startToken': 12, 'endToken': 13}, {'sentenceIndex': 1, 'startToken': 2, 'endToken': 3}, {'sentenceIndex': 1, 'startToken': 6, 'endToken': 7}, {'sentenceIndex': 1, 'startToken': 9, 'endToken': 12}, {'sentenceIndex': 1, 'startToken': 9, 'endToken': 10}, {'sentenceIndex': 1, 'startToken': 13, 'endToken': 14}, {'sentenceIndex': 1, 'startToken': 17, 'endToken': 18}, {'sentenceIndex': 2, 'startToken': 3, 'endToken': 4}, {'sentenceIndex': 2, 'startToken': 7, 'endToken': 8}, {'sentenceIndex': 2, 'startToken': 7, 'endToken': 9}, {'sentenceIndex': 2, 'startToken': 10, 'endToken': 11}, {'sentenceIndex': 2, 'startToken': 15, 'endToken': 17}, {'sentenceIndex': 2, 'startToken': 18, 'endToken': 19}, {'sentenceIndex': 2, 'startToken': 19, 'endToken': 20}, {'sentenceIndex': 2, 'startToken': 25, 'endToken': 26}, {'sentenceIndex': 3, 'startToken': 4, 'endToken': 5}, {'sentenceIndex': 3, 'startToken': 6, 'endToken': 7}, {'sentenceIndex': 3, 'startToken': 9, 'endToken': 10}, {'sentenceIndex': 3, 'startToken': 9, 'endToken': 11}, {'sentenceIndex': 4, 'startToken': 4, 'endToken': 5}, {'sentenceIndex': 4, 'startToken': 7, 'endToken': 9}, {'sentenceIndex': 4, 'startToken': 7, 'endToken': 8}, {'sentenceIndex': 4, 'startToken': 10, 'endToken': 11}, {'sentenceIndex': 4, 'startToken': 14, 'endToken': 15}, {'sentenceIndex': 4, 'startToken': 14, 'endToken': 16}, {'sentenceIndex': 4, 'startToken': 17, 'endToken': 18}, {'sentenceIndex': 4, 'startToken': 21, 'endToken': 22}, {'sentenceIndex': 4, 'startToken': 23, 'endToken': 24}, {'sentenceIndex': 4, 'startToken': 26, 'endToken': 28}, {'sentenceIndex': 4, 'startToken': 26, 'endToken': 27}, {'sentenceIndex': 4, 'startToken': 31, 'endToken': 32}, {'sentenceIndex': 4, 'startToken': 34, 'endToken': 37}, {'sentenceIndex': 4, 'startToken': 39, 'endToken': 40}, {'sentenceIndex': 5, 'startToken': 6, 'endToken': 7}, {'sentenceIndex': 5, 'startToken': 8, 'endToken': 9}, {'sentenceIndex': 6, 'startToken': 3, 'endToken': 4}, {'sentenceIndex': 6, 'startToken': 7, 'endToken': 8}, {'sentenceIndex': 6, 'startToken': 9, 'endToken': 12}, {'sentenceIndex': 7, 'startToken': 3, 'endToken': 4}, {'sentenceIndex': 7, 'startToken': 10, 'endToken': 13}], 'clickSpans': [{'sentenceIndex': 0, 'startToken': 4, 'endToken': 5}, {'sentenceIndex': 0, 'startToken': 8, 'endToken': 9}, {'sentenceIndex': 0, 'startToken': 10, 'endToken': 11}, {'sentenceIndex': 0, 'startToken': 12, 'endToken': 13}, {'sentenceIndex': 1, 'startToken': 2, 'endToken': 3}, {'sentenceIndex': 1, 'startToken': 6, 'endToken': 7}, {'sentenceIndex': 1, 'startToken': 9, 'endToken': 12}, {'sentenceIndex': 1, 'startToken': 9, 'endToken': 10}, {'sentenceIndex': 1, 'startToken': 13, 'endToken': 14}, {'sentenceIndex': 1, 'startToken': 17, 'endToken': 18}, {'sentenceIndex': 2, 'startToken': 3, 'endToken': 4}, {'sentenceIndex': 2, 'startToken': 7, 'endToken': 8}, {'sentenceIndex': 2, 'startToken': 7, 'endToken': 9}, {'sentenceIndex': 2, 'startToken': 10, 'endToken': 11}, {'sentenceIndex': 2, 'startToken': 15, 'endToken': 17}, {'sentenceIndex': 2, 'startToken': 18, 'endToken': 19}, {'sentenceIndex': 2, 'startToken': 19, 'endToken': 20}, {'sentenceIndex': 2, 'startToken': 25, 'endToken': 26}, {'sentenceIndex': 3, 'startToken': 4, 'endToken': 5}, {'sentenceIndex': 3, 'startToken': 6, 'endToken': 7}, {'sentenceIndex': 3, 'startToken': 9, 'endToken': 10}, {'sentenceIndex': 3, 'startToken': 9, 'endToken': 11}, {'sentenceIndex': 4, 'startToken': 4, 'endToken': 5}, {'sentenceIndex': 4, 'startToken': 7, 'endToken': 9}, {'sentenceIndex': 4, 'startToken': 7, 'endToken': 8}, {'sentenceIndex': 4, 'startToken': 10, 'endToken': 11}, {'sentenceIndex': 4, 'startToken': 14, 'endToken': 15}, {'sentenceIndex': 4, 'startToken': 14, 'endToken': 16}, {'sentenceIndex': 4, 'startToken': 17, 'endToken': 18}, {'sentenceIndex': 4, 'startToken': 21, 'endToken': 22}, {'sentenceIndex': 4, 'startToken': 23, 'endToken': 24}, {'sentenceIndex': 4, 'startToken': 26, 'endToken': 28}, {'sentenceIndex': 4, 'startToken': 26, 'endToken': 27}, {'sentenceIndex': 4, 'startToken': 31, 'endToken': 32}, {'sentenceIndex': 4, 'startToken': 34, 'endToken': 37}, {'sentenceIndex': 4, 'startToken': 39, 'endToken': 40}, {'sentenceIndex': 5, 'startToken': 6, 'endToken': 7}, {'sentenceIndex': 5, 'startToken': 8, 'endToken': 9}, {'sentenceIndex': 6, 'startToken': 3, 'endToken': 4}, {'sentenceIndex': 6, 'startToken': 7, 'endToken': 8}, {'sentenceIndex': 6, 'startToken': 9, 'endToken': 12}, {'sentenceIndex': 7, 'startToken': 3, 'endToken': 4}, {'sentenceIndex': 7, 'startToken': 10, 'endToken': 13}], 'scene_id': 's01e01c09t'}\n",
      "\n"
     ]
    }
   ],
   "source": [
    "print(a[1])\n",
    "\n",
    "for item in a[1]:\n",
    "    print(item)\n",
    "    print()"
   ],
   "metadata": {
    "collapsed": false,
    "pycharm": {
     "name": "#%%\n"
    }
   }
  },
  {
   "cell_type": "code",
   "execution_count": 145,
   "outputs": [
    {
     "name": "stdout",
     "output_type": "stream",
     "text": [
      "{'sentences': [['Sheldon', ':', 'If', 'a', 'photon', 'is', 'directed', 'through', 'a', 'plane', 'with', 'two', 'slits', 'in', 'it', 'and', 'either', 'is', 'observed', 'it', 'will', 'not', 'go', 'through', 'both', '.', 'If', 'unobserved', ',', 'it', 'will', '.', 'If', 'it', \"'s\", 'observed', 'after', 'it', 'left', 'the', 'plane', ',', 'before', 'it', 'hits', 'its', 'target', '...', 'it', 'will', 'not', 'have', 'gone', 'through', 'both', 'slits', '.'], ['Leonard', ':', 'Agreed', '.', 'What', \"'s\", 'your', 'point', '?'], ['Sheldon', ':', 'There', \"'s\", 'no', 'point', ',', 'I', 'just', 'think', 'it', \"'s\", 'a', 'good', 'idea', 'for', 'a', 'T', '-', 'shirt', '.'], ['Leonard', ':', 'Excuse', 'me', '.'], ['Receptionist', ':', 'Hang', 'on', '.'], ['Leonard', ':', 'One', 'across', 'is', 'Aegean', ',', 'eight', 'down', 'is', 'Nabokov', '.', 'Twenty', '-', 'six', 'across', 'is', 'MCM', '.', 'Fourteen', 'down', 'is', '...', 'Move', 'your', 'finger', '.', 'phylum', ',', 'which', 'makes', '14', 'across', 'Port', '-', 'Au', '-', 'Prince', '.', 'See', ',', 'Papa', 'Doc', \"'s\", 'capital', 'idea', ',', 'that', \"'s\", 'Port', '-', 'Au', '-', 'Prince', '.', 'Haiti', '.'], ['Receptionist', ':', 'Can', 'I', 'help', 'you', '?'], ['Leonard', ':', 'Yes', '.', 'Um', ',', 'is', 'this', 'the', 'high', '-', 'IQ', 'sperm', 'bank', '?'], ['Receptionist', ':', 'If', 'you', 'have', 'to', 'ask', ',', 'maybe', 'you', 'should', \"n't\", 'be', 'here', '.'], ['Sheldon', ':', 'I', 'think', 'this', 'is', 'the', 'place', '.'], ['Receptionist', ':', 'Fill', 'these', 'out', '.'], ['Leonard', ':', 'Thank', 'you', '.', 'We', \"'ll\", 'be', 'right', 'back', '.'], ['Receptionist', ':', 'Oh', ',', 'take', 'your', 'time', '.', 'I', \"'ll\", 'just', 'finish', 'my', 'crossword', 'puzzle', '.', 'Oh', ',', 'wait', '.'], ['Sheldon', ':', 'Leonard', ',', 'I', 'do', \"n't\", 'think', 'I', 'can', 'do', 'this', '.'], ['Leonard', ':', 'What', ',', 'are', 'you', 'kidding', '?', 'You', \"'re\", 'a', 'semipro', '.'], ['Sheldon', ':', 'No', '.', 'We', 'are', 'committing', 'genetic', 'fraud', '.', 'There', \"'s\", 'no', 'guarantee', 'our', 'sperm', \"'s\", 'going', 'to', 'generate', 'high', '-', 'IQ', 'offspring', '.', 'Think', 'about', 'that', '.', 'I', 'have', 'a', 'sister', 'with', 'the', 'same', 'basic', 'DNA', 'mix', 'who', 'hostesses', 'at', 'Fuddruckers', '.'], ['Leonard', ':', 'Sheldon', ',', 'this', 'was', 'your', 'idea', '.', 'A', 'little', 'extra', 'money', 'to', 'get', 'fractional', 'T1', 'bandwidth', 'in', 'the', 'apartment', '?'], ['Sheldon', ':', 'I', 'know', '.', 'And', 'I', 'do', 'yearn', 'for', 'faster', 'downloads', '.', 'There', \"'s\", 'some', 'poor', 'woman', 'who', \"'s\", 'gon', 'na', 'pin', 'her', 'hopes', 'on', 'my', 'sperm', '.', 'What', 'if', 'she', 'winds', 'up', 'with', 'a', 'toddler', 'who', 'does', \"n't\", 'know', 'if', 'he', 'should', 'use', 'a', 'differential', 'to', 'solve', 'for', 'the', 'area', 'under', 'a', 'curve', '?'], ['Leonard', ':', 'I', \"'m\", 'sure', 'she', \"'ll\", 'still', 'love', 'him', '.'], ['Sheldon', ':', 'I', 'would', \"n't\", '.'], ['Leonard', ':', 'Well', ',', 'what', 'do', 'you', 'wanna', 'do', '?'], ['Sheldon', ':', 'I', 'want', 'to', 'leave', '.'], ['Sheldon', ':', 'What', \"'s\", 'the', 'protocol', 'for', 'leaving', '?'], ['Leonard', ':', 'I', 'do', \"n't\", 'know', '.', 'I', \"'ve\", 'never', 'reneged', 'on', 'a', 'proffer', 'of', 'sperm', 'before', '.'], ['Sheldon', ':', 'Let', \"'s\", 'try', 'just', 'walking', 'out', '.'], ['Leonard', ':', 'Okay', '.'], ['Receptionist', ':', 'Bye', '.'], ['Sheldon', ':', 'Bye', '-', 'bye'], ['Leonard', ':', 'See', 'you', '.']], 'querySpans': [{'sentenceIndex': 0, 'startToken': 3, 'endToken': 5}, {'sentenceIndex': 0, 'startToken': 8, 'endToken': 10}, {'sentenceIndex': 0, 'startToken': 11, 'endToken': 13}, {'sentenceIndex': 0, 'startToken': 14, 'endToken': 15}, {'sentenceIndex': 0, 'startToken': 16, 'endToken': 17}, {'sentenceIndex': 0, 'startToken': 19, 'endToken': 20}, {'sentenceIndex': 0, 'startToken': 24, 'endToken': 25}, {'sentenceIndex': 0, 'startToken': 29, 'endToken': 30}, {'sentenceIndex': 0, 'startToken': 33, 'endToken': 34}, {'sentenceIndex': 0, 'startToken': 37, 'endToken': 38}, {'sentenceIndex': 0, 'startToken': 39, 'endToken': 41}, {'sentenceIndex': 0, 'startToken': 43, 'endToken': 44}, {'sentenceIndex': 0, 'startToken': 45, 'endToken': 46}, {'sentenceIndex': 0, 'startToken': 45, 'endToken': 47}, {'sentenceIndex': 0, 'startToken': 48, 'endToken': 49}, {'sentenceIndex': 0, 'startToken': 54, 'endToken': 56}, {'sentenceIndex': 1, 'startToken': 4, 'endToken': 5}, {'sentenceIndex': 1, 'startToken': 6, 'endToken': 8}, {'sentenceIndex': 1, 'startToken': 6, 'endToken': 7}, {'sentenceIndex': 2, 'startToken': 2, 'endToken': 3}, {'sentenceIndex': 2, 'startToken': 4, 'endToken': 6}, {'sentenceIndex': 2, 'startToken': 7, 'endToken': 8}, {'sentenceIndex': 2, 'startToken': 10, 'endToken': 11}, {'sentenceIndex': 2, 'startToken': 12, 'endToken': 15}, {'sentenceIndex': 2, 'startToken': 16, 'endToken': 20}, {'sentenceIndex': 3, 'startToken': 3, 'endToken': 4}, {'sentenceIndex': 5, 'startToken': 5, 'endToken': 6}, {'sentenceIndex': 5, 'startToken': 10, 'endToken': 11}, {'sentenceIndex': 5, 'startToken': 17, 'endToken': 18}, {'sentenceIndex': 5, 'startToken': 24, 'endToken': 26}, {'sentenceIndex': 5, 'startToken': 24, 'endToken': 25}, {'sentenceIndex': 5, 'startToken': 27, 'endToken': 28}, {'sentenceIndex': 5, 'startToken': 29, 'endToken': 30}, {'sentenceIndex': 5, 'startToken': 33, 'endToken': 38}, {'sentenceIndex': 5, 'startToken': 41, 'endToken': 46}, {'sentenceIndex': 5, 'startToken': 47, 'endToken': 48}, {'sentenceIndex': 5, 'startToken': 49, 'endToken': 54}, {'sentenceIndex': 5, 'startToken': 55, 'endToken': 56}, {'sentenceIndex': 6, 'startToken': 3, 'endToken': 4}, {'sentenceIndex': 6, 'startToken': 5, 'endToken': 6}, {'sentenceIndex': 7, 'startToken': 7, 'endToken': 8}, {'sentenceIndex': 7, 'startToken': 8, 'endToken': 14}, {'sentenceIndex': 8, 'startToken': 3, 'endToken': 4}, {'sentenceIndex': 8, 'startToken': 9, 'endToken': 10}, {'sentenceIndex': 9, 'startToken': 2, 'endToken': 3}, {'sentenceIndex': 9, 'startToken': 4, 'endToken': 5}, {'sentenceIndex': 9, 'startToken': 6, 'endToken': 8}, {'sentenceIndex': 10, 'startToken': 3, 'endToken': 4}, {'sentenceIndex': 11, 'startToken': 3, 'endToken': 4}, {'sentenceIndex': 11, 'startToken': 5, 'endToken': 6}, {'sentenceIndex': 12, 'startToken': 5, 'endToken': 7}, {'sentenceIndex': 12, 'startToken': 5, 'endToken': 6}, {'sentenceIndex': 12, 'startToken': 8, 'endToken': 9}, {'sentenceIndex': 12, 'startToken': 12, 'endToken': 15}, {'sentenceIndex': 12, 'startToken': 12, 'endToken': 13}, {'sentenceIndex': 13, 'startToken': 4, 'endToken': 5}, {'sentenceIndex': 13, 'startToken': 8, 'endToken': 9}, {'sentenceIndex': 13, 'startToken': 11, 'endToken': 12}, {'sentenceIndex': 14, 'startToken': 2, 'endToken': 3}, {'sentenceIndex': 14, 'startToken': 5, 'endToken': 6}, {'sentenceIndex': 14, 'startToken': 8, 'endToken': 9}, {'sentenceIndex': 14, 'startToken': 10, 'endToken': 12}, {'sentenceIndex': 15, 'startToken': 4, 'endToken': 5}, {'sentenceIndex': 15, 'startToken': 7, 'endToken': 9}, {'sentenceIndex': 15, 'startToken': 10, 'endToken': 11}, {'sentenceIndex': 15, 'startToken': 12, 'endToken': 14}, {'sentenceIndex': 15, 'startToken': 14, 'endToken': 16}, {'sentenceIndex': 15, 'startToken': 14, 'endToken': 15}, {'sentenceIndex': 15, 'startToken': 20, 'endToken': 24}, {'sentenceIndex': 15, 'startToken': 27, 'endToken': 28}, {'sentenceIndex': 15, 'startToken': 29, 'endToken': 30}, {'sentenceIndex': 15, 'startToken': 31, 'endToken': 33}, {'sentenceIndex': 15, 'startToken': 34, 'endToken': 39}, {'sentenceIndex': 15, 'startToken': 39, 'endToken': 40}, {'sentenceIndex': 15, 'startToken': 42, 'endToken': 43}, {'sentenceIndex': 16, 'startToken': 4, 'endToken': 5}, {'sentenceIndex': 16, 'startToken': 6, 'endToken': 7}, {'sentenceIndex': 16, 'startToken': 6, 'endToken': 8}, {'sentenceIndex': 16, 'startToken': 9, 'endToken': 13}, {'sentenceIndex': 16, 'startToken': 15, 'endToken': 18}, {'sentenceIndex': 16, 'startToken': 19, 'endToken': 21}, {'sentenceIndex': 17, 'startToken': 2, 'endToken': 3}, {'sentenceIndex': 17, 'startToken': 6, 'endToken': 7}, {'sentenceIndex': 17, 'startToken': 10, 'endToken': 12}, {'sentenceIndex': 17, 'startToken': 13, 'endToken': 14}, {'sentenceIndex': 17, 'startToken': 15, 'endToken': 18}, {'sentenceIndex': 17, 'startToken': 18, 'endToken': 19}, {'sentenceIndex': 17, 'startToken': 23, 'endToken': 24}, {'sentenceIndex': 17, 'startToken': 23, 'endToken': 25}, {'sentenceIndex': 17, 'startToken': 26, 'endToken': 28}, {'sentenceIndex': 17, 'startToken': 26, 'endToken': 27}, {'sentenceIndex': 17, 'startToken': 29, 'endToken': 30}, {'sentenceIndex': 17, 'startToken': 31, 'endToken': 32}, {'sentenceIndex': 17, 'startToken': 35, 'endToken': 37}, {'sentenceIndex': 17, 'startToken': 37, 'endToken': 38}, {'sentenceIndex': 17, 'startToken': 42, 'endToken': 43}, {'sentenceIndex': 17, 'startToken': 45, 'endToken': 47}, {'sentenceIndex': 17, 'startToken': 50, 'endToken': 52}, {'sentenceIndex': 17, 'startToken': 53, 'endToken': 55}, {'sentenceIndex': 18, 'startToken': 2, 'endToken': 3}, {'sentenceIndex': 18, 'startToken': 5, 'endToken': 6}, {'sentenceIndex': 18, 'startToken': 9, 'endToken': 10}, {'sentenceIndex': 19, 'startToken': 2, 'endToken': 3}, {'sentenceIndex': 20, 'startToken': 4, 'endToken': 5}, {'sentenceIndex': 20, 'startToken': 6, 'endToken': 7}, {'sentenceIndex': 21, 'startToken': 2, 'endToken': 3}, {'sentenceIndex': 22, 'startToken': 2, 'endToken': 3}, {'sentenceIndex': 22, 'startToken': 4, 'endToken': 6}, {'sentenceIndex': 23, 'startToken': 2, 'endToken': 3}, {'sentenceIndex': 23, 'startToken': 7, 'endToken': 8}, {'sentenceIndex': 23, 'startToken': 12, 'endToken': 14}, {'sentenceIndex': 23, 'startToken': 15, 'endToken': 16}, {'sentenceIndex': 24, 'startToken': 3, 'endToken': 4}, {'sentenceIndex': 26, 'startToken': 2, 'endToken': 3}, {'sentenceIndex': 27, 'startToken': 2, 'endToken': 3}, {'sentenceIndex': 28, 'startToken': 3, 'endToken': 4}], 'candidateSpans': [{'sentenceIndex': 0, 'startToken': 3, 'endToken': 5}, {'sentenceIndex': 0, 'startToken': 8, 'endToken': 10}, {'sentenceIndex': 0, 'startToken': 11, 'endToken': 13}, {'sentenceIndex': 0, 'startToken': 14, 'endToken': 15}, {'sentenceIndex': 0, 'startToken': 16, 'endToken': 17}, {'sentenceIndex': 0, 'startToken': 19, 'endToken': 20}, {'sentenceIndex': 0, 'startToken': 24, 'endToken': 25}, {'sentenceIndex': 0, 'startToken': 29, 'endToken': 30}, {'sentenceIndex': 0, 'startToken': 33, 'endToken': 34}, {'sentenceIndex': 0, 'startToken': 37, 'endToken': 38}, {'sentenceIndex': 0, 'startToken': 39, 'endToken': 41}, {'sentenceIndex': 0, 'startToken': 43, 'endToken': 44}, {'sentenceIndex': 0, 'startToken': 45, 'endToken': 46}, {'sentenceIndex': 0, 'startToken': 45, 'endToken': 47}, {'sentenceIndex': 0, 'startToken': 48, 'endToken': 49}, {'sentenceIndex': 0, 'startToken': 54, 'endToken': 56}, {'sentenceIndex': 1, 'startToken': 4, 'endToken': 5}, {'sentenceIndex': 1, 'startToken': 6, 'endToken': 8}, {'sentenceIndex': 1, 'startToken': 6, 'endToken': 7}, {'sentenceIndex': 2, 'startToken': 2, 'endToken': 3}, {'sentenceIndex': 2, 'startToken': 4, 'endToken': 6}, {'sentenceIndex': 2, 'startToken': 7, 'endToken': 8}, {'sentenceIndex': 2, 'startToken': 10, 'endToken': 11}, {'sentenceIndex': 2, 'startToken': 12, 'endToken': 15}, {'sentenceIndex': 2, 'startToken': 16, 'endToken': 20}, {'sentenceIndex': 3, 'startToken': 3, 'endToken': 4}, {'sentenceIndex': 5, 'startToken': 5, 'endToken': 6}, {'sentenceIndex': 5, 'startToken': 10, 'endToken': 11}, {'sentenceIndex': 5, 'startToken': 17, 'endToken': 18}, {'sentenceIndex': 5, 'startToken': 24, 'endToken': 26}, {'sentenceIndex': 5, 'startToken': 24, 'endToken': 25}, {'sentenceIndex': 5, 'startToken': 27, 'endToken': 28}, {'sentenceIndex': 5, 'startToken': 29, 'endToken': 30}, {'sentenceIndex': 5, 'startToken': 33, 'endToken': 38}, {'sentenceIndex': 5, 'startToken': 41, 'endToken': 46}, {'sentenceIndex': 5, 'startToken': 47, 'endToken': 48}, {'sentenceIndex': 5, 'startToken': 49, 'endToken': 54}, {'sentenceIndex': 5, 'startToken': 55, 'endToken': 56}, {'sentenceIndex': 6, 'startToken': 3, 'endToken': 4}, {'sentenceIndex': 6, 'startToken': 5, 'endToken': 6}, {'sentenceIndex': 7, 'startToken': 7, 'endToken': 8}, {'sentenceIndex': 7, 'startToken': 8, 'endToken': 14}, {'sentenceIndex': 8, 'startToken': 3, 'endToken': 4}, {'sentenceIndex': 8, 'startToken': 9, 'endToken': 10}, {'sentenceIndex': 9, 'startToken': 2, 'endToken': 3}, {'sentenceIndex': 9, 'startToken': 4, 'endToken': 5}, {'sentenceIndex': 9, 'startToken': 6, 'endToken': 8}, {'sentenceIndex': 10, 'startToken': 3, 'endToken': 4}, {'sentenceIndex': 11, 'startToken': 3, 'endToken': 4}, {'sentenceIndex': 11, 'startToken': 5, 'endToken': 6}, {'sentenceIndex': 12, 'startToken': 5, 'endToken': 7}, {'sentenceIndex': 12, 'startToken': 5, 'endToken': 6}, {'sentenceIndex': 12, 'startToken': 8, 'endToken': 9}, {'sentenceIndex': 12, 'startToken': 12, 'endToken': 15}, {'sentenceIndex': 12, 'startToken': 12, 'endToken': 13}, {'sentenceIndex': 13, 'startToken': 4, 'endToken': 5}, {'sentenceIndex': 13, 'startToken': 8, 'endToken': 9}, {'sentenceIndex': 13, 'startToken': 11, 'endToken': 12}, {'sentenceIndex': 14, 'startToken': 2, 'endToken': 3}, {'sentenceIndex': 14, 'startToken': 5, 'endToken': 6}, {'sentenceIndex': 14, 'startToken': 8, 'endToken': 9}, {'sentenceIndex': 14, 'startToken': 10, 'endToken': 12}, {'sentenceIndex': 15, 'startToken': 4, 'endToken': 5}, {'sentenceIndex': 15, 'startToken': 7, 'endToken': 9}, {'sentenceIndex': 15, 'startToken': 10, 'endToken': 11}, {'sentenceIndex': 15, 'startToken': 12, 'endToken': 14}, {'sentenceIndex': 15, 'startToken': 14, 'endToken': 16}, {'sentenceIndex': 15, 'startToken': 14, 'endToken': 15}, {'sentenceIndex': 15, 'startToken': 20, 'endToken': 24}, {'sentenceIndex': 15, 'startToken': 27, 'endToken': 28}, {'sentenceIndex': 15, 'startToken': 29, 'endToken': 30}, {'sentenceIndex': 15, 'startToken': 31, 'endToken': 33}, {'sentenceIndex': 15, 'startToken': 34, 'endToken': 39}, {'sentenceIndex': 15, 'startToken': 39, 'endToken': 40}, {'sentenceIndex': 15, 'startToken': 42, 'endToken': 43}, {'sentenceIndex': 16, 'startToken': 4, 'endToken': 5}, {'sentenceIndex': 16, 'startToken': 6, 'endToken': 7}, {'sentenceIndex': 16, 'startToken': 6, 'endToken': 8}, {'sentenceIndex': 16, 'startToken': 9, 'endToken': 13}, {'sentenceIndex': 16, 'startToken': 15, 'endToken': 18}, {'sentenceIndex': 16, 'startToken': 19, 'endToken': 21}, {'sentenceIndex': 17, 'startToken': 2, 'endToken': 3}, {'sentenceIndex': 17, 'startToken': 6, 'endToken': 7}, {'sentenceIndex': 17, 'startToken': 10, 'endToken': 12}, {'sentenceIndex': 17, 'startToken': 13, 'endToken': 14}, {'sentenceIndex': 17, 'startToken': 15, 'endToken': 18}, {'sentenceIndex': 17, 'startToken': 18, 'endToken': 19}, {'sentenceIndex': 17, 'startToken': 23, 'endToken': 24}, {'sentenceIndex': 17, 'startToken': 23, 'endToken': 25}, {'sentenceIndex': 17, 'startToken': 26, 'endToken': 28}, {'sentenceIndex': 17, 'startToken': 26, 'endToken': 27}, {'sentenceIndex': 17, 'startToken': 29, 'endToken': 30}, {'sentenceIndex': 17, 'startToken': 31, 'endToken': 32}, {'sentenceIndex': 17, 'startToken': 35, 'endToken': 37}, {'sentenceIndex': 17, 'startToken': 37, 'endToken': 38}, {'sentenceIndex': 17, 'startToken': 42, 'endToken': 43}, {'sentenceIndex': 17, 'startToken': 45, 'endToken': 47}, {'sentenceIndex': 17, 'startToken': 50, 'endToken': 52}, {'sentenceIndex': 17, 'startToken': 53, 'endToken': 55}, {'sentenceIndex': 18, 'startToken': 2, 'endToken': 3}, {'sentenceIndex': 18, 'startToken': 5, 'endToken': 6}, {'sentenceIndex': 18, 'startToken': 9, 'endToken': 10}, {'sentenceIndex': 19, 'startToken': 2, 'endToken': 3}, {'sentenceIndex': 20, 'startToken': 4, 'endToken': 5}, {'sentenceIndex': 20, 'startToken': 6, 'endToken': 7}, {'sentenceIndex': 21, 'startToken': 2, 'endToken': 3}, {'sentenceIndex': 22, 'startToken': 2, 'endToken': 3}, {'sentenceIndex': 22, 'startToken': 4, 'endToken': 6}, {'sentenceIndex': 23, 'startToken': 2, 'endToken': 3}, {'sentenceIndex': 23, 'startToken': 7, 'endToken': 8}, {'sentenceIndex': 23, 'startToken': 12, 'endToken': 14}, {'sentenceIndex': 23, 'startToken': 15, 'endToken': 16}, {'sentenceIndex': 24, 'startToken': 3, 'endToken': 4}, {'sentenceIndex': 26, 'startToken': 2, 'endToken': 3}, {'sentenceIndex': 27, 'startToken': 2, 'endToken': 3}, {'sentenceIndex': 28, 'startToken': 3, 'endToken': 4}], 'clickSpans': [{'sentenceIndex': 0, 'startToken': 3, 'endToken': 5}, {'sentenceIndex': 0, 'startToken': 8, 'endToken': 10}, {'sentenceIndex': 0, 'startToken': 11, 'endToken': 13}, {'sentenceIndex': 0, 'startToken': 14, 'endToken': 15}, {'sentenceIndex': 0, 'startToken': 16, 'endToken': 17}, {'sentenceIndex': 0, 'startToken': 19, 'endToken': 20}, {'sentenceIndex': 0, 'startToken': 24, 'endToken': 25}, {'sentenceIndex': 0, 'startToken': 29, 'endToken': 30}, {'sentenceIndex': 0, 'startToken': 33, 'endToken': 34}, {'sentenceIndex': 0, 'startToken': 37, 'endToken': 38}, {'sentenceIndex': 0, 'startToken': 39, 'endToken': 41}, {'sentenceIndex': 0, 'startToken': 43, 'endToken': 44}, {'sentenceIndex': 0, 'startToken': 45, 'endToken': 46}, {'sentenceIndex': 0, 'startToken': 45, 'endToken': 47}, {'sentenceIndex': 0, 'startToken': 48, 'endToken': 49}, {'sentenceIndex': 0, 'startToken': 54, 'endToken': 56}, {'sentenceIndex': 1, 'startToken': 4, 'endToken': 5}, {'sentenceIndex': 1, 'startToken': 6, 'endToken': 8}, {'sentenceIndex': 1, 'startToken': 6, 'endToken': 7}, {'sentenceIndex': 2, 'startToken': 2, 'endToken': 3}, {'sentenceIndex': 2, 'startToken': 4, 'endToken': 6}, {'sentenceIndex': 2, 'startToken': 7, 'endToken': 8}, {'sentenceIndex': 2, 'startToken': 10, 'endToken': 11}, {'sentenceIndex': 2, 'startToken': 12, 'endToken': 15}, {'sentenceIndex': 2, 'startToken': 16, 'endToken': 20}, {'sentenceIndex': 3, 'startToken': 3, 'endToken': 4}, {'sentenceIndex': 5, 'startToken': 5, 'endToken': 6}, {'sentenceIndex': 5, 'startToken': 10, 'endToken': 11}, {'sentenceIndex': 5, 'startToken': 17, 'endToken': 18}, {'sentenceIndex': 5, 'startToken': 24, 'endToken': 26}, {'sentenceIndex': 5, 'startToken': 24, 'endToken': 25}, {'sentenceIndex': 5, 'startToken': 27, 'endToken': 28}, {'sentenceIndex': 5, 'startToken': 29, 'endToken': 30}, {'sentenceIndex': 5, 'startToken': 33, 'endToken': 38}, {'sentenceIndex': 5, 'startToken': 41, 'endToken': 46}, {'sentenceIndex': 5, 'startToken': 47, 'endToken': 48}, {'sentenceIndex': 5, 'startToken': 49, 'endToken': 54}, {'sentenceIndex': 5, 'startToken': 55, 'endToken': 56}, {'sentenceIndex': 6, 'startToken': 3, 'endToken': 4}, {'sentenceIndex': 6, 'startToken': 5, 'endToken': 6}, {'sentenceIndex': 7, 'startToken': 7, 'endToken': 8}, {'sentenceIndex': 7, 'startToken': 8, 'endToken': 14}, {'sentenceIndex': 8, 'startToken': 3, 'endToken': 4}, {'sentenceIndex': 8, 'startToken': 9, 'endToken': 10}, {'sentenceIndex': 9, 'startToken': 2, 'endToken': 3}, {'sentenceIndex': 9, 'startToken': 4, 'endToken': 5}, {'sentenceIndex': 9, 'startToken': 6, 'endToken': 8}, {'sentenceIndex': 10, 'startToken': 3, 'endToken': 4}, {'sentenceIndex': 11, 'startToken': 3, 'endToken': 4}, {'sentenceIndex': 11, 'startToken': 5, 'endToken': 6}, {'sentenceIndex': 12, 'startToken': 5, 'endToken': 7}, {'sentenceIndex': 12, 'startToken': 5, 'endToken': 6}, {'sentenceIndex': 12, 'startToken': 8, 'endToken': 9}, {'sentenceIndex': 12, 'startToken': 12, 'endToken': 15}, {'sentenceIndex': 12, 'startToken': 12, 'endToken': 13}, {'sentenceIndex': 13, 'startToken': 4, 'endToken': 5}, {'sentenceIndex': 13, 'startToken': 8, 'endToken': 9}, {'sentenceIndex': 13, 'startToken': 11, 'endToken': 12}, {'sentenceIndex': 14, 'startToken': 2, 'endToken': 3}, {'sentenceIndex': 14, 'startToken': 5, 'endToken': 6}, {'sentenceIndex': 14, 'startToken': 8, 'endToken': 9}, {'sentenceIndex': 14, 'startToken': 10, 'endToken': 12}, {'sentenceIndex': 15, 'startToken': 4, 'endToken': 5}, {'sentenceIndex': 15, 'startToken': 7, 'endToken': 9}, {'sentenceIndex': 15, 'startToken': 10, 'endToken': 11}, {'sentenceIndex': 15, 'startToken': 12, 'endToken': 14}, {'sentenceIndex': 15, 'startToken': 14, 'endToken': 16}, {'sentenceIndex': 15, 'startToken': 14, 'endToken': 15}, {'sentenceIndex': 15, 'startToken': 20, 'endToken': 24}, {'sentenceIndex': 15, 'startToken': 27, 'endToken': 28}, {'sentenceIndex': 15, 'startToken': 29, 'endToken': 30}, {'sentenceIndex': 15, 'startToken': 31, 'endToken': 33}, {'sentenceIndex': 15, 'startToken': 34, 'endToken': 39}, {'sentenceIndex': 15, 'startToken': 39, 'endToken': 40}, {'sentenceIndex': 15, 'startToken': 42, 'endToken': 43}, {'sentenceIndex': 16, 'startToken': 4, 'endToken': 5}, {'sentenceIndex': 16, 'startToken': 6, 'endToken': 7}, {'sentenceIndex': 16, 'startToken': 6, 'endToken': 8}, {'sentenceIndex': 16, 'startToken': 9, 'endToken': 13}, {'sentenceIndex': 16, 'startToken': 15, 'endToken': 18}, {'sentenceIndex': 16, 'startToken': 19, 'endToken': 21}, {'sentenceIndex': 17, 'startToken': 2, 'endToken': 3}, {'sentenceIndex': 17, 'startToken': 6, 'endToken': 7}, {'sentenceIndex': 17, 'startToken': 10, 'endToken': 12}, {'sentenceIndex': 17, 'startToken': 13, 'endToken': 14}, {'sentenceIndex': 17, 'startToken': 15, 'endToken': 18}, {'sentenceIndex': 17, 'startToken': 18, 'endToken': 19}, {'sentenceIndex': 17, 'startToken': 23, 'endToken': 24}, {'sentenceIndex': 17, 'startToken': 23, 'endToken': 25}, {'sentenceIndex': 17, 'startToken': 26, 'endToken': 28}, {'sentenceIndex': 17, 'startToken': 26, 'endToken': 27}, {'sentenceIndex': 17, 'startToken': 29, 'endToken': 30}, {'sentenceIndex': 17, 'startToken': 31, 'endToken': 32}, {'sentenceIndex': 17, 'startToken': 35, 'endToken': 37}, {'sentenceIndex': 17, 'startToken': 37, 'endToken': 38}, {'sentenceIndex': 17, 'startToken': 42, 'endToken': 43}, {'sentenceIndex': 17, 'startToken': 45, 'endToken': 47}, {'sentenceIndex': 17, 'startToken': 50, 'endToken': 52}, {'sentenceIndex': 17, 'startToken': 53, 'endToken': 55}, {'sentenceIndex': 18, 'startToken': 2, 'endToken': 3}, {'sentenceIndex': 18, 'startToken': 5, 'endToken': 6}, {'sentenceIndex': 18, 'startToken': 9, 'endToken': 10}, {'sentenceIndex': 19, 'startToken': 2, 'endToken': 3}, {'sentenceIndex': 20, 'startToken': 4, 'endToken': 5}, {'sentenceIndex': 20, 'startToken': 6, 'endToken': 7}, {'sentenceIndex': 21, 'startToken': 2, 'endToken': 3}, {'sentenceIndex': 22, 'startToken': 2, 'endToken': 3}, {'sentenceIndex': 22, 'startToken': 4, 'endToken': 6}, {'sentenceIndex': 23, 'startToken': 2, 'endToken': 3}, {'sentenceIndex': 23, 'startToken': 7, 'endToken': 8}, {'sentenceIndex': 23, 'startToken': 12, 'endToken': 14}, {'sentenceIndex': 23, 'startToken': 15, 'endToken': 16}, {'sentenceIndex': 24, 'startToken': 3, 'endToken': 4}, {'sentenceIndex': 26, 'startToken': 2, 'endToken': 3}, {'sentenceIndex': 27, 'startToken': 2, 'endToken': 3}, {'sentenceIndex': 28, 'startToken': 3, 'endToken': 4}], 'scene_id': 's01e01c00t'}\n",
      "\n",
      "{'sentences': [['Sheldon', ':', 'Are', 'you', 'still', 'mad', 'about', 'the', 'sperm', 'bank', '?'], ['Leonard', ':', 'No', '.'], ['Sheldon', ':', 'You', 'wanna', 'hear', 'an', 'interesting', 'thing', 'about', 'stairs', '?'], ['Leonard', ':', 'Not', 'really', '.'], ['Sheldon', ':', 'If', 'the', 'height', 'of', 'a', 'step', 'is', 'off', 'by', 'as', 'little', 'as', 'two', 'millimeters', '...', 'most', 'people', 'will', 'trip', '.'], ['Leonard', ':', 'I', 'do', \"n't\", 'care', '.', 'Two', 'millime', '...', '?', 'That', 'does', \"n't\", 'seem', 'right', '.'], ['Sheldon', ':', 'It', \"'s\", 'true', '.', 'I', 'did', 'a', 'series', 'of', 'experiments', 'when', 'I', 'was', '12', '.', 'My', 'father', 'broke', 'his', 'clavicle', '.'], ['Leonard', ':', 'Is', 'that', 'why', 'they', 'sent', 'you', 'to', 'boarding', 'school', '?'], ['Sheldon', ':', 'That', 'was', 'the', 'result', 'of', 'my', 'work', 'with', 'lasers', '.'], ['Leonard', ':', 'New', 'neighbor', '?'], ['Sheldon', ':', 'Evidently', '.'], ['Leonard', ':', 'Significant', 'improvement', 'over', 'the', 'old', 'neighbor', '.'], ['Sheldon', ':', 'Two', '-', 'hundred', 'pound', 'transvestite', 'with', 'a', 'skin', 'condition', '?', 'Yes', ',', 'she', 'is', '.'], ['Penny', ':', 'Oh', ',', 'hi', '.'], ['Leonard', ':', 'Hi', '.'], ['Sheldon', ':', 'Hi', '.'], ['Penny', ':', 'Hi', '?'], ['Leonard', ':', 'We', 'do', \"n't\", 'mean', 'to', 'interrupt', '.', 'We', 'live', 'across', 'the', 'hall', '.'], ['Penny', ':', 'Oh', ',', 'that', \"'s\", 'nice', '.'], ['Leonard', ':', 'No', '.', 'We', 'do', \"n't\", 'live', 'together', '.', 'I', 'mean', 'we', 'live', 'together', ',', 'but', 'in', 'separate', ',', 'heterosexual', 'bedrooms', '.'], ['Penny', ':', 'Okay', ',', 'well', ',', 'guess', 'I', \"'m\", 'your', 'new', 'neighbor', '.'], ['Leonard', ':', 'Leonard', '.', 'Sheldon', '.'], ['Leonard', ':', 'Hi', '.'], ['Sheldon', ':', 'Hi', '.'], ['Penny', ':', 'Hi', '.'], ['Leonard', ':', 'Well', '...', 'Oh', ',', 'welcome', 'to', 'the', 'building', '.'], ['Penny', ':', 'Thankyou', ',', 'maybe', 'we', 'can', 'have', 'coffee', 'sometime', '.'], ['Leonard', ':', 'Oh', ',', 'great', '.'], ['Penny', ':', 'Great', '.'], ['Sheldon', ':', 'Great', '.'], ['Leonard', ':', 'Great', '.', 'Well', ',', 'bye', '.'], ['Penny', ':', 'Bye', '.'], ['Sheldon', ':', 'Bye', '.'], ['Leonard', ':', 'Bye', '.'], ['Leonard', ':', 'Should', 'we', 'have', 'invited', 'her', 'for', 'lunch', '?'], ['Sheldon', ':', 'We', \"'re\", 'gon', 'na', 'start', 'season', 'two', 'of', 'Battlestar', 'Galactica', '.'], ['Leonard', ':', 'We', 'already', 'watched', 'the', 'season', 'two', 'DVDs', '.'], ['Sheldon', ':', 'Not', 'with', 'commentary', '.'], ['Leonard', ':', 'I', 'think', 'we', 'should', 'be', 'good', 'neighbors', '.', 'Invite', 'her', 'over', ',', 'make', 'her', 'feel', 'welcome', '.'], ['Sheldon', ':', 'We', 'never', 'invited', 'Louie', '/', 'Louise', 'over', '.'], ['Leonard', ':', 'Well', ',', 'and', 'that', 'was', 'wrong', 'of', 'us', '.', 'We', 'need', 'to', 'widen', 'our', 'circle', '.'], ['Sheldon', ':', 'I', 'have', 'a', 'very', 'wide', 'circle', '.', 'I', 'have', '212', 'friends', 'on', 'MySpace', '.'], ['Leonard', ':', 'Yes', ',', 'and', 'you', \"'ve\", 'never', 'met', 'one', 'of', 'them', '.'], ['Sheldon', ':', 'That', \"'s\", 'the', 'beauty', 'of', 'it', '.'], ['Leonard', ':', 'I', \"'m\", 'gon', 'na', 'invite', 'her', 'over', '.', 'We', \"'ll\", 'have', 'a', 'nice', 'meal', 'and', 'chat', '.'], ['Sheldon', ':', 'Chat', '?', 'We', 'do', \"n't\", 'chat', ',', 'at', 'least', 'not', 'off', '-', 'line', '.'], ['Leonard', ':', 'Well', ',', 'it', \"'s\", 'not', 'difficult', '.', 'You', 'just', 'listen', 'to', 'what', 'she', 'says', 'and', 'then', 'you', 'say', 'something', 'appropriate', 'in', 'response', '.'], ['Sheldon', ':', 'To', 'what', 'end', '?'], ['Leonard', ':', 'Hi', '.', 'Again', '.'], ['Sheldon', ':', 'Hi', '.'], ['Leonard', ':', 'Hi', '.'], ['Penny', ':', 'Hi', '.'], ['Leonard', ':', 'Hi', '.', 'Anyway', 'we', 'brought', 'home', 'Indian', 'food', 'and', 'I', 'know', 'that', 'moving', 'can', 'be', 'stressful', 'and', 'I', 'find', 'that', 'when', 'I', \"'m\", 'undergoing', 'stress', 'that', 'good', 'food', 'and', 'company', 'can', 'have', 'a', 'comforting', 'effect', '.', 'Also', ',', 'curry', \"'s\", 'a', 'natural', 'laxative', 'and', 'I', 'do', \"n't\", 'have', 'to', 'tell', 'you', 'that', ',', 'you', 'know', 'a', 'clean', 'colon', 'is', 'just', 'one', 'less', 'thing', 'to', 'worry', 'about', '.'], ['Sheldon', ':', 'I', \"'m\", 'no', 'expert', ',', 'but', 'in', 'the', 'context', 'of', 'a', 'lunch', 'invitation', 'you', 'might', 'wanna', 'skip', 'the', 'reference', 'to', 'bowel', 'movements', '.'], ['Penny', ':', 'Oh', ',', 'you', \"'re\", 'inviting', 'me', 'over', 'to', 'eat', '?'], ['Leonard', ':', 'Uh', ',', 'yes', '.'], ['Penny', ':', 'Oh', ',', 'that', \"'s\", 'so', 'nice', '.', 'I', \"'d\", 'love', 'to', '.'], ['Leonard', ':', 'Great', '.'], ['Penny', ':', 'So', ',', 'what', 'do', 'you', 'guys', 'do', 'for', 'fun', 'around', 'here', '?'], ['Sheldon', ':', 'Well', ',', 'today', 'we', 'tried', 'masturbating', 'for', 'money', '.']], 'querySpans': [{'sentenceIndex': 0, 'startToken': 3, 'endToken': 4}, {'sentenceIndex': 0, 'startToken': 7, 'endToken': 10}, {'sentenceIndex': 2, 'startToken': 2, 'endToken': 3}, {'sentenceIndex': 2, 'startToken': 3, 'endToken': 4}, {'sentenceIndex': 2, 'startToken': 5, 'endToken': 8}, {'sentenceIndex': 2, 'startToken': 9, 'endToken': 10}, {'sentenceIndex': 4, 'startToken': 3, 'endToken': 5}, {'sentenceIndex': 4, 'startToken': 6, 'endToken': 8}, {'sentenceIndex': 4, 'startToken': 11, 'endToken': 16}, {'sentenceIndex': 4, 'startToken': 17, 'endToken': 19}, {'sentenceIndex': 5, 'startToken': 2, 'endToken': 3}, {'sentenceIndex': 5, 'startToken': 7, 'endToken': 9}, {'sentenceIndex': 5, 'startToken': 11, 'endToken': 12}, {'sentenceIndex': 6, 'startToken': 2, 'endToken': 3}, {'sentenceIndex': 6, 'startToken': 6, 'endToken': 7}, {'sentenceIndex': 6, 'startToken': 8, 'endToken': 10}, {'sentenceIndex': 6, 'startToken': 11, 'endToken': 12}, {'sentenceIndex': 6, 'startToken': 13, 'endToken': 14}, {'sentenceIndex': 6, 'startToken': 17, 'endToken': 18}, {'sentenceIndex': 6, 'startToken': 17, 'endToken': 19}, {'sentenceIndex': 6, 'startToken': 20, 'endToken': 22}, {'sentenceIndex': 6, 'startToken': 20, 'endToken': 21}, {'sentenceIndex': 7, 'startToken': 3, 'endToken': 4}, {'sentenceIndex': 7, 'startToken': 5, 'endToken': 6}, {'sentenceIndex': 7, 'startToken': 7, 'endToken': 8}, {'sentenceIndex': 7, 'startToken': 9, 'endToken': 11}, {'sentenceIndex': 8, 'startToken': 2, 'endToken': 3}, {'sentenceIndex': 8, 'startToken': 4, 'endToken': 6}, {'sentenceIndex': 8, 'startToken': 7, 'endToken': 8}, {'sentenceIndex': 8, 'startToken': 7, 'endToken': 9}, {'sentenceIndex': 8, 'startToken': 10, 'endToken': 11}, {'sentenceIndex': 9, 'startToken': 2, 'endToken': 4}, {'sentenceIndex': 11, 'startToken': 2, 'endToken': 4}, {'sentenceIndex': 11, 'startToken': 5, 'endToken': 8}, {'sentenceIndex': 12, 'startToken': 2, 'endToken': 7}, {'sentenceIndex': 12, 'startToken': 8, 'endToken': 11}, {'sentenceIndex': 12, 'startToken': 14, 'endToken': 15}, {'sentenceIndex': 17, 'startToken': 2, 'endToken': 3}, {'sentenceIndex': 17, 'startToken': 9, 'endToken': 10}, {'sentenceIndex': 17, 'startToken': 12, 'endToken': 14}, {'sentenceIndex': 18, 'startToken': 4, 'endToken': 5}, {'sentenceIndex': 19, 'startToken': 4, 'endToken': 5}, {'sentenceIndex': 19, 'startToken': 10, 'endToken': 11}, {'sentenceIndex': 19, 'startToken': 12, 'endToken': 13}, {'sentenceIndex': 19, 'startToken': 18, 'endToken': 22}, {'sentenceIndex': 20, 'startToken': 7, 'endToken': 8}, {'sentenceIndex': 20, 'startToken': 9, 'endToken': 10}, {'sentenceIndex': 20, 'startToken': 9, 'endToken': 12}, {'sentenceIndex': 21, 'startToken': 2, 'endToken': 5}, {'sentenceIndex': 25, 'startToken': 8, 'endToken': 10}, {'sentenceIndex': 26, 'startToken': 5, 'endToken': 6}, {'sentenceIndex': 26, 'startToken': 8, 'endToken': 9}, {'sentenceIndex': 31, 'startToken': 2, 'endToken': 3}, {'sentenceIndex': 32, 'startToken': 2, 'endToken': 3}, {'sentenceIndex': 33, 'startToken': 2, 'endToken': 3}, {'sentenceIndex': 34, 'startToken': 3, 'endToken': 4}, {'sentenceIndex': 34, 'startToken': 6, 'endToken': 7}, {'sentenceIndex': 34, 'startToken': 8, 'endToken': 9}, {'sentenceIndex': 35, 'startToken': 2, 'endToken': 3}, {'sentenceIndex': 35, 'startToken': 7, 'endToken': 8}, {'sentenceIndex': 35, 'startToken': 10, 'endToken': 12}, {'sentenceIndex': 36, 'startToken': 2, 'endToken': 3}, {'sentenceIndex': 36, 'startToken': 5, 'endToken': 9}, {'sentenceIndex': 37, 'startToken': 4, 'endToken': 5}, {'sentenceIndex': 38, 'startToken': 2, 'endToken': 3}, {'sentenceIndex': 38, 'startToken': 4, 'endToken': 5}, {'sentenceIndex': 38, 'startToken': 7, 'endToken': 9}, {'sentenceIndex': 38, 'startToken': 11, 'endToken': 12}, {'sentenceIndex': 38, 'startToken': 15, 'endToken': 16}, {'sentenceIndex': 39, 'startToken': 2, 'endToken': 3}, {'sentenceIndex': 39, 'startToken': 5, 'endToken': 8}, {'sentenceIndex': 40, 'startToken': 5, 'endToken': 6}, {'sentenceIndex': 40, 'startToken': 9, 'endToken': 10}, {'sentenceIndex': 40, 'startToken': 11, 'endToken': 12}, {'sentenceIndex': 40, 'startToken': 15, 'endToken': 16}, {'sentenceIndex': 40, 'startToken': 15, 'endToken': 17}, {'sentenceIndex': 41, 'startToken': 2, 'endToken': 3}, {'sentenceIndex': 41, 'startToken': 4, 'endToken': 8}, {'sentenceIndex': 41, 'startToken': 9, 'endToken': 10}, {'sentenceIndex': 41, 'startToken': 11, 'endToken': 13}, {'sentenceIndex': 41, 'startToken': 14, 'endToken': 15}, {'sentenceIndex': 42, 'startToken': 5, 'endToken': 6}, {'sentenceIndex': 42, 'startToken': 11, 'endToken': 12}, {'sentenceIndex': 43, 'startToken': 2, 'endToken': 3}, {'sentenceIndex': 43, 'startToken': 4, 'endToken': 6}, {'sentenceIndex': 43, 'startToken': 7, 'endToken': 8}, {'sentenceIndex': 44, 'startToken': 2, 'endToken': 3}, {'sentenceIndex': 44, 'startToken': 7, 'endToken': 8}, {'sentenceIndex': 44, 'startToken': 10, 'endToken': 11}, {'sentenceIndex': 44, 'startToken': 13, 'endToken': 16}, {'sentenceIndex': 44, 'startToken': 17, 'endToken': 18}, {'sentenceIndex': 45, 'startToken': 2, 'endToken': 3}, {'sentenceIndex': 45, 'startToken': 4, 'endToken': 5}, {'sentenceIndex': 46, 'startToken': 4, 'endToken': 5}, {'sentenceIndex': 46, 'startToken': 9, 'endToken': 10}, {'sentenceIndex': 46, 'startToken': 13, 'endToken': 14}, {'sentenceIndex': 46, 'startToken': 14, 'endToken': 15}, {'sentenceIndex': 46, 'startToken': 18, 'endToken': 19}, {'sentenceIndex': 46, 'startToken': 20, 'endToken': 21}, {'sentenceIndex': 46, 'startToken': 23, 'endToken': 24}, {'sentenceIndex': 47, 'startToken': 3, 'endToken': 5}, {'sentenceIndex': 47, 'startToken': 3, 'endToken': 4}, {'sentenceIndex': 52, 'startToken': 5, 'endToken': 6}, {'sentenceIndex': 52, 'startToken': 8, 'endToken': 10}, {'sentenceIndex': 52, 'startToken': 11, 'endToken': 12}, {'sentenceIndex': 52, 'startToken': 19, 'endToken': 20}, {'sentenceIndex': 52, 'startToken': 23, 'endToken': 24}, {'sentenceIndex': 52, 'startToken': 26, 'endToken': 27}, {'sentenceIndex': 52, 'startToken': 27, 'endToken': 30}, {'sentenceIndex': 52, 'startToken': 31, 'endToken': 32}, {'sentenceIndex': 52, 'startToken': 34, 'endToken': 37}, {'sentenceIndex': 52, 'startToken': 38, 'endToken': 45}, {'sentenceIndex': 52, 'startToken': 46, 'endToken': 47}, {'sentenceIndex': 52, 'startToken': 52, 'endToken': 53}, {'sentenceIndex': 52, 'startToken': 53, 'endToken': 54}, {'sentenceIndex': 52, 'startToken': 55, 'endToken': 56}, {'sentenceIndex': 52, 'startToken': 57, 'endToken': 60}, {'sentenceIndex': 52, 'startToken': 61, 'endToken': 65}, {'sentenceIndex': 53, 'startToken': 2, 'endToken': 3}, {'sentenceIndex': 53, 'startToken': 4, 'endToken': 6}, {'sentenceIndex': 53, 'startToken': 9, 'endToken': 11}, {'sentenceIndex': 53, 'startToken': 12, 'endToken': 15}, {'sentenceIndex': 53, 'startToken': 15, 'endToken': 16}, {'sentenceIndex': 53, 'startToken': 19, 'endToken': 21}, {'sentenceIndex': 53, 'startToken': 22, 'endToken': 24}, {'sentenceIndex': 54, 'startToken': 4, 'endToken': 5}, {'sentenceIndex': 54, 'startToken': 7, 'endToken': 8}, {'sentenceIndex': 56, 'startToken': 4, 'endToken': 5}, {'sentenceIndex': 56, 'startToken': 9, 'endToken': 10}, {'sentenceIndex': 58, 'startToken': 4, 'endToken': 5}, {'sentenceIndex': 58, 'startToken': 6, 'endToken': 7}, {'sentenceIndex': 58, 'startToken': 6, 'endToken': 8}, {'sentenceIndex': 58, 'startToken': 10, 'endToken': 11}, {'sentenceIndex': 59, 'startToken': 5, 'endToken': 6}, {'sentenceIndex': 59, 'startToken': 9, 'endToken': 10}], 'candidateSpans': [{'sentenceIndex': 0, 'startToken': 3, 'endToken': 4}, {'sentenceIndex': 0, 'startToken': 7, 'endToken': 10}, {'sentenceIndex': 2, 'startToken': 2, 'endToken': 3}, {'sentenceIndex': 2, 'startToken': 3, 'endToken': 4}, {'sentenceIndex': 2, 'startToken': 5, 'endToken': 8}, {'sentenceIndex': 2, 'startToken': 9, 'endToken': 10}, {'sentenceIndex': 4, 'startToken': 3, 'endToken': 5}, {'sentenceIndex': 4, 'startToken': 6, 'endToken': 8}, {'sentenceIndex': 4, 'startToken': 11, 'endToken': 16}, {'sentenceIndex': 4, 'startToken': 17, 'endToken': 19}, {'sentenceIndex': 5, 'startToken': 2, 'endToken': 3}, {'sentenceIndex': 5, 'startToken': 7, 'endToken': 9}, {'sentenceIndex': 5, 'startToken': 11, 'endToken': 12}, {'sentenceIndex': 6, 'startToken': 2, 'endToken': 3}, {'sentenceIndex': 6, 'startToken': 6, 'endToken': 7}, {'sentenceIndex': 6, 'startToken': 8, 'endToken': 10}, {'sentenceIndex': 6, 'startToken': 11, 'endToken': 12}, {'sentenceIndex': 6, 'startToken': 13, 'endToken': 14}, {'sentenceIndex': 6, 'startToken': 17, 'endToken': 18}, {'sentenceIndex': 6, 'startToken': 17, 'endToken': 19}, {'sentenceIndex': 6, 'startToken': 20, 'endToken': 22}, {'sentenceIndex': 6, 'startToken': 20, 'endToken': 21}, {'sentenceIndex': 7, 'startToken': 3, 'endToken': 4}, {'sentenceIndex': 7, 'startToken': 5, 'endToken': 6}, {'sentenceIndex': 7, 'startToken': 7, 'endToken': 8}, {'sentenceIndex': 7, 'startToken': 9, 'endToken': 11}, {'sentenceIndex': 8, 'startToken': 2, 'endToken': 3}, {'sentenceIndex': 8, 'startToken': 4, 'endToken': 6}, {'sentenceIndex': 8, 'startToken': 7, 'endToken': 8}, {'sentenceIndex': 8, 'startToken': 7, 'endToken': 9}, {'sentenceIndex': 8, 'startToken': 10, 'endToken': 11}, {'sentenceIndex': 9, 'startToken': 2, 'endToken': 4}, {'sentenceIndex': 11, 'startToken': 2, 'endToken': 4}, {'sentenceIndex': 11, 'startToken': 5, 'endToken': 8}, {'sentenceIndex': 12, 'startToken': 2, 'endToken': 7}, {'sentenceIndex': 12, 'startToken': 8, 'endToken': 11}, {'sentenceIndex': 12, 'startToken': 14, 'endToken': 15}, {'sentenceIndex': 17, 'startToken': 2, 'endToken': 3}, {'sentenceIndex': 17, 'startToken': 9, 'endToken': 10}, {'sentenceIndex': 17, 'startToken': 12, 'endToken': 14}, {'sentenceIndex': 18, 'startToken': 4, 'endToken': 5}, {'sentenceIndex': 19, 'startToken': 4, 'endToken': 5}, {'sentenceIndex': 19, 'startToken': 10, 'endToken': 11}, {'sentenceIndex': 19, 'startToken': 12, 'endToken': 13}, {'sentenceIndex': 19, 'startToken': 18, 'endToken': 22}, {'sentenceIndex': 20, 'startToken': 7, 'endToken': 8}, {'sentenceIndex': 20, 'startToken': 9, 'endToken': 10}, {'sentenceIndex': 20, 'startToken': 9, 'endToken': 12}, {'sentenceIndex': 21, 'startToken': 2, 'endToken': 5}, {'sentenceIndex': 25, 'startToken': 8, 'endToken': 10}, {'sentenceIndex': 26, 'startToken': 5, 'endToken': 6}, {'sentenceIndex': 26, 'startToken': 8, 'endToken': 9}, {'sentenceIndex': 31, 'startToken': 2, 'endToken': 3}, {'sentenceIndex': 32, 'startToken': 2, 'endToken': 3}, {'sentenceIndex': 33, 'startToken': 2, 'endToken': 3}, {'sentenceIndex': 34, 'startToken': 3, 'endToken': 4}, {'sentenceIndex': 34, 'startToken': 6, 'endToken': 7}, {'sentenceIndex': 34, 'startToken': 8, 'endToken': 9}, {'sentenceIndex': 35, 'startToken': 2, 'endToken': 3}, {'sentenceIndex': 35, 'startToken': 7, 'endToken': 8}, {'sentenceIndex': 35, 'startToken': 10, 'endToken': 12}, {'sentenceIndex': 36, 'startToken': 2, 'endToken': 3}, {'sentenceIndex': 36, 'startToken': 5, 'endToken': 9}, {'sentenceIndex': 37, 'startToken': 4, 'endToken': 5}, {'sentenceIndex': 38, 'startToken': 2, 'endToken': 3}, {'sentenceIndex': 38, 'startToken': 4, 'endToken': 5}, {'sentenceIndex': 38, 'startToken': 7, 'endToken': 9}, {'sentenceIndex': 38, 'startToken': 11, 'endToken': 12}, {'sentenceIndex': 38, 'startToken': 15, 'endToken': 16}, {'sentenceIndex': 39, 'startToken': 2, 'endToken': 3}, {'sentenceIndex': 39, 'startToken': 5, 'endToken': 8}, {'sentenceIndex': 40, 'startToken': 5, 'endToken': 6}, {'sentenceIndex': 40, 'startToken': 9, 'endToken': 10}, {'sentenceIndex': 40, 'startToken': 11, 'endToken': 12}, {'sentenceIndex': 40, 'startToken': 15, 'endToken': 16}, {'sentenceIndex': 40, 'startToken': 15, 'endToken': 17}, {'sentenceIndex': 41, 'startToken': 2, 'endToken': 3}, {'sentenceIndex': 41, 'startToken': 4, 'endToken': 8}, {'sentenceIndex': 41, 'startToken': 9, 'endToken': 10}, {'sentenceIndex': 41, 'startToken': 11, 'endToken': 13}, {'sentenceIndex': 41, 'startToken': 14, 'endToken': 15}, {'sentenceIndex': 42, 'startToken': 5, 'endToken': 6}, {'sentenceIndex': 42, 'startToken': 11, 'endToken': 12}, {'sentenceIndex': 43, 'startToken': 2, 'endToken': 3}, {'sentenceIndex': 43, 'startToken': 4, 'endToken': 6}, {'sentenceIndex': 43, 'startToken': 7, 'endToken': 8}, {'sentenceIndex': 44, 'startToken': 2, 'endToken': 3}, {'sentenceIndex': 44, 'startToken': 7, 'endToken': 8}, {'sentenceIndex': 44, 'startToken': 10, 'endToken': 11}, {'sentenceIndex': 44, 'startToken': 13, 'endToken': 16}, {'sentenceIndex': 44, 'startToken': 17, 'endToken': 18}, {'sentenceIndex': 45, 'startToken': 2, 'endToken': 3}, {'sentenceIndex': 45, 'startToken': 4, 'endToken': 5}, {'sentenceIndex': 46, 'startToken': 4, 'endToken': 5}, {'sentenceIndex': 46, 'startToken': 9, 'endToken': 10}, {'sentenceIndex': 46, 'startToken': 13, 'endToken': 14}, {'sentenceIndex': 46, 'startToken': 14, 'endToken': 15}, {'sentenceIndex': 46, 'startToken': 18, 'endToken': 19}, {'sentenceIndex': 46, 'startToken': 20, 'endToken': 21}, {'sentenceIndex': 46, 'startToken': 23, 'endToken': 24}, {'sentenceIndex': 47, 'startToken': 3, 'endToken': 5}, {'sentenceIndex': 47, 'startToken': 3, 'endToken': 4}, {'sentenceIndex': 52, 'startToken': 5, 'endToken': 6}, {'sentenceIndex': 52, 'startToken': 8, 'endToken': 10}, {'sentenceIndex': 52, 'startToken': 11, 'endToken': 12}, {'sentenceIndex': 52, 'startToken': 19, 'endToken': 20}, {'sentenceIndex': 52, 'startToken': 23, 'endToken': 24}, {'sentenceIndex': 52, 'startToken': 26, 'endToken': 27}, {'sentenceIndex': 52, 'startToken': 27, 'endToken': 30}, {'sentenceIndex': 52, 'startToken': 31, 'endToken': 32}, {'sentenceIndex': 52, 'startToken': 34, 'endToken': 37}, {'sentenceIndex': 52, 'startToken': 38, 'endToken': 45}, {'sentenceIndex': 52, 'startToken': 46, 'endToken': 47}, {'sentenceIndex': 52, 'startToken': 52, 'endToken': 53}, {'sentenceIndex': 52, 'startToken': 53, 'endToken': 54}, {'sentenceIndex': 52, 'startToken': 55, 'endToken': 56}, {'sentenceIndex': 52, 'startToken': 57, 'endToken': 60}, {'sentenceIndex': 52, 'startToken': 61, 'endToken': 65}, {'sentenceIndex': 53, 'startToken': 2, 'endToken': 3}, {'sentenceIndex': 53, 'startToken': 4, 'endToken': 6}, {'sentenceIndex': 53, 'startToken': 9, 'endToken': 11}, {'sentenceIndex': 53, 'startToken': 12, 'endToken': 15}, {'sentenceIndex': 53, 'startToken': 15, 'endToken': 16}, {'sentenceIndex': 53, 'startToken': 19, 'endToken': 21}, {'sentenceIndex': 53, 'startToken': 22, 'endToken': 24}, {'sentenceIndex': 54, 'startToken': 4, 'endToken': 5}, {'sentenceIndex': 54, 'startToken': 7, 'endToken': 8}, {'sentenceIndex': 56, 'startToken': 4, 'endToken': 5}, {'sentenceIndex': 56, 'startToken': 9, 'endToken': 10}, {'sentenceIndex': 58, 'startToken': 4, 'endToken': 5}, {'sentenceIndex': 58, 'startToken': 6, 'endToken': 7}, {'sentenceIndex': 58, 'startToken': 6, 'endToken': 8}, {'sentenceIndex': 58, 'startToken': 10, 'endToken': 11}, {'sentenceIndex': 59, 'startToken': 5, 'endToken': 6}, {'sentenceIndex': 59, 'startToken': 9, 'endToken': 10}], 'clickSpans': [{'sentenceIndex': 0, 'startToken': 3, 'endToken': 4}, {'sentenceIndex': 0, 'startToken': 7, 'endToken': 10}, {'sentenceIndex': 2, 'startToken': 2, 'endToken': 3}, {'sentenceIndex': 2, 'startToken': 3, 'endToken': 4}, {'sentenceIndex': 2, 'startToken': 5, 'endToken': 8}, {'sentenceIndex': 2, 'startToken': 9, 'endToken': 10}, {'sentenceIndex': 4, 'startToken': 3, 'endToken': 5}, {'sentenceIndex': 4, 'startToken': 6, 'endToken': 8}, {'sentenceIndex': 4, 'startToken': 11, 'endToken': 16}, {'sentenceIndex': 4, 'startToken': 17, 'endToken': 19}, {'sentenceIndex': 5, 'startToken': 2, 'endToken': 3}, {'sentenceIndex': 5, 'startToken': 7, 'endToken': 9}, {'sentenceIndex': 5, 'startToken': 11, 'endToken': 12}, {'sentenceIndex': 6, 'startToken': 2, 'endToken': 3}, {'sentenceIndex': 6, 'startToken': 6, 'endToken': 7}, {'sentenceIndex': 6, 'startToken': 8, 'endToken': 10}, {'sentenceIndex': 6, 'startToken': 11, 'endToken': 12}, {'sentenceIndex': 6, 'startToken': 13, 'endToken': 14}, {'sentenceIndex': 6, 'startToken': 17, 'endToken': 18}, {'sentenceIndex': 6, 'startToken': 17, 'endToken': 19}, {'sentenceIndex': 6, 'startToken': 20, 'endToken': 22}, {'sentenceIndex': 6, 'startToken': 20, 'endToken': 21}, {'sentenceIndex': 7, 'startToken': 3, 'endToken': 4}, {'sentenceIndex': 7, 'startToken': 5, 'endToken': 6}, {'sentenceIndex': 7, 'startToken': 7, 'endToken': 8}, {'sentenceIndex': 7, 'startToken': 9, 'endToken': 11}, {'sentenceIndex': 8, 'startToken': 2, 'endToken': 3}, {'sentenceIndex': 8, 'startToken': 4, 'endToken': 6}, {'sentenceIndex': 8, 'startToken': 7, 'endToken': 8}, {'sentenceIndex': 8, 'startToken': 7, 'endToken': 9}, {'sentenceIndex': 8, 'startToken': 10, 'endToken': 11}, {'sentenceIndex': 9, 'startToken': 2, 'endToken': 4}, {'sentenceIndex': 11, 'startToken': 2, 'endToken': 4}, {'sentenceIndex': 11, 'startToken': 5, 'endToken': 8}, {'sentenceIndex': 12, 'startToken': 2, 'endToken': 7}, {'sentenceIndex': 12, 'startToken': 8, 'endToken': 11}, {'sentenceIndex': 12, 'startToken': 14, 'endToken': 15}, {'sentenceIndex': 17, 'startToken': 2, 'endToken': 3}, {'sentenceIndex': 17, 'startToken': 9, 'endToken': 10}, {'sentenceIndex': 17, 'startToken': 12, 'endToken': 14}, {'sentenceIndex': 18, 'startToken': 4, 'endToken': 5}, {'sentenceIndex': 19, 'startToken': 4, 'endToken': 5}, {'sentenceIndex': 19, 'startToken': 10, 'endToken': 11}, {'sentenceIndex': 19, 'startToken': 12, 'endToken': 13}, {'sentenceIndex': 19, 'startToken': 18, 'endToken': 22}, {'sentenceIndex': 20, 'startToken': 7, 'endToken': 8}, {'sentenceIndex': 20, 'startToken': 9, 'endToken': 10}, {'sentenceIndex': 20, 'startToken': 9, 'endToken': 12}, {'sentenceIndex': 21, 'startToken': 2, 'endToken': 5}, {'sentenceIndex': 25, 'startToken': 8, 'endToken': 10}, {'sentenceIndex': 26, 'startToken': 5, 'endToken': 6}, {'sentenceIndex': 26, 'startToken': 8, 'endToken': 9}, {'sentenceIndex': 31, 'startToken': 2, 'endToken': 3}, {'sentenceIndex': 32, 'startToken': 2, 'endToken': 3}, {'sentenceIndex': 33, 'startToken': 2, 'endToken': 3}, {'sentenceIndex': 34, 'startToken': 3, 'endToken': 4}, {'sentenceIndex': 34, 'startToken': 6, 'endToken': 7}, {'sentenceIndex': 34, 'startToken': 8, 'endToken': 9}, {'sentenceIndex': 35, 'startToken': 2, 'endToken': 3}, {'sentenceIndex': 35, 'startToken': 7, 'endToken': 8}, {'sentenceIndex': 35, 'startToken': 10, 'endToken': 12}, {'sentenceIndex': 36, 'startToken': 2, 'endToken': 3}, {'sentenceIndex': 36, 'startToken': 5, 'endToken': 9}, {'sentenceIndex': 37, 'startToken': 4, 'endToken': 5}, {'sentenceIndex': 38, 'startToken': 2, 'endToken': 3}, {'sentenceIndex': 38, 'startToken': 4, 'endToken': 5}, {'sentenceIndex': 38, 'startToken': 7, 'endToken': 9}, {'sentenceIndex': 38, 'startToken': 11, 'endToken': 12}, {'sentenceIndex': 38, 'startToken': 15, 'endToken': 16}, {'sentenceIndex': 39, 'startToken': 2, 'endToken': 3}, {'sentenceIndex': 39, 'startToken': 5, 'endToken': 8}, {'sentenceIndex': 40, 'startToken': 5, 'endToken': 6}, {'sentenceIndex': 40, 'startToken': 9, 'endToken': 10}, {'sentenceIndex': 40, 'startToken': 11, 'endToken': 12}, {'sentenceIndex': 40, 'startToken': 15, 'endToken': 16}, {'sentenceIndex': 40, 'startToken': 15, 'endToken': 17}, {'sentenceIndex': 41, 'startToken': 2, 'endToken': 3}, {'sentenceIndex': 41, 'startToken': 4, 'endToken': 8}, {'sentenceIndex': 41, 'startToken': 9, 'endToken': 10}, {'sentenceIndex': 41, 'startToken': 11, 'endToken': 13}, {'sentenceIndex': 41, 'startToken': 14, 'endToken': 15}, {'sentenceIndex': 42, 'startToken': 5, 'endToken': 6}, {'sentenceIndex': 42, 'startToken': 11, 'endToken': 12}, {'sentenceIndex': 43, 'startToken': 2, 'endToken': 3}, {'sentenceIndex': 43, 'startToken': 4, 'endToken': 6}, {'sentenceIndex': 43, 'startToken': 7, 'endToken': 8}, {'sentenceIndex': 44, 'startToken': 2, 'endToken': 3}, {'sentenceIndex': 44, 'startToken': 7, 'endToken': 8}, {'sentenceIndex': 44, 'startToken': 10, 'endToken': 11}, {'sentenceIndex': 44, 'startToken': 13, 'endToken': 16}, {'sentenceIndex': 44, 'startToken': 17, 'endToken': 18}, {'sentenceIndex': 45, 'startToken': 2, 'endToken': 3}, {'sentenceIndex': 45, 'startToken': 4, 'endToken': 5}, {'sentenceIndex': 46, 'startToken': 4, 'endToken': 5}, {'sentenceIndex': 46, 'startToken': 9, 'endToken': 10}, {'sentenceIndex': 46, 'startToken': 13, 'endToken': 14}, {'sentenceIndex': 46, 'startToken': 14, 'endToken': 15}, {'sentenceIndex': 46, 'startToken': 18, 'endToken': 19}, {'sentenceIndex': 46, 'startToken': 20, 'endToken': 21}, {'sentenceIndex': 46, 'startToken': 23, 'endToken': 24}, {'sentenceIndex': 47, 'startToken': 3, 'endToken': 5}, {'sentenceIndex': 47, 'startToken': 3, 'endToken': 4}, {'sentenceIndex': 52, 'startToken': 5, 'endToken': 6}, {'sentenceIndex': 52, 'startToken': 8, 'endToken': 10}, {'sentenceIndex': 52, 'startToken': 11, 'endToken': 12}, {'sentenceIndex': 52, 'startToken': 19, 'endToken': 20}, {'sentenceIndex': 52, 'startToken': 23, 'endToken': 24}, {'sentenceIndex': 52, 'startToken': 26, 'endToken': 27}, {'sentenceIndex': 52, 'startToken': 27, 'endToken': 30}, {'sentenceIndex': 52, 'startToken': 31, 'endToken': 32}, {'sentenceIndex': 52, 'startToken': 34, 'endToken': 37}, {'sentenceIndex': 52, 'startToken': 38, 'endToken': 45}, {'sentenceIndex': 52, 'startToken': 46, 'endToken': 47}, {'sentenceIndex': 52, 'startToken': 52, 'endToken': 53}, {'sentenceIndex': 52, 'startToken': 53, 'endToken': 54}, {'sentenceIndex': 52, 'startToken': 55, 'endToken': 56}, {'sentenceIndex': 52, 'startToken': 57, 'endToken': 60}, {'sentenceIndex': 52, 'startToken': 61, 'endToken': 65}, {'sentenceIndex': 53, 'startToken': 2, 'endToken': 3}, {'sentenceIndex': 53, 'startToken': 4, 'endToken': 6}, {'sentenceIndex': 53, 'startToken': 9, 'endToken': 11}, {'sentenceIndex': 53, 'startToken': 12, 'endToken': 15}, {'sentenceIndex': 53, 'startToken': 15, 'endToken': 16}, {'sentenceIndex': 53, 'startToken': 19, 'endToken': 21}, {'sentenceIndex': 53, 'startToken': 22, 'endToken': 24}, {'sentenceIndex': 54, 'startToken': 4, 'endToken': 5}, {'sentenceIndex': 54, 'startToken': 7, 'endToken': 8}, {'sentenceIndex': 56, 'startToken': 4, 'endToken': 5}, {'sentenceIndex': 56, 'startToken': 9, 'endToken': 10}, {'sentenceIndex': 58, 'startToken': 4, 'endToken': 5}, {'sentenceIndex': 58, 'startToken': 6, 'endToken': 7}, {'sentenceIndex': 58, 'startToken': 6, 'endToken': 8}, {'sentenceIndex': 58, 'startToken': 10, 'endToken': 11}, {'sentenceIndex': 59, 'startToken': 5, 'endToken': 6}, {'sentenceIndex': 59, 'startToken': 9, 'endToken': 10}], 'scene_id': 's01e01c01t'}\n",
      "\n"
     ]
    }
   ],
   "source": [
    "for item in a[0]:\n",
    "    print(item)\n",
    "    print()"
   ],
   "metadata": {
    "collapsed": false,
    "pycharm": {
     "name": "#%%\n"
    }
   }
  },
  {
   "cell_type": "code",
   "execution_count": null,
   "outputs": [],
   "source": [],
   "metadata": {
    "collapsed": false,
    "pycharm": {
     "name": "#%%\n"
    }
   }
  },
  {
   "cell_type": "code",
   "execution_count": 133,
   "outputs": [
    {
     "name": "stdout",
     "output_type": "stream",
     "text": [
      "0\n"
     ]
    }
   ],
   "source": [
    "print(len(b))"
   ],
   "metadata": {
    "collapsed": false,
    "pycharm": {
     "name": "#%%\n"
    }
   }
  },
  {
   "cell_type": "code",
   "execution_count": null,
   "outputs": [],
   "source": [
    "# Train\n",
    "\n",
    "# Dev\n",
    "\n",
    "# Test"
   ],
   "metadata": {
    "collapsed": false,
    "pycharm": {
     "name": "#%%\n"
    }
   }
  },
  {
   "cell_type": "code",
   "execution_count": null,
   "outputs": [],
   "source": [],
   "metadata": {
    "collapsed": false,
    "pycharm": {
     "name": "#%%\n"
    }
   }
  },
  {
   "cell_type": "code",
   "execution_count": 76,
   "outputs": [
    {
     "name": "stdout",
     "output_type": "stream",
     "text": [
      "[251, 251, 158, 252, 238, 176, 259, 227, 251, 268, 258, 260, 258, 246, 194, 264, 182, 193, 252, 244, 219, 162, 189, 229, 208, 226, 209, 160, 186, 228, 144, 251, 232, 241, 235, 245, 211, 219, 217, 210, 185, 145, 263, 263, 250, 247, 182, 182, 169, 197, 196, 157, 241, 260, 211, 226, 160, 236, 222, 239, 203, 239, 223, 188, 239, 261, 261, 246, 214, 230, 258, 162, 197, 269, 234, 245, 269, 265, 234, 261, 240, 235, 240, 227, 267, 259, 154, 247, 268, 211, 211, 224, 193, 248, 210, 231, 230, 244, 244, 194, 198, 238, 261, 253, 184, 173, 192, 238, 264, 262, 179, 188, 229, 227, 251, 194, 208, 203, 172, 270, 190, 196, 210, 228, 255, 249, 244, 248, 239, 218, 223, 244, 221, 189, 226, 185, 213, 243, 228, 176, 263, 216, 165, 224, 250, 220, 187, 253, 220, 208, 264, 182, 261, 228, 238, 218, 256, 210, 203, 256, 235, 231, 217, 229, 235, 190, 222, 233, 216, 201, 264, 260, 223, 249, 261, 249, 228, 235, 196, 240, 231, 210, 243, 213, 225, 158, 236, 267, 264, 270, 230, 245, 251, 262, 254, 242, 169, 222, 212, 223, 214, 269, 192, 207, 216, 164, 224, 214, 256, 235, 199, 257, 198, 258, 216, 245, 250, 173, 228, 202, 254, 260, 174, 203, 196, 208, 258, 231, 259, 245, 263, 220, 201, 262, 221, 266, 251, 225, 256, 254, 226, 196, 236, 244, 162, 211, 252, 254, 254, 217, 215, 244, 249, 235, 238, 246, 268, 215, 247, 235, 266, 270, 248, 241, 235, 250, 222, 158, 255, 252, 196, 270, 247, 266, 229, 244, 176, 174, 231, 236, 255, 208, 258, 262, 205, 242, 270, 245, 267, 229, 180, 176, 270, 262, 171, 259, 232, 273, 217, 192, 171, 246, 227, 173, 258, 265, 200, 184, 271, 240]\n",
      "\n",
      "[423, 296, 282, 325, 287]\n",
      "\n",
      "315\n"
     ]
    }
   ],
   "source": [
    "a, b = batch_scenes(train)\n",
    "print([count_batch_mention_number(item) for item in a])\n",
    "print()\n",
    "print([count_batch_mention_number(item) for item in b])\n",
    "print()\n",
    "print(len(a)+len(b))"
   ],
   "metadata": {
    "collapsed": false,
    "pycharm": {
     "name": "#%%\n"
    }
   }
  },
  {
   "cell_type": "code",
   "execution_count": null,
   "outputs": [],
   "source": [],
   "metadata": {
    "collapsed": false,
    "pycharm": {
     "name": "#%%\n"
    }
   }
  },
  {
   "cell_type": "code",
   "execution_count": null,
   "outputs": [],
   "source": [],
   "metadata": {
    "collapsed": false,
    "pycharm": {
     "name": "#%%\n"
    }
   }
  },
  {
   "cell_type": "code",
   "execution_count": null,
   "outputs": [],
   "source": [],
   "metadata": {
    "collapsed": false,
    "pycharm": {
     "name": "#%%\n"
    }
   }
  },
  {
   "cell_type": "code",
   "execution_count": null,
   "outputs": [],
   "source": [],
   "metadata": {
    "collapsed": false,
    "pycharm": {
     "name": "#%%\n"
    }
   }
  },
  {
   "cell_type": "code",
   "execution_count": null,
   "outputs": [],
   "source": [],
   "metadata": {
    "collapsed": false,
    "pycharm": {
     "name": "#%%\n"
    }
   }
  },
  {
   "cell_type": "code",
   "execution_count": null,
   "outputs": [],
   "source": [],
   "metadata": {
    "collapsed": false,
    "pycharm": {
     "name": "#%%\n"
    }
   }
  },
  {
   "cell_type": "code",
   "execution_count": 39,
   "outputs": [],
   "source": [
    "temp = sorted(a, key = lambda x: count_batch_mention_number(x))"
   ],
   "metadata": {
    "collapsed": false,
    "pycharm": {
     "name": "#%%\n"
    }
   }
  },
  {
   "cell_type": "code",
   "execution_count": null,
   "outputs": [],
   "source": [
    "for item in temp:\n",
    "    print(count_batch_mention_number(item))"
   ],
   "metadata": {
    "collapsed": false,
    "pycharm": {
     "name": "#%%\n"
    }
   }
  },
  {
   "cell_type": "code",
   "execution_count": null,
   "outputs": [],
   "source": [],
   "metadata": {
    "collapsed": false,
    "pycharm": {
     "name": "#%%\n"
    }
   }
  },
  {
   "cell_type": "code",
   "execution_count": null,
   "outputs": [],
   "source": [],
   "metadata": {
    "collapsed": false,
    "pycharm": {
     "name": "#%%\n"
    }
   }
  },
  {
   "cell_type": "code",
   "execution_count": 10,
   "outputs": [],
   "source": [
    "data = deepcopy(train)"
   ],
   "metadata": {
    "collapsed": false,
    "pycharm": {
     "name": "#%%\n"
    }
   }
  },
  {
   "cell_type": "code",
   "execution_count": 11,
   "outputs": [
    {
     "data": {
      "text/plain": "<Figure size 432x288 with 1 Axes>",
      "image/png": "[encoded data removed]"
     },
     "metadata": {
      "needs_background": "light"
     },
     "output_type": "display_data"
    },
    {
     "name": "stdout",
     "output_type": "stream",
     "text": [
      "1732\n",
      "[0, 0, 0, 0, 1, 1, 1, 1, 1, 2, 2, 2, 2, 2, 3, 3, 3, 4, 4, 4, 4, 4, 5, 5, 5, 5, 6, 6, 6, 6, 6, 6, 6, 7, 7, 7, 7, 7, 7, 7, 7, 7, 7, 8, 8, 8, 8, 8, 8, 8, 8, 8, 8, 8, 8, 9, 9, 9, 9, 9, 9, 10, 10, 10, 10, 10, 10, 10, 10, 10, 10, 11, 11, 11, 11, 11, 11, 11, 11, 11, 11, 12, 12, 12, 12, 12, 12, 12, 12, 12, 12, 12, 12, 12, 12, 13, 13, 13, 13, 13, 13, 13, 13, 13, 13, 13, 14, 14, 14, 14, 14, 14, 14, 15, 15, 15, 15, 15, 15, 15, 15, 15, 15, 16, 16, 16, 16, 16, 16, 17, 17, 17, 17, 17, 17, 17, 18, 18, 18, 18, 18, 18, 18, 18, 18, 18, 18, 19, 19, 19, 19, 19, 19, 19, 19, 20, 20, 20, 20, 20, 20, 20, 20, 20, 20, 21, 21, 21, 21, 21, 21, 21, 21, 21, 21, 21, 21, 21, 22, 22, 22, 22, 22, 22, 22, 22, 22, 22, 22, 23, 23, 23, 23, 23, 23, 23, 23, 23, 23, 23, 23, 23, 23, 24, 24, 24, 24, 24, 24, 24, 24, 24, 24, 24, 24, 24, 24, 25, 25, 25, 25, 25, 25, 25, 25, 26, 26, 26, 26, 26, 26, 26, 26, 26, 26, 26, 27, 27, 27, 27, 27, 27, 27, 27, 27, 27, 27, 27, 27, 27, 28, 28, 28, 28, 28, 29, 29, 29, 29, 29, 29, 29, 29, 29, 29, 29, 29, 29, 29, 29, 29, 29, 29, 29, 29, 29, 29, 29, 30, 30, 30, 30, 30, 30, 30, 30, 30, 30, 30, 30, 30, 30, 30, 30, 31, 31, 31, 31, 31, 31, 31, 31, 31, 31, 32, 32, 32, 32, 32, 32, 32, 32, 32, 32, 32, 32, 32, 32, 33, 33, 33, 33, 33, 33, 33, 33, 33, 33, 33, 33, 33, 33, 33, 33, 33, 33, 34, 34, 34, 34, 34, 34, 34, 34, 34, 34, 34, 34, 34, 34, 34, 34, 34, 34, 35, 35, 35, 35, 35, 35, 35, 35, 35, 35, 35, 35, 35, 35, 35, 35, 35, 35, 36, 36, 36, 36, 36, 36, 36, 36, 36, 36, 36, 36, 36, 36, 36, 36, 36, 37, 37, 37, 37, 37, 37, 37, 37, 37, 37, 37, 37, 37, 37, 37, 37, 37, 38, 38, 38, 38, 38, 38, 38, 38, 38, 38, 38, 38, 38, 38, 38, 38, 38, 39, 39, 39, 39, 39, 39, 39, 39, 39, 39, 39, 39, 39, 39, 39, 39, 39, 39, 39, 40, 40, 40, 40, 40, 40, 40, 40, 40, 40, 40, 40, 40, 40, 40, 40, 40, 40, 40, 40, 40, 40, 41, 41, 41, 41, 41, 41, 41, 41, 41, 41, 41, 41, 41, 41, 41, 41, 41, 41, 41, 41, 41, 41, 41, 41, 41, 42, 42, 42, 42, 42, 42, 42, 42, 42, 42, 42, 42, 42, 42, 42, 42, 42, 42, 42, 42, 42, 42, 43, 43, 43, 43, 43, 43, 43, 43, 43, 43, 43, 43, 43, 43, 43, 43, 43, 44, 44, 44, 44, 44, 44, 44, 44, 44, 44, 44, 44, 44, 45, 45, 45, 45, 45, 45, 45, 45, 45, 45, 45, 45, 45, 45, 45, 45, 45, 45, 45, 46, 46, 46, 46, 46, 46, 46, 46, 46, 46, 46, 46, 46, 46, 46, 47, 47, 47, 47, 47, 47, 47, 47, 47, 47, 47, 47, 47, 47, 47, 47, 47, 47, 47, 47, 47, 47, 47, 48, 48, 48, 48, 48, 48, 48, 48, 48, 48, 48, 48, 48, 48, 48, 48, 48, 49, 49, 49, 49, 49, 49, 49, 49, 49, 49, 49, 49, 49, 49, 49, 49, 49, 49, 49, 49, 49, 49, 49, 49, 49, 50, 50, 50, 50, 50, 50, 50, 50, 50, 50, 50, 50, 50, 50, 50, 50, 50, 50, 50, 51, 51, 51, 51, 51, 51, 51, 51, 51, 51, 51, 51, 51, 51, 51, 51, 52, 52, 52, 52, 52, 52, 52, 52, 52, 52, 52, 52, 52, 52, 52, 52, 52, 52, 53, 53, 53, 53, 53, 53, 53, 53, 53, 53, 53, 53, 53, 53, 53, 53, 53, 53, 53, 53, 53, 53, 54, 54, 54, 54, 54, 54, 54, 54, 54, 54, 54, 54, 54, 54, 54, 54, 54, 55, 55, 55, 55, 55, 55, 55, 55, 55, 55, 55, 55, 55, 55, 56, 56, 56, 56, 56, 56, 56, 56, 56, 56, 56, 56, 57, 57, 57, 57, 57, 57, 57, 57, 57, 57, 58, 58, 58, 58, 58, 58, 58, 58, 58, 58, 58, 58, 58, 58, 58, 58, 58, 58, 58, 58, 58, 58, 58, 58, 58, 58, 58, 58, 58, 58, 59, 59, 59, 59, 59, 59, 59, 59, 59, 59, 59, 59, 59, 59, 59, 59, 59, 59, 59, 59, 59, 59, 59, 59, 59, 59, 60, 60, 60, 60, 60, 60, 60, 60, 60, 60, 60, 60, 60, 60, 61, 61, 61, 61, 61, 61, 61, 61, 61, 61, 61, 61, 61, 61, 62, 62, 62, 62, 62, 62, 62, 62, 62, 63, 63, 63, 63, 63, 63, 63, 63, 63, 63, 63, 63, 64, 64, 64, 64, 64, 64, 64, 64, 64, 64, 64, 64, 64, 64, 64, 64, 65, 65, 65, 65, 65, 65, 65, 65, 65, 65, 65, 65, 65, 65, 65, 65, 65, 65, 65, 65, 65, 65, 66, 66, 66, 66, 66, 66, 66, 66, 66, 66, 66, 66, 66, 66, 66, 66, 66, 66, 66, 66, 67, 67, 67, 67, 67, 67, 67, 67, 67, 67, 67, 67, 67, 67, 67, 67, 68, 68, 68, 68, 68, 68, 68, 68, 68, 68, 68, 68, 68, 68, 68, 68, 68, 69, 69, 69, 69, 69, 69, 69, 69, 69, 69, 69, 70, 70, 70, 70, 70, 70, 70, 70, 70, 70, 70, 70, 70, 70, 70, 70, 71, 71, 71, 71, 71, 71, 71, 71, 71, 71, 71, 71, 72, 72, 72, 72, 72, 72, 72, 72, 72, 72, 72, 72, 72, 72, 72, 72, 73, 73, 73, 73, 73, 73, 73, 73, 73, 73, 73, 73, 73, 73, 73, 74, 74, 74, 74, 74, 74, 74, 74, 74, 74, 74, 74, 74, 75, 75, 75, 75, 75, 75, 75, 75, 75, 75, 75, 75, 75, 76, 76, 76, 76, 76, 76, 76, 76, 76, 76, 76, 76, 76, 76, 76, 76, 77, 77, 77, 77, 77, 77, 77, 77, 77, 77, 77, 77, 77, 78, 78, 78, 78, 78, 78, 78, 78, 78, 78, 78, 78, 78, 79, 79, 79, 79, 79, 79, 79, 79, 79, 79, 79, 79, 79, 79, 79, 79, 79, 79, 79, 80, 80, 80, 80, 80, 80, 80, 80, 80, 80, 80, 80, 80, 80, 81, 81, 81, 81, 81, 81, 81, 81, 81, 81, 81, 81, 82, 82, 82, 82, 82, 82, 82, 83, 83, 83, 83, 83, 83, 83, 83, 83, 83, 84, 84, 84, 84, 84, 84, 84, 84, 84, 84, 85, 85, 85, 85, 85, 85, 85, 85, 85, 85, 85, 86, 86, 86, 86, 86, 86, 86, 86, 86, 86, 87, 87, 87, 87, 87, 87, 87, 87, 87, 87, 87, 87, 87, 87, 87, 87, 87, 88, 88, 88, 88, 88, 88, 88, 88, 88, 88, 88, 88, 88, 88, 88, 89, 89, 89, 89, 89, 89, 89, 89, 89, 89, 89, 89, 89, 89, 89, 89, 89, 90, 90, 90, 90, 90, 90, 90, 90, 90, 90, 90, 90, 90, 90, 90, 90, 90, 90, 90, 90, 91, 91, 91, 91, 91, 91, 91, 91, 91, 91, 91, 92, 92, 92, 92, 92, 92, 92, 92, 92, 92, 92, 93, 93, 93, 93, 93, 93, 93, 93, 93, 93, 93, 93, 93, 93, 94, 94, 94, 94, 94, 94, 94, 94, 94, 95, 95, 95, 95, 95, 95, 95, 95, 95, 95, 95, 95, 95, 95, 96, 96, 96, 96, 96, 96, 96, 96, 96, 97, 97, 97, 97, 97, 97, 97, 98, 98, 98, 98, 98, 98, 98, 98, 98, 98, 99, 99, 99, 99, 99, 99, 99, 99, 99, 99, 99, 99, 99, 100, 100, 100, 100, 100, 100, 100, 100, 100, 101, 101, 101, 101, 101, 101, 101, 101, 101, 101, 101, 101, 101, 101, 102, 102, 102, 102, 102, 102, 102, 102, 103, 103, 103, 103, 103, 103, 103, 103, 103, 103, 103, 104, 104, 104, 104, 104, 104, 105, 105, 105, 105, 105, 105, 105, 105, 105, 105, 106, 106, 106, 106, 106, 106, 106, 106, 106, 106, 106, 107, 107, 107, 107, 107, 107, 107, 108, 108, 108, 108, 108, 108, 108, 108, 108, 108, 109, 109, 109, 109, 109, 109, 109, 109, 109, 110, 110, 110, 110, 110, 110, 110, 110, 111, 111, 111, 111, 111, 111, 112, 112, 112, 112, 112, 112, 112, 112, 112, 113, 113, 113, 113, 113, 113, 113, 114, 114, 114, 114, 115, 115, 115, 116, 116, 116, 116, 116, 116, 116, 116, 116, 116, 116, 117, 117, 117, 117, 117, 118, 118, 118, 118, 118, 118, 118, 119, 119, 119, 119, 119, 119, 119, 120, 120, 120, 120, 120, 121, 121, 121, 122, 122, 122, 122, 122, 122, 123, 123, 123, 123, 124, 124, 124, 124, 124, 124, 124, 125, 125, 125, 126, 126, 126, 127, 127, 127, 127, 128, 128, 128, 128, 128, 128, 128, 129, 129, 129, 130, 130, 130, 130, 131, 131, 132, 132, 132, 132, 132, 132, 132, 132, 133, 133, 133, 133, 134, 134, 135, 135, 135, 135, 135, 136, 136, 136, 136, 137, 137, 137, 137, 137, 137, 137, 137, 138, 138, 138, 138, 138, 139, 139, 139, 139, 140, 140, 142, 142, 142, 142, 142, 143, 143, 143, 144, 144, 144, 145, 145, 145, 145, 146, 146, 146, 146, 147, 148, 148, 148, 148, 149, 150, 150, 150, 151, 151, 151, 151, 151, 151, 152, 152, 152, 153, 153, 154, 154, 154, 155, 155, 155, 155, 157, 159, 159, 160, 160, 163, 163, 164, 164, 165, 166, 167, 168, 168, 170, 171, 175, 176, 177, 178, 179, 180, 180, 181, 181, 183, 185, 185, 186, 190, 190, 191, 191, 192, 192, 192, 194, 195, 196, 199, 199, 200, 201, 201, 204, 205, 206, 217, 222, 222, 228, 234, 238, 240, 249, 252, 257, 260, 263, 272, 282, 296, 319, 331, 340, 360, 369, 393, 413]\n"
     ]
    }
   ],
   "source": [
    "count = count_scene_mentions(data)\n",
    "plt.hist(count)\n",
    "plt.show()\n",
    "print(len(count))\n",
    "print(sorted(count))"
   ],
   "metadata": {
    "collapsed": false,
    "pycharm": {
     "name": "#%%\n"
    }
   }
  },
  {
   "cell_type": "code",
   "execution_count": 13,
   "outputs": [
    {
     "name": "stdout",
     "output_type": "stream",
     "text": [
      "s01e01c02t\n",
      "Leonard : Okay , well , make yourself at home .\n",
      "Penny : Okay , thankyou .\n",
      "Leonard : Thank you . You 're very welcome .\n",
      "Penny : This looks like some serious stuff . Leonard , did you do this ?\n",
      "Sheldon : Actually , that 's my work .\n",
      "Penny : Wow .\n",
      "Sheldon : Yeah , well , it 's just some quantum mechanics with a little string theory doodling around the edges . That part 's just a joke . It 's a spoof of the Born - Oppenheimer approximation .\n",
      "Penny : So you 're , like , one of those Beautiful Mind genius guys .\n",
      "Sheldon : Yeah .\n",
      "Penny : This is really impressive .\n",
      "Leonard : I have a board , if you like boards . This is my board .\n",
      "Penny : Holy smokes .\n",
      "Sheldon : Holy smokes . If by \" holy smokes , \" you mean a derivative restatement of the stuff you can find scribbled on the wall of any men 's room at MIT , sure .\n",
      "Leonard : What ?\n",
      "Sheldon : Who has n't seen this differential below \" here I sit brokenhearted \" ?\n",
      "Leonard : At least I did n't have to invent 26 dimensions just to make the math come out .\n",
      "Sheldon : I did n't invent them . They 're there .\n",
      "Leonard : In what universe ?\n",
      "Sheldon : In all of them , that is the point .\n",
      "Penny : Do you guys mind if I start ?\n",
      "Sheldon : Penny . Yeah ? That 's where I sit .\n",
      "Penny : So sit next to me .\n",
      "Sheldon : No , I sit there .\n",
      "Penny : What 's the difference ?\n",
      "Sheldon : What 's the difference ? What 's the difference ?\n",
      "Leonard : Here we go .\n",
      "Sheldon : In winter , that seat is close enough to the radiator to remain warm yet not so close as to cause perspiration . In the summer , it 's in a cross breeze created by opening windows there and there . It faces the television at an angle that is neither direct , discouraging conversation nor so far wide as to create a parallax distortion . I could go on , but I think I 've made my point .\n",
      "Penny : Do you want me to move ?\n",
      "Sheldon : Well .\n",
      "Leonard : Just sit somewhere else .\n",
      "Sheldon : Fine .\n",
      "Leonard : Sheldon , sit .\n",
      "Sheldon : Aaah !\n",
      "Leonard : Well , this is nice . We do n't have a lot of company over .\n",
      "Sheldon : That 's not true . Koothrappali and Wolowitz come over .\n",
      "Leonard : Yes , I know .\n",
      "Sheldon : Tuesday night we played Klingon Boggle until 1 in the morning .\n",
      "Leonard : Yeah , I remember .\n",
      "Sheldon : I resent you saying we do n't have company .\n",
      "Leonard : I ’m sorry .\n",
      "Sheldon : That is an antisocial implication .\n",
      "Leonard : I said I 'm sorry .\n",
      "Penny : So Klingon Boggle ?\n",
      "Leonard : Yeah . It 's like regular Boggle , but in Klingon . That 's probably enough about us . So tell us about you .\n",
      "Penny : I 'm a Sagittarius , which probably tells you way more than you need to know .\n",
      "Sheldon : Yes , it tells us that you participate in the mass cultural delusion that the sun 's position relative to arbitrary constellations at the time of your birth somehow affects your personality .\n",
      "Penny : Participate in the what ?\n",
      "Leonard : I think what Sheldon 's trying to say is that Sagittarius would n't have been our first guess .\n",
      "Penny : Oh , yeah , a lot of people think I 'm a water sign . Okay , let 's see , what else ? Oh , I 'm a vegetarian . No , except for fish , and the occasional steak .\n",
      "Sheldon : Well , that 's interesting . Leonard ca n't process corn .\n",
      "Leonard : So do you have some sort of a job ?\n",
      "Penny : Oh , yeah . I 'm a waitress at The Cheesecake Factory .\n",
      "Leonard : I love cheesecake .\n",
      "Sheldon : You 're lactose intolerant .\n",
      "Leonard : I do n't eat it , I think it 's a good idea .\n",
      "Penny : Anyways , I 'm also writing a screenplay . It 's about this sensitive girl who comes to L.A. from Lincoln , Nebraska to be an actress and winds up a waitress at The Cheesecake Factory .\n",
      "Leonard : So it 's based on your life .\n",
      "Penny : No , I 'm from Omaha .\n",
      "Leonard : If that was a movie , I would go see it .\n",
      "Penny : I know , right ? Okay , let 's see , what else ? I guess that 's about it . That 's the story of Penny .\n",
      "Leonard : Well , it sounds wonderful .\n",
      "Penny : It was . Until I fell in love with a jerk .\n",
      "Sheldon : What is happening ?\n",
      "Leonard : I do n't know .\n",
      "Penny : Oh , God , you know , four years I lived with him . Four years . That 's like as long as high school .\n",
      "Sheldon : It took you four years to get through high school ?\n",
      "Leonard : Do n’t .\n",
      "Penny : I just ... I ca n't believe I trusted him .\n",
      "Leonard : Should I say something ? I feel I should say something .\n",
      "Sheldon : You ? No , you 'll only make it worse .\n",
      "Penny : You wanna know the most pathetic part ? Even though I hate his lying , cheating guts I still love him . Is that crazy ?\n",
      "Leonard : No , it 's not crazy . It 's a ... It 's a paradox . Paradoxes are part of nature . I mean , think about light . If you look at Huygens , light is a wave , as confirmed by the double - slit experiments . But then , along comes Albert Einstein and discovers that light behaves like particles too . Well , I did n't make it worse .\n",
      "Penny : Oh , I 'm so sorry I 'm such a mess . And on top of everything else , I 'm all gross from moving and my stupid shower does n't work .\n",
      "Leonard : Our shower works .\n",
      "Penny : Really ? Would it be totally weird if I used it ?\n",
      "Sheldon : Yes .\n",
      "Sheldon : No ?\n",
      "Leonard : No .\n",
      "Sheldon : No .\n",
      "Leonard : It 's right down the hall .\n",
      "Penny : Okay , thanks . You guys are really sweet .\n",
      "Sheldon : Well , this is an interesting development .\n",
      "Leonard : How so ?\n",
      "Sheldon : It has been some time since we 've had a woman take her clothes off in our apartment .\n",
      "Leonard : That 's not true . Remember at Thanksgiving my grandmother with Alzheimer 's had that episode ?\n",
      "Sheldon : It has been some time since we 've had a woman take her clothes off after which we did n't wanna rip our eyes out .\n",
      "Leonard : The worst part was watching her carve that turkey .\n",
      "Sheldon : So , what exactly are you trying to accomplish here ?\n",
      "Leonard : Excuse me ?\n",
      "Sheldon : That woman in there is not going to have sex with you .\n",
      "Leonard : Well , I 'm not trying to have sex with her .\n",
      "Sheldon : Oh , good . Then you wo n't be disappointed .\n",
      "Leonard : What makes you think she would n't have sex with me ? I 'm a male and she 's a female .\n",
      "Sheldon : Yes , but not of the same species .\n",
      "Leonard : I 'm not gon na engage in hypotheticals here . I 'm just trying to be a good neighbor .\n",
      "Sheldon : Oh , of course .\n",
      "Leonard : That 's not to say that if a carnal relationship were to develop that I would n't participate . However briefly .\n",
      "Sheldon : Do you think this possibility will be hindered when she discovers your Luke Skywalker \" no more tears \" shampoo ?\n",
      "Leonard : It 's Darth Vader shampoo . Luke Skywalker 's the conditioner .\n",
      "Howard : Wait till you see this .\n",
      "Raj : It 's fantastic . Unbelievable .\n",
      "Leonard : See what ?\n",
      "Howard : It 's a Stephen Hawking lecture from MIT in 1974 .\n",
      "Leonard : This is n't a good time .\n",
      "Howard : It 's before he became a creepy computer voice .\n",
      "Leonard : That 's great , you guys have to go .\n",
      "Raj : Why ?\n",
      "Leonard : It 's just not a good time .\n",
      "Sheldon : Leonard has a lady over .\n",
      "Howard : Yeah , right . Your grandmother back in town ?\n",
      "Leonard : No . And she 's not a lady , she 's just a new neighbor .\n",
      "Howard : Hang on , there really is a lady here ?\n",
      "Leonard : Uh - huh .\n",
      "Howard : And you want us out because you 're anticipating coitus ?\n",
      "Leonard : I 'm not anticipating coitus .\n",
      "Howard : So she 's available for coitus ?\n",
      "Leonard : Can we please just stop saying \" coitus \" ?\n",
      "Sheldon : Technically , that would be coitus interruptus .\n",
      "Penny : Hey , is there a trick to getting it to switch from tub to shower ? Oh , hi , sorry . Hello .\n",
      "Howard : Enchanté , mademoiselle . Howard Wolowitz , CalTech Department of Applied Physics . You may be familiar with some of my work . It 's currently orbiting Jupiter 's largest moon taking high - resolution digital photographs .\n",
      "Penny : Penny . I work at The Cheesecake Factory .\n",
      "Leonard : I 'll show you the trick with the shower .\n",
      "Howard : Bon douche .\n",
      "Penny : I ’m sorry ?\n",
      "Howard : It 's French for \" good shower . \" It 's a sentiment I can express in six languages .\n",
      "Leonard : Save it for your blog , Howard .\n",
      "Howard : See - ka - tong - guay - jow .\n",
      "====================================================================================================\n",
      "s01e10c06f\n",
      "Janice Litman Goralnik : I love this artichoke thing . Do n't tell me what 's in it . The diet starts tomorrow .\n",
      "Chandler Bing : You remember Janice .\n",
      "Monica Geller : Vividly .\n",
      "Monica Geller : Hi .\n",
      "Sandy : Hi , I 'm Sandy .\n",
      "Joey Tribbiani : Sandy , hi . Come on in . You brought your kids .\n",
      "Sandy : Yeah . That 's okay , right ?\n",
      "Ross Geller : Party !\n",
      "Monica Geller : That thing is not coming in here !\n",
      "Ross Geller : \" That thing \" ? This is how you greet guests at a party ? If I showed up with my new girlfriend , she would n't be welcome ?\n",
      "Monica Geller : Your new girlfriend would n't urinate on my coffee table .\n",
      "Ross Geller : He was more embarrassed about that than anyone . And for him to have the courage to walk back in here like nothing happened\n",
      "Monica Geller : All right . All right . Just keep him away from me .\n",
      "Ross Geller : Thank you . Come on , Marcel . What do you say you and I do a little mingling ? All right I 'll catch up with you later .\n",
      "Monica Geller : Oh , my gosh ! Rachel , honey , are you okay ? Where 's Paolo ?\n",
      "Rachel Green : Rome . Jerk missed his flight .\n",
      "Phoebe Buffay : And then your face exploded ?\n",
      "Rachel Green : I was at the airport getting into a cab when this woman this blond planet with a pocketbook starts yelling at me . Something about how it was her cab first . The next thing I know , she just starts pulling me out by my hair ! And I started blowing my attack whistle thingy and then three more cabs show up . So as I 'm going to get into a cab , she tackles me ! And I hit my head on the curb and cut my lip on my whistle . Everybody having fun at the party ? Are people eating my dip ?\n",
      "Sandy : When I saw you at the store last week it was probably the first time I ever mentally undressed an elf .\n",
      "Joey Tribbiani : Wow , that 's dirty .\n",
      "Sandy : Yeah .\n",
      "Joey Tribbiani : Hey , kids ...\n",
      "Ross Geller : I 'm not saying he has to spend the whole evening with me but at least check in . Look at him .\n",
      "Janice Litman Goralnik : There you are ! You got away from me .\n",
      "Chandler Bing : But you found me .\n",
      "Janice Litman Goralnik : Here , Ross , take our picture . Smile . You 're on Janice Camera .\n",
      "Chandler Bing : Kill me . Kill me now .\n",
      "Monica Geller : Everybody , it 's Fun Bobby !\n",
      "Bobby Rush : Hey , sorry I 'm late . But my grandfather died about two hours ago . But I could n't get a flight out till tomorrow , so here I am .\n",
      "Joey Tribbiani : Hey , Fun Bobby ! Whoa ! Who died ?\n",
      "Bobby Rush : It 's gon na be an open casket , you know ? So at least I 'll get to see him again .\n",
      "Janice Litman Goralnik : I 'm gon na blow this one up and I 'm gon na write \" Reunited \" in glitter .\n",
      "Chandler Bing : All right , Janice , that 's it ! Janice . Hey , Janice , when I invited you , I did n't think it meant\n",
      "Janice Litman Goralnik : Oh , no !\n",
      "Chandler Bing : I 'm sorry you misunderstood .\n",
      "Janice Litman Goralnik : Oh , my God ! You listen to me ! You listen to me ! One of these times , it 's just gon na be your last chance with me !\n",
      "Chandler Bing : Will you give me the thing ?\n",
      "Phoebe Buffay : Hi , Max .\n",
      "Max : Yoko . I 've decided to go to Minsk without you .\n",
      "David : Wow .\n",
      "Max : It wo n't be the same but it will still be Minsk . Happy New Year .\n",
      "Phoebe Buffay : Are you all right ?\n",
      "David : Yeah , I 'm fine . I 'm fine .\n",
      "Phoebe Buffay : You 're going to Minsk .\n",
      "David : No , I 'm not going to Minsk .\n",
      "Phoebe Buffay : Oh , you are so going to Minsk . You belong in Minsk . You ca n't stay here just for me .\n",
      "David : Yes , I can . Because if I go , it means I have to break up with you . And I ca n't break up with you .\n",
      "Phoebe Buffay : Oh , yes . Yes , you can . Just say , \" Phoebe , I love you , but my work is my life . \" \" That 's what I have to do now . \" And I say , \" Your work ? How can you say that ? \" And then you say , \" It 's tearing me apart but I have no choice . And I say , \" No ! \" \" No ! I ca n't understand that ! \"\n",
      "David : Uh , ow .\n",
      "Phoebe Buffay : And then you put your arms around me . Then you put your arms around me . Oh , sorry . And then you tell me you love me and you 'll never forget me .\n",
      "David : I 'll never forget you .\n",
      "Phoebe Buffay : Then you say that it 's almost midnight and you have to go because you do n't want to start the year with me if you ca n't finish it . I 'm gon na miss you you scientist guy .\n",
      "Dick Clark : Hi , this is Dick Clark live in Times Square . We 're in a virtual snowstorm of confetti here in Times Square .\n",
      "Joey Tribbiani : There y'go , kids .\n",
      "Chandler Bing : And then the peacock bit me . Please kiss me at midnight !\n",
      "Joey Tribbiani : You seen Sandy ?\n",
      "Chandler Bing : I do n't know how to tell you this but she 's in the bedroom getting it on with Max , that scientist geek . Cool , look at that . I did know how to tell you .\n",
      "Rachel Green : The ball is dropping !\n",
      "# ALL # : What ?\n",
      "Rachel Green : The bll is drrbing !\n",
      "Dick Clark : In 20 seconds , it 'll be midnight .\n",
      "Chandler Bing : And the moment of joy is upon us .\n",
      "Joey Tribbiani : Looks like that \" No - Date Pact \" thing worked out .\n",
      "Phoebe Buffay : Everybody looks so happy . I hate that !\n",
      "Monica Geller : Not everybody is happy . Hey , Bobby ! four , three , two one ! Happy New Year !\n",
      "Chandler Bing : I just thought I 'd throw this out . I 'm no math whiz but I do believe there are three girls and three guys right here .\n",
      "Phoebe Buffay : I do n't feel like kissing anyone tonight .\n",
      "Rachel Green : I ca n't kiss anyone .\n",
      "Monica Geller : So , I 'm kissing everyone ?\n",
      "Joey Tribbiani : No , you ca n't kiss Ross . That 's your brother .\n",
      "Ross Geller : Perfect . So now everybody 's getting kissed but me .\n",
      "Chandler Bing : Somebody kiss me . Somebody kiss me ! It 's midnight ! Somebody kiss me ! It 's midnight !\n",
      "Joey Tribbiani : Alrightalrightalright . There .\n",
      "====================================================================================================\n",
      "s02e06c03fe\n",
      "Phoebe Buffay : But this is my gig . This is where I play . My name is written out there in chalk . You know , you ca n't just erase chalk .\n",
      "Rachel Green : Honey , I 'm sorry .\n",
      "Phoebe Buffay : And he 's going to be paying this woman ? Why does n't he just give her a throne and a crown ? And , like , you know , a gold stick with a ball on top ?\n",
      "Rachel Green : Terry is a jerk ! That 's why we always say , \" Terry 's a jerk ! \" That 's where that came from .\n",
      "Phoebe Buffay : Yeah , okay . You probably did everything you could .\n",
      "Rachel Green : You know what ? Let me just see what else I can do . All right , look , look . Just let her go on after Stephanie whatever her name is . You wo n't be here . You do n't pay her . It 's not gon na cost you anything .\n",
      "Terry : I do n't know .\n",
      "Rachel Green : Come on , Terry，I'll clean the cappuccino machine !\n",
      "Terry : You do n't clean the cappuccino machine ?\n",
      "Rachel Green : Of course I clean it . I mean , I will clean it . I mean , I will clean it .\n",
      "Terry : All right , fine , fine , fine !\n",
      "Rachel Green : Done .\n",
      "Phoebe Buffay : Really ?\n",
      "Rachel Green : Really ? Who 's working for you , babe ?\n",
      "Phoebe Buffay : Oh , my God ! This is so exciting ! How much am I gon na get ?\n",
      "Rachel Green : What ?\n",
      "Phoebe Buffay : He 's paying the people who were playing .\n",
      "Rachel Green : Oh , no , no , no . I meant , he 's paying that other woman because she 's a professional .\n",
      "Phoebe Buffay : I 'm not gon na be the only one who 's not getting paid .\n",
      "Rachel Green : But , Pheebs ...\n",
      "Phoebe Buffay : Uh - uh , I 'm sorry , no ! No , I 'm not some sloppy second , you know , charity band . There are thousands of places in this city ... where people would pay to hear me play . When I play , I play for me I do n't need your charity Thank you !\n",
      "Ross Geller : Well , there 's no way I 'm not getting a shot . Maybe they can take the needle ... and squirt it into my mouth . Like a squirt gun .\n",
      "Doctor : Hello there . I 'm Dr. Carlin . I see someone 's having a little allergic reaction .\n",
      "Monica Geller : Doctor , can I see you for just a moment ? My brother has a slight phobia about needles .\n",
      "Ross Geller : Did you tell him about my squirt gun idea ?\n",
      "Monica Geller : My brother , the Ph.D. , would like to know ... if there 's any way to treat this orally ?\n",
      "Doctor : No . Under these circumstances , it has to be an injection , and it has to be now . So ?\n",
      "Ross Geller : Tho ?\n",
      "Ross Geller : Ohhh .\n",
      "Monica Geller : Oh . Go and have a seat . Um , the doctor says it 's got to be a needle . You 're just going to have to be brave . Can you do that for me ?\n",
      "Ross Geller : Ok .\n",
      "Monica Geller : Oh , boy ! You are doing so good . You want to squeeze my hand ? Yes . Ross , do n't squeeze it so hard . Honey , really . Do n't squeeze it so hard ! Let go of my hand !\n",
      "Chandler Bing : Good plan . Next time we want to pick up women ... we should go to the park and make out . Taxi ! Taxi !\n",
      "Joey Tribbiani : Look at that talent .\n",
      "Chandler Bing : Just practicing . You 're good . Carry on .\n",
      "Girl 1 On Bus : Hey , you . He 's just adorable .\n",
      "Chandler Bing : Can you tell him that ? Because he thinks he looks too pink .\n",
      "Girl 2 On Bus : What are you guys out doing today ?\n",
      "Joey Tribbiani : We 're not out . We 're two heterosexual guys hanging with the son of our other heterosexual friend , doing the usual straight - guy stuff .\n",
      "Chandler Bing : You done ?\n",
      "Joey Tribbiani : Yeah .\n",
      "Girl 1 : Oh , there 's our stop .\n",
      "Joey Tribbiani : Get out of here ! This is our stop .\n",
      "Girl 2 : You guys live around here too ? Yeah , sure .\n",
      "Joey Tribbiani : We live in the building by the , uh , sidewalk .\n",
      "Chandler Bing : You know it ?\n",
      "Joey Tribbiani : Ha , ha . Since we 're neighbors , what do you say we , uh , get together for a drink ?\n",
      "Girl 1 : So , uh , you want to go to Markel 's ?\n",
      "Chandler Bing : Oh , sure , they love us over there .\n",
      "Girl 2 : Where 's your baby ?\n",
      "Chandler Bing Joey Tribbiani : Ben ! Ben ! Ben ! Ben !\n",
      "Chandler Bing : That 's good . Maybe he 'll hear you and pull the cord !\n",
      "Both : Stop the bus ! Hey !\n",
      "Monica Geller : Are you sure he did n't break it ? It hurts .\n",
      "Doctor : No , it 's just a good bone bruise . And right here is the puncture wound from your ring .\n",
      "Ross Geller : I 'm really sorry . It 's okay . Sorry . Sorry ! I got my S 's back ! Which we can celebrate later . Celebrate . Celebrate ....\n",
      "Phoebe Buffay : Double - jointed boy Hey . So , um , are you the professional guitar player ?\n",
      "Stephanie Schiffer : Yeah , I 'm Stephanie .\n",
      "Phoebe Buffay : Oh , right . My name was on there , but now it just says carrot cake . Okay . So , um , how many chords do you know ?\n",
      "Stephanie Schiffer : All of them . So you know D ?\n",
      "Phoebe Buffay : Oh yeah , so you know D ?\n",
      "Phoebe Buffay : Yeah . Do you know A - minor ?\n",
      "Phoebe Buffay : Do you know how to go from D to A - minor ?\n",
      "Stephanie Schiffer : Yeah .\n",
      "Phoebe Buffay : Um , so does your guitar have a strap ?\n",
      "Stephanie Schiffer : No .\n",
      "Phoebe Buffay : No . Oh . Mine does . Stephanie knows all the chords\n",
      "Chandler Bing : Come on ! Pick up , pick up ! Hello . Ahem . Transit Authority ? Yes , hello . I 'm doing research for a book . I was wondering what somebody might do if they left a baby on a city bus . Yes , I realize that would be a stupid character .\n",
      "Joey Tribbiani : Here 's the deal : We lost a car seat on a bus . It 's white plastic and it fits onto a stroller . Oh , and there was a baby in it . He wants to talk to you .\n",
      "Rachel Green : Everybody , let 's give a warm Central Perk welcome to ...\n",
      "Phoebe Buffay : Terry 's a jerk and he wo n't let me work And I hate Central Perk\n",
      "Rachel Green : Uh , to Stephanie Schiffer !\n",
      "Stephanie Schiffer : I 'd like to start with a song I wrote for the first man I ever loved . Zachary ...\n",
      "Phoebe Buffay : Are all invited to bite me\n",
      "Chandler Bing Joey Tribbiani : We 're the guys that called about the baby ! Is he here ? ! He 's here .\n",
      "Transit Authority Guy : He 's here . Aah ! I assume one of you is the father . That 's me . I 'm him .\n",
      "Chandler Bing : That 's me .\n",
      "Joey Tribbiani : I 'm him .\n",
      "Chandler Bing : Actually , we 're both the father .\n",
      "Both : Oh , Ben ! Hey , buddy .\n",
      "Chandler Bing : Please tell me you know which one is our baby .\n",
      "Joey Tribbiani : That one has ducks on his T - shirt and this one has clowns . And Ben was definitely wearing ducks .\n",
      "Chandler Bing : Ok .\n",
      "Joey Tribbiani : Or clowns . Oh , wait . That one 's Ben ! Remember he had that cute little mole by his mouth !\n",
      "Chandler Bing : Yeah ?\n",
      "Joey Tribbiani : Yeah .\n",
      "Chandler Bing : Hey , Ben ! Remember us ? Okay , the mole came off .\n",
      "Joey Tribbiani : Ahh !\n",
      "Chandler Bing : What are we gon na do ? Uh .\n",
      "Joey Tribbiani : We 'll flip for it . Ducks or clowns .\n",
      "Chandler Bing : Flip for the baby ?\n",
      "Joey Tribbiani : Flip for the baby ? You got a better idea ?\n",
      "Chandler Bing : All right , call it in the air .\n",
      "Joey Tribbiani : Heads .\n",
      "Chandler Bing : Heads , it is .\n",
      "Joey Tribbiani : Yes ! Whew !\n",
      "Chandler Bing : We have to assign heads to something !\n",
      "Joey Tribbiani : Right ! Okay . Okay , uh ... Ducks is heads because ducks have heads .\n",
      "Chandler Bing : What kind of scary - ass clowns came to your birthday ?\n",
      "====================================================================================================\n",
      "s02e22c04fe\n",
      "Chandler Bing : Joe , Joe , hey , some girl just walked up to me and said , \" I want you , Dennis \" ... and stuck her tongue down my throat . I love this party .\n",
      "Joey Tribbiani : Quick volleyball question . Volleyball .\n",
      "Chandler Bing : Volleyball .\n",
      "Joey Tribbiani : Yeah , we set up a court in your room . Uh , you did n't like that gray lamp , did you ?\n",
      "Chandler Bing : Joey , a woman just stuck her tongue down my throat . I 'm not even listening to you .\n",
      "Girl 's Voice : Dennis !\n",
      "Chandler Bing : Okay , that 's me .\n",
      "Rachel Green : Listen , ahem , honey , can you keep Dad occupied ? I 'm gon na go talk to Mom for a while .\n",
      "Ross Geller : Okay , do you have any ideas for any openers ?\n",
      "Rachel Green : Uh , let 's just stay clear of \" I 'm the guy that 's doing your daughter \" ... and you should be okay .\n",
      "Monica Geller : Okay , people , I want you to take a piece of paper ... Here you go . And write down your most embarrassing memory . And I do ask that when you 're not using the markers ... you put the caps back on them ... because they will dry out .\n",
      "Ross Geller : Hi , Dr. Green . So how 's everything in the , uh ... vascular surgery game ?\n",
      "Leonard Green : It 's not a game , Ross . A woman died on my table today .\n",
      "Ross Geller : I 'm sorry . See , that 's the good thing about my job . All the dinosaurs on my table are already dead .\n",
      "Monica Geller : Listen , you guys , um , I do n't mean to be a pain about this ... but , um , I 've noticed that some of you are just placing them on . You want to push the caps ... until you hear them click . Gunther . Where you going ?\n",
      "Gunther : I , uh , was sort of thinking about maybe ...\n",
      "Monica Geller : No . No , you ca n't go . No , this is fun . Come on , come on , we 're just getting started . Here 's your marker .\n",
      "Phoebe Buffay : Listen , if you want to go , just go .\n",
      "Gunther : No . She 'll yell at me again .\n",
      "Phoebe Buffay : All right , I can get you out .\n",
      "Gunther : What ?\n",
      "Phoebe Buffay : Shh . In a minute , I 'm gon na create a diversion . When I do , walk quickly to the door and do n't look back .\n",
      "Leonard Green : I think I need a drink . -I'll get it for you .\n",
      "Ross Geller : Oh , here , I , I 'll get it for ya . Whad'ya want ?\n",
      "Leonard Green : Scotch .\n",
      "Ross Geller : All right , I 'll be back in 10 seconds with your Scotch on the rocks in a glass .\n",
      "Leonard Green : Neat .\n",
      "Ross Geller : Cool .\n",
      "Leonard Green : Neat , as in no rocks .\n",
      "Ross Geller : I know .\n",
      "Leonard Green : Hello , Ross ! Where have you been ?\n",
      "Ross Geller : Hi . Uh , I have been in the bathroom . Ahem . Stay clear of the salmon mousse .\n",
      "Sandra Green : Oh . Scotch neat . You know , that 's Rachel 's father 's drink .\n",
      "Ross Geller : Oh . Huh . Mine too . Is n't that neat ? Scotch neat . Would you excuse me ? Hey . Hey . Where are you sneaking off to , mister ? Heh .\n",
      "Leonard Green : I 'm getting my cigarettes out of my jacket .\n",
      "Ross Geller : No . no .\n",
      "Leonard Green : Whad'ya mean no ?\n",
      "Ross Geller : No , um , see , because that 's the staging area . You go in there , it 'll ruin the whole illusion of the party . Yeah , I think , you take your Scotch back in there ... and I will get your cigarettes for you , sir .\n",
      "Leonard Green : Get my glasses too . -All righty - roo .\n",
      "Ross Geller : What a great moment to say that for the first time .\n",
      "Monica Geller : Okay , the first person 's most embarrassing memory is \" Monica , your party sucks . \" Very funny .\n",
      "Phoebe Buffay : Oh , no . Ooh . Did someone forget to use a coaster ?\n",
      "Monica Geller : What ? I do n't see anything .\n",
      "Phoebe Buffay : Great , I 'm seeing water rings again .\n",
      "Judy Geller : Ross , whose glasses are those ?\n",
      "Ross Geller : Mine .\n",
      "Sandra Green : You wear bifocals ?\n",
      "Ross Geller : Mm - hm . I have a condition apparently ... that I require ... two different sets of focals .\n",
      "Sandra Green : Do you know my husband has glasses just like that ?\n",
      "Rachel Green : Well , those are very popular frames .\n",
      "Ross Geller : Neil Sedaka wears them .\n",
      "Guy : I hear you can get people out of here .\n",
      "Sandra Green : Rachel ? Yeah ? You did n't tell me your boyfriend smokes .\n",
      "Rachel Green : Yeah , like a chimney .\n",
      "Ross Geller : Big smoker . Big , big smoker . In fact , I 'm gon na go out into the hallway and fire up this bad boy .\n",
      "Leonard Green : Are you wearing my glasses ?\n",
      "Ross Geller : Yes . I was just warming up the earpieces for you .\n",
      "Leonard Green : Thank you . Is that one of my cigarettes ?\n",
      "Ross Geller : Yeah . Yes , it is . I was just moistening the tip .\n",
      "Phoebe Buffay : Okay , okay . She 's taking the trash out , so I can get you out of here . But it has to be now . She 'll be back any minute .\n",
      "Girl 1 : What about my friend Victor ?\n",
      "Phoebe Buffay : No , only the three of you . Any more than that and she 'll get suspicious .\n",
      "Girl 1 : Alright , let me just get my coat .\n",
      "Phoebe Buffay : Let me just get my coat . -There is n't time ! Just leave everything . They 'll take care of you next door .\n",
      "Girl 1 : Is it true they have beer ?\n",
      "Phoebe Buffay : Everything you 've heard is true .\n",
      "Monica Geller : Could you guys please try and keep it down ? We 're trying to start a Boggle tournament .\n",
      "Monica Geller : You . And you . You 're supposed to be at my party . And Gunther . What are you doing here ?\n",
      "Gunther : Um ...\n",
      "Phoebe Buffay : Hey , welcome to the fo ...\n",
      "Monica Geller : Phoebe ?\n",
      "Phoebe Buffay : All right , I 'm sorry . But these people needed me . They work hard all week . It 's Saturday night . They deserve to have a little fun . Go !\n",
      "Monica Geller : You know , my party is fun . I mean , maybe it 's a little quieter , less obvious sort of fun . But , you know , if people would just give it a chance , it 's ...\n",
      "Rachel Green : You want me to see a therapist ?\n",
      "Sandra Green : Sweetheart , you have a problem . You 've chosen a boyfriend exactly like your father .\n",
      "Rachel Green : Okay , Mom , you know what ? Fine . I 'll make an appointment . Okay ? But you know what ? Right now , I got ta go . I got ta go do a thing .\n",
      "Leonard Green : Did you know your mother spent $ 1200 on bonsai trees ? I felt like Gulliver around that place .\n",
      "Rachel Green : Daddy , Daddy , I really want to hear more about this ... I really do , but I just have to do , uh , some stuff .\n",
      "Sandra Green : You work and you work and you work at a marriage ... but all he cares about is his stupid boat .\n",
      "Leonard Green : You work and you work and you work on a boat .\n",
      "Sandra Green : He always ridiculed my pottery classes .\n",
      "Leonard Green : And you sand it and you varnish it .\n",
      "Sandra Green : But when all is said and done , he still drinks out of the mugs .\n",
      "Leonard Green : and her yoga and her Bridges of Madison County ...\n",
      "Sandra Green : The scotch , the cigarettes ....\n",
      "Leonard Green : The bonsais and the Chihuahua ....\n",
      "Sandra Green : I may have only been in therapy for three weeks now but\n",
      "Leonard Green : What the hell does she want with half a boat ?\n",
      "====================================================================================================\n",
      "s03e09c03fe\n",
      "Ross Geller : Okay , where the hell did you get that ?\n",
      "Monica Geller : When you went to the hospital for your nose ... I swam into the lake and fished it out .\n",
      "Ross Geller : That cup is mine !\n",
      "Monica Geller : No , it 's not . You want it , you 're gon na have to win it .\n",
      "Rachel Green : So are we not having dinner at all ?\n",
      "Monica Geller : Come on , let 's go . It 's time to get serious . Huddle up . Keep your head in the game .\n",
      "Joey Tribbiani : It 's hard , you know ? His huddle 's close to the Dutch girl .\n",
      "Monica Geller : If I take Chandler out of the running , will you be able to focus ?\n",
      "Joey Tribbiani : What are you gon na do ?\n",
      "Monica Geller : Just make sure he catches the ball .\n",
      "Joey Tribbiani : Okay .\n",
      "Monica Geller : Break !\n",
      "Joey Tribbiani : Here you go !\n",
      "Ross Geller : Chandler ! Chandler !\n",
      "Chandler Bing : Hi .\n",
      "Monica Geller : Tackled by a girl ! Bet you do n't see that every day .\n",
      "Ross Geller : Whoa , whoa , whoa ! What 's with the tackling ? What ?\n",
      "Monica Geller : What ? I just touched him and he went over .\n",
      "Ross Geller : Okay . You wanna play rough ? We can play rough .\n",
      "Phoebe Buffay : I love this game !\n",
      "Ross Geller : Where 'd you get that ?\n",
      "Rachel Green : I went really long .\n",
      "Monica Geller : Forty - two to 21 . Like the turkey , Ross is done !\n",
      "Ross Geller : You got to pick first , so you got the better team .\n",
      "Monica Geller : Pathetic ! Why ca n't you just accept that we 're winning ... because I 'm better than you ?\n",
      "Monica Geller : Pfft ! Oh , what a great argument . Exhaling ! All right , I 'll prove it to you . Okay ? I 'll trade you Joey for Rachel and I 'll still win the game .\n",
      "Ross Geller : What ? The guys against the girls ? That 's ridiculous because I 'm only down by three touchdowns .\n",
      "Monica Geller : Oh , then bring it on ! Unless you 're afraid you might lose to a bunch of girls .\n",
      "Ross Geller : Fine . Rachel , you 're with Monica . Joey , you 're with me .\n",
      "Rachel Green : I can not believe you 're trading me .\n",
      "Monica Geller : Let 's see what it 's like to be on a winning team for a change .\n",
      "Rachel Green : You 're gon na let me play ?\n",
      "Monica Geller : All right , then !\n",
      "Margha : The game is over ? We eat now ?\n",
      "Chandler Bing : No , the game 's not over . We 're switching teams .\n",
      "Joey Tribbiani : Chandler finds me so intimidating that it 's better if we 're on the same team .\n",
      "Ross Geller : Okay , let 's play . Let 's go .\n",
      "Chandler Bing : Oh , uh , hold on a second . Ahem . Where do Dutch people come from ?\n",
      "Joey Tribbiani : Uh , well , the , uh ... Pennsylvania Dutch come from Pennsylvania .\n",
      "Chandler Bing : And the other Dutch people ? They come from somewhere near the Netherlands , right ?\n",
      "Joey Tribbiani : Nice try . The Netherlands is this make - believe place ... where Peter Pan and Tinker Bell come from .\n",
      "Margha : Oh , my .\n",
      "Ross Geller : Enough \" geography for the insane . \" Let 's play ball .\n",
      "Joey Tribbiani : No . No , I 'm not playing with this guy .\n",
      "Chandler Bing : Fine with me . -l've had enough of this .\n",
      "Ross Geller : Let 's just cut to the chase . Heidi , which of my boys do you like ?\n",
      "Chandler Bing Joey Tribbiani : What are you doing ? What are you doing ? Shh , shh .\n",
      "Margha : Which do I like ?\n",
      "Ross Geller : Yeah , for dating , general merriment , taking back to your windmill ?\n",
      "Margha : Well , if I had to choose right now ... which , by the way , I find really weird ... I would have to say Chandler .\n",
      "Chandler Bing : Yes !\n",
      "Joey Tribbiani : Wait a minute . She did n't understand the question .\n",
      "Chandler Bing : Why do n't you have Captain Hook explain it to her ?\n",
      "Margha : I 'm sorry . That is my truth .\n",
      "Chandler Bing : You hear that ? That is her truth , Mr. \" I 'll Let You Have Her \" ! I win ! You suck ! I rule all ! Mini - wave in celebration of me !\n",
      "Margha : I am now thinking I would like to change my answer to \" no one . \"\n",
      "Chandler Bing : What ?\n",
      "Margha : I now find you shallow , and , um ... a dork . Bye - bye .\n",
      "Joey Tribbiani : You just saved yourself a couple months of sex .\n",
      "Chandler Bing : It does n't matter , because she picked me . From now on , I get the dates ... and you stay home on Saturday nights watching Ready , Set , Cook !\n",
      "Ross Geller : Save the breakthroughs for therapy . The clock is ticking . We have no time , and we are losing to girls .\n",
      "Chandler Bing : We 're not gon na lose to girls .\n",
      "Ross Geller : It 's 42 - 21 !\n",
      "Joey Tribbiani : This sucks ! I was just up by that much !\n",
      "Monica Geller : Are we playing football or what ? Come on , you hairy - backed Marys !\n",
      "Monica Geller : We have to do this . We 're playing for women everywhere . Think about every lousy date you ever had . Every guy who kept one eye on the TV while you were making out .\n",
      "Phoebe Buffay : Oh , my God . You dated someone with a glass eye too ?\n",
      "Monica Geller : Come on , okay ? This is for all womankind . Let 's kill them !\n",
      "Rachel Green : Yeah ! Kill them !\n",
      "Phoebe Buffay : All right , I want to kill them too . But they 're boys . You know , how are we gon na beat three boys ?\n",
      ": S\n",
      "Monica Geller : A minute and a half left , and we 're down by two points . Two points , ladies . Phoebe , you do a buttonhook again . Rachel , you go long .\n",
      "Rachel Green : No , do n't make me go long . Use me . They never cover me .\n",
      "Monica Geller : Honey , there 's a reason .\n",
      "Rachel Green : I 'm not lame , okay ? I can do something . Would you let me throw ? This is my game too .\n",
      "Phoebe Buffay : Let her throw the ball .\n",
      "Monica Geller : Sweep behind , I 'll pitch it . You throw it downfield to Phoebe . Break ! Break ! Catch it ! Ow !\n",
      "Rachel Green : Thank you .\n",
      "Monica Geller : Thirty - two , 71 , hike !\n",
      "The Guys : One - Mississippi ! Two - Mississippi ! Three - Mississippi !\n",
      "Rachel Green : l'm so sorry . Are you okay ?\n",
      "Monica Geller : No , I 'm not okay !\n",
      "Rachel Green : They were coming at me , and I did n't know what to do .\n",
      "Joey Tribbiani : Thirty seconds left on the timer .\n",
      "Chandler Bing : So we get to take that stupid troll thing home .\n",
      "Monica Geller : Come on ! Hurry ! We 're running out of time . Huddle up !\n",
      "Phoebe Buffay : Oh ! This is our last huddle !\n",
      "Monica Geller : All right , Phoebe , get open . Rachel ... golong .\n",
      "Rachel Green : Okay .\n",
      "Monica Geller : Break !\n",
      "Rachel Green : Ahh ! I did it ! Touchdown ! We did it !\n",
      "Chandler Bing : You know ? Funny thing , actually . The end zone starts at that pole . So you 're five feet short . So ... wewin !\n",
      "Phoebe Buffay : Wait , explain something , though . If nobody tagged Rachel , then is n't the play still going ?\n",
      "Ross Geller : Let go ! Let go !\n",
      "Monica Geller : Let go ? I 'm a tiny little woman !\n",
      "Chandler Bing : Guys , come on , it 's Thanksgiving ! It 's not important who wins or loses . The important thing is the Dutch girl picked me ! Me , not you ! Holland loves Chandler ! Thank you , Amsterdam ! Good night !\n",
      "Monica Geller : Ow !\n",
      "====================================================================================================\n",
      "s05e19c01fe\n",
      "Rachel Green : I am so proud of Joey . He 's gon na be on Law and Order !\n",
      "Phoebe Buffay : But do n't you think it should be called Order and Law ?\n",
      "Rachel Green : No because first they arrest the guy and then they try him .\n",
      "Phoebe Buffay : Yeah . Do n't get me started on that .\n",
      "Chandler Bing : I was not flirting .\n",
      "Ross Geller : And on your anniversary . For shame !\n",
      "Rachel Green : What 's going on ?\n",
      "Ross Geller : Chandler was hitting on the hot delivery girl .\n",
      "Chandler Bing : I was not . And oh , God ! Shh !\n",
      "Ross Geller : I 'm sorry , but you were . Okay ? And besides , if anyone should be hitting on her .. it 's the guy who 's single the guy that who - who - who can do something about it .\n",
      "Phoebe Buffay : Sounds like someone wants to be Mr. Pizza Delivery Girl .\n",
      "Ross Geller : Well ...\n",
      "Chandler Bing : Well ... Is that what this is about ? You like Caitlin ?\n",
      "Rachel Green : Ha , ha , Ross , we broke up two years ago . You 've been married since then . I think it 's okay that we see other people .\n",
      "Ross Geller : Well , I - I was watching her the other day at the pizza place .\n",
      "Rachel Green : Hm - mmm .\n",
      "Ross Geller : And she was just so sexy and funny and has the cutest little\n",
      "Rachel Green : Okay , y'know what ? We do n't need her measurements . Ha , ha .\n",
      "Phoebe Buffay : Okay Pepperoni , pepperoni , pepperoni . Ross , I know she 's pretty and you love her , but is she stupid ? She forgot my vegetarian .\n",
      "Ross Geller : This is perfect . She 'll have to come back here with your pizza . And when she does , I will turn on the charm \" au \" Ross . Oh , I am so glad you do n't eat meat . Ha , ha .\n",
      "Phoebe Buffay : See ? Vegetarianism benefits everyone . Mm .\n",
      "Joey Tribbiani : Hey , everybody , look who 's here ! You remember my grandmother .\n",
      "Rachel Green : Big night !\n",
      "Phoebe Buffay : This is so cool !\n",
      "Chandler Bing : Joey on Law and Order . You must be very proud .\n",
      "Joey Tribbiani : Chandler , she does n't understand a word of English .\n",
      "Chandler Bing : Ha , ha , I thought you were Joey 's other grandmother . I 've done it again .\n",
      "Joey Tribbiani : Nonnie 's my biggest fan . Yeah , She 's the only one in the family who 's always believed in me .\n",
      "Joey Tribbiani : Yeah , I weighed , like , 27 pounds when I was born .\n",
      "Monica Geller : Hey ! Happy Anniversary !\n",
      "Chandler Bing : Happy anniversary . Happy anniversary , 10 months .\n",
      "Monica Geller : So umm , when I was in the shower I was thinking about our first night in London .\n",
      "Chandler Bing : Oh , uh , Joey 's grandmother 's right there .\n",
      "Monica Geller : Is that the one that speaks English or the one that does n't ?\n",
      "Chandler Bing : The one who does n't .\n",
      "Monica Geller : That was some hot love you gave me . Ha - ha - ha . I 'll get ready .\n",
      "Chandler Bing : I 'll get ready . Hey , why do n't you wear those earrings I gave you ?\n",
      "Monica Geller : Oh , that 's a great idea . I was saving them for something special .\n",
      "Chandler Bing : Okay .\n",
      "Monica Geller : You 've got to go home .\n",
      "Phoebe Buffay : But I like it here .\n",
      "Monica Geller : You got ta go home and get the earrings that you borrowed from me okay ? Chandler wants me to wear them tonight .\n",
      "Phoebe Buffay : Okay , well I think that they 're in my purse . Why do n't you go get dressed and I 'll look for them . Okay .\n",
      "Monica Geller : Great !\n",
      "Phoebe Buffay : Ahem , Rach . Hi . I need those earrings you borrowed .\n",
      "Rachel Green : Oh . Um ... Yeah , I 'll be right back .\n",
      "Joey Tribbiani : Wow , Pheebs , you speak Italian ?\n",
      "Phoebe Buffay : I guess so .\n",
      "Rachel Green : Here you go . Thanks . \\N\n",
      "Phoebe Buffay : Thanks . Wait , where 's the other one ?\n",
      "Rachel Green : \\N Oh , what , you - you want both of them ? Ha , ha .\n",
      "Phoebe Buffay : Rachel Karen Green , where 's the other earring ?\n",
      "Rachel Green : Okay , okay . Look , just do n't freak out , but I kind of lost it . Oh , I know it 's in the apartment , but I definitely lost it .\n",
      "Phoebe Buffay : Well , what am I going to tell Monica ? She wants to wear them tonight !\n",
      "Rachel Green : Tell her to wear her own earrings .\n",
      "Phoebe Buffay : These are her earrings .\n",
      "Rachel Green : Nooo ! Nooooo ! You lent me Monica 's earrings ? I 'm not allowed to borrow her stuff .\n",
      "Phoebe Buffay : Why not ?\n",
      "Rachel Green : Because I lose her stuff !\n",
      "Joey Tribbiani : Okay , You see that blind guy right there ? I 'm gon na bash his head in later .\n",
      "Joey Tribbiani : Oh , uh , my big scene 's coming up . Uh , the big scene coming up .\n",
      "Chandler Bing : If you said , \" Big lima bean bubbling up , \" Would she understand the difference ?\n",
      "Monica Geller : Rach , what are you doing ?\n",
      "Rachel Green : Oh , I just ca n't watch . It 's too scary .\n",
      "Monica Geller : It 's a diaper commercial .\n",
      "Rachel Green : Oh , yeah , well , you know me . Babies , responsibilities，ahhh ! ! !\n",
      "Caitlin : Pizza delivery .\n",
      "Ross Geller : I 'll get it ! I will get that !\n",
      "Caitlin : Hi !\n",
      "Ross Geller : Hi !\n",
      "Caitlin : One vegetarian pizza . It 's 12.50 .\n",
      "Ross Geller : Uh , by the way , if it makes you feel any better , uh I happen to like 8 - year - old boys .\n",
      "Caitlin : What ?\n",
      "Ross Geller : Your hair . Before . Your hair . You said you thought your hair looked like an 8 - year - old boy 's and I 'm just saying I like it . The hair .\n",
      "Caitlin : Oh . Thanks .\n",
      "Ross Geller : You understand , I do n't actually like 8 - year - old boys .\n",
      "Caitlin : All I 'm looking for is the money .\n",
      "Chandler Bing : Here you go . Now , stop bringing us pizzas , you .\n",
      "Caitlin : I 'm gon na try .\n",
      "Chandler Bing : You 're welcome .\n",
      "Ross Geller : You could n't let me have her , could you ?\n",
      "Chandler Bing : What ?\n",
      "Ross Geller : This is a girl I really like and you had to swoop in there !\n",
      "Monica Geller : What 's going on ?\n",
      "Ross Geller : Chandler was flirting with the hot delivery girl .\n",
      "Chandler Bing : Thank you for that . I was not flirting .\n",
      "Monica Geller : It 's okay . I do n't care . Ha , ha . It 's fine .\n",
      "Ross Geller : Really ? !\n",
      "Chandler Bing : Really ? !\n",
      "Monica Geller : It 's no big deal . I do it all the time .\n",
      "Chandler Bing : So umm , you - you flirt with guys all the time ?\n",
      "Monica Geller : Sure . It does n't mean anything . Just like I know it does n't mean anything with you .\n",
      "Chandler Bing : But there 's a big difference . Sorry , You are a lot hotter than I am .\n",
      "Joey Tribbiani : True story .\n",
      "Monica Geller : Ha , ha . Chandler , This actually bothers you ?\n",
      "Chandler Bing : Yes , it does bother me ! And I think it 'd bother a lot of people . When you were going out with Ross , did it bother you when he flirted with other women ?\n",
      "Rachel Green : Uh , no . No , it bothered me when he slept with other women .\n",
      "Ross Geller : And thank you for that .\n",
      "Rachel Green : But I never had anything to worry about . Ross was never very good at the flirting thing .\n",
      "Ross Geller : What are you talking about ? It worked with you .\n",
      "Rachel Green : Oh ! Y'know what ? you 're right . Oh ! We met , you flirted and then , bam , nine years later , you had me .\n",
      "Ross Geller : All right . All right . You know what I 'm gon na do ? I am gon na order another pizza . And when Caitlin gets here you - you -- I will show how well I flirt . Yeah ! I will , I will get her phone number ! Oh , well And not the one on the menu .\n",
      "Phoebe Buffay : I found it .\n",
      "Rachel Green : Oh , thank God !\n",
      "Phoebe Buffay : On your dresser .\n",
      "Rachel Green : Okay , that is the one we already have .\n",
      "Joey Tribbiani : Okay , here 's my big scene . My big scene 's here . Anybody home ? Oh , my God . What ?\n",
      "Monica Geller : What ?\n",
      "Joey Tribbiani : Okay , everybody just keep smiling . It 'll kill my grandmother if she finds out . Ha , ha .\n",
      "Chandler Bing : Oh , what is it ?\n",
      "Joey Tribbiani : Uh , they cut me out of the show .\n",
      "Rachel Green : What ?\n",
      "Ross Geller : Are you sure ?\n",
      "Phoebe Buffay : Maybe your scene 's coming up .\n",
      "Joey Tribbiani : Not likely . Because you see that body bag right there ?\n",
      "Rachel Green : Yeah .\n",
      "Joey Tribbiani : I 'm in it .\n",
      "====================================================================================================\n",
      "s05e19c02fe\n",
      "Phoebe Buffay : This is terrible , what are you going to do ?\n",
      "Joey Tribbiani : I do n't know . This little , old lady lives for my career . When they dumped me off Days of Our Lives , she almost died .\n",
      "Phoebe Buffay : That 's not good .\n",
      "Joey Tribbiani : Smile , everybody smile !\n",
      "Rachel Green : Joey，Why do n't you just tell her what happened ? It 's not your fault .\n",
      "Chandler Bing : If we keep talking this way , are n't we gon na freak her out soon ?\n",
      "Joey Tribbiani : Oh , uh , soon . I 'm gon na be on soon . There I am !\n",
      "Grandma Tribbiani : No . Sam Waterston ! No . Sam Waterston .\n",
      "Joey Tribbiani : No - no - no , that - that 's me , that 's me .\n",
      "Grandma Tribbiani : Crime Misdemeanor , Capricorn One .\n",
      "Chandler Bing : She does n't know \" hello , \" but she knows Capricorn One .\n",
      "Monica Geller : Phoebe ! I have to have those earrings , we 're going to leave as soon as the show is over\n",
      "Phoebe Buffay : But I already gave them back to you .\n",
      "Monica Geller : No , you did n't .\n",
      "Phoebe Buffay : All right , I already did n't gave them back to you . That 's what I said . Ahem . Where 's that other earring ?\n",
      "Rachel Green : It 's not here , Pheebs . It 's not here . Oh ! I went to Joey and Chandler 's last night !\n",
      "Phoebe Buffay : Make sure you check Chandler 's jewelry box .\n",
      "Rachel Green : Wait a minute , Chandler has a jewelry box ?\n",
      "Phoebe Buffay : Okay , we have like ten minutes . Do you want me to get into that now ? !\n",
      "Ross Geller : Hey Pheebs ! How 's that uh , vegetarian pizza working out for ya ? You and those vegetables have a real thing going on , huh ?\n",
      "Phoebe Buffay : Why are you being weird ?\n",
      "Ross Geller : Do you like it ?\n",
      "Phoebe Buffay : No . That would be , \" Why are you being cute ? \"\n",
      "Ross Geller : Okay . I 'm working on my flirting .\n",
      "Phoebe Buffay : Oh ! I did not get that .\n",
      "Chandler Bing : So , uh , Monica , do you like the Law & Order ?\n",
      "Monica Geller : Yeah , it 's good .\n",
      "Chandler Bing : See , I 'm finding out all this stuff about you today , like you like the Law & Order and that you flirted with every guy in the Tri - State area !\n",
      "Monica Geller : Okay , let me get this straight . It 's okay for you to flirt , but not for me ?\n",
      "Chandler Bing : Oh , I 'm so glad we cleared that up . Look , I 'm sorry , but some things are different for men and women .\n",
      "Monica Geller : Go on , teach me about men and women .\n",
      "Chandler Bing : Okay . I 've already taught you so much already , but whatever . See when you flirt with a guy you think , \" I 'm just flirting , no big deal . \" But the guy thinking , \" Finally ! Somebody who wants to sleep with me . \"\n",
      "Monica Geller : No way !\n",
      "Chandler Bing : It 's true .\n",
      "Monica Geller : Well , that 's pathetic .\n",
      "Chandler Bing : Again , true .\n",
      "Monica Geller : This goes for all guys ?\n",
      "Chandler Bing : All guys that are awake . Then we go to sleep . All guys from the other end of the world wake up and behave the exact same way .\n",
      "Joey Tribbiani : All right . It 's another commercial and I still have n't told her .\n",
      "Ross Geller : Joey , This is like the last commercial . Look , You 've got 10 minutes left .\n",
      "Joey Tribbiani : I know ! What am I gon na do ? Oh !\n",
      "Monica Geller : No ! You are not gon na run out and leave her here .\n",
      "Joey Tribbiani : Yeah , all right . Oh !\n",
      "Grandma Tribbiani : Joey !\n",
      "Chandler Bing : Joey ? Uh , Joey 's gon na be right back . Right back ? Meanwhile , let's - let's - let 's talk about you . So , you 're old and small .\n",
      "Rachel Green : Hey !\n",
      "Phoebe Buffay : Did you find it ?\n",
      "Rachel Green : The earring ? No . But look , I found my sunglasses under the couch ! I 've been looking for these since last summer .\n",
      "Phoebe Buffay : Those are my sunglasses . You borrowed them from me .\n",
      "Rachel Green : Okay . Calm down . Here they are .\n",
      "Monica Geller : Phoebe .\n",
      "Phoebe Buffay : What do we do ?\n",
      "Rachel Green : I do n't know . I do n't know !\n",
      "Phoebe Buffay : We 'll just have to tell Monica , that 's all .\n",
      "Rachel Green : Oh , God ! She 's gon na kill me .\n",
      "Phoebe Buffay : I suppose I could tell her it 's just all my fault .\n",
      "Rachel Green : Oh , that 'd be great .\n",
      "Phoebe Buffay : Mon , could I talk to you ?\n",
      "Monica Geller : Yeah . What is it ?\n",
      "Phoebe Buffay : Um ... I lost one of your earrings . I 'm sorry . I am so , so sorry .\n",
      "Monica Geller : All right , well , I mean , what can you do ? If you lost it , you lost it .\n",
      "Phoebe Buffay : I 'll replace it , I promise . I feel so terrible .\n",
      "Monica Geller : That 's fine . You did n't do it on purpose .\n",
      "Phoebe Buffay : No .\n",
      "Monica Geller : Look at you . Come here .\n",
      "Phoebe Buffay : Yeah . You 're the best .\n",
      "Rachel Green : Okay , wait a minute . Wait a minute , I ca n't do this . Listen , honey , it 's not Phoebe 's fault . She lent me the earrings . I lost it . I 'm so sorry , honey . I feel terrible too .\n",
      "Monica Geller : That is exactly why I do not lend you stuff ! Okay ? ! I mean , first it 's my jewelry ! And if it 's not my jewelry , it's - it 's my blue sweater ! And if it 's not my sweater , it 's my sunglasses . Your sunglasses ? Yes .\n",
      "Rachel Green : Your sunglasses ?\n",
      "Monica Geller : Yes !\n",
      "Phoebe Buffay : Oh , right .\n",
      "Caitlin : Pizza .\n",
      "Ross Geller : Mine , mine , mine ! Okay , here goes . Prepare yourselves for some class - A flirting .\n",
      "Chandler Bing : Okay , hold on . Okay .\n",
      "Rachel Green : Honey , you have nothing to prove . If you really like this girl , I do n't think flirting is the right way\n",
      "Ross Geller : You 'll see . Okay . Oh , what 's her name ?\n",
      "# ALL # : Caitlin ! Caitlin .\n",
      "Grandma Tribbiani : Caitlin !\n",
      "Ross Geller : Hey . Oh , we ca n't keep eating like this . Ha , ha .\n",
      "Caitlin : Heh . It 's , uh , $ 12.50 .\n",
      "Ross Geller : Okay , um ... Do you make the pizzas in one of those , uh , wood - burning ovens ?\n",
      "Caitlin : No , actually , I think they 're gas .\n",
      "Ross Geller : Intense .\n",
      "Chandler Bing : If this is the way all the Gellers flirt , we do n't have a problem .\n",
      "Ross Geller : Hey , uh You know that smell gas has ?\n",
      "Caitlin : Yeah .\n",
      "Ross Geller : They put that in .\n",
      "Caitlin : What ? !\n",
      "Ross Geller : The gas is odorless . But they add the smell so you know when there 's a leak .\n",
      "Caitlin : Well , okay .\n",
      "Ross Geller : A lot of other gas smells .\n",
      "Chandler Bing : Oh , the humanity .\n",
      "Ross Geller : Methane smells\n",
      "Caitlin : You know what ? Um , actually , I really should go .\n",
      "Ross Geller : Oh , but I have n't paid you yet .\n",
      "Caitlin : Y'know what ? That 's okay . You guys have ordered so many that this one 's on me .\n",
      "Ross Geller : Was I talking to her about gas ?\n",
      "Chandler Bing : More so than anything else .\n",
      "Phoebe Buffay : I - I - I found it interesting .\n",
      "Rachel Green : I 'm sorry .\n",
      "Ross Geller : Hey , hey . Do n't worry about it . In nine years , she and I will be right there ! Ha , ha .\n",
      "Rachel Green : Okay . Well , I 'm gon na clear out some of these boxes .\n",
      "Phoebe Buffay : Ross ?\n",
      "Ross Geller : Yeah ?\n",
      "Phoebe Buffay : What else do they add smell to ?\n",
      "====================================================================================================\n"
     ]
    }
   ],
   "source": [
    "for item in train:\n",
    "    length = len(item['querySpans'])\n",
    "    if length > 300:\n",
    "        print(item['scene_id'])\n",
    "        for x in item['sentences']:\n",
    "            print(\" \".join(x))\n",
    "        print(\"==\"*50)"
   ],
   "metadata": {
    "collapsed": false,
    "pycharm": {
     "name": "#%%\n"
    }
   }
  },
  {
   "cell_type": "code",
   "execution_count": null,
   "outputs": [],
   "source": [],
   "metadata": {
    "collapsed": false,
    "pycharm": {
     "name": "#%%\n"
    }
   }
  },
  {
   "cell_type": "code",
   "execution_count": null,
   "outputs": [],
   "source": [],
   "metadata": {
    "collapsed": false,
    "pycharm": {
     "name": "#%%\n"
    }
   }
  },
  {
   "cell_type": "code",
   "execution_count": null,
   "outputs": [],
   "source": [],
   "metadata": {
    "collapsed": false,
    "pycharm": {
     "name": "#%%\n"
    }
   }
  },
  {
   "cell_type": "code",
   "execution_count": null,
   "outputs": [],
   "source": [],
   "metadata": {
    "collapsed": false,
    "pycharm": {
     "name": "#%%\n"
    }
   }
  },
  {
   "cell_type": "code",
   "execution_count": null,
   "outputs": [],
   "source": [],
   "metadata": {
    "collapsed": false,
    "pycharm": {
     "name": "#%%\n"
    }
   }
  },
  {
   "cell_type": "code",
   "execution_count": 3,
   "outputs": [],
   "source": [
    "with open('source_data/dev_test.pkl', 'rb') as f:\n",
    "    dev_test = pkl.load(f)\n",
    "\n",
    "with open('source_data/train.pkl', 'rb') as f:\n",
    "    train = pkl.load(f)\n",
    "\n",
    "with open('source_data/extended_train.pkl', 'rb') as f:\n",
    "    extended_train = pkl.load(f)"
   ],
   "metadata": {
    "collapsed": false,
    "pycharm": {
     "name": "#%%\n"
    }
   }
  },
  {
   "cell_type": "code",
   "execution_count": 6,
   "outputs": [
    {
     "name": "stdout",
     "output_type": "stream",
     "text": [
      "s01e01c00f\n",
      "s01e01c01f\n",
      "s01e01c02f\n",
      "s01e01c03f\n",
      "s01e01c04f\n",
      "s01e01c05f\n",
      "s01e01c06f\n",
      "s01e01c07f\n",
      "s01e01c08f\n",
      "s01e01c09f\n",
      "s01e01c10f\n",
      "s01e01c11f\n",
      "s01e01c12f\n",
      "s01e01c13f\n",
      "s01e04c00f\n",
      "s01e04c01f\n",
      "s01e04c02f\n",
      "s01e04c03f\n",
      "s01e04c04f\n",
      "s01e04c05f\n",
      "s01e04c06f\n",
      "s01e04c07f\n",
      "s01e04c08f\n",
      "s01e04c09f\n",
      "s01e04c10f\n",
      "s01e04c11f\n",
      "s01e04c12f\n",
      "s01e04c13f\n",
      "s01e04c14f\n",
      "s09e01c00t\n",
      "s09e01c01t\n",
      "s09e01c02t\n",
      "s09e01c03t\n",
      "s09e01c04t\n",
      "s09e01c05t\n",
      "s09e01c06t\n",
      "s09e01c07t\n",
      "s09e01c08t\n",
      "s09e01c09t\n",
      "s09e01c10t\n",
      "s09e01c11t\n",
      "s09e01c12t\n",
      "s09e01c13t\n",
      "s09e03c00t\n",
      "s09e03c01t\n",
      "s09e03c02t\n",
      "s09e03c03t\n",
      "s09e03c04t\n",
      "s09e03c05t\n",
      "s09e03c06t\n",
      "s09e03c07t\n",
      "s09e03c08t\n",
      "s09e03c09t\n",
      "s09e03c10t\n",
      "s09e03c11t\n",
      "s09e03c12t\n",
      "s09e03c13t\n",
      "s09e04c00t\n",
      "s09e04c01t\n",
      "s09e04c02t\n",
      "s09e04c03t\n",
      "s09e04c04t\n",
      "s09e04c05t\n",
      "s09e04c06t\n",
      "s09e04c07t\n",
      "s09e04c08t\n",
      "s09e04c09t\n",
      "s09e04c10t\n",
      "s09e04c11t\n",
      "s09e04c12t\n",
      "s09e07c00t\n",
      "s09e07c01t\n",
      "s09e07c02t\n",
      "s09e07c03t\n",
      "s09e07c04t\n",
      "s09e07c05t\n",
      "s09e07c06t\n",
      "s09e07c07t\n",
      "s09e07c08t\n",
      "s09e07c09t\n",
      "s09e07c10t\n",
      "s09e09c00t\n",
      "s09e09c01t\n",
      "s09e09c02t\n",
      "s09e09c03t\n",
      "s09e09c04t\n",
      "s09e09c05t\n",
      "s09e09c06t\n",
      "s09e09c07t\n",
      "s09e09c08t\n",
      "s09e09c09t\n",
      "s09e09c10t\n",
      "s09e09c11t\n",
      "s09e09c12t\n",
      "s09e09c13t\n",
      "s09e10c00t\n",
      "s09e10c01t\n",
      "s09e10c02t\n",
      "s09e10c03t\n",
      "s09e10c04t\n",
      "s09e10c05t\n",
      "s09e10c06t\n",
      "s09e10c07t\n",
      "s09e10c08t\n",
      "s09e10c09t\n",
      "s09e10c10t\n",
      "s09e10c11t\n",
      "s09e10c12t\n",
      "s09e10c13t\n",
      "s09e10c14t\n",
      "s09e11c00t\n",
      "s09e11c01t\n",
      "s09e11c02t\n",
      "s09e11c03t\n",
      "s09e11c04t\n",
      "s09e11c05t\n",
      "s09e11c06t\n",
      "s09e11c07t\n",
      "s09e11c08t\n",
      "s09e11c09t\n",
      "s09e11c10t\n",
      "s09e11c11t\n",
      "s09e11c12t\n",
      "s09e11c13t\n",
      "s09e11c14t\n",
      "s09e11c15t\n",
      "s09e11c16t\n",
      "s09e11c17t\n",
      "s09e12c00t\n",
      "s09e12c01t\n",
      "s09e12c02t\n",
      "s09e12c03t\n",
      "s09e12c04t\n",
      "s09e12c05t\n",
      "s09e12c06t\n",
      "s09e12c07t\n",
      "s09e12c08t\n",
      "s09e12c09t\n",
      "s09e12c10t\n",
      "s09e12c11t\n",
      "s09e12c12t\n",
      "s09e12c13t\n",
      "s09e12c14t\n",
      "s09e12c15t\n",
      "s09e16c00t\n",
      "s09e16c01t\n",
      "s09e16c02t\n",
      "s09e16c03t\n",
      "s09e16c04t\n",
      "s09e16c05t\n",
      "s09e16c06t\n",
      "s09e16c07t\n",
      "s09e16c08t\n",
      "s09e16c09t\n",
      "s09e16c10t\n",
      "s09e16c11t\n",
      "s09e16c12t\n",
      "s09e16c13t\n",
      "s09e16c14t\n",
      "s09e16c15t\n",
      "s07e01c00t\n",
      "s07e01c01t\n",
      "s07e01c02t\n",
      "s07e01c03t\n",
      "s07e01c04t\n",
      "s07e01c05t\n",
      "s07e01c06t\n",
      "s07e01c07t\n",
      "s07e01c08t\n",
      "s07e01c09t\n",
      "s07e01c10t\n",
      "s07e01c11t\n",
      "s07e01c12t\n",
      "s07e01c13t\n",
      "s07e02c00t\n",
      "s07e02c01t\n",
      "s07e02c02t\n",
      "s07e02c03t\n",
      "s07e02c04t\n",
      "s07e02c05t\n",
      "s07e02c06t\n",
      "s07e02c07t\n",
      "s07e02c08t\n",
      "s07e02c09t\n",
      "s07e02c10t\n",
      "s07e06c00t\n",
      "s07e06c01t\n",
      "s07e06c02t\n",
      "s07e06c03t\n",
      "s07e06c04t\n",
      "s07e06c05t\n",
      "s07e06c06t\n",
      "s07e06c07t\n",
      "s07e06c08t\n",
      "s07e06c09t\n",
      "s07e06c10t\n",
      "s07e10c00t\n",
      "s07e10c01t\n",
      "s07e10c02t\n",
      "s07e10c03t\n",
      "s07e10c04t\n",
      "s07e10c05t\n",
      "s07e10c06t\n",
      "s07e10c07t\n",
      "s07e10c08t\n",
      "s07e10c09t\n",
      "s07e11c00t\n",
      "s07e11c01t\n",
      "s07e15c00t\n",
      "s07e15c01t\n",
      "s07e15c02t\n",
      "s07e15c03t\n",
      "s07e15c04t\n",
      "s07e15c05t\n",
      "s07e15c06t\n",
      "s07e15c07t\n",
      "s07e15c08t\n",
      "s07e15c09t\n",
      "s07e15c10t\n",
      "s07e15c11t\n",
      "s07e15c12t\n",
      "s07e15c13t\n",
      "s07e16c00t\n",
      "s07e16c01t\n",
      "s07e16c02t\n",
      "s07e16c03t\n",
      "s07e16c04t\n",
      "s07e16c05t\n",
      "s07e16c06t\n",
      "s07e16c07t\n",
      "s07e16c08t\n",
      "s07e16c09t\n",
      "s07e16c10t\n",
      "s07e17c00t\n",
      "s07e17c01t\n",
      "s07e17c02t\n",
      "s07e17c03t\n",
      "s07e17c04t\n",
      "s07e17c05t\n",
      "s07e17c06t\n",
      "s07e17c07t\n",
      "s07e17c08t\n",
      "s07e17c09t\n",
      "s07e17c10t\n",
      "s07e17c11t\n",
      "s07e17c12t\n",
      "s07e18c00t\n",
      "s07e18c01t\n",
      "s07e18c02t\n",
      "s07e18c03t\n",
      "s07e18c04t\n",
      "s07e18c05t\n",
      "s07e18c06t\n",
      "s07e18c07t\n",
      "s07e18c08t\n",
      "s07e18c09t\n",
      "s07e18c10t\n",
      "s07e18c11t\n",
      "s07e19c00t\n",
      "s07e19c01t\n",
      "s07e19c02t\n",
      "s07e19c03t\n",
      "s07e19c04t\n",
      "s07e19c05t\n",
      "s07e19c06t\n",
      "s07e19c07t\n",
      "s07e19c08t\n",
      "s07e19c09t\n",
      "s07e19c10t\n",
      "s07e19c11t\n",
      "s07e19c12t\n",
      "s07e19c13t\n"
     ]
    }
   ],
   "source": [
    "for item in dev_test:\n",
    "    print(item['scene_id'])"
   ],
   "metadata": {
    "collapsed": false,
    "pycharm": {
     "name": "#%%\n"
    }
   }
  },
  {
   "cell_type": "code",
   "execution_count": 21,
   "outputs": [],
   "source": [
    "def count_scene_mentions(data):\n",
    "    temp = []\n",
    "    for scene in data:\n",
    "        temp.append(len(scene['querySpans']))\n",
    "    return temp"
   ],
   "metadata": {
    "collapsed": false,
    "pycharm": {
     "name": "#%%\n"
    }
   }
  },
  {
   "cell_type": "code",
   "execution_count": 8,
   "outputs": [
    {
     "name": "stdout",
     "output_type": "stream",
     "text": [
      "[35, 39, 96, 30, 58, 55, 42, 95, 68, 80, 23, 130, 53, 68, 80, 95, 130, 97, 57, 48, 78, 76, 90, 71, 62, 86, 57, 53, 84, 91, 108, 54, 77, 72, 166, 109, 64, 53, 51, 122, 87, 184, 71, 79, 104, 63, 69, 680, 99, 89, 14, 58, 37, 34, 60, 78, 51, 60, 49, 43, 96, 32, 99, 75, 64, 64, 45, 167, 93, 46, 58, 101, 29, 130, 50, 67, 93, 34, 33, 65, 77, 43, 76, 37, 38, 43, 82, 75, 37, 116, 36, 67, 121, 95, 85, 79, 76, 57]\n"
     ]
    },
    {
     "data": {
      "text/plain": "<Figure size 432x288 with 1 Axes>",
      "image/png": "[encoded data removed]"
     },
     "metadata": {
      "needs_background": "light"
     },
     "output_type": "display_data"
    }
   ],
   "source": [
    "def analyze_scenes(data):\n",
    "    temp = []\n",
    "    for scene in data:\n",
    "        temp.append(len(scene['querySpans']))\n",
    "    print(temp)\n",
    "\n",
    "    plt.hist(temp)\n",
    "    plt.show()\n",
    "\n",
    "with open('scenes/dev_tbbt.pkl', 'rb') as f:\n",
    "    input = pkl.load(f)\n",
    "    analyze_scenes(input)"
   ],
   "metadata": {
    "collapsed": false,
    "pycharm": {
     "name": "#%%\n"
    }
   }
  },
  {
   "cell_type": "code",
   "execution_count": 33,
   "outputs": [
    {
     "name": "stdout",
     "output_type": "stream",
     "text": [
      "train_tbbt.pkl\n",
      "train_friends.pkl\n",
      "train_extended_friends.pkl\n",
      "test_tbbt.pkl\n",
      "test_friends.pkl\n",
      "test_extended_friends.pkl\n",
      "dev_tbbt.pkl\n",
      "dev_friends.pkl\n",
      "dev_extended_friends.pkl\n"
     ]
    }
   ],
   "source": [
    "for i, file_name in enumerate(sorted(os.listdir(\"scenes/\"), reverse=True)):\n",
    "    print(file_name)"
   ],
   "metadata": {
    "collapsed": false,
    "pycharm": {
     "name": "#%%\n"
    }
   }
  },
  {
   "cell_type": "code",
   "execution_count": null,
   "outputs": [],
   "source": [],
   "metadata": {
    "collapsed": false,
    "pycharm": {
     "name": "#%%\n"
    }
   }
  },
  {
   "cell_type": "code",
   "execution_count": null,
   "outputs": [],
   "source": [],
   "metadata": {
    "collapsed": false,
    "pycharm": {
     "name": "#%%\n"
    }
   }
  }
 ],
 "metadata": {
  "kernelspec": {
   "display_name": "Python 3",
   "language": "python",
   "name": "python3"
  },
  "language_info": {
   "codemirror_mode": {
    "name": "ipython",
    "version": 2
   },
   "file_extension": ".py",
   "mimetype": "text/x-python",
   "name": "python",
   "nbconvert_exporter": "python",
   "pygments_lexer": "ipython2",
   "version": "2.7.6"
  }
 },
 "nbformat": 4,
 "nbformat_minor": 0
}
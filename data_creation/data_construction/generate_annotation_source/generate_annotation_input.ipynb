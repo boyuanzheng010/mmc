{
 "cells": [
  {
   "cell_type": "code",
   "execution_count": 2,
   "metadata": {
    "collapsed": true,
    "pycharm": {
     "name": "#%%\n"
    }
   },
   "outputs": [],
   "source": [
    "import os\n",
    "import pickle as pkl\n",
    "import spacy\n",
    "import csv\n",
    "import json\n",
    "from copy import deepcopy\n",
    "from tqdm import tqdm\n",
    "# import benepar\n",
    "# import re\n",
    "from string import punctuation\n",
    "\n",
    "from utils import merge_maximum_span\n",
    "from utils import clean_sentence_brackets\n",
    "from utils import process_nps_punctuation\n",
    "from utils import extract_scenes"
   ]
  },
  {
   "cell_type": "code",
   "execution_count": 3,
   "outputs": [
    {
     "name": "stdout",
     "output_type": "stream",
     "text": [
      "['test_all_large.pkl', 'train_extension_large.pkl', 'test_all_medium.pkl', 'train_all_no_extend_medium.pkl', 'dev_all_medium.pkl', 'train_all_no_extend_large.pkl', 'train_extension_medium.pkl', 'dev_all_large.pkl']\n"
     ]
    }
   ],
   "source": [
    "print(os.listdir('batched_data/'))"
   ],
   "metadata": {
    "collapsed": false,
    "pycharm": {
     "name": "#%%\n"
    }
   }
  },
  {
   "cell_type": "code",
   "execution_count": 30,
   "outputs": [],
   "source": [
    "def combine_multiple_scenes(scenes):\n",
    "    # Store Data\n",
    "    sentences = []\n",
    "    querySpans = []\n",
    "    candidateSpans = []\n",
    "    clickSpans = []\n",
    "    sentence_offsets = [0]\n",
    "    querySpans_offsets = [0]\n",
    "    scene_ids = []\n",
    "\n",
    "    for instance in scenes:\n",
    "        offset = len(sentences)\n",
    "        sentences.extend(instance['sentences'])\n",
    "        for item in instance['querySpans']:\n",
    "            token = deepcopy(item)\n",
    "            token['sentenceIndex'] = item['sentenceIndex'] + offset\n",
    "            querySpans.append(token)\n",
    "        for item in instance['candidateSpans']:\n",
    "            token = deepcopy(item)\n",
    "            token['sentenceIndex'] = item['sentenceIndex'] + offset\n",
    "            candidateSpans.append(token)\n",
    "        for item in instance['clickSpans']:\n",
    "            token = deepcopy(item)\n",
    "            token['sentenceIndex'] = item['sentenceIndex'] + offset\n",
    "            clickSpans.append(token)\n",
    "        sentence_offsets.append(len(sentences))\n",
    "        querySpans_offsets.append(len(querySpans))\n",
    "        scene_ids.extend(instance['scene_ids'])\n",
    "    return {\n",
    "    \"sentences\": sentences,\n",
    "    \"querySpans\": querySpans,\n",
    "    \"candidateSpans\": candidateSpans,\n",
    "    \"clickSpans\": clickSpans,\n",
    "    \"sentence_offsets\": sentence_offsets,\n",
    "    \"querySpans_offsets\": querySpans_offsets,\n",
    "    \"scene_ids\": scene_ids,\n",
    "    }"
   ],
   "metadata": {
    "collapsed": false,
    "pycharm": {
     "name": "#%%\n"
    }
   }
  },
  {
   "cell_type": "code",
   "execution_count": 36,
   "outputs": [],
   "source": [
    "def extract_annotation_fields(scene):\n",
    "    temp = {}\n",
    "    temp['sentences'] = scene['sentences']\n",
    "    temp['querySpans'] = scene['querySpans']\n",
    "    temp['candidateSpans'] = scene['candidateSpans']\n",
    "    temp['clickSpans'] = scene['clickSpans']\n",
    "    temp['scene_ids'] = [scene['scene_id']]\n",
    "    return temp"
   ],
   "metadata": {
    "collapsed": false,
    "pycharm": {
     "name": "#%%\n"
    }
   }
  },
  {
   "cell_type": "code",
   "execution_count": 41,
   "outputs": [],
   "source": [
    "# Generate Single Scene\n",
    "input_root = \"batched_data/\"\n",
    "output_root = \"annotation_input/single_scene/\"\n",
    "for file_name in os.listdir(input_root):\n",
    "    field = file_name.strip().split(\".\")[0]\n",
    "    with open(input_root+field+\".pkl\", 'rb') as f:\n",
    "        data = pkl.load(f)\n",
    "        output = []\n",
    "        for batch in data:\n",
    "            for scene in batch:\n",
    "                output.append(extract_annotation_fields(scene))\n",
    "        with open(output_root+field+\".csv\", \"w\", encoding=\"utf-8\") as csv_fh:\n",
    "            fieldnames = ['json_data']\n",
    "            writer = csv.DictWriter(csv_fh, fieldnames, lineterminator='\\n')\n",
    "            writer.writeheader()\n",
    "            for line in output:\n",
    "                writer.writerow({'json_data': json.dumps(line)})"
   ],
   "metadata": {
    "collapsed": false,
    "pycharm": {
     "name": "#%%\n"
    }
   }
  },
  {
   "cell_type": "code",
   "execution_count": null,
   "outputs": [],
   "source": [],
   "metadata": {
    "collapsed": false,
    "pycharm": {
     "name": "#%%\n"
    }
   }
  },
  {
   "cell_type": "code",
   "execution_count": 42,
   "outputs": [],
   "source": [
    "# Generate Multiple Scene\n",
    "input_root = \"batched_data/\"\n",
    "output_root = \"annotation_input/multiple_scene/\"\n",
    "for file_name in os.listdir(input_root):\n",
    "    field = file_name.strip().split(\".\")[0]\n",
    "    with open(input_root+field+\".pkl\", 'rb') as f:\n",
    "        data = pkl.load(f)\n",
    "        output = []\n",
    "        for batch in data:\n",
    "            temp_batch = []\n",
    "            for scene in batch:\n",
    "                temp_batch.append(extract_annotation_fields(scene))\n",
    "            output.append(combine_multiple_scenes(temp_batch))\n",
    "        with open(output_root+field+\".csv\", \"w\", encoding=\"utf-8\") as csv_fh:\n",
    "            fieldnames = ['json_data']\n",
    "            writer = csv.DictWriter(csv_fh, fieldnames, lineterminator='\\n')\n",
    "            writer.writeheader()\n",
    "            for line in output:\n",
    "                writer.writerow({'json_data': json.dumps(line)})"
   ],
   "metadata": {
    "collapsed": false,
    "pycharm": {
     "name": "#%%\n"
    }
   }
  },
  {
   "cell_type": "code",
   "execution_count": null,
   "outputs": [],
   "source": [],
   "metadata": {
    "collapsed": false,
    "pycharm": {
     "name": "#%%\n"
    }
   }
  },
  {
   "cell_type": "code",
   "execution_count": null,
   "outputs": [],
   "source": [],
   "metadata": {
    "collapsed": false,
    "pycharm": {
     "name": "#%%\n"
    }
   }
  },
  {
   "cell_type": "code",
   "execution_count": 49,
   "outputs": [
    {
     "name": "stdout",
     "output_type": "stream",
     "text": [
      "1 3\n"
     ]
    }
   ],
   "source": [
    "# Generate Single Scene Demo\n",
    "input_root = \"batched_data/\"\n",
    "output_root = \"annotation_input/single_scene/\"\n",
    "for file_name in os.listdir(input_root):\n",
    "    if file_name!=\"dev_all_medium.pkl\":\n",
    "        continue\n",
    "    field = file_name.strip().split(\".\")[0]\n",
    "    with open(input_root+field+\".pkl\", 'rb') as f:\n",
    "        data = [pkl.load(f)[0][:3]]\n",
    "        print(len(data), len(data[0]))\n",
    "        output = []\n",
    "        for batch in data:\n",
    "            for scene in batch:\n",
    "                output.append(extract_annotation_fields(scene))\n",
    "        with open(output_root+\"demo\"+\".csv\", \"w\", encoding=\"utf-8\") as csv_fh:\n",
    "            fieldnames = ['json_data']\n",
    "            writer = csv.DictWriter(csv_fh, fieldnames, lineterminator='\\n')\n",
    "            writer.writeheader()\n",
    "            for line in output:\n",
    "                writer.writerow({'json_data': json.dumps(line)})\n",
    "\n",
    "# Generate Multiple Scene\n",
    "input_root = \"batched_data/\"\n",
    "output_root = \"annotation_input/multiple_scene/\"\n",
    "for file_name in os.listdir(input_root):\n",
    "    if file_name!=\"dev_all_medium.pkl\":\n",
    "        continue\n",
    "    field = file_name.strip().split(\".\")[0]\n",
    "    with open(input_root+field+\".pkl\", 'rb') as f:\n",
    "        data = [pkl.load(f)[0][:3]]\n",
    "        output = []\n",
    "        for batch in data:\n",
    "            temp_batch = []\n",
    "            for scene in batch:\n",
    "                temp_batch.append(extract_annotation_fields(scene))\n",
    "            output.append(combine_multiple_scenes(temp_batch))\n",
    "        with open(output_root+\"demo\"+\".csv\", \"w\", encoding=\"utf-8\") as csv_fh:\n",
    "            fieldnames = ['json_data']\n",
    "            writer = csv.DictWriter(csv_fh, fieldnames, lineterminator='\\n')\n",
    "            writer.writeheader()\n",
    "            for line in output:\n",
    "                writer.writerow({'json_data': json.dumps(line)})"
   ],
   "metadata": {
    "collapsed": false,
    "pycharm": {
     "name": "#%%\n"
    }
   }
  },
  {
   "cell_type": "code",
   "execution_count": null,
   "outputs": [],
   "source": [],
   "metadata": {
    "collapsed": false,
    "pycharm": {
     "name": "#%%\n"
    }
   }
  },
  {
   "cell_type": "code",
   "execution_count": null,
   "outputs": [],
   "source": [],
   "metadata": {
    "collapsed": false,
    "pycharm": {
     "name": "#%%\n"
    }
   }
  },
  {
   "cell_type": "code",
   "execution_count": null,
   "outputs": [],
   "source": [],
   "metadata": {
    "collapsed": false,
    "pycharm": {
     "name": "#%%\n"
    }
   }
  },
  {
   "cell_type": "code",
   "execution_count": null,
   "outputs": [],
   "source": [],
   "metadata": {
    "collapsed": false,
    "pycharm": {
     "name": "#%%\n"
    }
   }
  },
  {
   "cell_type": "code",
   "execution_count": null,
   "outputs": [],
   "source": [],
   "metadata": {
    "collapsed": false,
    "pycharm": {
     "name": "#%%\n"
    }
   }
  },
  {
   "cell_type": "code",
   "execution_count": null,
   "outputs": [],
   "source": [],
   "metadata": {
    "collapsed": false,
    "pycharm": {
     "name": "#%%\n"
    }
   }
  },
  {
   "cell_type": "code",
   "execution_count": null,
   "outputs": [],
   "source": [],
   "metadata": {
    "collapsed": false,
    "pycharm": {
     "name": "#%%\n"
    }
   }
  },
  {
   "cell_type": "code",
   "execution_count": null,
   "outputs": [],
   "source": [],
   "metadata": {
    "collapsed": false,
    "pycharm": {
     "name": "#%%\n"
    }
   }
  }
 ],
 "metadata": {
  "kernelspec": {
   "display_name": "Python 3",
   "language": "python",
   "name": "python3"
  },
  "language_info": {
   "codemirror_mode": {
    "name": "ipython",
    "version": 2
   },
   "file_extension": ".py",
   "mimetype": "text/x-python",
   "name": "python",
   "nbconvert_exporter": "python",
   "pygments_lexer": "ipython2",
   "version": "2.7.6"
  }
 },
 "nbformat": 4,
 "nbformat_minor": 0
}